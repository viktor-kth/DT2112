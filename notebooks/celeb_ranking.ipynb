{
 "cells": [
  {
   "cell_type": "markdown",
   "metadata": {},
   "source": [
    "# Ranking of celebrities\n",
    "\n",
    "We will use wikipedia page view count as estimate of celebrity fame."
   ]
  },
  {
   "cell_type": "code",
   "execution_count": null,
   "metadata": {},
   "outputs": [],
   "source": [
    "import pandas as pd\n",
    "\n",
    "df = pd.read_csv(\"../data/vox2_meta.csv\")\n",
    "df"
   ]
  },
  {
   "cell_type": "code",
   "execution_count": null,
   "metadata": {},
   "outputs": [],
   "source": [
    "wiki_views = {}"
   ]
  },
  {
   "cell_type": "code",
   "execution_count": null,
   "metadata": {},
   "outputs": [],
   "source": [
    "import requests\n",
    "\n",
    "headers = {\"User-Agent\": \"VoxCelebRanking (jcap@kth.se)\"}\n",
    "\n",
    "\n",
    "def get_wikipedia_pageviews(celeb_name):\n",
    "    url = f\"https://wikimedia.org/api/rest_v1/metrics/pageviews/per-article/en.wikipedia/all-access/all-agents/{celeb_name}/monthly/20240101/20241231\"\n",
    "    response = requests.get(url, headers=headers)\n",
    "    data = response.json()\n",
    "\n",
    "    if \"items\" in data:\n",
    "        total_views = sum(item[\"views\"] for item in data[\"items\"])\n",
    "        return total_views\n",
    "    else:\n",
    "        print(\"Error fetching data:\", data)\n",
    "        return None\n",
    "\n",
    "\n",
    "# iterate all celebs and add their wikipedia pageviews to the list\n",
    "# there is possibility that some celebs hav been fetched before\n",
    "# so we can skip them\n",
    "for celeb_name in df[\"Name\"]:\n",
    "    if celeb_name in wiki_views:\n",
    "        print(f\"Skipping {celeb_name}\", end=\"\\r\")\n",
    "        continue\n",
    "\n",
    "    views = get_wikipedia_pageviews(celeb_name)\n",
    "    wiki_views[celeb_name] = views"
   ]
  },
  {
   "cell_type": "code",
   "execution_count": null,
   "metadata": {},
   "outputs": [],
   "source": [
    "df"
   ]
  },
  {
   "cell_type": "code",
   "execution_count": null,
   "metadata": {},
   "outputs": [],
   "source": [
    "df[\"wiki_views_2024\"] = df[\"Name\"].map(wiki_views)\n",
    "df"
   ]
  },
  {
   "cell_type": "code",
   "execution_count": null,
   "metadata": {},
   "outputs": [],
   "source": [
    "df.sort_values(\"wiki_views_2024\", ascending=False)"
   ]
  },
  {
   "cell_type": "code",
   "execution_count": null,
   "metadata": {},
   "outputs": [],
   "source": [
    "df.to_csv(\"../data/vox2_meta.csv\", index=False)"
   ]
  }
 ],
 "metadata": {
  "kernelspec": {
   "display_name": "venv",
   "language": "python",
   "name": "python3"
  },
  "language_info": {
   "codemirror_mode": {
    "name": "ipython",
    "version": 3
   },
   "file_extension": ".py",
   "mimetype": "text/x-python",
   "name": "python",
   "nbconvert_exporter": "python",
   "pygments_lexer": "ipython3",
   "version": "3.11.11"
  }
 },
 "nbformat": 4,
 "nbformat_minor": 2
}
