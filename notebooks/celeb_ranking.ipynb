{
 "cells": [
  {
   "cell_type": "markdown",
   "metadata": {},
   "source": [
    "# Ranking of celebrities\n",
    "\n",
    "We will use wikipedia page view count as estimate of celebrity fame."
   ]
  },
  {
   "cell_type": "code",
   "execution_count": null,
   "metadata": {},
   "outputs": [],
   "source": [
    "import pandas as pd\n",
    "\n",
    "df = pd.read_csv(\"../data/vox2_meta.csv\")\n",
    "df"
   ]
  },
  {
   "cell_type": "code",
   "execution_count": null,
   "metadata": {},
   "outputs": [],
   "source": [
    "import requests\n",
    "\n",
    "headers = {\n",
    "    # 'Authorization': 'Bearer YOUR_ACCESS_TOKEN',\n",
    "    \"User-Agent\": \"VoxCelebRanking (jcap@kth.se)\"\n",
    "}\n",
    "\n",
    "\n",
    "def get_wikipedia_pageviews(celeb_name):\n",
    "    url = f\"https://wikimedia.org/api/rest_v1/metrics/pageviews/per-article/en.wikipedia/all-access/all-agents/{celeb_name}/monthly/20230101/20231231\"\n",
    "    response = requests.get(url, headers=headers)\n",
    "    data = response.json()\n",
    "\n",
    "    if \"items\" in data:\n",
    "        total_views = sum(item[\"views\"] for item in data[\"items\"])\n",
    "        return total_views\n",
    "    else:\n",
    "        print(\"Error fetching data:\", data)\n",
    "        return None\n",
    "\n",
    "\n",
    "# add column with wikipedia pageviews in 2023\n",
    "df[\"wikipedia_pageviews\"] = df[\"Name\"].apply(get_wikipedia_pageviews)\n",
    "df"
   ]
  },
  {
   "cell_type": "code",
   "execution_count": null,
   "metadata": {},
   "outputs": [],
   "source": [
    "df.to_csv(\"../data/vox2_meta.csv\", index=False)"
   ]
  }
 ],
 "metadata": {
  "kernelspec": {
   "display_name": "venv",
   "language": "python",
   "name": "python3"
  },
  "language_info": {
   "codemirror_mode": {
    "name": "ipython",
    "version": 3
   },
   "file_extension": ".py",
   "mimetype": "text/x-python",
   "name": "python",
   "nbconvert_exporter": "python",
   "pygments_lexer": "ipython3",
   "version": "3.11.11"
  }
 },
 "nbformat": 4,
 "nbformat_minor": 2
}
