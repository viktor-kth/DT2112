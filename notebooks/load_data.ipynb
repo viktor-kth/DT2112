{
 "cells": [
  {
   "cell_type": "markdown",
   "metadata": {},
   "source": [
    "## Functions and imports"
   ]
  },
  {
   "cell_type": "code",
   "execution_count": 13,
   "metadata": {},
   "outputs": [],
   "source": [
    "from pathlib import Path\n",
    "import pandas as pd\n",
    "import time\n",
    "\n",
    "\n",
    "def get_df(dir: str) -> pd.DataFrame:\n",
    "    \"\"\"Create a DataFrame from downloaded vox celeb txt files.\n",
    "    Dataframe contains following columns:\n",
    "    speaker: speaker id,\n",
    "    video: video id,\n",
    "    txt_file: txt file name,\n",
    "    start_time: start frame of the video,\n",
    "    end_time: end frame of the video,\n",
    "    length: length of the video in seconds.\n",
    "\n",
    "    Args:\n",
    "        dir (str): path to txt folder\n",
    "    \"\"\"\n",
    "    data = []\n",
    "    for speaker_dir in Path(dir).iterdir():\n",
    "        if not speaker_dir.is_dir():\n",
    "            continue\n",
    "        for video_dir in speaker_dir.iterdir():\n",
    "            if not video_dir.is_dir():\n",
    "                continue\n",
    "            for txt_file in video_dir.iterdir():\n",
    "\n",
    "                with open(txt_file, \"r\") as f:\n",
    "                    text = f.read()\n",
    "                # read 8. line\n",
    "                start_text = text.split(\"\\n\")[7]\n",
    "                # get start time\n",
    "                start_time = start_text.split(\" \")[0]\n",
    "                start_time = int(start_time)\n",
    "                # get end time from last line\n",
    "                end_time = text.split(\"\\n\")[-2].split(\" \")[0]\n",
    "                end_time = int(end_time)\n",
    "                data.append(\n",
    "                    (\n",
    "                        speaker_dir.name,\n",
    "                        video_dir.name,\n",
    "                        txt_file.name,\n",
    "                        start_time,\n",
    "                        end_time,\n",
    "                    )\n",
    "                )\n",
    "\n",
    "    df = pd.DataFrame(\n",
    "        data, columns=[\"speaker\", \"video\", \"txt_file\", \"start_time\", \"end_time\"]\n",
    "    )\n",
    "    df[\"length\"] = (df[\"end_time\"] - df[\"start_time\"]) / 25\n",
    "\n",
    "    # sort by speaker and length\n",
    "    return df.sort_values(by=[\"speaker\", \"length\"], ascending=[True, False])\n",
    "\n",
    "\n",
    "def get_df_by_downloaded_folder(folder: str) -> pd.DataFrame:\n",
    "    \"\"\"Create a DataFrame from folder with downloaded mp3 files.\n",
    "\n",
    "    Args:\n",
    "        folder (str): path to folder with downloaded mp3 files.\n",
    "    \"\"\"\n",
    "    # iterate all files in the folder and get their length\n",
    "    data = []\n",
    "\n",
    "    for file in Path(folder).rglob(\"*.mp3\"):\n",
    "        try:\n",
    "            user_id = file.stem.split(\"_\")[0]  # user_id in voxceleb2\n",
    "            duration_ms = int(file.stem.split(\"_\")[2])  # duration in ms\n",
    "            # Convert to seconds\n",
    "            duration_s = duration_ms / 1000.0\n",
    "            data.append({\"speaker\": user_id, \"duration_s\": duration_s})\n",
    "        except Exception as e:\n",
    "            #print(f\"Error processing file {file}: {e}\")\n",
    "            continue\n",
    "    return pd.DataFrame(data)"
   ]
  },
  {
   "cell_type": "code",
   "execution_count": 2,
   "metadata": {},
   "outputs": [],
   "source": [
    "import yt_dlp\n",
    "from pydub import AudioSegment\n",
    "\n",
    "\n",
    "def download_audio(youtube_url, output_path=\"audio.mp3\"):\n",
    "    \"\"\"Download audio from a YouTube video and save it to a file.\"\"\"\n",
    "    ydl_opts = {\n",
    "        \"format\": \"bestaudio/best\",\n",
    "        \"outtmpl\": output_path,\n",
    "        \"postprocessors\": [\n",
    "            {\n",
    "                \"key\": \"FFmpegExtractAudio\",\n",
    "                \"preferredcodec\": \"mp3\",\n",
    "                \"preferredquality\": \"192\",\n",
    "            }\n",
    "        ],\n",
    "    }\n",
    "\n",
    "    with yt_dlp.YoutubeDL(ydl_opts) as ydl:\n",
    "        ydl.download([youtube_url])\n",
    "\n",
    "    print(f\"Audio downloaded as {output_path}\")\n",
    "\n",
    "\n",
    "def check_video_available(youtube_url):\n",
    "    \"\"\"Check if a YouTube video is available.\"\"\"\n",
    "    ydl_opts = {\n",
    "        \"quiet\": True,\n",
    "        \"no_warnings\": True,\n",
    "        \"format\": \"bestaudio/best\",\n",
    "    }\n",
    "\n",
    "    try:\n",
    "        with yt_dlp.YoutubeDL(ydl_opts) as ydl:\n",
    "            info = ydl.extract_info(youtube_url, download=False)\n",
    "            return True\n",
    "    except yt_dlp.utils.DownloadError as e:\n",
    "        return\n",
    "    return info is not None\n",
    "\n",
    "\n",
    "def trim_audio(input_path, output_path, start_time, end_time):\n",
    "    \"\"\"Trim an audio file between start_time and end_time (in seconds).\"\"\"\n",
    "\n",
    "    # Load the audio file\n",
    "    audio = AudioSegment.from_file(input_path)\n",
    "\n",
    "    # Convert times to milliseconds\n",
    "    trimmed_audio = audio[start_time * 1000 : end_time * 1000]\n",
    "\n",
    "    # Export the trimmed audio\n",
    "    trimmed_audio.export(output_path, format=\"mp3\")\n",
    "    print(f\"Trimmed audio saved as {output_path}\")"
   ]
  },
  {
   "cell_type": "code",
   "execution_count": 3,
   "metadata": {},
   "outputs": [],
   "source": [
    "def download_df_audio(\n",
    "    df: pd.DataFrame, out_dir: str, n_samples: int = 2, start_index: int = 0\n",
    "):\n",
    "    \"\"\"Download audio files from youtube urls in the DataFrame.\n",
    "    Naming convention for the output files: {speaker}_{sample_number}_{duration}_{video}_{txt_file}_cut.mp3\n",
    "    DataFrame should contain columns: speaker, video, txt_file, start_time, end_time.\n",
    "\n",
    "    Args:\n",
    "        df (pd.DataFrame): DataFrame containing the data.\n",
    "        out_dir (str): Output directory for\n",
    "        n_samples (int): Number of samples to download for each speaker.\n",
    "        start_index (int): Start naming index for the output files.\n",
    "    \"\"\"\n",
    "\n",
    "    active_speaker = None\n",
    "    \"\"\"Variable to keep track of the current speaker.\"\"\"\n",
    "    downloaded_samples = 0\n",
    "    \"\"\"Variable to keep track of the number of samples downloaded for the current speaker.\"\"\"\n",
    "    last_video = None\n",
    "    \"\"\"Variable to keep track of the last video downloaded for the current speaker.\"\"\"\n",
    "\n",
    "    Path(out_dir).mkdir(parents=True, exist_ok=True)\n",
    "\n",
    "    # sort by speaker and length\n",
    "    df = df.sort_values(by=[\"speaker\", \"length\"], ascending=[True, False])\n",
    "\n",
    "    for index, row in df.iterrows():\n",
    "        speaker = row[\"speaker\"]\n",
    "        video = row[\"video\"]\n",
    "        txt_file = row[\"txt_file\"].replace(\".txt\", \"\")\n",
    "        start_time = row[\"start_time\"]  # in frames\n",
    "        end_time = row[\"end_time\"]  # in frames\n",
    "        duration = int(row[\"length\"] * 1000)  # in milliseconds\n",
    "\n",
    "        if active_speaker != speaker:\n",
    "            active_speaker = speaker\n",
    "            downloaded_samples = 0\n",
    "\n",
    "        # skip if the same video for the same speaker\n",
    "        if last_video == video:\n",
    "            continue\n",
    "\n",
    "        # skip if already downloaded 2 samples\n",
    "        if downloaded_samples >= n_samples:\n",
    "            continue\n",
    "\n",
    "        print(f\"Speaker: {speaker}, Video: {video}, Txt file: {txt_file}\")\n",
    "\n",
    "        # get youtube url\n",
    "        youtube_url = f\"https://www.youtube.com/watch?v={video}\"\n",
    "        output_name = (\n",
    "            f\"{speaker}_{downloaded_samples+start_index}_{duration}_{video}_{txt_file}\"\n",
    "        )\n",
    "        output_path = f\"{output_name}.mp3\"\n",
    "\n",
    "        if not check_video_available(youtube_url):\n",
    "            continue\n",
    "\n",
    "        # download audio\n",
    "        for i in range(3):\n",
    "            try:\n",
    "                download_audio(youtube_url, output_name)\n",
    "                break\n",
    "            except Exception as e:\n",
    "                print(f\"Failed to download audio: {e}\")\n",
    "                # wait for 5 seconds\n",
    "                time.sleep(5)\n",
    "            if i == 2:\n",
    "                raise Exception(\"Failed to download audio after 3 attempts\")\n",
    "\n",
    "        # cut the audio\n",
    "        # !ffmpeg -i {output_path} -ss {start_time} -to {end_time} -c copy {speaker}_{video}_cut.mp3\n",
    "        trim_audio(\n",
    "            output_path,\n",
    "            f\"{out_dir}/{output_name}_cut.mp3\",\n",
    "            start_time / 25,\n",
    "            end_time / 25,\n",
    "        )\n",
    "\n",
    "        Path(output_path).unlink()\n",
    "        downloaded_samples += 1\n",
    "        last_video = video"
   ]
  },
  {
   "cell_type": "markdown",
   "metadata": {},
   "source": [
    "## Download txt data from the web\n",
    "\n",
    "https://mm.kaist.ac.kr/datasets/voxceleb/index.html#testlist"
   ]
  },
  {
   "cell_type": "markdown",
   "metadata": {},
   "source": [
    "download test data\n",
    "\n",
    "```bash\n",
    "curl -O https://mm.kaist.ac.kr/datasets/voxceleb/data/vox2_test_txt.zip\n",
    "mkdir -p ../data/test\n",
    "unzip vox2_test_txt.zip -d ../data/test\n",
    "```"
   ]
  },
  {
   "cell_type": "markdown",
   "metadata": {},
   "source": [
    "download dev data\n",
    "\n",
    "```bash\n",
    "curl -O https://mm.kaist.ac.kr/datasets/voxceleb/data/vox2_dev_txt.zip\n",
    "mkdir -p ../data/dev\n",
    "unzip vox2_dev_txt.zip -d ../data/dev\n",
    "```"
   ]
  },
  {
   "cell_type": "markdown",
   "metadata": {},
   "source": [
    "## Test dataset"
   ]
  },
  {
   "cell_type": "code",
   "execution_count": null,
   "metadata": {},
   "outputs": [],
   "source": [
    "IN_FOLDER = \"../data/test/txt\"\n",
    "\n",
    "df_test = get_df(IN_FOLDER)\n",
    "df_test"
   ]
  },
  {
   "cell_type": "code",
   "execution_count": null,
   "metadata": {},
   "outputs": [],
   "source": [
    "df_test.to_csv(\"../data/test.csv\", index=False)"
   ]
  },
  {
   "cell_type": "code",
   "execution_count": null,
   "metadata": {},
   "outputs": [],
   "source": [
    "download_df_audio(df_test, \"../data/test_data\")"
   ]
  },
  {
   "cell_type": "markdown",
   "metadata": {},
   "source": [
    "# Dev dataset\n",
    "\n"
   ]
  },
  {
   "cell_type": "markdown",
   "metadata": {},
   "source": [
    "## Create dev dataframe"
   ]
  },
  {
   "cell_type": "code",
   "execution_count": null,
   "metadata": {},
   "outputs": [],
   "source": [
    "df_dev = get_df(\"../data/dev/txt/\")\n",
    "df_dev"
   ]
  },
  {
   "cell_type": "code",
   "execution_count": null,
   "metadata": {},
   "outputs": [],
   "source": [
    "df_dev.to_csv(\"../data/dev.csv\", index=False)"
   ]
  },
  {
   "cell_type": "markdown",
   "metadata": {},
   "source": [
    "## Download Most Famous Celebrities"
   ]
  },
  {
   "cell_type": "code",
   "execution_count": 4,
   "metadata": {},
   "outputs": [],
   "source": [
    "import pandas as pd\n",
    "\n",
    "NUM_OF_SAMPLES = 8\n",
    "START_INDEX = 2\n",
    "NUM_OF_CELEBS = 300"
   ]
  },
  {
   "cell_type": "code",
   "execution_count": 21,
   "metadata": {},
   "outputs": [
    {
     "data": {
      "text/html": [
       "<div>\n",
       "<style scoped>\n",
       "    .dataframe tbody tr th:only-of-type {\n",
       "        vertical-align: middle;\n",
       "    }\n",
       "\n",
       "    .dataframe tbody tr th {\n",
       "        vertical-align: top;\n",
       "    }\n",
       "\n",
       "    .dataframe thead th {\n",
       "        text-align: right;\n",
       "    }\n",
       "</style>\n",
       "<table border=\"1\" class=\"dataframe\">\n",
       "  <thead>\n",
       "    <tr style=\"text-align: right;\">\n",
       "      <th></th>\n",
       "      <th>Name</th>\n",
       "      <th>VoxCeleb2_ID</th>\n",
       "      <th>VGGFace2_ID</th>\n",
       "      <th>Gender</th>\n",
       "      <th>Set</th>\n",
       "      <th>wiki_views_2024</th>\n",
       "    </tr>\n",
       "  </thead>\n",
       "  <tbody>\n",
       "    <tr>\n",
       "      <th>3031</th>\n",
       "      <td>Kamala_Harris</td>\n",
       "      <td>id04538</td>\n",
       "      <td>n004537</td>\n",
       "      <td>f</td>\n",
       "      <td>dev</td>\n",
       "      <td>30250192.0</td>\n",
       "    </tr>\n",
       "    <tr>\n",
       "      <th>4051</th>\n",
       "      <td>Mike_Tyson</td>\n",
       "      <td>id06121</td>\n",
       "      <td>n006120</td>\n",
       "      <td>m</td>\n",
       "      <td>dev</td>\n",
       "      <td>11900865.0</td>\n",
       "    </tr>\n",
       "    <tr>\n",
       "      <th>761</th>\n",
       "      <td>Bob_Marley</td>\n",
       "      <td>id01109</td>\n",
       "      <td>n001109</td>\n",
       "      <td>m</td>\n",
       "      <td>dev</td>\n",
       "      <td>10636588.0</td>\n",
       "    </tr>\n",
       "    <tr>\n",
       "      <th>3974</th>\n",
       "      <td>Michael_Jackson</td>\n",
       "      <td>id06004</td>\n",
       "      <td>n006003</td>\n",
       "      <td>m</td>\n",
       "      <td>dev</td>\n",
       "      <td>9373493.0</td>\n",
       "    </tr>\n",
       "    <tr>\n",
       "      <th>504</th>\n",
       "      <td>Ariana_Grande</td>\n",
       "      <td>id00752</td>\n",
       "      <td>n000752</td>\n",
       "      <td>f</td>\n",
       "      <td>dev</td>\n",
       "      <td>9362854.0</td>\n",
       "    </tr>\n",
       "    <tr>\n",
       "      <th>...</th>\n",
       "      <td>...</td>\n",
       "      <td>...</td>\n",
       "      <td>...</td>\n",
       "      <td>...</td>\n",
       "      <td>...</td>\n",
       "      <td>...</td>\n",
       "    </tr>\n",
       "    <tr>\n",
       "      <th>3100</th>\n",
       "      <td>Katherine_Schwarzenegger</td>\n",
       "      <td>id04642</td>\n",
       "      <td>n004641</td>\n",
       "      <td>f</td>\n",
       "      <td>dev</td>\n",
       "      <td>1572645.0</td>\n",
       "    </tr>\n",
       "    <tr>\n",
       "      <th>4475</th>\n",
       "      <td>Patrick_J._Adams</td>\n",
       "      <td>id06813</td>\n",
       "      <td>n006812</td>\n",
       "      <td>m</td>\n",
       "      <td>dev</td>\n",
       "      <td>1569381.0</td>\n",
       "    </tr>\n",
       "    <tr>\n",
       "      <th>1235</th>\n",
       "      <td>Cole_Sprouse</td>\n",
       "      <td>id01772</td>\n",
       "      <td>n001771</td>\n",
       "      <td>m</td>\n",
       "      <td>dev</td>\n",
       "      <td>1564609.0</td>\n",
       "    </tr>\n",
       "    <tr>\n",
       "      <th>3096</th>\n",
       "      <td>Katharine_Ross</td>\n",
       "      <td>id04638</td>\n",
       "      <td>n004637</td>\n",
       "      <td>f</td>\n",
       "      <td>dev</td>\n",
       "      <td>1560600.0</td>\n",
       "    </tr>\n",
       "    <tr>\n",
       "      <th>2802</th>\n",
       "      <td>John_McAfee</td>\n",
       "      <td>id04224</td>\n",
       "      <td>n004223</td>\n",
       "      <td>m</td>\n",
       "      <td>dev</td>\n",
       "      <td>1559656.0</td>\n",
       "    </tr>\n",
       "  </tbody>\n",
       "</table>\n",
       "<p>300 rows × 6 columns</p>\n",
       "</div>"
      ],
      "text/plain": [
       "                          Name VoxCeleb2_ID VGGFace2_ID Gender  Set  \\\n",
       "3031             Kamala_Harris      id04538     n004537      f  dev   \n",
       "4051                Mike_Tyson      id06121     n006120      m  dev   \n",
       "761                 Bob_Marley      id01109     n001109      m  dev   \n",
       "3974           Michael_Jackson      id06004     n006003      m  dev   \n",
       "504              Ariana_Grande      id00752     n000752      f  dev   \n",
       "...                        ...          ...         ...    ...  ...   \n",
       "3100  Katherine_Schwarzenegger      id04642     n004641      f  dev   \n",
       "4475          Patrick_J._Adams      id06813     n006812      m  dev   \n",
       "1235              Cole_Sprouse      id01772     n001771      m  dev   \n",
       "3096            Katharine_Ross      id04638     n004637      f  dev   \n",
       "2802               John_McAfee      id04224     n004223      m  dev   \n",
       "\n",
       "      wiki_views_2024  \n",
       "3031       30250192.0  \n",
       "4051       11900865.0  \n",
       "761        10636588.0  \n",
       "3974        9373493.0  \n",
       "504         9362854.0  \n",
       "...               ...  \n",
       "3100        1572645.0  \n",
       "4475        1569381.0  \n",
       "1235        1564609.0  \n",
       "3096        1560600.0  \n",
       "2802        1559656.0  \n",
       "\n",
       "[300 rows x 6 columns]"
      ]
     },
     "execution_count": 21,
     "metadata": {},
     "output_type": "execute_result"
    }
   ],
   "source": [
    "df_meta = pd.read_csv(\"../data/vox2_meta.csv\")\n",
    "\n",
    "# get NUM_OF_CELEBS celebs from dev set\n",
    "df_meta = df_meta[df_meta[\"Set\"] == \"dev\"]\n",
    "df_meta = df_meta.sort_values(by=\"wiki_views_2024\", ascending=False).head(NUM_OF_CELEBS)\n",
    "df_meta"
   ]
  },
  {
   "cell_type": "code",
   "execution_count": 22,
   "metadata": {},
   "outputs": [
    {
     "data": {
      "text/html": [
       "<div>\n",
       "<style scoped>\n",
       "    .dataframe tbody tr th:only-of-type {\n",
       "        vertical-align: middle;\n",
       "    }\n",
       "\n",
       "    .dataframe tbody tr th {\n",
       "        vertical-align: top;\n",
       "    }\n",
       "\n",
       "    .dataframe thead th {\n",
       "        text-align: right;\n",
       "    }\n",
       "</style>\n",
       "<table border=\"1\" class=\"dataframe\">\n",
       "  <thead>\n",
       "    <tr style=\"text-align: right;\">\n",
       "      <th></th>\n",
       "      <th>speaker</th>\n",
       "      <th>video</th>\n",
       "      <th>txt_file</th>\n",
       "      <th>start_time</th>\n",
       "      <th>end_time</th>\n",
       "      <th>length</th>\n",
       "    </tr>\n",
       "  </thead>\n",
       "  <tbody>\n",
       "    <tr>\n",
       "      <th>1235</th>\n",
       "      <td>id00020</td>\n",
       "      <td>iRsViE6yAeg</td>\n",
       "      <td>00307.txt</td>\n",
       "      <td>1592</td>\n",
       "      <td>2053</td>\n",
       "      <td>18.44</td>\n",
       "    </tr>\n",
       "    <tr>\n",
       "      <th>1236</th>\n",
       "      <td>id00020</td>\n",
       "      <td>iRsViE6yAeg</td>\n",
       "      <td>00311.txt</td>\n",
       "      <td>3284</td>\n",
       "      <td>3741</td>\n",
       "      <td>18.28</td>\n",
       "    </tr>\n",
       "    <tr>\n",
       "      <th>1237</th>\n",
       "      <td>id00020</td>\n",
       "      <td>IpLYBI5Kaow</td>\n",
       "      <td>00064.txt</td>\n",
       "      <td>4414</td>\n",
       "      <td>4821</td>\n",
       "      <td>16.28</td>\n",
       "    </tr>\n",
       "    <tr>\n",
       "      <th>1238</th>\n",
       "      <td>id00020</td>\n",
       "      <td>l9PiLBUrSGs</td>\n",
       "      <td>00354.txt</td>\n",
       "      <td>8348</td>\n",
       "      <td>8750</td>\n",
       "      <td>16.08</td>\n",
       "    </tr>\n",
       "    <tr>\n",
       "      <th>1239</th>\n",
       "      <td>id00020</td>\n",
       "      <td>MM1fE2IkaDQ</td>\n",
       "      <td>00096.txt</td>\n",
       "      <td>2292</td>\n",
       "      <td>2648</td>\n",
       "      <td>14.24</td>\n",
       "    </tr>\n",
       "    <tr>\n",
       "      <th>...</th>\n",
       "      <td>...</td>\n",
       "      <td>...</td>\n",
       "      <td>...</td>\n",
       "      <td>...</td>\n",
       "      <td>...</td>\n",
       "      <td>...</td>\n",
       "    </tr>\n",
       "    <tr>\n",
       "      <th>1082801</th>\n",
       "      <td>id09185</td>\n",
       "      <td>AoO24VZf4oM</td>\n",
       "      <td>00069.txt</td>\n",
       "      <td>2827</td>\n",
       "      <td>2927</td>\n",
       "      <td>4.00</td>\n",
       "    </tr>\n",
       "    <tr>\n",
       "      <th>1082802</th>\n",
       "      <td>id09185</td>\n",
       "      <td>NDKxz17BhdI</td>\n",
       "      <td>00082.txt</td>\n",
       "      <td>6795</td>\n",
       "      <td>6895</td>\n",
       "      <td>4.00</td>\n",
       "    </tr>\n",
       "    <tr>\n",
       "      <th>1082803</th>\n",
       "      <td>id09185</td>\n",
       "      <td>nHM0sPZFkXQ</td>\n",
       "      <td>00154.txt</td>\n",
       "      <td>618</td>\n",
       "      <td>717</td>\n",
       "      <td>3.96</td>\n",
       "    </tr>\n",
       "    <tr>\n",
       "      <th>1082804</th>\n",
       "      <td>id09185</td>\n",
       "      <td>5TZfJJFAOwo</td>\n",
       "      <td>00031.txt</td>\n",
       "      <td>11828</td>\n",
       "      <td>11927</td>\n",
       "      <td>3.96</td>\n",
       "    </tr>\n",
       "    <tr>\n",
       "      <th>1082805</th>\n",
       "      <td>id09185</td>\n",
       "      <td>AvMgRNndnoA</td>\n",
       "      <td>00071.txt</td>\n",
       "      <td>3520</td>\n",
       "      <td>3619</td>\n",
       "      <td>3.96</td>\n",
       "    </tr>\n",
       "  </tbody>\n",
       "</table>\n",
       "<p>92438 rows × 6 columns</p>\n",
       "</div>"
      ],
      "text/plain": [
       "         speaker        video   txt_file  start_time  end_time  length\n",
       "1235     id00020  iRsViE6yAeg  00307.txt        1592      2053   18.44\n",
       "1236     id00020  iRsViE6yAeg  00311.txt        3284      3741   18.28\n",
       "1237     id00020  IpLYBI5Kaow  00064.txt        4414      4821   16.28\n",
       "1238     id00020  l9PiLBUrSGs  00354.txt        8348      8750   16.08\n",
       "1239     id00020  MM1fE2IkaDQ  00096.txt        2292      2648   14.24\n",
       "...          ...          ...        ...         ...       ...     ...\n",
       "1082801  id09185  AoO24VZf4oM  00069.txt        2827      2927    4.00\n",
       "1082802  id09185  NDKxz17BhdI  00082.txt        6795      6895    4.00\n",
       "1082803  id09185  nHM0sPZFkXQ  00154.txt         618       717    3.96\n",
       "1082804  id09185  5TZfJJFAOwo  00031.txt       11828     11927    3.96\n",
       "1082805  id09185  AvMgRNndnoA  00071.txt        3520      3619    3.96\n",
       "\n",
       "[92438 rows x 6 columns]"
      ]
     },
     "execution_count": 22,
     "metadata": {},
     "output_type": "execute_result"
    }
   ],
   "source": [
    "df_dev = pd.read_csv(\"../data/dev.csv\")\n",
    "\n",
    "# limit df_dev to celebs in df_meta\n",
    "df_top_celebs = df_dev[df_dev[\"speaker\"].isin(df_meta[\"VoxCeleb2_ID\"])]\n",
    "df_top_celebs"
   ]
  },
  {
   "cell_type": "code",
   "execution_count": 39,
   "metadata": {},
   "outputs": [
    {
     "name": "stdout",
     "output_type": "stream",
     "text": [
      "Speaker: id00020, Video: iRsViE6yAeg, Txt file: 00307\n",
      "[youtube] Extracting URL: https://www.youtube.com/watch?v=iRsViE6yAeg\n",
      "[youtube] iRsViE6yAeg: Downloading webpage\n",
      "[youtube] iRsViE6yAeg: Downloading tv client config\n",
      "[youtube] iRsViE6yAeg: Downloading player 5ae7d525\n",
      "[youtube] iRsViE6yAeg: Downloading tv player API JSON\n",
      "[youtube] iRsViE6yAeg: Downloading ios player API JSON\n",
      "[youtube] iRsViE6yAeg: Downloading m3u8 information\n",
      "[info] iRsViE6yAeg: Downloading 1 format(s): 140\n",
      "[download] Destination: id00020_0_iRsViE6yAeg_00307\n",
      "[download] 100% of    3.43MiB in 00:00:00 at 5.09MiB/s   \n",
      "[FixupM4a] Correcting container of \"id00020_0_iRsViE6yAeg_00307\"\n",
      "[ExtractAudio] Destination: id00020_0_iRsViE6yAeg_00307.mp3\n",
      "Deleting original file id00020_0_iRsViE6yAeg_00307 (pass -k to keep)\n",
      "Audio downloaded as id00020_0_iRsViE6yAeg_00307\n",
      "Trimmed audio saved as ../data/download_df_audio/id00020_0_iRsViE6yAeg_00307_cut.mp3\n",
      "Speaker: id00020, Video: IpLYBI5Kaow, Txt file: 00064\n"
     ]
    },
    {
     "name": "stderr",
     "output_type": "stream",
     "text": [
      "ERROR: [youtube] IpLYBI5Kaow: Video unavailable. This video is no longer available because the YouTube account associated with this video has been terminated.\n"
     ]
    },
    {
     "name": "stdout",
     "output_type": "stream",
     "text": [
      "Speaker: id00020, Video: l9PiLBUrSGs, Txt file: 00354\n",
      "[youtube] Extracting URL: https://www.youtube.com/watch?v=l9PiLBUrSGs\n",
      "[youtube] l9PiLBUrSGs: Downloading webpage\n",
      "[youtube] l9PiLBUrSGs: Downloading tv client config\n",
      "[youtube] l9PiLBUrSGs: Downloading player 5ae7d525\n",
      "[youtube] l9PiLBUrSGs: Downloading tv player API JSON\n",
      "[youtube] l9PiLBUrSGs: Downloading ios player API JSON\n",
      "[youtube] l9PiLBUrSGs: Downloading m3u8 information\n",
      "[info] l9PiLBUrSGs: Downloading 1 format(s): 251\n",
      "[download] Destination: id00020_1_l9PiLBUrSGs_00354\n",
      "[download] 100% of    6.85MiB in 00:00:00 at 8.54MiB/s   \n",
      "[ExtractAudio] Destination: id00020_1_l9PiLBUrSGs_00354.mp3\n",
      "Deleting original file id00020_1_l9PiLBUrSGs_00354 (pass -k to keep)\n",
      "Audio downloaded as id00020_1_l9PiLBUrSGs_00354\n",
      "Trimmed audio saved as ../data/download_df_audio/id00020_1_l9PiLBUrSGs_00354_cut.mp3\n",
      "Speaker: id00068, Video: 87KfuH7sucE, Txt file: 00001\n",
      "[youtube] Extracting URL: https://www.youtube.com/watch?v=87KfuH7sucE\n",
      "[youtube] 87KfuH7sucE: Downloading webpage\n",
      "[youtube] 87KfuH7sucE: Downloading tv client config\n",
      "[youtube] 87KfuH7sucE: Downloading player 5ae7d525\n",
      "[youtube] 87KfuH7sucE: Downloading tv player API JSON\n",
      "[youtube] 87KfuH7sucE: Downloading ios player API JSON\n",
      "[youtube] 87KfuH7sucE: Downloading m3u8 information\n",
      "[info] 87KfuH7sucE: Downloading 1 format(s): 251\n",
      "[download] Destination: id00068_0_87KfuH7sucE_00001\n",
      "[download] 100% of    7.60MiB in 00:00:00 at 8.40MiB/s   \n",
      "[ExtractAudio] Destination: id00068_0_87KfuH7sucE_00001.mp3\n",
      "Deleting original file id00068_0_87KfuH7sucE_00001 (pass -k to keep)\n",
      "Audio downloaded as id00068_0_87KfuH7sucE_00001\n",
      "Trimmed audio saved as ../data/download_df_audio/id00068_0_87KfuH7sucE_00001_cut.mp3\n",
      "Speaker: id00068, Video: hK7UCN-X6_I, Txt file: 00033\n",
      "[youtube] Extracting URL: https://www.youtube.com/watch?v=hK7UCN-X6_I\n",
      "[youtube] hK7UCN-X6_I: Downloading webpage\n",
      "[youtube] hK7UCN-X6_I: Downloading tv client config\n",
      "[youtube] hK7UCN-X6_I: Downloading player 5ae7d525\n",
      "[youtube] hK7UCN-X6_I: Downloading tv player API JSON\n",
      "[youtube] hK7UCN-X6_I: Downloading ios player API JSON\n",
      "[youtube] hK7UCN-X6_I: Downloading m3u8 information\n",
      "[info] hK7UCN-X6_I: Downloading 1 format(s): 251\n",
      "[download] Destination: id00068_1_hK7UCN-X6_I_00033\n",
      "[download] 100% of    3.58MiB in 00:00:00 at 7.68MiB/s   \n",
      "[ExtractAudio] Destination: id00068_1_hK7UCN-X6_I_00033.mp3\n",
      "Deleting original file id00068_1_hK7UCN-X6_I_00033 (pass -k to keep)\n",
      "Audio downloaded as id00068_1_hK7UCN-X6_I_00033\n",
      "Trimmed audio saved as ../data/download_df_audio/id00068_1_hK7UCN-X6_I_00033_cut.mp3\n",
      "Speaker: id00080, Video: xKOKZLEReGo, Txt file: 00264\n",
      "[youtube] Extracting URL: https://www.youtube.com/watch?v=xKOKZLEReGo\n",
      "[youtube] xKOKZLEReGo: Downloading webpage\n",
      "[youtube] xKOKZLEReGo: Downloading tv client config\n",
      "[youtube] xKOKZLEReGo: Downloading player 5ae7d525\n",
      "[youtube] xKOKZLEReGo: Downloading tv player API JSON\n",
      "[youtube] xKOKZLEReGo: Downloading ios player API JSON\n",
      "[youtube] xKOKZLEReGo: Downloading m3u8 information\n",
      "[info] xKOKZLEReGo: Downloading 1 format(s): 251\n",
      "[download] Destination: id00080_0_xKOKZLEReGo_00264\n",
      "[download] 100% of   10.25MiB in 00:00:01 at 8.44MiB/s     \n",
      "[ExtractAudio] Destination: id00080_0_xKOKZLEReGo_00264.mp3\n",
      "Deleting original file id00080_0_xKOKZLEReGo_00264 (pass -k to keep)\n",
      "Audio downloaded as id00080_0_xKOKZLEReGo_00264\n",
      "Trimmed audio saved as ../data/download_df_audio/id00080_0_xKOKZLEReGo_00264_cut.mp3\n",
      "Speaker: id00080, Video: 0L-_A4BNm1k, Txt file: 00005\n",
      "[youtube] Extracting URL: https://www.youtube.com/watch?v=0L-_A4BNm1k\n",
      "[youtube] 0L-_A4BNm1k: Downloading webpage\n",
      "[youtube] 0L-_A4BNm1k: Downloading tv client config\n",
      "[youtube] 0L-_A4BNm1k: Downloading player 5ae7d525\n",
      "[youtube] 0L-_A4BNm1k: Downloading tv player API JSON\n",
      "[youtube] 0L-_A4BNm1k: Downloading ios player API JSON\n",
      "[youtube] 0L-_A4BNm1k: Downloading m3u8 information\n",
      "[info] 0L-_A4BNm1k: Downloading 1 format(s): 140\n",
      "[download] Destination: id00080_1_0L-_A4BNm1k_00005\n",
      "[download] 100% of    5.19MiB in 00:00:00 at 11.00MiB/s  \n",
      "[FixupM4a] Correcting container of \"id00080_1_0L-_A4BNm1k_00005\"\n",
      "[ExtractAudio] Destination: id00080_1_0L-_A4BNm1k_00005.mp3\n",
      "Deleting original file id00080_1_0L-_A4BNm1k_00005 (pass -k to keep)\n",
      "Audio downloaded as id00080_1_0L-_A4BNm1k_00005\n",
      "Trimmed audio saved as ../data/download_df_audio/id00080_1_0L-_A4BNm1k_00005_cut.mp3\n",
      "Speaker: id00149, Video: e_fvvQwCikQ, Txt file: 00269\n",
      "[youtube] Extracting URL: https://www.youtube.com/watch?v=e_fvvQwCikQ\n",
      "[youtube] e_fvvQwCikQ: Downloading webpage\n",
      "[youtube] e_fvvQwCikQ: Downloading tv client config\n",
      "[youtube] e_fvvQwCikQ: Downloading player 5ae7d525\n",
      "[youtube] e_fvvQwCikQ: Downloading tv player API JSON\n",
      "[youtube] e_fvvQwCikQ: Downloading ios player API JSON\n",
      "[youtube] e_fvvQwCikQ: Downloading m3u8 information\n",
      "[info] e_fvvQwCikQ: Downloading 1 format(s): 251\n",
      "[download] Destination: id00149_0_e_fvvQwCikQ_00269\n",
      "[download] 100% of    1.66MiB in 00:00:00 at 4.15MiB/s   \n",
      "[ExtractAudio] Destination: id00149_0_e_fvvQwCikQ_00269.mp3\n",
      "Deleting original file id00149_0_e_fvvQwCikQ_00269 (pass -k to keep)\n",
      "Audio downloaded as id00149_0_e_fvvQwCikQ_00269\n",
      "Trimmed audio saved as ../data/download_df_audio/id00149_0_e_fvvQwCikQ_00269_cut.mp3\n",
      "Speaker: id00149, Video: 3hjV8OugpeM, Txt file: 00077\n",
      "[youtube] Extracting URL: https://www.youtube.com/watch?v=3hjV8OugpeM\n",
      "[youtube] 3hjV8OugpeM: Downloading webpage\n",
      "[youtube] 3hjV8OugpeM: Downloading tv client config\n",
      "[youtube] 3hjV8OugpeM: Downloading player 5ae7d525\n",
      "[youtube] 3hjV8OugpeM: Downloading tv player API JSON\n",
      "[youtube] 3hjV8OugpeM: Downloading ios player API JSON\n",
      "[youtube] 3hjV8OugpeM: Downloading m3u8 information\n",
      "[info] 3hjV8OugpeM: Downloading 1 format(s): 251\n",
      "[download] Destination: id00149_1_3hjV8OugpeM_00077\n",
      "[download] 100% of    7.55MiB in 00:00:00 at 9.93MiB/s   \n",
      "[ExtractAudio] Destination: id00149_1_3hjV8OugpeM_00077.mp3\n",
      "Deleting original file id00149_1_3hjV8OugpeM_00077 (pass -k to keep)\n",
      "Audio downloaded as id00149_1_3hjV8OugpeM_00077\n",
      "Trimmed audio saved as ../data/download_df_audio/id00149_1_3hjV8OugpeM_00077_cut.mp3\n",
      "Speaker: id00282, Video: Sj8Fwx1C-_w, Txt file: 00148\n"
     ]
    },
    {
     "name": "stderr",
     "output_type": "stream",
     "text": [
      "ERROR: [youtube] Sj8Fwx1C-_w: Video unavailable\n"
     ]
    },
    {
     "name": "stdout",
     "output_type": "stream",
     "text": [
      "Speaker: id00282, Video: Sj8Fwx1C-_w, Txt file: 00159\n"
     ]
    },
    {
     "name": "stderr",
     "output_type": "stream",
     "text": [
      "ERROR: [youtube] Sj8Fwx1C-_w: Video unavailable\n"
     ]
    },
    {
     "name": "stdout",
     "output_type": "stream",
     "text": [
      "Speaker: id00282, Video: pm2XN6PfKXQ, Txt file: 00375\n",
      "[youtube] Extracting URL: https://www.youtube.com/watch?v=pm2XN6PfKXQ\n",
      "[youtube] pm2XN6PfKXQ: Downloading webpage\n",
      "[youtube] pm2XN6PfKXQ: Downloading tv client config\n",
      "[youtube] pm2XN6PfKXQ: Downloading player 5ae7d525\n",
      "[youtube] pm2XN6PfKXQ: Downloading tv player API JSON\n",
      "[youtube] pm2XN6PfKXQ: Downloading ios player API JSON\n",
      "[youtube] pm2XN6PfKXQ: Downloading m3u8 information\n",
      "[info] pm2XN6PfKXQ: Downloading 1 format(s): 140\n",
      "[download] Destination: id00282_0_pm2XN6PfKXQ_00375\n",
      "[download] 100% of   35.54MiB in 00:00:05 at 6.93MiB/s     \n",
      "[FixupM4a] Correcting container of \"id00282_0_pm2XN6PfKXQ_00375\"\n",
      "[ExtractAudio] Destination: id00282_0_pm2XN6PfKXQ_00375.mp3\n",
      "Deleting original file id00282_0_pm2XN6PfKXQ_00375 (pass -k to keep)\n",
      "Audio downloaded as id00282_0_pm2XN6PfKXQ_00375\n",
      "Trimmed audio saved as ../data/download_df_audio/id00282_0_pm2XN6PfKXQ_00375_cut.mp3\n",
      "Speaker: id00282, Video: k5fAV_8P2pk, Txt file: 00284\n",
      "[youtube] Extracting URL: https://www.youtube.com/watch?v=k5fAV_8P2pk\n",
      "[youtube] k5fAV_8P2pk: Downloading webpage\n",
      "[youtube] k5fAV_8P2pk: Downloading tv client config\n",
      "[youtube] k5fAV_8P2pk: Downloading player 5ae7d525\n",
      "[youtube] k5fAV_8P2pk: Downloading tv player API JSON\n",
      "[youtube] k5fAV_8P2pk: Downloading ios player API JSON\n",
      "[youtube] k5fAV_8P2pk: Downloading m3u8 information\n",
      "[info] k5fAV_8P2pk: Downloading 1 format(s): 251\n",
      "[download] Destination: id00282_1_k5fAV_8P2pk_00284\n",
      "[download] 100% of    2.90MiB in 00:00:00 at 4.21MiB/s   \n",
      "[ExtractAudio] Destination: id00282_1_k5fAV_8P2pk_00284.mp3\n",
      "Deleting original file id00282_1_k5fAV_8P2pk_00284 (pass -k to keep)\n",
      "Audio downloaded as id00282_1_k5fAV_8P2pk_00284\n",
      "Trimmed audio saved as ../data/download_df_audio/id00282_1_k5fAV_8P2pk_00284_cut.mp3\n",
      "Speaker: id00297, Video: 7U_vXMc27Jc, Txt file: 00016\n"
     ]
    },
    {
     "name": "stderr",
     "output_type": "stream",
     "text": [
      "ERROR: [youtube] 7U_vXMc27Jc: Video unavailable. This video contains content from Worldwide Pants Incorporated, who has blocked it on copyright grounds\n"
     ]
    },
    {
     "name": "stdout",
     "output_type": "stream",
     "text": [
      "Speaker: id00297, Video: U5kod1QHGZk, Txt file: 00061\n",
      "[youtube] Extracting URL: https://www.youtube.com/watch?v=U5kod1QHGZk\n",
      "[youtube] U5kod1QHGZk: Downloading webpage\n",
      "[youtube] U5kod1QHGZk: Downloading tv client config\n",
      "[youtube] U5kod1QHGZk: Downloading player 5ae7d525\n",
      "[youtube] U5kod1QHGZk: Downloading tv player API JSON\n",
      "[youtube] U5kod1QHGZk: Downloading ios player API JSON\n",
      "[youtube] U5kod1QHGZk: Downloading m3u8 information\n",
      "[info] U5kod1QHGZk: Downloading 1 format(s): 251\n",
      "[download] Destination: id00297_0_U5kod1QHGZk_00061\n",
      "[download] 100% of    1.46MiB in 00:00:00 at 2.60MiB/s   \n",
      "[ExtractAudio] Destination: id00297_0_U5kod1QHGZk_00061.mp3\n",
      "Deleting original file id00297_0_U5kod1QHGZk_00061 (pass -k to keep)\n",
      "Audio downloaded as id00297_0_U5kod1QHGZk_00061\n",
      "Trimmed audio saved as ../data/download_df_audio/id00297_0_U5kod1QHGZk_00061_cut.mp3\n",
      "Speaker: id00297, Video: Pp4wlDNlQrw, Txt file: 00056\n",
      "[youtube] Extracting URL: https://www.youtube.com/watch?v=Pp4wlDNlQrw\n",
      "[youtube] Pp4wlDNlQrw: Downloading webpage\n",
      "[youtube] Pp4wlDNlQrw: Downloading tv client config\n",
      "[youtube] Pp4wlDNlQrw: Downloading player 5ae7d525\n",
      "[youtube] Pp4wlDNlQrw: Downloading tv player API JSON\n",
      "[youtube] Pp4wlDNlQrw: Downloading ios player API JSON\n",
      "[youtube] Pp4wlDNlQrw: Downloading m3u8 information\n",
      "[info] Pp4wlDNlQrw: Downloading 1 format(s): 140\n",
      "[download] Destination: id00297_1_Pp4wlDNlQrw_00056\n",
      "[download] 100% of    5.22MiB in 00:00:01 at 4.51MiB/s   \n",
      "[FixupM4a] Correcting container of \"id00297_1_Pp4wlDNlQrw_00056\"\n",
      "[ExtractAudio] Destination: id00297_1_Pp4wlDNlQrw_00056.mp3\n",
      "Deleting original file id00297_1_Pp4wlDNlQrw_00056 (pass -k to keep)\n",
      "Audio downloaded as id00297_1_Pp4wlDNlQrw_00056\n",
      "Trimmed audio saved as ../data/download_df_audio/id00297_1_Pp4wlDNlQrw_00056_cut.mp3\n",
      "Speaker: id00332, Video: 4sbyaPmwuxo, Txt file: 00033\n",
      "[youtube] Extracting URL: https://www.youtube.com/watch?v=4sbyaPmwuxo\n",
      "[youtube] 4sbyaPmwuxo: Downloading webpage\n",
      "[youtube] 4sbyaPmwuxo: Downloading tv client config\n",
      "[youtube] 4sbyaPmwuxo: Downloading player 5ae7d525\n",
      "[youtube] 4sbyaPmwuxo: Downloading tv player API JSON\n",
      "[youtube] 4sbyaPmwuxo: Downloading ios player API JSON\n",
      "[youtube] 4sbyaPmwuxo: Downloading m3u8 information\n",
      "[info] 4sbyaPmwuxo: Downloading 1 format(s): 251\n",
      "[download] Destination: id00332_0_4sbyaPmwuxo_00033\n",
      "[download] 100% of    3.60MiB in 00:00:00 at 8.74MiB/s   \n",
      "[ExtractAudio] Destination: id00332_0_4sbyaPmwuxo_00033.mp3\n",
      "Deleting original file id00332_0_4sbyaPmwuxo_00033 (pass -k to keep)\n",
      "Audio downloaded as id00332_0_4sbyaPmwuxo_00033\n",
      "Trimmed audio saved as ../data/download_df_audio/id00332_0_4sbyaPmwuxo_00033_cut.mp3\n",
      "Speaker: id00332, Video: vBgRVeoA49Q, Txt file: 00428\n"
     ]
    },
    {
     "name": "stderr",
     "output_type": "stream",
     "text": [
      "ERROR: [youtube] vBgRVeoA49Q: This video has been removed for violating YouTube's Terms of Service\n"
     ]
    },
    {
     "name": "stdout",
     "output_type": "stream",
     "text": [
      "Speaker: id00332, Video: sdALRGtptps, Txt file: 00391\n"
     ]
    },
    {
     "name": "stderr",
     "output_type": "stream",
     "text": [
      "ERROR: [youtube] sdALRGtptps: Video unavailable\n"
     ]
    },
    {
     "name": "stdout",
     "output_type": "stream",
     "text": [
      "Speaker: id00332, Video: 4JcmqQ695dM, Txt file: 00020\n",
      "[youtube] Extracting URL: https://www.youtube.com/watch?v=4JcmqQ695dM\n",
      "[youtube] 4JcmqQ695dM: Downloading webpage\n",
      "[youtube] 4JcmqQ695dM: Downloading tv client config\n",
      "[youtube] 4JcmqQ695dM: Downloading player 5ae7d525\n",
      "[youtube] 4JcmqQ695dM: Downloading tv player API JSON\n",
      "[youtube] 4JcmqQ695dM: Downloading ios player API JSON\n",
      "[youtube] 4JcmqQ695dM: Downloading m3u8 information\n",
      "[info] 4JcmqQ695dM: Downloading 1 format(s): 251\n",
      "[download] Destination: id00332_1_4JcmqQ695dM_00020\n",
      "[download] 100% of    2.84MiB in 00:00:00 at 5.17MiB/s   \n",
      "[ExtractAudio] Destination: id00332_1_4JcmqQ695dM_00020.mp3\n",
      "Deleting original file id00332_1_4JcmqQ695dM_00020 (pass -k to keep)\n",
      "Audio downloaded as id00332_1_4JcmqQ695dM_00020\n",
      "Trimmed audio saved as ../data/download_df_audio/id00332_1_4JcmqQ695dM_00020_cut.mp3\n",
      "Speaker: id00395, Video: vOOwz_6l88E, Txt file: 00366\n",
      "[youtube] Extracting URL: https://www.youtube.com/watch?v=vOOwz_6l88E\n",
      "[youtube] vOOwz_6l88E: Downloading webpage\n",
      "[youtube] vOOwz_6l88E: Downloading tv client config\n",
      "[youtube] vOOwz_6l88E: Downloading player 5ae7d525\n",
      "[youtube] vOOwz_6l88E: Downloading tv player API JSON\n",
      "[youtube] vOOwz_6l88E: Downloading ios player API JSON\n",
      "[youtube] vOOwz_6l88E: Downloading m3u8 information\n",
      "[info] vOOwz_6l88E: Downloading 1 format(s): 251\n",
      "[download] Destination: id00395_0_vOOwz_6l88E_00366\n",
      "[download] 100% of   27.86MiB in 00:00:04 at 6.25MiB/s     \n",
      "[ExtractAudio] Destination: id00395_0_vOOwz_6l88E_00366.mp3\n",
      "Deleting original file id00395_0_vOOwz_6l88E_00366 (pass -k to keep)\n",
      "Audio downloaded as id00395_0_vOOwz_6l88E_00366\n",
      "Trimmed audio saved as ../data/download_df_audio/id00395_0_vOOwz_6l88E_00366_cut.mp3\n",
      "Speaker: id00395, Video: JBoCZCOdUo0, Txt file: 00117\n",
      "[youtube] Extracting URL: https://www.youtube.com/watch?v=JBoCZCOdUo0\n",
      "[youtube] JBoCZCOdUo0: Downloading webpage\n",
      "[youtube] JBoCZCOdUo0: Downloading tv client config\n",
      "[youtube] JBoCZCOdUo0: Downloading player 5ae7d525\n",
      "[youtube] JBoCZCOdUo0: Downloading tv player API JSON\n",
      "[youtube] JBoCZCOdUo0: Downloading ios player API JSON\n",
      "[youtube] JBoCZCOdUo0: Downloading m3u8 information\n",
      "[info] JBoCZCOdUo0: Downloading 1 format(s): 140\n",
      "[download] Destination: id00395_1_JBoCZCOdUo0_00117\n",
      "[download] 100% of    2.77MiB in 00:00:00 at 2.87MiB/s   \n",
      "[FixupM4a] Correcting container of \"id00395_1_JBoCZCOdUo0_00117\"\n",
      "[ExtractAudio] Destination: id00395_1_JBoCZCOdUo0_00117.mp3\n",
      "Deleting original file id00395_1_JBoCZCOdUo0_00117 (pass -k to keep)\n",
      "Audio downloaded as id00395_1_JBoCZCOdUo0_00117\n",
      "Trimmed audio saved as ../data/download_df_audio/id00395_1_JBoCZCOdUo0_00117_cut.mp3\n",
      "Speaker: id00472, Video: lZJMj1y7Src, Txt file: 00225\n",
      "[youtube] Extracting URL: https://www.youtube.com/watch?v=lZJMj1y7Src\n",
      "[youtube] lZJMj1y7Src: Downloading webpage\n",
      "[youtube] lZJMj1y7Src: Downloading tv client config\n",
      "[youtube] lZJMj1y7Src: Downloading player 5ae7d525\n",
      "[youtube] lZJMj1y7Src: Downloading tv player API JSON\n",
      "[youtube] lZJMj1y7Src: Downloading ios player API JSON\n",
      "[youtube] lZJMj1y7Src: Downloading m3u8 information\n",
      "[info] lZJMj1y7Src: Downloading 1 format(s): 140\n",
      "[download] Destination: id00472_0_lZJMj1y7Src_00225\n",
      "[download] 100% of    6.57MiB in 00:00:01 at 6.54MiB/s   \n",
      "[FixupM4a] Correcting container of \"id00472_0_lZJMj1y7Src_00225\"\n",
      "[ExtractAudio] Destination: id00472_0_lZJMj1y7Src_00225.mp3\n",
      "Deleting original file id00472_0_lZJMj1y7Src_00225 (pass -k to keep)\n",
      "Audio downloaded as id00472_0_lZJMj1y7Src_00225\n",
      "Trimmed audio saved as ../data/download_df_audio/id00472_0_lZJMj1y7Src_00225_cut.mp3\n",
      "Speaker: id00472, Video: qNJp5F341f4, Txt file: 00234\n",
      "[youtube] Extracting URL: https://www.youtube.com/watch?v=qNJp5F341f4\n",
      "[youtube] qNJp5F341f4: Downloading webpage\n",
      "[youtube] qNJp5F341f4: Downloading tv client config\n",
      "[youtube] qNJp5F341f4: Downloading player 5ae7d525\n",
      "[youtube] qNJp5F341f4: Downloading tv player API JSON\n",
      "[youtube] qNJp5F341f4: Downloading ios player API JSON\n",
      "[youtube] qNJp5F341f4: Downloading m3u8 information\n",
      "[info] qNJp5F341f4: Downloading 1 format(s): 251\n",
      "[download] Destination: id00472_1_qNJp5F341f4_00234\n",
      "[download] 100% of    1.88MiB in 00:00:00 at 6.41MiB/s   \n",
      "[ExtractAudio] Destination: id00472_1_qNJp5F341f4_00234.mp3\n",
      "Deleting original file id00472_1_qNJp5F341f4_00234 (pass -k to keep)\n",
      "Audio downloaded as id00472_1_qNJp5F341f4_00234\n",
      "Trimmed audio saved as ../data/download_df_audio/id00472_1_qNJp5F341f4_00234_cut.mp3\n",
      "Speaker: id00561, Video: 8snVgZMIzRY, Txt file: 00024\n",
      "[youtube] Extracting URL: https://www.youtube.com/watch?v=8snVgZMIzRY\n",
      "[youtube] 8snVgZMIzRY: Downloading webpage\n",
      "[youtube] 8snVgZMIzRY: Downloading tv client config\n",
      "[youtube] 8snVgZMIzRY: Downloading player 5ae7d525\n",
      "[youtube] 8snVgZMIzRY: Downloading tv player API JSON\n",
      "[youtube] 8snVgZMIzRY: Downloading ios player API JSON\n",
      "[youtube] 8snVgZMIzRY: Downloading m3u8 information\n",
      "[info] 8snVgZMIzRY: Downloading 1 format(s): 140\n",
      "[download] Destination: id00561_0_8snVgZMIzRY_00024\n",
      "[download] 100% of    6.24MiB in 00:00:00 at 7.59MiB/s     \n",
      "[FixupM4a] Correcting container of \"id00561_0_8snVgZMIzRY_00024\"\n",
      "[ExtractAudio] Destination: id00561_0_8snVgZMIzRY_00024.mp3\n",
      "Deleting original file id00561_0_8snVgZMIzRY_00024 (pass -k to keep)\n",
      "Audio downloaded as id00561_0_8snVgZMIzRY_00024\n",
      "Trimmed audio saved as ../data/download_df_audio/id00561_0_8snVgZMIzRY_00024_cut.mp3\n",
      "Speaker: id00561, Video: 63lRhWVH6Cg, Txt file: 00016\n",
      "[youtube] Extracting URL: https://www.youtube.com/watch?v=63lRhWVH6Cg\n",
      "[youtube] 63lRhWVH6Cg: Downloading webpage\n",
      "[youtube] 63lRhWVH6Cg: Downloading tv client config\n",
      "[youtube] 63lRhWVH6Cg: Downloading player 5ae7d525\n",
      "[youtube] 63lRhWVH6Cg: Downloading tv player API JSON\n",
      "[youtube] 63lRhWVH6Cg: Downloading ios player API JSON\n",
      "[youtube] 63lRhWVH6Cg: Downloading m3u8 information\n",
      "[info] 63lRhWVH6Cg: Downloading 1 format(s): 251\n",
      "[download] Destination: id00561_1_63lRhWVH6Cg_00016\n",
      "[download] 100% of    6.62MiB in 00:00:00 at 6.68MiB/s   \n",
      "[ExtractAudio] Destination: id00561_1_63lRhWVH6Cg_00016.mp3\n",
      "Deleting original file id00561_1_63lRhWVH6Cg_00016 (pass -k to keep)\n",
      "Audio downloaded as id00561_1_63lRhWVH6Cg_00016\n",
      "Trimmed audio saved as ../data/download_df_audio/id00561_1_63lRhWVH6Cg_00016_cut.mp3\n",
      "Speaker: id00642, Video: FWZWo9SLVZs, Txt file: 00023\n",
      "[youtube] Extracting URL: https://www.youtube.com/watch?v=FWZWo9SLVZs\n",
      "[youtube] FWZWo9SLVZs: Downloading webpage\n",
      "[youtube] FWZWo9SLVZs: Downloading tv client config\n",
      "[youtube] FWZWo9SLVZs: Downloading player 5ae7d525\n",
      "[youtube] FWZWo9SLVZs: Downloading tv player API JSON\n",
      "[youtube] FWZWo9SLVZs: Downloading ios player API JSON\n",
      "[youtube] FWZWo9SLVZs: Downloading m3u8 information\n",
      "[info] FWZWo9SLVZs: Downloading 1 format(s): 251\n",
      "[download] Destination: id00642_0_FWZWo9SLVZs_00023\n",
      "[download] 100% of    3.60MiB in 00:00:00 at 7.72MiB/s   \n",
      "[ExtractAudio] Destination: id00642_0_FWZWo9SLVZs_00023.mp3\n",
      "Deleting original file id00642_0_FWZWo9SLVZs_00023 (pass -k to keep)\n",
      "Audio downloaded as id00642_0_FWZWo9SLVZs_00023\n",
      "Trimmed audio saved as ../data/download_df_audio/id00642_0_FWZWo9SLVZs_00023_cut.mp3\n",
      "Speaker: id00642, Video: wDUElW67C3M, Txt file: 00048\n"
     ]
    },
    {
     "name": "stderr",
     "output_type": "stream",
     "text": [
      "ERROR: [youtube] wDUElW67C3M: Video unavailable. This video is no longer available because the YouTube account associated with this video has been terminated.\n"
     ]
    },
    {
     "name": "stdout",
     "output_type": "stream",
     "text": [
      "Speaker: id00642, Video: XFlYFEc0NRA, Txt file: 00036\n",
      "[youtube] Extracting URL: https://www.youtube.com/watch?v=XFlYFEc0NRA\n",
      "[youtube] XFlYFEc0NRA: Downloading webpage\n",
      "[youtube] XFlYFEc0NRA: Downloading tv client config\n",
      "[youtube] XFlYFEc0NRA: Downloading player 5ae7d525\n",
      "[youtube] XFlYFEc0NRA: Downloading tv player API JSON\n",
      "[youtube] XFlYFEc0NRA: Downloading ios player API JSON\n",
      "[youtube] XFlYFEc0NRA: Downloading m3u8 information\n",
      "[info] XFlYFEc0NRA: Downloading 1 format(s): 251\n",
      "[download] Destination: id00642_1_XFlYFEc0NRA_00036\n",
      "[download] 100% of    4.45MiB in 00:00:00 at 9.50MiB/s   \n",
      "[ExtractAudio] Destination: id00642_1_XFlYFEc0NRA_00036.mp3\n",
      "Deleting original file id00642_1_XFlYFEc0NRA_00036 (pass -k to keep)\n",
      "Audio downloaded as id00642_1_XFlYFEc0NRA_00036\n",
      "Trimmed audio saved as ../data/download_df_audio/id00642_1_XFlYFEc0NRA_00036_cut.mp3\n",
      "Speaker: id00649, Video: m3Wj9Pis1-w, Txt file: 00067\n",
      "[youtube] Extracting URL: https://www.youtube.com/watch?v=m3Wj9Pis1-w\n",
      "[youtube] m3Wj9Pis1-w: Downloading webpage\n",
      "[youtube] m3Wj9Pis1-w: Downloading tv client config\n",
      "[youtube] m3Wj9Pis1-w: Downloading player 5ae7d525\n",
      "[youtube] m3Wj9Pis1-w: Downloading tv player API JSON\n",
      "[youtube] m3Wj9Pis1-w: Downloading ios player API JSON\n",
      "[youtube] m3Wj9Pis1-w: Downloading m3u8 information\n",
      "[info] m3Wj9Pis1-w: Downloading 1 format(s): 140\n",
      "[download] Destination: id00649_0_m3Wj9Pis1-w_00067\n",
      "[download] 100% of   36.13MiB in 00:00:02 at 14.33MiB/s    \n",
      "[FixupM4a] Correcting container of \"id00649_0_m3Wj9Pis1-w_00067\"\n",
      "[ExtractAudio] Destination: id00649_0_m3Wj9Pis1-w_00067.mp3\n",
      "Deleting original file id00649_0_m3Wj9Pis1-w_00067 (pass -k to keep)\n",
      "Audio downloaded as id00649_0_m3Wj9Pis1-w_00067\n",
      "Trimmed audio saved as ../data/download_df_audio/id00649_0_m3Wj9Pis1-w_00067_cut.mp3\n",
      "Speaker: id00649, Video: c-BvpV9twsU, Txt file: 00060\n"
     ]
    },
    {
     "name": "stderr",
     "output_type": "stream",
     "text": [
      "ERROR: [youtube] c-BvpV9twsU: Video unavailable\n"
     ]
    },
    {
     "name": "stdout",
     "output_type": "stream",
     "text": [
      "Speaker: id00649, Video: bMXL5gZs1BU, Txt file: 00045\n",
      "[youtube] Extracting URL: https://www.youtube.com/watch?v=bMXL5gZs1BU\n",
      "[youtube] bMXL5gZs1BU: Downloading webpage\n",
      "[youtube] bMXL5gZs1BU: Downloading tv client config\n",
      "[youtube] bMXL5gZs1BU: Downloading player 5ae7d525\n",
      "[youtube] bMXL5gZs1BU: Downloading tv player API JSON\n",
      "[youtube] bMXL5gZs1BU: Downloading ios player API JSON\n",
      "[youtube] bMXL5gZs1BU: Downloading m3u8 information\n",
      "[info] bMXL5gZs1BU: Downloading 1 format(s): 140\n",
      "[download] Destination: id00649_1_bMXL5gZs1BU_00045\n",
      "[download] 100% of   11.68MiB in 00:00:01 at 10.52MiB/s  \n",
      "[FixupM4a] Correcting container of \"id00649_1_bMXL5gZs1BU_00045\"\n",
      "[ExtractAudio] Destination: id00649_1_bMXL5gZs1BU_00045.mp3\n",
      "Deleting original file id00649_1_bMXL5gZs1BU_00045 (pass -k to keep)\n",
      "Audio downloaded as id00649_1_bMXL5gZs1BU_00045\n",
      "Trimmed audio saved as ../data/download_df_audio/id00649_1_bMXL5gZs1BU_00045_cut.mp3\n",
      "Speaker: id00667, Video: PbapbDY_0q0, Txt file: 00168\n",
      "[youtube] Extracting URL: https://www.youtube.com/watch?v=PbapbDY_0q0\n",
      "[youtube] PbapbDY_0q0: Downloading webpage\n",
      "[youtube] PbapbDY_0q0: Downloading tv client config\n",
      "[youtube] PbapbDY_0q0: Downloading player 5ae7d525\n",
      "[youtube] PbapbDY_0q0: Downloading tv player API JSON\n",
      "[youtube] PbapbDY_0q0: Downloading ios player API JSON\n",
      "[youtube] PbapbDY_0q0: Downloading m3u8 information\n",
      "[info] PbapbDY_0q0: Downloading 1 format(s): 251\n",
      "[download] Destination: id00667_0_PbapbDY_0q0_00168\n",
      "[download] 100% of   49.88MiB in 00:00:06 at 7.85MiB/s     \n",
      "[ExtractAudio] Destination: id00667_0_PbapbDY_0q0_00168.mp3\n",
      "Deleting original file id00667_0_PbapbDY_0q0_00168 (pass -k to keep)\n",
      "Audio downloaded as id00667_0_PbapbDY_0q0_00168\n",
      "Trimmed audio saved as ../data/download_df_audio/id00667_0_PbapbDY_0q0_00168_cut.mp3\n",
      "Speaker: id00667, Video: nK61HRBrDek, Txt file: 00299\n",
      "[youtube] Extracting URL: https://www.youtube.com/watch?v=nK61HRBrDek\n",
      "[youtube] nK61HRBrDek: Downloading webpage\n",
      "[youtube] nK61HRBrDek: Downloading tv client config\n",
      "[youtube] nK61HRBrDek: Downloading player 5ae7d525\n",
      "[youtube] nK61HRBrDek: Downloading tv player API JSON\n",
      "[youtube] nK61HRBrDek: Downloading ios player API JSON\n",
      "[youtube] nK61HRBrDek: Downloading m3u8 information\n",
      "[info] nK61HRBrDek: Downloading 1 format(s): 251\n",
      "[download] Destination: id00667_1_nK61HRBrDek_00299\n",
      "[download] 100% of    4.11MiB in 00:00:00 at 6.69MiB/s   \n",
      "[ExtractAudio] Destination: id00667_1_nK61HRBrDek_00299.mp3\n",
      "Deleting original file id00667_1_nK61HRBrDek_00299 (pass -k to keep)\n",
      "Audio downloaded as id00667_1_nK61HRBrDek_00299\n",
      "Trimmed audio saved as ../data/download_df_audio/id00667_1_nK61HRBrDek_00299_cut.mp3\n",
      "Speaker: id00692, Video: YJijGm-ihg0, Txt file: 00262\n",
      "[youtube] Extracting URL: https://www.youtube.com/watch?v=YJijGm-ihg0\n",
      "[youtube] YJijGm-ihg0: Downloading webpage\n",
      "[youtube] YJijGm-ihg0: Downloading tv client config\n",
      "[youtube] YJijGm-ihg0: Downloading player 5ae7d525\n",
      "[youtube] YJijGm-ihg0: Downloading tv player API JSON\n",
      "[youtube] YJijGm-ihg0: Downloading ios player API JSON\n",
      "[youtube] YJijGm-ihg0: Downloading m3u8 information\n",
      "[info] YJijGm-ihg0: Downloading 1 format(s): 140\n",
      "[download] Destination: id00692_0_YJijGm-ihg0_00262\n",
      "[download] 100% of   12.50MiB in 00:00:01 at 8.88MiB/s   \n",
      "[FixupM4a] Correcting container of \"id00692_0_YJijGm-ihg0_00262\"\n",
      "[ExtractAudio] Destination: id00692_0_YJijGm-ihg0_00262.mp3\n",
      "Deleting original file id00692_0_YJijGm-ihg0_00262 (pass -k to keep)\n",
      "Audio downloaded as id00692_0_YJijGm-ihg0_00262\n",
      "Trimmed audio saved as ../data/download_df_audio/id00692_0_YJijGm-ihg0_00262_cut.mp3\n",
      "Speaker: id00692, Video: KvPZh_h3orY, Txt file: 00165\n",
      "[youtube] Extracting URL: https://www.youtube.com/watch?v=KvPZh_h3orY\n",
      "[youtube] KvPZh_h3orY: Downloading webpage\n",
      "[youtube] KvPZh_h3orY: Downloading tv client config\n",
      "[youtube] KvPZh_h3orY: Downloading player 5ae7d525\n",
      "[youtube] KvPZh_h3orY: Downloading tv player API JSON\n",
      "[youtube] KvPZh_h3orY: Downloading ios player API JSON\n",
      "[youtube] KvPZh_h3orY: Downloading m3u8 information\n",
      "[info] KvPZh_h3orY: Downloading 1 format(s): 140\n",
      "[download] Destination: id00692_1_KvPZh_h3orY_00165\n",
      "[download] 100% of    1.78MiB in 00:00:00 at 1.97MiB/s   \n",
      "[FixupM4a] Correcting container of \"id00692_1_KvPZh_h3orY_00165\"\n",
      "[ExtractAudio] Destination: id00692_1_KvPZh_h3orY_00165.mp3\n",
      "Deleting original file id00692_1_KvPZh_h3orY_00165 (pass -k to keep)\n",
      "Audio downloaded as id00692_1_KvPZh_h3orY_00165\n",
      "Trimmed audio saved as ../data/download_df_audio/id00692_1_KvPZh_h3orY_00165_cut.mp3\n",
      "Speaker: id00709, Video: n0UJMpvFf1k, Txt file: 00367\n",
      "[youtube] Extracting URL: https://www.youtube.com/watch?v=n0UJMpvFf1k\n",
      "[youtube] n0UJMpvFf1k: Downloading webpage\n",
      "[youtube] n0UJMpvFf1k: Downloading tv client config\n",
      "[youtube] n0UJMpvFf1k: Downloading player 5ae7d525\n",
      "[youtube] n0UJMpvFf1k: Downloading tv player API JSON\n",
      "[youtube] n0UJMpvFf1k: Downloading ios player API JSON\n",
      "[youtube] n0UJMpvFf1k: Downloading m3u8 information\n",
      "[info] n0UJMpvFf1k: Downloading 1 format(s): 140\n",
      "[download] Destination: id00709_0_n0UJMpvFf1k_00367\n",
      "[download] 100% of    7.93MiB in 00:00:00 at 13.03MiB/s  \n",
      "[FixupM4a] Correcting container of \"id00709_0_n0UJMpvFf1k_00367\"\n",
      "[ExtractAudio] Destination: id00709_0_n0UJMpvFf1k_00367.mp3\n",
      "Deleting original file id00709_0_n0UJMpvFf1k_00367 (pass -k to keep)\n",
      "Audio downloaded as id00709_0_n0UJMpvFf1k_00367\n",
      "Trimmed audio saved as ../data/download_df_audio/id00709_0_n0UJMpvFf1k_00367_cut.mp3\n",
      "Speaker: id00709, Video: Mg7fM_GrzPU, Txt file: 00165\n",
      "[youtube] Extracting URL: https://www.youtube.com/watch?v=Mg7fM_GrzPU\n",
      "[youtube] Mg7fM_GrzPU: Downloading webpage\n",
      "[youtube] Mg7fM_GrzPU: Downloading tv client config\n",
      "[youtube] Mg7fM_GrzPU: Downloading player 5ae7d525\n",
      "[youtube] Mg7fM_GrzPU: Downloading tv player API JSON\n",
      "[youtube] Mg7fM_GrzPU: Downloading ios player API JSON\n",
      "[youtube] Mg7fM_GrzPU: Downloading m3u8 information\n",
      "[info] Mg7fM_GrzPU: Downloading 1 format(s): 140\n",
      "[download] Destination: id00709_1_Mg7fM_GrzPU_00165\n",
      "[download] 100% of    5.80MiB in 00:00:00 at 11.17MiB/s  \n",
      "[FixupM4a] Correcting container of \"id00709_1_Mg7fM_GrzPU_00165\"\n",
      "[ExtractAudio] Destination: id00709_1_Mg7fM_GrzPU_00165.mp3\n",
      "Deleting original file id00709_1_Mg7fM_GrzPU_00165 (pass -k to keep)\n",
      "Audio downloaded as id00709_1_Mg7fM_GrzPU_00165\n",
      "Trimmed audio saved as ../data/download_df_audio/id00709_1_Mg7fM_GrzPU_00165_cut.mp3\n",
      "Speaker: id00752, Video: pDjEb_ZeT6c, Txt file: 00359\n",
      "[youtube] Extracting URL: https://www.youtube.com/watch?v=pDjEb_ZeT6c\n",
      "[youtube] pDjEb_ZeT6c: Downloading webpage\n",
      "[youtube] pDjEb_ZeT6c: Downloading tv client config\n",
      "[youtube] pDjEb_ZeT6c: Downloading player 5ae7d525\n",
      "[youtube] pDjEb_ZeT6c: Downloading tv player API JSON\n",
      "[youtube] pDjEb_ZeT6c: Downloading ios player API JSON\n",
      "[youtube] pDjEb_ZeT6c: Downloading m3u8 information\n",
      "[info] pDjEb_ZeT6c: Downloading 1 format(s): 140\n",
      "[download] Destination: id00752_0_pDjEb_ZeT6c_00359\n",
      "[download] 100% of    5.18MiB in 00:00:00 at 10.34MiB/s    \n",
      "[FixupM4a] Correcting container of \"id00752_0_pDjEb_ZeT6c_00359\"\n",
      "[ExtractAudio] Destination: id00752_0_pDjEb_ZeT6c_00359.mp3\n",
      "Deleting original file id00752_0_pDjEb_ZeT6c_00359 (pass -k to keep)\n",
      "Audio downloaded as id00752_0_pDjEb_ZeT6c_00359\n",
      "Trimmed audio saved as ../data/download_df_audio/id00752_0_pDjEb_ZeT6c_00359_cut.mp3\n",
      "Speaker: id00752, Video: TQYtm0-GPa0, Txt file: 00159\n",
      "[youtube] Extracting URL: https://www.youtube.com/watch?v=TQYtm0-GPa0\n",
      "[youtube] TQYtm0-GPa0: Downloading webpage\n",
      "[youtube] TQYtm0-GPa0: Downloading tv client config\n",
      "[youtube] TQYtm0-GPa0: Downloading player 5ae7d525\n",
      "[youtube] TQYtm0-GPa0: Downloading tv player API JSON\n",
      "[youtube] TQYtm0-GPa0: Downloading ios player API JSON\n",
      "[youtube] TQYtm0-GPa0: Downloading m3u8 information\n",
      "[info] TQYtm0-GPa0: Downloading 1 format(s): 140\n",
      "[download] Destination: id00752_1_TQYtm0-GPa0_00159\n",
      "[download] 100% of    7.47MiB in 00:00:00 at 7.94MiB/s   \n",
      "[FixupM4a] Correcting container of \"id00752_1_TQYtm0-GPa0_00159\"\n",
      "[ExtractAudio] Destination: id00752_1_TQYtm0-GPa0_00159.mp3\n",
      "Deleting original file id00752_1_TQYtm0-GPa0_00159 (pass -k to keep)\n",
      "Audio downloaded as id00752_1_TQYtm0-GPa0_00159\n",
      "Trimmed audio saved as ../data/download_df_audio/id00752_1_TQYtm0-GPa0_00159_cut.mp3\n",
      "Speaker: id00823, Video: GrUQYIwCN74, Txt file: 00092\n",
      "[youtube] Extracting URL: https://www.youtube.com/watch?v=GrUQYIwCN74\n",
      "[youtube] GrUQYIwCN74: Downloading webpage\n",
      "[youtube] GrUQYIwCN74: Downloading tv client config\n",
      "[youtube] GrUQYIwCN74: Downloading player 5ae7d525\n",
      "[youtube] GrUQYIwCN74: Downloading tv player API JSON\n",
      "[youtube] GrUQYIwCN74: Downloading ios player API JSON\n",
      "[youtube] GrUQYIwCN74: Downloading m3u8 information\n",
      "[info] GrUQYIwCN74: Downloading 1 format(s): 140\n",
      "[download] Destination: id00823_0_GrUQYIwCN74_00092\n",
      "[download] 100% of    4.62MiB in 00:00:00 at 6.40MiB/s   \n",
      "[FixupM4a] Correcting container of \"id00823_0_GrUQYIwCN74_00092\"\n",
      "[ExtractAudio] Destination: id00823_0_GrUQYIwCN74_00092.mp3\n",
      "Deleting original file id00823_0_GrUQYIwCN74_00092 (pass -k to keep)\n",
      "Audio downloaded as id00823_0_GrUQYIwCN74_00092\n",
      "Trimmed audio saved as ../data/download_df_audio/id00823_0_GrUQYIwCN74_00092_cut.mp3\n",
      "Speaker: id00823, Video: kGM4fs0zeto, Txt file: 00290\n",
      "[youtube] Extracting URL: https://www.youtube.com/watch?v=kGM4fs0zeto\n",
      "[youtube] kGM4fs0zeto: Downloading webpage\n",
      "[youtube] kGM4fs0zeto: Downloading tv client config\n",
      "[youtube] kGM4fs0zeto: Downloading player 5ae7d525\n",
      "[youtube] kGM4fs0zeto: Downloading tv player API JSON\n",
      "[youtube] kGM4fs0zeto: Downloading ios player API JSON\n",
      "[youtube] kGM4fs0zeto: Downloading m3u8 information\n",
      "[info] kGM4fs0zeto: Downloading 1 format(s): 251\n",
      "[download] Destination: id00823_1_kGM4fs0zeto_00290\n",
      "[download] 100% of    1.62MiB in 00:00:00 at 4.60MiB/s     \n",
      "[ExtractAudio] Destination: id00823_1_kGM4fs0zeto_00290.mp3\n",
      "Deleting original file id00823_1_kGM4fs0zeto_00290 (pass -k to keep)\n",
      "Audio downloaded as id00823_1_kGM4fs0zeto_00290\n",
      "Trimmed audio saved as ../data/download_df_audio/id00823_1_kGM4fs0zeto_00290_cut.mp3\n",
      "Speaker: id00835, Video: rW8uVDxbG6U, Txt file: 00165\n",
      "[youtube] Extracting URL: https://www.youtube.com/watch?v=rW8uVDxbG6U\n",
      "[youtube] rW8uVDxbG6U: Downloading webpage\n",
      "[youtube] rW8uVDxbG6U: Downloading tv client config\n",
      "[youtube] rW8uVDxbG6U: Downloading player 5ae7d525\n",
      "[youtube] rW8uVDxbG6U: Downloading tv player API JSON\n",
      "[youtube] rW8uVDxbG6U: Downloading ios player API JSON\n",
      "[youtube] rW8uVDxbG6U: Downloading m3u8 information\n",
      "[info] rW8uVDxbG6U: Downloading 1 format(s): 258\n",
      "[download] Destination: id00835_0_rW8uVDxbG6U_00165\n",
      "[download] 100% of   35.75MiB in 00:00:03 at 10.41MiB/s    \n",
      "[FixupM4a] Correcting container of \"id00835_0_rW8uVDxbG6U_00165\"\n",
      "[ExtractAudio] Destination: id00835_0_rW8uVDxbG6U_00165.mp3\n",
      "Deleting original file id00835_0_rW8uVDxbG6U_00165 (pass -k to keep)\n",
      "Audio downloaded as id00835_0_rW8uVDxbG6U_00165\n",
      "Trimmed audio saved as ../data/download_df_audio/id00835_0_rW8uVDxbG6U_00165_cut.mp3\n",
      "Speaker: id00835, Video: X0s11AeBi4w, Txt file: 00091\n",
      "[youtube] Extracting URL: https://www.youtube.com/watch?v=X0s11AeBi4w\n",
      "[youtube] X0s11AeBi4w: Downloading webpage\n",
      "[youtube] X0s11AeBi4w: Downloading tv client config\n",
      "[youtube] X0s11AeBi4w: Downloading player 5ae7d525\n",
      "[youtube] X0s11AeBi4w: Downloading tv player API JSON\n",
      "[youtube] X0s11AeBi4w: Downloading ios player API JSON\n",
      "[youtube] X0s11AeBi4w: Downloading m3u8 information\n",
      "[info] X0s11AeBi4w: Downloading 1 format(s): 140\n",
      "[download] Destination: id00835_1_X0s11AeBi4w_00091\n",
      "[download] 100% of   10.99MiB in 00:00:01 at 6.30MiB/s     \n",
      "[FixupM4a] Correcting container of \"id00835_1_X0s11AeBi4w_00091\"\n",
      "[ExtractAudio] Destination: id00835_1_X0s11AeBi4w_00091.mp3\n",
      "Deleting original file id00835_1_X0s11AeBi4w_00091 (pass -k to keep)\n",
      "Audio downloaded as id00835_1_X0s11AeBi4w_00091\n",
      "Trimmed audio saved as ../data/download_df_audio/id00835_1_X0s11AeBi4w_00091_cut.mp3\n",
      "Speaker: id00902, Video: I8ABZ4xdjWg, Txt file: 00132\n",
      "[youtube] Extracting URL: https://www.youtube.com/watch?v=I8ABZ4xdjWg\n",
      "[youtube] I8ABZ4xdjWg: Downloading webpage\n",
      "[youtube] I8ABZ4xdjWg: Downloading tv client config\n",
      "[youtube] I8ABZ4xdjWg: Downloading player 5ae7d525\n",
      "[youtube] I8ABZ4xdjWg: Downloading tv player API JSON\n",
      "[youtube] I8ABZ4xdjWg: Downloading ios player API JSON\n",
      "[youtube] I8ABZ4xdjWg: Downloading m3u8 information\n",
      "[info] I8ABZ4xdjWg: Downloading 1 format(s): 140\n",
      "[download] Destination: id00902_0_I8ABZ4xdjWg_00132\n",
      "[download] 100% of    2.85MiB in 00:00:00 at 7.69MiB/s   \n",
      "[FixupM4a] Correcting container of \"id00902_0_I8ABZ4xdjWg_00132\"\n",
      "[ExtractAudio] Destination: id00902_0_I8ABZ4xdjWg_00132.mp3\n",
      "Deleting original file id00902_0_I8ABZ4xdjWg_00132 (pass -k to keep)\n",
      "Audio downloaded as id00902_0_I8ABZ4xdjWg_00132\n",
      "Trimmed audio saved as ../data/download_df_audio/id00902_0_I8ABZ4xdjWg_00132_cut.mp3\n",
      "Speaker: id00902, Video: mMbAQutLlN8, Txt file: 00314\n",
      "[youtube] Extracting URL: https://www.youtube.com/watch?v=mMbAQutLlN8\n",
      "[youtube] mMbAQutLlN8: Downloading webpage\n",
      "[youtube] mMbAQutLlN8: Downloading tv client config\n",
      "[youtube] mMbAQutLlN8: Downloading player 5ae7d525\n",
      "[youtube] mMbAQutLlN8: Downloading tv player API JSON\n",
      "[youtube] mMbAQutLlN8: Downloading ios player API JSON\n",
      "[youtube] mMbAQutLlN8: Downloading m3u8 information\n",
      "[info] mMbAQutLlN8: Downloading 1 format(s): 140\n",
      "[download] Destination: id00902_1_mMbAQutLlN8_00314\n",
      "[download] 100% of    9.15MiB in 00:00:00 at 9.77MiB/s   \n",
      "[FixupM4a] Correcting container of \"id00902_1_mMbAQutLlN8_00314\"\n",
      "[ExtractAudio] Destination: id00902_1_mMbAQutLlN8_00314.mp3\n",
      "Deleting original file id00902_1_mMbAQutLlN8_00314 (pass -k to keep)\n",
      "Audio downloaded as id00902_1_mMbAQutLlN8_00314\n",
      "Trimmed audio saved as ../data/download_df_audio/id00902_1_mMbAQutLlN8_00314_cut.mp3\n",
      "Speaker: id00975, Video: XDiHKI4h1d8, Txt file: 00032\n",
      "[youtube] Extracting URL: https://www.youtube.com/watch?v=XDiHKI4h1d8\n",
      "[youtube] XDiHKI4h1d8: Downloading webpage\n",
      "[youtube] XDiHKI4h1d8: Downloading tv client config\n",
      "[youtube] XDiHKI4h1d8: Downloading player 5ae7d525\n",
      "[youtube] XDiHKI4h1d8: Downloading tv player API JSON\n",
      "[youtube] XDiHKI4h1d8: Downloading ios player API JSON\n",
      "[youtube] XDiHKI4h1d8: Downloading m3u8 information\n",
      "[info] XDiHKI4h1d8: Downloading 1 format(s): 140\n",
      "[download] Destination: id00975_0_XDiHKI4h1d8_00032\n",
      "[download] 100% of    4.11MiB in 00:00:00 at 5.13MiB/s   \n",
      "[FixupM4a] Correcting container of \"id00975_0_XDiHKI4h1d8_00032\"\n",
      "[ExtractAudio] Destination: id00975_0_XDiHKI4h1d8_00032.mp3\n",
      "Deleting original file id00975_0_XDiHKI4h1d8_00032 (pass -k to keep)\n",
      "Audio downloaded as id00975_0_XDiHKI4h1d8_00032\n",
      "Trimmed audio saved as ../data/download_df_audio/id00975_0_XDiHKI4h1d8_00032_cut.mp3\n",
      "Speaker: id00975, Video: lVyw8WJtNVg, Txt file: 00053\n",
      "[youtube] Extracting URL: https://www.youtube.com/watch?v=lVyw8WJtNVg\n",
      "[youtube] lVyw8WJtNVg: Downloading webpage\n",
      "[youtube] lVyw8WJtNVg: Downloading tv client config\n",
      "[youtube] lVyw8WJtNVg: Downloading player 5ae7d525\n",
      "[youtube] lVyw8WJtNVg: Downloading tv player API JSON\n",
      "[youtube] lVyw8WJtNVg: Downloading ios player API JSON\n",
      "[youtube] lVyw8WJtNVg: Downloading m3u8 information\n",
      "[info] lVyw8WJtNVg: Downloading 1 format(s): 140\n",
      "[download] Destination: id00975_1_lVyw8WJtNVg_00053\n",
      "[download] 100% of    1.66MiB in 00:00:00 at 5.47MiB/s   \n",
      "[FixupM4a] Correcting container of \"id00975_1_lVyw8WJtNVg_00053\"\n",
      "[ExtractAudio] Destination: id00975_1_lVyw8WJtNVg_00053.mp3\n",
      "Deleting original file id00975_1_lVyw8WJtNVg_00053 (pass -k to keep)\n",
      "Audio downloaded as id00975_1_lVyw8WJtNVg_00053\n",
      "Trimmed audio saved as ../data/download_df_audio/id00975_1_lVyw8WJtNVg_00053_cut.mp3\n",
      "Speaker: id01042, Video: Hyg9BhqESxU, Txt file: 00069\n",
      "[youtube] Extracting URL: https://www.youtube.com/watch?v=Hyg9BhqESxU\n",
      "[youtube] Hyg9BhqESxU: Downloading webpage\n",
      "[youtube] Hyg9BhqESxU: Downloading tv client config\n",
      "[youtube] Hyg9BhqESxU: Downloading player 5ae7d525\n",
      "[youtube] Hyg9BhqESxU: Downloading tv player API JSON\n",
      "[youtube] Hyg9BhqESxU: Downloading ios player API JSON\n",
      "[youtube] Hyg9BhqESxU: Downloading m3u8 information\n",
      "[info] Hyg9BhqESxU: Downloading 1 format(s): 140\n",
      "[download] Destination: id01042_0_Hyg9BhqESxU_00069\n",
      "[download] 100% of   13.59MiB in 00:00:01 at 12.13MiB/s    \n",
      "[FixupM4a] Correcting container of \"id01042_0_Hyg9BhqESxU_00069\"\n",
      "[ExtractAudio] Destination: id01042_0_Hyg9BhqESxU_00069.mp3\n",
      "Deleting original file id01042_0_Hyg9BhqESxU_00069 (pass -k to keep)\n",
      "Audio downloaded as id01042_0_Hyg9BhqESxU_00069\n",
      "Trimmed audio saved as ../data/download_df_audio/id01042_0_Hyg9BhqESxU_00069_cut.mp3\n",
      "Speaker: id01042, Video: wLiewQqKjjw, Txt file: 00195\n",
      "[youtube] Extracting URL: https://www.youtube.com/watch?v=wLiewQqKjjw\n",
      "[youtube] wLiewQqKjjw: Downloading webpage\n",
      "[youtube] wLiewQqKjjw: Downloading tv client config\n",
      "[youtube] wLiewQqKjjw: Downloading player 5ae7d525\n",
      "[youtube] wLiewQqKjjw: Downloading tv player API JSON\n",
      "[youtube] wLiewQqKjjw: Downloading ios player API JSON\n",
      "[youtube] wLiewQqKjjw: Downloading m3u8 information\n",
      "[info] wLiewQqKjjw: Downloading 1 format(s): 251\n",
      "[download] Destination: id01042_1_wLiewQqKjjw_00195\n",
      "[download] 100% of    4.10MiB in 00:00:00 at 6.88MiB/s   \n",
      "[ExtractAudio] Destination: id01042_1_wLiewQqKjjw_00195.mp3\n",
      "Deleting original file id01042_1_wLiewQqKjjw_00195 (pass -k to keep)\n",
      "Audio downloaded as id01042_1_wLiewQqKjjw_00195\n",
      "Trimmed audio saved as ../data/download_df_audio/id01042_1_wLiewQqKjjw_00195_cut.mp3\n",
      "Speaker: id01054, Video: yGgWr3RllFE, Txt file: 00374\n",
      "[youtube] Extracting URL: https://www.youtube.com/watch?v=yGgWr3RllFE\n",
      "[youtube] yGgWr3RllFE: Downloading webpage\n",
      "[youtube] yGgWr3RllFE: Downloading tv client config\n",
      "[youtube] yGgWr3RllFE: Downloading player 5ae7d525\n",
      "[youtube] yGgWr3RllFE: Downloading tv player API JSON\n",
      "[youtube] yGgWr3RllFE: Downloading ios player API JSON\n",
      "[youtube] yGgWr3RllFE: Downloading MPD manifest\n",
      "[youtube] yGgWr3RllFE: Downloading m3u8 information\n",
      "[youtube] yGgWr3RllFE: Downloading MPD manifest\n",
      "[info] yGgWr3RllFE: Downloading 1 format(s): 251\n",
      "[download] Destination: id01054_0_yGgWr3RllFE_00374\n",
      "[download] 100% of   14.33MiB in 00:00:01 at 7.54MiB/s     \n",
      "[ExtractAudio] Destination: id01054_0_yGgWr3RllFE_00374.mp3\n",
      "Deleting original file id01054_0_yGgWr3RllFE_00374 (pass -k to keep)\n",
      "Audio downloaded as id01054_0_yGgWr3RllFE_00374\n",
      "Trimmed audio saved as ../data/download_df_audio/id01054_0_yGgWr3RllFE_00374_cut.mp3\n",
      "Speaker: id01054, Video: 3I37J0Lji08, Txt file: 00025\n"
     ]
    },
    {
     "name": "stderr",
     "output_type": "stream",
     "text": [
      "ERROR: [youtube] 3I37J0Lji08: Video unavailable. This video is no longer available because the YouTube account associated with this video has been terminated.\n"
     ]
    },
    {
     "name": "stdout",
     "output_type": "stream",
     "text": [
      "Speaker: id01054, Video: IE4B02LFXDY, Txt file: 00150\n",
      "[youtube] Extracting URL: https://www.youtube.com/watch?v=IE4B02LFXDY\n",
      "[youtube] IE4B02LFXDY: Downloading webpage\n",
      "[youtube] IE4B02LFXDY: Downloading tv client config\n",
      "[youtube] IE4B02LFXDY: Downloading player 5ae7d525\n",
      "[youtube] IE4B02LFXDY: Downloading tv player API JSON\n",
      "[youtube] IE4B02LFXDY: Downloading ios player API JSON\n",
      "[youtube] IE4B02LFXDY: Downloading m3u8 information\n",
      "[info] IE4B02LFXDY: Downloading 1 format(s): 140\n",
      "[download] Destination: id01054_1_IE4B02LFXDY_00150\n",
      "[download] 100% of   18.06MiB in 00:00:01 at 10.66MiB/s    \n",
      "[FixupM4a] Correcting container of \"id01054_1_IE4B02LFXDY_00150\"\n",
      "[ExtractAudio] Destination: id01054_1_IE4B02LFXDY_00150.mp3\n",
      "Deleting original file id01054_1_IE4B02LFXDY_00150 (pass -k to keep)\n",
      "Audio downloaded as id01054_1_IE4B02LFXDY_00150\n",
      "Trimmed audio saved as ../data/download_df_audio/id01054_1_IE4B02LFXDY_00150_cut.mp3\n",
      "Speaker: id01109, Video: W2ykyVanUgc, Txt file: 00040\n",
      "[youtube] Extracting URL: https://www.youtube.com/watch?v=W2ykyVanUgc\n",
      "[youtube] W2ykyVanUgc: Downloading webpage\n",
      "[youtube] W2ykyVanUgc: Downloading tv client config\n",
      "[youtube] W2ykyVanUgc: Downloading player 5ae7d525\n",
      "[youtube] W2ykyVanUgc: Downloading tv player API JSON\n",
      "[youtube] W2ykyVanUgc: Downloading ios player API JSON\n",
      "[youtube] W2ykyVanUgc: Downloading m3u8 information\n",
      "[info] W2ykyVanUgc: Downloading 1 format(s): 140\n",
      "[download] Destination: id01109_0_W2ykyVanUgc_00040\n",
      "[download] 100% of   31.34MiB in 00:00:02 at 11.86MiB/s    \n",
      "[FixupM4a] Correcting container of \"id01109_0_W2ykyVanUgc_00040\"\n",
      "[ExtractAudio] Destination: id01109_0_W2ykyVanUgc_00040.mp3\n",
      "Deleting original file id01109_0_W2ykyVanUgc_00040 (pass -k to keep)\n",
      "Audio downloaded as id01109_0_W2ykyVanUgc_00040\n",
      "Trimmed audio saved as ../data/download_df_audio/id01109_0_W2ykyVanUgc_00040_cut.mp3\n",
      "Speaker: id01109, Video: ga9dknzMI0A, Txt file: 00078\n"
     ]
    },
    {
     "name": "stderr",
     "output_type": "stream",
     "text": [
      "ERROR: [youtube] ga9dknzMI0A: Video unavailable\n"
     ]
    },
    {
     "name": "stdout",
     "output_type": "stream",
     "text": [
      "Speaker: id01109, Video: 8r79Vq-zBsk, Txt file: 00011\n"
     ]
    },
    {
     "name": "stderr",
     "output_type": "stream",
     "text": [
      "ERROR: [youtube] 8r79Vq-zBsk: Video unavailable\n"
     ]
    },
    {
     "name": "stdout",
     "output_type": "stream",
     "text": [
      "Speaker: id01109, Video: Qbvg48jB2RY, Txt file: 00024\n"
     ]
    },
    {
     "name": "stderr",
     "output_type": "stream",
     "text": [
      "ERROR: [youtube] Qbvg48jB2RY: Video unavailable. This video is no longer available due to a copyright claim by The Noble Family Trust\n"
     ]
    },
    {
     "name": "stdout",
     "output_type": "stream",
     "text": [
      "Speaker: id01109, Video: ga9dknzMI0A, Txt file: 00084\n"
     ]
    },
    {
     "name": "stderr",
     "output_type": "stream",
     "text": [
      "ERROR: [youtube] ga9dknzMI0A: Video unavailable\n"
     ]
    },
    {
     "name": "stdout",
     "output_type": "stream",
     "text": [
      "Speaker: id01109, Video: ga9dknzMI0A, Txt file: 00086\n"
     ]
    },
    {
     "name": "stderr",
     "output_type": "stream",
     "text": [
      "ERROR: [youtube] ga9dknzMI0A: Video unavailable\n"
     ]
    },
    {
     "name": "stdout",
     "output_type": "stream",
     "text": [
      "Speaker: id01109, Video: Qbvg48jB2RY, Txt file: 00022\n"
     ]
    },
    {
     "name": "stderr",
     "output_type": "stream",
     "text": [
      "ERROR: [youtube] Qbvg48jB2RY: Video unavailable. This video is no longer available due to a copyright claim by The Noble Family Trust\n"
     ]
    },
    {
     "name": "stdout",
     "output_type": "stream",
     "text": [
      "Speaker: id01109, Video: 8r79Vq-zBsk, Txt file: 00013\n"
     ]
    },
    {
     "name": "stderr",
     "output_type": "stream",
     "text": [
      "ERROR: [youtube] 8r79Vq-zBsk: Video unavailable\n"
     ]
    },
    {
     "name": "stdout",
     "output_type": "stream",
     "text": [
      "Speaker: id01109, Video: YYm8iWM6bec, Txt file: 00069\n",
      "[youtube] Extracting URL: https://www.youtube.com/watch?v=YYm8iWM6bec\n",
      "[youtube] YYm8iWM6bec: Downloading webpage\n",
      "[youtube] YYm8iWM6bec: Downloading tv client config\n",
      "[youtube] YYm8iWM6bec: Downloading player 5ae7d525\n",
      "[youtube] YYm8iWM6bec: Downloading tv player API JSON\n",
      "[youtube] YYm8iWM6bec: Downloading ios player API JSON\n",
      "[youtube] YYm8iWM6bec: Downloading m3u8 information\n",
      "[info] YYm8iWM6bec: Downloading 1 format(s): 140\n",
      "[download] Destination: id01109_1_YYm8iWM6bec_00069\n",
      "[download] 100% of    7.57MiB in 00:00:01 at 6.72MiB/s     \n",
      "[FixupM4a] Correcting container of \"id01109_1_YYm8iWM6bec_00069\"\n",
      "[ExtractAudio] Destination: id01109_1_YYm8iWM6bec_00069.mp3\n",
      "Deleting original file id01109_1_YYm8iWM6bec_00069 (pass -k to keep)\n",
      "Audio downloaded as id01109_1_YYm8iWM6bec_00069\n",
      "Trimmed audio saved as ../data/download_df_audio/id01109_1_YYm8iWM6bec_00069_cut.mp3\n",
      "Speaker: id01159, Video: tmzZTKMrW7Y, Txt file: 00252\n",
      "[youtube] Extracting URL: https://www.youtube.com/watch?v=tmzZTKMrW7Y\n",
      "[youtube] tmzZTKMrW7Y: Downloading webpage\n",
      "[youtube] tmzZTKMrW7Y: Downloading tv client config\n",
      "[youtube] tmzZTKMrW7Y: Downloading player 5ae7d525\n",
      "[youtube] tmzZTKMrW7Y: Downloading tv player API JSON\n",
      "[youtube] tmzZTKMrW7Y: Downloading ios player API JSON\n",
      "[youtube] tmzZTKMrW7Y: Downloading m3u8 information\n",
      "[info] tmzZTKMrW7Y: Downloading 1 format(s): 251\n",
      "[download] Destination: id01159_0_tmzZTKMrW7Y_00252\n",
      "[download] 100% of    4.36MiB in 00:00:00 at 10.12MiB/s  \n",
      "[ExtractAudio] Destination: id01159_0_tmzZTKMrW7Y_00252.mp3\n",
      "Deleting original file id01159_0_tmzZTKMrW7Y_00252 (pass -k to keep)\n",
      "Audio downloaded as id01159_0_tmzZTKMrW7Y_00252\n",
      "Trimmed audio saved as ../data/download_df_audio/id01159_0_tmzZTKMrW7Y_00252_cut.mp3\n",
      "Speaker: id01159, Video: oD9oh6hNxhA, Txt file: 00220\n",
      "[youtube] Extracting URL: https://www.youtube.com/watch?v=oD9oh6hNxhA\n",
      "[youtube] oD9oh6hNxhA: Downloading webpage\n",
      "[youtube] oD9oh6hNxhA: Downloading tv client config\n",
      "[youtube] oD9oh6hNxhA: Downloading player 5ae7d525\n",
      "[youtube] oD9oh6hNxhA: Downloading tv player API JSON\n",
      "[youtube] oD9oh6hNxhA: Downloading ios player API JSON\n",
      "[youtube] oD9oh6hNxhA: Downloading m3u8 information\n",
      "[info] oD9oh6hNxhA: Downloading 1 format(s): 140\n",
      "[download] Destination: id01159_1_oD9oh6hNxhA_00220\n",
      "[download] 100% of   47.97MiB in 00:00:04 at 11.98MiB/s    \n",
      "[FixupM4a] Correcting container of \"id01159_1_oD9oh6hNxhA_00220\"\n",
      "[ExtractAudio] Destination: id01159_1_oD9oh6hNxhA_00220.mp3\n",
      "Deleting original file id01159_1_oD9oh6hNxhA_00220 (pass -k to keep)\n",
      "Audio downloaded as id01159_1_oD9oh6hNxhA_00220\n",
      "Trimmed audio saved as ../data/download_df_audio/id01159_1_oD9oh6hNxhA_00220_cut.mp3\n",
      "Speaker: id01223, Video: 9sl3wrPxff8, Txt file: 00066\n"
     ]
    },
    {
     "name": "stderr",
     "output_type": "stream",
     "text": [
      "ERROR: [youtube] 9sl3wrPxff8: Video unavailable\n"
     ]
    },
    {
     "name": "stdout",
     "output_type": "stream",
     "text": [
      "Speaker: id01223, Video: MyE9W9BpzWM, Txt file: 00218\n",
      "[youtube] Extracting URL: https://www.youtube.com/watch?v=MyE9W9BpzWM\n",
      "[youtube] MyE9W9BpzWM: Downloading webpage\n",
      "[youtube] MyE9W9BpzWM: Downloading tv client config\n",
      "[youtube] MyE9W9BpzWM: Downloading player 5ae7d525\n",
      "[youtube] MyE9W9BpzWM: Downloading tv player API JSON\n",
      "[youtube] MyE9W9BpzWM: Downloading ios player API JSON\n",
      "[youtube] MyE9W9BpzWM: Downloading m3u8 information\n",
      "[info] MyE9W9BpzWM: Downloading 1 format(s): 140\n",
      "[download] Destination: id01223_0_MyE9W9BpzWM_00218\n",
      "[download] 100% of    7.10MiB in 00:00:01 at 4.50MiB/s   \n",
      "[FixupM4a] Correcting container of \"id01223_0_MyE9W9BpzWM_00218\"\n",
      "[ExtractAudio] Destination: id01223_0_MyE9W9BpzWM_00218.mp3\n",
      "Deleting original file id01223_0_MyE9W9BpzWM_00218 (pass -k to keep)\n",
      "Audio downloaded as id01223_0_MyE9W9BpzWM_00218\n",
      "Trimmed audio saved as ../data/download_df_audio/id01223_0_MyE9W9BpzWM_00218_cut.mp3\n",
      "Speaker: id01223, Video: sY526FUjQ6o, Txt file: 00460\n",
      "[youtube] Extracting URL: https://www.youtube.com/watch?v=sY526FUjQ6o\n",
      "[youtube] sY526FUjQ6o: Downloading webpage\n",
      "[youtube] sY526FUjQ6o: Downloading tv client config\n",
      "[youtube] sY526FUjQ6o: Downloading player 5ae7d525\n",
      "[youtube] sY526FUjQ6o: Downloading tv player API JSON\n",
      "[youtube] sY526FUjQ6o: Downloading ios player API JSON\n",
      "[youtube] sY526FUjQ6o: Downloading m3u8 information\n",
      "[info] sY526FUjQ6o: Downloading 1 format(s): 251\n",
      "[download] Destination: id01223_1_sY526FUjQ6o_00460\n",
      "[download] 100% of    6.99MiB in 00:00:01 at 6.11MiB/s     \n",
      "[ExtractAudio] Destination: id01223_1_sY526FUjQ6o_00460.mp3\n",
      "Deleting original file id01223_1_sY526FUjQ6o_00460 (pass -k to keep)\n",
      "Audio downloaded as id01223_1_sY526FUjQ6o_00460\n",
      "Trimmed audio saved as ../data/download_df_audio/id01223_1_sY526FUjQ6o_00460_cut.mp3\n",
      "Speaker: id01225, Video: 0poDMsP2ag4, Txt file: 00002\n",
      "[youtube] Extracting URL: https://www.youtube.com/watch?v=0poDMsP2ag4\n",
      "[youtube] 0poDMsP2ag4: Downloading webpage\n",
      "[youtube] 0poDMsP2ag4: Downloading tv client config\n",
      "[youtube] 0poDMsP2ag4: Downloading player 5ae7d525\n",
      "[youtube] 0poDMsP2ag4: Downloading tv player API JSON\n",
      "[youtube] 0poDMsP2ag4: Downloading ios player API JSON\n",
      "[youtube] 0poDMsP2ag4: Downloading m3u8 information\n",
      "[info] 0poDMsP2ag4: Downloading 1 format(s): 251\n",
      "[download] Destination: id01225_0_0poDMsP2ag4_00002\n",
      "[download] 100% of    4.12MiB in 00:00:00 at 7.36MiB/s   \n",
      "[ExtractAudio] Destination: id01225_0_0poDMsP2ag4_00002.mp3\n",
      "Deleting original file id01225_0_0poDMsP2ag4_00002 (pass -k to keep)\n",
      "Audio downloaded as id01225_0_0poDMsP2ag4_00002\n",
      "Trimmed audio saved as ../data/download_df_audio/id01225_0_0poDMsP2ag4_00002_cut.mp3\n",
      "Speaker: id01225, Video: B5EbdJXX4jc, Txt file: 00158\n",
      "[youtube] Extracting URL: https://www.youtube.com/watch?v=B5EbdJXX4jc\n",
      "[youtube] B5EbdJXX4jc: Downloading webpage\n",
      "[youtube] B5EbdJXX4jc: Downloading tv client config\n",
      "[youtube] B5EbdJXX4jc: Downloading player 5ae7d525\n",
      "[youtube] B5EbdJXX4jc: Downloading tv player API JSON\n",
      "[youtube] B5EbdJXX4jc: Downloading ios player API JSON\n",
      "[youtube] B5EbdJXX4jc: Downloading m3u8 information\n",
      "[info] B5EbdJXX4jc: Downloading 1 format(s): 251\n",
      "[download] Destination: id01225_1_B5EbdJXX4jc_00158\n",
      "[download] 100% of    8.97MiB in 00:00:00 at 11.63MiB/s  \n",
      "[ExtractAudio] Destination: id01225_1_B5EbdJXX4jc_00158.mp3\n",
      "Deleting original file id01225_1_B5EbdJXX4jc_00158 (pass -k to keep)\n",
      "Audio downloaded as id01225_1_B5EbdJXX4jc_00158\n",
      "Trimmed audio saved as ../data/download_df_audio/id01225_1_B5EbdJXX4jc_00158_cut.mp3\n",
      "Speaker: id01236, Video: ISkWH-1OrVY, Txt file: 00034\n",
      "[youtube] Extracting URL: https://www.youtube.com/watch?v=ISkWH-1OrVY\n",
      "[youtube] ISkWH-1OrVY: Downloading webpage\n",
      "[youtube] ISkWH-1OrVY: Downloading tv client config\n",
      "[youtube] ISkWH-1OrVY: Downloading player 5ae7d525\n",
      "[youtube] ISkWH-1OrVY: Downloading tv player API JSON\n",
      "[youtube] ISkWH-1OrVY: Downloading ios player API JSON\n",
      "[youtube] ISkWH-1OrVY: Downloading m3u8 information\n",
      "[info] ISkWH-1OrVY: Downloading 1 format(s): 251\n",
      "[download] Destination: id01236_0_ISkWH-1OrVY_00034\n",
      "[download] 100% of    2.96MiB in 00:00:00 at 8.74MiB/s   \n",
      "[ExtractAudio] Destination: id01236_0_ISkWH-1OrVY_00034.mp3\n",
      "Deleting original file id01236_0_ISkWH-1OrVY_00034 (pass -k to keep)\n",
      "Audio downloaded as id01236_0_ISkWH-1OrVY_00034\n",
      "Trimmed audio saved as ../data/download_df_audio/id01236_0_ISkWH-1OrVY_00034_cut.mp3\n",
      "Speaker: id01236, Video: IJZddnpzUB4, Txt file: 00027\n",
      "[youtube] Extracting URL: https://www.youtube.com/watch?v=IJZddnpzUB4\n",
      "[youtube] IJZddnpzUB4: Downloading webpage\n",
      "[youtube] IJZddnpzUB4: Downloading tv client config\n",
      "[youtube] IJZddnpzUB4: Downloading player 5ae7d525\n",
      "[youtube] IJZddnpzUB4: Downloading tv player API JSON\n",
      "[youtube] IJZddnpzUB4: Downloading ios player API JSON\n",
      "[youtube] IJZddnpzUB4: Downloading m3u8 information\n",
      "[info] IJZddnpzUB4: Downloading 1 format(s): 251\n",
      "[download] Destination: id01236_1_IJZddnpzUB4_00027\n",
      "[download] 100% of    2.93MiB in 00:00:00 at 7.95MiB/s   \n",
      "[ExtractAudio] Destination: id01236_1_IJZddnpzUB4_00027.mp3\n",
      "Deleting original file id01236_1_IJZddnpzUB4_00027 (pass -k to keep)\n",
      "Audio downloaded as id01236_1_IJZddnpzUB4_00027\n",
      "Trimmed audio saved as ../data/download_df_audio/id01236_1_IJZddnpzUB4_00027_cut.mp3\n",
      "Speaker: id01239, Video: wjSzH6ajIB4, Txt file: 00372\n",
      "[youtube] Extracting URL: https://www.youtube.com/watch?v=wjSzH6ajIB4\n",
      "[youtube] wjSzH6ajIB4: Downloading webpage\n",
      "[youtube] wjSzH6ajIB4: Downloading tv client config\n",
      "[youtube] wjSzH6ajIB4: Downloading player 5ae7d525\n",
      "[youtube] wjSzH6ajIB4: Downloading tv player API JSON\n",
      "[youtube] wjSzH6ajIB4: Downloading ios player API JSON\n",
      "[youtube] wjSzH6ajIB4: Downloading m3u8 information\n",
      "[info] wjSzH6ajIB4: Downloading 1 format(s): 251\n",
      "[download] Destination: id01239_0_wjSzH6ajIB4_00372\n",
      "[download] 100% of    6.14MiB in 00:00:00 at 8.60MiB/s   \n",
      "[ExtractAudio] Destination: id01239_0_wjSzH6ajIB4_00372.mp3\n",
      "Deleting original file id01239_0_wjSzH6ajIB4_00372 (pass -k to keep)\n",
      "Audio downloaded as id01239_0_wjSzH6ajIB4_00372\n",
      "Trimmed audio saved as ../data/download_df_audio/id01239_0_wjSzH6ajIB4_00372_cut.mp3\n",
      "Speaker: id01239, Video: 2uNUSdmBzO8, Txt file: 00040\n",
      "[youtube] Extracting URL: https://www.youtube.com/watch?v=2uNUSdmBzO8\n",
      "[youtube] 2uNUSdmBzO8: Downloading webpage\n",
      "[youtube] 2uNUSdmBzO8: Downloading tv client config\n",
      "[youtube] 2uNUSdmBzO8: Downloading player 5ae7d525\n",
      "[youtube] 2uNUSdmBzO8: Downloading tv player API JSON\n",
      "[youtube] 2uNUSdmBzO8: Downloading ios player API JSON\n",
      "[youtube] 2uNUSdmBzO8: Downloading m3u8 information\n",
      "[info] 2uNUSdmBzO8: Downloading 1 format(s): 251\n",
      "[download] Destination: id01239_1_2uNUSdmBzO8_00040\n",
      "[download] 100% of   22.77MiB in 00:00:02 at 10.74MiB/s    \n",
      "[ExtractAudio] Destination: id01239_1_2uNUSdmBzO8_00040.mp3\n",
      "Deleting original file id01239_1_2uNUSdmBzO8_00040 (pass -k to keep)\n",
      "Audio downloaded as id01239_1_2uNUSdmBzO8_00040\n",
      "Trimmed audio saved as ../data/download_df_audio/id01239_1_2uNUSdmBzO8_00040_cut.mp3\n",
      "Speaker: id01257, Video: 0obPe-uKz-M, Txt file: 00013\n"
     ]
    },
    {
     "name": "stderr",
     "output_type": "stream",
     "text": [
      "ERROR: [youtube] 0obPe-uKz-M: Video unavailable\n"
     ]
    },
    {
     "name": "stdout",
     "output_type": "stream",
     "text": [
      "Speaker: id01257, Video: 5Ntu87RZiNc, Txt file: 00020\n"
     ]
    },
    {
     "name": "stderr",
     "output_type": "stream",
     "text": [
      "ERROR: [youtube] 5Ntu87RZiNc: Video unavailable\n"
     ]
    },
    {
     "name": "stdout",
     "output_type": "stream",
     "text": [
      "Speaker: id01257, Video: uzB7rCuD5wA, Txt file: 00136\n",
      "[youtube] Extracting URL: https://www.youtube.com/watch?v=uzB7rCuD5wA\n",
      "[youtube] uzB7rCuD5wA: Downloading webpage\n",
      "[youtube] uzB7rCuD5wA: Downloading tv client config\n",
      "[youtube] uzB7rCuD5wA: Downloading player 5ae7d525\n",
      "[youtube] uzB7rCuD5wA: Downloading tv player API JSON\n",
      "[youtube] uzB7rCuD5wA: Downloading ios player API JSON\n",
      "[youtube] uzB7rCuD5wA: Downloading m3u8 information\n",
      "[info] uzB7rCuD5wA: Downloading 1 format(s): 140\n",
      "[download] Destination: id01257_0_uzB7rCuD5wA_00136\n",
      "[download] 100% of    4.75MiB in 00:00:00 at 11.20MiB/s  \n",
      "[FixupM4a] Correcting container of \"id01257_0_uzB7rCuD5wA_00136\"\n",
      "[ExtractAudio] Destination: id01257_0_uzB7rCuD5wA_00136.mp3\n",
      "Deleting original file id01257_0_uzB7rCuD5wA_00136 (pass -k to keep)\n",
      "Audio downloaded as id01257_0_uzB7rCuD5wA_00136\n",
      "Trimmed audio saved as ../data/download_df_audio/id01257_0_uzB7rCuD5wA_00136_cut.mp3\n",
      "Speaker: id01257, Video: qPWOSBfIOK0, Txt file: 00126\n",
      "[youtube] Extracting URL: https://www.youtube.com/watch?v=qPWOSBfIOK0\n",
      "[youtube] qPWOSBfIOK0: Downloading webpage\n",
      "[youtube] qPWOSBfIOK0: Downloading tv client config\n",
      "[youtube] qPWOSBfIOK0: Downloading player 5ae7d525\n",
      "[youtube] qPWOSBfIOK0: Downloading tv player API JSON\n",
      "[youtube] qPWOSBfIOK0: Downloading ios player API JSON\n",
      "[youtube] qPWOSBfIOK0: Downloading m3u8 information\n",
      "[info] qPWOSBfIOK0: Downloading 1 format(s): 140\n",
      "[download] Destination: id01257_1_qPWOSBfIOK0_00126\n",
      "[download] 100% of    1.02MiB in 00:00:00 at 2.12MiB/s   \n",
      "[FixupM4a] Correcting container of \"id01257_1_qPWOSBfIOK0_00126\"\n",
      "[ExtractAudio] Destination: id01257_1_qPWOSBfIOK0_00126.mp3\n",
      "Deleting original file id01257_1_qPWOSBfIOK0_00126 (pass -k to keep)\n",
      "Audio downloaded as id01257_1_qPWOSBfIOK0_00126\n",
      "Trimmed audio saved as ../data/download_df_audio/id01257_1_qPWOSBfIOK0_00126_cut.mp3\n",
      "Speaker: id01367, Video: 3XwXRz2ZkgY, Txt file: 00031\n"
     ]
    },
    {
     "name": "stderr",
     "output_type": "stream",
     "text": [
      "ERROR: [youtube] 3XwXRz2ZkgY: Video unavailable\n"
     ]
    },
    {
     "name": "stdout",
     "output_type": "stream",
     "text": [
      "Speaker: id01367, Video: 3XwXRz2ZkgY, Txt file: 00021\n"
     ]
    },
    {
     "name": "stderr",
     "output_type": "stream",
     "text": [
      "ERROR: [youtube] 3XwXRz2ZkgY: Video unavailable\n"
     ]
    },
    {
     "name": "stdout",
     "output_type": "stream",
     "text": [
      "Speaker: id01367, Video: 3TRAM1zVqGU, Txt file: 00004\n",
      "[youtube] Extracting URL: https://www.youtube.com/watch?v=3TRAM1zVqGU\n",
      "[youtube] 3TRAM1zVqGU: Downloading webpage\n",
      "[youtube] 3TRAM1zVqGU: Downloading tv client config\n",
      "[youtube] 3TRAM1zVqGU: Downloading player 5ae7d525\n",
      "[youtube] 3TRAM1zVqGU: Downloading tv player API JSON\n",
      "[youtube] 3TRAM1zVqGU: Downloading ios player API JSON\n",
      "[youtube] 3TRAM1zVqGU: Downloading m3u8 information\n",
      "[info] 3TRAM1zVqGU: Downloading 1 format(s): 251\n",
      "[download] Destination: id01367_0_3TRAM1zVqGU_00004\n",
      "[download] 100% of    2.64MiB in 00:00:00 at 3.11MiB/s   \n",
      "[ExtractAudio] Destination: id01367_0_3TRAM1zVqGU_00004.mp3\n",
      "Deleting original file id01367_0_3TRAM1zVqGU_00004 (pass -k to keep)\n",
      "Audio downloaded as id01367_0_3TRAM1zVqGU_00004\n",
      "Trimmed audio saved as ../data/download_df_audio/id01367_0_3TRAM1zVqGU_00004_cut.mp3\n",
      "Speaker: id01367, Video: E6nUgO6Ro8U, Txt file: 00069\n",
      "[youtube] Extracting URL: https://www.youtube.com/watch?v=E6nUgO6Ro8U\n",
      "[youtube] E6nUgO6Ro8U: Downloading webpage\n",
      "[youtube] E6nUgO6Ro8U: Downloading tv client config\n",
      "[youtube] E6nUgO6Ro8U: Downloading player 5ae7d525\n",
      "[youtube] E6nUgO6Ro8U: Downloading tv player API JSON\n",
      "[youtube] E6nUgO6Ro8U: Downloading ios player API JSON\n",
      "[youtube] E6nUgO6Ro8U: Downloading m3u8 information\n",
      "[info] E6nUgO6Ro8U: Downloading 1 format(s): 140\n",
      "[download] Destination: id01367_1_E6nUgO6Ro8U_00069\n",
      "[download] 100% of    3.32MiB in 00:00:00 at 3.67MiB/s   \n",
      "[FixupM4a] Correcting container of \"id01367_1_E6nUgO6Ro8U_00069\"\n",
      "[ExtractAudio] Destination: id01367_1_E6nUgO6Ro8U_00069.mp3\n",
      "Deleting original file id01367_1_E6nUgO6Ro8U_00069 (pass -k to keep)\n",
      "Audio downloaded as id01367_1_E6nUgO6Ro8U_00069\n",
      "Trimmed audio saved as ../data/download_df_audio/id01367_1_E6nUgO6Ro8U_00069_cut.mp3\n",
      "Speaker: id01539, Video: 6esTWXbg-U4, Txt file: 00079\n",
      "[youtube] Extracting URL: https://www.youtube.com/watch?v=6esTWXbg-U4\n",
      "[youtube] 6esTWXbg-U4: Downloading webpage\n",
      "[youtube] 6esTWXbg-U4: Downloading tv client config\n",
      "[youtube] 6esTWXbg-U4: Downloading player 5ae7d525\n",
      "[youtube] 6esTWXbg-U4: Downloading tv player API JSON\n",
      "[youtube] 6esTWXbg-U4: Downloading ios player API JSON\n",
      "[youtube] 6esTWXbg-U4: Downloading m3u8 information\n",
      "[info] 6esTWXbg-U4: Downloading 1 format(s): 251\n",
      "[download] Destination: id01539_0_6esTWXbg-U4_00079\n",
      "[download] 100% of    2.76MiB in 00:00:00 at 8.11MiB/s   \n",
      "[ExtractAudio] Destination: id01539_0_6esTWXbg-U4_00079.mp3\n",
      "Deleting original file id01539_0_6esTWXbg-U4_00079 (pass -k to keep)\n",
      "Audio downloaded as id01539_0_6esTWXbg-U4_00079\n",
      "Trimmed audio saved as ../data/download_df_audio/id01539_0_6esTWXbg-U4_00079_cut.mp3\n",
      "Speaker: id01539, Video: AqfZj6MW5xc, Txt file: 00147\n",
      "[youtube] Extracting URL: https://www.youtube.com/watch?v=AqfZj6MW5xc\n",
      "[youtube] AqfZj6MW5xc: Downloading webpage\n",
      "[youtube] AqfZj6MW5xc: Downloading tv client config\n",
      "[youtube] AqfZj6MW5xc: Downloading player 5ae7d525\n",
      "[youtube] AqfZj6MW5xc: Downloading tv player API JSON\n",
      "[youtube] AqfZj6MW5xc: Downloading ios player API JSON\n",
      "[youtube] AqfZj6MW5xc: Downloading m3u8 information\n",
      "[info] AqfZj6MW5xc: Downloading 1 format(s): 251\n",
      "[download] Destination: id01539_1_AqfZj6MW5xc_00147\n",
      "[download] 100% of    2.49MiB in 00:00:00 at 4.11MiB/s   \n",
      "[ExtractAudio] Destination: id01539_1_AqfZj6MW5xc_00147.mp3\n",
      "Deleting original file id01539_1_AqfZj6MW5xc_00147 (pass -k to keep)\n",
      "Audio downloaded as id01539_1_AqfZj6MW5xc_00147\n",
      "Trimmed audio saved as ../data/download_df_audio/id01539_1_AqfZj6MW5xc_00147_cut.mp3\n",
      "Speaker: id01568, Video: w6iWyiF-Sxc, Txt file: 00116\n"
     ]
    },
    {
     "name": "stderr",
     "output_type": "stream",
     "text": [
      "ERROR: [youtube] w6iWyiF-Sxc: Video unavailable\n"
     ]
    },
    {
     "name": "stdout",
     "output_type": "stream",
     "text": [
      "Speaker: id01568, Video: x7l0ouo_9xk, Txt file: 00121\n",
      "[youtube] Extracting URL: https://www.youtube.com/watch?v=x7l0ouo_9xk\n",
      "[youtube] x7l0ouo_9xk: Downloading webpage\n",
      "[youtube] x7l0ouo_9xk: Downloading tv client config\n",
      "[youtube] x7l0ouo_9xk: Downloading player 5ae7d525\n",
      "[youtube] x7l0ouo_9xk: Downloading tv player API JSON\n",
      "[youtube] x7l0ouo_9xk: Downloading ios player API JSON\n",
      "[youtube] x7l0ouo_9xk: Downloading MPD manifest\n",
      "[youtube] x7l0ouo_9xk: Downloading m3u8 information\n",
      "[youtube] x7l0ouo_9xk: Downloading MPD manifest\n",
      "[info] x7l0ouo_9xk: Downloading 1 format(s): 140\n",
      "[download] Destination: id01568_0_x7l0ouo_9xk_00121\n",
      "[download] 100% of    5.65MiB in 00:00:01 at 5.11MiB/s   \n",
      "[FixupM4a] Correcting container of \"id01568_0_x7l0ouo_9xk_00121\"\n",
      "[ExtractAudio] Destination: id01568_0_x7l0ouo_9xk_00121.mp3\n",
      "Deleting original file id01568_0_x7l0ouo_9xk_00121 (pass -k to keep)\n",
      "Audio downloaded as id01568_0_x7l0ouo_9xk_00121\n",
      "Trimmed audio saved as ../data/download_df_audio/id01568_0_x7l0ouo_9xk_00121_cut.mp3\n",
      "Speaker: id01568, Video: c3-1V5jVVjQ, Txt file: 00078\n",
      "[youtube] Extracting URL: https://www.youtube.com/watch?v=c3-1V5jVVjQ\n",
      "[youtube] c3-1V5jVVjQ: Downloading webpage\n",
      "[youtube] c3-1V5jVVjQ: Downloading tv client config\n",
      "[youtube] c3-1V5jVVjQ: Downloading player 5ae7d525\n",
      "[youtube] c3-1V5jVVjQ: Downloading tv player API JSON\n",
      "[youtube] c3-1V5jVVjQ: Downloading ios player API JSON\n",
      "[youtube] c3-1V5jVVjQ: Downloading m3u8 information\n",
      "[info] c3-1V5jVVjQ: Downloading 1 format(s): 140\n",
      "[download] Destination: id01568_1_c3-1V5jVVjQ_00078\n",
      "[download] 100% of    2.69MiB in 00:00:01 at 2.36MiB/s   \n",
      "[FixupM4a] Correcting container of \"id01568_1_c3-1V5jVVjQ_00078\"\n",
      "[ExtractAudio] Destination: id01568_1_c3-1V5jVVjQ_00078.mp3\n",
      "Deleting original file id01568_1_c3-1V5jVVjQ_00078 (pass -k to keep)\n",
      "Audio downloaded as id01568_1_c3-1V5jVVjQ_00078\n",
      "Trimmed audio saved as ../data/download_df_audio/id01568_1_c3-1V5jVVjQ_00078_cut.mp3\n",
      "Speaker: id01570, Video: 7TxSs045O64, Txt file: 00096\n",
      "[youtube] Extracting URL: https://www.youtube.com/watch?v=7TxSs045O64\n",
      "[youtube] 7TxSs045O64: Downloading webpage\n",
      "[youtube] 7TxSs045O64: Downloading tv client config\n",
      "[youtube] 7TxSs045O64: Downloading player 5ae7d525\n",
      "[youtube] 7TxSs045O64: Downloading tv player API JSON\n",
      "[youtube] 7TxSs045O64: Downloading ios player API JSON\n",
      "[youtube] 7TxSs045O64: Downloading m3u8 information\n",
      "[info] 7TxSs045O64: Downloading 1 format(s): 251\n",
      "[download] Destination: id01570_0_7TxSs045O64_00096\n",
      "[download] 100% of    4.69MiB in 00:00:01 at 4.54MiB/s   \n",
      "[ExtractAudio] Destination: id01570_0_7TxSs045O64_00096.mp3\n",
      "Deleting original file id01570_0_7TxSs045O64_00096 (pass -k to keep)\n",
      "Audio downloaded as id01570_0_7TxSs045O64_00096\n",
      "Trimmed audio saved as ../data/download_df_audio/id01570_0_7TxSs045O64_00096_cut.mp3\n",
      "Speaker: id01570, Video: iHPxtPVfwRI, Txt file: 00273\n",
      "[youtube] Extracting URL: https://www.youtube.com/watch?v=iHPxtPVfwRI\n",
      "[youtube] iHPxtPVfwRI: Downloading webpage\n",
      "[youtube] iHPxtPVfwRI: Downloading tv client config\n",
      "[youtube] iHPxtPVfwRI: Downloading player 5ae7d525\n",
      "[youtube] iHPxtPVfwRI: Downloading tv player API JSON\n",
      "[youtube] iHPxtPVfwRI: Downloading ios player API JSON\n",
      "[youtube] iHPxtPVfwRI: Downloading m3u8 information\n",
      "[info] iHPxtPVfwRI: Downloading 1 format(s): 140\n",
      "[download] Destination: id01570_1_iHPxtPVfwRI_00273\n",
      "[download] 100% of    2.72MiB in 00:00:00 at 3.37MiB/s   \n",
      "[FixupM4a] Correcting container of \"id01570_1_iHPxtPVfwRI_00273\"\n",
      "[ExtractAudio] Destination: id01570_1_iHPxtPVfwRI_00273.mp3\n",
      "Deleting original file id01570_1_iHPxtPVfwRI_00273 (pass -k to keep)\n",
      "Audio downloaded as id01570_1_iHPxtPVfwRI_00273\n",
      "Trimmed audio saved as ../data/download_df_audio/id01570_1_iHPxtPVfwRI_00273_cut.mp3\n",
      "Speaker: id01580, Video: luMWdHEM_mk, Txt file: 00223\n"
     ]
    },
    {
     "name": "stderr",
     "output_type": "stream",
     "text": [
      "ERROR: [youtube] luMWdHEM_mk: Video unavailable. This video is no longer available because the YouTube account associated with this video has been terminated.\n"
     ]
    },
    {
     "name": "stdout",
     "output_type": "stream",
     "text": [
      "Speaker: id01580, Video: e2hpKsVGxSk, Txt file: 00159\n"
     ]
    },
    {
     "name": "stderr",
     "output_type": "stream",
     "text": [
      "ERROR: [youtube] e2hpKsVGxSk: This video has been removed for violating YouTube's Terms of Service\n"
     ]
    },
    {
     "name": "stdout",
     "output_type": "stream",
     "text": [
      "Speaker: id01580, Video: qJz_52tVKIg, Txt file: 00239\n"
     ]
    },
    {
     "name": "stderr",
     "output_type": "stream",
     "text": [
      "ERROR: [youtube] qJz_52tVKIg: Video unavailable\n"
     ]
    },
    {
     "name": "stdout",
     "output_type": "stream",
     "text": [
      "Speaker: id01580, Video: luMWdHEM_mk, Txt file: 00187\n"
     ]
    },
    {
     "name": "stderr",
     "output_type": "stream",
     "text": [
      "ERROR: [youtube] luMWdHEM_mk: Video unavailable. This video is no longer available because the YouTube account associated with this video has been terminated.\n"
     ]
    },
    {
     "name": "stdout",
     "output_type": "stream",
     "text": [
      "Speaker: id01580, Video: luMWdHEM_mk, Txt file: 00180\n"
     ]
    },
    {
     "name": "stderr",
     "output_type": "stream",
     "text": [
      "ERROR: [youtube] luMWdHEM_mk: Video unavailable. This video is no longer available because the YouTube account associated with this video has been terminated.\n"
     ]
    },
    {
     "name": "stdout",
     "output_type": "stream",
     "text": [
      "Speaker: id01580, Video: luMWdHEM_mk, Txt file: 00196\n"
     ]
    },
    {
     "name": "stderr",
     "output_type": "stream",
     "text": [
      "ERROR: [youtube] luMWdHEM_mk: Video unavailable. This video is no longer available because the YouTube account associated with this video has been terminated.\n"
     ]
    },
    {
     "name": "stdout",
     "output_type": "stream",
     "text": [
      "Speaker: id01580, Video: BIfzhZQYDCQ, Txt file: 00039\n"
     ]
    },
    {
     "name": "stderr",
     "output_type": "stream",
     "text": [
      "ERROR: [youtube] BIfzhZQYDCQ: Video unavailable. This video is no longer available because the YouTube account associated with this video has been terminated.\n"
     ]
    },
    {
     "name": "stdout",
     "output_type": "stream",
     "text": [
      "Speaker: id01580, Video: KElEAuvs4-M, Txt file: 00097\n",
      "[youtube] Extracting URL: https://www.youtube.com/watch?v=KElEAuvs4-M\n",
      "[youtube] KElEAuvs4-M: Downloading webpage\n",
      "[youtube] KElEAuvs4-M: Downloading tv client config\n",
      "[youtube] KElEAuvs4-M: Downloading player 5ae7d525\n",
      "[youtube] KElEAuvs4-M: Downloading tv player API JSON\n",
      "[youtube] KElEAuvs4-M: Downloading ios player API JSON\n",
      "[youtube] KElEAuvs4-M: Downloading m3u8 information\n",
      "[info] KElEAuvs4-M: Downloading 1 format(s): 251\n",
      "[download] Destination: id01580_0_KElEAuvs4-M_00097\n",
      "[download] 100% of   15.35MiB in 00:00:05 at 2.57MiB/s     \n",
      "[ExtractAudio] Destination: id01580_0_KElEAuvs4-M_00097.mp3\n",
      "Deleting original file id01580_0_KElEAuvs4-M_00097 (pass -k to keep)\n",
      "Audio downloaded as id01580_0_KElEAuvs4-M_00097\n",
      "Trimmed audio saved as ../data/download_df_audio/id01580_0_KElEAuvs4-M_00097_cut.mp3\n",
      "Speaker: id01580, Video: luMWdHEM_mk, Txt file: 00174\n"
     ]
    },
    {
     "name": "stderr",
     "output_type": "stream",
     "text": [
      "ERROR: [youtube] luMWdHEM_mk: Video unavailable. This video is no longer available because the YouTube account associated with this video has been terminated.\n"
     ]
    },
    {
     "name": "stdout",
     "output_type": "stream",
     "text": [
      "Speaker: id01580, Video: LKn0w8NI9Ak, Txt file: 00123\n",
      "[youtube] Extracting URL: https://www.youtube.com/watch?v=LKn0w8NI9Ak\n",
      "[youtube] LKn0w8NI9Ak: Downloading webpage\n",
      "[youtube] LKn0w8NI9Ak: Downloading tv client config\n",
      "[youtube] LKn0w8NI9Ak: Downloading player 5ae7d525\n",
      "[youtube] LKn0w8NI9Ak: Downloading tv player API JSON\n",
      "[youtube] LKn0w8NI9Ak: Downloading ios player API JSON\n",
      "[youtube] LKn0w8NI9Ak: Downloading m3u8 information\n",
      "[info] LKn0w8NI9Ak: Downloading 1 format(s): 251\n",
      "[download] Destination: id01580_1_LKn0w8NI9Ak_00123\n",
      "[download] 100% of   15.86MiB in 00:00:03 at 3.99MiB/s     \n",
      "[ExtractAudio] Destination: id01580_1_LKn0w8NI9Ak_00123.mp3\n",
      "Deleting original file id01580_1_LKn0w8NI9Ak_00123 (pass -k to keep)\n",
      "Audio downloaded as id01580_1_LKn0w8NI9Ak_00123\n",
      "Trimmed audio saved as ../data/download_df_audio/id01580_1_LKn0w8NI9Ak_00123_cut.mp3\n",
      "Speaker: id01585, Video: vL1UDuxyl8c, Txt file: 00194\n",
      "[youtube] Extracting URL: https://www.youtube.com/watch?v=vL1UDuxyl8c\n",
      "[youtube] vL1UDuxyl8c: Downloading webpage\n",
      "[youtube] vL1UDuxyl8c: Downloading tv client config\n",
      "[youtube] vL1UDuxyl8c: Downloading player 5ae7d525\n",
      "[youtube] vL1UDuxyl8c: Downloading tv player API JSON\n",
      "[youtube] vL1UDuxyl8c: Downloading ios player API JSON\n",
      "[youtube] vL1UDuxyl8c: Downloading m3u8 information\n",
      "[info] vL1UDuxyl8c: Downloading 1 format(s): 140\n",
      "[download] Destination: id01585_0_vL1UDuxyl8c_00194\n",
      "[download] 100% of    5.15MiB in 00:00:01 at 3.13MiB/s   \n",
      "[FixupM4a] Correcting container of \"id01585_0_vL1UDuxyl8c_00194\"\n",
      "[ExtractAudio] Destination: id01585_0_vL1UDuxyl8c_00194.mp3\n",
      "Deleting original file id01585_0_vL1UDuxyl8c_00194 (pass -k to keep)\n",
      "Audio downloaded as id01585_0_vL1UDuxyl8c_00194\n",
      "Trimmed audio saved as ../data/download_df_audio/id01585_0_vL1UDuxyl8c_00194_cut.mp3\n",
      "Speaker: id01585, Video: Xi3JCpzPyLI, Txt file: 00145\n",
      "[youtube] Extracting URL: https://www.youtube.com/watch?v=Xi3JCpzPyLI\n",
      "[youtube] Xi3JCpzPyLI: Downloading webpage\n",
      "[youtube] Xi3JCpzPyLI: Downloading tv client config\n",
      "[youtube] Xi3JCpzPyLI: Downloading player 5ae7d525\n",
      "[youtube] Xi3JCpzPyLI: Downloading tv player API JSON\n",
      "[youtube] Xi3JCpzPyLI: Downloading ios player API JSON\n",
      "[youtube] Xi3JCpzPyLI: Downloading m3u8 information\n",
      "[info] Xi3JCpzPyLI: Downloading 1 format(s): 140\n",
      "[download] Destination: id01585_1_Xi3JCpzPyLI_00145\n",
      "[download] 100% of    3.23MiB in 00:00:02 at 1.18MiB/s   \n",
      "[FixupM4a] Correcting container of \"id01585_1_Xi3JCpzPyLI_00145\"\n",
      "[ExtractAudio] Destination: id01585_1_Xi3JCpzPyLI_00145.mp3\n",
      "Deleting original file id01585_1_Xi3JCpzPyLI_00145 (pass -k to keep)\n",
      "Audio downloaded as id01585_1_Xi3JCpzPyLI_00145\n",
      "Trimmed audio saved as ../data/download_df_audio/id01585_1_Xi3JCpzPyLI_00145_cut.mp3\n",
      "Speaker: id01648, Video: 1U99gp6v1tQ, Txt file: 00020\n"
     ]
    },
    {
     "name": "stderr",
     "output_type": "stream",
     "text": [
      "ERROR: [youtube] 1U99gp6v1tQ: Video unavailable. The uploader has not made this video available in your country\n"
     ]
    },
    {
     "name": "stdout",
     "output_type": "stream",
     "text": [
      "Speaker: id01648, Video: vTG1kcsFH3Y, Txt file: 00420\n",
      "[youtube] Extracting URL: https://www.youtube.com/watch?v=vTG1kcsFH3Y\n",
      "[youtube] vTG1kcsFH3Y: Downloading webpage\n",
      "[youtube] vTG1kcsFH3Y: Downloading tv client config\n",
      "[youtube] vTG1kcsFH3Y: Downloading player 5ae7d525\n",
      "[youtube] vTG1kcsFH3Y: Downloading tv player API JSON\n",
      "[youtube] vTG1kcsFH3Y: Downloading ios player API JSON\n",
      "[youtube] vTG1kcsFH3Y: Downloading m3u8 information\n",
      "[info] vTG1kcsFH3Y: Downloading 1 format(s): 251\n",
      "[download] Destination: id01648_0_vTG1kcsFH3Y_00420\n",
      "[download] 100% of    4.19MiB in 00:00:00 at 6.50MiB/s   \n",
      "[ExtractAudio] Destination: id01648_0_vTG1kcsFH3Y_00420.mp3\n",
      "Deleting original file id01648_0_vTG1kcsFH3Y_00420 (pass -k to keep)\n",
      "Audio downloaded as id01648_0_vTG1kcsFH3Y_00420\n",
      "Trimmed audio saved as ../data/download_df_audio/id01648_0_vTG1kcsFH3Y_00420_cut.mp3\n",
      "Speaker: id01648, Video: IMZ-HcnNq8U, Txt file: 00156\n",
      "[youtube] Extracting URL: https://www.youtube.com/watch?v=IMZ-HcnNq8U\n",
      "[youtube] IMZ-HcnNq8U: Downloading webpage\n",
      "[youtube] IMZ-HcnNq8U: Downloading tv client config\n",
      "[youtube] IMZ-HcnNq8U: Downloading player 5ae7d525\n",
      "[youtube] IMZ-HcnNq8U: Downloading tv player API JSON\n",
      "[youtube] IMZ-HcnNq8U: Downloading ios player API JSON\n",
      "[youtube] IMZ-HcnNq8U: Downloading m3u8 information\n",
      "[info] IMZ-HcnNq8U: Downloading 1 format(s): 140\n",
      "[download] Destination: id01648_1_IMZ-HcnNq8U_00156\n",
      "[download] 100% of    4.45MiB in 00:00:00 at 6.38MiB/s   \n",
      "[FixupM4a] Correcting container of \"id01648_1_IMZ-HcnNq8U_00156\"\n",
      "[ExtractAudio] Destination: id01648_1_IMZ-HcnNq8U_00156.mp3\n",
      "Deleting original file id01648_1_IMZ-HcnNq8U_00156 (pass -k to keep)\n",
      "Audio downloaded as id01648_1_IMZ-HcnNq8U_00156\n",
      "Trimmed audio saved as ../data/download_df_audio/id01648_1_IMZ-HcnNq8U_00156_cut.mp3\n",
      "Speaker: id01677, Video: 0evQ-LRm3cs, Txt file: 00014\n",
      "[youtube] Extracting URL: https://www.youtube.com/watch?v=0evQ-LRm3cs\n",
      "[youtube] 0evQ-LRm3cs: Downloading webpage\n",
      "[youtube] 0evQ-LRm3cs: Downloading tv client config\n",
      "[youtube] 0evQ-LRm3cs: Downloading player 5ae7d525\n",
      "[youtube] 0evQ-LRm3cs: Downloading tv player API JSON\n",
      "[youtube] 0evQ-LRm3cs: Downloading ios player API JSON\n",
      "[youtube] 0evQ-LRm3cs: Downloading m3u8 information\n",
      "[info] 0evQ-LRm3cs: Downloading 1 format(s): 140\n",
      "[download] Destination: id01677_0_0evQ-LRm3cs_00014\n",
      "[download] 100% of    6.52MiB in 00:00:01 at 3.37MiB/s   \n",
      "[FixupM4a] Correcting container of \"id01677_0_0evQ-LRm3cs_00014\"\n",
      "[ExtractAudio] Destination: id01677_0_0evQ-LRm3cs_00014.mp3\n",
      "Deleting original file id01677_0_0evQ-LRm3cs_00014 (pass -k to keep)\n",
      "Audio downloaded as id01677_0_0evQ-LRm3cs_00014\n",
      "Trimmed audio saved as ../data/download_df_audio/id01677_0_0evQ-LRm3cs_00014_cut.mp3\n",
      "Speaker: id01677, Video: IEescTqaL1Q, Txt file: 00067\n",
      "[youtube] Extracting URL: https://www.youtube.com/watch?v=IEescTqaL1Q\n",
      "[youtube] IEescTqaL1Q: Downloading webpage\n",
      "[youtube] IEescTqaL1Q: Downloading tv client config\n",
      "[youtube] IEescTqaL1Q: Downloading player 5ae7d525\n",
      "[youtube] IEescTqaL1Q: Downloading tv player API JSON\n",
      "[youtube] IEescTqaL1Q: Downloading ios player API JSON\n",
      "[youtube] IEescTqaL1Q: Downloading m3u8 information\n",
      "[info] IEescTqaL1Q: Downloading 1 format(s): 251\n",
      "[download] Destination: id01677_1_IEescTqaL1Q_00067\n",
      "[download] 100% of    9.00MiB in 00:00:00 at 13.77MiB/s  \n",
      "[ExtractAudio] Destination: id01677_1_IEescTqaL1Q_00067.mp3\n",
      "Deleting original file id01677_1_IEescTqaL1Q_00067 (pass -k to keep)\n",
      "Audio downloaded as id01677_1_IEescTqaL1Q_00067\n",
      "Trimmed audio saved as ../data/download_df_audio/id01677_1_IEescTqaL1Q_00067_cut.mp3\n",
      "Speaker: id01768, Video: jJRfNMl-Yd0, Txt file: 00267\n",
      "[youtube] Extracting URL: https://www.youtube.com/watch?v=jJRfNMl-Yd0\n",
      "[youtube] jJRfNMl-Yd0: Downloading webpage\n",
      "[youtube] jJRfNMl-Yd0: Downloading tv client config\n",
      "[youtube] jJRfNMl-Yd0: Downloading player 5ae7d525\n",
      "[youtube] jJRfNMl-Yd0: Downloading tv player API JSON\n",
      "[youtube] jJRfNMl-Yd0: Downloading ios player API JSON\n",
      "[youtube] jJRfNMl-Yd0: Downloading m3u8 information\n",
      "[info] jJRfNMl-Yd0: Downloading 1 format(s): 251\n",
      "[download] Destination: id01768_0_jJRfNMl-Yd0_00267\n",
      "[download] 100% of    4.84MiB in 00:00:01 at 3.18MiB/s   \n",
      "[ExtractAudio] Destination: id01768_0_jJRfNMl-Yd0_00267.mp3\n",
      "Deleting original file id01768_0_jJRfNMl-Yd0_00267 (pass -k to keep)\n",
      "Audio downloaded as id01768_0_jJRfNMl-Yd0_00267\n",
      "Trimmed audio saved as ../data/download_df_audio/id01768_0_jJRfNMl-Yd0_00267_cut.mp3\n",
      "Speaker: id01768, Video: K8z1POQrjjQ, Txt file: 00138\n",
      "[youtube] Extracting URL: https://www.youtube.com/watch?v=K8z1POQrjjQ\n",
      "[youtube] K8z1POQrjjQ: Downloading webpage\n",
      "[youtube] K8z1POQrjjQ: Downloading tv client config\n",
      "[youtube] K8z1POQrjjQ: Downloading player 5ae7d525\n",
      "[youtube] K8z1POQrjjQ: Downloading tv player API JSON\n",
      "[youtube] K8z1POQrjjQ: Downloading ios player API JSON\n",
      "[youtube] K8z1POQrjjQ: Downloading m3u8 information\n",
      "[info] K8z1POQrjjQ: Downloading 1 format(s): 251\n",
      "[download] Destination: id01768_1_K8z1POQrjjQ_00138\n",
      "[download] 100% of    4.17MiB in 00:00:00 at 5.80MiB/s   \n",
      "[ExtractAudio] Destination: id01768_1_K8z1POQrjjQ_00138.mp3\n",
      "Deleting original file id01768_1_K8z1POQrjjQ_00138 (pass -k to keep)\n",
      "Audio downloaded as id01768_1_K8z1POQrjjQ_00138\n",
      "Trimmed audio saved as ../data/download_df_audio/id01768_1_K8z1POQrjjQ_00138_cut.mp3\n",
      "Speaker: id01776, Video: m1mTvPh_HEc, Txt file: 00346\n"
     ]
    },
    {
     "name": "stderr",
     "output_type": "stream",
     "text": [
      "ERROR: [youtube] m1mTvPh_HEc: Video unavailable. This video is no longer available because the YouTube account associated with this video has been terminated.\n"
     ]
    },
    {
     "name": "stdout",
     "output_type": "stream",
     "text": [
      "Speaker: id01776, Video: IPNNpBed_lQ, Txt file: 00118\n"
     ]
    },
    {
     "name": "stderr",
     "output_type": "stream",
     "text": [
      "ERROR: [youtube] IPNNpBed_lQ: Video unavailable\n"
     ]
    },
    {
     "name": "stdout",
     "output_type": "stream",
     "text": [
      "Speaker: id01776, Video: Xfx8_xay-s4, Txt file: 00260\n"
     ]
    },
    {
     "name": "stderr",
     "output_type": "stream",
     "text": [
      "ERROR: [youtube] Xfx8_xay-s4: Video unavailable\n"
     ]
    },
    {
     "name": "stdout",
     "output_type": "stream",
     "text": [
      "Speaker: id01776, Video: Xfx8_xay-s4, Txt file: 00286\n"
     ]
    },
    {
     "name": "stderr",
     "output_type": "stream",
     "text": [
      "ERROR: [youtube] Xfx8_xay-s4: Video unavailable\n"
     ]
    },
    {
     "name": "stdout",
     "output_type": "stream",
     "text": [
      "Speaker: id01776, Video: l6BF5lFb-Fg, Txt file: 00332\n",
      "[youtube] Extracting URL: https://www.youtube.com/watch?v=l6BF5lFb-Fg\n",
      "[youtube] l6BF5lFb-Fg: Downloading webpage\n",
      "[youtube] l6BF5lFb-Fg: Downloading tv client config\n",
      "[youtube] l6BF5lFb-Fg: Downloading player 5ae7d525\n",
      "[youtube] l6BF5lFb-Fg: Downloading tv player API JSON\n",
      "[youtube] l6BF5lFb-Fg: Downloading ios player API JSON\n",
      "[youtube] l6BF5lFb-Fg: Downloading m3u8 information\n",
      "[info] l6BF5lFb-Fg: Downloading 1 format(s): 140\n",
      "[download] Destination: id01776_0_l6BF5lFb-Fg_00332\n",
      "[download] 100% of    3.40MiB in 00:00:00 at 6.62MiB/s   \n",
      "[FixupM4a] Correcting container of \"id01776_0_l6BF5lFb-Fg_00332\"\n",
      "[ExtractAudio] Destination: id01776_0_l6BF5lFb-Fg_00332.mp3\n",
      "Deleting original file id01776_0_l6BF5lFb-Fg_00332 (pass -k to keep)\n",
      "Audio downloaded as id01776_0_l6BF5lFb-Fg_00332\n",
      "Trimmed audio saved as ../data/download_df_audio/id01776_0_l6BF5lFb-Fg_00332_cut.mp3\n",
      "Speaker: id01776, Video: ul4nQjbPuYc, Txt file: 00440\n",
      "[youtube] Extracting URL: https://www.youtube.com/watch?v=ul4nQjbPuYc\n",
      "[youtube] ul4nQjbPuYc: Downloading webpage\n",
      "[youtube] ul4nQjbPuYc: Downloading tv client config\n",
      "[youtube] ul4nQjbPuYc: Downloading player 5ae7d525\n",
      "[youtube] ul4nQjbPuYc: Downloading tv player API JSON\n",
      "[youtube] ul4nQjbPuYc: Downloading ios player API JSON\n",
      "[youtube] ul4nQjbPuYc: Downloading m3u8 information\n",
      "[info] ul4nQjbPuYc: Downloading 1 format(s): 140\n",
      "[download] Destination: id01776_1_ul4nQjbPuYc_00440\n",
      "[download] 100% of    7.98MiB in 00:00:01 at 5.65MiB/s   \n",
      "[FixupM4a] Correcting container of \"id01776_1_ul4nQjbPuYc_00440\"\n",
      "[ExtractAudio] Destination: id01776_1_ul4nQjbPuYc_00440.mp3\n",
      "Deleting original file id01776_1_ul4nQjbPuYc_00440 (pass -k to keep)\n",
      "Audio downloaded as id01776_1_ul4nQjbPuYc_00440\n",
      "Trimmed audio saved as ../data/download_df_audio/id01776_1_ul4nQjbPuYc_00440_cut.mp3\n",
      "Speaker: id01777, Video: ttAbFhnIVog, Txt file: 00194\n",
      "[youtube] Extracting URL: https://www.youtube.com/watch?v=ttAbFhnIVog\n",
      "[youtube] ttAbFhnIVog: Downloading webpage\n",
      "[youtube] ttAbFhnIVog: Downloading tv client config\n",
      "[youtube] ttAbFhnIVog: Downloading player 5ae7d525\n",
      "[youtube] ttAbFhnIVog: Downloading tv player API JSON\n",
      "[youtube] ttAbFhnIVog: Downloading ios player API JSON\n",
      "[youtube] ttAbFhnIVog: Downloading m3u8 information\n",
      "[info] ttAbFhnIVog: Downloading 1 format(s): 251\n",
      "[download] Destination: id01777_0_ttAbFhnIVog_00194\n",
      "[download] 100% of    4.95MiB in 00:00:01 at 4.57MiB/s     \n",
      "[ExtractAudio] Destination: id01777_0_ttAbFhnIVog_00194.mp3\n",
      "Deleting original file id01777_0_ttAbFhnIVog_00194 (pass -k to keep)\n",
      "Audio downloaded as id01777_0_ttAbFhnIVog_00194\n",
      "Trimmed audio saved as ../data/download_df_audio/id01777_0_ttAbFhnIVog_00194_cut.mp3\n",
      "Speaker: id01777, Video: ycqsOIasy08, Txt file: 00251\n",
      "[youtube] Extracting URL: https://www.youtube.com/watch?v=ycqsOIasy08\n",
      "[youtube] ycqsOIasy08: Downloading webpage\n",
      "[youtube] ycqsOIasy08: Downloading tv client config\n",
      "[youtube] ycqsOIasy08: Downloading player 5ae7d525\n",
      "[youtube] ycqsOIasy08: Downloading tv player API JSON\n",
      "[youtube] ycqsOIasy08: Downloading ios player API JSON\n",
      "[youtube] ycqsOIasy08: Downloading m3u8 information\n",
      "[info] ycqsOIasy08: Downloading 1 format(s): 251\n",
      "[download] Destination: id01777_1_ycqsOIasy08_00251\n",
      "[download] 100% of    6.02MiB in 00:00:00 at 7.64MiB/s   \n",
      "[ExtractAudio] Destination: id01777_1_ycqsOIasy08_00251.mp3\n",
      "Deleting original file id01777_1_ycqsOIasy08_00251 (pass -k to keep)\n",
      "Audio downloaded as id01777_1_ycqsOIasy08_00251\n",
      "Trimmed audio saved as ../data/download_df_audio/id01777_1_ycqsOIasy08_00251_cut.mp3\n",
      "Speaker: id01906, Video: einOJJuN7uM, Txt file: 00366\n",
      "[youtube] Extracting URL: https://www.youtube.com/watch?v=einOJJuN7uM\n",
      "[youtube] einOJJuN7uM: Downloading webpage\n",
      "[youtube] einOJJuN7uM: Downloading tv client config\n",
      "[youtube] einOJJuN7uM: Downloading player 5ae7d525\n",
      "[youtube] einOJJuN7uM: Downloading tv player API JSON\n",
      "[youtube] einOJJuN7uM: Downloading ios player API JSON\n",
      "[youtube] einOJJuN7uM: Downloading m3u8 information\n",
      "[info] einOJJuN7uM: Downloading 1 format(s): 251\n",
      "[download] Destination: id01906_0_einOJJuN7uM_00366\n",
      "[download] 100% of    6.62MiB in 00:00:01 at 4.26MiB/s   \n",
      "[ExtractAudio] Destination: id01906_0_einOJJuN7uM_00366.mp3\n",
      "Deleting original file id01906_0_einOJJuN7uM_00366 (pass -k to keep)\n",
      "Audio downloaded as id01906_0_einOJJuN7uM_00366\n",
      "Trimmed audio saved as ../data/download_df_audio/id01906_0_einOJJuN7uM_00366_cut.mp3\n",
      "Speaker: id01906, Video: 7Bg9t39zeYE, Txt file: 00136\n",
      "[youtube] Extracting URL: https://www.youtube.com/watch?v=7Bg9t39zeYE\n",
      "[youtube] 7Bg9t39zeYE: Downloading webpage\n",
      "[youtube] 7Bg9t39zeYE: Downloading tv client config\n",
      "[youtube] 7Bg9t39zeYE: Downloading player 5ae7d525\n",
      "[youtube] 7Bg9t39zeYE: Downloading tv player API JSON\n",
      "[youtube] 7Bg9t39zeYE: Downloading ios player API JSON\n",
      "[youtube] 7Bg9t39zeYE: Downloading m3u8 information\n",
      "[info] 7Bg9t39zeYE: Downloading 1 format(s): 140\n",
      "[download] Destination: id01906_1_7Bg9t39zeYE_00136\n",
      "[download] 100% of    9.42MiB in 00:00:00 at 10.19MiB/s  \n",
      "[FixupM4a] Correcting container of \"id01906_1_7Bg9t39zeYE_00136\"\n",
      "[ExtractAudio] Destination: id01906_1_7Bg9t39zeYE_00136.mp3\n",
      "Deleting original file id01906_1_7Bg9t39zeYE_00136 (pass -k to keep)\n",
      "Audio downloaded as id01906_1_7Bg9t39zeYE_00136\n",
      "Trimmed audio saved as ../data/download_df_audio/id01906_1_7Bg9t39zeYE_00136_cut.mp3\n",
      "Speaker: id01975, Video: 5jvVZSMzSCI, Txt file: 00032\n",
      "[youtube] Extracting URL: https://www.youtube.com/watch?v=5jvVZSMzSCI\n",
      "[youtube] 5jvVZSMzSCI: Downloading webpage\n",
      "[youtube] 5jvVZSMzSCI: Downloading tv client config\n",
      "[youtube] 5jvVZSMzSCI: Downloading player 5ae7d525\n",
      "[youtube] 5jvVZSMzSCI: Downloading tv player API JSON\n",
      "[youtube] 5jvVZSMzSCI: Downloading ios player API JSON\n",
      "[youtube] 5jvVZSMzSCI: Downloading m3u8 information\n",
      "[info] 5jvVZSMzSCI: Downloading 1 format(s): 140\n",
      "[download] Destination: id01975_0_5jvVZSMzSCI_00032\n",
      "[download] 100% of    2.56MiB in 00:00:01 at 2.40MiB/s   \n",
      "[FixupM4a] Correcting container of \"id01975_0_5jvVZSMzSCI_00032\"\n",
      "[ExtractAudio] Destination: id01975_0_5jvVZSMzSCI_00032.mp3\n",
      "Deleting original file id01975_0_5jvVZSMzSCI_00032 (pass -k to keep)\n",
      "Audio downloaded as id01975_0_5jvVZSMzSCI_00032\n",
      "Trimmed audio saved as ../data/download_df_audio/id01975_0_5jvVZSMzSCI_00032_cut.mp3\n",
      "Speaker: id01975, Video: MQXmhd2zX1A, Txt file: 00125\n",
      "[youtube] Extracting URL: https://www.youtube.com/watch?v=MQXmhd2zX1A\n",
      "[youtube] MQXmhd2zX1A: Downloading webpage\n",
      "[youtube] MQXmhd2zX1A: Downloading tv client config\n",
      "[youtube] MQXmhd2zX1A: Downloading player 5ae7d525\n",
      "[youtube] MQXmhd2zX1A: Downloading tv player API JSON\n",
      "[youtube] MQXmhd2zX1A: Downloading ios player API JSON\n",
      "[youtube] MQXmhd2zX1A: Downloading m3u8 information\n",
      "[info] MQXmhd2zX1A: Downloading 1 format(s): 251\n",
      "[download] Destination: id01975_1_MQXmhd2zX1A_00125\n",
      "[download] 100% of    2.47MiB in 00:00:00 at 3.07MiB/s   \n",
      "[ExtractAudio] Destination: id01975_1_MQXmhd2zX1A_00125.mp3\n",
      "Deleting original file id01975_1_MQXmhd2zX1A_00125 (pass -k to keep)\n",
      "Audio downloaded as id01975_1_MQXmhd2zX1A_00125\n",
      "Trimmed audio saved as ../data/download_df_audio/id01975_1_MQXmhd2zX1A_00125_cut.mp3\n",
      "Speaker: id02007, Video: hcIMMBT50s8, Txt file: 00166\n",
      "[youtube] Extracting URL: https://www.youtube.com/watch?v=hcIMMBT50s8\n",
      "[youtube] hcIMMBT50s8: Downloading webpage\n",
      "[youtube] hcIMMBT50s8: Downloading tv client config\n",
      "[youtube] hcIMMBT50s8: Downloading player 5ae7d525\n",
      "[youtube] hcIMMBT50s8: Downloading tv player API JSON\n",
      "[youtube] hcIMMBT50s8: Downloading ios player API JSON\n",
      "[youtube] hcIMMBT50s8: Downloading m3u8 information\n",
      "[info] hcIMMBT50s8: Downloading 1 format(s): 251\n",
      "[download] Destination: id02007_0_hcIMMBT50s8_00166\n",
      "[download] 100% of    2.88MiB in 00:00:00 at 7.10MiB/s   \n",
      "[ExtractAudio] Destination: id02007_0_hcIMMBT50s8_00166.mp3\n",
      "Deleting original file id02007_0_hcIMMBT50s8_00166 (pass -k to keep)\n",
      "Audio downloaded as id02007_0_hcIMMBT50s8_00166\n",
      "Trimmed audio saved as ../data/download_df_audio/id02007_0_hcIMMBT50s8_00166_cut.mp3\n",
      "Speaker: id02007, Video: 4Mi07t_1h5g, Txt file: 00024\n",
      "[youtube] Extracting URL: https://www.youtube.com/watch?v=4Mi07t_1h5g\n",
      "[youtube] 4Mi07t_1h5g: Downloading webpage\n",
      "[youtube] 4Mi07t_1h5g: Downloading tv client config\n",
      "[youtube] 4Mi07t_1h5g: Downloading player 5ae7d525\n",
      "[youtube] 4Mi07t_1h5g: Downloading tv player API JSON\n",
      "[youtube] 4Mi07t_1h5g: Downloading ios player API JSON\n",
      "[youtube] 4Mi07t_1h5g: Downloading m3u8 information\n",
      "[info] 4Mi07t_1h5g: Downloading 1 format(s): 251\n",
      "[download] Destination: id02007_1_4Mi07t_1h5g_00024\n",
      "[download] 100% of    8.00MiB in 00:00:00 at 8.84MiB/s   \n",
      "[ExtractAudio] Destination: id02007_1_4Mi07t_1h5g_00024.mp3\n",
      "Deleting original file id02007_1_4Mi07t_1h5g_00024 (pass -k to keep)\n",
      "Audio downloaded as id02007_1_4Mi07t_1h5g_00024\n",
      "Trimmed audio saved as ../data/download_df_audio/id02007_1_4Mi07t_1h5g_00024_cut.mp3\n",
      "Speaker: id02121, Video: bpm6K4g_r7w, Txt file: 00129\n",
      "[youtube] Extracting URL: https://www.youtube.com/watch?v=bpm6K4g_r7w\n",
      "[youtube] bpm6K4g_r7w: Downloading webpage\n",
      "[youtube] bpm6K4g_r7w: Downloading tv client config\n",
      "[youtube] bpm6K4g_r7w: Downloading player 5ae7d525\n",
      "[youtube] bpm6K4g_r7w: Downloading tv player API JSON\n",
      "[youtube] bpm6K4g_r7w: Downloading ios player API JSON\n",
      "[youtube] bpm6K4g_r7w: Downloading m3u8 information\n",
      "[info] bpm6K4g_r7w: Downloading 1 format(s): 140\n",
      "[download] Destination: id02121_0_bpm6K4g_r7w_00129\n",
      "[download] 100% of    6.69MiB in 00:00:01 at 4.47MiB/s   \n",
      "[FixupM4a] Correcting container of \"id02121_0_bpm6K4g_r7w_00129\"\n",
      "[ExtractAudio] Destination: id02121_0_bpm6K4g_r7w_00129.mp3\n",
      "Deleting original file id02121_0_bpm6K4g_r7w_00129 (pass -k to keep)\n",
      "Audio downloaded as id02121_0_bpm6K4g_r7w_00129\n",
      "Trimmed audio saved as ../data/download_df_audio/id02121_0_bpm6K4g_r7w_00129_cut.mp3\n",
      "Speaker: id02121, Video: MpTZydIb0ck, Txt file: 00096\n",
      "[youtube] Extracting URL: https://www.youtube.com/watch?v=MpTZydIb0ck\n",
      "[youtube] MpTZydIb0ck: Downloading webpage\n",
      "[youtube] MpTZydIb0ck: Downloading tv client config\n",
      "[youtube] MpTZydIb0ck: Downloading player 5ae7d525\n",
      "[youtube] MpTZydIb0ck: Downloading tv player API JSON\n",
      "[youtube] MpTZydIb0ck: Downloading ios player API JSON\n",
      "[youtube] MpTZydIb0ck: Downloading m3u8 information\n",
      "[info] MpTZydIb0ck: Downloading 1 format(s): 140\n",
      "[download] Destination: id02121_1_MpTZydIb0ck_00096\n",
      "[download] 100% of    4.60MiB in 00:00:00 at 9.10MiB/s   \n",
      "[FixupM4a] Correcting container of \"id02121_1_MpTZydIb0ck_00096\"\n",
      "[ExtractAudio] Destination: id02121_1_MpTZydIb0ck_00096.mp3\n",
      "Deleting original file id02121_1_MpTZydIb0ck_00096 (pass -k to keep)\n",
      "Audio downloaded as id02121_1_MpTZydIb0ck_00096\n",
      "Trimmed audio saved as ../data/download_df_audio/id02121_1_MpTZydIb0ck_00096_cut.mp3\n",
      "Speaker: id02139, Video: Z5ml_2E9RhE, Txt file: 00087\n",
      "[youtube] Extracting URL: https://www.youtube.com/watch?v=Z5ml_2E9RhE\n",
      "[youtube] Z5ml_2E9RhE: Downloading webpage\n",
      "[youtube] Z5ml_2E9RhE: Downloading tv client config\n",
      "[youtube] Z5ml_2E9RhE: Downloading player 5ae7d525\n",
      "[youtube] Z5ml_2E9RhE: Downloading tv player API JSON\n",
      "[youtube] Z5ml_2E9RhE: Downloading ios player API JSON\n",
      "[youtube] Z5ml_2E9RhE: Downloading m3u8 information\n",
      "[info] Z5ml_2E9RhE: Downloading 1 format(s): 140\n",
      "[download] Destination: id02139_0_Z5ml_2E9RhE_00087\n",
      "[download] 100% of    3.19MiB in 00:00:02 at 1.57MiB/s   \n",
      "[FixupM4a] Correcting container of \"id02139_0_Z5ml_2E9RhE_00087\"\n",
      "[ExtractAudio] Destination: id02139_0_Z5ml_2E9RhE_00087.mp3\n",
      "Deleting original file id02139_0_Z5ml_2E9RhE_00087 (pass -k to keep)\n",
      "Audio downloaded as id02139_0_Z5ml_2E9RhE_00087\n",
      "Trimmed audio saved as ../data/download_df_audio/id02139_0_Z5ml_2E9RhE_00087_cut.mp3\n",
      "Speaker: id02139, Video: OGkBZ7aCaYk, Txt file: 00069\n",
      "[youtube] Extracting URL: https://www.youtube.com/watch?v=OGkBZ7aCaYk\n",
      "[youtube] OGkBZ7aCaYk: Downloading webpage\n",
      "[youtube] OGkBZ7aCaYk: Downloading tv client config\n",
      "[youtube] OGkBZ7aCaYk: Downloading player 5ae7d525\n",
      "[youtube] OGkBZ7aCaYk: Downloading tv player API JSON\n",
      "[youtube] OGkBZ7aCaYk: Downloading ios player API JSON\n",
      "[youtube] OGkBZ7aCaYk: Downloading m3u8 information\n",
      "[info] OGkBZ7aCaYk: Downloading 1 format(s): 140\n",
      "[download] Destination: id02139_1_OGkBZ7aCaYk_00069\n",
      "[download] 100% of    2.15MiB in 00:00:00 at 3.13MiB/s   \n",
      "[FixupM4a] Correcting container of \"id02139_1_OGkBZ7aCaYk_00069\"\n",
      "[ExtractAudio] Destination: id02139_1_OGkBZ7aCaYk_00069.mp3\n",
      "Deleting original file id02139_1_OGkBZ7aCaYk_00069 (pass -k to keep)\n",
      "Audio downloaded as id02139_1_OGkBZ7aCaYk_00069\n",
      "Trimmed audio saved as ../data/download_df_audio/id02139_1_OGkBZ7aCaYk_00069_cut.mp3\n",
      "Speaker: id02156, Video: r47R8rPBxnc, Txt file: 00395\n",
      "[youtube] Extracting URL: https://www.youtube.com/watch?v=r47R8rPBxnc\n",
      "[youtube] r47R8rPBxnc: Downloading webpage\n",
      "[youtube] r47R8rPBxnc: Downloading tv client config\n",
      "[youtube] r47R8rPBxnc: Downloading player 5ae7d525\n",
      "[youtube] r47R8rPBxnc: Downloading tv player API JSON\n",
      "[youtube] r47R8rPBxnc: Downloading ios player API JSON\n",
      "[youtube] r47R8rPBxnc: Downloading m3u8 information\n",
      "[info] r47R8rPBxnc: Downloading 1 format(s): 140\n",
      "[download] Destination: id02156_0_r47R8rPBxnc_00395\n",
      "[download] 100% of  854.40KiB in 00:00:00 at 1.31MiB/s     \n",
      "[FixupM4a] Correcting container of \"id02156_0_r47R8rPBxnc_00395\"\n",
      "[ExtractAudio] Destination: id02156_0_r47R8rPBxnc_00395.mp3\n",
      "Deleting original file id02156_0_r47R8rPBxnc_00395 (pass -k to keep)\n",
      "Audio downloaded as id02156_0_r47R8rPBxnc_00395\n",
      "Trimmed audio saved as ../data/download_df_audio/id02156_0_r47R8rPBxnc_00395_cut.mp3\n",
      "Speaker: id02156, Video: jE5_6Nh9xys, Txt file: 00376\n",
      "[youtube] Extracting URL: https://www.youtube.com/watch?v=jE5_6Nh9xys\n",
      "[youtube] jE5_6Nh9xys: Downloading webpage\n",
      "[youtube] jE5_6Nh9xys: Downloading tv client config\n",
      "[youtube] jE5_6Nh9xys: Downloading player 5ae7d525\n",
      "[youtube] jE5_6Nh9xys: Downloading tv player API JSON\n",
      "[youtube] jE5_6Nh9xys: Downloading ios player API JSON\n",
      "[youtube] jE5_6Nh9xys: Downloading m3u8 information\n",
      "[info] jE5_6Nh9xys: Downloading 1 format(s): 140\n",
      "[download] Destination: id02156_1_jE5_6Nh9xys_00376\n",
      "[download] 100% of    6.10MiB in 00:00:03 at 1.88MiB/s   \n",
      "[FixupM4a] Correcting container of \"id02156_1_jE5_6Nh9xys_00376\"\n",
      "[ExtractAudio] Destination: id02156_1_jE5_6Nh9xys_00376.mp3\n",
      "Deleting original file id02156_1_jE5_6Nh9xys_00376 (pass -k to keep)\n",
      "Audio downloaded as id02156_1_jE5_6Nh9xys_00376\n",
      "Trimmed audio saved as ../data/download_df_audio/id02156_1_jE5_6Nh9xys_00376_cut.mp3\n",
      "Speaker: id02164, Video: YDTl7wOEhJA, Txt file: 00078\n",
      "[youtube] Extracting URL: https://www.youtube.com/watch?v=YDTl7wOEhJA\n",
      "[youtube] YDTl7wOEhJA: Downloading webpage\n",
      "[youtube] YDTl7wOEhJA: Downloading tv client config\n",
      "[youtube] YDTl7wOEhJA: Downloading player 5ae7d525\n",
      "[youtube] YDTl7wOEhJA: Downloading tv player API JSON\n",
      "[youtube] YDTl7wOEhJA: Downloading ios player API JSON\n",
      "[youtube] YDTl7wOEhJA: Downloading m3u8 information\n",
      "[info] YDTl7wOEhJA: Downloading 1 format(s): 140\n",
      "[download] Destination: id02164_0_YDTl7wOEhJA_00078\n",
      "[download] 100% of    9.35MiB in 00:00:01 at 4.96MiB/s   \n",
      "[FixupM4a] Correcting container of \"id02164_0_YDTl7wOEhJA_00078\"\n",
      "[ExtractAudio] Destination: id02164_0_YDTl7wOEhJA_00078.mp3\n",
      "Deleting original file id02164_0_YDTl7wOEhJA_00078 (pass -k to keep)\n",
      "Audio downloaded as id02164_0_YDTl7wOEhJA_00078\n",
      "Trimmed audio saved as ../data/download_df_audio/id02164_0_YDTl7wOEhJA_00078_cut.mp3\n",
      "Speaker: id02164, Video: Jxue4_A2lRU, Txt file: 00049\n",
      "[youtube] Extracting URL: https://www.youtube.com/watch?v=Jxue4_A2lRU\n",
      "[youtube] Jxue4_A2lRU: Downloading webpage\n",
      "[youtube] Jxue4_A2lRU: Downloading tv client config\n",
      "[youtube] Jxue4_A2lRU: Downloading player 5ae7d525\n",
      "[youtube] Jxue4_A2lRU: Downloading tv player API JSON\n",
      "[youtube] Jxue4_A2lRU: Downloading ios player API JSON\n",
      "[youtube] Jxue4_A2lRU: Downloading m3u8 information\n",
      "[info] Jxue4_A2lRU: Downloading 1 format(s): 140\n",
      "[download] Destination: id02164_1_Jxue4_A2lRU_00049\n",
      "[download] 100% of   15.16MiB in 00:00:03 at 4.23MiB/s     \n",
      "[FixupM4a] Correcting container of \"id02164_1_Jxue4_A2lRU_00049\"\n",
      "[ExtractAudio] Destination: id02164_1_Jxue4_A2lRU_00049.mp3\n",
      "Deleting original file id02164_1_Jxue4_A2lRU_00049 (pass -k to keep)\n",
      "Audio downloaded as id02164_1_Jxue4_A2lRU_00049\n",
      "Trimmed audio saved as ../data/download_df_audio/id02164_1_Jxue4_A2lRU_00049_cut.mp3\n",
      "Speaker: id02168, Video: ANqCq0cj0fw, Txt file: 00007\n"
     ]
    },
    {
     "name": "stderr",
     "output_type": "stream",
     "text": [
      "ERROR: [youtube] ANqCq0cj0fw: Video unavailable. This video is no longer available because the YouTube account associated with this video has been terminated.\n"
     ]
    },
    {
     "name": "stdout",
     "output_type": "stream",
     "text": [
      "Speaker: id02168, Video: V5jq_zXU68o, Txt file: 00025\n"
     ]
    },
    {
     "name": "stderr",
     "output_type": "stream",
     "text": [
      "ERROR: [youtube] V5jq_zXU68o: Video unavailable. This video is no longer available because the YouTube account associated with this video has been terminated.\n"
     ]
    },
    {
     "name": "stdout",
     "output_type": "stream",
     "text": [
      "Speaker: id02168, Video: tg8IuXmDUpU, Txt file: 00042\n"
     ]
    },
    {
     "name": "stderr",
     "output_type": "stream",
     "text": [
      "ERROR: [youtube] tg8IuXmDUpU: Private video. Sign in if you've been granted access to this video. Use --cookies-from-browser or --cookies for the authentication. See  https://github.com/yt-dlp/yt-dlp/wiki/FAQ#how-do-i-pass-cookies-to-yt-dlp  for how to manually pass cookies. Also see  https://github.com/yt-dlp/yt-dlp/wiki/Extractors#exporting-youtube-cookies  for tips on effectively exporting YouTube cookies\n"
     ]
    },
    {
     "name": "stdout",
     "output_type": "stream",
     "text": [
      "Speaker: id02168, Video: i7W_bThGEqw, Txt file: 00030\n"
     ]
    },
    {
     "name": "stderr",
     "output_type": "stream",
     "text": [
      "ERROR: [youtube] i7W_bThGEqw: Private video. Sign in if you've been granted access to this video. Use --cookies-from-browser or --cookies for the authentication. See  https://github.com/yt-dlp/yt-dlp/wiki/FAQ#how-do-i-pass-cookies-to-yt-dlp  for how to manually pass cookies. Also see  https://github.com/yt-dlp/yt-dlp/wiki/Extractors#exporting-youtube-cookies  for tips on effectively exporting YouTube cookies\n"
     ]
    },
    {
     "name": "stdout",
     "output_type": "stream",
     "text": [
      "Speaker: id02168, Video: QqNI9aRUb3k, Txt file: 00021\n"
     ]
    },
    {
     "name": "stderr",
     "output_type": "stream",
     "text": [
      "ERROR: [youtube] QqNI9aRUb3k: Sign in to confirm your age. This video may be inappropriate for some users. Use --cookies-from-browser or --cookies for the authentication. See  https://github.com/yt-dlp/yt-dlp/wiki/FAQ#how-do-i-pass-cookies-to-yt-dlp  for how to manually pass cookies. Also see  https://github.com/yt-dlp/yt-dlp/wiki/Extractors#exporting-youtube-cookies  for tips on effectively exporting YouTube cookies\n"
     ]
    },
    {
     "name": "stdout",
     "output_type": "stream",
     "text": [
      "Speaker: id02168, Video: tg8IuXmDUpU, Txt file: 00048\n"
     ]
    },
    {
     "name": "stderr",
     "output_type": "stream",
     "text": [
      "ERROR: [youtube] tg8IuXmDUpU: Private video. Sign in if you've been granted access to this video. Use --cookies-from-browser or --cookies for the authentication. See  https://github.com/yt-dlp/yt-dlp/wiki/FAQ#how-do-i-pass-cookies-to-yt-dlp  for how to manually pass cookies. Also see  https://github.com/yt-dlp/yt-dlp/wiki/Extractors#exporting-youtube-cookies  for tips on effectively exporting YouTube cookies\n"
     ]
    },
    {
     "name": "stdout",
     "output_type": "stream",
     "text": [
      "Speaker: id02168, Video: rmsfh_FQWG0, Txt file: 00041\n",
      "[youtube] Extracting URL: https://www.youtube.com/watch?v=rmsfh_FQWG0\n",
      "[youtube] rmsfh_FQWG0: Downloading webpage\n",
      "[youtube] rmsfh_FQWG0: Downloading tv client config\n",
      "[youtube] rmsfh_FQWG0: Downloading player 5ae7d525\n",
      "[youtube] rmsfh_FQWG0: Downloading tv player API JSON\n",
      "[youtube] rmsfh_FQWG0: Downloading ios player API JSON\n",
      "[youtube] rmsfh_FQWG0: Downloading m3u8 information\n",
      "[info] rmsfh_FQWG0: Downloading 1 format(s): 251\n",
      "[download] Destination: id02168_0_rmsfh_FQWG0_00041\n",
      "[download] 100% of   75.70MiB in 00:00:18 at 4.14MiB/s     \n",
      "[ExtractAudio] Destination: id02168_0_rmsfh_FQWG0_00041.mp3\n",
      "Deleting original file id02168_0_rmsfh_FQWG0_00041 (pass -k to keep)\n",
      "Audio downloaded as id02168_0_rmsfh_FQWG0_00041\n",
      "Trimmed audio saved as ../data/download_df_audio/id02168_0_rmsfh_FQWG0_00041_cut.mp3\n",
      "Speaker: id02168, Video: kWKbeWfFZYs, Txt file: 00035\n"
     ]
    },
    {
     "name": "stderr",
     "output_type": "stream",
     "text": [
      "ERROR: [youtube] kWKbeWfFZYs: Private video. Sign in if you've been granted access to this video. Use --cookies-from-browser or --cookies for the authentication. See  https://github.com/yt-dlp/yt-dlp/wiki/FAQ#how-do-i-pass-cookies-to-yt-dlp  for how to manually pass cookies. Also see  https://github.com/yt-dlp/yt-dlp/wiki/Extractors#exporting-youtube-cookies  for tips on effectively exporting YouTube cookies\n"
     ]
    },
    {
     "name": "stdout",
     "output_type": "stream",
     "text": [
      "Speaker: id02168, Video: tg8IuXmDUpU, Txt file: 00043\n"
     ]
    },
    {
     "name": "stderr",
     "output_type": "stream",
     "text": [
      "ERROR: [youtube] tg8IuXmDUpU: Private video. Sign in if you've been granted access to this video. Use --cookies-from-browser or --cookies for the authentication. See  https://github.com/yt-dlp/yt-dlp/wiki/FAQ#how-do-i-pass-cookies-to-yt-dlp  for how to manually pass cookies. Also see  https://github.com/yt-dlp/yt-dlp/wiki/Extractors#exporting-youtube-cookies  for tips on effectively exporting YouTube cookies\n"
     ]
    },
    {
     "name": "stdout",
     "output_type": "stream",
     "text": [
      "Speaker: id02168, Video: i7W_bThGEqw, Txt file: 00031\n"
     ]
    },
    {
     "name": "stderr",
     "output_type": "stream",
     "text": [
      "ERROR: [youtube] i7W_bThGEqw: Private video. Sign in if you've been granted access to this video. Use --cookies-from-browser or --cookies for the authentication. See  https://github.com/yt-dlp/yt-dlp/wiki/FAQ#how-do-i-pass-cookies-to-yt-dlp  for how to manually pass cookies. Also see  https://github.com/yt-dlp/yt-dlp/wiki/Extractors#exporting-youtube-cookies  for tips on effectively exporting YouTube cookies\n"
     ]
    },
    {
     "name": "stdout",
     "output_type": "stream",
     "text": [
      "Speaker: id02168, Video: kWKbeWfFZYs, Txt file: 00036\n"
     ]
    },
    {
     "name": "stderr",
     "output_type": "stream",
     "text": [
      "ERROR: [youtube] kWKbeWfFZYs: Private video. Sign in if you've been granted access to this video. Use --cookies-from-browser or --cookies for the authentication. See  https://github.com/yt-dlp/yt-dlp/wiki/FAQ#how-do-i-pass-cookies-to-yt-dlp  for how to manually pass cookies. Also see  https://github.com/yt-dlp/yt-dlp/wiki/Extractors#exporting-youtube-cookies  for tips on effectively exporting YouTube cookies\n"
     ]
    },
    {
     "name": "stdout",
     "output_type": "stream",
     "text": [
      "Speaker: id02168, Video: ANqCq0cj0fw, Txt file: 00001\n"
     ]
    },
    {
     "name": "stderr",
     "output_type": "stream",
     "text": [
      "ERROR: [youtube] ANqCq0cj0fw: Video unavailable. This video is no longer available because the YouTube account associated with this video has been terminated.\n"
     ]
    },
    {
     "name": "stdout",
     "output_type": "stream",
     "text": [
      "Speaker: id02168, Video: tg8IuXmDUpU, Txt file: 00045\n"
     ]
    },
    {
     "name": "stderr",
     "output_type": "stream",
     "text": [
      "ERROR: [youtube] tg8IuXmDUpU: Private video. Sign in if you've been granted access to this video. Use --cookies-from-browser or --cookies for the authentication. See  https://github.com/yt-dlp/yt-dlp/wiki/FAQ#how-do-i-pass-cookies-to-yt-dlp  for how to manually pass cookies. Also see  https://github.com/yt-dlp/yt-dlp/wiki/Extractors#exporting-youtube-cookies  for tips on effectively exporting YouTube cookies\n"
     ]
    },
    {
     "name": "stdout",
     "output_type": "stream",
     "text": [
      "Speaker: id02168, Video: E5otmIIefXs, Txt file: 00015\n",
      "[youtube] Extracting URL: https://www.youtube.com/watch?v=E5otmIIefXs\n",
      "[youtube] E5otmIIefXs: Downloading webpage\n",
      "[youtube] E5otmIIefXs: Downloading tv client config\n",
      "[youtube] E5otmIIefXs: Downloading player 5ae7d525\n",
      "[youtube] E5otmIIefXs: Downloading tv player API JSON\n",
      "[youtube] E5otmIIefXs: Downloading ios player API JSON\n",
      "[youtube] E5otmIIefXs: Downloading m3u8 information\n",
      "[info] E5otmIIefXs: Downloading 1 format(s): 140\n",
      "[download] Destination: id02168_1_E5otmIIefXs_00015\n",
      "[download] 100% of    1.78MiB in 00:00:00 at 2.13MiB/s   \n",
      "[FixupM4a] Correcting container of \"id02168_1_E5otmIIefXs_00015\"\n",
      "[ExtractAudio] Destination: id02168_1_E5otmIIefXs_00015.mp3\n",
      "Deleting original file id02168_1_E5otmIIefXs_00015 (pass -k to keep)\n",
      "Audio downloaded as id02168_1_E5otmIIefXs_00015\n",
      "Trimmed audio saved as ../data/download_df_audio/id02168_1_E5otmIIefXs_00015_cut.mp3\n",
      "Speaker: id02179, Video: xtJz9fWsXWg, Txt file: 00355\n"
     ]
    },
    {
     "name": "stderr",
     "output_type": "stream",
     "text": [
      "ERROR: [youtube] xtJz9fWsXWg: Video unavailable. This video is no longer available because the YouTube account associated with this video has been terminated.\n"
     ]
    },
    {
     "name": "stdout",
     "output_type": "stream",
     "text": [
      "Speaker: id02179, Video: 5AUNIpNpFko, Txt file: 00032\n",
      "[youtube] Extracting URL: https://www.youtube.com/watch?v=5AUNIpNpFko\n",
      "[youtube] 5AUNIpNpFko: Downloading webpage\n",
      "[youtube] 5AUNIpNpFko: Downloading tv client config\n",
      "[youtube] 5AUNIpNpFko: Downloading player 5ae7d525\n",
      "[youtube] 5AUNIpNpFko: Downloading tv player API JSON\n",
      "[youtube] 5AUNIpNpFko: Downloading ios player API JSON\n",
      "[youtube] 5AUNIpNpFko: Downloading m3u8 information\n",
      "[info] 5AUNIpNpFko: Downloading 1 format(s): 251\n",
      "[download] Destination: id02179_0_5AUNIpNpFko_00032\n",
      "[download] 100% of    2.25MiB in 00:00:01 at 2.12MiB/s   \n",
      "[ExtractAudio] Destination: id02179_0_5AUNIpNpFko_00032.mp3\n",
      "Deleting original file id02179_0_5AUNIpNpFko_00032 (pass -k to keep)\n",
      "Audio downloaded as id02179_0_5AUNIpNpFko_00032\n",
      "Trimmed audio saved as ../data/download_df_audio/id02179_0_5AUNIpNpFko_00032_cut.mp3\n",
      "Speaker: id02179, Video: yWlb7DmSXZM, Txt file: 00399\n"
     ]
    },
    {
     "name": "stderr",
     "output_type": "stream",
     "text": [
      "ERROR: [youtube] yWlb7DmSXZM: Video unavailable\n"
     ]
    },
    {
     "name": "stdout",
     "output_type": "stream",
     "text": [
      "Speaker: id02179, Video: RlB6RPI7U8o, Txt file: 00181\n"
     ]
    },
    {
     "name": "stderr",
     "output_type": "stream",
     "text": [
      "ERROR: [youtube] RlB6RPI7U8o: Video unavailable. This video is no longer available because the YouTube account associated with this video has been terminated.\n"
     ]
    },
    {
     "name": "stdout",
     "output_type": "stream",
     "text": [
      "Speaker: id02179, Video: rEHqqCrlWHM, Txt file: 00313\n",
      "[youtube] Extracting URL: https://www.youtube.com/watch?v=rEHqqCrlWHM\n",
      "[youtube] rEHqqCrlWHM: Downloading webpage\n",
      "[youtube] rEHqqCrlWHM: Downloading tv client config\n",
      "[youtube] rEHqqCrlWHM: Downloading player 5ae7d525\n",
      "[youtube] rEHqqCrlWHM: Downloading tv player API JSON\n",
      "[youtube] rEHqqCrlWHM: Downloading ios player API JSON\n",
      "[youtube] rEHqqCrlWHM: Downloading m3u8 information\n",
      "[info] rEHqqCrlWHM: Downloading 1 format(s): 140\n",
      "[download] Destination: id02179_1_rEHqqCrlWHM_00313\n",
      "[download] 100% of    7.75MiB in 00:00:01 at 4.43MiB/s   \n",
      "[FixupM4a] Correcting container of \"id02179_1_rEHqqCrlWHM_00313\"\n",
      "[ExtractAudio] Destination: id02179_1_rEHqqCrlWHM_00313.mp3\n",
      "Deleting original file id02179_1_rEHqqCrlWHM_00313 (pass -k to keep)\n",
      "Audio downloaded as id02179_1_rEHqqCrlWHM_00313\n",
      "Trimmed audio saved as ../data/download_df_audio/id02179_1_rEHqqCrlWHM_00313_cut.mp3\n",
      "Speaker: id02264, Video: emRDnRDGwlk, Txt file: 00194\n"
     ]
    },
    {
     "name": "stderr",
     "output_type": "stream",
     "text": [
      "ERROR: [youtube] emRDnRDGwlk: Private video. Sign in if you've been granted access to this video. Use --cookies-from-browser or --cookies for the authentication. See  https://github.com/yt-dlp/yt-dlp/wiki/FAQ#how-do-i-pass-cookies-to-yt-dlp  for how to manually pass cookies. Also see  https://github.com/yt-dlp/yt-dlp/wiki/Extractors#exporting-youtube-cookies  for tips on effectively exporting YouTube cookies\n"
     ]
    },
    {
     "name": "stdout",
     "output_type": "stream",
     "text": [
      "Speaker: id02264, Video: eHWk7m60UYU, Txt file: 00161\n",
      "[youtube] Extracting URL: https://www.youtube.com/watch?v=eHWk7m60UYU\n",
      "[youtube] eHWk7m60UYU: Downloading webpage\n",
      "[youtube] eHWk7m60UYU: Downloading tv client config\n",
      "[youtube] eHWk7m60UYU: Downloading player 5ae7d525\n",
      "[youtube] eHWk7m60UYU: Downloading tv player API JSON\n",
      "[youtube] eHWk7m60UYU: Downloading ios player API JSON\n",
      "[youtube] eHWk7m60UYU: Downloading m3u8 information\n",
      "[info] eHWk7m60UYU: Downloading 1 format(s): 140\n",
      "[download] Destination: id02264_0_eHWk7m60UYU_00161\n",
      "[download] 100% of   31.49MiB in 00:00:05 at 6.09MiB/s     \n",
      "[FixupM4a] Correcting container of \"id02264_0_eHWk7m60UYU_00161\"\n",
      "[ExtractAudio] Destination: id02264_0_eHWk7m60UYU_00161.mp3\n",
      "Deleting original file id02264_0_eHWk7m60UYU_00161 (pass -k to keep)\n",
      "Audio downloaded as id02264_0_eHWk7m60UYU_00161\n",
      "Trimmed audio saved as ../data/download_df_audio/id02264_0_eHWk7m60UYU_00161_cut.mp3\n",
      "Speaker: id02264, Video: RMkxj2RZGyc, Txt file: 00092\n"
     ]
    },
    {
     "name": "stderr",
     "output_type": "stream",
     "text": [
      "ERROR: [youtube] RMkxj2RZGyc: Private video. Sign in if you've been granted access to this video. Use --cookies-from-browser or --cookies for the authentication. See  https://github.com/yt-dlp/yt-dlp/wiki/FAQ#how-do-i-pass-cookies-to-yt-dlp  for how to manually pass cookies. Also see  https://github.com/yt-dlp/yt-dlp/wiki/Extractors#exporting-youtube-cookies  for tips on effectively exporting YouTube cookies\n"
     ]
    },
    {
     "name": "stdout",
     "output_type": "stream",
     "text": [
      "Speaker: id02264, Video: QZLAz33Kl9M, Txt file: 00078\n",
      "[youtube] Extracting URL: https://www.youtube.com/watch?v=QZLAz33Kl9M\n",
      "[youtube] QZLAz33Kl9M: Downloading webpage\n",
      "[youtube] QZLAz33Kl9M: Downloading tv client config\n",
      "[youtube] QZLAz33Kl9M: Downloading player 5ae7d525\n",
      "[youtube] QZLAz33Kl9M: Downloading tv player API JSON\n",
      "[youtube] QZLAz33Kl9M: Downloading ios player API JSON\n",
      "[youtube] QZLAz33Kl9M: Downloading m3u8 information\n",
      "[info] QZLAz33Kl9M: Downloading 1 format(s): 140\n",
      "[download] Destination: id02264_1_QZLAz33Kl9M_00078\n",
      "[download] 100% of   10.08MiB in 00:00:01 at 8.45MiB/s     \n",
      "[FixupM4a] Correcting container of \"id02264_1_QZLAz33Kl9M_00078\"\n",
      "[ExtractAudio] Destination: id02264_1_QZLAz33Kl9M_00078.mp3\n",
      "Deleting original file id02264_1_QZLAz33Kl9M_00078 (pass -k to keep)\n",
      "Audio downloaded as id02264_1_QZLAz33Kl9M_00078\n",
      "Trimmed audio saved as ../data/download_df_audio/id02264_1_QZLAz33Kl9M_00078_cut.mp3\n",
      "Speaker: id02299, Video: UuosC8iSaz8, Txt file: 00231\n",
      "[youtube] Extracting URL: https://www.youtube.com/watch?v=UuosC8iSaz8\n",
      "[youtube] UuosC8iSaz8: Downloading webpage\n",
      "[youtube] UuosC8iSaz8: Downloading tv client config\n",
      "[youtube] UuosC8iSaz8: Downloading player 5ae7d525\n",
      "[youtube] UuosC8iSaz8: Downloading tv player API JSON\n",
      "[youtube] UuosC8iSaz8: Downloading ios player API JSON\n",
      "[youtube] UuosC8iSaz8: Downloading m3u8 information\n",
      "[info] UuosC8iSaz8: Downloading 1 format(s): 140\n",
      "[download] Destination: id02299_0_UuosC8iSaz8_00231\n",
      "[download] 100% of    8.22MiB in 00:00:02 at 3.73MiB/s   \n",
      "[FixupM4a] Correcting container of \"id02299_0_UuosC8iSaz8_00231\"\n",
      "[ExtractAudio] Destination: id02299_0_UuosC8iSaz8_00231.mp3\n",
      "Deleting original file id02299_0_UuosC8iSaz8_00231 (pass -k to keep)\n",
      "Audio downloaded as id02299_0_UuosC8iSaz8_00231\n",
      "Trimmed audio saved as ../data/download_df_audio/id02299_0_UuosC8iSaz8_00231_cut.mp3\n",
      "Speaker: id02299, Video: OW5T_MkPwdM, Txt file: 00174\n",
      "[youtube] Extracting URL: https://www.youtube.com/watch?v=OW5T_MkPwdM\n",
      "[youtube] OW5T_MkPwdM: Downloading webpage\n",
      "[youtube] OW5T_MkPwdM: Downloading tv client config\n",
      "[youtube] OW5T_MkPwdM: Downloading player 5ae7d525\n",
      "[youtube] OW5T_MkPwdM: Downloading tv player API JSON\n",
      "[youtube] OW5T_MkPwdM: Downloading ios player API JSON\n",
      "[youtube] OW5T_MkPwdM: Downloading m3u8 information\n",
      "[info] OW5T_MkPwdM: Downloading 1 format(s): 251\n",
      "[download] Destination: id02299_1_OW5T_MkPwdM_00174\n",
      "[download] 100% of    7.63MiB in 00:00:01 at 7.13MiB/s   \n",
      "[ExtractAudio] Destination: id02299_1_OW5T_MkPwdM_00174.mp3\n",
      "Deleting original file id02299_1_OW5T_MkPwdM_00174 (pass -k to keep)\n",
      "Audio downloaded as id02299_1_OW5T_MkPwdM_00174\n",
      "Trimmed audio saved as ../data/download_df_audio/id02299_1_OW5T_MkPwdM_00174_cut.mp3\n",
      "Speaker: id02351, Video: VEIwSh8HbqM, Txt file: 00209\n",
      "[youtube] Extracting URL: https://www.youtube.com/watch?v=VEIwSh8HbqM\n",
      "[youtube] VEIwSh8HbqM: Downloading webpage\n",
      "[youtube] VEIwSh8HbqM: Downloading tv client config\n",
      "[youtube] VEIwSh8HbqM: Downloading player 5ae7d525\n",
      "[youtube] VEIwSh8HbqM: Downloading tv player API JSON\n",
      "[youtube] VEIwSh8HbqM: Downloading ios player API JSON\n",
      "[youtube] VEIwSh8HbqM: Downloading m3u8 information\n",
      "[info] VEIwSh8HbqM: Downloading 1 format(s): 140\n",
      "[download] Destination: id02351_0_VEIwSh8HbqM_00209\n",
      "[download] 100% of   31.07MiB in 00:00:08 at 3.64MiB/s     \n",
      "[FixupM4a] Correcting container of \"id02351_0_VEIwSh8HbqM_00209\"\n",
      "[ExtractAudio] Destination: id02351_0_VEIwSh8HbqM_00209.mp3\n",
      "Deleting original file id02351_0_VEIwSh8HbqM_00209 (pass -k to keep)\n",
      "Audio downloaded as id02351_0_VEIwSh8HbqM_00209\n",
      "Trimmed audio saved as ../data/download_df_audio/id02351_0_VEIwSh8HbqM_00209_cut.mp3\n",
      "Speaker: id02351, Video: v8N2y3wRtN8, Txt file: 00433\n",
      "[youtube] Extracting URL: https://www.youtube.com/watch?v=v8N2y3wRtN8\n",
      "[youtube] v8N2y3wRtN8: Downloading webpage\n",
      "[youtube] v8N2y3wRtN8: Downloading tv client config\n",
      "[youtube] v8N2y3wRtN8: Downloading player 5ae7d525\n",
      "[youtube] v8N2y3wRtN8: Downloading tv player API JSON\n",
      "[youtube] v8N2y3wRtN8: Downloading ios player API JSON\n",
      "[youtube] v8N2y3wRtN8: Downloading m3u8 information\n",
      "[info] v8N2y3wRtN8: Downloading 1 format(s): 140\n",
      "[download] Destination: id02351_1_v8N2y3wRtN8_00433\n",
      "[download] 100% of    8.76MiB in 00:00:01 at 5.43MiB/s   \n",
      "[FixupM4a] Correcting container of \"id02351_1_v8N2y3wRtN8_00433\"\n",
      "[ExtractAudio] Destination: id02351_1_v8N2y3wRtN8_00433.mp3\n",
      "Deleting original file id02351_1_v8N2y3wRtN8_00433 (pass -k to keep)\n",
      "Audio downloaded as id02351_1_v8N2y3wRtN8_00433\n",
      "Trimmed audio saved as ../data/download_df_audio/id02351_1_v8N2y3wRtN8_00433_cut.mp3\n",
      "Speaker: id02409, Video: XMAWZI7ZRyA, Txt file: 00083\n",
      "[youtube] Extracting URL: https://www.youtube.com/watch?v=XMAWZI7ZRyA\n",
      "[youtube] XMAWZI7ZRyA: Downloading webpage\n",
      "[youtube] XMAWZI7ZRyA: Downloading tv client config\n",
      "[youtube] XMAWZI7ZRyA: Downloading player 5ae7d525\n",
      "[youtube] XMAWZI7ZRyA: Downloading tv player API JSON\n",
      "[youtube] XMAWZI7ZRyA: Downloading ios player API JSON\n",
      "[youtube] XMAWZI7ZRyA: Downloading m3u8 information\n",
      "[info] XMAWZI7ZRyA: Downloading 1 format(s): 251\n",
      "[download] Destination: id02409_0_XMAWZI7ZRyA_00083\n",
      "[download] 100% of    4.54MiB in 00:00:01 at 2.97MiB/s   \n",
      "[ExtractAudio] Destination: id02409_0_XMAWZI7ZRyA_00083.mp3\n",
      "Deleting original file id02409_0_XMAWZI7ZRyA_00083 (pass -k to keep)\n",
      "Audio downloaded as id02409_0_XMAWZI7ZRyA_00083\n",
      "Trimmed audio saved as ../data/download_df_audio/id02409_0_XMAWZI7ZRyA_00083_cut.mp3\n",
      "Speaker: id02409, Video: 8aiy8rUgp1s, Txt file: 00004\n"
     ]
    },
    {
     "name": "stderr",
     "output_type": "stream",
     "text": [
      "ERROR: [youtube] 8aiy8rUgp1s: Private video. Sign in if you've been granted access to this video. Use --cookies-from-browser or --cookies for the authentication. See  https://github.com/yt-dlp/yt-dlp/wiki/FAQ#how-do-i-pass-cookies-to-yt-dlp  for how to manually pass cookies. Also see  https://github.com/yt-dlp/yt-dlp/wiki/Extractors#exporting-youtube-cookies  for tips on effectively exporting YouTube cookies\n"
     ]
    },
    {
     "name": "stdout",
     "output_type": "stream",
     "text": [
      "Speaker: id02409, Video: OF2Glo6MIKI, Txt file: 00033\n",
      "[youtube] Extracting URL: https://www.youtube.com/watch?v=OF2Glo6MIKI\n",
      "[youtube] OF2Glo6MIKI: Downloading webpage\n",
      "[youtube] OF2Glo6MIKI: Downloading tv client config\n",
      "[youtube] OF2Glo6MIKI: Downloading player 5ae7d525\n",
      "[youtube] OF2Glo6MIKI: Downloading tv player API JSON\n",
      "[youtube] OF2Glo6MIKI: Downloading ios player API JSON\n",
      "[youtube] OF2Glo6MIKI: Downloading m3u8 information\n",
      "[info] OF2Glo6MIKI: Downloading 1 format(s): 251\n",
      "[download] Destination: id02409_1_OF2Glo6MIKI_00033\n",
      "[download] 100% of    2.19MiB in 00:00:00 at 2.70MiB/s   \n",
      "[ExtractAudio] Destination: id02409_1_OF2Glo6MIKI_00033.mp3\n",
      "Deleting original file id02409_1_OF2Glo6MIKI_00033 (pass -k to keep)\n",
      "Audio downloaded as id02409_1_OF2Glo6MIKI_00033\n",
      "Trimmed audio saved as ../data/download_df_audio/id02409_1_OF2Glo6MIKI_00033_cut.mp3\n",
      "Speaker: id02463, Video: OFgPh2pwq2g, Txt file: 00180\n",
      "[youtube] Extracting URL: https://www.youtube.com/watch?v=OFgPh2pwq2g\n",
      "[youtube] OFgPh2pwq2g: Downloading webpage\n",
      "[youtube] OFgPh2pwq2g: Downloading tv client config\n",
      "[youtube] OFgPh2pwq2g: Downloading player 5ae7d525\n",
      "[youtube] OFgPh2pwq2g: Downloading tv player API JSON\n",
      "[youtube] OFgPh2pwq2g: Downloading ios player API JSON\n",
      "[youtube] OFgPh2pwq2g: Downloading m3u8 information\n",
      "[info] OFgPh2pwq2g: Downloading 1 format(s): 251\n",
      "[download] Destination: id02463_0_OFgPh2pwq2g_00180\n",
      "[download] 100% of    2.73MiB in 00:00:00 at 5.70MiB/s   \n",
      "[ExtractAudio] Destination: id02463_0_OFgPh2pwq2g_00180.mp3\n",
      "Deleting original file id02463_0_OFgPh2pwq2g_00180 (pass -k to keep)\n",
      "Audio downloaded as id02463_0_OFgPh2pwq2g_00180\n",
      "Trimmed audio saved as ../data/download_df_audio/id02463_0_OFgPh2pwq2g_00180_cut.mp3\n",
      "Speaker: id02463, Video: OWmibm9Ui44, Txt file: 00189\n",
      "[youtube] Extracting URL: https://www.youtube.com/watch?v=OWmibm9Ui44\n",
      "[youtube] OWmibm9Ui44: Downloading webpage\n",
      "[youtube] OWmibm9Ui44: Downloading tv client config\n",
      "[youtube] OWmibm9Ui44: Downloading player 5ae7d525\n",
      "[youtube] OWmibm9Ui44: Downloading tv player API JSON\n",
      "[youtube] OWmibm9Ui44: Downloading ios player API JSON\n",
      "[youtube] OWmibm9Ui44: Downloading m3u8 information\n",
      "[info] OWmibm9Ui44: Downloading 1 format(s): 140\n",
      "[download] Destination: id02463_1_OWmibm9Ui44_00189\n",
      "[download] 100% of    3.59MiB in 00:00:01 at 3.28MiB/s   \n",
      "[FixupM4a] Correcting container of \"id02463_1_OWmibm9Ui44_00189\"\n",
      "[ExtractAudio] Destination: id02463_1_OWmibm9Ui44_00189.mp3\n",
      "Deleting original file id02463_1_OWmibm9Ui44_00189 (pass -k to keep)\n",
      "Audio downloaded as id02463_1_OWmibm9Ui44_00189\n",
      "Trimmed audio saved as ../data/download_df_audio/id02463_1_OWmibm9Ui44_00189_cut.mp3\n",
      "Speaker: id02490, Video: fNAStatPVHY, Txt file: 00070\n",
      "[youtube] Extracting URL: https://www.youtube.com/watch?v=fNAStatPVHY\n",
      "[youtube] fNAStatPVHY: Downloading webpage\n",
      "[youtube] fNAStatPVHY: Downloading tv client config\n",
      "[youtube] fNAStatPVHY: Downloading player 5ae7d525\n",
      "[youtube] fNAStatPVHY: Downloading tv player API JSON\n",
      "[youtube] fNAStatPVHY: Downloading ios player API JSON\n",
      "[youtube] fNAStatPVHY: Downloading m3u8 information\n",
      "[info] fNAStatPVHY: Downloading 1 format(s): 140\n",
      "[download] Destination: id02490_0_fNAStatPVHY_00070\n",
      "[download] 100% of  588.95KiB in 00:00:00 at 3.04MiB/s   \n",
      "[FixupM4a] Correcting container of \"id02490_0_fNAStatPVHY_00070\"\n",
      "[ExtractAudio] Destination: id02490_0_fNAStatPVHY_00070.mp3\n",
      "Deleting original file id02490_0_fNAStatPVHY_00070 (pass -k to keep)\n",
      "Audio downloaded as id02490_0_fNAStatPVHY_00070\n",
      "Trimmed audio saved as ../data/download_df_audio/id02490_0_fNAStatPVHY_00070_cut.mp3\n",
      "Speaker: id02490, Video: C6E6IDAvgJY, Txt file: 00038\n",
      "[youtube] Extracting URL: https://www.youtube.com/watch?v=C6E6IDAvgJY\n",
      "[youtube] C6E6IDAvgJY: Downloading webpage\n",
      "[youtube] C6E6IDAvgJY: Downloading tv client config\n",
      "[youtube] C6E6IDAvgJY: Downloading player 5ae7d525\n",
      "[youtube] C6E6IDAvgJY: Downloading tv player API JSON\n",
      "[youtube] C6E6IDAvgJY: Downloading ios player API JSON\n",
      "[youtube] C6E6IDAvgJY: Downloading m3u8 information\n",
      "[info] C6E6IDAvgJY: Downloading 1 format(s): 251\n",
      "[download] Destination: id02490_1_C6E6IDAvgJY_00038\n",
      "[download] 100% of   10.24MiB in 00:00:01 at 5.62MiB/s     \n",
      "[ExtractAudio] Destination: id02490_1_C6E6IDAvgJY_00038.mp3\n",
      "Deleting original file id02490_1_C6E6IDAvgJY_00038 (pass -k to keep)\n",
      "Audio downloaded as id02490_1_C6E6IDAvgJY_00038\n",
      "Trimmed audio saved as ../data/download_df_audio/id02490_1_C6E6IDAvgJY_00038_cut.mp3\n",
      "Speaker: id02538, Video: Yi6Bfw2gG74, Txt file: 00357\n",
      "[youtube] Extracting URL: https://www.youtube.com/watch?v=Yi6Bfw2gG74\n",
      "[youtube] Yi6Bfw2gG74: Downloading webpage\n",
      "[youtube] Yi6Bfw2gG74: Downloading tv client config\n",
      "[youtube] Yi6Bfw2gG74: Downloading player 5ae7d525\n",
      "[youtube] Yi6Bfw2gG74: Downloading tv player API JSON\n",
      "[youtube] Yi6Bfw2gG74: Downloading ios player API JSON\n",
      "[youtube] Yi6Bfw2gG74: Downloading m3u8 information\n",
      "[info] Yi6Bfw2gG74: Downloading 1 format(s): 251\n",
      "[download] Destination: id02538_0_Yi6Bfw2gG74_00357\n",
      "[download] 100% of    1.47MiB in 00:00:00 at 1.99MiB/s   \n",
      "[ExtractAudio] Destination: id02538_0_Yi6Bfw2gG74_00357.mp3\n",
      "Deleting original file id02538_0_Yi6Bfw2gG74_00357 (pass -k to keep)\n",
      "Audio downloaded as id02538_0_Yi6Bfw2gG74_00357\n",
      "Trimmed audio saved as ../data/download_df_audio/id02538_0_Yi6Bfw2gG74_00357_cut.mp3\n",
      "Speaker: id02538, Video: qDCQInJEt8A, Txt file: 00429\n",
      "[youtube] Extracting URL: https://www.youtube.com/watch?v=qDCQInJEt8A\n",
      "[youtube] qDCQInJEt8A: Downloading webpage\n",
      "[youtube] qDCQInJEt8A: Downloading tv client config\n",
      "[youtube] qDCQInJEt8A: Downloading player 5ae7d525\n",
      "[youtube] qDCQInJEt8A: Downloading tv player API JSON\n",
      "[youtube] qDCQInJEt8A: Downloading ios player API JSON\n",
      "[youtube] qDCQInJEt8A: Downloading m3u8 information\n",
      "[info] qDCQInJEt8A: Downloading 1 format(s): 140\n",
      "[download] Destination: id02538_1_qDCQInJEt8A_00429\n",
      "[download] 100% of    6.53MiB in 00:00:01 at 4.25MiB/s   \n",
      "[FixupM4a] Correcting container of \"id02538_1_qDCQInJEt8A_00429\"\n",
      "[ExtractAudio] Destination: id02538_1_qDCQInJEt8A_00429.mp3\n",
      "Deleting original file id02538_1_qDCQInJEt8A_00429 (pass -k to keep)\n",
      "Audio downloaded as id02538_1_qDCQInJEt8A_00429\n",
      "Trimmed audio saved as ../data/download_df_audio/id02538_1_qDCQInJEt8A_00429_cut.mp3\n",
      "Speaker: id02656, Video: bF8sCcCNxw4, Txt file: 00231\n",
      "[youtube] Extracting URL: https://www.youtube.com/watch?v=bF8sCcCNxw4\n",
      "[youtube] bF8sCcCNxw4: Downloading webpage\n",
      "[youtube] bF8sCcCNxw4: Downloading tv client config\n",
      "[youtube] bF8sCcCNxw4: Downloading player 5ae7d525\n",
      "[youtube] bF8sCcCNxw4: Downloading tv player API JSON\n",
      "[youtube] bF8sCcCNxw4: Downloading ios player API JSON\n",
      "[youtube] bF8sCcCNxw4: Downloading m3u8 information\n",
      "[info] bF8sCcCNxw4: Downloading 1 format(s): 140\n",
      "[download] Destination: id02656_0_bF8sCcCNxw4_00231\n",
      "[download] 100% of    5.35MiB in 00:00:00 at 7.06MiB/s   \n",
      "[FixupM4a] Correcting container of \"id02656_0_bF8sCcCNxw4_00231\"\n",
      "[ExtractAudio] Destination: id02656_0_bF8sCcCNxw4_00231.mp3\n",
      "Deleting original file id02656_0_bF8sCcCNxw4_00231 (pass -k to keep)\n",
      "Audio downloaded as id02656_0_bF8sCcCNxw4_00231\n",
      "Trimmed audio saved as ../data/download_df_audio/id02656_0_bF8sCcCNxw4_00231_cut.mp3\n",
      "Speaker: id02656, Video: WY0tB0P4sDY, Txt file: 00210\n",
      "[youtube] Extracting URL: https://www.youtube.com/watch?v=WY0tB0P4sDY\n",
      "[youtube] WY0tB0P4sDY: Downloading webpage\n",
      "[youtube] WY0tB0P4sDY: Downloading tv client config\n",
      "[youtube] WY0tB0P4sDY: Downloading player 5ae7d525\n",
      "[youtube] WY0tB0P4sDY: Downloading tv player API JSON\n",
      "[youtube] WY0tB0P4sDY: Downloading ios player API JSON\n",
      "[youtube] WY0tB0P4sDY: Downloading m3u8 information\n",
      "[info] WY0tB0P4sDY: Downloading 1 format(s): 140\n",
      "[download] Destination: id02656_1_WY0tB0P4sDY_00210\n",
      "[download] 100% of    6.37MiB in 00:00:02 at 3.13MiB/s   \n",
      "[FixupM4a] Correcting container of \"id02656_1_WY0tB0P4sDY_00210\"\n",
      "[ExtractAudio] Destination: id02656_1_WY0tB0P4sDY_00210.mp3\n",
      "Deleting original file id02656_1_WY0tB0P4sDY_00210 (pass -k to keep)\n",
      "Audio downloaded as id02656_1_WY0tB0P4sDY_00210\n",
      "Trimmed audio saved as ../data/download_df_audio/id02656_1_WY0tB0P4sDY_00210_cut.mp3\n",
      "Speaker: id02668, Video: Y8R-YnqMj1o, Txt file: 00015\n",
      "[youtube] Extracting URL: https://www.youtube.com/watch?v=Y8R-YnqMj1o\n",
      "[youtube] Y8R-YnqMj1o: Downloading webpage\n",
      "[youtube] Y8R-YnqMj1o: Downloading tv client config\n",
      "[youtube] Y8R-YnqMj1o: Downloading player 5ae7d525\n",
      "[youtube] Y8R-YnqMj1o: Downloading tv player API JSON\n",
      "[youtube] Y8R-YnqMj1o: Downloading ios player API JSON\n",
      "[youtube] Y8R-YnqMj1o: Downloading MPD manifest\n",
      "[youtube] Y8R-YnqMj1o: Downloading m3u8 information\n",
      "[youtube] Y8R-YnqMj1o: Downloading MPD manifest\n",
      "[info] Y8R-YnqMj1o: Downloading 1 format(s): 251\n",
      "[download] Destination: id02668_0_Y8R-YnqMj1o_00015\n",
      "[download] 100% of    3.43MiB in 00:00:00 at 6.38MiB/s     \n",
      "[ExtractAudio] Destination: id02668_0_Y8R-YnqMj1o_00015.mp3\n",
      "Deleting original file id02668_0_Y8R-YnqMj1o_00015 (pass -k to keep)\n",
      "Audio downloaded as id02668_0_Y8R-YnqMj1o_00015\n",
      "Trimmed audio saved as ../data/download_df_audio/id02668_0_Y8R-YnqMj1o_00015_cut.mp3\n",
      "Speaker: id02668, Video: Pck67XrziaE, Txt file: 00007\n",
      "[youtube] Extracting URL: https://www.youtube.com/watch?v=Pck67XrziaE\n",
      "[youtube] Pck67XrziaE: Downloading webpage\n",
      "[youtube] Pck67XrziaE: Downloading tv client config\n",
      "[youtube] Pck67XrziaE: Downloading player 5ae7d525\n",
      "[youtube] Pck67XrziaE: Downloading tv player API JSON\n",
      "[youtube] Pck67XrziaE: Downloading ios player API JSON\n",
      "[youtube] Pck67XrziaE: Downloading m3u8 information\n",
      "[info] Pck67XrziaE: Downloading 1 format(s): 251\n",
      "[download] Destination: id02668_1_Pck67XrziaE_00007\n",
      "[download] 100% of    2.84MiB in 00:00:00 at 4.59MiB/s   \n",
      "[ExtractAudio] Destination: id02668_1_Pck67XrziaE_00007.mp3\n",
      "Deleting original file id02668_1_Pck67XrziaE_00007 (pass -k to keep)\n",
      "Audio downloaded as id02668_1_Pck67XrziaE_00007\n",
      "Trimmed audio saved as ../data/download_df_audio/id02668_1_Pck67XrziaE_00007_cut.mp3\n",
      "Speaker: id02978, Video: i9zCCsMwJec, Txt file: 00152\n",
      "[youtube] Extracting URL: https://www.youtube.com/watch?v=i9zCCsMwJec\n",
      "[youtube] i9zCCsMwJec: Downloading webpage\n",
      "[youtube] i9zCCsMwJec: Downloading tv client config\n",
      "[youtube] i9zCCsMwJec: Downloading player 5ae7d525\n",
      "[youtube] i9zCCsMwJec: Downloading tv player API JSON\n",
      "[youtube] i9zCCsMwJec: Downloading ios player API JSON\n",
      "[youtube] i9zCCsMwJec: Downloading m3u8 information\n",
      "[info] i9zCCsMwJec: Downloading 1 format(s): 140\n",
      "[download] Destination: id02978_0_i9zCCsMwJec_00152\n",
      "[download] 100% of   30.53MiB in 00:00:07 at 4.08MiB/s     \n",
      "[FixupM4a] Correcting container of \"id02978_0_i9zCCsMwJec_00152\"\n",
      "[ExtractAudio] Destination: id02978_0_i9zCCsMwJec_00152.mp3\n",
      "Deleting original file id02978_0_i9zCCsMwJec_00152 (pass -k to keep)\n",
      "Audio downloaded as id02978_0_i9zCCsMwJec_00152\n",
      "Trimmed audio saved as ../data/download_df_audio/id02978_0_i9zCCsMwJec_00152_cut.mp3\n",
      "Speaker: id02978, Video: RDzxQckf6TU, Txt file: 00088\n"
     ]
    },
    {
     "name": "stderr",
     "output_type": "stream",
     "text": [
      "ERROR: [youtube] RDzxQckf6TU: Private video. Sign in if you've been granted access to this video. Use --cookies-from-browser or --cookies for the authentication. See  https://github.com/yt-dlp/yt-dlp/wiki/FAQ#how-do-i-pass-cookies-to-yt-dlp  for how to manually pass cookies. Also see  https://github.com/yt-dlp/yt-dlp/wiki/Extractors#exporting-youtube-cookies  for tips on effectively exporting YouTube cookies\n"
     ]
    },
    {
     "name": "stdout",
     "output_type": "stream",
     "text": [
      "Speaker: id02978, Video: oNMK2014NcI, Txt file: 00181\n"
     ]
    },
    {
     "name": "stderr",
     "output_type": "stream",
     "text": [
      "ERROR: [youtube] oNMK2014NcI: Video unavailable\n"
     ]
    },
    {
     "name": "stdout",
     "output_type": "stream",
     "text": [
      "Speaker: id02978, Video: QpRiLiFiIPk, Txt file: 00050\n",
      "[youtube] Extracting URL: https://www.youtube.com/watch?v=QpRiLiFiIPk\n",
      "[youtube] QpRiLiFiIPk: Downloading webpage\n",
      "[youtube] QpRiLiFiIPk: Downloading tv client config\n",
      "[youtube] QpRiLiFiIPk: Downloading player 5ae7d525\n",
      "[youtube] QpRiLiFiIPk: Downloading tv player API JSON\n",
      "[youtube] QpRiLiFiIPk: Downloading ios player API JSON\n",
      "[youtube] QpRiLiFiIPk: Downloading m3u8 information\n",
      "[info] QpRiLiFiIPk: Downloading 1 format(s): 251\n",
      "[download] Destination: id02978_1_QpRiLiFiIPk_00050\n",
      "[download] 100% of   10.86MiB in 00:00:01 at 6.04MiB/s     \n",
      "[ExtractAudio] Destination: id02978_1_QpRiLiFiIPk_00050.mp3\n",
      "Deleting original file id02978_1_QpRiLiFiIPk_00050 (pass -k to keep)\n",
      "Audio downloaded as id02978_1_QpRiLiFiIPk_00050\n",
      "Trimmed audio saved as ../data/download_df_audio/id02978_1_QpRiLiFiIPk_00050_cut.mp3\n",
      "Speaker: id03110, Video: ETR1Y274UvQ, Txt file: 00011\n",
      "[youtube] Extracting URL: https://www.youtube.com/watch?v=ETR1Y274UvQ\n",
      "[youtube] ETR1Y274UvQ: Downloading webpage\n",
      "[youtube] ETR1Y274UvQ: Downloading tv client config\n",
      "[youtube] ETR1Y274UvQ: Downloading player 5ae7d525\n",
      "[youtube] ETR1Y274UvQ: Downloading tv player API JSON\n",
      "[youtube] ETR1Y274UvQ: Downloading ios player API JSON\n",
      "[youtube] ETR1Y274UvQ: Downloading m3u8 information\n",
      "[info] ETR1Y274UvQ: Downloading 1 format(s): 251\n",
      "[download] Destination: id03110_0_ETR1Y274UvQ_00011\n",
      "[download] 100% of  722.69KiB in 00:00:00 at 1.21MiB/s     \n",
      "[ExtractAudio] Destination: id03110_0_ETR1Y274UvQ_00011.mp3\n",
      "Deleting original file id03110_0_ETR1Y274UvQ_00011 (pass -k to keep)\n",
      "Audio downloaded as id03110_0_ETR1Y274UvQ_00011\n",
      "Trimmed audio saved as ../data/download_df_audio/id03110_0_ETR1Y274UvQ_00011_cut.mp3\n",
      "Speaker: id03110, Video: HFucEVMqU5E, Txt file: 00018\n",
      "[youtube] Extracting URL: https://www.youtube.com/watch?v=HFucEVMqU5E\n",
      "[youtube] HFucEVMqU5E: Downloading webpage\n",
      "[youtube] HFucEVMqU5E: Downloading tv client config\n",
      "[youtube] HFucEVMqU5E: Downloading player 5ae7d525\n",
      "[youtube] HFucEVMqU5E: Downloading tv player API JSON\n",
      "[youtube] HFucEVMqU5E: Downloading ios player API JSON\n",
      "[youtube] HFucEVMqU5E: Downloading m3u8 information\n",
      "[info] HFucEVMqU5E: Downloading 1 format(s): 251\n",
      "[download] Destination: id03110_1_HFucEVMqU5E_00018\n",
      "[download] 100% of    3.11MiB in 00:00:01 at 2.39MiB/s   \n",
      "[ExtractAudio] Destination: id03110_1_HFucEVMqU5E_00018.mp3\n",
      "Deleting original file id03110_1_HFucEVMqU5E_00018 (pass -k to keep)\n",
      "Audio downloaded as id03110_1_HFucEVMqU5E_00018\n",
      "Trimmed audio saved as ../data/download_df_audio/id03110_1_HFucEVMqU5E_00018_cut.mp3\n",
      "Speaker: id03304, Video: Ajusj7wTX8o, Txt file: 00073\n",
      "[youtube] Extracting URL: https://www.youtube.com/watch?v=Ajusj7wTX8o\n",
      "[youtube] Ajusj7wTX8o: Downloading webpage\n",
      "[youtube] Ajusj7wTX8o: Downloading tv client config\n",
      "[youtube] Ajusj7wTX8o: Downloading player 5ae7d525\n",
      "[youtube] Ajusj7wTX8o: Downloading tv player API JSON\n",
      "[youtube] Ajusj7wTX8o: Downloading ios player API JSON\n",
      "[youtube] Ajusj7wTX8o: Downloading m3u8 information\n",
      "[info] Ajusj7wTX8o: Downloading 1 format(s): 251\n",
      "[download] Destination: id03304_0_Ajusj7wTX8o_00073\n",
      "[download] 100% of    2.67MiB in 00:00:00 at 2.73MiB/s   \n",
      "[ExtractAudio] Destination: id03304_0_Ajusj7wTX8o_00073.mp3\n",
      "Deleting original file id03304_0_Ajusj7wTX8o_00073 (pass -k to keep)\n",
      "Audio downloaded as id03304_0_Ajusj7wTX8o_00073\n",
      "Trimmed audio saved as ../data/download_df_audio/id03304_0_Ajusj7wTX8o_00073_cut.mp3\n",
      "Speaker: id03304, Video: 1brYeQtpJts, Txt file: 00005\n"
     ]
    },
    {
     "name": "stderr",
     "output_type": "stream",
     "text": [
      "ERROR: [youtube] 1brYeQtpJts: Private video. Sign in if you've been granted access to this video. Use --cookies-from-browser or --cookies for the authentication. See  https://github.com/yt-dlp/yt-dlp/wiki/FAQ#how-do-i-pass-cookies-to-yt-dlp  for how to manually pass cookies. Also see  https://github.com/yt-dlp/yt-dlp/wiki/Extractors#exporting-youtube-cookies  for tips on effectively exporting YouTube cookies\n"
     ]
    },
    {
     "name": "stdout",
     "output_type": "stream",
     "text": [
      "Speaker: id03304, Video: pO2e7jlpDyc, Txt file: 00410\n"
     ]
    },
    {
     "name": "stderr",
     "output_type": "stream",
     "text": [
      "ERROR: [youtube] pO2e7jlpDyc: Video unavailable. This video is no longer available because the YouTube account associated with this video has been terminated.\n"
     ]
    },
    {
     "name": "stdout",
     "output_type": "stream",
     "text": [
      "Speaker: id03304, Video: 1brYeQtpJts, Txt file: 00006\n"
     ]
    },
    {
     "name": "stderr",
     "output_type": "stream",
     "text": [
      "ERROR: [youtube] 1brYeQtpJts: Private video. Sign in if you've been granted access to this video. Use --cookies-from-browser or --cookies for the authentication. See  https://github.com/yt-dlp/yt-dlp/wiki/FAQ#how-do-i-pass-cookies-to-yt-dlp  for how to manually pass cookies. Also see  https://github.com/yt-dlp/yt-dlp/wiki/Extractors#exporting-youtube-cookies  for tips on effectively exporting YouTube cookies\n"
     ]
    },
    {
     "name": "stdout",
     "output_type": "stream",
     "text": [
      "Speaker: id03304, Video: X_xvBrgT6W0, Txt file: 00161\n"
     ]
    },
    {
     "name": "stderr",
     "output_type": "stream",
     "text": [
      "ERROR: [youtube] X_xvBrgT6W0: Video unavailable\n"
     ]
    },
    {
     "name": "stdout",
     "output_type": "stream",
     "text": [
      "Speaker: id03304, Video: M-mdrYtSxQA, Txt file: 00120\n",
      "[youtube] Extracting URL: https://www.youtube.com/watch?v=M-mdrYtSxQA\n",
      "[youtube] M-mdrYtSxQA: Downloading webpage\n",
      "[youtube] M-mdrYtSxQA: Downloading tv client config\n",
      "[youtube] M-mdrYtSxQA: Downloading player 5ae7d525\n",
      "[youtube] M-mdrYtSxQA: Downloading tv player API JSON\n",
      "[youtube] M-mdrYtSxQA: Downloading ios player API JSON\n",
      "[youtube] M-mdrYtSxQA: Downloading m3u8 information\n",
      "[info] M-mdrYtSxQA: Downloading 1 format(s): 251\n",
      "[download] Destination: id03304_1_M-mdrYtSxQA_00120\n",
      "[download] 100% of   10.06MiB in 00:00:01 at 9.92MiB/s     \n",
      "[ExtractAudio] Destination: id03304_1_M-mdrYtSxQA_00120.mp3\n",
      "Deleting original file id03304_1_M-mdrYtSxQA_00120 (pass -k to keep)\n",
      "Audio downloaded as id03304_1_M-mdrYtSxQA_00120\n",
      "Trimmed audio saved as ../data/download_df_audio/id03304_1_M-mdrYtSxQA_00120_cut.mp3\n",
      "Speaker: id03361, Video: ZdzJDvz-ZpY, Txt file: 00137\n",
      "[youtube] Extracting URL: https://www.youtube.com/watch?v=ZdzJDvz-ZpY\n",
      "[youtube] ZdzJDvz-ZpY: Downloading webpage\n",
      "[youtube] ZdzJDvz-ZpY: Downloading tv client config\n",
      "[youtube] ZdzJDvz-ZpY: Downloading player 5ae7d525\n",
      "[youtube] ZdzJDvz-ZpY: Downloading tv player API JSON\n",
      "[youtube] ZdzJDvz-ZpY: Downloading ios player API JSON\n",
      "[youtube] ZdzJDvz-ZpY: Downloading m3u8 information\n",
      "[info] ZdzJDvz-ZpY: Downloading 1 format(s): 140\n",
      "[download] Destination: id03361_0_ZdzJDvz-ZpY_00137\n",
      "[download] 100% of    4.66MiB in 00:00:01 at 3.50MiB/s   \n",
      "[FixupM4a] Correcting container of \"id03361_0_ZdzJDvz-ZpY_00137\"\n",
      "[ExtractAudio] Destination: id03361_0_ZdzJDvz-ZpY_00137.mp3\n",
      "Deleting original file id03361_0_ZdzJDvz-ZpY_00137 (pass -k to keep)\n",
      "Audio downloaded as id03361_0_ZdzJDvz-ZpY_00137\n",
      "Trimmed audio saved as ../data/download_df_audio/id03361_0_ZdzJDvz-ZpY_00137_cut.mp3\n",
      "Speaker: id03361, Video: Y6DfopZT8Ao, Txt file: 00124\n",
      "[youtube] Extracting URL: https://www.youtube.com/watch?v=Y6DfopZT8Ao\n",
      "[youtube] Y6DfopZT8Ao: Downloading webpage\n",
      "[youtube] Y6DfopZT8Ao: Downloading tv client config\n",
      "[youtube] Y6DfopZT8Ao: Downloading player 5ae7d525\n",
      "[youtube] Y6DfopZT8Ao: Downloading tv player API JSON\n",
      "[youtube] Y6DfopZT8Ao: Downloading ios player API JSON\n",
      "[youtube] Y6DfopZT8Ao: Downloading m3u8 information\n",
      "[info] Y6DfopZT8Ao: Downloading 1 format(s): 140\n",
      "[download] Destination: id03361_1_Y6DfopZT8Ao_00124\n",
      "[download] 100% of    6.22MiB in 00:00:02 at 2.80MiB/s   \n",
      "[FixupM4a] Correcting container of \"id03361_1_Y6DfopZT8Ao_00124\"\n",
      "[ExtractAudio] Destination: id03361_1_Y6DfopZT8Ao_00124.mp3\n",
      "Deleting original file id03361_1_Y6DfopZT8Ao_00124 (pass -k to keep)\n",
      "Audio downloaded as id03361_1_Y6DfopZT8Ao_00124\n",
      "Trimmed audio saved as ../data/download_df_audio/id03361_1_Y6DfopZT8Ao_00124_cut.mp3\n",
      "Speaker: id03364, Video: eVAFDH_mEVw, Txt file: 00083\n"
     ]
    },
    {
     "name": "stderr",
     "output_type": "stream",
     "text": [
      "ERROR: [youtube] eVAFDH_mEVw: This video has been removed for violating YouTube's Terms of Service\n"
     ]
    },
    {
     "name": "stdout",
     "output_type": "stream",
     "text": [
      "Speaker: id03364, Video: eVAFDH_mEVw, Txt file: 00086\n"
     ]
    },
    {
     "name": "stderr",
     "output_type": "stream",
     "text": [
      "ERROR: [youtube] eVAFDH_mEVw: This video has been removed for violating YouTube's Terms of Service\n"
     ]
    },
    {
     "name": "stdout",
     "output_type": "stream",
     "text": [
      "Speaker: id03364, Video: dzd0pqqMQT8, Txt file: 00058\n"
     ]
    },
    {
     "name": "stderr",
     "output_type": "stream",
     "text": [
      "ERROR: [youtube] dzd0pqqMQT8: Video unavailable. This video is no longer available because the YouTube account associated with this video has been terminated.\n"
     ]
    },
    {
     "name": "stdout",
     "output_type": "stream",
     "text": [
      "Speaker: id03364, Video: eVAFDH_mEVw, Txt file: 00099\n"
     ]
    },
    {
     "name": "stderr",
     "output_type": "stream",
     "text": [
      "ERROR: [youtube] eVAFDH_mEVw: This video has been removed for violating YouTube's Terms of Service\n"
     ]
    },
    {
     "name": "stdout",
     "output_type": "stream",
     "text": [
      "Speaker: id03364, Video: vSuZkTmHsfM, Txt file: 00173\n"
     ]
    },
    {
     "name": "stderr",
     "output_type": "stream",
     "text": [
      "ERROR: [youtube] vSuZkTmHsfM: Video unavailable. This video is no longer available because the YouTube account associated with this video has been terminated.\n"
     ]
    },
    {
     "name": "stdout",
     "output_type": "stream",
     "text": [
      "Speaker: id03364, Video: eVAFDH_mEVw, Txt file: 00107\n"
     ]
    },
    {
     "name": "stderr",
     "output_type": "stream",
     "text": [
      "ERROR: [youtube] eVAFDH_mEVw: This video has been removed for violating YouTube's Terms of Service\n"
     ]
    },
    {
     "name": "stdout",
     "output_type": "stream",
     "text": [
      "Speaker: id03364, Video: dzd0pqqMQT8, Txt file: 00040\n"
     ]
    },
    {
     "name": "stderr",
     "output_type": "stream",
     "text": [
      "ERROR: [youtube] dzd0pqqMQT8: Video unavailable. This video is no longer available because the YouTube account associated with this video has been terminated.\n"
     ]
    },
    {
     "name": "stdout",
     "output_type": "stream",
     "text": [
      "Speaker: id03364, Video: s1f5jfAirWY, Txt file: 00166\n"
     ]
    },
    {
     "name": "stderr",
     "output_type": "stream",
     "text": [
      "ERROR: [youtube] s1f5jfAirWY: Video unavailable. This video is no longer available because the YouTube account associated with this video has been terminated.\n"
     ]
    },
    {
     "name": "stdout",
     "output_type": "stream",
     "text": [
      "Speaker: id03364, Video: Qr18vmcYQdQ, Txt file: 00027\n",
      "[youtube] Extracting URL: https://www.youtube.com/watch?v=Qr18vmcYQdQ\n",
      "[youtube] Qr18vmcYQdQ: Downloading webpage\n",
      "[youtube] Qr18vmcYQdQ: Downloading tv client config\n",
      "[youtube] Qr18vmcYQdQ: Downloading player 5ae7d525\n",
      "[youtube] Qr18vmcYQdQ: Downloading tv player API JSON\n",
      "[youtube] Qr18vmcYQdQ: Downloading ios player API JSON\n",
      "[youtube] Qr18vmcYQdQ: Downloading m3u8 information\n",
      "[info] Qr18vmcYQdQ: Downloading 1 format(s): 140\n",
      "[download] Destination: id03364_0_Qr18vmcYQdQ_00027\n",
      "[download] 100% of    6.54MiB in 00:00:01 at 3.99MiB/s     \n",
      "[FixupM4a] Correcting container of \"id03364_0_Qr18vmcYQdQ_00027\"\n",
      "[ExtractAudio] Destination: id03364_0_Qr18vmcYQdQ_00027.mp3\n",
      "Deleting original file id03364_0_Qr18vmcYQdQ_00027 (pass -k to keep)\n",
      "Audio downloaded as id03364_0_Qr18vmcYQdQ_00027\n",
      "Trimmed audio saved as ../data/download_df_audio/id03364_0_Qr18vmcYQdQ_00027_cut.mp3\n",
      "Speaker: id03364, Video: eVAFDH_mEVw, Txt file: 00085\n"
     ]
    },
    {
     "name": "stderr",
     "output_type": "stream",
     "text": [
      "ERROR: [youtube] eVAFDH_mEVw: This video has been removed for violating YouTube's Terms of Service\n"
     ]
    },
    {
     "name": "stdout",
     "output_type": "stream",
     "text": [
      "Speaker: id03364, Video: eVAFDH_mEVw, Txt file: 00087\n"
     ]
    },
    {
     "name": "stderr",
     "output_type": "stream",
     "text": [
      "ERROR: [youtube] eVAFDH_mEVw: This video has been removed for violating YouTube's Terms of Service\n"
     ]
    },
    {
     "name": "stdout",
     "output_type": "stream",
     "text": [
      "Speaker: id03364, Video: eVAFDH_mEVw, Txt file: 00110\n"
     ]
    },
    {
     "name": "stderr",
     "output_type": "stream",
     "text": [
      "ERROR: [youtube] eVAFDH_mEVw: This video has been removed for violating YouTube's Terms of Service\n"
     ]
    },
    {
     "name": "stdout",
     "output_type": "stream",
     "text": [
      "Speaker: id03364, Video: 0-136FBkyLY, Txt file: 00006\n"
     ]
    },
    {
     "name": "stderr",
     "output_type": "stream",
     "text": [
      "ERROR: [youtube] 0-136FBkyLY: Video unavailable. This video is no longer available because the YouTube account associated with this video has been terminated.\n"
     ]
    },
    {
     "name": "stdout",
     "output_type": "stream",
     "text": [
      "Speaker: id03364, Video: dzd0pqqMQT8, Txt file: 00062\n"
     ]
    },
    {
     "name": "stderr",
     "output_type": "stream",
     "text": [
      "ERROR: [youtube] dzd0pqqMQT8: Video unavailable. This video is no longer available because the YouTube account associated with this video has been terminated.\n"
     ]
    },
    {
     "name": "stdout",
     "output_type": "stream",
     "text": [
      "Speaker: id03364, Video: eVAFDH_mEVw, Txt file: 00112\n"
     ]
    },
    {
     "name": "stderr",
     "output_type": "stream",
     "text": [
      "ERROR: [youtube] eVAFDH_mEVw: This video has been removed for violating YouTube's Terms of Service\n"
     ]
    },
    {
     "name": "stdout",
     "output_type": "stream",
     "text": [
      "Speaker: id03364, Video: eVAFDH_mEVw, Txt file: 00103\n"
     ]
    },
    {
     "name": "stderr",
     "output_type": "stream",
     "text": [
      "ERROR: [youtube] eVAFDH_mEVw: This video has been removed for violating YouTube's Terms of Service\n"
     ]
    },
    {
     "name": "stdout",
     "output_type": "stream",
     "text": [
      "Speaker: id03364, Video: dzd0pqqMQT8, Txt file: 00059\n"
     ]
    },
    {
     "name": "stderr",
     "output_type": "stream",
     "text": [
      "ERROR: [youtube] dzd0pqqMQT8: Video unavailable. This video is no longer available because the YouTube account associated with this video has been terminated.\n"
     ]
    },
    {
     "name": "stdout",
     "output_type": "stream",
     "text": [
      "Speaker: id03364, Video: dzd0pqqMQT8, Txt file: 00061\n"
     ]
    },
    {
     "name": "stderr",
     "output_type": "stream",
     "text": [
      "ERROR: [youtube] dzd0pqqMQT8: Video unavailable. This video is no longer available because the YouTube account associated with this video has been terminated.\n"
     ]
    },
    {
     "name": "stdout",
     "output_type": "stream",
     "text": [
      "Speaker: id03364, Video: pty6f4Tm9-8, Txt file: 00131\n"
     ]
    },
    {
     "name": "stderr",
     "output_type": "stream",
     "text": [
      "ERROR: [youtube] pty6f4Tm9-8: This video has been removed for violating YouTube's Terms of Service\n"
     ]
    },
    {
     "name": "stdout",
     "output_type": "stream",
     "text": [
      "Speaker: id03364, Video: eVAFDH_mEVw, Txt file: 00077\n"
     ]
    },
    {
     "name": "stderr",
     "output_type": "stream",
     "text": [
      "ERROR: [youtube] eVAFDH_mEVw: This video has been removed for violating YouTube's Terms of Service\n"
     ]
    },
    {
     "name": "stdout",
     "output_type": "stream",
     "text": [
      "Speaker: id03364, Video: s1f5jfAirWY, Txt file: 00156\n"
     ]
    },
    {
     "name": "stderr",
     "output_type": "stream",
     "text": [
      "ERROR: [youtube] s1f5jfAirWY: Video unavailable. This video is no longer available because the YouTube account associated with this video has been terminated.\n"
     ]
    },
    {
     "name": "stdout",
     "output_type": "stream",
     "text": [
      "Speaker: id03364, Video: eVAFDH_mEVw, Txt file: 00094\n"
     ]
    },
    {
     "name": "stderr",
     "output_type": "stream",
     "text": [
      "ERROR: [youtube] eVAFDH_mEVw: This video has been removed for violating YouTube's Terms of Service\n"
     ]
    },
    {
     "name": "stdout",
     "output_type": "stream",
     "text": [
      "Speaker: id03364, Video: jOcZQ0NKp4k, Txt file: 00118\n",
      "[youtube] Extracting URL: https://www.youtube.com/watch?v=jOcZQ0NKp4k\n",
      "[youtube] jOcZQ0NKp4k: Downloading webpage\n",
      "[youtube] jOcZQ0NKp4k: Downloading tv client config\n",
      "[youtube] jOcZQ0NKp4k: Downloading player 5ae7d525\n",
      "[youtube] jOcZQ0NKp4k: Downloading tv player API JSON\n",
      "[youtube] jOcZQ0NKp4k: Downloading ios player API JSON\n",
      "[youtube] jOcZQ0NKp4k: Downloading m3u8 information\n",
      "[info] jOcZQ0NKp4k: Downloading 1 format(s): 140\n",
      "[download] Destination: id03364_1_jOcZQ0NKp4k_00118\n",
      "[download] 100% of    4.59MiB in 00:00:00 at 6.45MiB/s   \n",
      "[FixupM4a] Correcting container of \"id03364_1_jOcZQ0NKp4k_00118\"\n",
      "[ExtractAudio] Destination: id03364_1_jOcZQ0NKp4k_00118.mp3\n",
      "Deleting original file id03364_1_jOcZQ0NKp4k_00118 (pass -k to keep)\n",
      "Audio downloaded as id03364_1_jOcZQ0NKp4k_00118\n",
      "Trimmed audio saved as ../data/download_df_audio/id03364_1_jOcZQ0NKp4k_00118_cut.mp3\n",
      "Speaker: id03371, Video: dVE3Cw7eddE, Txt file: 00261\n",
      "[youtube] Extracting URL: https://www.youtube.com/watch?v=dVE3Cw7eddE\n",
      "[youtube] dVE3Cw7eddE: Downloading webpage\n",
      "[youtube] dVE3Cw7eddE: Downloading tv client config\n",
      "[youtube] dVE3Cw7eddE: Downloading player 5ae7d525\n",
      "[youtube] dVE3Cw7eddE: Downloading tv player API JSON\n",
      "[youtube] dVE3Cw7eddE: Downloading ios player API JSON\n",
      "[youtube] dVE3Cw7eddE: Downloading m3u8 information\n",
      "[info] dVE3Cw7eddE: Downloading 1 format(s): 251\n",
      "[download] Destination: id03371_0_dVE3Cw7eddE_00261\n",
      "[download] 100% of   15.69MiB in 00:00:01 at 8.91MiB/s     \n",
      "[ExtractAudio] Destination: id03371_0_dVE3Cw7eddE_00261.mp3\n",
      "Deleting original file id03371_0_dVE3Cw7eddE_00261 (pass -k to keep)\n",
      "Audio downloaded as id03371_0_dVE3Cw7eddE_00261\n",
      "Trimmed audio saved as ../data/download_df_audio/id03371_0_dVE3Cw7eddE_00261_cut.mp3\n",
      "Speaker: id03371, Video: SQ2uuAL3rAc, Txt file: 00169\n",
      "[youtube] Extracting URL: https://www.youtube.com/watch?v=SQ2uuAL3rAc\n",
      "[youtube] SQ2uuAL3rAc: Downloading webpage\n",
      "[youtube] SQ2uuAL3rAc: Downloading tv client config\n",
      "[youtube] SQ2uuAL3rAc: Downloading player 5ae7d525\n",
      "[youtube] SQ2uuAL3rAc: Downloading tv player API JSON\n",
      "[youtube] SQ2uuAL3rAc: Downloading ios player API JSON\n",
      "[youtube] SQ2uuAL3rAc: Downloading m3u8 information\n",
      "[info] SQ2uuAL3rAc: Downloading 1 format(s): 251\n",
      "[download] Destination: id03371_1_SQ2uuAL3rAc_00169\n",
      "[download] 100% of    4.23MiB in 00:00:00 at 5.68MiB/s     \n",
      "[ExtractAudio] Destination: id03371_1_SQ2uuAL3rAc_00169.mp3\n",
      "Deleting original file id03371_1_SQ2uuAL3rAc_00169 (pass -k to keep)\n",
      "Audio downloaded as id03371_1_SQ2uuAL3rAc_00169\n",
      "Trimmed audio saved as ../data/download_df_audio/id03371_1_SQ2uuAL3rAc_00169_cut.mp3\n",
      "Speaker: id03631, Video: 23lH78lx7c4, Txt file: 00012\n",
      "[youtube] Extracting URL: https://www.youtube.com/watch?v=23lH78lx7c4\n",
      "[youtube] 23lH78lx7c4: Downloading webpage\n",
      "[youtube] 23lH78lx7c4: Downloading tv client config\n",
      "[youtube] 23lH78lx7c4: Downloading player 5ae7d525\n",
      "[youtube] 23lH78lx7c4: Downloading tv player API JSON\n",
      "[youtube] 23lH78lx7c4: Downloading ios player API JSON\n",
      "[youtube] 23lH78lx7c4: Downloading m3u8 information\n",
      "[info] 23lH78lx7c4: Downloading 1 format(s): 251\n",
      "[download] Destination: id03631_0_23lH78lx7c4_00012\n",
      "[download] 100% of    4.11MiB in 00:00:00 at 4.32MiB/s   \n",
      "[ExtractAudio] Destination: id03631_0_23lH78lx7c4_00012.mp3\n",
      "Deleting original file id03631_0_23lH78lx7c4_00012 (pass -k to keep)\n",
      "Audio downloaded as id03631_0_23lH78lx7c4_00012\n",
      "Trimmed audio saved as ../data/download_df_audio/id03631_0_23lH78lx7c4_00012_cut.mp3\n",
      "Speaker: id03631, Video: Sn06Fz5pfyc, Txt file: 00027\n",
      "[youtube] Extracting URL: https://www.youtube.com/watch?v=Sn06Fz5pfyc\n",
      "[youtube] Sn06Fz5pfyc: Downloading webpage\n",
      "[youtube] Sn06Fz5pfyc: Downloading tv client config\n",
      "[youtube] Sn06Fz5pfyc: Downloading player 5ae7d525\n",
      "[youtube] Sn06Fz5pfyc: Downloading tv player API JSON\n",
      "[youtube] Sn06Fz5pfyc: Downloading ios player API JSON\n",
      "[youtube] Sn06Fz5pfyc: Downloading m3u8 information\n",
      "[info] Sn06Fz5pfyc: Downloading 1 format(s): 251\n",
      "[download] Destination: id03631_1_Sn06Fz5pfyc_00027\n",
      "[download] 100% of    3.15MiB in 00:00:00 at 3.62MiB/s   \n",
      "[ExtractAudio] Destination: id03631_1_Sn06Fz5pfyc_00027.mp3\n",
      "Deleting original file id03631_1_Sn06Fz5pfyc_00027 (pass -k to keep)\n",
      "Audio downloaded as id03631_1_Sn06Fz5pfyc_00027\n",
      "Trimmed audio saved as ../data/download_df_audio/id03631_1_Sn06Fz5pfyc_00027_cut.mp3\n",
      "Speaker: id03649, Video: pcAtLmsKkMI, Txt file: 00014\n"
     ]
    },
    {
     "name": "stderr",
     "output_type": "stream",
     "text": [
      "ERROR: [youtube] pcAtLmsKkMI: Video unavailable. The uploader has not made this video available in your country\n"
     ]
    },
    {
     "name": "stdout",
     "output_type": "stream",
     "text": [
      "Speaker: id03649, Video: qod92UfBaQo, Txt file: 00021\n"
     ]
    },
    {
     "name": "stderr",
     "output_type": "stream",
     "text": [
      "ERROR: [youtube] qod92UfBaQo: Video unavailable\n"
     ]
    },
    {
     "name": "stdout",
     "output_type": "stream",
     "text": [
      "Speaker: id03649, Video: 7ZTRiHf3ml4, Txt file: 00003\n",
      "[youtube] Extracting URL: https://www.youtube.com/watch?v=7ZTRiHf3ml4\n",
      "[youtube] 7ZTRiHf3ml4: Downloading webpage\n",
      "[youtube] 7ZTRiHf3ml4: Downloading tv client config\n",
      "[youtube] 7ZTRiHf3ml4: Downloading player 5ae7d525\n",
      "[youtube] 7ZTRiHf3ml4: Downloading tv player API JSON\n",
      "[youtube] 7ZTRiHf3ml4: Downloading ios player API JSON\n",
      "[youtube] 7ZTRiHf3ml4: Downloading m3u8 information\n",
      "[info] 7ZTRiHf3ml4: Downloading 1 format(s): 251\n",
      "[download] Destination: id03649_0_7ZTRiHf3ml4_00003\n",
      "[download] 100% of    3.41MiB in 00:00:00 at 6.09MiB/s   \n",
      "[ExtractAudio] Destination: id03649_0_7ZTRiHf3ml4_00003.mp3\n",
      "Deleting original file id03649_0_7ZTRiHf3ml4_00003 (pass -k to keep)\n",
      "Audio downloaded as id03649_0_7ZTRiHf3ml4_00003\n",
      "Trimmed audio saved as ../data/download_df_audio/id03649_0_7ZTRiHf3ml4_00003_cut.mp3\n",
      "Speaker: id03649, Video: qod92UfBaQo, Txt file: 00024\n"
     ]
    },
    {
     "name": "stderr",
     "output_type": "stream",
     "text": [
      "ERROR: [youtube] qod92UfBaQo: Video unavailable\n"
     ]
    },
    {
     "name": "stdout",
     "output_type": "stream",
     "text": [
      "Speaker: id03649, Video: qod92UfBaQo, Txt file: 00023\n"
     ]
    },
    {
     "name": "stderr",
     "output_type": "stream",
     "text": [
      "ERROR: [youtube] qod92UfBaQo: Video unavailable\n"
     ]
    },
    {
     "name": "stdout",
     "output_type": "stream",
     "text": [
      "Speaker: id03649, Video: Nu8ZciiHqis, Txt file: 00010\n",
      "[youtube] Extracting URL: https://www.youtube.com/watch?v=Nu8ZciiHqis\n",
      "[youtube] Nu8ZciiHqis: Downloading webpage\n",
      "[youtube] Nu8ZciiHqis: Downloading tv client config\n",
      "[youtube] Nu8ZciiHqis: Downloading player 5ae7d525\n",
      "[youtube] Nu8ZciiHqis: Downloading tv player API JSON\n",
      "[youtube] Nu8ZciiHqis: Downloading ios player API JSON\n",
      "[youtube] Nu8ZciiHqis: Downloading m3u8 information\n",
      "[info] Nu8ZciiHqis: Downloading 1 format(s): 251\n",
      "[download] Destination: id03649_1_Nu8ZciiHqis_00010\n",
      "[download] 100% of    3.75MiB in 00:00:00 at 8.33MiB/s   \n",
      "[ExtractAudio] Destination: id03649_1_Nu8ZciiHqis_00010.mp3\n",
      "Deleting original file id03649_1_Nu8ZciiHqis_00010 (pass -k to keep)\n",
      "Audio downloaded as id03649_1_Nu8ZciiHqis_00010\n",
      "Trimmed audio saved as ../data/download_df_audio/id03649_1_Nu8ZciiHqis_00010_cut.mp3\n",
      "Speaker: id03699, Video: YCr0RAzf8ds, Txt file: 00039\n",
      "[youtube] Extracting URL: https://www.youtube.com/watch?v=YCr0RAzf8ds\n",
      "[youtube] YCr0RAzf8ds: Downloading webpage\n",
      "[youtube] YCr0RAzf8ds: Downloading tv client config\n",
      "[youtube] YCr0RAzf8ds: Downloading player 5ae7d525\n",
      "[youtube] YCr0RAzf8ds: Downloading tv player API JSON\n",
      "[youtube] YCr0RAzf8ds: Downloading ios player API JSON\n",
      "[youtube] YCr0RAzf8ds: Downloading m3u8 information\n",
      "[info] YCr0RAzf8ds: Downloading 1 format(s): 251\n",
      "[download] Destination: id03699_0_YCr0RAzf8ds_00039\n",
      "[download] 100% of   13.80MiB in 00:00:02 at 5.92MiB/s   \n",
      "[ExtractAudio] Destination: id03699_0_YCr0RAzf8ds_00039.mp3\n",
      "Deleting original file id03699_0_YCr0RAzf8ds_00039 (pass -k to keep)\n",
      "Audio downloaded as id03699_0_YCr0RAzf8ds_00039\n",
      "Trimmed audio saved as ../data/download_df_audio/id03699_0_YCr0RAzf8ds_00039_cut.mp3\n",
      "Speaker: id03699, Video: K1Euxra2W9o, Txt file: 00006\n",
      "[youtube] Extracting URL: https://www.youtube.com/watch?v=K1Euxra2W9o\n",
      "[youtube] K1Euxra2W9o: Downloading webpage\n",
      "[youtube] K1Euxra2W9o: Downloading tv client config\n",
      "[youtube] K1Euxra2W9o: Downloading player 5ae7d525\n",
      "[youtube] K1Euxra2W9o: Downloading tv player API JSON\n",
      "[youtube] K1Euxra2W9o: Downloading ios player API JSON\n",
      "[youtube] K1Euxra2W9o: Downloading m3u8 information\n",
      "[info] K1Euxra2W9o: Downloading 1 format(s): 140\n",
      "[download] Destination: id03699_1_K1Euxra2W9o_00006\n",
      "[download] 100% of    4.90MiB in 00:00:01 at 2.91MiB/s   \n",
      "[FixupM4a] Correcting container of \"id03699_1_K1Euxra2W9o_00006\"\n",
      "[ExtractAudio] Destination: id03699_1_K1Euxra2W9o_00006.mp3\n",
      "Deleting original file id03699_1_K1Euxra2W9o_00006 (pass -k to keep)\n",
      "Audio downloaded as id03699_1_K1Euxra2W9o_00006\n",
      "Trimmed audio saved as ../data/download_df_audio/id03699_1_K1Euxra2W9o_00006_cut.mp3\n",
      "Speaker: id03729, Video: C_tW_2n-5Aw, Txt file: 00030\n",
      "[youtube] Extracting URL: https://www.youtube.com/watch?v=C_tW_2n-5Aw\n",
      "[youtube] C_tW_2n-5Aw: Downloading webpage\n",
      "[youtube] C_tW_2n-5Aw: Downloading tv client config\n",
      "[youtube] C_tW_2n-5Aw: Downloading player 5ae7d525\n",
      "[youtube] C_tW_2n-5Aw: Downloading tv player API JSON\n",
      "[youtube] C_tW_2n-5Aw: Downloading ios player API JSON\n",
      "[youtube] C_tW_2n-5Aw: Downloading m3u8 information\n",
      "[info] C_tW_2n-5Aw: Downloading 1 format(s): 251\n",
      "[download] Destination: id03729_0_C_tW_2n-5Aw_00030\n",
      "[download] 100% of    5.45MiB in 00:00:01 at 3.31MiB/s   \n",
      "[ExtractAudio] Destination: id03729_0_C_tW_2n-5Aw_00030.mp3\n",
      "Deleting original file id03729_0_C_tW_2n-5Aw_00030 (pass -k to keep)\n",
      "Audio downloaded as id03729_0_C_tW_2n-5Aw_00030\n",
      "Trimmed audio saved as ../data/download_df_audio/id03729_0_C_tW_2n-5Aw_00030_cut.mp3\n",
      "Speaker: id03729, Video: 1vy7b7Dtaoc, Txt file: 00020\n",
      "[youtube] Extracting URL: https://www.youtube.com/watch?v=1vy7b7Dtaoc\n",
      "[youtube] 1vy7b7Dtaoc: Downloading webpage\n",
      "[youtube] 1vy7b7Dtaoc: Downloading tv client config\n",
      "[youtube] 1vy7b7Dtaoc: Downloading player 5ae7d525\n",
      "[youtube] 1vy7b7Dtaoc: Downloading tv player API JSON\n",
      "[youtube] 1vy7b7Dtaoc: Downloading ios player API JSON\n",
      "[youtube] 1vy7b7Dtaoc: Downloading m3u8 information\n",
      "[info] 1vy7b7Dtaoc: Downloading 1 format(s): 251\n",
      "[download] Destination: id03729_1_1vy7b7Dtaoc_00020\n",
      "[download] 100% of    4.27MiB in 00:00:00 at 5.88MiB/s   \n",
      "[ExtractAudio] Destination: id03729_1_1vy7b7Dtaoc_00020.mp3\n",
      "Deleting original file id03729_1_1vy7b7Dtaoc_00020 (pass -k to keep)\n",
      "Audio downloaded as id03729_1_1vy7b7Dtaoc_00020\n",
      "Trimmed audio saved as ../data/download_df_audio/id03729_1_1vy7b7Dtaoc_00020_cut.mp3\n",
      "Speaker: id03749, Video: d5bhIEqk-9c, Txt file: 00093\n",
      "[youtube] Extracting URL: https://www.youtube.com/watch?v=d5bhIEqk-9c\n",
      "[youtube] d5bhIEqk-9c: Downloading webpage\n",
      "[youtube] d5bhIEqk-9c: Downloading tv client config\n",
      "[youtube] d5bhIEqk-9c: Downloading player 5ae7d525\n",
      "[youtube] d5bhIEqk-9c: Downloading tv player API JSON\n",
      "[youtube] d5bhIEqk-9c: Downloading ios player API JSON\n",
      "[youtube] d5bhIEqk-9c: Downloading m3u8 information\n",
      "[info] d5bhIEqk-9c: Downloading 1 format(s): 251\n",
      "[download] Destination: id03749_0_d5bhIEqk-9c_00093\n",
      "[download] 100% of    2.43MiB in 00:00:00 at 7.34MiB/s     \n",
      "[ExtractAudio] Destination: id03749_0_d5bhIEqk-9c_00093.mp3\n",
      "Deleting original file id03749_0_d5bhIEqk-9c_00093 (pass -k to keep)\n",
      "Audio downloaded as id03749_0_d5bhIEqk-9c_00093\n",
      "Trimmed audio saved as ../data/download_df_audio/id03749_0_d5bhIEqk-9c_00093_cut.mp3\n",
      "Speaker: id03749, Video: 8XT1u1Nqy0E, Txt file: 00024\n",
      "[youtube] Extracting URL: https://www.youtube.com/watch?v=8XT1u1Nqy0E\n",
      "[youtube] 8XT1u1Nqy0E: Downloading webpage\n",
      "[youtube] 8XT1u1Nqy0E: Downloading tv client config\n",
      "[youtube] 8XT1u1Nqy0E: Downloading player 5ae7d525\n",
      "[youtube] 8XT1u1Nqy0E: Downloading tv player API JSON\n",
      "[youtube] 8XT1u1Nqy0E: Downloading ios player API JSON\n",
      "[youtube] 8XT1u1Nqy0E: Downloading m3u8 information\n",
      "[info] 8XT1u1Nqy0E: Downloading 1 format(s): 251\n",
      "[download] Destination: id03749_1_8XT1u1Nqy0E_00024\n",
      "[download] 100% of    4.46MiB in 00:00:00 at 7.17MiB/s   \n",
      "[ExtractAudio] Destination: id03749_1_8XT1u1Nqy0E_00024.mp3\n",
      "Deleting original file id03749_1_8XT1u1Nqy0E_00024 (pass -k to keep)\n",
      "Audio downloaded as id03749_1_8XT1u1Nqy0E_00024\n",
      "Trimmed audio saved as ../data/download_df_audio/id03749_1_8XT1u1Nqy0E_00024_cut.mp3\n",
      "Speaker: id03750, Video: Vt-XCDjyDNs, Txt file: 00265\n",
      "[youtube] Extracting URL: https://www.youtube.com/watch?v=Vt-XCDjyDNs\n",
      "[youtube] Vt-XCDjyDNs: Downloading webpage\n",
      "[youtube] Vt-XCDjyDNs: Downloading tv client config\n",
      "[youtube] Vt-XCDjyDNs: Downloading player 5ae7d525\n",
      "[youtube] Vt-XCDjyDNs: Downloading tv player API JSON\n",
      "[youtube] Vt-XCDjyDNs: Downloading ios player API JSON\n",
      "[youtube] Vt-XCDjyDNs: Downloading m3u8 information\n",
      "[info] Vt-XCDjyDNs: Downloading 1 format(s): 251\n",
      "[download] Destination: id03750_0_Vt-XCDjyDNs_00265\n",
      "[download] 100% of   15.75MiB in 00:00:01 at 10.38MiB/s    \n",
      "[ExtractAudio] Destination: id03750_0_Vt-XCDjyDNs_00265.mp3\n",
      "Deleting original file id03750_0_Vt-XCDjyDNs_00265 (pass -k to keep)\n",
      "Audio downloaded as id03750_0_Vt-XCDjyDNs_00265\n",
      "Trimmed audio saved as ../data/download_df_audio/id03750_0_Vt-XCDjyDNs_00265_cut.mp3\n",
      "Speaker: id03750, Video: HLsEPFdrK34, Txt file: 00118\n",
      "[youtube] Extracting URL: https://www.youtube.com/watch?v=HLsEPFdrK34\n",
      "[youtube] HLsEPFdrK34: Downloading webpage\n",
      "[youtube] HLsEPFdrK34: Downloading tv client config\n",
      "[youtube] HLsEPFdrK34: Downloading player 5ae7d525\n",
      "[youtube] HLsEPFdrK34: Downloading tv player API JSON\n",
      "[youtube] HLsEPFdrK34: Downloading ios player API JSON\n",
      "[youtube] HLsEPFdrK34: Downloading m3u8 information\n",
      "[info] HLsEPFdrK34: Downloading 1 format(s): 140\n",
      "[download] Destination: id03750_1_HLsEPFdrK34_00118\n",
      "[download] 100% of    1.26MiB in 00:00:00 at 1.31MiB/s   \n",
      "[FixupM4a] Correcting container of \"id03750_1_HLsEPFdrK34_00118\"\n",
      "[ExtractAudio] Destination: id03750_1_HLsEPFdrK34_00118.mp3\n",
      "Deleting original file id03750_1_HLsEPFdrK34_00118 (pass -k to keep)\n",
      "Audio downloaded as id03750_1_HLsEPFdrK34_00118\n",
      "Trimmed audio saved as ../data/download_df_audio/id03750_1_HLsEPFdrK34_00118_cut.mp3\n",
      "Speaker: id03757, Video: dKBRmWv_zws, Txt file: 00267\n"
     ]
    },
    {
     "name": "stderr",
     "output_type": "stream",
     "text": [
      "ERROR: [youtube] dKBRmWv_zws: Video unavailable. This video is no longer available because the YouTube account associated with this video has been terminated.\n"
     ]
    },
    {
     "name": "stdout",
     "output_type": "stream",
     "text": [
      "Speaker: id03757, Video: ELomDeFOy_s, Txt file: 00085\n",
      "[youtube] Extracting URL: https://www.youtube.com/watch?v=ELomDeFOy_s\n",
      "[youtube] ELomDeFOy_s: Downloading webpage\n",
      "[youtube] ELomDeFOy_s: Downloading tv client config\n",
      "[youtube] ELomDeFOy_s: Downloading player 5ae7d525\n",
      "[youtube] ELomDeFOy_s: Downloading tv player API JSON\n",
      "[youtube] ELomDeFOy_s: Downloading ios player API JSON\n",
      "[youtube] ELomDeFOy_s: Downloading m3u8 information\n",
      "[info] ELomDeFOy_s: Downloading 1 format(s): 140\n",
      "[download] Destination: id03757_0_ELomDeFOy_s_00085\n",
      "[download] 100% of    5.62MiB in 00:00:01 at 4.84MiB/s   \n",
      "[FixupM4a] Correcting container of \"id03757_0_ELomDeFOy_s_00085\"\n",
      "[ExtractAudio] Destination: id03757_0_ELomDeFOy_s_00085.mp3\n",
      "Deleting original file id03757_0_ELomDeFOy_s_00085 (pass -k to keep)\n",
      "Audio downloaded as id03757_0_ELomDeFOy_s_00085\n",
      "Trimmed audio saved as ../data/download_df_audio/id03757_0_ELomDeFOy_s_00085_cut.mp3\n",
      "Speaker: id03757, Video: z4j_usGt4C8, Txt file: 00469\n",
      "[youtube] Extracting URL: https://www.youtube.com/watch?v=z4j_usGt4C8\n",
      "[youtube] z4j_usGt4C8: Downloading webpage\n",
      "[youtube] z4j_usGt4C8: Downloading tv client config\n",
      "[youtube] z4j_usGt4C8: Downloading player 5ae7d525\n",
      "[youtube] z4j_usGt4C8: Downloading tv player API JSON\n",
      "[youtube] z4j_usGt4C8: Downloading ios player API JSON\n",
      "[youtube] z4j_usGt4C8: Downloading m3u8 information\n",
      "[info] z4j_usGt4C8: Downloading 1 format(s): 140\n",
      "[download] Destination: id03757_1_z4j_usGt4C8_00469\n",
      "[download] 100% of    3.60MiB in 00:00:00 at 3.87MiB/s   \n",
      "[FixupM4a] Correcting container of \"id03757_1_z4j_usGt4C8_00469\"\n",
      "[ExtractAudio] Destination: id03757_1_z4j_usGt4C8_00469.mp3\n",
      "Deleting original file id03757_1_z4j_usGt4C8_00469 (pass -k to keep)\n",
      "Audio downloaded as id03757_1_z4j_usGt4C8_00469\n",
      "Trimmed audio saved as ../data/download_df_audio/id03757_1_z4j_usGt4C8_00469_cut.mp3\n",
      "Speaker: id03780, Video: q1rpJg8961o, Txt file: 00264\n",
      "[youtube] Extracting URL: https://www.youtube.com/watch?v=q1rpJg8961o\n",
      "[youtube] q1rpJg8961o: Downloading webpage\n",
      "[youtube] q1rpJg8961o: Downloading tv client config\n",
      "[youtube] q1rpJg8961o: Downloading player 5ae7d525\n",
      "[youtube] q1rpJg8961o: Downloading tv player API JSON\n",
      "[youtube] q1rpJg8961o: Downloading ios player API JSON\n",
      "[youtube] q1rpJg8961o: Downloading m3u8 information\n",
      "[info] q1rpJg8961o: Downloading 1 format(s): 251\n",
      "[download] Destination: id03780_0_q1rpJg8961o_00264\n",
      "[download] 100% of    5.08MiB in 00:00:01 at 3.20MiB/s   \n",
      "[ExtractAudio] Destination: id03780_0_q1rpJg8961o_00264.mp3\n",
      "Deleting original file id03780_0_q1rpJg8961o_00264 (pass -k to keep)\n",
      "Audio downloaded as id03780_0_q1rpJg8961o_00264\n",
      "Trimmed audio saved as ../data/download_df_audio/id03780_0_q1rpJg8961o_00264_cut.mp3\n",
      "Speaker: id03780, Video: v_jyOrw6juM, Txt file: 00286\n",
      "[youtube] Extracting URL: https://www.youtube.com/watch?v=v_jyOrw6juM\n",
      "[youtube] v_jyOrw6juM: Downloading webpage\n",
      "[youtube] v_jyOrw6juM: Downloading tv client config\n",
      "[youtube] v_jyOrw6juM: Downloading player 5ae7d525\n",
      "[youtube] v_jyOrw6juM: Downloading tv player API JSON\n",
      "[youtube] v_jyOrw6juM: Downloading ios player API JSON\n",
      "[youtube] v_jyOrw6juM: Downloading m3u8 information\n",
      "[info] v_jyOrw6juM: Downloading 1 format(s): 251\n",
      "[download] Destination: id03780_1_v_jyOrw6juM_00286\n",
      "[download] 100% of    4.27MiB in 00:00:00 at 5.23MiB/s   \n",
      "[ExtractAudio] Destination: id03780_1_v_jyOrw6juM_00286.mp3\n",
      "Deleting original file id03780_1_v_jyOrw6juM_00286 (pass -k to keep)\n",
      "Audio downloaded as id03780_1_v_jyOrw6juM_00286\n",
      "Trimmed audio saved as ../data/download_df_audio/id03780_1_v_jyOrw6juM_00286_cut.mp3\n",
      "Speaker: id03786, Video: urwaPGWup2E, Txt file: 00484\n",
      "[youtube] Extracting URL: https://www.youtube.com/watch?v=urwaPGWup2E\n",
      "[youtube] urwaPGWup2E: Downloading webpage\n",
      "[youtube] urwaPGWup2E: Downloading tv client config\n",
      "[youtube] urwaPGWup2E: Downloading player 5ae7d525\n",
      "[youtube] urwaPGWup2E: Downloading tv player API JSON\n",
      "[youtube] urwaPGWup2E: Downloading ios player API JSON\n",
      "[youtube] urwaPGWup2E: Downloading m3u8 information\n",
      "[info] urwaPGWup2E: Downloading 1 format(s): 140\n",
      "[download] Destination: id03786_0_urwaPGWup2E_00484\n",
      "[download] 100% of    5.37MiB in 00:00:02 at 2.63MiB/s   \n",
      "[FixupM4a] Correcting container of \"id03786_0_urwaPGWup2E_00484\"\n",
      "[ExtractAudio] Destination: id03786_0_urwaPGWup2E_00484.mp3\n",
      "Deleting original file id03786_0_urwaPGWup2E_00484 (pass -k to keep)\n",
      "Audio downloaded as id03786_0_urwaPGWup2E_00484\n",
      "Trimmed audio saved as ../data/download_df_audio/id03786_0_urwaPGWup2E_00484_cut.mp3\n",
      "Speaker: id03786, Video: ZAQG55jYk44, Txt file: 00281\n",
      "[youtube] Extracting URL: https://www.youtube.com/watch?v=ZAQG55jYk44\n",
      "[youtube] ZAQG55jYk44: Downloading webpage\n",
      "[youtube] ZAQG55jYk44: Downloading tv client config\n",
      "[youtube] ZAQG55jYk44: Downloading player 5ae7d525\n",
      "[youtube] ZAQG55jYk44: Downloading tv player API JSON\n",
      "[youtube] ZAQG55jYk44: Downloading ios player API JSON\n",
      "[youtube] ZAQG55jYk44: Downloading m3u8 information\n",
      "[info] ZAQG55jYk44: Downloading 1 format(s): 251\n",
      "[download] Destination: id03786_1_ZAQG55jYk44_00281\n",
      "[download] 100% of    5.23MiB in 00:00:03 at 1.41MiB/s   \n",
      "[ExtractAudio] Destination: id03786_1_ZAQG55jYk44_00281.mp3\n",
      "Deleting original file id03786_1_ZAQG55jYk44_00281 (pass -k to keep)\n",
      "Audio downloaded as id03786_1_ZAQG55jYk44_00281\n",
      "Trimmed audio saved as ../data/download_df_audio/id03786_1_ZAQG55jYk44_00281_cut.mp3\n",
      "Speaker: id03877, Video: iKBYSSJD8Fo, Txt file: 00329\n",
      "[youtube] Extracting URL: https://www.youtube.com/watch?v=iKBYSSJD8Fo\n",
      "[youtube] iKBYSSJD8Fo: Downloading webpage\n",
      "[youtube] iKBYSSJD8Fo: Downloading tv client config\n",
      "[youtube] iKBYSSJD8Fo: Downloading player 5ae7d525\n",
      "[youtube] iKBYSSJD8Fo: Downloading tv player API JSON\n",
      "[youtube] iKBYSSJD8Fo: Downloading ios player API JSON\n",
      "[youtube] iKBYSSJD8Fo: Downloading m3u8 information\n",
      "[info] iKBYSSJD8Fo: Downloading 1 format(s): 140\n",
      "[download] Destination: id03877_0_iKBYSSJD8Fo_00329\n",
      "[download] 100% of    4.72MiB in 00:00:00 at 5.87MiB/s   \n",
      "[FixupM4a] Correcting container of \"id03877_0_iKBYSSJD8Fo_00329\"\n",
      "[ExtractAudio] Destination: id03877_0_iKBYSSJD8Fo_00329.mp3\n",
      "Deleting original file id03877_0_iKBYSSJD8Fo_00329 (pass -k to keep)\n",
      "Audio downloaded as id03877_0_iKBYSSJD8Fo_00329\n",
      "Trimmed audio saved as ../data/download_df_audio/id03877_0_iKBYSSJD8Fo_00329_cut.mp3\n",
      "Speaker: id03877, Video: kp8wSI8iuys, Txt file: 00355\n",
      "[youtube] Extracting URL: https://www.youtube.com/watch?v=kp8wSI8iuys\n",
      "[youtube] kp8wSI8iuys: Downloading webpage\n",
      "[youtube] kp8wSI8iuys: Downloading tv client config\n",
      "[youtube] kp8wSI8iuys: Downloading player 5ae7d525\n",
      "[youtube] kp8wSI8iuys: Downloading tv player API JSON\n",
      "[youtube] kp8wSI8iuys: Downloading ios player API JSON\n",
      "[youtube] kp8wSI8iuys: Downloading m3u8 information\n",
      "[info] kp8wSI8iuys: Downloading 1 format(s): 251\n",
      "[download] Destination: id03877_1_kp8wSI8iuys_00355\n",
      "[download] 100% of    2.82MiB in 00:00:01 at 2.70MiB/s   \n",
      "[ExtractAudio] Destination: id03877_1_kp8wSI8iuys_00355.mp3\n",
      "Deleting original file id03877_1_kp8wSI8iuys_00355 (pass -k to keep)\n",
      "Audio downloaded as id03877_1_kp8wSI8iuys_00355\n",
      "Trimmed audio saved as ../data/download_df_audio/id03877_1_kp8wSI8iuys_00355_cut.mp3\n",
      "Speaker: id03884, Video: nzmAav8yCkI, Txt file: 00035\n",
      "[youtube] Extracting URL: https://www.youtube.com/watch?v=nzmAav8yCkI\n",
      "[youtube] nzmAav8yCkI: Downloading webpage\n",
      "[youtube] nzmAav8yCkI: Downloading tv client config\n",
      "[youtube] nzmAav8yCkI: Downloading player 5ae7d525\n",
      "[youtube] nzmAav8yCkI: Downloading tv player API JSON\n",
      "[youtube] nzmAav8yCkI: Downloading ios player API JSON\n",
      "[youtube] nzmAav8yCkI: Downloading m3u8 information\n",
      "[info] nzmAav8yCkI: Downloading 1 format(s): 251\n",
      "[download] Destination: id03884_0_nzmAav8yCkI_00035\n",
      "[download] 100% of    3.87MiB in 00:00:00 at 5.55MiB/s   \n",
      "[ExtractAudio] Destination: id03884_0_nzmAav8yCkI_00035.mp3\n",
      "Deleting original file id03884_0_nzmAav8yCkI_00035 (pass -k to keep)\n",
      "Audio downloaded as id03884_0_nzmAav8yCkI_00035\n",
      "Trimmed audio saved as ../data/download_df_audio/id03884_0_nzmAav8yCkI_00035_cut.mp3\n",
      "Speaker: id03884, Video: YQKlqeRnCHs, Txt file: 00022\n",
      "[youtube] Extracting URL: https://www.youtube.com/watch?v=YQKlqeRnCHs\n",
      "[youtube] YQKlqeRnCHs: Downloading webpage\n",
      "[youtube] YQKlqeRnCHs: Downloading tv client config\n",
      "[youtube] YQKlqeRnCHs: Downloading player 5ae7d525\n",
      "[youtube] YQKlqeRnCHs: Downloading tv player API JSON\n",
      "[youtube] YQKlqeRnCHs: Downloading ios player API JSON\n",
      "[youtube] YQKlqeRnCHs: Downloading m3u8 information\n",
      "[info] YQKlqeRnCHs: Downloading 1 format(s): 140\n",
      "[download] Destination: id03884_1_YQKlqeRnCHs_00022\n",
      "[download] 100% of   13.93MiB in 00:00:09 at 1.41MiB/s     \n",
      "[FixupM4a] Correcting container of \"id03884_1_YQKlqeRnCHs_00022\"\n",
      "[ExtractAudio] Destination: id03884_1_YQKlqeRnCHs_00022.mp3\n",
      "Deleting original file id03884_1_YQKlqeRnCHs_00022 (pass -k to keep)\n",
      "Audio downloaded as id03884_1_YQKlqeRnCHs_00022\n",
      "Trimmed audio saved as ../data/download_df_audio/id03884_1_YQKlqeRnCHs_00022_cut.mp3\n",
      "Speaker: id03947, Video: YXBkyoP9_Gg, Txt file: 00243\n",
      "[youtube] Extracting URL: https://www.youtube.com/watch?v=YXBkyoP9_Gg\n",
      "[youtube] YXBkyoP9_Gg: Downloading webpage\n",
      "[youtube] YXBkyoP9_Gg: Downloading tv client config\n",
      "[youtube] YXBkyoP9_Gg: Downloading player 5ae7d525\n",
      "[youtube] YXBkyoP9_Gg: Downloading tv player API JSON\n",
      "[youtube] YXBkyoP9_Gg: Downloading ios player API JSON\n",
      "[youtube] YXBkyoP9_Gg: Downloading m3u8 information\n",
      "[info] YXBkyoP9_Gg: Downloading 1 format(s): 251\n",
      "[download] Destination: id03947_0_YXBkyoP9_Gg_00243\n",
      "[download] 100% of    8.95MiB in 00:00:01 at 6.61MiB/s   \n",
      "[ExtractAudio] Destination: id03947_0_YXBkyoP9_Gg_00243.mp3\n",
      "Deleting original file id03947_0_YXBkyoP9_Gg_00243 (pass -k to keep)\n",
      "Audio downloaded as id03947_0_YXBkyoP9_Gg_00243\n",
      "Trimmed audio saved as ../data/download_df_audio/id03947_0_YXBkyoP9_Gg_00243_cut.mp3\n",
      "Speaker: id03947, Video: SQVNORAHrNk, Txt file: 00182\n",
      "[youtube] Extracting URL: https://www.youtube.com/watch?v=SQVNORAHrNk\n",
      "[youtube] SQVNORAHrNk: Downloading webpage\n",
      "[youtube] SQVNORAHrNk: Downloading tv client config\n",
      "[youtube] SQVNORAHrNk: Downloading player 5ae7d525\n",
      "[youtube] SQVNORAHrNk: Downloading tv player API JSON\n",
      "[youtube] SQVNORAHrNk: Downloading ios player API JSON\n",
      "[youtube] SQVNORAHrNk: Downloading m3u8 information\n",
      "[info] SQVNORAHrNk: Downloading 1 format(s): 140\n",
      "[download] Destination: id03947_1_SQVNORAHrNk_00182\n",
      "[download] 100% of    3.79MiB in 00:00:01 at 2.61MiB/s   \n",
      "[FixupM4a] Correcting container of \"id03947_1_SQVNORAHrNk_00182\"\n",
      "[ExtractAudio] Destination: id03947_1_SQVNORAHrNk_00182.mp3\n",
      "Deleting original file id03947_1_SQVNORAHrNk_00182 (pass -k to keep)\n",
      "Audio downloaded as id03947_1_SQVNORAHrNk_00182\n",
      "Trimmed audio saved as ../data/download_df_audio/id03947_1_SQVNORAHrNk_00182_cut.mp3\n",
      "Speaker: id03989, Video: xE4iAUiwciM, Txt file: 00454\n",
      "[youtube] Extracting URL: https://www.youtube.com/watch?v=xE4iAUiwciM\n",
      "[youtube] xE4iAUiwciM: Downloading webpage\n",
      "[youtube] xE4iAUiwciM: Downloading tv client config\n",
      "[youtube] xE4iAUiwciM: Downloading player 5ae7d525\n",
      "[youtube] xE4iAUiwciM: Downloading tv player API JSON\n",
      "[youtube] xE4iAUiwciM: Downloading ios player API JSON\n",
      "[youtube] xE4iAUiwciM: Downloading m3u8 information\n",
      "[info] xE4iAUiwciM: Downloading 1 format(s): 140\n",
      "[download] Destination: id03989_0_xE4iAUiwciM_00454\n",
      "[download] 100% of    8.97MiB in 00:00:02 at 3.83MiB/s   \n",
      "[FixupM4a] Correcting container of \"id03989_0_xE4iAUiwciM_00454\"\n",
      "[ExtractAudio] Destination: id03989_0_xE4iAUiwciM_00454.mp3\n",
      "Deleting original file id03989_0_xE4iAUiwciM_00454 (pass -k to keep)\n",
      "Audio downloaded as id03989_0_xE4iAUiwciM_00454\n",
      "Trimmed audio saved as ../data/download_df_audio/id03989_0_xE4iAUiwciM_00454_cut.mp3\n",
      "Speaker: id03989, Video: XGtC6jRdgf0, Txt file: 00239\n",
      "[youtube] Extracting URL: https://www.youtube.com/watch?v=XGtC6jRdgf0\n",
      "[youtube] XGtC6jRdgf0: Downloading webpage\n",
      "[youtube] XGtC6jRdgf0: Downloading tv client config\n",
      "[youtube] XGtC6jRdgf0: Downloading player 5ae7d525\n",
      "[youtube] XGtC6jRdgf0: Downloading tv player API JSON\n",
      "[youtube] XGtC6jRdgf0: Downloading ios player API JSON\n",
      "[youtube] XGtC6jRdgf0: Downloading m3u8 information\n",
      "[info] XGtC6jRdgf0: Downloading 1 format(s): 251\n",
      "[download] Destination: id03989_1_XGtC6jRdgf0_00239\n",
      "[download] 100% of    2.28MiB in 00:00:00 at 3.13MiB/s   \n",
      "[ExtractAudio] Destination: id03989_1_XGtC6jRdgf0_00239.mp3\n",
      "Deleting original file id03989_1_XGtC6jRdgf0_00239 (pass -k to keep)\n",
      "Audio downloaded as id03989_1_XGtC6jRdgf0_00239\n",
      "Trimmed audio saved as ../data/download_df_audio/id03989_1_XGtC6jRdgf0_00239_cut.mp3\n",
      "Speaker: id04145, Video: 5puSulPxYzg, Txt file: 00037\n",
      "[youtube] Extracting URL: https://www.youtube.com/watch?v=5puSulPxYzg\n",
      "[youtube] 5puSulPxYzg: Downloading webpage\n",
      "[youtube] 5puSulPxYzg: Downloading tv client config\n",
      "[youtube] 5puSulPxYzg: Downloading player 5ae7d525\n",
      "[youtube] 5puSulPxYzg: Downloading tv player API JSON\n",
      "[youtube] 5puSulPxYzg: Downloading ios player API JSON\n",
      "[youtube] 5puSulPxYzg: Downloading m3u8 information\n",
      "[info] 5puSulPxYzg: Downloading 1 format(s): 140\n",
      "[download] Destination: id04145_0_5puSulPxYzg_00037\n",
      "[download] 100% of    2.97MiB in 00:00:00 at 3.37MiB/s   \n",
      "[FixupM4a] Correcting container of \"id04145_0_5puSulPxYzg_00037\"\n",
      "[ExtractAudio] Destination: id04145_0_5puSulPxYzg_00037.mp3\n",
      "Deleting original file id04145_0_5puSulPxYzg_00037 (pass -k to keep)\n",
      "Audio downloaded as id04145_0_5puSulPxYzg_00037\n",
      "Trimmed audio saved as ../data/download_df_audio/id04145_0_5puSulPxYzg_00037_cut.mp3\n",
      "Speaker: id04145, Video: 3tTlSv_z0i8, Txt file: 00021\n",
      "[youtube] Extracting URL: https://www.youtube.com/watch?v=3tTlSv_z0i8\n",
      "[youtube] 3tTlSv_z0i8: Downloading webpage\n",
      "[youtube] 3tTlSv_z0i8: Downloading tv client config\n",
      "[youtube] 3tTlSv_z0i8: Downloading player 5ae7d525\n",
      "[youtube] 3tTlSv_z0i8: Downloading tv player API JSON\n",
      "[youtube] 3tTlSv_z0i8: Downloading ios player API JSON\n",
      "[youtube] 3tTlSv_z0i8: Downloading m3u8 information\n",
      "[info] 3tTlSv_z0i8: Downloading 1 format(s): 140\n",
      "[download] Destination: id04145_1_3tTlSv_z0i8_00021\n",
      "[download] 100% of    5.46MiB in 00:00:01 at 3.75MiB/s   \n",
      "[FixupM4a] Correcting container of \"id04145_1_3tTlSv_z0i8_00021\"\n",
      "[ExtractAudio] Destination: id04145_1_3tTlSv_z0i8_00021.mp3\n",
      "Deleting original file id04145_1_3tTlSv_z0i8_00021 (pass -k to keep)\n",
      "Audio downloaded as id04145_1_3tTlSv_z0i8_00021\n",
      "Trimmed audio saved as ../data/download_df_audio/id04145_1_3tTlSv_z0i8_00021_cut.mp3\n",
      "Speaker: id04151, Video: wFuPWui7z-U, Txt file: 00482\n",
      "[youtube] Extracting URL: https://www.youtube.com/watch?v=wFuPWui7z-U\n",
      "[youtube] wFuPWui7z-U: Downloading webpage\n",
      "[youtube] wFuPWui7z-U: Downloading tv client config\n",
      "[youtube] wFuPWui7z-U: Downloading player 5ae7d525\n",
      "[youtube] wFuPWui7z-U: Downloading tv player API JSON\n",
      "[youtube] wFuPWui7z-U: Downloading ios player API JSON\n",
      "[youtube] wFuPWui7z-U: Downloading m3u8 information\n",
      "[info] wFuPWui7z-U: Downloading 1 format(s): 140\n",
      "[download] Destination: id04151_0_wFuPWui7z-U_00482\n",
      "[download] 100% of  803.83KiB in 00:00:00 at 2.09MiB/s   \n",
      "[FixupM4a] Correcting container of \"id04151_0_wFuPWui7z-U_00482\"\n",
      "[ExtractAudio] Destination: id04151_0_wFuPWui7z-U_00482.mp3\n",
      "Deleting original file id04151_0_wFuPWui7z-U_00482 (pass -k to keep)\n",
      "Audio downloaded as id04151_0_wFuPWui7z-U_00482\n",
      "Trimmed audio saved as ../data/download_df_audio/id04151_0_wFuPWui7z-U_00482_cut.mp3\n",
      "Speaker: id04151, Video: koHsILhLrL0, Txt file: 00370\n",
      "[youtube] Extracting URL: https://www.youtube.com/watch?v=koHsILhLrL0\n",
      "[youtube] koHsILhLrL0: Downloading webpage\n",
      "[youtube] koHsILhLrL0: Downloading tv client config\n",
      "[youtube] koHsILhLrL0: Downloading player 5ae7d525\n",
      "[youtube] koHsILhLrL0: Downloading tv player API JSON\n",
      "[youtube] koHsILhLrL0: Downloading ios player API JSON\n",
      "[youtube] koHsILhLrL0: Downloading m3u8 information\n",
      "[info] koHsILhLrL0: Downloading 1 format(s): 140\n",
      "[download] Destination: id04151_1_koHsILhLrL0_00370\n",
      "[download] 100% of   20.77MiB in 00:00:01 at 10.51MiB/s    \n",
      "[FixupM4a] Correcting container of \"id04151_1_koHsILhLrL0_00370\"\n",
      "[ExtractAudio] Destination: id04151_1_koHsILhLrL0_00370.mp3\n",
      "Deleting original file id04151_1_koHsILhLrL0_00370 (pass -k to keep)\n",
      "Audio downloaded as id04151_1_koHsILhLrL0_00370\n",
      "Trimmed audio saved as ../data/download_df_audio/id04151_1_koHsILhLrL0_00370_cut.mp3\n",
      "Speaker: id04237, Video: KPFxc9xcEmk, Txt file: 00083\n",
      "[youtube] Extracting URL: https://www.youtube.com/watch?v=KPFxc9xcEmk\n",
      "[youtube] KPFxc9xcEmk: Downloading webpage\n",
      "[youtube] KPFxc9xcEmk: Downloading tv client config\n",
      "[youtube] KPFxc9xcEmk: Downloading player 5ae7d525\n",
      "[youtube] KPFxc9xcEmk: Downloading tv player API JSON\n",
      "[youtube] KPFxc9xcEmk: Downloading ios player API JSON\n",
      "[youtube] KPFxc9xcEmk: Downloading m3u8 information\n",
      "[info] KPFxc9xcEmk: Downloading 1 format(s): 251\n",
      "[download] Destination: id04237_0_KPFxc9xcEmk_00083\n",
      "[download] 100% of   35.50MiB in 00:00:02 at 12.48MiB/s    \n",
      "[ExtractAudio] Destination: id04237_0_KPFxc9xcEmk_00083.mp3\n",
      "Deleting original file id04237_0_KPFxc9xcEmk_00083 (pass -k to keep)\n",
      "Audio downloaded as id04237_0_KPFxc9xcEmk_00083\n",
      "Trimmed audio saved as ../data/download_df_audio/id04237_0_KPFxc9xcEmk_00083_cut.mp3\n",
      "Speaker: id04237, Video: KMTN5srNioM, Txt file: 00060\n",
      "[youtube] Extracting URL: https://www.youtube.com/watch?v=KMTN5srNioM\n",
      "[youtube] KMTN5srNioM: Downloading webpage\n",
      "[youtube] KMTN5srNioM: Downloading tv client config\n",
      "[youtube] KMTN5srNioM: Downloading player 5ae7d525\n",
      "[youtube] KMTN5srNioM: Downloading tv player API JSON\n",
      "[youtube] KMTN5srNioM: Downloading ios player API JSON\n",
      "[youtube] KMTN5srNioM: Downloading m3u8 information\n",
      "[info] KMTN5srNioM: Downloading 1 format(s): 140\n",
      "[download] Destination: id04237_1_KMTN5srNioM_00060\n",
      "[download] 100% of    2.88MiB in 00:00:00 at 6.80MiB/s   \n",
      "[FixupM4a] Correcting container of \"id04237_1_KMTN5srNioM_00060\"\n",
      "[ExtractAudio] Destination: id04237_1_KMTN5srNioM_00060.mp3\n",
      "Deleting original file id04237_1_KMTN5srNioM_00060 (pass -k to keep)\n",
      "Audio downloaded as id04237_1_KMTN5srNioM_00060\n",
      "Trimmed audio saved as ../data/download_df_audio/id04237_1_KMTN5srNioM_00060_cut.mp3\n",
      "Speaker: id04258, Video: NRT7Ds_1i0s, Txt file: 00137\n",
      "[youtube] Extracting URL: https://www.youtube.com/watch?v=NRT7Ds_1i0s\n",
      "[youtube] NRT7Ds_1i0s: Downloading webpage\n",
      "[youtube] NRT7Ds_1i0s: Downloading tv client config\n",
      "[youtube] NRT7Ds_1i0s: Downloading player 5ae7d525\n",
      "[youtube] NRT7Ds_1i0s: Downloading tv player API JSON\n",
      "[youtube] NRT7Ds_1i0s: Downloading ios player API JSON\n",
      "[youtube] NRT7Ds_1i0s: Downloading m3u8 information\n",
      "[info] NRT7Ds_1i0s: Downloading 1 format(s): 258\n",
      "[download] Destination: id04258_0_NRT7Ds_1i0s_00137\n",
      "[download] 100% of   25.49MiB in 00:00:05 at 4.61MiB/s     \n",
      "[FixupM4a] Correcting container of \"id04258_0_NRT7Ds_1i0s_00137\"\n",
      "[ExtractAudio] Destination: id04258_0_NRT7Ds_1i0s_00137.mp3\n",
      "Deleting original file id04258_0_NRT7Ds_1i0s_00137 (pass -k to keep)\n",
      "Audio downloaded as id04258_0_NRT7Ds_1i0s_00137\n",
      "Trimmed audio saved as ../data/download_df_audio/id04258_0_NRT7Ds_1i0s_00137_cut.mp3\n",
      "Speaker: id04258, Video: ZLFvmxgcF2w, Txt file: 00178\n",
      "[youtube] Extracting URL: https://www.youtube.com/watch?v=ZLFvmxgcF2w\n",
      "[youtube] ZLFvmxgcF2w: Downloading webpage\n",
      "[youtube] ZLFvmxgcF2w: Downloading tv client config\n",
      "[youtube] ZLFvmxgcF2w: Downloading player 5ae7d525\n",
      "[youtube] ZLFvmxgcF2w: Downloading tv player API JSON\n",
      "[youtube] ZLFvmxgcF2w: Downloading ios player API JSON\n",
      "[youtube] ZLFvmxgcF2w: Downloading m3u8 information\n",
      "[info] ZLFvmxgcF2w: Downloading 1 format(s): 140\n",
      "[download] Destination: id04258_1_ZLFvmxgcF2w_00178\n",
      "[download] 100% of    9.27MiB in 00:00:00 at 9.91MiB/s   \n",
      "[FixupM4a] Correcting container of \"id04258_1_ZLFvmxgcF2w_00178\"\n",
      "[ExtractAudio] Destination: id04258_1_ZLFvmxgcF2w_00178.mp3\n",
      "Deleting original file id04258_1_ZLFvmxgcF2w_00178 (pass -k to keep)\n",
      "Audio downloaded as id04258_1_ZLFvmxgcF2w_00178\n",
      "Trimmed audio saved as ../data/download_df_audio/id04258_1_ZLFvmxgcF2w_00178_cut.mp3\n",
      "Speaker: id04265, Video: t4JnOcBdfLk, Txt file: 00366\n",
      "[youtube] Extracting URL: https://www.youtube.com/watch?v=t4JnOcBdfLk\n",
      "[youtube] t4JnOcBdfLk: Downloading webpage\n",
      "[youtube] t4JnOcBdfLk: Downloading tv client config\n",
      "[youtube] t4JnOcBdfLk: Downloading player 5ae7d525\n",
      "[youtube] t4JnOcBdfLk: Downloading tv player API JSON\n",
      "[youtube] t4JnOcBdfLk: Downloading ios player API JSON\n",
      "[youtube] t4JnOcBdfLk: Downloading m3u8 information\n",
      "[info] t4JnOcBdfLk: Downloading 1 format(s): 140\n",
      "[download] Destination: id04265_0_t4JnOcBdfLk_00366\n",
      "[download] 100% of    5.11MiB in 00:00:01 at 4.16MiB/s   \n",
      "[FixupM4a] Correcting container of \"id04265_0_t4JnOcBdfLk_00366\"\n",
      "[ExtractAudio] Destination: id04265_0_t4JnOcBdfLk_00366.mp3\n",
      "Deleting original file id04265_0_t4JnOcBdfLk_00366 (pass -k to keep)\n",
      "Audio downloaded as id04265_0_t4JnOcBdfLk_00366\n",
      "Trimmed audio saved as ../data/download_df_audio/id04265_0_t4JnOcBdfLk_00366_cut.mp3\n",
      "Speaker: id04265, Video: 6l1XZ2IfXrw, Txt file: 00034\n"
     ]
    },
    {
     "name": "stderr",
     "output_type": "stream",
     "text": [
      "ERROR: [youtube] 6l1XZ2IfXrw: Video unavailable\n"
     ]
    },
    {
     "name": "stdout",
     "output_type": "stream",
     "text": [
      "Speaker: id04265, Video: t91Lf9I4Y-M, Txt file: 00380\n",
      "[youtube] Extracting URL: https://www.youtube.com/watch?v=t91Lf9I4Y-M\n",
      "[youtube] t91Lf9I4Y-M: Downloading webpage\n",
      "[youtube] t91Lf9I4Y-M: Downloading tv client config\n",
      "[youtube] t91Lf9I4Y-M: Downloading player 5ae7d525\n",
      "[youtube] t91Lf9I4Y-M: Downloading tv player API JSON\n",
      "[youtube] t91Lf9I4Y-M: Downloading ios player API JSON\n",
      "[youtube] t91Lf9I4Y-M: Downloading m3u8 information\n",
      "[info] t91Lf9I4Y-M: Downloading 1 format(s): 251\n",
      "[download] Destination: id04265_1_t91Lf9I4Y-M_00380\n",
      "[download] 100% of    9.45MiB in 00:00:03 at 2.81MiB/s   \n",
      "[ExtractAudio] Destination: id04265_1_t91Lf9I4Y-M_00380.mp3\n",
      "Deleting original file id04265_1_t91Lf9I4Y-M_00380 (pass -k to keep)\n",
      "Audio downloaded as id04265_1_t91Lf9I4Y-M_00380\n",
      "Trimmed audio saved as ../data/download_df_audio/id04265_1_t91Lf9I4Y-M_00380_cut.mp3\n",
      "Speaker: id04284, Video: n3g-Wv-p_ug, Txt file: 00292\n",
      "[youtube] Extracting URL: https://www.youtube.com/watch?v=n3g-Wv-p_ug\n",
      "[youtube] n3g-Wv-p_ug: Downloading webpage\n",
      "[youtube] n3g-Wv-p_ug: Downloading tv client config\n",
      "[youtube] n3g-Wv-p_ug: Downloading player 5ae7d525\n",
      "[youtube] n3g-Wv-p_ug: Downloading tv player API JSON\n",
      "[youtube] n3g-Wv-p_ug: Downloading ios player API JSON\n",
      "[youtube] n3g-Wv-p_ug: Downloading m3u8 information\n",
      "[info] n3g-Wv-p_ug: Downloading 1 format(s): 140\n",
      "[download] Destination: id04284_0_n3g-Wv-p_ug_00292\n",
      "[download] 100% of    5.63MiB in 00:00:00 at 5.89MiB/s   \n",
      "[FixupM4a] Correcting container of \"id04284_0_n3g-Wv-p_ug_00292\"\n",
      "[ExtractAudio] Destination: id04284_0_n3g-Wv-p_ug_00292.mp3\n",
      "Deleting original file id04284_0_n3g-Wv-p_ug_00292 (pass -k to keep)\n",
      "Audio downloaded as id04284_0_n3g-Wv-p_ug_00292\n",
      "Trimmed audio saved as ../data/download_df_audio/id04284_0_n3g-Wv-p_ug_00292_cut.mp3\n",
      "Speaker: id04284, Video: cfm-iTHDYM4, Txt file: 00212\n",
      "[youtube] Extracting URL: https://www.youtube.com/watch?v=cfm-iTHDYM4\n",
      "[youtube] cfm-iTHDYM4: Downloading webpage\n",
      "[youtube] cfm-iTHDYM4: Downloading tv client config\n",
      "[youtube] cfm-iTHDYM4: Downloading player 5ae7d525\n",
      "[youtube] cfm-iTHDYM4: Downloading tv player API JSON\n",
      "[youtube] cfm-iTHDYM4: Downloading ios player API JSON\n",
      "[youtube] cfm-iTHDYM4: Downloading m3u8 information\n",
      "[info] cfm-iTHDYM4: Downloading 1 format(s): 140\n",
      "[download] Destination: id04284_1_cfm-iTHDYM4_00212\n",
      "[download] 100% of    4.89MiB in 00:00:00 at 6.14MiB/s   \n",
      "[FixupM4a] Correcting container of \"id04284_1_cfm-iTHDYM4_00212\"\n",
      "[ExtractAudio] Destination: id04284_1_cfm-iTHDYM4_00212.mp3\n",
      "Deleting original file id04284_1_cfm-iTHDYM4_00212 (pass -k to keep)\n",
      "Audio downloaded as id04284_1_cfm-iTHDYM4_00212\n",
      "Trimmed audio saved as ../data/download_df_audio/id04284_1_cfm-iTHDYM4_00212_cut.mp3\n",
      "Speaker: id04408, Video: kiH_yLZXrRs, Txt file: 00388\n",
      "[youtube] Extracting URL: https://www.youtube.com/watch?v=kiH_yLZXrRs\n",
      "[youtube] kiH_yLZXrRs: Downloading webpage\n",
      "[youtube] kiH_yLZXrRs: Downloading tv client config\n",
      "[youtube] kiH_yLZXrRs: Downloading player 5ae7d525\n",
      "[youtube] kiH_yLZXrRs: Downloading tv player API JSON\n",
      "[youtube] kiH_yLZXrRs: Downloading ios player API JSON\n",
      "[youtube] kiH_yLZXrRs: Downloading m3u8 information\n",
      "[info] kiH_yLZXrRs: Downloading 1 format(s): 140\n",
      "[download] Destination: id04408_0_kiH_yLZXrRs_00388\n",
      "[download] 100% of    2.66MiB in 00:00:01 at 2.62MiB/s   \n",
      "[FixupM4a] Correcting container of \"id04408_0_kiH_yLZXrRs_00388\"\n",
      "[ExtractAudio] Destination: id04408_0_kiH_yLZXrRs_00388.mp3\n",
      "Deleting original file id04408_0_kiH_yLZXrRs_00388 (pass -k to keep)\n",
      "Audio downloaded as id04408_0_kiH_yLZXrRs_00388\n",
      "Trimmed audio saved as ../data/download_df_audio/id04408_0_kiH_yLZXrRs_00388_cut.mp3\n",
      "Speaker: id04408, Video: 1PZfos59NwY, Txt file: 00025\n",
      "[youtube] Extracting URL: https://www.youtube.com/watch?v=1PZfos59NwY\n",
      "[youtube] 1PZfos59NwY: Downloading webpage\n",
      "[youtube] 1PZfos59NwY: Downloading tv client config\n",
      "[youtube] 1PZfos59NwY: Downloading player 5ae7d525\n",
      "[youtube] 1PZfos59NwY: Downloading tv player API JSON\n",
      "[youtube] 1PZfos59NwY: Downloading ios player API JSON\n",
      "[youtube] 1PZfos59NwY: Downloading m3u8 information\n",
      "[info] 1PZfos59NwY: Downloading 1 format(s): 251\n",
      "[download] Destination: id04408_1_1PZfos59NwY_00025\n",
      "[download] 100% of    2.18MiB in 00:00:00 at 2.43MiB/s   \n",
      "[ExtractAudio] Destination: id04408_1_1PZfos59NwY_00025.mp3\n",
      "Deleting original file id04408_1_1PZfos59NwY_00025 (pass -k to keep)\n",
      "Audio downloaded as id04408_1_1PZfos59NwY_00025\n",
      "Trimmed audio saved as ../data/download_df_audio/id04408_1_1PZfos59NwY_00025_cut.mp3\n",
      "Speaker: id04409, Video: CJgzHC7NQoE, Txt file: 00104\n"
     ]
    },
    {
     "name": "stderr",
     "output_type": "stream",
     "text": [
      "ERROR: [youtube] CJgzHC7NQoE: Video unavailable\n"
     ]
    },
    {
     "name": "stdout",
     "output_type": "stream",
     "text": [
      "Speaker: id04409, Video: k8LEnUhc0OE, Txt file: 00398\n",
      "[youtube] Extracting URL: https://www.youtube.com/watch?v=k8LEnUhc0OE\n",
      "[youtube] k8LEnUhc0OE: Downloading webpage\n",
      "[youtube] k8LEnUhc0OE: Downloading tv client config\n",
      "[youtube] k8LEnUhc0OE: Downloading player 5ae7d525\n",
      "[youtube] k8LEnUhc0OE: Downloading tv player API JSON\n",
      "[youtube] k8LEnUhc0OE: Downloading ios player API JSON\n",
      "[youtube] k8LEnUhc0OE: Downloading m3u8 information\n",
      "[info] k8LEnUhc0OE: Downloading 1 format(s): 140\n",
      "[download] Destination: id04409_0_k8LEnUhc0OE_00398\n",
      "[download] 100% of    7.60MiB in 00:00:01 at 4.70MiB/s   \n",
      "[FixupM4a] Correcting container of \"id04409_0_k8LEnUhc0OE_00398\"\n",
      "[ExtractAudio] Destination: id04409_0_k8LEnUhc0OE_00398.mp3\n",
      "Deleting original file id04409_0_k8LEnUhc0OE_00398 (pass -k to keep)\n",
      "Audio downloaded as id04409_0_k8LEnUhc0OE_00398\n",
      "Trimmed audio saved as ../data/download_df_audio/id04409_0_k8LEnUhc0OE_00398_cut.mp3\n",
      "Speaker: id04409, Video: YEfgG64sHoY, Txt file: 00348\n",
      "[youtube] Extracting URL: https://www.youtube.com/watch?v=YEfgG64sHoY\n",
      "[youtube] YEfgG64sHoY: Downloading webpage\n",
      "[youtube] YEfgG64sHoY: Downloading tv client config\n",
      "[youtube] YEfgG64sHoY: Downloading player 5ae7d525\n",
      "[youtube] YEfgG64sHoY: Downloading tv player API JSON\n",
      "[youtube] YEfgG64sHoY: Downloading ios player API JSON\n",
      "[youtube] YEfgG64sHoY: Downloading m3u8 information\n",
      "[info] YEfgG64sHoY: Downloading 1 format(s): 251\n",
      "[download] Destination: id04409_1_YEfgG64sHoY_00348\n",
      "[download] 100% of    1.50MiB in 00:00:00 at 3.80MiB/s   \n",
      "[ExtractAudio] Destination: id04409_1_YEfgG64sHoY_00348.mp3\n",
      "Deleting original file id04409_1_YEfgG64sHoY_00348 (pass -k to keep)\n",
      "Audio downloaded as id04409_1_YEfgG64sHoY_00348\n",
      "Trimmed audio saved as ../data/download_df_audio/id04409_1_YEfgG64sHoY_00348_cut.mp3\n",
      "Speaker: id04476, Video: mUWEaL7tSvM, Txt file: 00090\n",
      "[youtube] Extracting URL: https://www.youtube.com/watch?v=mUWEaL7tSvM\n",
      "[youtube] mUWEaL7tSvM: Downloading webpage\n",
      "[youtube] mUWEaL7tSvM: Downloading tv client config\n",
      "[youtube] mUWEaL7tSvM: Downloading player 5ae7d525\n",
      "[youtube] mUWEaL7tSvM: Downloading tv player API JSON\n",
      "[youtube] mUWEaL7tSvM: Downloading ios player API JSON\n",
      "[youtube] mUWEaL7tSvM: Downloading m3u8 information\n",
      "[info] mUWEaL7tSvM: Downloading 1 format(s): 140\n",
      "[download] Destination: id04476_0_mUWEaL7tSvM_00090\n",
      "[download] 100% of    7.89MiB in 00:00:01 at 5.40MiB/s   \n",
      "[FixupM4a] Correcting container of \"id04476_0_mUWEaL7tSvM_00090\"\n",
      "[ExtractAudio] Destination: id04476_0_mUWEaL7tSvM_00090.mp3\n",
      "Deleting original file id04476_0_mUWEaL7tSvM_00090 (pass -k to keep)\n",
      "Audio downloaded as id04476_0_mUWEaL7tSvM_00090\n",
      "Trimmed audio saved as ../data/download_df_audio/id04476_0_mUWEaL7tSvM_00090_cut.mp3\n",
      "Speaker: id04476, Video: VsosToJ1dxc, Txt file: 00044\n"
     ]
    },
    {
     "name": "stderr",
     "output_type": "stream",
     "text": [
      "ERROR: [youtube] VsosToJ1dxc: Private video. Sign in if you've been granted access to this video. Use --cookies-from-browser or --cookies for the authentication. See  https://github.com/yt-dlp/yt-dlp/wiki/FAQ#how-do-i-pass-cookies-to-yt-dlp  for how to manually pass cookies. Also see  https://github.com/yt-dlp/yt-dlp/wiki/Extractors#exporting-youtube-cookies  for tips on effectively exporting YouTube cookies\n"
     ]
    },
    {
     "name": "stdout",
     "output_type": "stream",
     "text": [
      "Speaker: id04476, Video: VsosToJ1dxc, Txt file: 00050\n"
     ]
    },
    {
     "name": "stderr",
     "output_type": "stream",
     "text": [
      "ERROR: [youtube] VsosToJ1dxc: Private video. Sign in if you've been granted access to this video. Use --cookies-from-browser or --cookies for the authentication. See  https://github.com/yt-dlp/yt-dlp/wiki/FAQ#how-do-i-pass-cookies-to-yt-dlp  for how to manually pass cookies. Also see  https://github.com/yt-dlp/yt-dlp/wiki/Extractors#exporting-youtube-cookies  for tips on effectively exporting YouTube cookies\n"
     ]
    },
    {
     "name": "stdout",
     "output_type": "stream",
     "text": [
      "Speaker: id04476, Video: VsosToJ1dxc, Txt file: 00046\n"
     ]
    },
    {
     "name": "stderr",
     "output_type": "stream",
     "text": [
      "ERROR: [youtube] VsosToJ1dxc: Private video. Sign in if you've been granted access to this video. Use --cookies-from-browser or --cookies for the authentication. See  https://github.com/yt-dlp/yt-dlp/wiki/FAQ#how-do-i-pass-cookies-to-yt-dlp  for how to manually pass cookies. Also see  https://github.com/yt-dlp/yt-dlp/wiki/Extractors#exporting-youtube-cookies  for tips on effectively exporting YouTube cookies\n"
     ]
    },
    {
     "name": "stdout",
     "output_type": "stream",
     "text": [
      "Speaker: id04476, Video: xNH8dcy9jm0, Txt file: 00163\n",
      "[youtube] Extracting URL: https://www.youtube.com/watch?v=xNH8dcy9jm0\n",
      "[youtube] xNH8dcy9jm0: Downloading webpage\n",
      "[youtube] xNH8dcy9jm0: Downloading tv client config\n",
      "[youtube] xNH8dcy9jm0: Downloading player 5ae7d525\n",
      "[youtube] xNH8dcy9jm0: Downloading tv player API JSON\n",
      "[youtube] xNH8dcy9jm0: Downloading ios player API JSON\n",
      "[youtube] xNH8dcy9jm0: Downloading m3u8 information\n",
      "[info] xNH8dcy9jm0: Downloading 1 format(s): 251\n",
      "[download] Destination: id04476_1_xNH8dcy9jm0_00163\n",
      "[download] 100% of    2.27MiB in 00:00:00 at 3.39MiB/s   \n",
      "[ExtractAudio] Destination: id04476_1_xNH8dcy9jm0_00163.mp3\n",
      "Deleting original file id04476_1_xNH8dcy9jm0_00163 (pass -k to keep)\n",
      "Audio downloaded as id04476_1_xNH8dcy9jm0_00163\n",
      "Trimmed audio saved as ../data/download_df_audio/id04476_1_xNH8dcy9jm0_00163_cut.mp3\n",
      "Speaker: id04486, Video: A02XDYsRXUw, Txt file: 00072\n",
      "[youtube] Extracting URL: https://www.youtube.com/watch?v=A02XDYsRXUw\n",
      "[youtube] A02XDYsRXUw: Downloading webpage\n",
      "[youtube] A02XDYsRXUw: Downloading tv client config\n",
      "[youtube] A02XDYsRXUw: Downloading player 5ae7d525\n",
      "[youtube] A02XDYsRXUw: Downloading tv player API JSON\n",
      "[youtube] A02XDYsRXUw: Downloading ios player API JSON\n",
      "[youtube] A02XDYsRXUw: Downloading m3u8 information\n",
      "[info] A02XDYsRXUw: Downloading 1 format(s): 251\n",
      "[download] Destination: id04486_0_A02XDYsRXUw_00072\n",
      "[download] 100% of   30.24MiB in 00:00:11 at 2.66MiB/s     \n",
      "[ExtractAudio] Destination: id04486_0_A02XDYsRXUw_00072.mp3\n",
      "Deleting original file id04486_0_A02XDYsRXUw_00072 (pass -k to keep)\n",
      "Audio downloaded as id04486_0_A02XDYsRXUw_00072\n",
      "Trimmed audio saved as ../data/download_df_audio/id04486_0_A02XDYsRXUw_00072_cut.mp3\n",
      "Speaker: id04486, Video: 8_FST6kg_us, Txt file: 00061\n",
      "[youtube] Extracting URL: https://www.youtube.com/watch?v=8_FST6kg_us\n",
      "[youtube] 8_FST6kg_us: Downloading webpage\n",
      "[youtube] 8_FST6kg_us: Downloading tv client config\n",
      "[youtube] 8_FST6kg_us: Downloading player 5ae7d525\n",
      "[youtube] 8_FST6kg_us: Downloading tv player API JSON\n",
      "[youtube] 8_FST6kg_us: Downloading ios player API JSON\n",
      "[youtube] 8_FST6kg_us: Downloading m3u8 information\n",
      "[info] 8_FST6kg_us: Downloading 1 format(s): 140\n",
      "[download] Destination: id04486_1_8_FST6kg_us_00061\n",
      "[download] 100% of    4.07MiB in 00:00:01 at 3.33MiB/s   \n",
      "[FixupM4a] Correcting container of \"id04486_1_8_FST6kg_us_00061\"\n",
      "[ExtractAudio] Destination: id04486_1_8_FST6kg_us_00061.mp3\n",
      "Deleting original file id04486_1_8_FST6kg_us_00061 (pass -k to keep)\n",
      "Audio downloaded as id04486_1_8_FST6kg_us_00061\n",
      "Trimmed audio saved as ../data/download_df_audio/id04486_1_8_FST6kg_us_00061_cut.mp3\n",
      "Speaker: id04509, Video: bKsRwspK38Q, Txt file: 00237\n",
      "[youtube] Extracting URL: https://www.youtube.com/watch?v=bKsRwspK38Q\n",
      "[youtube] bKsRwspK38Q: Downloading webpage\n",
      "[youtube] bKsRwspK38Q: Downloading tv client config\n",
      "[youtube] bKsRwspK38Q: Downloading player 5ae7d525\n",
      "[youtube] bKsRwspK38Q: Downloading tv player API JSON\n",
      "[youtube] bKsRwspK38Q: Downloading ios player API JSON\n",
      "[youtube] bKsRwspK38Q: Downloading m3u8 information\n",
      "[info] bKsRwspK38Q: Downloading 1 format(s): 140\n",
      "[download] Destination: id04509_0_bKsRwspK38Q_00237\n",
      "[download] 100% of    2.76MiB in 00:00:00 at 4.23MiB/s   \n",
      "[FixupM4a] Correcting container of \"id04509_0_bKsRwspK38Q_00237\"\n",
      "[ExtractAudio] Destination: id04509_0_bKsRwspK38Q_00237.mp3\n",
      "Deleting original file id04509_0_bKsRwspK38Q_00237 (pass -k to keep)\n",
      "Audio downloaded as id04509_0_bKsRwspK38Q_00237\n",
      "Trimmed audio saved as ../data/download_df_audio/id04509_0_bKsRwspK38Q_00237_cut.mp3\n",
      "Speaker: id04509, Video: soZR7vyJOAQ, Txt file: 00433\n"
     ]
    },
    {
     "name": "stderr",
     "output_type": "stream",
     "text": [
      "ERROR: [youtube] soZR7vyJOAQ: Video unavailable\n"
     ]
    },
    {
     "name": "stdout",
     "output_type": "stream",
     "text": [
      "Speaker: id04509, Video: EK54gLer124, Txt file: 00077\n"
     ]
    },
    {
     "name": "stderr",
     "output_type": "stream",
     "text": [
      "ERROR: [youtube] EK54gLer124: Video unavailable\n"
     ]
    },
    {
     "name": "stdout",
     "output_type": "stream",
     "text": [
      "Speaker: id04509, Video: oKODexnlRgo, Txt file: 00382\n"
     ]
    },
    {
     "name": "stderr",
     "output_type": "stream",
     "text": [
      "ERROR: [youtube] oKODexnlRgo: Video unavailable\n"
     ]
    },
    {
     "name": "stdout",
     "output_type": "stream",
     "text": [
      "Speaker: id04509, Video: wB94Z4Ke3e4, Txt file: 00443\n"
     ]
    },
    {
     "name": "stderr",
     "output_type": "stream",
     "text": [
      "ERROR: [youtube] wB94Z4Ke3e4: Video unavailable\n"
     ]
    },
    {
     "name": "stdout",
     "output_type": "stream",
     "text": [
      "Speaker: id04509, Video: M8OTfZzsmQo, Txt file: 00123\n"
     ]
    },
    {
     "name": "stderr",
     "output_type": "stream",
     "text": [
      "ERROR: [youtube] M8OTfZzsmQo: Video unavailable\n"
     ]
    },
    {
     "name": "stdout",
     "output_type": "stream",
     "text": [
      "Speaker: id04509, Video: bAbGul3gIRI, Txt file: 00230\n"
     ]
    },
    {
     "name": "stderr",
     "output_type": "stream",
     "text": [
      "ERROR: [youtube] bAbGul3gIRI: Video unavailable\n"
     ]
    },
    {
     "name": "stdout",
     "output_type": "stream",
     "text": [
      "Speaker: id04509, Video: oKODexnlRgo, Txt file: 00388\n"
     ]
    },
    {
     "name": "stderr",
     "output_type": "stream",
     "text": [
      "ERROR: [youtube] oKODexnlRgo: Video unavailable\n"
     ]
    },
    {
     "name": "stdout",
     "output_type": "stream",
     "text": [
      "Speaker: id04509, Video: XegHRVrlAs4, Txt file: 00207\n"
     ]
    },
    {
     "name": "stderr",
     "output_type": "stream",
     "text": [
      "ERROR: [youtube] XegHRVrlAs4: Video unavailable\n"
     ]
    },
    {
     "name": "stdout",
     "output_type": "stream",
     "text": [
      "Speaker: id04509, Video: 1RSJu_Wi_dI, Txt file: 00012\n"
     ]
    },
    {
     "name": "stderr",
     "output_type": "stream",
     "text": [
      "ERROR: [youtube] 1RSJu_Wi_dI: Video unavailable\n"
     ]
    },
    {
     "name": "stdout",
     "output_type": "stream",
     "text": [
      "Speaker: id04509, Video: bw1fKntBWRg, Txt file: 00246\n"
     ]
    },
    {
     "name": "stderr",
     "output_type": "stream",
     "text": [
      "ERROR: [youtube] bw1fKntBWRg: Video unavailable\n"
     ]
    },
    {
     "name": "stdout",
     "output_type": "stream",
     "text": [
      "Speaker: id04509, Video: m1aHspFSweg, Txt file: 00331\n"
     ]
    },
    {
     "name": "stderr",
     "output_type": "stream",
     "text": [
      "ERROR: [youtube] m1aHspFSweg: Video unavailable\n"
     ]
    },
    {
     "name": "stdout",
     "output_type": "stream",
     "text": [
      "Speaker: id04509, Video: oKODexnlRgo, Txt file: 00394\n"
     ]
    },
    {
     "name": "stderr",
     "output_type": "stream",
     "text": [
      "ERROR: [youtube] oKODexnlRgo: Video unavailable\n"
     ]
    },
    {
     "name": "stdout",
     "output_type": "stream",
     "text": [
      "Speaker: id04509, Video: bp51YTzCRTk, Txt file: 00239\n"
     ]
    },
    {
     "name": "stderr",
     "output_type": "stream",
     "text": [
      "ERROR: [youtube] bp51YTzCRTk: Video unavailable\n"
     ]
    },
    {
     "name": "stdout",
     "output_type": "stream",
     "text": [
      "Speaker: id04509, Video: oKODexnlRgo, Txt file: 00378\n"
     ]
    },
    {
     "name": "stderr",
     "output_type": "stream",
     "text": [
      "ERROR: [youtube] oKODexnlRgo: Video unavailable\n"
     ]
    },
    {
     "name": "stdout",
     "output_type": "stream",
     "text": [
      "Speaker: id04509, Video: 1RSJu_Wi_dI, Txt file: 00015\n"
     ]
    },
    {
     "name": "stderr",
     "output_type": "stream",
     "text": [
      "ERROR: [youtube] 1RSJu_Wi_dI: Video unavailable\n"
     ]
    },
    {
     "name": "stdout",
     "output_type": "stream",
     "text": [
      "Speaker: id04509, Video: m1aHspFSweg, Txt file: 00311\n"
     ]
    },
    {
     "name": "stderr",
     "output_type": "stream",
     "text": [
      "ERROR: [youtube] m1aHspFSweg: Video unavailable\n"
     ]
    },
    {
     "name": "stdout",
     "output_type": "stream",
     "text": [
      "Speaker: id04509, Video: WhuNA2tVJH0, Txt file: 00191\n"
     ]
    },
    {
     "name": "stderr",
     "output_type": "stream",
     "text": [
      "ERROR: [youtube] WhuNA2tVJH0: Video unavailable\n"
     ]
    },
    {
     "name": "stdout",
     "output_type": "stream",
     "text": [
      "Speaker: id04509, Video: oKODexnlRgo, Txt file: 00391\n"
     ]
    },
    {
     "name": "stderr",
     "output_type": "stream",
     "text": [
      "ERROR: [youtube] oKODexnlRgo: Video unavailable\n"
     ]
    },
    {
     "name": "stdout",
     "output_type": "stream",
     "text": [
      "Speaker: id04509, Video: kw3PISqVSK8, Txt file: 00297\n"
     ]
    },
    {
     "name": "stderr",
     "output_type": "stream",
     "text": [
      "ERROR: [youtube] kw3PISqVSK8: Video unavailable\n"
     ]
    },
    {
     "name": "stdout",
     "output_type": "stream",
     "text": [
      "Speaker: id04509, Video: WhuNA2tVJH0, Txt file: 00189\n"
     ]
    },
    {
     "name": "stderr",
     "output_type": "stream",
     "text": [
      "ERROR: [youtube] WhuNA2tVJH0: Video unavailable\n"
     ]
    },
    {
     "name": "stdout",
     "output_type": "stream",
     "text": [
      "Speaker: id04509, Video: OZVXOfXuiJI, Txt file: 00136\n"
     ]
    },
    {
     "name": "stderr",
     "output_type": "stream",
     "text": [
      "ERROR: [youtube] OZVXOfXuiJI: Video unavailable\n"
     ]
    },
    {
     "name": "stdout",
     "output_type": "stream",
     "text": [
      "Speaker: id04509, Video: OZVXOfXuiJI, Txt file: 00138\n"
     ]
    },
    {
     "name": "stderr",
     "output_type": "stream",
     "text": [
      "ERROR: [youtube] OZVXOfXuiJI: Video unavailable\n"
     ]
    },
    {
     "name": "stdout",
     "output_type": "stream",
     "text": [
      "Speaker: id04509, Video: kw3PISqVSK8, Txt file: 00289\n"
     ]
    },
    {
     "name": "stderr",
     "output_type": "stream",
     "text": [
      "ERROR: [youtube] kw3PISqVSK8: Video unavailable\n"
     ]
    },
    {
     "name": "stdout",
     "output_type": "stream",
     "text": [
      "Speaker: id04509, Video: kw3PISqVSK8, Txt file: 00288\n"
     ]
    },
    {
     "name": "stderr",
     "output_type": "stream",
     "text": [
      "ERROR: [youtube] kw3PISqVSK8: Video unavailable\n"
     ]
    },
    {
     "name": "stdout",
     "output_type": "stream",
     "text": [
      "Speaker: id04509, Video: BzWUFa1A7K4, Txt file: 00042\n"
     ]
    },
    {
     "name": "stderr",
     "output_type": "stream",
     "text": [
      "ERROR: [youtube] BzWUFa1A7K4: Video unavailable\n"
     ]
    },
    {
     "name": "stdout",
     "output_type": "stream",
     "text": [
      "Speaker: id04509, Video: m1aHspFSweg, Txt file: 00346\n"
     ]
    },
    {
     "name": "stderr",
     "output_type": "stream",
     "text": [
      "ERROR: [youtube] m1aHspFSweg: Video unavailable\n"
     ]
    },
    {
     "name": "stdout",
     "output_type": "stream",
     "text": [
      "Speaker: id04509, Video: 9yMOW2u2A2Y, Txt file: 00033\n"
     ]
    },
    {
     "name": "stderr",
     "output_type": "stream",
     "text": [
      "ERROR: [youtube] 9yMOW2u2A2Y: Video unavailable. This video is no longer available because the YouTube account associated with this video has been terminated.\n"
     ]
    },
    {
     "name": "stdout",
     "output_type": "stream",
     "text": [
      "Speaker: id04509, Video: oLBp8mldz7c, Txt file: 00398\n",
      "[youtube] Extracting URL: https://www.youtube.com/watch?v=oLBp8mldz7c\n",
      "[youtube] oLBp8mldz7c: Downloading webpage\n",
      "[youtube] oLBp8mldz7c: Downloading tv client config\n",
      "[youtube] oLBp8mldz7c: Downloading player 5ae7d525\n",
      "[youtube] oLBp8mldz7c: Downloading tv player API JSON\n",
      "[youtube] oLBp8mldz7c: Downloading ios player API JSON\n",
      "[youtube] oLBp8mldz7c: Downloading m3u8 information\n",
      "[info] oLBp8mldz7c: Downloading 1 format(s): 251\n",
      "[download] Destination: id04509_1_oLBp8mldz7c_00398\n",
      "[download] 100% of    2.69MiB in 00:00:00 at 4.17MiB/s   \n",
      "[ExtractAudio] Destination: id04509_1_oLBp8mldz7c_00398.mp3\n",
      "Deleting original file id04509_1_oLBp8mldz7c_00398 (pass -k to keep)\n",
      "Audio downloaded as id04509_1_oLBp8mldz7c_00398\n",
      "Trimmed audio saved as ../data/download_df_audio/id04509_1_oLBp8mldz7c_00398_cut.mp3\n",
      "Speaker: id04538, Video: qIXQRkw-ZK8, Txt file: 00383\n",
      "[youtube] Extracting URL: https://www.youtube.com/watch?v=qIXQRkw-ZK8\n",
      "[youtube] qIXQRkw-ZK8: Downloading webpage\n",
      "[youtube] qIXQRkw-ZK8: Downloading tv client config\n",
      "[youtube] qIXQRkw-ZK8: Downloading player 5ae7d525\n",
      "[youtube] qIXQRkw-ZK8: Downloading tv player API JSON\n",
      "[youtube] qIXQRkw-ZK8: Downloading ios player API JSON\n",
      "[youtube] qIXQRkw-ZK8: Downloading m3u8 information\n",
      "[info] qIXQRkw-ZK8: Downloading 1 format(s): 251\n",
      "[download] Destination: id04538_0_qIXQRkw-ZK8_00383\n",
      "[download] 100% of    6.53MiB in 00:00:02 at 3.12MiB/s   \n",
      "[ExtractAudio] Destination: id04538_0_qIXQRkw-ZK8_00383.mp3\n",
      "Deleting original file id04538_0_qIXQRkw-ZK8_00383 (pass -k to keep)\n",
      "Audio downloaded as id04538_0_qIXQRkw-ZK8_00383\n",
      "Trimmed audio saved as ../data/download_df_audio/id04538_0_qIXQRkw-ZK8_00383_cut.mp3\n",
      "Speaker: id04538, Video: PdxKn8R62RY, Txt file: 00202\n"
     ]
    },
    {
     "name": "stderr",
     "output_type": "stream",
     "text": [
      "ERROR: [youtube] PdxKn8R62RY: Video unavailable\n"
     ]
    },
    {
     "name": "stdout",
     "output_type": "stream",
     "text": [
      "Speaker: id04538, Video: HqUDOEXFf9c, Txt file: 00079\n",
      "[youtube] Extracting URL: https://www.youtube.com/watch?v=HqUDOEXFf9c\n",
      "[youtube] HqUDOEXFf9c: Downloading webpage\n",
      "[youtube] HqUDOEXFf9c: Downloading tv client config\n",
      "[youtube] HqUDOEXFf9c: Downloading player 5ae7d525\n",
      "[youtube] HqUDOEXFf9c: Downloading tv player API JSON\n",
      "[youtube] HqUDOEXFf9c: Downloading ios player API JSON\n",
      "[youtube] HqUDOEXFf9c: Downloading m3u8 information\n",
      "[info] HqUDOEXFf9c: Downloading 1 format(s): 251\n",
      "[download] Destination: id04538_1_HqUDOEXFf9c_00079\n",
      "[download] 100% of    6.01MiB in 00:00:00 at 7.89MiB/s   \n",
      "[ExtractAudio] Destination: id04538_1_HqUDOEXFf9c_00079.mp3\n",
      "Deleting original file id04538_1_HqUDOEXFf9c_00079 (pass -k to keep)\n",
      "Audio downloaded as id04538_1_HqUDOEXFf9c_00079\n",
      "Trimmed audio saved as ../data/download_df_audio/id04538_1_HqUDOEXFf9c_00079_cut.mp3\n",
      "Speaker: id04564, Video: 8eR0Sk-3gbU, Txt file: 00071\n",
      "[youtube] Extracting URL: https://www.youtube.com/watch?v=8eR0Sk-3gbU\n",
      "[youtube] 8eR0Sk-3gbU: Downloading webpage\n",
      "[youtube] 8eR0Sk-3gbU: Downloading tv client config\n",
      "[youtube] 8eR0Sk-3gbU: Downloading player 5ae7d525\n",
      "[youtube] 8eR0Sk-3gbU: Downloading tv player API JSON\n",
      "[youtube] 8eR0Sk-3gbU: Downloading ios player API JSON\n",
      "[youtube] 8eR0Sk-3gbU: Downloading m3u8 information\n",
      "[info] 8eR0Sk-3gbU: Downloading 1 format(s): 251\n",
      "[download] Destination: id04564_0_8eR0Sk-3gbU_00071\n",
      "[download] 100% of    4.96MiB in 00:00:00 at 5.75MiB/s   \n",
      "[ExtractAudio] Destination: id04564_0_8eR0Sk-3gbU_00071.mp3\n",
      "Deleting original file id04564_0_8eR0Sk-3gbU_00071 (pass -k to keep)\n",
      "Audio downloaded as id04564_0_8eR0Sk-3gbU_00071\n",
      "Trimmed audio saved as ../data/download_df_audio/id04564_0_8eR0Sk-3gbU_00071_cut.mp3\n",
      "Speaker: id04564, Video: tpUqROwnbDI, Txt file: 00329\n",
      "[youtube] Extracting URL: https://www.youtube.com/watch?v=tpUqROwnbDI\n",
      "[youtube] tpUqROwnbDI: Downloading webpage\n",
      "[youtube] tpUqROwnbDI: Downloading tv client config\n",
      "[youtube] tpUqROwnbDI: Downloading player 5ae7d525\n",
      "[youtube] tpUqROwnbDI: Downloading tv player API JSON\n",
      "[youtube] tpUqROwnbDI: Downloading ios player API JSON\n",
      "[youtube] tpUqROwnbDI: Downloading m3u8 information\n",
      "[info] tpUqROwnbDI: Downloading 1 format(s): 251\n",
      "[download] Destination: id04564_1_tpUqROwnbDI_00329\n",
      "[download] 100% of    3.46MiB in 00:00:01 at 2.29MiB/s   \n",
      "[ExtractAudio] Destination: id04564_1_tpUqROwnbDI_00329.mp3\n",
      "Deleting original file id04564_1_tpUqROwnbDI_00329 (pass -k to keep)\n",
      "Audio downloaded as id04564_1_tpUqROwnbDI_00329\n",
      "Trimmed audio saved as ../data/download_df_audio/id04564_1_tpUqROwnbDI_00329_cut.mp3\n",
      "Speaker: id04589, Video: sZyPBHfIQfc, Txt file: 00439\n",
      "[youtube] Extracting URL: https://www.youtube.com/watch?v=sZyPBHfIQfc\n",
      "[youtube] sZyPBHfIQfc: Downloading webpage\n",
      "[youtube] sZyPBHfIQfc: Downloading tv client config\n",
      "[youtube] sZyPBHfIQfc: Downloading player 5ae7d525\n",
      "[youtube] sZyPBHfIQfc: Downloading tv player API JSON\n",
      "[youtube] sZyPBHfIQfc: Downloading ios player API JSON\n",
      "[youtube] sZyPBHfIQfc: Downloading m3u8 information\n",
      "[info] sZyPBHfIQfc: Downloading 1 format(s): 140\n",
      "[download] Destination: id04589_0_sZyPBHfIQfc_00439\n",
      "[download] 100% of  863.94KiB in 00:00:00 at 2.59MiB/s   \n",
      "[FixupM4a] Correcting container of \"id04589_0_sZyPBHfIQfc_00439\"\n",
      "[ExtractAudio] Destination: id04589_0_sZyPBHfIQfc_00439.mp3\n",
      "Deleting original file id04589_0_sZyPBHfIQfc_00439 (pass -k to keep)\n",
      "Audio downloaded as id04589_0_sZyPBHfIQfc_00439\n",
      "Trimmed audio saved as ../data/download_df_audio/id04589_0_sZyPBHfIQfc_00439_cut.mp3\n",
      "Speaker: id04589, Video: P11kiP3aTOw, Txt file: 00205\n",
      "[youtube] Extracting URL: https://www.youtube.com/watch?v=P11kiP3aTOw\n",
      "[youtube] P11kiP3aTOw: Downloading webpage\n",
      "[youtube] P11kiP3aTOw: Downloading tv client config\n",
      "[youtube] P11kiP3aTOw: Downloading player 5ae7d525\n",
      "[youtube] P11kiP3aTOw: Downloading tv player API JSON\n",
      "[youtube] P11kiP3aTOw: Downloading ios player API JSON\n",
      "[youtube] P11kiP3aTOw: Downloading m3u8 information\n",
      "[info] P11kiP3aTOw: Downloading 1 format(s): 140\n",
      "[download] Destination: id04589_1_P11kiP3aTOw_00205\n",
      "[download] 100% of    5.59MiB in 00:00:01 at 3.31MiB/s   \n",
      "[FixupM4a] Correcting container of \"id04589_1_P11kiP3aTOw_00205\"\n",
      "[ExtractAudio] Destination: id04589_1_P11kiP3aTOw_00205.mp3\n",
      "Deleting original file id04589_1_P11kiP3aTOw_00205 (pass -k to keep)\n",
      "Audio downloaded as id04589_1_P11kiP3aTOw_00205\n",
      "Trimmed audio saved as ../data/download_df_audio/id04589_1_P11kiP3aTOw_00205_cut.mp3\n",
      "Speaker: id04618, Video: ycPxam5KeuM, Txt file: 00492\n",
      "[youtube] Extracting URL: https://www.youtube.com/watch?v=ycPxam5KeuM\n",
      "[youtube] ycPxam5KeuM: Downloading webpage\n",
      "[youtube] ycPxam5KeuM: Downloading tv client config\n",
      "[youtube] ycPxam5KeuM: Downloading player 5ae7d525\n",
      "[youtube] ycPxam5KeuM: Downloading tv player API JSON\n",
      "[youtube] ycPxam5KeuM: Downloading ios player API JSON\n",
      "[youtube] ycPxam5KeuM: Downloading MPD manifest\n",
      "[youtube] ycPxam5KeuM: Downloading m3u8 information\n",
      "[youtube] ycPxam5KeuM: Downloading MPD manifest\n",
      "[info] ycPxam5KeuM: Downloading 1 format(s): 251\n",
      "[download] Destination: id04618_0_ycPxam5KeuM_00492\n",
      "[download] 100% of    3.36MiB in 00:00:01 at 3.17MiB/s   \n",
      "[ExtractAudio] Destination: id04618_0_ycPxam5KeuM_00492.mp3\n",
      "Deleting original file id04618_0_ycPxam5KeuM_00492 (pass -k to keep)\n",
      "Audio downloaded as id04618_0_ycPxam5KeuM_00492\n",
      "Trimmed audio saved as ../data/download_df_audio/id04618_0_ycPxam5KeuM_00492_cut.mp3\n",
      "Speaker: id04618, Video: EW94hRcfiQk, Txt file: 00118\n",
      "[youtube] Extracting URL: https://www.youtube.com/watch?v=EW94hRcfiQk\n",
      "[youtube] EW94hRcfiQk: Downloading webpage\n",
      "[youtube] EW94hRcfiQk: Downloading tv client config\n",
      "[youtube] EW94hRcfiQk: Downloading player 5ae7d525\n",
      "[youtube] EW94hRcfiQk: Downloading tv player API JSON\n",
      "[youtube] EW94hRcfiQk: Downloading ios player API JSON\n",
      "[youtube] EW94hRcfiQk: Downloading m3u8 information\n",
      "[info] EW94hRcfiQk: Downloading 1 format(s): 251\n",
      "[download] Destination: id04618_1_EW94hRcfiQk_00118\n",
      "[download] 100% of    5.38MiB in 00:00:01 at 4.67MiB/s   \n",
      "[ExtractAudio] Destination: id04618_1_EW94hRcfiQk_00118.mp3\n",
      "Deleting original file id04618_1_EW94hRcfiQk_00118 (pass -k to keep)\n",
      "Audio downloaded as id04618_1_EW94hRcfiQk_00118\n",
      "Trimmed audio saved as ../data/download_df_audio/id04618_1_EW94hRcfiQk_00118_cut.mp3\n",
      "Speaker: id04653, Video: U62nXsGy3Vk, Txt file: 00114\n",
      "[youtube] Extracting URL: https://www.youtube.com/watch?v=U62nXsGy3Vk\n",
      "[youtube] U62nXsGy3Vk: Downloading webpage\n",
      "[youtube] U62nXsGy3Vk: Downloading tv client config\n",
      "[youtube] U62nXsGy3Vk: Downloading player 5ae7d525\n",
      "[youtube] U62nXsGy3Vk: Downloading tv player API JSON\n",
      "[youtube] U62nXsGy3Vk: Downloading ios player API JSON\n",
      "[youtube] U62nXsGy3Vk: Downloading m3u8 information\n",
      "[info] U62nXsGy3Vk: Downloading 1 format(s): 251\n",
      "[download] Destination: id04653_0_U62nXsGy3Vk_00114\n",
      "[download] 100% of    2.53MiB in 00:00:01 at 1.57MiB/s   \n",
      "[ExtractAudio] Destination: id04653_0_U62nXsGy3Vk_00114.mp3\n",
      "Deleting original file id04653_0_U62nXsGy3Vk_00114 (pass -k to keep)\n",
      "Audio downloaded as id04653_0_U62nXsGy3Vk_00114\n",
      "Trimmed audio saved as ../data/download_df_audio/id04653_0_U62nXsGy3Vk_00114_cut.mp3\n",
      "Speaker: id04653, Video: ohjCgsRTaUI, Txt file: 00183\n",
      "[youtube] Extracting URL: https://www.youtube.com/watch?v=ohjCgsRTaUI\n",
      "[youtube] ohjCgsRTaUI: Downloading webpage\n",
      "[youtube] ohjCgsRTaUI: Downloading tv client config\n",
      "[youtube] ohjCgsRTaUI: Downloading player 5ae7d525\n",
      "[youtube] ohjCgsRTaUI: Downloading tv player API JSON\n",
      "[youtube] ohjCgsRTaUI: Downloading ios player API JSON\n",
      "[youtube] ohjCgsRTaUI: Downloading m3u8 information\n",
      "[info] ohjCgsRTaUI: Downloading 1 format(s): 251\n",
      "[download] Destination: id04653_1_ohjCgsRTaUI_00183\n",
      "[download] 100% of    4.08MiB in 00:00:02 at 1.40MiB/s   \n",
      "[ExtractAudio] Destination: id04653_1_ohjCgsRTaUI_00183.mp3\n",
      "Deleting original file id04653_1_ohjCgsRTaUI_00183 (pass -k to keep)\n",
      "Audio downloaded as id04653_1_ohjCgsRTaUI_00183\n",
      "Trimmed audio saved as ../data/download_df_audio/id04653_1_ohjCgsRTaUI_00183_cut.mp3\n",
      "Speaker: id04734, Video: av0Kg75mEeQ, Txt file: 00030\n",
      "[youtube] Extracting URL: https://www.youtube.com/watch?v=av0Kg75mEeQ\n",
      "[youtube] av0Kg75mEeQ: Downloading webpage\n",
      "[youtube] av0Kg75mEeQ: Downloading tv client config\n",
      "[youtube] av0Kg75mEeQ: Downloading player 5ae7d525\n",
      "[youtube] av0Kg75mEeQ: Downloading tv player API JSON\n",
      "[youtube] av0Kg75mEeQ: Downloading ios player API JSON\n",
      "[youtube] av0Kg75mEeQ: Downloading m3u8 information\n",
      "[info] av0Kg75mEeQ: Downloading 1 format(s): 140\n",
      "[download] Destination: id04734_0_av0Kg75mEeQ_00030\n",
      "[download] 100% of  965.63KiB in 00:00:01 at 938.70KiB/s \n",
      "[FixupM4a] Correcting container of \"id04734_0_av0Kg75mEeQ_00030\"\n",
      "[ExtractAudio] Destination: id04734_0_av0Kg75mEeQ_00030.mp3\n",
      "Deleting original file id04734_0_av0Kg75mEeQ_00030 (pass -k to keep)\n",
      "Audio downloaded as id04734_0_av0Kg75mEeQ_00030\n",
      "Trimmed audio saved as ../data/download_df_audio/id04734_0_av0Kg75mEeQ_00030_cut.mp3\n",
      "Speaker: id04734, Video: hiwjNVn-AYM, Txt file: 00042\n",
      "[youtube] Extracting URL: https://www.youtube.com/watch?v=hiwjNVn-AYM\n",
      "[youtube] hiwjNVn-AYM: Downloading webpage\n",
      "[youtube] hiwjNVn-AYM: Downloading tv client config\n",
      "[youtube] hiwjNVn-AYM: Downloading player 5ae7d525\n",
      "[youtube] hiwjNVn-AYM: Downloading tv player API JSON\n",
      "[youtube] hiwjNVn-AYM: Downloading ios player API JSON\n",
      "[youtube] hiwjNVn-AYM: Downloading m3u8 information\n",
      "[info] hiwjNVn-AYM: Downloading 1 format(s): 140\n",
      "[download] Destination: id04734_1_hiwjNVn-AYM_00042\n",
      "[download] 100% of    6.47MiB in 00:00:00 at 7.85MiB/s   \n",
      "[FixupM4a] Correcting container of \"id04734_1_hiwjNVn-AYM_00042\"\n",
      "[ExtractAudio] Destination: id04734_1_hiwjNVn-AYM_00042.mp3\n",
      "Deleting original file id04734_1_hiwjNVn-AYM_00042 (pass -k to keep)\n",
      "Audio downloaded as id04734_1_hiwjNVn-AYM_00042\n",
      "Trimmed audio saved as ../data/download_df_audio/id04734_1_hiwjNVn-AYM_00042_cut.mp3\n",
      "Speaker: id04738, Video: LmcO44mUFDg, Txt file: 00207\n",
      "[youtube] Extracting URL: https://www.youtube.com/watch?v=LmcO44mUFDg\n",
      "[youtube] LmcO44mUFDg: Downloading webpage\n",
      "[youtube] LmcO44mUFDg: Downloading tv client config\n",
      "[youtube] LmcO44mUFDg: Downloading player 5ae7d525\n",
      "[youtube] LmcO44mUFDg: Downloading tv player API JSON\n",
      "[youtube] LmcO44mUFDg: Downloading ios player API JSON\n",
      "[youtube] LmcO44mUFDg: Downloading m3u8 information\n",
      "[info] LmcO44mUFDg: Downloading 1 format(s): 140\n",
      "[download] Destination: id04738_0_LmcO44mUFDg_00207\n",
      "[download] 100% of    2.55MiB in 00:00:00 at 4.61MiB/s   \n",
      "[FixupM4a] Correcting container of \"id04738_0_LmcO44mUFDg_00207\"\n",
      "[ExtractAudio] Destination: id04738_0_LmcO44mUFDg_00207.mp3\n",
      "Deleting original file id04738_0_LmcO44mUFDg_00207 (pass -k to keep)\n",
      "Audio downloaded as id04738_0_LmcO44mUFDg_00207\n",
      "Trimmed audio saved as ../data/download_df_audio/id04738_0_LmcO44mUFDg_00207_cut.mp3\n",
      "Speaker: id04738, Video: R_qHCQwbgkM, Txt file: 00248\n",
      "[youtube] Extracting URL: https://www.youtube.com/watch?v=R_qHCQwbgkM\n",
      "[youtube] R_qHCQwbgkM: Downloading webpage\n",
      "[youtube] R_qHCQwbgkM: Downloading tv client config\n",
      "[youtube] R_qHCQwbgkM: Downloading player 5ae7d525\n",
      "[youtube] R_qHCQwbgkM: Downloading tv player API JSON\n",
      "[youtube] R_qHCQwbgkM: Downloading ios player API JSON\n",
      "[youtube] R_qHCQwbgkM: Downloading m3u8 information\n",
      "[info] R_qHCQwbgkM: Downloading 1 format(s): 251\n",
      "[download] Destination: id04738_1_R_qHCQwbgkM_00248\n",
      "[download] 100% of    4.04MiB in 00:00:02 at 1.77MiB/s   \n",
      "[ExtractAudio] Destination: id04738_1_R_qHCQwbgkM_00248.mp3\n",
      "Deleting original file id04738_1_R_qHCQwbgkM_00248 (pass -k to keep)\n",
      "Audio downloaded as id04738_1_R_qHCQwbgkM_00248\n",
      "Trimmed audio saved as ../data/download_df_audio/id04738_1_R_qHCQwbgkM_00248_cut.mp3\n",
      "Speaker: id04741, Video: Uq2Ag3a-RlQ, Txt file: 00108\n",
      "[youtube] Extracting URL: https://www.youtube.com/watch?v=Uq2Ag3a-RlQ\n",
      "[youtube] Uq2Ag3a-RlQ: Downloading webpage\n",
      "[youtube] Uq2Ag3a-RlQ: Downloading tv client config\n",
      "[youtube] Uq2Ag3a-RlQ: Downloading player 5ae7d525\n",
      "[youtube] Uq2Ag3a-RlQ: Downloading tv player API JSON\n",
      "[youtube] Uq2Ag3a-RlQ: Downloading ios player API JSON\n",
      "[youtube] Uq2Ag3a-RlQ: Downloading m3u8 information\n",
      "[info] Uq2Ag3a-RlQ: Downloading 1 format(s): 251\n",
      "[download] Destination: id04741_0_Uq2Ag3a-RlQ_00108\n",
      "[download] 100% of    6.31MiB in 00:00:01 at 5.67MiB/s   \n",
      "[ExtractAudio] Destination: id04741_0_Uq2Ag3a-RlQ_00108.mp3\n",
      "Deleting original file id04741_0_Uq2Ag3a-RlQ_00108 (pass -k to keep)\n",
      "Audio downloaded as id04741_0_Uq2Ag3a-RlQ_00108\n",
      "Trimmed audio saved as ../data/download_df_audio/id04741_0_Uq2Ag3a-RlQ_00108_cut.mp3\n",
      "Speaker: id04741, Video: awPOBPWlhlY, Txt file: 00163\n"
     ]
    },
    {
     "name": "stderr",
     "output_type": "stream",
     "text": [
      "ERROR: [youtube] awPOBPWlhlY: Video unavailable. This video has been removed by the uploader\n"
     ]
    },
    {
     "name": "stdout",
     "output_type": "stream",
     "text": [
      "Speaker: id04741, Video: C_VtuEzUYwc, Txt file: 00052\n",
      "[youtube] Extracting URL: https://www.youtube.com/watch?v=C_VtuEzUYwc\n",
      "[youtube] C_VtuEzUYwc: Downloading webpage\n",
      "[youtube] C_VtuEzUYwc: Downloading tv client config\n",
      "[youtube] C_VtuEzUYwc: Downloading player 5ae7d525\n",
      "[youtube] C_VtuEzUYwc: Downloading tv player API JSON\n",
      "[youtube] C_VtuEzUYwc: Downloading ios player API JSON\n",
      "[youtube] C_VtuEzUYwc: Downloading m3u8 information\n",
      "[info] C_VtuEzUYwc: Downloading 1 format(s): 251\n",
      "[download] Destination: id04741_1_C_VtuEzUYwc_00052\n",
      "[download] 100% of    7.93MiB in 00:00:01 at 4.17MiB/s   \n",
      "[ExtractAudio] Destination: id04741_1_C_VtuEzUYwc_00052.mp3\n",
      "Deleting original file id04741_1_C_VtuEzUYwc_00052 (pass -k to keep)\n",
      "Audio downloaded as id04741_1_C_VtuEzUYwc_00052\n",
      "Trimmed audio saved as ../data/download_df_audio/id04741_1_C_VtuEzUYwc_00052_cut.mp3\n",
      "Speaker: id04823, Video: kmaMjL4RkAo, Txt file: 00290\n"
     ]
    },
    {
     "name": "stderr",
     "output_type": "stream",
     "text": [
      "ERROR: [youtube] kmaMjL4RkAo: Video unavailable. This video is no longer available because the YouTube account associated with this video has been terminated.\n"
     ]
    },
    {
     "name": "stdout",
     "output_type": "stream",
     "text": [
      "Speaker: id04823, Video: iocYJ8_nfQw, Txt file: 00283\n"
     ]
    },
    {
     "name": "stderr",
     "output_type": "stream",
     "text": [
      "ERROR: [youtube] iocYJ8_nfQw: Video unavailable. This video is no longer available because the YouTube account associated with this video has been terminated.\n"
     ]
    },
    {
     "name": "stdout",
     "output_type": "stream",
     "text": [
      "Speaker: id04823, Video: kmaMjL4RkAo, Txt file: 00288\n"
     ]
    },
    {
     "name": "stderr",
     "output_type": "stream",
     "text": [
      "ERROR: [youtube] kmaMjL4RkAo: Video unavailable. This video is no longer available because the YouTube account associated with this video has been terminated.\n"
     ]
    },
    {
     "name": "stdout",
     "output_type": "stream",
     "text": [
      "Speaker: id04823, Video: RihUqqnV0l4, Txt file: 00213\n"
     ]
    },
    {
     "name": "stderr",
     "output_type": "stream",
     "text": [
      "ERROR: [youtube] RihUqqnV0l4: Video unavailable. This video is no longer available because the YouTube account associated with this video has been terminated.\n"
     ]
    },
    {
     "name": "stdout",
     "output_type": "stream",
     "text": [
      "Speaker: id04823, Video: KoV6_EpcLZ0, Txt file: 00151\n",
      "[youtube] Extracting URL: https://www.youtube.com/watch?v=KoV6_EpcLZ0\n",
      "[youtube] KoV6_EpcLZ0: Downloading webpage\n",
      "[youtube] KoV6_EpcLZ0: Downloading tv client config\n",
      "[youtube] KoV6_EpcLZ0: Downloading player 5ae7d525\n",
      "[youtube] KoV6_EpcLZ0: Downloading tv player API JSON\n",
      "[youtube] KoV6_EpcLZ0: Downloading ios player API JSON\n",
      "[youtube] KoV6_EpcLZ0: Downloading m3u8 information\n",
      "[info] KoV6_EpcLZ0: Downloading 1 format(s): 251\n",
      "[download] Destination: id04823_0_KoV6_EpcLZ0_00151\n",
      "[download] 100% of    9.67MiB in 00:00:01 at 6.82MiB/s   \n",
      "[ExtractAudio] Destination: id04823_0_KoV6_EpcLZ0_00151.mp3\n",
      "Deleting original file id04823_0_KoV6_EpcLZ0_00151 (pass -k to keep)\n",
      "Audio downloaded as id04823_0_KoV6_EpcLZ0_00151\n",
      "Trimmed audio saved as ../data/download_df_audio/id04823_0_KoV6_EpcLZ0_00151_cut.mp3\n",
      "Speaker: id04823, Video: FcVPK5jvONQ, Txt file: 00077\n"
     ]
    },
    {
     "name": "stderr",
     "output_type": "stream",
     "text": [
      "ERROR: [youtube] FcVPK5jvONQ: Video unavailable. This video is no longer available because the YouTube account associated with this video has been terminated.\n"
     ]
    },
    {
     "name": "stdout",
     "output_type": "stream",
     "text": [
      "Speaker: id04823, Video: VLOLudExs9w, Txt file: 00256\n"
     ]
    },
    {
     "name": "stderr",
     "output_type": "stream",
     "text": [
      "ERROR: [youtube] VLOLudExs9w: Video unavailable. This video is no longer available because the YouTube account associated with this video has been terminated.\n"
     ]
    },
    {
     "name": "stdout",
     "output_type": "stream",
     "text": [
      "Speaker: id04823, Video: Kc0AKGJwX9o, Txt file: 00135\n",
      "[youtube] Extracting URL: https://www.youtube.com/watch?v=Kc0AKGJwX9o\n",
      "[youtube] Kc0AKGJwX9o: Downloading webpage\n",
      "[youtube] Kc0AKGJwX9o: Downloading tv client config\n",
      "[youtube] Kc0AKGJwX9o: Downloading player 5ae7d525\n",
      "[youtube] Kc0AKGJwX9o: Downloading tv player API JSON\n",
      "[youtube] Kc0AKGJwX9o: Downloading ios player API JSON\n",
      "[youtube] Kc0AKGJwX9o: Downloading m3u8 information\n",
      "[info] Kc0AKGJwX9o: Downloading 1 format(s): 251\n",
      "[download] Destination: id04823_1_Kc0AKGJwX9o_00135\n",
      "[download] 100% of    6.28MiB in 00:00:08 at 785.99KiB/s   \n",
      "[ExtractAudio] Destination: id04823_1_Kc0AKGJwX9o_00135.mp3\n",
      "Deleting original file id04823_1_Kc0AKGJwX9o_00135 (pass -k to keep)\n",
      "Audio downloaded as id04823_1_Kc0AKGJwX9o_00135\n",
      "Trimmed audio saved as ../data/download_df_audio/id04823_1_Kc0AKGJwX9o_00135_cut.mp3\n",
      "Speaker: id04845, Video: zjByEXr7y5o, Txt file: 00316\n",
      "[youtube] Extracting URL: https://www.youtube.com/watch?v=zjByEXr7y5o\n",
      "[youtube] zjByEXr7y5o: Downloading webpage\n",
      "[youtube] zjByEXr7y5o: Downloading tv client config\n",
      "[youtube] zjByEXr7y5o: Downloading player 5ae7d525\n",
      "[youtube] zjByEXr7y5o: Downloading tv player API JSON\n",
      "[youtube] zjByEXr7y5o: Downloading ios player API JSON\n",
      "[youtube] zjByEXr7y5o: Downloading m3u8 information\n",
      "[info] zjByEXr7y5o: Downloading 1 format(s): 140\n",
      "[download] Destination: id04845_0_zjByEXr7y5o_00316\n",
      "[download] 100% of    1.71MiB in 00:00:00 at 3.19MiB/s   \n",
      "[FixupM4a] Correcting container of \"id04845_0_zjByEXr7y5o_00316\"\n",
      "[ExtractAudio] Destination: id04845_0_zjByEXr7y5o_00316.mp3\n",
      "Deleting original file id04845_0_zjByEXr7y5o_00316 (pass -k to keep)\n",
      "Audio downloaded as id04845_0_zjByEXr7y5o_00316\n",
      "Trimmed audio saved as ../data/download_df_audio/id04845_0_zjByEXr7y5o_00316_cut.mp3\n",
      "Speaker: id04845, Video: GN8pKT-NlQ4, Txt file: 00115\n",
      "[youtube] Extracting URL: https://www.youtube.com/watch?v=GN8pKT-NlQ4\n",
      "[youtube] GN8pKT-NlQ4: Downloading webpage\n",
      "[youtube] GN8pKT-NlQ4: Downloading tv client config\n",
      "[youtube] GN8pKT-NlQ4: Downloading player 5ae7d525\n",
      "[youtube] GN8pKT-NlQ4: Downloading tv player API JSON\n",
      "[youtube] GN8pKT-NlQ4: Downloading ios player API JSON\n",
      "[youtube] GN8pKT-NlQ4: Downloading m3u8 information\n",
      "[info] GN8pKT-NlQ4: Downloading 1 format(s): 251\n",
      "[download] Destination: id04845_1_GN8pKT-NlQ4_00115\n",
      "[download] 100% of    3.43MiB in 00:00:00 at 3.65MiB/s   \n",
      "[ExtractAudio] Destination: id04845_1_GN8pKT-NlQ4_00115.mp3\n",
      "Deleting original file id04845_1_GN8pKT-NlQ4_00115 (pass -k to keep)\n",
      "Audio downloaded as id04845_1_GN8pKT-NlQ4_00115\n",
      "Trimmed audio saved as ../data/download_df_audio/id04845_1_GN8pKT-NlQ4_00115_cut.mp3\n",
      "Speaker: id04886, Video: zCJDXA2d7Nc, Txt file: 00126\n",
      "[youtube] Extracting URL: https://www.youtube.com/watch?v=zCJDXA2d7Nc\n",
      "[youtube] zCJDXA2d7Nc: Downloading webpage\n",
      "[youtube] zCJDXA2d7Nc: Downloading tv client config\n",
      "[youtube] zCJDXA2d7Nc: Downloading player 5ae7d525\n",
      "[youtube] zCJDXA2d7Nc: Downloading tv player API JSON\n",
      "[youtube] zCJDXA2d7Nc: Downloading ios player API JSON\n",
      "[youtube] zCJDXA2d7Nc: Downloading m3u8 information\n",
      "[info] zCJDXA2d7Nc: Downloading 1 format(s): 140\n",
      "[download] Destination: id04886_0_zCJDXA2d7Nc_00126\n",
      "[download] 100% of    5.11MiB in 00:00:01 at 3.20MiB/s   \n",
      "[FixupM4a] Correcting container of \"id04886_0_zCJDXA2d7Nc_00126\"\n",
      "[ExtractAudio] Destination: id04886_0_zCJDXA2d7Nc_00126.mp3\n",
      "Deleting original file id04886_0_zCJDXA2d7Nc_00126 (pass -k to keep)\n",
      "Audio downloaded as id04886_0_zCJDXA2d7Nc_00126\n",
      "Trimmed audio saved as ../data/download_df_audio/id04886_0_zCJDXA2d7Nc_00126_cut.mp3\n",
      "Speaker: id04886, Video: 8HtuEMFIV4c, Txt file: 00031\n",
      "[youtube] Extracting URL: https://www.youtube.com/watch?v=8HtuEMFIV4c\n",
      "[youtube] 8HtuEMFIV4c: Downloading webpage\n",
      "[youtube] 8HtuEMFIV4c: Downloading tv client config\n",
      "[youtube] 8HtuEMFIV4c: Downloading player 5ae7d525\n",
      "[youtube] 8HtuEMFIV4c: Downloading tv player API JSON\n",
      "[youtube] 8HtuEMFIV4c: Downloading ios player API JSON\n",
      "[youtube] 8HtuEMFIV4c: Downloading m3u8 information\n",
      "[info] 8HtuEMFIV4c: Downloading 1 format(s): 251\n",
      "[download] Destination: id04886_1_8HtuEMFIV4c_00031\n",
      "[download] 100% of   27.84MiB in 00:00:01 at 15.43MiB/s    \n",
      "[ExtractAudio] Destination: id04886_1_8HtuEMFIV4c_00031.mp3\n",
      "Deleting original file id04886_1_8HtuEMFIV4c_00031 (pass -k to keep)\n",
      "Audio downloaded as id04886_1_8HtuEMFIV4c_00031\n",
      "Trimmed audio saved as ../data/download_df_audio/id04886_1_8HtuEMFIV4c_00031_cut.mp3\n",
      "Speaker: id04982, Video: D3PDnTVu6KY, Txt file: 00034\n",
      "[youtube] Extracting URL: https://www.youtube.com/watch?v=D3PDnTVu6KY\n",
      "[youtube] D3PDnTVu6KY: Downloading webpage\n",
      "[youtube] D3PDnTVu6KY: Downloading tv client config\n",
      "[youtube] D3PDnTVu6KY: Downloading player 5ae7d525\n",
      "[youtube] D3PDnTVu6KY: Downloading tv player API JSON\n",
      "[youtube] D3PDnTVu6KY: Downloading ios player API JSON\n",
      "[youtube] D3PDnTVu6KY: Downloading m3u8 information\n",
      "[info] D3PDnTVu6KY: Downloading 1 format(s): 140\n",
      "[download] Destination: id04982_0_D3PDnTVu6KY_00034\n",
      "[download] 100% of    5.06MiB in 00:00:01 at 4.51MiB/s     \n",
      "[FixupM4a] Correcting container of \"id04982_0_D3PDnTVu6KY_00034\"\n",
      "[ExtractAudio] Destination: id04982_0_D3PDnTVu6KY_00034.mp3\n",
      "Deleting original file id04982_0_D3PDnTVu6KY_00034 (pass -k to keep)\n",
      "Audio downloaded as id04982_0_D3PDnTVu6KY_00034\n",
      "Trimmed audio saved as ../data/download_df_audio/id04982_0_D3PDnTVu6KY_00034_cut.mp3\n",
      "Speaker: id04982, Video: x5dUG9g0dj0, Txt file: 00118\n",
      "[youtube] Extracting URL: https://www.youtube.com/watch?v=x5dUG9g0dj0\n",
      "[youtube] x5dUG9g0dj0: Downloading webpage\n",
      "[youtube] x5dUG9g0dj0: Downloading tv client config\n",
      "[youtube] x5dUG9g0dj0: Downloading player 5ae7d525\n",
      "[youtube] x5dUG9g0dj0: Downloading tv player API JSON\n",
      "[youtube] x5dUG9g0dj0: Downloading ios player API JSON\n",
      "[youtube] x5dUG9g0dj0: Downloading m3u8 information\n",
      "[info] x5dUG9g0dj0: Downloading 1 format(s): 140\n",
      "[download] Destination: id04982_1_x5dUG9g0dj0_00118\n",
      "[download] 100% of   12.92MiB in 00:00:01 at 6.79MiB/s     \n",
      "[FixupM4a] Correcting container of \"id04982_1_x5dUG9g0dj0_00118\"\n",
      "[ExtractAudio] Destination: id04982_1_x5dUG9g0dj0_00118.mp3\n",
      "Deleting original file id04982_1_x5dUG9g0dj0_00118 (pass -k to keep)\n",
      "Audio downloaded as id04982_1_x5dUG9g0dj0_00118\n",
      "Trimmed audio saved as ../data/download_df_audio/id04982_1_x5dUG9g0dj0_00118_cut.mp3\n",
      "Speaker: id04995, Video: PbzdWpq97Hs, Txt file: 00124\n",
      "[youtube] Extracting URL: https://www.youtube.com/watch?v=PbzdWpq97Hs\n",
      "[youtube] PbzdWpq97Hs: Downloading webpage\n",
      "[youtube] PbzdWpq97Hs: Downloading tv client config\n",
      "[youtube] PbzdWpq97Hs: Downloading player 5ae7d525\n",
      "[youtube] PbzdWpq97Hs: Downloading tv player API JSON\n",
      "[youtube] PbzdWpq97Hs: Downloading ios player API JSON\n",
      "[youtube] PbzdWpq97Hs: Downloading m3u8 information\n",
      "[info] PbzdWpq97Hs: Downloading 1 format(s): 140\n",
      "[download] Destination: id04995_0_PbzdWpq97Hs_00124\n",
      "[download] 100% of    4.19MiB in 00:00:00 at 6.37MiB/s   \n",
      "[FixupM4a] Correcting container of \"id04995_0_PbzdWpq97Hs_00124\"\n",
      "[ExtractAudio] Destination: id04995_0_PbzdWpq97Hs_00124.mp3\n",
      "Deleting original file id04995_0_PbzdWpq97Hs_00124 (pass -k to keep)\n",
      "Audio downloaded as id04995_0_PbzdWpq97Hs_00124\n",
      "Trimmed audio saved as ../data/download_df_audio/id04995_0_PbzdWpq97Hs_00124_cut.mp3\n",
      "Speaker: id04995, Video: C8dBedX9y6Q, Txt file: 00056\n"
     ]
    },
    {
     "name": "stderr",
     "output_type": "stream",
     "text": [
      "ERROR: [youtube] C8dBedX9y6Q: Video unavailable. This video is no longer available because the YouTube account associated with this video has been terminated.\n"
     ]
    },
    {
     "name": "stdout",
     "output_type": "stream",
     "text": [
      "Speaker: id04995, Video: Z7QhEY7ZMX4, Txt file: 00144\n"
     ]
    },
    {
     "name": "stderr",
     "output_type": "stream",
     "text": [
      "ERROR: [youtube] Z7QhEY7ZMX4: Video unavailable. This video contains content from Worldwide Pants Incorporated, who has blocked it on copyright grounds\n"
     ]
    },
    {
     "name": "stdout",
     "output_type": "stream",
     "text": [
      "Speaker: id04995, Video: 8QmMRzxqnJM, Txt file: 00024\n"
     ]
    },
    {
     "name": "stderr",
     "output_type": "stream",
     "text": [
      "ERROR: [youtube] 8QmMRzxqnJM: Video unavailable. This video is no longer available because the YouTube account associated with this video has been terminated.\n"
     ]
    },
    {
     "name": "stdout",
     "output_type": "stream",
     "text": [
      "Speaker: id04995, Video: z4itejUl7v0, Txt file: 00236\n"
     ]
    },
    {
     "name": "stderr",
     "output_type": "stream",
     "text": [
      "ERROR: [youtube] z4itejUl7v0: Video unavailable\n"
     ]
    },
    {
     "name": "stdout",
     "output_type": "stream",
     "text": [
      "Speaker: id04995, Video: o1ccZ2TGbiw, Txt file: 00194\n",
      "[youtube] Extracting URL: https://www.youtube.com/watch?v=o1ccZ2TGbiw\n",
      "[youtube] o1ccZ2TGbiw: Downloading webpage\n",
      "[youtube] o1ccZ2TGbiw: Downloading tv client config\n",
      "[youtube] o1ccZ2TGbiw: Downloading player 5ae7d525\n",
      "[youtube] o1ccZ2TGbiw: Downloading tv player API JSON\n",
      "[youtube] o1ccZ2TGbiw: Downloading ios player API JSON\n",
      "[youtube] o1ccZ2TGbiw: Downloading m3u8 information\n",
      "[info] o1ccZ2TGbiw: Downloading 1 format(s): 251\n",
      "[download] Destination: id04995_1_o1ccZ2TGbiw_00194\n",
      "[download] 100% of    5.46MiB in 00:00:01 at 5.25MiB/s   \n",
      "[ExtractAudio] Destination: id04995_1_o1ccZ2TGbiw_00194.mp3\n",
      "Deleting original file id04995_1_o1ccZ2TGbiw_00194 (pass -k to keep)\n",
      "Audio downloaded as id04995_1_o1ccZ2TGbiw_00194\n",
      "Trimmed audio saved as ../data/download_df_audio/id04995_1_o1ccZ2TGbiw_00194_cut.mp3\n",
      "Speaker: id05121, Video: 1T4317LaRSM, Txt file: 00009\n",
      "[youtube] Extracting URL: https://www.youtube.com/watch?v=1T4317LaRSM\n",
      "[youtube] 1T4317LaRSM: Downloading webpage\n",
      "[youtube] 1T4317LaRSM: Downloading tv client config\n",
      "[youtube] 1T4317LaRSM: Downloading player 5ae7d525\n",
      "[youtube] 1T4317LaRSM: Downloading tv player API JSON\n",
      "[youtube] 1T4317LaRSM: Downloading ios player API JSON\n",
      "[youtube] 1T4317LaRSM: Downloading m3u8 information\n",
      "[info] 1T4317LaRSM: Downloading 1 format(s): 251\n",
      "[download] Destination: id05121_0_1T4317LaRSM_00009\n",
      "[download] 100% of    4.46MiB in 00:00:00 at 10.68MiB/s    \n",
      "[ExtractAudio] Destination: id05121_0_1T4317LaRSM_00009.mp3\n",
      "Deleting original file id05121_0_1T4317LaRSM_00009 (pass -k to keep)\n",
      "Audio downloaded as id05121_0_1T4317LaRSM_00009\n",
      "Trimmed audio saved as ../data/download_df_audio/id05121_0_1T4317LaRSM_00009_cut.mp3\n",
      "Speaker: id05121, Video: S2Z_X4CSV4E, Txt file: 00128\n",
      "[youtube] Extracting URL: https://www.youtube.com/watch?v=S2Z_X4CSV4E\n",
      "[youtube] S2Z_X4CSV4E: Downloading webpage\n",
      "[youtube] S2Z_X4CSV4E: Downloading tv client config\n",
      "[youtube] S2Z_X4CSV4E: Downloading player 5ae7d525\n",
      "[youtube] S2Z_X4CSV4E: Downloading tv player API JSON\n",
      "[youtube] S2Z_X4CSV4E: Downloading ios player API JSON\n",
      "[youtube] S2Z_X4CSV4E: Downloading m3u8 information\n",
      "[info] S2Z_X4CSV4E: Downloading 1 format(s): 140\n",
      "[download] Destination: id05121_1_S2Z_X4CSV4E_00128\n",
      "[download] 100% of    5.89MiB in 00:00:00 at 6.75MiB/s   \n",
      "[FixupM4a] Correcting container of \"id05121_1_S2Z_X4CSV4E_00128\"\n",
      "[ExtractAudio] Destination: id05121_1_S2Z_X4CSV4E_00128.mp3\n",
      "Deleting original file id05121_1_S2Z_X4CSV4E_00128 (pass -k to keep)\n",
      "Audio downloaded as id05121_1_S2Z_X4CSV4E_00128\n",
      "Trimmed audio saved as ../data/download_df_audio/id05121_1_S2Z_X4CSV4E_00128_cut.mp3\n",
      "Speaker: id05160, Video: OvUEoyVKrf4, Txt file: 00175\n"
     ]
    },
    {
     "name": "stderr",
     "output_type": "stream",
     "text": [
      "ERROR: [youtube] OvUEoyVKrf4: Video unavailable. This video has been removed by the uploader\n"
     ]
    },
    {
     "name": "stdout",
     "output_type": "stream",
     "text": [
      "Speaker: id05160, Video: h1-Em5QK4m4, Txt file: 00342\n",
      "[youtube] Extracting URL: https://www.youtube.com/watch?v=h1-Em5QK4m4\n",
      "[youtube] h1-Em5QK4m4: Downloading webpage\n",
      "[youtube] h1-Em5QK4m4: Downloading tv client config\n",
      "[youtube] h1-Em5QK4m4: Downloading player 5ae7d525\n",
      "[youtube] h1-Em5QK4m4: Downloading tv player API JSON\n",
      "[youtube] h1-Em5QK4m4: Downloading ios player API JSON\n",
      "[youtube] h1-Em5QK4m4: Downloading m3u8 information\n",
      "[info] h1-Em5QK4m4: Downloading 1 format(s): 140\n",
      "[download] Destination: id05160_0_h1-Em5QK4m4_00342\n",
      "[download] 100% of    2.87MiB in 00:00:00 at 3.96MiB/s   \n",
      "[FixupM4a] Correcting container of \"id05160_0_h1-Em5QK4m4_00342\"\n",
      "[ExtractAudio] Destination: id05160_0_h1-Em5QK4m4_00342.mp3\n",
      "Deleting original file id05160_0_h1-Em5QK4m4_00342 (pass -k to keep)\n",
      "Audio downloaded as id05160_0_h1-Em5QK4m4_00342\n",
      "Trimmed audio saved as ../data/download_df_audio/id05160_0_h1-Em5QK4m4_00342_cut.mp3\n",
      "Speaker: id05160, Video: VASwmyqJg9Y, Txt file: 00219\n",
      "[youtube] Extracting URL: https://www.youtube.com/watch?v=VASwmyqJg9Y\n",
      "[youtube] VASwmyqJg9Y: Downloading webpage\n",
      "[youtube] VASwmyqJg9Y: Downloading tv client config\n",
      "[youtube] VASwmyqJg9Y: Downloading player 5ae7d525\n",
      "[youtube] VASwmyqJg9Y: Downloading tv player API JSON\n",
      "[youtube] VASwmyqJg9Y: Downloading ios player API JSON\n",
      "[youtube] VASwmyqJg9Y: Downloading m3u8 information\n",
      "[info] VASwmyqJg9Y: Downloading 1 format(s): 251\n",
      "[download] Destination: id05160_1_VASwmyqJg9Y_00219\n",
      "[download] 100% of   35.45MiB in 00:00:04 at 8.69MiB/s     \n",
      "[ExtractAudio] Destination: id05160_1_VASwmyqJg9Y_00219.mp3\n",
      "Deleting original file id05160_1_VASwmyqJg9Y_00219 (pass -k to keep)\n",
      "Audio downloaded as id05160_1_VASwmyqJg9Y_00219\n",
      "Trimmed audio saved as ../data/download_df_audio/id05160_1_VASwmyqJg9Y_00219_cut.mp3\n",
      "Speaker: id05165, Video: 0Kq5SmzYsow, Txt file: 00002\n"
     ]
    },
    {
     "name": "stderr",
     "output_type": "stream",
     "text": [
      "ERROR: [youtube] 0Kq5SmzYsow: Private video. Sign in if you've been granted access to this video. Use --cookies-from-browser or --cookies for the authentication. See  https://github.com/yt-dlp/yt-dlp/wiki/FAQ#how-do-i-pass-cookies-to-yt-dlp  for how to manually pass cookies. Also see  https://github.com/yt-dlp/yt-dlp/wiki/Extractors#exporting-youtube-cookies  for tips on effectively exporting YouTube cookies\n"
     ]
    },
    {
     "name": "stdout",
     "output_type": "stream",
     "text": [
      "Speaker: id05165, Video: zU3B8m2LsyM, Txt file: 00389\n",
      "[youtube] Extracting URL: https://www.youtube.com/watch?v=zU3B8m2LsyM\n",
      "[youtube] zU3B8m2LsyM: Downloading webpage\n",
      "[youtube] zU3B8m2LsyM: Downloading tv client config\n",
      "[youtube] zU3B8m2LsyM: Downloading player 5ae7d525\n",
      "[youtube] zU3B8m2LsyM: Downloading tv player API JSON\n",
      "[youtube] zU3B8m2LsyM: Downloading ios player API JSON\n",
      "[youtube] zU3B8m2LsyM: Downloading m3u8 information\n",
      "[info] zU3B8m2LsyM: Downloading 1 format(s): 140\n",
      "[download] Destination: id05165_0_zU3B8m2LsyM_00389\n",
      "[download] 100% of    4.17MiB in 00:00:01 at 3.80MiB/s   \n",
      "[FixupM4a] Correcting container of \"id05165_0_zU3B8m2LsyM_00389\"\n",
      "[ExtractAudio] Destination: id05165_0_zU3B8m2LsyM_00389.mp3\n",
      "Deleting original file id05165_0_zU3B8m2LsyM_00389 (pass -k to keep)\n",
      "Audio downloaded as id05165_0_zU3B8m2LsyM_00389\n",
      "Trimmed audio saved as ../data/download_df_audio/id05165_0_zU3B8m2LsyM_00389_cut.mp3\n",
      "Speaker: id05165, Video: nt0kVFtvy1Y, Txt file: 00321\n",
      "[youtube] Extracting URL: https://www.youtube.com/watch?v=nt0kVFtvy1Y\n",
      "[youtube] nt0kVFtvy1Y: Downloading webpage\n",
      "[youtube] nt0kVFtvy1Y: Downloading tv client config\n",
      "[youtube] nt0kVFtvy1Y: Downloading player 5ae7d525\n",
      "[youtube] nt0kVFtvy1Y: Downloading tv player API JSON\n",
      "[youtube] nt0kVFtvy1Y: Downloading ios player API JSON\n",
      "[youtube] nt0kVFtvy1Y: Downloading m3u8 information\n",
      "[info] nt0kVFtvy1Y: Downloading 1 format(s): 251\n",
      "[download] Destination: id05165_1_nt0kVFtvy1Y_00321\n",
      "[download] 100% of   54.51MiB in 00:00:05 at 10.54MiB/s    \n",
      "[ExtractAudio] Destination: id05165_1_nt0kVFtvy1Y_00321.mp3\n",
      "Deleting original file id05165_1_nt0kVFtvy1Y_00321 (pass -k to keep)\n",
      "Audio downloaded as id05165_1_nt0kVFtvy1Y_00321\n",
      "Trimmed audio saved as ../data/download_df_audio/id05165_1_nt0kVFtvy1Y_00321_cut.mp3\n",
      "Speaker: id05207, Video: qC_oLf-HVnw, Txt file: 00187\n",
      "[youtube] Extracting URL: https://www.youtube.com/watch?v=qC_oLf-HVnw\n",
      "[youtube] qC_oLf-HVnw: Downloading webpage\n",
      "[youtube] qC_oLf-HVnw: Downloading tv client config\n",
      "[youtube] qC_oLf-HVnw: Downloading player 5ae7d525\n",
      "[youtube] qC_oLf-HVnw: Downloading tv player API JSON\n",
      "[youtube] qC_oLf-HVnw: Downloading ios player API JSON\n",
      "[youtube] qC_oLf-HVnw: Downloading m3u8 information\n",
      "[info] qC_oLf-HVnw: Downloading 1 format(s): 251\n",
      "[download] Destination: id05207_0_qC_oLf-HVnw_00187\n",
      "[download] 100% of   15.64MiB in 00:00:01 at 10.67MiB/s    \n",
      "[ExtractAudio] Destination: id05207_0_qC_oLf-HVnw_00187.mp3\n",
      "Deleting original file id05207_0_qC_oLf-HVnw_00187 (pass -k to keep)\n",
      "Audio downloaded as id05207_0_qC_oLf-HVnw_00187\n",
      "Trimmed audio saved as ../data/download_df_audio/id05207_0_qC_oLf-HVnw_00187_cut.mp3\n",
      "Speaker: id05207, Video: q2KAC1AdQf8, Txt file: 00171\n",
      "[youtube] Extracting URL: https://www.youtube.com/watch?v=q2KAC1AdQf8\n",
      "[youtube] q2KAC1AdQf8: Downloading webpage\n",
      "[youtube] q2KAC1AdQf8: Downloading tv client config\n",
      "[youtube] q2KAC1AdQf8: Downloading player 5ae7d525\n",
      "[youtube] q2KAC1AdQf8: Downloading tv player API JSON\n",
      "[youtube] q2KAC1AdQf8: Downloading ios player API JSON\n",
      "[youtube] q2KAC1AdQf8: Downloading m3u8 information\n",
      "[info] q2KAC1AdQf8: Downloading 1 format(s): 140\n",
      "[download] Destination: id05207_1_q2KAC1AdQf8_00171\n",
      "[download] 100% of    2.16MiB in 00:00:01 at 2.02MiB/s   \n",
      "[FixupM4a] Correcting container of \"id05207_1_q2KAC1AdQf8_00171\"\n",
      "[ExtractAudio] Destination: id05207_1_q2KAC1AdQf8_00171.mp3\n",
      "Deleting original file id05207_1_q2KAC1AdQf8_00171 (pass -k to keep)\n",
      "Audio downloaded as id05207_1_q2KAC1AdQf8_00171\n",
      "Trimmed audio saved as ../data/download_df_audio/id05207_1_q2KAC1AdQf8_00171_cut.mp3\n",
      "Speaker: id05220, Video: DoT4_zkEdAE, Txt file: 00079\n",
      "[youtube] Extracting URL: https://www.youtube.com/watch?v=DoT4_zkEdAE\n",
      "[youtube] DoT4_zkEdAE: Downloading webpage\n",
      "[youtube] DoT4_zkEdAE: Downloading tv client config\n",
      "[youtube] DoT4_zkEdAE: Downloading player 5ae7d525\n",
      "[youtube] DoT4_zkEdAE: Downloading tv player API JSON\n",
      "[youtube] DoT4_zkEdAE: Downloading ios player API JSON\n",
      "[youtube] DoT4_zkEdAE: Downloading m3u8 information\n",
      "[info] DoT4_zkEdAE: Downloading 1 format(s): 251\n",
      "[download] Destination: id05220_0_DoT4_zkEdAE_00079\n",
      "[download] 100% of    3.26MiB in 00:00:00 at 4.61MiB/s   \n",
      "[ExtractAudio] Destination: id05220_0_DoT4_zkEdAE_00079.mp3\n",
      "Deleting original file id05220_0_DoT4_zkEdAE_00079 (pass -k to keep)\n",
      "Audio downloaded as id05220_0_DoT4_zkEdAE_00079\n",
      "Trimmed audio saved as ../data/download_df_audio/id05220_0_DoT4_zkEdAE_00079_cut.mp3\n",
      "Speaker: id05220, Video: 9-PusV-YDXk, Txt file: 00046\n",
      "[youtube] Extracting URL: https://www.youtube.com/watch?v=9-PusV-YDXk\n",
      "[youtube] 9-PusV-YDXk: Downloading webpage\n",
      "[youtube] 9-PusV-YDXk: Downloading tv client config\n",
      "[youtube] 9-PusV-YDXk: Downloading player 5ae7d525\n",
      "[youtube] 9-PusV-YDXk: Downloading tv player API JSON\n",
      "[youtube] 9-PusV-YDXk: Downloading ios player API JSON\n",
      "[youtube] 9-PusV-YDXk: Downloading m3u8 information\n",
      "[info] 9-PusV-YDXk: Downloading 1 format(s): 251\n",
      "[download] Destination: id05220_1_9-PusV-YDXk_00046\n",
      "[download] 100% of    1.43MiB in 00:00:00 at 3.77MiB/s   \n",
      "[ExtractAudio] Destination: id05220_1_9-PusV-YDXk_00046.mp3\n",
      "Deleting original file id05220_1_9-PusV-YDXk_00046 (pass -k to keep)\n",
      "Audio downloaded as id05220_1_9-PusV-YDXk_00046\n",
      "Trimmed audio saved as ../data/download_df_audio/id05220_1_9-PusV-YDXk_00046_cut.mp3\n",
      "Speaker: id05227, Video: 9vds0EEETlY, Txt file: 00080\n"
     ]
    },
    {
     "name": "stderr",
     "output_type": "stream",
     "text": [
      "ERROR: [youtube] 9vds0EEETlY: Video unavailable\n"
     ]
    },
    {
     "name": "stdout",
     "output_type": "stream",
     "text": [
      "Speaker: id05227, Video: X4oeZcZ262A, Txt file: 00144\n"
     ]
    },
    {
     "name": "stderr",
     "output_type": "stream",
     "text": [
      "ERROR: [youtube] X4oeZcZ262A: Video unavailable\n"
     ]
    },
    {
     "name": "stdout",
     "output_type": "stream",
     "text": [
      "Speaker: id05227, Video: X4oeZcZ262A, Txt file: 00141\n"
     ]
    },
    {
     "name": "stderr",
     "output_type": "stream",
     "text": [
      "ERROR: [youtube] X4oeZcZ262A: Video unavailable\n"
     ]
    },
    {
     "name": "stdout",
     "output_type": "stream",
     "text": [
      "Speaker: id05227, Video: kC18PqTS7PI, Txt file: 00235\n"
     ]
    },
    {
     "name": "stderr",
     "output_type": "stream",
     "text": [
      "ERROR: [youtube] kC18PqTS7PI: Video unavailable\n"
     ]
    },
    {
     "name": "stdout",
     "output_type": "stream",
     "text": [
      "Speaker: id05227, Video: 74NHV4DhqTc, Txt file: 00042\n"
     ]
    },
    {
     "name": "stderr",
     "output_type": "stream",
     "text": [
      "ERROR: [youtube] 74NHV4DhqTc: Video unavailable. This video is no longer available because the YouTube account associated with this video has been terminated.\n"
     ]
    },
    {
     "name": "stdout",
     "output_type": "stream",
     "text": [
      "Speaker: id05227, Video: kQtCYqT_vUA, Txt file: 00241\n"
     ]
    },
    {
     "name": "stderr",
     "output_type": "stream",
     "text": [
      "ERROR: [youtube] kQtCYqT_vUA: Video unavailable\n"
     ]
    },
    {
     "name": "stdout",
     "output_type": "stream",
     "text": [
      "Speaker: id05227, Video: kQtCYqT_vUA, Txt file: 00247\n"
     ]
    },
    {
     "name": "stderr",
     "output_type": "stream",
     "text": [
      "ERROR: [youtube] kQtCYqT_vUA: Video unavailable\n"
     ]
    },
    {
     "name": "stdout",
     "output_type": "stream",
     "text": [
      "Speaker: id05227, Video: X4oeZcZ262A, Txt file: 00139\n"
     ]
    },
    {
     "name": "stderr",
     "output_type": "stream",
     "text": [
      "ERROR: [youtube] X4oeZcZ262A: Video unavailable\n"
     ]
    },
    {
     "name": "stdout",
     "output_type": "stream",
     "text": [
      "Speaker: id05227, Video: YEo_4qJIKeM, Txt file: 00171\n"
     ]
    },
    {
     "name": "stderr",
     "output_type": "stream",
     "text": [
      "ERROR: [youtube] YEo_4qJIKeM: Video unavailable\n"
     ]
    },
    {
     "name": "stdout",
     "output_type": "stream",
     "text": [
      "Speaker: id05227, Video: kQtCYqT_vUA, Txt file: 00250\n"
     ]
    },
    {
     "name": "stderr",
     "output_type": "stream",
     "text": [
      "ERROR: [youtube] kQtCYqT_vUA: Video unavailable\n"
     ]
    },
    {
     "name": "stdout",
     "output_type": "stream",
     "text": [
      "Speaker: id05227, Video: YEo_4qJIKeM, Txt file: 00168\n"
     ]
    },
    {
     "name": "stderr",
     "output_type": "stream",
     "text": [
      "ERROR: [youtube] YEo_4qJIKeM: Video unavailable\n"
     ]
    },
    {
     "name": "stdout",
     "output_type": "stream",
     "text": [
      "Speaker: id05227, Video: 5XNKkfMd4bk, Txt file: 00023\n",
      "[youtube] Extracting URL: https://www.youtube.com/watch?v=5XNKkfMd4bk\n",
      "[youtube] 5XNKkfMd4bk: Downloading webpage\n",
      "[youtube] 5XNKkfMd4bk: Downloading tv client config\n",
      "[youtube] 5XNKkfMd4bk: Downloading player 5ae7d525\n",
      "[youtube] 5XNKkfMd4bk: Downloading tv player API JSON\n",
      "[youtube] 5XNKkfMd4bk: Downloading ios player API JSON\n",
      "[youtube] 5XNKkfMd4bk: Downloading m3u8 information\n",
      "[info] 5XNKkfMd4bk: Downloading 1 format(s): 251\n",
      "[download] Destination: id05227_0_5XNKkfMd4bk_00023\n",
      "[download] 100% of    3.24MiB in 00:00:00 at 6.21MiB/s     \n",
      "[ExtractAudio] Destination: id05227_0_5XNKkfMd4bk_00023.mp3\n",
      "Deleting original file id05227_0_5XNKkfMd4bk_00023 (pass -k to keep)\n",
      "Audio downloaded as id05227_0_5XNKkfMd4bk_00023\n",
      "Trimmed audio saved as ../data/download_df_audio/id05227_0_5XNKkfMd4bk_00023_cut.mp3\n",
      "Speaker: id05227, Video: YXAvlK8PwAg, Txt file: 00194\n"
     ]
    },
    {
     "name": "stderr",
     "output_type": "stream",
     "text": [
      "ERROR: [youtube] YXAvlK8PwAg: Video unavailable\n"
     ]
    },
    {
     "name": "stdout",
     "output_type": "stream",
     "text": [
      "Speaker: id05227, Video: XO0_WMFmS1Q, Txt file: 00155\n"
     ]
    },
    {
     "name": "stderr",
     "output_type": "stream",
     "text": [
      "ERROR: [youtube] XO0_WMFmS1Q: Video unavailable\n"
     ]
    },
    {
     "name": "stdout",
     "output_type": "stream",
     "text": [
      "Speaker: id05227, Video: kQtCYqT_vUA, Txt file: 00260\n"
     ]
    },
    {
     "name": "stderr",
     "output_type": "stream",
     "text": [
      "ERROR: [youtube] kQtCYqT_vUA: Video unavailable\n"
     ]
    },
    {
     "name": "stdout",
     "output_type": "stream",
     "text": [
      "Speaker: id05227, Video: kC18PqTS7PI, Txt file: 00223\n"
     ]
    },
    {
     "name": "stderr",
     "output_type": "stream",
     "text": [
      "ERROR: [youtube] kC18PqTS7PI: Video unavailable\n"
     ]
    },
    {
     "name": "stdout",
     "output_type": "stream",
     "text": [
      "Speaker: id05227, Video: kC18PqTS7PI, Txt file: 00231\n"
     ]
    },
    {
     "name": "stderr",
     "output_type": "stream",
     "text": [
      "ERROR: [youtube] kC18PqTS7PI: Video unavailable\n"
     ]
    },
    {
     "name": "stdout",
     "output_type": "stream",
     "text": [
      "Speaker: id05227, Video: gdfZIj-6WNU, Txt file: 00213\n",
      "[youtube] Extracting URL: https://www.youtube.com/watch?v=gdfZIj-6WNU\n",
      "[youtube] gdfZIj-6WNU: Downloading webpage\n",
      "[youtube] gdfZIj-6WNU: Downloading tv client config\n",
      "[youtube] gdfZIj-6WNU: Downloading player 5ae7d525\n",
      "[youtube] gdfZIj-6WNU: Downloading tv player API JSON\n",
      "[youtube] gdfZIj-6WNU: Downloading ios player API JSON\n",
      "[youtube] gdfZIj-6WNU: Downloading m3u8 information\n",
      "[info] gdfZIj-6WNU: Downloading 1 format(s): 140\n",
      "[download] Destination: id05227_1_gdfZIj-6WNU_00213\n",
      "[download] 100% of    8.38MiB in 00:00:01 at 6.18MiB/s     \n",
      "[FixupM4a] Correcting container of \"id05227_1_gdfZIj-6WNU_00213\"\n",
      "[ExtractAudio] Destination: id05227_1_gdfZIj-6WNU_00213.mp3\n",
      "Deleting original file id05227_1_gdfZIj-6WNU_00213 (pass -k to keep)\n",
      "Audio downloaded as id05227_1_gdfZIj-6WNU_00213\n",
      "Trimmed audio saved as ../data/download_df_audio/id05227_1_gdfZIj-6WNU_00213_cut.mp3\n",
      "Speaker: id05335, Video: IhGiDjZRbG8, Txt file: 00022\n"
     ]
    },
    {
     "name": "stderr",
     "output_type": "stream",
     "text": [
      "ERROR: [youtube] IhGiDjZRbG8: Sign in to confirm your age. This video may be inappropriate for some users. Use --cookies-from-browser or --cookies for the authentication. See  https://github.com/yt-dlp/yt-dlp/wiki/FAQ#how-do-i-pass-cookies-to-yt-dlp  for how to manually pass cookies. Also see  https://github.com/yt-dlp/yt-dlp/wiki/Extractors#exporting-youtube-cookies  for tips on effectively exporting YouTube cookies\n"
     ]
    },
    {
     "name": "stdout",
     "output_type": "stream",
     "text": [
      "Speaker: id05335, Video: EhWVrX0S_GU, Txt file: 00013\n",
      "[youtube] Extracting URL: https://www.youtube.com/watch?v=EhWVrX0S_GU\n",
      "[youtube] EhWVrX0S_GU: Downloading webpage\n",
      "[youtube] EhWVrX0S_GU: Downloading tv client config\n",
      "[youtube] EhWVrX0S_GU: Downloading player 5ae7d525\n",
      "[youtube] EhWVrX0S_GU: Downloading tv player API JSON\n",
      "[youtube] EhWVrX0S_GU: Downloading ios player API JSON\n",
      "[youtube] EhWVrX0S_GU: Downloading m3u8 information\n",
      "[info] EhWVrX0S_GU: Downloading 1 format(s): 140\n",
      "[download] Destination: id05335_0_EhWVrX0S_GU_00013\n",
      "[download] 100% of    2.79MiB in 00:00:00 at 5.14MiB/s     \n",
      "[FixupM4a] Correcting container of \"id05335_0_EhWVrX0S_GU_00013\"\n",
      "[ExtractAudio] Destination: id05335_0_EhWVrX0S_GU_00013.mp3\n",
      "Deleting original file id05335_0_EhWVrX0S_GU_00013 (pass -k to keep)\n",
      "Audio downloaded as id05335_0_EhWVrX0S_GU_00013\n",
      "Trimmed audio saved as ../data/download_df_audio/id05335_0_EhWVrX0S_GU_00013_cut.mp3\n",
      "Speaker: id05335, Video: AfI8ToUWkTk, Txt file: 00006\n"
     ]
    },
    {
     "name": "stderr",
     "output_type": "stream",
     "text": [
      "ERROR: [youtube] AfI8ToUWkTk: Video unavailable. This video is no longer available because the YouTube account associated with this video has been terminated.\n"
     ]
    },
    {
     "name": "stdout",
     "output_type": "stream",
     "text": [
      "Speaker: id05335, Video: IhGiDjZRbG8, Txt file: 00024\n"
     ]
    },
    {
     "name": "stderr",
     "output_type": "stream",
     "text": [
      "ERROR: [youtube] IhGiDjZRbG8: Sign in to confirm your age. This video may be inappropriate for some users. Use --cookies-from-browser or --cookies for the authentication. See  https://github.com/yt-dlp/yt-dlp/wiki/FAQ#how-do-i-pass-cookies-to-yt-dlp  for how to manually pass cookies. Also see  https://github.com/yt-dlp/yt-dlp/wiki/Extractors#exporting-youtube-cookies  for tips on effectively exporting YouTube cookies\n"
     ]
    },
    {
     "name": "stdout",
     "output_type": "stream",
     "text": [
      "Speaker: id05335, Video: KvXL4bx1_Uw, Txt file: 00042\n",
      "[youtube] Extracting URL: https://www.youtube.com/watch?v=KvXL4bx1_Uw\n",
      "[youtube] KvXL4bx1_Uw: Downloading webpage\n",
      "[youtube] KvXL4bx1_Uw: Downloading tv client config\n",
      "[youtube] KvXL4bx1_Uw: Downloading player 5ae7d525\n",
      "[youtube] KvXL4bx1_Uw: Downloading tv player API JSON\n",
      "[youtube] KvXL4bx1_Uw: Downloading ios player API JSON\n",
      "[youtube] KvXL4bx1_Uw: Downloading m3u8 information\n",
      "[info] KvXL4bx1_Uw: Downloading 1 format(s): 140\n",
      "[download] Destination: id05335_1_KvXL4bx1_Uw_00042\n",
      "[download] 100% of    5.26MiB in 00:00:00 at 5.95MiB/s   \n",
      "[FixupM4a] Correcting container of \"id05335_1_KvXL4bx1_Uw_00042\"\n",
      "[ExtractAudio] Destination: id05335_1_KvXL4bx1_Uw_00042.mp3\n",
      "Deleting original file id05335_1_KvXL4bx1_Uw_00042 (pass -k to keep)\n",
      "Audio downloaded as id05335_1_KvXL4bx1_Uw_00042\n",
      "Trimmed audio saved as ../data/download_df_audio/id05335_1_KvXL4bx1_Uw_00042_cut.mp3\n",
      "Speaker: id05342, Video: kiwV7ww_LAQ, Txt file: 00032\n"
     ]
    },
    {
     "name": "stderr",
     "output_type": "stream",
     "text": [
      "ERROR: [youtube] kiwV7ww_LAQ: Private video. Sign in if you've been granted access to this video. Use --cookies-from-browser or --cookies for the authentication. See  https://github.com/yt-dlp/yt-dlp/wiki/FAQ#how-do-i-pass-cookies-to-yt-dlp  for how to manually pass cookies. Also see  https://github.com/yt-dlp/yt-dlp/wiki/Extractors#exporting-youtube-cookies  for tips on effectively exporting YouTube cookies\n"
     ]
    },
    {
     "name": "stdout",
     "output_type": "stream",
     "text": [
      "Speaker: id05342, Video: 42EcxP1oDd0, Txt file: 00016\n",
      "[youtube] Extracting URL: https://www.youtube.com/watch?v=42EcxP1oDd0\n",
      "[youtube] 42EcxP1oDd0: Downloading webpage\n",
      "[youtube] 42EcxP1oDd0: Downloading tv client config\n",
      "[youtube] 42EcxP1oDd0: Downloading player 5ae7d525\n",
      "[youtube] 42EcxP1oDd0: Downloading tv player API JSON\n",
      "[youtube] 42EcxP1oDd0: Downloading ios player API JSON\n",
      "[youtube] 42EcxP1oDd0: Downloading m3u8 information\n",
      "[info] 42EcxP1oDd0: Downloading 1 format(s): 251\n",
      "[download] Destination: id05342_0_42EcxP1oDd0_00016\n",
      "[download] 100% of    6.64MiB in 00:00:00 at 8.25MiB/s   \n",
      "[ExtractAudio] Destination: id05342_0_42EcxP1oDd0_00016.mp3\n",
      "Deleting original file id05342_0_42EcxP1oDd0_00016 (pass -k to keep)\n",
      "Audio downloaded as id05342_0_42EcxP1oDd0_00016\n",
      "Trimmed audio saved as ../data/download_df_audio/id05342_0_42EcxP1oDd0_00016_cut.mp3\n",
      "Speaker: id05342, Video: oI-iQZqo5MQ, Txt file: 00037\n",
      "[youtube] Extracting URL: https://www.youtube.com/watch?v=oI-iQZqo5MQ\n",
      "[youtube] oI-iQZqo5MQ: Downloading webpage\n",
      "[youtube] oI-iQZqo5MQ: Downloading tv client config\n",
      "[youtube] oI-iQZqo5MQ: Downloading player 5ae7d525\n",
      "[youtube] oI-iQZqo5MQ: Downloading tv player API JSON\n",
      "[youtube] oI-iQZqo5MQ: Downloading ios player API JSON\n",
      "[youtube] oI-iQZqo5MQ: Downloading MPD manifest\n",
      "[youtube] oI-iQZqo5MQ: Downloading m3u8 information\n",
      "[youtube] oI-iQZqo5MQ: Downloading MPD manifest\n",
      "[info] oI-iQZqo5MQ: Downloading 1 format(s): 251\n",
      "[download] Destination: id05342_1_oI-iQZqo5MQ_00037\n",
      "[download] 100% of    1.96MiB in 00:00:00 at 4.37MiB/s     \n",
      "[ExtractAudio] Destination: id05342_1_oI-iQZqo5MQ_00037.mp3\n",
      "Deleting original file id05342_1_oI-iQZqo5MQ_00037 (pass -k to keep)\n",
      "Audio downloaded as id05342_1_oI-iQZqo5MQ_00037\n",
      "Trimmed audio saved as ../data/download_df_audio/id05342_1_oI-iQZqo5MQ_00037_cut.mp3\n",
      "Speaker: id05427, Video: L-aZmrVzqtI, Txt file: 00101\n",
      "[youtube] Extracting URL: https://www.youtube.com/watch?v=L-aZmrVzqtI\n",
      "[youtube] L-aZmrVzqtI: Downloading webpage\n",
      "[youtube] L-aZmrVzqtI: Downloading tv client config\n",
      "[youtube] L-aZmrVzqtI: Downloading player 5ae7d525\n",
      "[youtube] L-aZmrVzqtI: Downloading tv player API JSON\n",
      "[youtube] L-aZmrVzqtI: Downloading ios player API JSON\n",
      "[youtube] L-aZmrVzqtI: Downloading m3u8 information\n",
      "[info] L-aZmrVzqtI: Downloading 1 format(s): 251\n",
      "[download] Destination: id05427_0_L-aZmrVzqtI_00101\n",
      "[download] 100% of    2.91MiB in 00:00:01 at 1.73MiB/s   \n",
      "[ExtractAudio] Destination: id05427_0_L-aZmrVzqtI_00101.mp3\n",
      "Deleting original file id05427_0_L-aZmrVzqtI_00101 (pass -k to keep)\n",
      "Audio downloaded as id05427_0_L-aZmrVzqtI_00101\n",
      "Trimmed audio saved as ../data/download_df_audio/id05427_0_L-aZmrVzqtI_00101_cut.mp3\n",
      "Speaker: id05427, Video: RwjtFNr8j8M, Txt file: 00117\n"
     ]
    },
    {
     "name": "stderr",
     "output_type": "stream",
     "text": [
      "ERROR: [youtube] RwjtFNr8j8M: Video unavailable\n"
     ]
    },
    {
     "name": "stdout",
     "output_type": "stream",
     "text": [
      "Speaker: id05427, Video: 0p8IkAfyhL8, Txt file: 00002\n",
      "[youtube] Extracting URL: https://www.youtube.com/watch?v=0p8IkAfyhL8\n",
      "[youtube] 0p8IkAfyhL8: Downloading webpage\n",
      "[youtube] 0p8IkAfyhL8: Downloading tv client config\n",
      "[youtube] 0p8IkAfyhL8: Downloading player 5ae7d525\n",
      "[youtube] 0p8IkAfyhL8: Downloading tv player API JSON\n",
      "[youtube] 0p8IkAfyhL8: Downloading ios player API JSON\n",
      "[youtube] 0p8IkAfyhL8: Downloading m3u8 information\n",
      "[info] 0p8IkAfyhL8: Downloading 1 format(s): 140\n",
      "[download] Destination: id05427_1_0p8IkAfyhL8_00002\n",
      "[download] 100% of    1.46MiB in 00:00:00 at 1.83MiB/s   \n",
      "[FixupM4a] Correcting container of \"id05427_1_0p8IkAfyhL8_00002\"\n",
      "[ExtractAudio] Destination: id05427_1_0p8IkAfyhL8_00002.mp3\n",
      "Deleting original file id05427_1_0p8IkAfyhL8_00002 (pass -k to keep)\n",
      "Audio downloaded as id05427_1_0p8IkAfyhL8_00002\n",
      "Trimmed audio saved as ../data/download_df_audio/id05427_1_0p8IkAfyhL8_00002_cut.mp3\n",
      "Speaker: id05639, Video: Jrq1VWASWJM, Txt file: 00087\n",
      "[youtube] Extracting URL: https://www.youtube.com/watch?v=Jrq1VWASWJM\n",
      "[youtube] Jrq1VWASWJM: Downloading webpage\n",
      "[youtube] Jrq1VWASWJM: Downloading tv client config\n",
      "[youtube] Jrq1VWASWJM: Downloading player 5ae7d525\n",
      "[youtube] Jrq1VWASWJM: Downloading tv player API JSON\n",
      "[youtube] Jrq1VWASWJM: Downloading ios player API JSON\n",
      "[youtube] Jrq1VWASWJM: Downloading m3u8 information\n",
      "[info] Jrq1VWASWJM: Downloading 1 format(s): 140\n",
      "[download] Destination: id05639_0_Jrq1VWASWJM_00087\n",
      "[download] 100% of   31.46MiB in 00:00:02 at 12.16MiB/s    \n",
      "[FixupM4a] Correcting container of \"id05639_0_Jrq1VWASWJM_00087\"\n",
      "[ExtractAudio] Destination: id05639_0_Jrq1VWASWJM_00087.mp3\n",
      "Deleting original file id05639_0_Jrq1VWASWJM_00087 (pass -k to keep)\n",
      "Audio downloaded as id05639_0_Jrq1VWASWJM_00087\n",
      "Trimmed audio saved as ../data/download_df_audio/id05639_0_Jrq1VWASWJM_00087_cut.mp3\n",
      "Speaker: id05639, Video: PVB6m_ah7sY, Txt file: 00189\n"
     ]
    },
    {
     "name": "stderr",
     "output_type": "stream",
     "text": [
      "ERROR: [youtube] PVB6m_ah7sY: Video unavailable. This video is no longer available because the YouTube account associated with this video has been terminated.\n"
     ]
    },
    {
     "name": "stdout",
     "output_type": "stream",
     "text": [
      "Speaker: id05639, Video: gytJl6lCmDM, Txt file: 00332\n"
     ]
    },
    {
     "name": "stderr",
     "output_type": "stream",
     "text": [
      "ERROR: [youtube] gytJl6lCmDM: Video unavailable\n"
     ]
    },
    {
     "name": "stdout",
     "output_type": "stream",
     "text": [
      "Speaker: id05639, Video: Opj3m7fXgqQ, Txt file: 00183\n",
      "[youtube] Extracting URL: https://www.youtube.com/watch?v=Opj3m7fXgqQ\n",
      "[youtube] Opj3m7fXgqQ: Downloading webpage\n",
      "[youtube] Opj3m7fXgqQ: Downloading tv client config\n",
      "[youtube] Opj3m7fXgqQ: Downloading player 5ae7d525\n",
      "[youtube] Opj3m7fXgqQ: Downloading tv player API JSON\n",
      "[youtube] Opj3m7fXgqQ: Downloading ios player API JSON\n",
      "[youtube] Opj3m7fXgqQ: Downloading m3u8 information\n",
      "[info] Opj3m7fXgqQ: Downloading 1 format(s): 140\n",
      "[download] Destination: id05639_1_Opj3m7fXgqQ_00183\n",
      "[download] 100% of    8.70MiB in 00:00:02 at 3.31MiB/s   \n",
      "[FixupM4a] Correcting container of \"id05639_1_Opj3m7fXgqQ_00183\"\n",
      "[ExtractAudio] Destination: id05639_1_Opj3m7fXgqQ_00183.mp3\n",
      "Deleting original file id05639_1_Opj3m7fXgqQ_00183 (pass -k to keep)\n",
      "Audio downloaded as id05639_1_Opj3m7fXgqQ_00183\n",
      "Trimmed audio saved as ../data/download_df_audio/id05639_1_Opj3m7fXgqQ_00183_cut.mp3\n",
      "Speaker: id05663, Video: 4T32GewOFGU, Txt file: 00002\n",
      "[youtube] Extracting URL: https://www.youtube.com/watch?v=4T32GewOFGU\n",
      "[youtube] 4T32GewOFGU: Downloading webpage\n",
      "[youtube] 4T32GewOFGU: Downloading tv client config\n",
      "[youtube] 4T32GewOFGU: Downloading player 5ae7d525\n",
      "[youtube] 4T32GewOFGU: Downloading tv player API JSON\n",
      "[youtube] 4T32GewOFGU: Downloading ios player API JSON\n",
      "[youtube] 4T32GewOFGU: Downloading m3u8 information\n",
      "[info] 4T32GewOFGU: Downloading 1 format(s): 140\n",
      "[download] Destination: id05663_0_4T32GewOFGU_00002\n",
      "[download] 100% of    1.74MiB in 00:00:01 at 1.73MiB/s   \n",
      "[FixupM4a] Correcting container of \"id05663_0_4T32GewOFGU_00002\"\n",
      "[ExtractAudio] Destination: id05663_0_4T32GewOFGU_00002.mp3\n",
      "Deleting original file id05663_0_4T32GewOFGU_00002 (pass -k to keep)\n",
      "Audio downloaded as id05663_0_4T32GewOFGU_00002\n",
      "Trimmed audio saved as ../data/download_df_audio/id05663_0_4T32GewOFGU_00002_cut.mp3\n",
      "Speaker: id05663, Video: fsTAj9n-Dw0, Txt file: 00018\n",
      "[youtube] Extracting URL: https://www.youtube.com/watch?v=fsTAj9n-Dw0\n",
      "[youtube] fsTAj9n-Dw0: Downloading webpage\n",
      "[youtube] fsTAj9n-Dw0: Downloading tv client config\n",
      "[youtube] fsTAj9n-Dw0: Downloading player 5ae7d525\n",
      "[youtube] fsTAj9n-Dw0: Downloading tv player API JSON\n",
      "[youtube] fsTAj9n-Dw0: Downloading ios player API JSON\n",
      "[youtube] fsTAj9n-Dw0: Downloading m3u8 information\n",
      "[info] fsTAj9n-Dw0: Downloading 1 format(s): 140\n",
      "[download] Destination: id05663_1_fsTAj9n-Dw0_00018\n",
      "[download] 100% of    1.74MiB in 00:00:00 at 1.90MiB/s   \n",
      "[FixupM4a] Correcting container of \"id05663_1_fsTAj9n-Dw0_00018\"\n",
      "[ExtractAudio] Destination: id05663_1_fsTAj9n-Dw0_00018.mp3\n",
      "Deleting original file id05663_1_fsTAj9n-Dw0_00018 (pass -k to keep)\n",
      "Audio downloaded as id05663_1_fsTAj9n-Dw0_00018\n",
      "Trimmed audio saved as ../data/download_df_audio/id05663_1_fsTAj9n-Dw0_00018_cut.mp3\n",
      "Speaker: id05664, Video: 6nf1ss2IjJE, Txt file: 00046\n",
      "[youtube] Extracting URL: https://www.youtube.com/watch?v=6nf1ss2IjJE\n",
      "[youtube] 6nf1ss2IjJE: Downloading webpage\n",
      "[youtube] 6nf1ss2IjJE: Downloading tv client config\n",
      "[youtube] 6nf1ss2IjJE: Downloading player 5ae7d525\n",
      "[youtube] 6nf1ss2IjJE: Downloading tv player API JSON\n",
      "[youtube] 6nf1ss2IjJE: Downloading ios player API JSON\n",
      "[youtube] 6nf1ss2IjJE: Downloading m3u8 information\n",
      "[info] 6nf1ss2IjJE: Downloading 1 format(s): 251\n",
      "[download] Destination: id05664_0_6nf1ss2IjJE_00046\n",
      "[download] 100% of    3.60MiB in 00:00:01 at 3.01MiB/s   \n",
      "[ExtractAudio] Destination: id05664_0_6nf1ss2IjJE_00046.mp3\n",
      "Deleting original file id05664_0_6nf1ss2IjJE_00046 (pass -k to keep)\n",
      "Audio downloaded as id05664_0_6nf1ss2IjJE_00046\n",
      "Trimmed audio saved as ../data/download_df_audio/id05664_0_6nf1ss2IjJE_00046_cut.mp3\n",
      "Speaker: id05664, Video: KvQMM1mfQbI, Txt file: 00170\n",
      "[youtube] Extracting URL: https://www.youtube.com/watch?v=KvQMM1mfQbI\n",
      "[youtube] KvQMM1mfQbI: Downloading webpage\n",
      "[youtube] KvQMM1mfQbI: Downloading tv client config\n",
      "[youtube] KvQMM1mfQbI: Downloading player 5ae7d525\n",
      "[youtube] KvQMM1mfQbI: Downloading tv player API JSON\n",
      "[youtube] KvQMM1mfQbI: Downloading ios player API JSON\n",
      "[youtube] KvQMM1mfQbI: Downloading m3u8 information\n",
      "[info] KvQMM1mfQbI: Downloading 1 format(s): 140\n",
      "[download] Destination: id05664_1_KvQMM1mfQbI_00170\n",
      "[download] 100% of   13.82MiB in 00:00:01 at 7.27MiB/s     \n",
      "[FixupM4a] Correcting container of \"id05664_1_KvQMM1mfQbI_00170\"\n",
      "[ExtractAudio] Destination: id05664_1_KvQMM1mfQbI_00170.mp3\n",
      "Deleting original file id05664_1_KvQMM1mfQbI_00170 (pass -k to keep)\n",
      "Audio downloaded as id05664_1_KvQMM1mfQbI_00170\n",
      "Trimmed audio saved as ../data/download_df_audio/id05664_1_KvQMM1mfQbI_00170_cut.mp3\n",
      "Speaker: id05771, Video: FfWXD00b8LE, Txt file: 00075\n"
     ]
    },
    {
     "name": "stderr",
     "output_type": "stream",
     "text": [
      "ERROR: [youtube] FfWXD00b8LE: Video unavailable\n"
     ]
    },
    {
     "name": "stdout",
     "output_type": "stream",
     "text": [
      "Speaker: id05771, Video: iZ9XQ_skm_E, Txt file: 00476\n",
      "[youtube] Extracting URL: https://www.youtube.com/watch?v=iZ9XQ_skm_E\n",
      "[youtube] iZ9XQ_skm_E: Downloading webpage\n",
      "[youtube] iZ9XQ_skm_E: Downloading tv client config\n",
      "[youtube] iZ9XQ_skm_E: Downloading player 5ae7d525\n",
      "[youtube] iZ9XQ_skm_E: Downloading tv player API JSON\n",
      "[youtube] iZ9XQ_skm_E: Downloading ios player API JSON\n",
      "[youtube] iZ9XQ_skm_E: Downloading m3u8 information\n",
      "[info] iZ9XQ_skm_E: Downloading 1 format(s): 140\n",
      "[download] Destination: id05771_0_iZ9XQ_skm_E_00476\n",
      "[download] 100% of    3.97MiB in 00:00:02 at 1.87MiB/s   \n",
      "[FixupM4a] Correcting container of \"id05771_0_iZ9XQ_skm_E_00476\"\n",
      "[ExtractAudio] Destination: id05771_0_iZ9XQ_skm_E_00476.mp3\n",
      "Deleting original file id05771_0_iZ9XQ_skm_E_00476 (pass -k to keep)\n",
      "Audio downloaded as id05771_0_iZ9XQ_skm_E_00476\n",
      "Trimmed audio saved as ../data/download_df_audio/id05771_0_iZ9XQ_skm_E_00476_cut.mp3\n",
      "Speaker: id05771, Video: Ucge64UmpDM, Txt file: 00363\n",
      "[youtube] Extracting URL: https://www.youtube.com/watch?v=Ucge64UmpDM\n",
      "[youtube] Ucge64UmpDM: Downloading webpage\n",
      "[youtube] Ucge64UmpDM: Downloading tv client config\n",
      "[youtube] Ucge64UmpDM: Downloading player 5ae7d525\n",
      "[youtube] Ucge64UmpDM: Downloading tv player API JSON\n",
      "[youtube] Ucge64UmpDM: Downloading ios player API JSON\n",
      "[youtube] Ucge64UmpDM: Downloading m3u8 information\n",
      "[info] Ucge64UmpDM: Downloading 1 format(s): 140\n",
      "[download] Destination: id05771_1_Ucge64UmpDM_00363\n",
      "[download] 100% of   70.84MiB in 00:00:04 at 15.37MiB/s    \n",
      "[FixupM4a] Correcting container of \"id05771_1_Ucge64UmpDM_00363\"\n",
      "[ExtractAudio] Destination: id05771_1_Ucge64UmpDM_00363.mp3\n",
      "Deleting original file id05771_1_Ucge64UmpDM_00363 (pass -k to keep)\n",
      "Audio downloaded as id05771_1_Ucge64UmpDM_00363\n",
      "Trimmed audio saved as ../data/download_df_audio/id05771_1_Ucge64UmpDM_00363_cut.mp3\n",
      "Speaker: id05832, Video: CLv6P_GmzJU, Txt file: 00124\n",
      "[youtube] Extracting URL: https://www.youtube.com/watch?v=CLv6P_GmzJU\n",
      "[youtube] CLv6P_GmzJU: Downloading webpage\n",
      "[youtube] CLv6P_GmzJU: Downloading tv client config\n",
      "[youtube] CLv6P_GmzJU: Downloading player 5ae7d525\n",
      "[youtube] CLv6P_GmzJU: Downloading tv player API JSON\n",
      "[youtube] CLv6P_GmzJU: Downloading ios player API JSON\n",
      "[youtube] CLv6P_GmzJU: Downloading m3u8 information\n",
      "[info] CLv6P_GmzJU: Downloading 1 format(s): 251\n",
      "[download] Destination: id05832_0_CLv6P_GmzJU_00124\n",
      "[download] 100% of    4.88MiB in 00:00:00 at 10.13MiB/s  \n",
      "[ExtractAudio] Destination: id05832_0_CLv6P_GmzJU_00124.mp3\n",
      "Deleting original file id05832_0_CLv6P_GmzJU_00124 (pass -k to keep)\n",
      "Audio downloaded as id05832_0_CLv6P_GmzJU_00124\n",
      "Trimmed audio saved as ../data/download_df_audio/id05832_0_CLv6P_GmzJU_00124_cut.mp3\n",
      "Speaker: id05832, Video: N4PFaJMSl6E, Txt file: 00186\n"
     ]
    },
    {
     "name": "stderr",
     "output_type": "stream",
     "text": [
      "ERROR: [youtube] N4PFaJMSl6E: Video unavailable. This video contains content from Worldwide Pants Incorporated, who has blocked it on copyright grounds\n"
     ]
    },
    {
     "name": "stdout",
     "output_type": "stream",
     "text": [
      "Speaker: id05832, Video: PzJu0zMW1LQ, Txt file: 00222\n"
     ]
    },
    {
     "name": "stderr",
     "output_type": "stream",
     "text": [
      "ERROR: [youtube] PzJu0zMW1LQ: Video unavailable. This video is no longer available because the YouTube account associated with this video has been terminated.\n"
     ]
    },
    {
     "name": "stdout",
     "output_type": "stream",
     "text": [
      "Speaker: id05832, Video: U9vuX0McN78, Txt file: 00249\n",
      "[youtube] Extracting URL: https://www.youtube.com/watch?v=U9vuX0McN78\n",
      "[youtube] U9vuX0McN78: Downloading webpage\n",
      "[youtube] U9vuX0McN78: Downloading tv client config\n",
      "[youtube] U9vuX0McN78: Downloading player 5ae7d525\n",
      "[youtube] U9vuX0McN78: Downloading tv player API JSON\n",
      "[youtube] U9vuX0McN78: Downloading ios player API JSON\n",
      "[youtube] U9vuX0McN78: Downloading m3u8 information\n",
      "[info] U9vuX0McN78: Downloading 1 format(s): 251\n",
      "[download] Destination: id05832_1_U9vuX0McN78_00249\n",
      "[download] 100% of    3.98MiB in 00:00:00 at 9.75MiB/s     \n",
      "[ExtractAudio] Destination: id05832_1_U9vuX0McN78_00249.mp3\n",
      "Deleting original file id05832_1_U9vuX0McN78_00249 (pass -k to keep)\n",
      "Audio downloaded as id05832_1_U9vuX0McN78_00249\n",
      "Trimmed audio saved as ../data/download_df_audio/id05832_1_U9vuX0McN78_00249_cut.mp3\n",
      "Speaker: id05893, Video: WNY_4WYSKXg, Txt file: 00240\n",
      "[youtube] Extracting URL: https://www.youtube.com/watch?v=WNY_4WYSKXg\n",
      "[youtube] WNY_4WYSKXg: Downloading webpage\n",
      "[youtube] WNY_4WYSKXg: Downloading tv client config\n",
      "[youtube] WNY_4WYSKXg: Downloading player 5ae7d525\n",
      "[youtube] WNY_4WYSKXg: Downloading tv player API JSON\n",
      "[youtube] WNY_4WYSKXg: Downloading ios player API JSON\n",
      "[youtube] WNY_4WYSKXg: Downloading m3u8 information\n",
      "[info] WNY_4WYSKXg: Downloading 1 format(s): 251\n",
      "[download] Destination: id05893_0_WNY_4WYSKXg_00240\n",
      "[download] 100% of   36.22MiB in 00:00:12 at 2.97MiB/s     \n",
      "[ExtractAudio] Destination: id05893_0_WNY_4WYSKXg_00240.mp3\n",
      "Deleting original file id05893_0_WNY_4WYSKXg_00240 (pass -k to keep)\n",
      "Audio downloaded as id05893_0_WNY_4WYSKXg_00240\n",
      "Trimmed audio saved as ../data/download_df_audio/id05893_0_WNY_4WYSKXg_00240_cut.mp3\n",
      "Speaker: id05893, Video: 2jCYyXVQQPI, Txt file: 00011\n",
      "[youtube] Extracting URL: https://www.youtube.com/watch?v=2jCYyXVQQPI\n",
      "[youtube] 2jCYyXVQQPI: Downloading webpage\n",
      "[youtube] 2jCYyXVQQPI: Downloading tv client config\n",
      "[youtube] 2jCYyXVQQPI: Downloading player 5ae7d525\n",
      "[youtube] 2jCYyXVQQPI: Downloading tv player API JSON\n",
      "[youtube] 2jCYyXVQQPI: Downloading ios player API JSON\n",
      "[youtube] 2jCYyXVQQPI: Downloading m3u8 information\n",
      "[info] 2jCYyXVQQPI: Downloading 1 format(s): 140\n",
      "[download] Destination: id05893_1_2jCYyXVQQPI_00011\n",
      "[download] 100% of    3.00MiB in 00:00:01 at 2.86MiB/s   \n",
      "[FixupM4a] Correcting container of \"id05893_1_2jCYyXVQQPI_00011\"\n",
      "[ExtractAudio] Destination: id05893_1_2jCYyXVQQPI_00011.mp3\n",
      "Deleting original file id05893_1_2jCYyXVQQPI_00011 (pass -k to keep)\n",
      "Audio downloaded as id05893_1_2jCYyXVQQPI_00011\n",
      "Trimmed audio saved as ../data/download_df_audio/id05893_1_2jCYyXVQQPI_00011_cut.mp3\n",
      "Speaker: id05935, Video: JCAPNg5mqdE, Txt file: 00135\n",
      "[youtube] Extracting URL: https://www.youtube.com/watch?v=JCAPNg5mqdE\n",
      "[youtube] JCAPNg5mqdE: Downloading webpage\n",
      "[youtube] JCAPNg5mqdE: Downloading tv client config\n",
      "[youtube] JCAPNg5mqdE: Downloading player 5ae7d525\n",
      "[youtube] JCAPNg5mqdE: Downloading tv player API JSON\n",
      "[youtube] JCAPNg5mqdE: Downloading ios player API JSON\n",
      "[youtube] JCAPNg5mqdE: Downloading m3u8 information\n",
      "[info] JCAPNg5mqdE: Downloading 1 format(s): 251\n",
      "[download] Destination: id05935_0_JCAPNg5mqdE_00135\n",
      "[download] 100% of   17.71MiB in 00:00:03 at 4.45MiB/s     \n",
      "[ExtractAudio] Destination: id05935_0_JCAPNg5mqdE_00135.mp3\n",
      "Deleting original file id05935_0_JCAPNg5mqdE_00135 (pass -k to keep)\n",
      "Audio downloaded as id05935_0_JCAPNg5mqdE_00135\n",
      "Trimmed audio saved as ../data/download_df_audio/id05935_0_JCAPNg5mqdE_00135_cut.mp3\n",
      "Speaker: id05935, Video: zgAuBFUlS6M, Txt file: 00481\n"
     ]
    },
    {
     "name": "stderr",
     "output_type": "stream",
     "text": [
      "ERROR: [youtube] zgAuBFUlS6M: Video unavailable. This video has been removed by the uploader\n"
     ]
    },
    {
     "name": "stdout",
     "output_type": "stream",
     "text": [
      "Speaker: id05935, Video: RIR7oGsEAuE, Txt file: 00204\n"
     ]
    },
    {
     "name": "stderr",
     "output_type": "stream",
     "text": [
      "ERROR: [youtube] RIR7oGsEAuE: Video unavailable. This video is no longer available because the YouTube account associated with this video has been terminated.\n"
     ]
    },
    {
     "name": "stdout",
     "output_type": "stream",
     "text": [
      "Speaker: id05935, Video: zgAuBFUlS6M, Txt file: 00448\n"
     ]
    },
    {
     "name": "stderr",
     "output_type": "stream",
     "text": [
      "ERROR: [youtube] zgAuBFUlS6M: Video unavailable. This video has been removed by the uploader\n"
     ]
    },
    {
     "name": "stdout",
     "output_type": "stream",
     "text": [
      "Speaker: id05935, Video: rmRh6R8bAgc, Txt file: 00410\n"
     ]
    },
    {
     "name": "stderr",
     "output_type": "stream",
     "text": [
      "ERROR: [youtube] rmRh6R8bAgc: Video unavailable. This video is no longer available because the YouTube account associated with this video has been terminated.\n"
     ]
    },
    {
     "name": "stdout",
     "output_type": "stream",
     "text": [
      "Speaker: id05935, Video: 3tykTCQO4-o, Txt file: 00043\n"
     ]
    },
    {
     "name": "stderr",
     "output_type": "stream",
     "text": [
      "ERROR: [youtube] 3tykTCQO4-o: Video unavailable\n"
     ]
    },
    {
     "name": "stdout",
     "output_type": "stream",
     "text": [
      "Speaker: id05935, Video: rO_dSIAXhkY, Txt file: 00380\n",
      "[youtube] Extracting URL: https://www.youtube.com/watch?v=rO_dSIAXhkY\n",
      "[youtube] rO_dSIAXhkY: Downloading webpage\n",
      "[youtube] rO_dSIAXhkY: Downloading tv client config\n",
      "[youtube] rO_dSIAXhkY: Downloading player 5ae7d525\n",
      "[youtube] rO_dSIAXhkY: Downloading tv player API JSON\n",
      "[youtube] rO_dSIAXhkY: Downloading ios player API JSON\n",
      "[youtube] rO_dSIAXhkY: Downloading m3u8 information\n",
      "[info] rO_dSIAXhkY: Downloading 1 format(s): 251\n",
      "[download] Destination: id05935_1_rO_dSIAXhkY_00380\n",
      "[download] 100% of    5.09MiB in 00:00:00 at 9.76MiB/s     \n",
      "[ExtractAudio] Destination: id05935_1_rO_dSIAXhkY_00380.mp3\n",
      "Deleting original file id05935_1_rO_dSIAXhkY_00380 (pass -k to keep)\n",
      "Audio downloaded as id05935_1_rO_dSIAXhkY_00380\n",
      "Trimmed audio saved as ../data/download_df_audio/id05935_1_rO_dSIAXhkY_00380_cut.mp3\n",
      "Speaker: id06004, Video: 8Sx2j8G7dvw, Txt file: 00016\n"
     ]
    },
    {
     "name": "stderr",
     "output_type": "stream",
     "text": [
      "ERROR: [youtube] 8Sx2j8G7dvw: Video unavailable. This video is no longer available because the YouTube account associated with this video has been terminated.\n"
     ]
    },
    {
     "name": "stdout",
     "output_type": "stream",
     "text": [
      "Speaker: id06004, Video: w20H0L555cE, Txt file: 00092\n"
     ]
    },
    {
     "name": "stderr",
     "output_type": "stream",
     "text": [
      "ERROR: [youtube] w20H0L555cE: Video unavailable. The uploader has not made this video available in your country\n"
     ]
    },
    {
     "name": "stdout",
     "output_type": "stream",
     "text": [
      "Speaker: id06004, Video: w20H0L555cE, Txt file: 00090\n"
     ]
    },
    {
     "name": "stderr",
     "output_type": "stream",
     "text": [
      "ERROR: [youtube] w20H0L555cE: Video unavailable. The uploader has not made this video available in your country\n"
     ]
    },
    {
     "name": "stdout",
     "output_type": "stream",
     "text": [
      "Speaker: id06004, Video: guiHIZjNC78, Txt file: 00075\n"
     ]
    },
    {
     "name": "stderr",
     "output_type": "stream",
     "text": [
      "ERROR: [youtube] guiHIZjNC78: Video unavailable\n"
     ]
    },
    {
     "name": "stdout",
     "output_type": "stream",
     "text": [
      "Speaker: id06004, Video: 8Sx2j8G7dvw, Txt file: 00024\n"
     ]
    },
    {
     "name": "stderr",
     "output_type": "stream",
     "text": [
      "ERROR: [youtube] 8Sx2j8G7dvw: Video unavailable. This video is no longer available because the YouTube account associated with this video has been terminated.\n"
     ]
    },
    {
     "name": "stdout",
     "output_type": "stream",
     "text": [
      "Speaker: id06004, Video: 8Sx2j8G7dvw, Txt file: 00018\n"
     ]
    },
    {
     "name": "stderr",
     "output_type": "stream",
     "text": [
      "ERROR: [youtube] 8Sx2j8G7dvw: Video unavailable. This video is no longer available because the YouTube account associated with this video has been terminated.\n"
     ]
    },
    {
     "name": "stdout",
     "output_type": "stream",
     "text": [
      "Speaker: id06004, Video: 8Sx2j8G7dvw, Txt file: 00021\n"
     ]
    },
    {
     "name": "stderr",
     "output_type": "stream",
     "text": [
      "ERROR: [youtube] 8Sx2j8G7dvw: Video unavailable. This video is no longer available because the YouTube account associated with this video has been terminated.\n"
     ]
    },
    {
     "name": "stdout",
     "output_type": "stream",
     "text": [
      "Speaker: id06004, Video: w20H0L555cE, Txt file: 00093\n"
     ]
    },
    {
     "name": "stderr",
     "output_type": "stream",
     "text": [
      "ERROR: [youtube] w20H0L555cE: Video unavailable. The uploader has not made this video available in your country\n"
     ]
    },
    {
     "name": "stdout",
     "output_type": "stream",
     "text": [
      "Speaker: id06004, Video: B6VSyuJO7sI, Txt file: 00041\n",
      "[youtube] Extracting URL: https://www.youtube.com/watch?v=B6VSyuJO7sI\n",
      "[youtube] B6VSyuJO7sI: Downloading webpage\n",
      "[youtube] B6VSyuJO7sI: Downloading tv client config\n",
      "[youtube] B6VSyuJO7sI: Downloading player 5ae7d525\n",
      "[youtube] B6VSyuJO7sI: Downloading tv player API JSON\n",
      "[youtube] B6VSyuJO7sI: Downloading ios player API JSON\n",
      "[youtube] B6VSyuJO7sI: Downloading m3u8 information\n",
      "[info] B6VSyuJO7sI: Downloading 1 format(s): 251\n",
      "[download] Destination: id06004_0_B6VSyuJO7sI_00041\n",
      "[download] 100% of    6.02MiB in 00:00:00 at 12.09MiB/s    \n",
      "[ExtractAudio] Destination: id06004_0_B6VSyuJO7sI_00041.mp3\n",
      "Deleting original file id06004_0_B6VSyuJO7sI_00041 (pass -k to keep)\n",
      "Audio downloaded as id06004_0_B6VSyuJO7sI_00041\n",
      "Trimmed audio saved as ../data/download_df_audio/id06004_0_B6VSyuJO7sI_00041_cut.mp3\n",
      "Speaker: id06004, Video: w20H0L555cE, Txt file: 00088\n"
     ]
    },
    {
     "name": "stderr",
     "output_type": "stream",
     "text": [
      "ERROR: [youtube] w20H0L555cE: Video unavailable. The uploader has not made this video available in your country\n"
     ]
    },
    {
     "name": "stdout",
     "output_type": "stream",
     "text": [
      "Speaker: id06004, Video: 8Sx2j8G7dvw, Txt file: 00029\n"
     ]
    },
    {
     "name": "stderr",
     "output_type": "stream",
     "text": [
      "ERROR: [youtube] 8Sx2j8G7dvw: Video unavailable. This video is no longer available because the YouTube account associated with this video has been terminated.\n"
     ]
    },
    {
     "name": "stdout",
     "output_type": "stream",
     "text": [
      "Speaker: id06004, Video: 8Sx2j8G7dvw, Txt file: 00019\n"
     ]
    },
    {
     "name": "stderr",
     "output_type": "stream",
     "text": [
      "ERROR: [youtube] 8Sx2j8G7dvw: Video unavailable. This video is no longer available because the YouTube account associated with this video has been terminated.\n"
     ]
    },
    {
     "name": "stdout",
     "output_type": "stream",
     "text": [
      "Speaker: id06004, Video: 8EqCFsOQffY, Txt file: 00013\n"
     ]
    },
    {
     "name": "stderr",
     "output_type": "stream",
     "text": [
      "ERROR: [youtube] 8EqCFsOQffY: Video unavailable\n"
     ]
    },
    {
     "name": "stdout",
     "output_type": "stream",
     "text": [
      "Speaker: id06004, Video: 8Sx2j8G7dvw, Txt file: 00028\n"
     ]
    },
    {
     "name": "stderr",
     "output_type": "stream",
     "text": [
      "ERROR: [youtube] 8Sx2j8G7dvw: Video unavailable. This video is no longer available because the YouTube account associated with this video has been terminated.\n"
     ]
    },
    {
     "name": "stdout",
     "output_type": "stream",
     "text": [
      "Speaker: id06004, Video: E8cIOCeWDwo, Txt file: 00046\n"
     ]
    },
    {
     "name": "stderr",
     "output_type": "stream",
     "text": [
      "ERROR: [youtube] E8cIOCeWDwo: Video unavailable. This video contains content from Nine Entertainment Co, who has blocked it on copyright grounds\n"
     ]
    },
    {
     "name": "stdout",
     "output_type": "stream",
     "text": [
      "Speaker: id06004, Video: rNkXLTw_yPw, Txt file: 00084\n"
     ]
    },
    {
     "name": "stderr",
     "output_type": "stream",
     "text": [
      "ERROR: [youtube] rNkXLTw_yPw: Private video. Sign in if you've been granted access to this video. Use --cookies-from-browser or --cookies for the authentication. See  https://github.com/yt-dlp/yt-dlp/wiki/FAQ#how-do-i-pass-cookies-to-yt-dlp  for how to manually pass cookies. Also see  https://github.com/yt-dlp/yt-dlp/wiki/Extractors#exporting-youtube-cookies  for tips on effectively exporting YouTube cookies\n"
     ]
    },
    {
     "name": "stdout",
     "output_type": "stream",
     "text": [
      "Speaker: id06004, Video: w20H0L555cE, Txt file: 00089\n"
     ]
    },
    {
     "name": "stderr",
     "output_type": "stream",
     "text": [
      "ERROR: [youtube] w20H0L555cE: Video unavailable. The uploader has not made this video available in your country\n"
     ]
    },
    {
     "name": "stdout",
     "output_type": "stream",
     "text": [
      "Speaker: id06004, Video: 8Sx2j8G7dvw, Txt file: 00026\n"
     ]
    },
    {
     "name": "stderr",
     "output_type": "stream",
     "text": [
      "ERROR: [youtube] 8Sx2j8G7dvw: Video unavailable. This video is no longer available because the YouTube account associated with this video has been terminated.\n"
     ]
    },
    {
     "name": "stdout",
     "output_type": "stream",
     "text": [
      "Speaker: id06004, Video: 8pTCzK-dTHQ, Txt file: 00032\n"
     ]
    },
    {
     "name": "stderr",
     "output_type": "stream",
     "text": [
      "ERROR: [youtube] 8pTCzK-dTHQ: Video unavailable. This video contains content from Oprah_Winfrey_Network, who has blocked it on copyright grounds\n"
     ]
    },
    {
     "name": "stdout",
     "output_type": "stream",
     "text": [
      "Speaker: id06004, Video: FZN8DZsHrLc, Txt file: 00051\n",
      "[youtube] Extracting URL: https://www.youtube.com/watch?v=FZN8DZsHrLc\n",
      "[youtube] FZN8DZsHrLc: Downloading webpage\n",
      "[youtube] FZN8DZsHrLc: Downloading tv client config\n",
      "[youtube] FZN8DZsHrLc: Downloading player 5ae7d525\n",
      "[youtube] FZN8DZsHrLc: Downloading tv player API JSON\n",
      "[youtube] FZN8DZsHrLc: Downloading ios player API JSON\n",
      "[youtube] FZN8DZsHrLc: Downloading m3u8 information\n",
      "[info] FZN8DZsHrLc: Downloading 1 format(s): 251\n",
      "[download] Destination: id06004_1_FZN8DZsHrLc_00051\n",
      "[download] 100% of   23.56MiB in 00:00:08 at 2.76MiB/s     \n",
      "[ExtractAudio] Destination: id06004_1_FZN8DZsHrLc_00051.mp3\n",
      "Deleting original file id06004_1_FZN8DZsHrLc_00051 (pass -k to keep)\n",
      "Audio downloaded as id06004_1_FZN8DZsHrLc_00051\n",
      "Trimmed audio saved as ../data/download_df_audio/id06004_1_FZN8DZsHrLc_00051_cut.mp3\n",
      "Speaker: id06005, Video: 6oPF2nA1H1o, Txt file: 00115\n",
      "[youtube] Extracting URL: https://www.youtube.com/watch?v=6oPF2nA1H1o\n",
      "[youtube] 6oPF2nA1H1o: Downloading webpage\n",
      "[youtube] 6oPF2nA1H1o: Downloading tv client config\n",
      "[youtube] 6oPF2nA1H1o: Downloading player 5ae7d525\n",
      "[youtube] 6oPF2nA1H1o: Downloading tv player API JSON\n",
      "[youtube] 6oPF2nA1H1o: Downloading ios player API JSON\n",
      "[youtube] 6oPF2nA1H1o: Downloading m3u8 information\n",
      "[info] 6oPF2nA1H1o: Downloading 1 format(s): 251\n",
      "[download] Destination: id06005_0_6oPF2nA1H1o_00115\n",
      "[download] 100% of    1.80MiB in 00:00:00 at 2.59MiB/s   \n",
      "[ExtractAudio] Destination: id06005_0_6oPF2nA1H1o_00115.mp3\n",
      "Deleting original file id06005_0_6oPF2nA1H1o_00115 (pass -k to keep)\n",
      "Audio downloaded as id06005_0_6oPF2nA1H1o_00115\n",
      "Trimmed audio saved as ../data/download_df_audio/id06005_0_6oPF2nA1H1o_00115_cut.mp3\n",
      "Speaker: id06005, Video: C1uZHdxrVMo, Txt file: 00153\n",
      "[youtube] Extracting URL: https://www.youtube.com/watch?v=C1uZHdxrVMo\n",
      "[youtube] C1uZHdxrVMo: Downloading webpage\n",
      "[youtube] C1uZHdxrVMo: Downloading tv client config\n",
      "[youtube] C1uZHdxrVMo: Downloading player 5ae7d525\n",
      "[youtube] C1uZHdxrVMo: Downloading tv player API JSON\n",
      "[youtube] C1uZHdxrVMo: Downloading ios player API JSON\n",
      "[youtube] C1uZHdxrVMo: Downloading m3u8 information\n",
      "[info] C1uZHdxrVMo: Downloading 1 format(s): 251\n",
      "[download] Destination: id06005_1_C1uZHdxrVMo_00153\n",
      "[download] 100% of    2.63MiB in 00:00:00 at 3.12MiB/s   \n",
      "[ExtractAudio] Destination: id06005_1_C1uZHdxrVMo_00153.mp3\n",
      "Deleting original file id06005_1_C1uZHdxrVMo_00153 (pass -k to keep)\n",
      "Audio downloaded as id06005_1_C1uZHdxrVMo_00153\n",
      "Trimmed audio saved as ../data/download_df_audio/id06005_1_C1uZHdxrVMo_00153_cut.mp3\n",
      "Speaker: id06014, Video: GBgx5Qrgapk, Txt file: 00070\n",
      "[youtube] Extracting URL: https://www.youtube.com/watch?v=GBgx5Qrgapk\n",
      "[youtube] GBgx5Qrgapk: Downloading webpage\n",
      "[youtube] GBgx5Qrgapk: Downloading tv client config\n",
      "[youtube] GBgx5Qrgapk: Downloading player 5ae7d525\n",
      "[youtube] GBgx5Qrgapk: Downloading tv player API JSON\n",
      "[youtube] GBgx5Qrgapk: Downloading ios player API JSON\n",
      "[youtube] GBgx5Qrgapk: Downloading m3u8 information\n",
      "[info] GBgx5Qrgapk: Downloading 1 format(s): 251\n",
      "[download] Destination: id06014_0_GBgx5Qrgapk_00070\n",
      "[download] 100% of    3.58MiB in 00:00:01 at 2.98MiB/s   \n",
      "[ExtractAudio] Destination: id06014_0_GBgx5Qrgapk_00070.mp3\n",
      "Deleting original file id06014_0_GBgx5Qrgapk_00070 (pass -k to keep)\n",
      "Audio downloaded as id06014_0_GBgx5Qrgapk_00070\n",
      "Trimmed audio saved as ../data/download_df_audio/id06014_0_GBgx5Qrgapk_00070_cut.mp3\n",
      "Speaker: id06014, Video: La1kTYa903M, Txt file: 00095\n",
      "[youtube] Extracting URL: https://www.youtube.com/watch?v=La1kTYa903M\n",
      "[youtube] La1kTYa903M: Downloading webpage\n",
      "[youtube] La1kTYa903M: Downloading tv client config\n",
      "[youtube] La1kTYa903M: Downloading player 5ae7d525\n",
      "[youtube] La1kTYa903M: Downloading tv player API JSON\n",
      "[youtube] La1kTYa903M: Downloading ios player API JSON\n",
      "[youtube] La1kTYa903M: Downloading m3u8 information\n",
      "[info] La1kTYa903M: Downloading 1 format(s): 251\n",
      "[download] Destination: id06014_1_La1kTYa903M_00095\n",
      "[download] 100% of   26.43MiB in 00:00:12 at 2.07MiB/s     \n",
      "[ExtractAudio] Destination: id06014_1_La1kTYa903M_00095.mp3\n",
      "Deleting original file id06014_1_La1kTYa903M_00095 (pass -k to keep)\n",
      "Audio downloaded as id06014_1_La1kTYa903M_00095\n",
      "Trimmed audio saved as ../data/download_df_audio/id06014_1_La1kTYa903M_00095_cut.mp3\n",
      "Speaker: id06016, Video: fNiGRFQaiv0, Txt file: 00326\n",
      "[youtube] Extracting URL: https://www.youtube.com/watch?v=fNiGRFQaiv0\n",
      "[youtube] fNiGRFQaiv0: Downloading webpage\n",
      "[youtube] fNiGRFQaiv0: Downloading tv client config\n",
      "[youtube] fNiGRFQaiv0: Downloading player 5ae7d525\n",
      "[youtube] fNiGRFQaiv0: Downloading tv player API JSON\n",
      "[youtube] fNiGRFQaiv0: Downloading ios player API JSON\n",
      "[youtube] fNiGRFQaiv0: Downloading m3u8 information\n",
      "[info] fNiGRFQaiv0: Downloading 1 format(s): 140\n",
      "[download] Destination: id06016_0_fNiGRFQaiv0_00326\n",
      "[download] 100% of    7.14MiB in 00:00:02 at 2.45MiB/s   \n",
      "[FixupM4a] Correcting container of \"id06016_0_fNiGRFQaiv0_00326\"\n",
      "[ExtractAudio] Destination: id06016_0_fNiGRFQaiv0_00326.mp3\n",
      "Deleting original file id06016_0_fNiGRFQaiv0_00326 (pass -k to keep)\n",
      "Audio downloaded as id06016_0_fNiGRFQaiv0_00326\n",
      "Trimmed audio saved as ../data/download_df_audio/id06016_0_fNiGRFQaiv0_00326_cut.mp3\n",
      "Speaker: id06016, Video: iErwQ9Y0q-Y, Txt file: 00348\n",
      "[youtube] Extracting URL: https://www.youtube.com/watch?v=iErwQ9Y0q-Y\n",
      "[youtube] iErwQ9Y0q-Y: Downloading webpage\n",
      "[youtube] iErwQ9Y0q-Y: Downloading tv client config\n",
      "[youtube] iErwQ9Y0q-Y: Downloading player 5ae7d525\n",
      "[youtube] iErwQ9Y0q-Y: Downloading tv player API JSON\n",
      "[youtube] iErwQ9Y0q-Y: Downloading ios player API JSON\n",
      "[youtube] iErwQ9Y0q-Y: Downloading m3u8 information\n",
      "[info] iErwQ9Y0q-Y: Downloading 1 format(s): 251\n",
      "[download] Destination: id06016_1_iErwQ9Y0q-Y_00348\n",
      "[download] 100% of    2.85MiB in 00:00:00 at 7.13MiB/s   \n",
      "[ExtractAudio] Destination: id06016_1_iErwQ9Y0q-Y_00348.mp3\n",
      "Deleting original file id06016_1_iErwQ9Y0q-Y_00348 (pass -k to keep)\n",
      "Audio downloaded as id06016_1_iErwQ9Y0q-Y_00348\n",
      "Trimmed audio saved as ../data/download_df_audio/id06016_1_iErwQ9Y0q-Y_00348_cut.mp3\n",
      "Speaker: id06017, Video: XMYBv-SQmmc, Txt file: 00253\n",
      "[youtube] Extracting URL: https://www.youtube.com/watch?v=XMYBv-SQmmc\n",
      "[youtube] XMYBv-SQmmc: Downloading webpage\n",
      "[youtube] XMYBv-SQmmc: Downloading tv client config\n",
      "[youtube] XMYBv-SQmmc: Downloading player 5ae7d525\n",
      "[youtube] XMYBv-SQmmc: Downloading tv player API JSON\n",
      "[youtube] XMYBv-SQmmc: Downloading ios player API JSON\n",
      "[youtube] XMYBv-SQmmc: Downloading m3u8 information\n",
      "[info] XMYBv-SQmmc: Downloading 1 format(s): 251\n",
      "[download] Destination: id06017_0_XMYBv-SQmmc_00253\n",
      "[download] 100% of    4.64MiB in 00:00:00 at 7.88MiB/s   \n",
      "[ExtractAudio] Destination: id06017_0_XMYBv-SQmmc_00253.mp3\n",
      "Deleting original file id06017_0_XMYBv-SQmmc_00253 (pass -k to keep)\n",
      "Audio downloaded as id06017_0_XMYBv-SQmmc_00253\n",
      "Trimmed audio saved as ../data/download_df_audio/id06017_0_XMYBv-SQmmc_00253_cut.mp3\n",
      "Speaker: id06017, Video: uGBhDwRcovg, Txt file: 00451\n",
      "[youtube] Extracting URL: https://www.youtube.com/watch?v=uGBhDwRcovg\n",
      "[youtube] uGBhDwRcovg: Downloading webpage\n",
      "[youtube] uGBhDwRcovg: Downloading tv client config\n",
      "[youtube] uGBhDwRcovg: Downloading player 5ae7d525\n",
      "[youtube] uGBhDwRcovg: Downloading tv player API JSON\n",
      "[youtube] uGBhDwRcovg: Downloading ios player API JSON\n",
      "[youtube] uGBhDwRcovg: Downloading MPD manifest\n",
      "[youtube] uGBhDwRcovg: Downloading m3u8 information\n",
      "[youtube] uGBhDwRcovg: Downloading MPD manifest\n",
      "[info] uGBhDwRcovg: Downloading 1 format(s): 140\n",
      "[download] Destination: id06017_1_uGBhDwRcovg_00451\n",
      "[download] 100% of    3.94MiB in 00:00:00 at 3.96MiB/s   \n",
      "[FixupM4a] Correcting container of \"id06017_1_uGBhDwRcovg_00451\"\n",
      "[ExtractAudio] Destination: id06017_1_uGBhDwRcovg_00451.mp3\n",
      "Deleting original file id06017_1_uGBhDwRcovg_00451 (pass -k to keep)\n",
      "Audio downloaded as id06017_1_uGBhDwRcovg_00451\n",
      "Trimmed audio saved as ../data/download_df_audio/id06017_1_uGBhDwRcovg_00451_cut.mp3\n",
      "Speaker: id06114, Video: qHRJNbfs8ro, Txt file: 00435\n",
      "[youtube] Extracting URL: https://www.youtube.com/watch?v=qHRJNbfs8ro\n",
      "[youtube] qHRJNbfs8ro: Downloading webpage\n",
      "[youtube] qHRJNbfs8ro: Downloading tv client config\n",
      "[youtube] qHRJNbfs8ro: Downloading player 5ae7d525\n",
      "[youtube] qHRJNbfs8ro: Downloading tv player API JSON\n",
      "[youtube] qHRJNbfs8ro: Downloading ios player API JSON\n",
      "[youtube] qHRJNbfs8ro: Downloading m3u8 information\n",
      "[info] qHRJNbfs8ro: Downloading 1 format(s): 251\n",
      "[download] Destination: id06114_0_qHRJNbfs8ro_00435\n",
      "[download] 100% of    6.52MiB in 00:00:01 at 4.51MiB/s     \n",
      "[ExtractAudio] Destination: id06114_0_qHRJNbfs8ro_00435.mp3\n",
      "Deleting original file id06114_0_qHRJNbfs8ro_00435 (pass -k to keep)\n",
      "Audio downloaded as id06114_0_qHRJNbfs8ro_00435\n",
      "Trimmed audio saved as ../data/download_df_audio/id06114_0_qHRJNbfs8ro_00435_cut.mp3\n",
      "Speaker: id06114, Video: kOXUAUjCUe8, Txt file: 00381\n",
      "[youtube] Extracting URL: https://www.youtube.com/watch?v=kOXUAUjCUe8\n",
      "[youtube] kOXUAUjCUe8: Downloading webpage\n",
      "[youtube] kOXUAUjCUe8: Downloading tv client config\n",
      "[youtube] kOXUAUjCUe8: Downloading player 5ae7d525\n",
      "[youtube] kOXUAUjCUe8: Downloading tv player API JSON\n",
      "[youtube] kOXUAUjCUe8: Downloading ios player API JSON\n",
      "[youtube] kOXUAUjCUe8: Downloading m3u8 information\n",
      "[info] kOXUAUjCUe8: Downloading 1 format(s): 251\n",
      "[download] Destination: id06114_1_kOXUAUjCUe8_00381\n",
      "[download] 100% of   10.54MiB in 00:00:01 at 5.85MiB/s     \n",
      "[ExtractAudio] Destination: id06114_1_kOXUAUjCUe8_00381.mp3\n",
      "Deleting original file id06114_1_kOXUAUjCUe8_00381 (pass -k to keep)\n",
      "Audio downloaded as id06114_1_kOXUAUjCUe8_00381\n",
      "Trimmed audio saved as ../data/download_df_audio/id06114_1_kOXUAUjCUe8_00381_cut.mp3\n",
      "Speaker: id06121, Video: FdbEO8XuGAQ, Txt file: 00176\n"
     ]
    },
    {
     "name": "stderr",
     "output_type": "stream",
     "text": [
      "ERROR: [youtube] FdbEO8XuGAQ: Private video. Sign in if you've been granted access to this video. Use --cookies-from-browser or --cookies for the authentication. See  https://github.com/yt-dlp/yt-dlp/wiki/FAQ#how-do-i-pass-cookies-to-yt-dlp  for how to manually pass cookies. Also see  https://github.com/yt-dlp/yt-dlp/wiki/Extractors#exporting-youtube-cookies  for tips on effectively exporting YouTube cookies\n"
     ]
    },
    {
     "name": "stdout",
     "output_type": "stream",
     "text": [
      "Speaker: id06121, Video: 9VOlebe2ixE, Txt file: 00065\n",
      "[youtube] Extracting URL: https://www.youtube.com/watch?v=9VOlebe2ixE\n",
      "[youtube] 9VOlebe2ixE: Downloading webpage\n",
      "[youtube] 9VOlebe2ixE: Downloading tv client config\n",
      "[youtube] 9VOlebe2ixE: Downloading player 5ae7d525\n",
      "[youtube] 9VOlebe2ixE: Downloading tv player API JSON\n",
      "[youtube] 9VOlebe2ixE: Downloading ios player API JSON\n",
      "[youtube] 9VOlebe2ixE: Downloading m3u8 information\n",
      "[info] 9VOlebe2ixE: Downloading 1 format(s): 251\n",
      "[download] Destination: id06121_0_9VOlebe2ixE_00065\n",
      "[download] 100% of    5.39MiB in 00:00:01 at 4.91MiB/s   \n",
      "[ExtractAudio] Destination: id06121_0_9VOlebe2ixE_00065.mp3\n",
      "Deleting original file id06121_0_9VOlebe2ixE_00065 (pass -k to keep)\n",
      "Audio downloaded as id06121_0_9VOlebe2ixE_00065\n",
      "Trimmed audio saved as ../data/download_df_audio/id06121_0_9VOlebe2ixE_00065_cut.mp3\n",
      "Speaker: id06121, Video: jWVE4aZMcoQ, Txt file: 00404\n",
      "[youtube] Extracting URL: https://www.youtube.com/watch?v=jWVE4aZMcoQ\n",
      "[youtube] jWVE4aZMcoQ: Downloading webpage\n",
      "[youtube] jWVE4aZMcoQ: Downloading tv client config\n",
      "[youtube] jWVE4aZMcoQ: Downloading player 5ae7d525\n",
      "[youtube] jWVE4aZMcoQ: Downloading tv player API JSON\n",
      "[youtube] jWVE4aZMcoQ: Downloading ios player API JSON\n",
      "[youtube] jWVE4aZMcoQ: Downloading m3u8 information\n",
      "[info] jWVE4aZMcoQ: Downloading 1 format(s): 140\n",
      "[download] Destination: id06121_1_jWVE4aZMcoQ_00404\n",
      "[download] 100% of   17.98MiB in 00:00:03 at 5.27MiB/s     \n",
      "[FixupM4a] Correcting container of \"id06121_1_jWVE4aZMcoQ_00404\"\n",
      "[ExtractAudio] Destination: id06121_1_jWVE4aZMcoQ_00404.mp3\n",
      "Deleting original file id06121_1_jWVE4aZMcoQ_00404 (pass -k to keep)\n",
      "Audio downloaded as id06121_1_jWVE4aZMcoQ_00404\n",
      "Trimmed audio saved as ../data/download_df_audio/id06121_1_jWVE4aZMcoQ_00404_cut.mp3\n",
      "Speaker: id06122, Video: 0Jbh1SQSTMk, Txt file: 00015\n",
      "[youtube] Extracting URL: https://www.youtube.com/watch?v=0Jbh1SQSTMk\n",
      "[youtube] 0Jbh1SQSTMk: Downloading webpage\n",
      "[youtube] 0Jbh1SQSTMk: Downloading tv client config\n",
      "[youtube] 0Jbh1SQSTMk: Downloading player 5ae7d525\n",
      "[youtube] 0Jbh1SQSTMk: Downloading tv player API JSON\n",
      "[youtube] 0Jbh1SQSTMk: Downloading ios player API JSON\n",
      "[youtube] 0Jbh1SQSTMk: Downloading m3u8 information\n",
      "[info] 0Jbh1SQSTMk: Downloading 1 format(s): 251\n",
      "[download] Destination: id06122_0_0Jbh1SQSTMk_00015\n",
      "[download] 100% of    2.54MiB in 00:00:00 at 4.57MiB/s   \n",
      "[ExtractAudio] Destination: id06122_0_0Jbh1SQSTMk_00015.mp3\n",
      "Deleting original file id06122_0_0Jbh1SQSTMk_00015 (pass -k to keep)\n",
      "Audio downloaded as id06122_0_0Jbh1SQSTMk_00015\n",
      "Trimmed audio saved as ../data/download_df_audio/id06122_0_0Jbh1SQSTMk_00015_cut.mp3\n",
      "Speaker: id06122, Video: 4FM98xrDRig, Txt file: 00022\n",
      "[youtube] Extracting URL: https://www.youtube.com/watch?v=4FM98xrDRig\n",
      "[youtube] 4FM98xrDRig: Downloading webpage\n",
      "[youtube] 4FM98xrDRig: Downloading tv client config\n",
      "[youtube] 4FM98xrDRig: Downloading player 5ae7d525\n",
      "[youtube] 4FM98xrDRig: Downloading tv player API JSON\n",
      "[youtube] 4FM98xrDRig: Downloading ios player API JSON\n",
      "[youtube] 4FM98xrDRig: Downloading m3u8 information\n",
      "[info] 4FM98xrDRig: Downloading 1 format(s): 140\n",
      "[download] Destination: id06122_1_4FM98xrDRig_00022\n",
      "[download] 100% of    1.47MiB in 00:00:00 at 2.16MiB/s   \n",
      "[FixupM4a] Correcting container of \"id06122_1_4FM98xrDRig_00022\"\n",
      "[ExtractAudio] Destination: id06122_1_4FM98xrDRig_00022.mp3\n",
      "Deleting original file id06122_1_4FM98xrDRig_00022 (pass -k to keep)\n",
      "Audio downloaded as id06122_1_4FM98xrDRig_00022\n",
      "Trimmed audio saved as ../data/download_df_audio/id06122_1_4FM98xrDRig_00022_cut.mp3\n",
      "Speaker: id06196, Video: Xf6njjJ86lQ, Txt file: 00343\n",
      "[youtube] Extracting URL: https://www.youtube.com/watch?v=Xf6njjJ86lQ\n",
      "[youtube] Xf6njjJ86lQ: Downloading webpage\n",
      "[youtube] Xf6njjJ86lQ: Downloading tv client config\n",
      "[youtube] Xf6njjJ86lQ: Downloading player 5ae7d525\n",
      "[youtube] Xf6njjJ86lQ: Downloading tv player API JSON\n",
      "[youtube] Xf6njjJ86lQ: Downloading ios player API JSON\n",
      "[youtube] Xf6njjJ86lQ: Downloading m3u8 information\n",
      "[info] Xf6njjJ86lQ: Downloading 1 format(s): 251\n",
      "[download] Destination: id06196_0_Xf6njjJ86lQ_00343\n",
      "[download] 100% of   10.01MiB in 00:00:02 at 3.79MiB/s     \n",
      "[ExtractAudio] Destination: id06196_0_Xf6njjJ86lQ_00343.mp3\n",
      "Deleting original file id06196_0_Xf6njjJ86lQ_00343 (pass -k to keep)\n",
      "Audio downloaded as id06196_0_Xf6njjJ86lQ_00343\n",
      "Trimmed audio saved as ../data/download_df_audio/id06196_0_Xf6njjJ86lQ_00343_cut.mp3\n",
      "Speaker: id06196, Video: CLHUqEnu1-c, Txt file: 00155\n",
      "[youtube] Extracting URL: https://www.youtube.com/watch?v=CLHUqEnu1-c\n",
      "[youtube] CLHUqEnu1-c: Downloading webpage\n",
      "[youtube] CLHUqEnu1-c: Downloading tv client config\n",
      "[youtube] CLHUqEnu1-c: Downloading player 5ae7d525\n",
      "[youtube] CLHUqEnu1-c: Downloading tv player API JSON\n",
      "[youtube] CLHUqEnu1-c: Downloading ios player API JSON\n",
      "[youtube] CLHUqEnu1-c: Downloading m3u8 information\n",
      "[info] CLHUqEnu1-c: Downloading 1 format(s): 251\n",
      "[download] Destination: id06196_1_CLHUqEnu1-c_00155\n",
      "[download] 100% of    3.31MiB in 00:00:00 at 5.27MiB/s   \n",
      "[ExtractAudio] Destination: id06196_1_CLHUqEnu1-c_00155.mp3\n",
      "Deleting original file id06196_1_CLHUqEnu1-c_00155 (pass -k to keep)\n",
      "Audio downloaded as id06196_1_CLHUqEnu1-c_00155\n",
      "Trimmed audio saved as ../data/download_df_audio/id06196_1_CLHUqEnu1-c_00155_cut.mp3\n",
      "Speaker: id06235, Video: Gu0mypIa-rk, Txt file: 00128\n",
      "[youtube] Extracting URL: https://www.youtube.com/watch?v=Gu0mypIa-rk\n",
      "[youtube] Gu0mypIa-rk: Downloading webpage\n",
      "[youtube] Gu0mypIa-rk: Downloading tv client config\n",
      "[youtube] Gu0mypIa-rk: Downloading player 5ae7d525\n",
      "[youtube] Gu0mypIa-rk: Downloading tv player API JSON\n",
      "[youtube] Gu0mypIa-rk: Downloading ios player API JSON\n",
      "[youtube] Gu0mypIa-rk: Downloading m3u8 information\n",
      "[info] Gu0mypIa-rk: Downloading 1 format(s): 251\n",
      "[download] Destination: id06235_0_Gu0mypIa-rk_00128\n",
      "[download] 100% of   31.25MiB in 00:00:02 at 10.89MiB/s    \n",
      "[ExtractAudio] Destination: id06235_0_Gu0mypIa-rk_00128.mp3\n",
      "Deleting original file id06235_0_Gu0mypIa-rk_00128 (pass -k to keep)\n",
      "Audio downloaded as id06235_0_Gu0mypIa-rk_00128\n",
      "Trimmed audio saved as ../data/download_df_audio/id06235_0_Gu0mypIa-rk_00128_cut.mp3\n",
      "Speaker: id06235, Video: GeCiHrbd-dI, Txt file: 00024\n",
      "[youtube] Extracting URL: https://www.youtube.com/watch?v=GeCiHrbd-dI\n",
      "[youtube] GeCiHrbd-dI: Downloading webpage\n",
      "[youtube] GeCiHrbd-dI: Downloading tv client config\n",
      "[youtube] GeCiHrbd-dI: Downloading player 5ae7d525\n",
      "[youtube] GeCiHrbd-dI: Downloading tv player API JSON\n",
      "[youtube] GeCiHrbd-dI: Downloading ios player API JSON\n",
      "[youtube] GeCiHrbd-dI: Downloading m3u8 information\n",
      "[info] GeCiHrbd-dI: Downloading 1 format(s): 140\n",
      "[download] Destination: id06235_1_GeCiHrbd-dI_00024\n",
      "[download] 100% of    9.42MiB in 00:00:02 at 4.02MiB/s   \n",
      "[FixupM4a] Correcting container of \"id06235_1_GeCiHrbd-dI_00024\"\n",
      "[ExtractAudio] Destination: id06235_1_GeCiHrbd-dI_00024.mp3\n",
      "Deleting original file id06235_1_GeCiHrbd-dI_00024 (pass -k to keep)\n",
      "Audio downloaded as id06235_1_GeCiHrbd-dI_00024\n",
      "Trimmed audio saved as ../data/download_df_audio/id06235_1_GeCiHrbd-dI_00024_cut.mp3\n",
      "Speaker: id06262, Video: MFrowTLjNts, Txt file: 00208\n",
      "[youtube] Extracting URL: https://www.youtube.com/watch?v=MFrowTLjNts\n",
      "[youtube] MFrowTLjNts: Downloading webpage\n",
      "[youtube] MFrowTLjNts: Downloading tv client config\n",
      "[youtube] MFrowTLjNts: Downloading player 5ae7d525\n",
      "[youtube] MFrowTLjNts: Downloading tv player API JSON\n",
      "[youtube] MFrowTLjNts: Downloading ios player API JSON\n",
      "[youtube] MFrowTLjNts: Downloading m3u8 information\n",
      "[info] MFrowTLjNts: Downloading 1 format(s): 251\n",
      "[download] Destination: id06262_0_MFrowTLjNts_00208\n",
      "[download] 100% of   32.11MiB in 00:00:05 at 6.32MiB/s     \n",
      "[ExtractAudio] Destination: id06262_0_MFrowTLjNts_00208.mp3\n",
      "Deleting original file id06262_0_MFrowTLjNts_00208 (pass -k to keep)\n",
      "Audio downloaded as id06262_0_MFrowTLjNts_00208\n",
      "Trimmed audio saved as ../data/download_df_audio/id06262_0_MFrowTLjNts_00208_cut.mp3\n",
      "Speaker: id06262, Video: XaoRwwB8yUU, Txt file: 00315\n",
      "[youtube] Extracting URL: https://www.youtube.com/watch?v=XaoRwwB8yUU\n",
      "[youtube] XaoRwwB8yUU: Downloading webpage\n",
      "[youtube] XaoRwwB8yUU: Downloading tv client config\n",
      "[youtube] XaoRwwB8yUU: Downloading player 5ae7d525\n",
      "[youtube] XaoRwwB8yUU: Downloading tv player API JSON\n",
      "[youtube] XaoRwwB8yUU: Downloading ios player API JSON\n",
      "[youtube] XaoRwwB8yUU: Downloading m3u8 information\n",
      "[info] XaoRwwB8yUU: Downloading 1 format(s): 251\n",
      "[download] Destination: id06262_1_XaoRwwB8yUU_00315\n",
      "[download] 100% of    2.80MiB in 00:00:00 at 3.01MiB/s   \n",
      "[ExtractAudio] Destination: id06262_1_XaoRwwB8yUU_00315.mp3\n",
      "Deleting original file id06262_1_XaoRwwB8yUU_00315 (pass -k to keep)\n",
      "Audio downloaded as id06262_1_XaoRwwB8yUU_00315\n",
      "Trimmed audio saved as ../data/download_df_audio/id06262_1_XaoRwwB8yUU_00315_cut.mp3\n",
      "Speaker: id06311, Video: BgYj-0Hb9Ow, Txt file: 00042\n",
      "[youtube] Extracting URL: https://www.youtube.com/watch?v=BgYj-0Hb9Ow\n",
      "[youtube] BgYj-0Hb9Ow: Downloading webpage\n",
      "[youtube] BgYj-0Hb9Ow: Downloading tv client config\n",
      "[youtube] BgYj-0Hb9Ow: Downloading player 5ae7d525\n",
      "[youtube] BgYj-0Hb9Ow: Downloading tv player API JSON\n",
      "[youtube] BgYj-0Hb9Ow: Downloading ios player API JSON\n",
      "[youtube] BgYj-0Hb9Ow: Downloading m3u8 information\n",
      "[info] BgYj-0Hb9Ow: Downloading 1 format(s): 251\n",
      "[download] Destination: id06311_0_BgYj-0Hb9Ow_00042\n",
      "[download] 100% of    7.79MiB in 00:00:02 at 3.77MiB/s   \n",
      "[ExtractAudio] Destination: id06311_0_BgYj-0Hb9Ow_00042.mp3\n",
      "Deleting original file id06311_0_BgYj-0Hb9Ow_00042 (pass -k to keep)\n",
      "Audio downloaded as id06311_0_BgYj-0Hb9Ow_00042\n",
      "Trimmed audio saved as ../data/download_df_audio/id06311_0_BgYj-0Hb9Ow_00042_cut.mp3\n",
      "Speaker: id06311, Video: AGaT6D65MRI, Txt file: 00033\n",
      "[youtube] Extracting URL: https://www.youtube.com/watch?v=AGaT6D65MRI\n",
      "[youtube] AGaT6D65MRI: Downloading webpage\n",
      "[youtube] AGaT6D65MRI: Downloading tv client config\n",
      "[youtube] AGaT6D65MRI: Downloading player 5ae7d525\n",
      "[youtube] AGaT6D65MRI: Downloading tv player API JSON\n",
      "[youtube] AGaT6D65MRI: Downloading ios player API JSON\n",
      "[youtube] AGaT6D65MRI: Downloading m3u8 information\n",
      "[info] AGaT6D65MRI: Downloading 1 format(s): 251\n",
      "[download] Destination: id06311_1_AGaT6D65MRI_00033\n",
      "[download] 100% of    5.50MiB in 00:00:00 at 6.75MiB/s   \n",
      "[ExtractAudio] Destination: id06311_1_AGaT6D65MRI_00033.mp3\n",
      "Deleting original file id06311_1_AGaT6D65MRI_00033 (pass -k to keep)\n",
      "Audio downloaded as id06311_1_AGaT6D65MRI_00033\n",
      "Trimmed audio saved as ../data/download_df_audio/id06311_1_AGaT6D65MRI_00033_cut.mp3\n",
      "Speaker: id06351, Video: 30AHJNmaDxQ, Txt file: 00005\n",
      "[youtube] Extracting URL: https://www.youtube.com/watch?v=30AHJNmaDxQ\n",
      "[youtube] 30AHJNmaDxQ: Downloading webpage\n",
      "[youtube] 30AHJNmaDxQ: Downloading tv client config\n",
      "[youtube] 30AHJNmaDxQ: Downloading player 5ae7d525\n",
      "[youtube] 30AHJNmaDxQ: Downloading tv player API JSON\n",
      "[youtube] 30AHJNmaDxQ: Downloading ios player API JSON\n",
      "[youtube] 30AHJNmaDxQ: Downloading m3u8 information\n",
      "[info] 30AHJNmaDxQ: Downloading 1 format(s): 251\n",
      "[download] Destination: id06351_0_30AHJNmaDxQ_00005\n",
      "[download] 100% of    8.27MiB in 00:00:02 at 3.32MiB/s   \n",
      "[ExtractAudio] Destination: id06351_0_30AHJNmaDxQ_00005.mp3\n",
      "Deleting original file id06351_0_30AHJNmaDxQ_00005 (pass -k to keep)\n",
      "Audio downloaded as id06351_0_30AHJNmaDxQ_00005\n",
      "Trimmed audio saved as ../data/download_df_audio/id06351_0_30AHJNmaDxQ_00005_cut.mp3\n",
      "Speaker: id06351, Video: V9uvB5iowfM, Txt file: 00247\n",
      "[youtube] Extracting URL: https://www.youtube.com/watch?v=V9uvB5iowfM\n",
      "[youtube] V9uvB5iowfM: Downloading webpage\n",
      "[youtube] V9uvB5iowfM: Downloading tv client config\n",
      "[youtube] V9uvB5iowfM: Downloading player 5ae7d525\n",
      "[youtube] V9uvB5iowfM: Downloading tv player API JSON\n",
      "[youtube] V9uvB5iowfM: Downloading ios player API JSON\n",
      "[youtube] V9uvB5iowfM: Downloading m3u8 information\n",
      "[info] V9uvB5iowfM: Downloading 1 format(s): 140\n",
      "[download] Destination: id06351_1_V9uvB5iowfM_00247\n",
      "[download] 100% of    8.15MiB in 00:00:01 at 4.70MiB/s   \n",
      "[FixupM4a] Correcting container of \"id06351_1_V9uvB5iowfM_00247\"\n",
      "[ExtractAudio] Destination: id06351_1_V9uvB5iowfM_00247.mp3\n",
      "Deleting original file id06351_1_V9uvB5iowfM_00247 (pass -k to keep)\n",
      "Audio downloaded as id06351_1_V9uvB5iowfM_00247\n",
      "Trimmed audio saved as ../data/download_df_audio/id06351_1_V9uvB5iowfM_00247_cut.mp3\n",
      "Speaker: id06360, Video: 5wsxFcKnG5Y, Txt file: 00031\n",
      "[youtube] Extracting URL: https://www.youtube.com/watch?v=5wsxFcKnG5Y\n",
      "[youtube] 5wsxFcKnG5Y: Downloading webpage\n",
      "[youtube] 5wsxFcKnG5Y: Downloading tv client config\n",
      "[youtube] 5wsxFcKnG5Y: Downloading player 5ae7d525\n",
      "[youtube] 5wsxFcKnG5Y: Downloading tv player API JSON\n",
      "[youtube] 5wsxFcKnG5Y: Downloading ios player API JSON\n",
      "[youtube] 5wsxFcKnG5Y: Downloading m3u8 information\n",
      "[info] 5wsxFcKnG5Y: Downloading 1 format(s): 251\n",
      "[download] Destination: id06360_0_5wsxFcKnG5Y_00031\n",
      "[download] 100% of    3.56MiB in 00:00:00 at 8.76MiB/s   \n",
      "[ExtractAudio] Destination: id06360_0_5wsxFcKnG5Y_00031.mp3\n",
      "Deleting original file id06360_0_5wsxFcKnG5Y_00031 (pass -k to keep)\n",
      "Audio downloaded as id06360_0_5wsxFcKnG5Y_00031\n",
      "Trimmed audio saved as ../data/download_df_audio/id06360_0_5wsxFcKnG5Y_00031_cut.mp3\n",
      "Speaker: id06360, Video: EuLEB4z8GoQ, Txt file: 00097\n"
     ]
    },
    {
     "name": "stderr",
     "output_type": "stream",
     "text": [
      "ERROR: [youtube] EuLEB4z8GoQ: Video unavailable\n"
     ]
    },
    {
     "name": "stdout",
     "output_type": "stream",
     "text": [
      "Speaker: id06360, Video: CQ2CMc1sUhU, Txt file: 00076\n",
      "[youtube] Extracting URL: https://www.youtube.com/watch?v=CQ2CMc1sUhU\n",
      "[youtube] CQ2CMc1sUhU: Downloading webpage\n",
      "[youtube] CQ2CMc1sUhU: Downloading tv client config\n",
      "[youtube] CQ2CMc1sUhU: Downloading player 5ae7d525\n",
      "[youtube] CQ2CMc1sUhU: Downloading tv player API JSON\n",
      "[youtube] CQ2CMc1sUhU: Downloading ios player API JSON\n",
      "[youtube] CQ2CMc1sUhU: Downloading m3u8 information\n",
      "[info] CQ2CMc1sUhU: Downloading 1 format(s): 251\n",
      "[download] Destination: id06360_1_CQ2CMc1sUhU_00076\n",
      "[download] 100% of    1.76MiB in 00:00:00 at 2.97MiB/s   \n",
      "[ExtractAudio] Destination: id06360_1_CQ2CMc1sUhU_00076.mp3\n",
      "Deleting original file id06360_1_CQ2CMc1sUhU_00076 (pass -k to keep)\n",
      "Audio downloaded as id06360_1_CQ2CMc1sUhU_00076\n",
      "Trimmed audio saved as ../data/download_df_audio/id06360_1_CQ2CMc1sUhU_00076_cut.mp3\n",
      "Speaker: id06364, Video: PCpjQVG7vG8, Txt file: 00197\n"
     ]
    },
    {
     "name": "stderr",
     "output_type": "stream",
     "text": [
      "ERROR: [youtube] PCpjQVG7vG8: Video unavailable\n"
     ]
    },
    {
     "name": "stdout",
     "output_type": "stream",
     "text": [
      "Speaker: id06364, Video: PCpjQVG7vG8, Txt file: 00196\n"
     ]
    },
    {
     "name": "stderr",
     "output_type": "stream",
     "text": [
      "ERROR: [youtube] PCpjQVG7vG8: Video unavailable\n"
     ]
    },
    {
     "name": "stdout",
     "output_type": "stream",
     "text": [
      "Speaker: id06364, Video: lhRhg7jAv_g, Txt file: 00373\n",
      "[youtube] Extracting URL: https://www.youtube.com/watch?v=lhRhg7jAv_g\n",
      "[youtube] lhRhg7jAv_g: Downloading webpage\n",
      "[youtube] lhRhg7jAv_g: Downloading tv client config\n",
      "[youtube] lhRhg7jAv_g: Downloading player 5ae7d525\n",
      "[youtube] lhRhg7jAv_g: Downloading tv player API JSON\n",
      "[youtube] lhRhg7jAv_g: Downloading ios player API JSON\n",
      "[youtube] lhRhg7jAv_g: Downloading m3u8 information\n",
      "[info] lhRhg7jAv_g: Downloading 1 format(s): 251\n",
      "[download] Destination: id06364_0_lhRhg7jAv_g_00373\n",
      "[download] 100% of   51.02MiB in 00:00:17 at 2.97MiB/s     \n",
      "[ExtractAudio] Destination: id06364_0_lhRhg7jAv_g_00373.mp3\n",
      "Deleting original file id06364_0_lhRhg7jAv_g_00373 (pass -k to keep)\n",
      "Audio downloaded as id06364_0_lhRhg7jAv_g_00373\n",
      "Trimmed audio saved as ../data/download_df_audio/id06364_0_lhRhg7jAv_g_00373_cut.mp3\n",
      "Speaker: id06364, Video: LEiKtq5FsHo, Txt file: 00130\n",
      "[youtube] Extracting URL: https://www.youtube.com/watch?v=LEiKtq5FsHo\n",
      "[youtube] LEiKtq5FsHo: Downloading webpage\n",
      "[youtube] LEiKtq5FsHo: Downloading tv client config\n",
      "[youtube] LEiKtq5FsHo: Downloading player 5ae7d525\n",
      "[youtube] LEiKtq5FsHo: Downloading tv player API JSON\n",
      "[youtube] LEiKtq5FsHo: Downloading ios player API JSON\n",
      "[youtube] LEiKtq5FsHo: Downloading m3u8 information\n",
      "[info] LEiKtq5FsHo: Downloading 1 format(s): 140\n",
      "[download] Destination: id06364_1_LEiKtq5FsHo_00130\n",
      "[download] 100% of   11.16MiB in 00:00:04 at 2.57MiB/s     \n",
      "[FixupM4a] Correcting container of \"id06364_1_LEiKtq5FsHo_00130\"\n",
      "[ExtractAudio] Destination: id06364_1_LEiKtq5FsHo_00130.mp3\n",
      "Deleting original file id06364_1_LEiKtq5FsHo_00130 (pass -k to keep)\n",
      "Audio downloaded as id06364_1_LEiKtq5FsHo_00130\n",
      "Trimmed audio saved as ../data/download_df_audio/id06364_1_LEiKtq5FsHo_00130_cut.mp3\n",
      "Speaker: id06472, Video: UUb_SLd-Q38, Txt file: 00142\n",
      "[youtube] Extracting URL: https://www.youtube.com/watch?v=UUb_SLd-Q38\n",
      "[youtube] UUb_SLd-Q38: Downloading webpage\n",
      "[youtube] UUb_SLd-Q38: Downloading tv client config\n",
      "[youtube] UUb_SLd-Q38: Downloading player 5ae7d525\n",
      "[youtube] UUb_SLd-Q38: Downloading tv player API JSON\n",
      "[youtube] UUb_SLd-Q38: Downloading ios player API JSON\n",
      "[youtube] UUb_SLd-Q38: Downloading m3u8 information\n",
      "[info] UUb_SLd-Q38: Downloading 1 format(s): 140\n",
      "[download] Destination: id06472_0_UUb_SLd-Q38_00142\n",
      "[download] 100% of    3.27MiB in 00:00:01 at 2.70MiB/s   \n",
      "[FixupM4a] Correcting container of \"id06472_0_UUb_SLd-Q38_00142\"\n",
      "[ExtractAudio] Destination: id06472_0_UUb_SLd-Q38_00142.mp3\n",
      "Deleting original file id06472_0_UUb_SLd-Q38_00142 (pass -k to keep)\n",
      "Audio downloaded as id06472_0_UUb_SLd-Q38_00142\n",
      "Trimmed audio saved as ../data/download_df_audio/id06472_0_UUb_SLd-Q38_00142_cut.mp3\n",
      "Speaker: id06472, Video: xW0A4GhZzVk, Txt file: 00306\n",
      "[youtube] Extracting URL: https://www.youtube.com/watch?v=xW0A4GhZzVk\n",
      "[youtube] xW0A4GhZzVk: Downloading webpage\n",
      "[youtube] xW0A4GhZzVk: Downloading tv client config\n",
      "[youtube] xW0A4GhZzVk: Downloading player 5ae7d525\n",
      "[youtube] xW0A4GhZzVk: Downloading tv player API JSON\n",
      "[youtube] xW0A4GhZzVk: Downloading ios player API JSON\n",
      "[youtube] xW0A4GhZzVk: Downloading MPD manifest\n",
      "[youtube] xW0A4GhZzVk: Downloading m3u8 information\n",
      "[youtube] xW0A4GhZzVk: Downloading MPD manifest\n",
      "[info] xW0A4GhZzVk: Downloading 1 format(s): 251\n",
      "[download] Destination: id06472_1_xW0A4GhZzVk_00306\n",
      "[download] 100% of    9.48MiB in 00:00:00 at 9.80MiB/s     \n",
      "[ExtractAudio] Destination: id06472_1_xW0A4GhZzVk_00306.mp3\n",
      "Deleting original file id06472_1_xW0A4GhZzVk_00306 (pass -k to keep)\n",
      "Audio downloaded as id06472_1_xW0A4GhZzVk_00306\n",
      "Trimmed audio saved as ../data/download_df_audio/id06472_1_xW0A4GhZzVk_00306_cut.mp3\n",
      "Speaker: id06485, Video: oWJC1_mRExs, Txt file: 00269\n",
      "[youtube] Extracting URL: https://www.youtube.com/watch?v=oWJC1_mRExs\n",
      "[youtube] oWJC1_mRExs: Downloading webpage\n",
      "[youtube] oWJC1_mRExs: Downloading tv client config\n",
      "[youtube] oWJC1_mRExs: Downloading player 5ae7d525\n",
      "[youtube] oWJC1_mRExs: Downloading tv player API JSON\n",
      "[youtube] oWJC1_mRExs: Downloading ios player API JSON\n",
      "[youtube] oWJC1_mRExs: Downloading m3u8 information\n",
      "[info] oWJC1_mRExs: Downloading 1 format(s): 140\n",
      "[download] Destination: id06485_0_oWJC1_mRExs_00269\n",
      "[download] 100% of    5.42MiB in 00:00:01 at 3.80MiB/s     \n",
      "[FixupM4a] Correcting container of \"id06485_0_oWJC1_mRExs_00269\"\n",
      "[ExtractAudio] Destination: id06485_0_oWJC1_mRExs_00269.mp3\n",
      "Deleting original file id06485_0_oWJC1_mRExs_00269 (pass -k to keep)\n",
      "Audio downloaded as id06485_0_oWJC1_mRExs_00269\n",
      "Trimmed audio saved as ../data/download_df_audio/id06485_0_oWJC1_mRExs_00269_cut.mp3\n",
      "Speaker: id06485, Video: wLL9pHuYDoo, Txt file: 00299\n",
      "[youtube] Extracting URL: https://www.youtube.com/watch?v=wLL9pHuYDoo\n",
      "[youtube] wLL9pHuYDoo: Downloading webpage\n",
      "[youtube] wLL9pHuYDoo: Downloading tv client config\n",
      "[youtube] wLL9pHuYDoo: Downloading player 5ae7d525\n",
      "[youtube] wLL9pHuYDoo: Downloading tv player API JSON\n",
      "[youtube] wLL9pHuYDoo: Downloading ios player API JSON\n",
      "[youtube] wLL9pHuYDoo: Downloading m3u8 information\n",
      "[info] wLL9pHuYDoo: Downloading 1 format(s): 251\n",
      "[download] Destination: id06485_1_wLL9pHuYDoo_00299\n",
      "[download] 100% of  400.20KiB in 00:00:00 at 594.90KiB/s \n",
      "[ExtractAudio] Destination: id06485_1_wLL9pHuYDoo_00299.mp3\n",
      "Deleting original file id06485_1_wLL9pHuYDoo_00299 (pass -k to keep)\n",
      "Audio downloaded as id06485_1_wLL9pHuYDoo_00299\n",
      "Trimmed audio saved as ../data/download_df_audio/id06485_1_wLL9pHuYDoo_00299_cut.mp3\n",
      "Speaker: id06552, Video: 2jwzmMzEGJA, Txt file: 00016\n"
     ]
    },
    {
     "name": "stderr",
     "output_type": "stream",
     "text": [
      "ERROR: [youtube] 2jwzmMzEGJA: Video unavailable. This video is no longer available because the YouTube account associated with this video has been terminated.\n"
     ]
    },
    {
     "name": "stdout",
     "output_type": "stream",
     "text": [
      "Speaker: id06552, Video: KqjIae4B59c, Txt file: 00166\n",
      "[youtube] Extracting URL: https://www.youtube.com/watch?v=KqjIae4B59c\n",
      "[youtube] KqjIae4B59c: Downloading webpage\n",
      "[youtube] KqjIae4B59c: Downloading tv client config\n",
      "[youtube] KqjIae4B59c: Downloading player 5ae7d525\n",
      "[youtube] KqjIae4B59c: Downloading tv player API JSON\n",
      "[youtube] KqjIae4B59c: Downloading ios player API JSON\n",
      "[youtube] KqjIae4B59c: Downloading m3u8 information\n",
      "[info] KqjIae4B59c: Downloading 1 format(s): 140\n",
      "[download] Destination: id06552_0_KqjIae4B59c_00166\n",
      "[download] 100% of   28.84MiB in 00:00:09 at 3.20MiB/s     \n",
      "[FixupM4a] Correcting container of \"id06552_0_KqjIae4B59c_00166\"\n",
      "[ExtractAudio] Destination: id06552_0_KqjIae4B59c_00166.mp3\n",
      "Deleting original file id06552_0_KqjIae4B59c_00166 (pass -k to keep)\n",
      "Audio downloaded as id06552_0_KqjIae4B59c_00166\n",
      "Trimmed audio saved as ../data/download_df_audio/id06552_0_KqjIae4B59c_00166_cut.mp3\n",
      "Speaker: id06552, Video: 2jwzmMzEGJA, Txt file: 00010\n"
     ]
    },
    {
     "name": "stderr",
     "output_type": "stream",
     "text": [
      "ERROR: [youtube] 2jwzmMzEGJA: Video unavailable. This video is no longer available because the YouTube account associated with this video has been terminated.\n"
     ]
    },
    {
     "name": "stdout",
     "output_type": "stream",
     "text": [
      "Speaker: id06552, Video: 2jwzmMzEGJA, Txt file: 00015\n"
     ]
    },
    {
     "name": "stderr",
     "output_type": "stream",
     "text": [
      "ERROR: [youtube] 2jwzmMzEGJA: Video unavailable. This video is no longer available because the YouTube account associated with this video has been terminated.\n"
     ]
    },
    {
     "name": "stdout",
     "output_type": "stream",
     "text": [
      "Speaker: id06552, Video: siOkDopyw5s, Txt file: 00435\n",
      "[youtube] Extracting URL: https://www.youtube.com/watch?v=siOkDopyw5s\n",
      "[youtube] siOkDopyw5s: Downloading webpage\n",
      "[youtube] siOkDopyw5s: Downloading tv client config\n",
      "[youtube] siOkDopyw5s: Downloading player 5ae7d525\n",
      "[youtube] siOkDopyw5s: Downloading tv player API JSON\n",
      "[youtube] siOkDopyw5s: Downloading ios player API JSON\n",
      "[youtube] siOkDopyw5s: Downloading MPD manifest\n",
      "[youtube] siOkDopyw5s: Downloading m3u8 information\n",
      "[youtube] siOkDopyw5s: Downloading MPD manifest\n",
      "[info] siOkDopyw5s: Downloading 1 format(s): 251\n",
      "[download] Destination: id06552_1_siOkDopyw5s_00435\n",
      "[download] 100% of    7.66MiB in 00:00:02 at 2.90MiB/s   \n",
      "[ExtractAudio] Destination: id06552_1_siOkDopyw5s_00435.mp3\n",
      "Deleting original file id06552_1_siOkDopyw5s_00435 (pass -k to keep)\n",
      "Audio downloaded as id06552_1_siOkDopyw5s_00435\n",
      "Trimmed audio saved as ../data/download_df_audio/id06552_1_siOkDopyw5s_00435_cut.mp3\n",
      "Speaker: id06588, Video: bcR8h90vOQw, Txt file: 00353\n",
      "[youtube] Extracting URL: https://www.youtube.com/watch?v=bcR8h90vOQw\n",
      "[youtube] bcR8h90vOQw: Downloading webpage\n",
      "[youtube] bcR8h90vOQw: Downloading tv client config\n",
      "[youtube] bcR8h90vOQw: Downloading player 5ae7d525\n",
      "[youtube] bcR8h90vOQw: Downloading tv player API JSON\n",
      "[youtube] bcR8h90vOQw: Downloading ios player API JSON\n",
      "[youtube] bcR8h90vOQw: Downloading m3u8 information\n",
      "[info] bcR8h90vOQw: Downloading 1 format(s): 140\n",
      "[download] Destination: id06588_0_bcR8h90vOQw_00353\n",
      "[download] 100% of   15.78MiB in 00:00:03 at 4.47MiB/s     \n",
      "[FixupM4a] Correcting container of \"id06588_0_bcR8h90vOQw_00353\"\n",
      "[ExtractAudio] Destination: id06588_0_bcR8h90vOQw_00353.mp3\n",
      "Deleting original file id06588_0_bcR8h90vOQw_00353 (pass -k to keep)\n",
      "Audio downloaded as id06588_0_bcR8h90vOQw_00353\n",
      "Trimmed audio saved as ../data/download_df_audio/id06588_0_bcR8h90vOQw_00353_cut.mp3\n",
      "Speaker: id06588, Video: UOYnWubzWmI, Txt file: 00200\n",
      "[youtube] Extracting URL: https://www.youtube.com/watch?v=UOYnWubzWmI\n",
      "[youtube] UOYnWubzWmI: Downloading webpage\n",
      "[youtube] UOYnWubzWmI: Downloading tv client config\n",
      "[youtube] UOYnWubzWmI: Downloading player 5ae7d525\n",
      "[youtube] UOYnWubzWmI: Downloading tv player API JSON\n",
      "[youtube] UOYnWubzWmI: Downloading ios player API JSON\n",
      "[youtube] UOYnWubzWmI: Downloading m3u8 information\n",
      "[info] UOYnWubzWmI: Downloading 1 format(s): 140\n",
      "[download] Destination: id06588_1_UOYnWubzWmI_00200\n",
      "[download] 100% of   46.89MiB in 00:00:08 at 5.81MiB/s     \n",
      "[FixupM4a] Correcting container of \"id06588_1_UOYnWubzWmI_00200\"\n",
      "[ExtractAudio] Destination: id06588_1_UOYnWubzWmI_00200.mp3\n",
      "Deleting original file id06588_1_UOYnWubzWmI_00200 (pass -k to keep)\n",
      "Audio downloaded as id06588_1_UOYnWubzWmI_00200\n",
      "Trimmed audio saved as ../data/download_df_audio/id06588_1_UOYnWubzWmI_00200_cut.mp3\n",
      "Speaker: id06597, Video: ZM0fTS1r_mk, Txt file: 00243\n"
     ]
    },
    {
     "name": "stderr",
     "output_type": "stream",
     "text": [
      "ERROR: [youtube] ZM0fTS1r_mk: Video unavailable. This video contains content from Eccho Rights, who has blocked it in your country on copyright grounds\n"
     ]
    },
    {
     "name": "stdout",
     "output_type": "stream",
     "text": [
      "Speaker: id06597, Video: TLvdXV0n7zg, Txt file: 00191\n"
     ]
    },
    {
     "name": "stderr",
     "output_type": "stream",
     "text": [
      "ERROR: [youtube] TLvdXV0n7zg: Video unavailable. This video contains content from Eccho Rights, who has blocked it in your country on copyright grounds\n"
     ]
    },
    {
     "name": "stdout",
     "output_type": "stream",
     "text": [
      "Speaker: id06597, Video: ZM0fTS1r_mk, Txt file: 00251\n"
     ]
    },
    {
     "name": "stderr",
     "output_type": "stream",
     "text": [
      "ERROR: [youtube] ZM0fTS1r_mk: Video unavailable. This video contains content from Eccho Rights, who has blocked it in your country on copyright grounds\n"
     ]
    },
    {
     "name": "stdout",
     "output_type": "stream",
     "text": [
      "Speaker: id06597, Video: ZM0fTS1r_mk, Txt file: 00255\n"
     ]
    },
    {
     "name": "stderr",
     "output_type": "stream",
     "text": [
      "ERROR: [youtube] ZM0fTS1r_mk: Video unavailable. This video contains content from Eccho Rights, who has blocked it in your country on copyright grounds\n"
     ]
    },
    {
     "name": "stdout",
     "output_type": "stream",
     "text": [
      "Speaker: id06597, Video: oeAPQQ37-TQ, Txt file: 00411\n",
      "[youtube] Extracting URL: https://www.youtube.com/watch?v=oeAPQQ37-TQ\n",
      "[youtube] oeAPQQ37-TQ: Downloading webpage\n",
      "[youtube] oeAPQQ37-TQ: Downloading tv client config\n",
      "[youtube] oeAPQQ37-TQ: Downloading player 5ae7d525\n",
      "[youtube] oeAPQQ37-TQ: Downloading tv player API JSON\n",
      "[youtube] oeAPQQ37-TQ: Downloading ios player API JSON\n",
      "[youtube] oeAPQQ37-TQ: Downloading m3u8 information\n",
      "[info] oeAPQQ37-TQ: Downloading 1 format(s): 140\n",
      "[download] Destination: id06597_0_oeAPQQ37-TQ_00411\n",
      "[download] 100% of    6.62MiB in 00:00:05 at 1.27MiB/s   \n",
      "[FixupM4a] Correcting container of \"id06597_0_oeAPQQ37-TQ_00411\"\n",
      "[ExtractAudio] Destination: id06597_0_oeAPQQ37-TQ_00411.mp3\n",
      "Deleting original file id06597_0_oeAPQQ37-TQ_00411 (pass -k to keep)\n",
      "Audio downloaded as id06597_0_oeAPQQ37-TQ_00411\n",
      "Trimmed audio saved as ../data/download_df_audio/id06597_0_oeAPQQ37-TQ_00411_cut.mp3\n",
      "Speaker: id06597, Video: c7NWgmyQxsk, Txt file: 00291\n",
      "[youtube] Extracting URL: https://www.youtube.com/watch?v=c7NWgmyQxsk\n",
      "[youtube] c7NWgmyQxsk: Downloading webpage\n",
      "[youtube] c7NWgmyQxsk: Downloading tv client config\n",
      "[youtube] c7NWgmyQxsk: Downloading player 5ae7d525\n",
      "[youtube] c7NWgmyQxsk: Downloading tv player API JSON\n",
      "[youtube] c7NWgmyQxsk: Downloading ios player API JSON\n",
      "[youtube] c7NWgmyQxsk: Downloading m3u8 information\n",
      "[info] c7NWgmyQxsk: Downloading 1 format(s): 140\n",
      "[download] Destination: id06597_1_c7NWgmyQxsk_00291\n",
      "[download] 100% of   21.30MiB in 00:00:04 at 5.17MiB/s     \n",
      "[FixupM4a] Correcting container of \"id06597_1_c7NWgmyQxsk_00291\"\n",
      "[ExtractAudio] Destination: id06597_1_c7NWgmyQxsk_00291.mp3\n",
      "Deleting original file id06597_1_c7NWgmyQxsk_00291 (pass -k to keep)\n",
      "Audio downloaded as id06597_1_c7NWgmyQxsk_00291\n",
      "Trimmed audio saved as ../data/download_df_audio/id06597_1_c7NWgmyQxsk_00291_cut.mp3\n",
      "Speaker: id06696, Video: S5Eha11D3Is, Txt file: 00183\n",
      "[youtube] Extracting URL: https://www.youtube.com/watch?v=S5Eha11D3Is\n",
      "[youtube] S5Eha11D3Is: Downloading webpage\n",
      "[youtube] S5Eha11D3Is: Downloading tv client config\n",
      "[youtube] S5Eha11D3Is: Downloading player 5ae7d525\n",
      "[youtube] S5Eha11D3Is: Downloading tv player API JSON\n",
      "[youtube] S5Eha11D3Is: Downloading ios player API JSON\n",
      "[youtube] S5Eha11D3Is: Downloading m3u8 information\n",
      "[info] S5Eha11D3Is: Downloading 1 format(s): 140\n",
      "[download] Destination: id06696_0_S5Eha11D3Is_00183\n",
      "[download] 100% of   10.06MiB in 00:00:04 at 2.22MiB/s     \n",
      "[FixupM4a] Correcting container of \"id06696_0_S5Eha11D3Is_00183\"\n",
      "[ExtractAudio] Destination: id06696_0_S5Eha11D3Is_00183.mp3\n",
      "Deleting original file id06696_0_S5Eha11D3Is_00183 (pass -k to keep)\n",
      "Audio downloaded as id06696_0_S5Eha11D3Is_00183\n",
      "Trimmed audio saved as ../data/download_df_audio/id06696_0_S5Eha11D3Is_00183_cut.mp3\n",
      "Speaker: id06696, Video: f24SJ9R8YlY, Txt file: 00232\n",
      "[youtube] Extracting URL: https://www.youtube.com/watch?v=f24SJ9R8YlY\n",
      "[youtube] f24SJ9R8YlY: Downloading webpage\n",
      "[youtube] f24SJ9R8YlY: Downloading tv client config\n",
      "[youtube] f24SJ9R8YlY: Downloading player 5ae7d525\n",
      "[youtube] f24SJ9R8YlY: Downloading tv player API JSON\n",
      "[youtube] f24SJ9R8YlY: Downloading ios player API JSON\n",
      "[youtube] f24SJ9R8YlY: Downloading m3u8 information\n",
      "[info] f24SJ9R8YlY: Downloading 1 format(s): 140\n",
      "[download] Destination: id06696_1_f24SJ9R8YlY_00232\n",
      "[download] 100% of    5.45MiB in 00:00:01 at 2.81MiB/s   \n",
      "[FixupM4a] Correcting container of \"id06696_1_f24SJ9R8YlY_00232\"\n",
      "[ExtractAudio] Destination: id06696_1_f24SJ9R8YlY_00232.mp3\n",
      "Deleting original file id06696_1_f24SJ9R8YlY_00232 (pass -k to keep)\n",
      "Audio downloaded as id06696_1_f24SJ9R8YlY_00232\n",
      "Trimmed audio saved as ../data/download_df_audio/id06696_1_f24SJ9R8YlY_00232_cut.mp3\n",
      "Speaker: id06717, Video: lYGMrClpdFA, Txt file: 00333\n",
      "[youtube] Extracting URL: https://www.youtube.com/watch?v=lYGMrClpdFA\n",
      "[youtube] lYGMrClpdFA: Downloading webpage\n",
      "[youtube] lYGMrClpdFA: Downloading tv client config\n",
      "[youtube] lYGMrClpdFA: Downloading player 5ae7d525\n",
      "[youtube] lYGMrClpdFA: Downloading tv player API JSON\n",
      "[youtube] lYGMrClpdFA: Downloading ios player API JSON\n",
      "[youtube] lYGMrClpdFA: Downloading m3u8 information\n",
      "[info] lYGMrClpdFA: Downloading 1 format(s): 140\n",
      "[download] Destination: id06717_0_lYGMrClpdFA_00333\n",
      "[download] 100% of    3.03MiB in 00:00:01 at 2.62MiB/s   \n",
      "[FixupM4a] Correcting container of \"id06717_0_lYGMrClpdFA_00333\"\n",
      "[ExtractAudio] Destination: id06717_0_lYGMrClpdFA_00333.mp3\n",
      "Deleting original file id06717_0_lYGMrClpdFA_00333 (pass -k to keep)\n",
      "Audio downloaded as id06717_0_lYGMrClpdFA_00333\n",
      "Trimmed audio saved as ../data/download_df_audio/id06717_0_lYGMrClpdFA_00333_cut.mp3\n",
      "Speaker: id06717, Video: B1h_YGuqV9M, Txt file: 00079\n",
      "[youtube] Extracting URL: https://www.youtube.com/watch?v=B1h_YGuqV9M\n",
      "[youtube] B1h_YGuqV9M: Downloading webpage\n",
      "[youtube] B1h_YGuqV9M: Downloading tv client config\n",
      "[youtube] B1h_YGuqV9M: Downloading player 5ae7d525\n",
      "[youtube] B1h_YGuqV9M: Downloading tv player API JSON\n",
      "[youtube] B1h_YGuqV9M: Downloading ios player API JSON\n",
      "[youtube] B1h_YGuqV9M: Downloading m3u8 information\n",
      "[info] B1h_YGuqV9M: Downloading 1 format(s): 140\n",
      "[download] Destination: id06717_1_B1h_YGuqV9M_00079\n",
      "[download] 100% of    4.61MiB in 00:00:00 at 4.81MiB/s   \n",
      "[FixupM4a] Correcting container of \"id06717_1_B1h_YGuqV9M_00079\"\n",
      "[ExtractAudio] Destination: id06717_1_B1h_YGuqV9M_00079.mp3\n",
      "Deleting original file id06717_1_B1h_YGuqV9M_00079 (pass -k to keep)\n",
      "Audio downloaded as id06717_1_B1h_YGuqV9M_00079\n",
      "Trimmed audio saved as ../data/download_df_audio/id06717_1_B1h_YGuqV9M_00079_cut.mp3\n",
      "Speaker: id06721, Video: pzQ4SRk8qzU, Txt file: 00282\n"
     ]
    },
    {
     "name": "stderr",
     "output_type": "stream",
     "text": [
      "ERROR: [youtube] pzQ4SRk8qzU: Video unavailable. This video is no longer available because the YouTube account associated with this video has been terminated.\n"
     ]
    },
    {
     "name": "stdout",
     "output_type": "stream",
     "text": [
      "Speaker: id06721, Video: SzNg0V-w2D4, Txt file: 00143\n"
     ]
    },
    {
     "name": "stderr",
     "output_type": "stream",
     "text": [
      "ERROR: [youtube] SzNg0V-w2D4: Video unavailable. This video is no longer available because the YouTube account associated with this video has been terminated.\n"
     ]
    },
    {
     "name": "stdout",
     "output_type": "stream",
     "text": [
      "Speaker: id06721, Video: KlgcPfS_eUI, Txt file: 00085\n"
     ]
    },
    {
     "name": "stderr",
     "output_type": "stream",
     "text": [
      "ERROR: [youtube] KlgcPfS_eUI: Video unavailable. This video is no longer available because the YouTube account associated with this video has been terminated.\n"
     ]
    },
    {
     "name": "stdout",
     "output_type": "stream",
     "text": [
      "Speaker: id06721, Video: SzNg0V-w2D4, Txt file: 00131\n"
     ]
    },
    {
     "name": "stderr",
     "output_type": "stream",
     "text": [
      "ERROR: [youtube] SzNg0V-w2D4: Video unavailable. This video is no longer available because the YouTube account associated with this video has been terminated.\n"
     ]
    },
    {
     "name": "stdout",
     "output_type": "stream",
     "text": [
      "Speaker: id06721, Video: SzNg0V-w2D4, Txt file: 00139\n"
     ]
    },
    {
     "name": "stderr",
     "output_type": "stream",
     "text": [
      "ERROR: [youtube] SzNg0V-w2D4: Video unavailable. This video is no longer available because the YouTube account associated with this video has been terminated.\n"
     ]
    },
    {
     "name": "stdout",
     "output_type": "stream",
     "text": [
      "Speaker: id06721, Video: rahRQS7ZZhs, Txt file: 00315\n",
      "[youtube] Extracting URL: https://www.youtube.com/watch?v=rahRQS7ZZhs\n",
      "[youtube] rahRQS7ZZhs: Downloading webpage\n",
      "[youtube] rahRQS7ZZhs: Downloading tv client config\n",
      "[youtube] rahRQS7ZZhs: Downloading player 5ae7d525\n",
      "[youtube] rahRQS7ZZhs: Downloading tv player API JSON\n",
      "[youtube] rahRQS7ZZhs: Downloading ios player API JSON\n",
      "[youtube] rahRQS7ZZhs: Downloading m3u8 information\n",
      "[info] rahRQS7ZZhs: Downloading 1 format(s): 140\n",
      "[download] Destination: id06721_0_rahRQS7ZZhs_00315\n",
      "[download] 100% of    4.68MiB in 00:00:00 at 5.14MiB/s   \n",
      "[FixupM4a] Correcting container of \"id06721_0_rahRQS7ZZhs_00315\"\n",
      "[ExtractAudio] Destination: id06721_0_rahRQS7ZZhs_00315.mp3\n",
      "Deleting original file id06721_0_rahRQS7ZZhs_00315 (pass -k to keep)\n",
      "Audio downloaded as id06721_0_rahRQS7ZZhs_00315\n",
      "Trimmed audio saved as ../data/download_df_audio/id06721_0_rahRQS7ZZhs_00315_cut.mp3\n",
      "Speaker: id06721, Video: KlgcPfS_eUI, Txt file: 00086\n"
     ]
    },
    {
     "name": "stderr",
     "output_type": "stream",
     "text": [
      "ERROR: [youtube] KlgcPfS_eUI: Video unavailable. This video is no longer available because the YouTube account associated with this video has been terminated.\n"
     ]
    },
    {
     "name": "stdout",
     "output_type": "stream",
     "text": [
      "Speaker: id06721, Video: bA51JRWtIm8, Txt file: 00168\n",
      "[youtube] Extracting URL: https://www.youtube.com/watch?v=bA51JRWtIm8\n",
      "[youtube] bA51JRWtIm8: Downloading webpage\n",
      "[youtube] bA51JRWtIm8: Downloading tv client config\n",
      "[youtube] bA51JRWtIm8: Downloading player 5ae7d525\n",
      "[youtube] bA51JRWtIm8: Downloading tv player API JSON\n",
      "[youtube] bA51JRWtIm8: Downloading ios player API JSON\n",
      "[youtube] bA51JRWtIm8: Downloading m3u8 information\n",
      "[info] bA51JRWtIm8: Downloading 1 format(s): 140\n",
      "[download] Destination: id06721_1_bA51JRWtIm8_00168\n",
      "[download] 100% of   10.87MiB in 00:00:02 at 5.36MiB/s     \n",
      "[FixupM4a] Correcting container of \"id06721_1_bA51JRWtIm8_00168\"\n",
      "[ExtractAudio] Destination: id06721_1_bA51JRWtIm8_00168.mp3\n",
      "Deleting original file id06721_1_bA51JRWtIm8_00168 (pass -k to keep)\n",
      "Audio downloaded as id06721_1_bA51JRWtIm8_00168\n",
      "Trimmed audio saved as ../data/download_df_audio/id06721_1_bA51JRWtIm8_00168_cut.mp3\n",
      "Speaker: id06747, Video: CgGFnm6vI58, Txt file: 00053\n",
      "[youtube] Extracting URL: https://www.youtube.com/watch?v=CgGFnm6vI58\n",
      "[youtube] CgGFnm6vI58: Downloading webpage\n",
      "[youtube] CgGFnm6vI58: Downloading tv client config\n",
      "[youtube] CgGFnm6vI58: Downloading player 5ae7d525\n",
      "[youtube] CgGFnm6vI58: Downloading tv player API JSON\n",
      "[youtube] CgGFnm6vI58: Downloading ios player API JSON\n",
      "[youtube] CgGFnm6vI58: Downloading m3u8 information\n",
      "[info] CgGFnm6vI58: Downloading 1 format(s): 251\n",
      "[download] Destination: id06747_0_CgGFnm6vI58_00053\n",
      "[download] 100% of    3.24MiB in 00:00:01 at 2.32MiB/s   \n",
      "[ExtractAudio] Destination: id06747_0_CgGFnm6vI58_00053.mp3\n",
      "Deleting original file id06747_0_CgGFnm6vI58_00053 (pass -k to keep)\n",
      "Audio downloaded as id06747_0_CgGFnm6vI58_00053\n",
      "Trimmed audio saved as ../data/download_df_audio/id06747_0_CgGFnm6vI58_00053_cut.mp3\n",
      "Speaker: id06747, Video: kQSkNQJCvJU, Txt file: 00248\n"
     ]
    },
    {
     "name": "stderr",
     "output_type": "stream",
     "text": [
      "ERROR: [youtube] kQSkNQJCvJU: Video unavailable\n"
     ]
    },
    {
     "name": "stdout",
     "output_type": "stream",
     "text": [
      "Speaker: id06747, Video: EFH3OZyELl8, Txt file: 00093\n",
      "[youtube] Extracting URL: https://www.youtube.com/watch?v=EFH3OZyELl8\n",
      "[youtube] EFH3OZyELl8: Downloading webpage\n",
      "[youtube] EFH3OZyELl8: Downloading tv client config\n",
      "[youtube] EFH3OZyELl8: Downloading player 5ae7d525\n",
      "[youtube] EFH3OZyELl8: Downloading tv player API JSON\n",
      "[youtube] EFH3OZyELl8: Downloading ios player API JSON\n",
      "[youtube] EFH3OZyELl8: Downloading m3u8 information\n",
      "[info] EFH3OZyELl8: Downloading 1 format(s): 251\n",
      "[download] Destination: id06747_1_EFH3OZyELl8_00093\n",
      "[download] 100% of    8.76MiB in 00:00:01 at 8.02MiB/s   \n",
      "[ExtractAudio] Destination: id06747_1_EFH3OZyELl8_00093.mp3\n",
      "Deleting original file id06747_1_EFH3OZyELl8_00093 (pass -k to keep)\n",
      "Audio downloaded as id06747_1_EFH3OZyELl8_00093\n",
      "Trimmed audio saved as ../data/download_df_audio/id06747_1_EFH3OZyELl8_00093_cut.mp3\n",
      "Speaker: id06772, Video: N2VxZa8PTK8, Txt file: 00014\n",
      "[youtube] Extracting URL: https://www.youtube.com/watch?v=N2VxZa8PTK8\n",
      "[youtube] N2VxZa8PTK8: Downloading webpage\n",
      "[youtube] N2VxZa8PTK8: Downloading tv client config\n",
      "[youtube] N2VxZa8PTK8: Downloading player 5ae7d525\n",
      "[youtube] N2VxZa8PTK8: Downloading tv player API JSON\n",
      "[youtube] N2VxZa8PTK8: Downloading ios player API JSON\n",
      "[youtube] N2VxZa8PTK8: Downloading m3u8 information\n",
      "[info] N2VxZa8PTK8: Downloading 1 format(s): 140\n",
      "[download] Destination: id06772_0_N2VxZa8PTK8_00014\n",
      "[download] 100% of    5.81MiB in 00:00:01 at 3.99MiB/s   \n",
      "[FixupM4a] Correcting container of \"id06772_0_N2VxZa8PTK8_00014\"\n",
      "[ExtractAudio] Destination: id06772_0_N2VxZa8PTK8_00014.mp3\n",
      "Deleting original file id06772_0_N2VxZa8PTK8_00014 (pass -k to keep)\n",
      "Audio downloaded as id06772_0_N2VxZa8PTK8_00014\n",
      "Trimmed audio saved as ../data/download_df_audio/id06772_0_N2VxZa8PTK8_00014_cut.mp3\n",
      "Speaker: id06772, Video: 5fGnGkzPckI, Txt file: 00003\n",
      "[youtube] Extracting URL: https://www.youtube.com/watch?v=5fGnGkzPckI\n",
      "[youtube] 5fGnGkzPckI: Downloading webpage\n",
      "[youtube] 5fGnGkzPckI: Downloading tv client config\n",
      "[youtube] 5fGnGkzPckI: Downloading player 5ae7d525\n",
      "[youtube] 5fGnGkzPckI: Downloading tv player API JSON\n",
      "[youtube] 5fGnGkzPckI: Downloading ios player API JSON\n",
      "[youtube] 5fGnGkzPckI: Downloading m3u8 information\n",
      "[info] 5fGnGkzPckI: Downloading 1 format(s): 251\n",
      "[download] Destination: id06772_1_5fGnGkzPckI_00003\n",
      "[download] 100% of    3.51MiB in 00:00:00 at 4.97MiB/s   \n",
      "[ExtractAudio] Destination: id06772_1_5fGnGkzPckI_00003.mp3\n",
      "Deleting original file id06772_1_5fGnGkzPckI_00003 (pass -k to keep)\n",
      "Audio downloaded as id06772_1_5fGnGkzPckI_00003\n",
      "Trimmed audio saved as ../data/download_df_audio/id06772_1_5fGnGkzPckI_00003_cut.mp3\n",
      "Speaker: id06847, Video: MiaOUus_L9A, Txt file: 00208\n",
      "[youtube] Extracting URL: https://www.youtube.com/watch?v=MiaOUus_L9A\n",
      "[youtube] MiaOUus_L9A: Downloading webpage\n",
      "[youtube] MiaOUus_L9A: Downloading tv client config\n",
      "[youtube] MiaOUus_L9A: Downloading player 5ae7d525\n",
      "[youtube] MiaOUus_L9A: Downloading tv player API JSON\n",
      "[youtube] MiaOUus_L9A: Downloading ios player API JSON\n",
      "[youtube] MiaOUus_L9A: Downloading m3u8 information\n",
      "[info] MiaOUus_L9A: Downloading 1 format(s): 251\n",
      "[download] Destination: id06847_0_MiaOUus_L9A_00208\n",
      "[download] 100% of   19.68MiB in 00:00:02 at 7.84MiB/s     \n",
      "[ExtractAudio] Destination: id06847_0_MiaOUus_L9A_00208.mp3\n",
      "Deleting original file id06847_0_MiaOUus_L9A_00208 (pass -k to keep)\n",
      "Audio downloaded as id06847_0_MiaOUus_L9A_00208\n",
      "Trimmed audio saved as ../data/download_df_audio/id06847_0_MiaOUus_L9A_00208_cut.mp3\n",
      "Speaker: id06847, Video: rll7rk9LcGI, Txt file: 00451\n"
     ]
    },
    {
     "name": "stderr",
     "output_type": "stream",
     "text": [
      "ERROR: [youtube] rll7rk9LcGI: Video unavailable. This video is no longer available because the YouTube account associated with this video has been terminated.\n"
     ]
    },
    {
     "name": "stdout",
     "output_type": "stream",
     "text": [
      "Speaker: id06847, Video: Vp4ae937mn0, Txt file: 00281\n"
     ]
    },
    {
     "name": "stderr",
     "output_type": "stream",
     "text": [
      "ERROR: [youtube] Vp4ae937mn0: Private video. Sign in if you've been granted access to this video. Use --cookies-from-browser or --cookies for the authentication. See  https://github.com/yt-dlp/yt-dlp/wiki/FAQ#how-do-i-pass-cookies-to-yt-dlp  for how to manually pass cookies. Also see  https://github.com/yt-dlp/yt-dlp/wiki/Extractors#exporting-youtube-cookies  for tips on effectively exporting YouTube cookies\n"
     ]
    },
    {
     "name": "stdout",
     "output_type": "stream",
     "text": [
      "Speaker: id06847, Video: MNshwcwUQwM, Txt file: 00199\n"
     ]
    },
    {
     "name": "stderr",
     "output_type": "stream",
     "text": [
      "ERROR: [youtube] MNshwcwUQwM: Video unavailable. This video contains content from Eccho Rights, who has blocked it in your country on copyright grounds\n"
     ]
    },
    {
     "name": "stdout",
     "output_type": "stream",
     "text": [
      "Speaker: id06847, Video: e99UMp6zZac, Txt file: 00390\n"
     ]
    },
    {
     "name": "stderr",
     "output_type": "stream",
     "text": [
      "ERROR: [youtube] e99UMp6zZac: Video unavailable. This video is no longer available because the YouTube account associated with this video has been terminated.\n"
     ]
    },
    {
     "name": "stdout",
     "output_type": "stream",
     "text": [
      "Speaker: id06847, Video: Lbw_xFMiVPU, Txt file: 00142\n"
     ]
    },
    {
     "name": "stderr",
     "output_type": "stream",
     "text": [
      "ERROR: [youtube] Lbw_xFMiVPU: Video unavailable. This video is no longer available because the YouTube account associated with this video has been terminated.\n"
     ]
    },
    {
     "name": "stdout",
     "output_type": "stream",
     "text": [
      "Speaker: id06847, Video: e99UMp6zZac, Txt file: 00363\n"
     ]
    },
    {
     "name": "stderr",
     "output_type": "stream",
     "text": [
      "ERROR: [youtube] e99UMp6zZac: Video unavailable. This video is no longer available because the YouTube account associated with this video has been terminated.\n"
     ]
    },
    {
     "name": "stdout",
     "output_type": "stream",
     "text": [
      "Speaker: id06847, Video: byvx0K9MPi0, Txt file: 00323\n",
      "[youtube] Extracting URL: https://www.youtube.com/watch?v=byvx0K9MPi0\n",
      "[youtube] byvx0K9MPi0: Downloading webpage\n",
      "[youtube] byvx0K9MPi0: Downloading tv client config\n",
      "[youtube] byvx0K9MPi0: Downloading player 5ae7d525\n",
      "[youtube] byvx0K9MPi0: Downloading tv player API JSON\n",
      "[youtube] byvx0K9MPi0: Downloading ios player API JSON\n",
      "[youtube] byvx0K9MPi0: Downloading m3u8 information\n",
      "[info] byvx0K9MPi0: Downloading 1 format(s): 251\n",
      "[download] Destination: id06847_1_byvx0K9MPi0_00323\n",
      "[download] 100% of    8.71MiB in 00:00:01 at 6.01MiB/s   \n",
      "[ExtractAudio] Destination: id06847_1_byvx0K9MPi0_00323.mp3\n",
      "Deleting original file id06847_1_byvx0K9MPi0_00323 (pass -k to keep)\n",
      "Audio downloaded as id06847_1_byvx0K9MPi0_00323\n",
      "Trimmed audio saved as ../data/download_df_audio/id06847_1_byvx0K9MPi0_00323_cut.mp3\n",
      "Speaker: id06908, Video: cqu_mkS8EDU, Txt file: 00020\n",
      "[youtube] Extracting URL: https://www.youtube.com/watch?v=cqu_mkS8EDU\n",
      "[youtube] cqu_mkS8EDU: Downloading webpage\n",
      "[youtube] cqu_mkS8EDU: Downloading tv client config\n",
      "[youtube] cqu_mkS8EDU: Downloading player 5ae7d525\n",
      "[youtube] cqu_mkS8EDU: Downloading tv player API JSON\n",
      "[youtube] cqu_mkS8EDU: Downloading ios player API JSON\n",
      "[youtube] cqu_mkS8EDU: Downloading m3u8 information\n",
      "[info] cqu_mkS8EDU: Downloading 1 format(s): 140\n",
      "[download] Destination: id06908_0_cqu_mkS8EDU_00020\n",
      "[download] 100% of   10.51MiB in 00:00:01 at 8.79MiB/s     \n",
      "[FixupM4a] Correcting container of \"id06908_0_cqu_mkS8EDU_00020\"\n",
      "[ExtractAudio] Destination: id06908_0_cqu_mkS8EDU_00020.mp3\n",
      "Deleting original file id06908_0_cqu_mkS8EDU_00020 (pass -k to keep)\n",
      "Audio downloaded as id06908_0_cqu_mkS8EDU_00020\n",
      "Trimmed audio saved as ../data/download_df_audio/id06908_0_cqu_mkS8EDU_00020_cut.mp3\n",
      "Speaker: id06908, Video: PhxMmzGXNg4, Txt file: 00011\n"
     ]
    },
    {
     "name": "stderr",
     "output_type": "stream",
     "text": [
      "ERROR: [youtube] PhxMmzGXNg4: Video unavailable\n"
     ]
    },
    {
     "name": "stdout",
     "output_type": "stream",
     "text": [
      "Speaker: id06908, Video: FpKBNb8gVkw, Txt file: 00001\n",
      "[youtube] Extracting URL: https://www.youtube.com/watch?v=FpKBNb8gVkw\n",
      "[youtube] FpKBNb8gVkw: Downloading webpage\n",
      "[youtube] FpKBNb8gVkw: Downloading tv client config\n",
      "[youtube] FpKBNb8gVkw: Downloading player 5ae7d525\n",
      "[youtube] FpKBNb8gVkw: Downloading tv player API JSON\n",
      "[youtube] FpKBNb8gVkw: Downloading ios player API JSON\n",
      "[youtube] FpKBNb8gVkw: Downloading m3u8 information\n",
      "[info] FpKBNb8gVkw: Downloading 1 format(s): 140\n",
      "[download] Destination: id06908_1_FpKBNb8gVkw_00001\n",
      "[download] 100% of  985.80KiB in 00:00:00 at 3.34MiB/s   \n",
      "[FixupM4a] Correcting container of \"id06908_1_FpKBNb8gVkw_00001\"\n",
      "[ExtractAudio] Destination: id06908_1_FpKBNb8gVkw_00001.mp3\n",
      "Deleting original file id06908_1_FpKBNb8gVkw_00001 (pass -k to keep)\n",
      "Audio downloaded as id06908_1_FpKBNb8gVkw_00001\n",
      "Trimmed audio saved as ../data/download_df_audio/id06908_1_FpKBNb8gVkw_00001_cut.mp3\n",
      "Speaker: id06910, Video: wrKRTWO2mJs, Txt file: 00200\n",
      "[youtube] Extracting URL: https://www.youtube.com/watch?v=wrKRTWO2mJs\n",
      "[youtube] wrKRTWO2mJs: Downloading webpage\n",
      "[youtube] wrKRTWO2mJs: Downloading tv client config\n",
      "[youtube] wrKRTWO2mJs: Downloading player 5ae7d525\n",
      "[youtube] wrKRTWO2mJs: Downloading tv player API JSON\n",
      "[youtube] wrKRTWO2mJs: Downloading ios player API JSON\n",
      "[youtube] wrKRTWO2mJs: Downloading m3u8 information\n",
      "[info] wrKRTWO2mJs: Downloading 1 format(s): 140\n",
      "[download] Destination: id06910_0_wrKRTWO2mJs_00200\n",
      "[download] 100% of   17.29MiB in 00:00:03 at 4.37MiB/s     \n",
      "[FixupM4a] Correcting container of \"id06910_0_wrKRTWO2mJs_00200\"\n",
      "[ExtractAudio] Destination: id06910_0_wrKRTWO2mJs_00200.mp3\n",
      "Deleting original file id06910_0_wrKRTWO2mJs_00200 (pass -k to keep)\n",
      "Audio downloaded as id06910_0_wrKRTWO2mJs_00200\n",
      "Trimmed audio saved as ../data/download_df_audio/id06910_0_wrKRTWO2mJs_00200_cut.mp3\n",
      "Speaker: id06910, Video: pGYUSVjxfAM, Txt file: 00136\n",
      "[youtube] Extracting URL: https://www.youtube.com/watch?v=pGYUSVjxfAM\n",
      "[youtube] pGYUSVjxfAM: Downloading webpage\n",
      "[youtube] pGYUSVjxfAM: Downloading tv client config\n",
      "[youtube] pGYUSVjxfAM: Downloading player 5ae7d525\n",
      "[youtube] pGYUSVjxfAM: Downloading tv player API JSON\n",
      "[youtube] pGYUSVjxfAM: Downloading ios player API JSON\n",
      "[youtube] pGYUSVjxfAM: Downloading m3u8 information\n",
      "[info] pGYUSVjxfAM: Downloading 1 format(s): 140\n",
      "[download] Destination: id06910_1_pGYUSVjxfAM_00136\n",
      "[download] 100% of   21.08MiB in 00:00:06 at 3.23MiB/s     \n",
      "[FixupM4a] Correcting container of \"id06910_1_pGYUSVjxfAM_00136\"\n",
      "[ExtractAudio] Destination: id06910_1_pGYUSVjxfAM_00136.mp3\n",
      "Deleting original file id06910_1_pGYUSVjxfAM_00136 (pass -k to keep)\n",
      "Audio downloaded as id06910_1_pGYUSVjxfAM_00136\n",
      "Trimmed audio saved as ../data/download_df_audio/id06910_1_pGYUSVjxfAM_00136_cut.mp3\n",
      "Speaker: id06918, Video: 69BFYBR1Ggo, Txt file: 00029\n",
      "[youtube] Extracting URL: https://www.youtube.com/watch?v=69BFYBR1Ggo\n",
      "[youtube] 69BFYBR1Ggo: Downloading webpage\n",
      "[youtube] 69BFYBR1Ggo: Downloading tv client config\n",
      "[youtube] 69BFYBR1Ggo: Downloading player 5ae7d525\n",
      "[youtube] 69BFYBR1Ggo: Downloading tv player API JSON\n",
      "[youtube] 69BFYBR1Ggo: Downloading ios player API JSON\n",
      "[youtube] 69BFYBR1Ggo: Downloading m3u8 information\n",
      "[info] 69BFYBR1Ggo: Downloading 1 format(s): 251\n",
      "[download] Destination: id06918_0_69BFYBR1Ggo_00029\n",
      "[download] 100% of    4.92MiB in 00:00:00 at 6.23MiB/s   \n",
      "[ExtractAudio] Destination: id06918_0_69BFYBR1Ggo_00029.mp3\n",
      "Deleting original file id06918_0_69BFYBR1Ggo_00029 (pass -k to keep)\n",
      "Audio downloaded as id06918_0_69BFYBR1Ggo_00029\n",
      "Trimmed audio saved as ../data/download_df_audio/id06918_0_69BFYBR1Ggo_00029_cut.mp3\n",
      "Speaker: id06918, Video: OAkOPrXwS6w, Txt file: 00125\n"
     ]
    },
    {
     "name": "stderr",
     "output_type": "stream",
     "text": [
      "ERROR: [youtube] OAkOPrXwS6w: Video unavailable\n"
     ]
    },
    {
     "name": "stdout",
     "output_type": "stream",
     "text": [
      "Speaker: id06918, Video: HQhSn_uZezI, Txt file: 00077\n",
      "[youtube] Extracting URL: https://www.youtube.com/watch?v=HQhSn_uZezI\n",
      "[youtube] HQhSn_uZezI: Downloading webpage\n",
      "[youtube] HQhSn_uZezI: Downloading tv client config\n",
      "[youtube] HQhSn_uZezI: Downloading player 5ae7d525\n",
      "[youtube] HQhSn_uZezI: Downloading tv player API JSON\n",
      "[youtube] HQhSn_uZezI: Downloading ios player API JSON\n",
      "[youtube] HQhSn_uZezI: Downloading m3u8 information\n",
      "[info] HQhSn_uZezI: Downloading 1 format(s): 140\n"
     ]
    },
    {
     "name": "stderr",
     "output_type": "stream",
     "text": [
      "ERROR: unable to download video data: HTTP Error 403: Forbidden\n"
     ]
    },
    {
     "name": "stdout",
     "output_type": "stream",
     "text": [
      "Failed to download audio: ERROR: unable to download video data: HTTP Error 403: Forbidden\n",
      "[youtube] Extracting URL: https://www.youtube.com/watch?v=HQhSn_uZezI\n",
      "[youtube] HQhSn_uZezI: Downloading webpage\n",
      "[youtube] HQhSn_uZezI: Downloading tv client config\n",
      "[youtube] HQhSn_uZezI: Downloading player 5ae7d525\n",
      "[youtube] HQhSn_uZezI: Downloading tv player API JSON\n",
      "[youtube] HQhSn_uZezI: Downloading ios player API JSON\n",
      "[youtube] HQhSn_uZezI: Downloading m3u8 information\n",
      "[info] HQhSn_uZezI: Downloading 1 format(s): 140\n",
      "[download] Destination: id06918_1_HQhSn_uZezI_00077\n",
      "[download] 100% of    4.79MiB in 00:00:01 at 4.73MiB/s   \n",
      "[FixupM4a] Correcting container of \"id06918_1_HQhSn_uZezI_00077\"\n",
      "[ExtractAudio] Destination: id06918_1_HQhSn_uZezI_00077.mp3\n",
      "Deleting original file id06918_1_HQhSn_uZezI_00077 (pass -k to keep)\n",
      "Audio downloaded as id06918_1_HQhSn_uZezI_00077\n",
      "Trimmed audio saved as ../data/download_df_audio/id06918_1_HQhSn_uZezI_00077_cut.mp3\n",
      "Speaker: id06936, Video: XeuC_9m0n_I, Txt file: 00260\n",
      "[youtube] Extracting URL: https://www.youtube.com/watch?v=XeuC_9m0n_I\n",
      "[youtube] XeuC_9m0n_I: Downloading webpage\n",
      "[youtube] XeuC_9m0n_I: Downloading tv client config\n",
      "[youtube] XeuC_9m0n_I: Downloading player 5ae7d525\n",
      "[youtube] XeuC_9m0n_I: Downloading tv player API JSON\n",
      "[youtube] XeuC_9m0n_I: Downloading ios player API JSON\n",
      "[youtube] XeuC_9m0n_I: Downloading m3u8 information\n",
      "[info] XeuC_9m0n_I: Downloading 1 format(s): 140\n",
      "[download] Destination: id06936_0_XeuC_9m0n_I_00260\n",
      "[download] 100% of    6.34MiB in 00:00:02 at 2.38MiB/s   \n",
      "[FixupM4a] Correcting container of \"id06936_0_XeuC_9m0n_I_00260\"\n",
      "[ExtractAudio] Destination: id06936_0_XeuC_9m0n_I_00260.mp3\n",
      "Deleting original file id06936_0_XeuC_9m0n_I_00260 (pass -k to keep)\n",
      "Audio downloaded as id06936_0_XeuC_9m0n_I_00260\n",
      "Trimmed audio saved as ../data/download_df_audio/id06936_0_XeuC_9m0n_I_00260_cut.mp3\n",
      "Speaker: id06936, Video: 9fYLbR_DOv4, Txt file: 00126\n",
      "[youtube] Extracting URL: https://www.youtube.com/watch?v=9fYLbR_DOv4\n",
      "[youtube] 9fYLbR_DOv4: Downloading webpage\n",
      "[youtube] 9fYLbR_DOv4: Downloading tv client config\n",
      "[youtube] 9fYLbR_DOv4: Downloading player 5ae7d525\n",
      "[youtube] 9fYLbR_DOv4: Downloading tv player API JSON\n",
      "[youtube] 9fYLbR_DOv4: Downloading ios player API JSON\n",
      "[youtube] 9fYLbR_DOv4: Downloading m3u8 information\n",
      "[info] 9fYLbR_DOv4: Downloading 1 format(s): 251\n",
      "[download] Destination: id06936_1_9fYLbR_DOv4_00126\n",
      "[download] 100% of    2.20MiB in 00:00:00 at 3.66MiB/s   \n",
      "[ExtractAudio] Destination: id06936_1_9fYLbR_DOv4_00126.mp3\n",
      "Deleting original file id06936_1_9fYLbR_DOv4_00126 (pass -k to keep)\n",
      "Audio downloaded as id06936_1_9fYLbR_DOv4_00126\n",
      "Trimmed audio saved as ../data/download_df_audio/id06936_1_9fYLbR_DOv4_00126_cut.mp3\n",
      "Speaker: id06948, Video: D2dKjchWvxo, Txt file: 00071\n",
      "[youtube] Extracting URL: https://www.youtube.com/watch?v=D2dKjchWvxo\n",
      "[youtube] D2dKjchWvxo: Downloading webpage\n",
      "[youtube] D2dKjchWvxo: Downloading tv client config\n",
      "[youtube] D2dKjchWvxo: Downloading player 5ae7d525\n",
      "[youtube] D2dKjchWvxo: Downloading tv player API JSON\n",
      "[youtube] D2dKjchWvxo: Downloading ios player API JSON\n",
      "[youtube] D2dKjchWvxo: Downloading m3u8 information\n",
      "[info] D2dKjchWvxo: Downloading 1 format(s): 140\n",
      "[download] Destination: id06948_0_D2dKjchWvxo_00071\n",
      "[download] 100% of    5.05MiB in 00:00:01 at 3.90MiB/s   \n",
      "[FixupM4a] Correcting container of \"id06948_0_D2dKjchWvxo_00071\"\n",
      "[ExtractAudio] Destination: id06948_0_D2dKjchWvxo_00071.mp3\n",
      "Deleting original file id06948_0_D2dKjchWvxo_00071 (pass -k to keep)\n",
      "Audio downloaded as id06948_0_D2dKjchWvxo_00071\n",
      "Trimmed audio saved as ../data/download_df_audio/id06948_0_D2dKjchWvxo_00071_cut.mp3\n",
      "Speaker: id06948, Video: kjo_qiMWNsA, Txt file: 00341\n",
      "[youtube] Extracting URL: https://www.youtube.com/watch?v=kjo_qiMWNsA\n",
      "[youtube] kjo_qiMWNsA: Downloading webpage\n",
      "[youtube] kjo_qiMWNsA: Downloading tv client config\n",
      "[youtube] kjo_qiMWNsA: Downloading player 5ae7d525\n",
      "[youtube] kjo_qiMWNsA: Downloading tv player API JSON\n",
      "[youtube] kjo_qiMWNsA: Downloading ios player API JSON\n",
      "[youtube] kjo_qiMWNsA: Downloading m3u8 information\n",
      "[info] kjo_qiMWNsA: Downloading 1 format(s): 251\n",
      "[download] Destination: id06948_1_kjo_qiMWNsA_00341\n",
      "[download] 100% of    3.83MiB in 00:00:00 at 7.58MiB/s   \n",
      "[ExtractAudio] Destination: id06948_1_kjo_qiMWNsA_00341.mp3\n",
      "Deleting original file id06948_1_kjo_qiMWNsA_00341 (pass -k to keep)\n",
      "Audio downloaded as id06948_1_kjo_qiMWNsA_00341\n",
      "Trimmed audio saved as ../data/download_df_audio/id06948_1_kjo_qiMWNsA_00341_cut.mp3\n",
      "Speaker: id06963, Video: E5bds9Ziu9c, Txt file: 00032\n",
      "[youtube] Extracting URL: https://www.youtube.com/watch?v=E5bds9Ziu9c\n",
      "[youtube] E5bds9Ziu9c: Downloading webpage\n",
      "[youtube] E5bds9Ziu9c: Downloading tv client config\n",
      "[youtube] E5bds9Ziu9c: Downloading player 5ae7d525\n",
      "[youtube] E5bds9Ziu9c: Downloading tv player API JSON\n",
      "[youtube] E5bds9Ziu9c: Downloading ios player API JSON\n",
      "[youtube] E5bds9Ziu9c: Downloading m3u8 information\n",
      "[info] E5bds9Ziu9c: Downloading 1 format(s): 251\n",
      "[download] Destination: id06963_0_E5bds9Ziu9c_00032\n",
      "[download] 100% of    5.14MiB in 00:00:01 at 2.87MiB/s   \n",
      "[ExtractAudio] Destination: id06963_0_E5bds9Ziu9c_00032.mp3\n",
      "Deleting original file id06963_0_E5bds9Ziu9c_00032 (pass -k to keep)\n",
      "Audio downloaded as id06963_0_E5bds9Ziu9c_00032\n",
      "Trimmed audio saved as ../data/download_df_audio/id06963_0_E5bds9Ziu9c_00032_cut.mp3\n",
      "Speaker: id06963, Video: xfHdHoYAdKY, Txt file: 00319\n"
     ]
    },
    {
     "name": "stderr",
     "output_type": "stream",
     "text": [
      "ERROR: [youtube] xfHdHoYAdKY: Private video. Sign in if you've been granted access to this video. Use --cookies-from-browser or --cookies for the authentication. See  https://github.com/yt-dlp/yt-dlp/wiki/FAQ#how-do-i-pass-cookies-to-yt-dlp  for how to manually pass cookies. Also see  https://github.com/yt-dlp/yt-dlp/wiki/Extractors#exporting-youtube-cookies  for tips on effectively exporting YouTube cookies\n"
     ]
    },
    {
     "name": "stdout",
     "output_type": "stream",
     "text": [
      "Speaker: id06963, Video: ns_lUd6Dp1Q, Txt file: 00212\n",
      "[youtube] Extracting URL: https://www.youtube.com/watch?v=ns_lUd6Dp1Q\n",
      "[youtube] ns_lUd6Dp1Q: Downloading webpage\n",
      "[youtube] ns_lUd6Dp1Q: Downloading tv client config\n",
      "[youtube] ns_lUd6Dp1Q: Downloading player 5ae7d525\n",
      "[youtube] ns_lUd6Dp1Q: Downloading tv player API JSON\n",
      "[youtube] ns_lUd6Dp1Q: Downloading ios player API JSON\n",
      "[youtube] ns_lUd6Dp1Q: Downloading m3u8 information\n",
      "[info] ns_lUd6Dp1Q: Downloading 1 format(s): 140\n",
      "[download] Destination: id06963_1_ns_lUd6Dp1Q_00212\n",
      "[download] 100% of    5.69MiB in 00:00:02 at 2.83MiB/s   \n",
      "[FixupM4a] Correcting container of \"id06963_1_ns_lUd6Dp1Q_00212\"\n",
      "[ExtractAudio] Destination: id06963_1_ns_lUd6Dp1Q_00212.mp3\n",
      "Deleting original file id06963_1_ns_lUd6Dp1Q_00212 (pass -k to keep)\n",
      "Audio downloaded as id06963_1_ns_lUd6Dp1Q_00212\n",
      "Trimmed audio saved as ../data/download_df_audio/id06963_1_ns_lUd6Dp1Q_00212_cut.mp3\n",
      "Speaker: id06983, Video: HY0wlAsc_7M, Txt file: 00104\n",
      "[youtube] Extracting URL: https://www.youtube.com/watch?v=HY0wlAsc_7M\n",
      "[youtube] HY0wlAsc_7M: Downloading webpage\n",
      "[youtube] HY0wlAsc_7M: Downloading tv client config\n",
      "[youtube] HY0wlAsc_7M: Downloading player 5ae7d525\n",
      "[youtube] HY0wlAsc_7M: Downloading tv player API JSON\n",
      "[youtube] HY0wlAsc_7M: Downloading ios player API JSON\n",
      "[youtube] HY0wlAsc_7M: Downloading m3u8 information\n",
      "[info] HY0wlAsc_7M: Downloading 1 format(s): 140\n",
      "[download] Destination: id06983_0_HY0wlAsc_7M_00104\n",
      "[download] 100% of   22.31MiB in 00:00:01 at 11.29MiB/s    \n",
      "[FixupM4a] Correcting container of \"id06983_0_HY0wlAsc_7M_00104\"\n",
      "[ExtractAudio] Destination: id06983_0_HY0wlAsc_7M_00104.mp3\n",
      "Deleting original file id06983_0_HY0wlAsc_7M_00104 (pass -k to keep)\n",
      "Audio downloaded as id06983_0_HY0wlAsc_7M_00104\n",
      "Trimmed audio saved as ../data/download_df_audio/id06983_0_HY0wlAsc_7M_00104_cut.mp3\n",
      "Speaker: id06983, Video: akdnHpZdyEs, Txt file: 00157\n",
      "[youtube] Extracting URL: https://www.youtube.com/watch?v=akdnHpZdyEs\n",
      "[youtube] akdnHpZdyEs: Downloading webpage\n",
      "[youtube] akdnHpZdyEs: Downloading tv client config\n",
      "[youtube] akdnHpZdyEs: Downloading player 5ae7d525\n",
      "[youtube] akdnHpZdyEs: Downloading tv player API JSON\n",
      "[youtube] akdnHpZdyEs: Downloading ios player API JSON\n",
      "[youtube] akdnHpZdyEs: Downloading m3u8 information\n",
      "[info] akdnHpZdyEs: Downloading 1 format(s): 251\n",
      "[download] Destination: id06983_1_akdnHpZdyEs_00157\n",
      "[download] 100% of    1.92MiB in 00:00:00 at 6.00MiB/s   \n",
      "[ExtractAudio] Destination: id06983_1_akdnHpZdyEs_00157.mp3\n",
      "Deleting original file id06983_1_akdnHpZdyEs_00157 (pass -k to keep)\n",
      "Audio downloaded as id06983_1_akdnHpZdyEs_00157\n",
      "Trimmed audio saved as ../data/download_df_audio/id06983_1_akdnHpZdyEs_00157_cut.mp3\n",
      "Speaker: id07058, Video: e0NbVjMqQs0, Txt file: 00024\n",
      "[youtube] Extracting URL: https://www.youtube.com/watch?v=e0NbVjMqQs0\n",
      "[youtube] e0NbVjMqQs0: Downloading webpage\n",
      "[youtube] e0NbVjMqQs0: Downloading tv client config\n",
      "[youtube] e0NbVjMqQs0: Downloading player 5ae7d525\n",
      "[youtube] e0NbVjMqQs0: Downloading tv player API JSON\n",
      "[youtube] e0NbVjMqQs0: Downloading ios player API JSON\n",
      "[youtube] e0NbVjMqQs0: Downloading m3u8 information\n",
      "[info] e0NbVjMqQs0: Downloading 1 format(s): 251\n",
      "[download] Destination: id07058_0_e0NbVjMqQs0_00024\n",
      "[download] 100% of    4.45MiB in 00:00:00 at 7.21MiB/s   \n",
      "[ExtractAudio] Destination: id07058_0_e0NbVjMqQs0_00024.mp3\n",
      "Deleting original file id07058_0_e0NbVjMqQs0_00024 (pass -k to keep)\n",
      "Audio downloaded as id07058_0_e0NbVjMqQs0_00024\n",
      "Trimmed audio saved as ../data/download_df_audio/id07058_0_e0NbVjMqQs0_00024_cut.mp3\n",
      "Speaker: id07058, Video: 7lzn4KuSP4w, Txt file: 00004\n",
      "[youtube] Extracting URL: https://www.youtube.com/watch?v=7lzn4KuSP4w\n",
      "[youtube] 7lzn4KuSP4w: Downloading webpage\n",
      "[youtube] 7lzn4KuSP4w: Downloading tv client config\n",
      "[youtube] 7lzn4KuSP4w: Downloading player 5ae7d525\n",
      "[youtube] 7lzn4KuSP4w: Downloading tv player API JSON\n",
      "[youtube] 7lzn4KuSP4w: Downloading ios player API JSON\n",
      "[youtube] 7lzn4KuSP4w: Downloading m3u8 information\n",
      "[info] 7lzn4KuSP4w: Downloading 1 format(s): 251\n",
      "[download] Destination: id07058_1_7lzn4KuSP4w_00004\n",
      "[download] 100% of    9.47MiB in 00:00:02 at 3.99MiB/s     \n",
      "[ExtractAudio] Destination: id07058_1_7lzn4KuSP4w_00004.mp3\n",
      "Deleting original file id07058_1_7lzn4KuSP4w_00004 (pass -k to keep)\n",
      "Audio downloaded as id07058_1_7lzn4KuSP4w_00004\n",
      "Trimmed audio saved as ../data/download_df_audio/id07058_1_7lzn4KuSP4w_00004_cut.mp3\n",
      "Speaker: id07076, Video: aB79iDqe1QI, Txt file: 00125\n",
      "[youtube] Extracting URL: https://www.youtube.com/watch?v=aB79iDqe1QI\n",
      "[youtube] aB79iDqe1QI: Downloading webpage\n",
      "[youtube] aB79iDqe1QI: Downloading tv client config\n",
      "[youtube] aB79iDqe1QI: Downloading player 5ae7d525\n",
      "[youtube] aB79iDqe1QI: Downloading tv player API JSON\n",
      "[youtube] aB79iDqe1QI: Downloading ios player API JSON\n",
      "[youtube] aB79iDqe1QI: Downloading m3u8 information\n",
      "[info] aB79iDqe1QI: Downloading 1 format(s): 251\n",
      "[download] Destination: id07076_0_aB79iDqe1QI_00125\n",
      "[download] 100% of    5.72MiB in 00:00:00 at 7.36MiB/s   \n",
      "[ExtractAudio] Destination: id07076_0_aB79iDqe1QI_00125.mp3\n",
      "Deleting original file id07076_0_aB79iDqe1QI_00125 (pass -k to keep)\n",
      "Audio downloaded as id07076_0_aB79iDqe1QI_00125\n",
      "Trimmed audio saved as ../data/download_df_audio/id07076_0_aB79iDqe1QI_00125_cut.mp3\n",
      "Speaker: id07076, Video: KEJu0tKZUuM, Txt file: 00061\n",
      "[youtube] Extracting URL: https://www.youtube.com/watch?v=KEJu0tKZUuM\n",
      "[youtube] KEJu0tKZUuM: Downloading webpage\n",
      "[youtube] KEJu0tKZUuM: Downloading tv client config\n",
      "[youtube] KEJu0tKZUuM: Downloading player 5ae7d525\n",
      "[youtube] KEJu0tKZUuM: Downloading tv player API JSON\n",
      "[youtube] KEJu0tKZUuM: Downloading ios player API JSON\n",
      "[youtube] KEJu0tKZUuM: Downloading m3u8 information\n",
      "[info] KEJu0tKZUuM: Downloading 1 format(s): 251\n",
      "[download] Destination: id07076_1_KEJu0tKZUuM_00061\n",
      "[download] 100% of    3.90MiB in 00:00:01 at 2.86MiB/s     \n",
      "[ExtractAudio] Destination: id07076_1_KEJu0tKZUuM_00061.mp3\n",
      "Deleting original file id07076_1_KEJu0tKZUuM_00061 (pass -k to keep)\n",
      "Audio downloaded as id07076_1_KEJu0tKZUuM_00061\n",
      "Trimmed audio saved as ../data/download_df_audio/id07076_1_KEJu0tKZUuM_00061_cut.mp3\n",
      "Speaker: id07130, Video: MneLoGUqMls, Txt file: 00151\n",
      "[youtube] Extracting URL: https://www.youtube.com/watch?v=MneLoGUqMls\n",
      "[youtube] MneLoGUqMls: Downloading webpage\n",
      "[youtube] MneLoGUqMls: Downloading tv client config\n",
      "[youtube] MneLoGUqMls: Downloading player 5ae7d525\n",
      "[youtube] MneLoGUqMls: Downloading tv player API JSON\n",
      "[youtube] MneLoGUqMls: Downloading ios player API JSON\n",
      "[youtube] MneLoGUqMls: Downloading m3u8 information\n",
      "[info] MneLoGUqMls: Downloading 1 format(s): 140\n",
      "[download] Destination: id07130_0_MneLoGUqMls_00151\n",
      "[download] 100% of    3.28MiB in 00:00:00 at 4.28MiB/s   \n",
      "[FixupM4a] Correcting container of \"id07130_0_MneLoGUqMls_00151\"\n",
      "[ExtractAudio] Destination: id07130_0_MneLoGUqMls_00151.mp3\n",
      "Deleting original file id07130_0_MneLoGUqMls_00151 (pass -k to keep)\n",
      "Audio downloaded as id07130_0_MneLoGUqMls_00151\n",
      "Trimmed audio saved as ../data/download_df_audio/id07130_0_MneLoGUqMls_00151_cut.mp3\n",
      "Speaker: id07130, Video: ftLbSez_bvY, Txt file: 00312\n",
      "[youtube] Extracting URL: https://www.youtube.com/watch?v=ftLbSez_bvY\n",
      "[youtube] ftLbSez_bvY: Downloading webpage\n",
      "[youtube] ftLbSez_bvY: Downloading tv client config\n",
      "[youtube] ftLbSez_bvY: Downloading player 5ae7d525\n",
      "[youtube] ftLbSez_bvY: Downloading tv player API JSON\n",
      "[youtube] ftLbSez_bvY: Downloading ios player API JSON\n",
      "[youtube] ftLbSez_bvY: Downloading m3u8 information\n",
      "[info] ftLbSez_bvY: Downloading 1 format(s): 140\n",
      "[download] Destination: id07130_1_ftLbSez_bvY_00312\n",
      "[download] 100% of    5.26MiB in 00:00:00 at 5.69MiB/s   \n",
      "[FixupM4a] Correcting container of \"id07130_1_ftLbSez_bvY_00312\"\n",
      "[ExtractAudio] Destination: id07130_1_ftLbSez_bvY_00312.mp3\n",
      "Deleting original file id07130_1_ftLbSez_bvY_00312 (pass -k to keep)\n",
      "Audio downloaded as id07130_1_ftLbSez_bvY_00312\n",
      "Trimmed audio saved as ../data/download_df_audio/id07130_1_ftLbSez_bvY_00312_cut.mp3\n",
      "Speaker: id07230, Video: AIieb-GQeRc, Txt file: 00030\n",
      "[youtube] Extracting URL: https://www.youtube.com/watch?v=AIieb-GQeRc\n",
      "[youtube] AIieb-GQeRc: Downloading webpage\n",
      "[youtube] AIieb-GQeRc: Downloading tv client config\n",
      "[youtube] AIieb-GQeRc: Downloading player 5ae7d525\n",
      "[youtube] AIieb-GQeRc: Downloading tv player API JSON\n",
      "[youtube] AIieb-GQeRc: Downloading ios player API JSON\n",
      "[youtube] AIieb-GQeRc: Downloading m3u8 information\n",
      "[info] AIieb-GQeRc: Downloading 1 format(s): 251\n",
      "[download] Destination: id07230_0_AIieb-GQeRc_00030\n",
      "[download] 100% of    3.39MiB in 00:00:00 at 6.02MiB/s   \n",
      "[ExtractAudio] Destination: id07230_0_AIieb-GQeRc_00030.mp3\n",
      "Deleting original file id07230_0_AIieb-GQeRc_00030 (pass -k to keep)\n",
      "Audio downloaded as id07230_0_AIieb-GQeRc_00030\n",
      "Trimmed audio saved as ../data/download_df_audio/id07230_0_AIieb-GQeRc_00030_cut.mp3\n",
      "Speaker: id07230, Video: h-iZhunjM0o, Txt file: 00077\n",
      "[youtube] Extracting URL: https://www.youtube.com/watch?v=h-iZhunjM0o\n",
      "[youtube] h-iZhunjM0o: Downloading webpage\n",
      "[youtube] h-iZhunjM0o: Downloading tv client config\n",
      "[youtube] h-iZhunjM0o: Downloading player 5ae7d525\n",
      "[youtube] h-iZhunjM0o: Downloading tv player API JSON\n",
      "[youtube] h-iZhunjM0o: Downloading ios player API JSON\n",
      "[youtube] h-iZhunjM0o: Downloading m3u8 information\n",
      "[info] h-iZhunjM0o: Downloading 1 format(s): 251\n",
      "[download] Destination: id07230_1_h-iZhunjM0o_00077\n",
      "[download] 100% of    2.43MiB in 00:00:01 at 2.22MiB/s   \n",
      "[ExtractAudio] Destination: id07230_1_h-iZhunjM0o_00077.mp3\n",
      "Deleting original file id07230_1_h-iZhunjM0o_00077 (pass -k to keep)\n",
      "Audio downloaded as id07230_1_h-iZhunjM0o_00077\n",
      "Trimmed audio saved as ../data/download_df_audio/id07230_1_h-iZhunjM0o_00077_cut.mp3\n",
      "Speaker: id07233, Video: xTDGjZnQCiI, Txt file: 00021\n",
      "[youtube] Extracting URL: https://www.youtube.com/watch?v=xTDGjZnQCiI\n",
      "[youtube] xTDGjZnQCiI: Downloading webpage\n",
      "[youtube] xTDGjZnQCiI: Downloading tv client config\n",
      "[youtube] xTDGjZnQCiI: Downloading player 5ae7d525\n",
      "[youtube] xTDGjZnQCiI: Downloading tv player API JSON\n",
      "[youtube] xTDGjZnQCiI: Downloading ios player API JSON\n",
      "[youtube] xTDGjZnQCiI: Downloading m3u8 information\n",
      "[info] xTDGjZnQCiI: Downloading 1 format(s): 251\n",
      "[download] Destination: id07233_0_xTDGjZnQCiI_00021\n",
      "[download] 100% of   19.58MiB in 00:00:02 at 6.62MiB/s     \n",
      "[ExtractAudio] Destination: id07233_0_xTDGjZnQCiI_00021.mp3\n",
      "Deleting original file id07233_0_xTDGjZnQCiI_00021 (pass -k to keep)\n",
      "Audio downloaded as id07233_0_xTDGjZnQCiI_00021\n",
      "Trimmed audio saved as ../data/download_df_audio/id07233_0_xTDGjZnQCiI_00021_cut.mp3\n",
      "Speaker: id07233, Video: AVScVfLgNmw, Txt file: 00009\n",
      "[youtube] Extracting URL: https://www.youtube.com/watch?v=AVScVfLgNmw\n",
      "[youtube] AVScVfLgNmw: Downloading webpage\n",
      "[youtube] AVScVfLgNmw: Downloading tv client config\n",
      "[youtube] AVScVfLgNmw: Downloading player 5ae7d525\n",
      "[youtube] AVScVfLgNmw: Downloading tv player API JSON\n",
      "[youtube] AVScVfLgNmw: Downloading ios player API JSON\n",
      "[youtube] AVScVfLgNmw: Downloading m3u8 information\n",
      "[info] AVScVfLgNmw: Downloading 1 format(s): 251\n",
      "[download] Destination: id07233_1_AVScVfLgNmw_00009\n",
      "[download] 100% of    9.98MiB in 00:00:02 at 3.62MiB/s     \n",
      "[ExtractAudio] Destination: id07233_1_AVScVfLgNmw_00009.mp3\n",
      "Deleting original file id07233_1_AVScVfLgNmw_00009 (pass -k to keep)\n",
      "Audio downloaded as id07233_1_AVScVfLgNmw_00009\n",
      "Trimmed audio saved as ../data/download_df_audio/id07233_1_AVScVfLgNmw_00009_cut.mp3\n",
      "Speaker: id07342, Video: 9P3W0LhSH5c, Txt file: 00128\n"
     ]
    },
    {
     "name": "stderr",
     "output_type": "stream",
     "text": [
      "ERROR: [youtube] 9P3W0LhSH5c: Video unavailable. This video is no longer available because the YouTube account associated with this video has been terminated.\n"
     ]
    },
    {
     "name": "stdout",
     "output_type": "stream",
     "text": [
      "Speaker: id07342, Video: 7cj29U9XonU, Txt file: 00062\n",
      "[youtube] Extracting URL: https://www.youtube.com/watch?v=7cj29U9XonU\n",
      "[youtube] 7cj29U9XonU: Downloading webpage\n",
      "[youtube] 7cj29U9XonU: Downloading tv client config\n",
      "[youtube] 7cj29U9XonU: Downloading player 5ae7d525\n",
      "[youtube] 7cj29U9XonU: Downloading tv player API JSON\n",
      "[youtube] 7cj29U9XonU: Downloading ios player API JSON\n",
      "[youtube] 7cj29U9XonU: Downloading m3u8 information\n",
      "[info] 7cj29U9XonU: Downloading 1 format(s): 140\n",
      "[download] Destination: id07342_0_7cj29U9XonU_00062\n",
      "[download] 100% of    5.78MiB in 00:00:01 at 5.01MiB/s   \n",
      "[FixupM4a] Correcting container of \"id07342_0_7cj29U9XonU_00062\"\n",
      "[ExtractAudio] Destination: id07342_0_7cj29U9XonU_00062.mp3\n",
      "Deleting original file id07342_0_7cj29U9XonU_00062 (pass -k to keep)\n",
      "Audio downloaded as id07342_0_7cj29U9XonU_00062\n",
      "Trimmed audio saved as ../data/download_df_audio/id07342_0_7cj29U9XonU_00062_cut.mp3\n",
      "Speaker: id07342, Video: Zy38gZs5wzE, Txt file: 00262\n",
      "[youtube] Extracting URL: https://www.youtube.com/watch?v=Zy38gZs5wzE\n",
      "[youtube] Zy38gZs5wzE: Downloading webpage\n",
      "[youtube] Zy38gZs5wzE: Downloading tv client config\n",
      "[youtube] Zy38gZs5wzE: Downloading player 5ae7d525\n",
      "[youtube] Zy38gZs5wzE: Downloading tv player API JSON\n",
      "[youtube] Zy38gZs5wzE: Downloading ios player API JSON\n",
      "[youtube] Zy38gZs5wzE: Downloading m3u8 information\n",
      "[info] Zy38gZs5wzE: Downloading 1 format(s): 251\n",
      "[download] Destination: id07342_1_Zy38gZs5wzE_00262\n",
      "[download] 100% of    9.24MiB in 00:00:01 at 6.27MiB/s   \n",
      "[ExtractAudio] Destination: id07342_1_Zy38gZs5wzE_00262.mp3\n",
      "Deleting original file id07342_1_Zy38gZs5wzE_00262 (pass -k to keep)\n",
      "Audio downloaded as id07342_1_Zy38gZs5wzE_00262\n",
      "Trimmed audio saved as ../data/download_df_audio/id07342_1_Zy38gZs5wzE_00262_cut.mp3\n",
      "Speaker: id07392, Video: c2mX7WNXTRk, Txt file: 00033\n",
      "[youtube] Extracting URL: https://www.youtube.com/watch?v=c2mX7WNXTRk\n",
      "[youtube] c2mX7WNXTRk: Downloading webpage\n",
      "[youtube] c2mX7WNXTRk: Downloading tv client config\n",
      "[youtube] c2mX7WNXTRk: Downloading player 5ae7d525\n",
      "[youtube] c2mX7WNXTRk: Downloading tv player API JSON\n",
      "[youtube] c2mX7WNXTRk: Downloading ios player API JSON\n",
      "[youtube] c2mX7WNXTRk: Downloading m3u8 information\n",
      "[info] c2mX7WNXTRk: Downloading 1 format(s): 251\n",
      "[download] Destination: id07392_0_c2mX7WNXTRk_00033\n",
      "[download] 100% of    3.14MiB in 00:00:00 at 6.04MiB/s   \n",
      "[ExtractAudio] Destination: id07392_0_c2mX7WNXTRk_00033.mp3\n",
      "Deleting original file id07392_0_c2mX7WNXTRk_00033 (pass -k to keep)\n",
      "Audio downloaded as id07392_0_c2mX7WNXTRk_00033\n",
      "Trimmed audio saved as ../data/download_df_audio/id07392_0_c2mX7WNXTRk_00033_cut.mp3\n",
      "Speaker: id07392, Video: fi9oQTMrMIU, Txt file: 00040\n"
     ]
    },
    {
     "name": "stderr",
     "output_type": "stream",
     "text": [
      "ERROR: [youtube] fi9oQTMrMIU: Video unavailable\n"
     ]
    },
    {
     "name": "stdout",
     "output_type": "stream",
     "text": [
      "Speaker: id07392, Video: 5NEy2DyHXAI, Txt file: 00003\n",
      "[youtube] Extracting URL: https://www.youtube.com/watch?v=5NEy2DyHXAI\n",
      "[youtube] 5NEy2DyHXAI: Downloading webpage\n",
      "[youtube] 5NEy2DyHXAI: Downloading tv client config\n",
      "[youtube] 5NEy2DyHXAI: Downloading player 5ae7d525\n",
      "[youtube] 5NEy2DyHXAI: Downloading tv player API JSON\n",
      "[youtube] 5NEy2DyHXAI: Downloading ios player API JSON\n",
      "[youtube] 5NEy2DyHXAI: Downloading m3u8 information\n",
      "[info] 5NEy2DyHXAI: Downloading 1 format(s): 251\n",
      "[download] Destination: id07392_1_5NEy2DyHXAI_00003\n",
      "[download] 100% of    2.02MiB in 00:00:00 at 3.41MiB/s   \n",
      "[ExtractAudio] Destination: id07392_1_5NEy2DyHXAI_00003.mp3\n",
      "Deleting original file id07392_1_5NEy2DyHXAI_00003 (pass -k to keep)\n",
      "Audio downloaded as id07392_1_5NEy2DyHXAI_00003\n",
      "Trimmed audio saved as ../data/download_df_audio/id07392_1_5NEy2DyHXAI_00003_cut.mp3\n",
      "Speaker: id07400, Video: hqSbktZvuzg, Txt file: 00317\n",
      "[youtube] Extracting URL: https://www.youtube.com/watch?v=hqSbktZvuzg\n",
      "[youtube] hqSbktZvuzg: Downloading webpage\n",
      "[youtube] hqSbktZvuzg: Downloading tv client config\n",
      "[youtube] hqSbktZvuzg: Downloading player 5ae7d525\n",
      "[youtube] hqSbktZvuzg: Downloading tv player API JSON\n",
      "[youtube] hqSbktZvuzg: Downloading ios player API JSON\n",
      "[youtube] hqSbktZvuzg: Downloading m3u8 information\n",
      "[info] hqSbktZvuzg: Downloading 1 format(s): 140\n",
      "[download] Destination: id07400_0_hqSbktZvuzg_00317\n",
      "[download] 100% of    4.01MiB in 00:00:01 at 2.06MiB/s   \n",
      "[FixupM4a] Correcting container of \"id07400_0_hqSbktZvuzg_00317\"\n",
      "[ExtractAudio] Destination: id07400_0_hqSbktZvuzg_00317.mp3\n",
      "Deleting original file id07400_0_hqSbktZvuzg_00317 (pass -k to keep)\n",
      "Audio downloaded as id07400_0_hqSbktZvuzg_00317\n",
      "Trimmed audio saved as ../data/download_df_audio/id07400_0_hqSbktZvuzg_00317_cut.mp3\n",
      "Speaker: id07400, Video: xD1Kgs7PBhU, Txt file: 00452\n",
      "[youtube] Extracting URL: https://www.youtube.com/watch?v=xD1Kgs7PBhU\n",
      "[youtube] xD1Kgs7PBhU: Downloading webpage\n",
      "[youtube] xD1Kgs7PBhU: Downloading tv client config\n",
      "[youtube] xD1Kgs7PBhU: Downloading player 5ae7d525\n",
      "[youtube] xD1Kgs7PBhU: Downloading tv player API JSON\n",
      "[youtube] xD1Kgs7PBhU: Downloading ios player API JSON\n",
      "[youtube] xD1Kgs7PBhU: Downloading m3u8 information\n",
      "[info] xD1Kgs7PBhU: Downloading 1 format(s): 140\n",
      "[download] Destination: id07400_1_xD1Kgs7PBhU_00452\n",
      "[download] 100% of    4.22MiB in 00:00:00 at 5.48MiB/s   \n",
      "[FixupM4a] Correcting container of \"id07400_1_xD1Kgs7PBhU_00452\"\n",
      "[ExtractAudio] Destination: id07400_1_xD1Kgs7PBhU_00452.mp3\n",
      "Deleting original file id07400_1_xD1Kgs7PBhU_00452 (pass -k to keep)\n",
      "Audio downloaded as id07400_1_xD1Kgs7PBhU_00452\n",
      "Trimmed audio saved as ../data/download_df_audio/id07400_1_xD1Kgs7PBhU_00452_cut.mp3\n",
      "Speaker: id07401, Video: mqImu-E9AFo, Txt file: 00052\n",
      "[youtube] Extracting URL: https://www.youtube.com/watch?v=mqImu-E9AFo\n",
      "[youtube] mqImu-E9AFo: Downloading webpage\n",
      "[youtube] mqImu-E9AFo: Downloading tv client config\n",
      "[youtube] mqImu-E9AFo: Downloading player 5ae7d525\n",
      "[youtube] mqImu-E9AFo: Downloading tv player API JSON\n",
      "[youtube] mqImu-E9AFo: Downloading ios player API JSON\n",
      "[youtube] mqImu-E9AFo: Downloading m3u8 information\n",
      "[info] mqImu-E9AFo: Downloading 1 format(s): 140\n",
      "[download] Destination: id07401_0_mqImu-E9AFo_00052\n",
      "[download] 100% of    2.67MiB in 00:00:01 at 2.10MiB/s   \n",
      "[FixupM4a] Correcting container of \"id07401_0_mqImu-E9AFo_00052\"\n",
      "[ExtractAudio] Destination: id07401_0_mqImu-E9AFo_00052.mp3\n",
      "Deleting original file id07401_0_mqImu-E9AFo_00052 (pass -k to keep)\n",
      "Audio downloaded as id07401_0_mqImu-E9AFo_00052\n",
      "Trimmed audio saved as ../data/download_df_audio/id07401_0_mqImu-E9AFo_00052_cut.mp3\n",
      "Speaker: id07401, Video: P_pFhmUyYGQ, Txt file: 00021\n",
      "[youtube] Extracting URL: https://www.youtube.com/watch?v=P_pFhmUyYGQ\n",
      "[youtube] P_pFhmUyYGQ: Downloading webpage\n",
      "[youtube] P_pFhmUyYGQ: Downloading tv client config\n",
      "[youtube] P_pFhmUyYGQ: Downloading player 5ae7d525\n",
      "[youtube] P_pFhmUyYGQ: Downloading tv player API JSON\n",
      "[youtube] P_pFhmUyYGQ: Downloading ios player API JSON\n",
      "[youtube] P_pFhmUyYGQ: Downloading m3u8 information\n",
      "[info] P_pFhmUyYGQ: Downloading 1 format(s): 251\n",
      "[download] Destination: id07401_1_P_pFhmUyYGQ_00021\n",
      "[download] 100% of  998.41KiB in 00:00:00 at 1.89MiB/s   \n",
      "[ExtractAudio] Destination: id07401_1_P_pFhmUyYGQ_00021.mp3\n",
      "Deleting original file id07401_1_P_pFhmUyYGQ_00021 (pass -k to keep)\n",
      "Audio downloaded as id07401_1_P_pFhmUyYGQ_00021\n",
      "Trimmed audio saved as ../data/download_df_audio/id07401_1_P_pFhmUyYGQ_00021_cut.mp3\n",
      "Speaker: id07403, Video: y10L_903Muk, Txt file: 00198\n",
      "[youtube] Extracting URL: https://www.youtube.com/watch?v=y10L_903Muk\n",
      "[youtube] y10L_903Muk: Downloading webpage\n",
      "[youtube] y10L_903Muk: Downloading tv client config\n",
      "[youtube] y10L_903Muk: Downloading player 5ae7d525\n",
      "[youtube] y10L_903Muk: Downloading tv player API JSON\n",
      "[youtube] y10L_903Muk: Downloading ios player API JSON\n",
      "[youtube] y10L_903Muk: Downloading m3u8 information\n",
      "[info] y10L_903Muk: Downloading 1 format(s): 251\n",
      "[download] Destination: id07403_0_y10L_903Muk_00198\n",
      "[download] 100% of    4.95MiB in 00:00:00 at 7.55MiB/s   \n",
      "[ExtractAudio] Destination: id07403_0_y10L_903Muk_00198.mp3\n",
      "Deleting original file id07403_0_y10L_903Muk_00198 (pass -k to keep)\n",
      "Audio downloaded as id07403_0_y10L_903Muk_00198\n",
      "Trimmed audio saved as ../data/download_df_audio/id07403_0_y10L_903Muk_00198_cut.mp3\n",
      "Speaker: id07403, Video: YjEkvzOa5V8, Txt file: 00088\n",
      "[youtube] Extracting URL: https://www.youtube.com/watch?v=YjEkvzOa5V8\n",
      "[youtube] YjEkvzOa5V8: Downloading webpage\n",
      "[youtube] YjEkvzOa5V8: Downloading tv client config\n",
      "[youtube] YjEkvzOa5V8: Downloading player 5ae7d525\n",
      "[youtube] YjEkvzOa5V8: Downloading tv player API JSON\n",
      "[youtube] YjEkvzOa5V8: Downloading ios player API JSON\n",
      "[youtube] YjEkvzOa5V8: Downloading m3u8 information\n",
      "[info] YjEkvzOa5V8: Downloading 1 format(s): 140\n",
      "[download] Destination: id07403_1_YjEkvzOa5V8_00088\n",
      "[download] 100% of    9.95MiB in 00:00:01 at 5.24MiB/s     \n",
      "[FixupM4a] Correcting container of \"id07403_1_YjEkvzOa5V8_00088\"\n",
      "[ExtractAudio] Destination: id07403_1_YjEkvzOa5V8_00088.mp3\n",
      "Deleting original file id07403_1_YjEkvzOa5V8_00088 (pass -k to keep)\n",
      "Audio downloaded as id07403_1_YjEkvzOa5V8_00088\n",
      "Trimmed audio saved as ../data/download_df_audio/id07403_1_YjEkvzOa5V8_00088_cut.mp3\n",
      "Speaker: id07413, Video: FJ7iPn39i08, Txt file: 00073\n",
      "[youtube] Extracting URL: https://www.youtube.com/watch?v=FJ7iPn39i08\n",
      "[youtube] FJ7iPn39i08: Downloading webpage\n",
      "[youtube] FJ7iPn39i08: Downloading tv client config\n",
      "[youtube] FJ7iPn39i08: Downloading player 5ae7d525\n",
      "[youtube] FJ7iPn39i08: Downloading tv player API JSON\n",
      "[youtube] FJ7iPn39i08: Downloading ios player API JSON\n",
      "[youtube] FJ7iPn39i08: Downloading m3u8 information\n",
      "[info] FJ7iPn39i08: Downloading 1 format(s): 251\n",
      "[download] Destination: id07413_0_FJ7iPn39i08_00073\n",
      "[download] 100% of    7.32MiB in 00:00:00 at 11.35MiB/s  \n",
      "[ExtractAudio] Destination: id07413_0_FJ7iPn39i08_00073.mp3\n",
      "Deleting original file id07413_0_FJ7iPn39i08_00073 (pass -k to keep)\n",
      "Audio downloaded as id07413_0_FJ7iPn39i08_00073\n",
      "Trimmed audio saved as ../data/download_df_audio/id07413_0_FJ7iPn39i08_00073_cut.mp3\n",
      "Speaker: id07413, Video: EOi-3v1Edys, Txt file: 00055\n",
      "[youtube] Extracting URL: https://www.youtube.com/watch?v=EOi-3v1Edys\n",
      "[youtube] EOi-3v1Edys: Downloading webpage\n",
      "[youtube] EOi-3v1Edys: Downloading tv client config\n",
      "[youtube] EOi-3v1Edys: Downloading player 5ae7d525\n",
      "[youtube] EOi-3v1Edys: Downloading tv player API JSON\n",
      "[youtube] EOi-3v1Edys: Downloading ios player API JSON\n",
      "[youtube] EOi-3v1Edys: Downloading m3u8 information\n",
      "[info] EOi-3v1Edys: Downloading 1 format(s): 251\n",
      "[download] Destination: id07413_1_EOi-3v1Edys_00055\n",
      "[download] 100% of    2.93MiB in 00:00:00 at 5.17MiB/s   \n",
      "[ExtractAudio] Destination: id07413_1_EOi-3v1Edys_00055.mp3\n",
      "Deleting original file id07413_1_EOi-3v1Edys_00055 (pass -k to keep)\n",
      "Audio downloaded as id07413_1_EOi-3v1Edys_00055\n",
      "Trimmed audio saved as ../data/download_df_audio/id07413_1_EOi-3v1Edys_00055_cut.mp3\n",
      "Speaker: id07429, Video: b07jc3SAY-E, Txt file: 00280\n"
     ]
    },
    {
     "name": "stderr",
     "output_type": "stream",
     "text": [
      "ERROR: [youtube] b07jc3SAY-E: Video unavailable\n"
     ]
    },
    {
     "name": "stdout",
     "output_type": "stream",
     "text": [
      "Speaker: id07429, Video: DSQ2C9ER1vw, Txt file: 00120\n",
      "[youtube] Extracting URL: https://www.youtube.com/watch?v=DSQ2C9ER1vw\n",
      "[youtube] DSQ2C9ER1vw: Downloading webpage\n",
      "[youtube] DSQ2C9ER1vw: Downloading tv client config\n",
      "[youtube] DSQ2C9ER1vw: Downloading player 5ae7d525\n",
      "[youtube] DSQ2C9ER1vw: Downloading tv player API JSON\n",
      "[youtube] DSQ2C9ER1vw: Downloading ios player API JSON\n",
      "[youtube] DSQ2C9ER1vw: Downloading m3u8 information\n",
      "[info] DSQ2C9ER1vw: Downloading 1 format(s): 251\n",
      "[download] Destination: id07429_0_DSQ2C9ER1vw_00120\n",
      "[download] 100% of    2.39MiB in 00:00:00 at 4.55MiB/s   \n",
      "[ExtractAudio] Destination: id07429_0_DSQ2C9ER1vw_00120.mp3\n",
      "Deleting original file id07429_0_DSQ2C9ER1vw_00120 (pass -k to keep)\n",
      "Audio downloaded as id07429_0_DSQ2C9ER1vw_00120\n",
      "Trimmed audio saved as ../data/download_df_audio/id07429_0_DSQ2C9ER1vw_00120_cut.mp3\n",
      "Speaker: id07429, Video: b07jc3SAY-E, Txt file: 00284\n"
     ]
    },
    {
     "name": "stderr",
     "output_type": "stream",
     "text": [
      "ERROR: [youtube] b07jc3SAY-E: Video unavailable\n"
     ]
    },
    {
     "name": "stdout",
     "output_type": "stream",
     "text": [
      "Speaker: id07429, Video: pKwfV7CgXHU, Txt file: 00436\n",
      "[youtube] Extracting URL: https://www.youtube.com/watch?v=pKwfV7CgXHU\n",
      "[youtube] pKwfV7CgXHU: Downloading webpage\n",
      "[youtube] pKwfV7CgXHU: Downloading tv client config\n",
      "[youtube] pKwfV7CgXHU: Downloading player 5ae7d525\n",
      "[youtube] pKwfV7CgXHU: Downloading tv player API JSON\n",
      "[youtube] pKwfV7CgXHU: Downloading ios player API JSON\n",
      "[youtube] pKwfV7CgXHU: Downloading m3u8 information\n",
      "[info] pKwfV7CgXHU: Downloading 1 format(s): 251\n",
      "[download] Destination: id07429_1_pKwfV7CgXHU_00436\n",
      "[download] 100% of    1.25MiB in 00:00:00 at 3.43MiB/s   \n",
      "[ExtractAudio] Destination: id07429_1_pKwfV7CgXHU_00436.mp3\n",
      "Deleting original file id07429_1_pKwfV7CgXHU_00436 (pass -k to keep)\n",
      "Audio downloaded as id07429_1_pKwfV7CgXHU_00436\n",
      "Trimmed audio saved as ../data/download_df_audio/id07429_1_pKwfV7CgXHU_00436_cut.mp3\n",
      "Speaker: id07465, Video: oNtal2dypgs, Txt file: 00188\n",
      "[youtube] Extracting URL: https://www.youtube.com/watch?v=oNtal2dypgs\n",
      "[youtube] oNtal2dypgs: Downloading webpage\n",
      "[youtube] oNtal2dypgs: Downloading tv client config\n",
      "[youtube] oNtal2dypgs: Downloading player 5ae7d525\n",
      "[youtube] oNtal2dypgs: Downloading tv player API JSON\n",
      "[youtube] oNtal2dypgs: Downloading ios player API JSON\n",
      "[youtube] oNtal2dypgs: Downloading m3u8 information\n",
      "[info] oNtal2dypgs: Downloading 1 format(s): 140\n",
      "[download] Destination: id07465_0_oNtal2dypgs_00188\n",
      "[download] 100% of    1.86MiB in 00:00:00 at 4.27MiB/s   \n",
      "[FixupM4a] Correcting container of \"id07465_0_oNtal2dypgs_00188\"\n",
      "[ExtractAudio] Destination: id07465_0_oNtal2dypgs_00188.mp3\n",
      "Deleting original file id07465_0_oNtal2dypgs_00188 (pass -k to keep)\n",
      "Audio downloaded as id07465_0_oNtal2dypgs_00188\n",
      "Trimmed audio saved as ../data/download_df_audio/id07465_0_oNtal2dypgs_00188_cut.mp3\n",
      "Speaker: id07465, Video: EVx_3D927QA, Txt file: 00078\n"
     ]
    },
    {
     "name": "stderr",
     "output_type": "stream",
     "text": [
      "ERROR: [youtube] EVx_3D927QA: Video unavailable\n"
     ]
    },
    {
     "name": "stdout",
     "output_type": "stream",
     "text": [
      "Speaker: id07465, Video: bYzglUbPbq4, Txt file: 00178\n"
     ]
    },
    {
     "name": "stderr",
     "output_type": "stream",
     "text": [
      "ERROR: [youtube] bYzglUbPbq4: Video unavailable. This video is no longer available because the YouTube account associated with this video has been terminated.\n"
     ]
    },
    {
     "name": "stdout",
     "output_type": "stream",
     "text": [
      "Speaker: id07465, Video: O0L681qMR-s, Txt file: 00140\n",
      "[youtube] Extracting URL: https://www.youtube.com/watch?v=O0L681qMR-s\n",
      "[youtube] O0L681qMR-s: Downloading webpage\n",
      "[youtube] O0L681qMR-s: Downloading tv client config\n",
      "[youtube] O0L681qMR-s: Downloading player 5ae7d525\n",
      "[youtube] O0L681qMR-s: Downloading tv player API JSON\n",
      "[youtube] O0L681qMR-s: Downloading ios player API JSON\n",
      "[youtube] O0L681qMR-s: Downloading m3u8 information\n",
      "[info] O0L681qMR-s: Downloading 1 format(s): 251\n",
      "[download] Destination: id07465_1_O0L681qMR-s_00140\n",
      "[download] 100% of    6.15MiB in 00:00:00 at 11.91MiB/s  \n",
      "[ExtractAudio] Destination: id07465_1_O0L681qMR-s_00140.mp3\n",
      "Deleting original file id07465_1_O0L681qMR-s_00140 (pass -k to keep)\n",
      "Audio downloaded as id07465_1_O0L681qMR-s_00140\n",
      "Trimmed audio saved as ../data/download_df_audio/id07465_1_O0L681qMR-s_00140_cut.mp3\n",
      "Speaker: id07477, Video: rvvEV45v1Z4, Txt file: 00283\n",
      "[youtube] Extracting URL: https://www.youtube.com/watch?v=rvvEV45v1Z4\n",
      "[youtube] rvvEV45v1Z4: Downloading webpage\n",
      "[youtube] rvvEV45v1Z4: Downloading tv client config\n",
      "[youtube] rvvEV45v1Z4: Downloading player 5ae7d525\n",
      "[youtube] rvvEV45v1Z4: Downloading tv player API JSON\n",
      "[youtube] rvvEV45v1Z4: Downloading ios player API JSON\n",
      "[youtube] rvvEV45v1Z4: Downloading m3u8 information\n",
      "[info] rvvEV45v1Z4: Downloading 1 format(s): 251\n",
      "[download] Destination: id07477_0_rvvEV45v1Z4_00283\n",
      "[download] 100% of   27.97MiB in 00:00:02 at 13.27MiB/s    \n",
      "[ExtractAudio] Destination: id07477_0_rvvEV45v1Z4_00283.mp3\n",
      "Deleting original file id07477_0_rvvEV45v1Z4_00283 (pass -k to keep)\n",
      "Audio downloaded as id07477_0_rvvEV45v1Z4_00283\n",
      "Trimmed audio saved as ../data/download_df_audio/id07477_0_rvvEV45v1Z4_00283_cut.mp3\n",
      "Speaker: id07477, Video: X2CuV3C1RVY, Txt file: 00187\n",
      "[youtube] Extracting URL: https://www.youtube.com/watch?v=X2CuV3C1RVY\n",
      "[youtube] X2CuV3C1RVY: Downloading webpage\n",
      "[youtube] X2CuV3C1RVY: Downloading tv client config\n",
      "[youtube] X2CuV3C1RVY: Downloading player 5ae7d525\n",
      "[youtube] X2CuV3C1RVY: Downloading tv player API JSON\n",
      "[youtube] X2CuV3C1RVY: Downloading ios player API JSON\n",
      "[youtube] X2CuV3C1RVY: Downloading m3u8 information\n",
      "[info] X2CuV3C1RVY: Downloading 1 format(s): 140\n",
      "[download] Destination: id07477_1_X2CuV3C1RVY_00187\n",
      "[download] 100% of   19.95MiB in 00:00:03 at 5.35MiB/s     \n",
      "[FixupM4a] Correcting container of \"id07477_1_X2CuV3C1RVY_00187\"\n",
      "[ExtractAudio] Destination: id07477_1_X2CuV3C1RVY_00187.mp3\n",
      "Deleting original file id07477_1_X2CuV3C1RVY_00187 (pass -k to keep)\n",
      "Audio downloaded as id07477_1_X2CuV3C1RVY_00187\n",
      "Trimmed audio saved as ../data/download_df_audio/id07477_1_X2CuV3C1RVY_00187_cut.mp3\n",
      "Speaker: id07498, Video: ShrVds--4MM, Txt file: 00072\n",
      "[youtube] Extracting URL: https://www.youtube.com/watch?v=ShrVds--4MM\n",
      "[youtube] ShrVds--4MM: Downloading webpage\n",
      "[youtube] ShrVds--4MM: Downloading tv client config\n",
      "[youtube] ShrVds--4MM: Downloading player 5ae7d525\n",
      "[youtube] ShrVds--4MM: Downloading tv player API JSON\n",
      "[youtube] ShrVds--4MM: Downloading ios player API JSON\n",
      "[youtube] ShrVds--4MM: Downloading m3u8 information\n",
      "[info] ShrVds--4MM: Downloading 1 format(s): 251\n",
      "[download] Destination: id07498_0_ShrVds--4MM_00072\n",
      "[download] 100% of    3.28MiB in 00:00:00 at 3.40MiB/s   \n",
      "[ExtractAudio] Destination: id07498_0_ShrVds--4MM_00072.mp3\n",
      "Deleting original file id07498_0_ShrVds--4MM_00072 (pass -k to keep)\n",
      "Audio downloaded as id07498_0_ShrVds--4MM_00072\n",
      "Trimmed audio saved as ../data/download_df_audio/id07498_0_ShrVds--4MM_00072_cut.mp3\n",
      "Speaker: id07498, Video: t-z_ikjmeFY, Txt file: 00126\n"
     ]
    },
    {
     "name": "stderr",
     "output_type": "stream",
     "text": [
      "ERROR: [youtube] t-z_ikjmeFY: Video unavailable\n"
     ]
    },
    {
     "name": "stdout",
     "output_type": "stream",
     "text": [
      "Speaker: id07498, Video: NbGAKYulsGk, Txt file: 00052\n"
     ]
    },
    {
     "name": "stderr",
     "output_type": "stream",
     "text": [
      "ERROR: [youtube] NbGAKYulsGk: Video unavailable\n"
     ]
    },
    {
     "name": "stdout",
     "output_type": "stream",
     "text": [
      "Speaker: id07498, Video: f2pYsokqF0I, Txt file: 00095\n"
     ]
    },
    {
     "name": "stderr",
     "output_type": "stream",
     "text": [
      "ERROR: [youtube] f2pYsokqF0I: Video unavailable\n"
     ]
    },
    {
     "name": "stdout",
     "output_type": "stream",
     "text": [
      "Speaker: id07498, Video: NbGAKYulsGk, Txt file: 00049\n"
     ]
    },
    {
     "name": "stderr",
     "output_type": "stream",
     "text": [
      "ERROR: [youtube] NbGAKYulsGk: Video unavailable\n"
     ]
    },
    {
     "name": "stdout",
     "output_type": "stream",
     "text": [
      "Speaker: id07498, Video: xcauNDOzUTk, Txt file: 00159\n",
      "[youtube] Extracting URL: https://www.youtube.com/watch?v=xcauNDOzUTk\n",
      "[youtube] xcauNDOzUTk: Downloading webpage\n",
      "[youtube] xcauNDOzUTk: Downloading tv client config\n",
      "[youtube] xcauNDOzUTk: Downloading player 5ae7d525\n",
      "[youtube] xcauNDOzUTk: Downloading tv player API JSON\n",
      "[youtube] xcauNDOzUTk: Downloading ios player API JSON\n",
      "[youtube] xcauNDOzUTk: Downloading m3u8 information\n",
      "[info] xcauNDOzUTk: Downloading 1 format(s): 251\n",
      "[download] Destination: id07498_1_xcauNDOzUTk_00159\n",
      "[download] 100% of    5.78MiB in 00:00:01 at 3.07MiB/s   \n",
      "[ExtractAudio] Destination: id07498_1_xcauNDOzUTk_00159.mp3\n",
      "Deleting original file id07498_1_xcauNDOzUTk_00159 (pass -k to keep)\n",
      "Audio downloaded as id07498_1_xcauNDOzUTk_00159\n",
      "Trimmed audio saved as ../data/download_df_audio/id07498_1_xcauNDOzUTk_00159_cut.mp3\n",
      "Speaker: id07517, Video: 20-TnMvbfQk, Txt file: 00006\n",
      "[youtube] Extracting URL: https://www.youtube.com/watch?v=20-TnMvbfQk\n",
      "[youtube] 20-TnMvbfQk: Downloading webpage\n",
      "[youtube] 20-TnMvbfQk: Downloading tv client config\n",
      "[youtube] 20-TnMvbfQk: Downloading player 5ae7d525\n",
      "[youtube] 20-TnMvbfQk: Downloading tv player API JSON\n",
      "[youtube] 20-TnMvbfQk: Downloading ios player API JSON\n",
      "[youtube] 20-TnMvbfQk: Downloading m3u8 information\n",
      "[info] 20-TnMvbfQk: Downloading 1 format(s): 251\n",
      "[download] Destination: id07517_0_20-TnMvbfQk_00006\n",
      "[download] 100% of    3.38MiB in 00:00:00 at 7.84MiB/s   \n",
      "[ExtractAudio] Destination: id07517_0_20-TnMvbfQk_00006.mp3\n",
      "Deleting original file id07517_0_20-TnMvbfQk_00006 (pass -k to keep)\n",
      "Audio downloaded as id07517_0_20-TnMvbfQk_00006\n",
      "Trimmed audio saved as ../data/download_df_audio/id07517_0_20-TnMvbfQk_00006_cut.mp3\n",
      "Speaker: id07517, Video: StiTPpXXhe0, Txt file: 00041\n",
      "[youtube] Extracting URL: https://www.youtube.com/watch?v=StiTPpXXhe0\n",
      "[youtube] StiTPpXXhe0: Downloading webpage\n",
      "[youtube] StiTPpXXhe0: Downloading tv client config\n",
      "[youtube] StiTPpXXhe0: Downloading player 5ae7d525\n",
      "[youtube] StiTPpXXhe0: Downloading tv player API JSON\n",
      "[youtube] StiTPpXXhe0: Downloading ios player API JSON\n",
      "[youtube] StiTPpXXhe0: Downloading m3u8 information\n",
      "[info] StiTPpXXhe0: Downloading 1 format(s): 140\n",
      "[download] Destination: id07517_1_StiTPpXXhe0_00041\n",
      "[download] 100% of    4.34MiB in 00:00:00 at 6.53MiB/s   \n",
      "[FixupM4a] Correcting container of \"id07517_1_StiTPpXXhe0_00041\"\n",
      "[ExtractAudio] Destination: id07517_1_StiTPpXXhe0_00041.mp3\n",
      "Deleting original file id07517_1_StiTPpXXhe0_00041 (pass -k to keep)\n",
      "Audio downloaded as id07517_1_StiTPpXXhe0_00041\n",
      "Trimmed audio saved as ../data/download_df_audio/id07517_1_StiTPpXXhe0_00041_cut.mp3\n",
      "Speaker: id07519, Video: t8xUGfea8pQ, Txt file: 00016\n",
      "[youtube] Extracting URL: https://www.youtube.com/watch?v=t8xUGfea8pQ\n",
      "[youtube] t8xUGfea8pQ: Downloading webpage\n",
      "[youtube] t8xUGfea8pQ: Downloading tv client config\n",
      "[youtube] t8xUGfea8pQ: Downloading player 5ae7d525\n",
      "[youtube] t8xUGfea8pQ: Downloading tv player API JSON\n",
      "[youtube] t8xUGfea8pQ: Downloading ios player API JSON\n",
      "[youtube] t8xUGfea8pQ: Downloading m3u8 information\n",
      "[info] t8xUGfea8pQ: Downloading 1 format(s): 251\n",
      "[download] Destination: id07519_0_t8xUGfea8pQ_00016\n",
      "[download] 100% of    4.10MiB in 00:00:01 at 3.32MiB/s   \n",
      "[ExtractAudio] Destination: id07519_0_t8xUGfea8pQ_00016.mp3\n",
      "Deleting original file id07519_0_t8xUGfea8pQ_00016 (pass -k to keep)\n",
      "Audio downloaded as id07519_0_t8xUGfea8pQ_00016\n",
      "Trimmed audio saved as ../data/download_df_audio/id07519_0_t8xUGfea8pQ_00016_cut.mp3\n",
      "Speaker: id07519, Video: v-p8qAF5-us, Txt file: 00022\n",
      "[youtube] Extracting URL: https://www.youtube.com/watch?v=v-p8qAF5-us\n",
      "[youtube] v-p8qAF5-us: Downloading webpage\n",
      "[youtube] v-p8qAF5-us: Downloading tv client config\n",
      "[youtube] v-p8qAF5-us: Downloading player 5ae7d525\n",
      "[youtube] v-p8qAF5-us: Downloading tv player API JSON\n",
      "[youtube] v-p8qAF5-us: Downloading ios player API JSON\n",
      "[youtube] v-p8qAF5-us: Downloading m3u8 information\n",
      "[info] v-p8qAF5-us: Downloading 1 format(s): 140\n",
      "[download] Destination: id07519_1_v-p8qAF5-us_00022\n",
      "[download] 100% of    2.38MiB in 00:00:00 at 4.27MiB/s   \n",
      "[FixupM4a] Correcting container of \"id07519_1_v-p8qAF5-us_00022\"\n",
      "[ExtractAudio] Destination: id07519_1_v-p8qAF5-us_00022.mp3\n",
      "Deleting original file id07519_1_v-p8qAF5-us_00022 (pass -k to keep)\n",
      "Audio downloaded as id07519_1_v-p8qAF5-us_00022\n",
      "Trimmed audio saved as ../data/download_df_audio/id07519_1_v-p8qAF5-us_00022_cut.mp3\n",
      "Speaker: id07543, Video: xyFJpxGS7Hw, Txt file: 00197\n",
      "[youtube] Extracting URL: https://www.youtube.com/watch?v=xyFJpxGS7Hw\n",
      "[youtube] xyFJpxGS7Hw: Downloading webpage\n",
      "[youtube] xyFJpxGS7Hw: Downloading tv client config\n",
      "[youtube] xyFJpxGS7Hw: Downloading player 5ae7d525\n",
      "[youtube] xyFJpxGS7Hw: Downloading tv player API JSON\n",
      "[youtube] xyFJpxGS7Hw: Downloading ios player API JSON\n",
      "[youtube] xyFJpxGS7Hw: Downloading m3u8 information\n",
      "[info] xyFJpxGS7Hw: Downloading 1 format(s): 251\n",
      "[download] Destination: id07543_0_xyFJpxGS7Hw_00197\n",
      "[download] 100% of    2.29MiB in 00:00:00 at 2.96MiB/s   \n",
      "[ExtractAudio] Destination: id07543_0_xyFJpxGS7Hw_00197.mp3\n",
      "Deleting original file id07543_0_xyFJpxGS7Hw_00197 (pass -k to keep)\n",
      "Audio downloaded as id07543_0_xyFJpxGS7Hw_00197\n",
      "Trimmed audio saved as ../data/download_df_audio/id07543_0_xyFJpxGS7Hw_00197_cut.mp3\n",
      "Speaker: id07543, Video: t3u6Ck6o4fI, Txt file: 00176\n",
      "[youtube] Extracting URL: https://www.youtube.com/watch?v=t3u6Ck6o4fI\n",
      "[youtube] t3u6Ck6o4fI: Downloading webpage\n",
      "[youtube] t3u6Ck6o4fI: Downloading tv client config\n",
      "[youtube] t3u6Ck6o4fI: Downloading player 5ae7d525\n",
      "[youtube] t3u6Ck6o4fI: Downloading tv player API JSON\n",
      "[youtube] t3u6Ck6o4fI: Downloading ios player API JSON\n",
      "[youtube] t3u6Ck6o4fI: Downloading m3u8 information\n",
      "[info] t3u6Ck6o4fI: Downloading 1 format(s): 251\n",
      "[download] Destination: id07543_1_t3u6Ck6o4fI_00176\n",
      "[download] 100% of    7.40MiB in 00:00:01 at 4.62MiB/s     \n",
      "[ExtractAudio] Destination: id07543_1_t3u6Ck6o4fI_00176.mp3\n",
      "Deleting original file id07543_1_t3u6Ck6o4fI_00176 (pass -k to keep)\n",
      "Audio downloaded as id07543_1_t3u6Ck6o4fI_00176\n",
      "Trimmed audio saved as ../data/download_df_audio/id07543_1_t3u6Ck6o4fI_00176_cut.mp3\n",
      "Speaker: id07554, Video: TNJifHcYnKo, Txt file: 00170\n",
      "[youtube] Extracting URL: https://www.youtube.com/watch?v=TNJifHcYnKo\n",
      "[youtube] TNJifHcYnKo: Downloading webpage\n",
      "[youtube] TNJifHcYnKo: Downloading tv client config\n",
      "[youtube] TNJifHcYnKo: Downloading player 5ae7d525\n",
      "[youtube] TNJifHcYnKo: Downloading tv player API JSON\n",
      "[youtube] TNJifHcYnKo: Downloading ios player API JSON\n",
      "[youtube] TNJifHcYnKo: Downloading m3u8 information\n",
      "[info] TNJifHcYnKo: Downloading 1 format(s): 140\n",
      "[download] Destination: id07554_0_TNJifHcYnKo_00170\n",
      "[download] 100% of    1.71MiB in 00:00:00 at 2.86MiB/s   \n",
      "[FixupM4a] Correcting container of \"id07554_0_TNJifHcYnKo_00170\"\n",
      "[ExtractAudio] Destination: id07554_0_TNJifHcYnKo_00170.mp3\n",
      "Deleting original file id07554_0_TNJifHcYnKo_00170 (pass -k to keep)\n",
      "Audio downloaded as id07554_0_TNJifHcYnKo_00170\n",
      "Trimmed audio saved as ../data/download_df_audio/id07554_0_TNJifHcYnKo_00170_cut.mp3\n",
      "Speaker: id07554, Video: bi89FD_otyA, Txt file: 00209\n",
      "[youtube] Extracting URL: https://www.youtube.com/watch?v=bi89FD_otyA\n",
      "[youtube] bi89FD_otyA: Downloading webpage\n",
      "[youtube] bi89FD_otyA: Downloading tv client config\n",
      "[youtube] bi89FD_otyA: Downloading player 5ae7d525\n",
      "[youtube] bi89FD_otyA: Downloading tv player API JSON\n",
      "[youtube] bi89FD_otyA: Downloading ios player API JSON\n",
      "[youtube] bi89FD_otyA: Downloading m3u8 information\n",
      "[info] bi89FD_otyA: Downloading 1 format(s): 140\n",
      "[download] Destination: id07554_1_bi89FD_otyA_00209\n",
      "[download] 100% of    6.85MiB in 00:00:01 at 4.05MiB/s   \n",
      "[FixupM4a] Correcting container of \"id07554_1_bi89FD_otyA_00209\"\n",
      "[ExtractAudio] Destination: id07554_1_bi89FD_otyA_00209.mp3\n",
      "Deleting original file id07554_1_bi89FD_otyA_00209 (pass -k to keep)\n",
      "Audio downloaded as id07554_1_bi89FD_otyA_00209\n",
      "Trimmed audio saved as ../data/download_df_audio/id07554_1_bi89FD_otyA_00209_cut.mp3\n",
      "Speaker: id07560, Video: gdfNoVsFCx8, Txt file: 00327\n"
     ]
    },
    {
     "name": "stderr",
     "output_type": "stream",
     "text": [
      "ERROR: [youtube] gdfNoVsFCx8: Video unavailable\n"
     ]
    },
    {
     "name": "stdout",
     "output_type": "stream",
     "text": [
      "Speaker: id07560, Video: 9JmTg5L5wM8, Txt file: 00091\n",
      "[youtube] Extracting URL: https://www.youtube.com/watch?v=9JmTg5L5wM8\n",
      "[youtube] 9JmTg5L5wM8: Downloading webpage\n",
      "[youtube] 9JmTg5L5wM8: Downloading tv client config\n",
      "[youtube] 9JmTg5L5wM8: Downloading player 5ae7d525\n",
      "[youtube] 9JmTg5L5wM8: Downloading tv player API JSON\n",
      "[youtube] 9JmTg5L5wM8: Downloading ios player API JSON\n",
      "[youtube] 9JmTg5L5wM8: Downloading m3u8 information\n",
      "[info] 9JmTg5L5wM8: Downloading 1 format(s): 140\n",
      "[download] Destination: id07560_0_9JmTg5L5wM8_00091\n",
      "[download] 100% of    5.13MiB in 00:00:00 at 10.71MiB/s  \n",
      "[FixupM4a] Correcting container of \"id07560_0_9JmTg5L5wM8_00091\"\n",
      "[ExtractAudio] Destination: id07560_0_9JmTg5L5wM8_00091.mp3\n",
      "Deleting original file id07560_0_9JmTg5L5wM8_00091 (pass -k to keep)\n",
      "Audio downloaded as id07560_0_9JmTg5L5wM8_00091\n",
      "Trimmed audio saved as ../data/download_df_audio/id07560_0_9JmTg5L5wM8_00091_cut.mp3\n",
      "Speaker: id07560, Video: RFlOGo-LrUU, Txt file: 00208\n"
     ]
    },
    {
     "name": "stderr",
     "output_type": "stream",
     "text": [
      "ERROR: [youtube] RFlOGo-LrUU: Video unavailable\n"
     ]
    },
    {
     "name": "stdout",
     "output_type": "stream",
     "text": [
      "Speaker: id07560, Video: ouX4Ggl5Yuk, Txt file: 00415\n",
      "[youtube] Extracting URL: https://www.youtube.com/watch?v=ouX4Ggl5Yuk\n",
      "[youtube] ouX4Ggl5Yuk: Downloading webpage\n",
      "[youtube] ouX4Ggl5Yuk: Downloading tv client config\n",
      "[youtube] ouX4Ggl5Yuk: Downloading player 5ae7d525\n",
      "[youtube] ouX4Ggl5Yuk: Downloading tv player API JSON\n",
      "[youtube] ouX4Ggl5Yuk: Downloading ios player API JSON\n",
      "[youtube] ouX4Ggl5Yuk: Downloading m3u8 information\n",
      "[info] ouX4Ggl5Yuk: Downloading 1 format(s): 140\n",
      "[download] Destination: id07560_1_ouX4Ggl5Yuk_00415\n",
      "[download] 100% of    4.47MiB in 00:00:00 at 8.57MiB/s   \n",
      "[FixupM4a] Correcting container of \"id07560_1_ouX4Ggl5Yuk_00415\"\n",
      "[ExtractAudio] Destination: id07560_1_ouX4Ggl5Yuk_00415.mp3\n",
      "Deleting original file id07560_1_ouX4Ggl5Yuk_00415 (pass -k to keep)\n",
      "Audio downloaded as id07560_1_ouX4Ggl5Yuk_00415\n",
      "Trimmed audio saved as ../data/download_df_audio/id07560_1_ouX4Ggl5Yuk_00415_cut.mp3\n",
      "Speaker: id07564, Video: FC-WqLT3MRM, Txt file: 00069\n",
      "[youtube] Extracting URL: https://www.youtube.com/watch?v=FC-WqLT3MRM\n",
      "[youtube] FC-WqLT3MRM: Downloading webpage\n",
      "[youtube] FC-WqLT3MRM: Downloading tv client config\n",
      "[youtube] FC-WqLT3MRM: Downloading player 5ae7d525\n",
      "[youtube] FC-WqLT3MRM: Downloading tv player API JSON\n",
      "[youtube] FC-WqLT3MRM: Downloading ios player API JSON\n",
      "[youtube] FC-WqLT3MRM: Downloading m3u8 information\n",
      "[info] FC-WqLT3MRM: Downloading 1 format(s): 251\n",
      "[download] Destination: id07564_0_FC-WqLT3MRM_00069\n",
      "[download] 100% of    7.29MiB in 00:00:02 at 3.45MiB/s     \n",
      "[ExtractAudio] Destination: id07564_0_FC-WqLT3MRM_00069.mp3\n",
      "Deleting original file id07564_0_FC-WqLT3MRM_00069 (pass -k to keep)\n",
      "Audio downloaded as id07564_0_FC-WqLT3MRM_00069\n",
      "Trimmed audio saved as ../data/download_df_audio/id07564_0_FC-WqLT3MRM_00069_cut.mp3\n",
      "Speaker: id07564, Video: OS7lRfieYbg, Txt file: 00126\n",
      "[youtube] Extracting URL: https://www.youtube.com/watch?v=OS7lRfieYbg\n",
      "[youtube] OS7lRfieYbg: Downloading webpage\n",
      "[youtube] OS7lRfieYbg: Downloading tv client config\n",
      "[youtube] OS7lRfieYbg: Downloading player 5ae7d525\n",
      "[youtube] OS7lRfieYbg: Downloading tv player API JSON\n",
      "[youtube] OS7lRfieYbg: Downloading ios player API JSON\n",
      "[youtube] OS7lRfieYbg: Downloading m3u8 information\n",
      "[info] OS7lRfieYbg: Downloading 1 format(s): 140\n",
      "[download] Destination: id07564_1_OS7lRfieYbg_00126\n",
      "[download] 100% of    2.93MiB in 00:00:00 at 5.31MiB/s   \n",
      "[FixupM4a] Correcting container of \"id07564_1_OS7lRfieYbg_00126\"\n",
      "[ExtractAudio] Destination: id07564_1_OS7lRfieYbg_00126.mp3\n",
      "Deleting original file id07564_1_OS7lRfieYbg_00126 (pass -k to keep)\n",
      "Audio downloaded as id07564_1_OS7lRfieYbg_00126\n",
      "Trimmed audio saved as ../data/download_df_audio/id07564_1_OS7lRfieYbg_00126_cut.mp3\n",
      "Speaker: id07641, Video: 9wcwYCyh1Cs, Txt file: 00061\n",
      "[youtube] Extracting URL: https://www.youtube.com/watch?v=9wcwYCyh1Cs\n",
      "[youtube] 9wcwYCyh1Cs: Downloading webpage\n",
      "[youtube] 9wcwYCyh1Cs: Downloading tv client config\n",
      "[youtube] 9wcwYCyh1Cs: Downloading player 5ae7d525\n",
      "[youtube] 9wcwYCyh1Cs: Downloading tv player API JSON\n",
      "[youtube] 9wcwYCyh1Cs: Downloading ios player API JSON\n",
      "[youtube] 9wcwYCyh1Cs: Downloading m3u8 information\n",
      "[info] 9wcwYCyh1Cs: Downloading 1 format(s): 251\n",
      "[download] Destination: id07641_0_9wcwYCyh1Cs_00061\n",
      "[download] 100% of    4.46MiB in 00:00:01 at 3.70MiB/s   \n",
      "[ExtractAudio] Destination: id07641_0_9wcwYCyh1Cs_00061.mp3\n",
      "Deleting original file id07641_0_9wcwYCyh1Cs_00061 (pass -k to keep)\n",
      "Audio downloaded as id07641_0_9wcwYCyh1Cs_00061\n",
      "Trimmed audio saved as ../data/download_df_audio/id07641_0_9wcwYCyh1Cs_00061_cut.mp3\n",
      "Speaker: id07641, Video: _1sirRUyzG8, Txt file: 00157\n",
      "[youtube] Extracting URL: https://www.youtube.com/watch?v=_1sirRUyzG8\n",
      "[youtube] _1sirRUyzG8: Downloading webpage\n",
      "[youtube] _1sirRUyzG8: Downloading tv client config\n",
      "[youtube] _1sirRUyzG8: Downloading player 5ae7d525\n",
      "[youtube] _1sirRUyzG8: Downloading tv player API JSON\n",
      "[youtube] _1sirRUyzG8: Downloading ios player API JSON\n",
      "[youtube] _1sirRUyzG8: Downloading m3u8 information\n",
      "[info] _1sirRUyzG8: Downloading 1 format(s): 251\n",
      "[download] Destination: id07641_1__1sirRUyzG8_00157\n",
      "[download] 100% of   12.01MiB in 00:00:01 at 9.13MiB/s     \n",
      "[ExtractAudio] Destination: id07641_1__1sirRUyzG8_00157.mp3\n",
      "Deleting original file id07641_1__1sirRUyzG8_00157 (pass -k to keep)\n",
      "Audio downloaded as id07641_1__1sirRUyzG8_00157\n",
      "Trimmed audio saved as ../data/download_df_audio/id07641_1__1sirRUyzG8_00157_cut.mp3\n",
      "Speaker: id07713, Video: AuLNdJFTYwk, Txt file: 00018\n",
      "[youtube] Extracting URL: https://www.youtube.com/watch?v=AuLNdJFTYwk\n",
      "[youtube] AuLNdJFTYwk: Downloading webpage\n",
      "[youtube] AuLNdJFTYwk: Downloading tv client config\n",
      "[youtube] AuLNdJFTYwk: Downloading player 5ae7d525\n",
      "[youtube] AuLNdJFTYwk: Downloading tv player API JSON\n",
      "[youtube] AuLNdJFTYwk: Downloading ios player API JSON\n",
      "[youtube] AuLNdJFTYwk: Downloading m3u8 information\n",
      "[info] AuLNdJFTYwk: Downloading 1 format(s): 140\n",
      "[download] Destination: id07713_0_AuLNdJFTYwk_00018\n",
      "[download] 100% of    6.77MiB in 00:00:01 at 4.81MiB/s   \n",
      "[FixupM4a] Correcting container of \"id07713_0_AuLNdJFTYwk_00018\"\n",
      "[ExtractAudio] Destination: id07713_0_AuLNdJFTYwk_00018.mp3\n",
      "Deleting original file id07713_0_AuLNdJFTYwk_00018 (pass -k to keep)\n",
      "Audio downloaded as id07713_0_AuLNdJFTYwk_00018\n",
      "Trimmed audio saved as ../data/download_df_audio/id07713_0_AuLNdJFTYwk_00018_cut.mp3\n",
      "Speaker: id07713, Video: DLABGxAvras, Txt file: 00042\n",
      "[youtube] Extracting URL: https://www.youtube.com/watch?v=DLABGxAvras\n",
      "[youtube] DLABGxAvras: Downloading webpage\n",
      "[youtube] DLABGxAvras: Downloading tv client config\n",
      "[youtube] DLABGxAvras: Downloading player 5ae7d525\n",
      "[youtube] DLABGxAvras: Downloading tv player API JSON\n",
      "[youtube] DLABGxAvras: Downloading ios player API JSON\n",
      "[youtube] DLABGxAvras: Downloading m3u8 information\n",
      "[info] DLABGxAvras: Downloading 1 format(s): 251\n",
      "[download] Destination: id07713_1_DLABGxAvras_00042\n",
      "[download] 100% of    2.04MiB in 00:00:00 at 3.31MiB/s   \n",
      "[ExtractAudio] Destination: id07713_1_DLABGxAvras_00042.mp3\n",
      "Deleting original file id07713_1_DLABGxAvras_00042 (pass -k to keep)\n",
      "Audio downloaded as id07713_1_DLABGxAvras_00042\n",
      "Trimmed audio saved as ../data/download_df_audio/id07713_1_DLABGxAvras_00042_cut.mp3\n",
      "Speaker: id07727, Video: PBo34SIt9I8, Txt file: 00260\n"
     ]
    },
    {
     "name": "stderr",
     "output_type": "stream",
     "text": [
      "ERROR: [youtube] PBo34SIt9I8: Video unavailable\n"
     ]
    },
    {
     "name": "stdout",
     "output_type": "stream",
     "text": [
      "Speaker: id07727, Video: y7Og8q8dOpE, Txt file: 00422\n"
     ]
    },
    {
     "name": "stderr",
     "output_type": "stream",
     "text": [
      "ERROR: [youtube] y7Og8q8dOpE: Private video. Sign in if you've been granted access to this video. Use --cookies-from-browser or --cookies for the authentication. See  https://github.com/yt-dlp/yt-dlp/wiki/FAQ#how-do-i-pass-cookies-to-yt-dlp  for how to manually pass cookies. Also see  https://github.com/yt-dlp/yt-dlp/wiki/Extractors#exporting-youtube-cookies  for tips on effectively exporting YouTube cookies\n"
     ]
    },
    {
     "name": "stdout",
     "output_type": "stream",
     "text": [
      "Speaker: id07727, Video: 4-U_cmPK7Wc, Txt file: 00069\n"
     ]
    },
    {
     "name": "stderr",
     "output_type": "stream",
     "text": [
      "ERROR: [youtube] 4-U_cmPK7Wc: Video unavailable. This video is no longer available because the YouTube account associated with this video has been terminated.\n"
     ]
    },
    {
     "name": "stdout",
     "output_type": "stream",
     "text": [
      "Speaker: id07727, Video: DYNqucW0Dg4, Txt file: 00143\n"
     ]
    },
    {
     "name": "stderr",
     "output_type": "stream",
     "text": [
      "ERROR: [youtube] DYNqucW0Dg4: Video unavailable\n"
     ]
    },
    {
     "name": "stdout",
     "output_type": "stream",
     "text": [
      "Speaker: id07727, Video: yd-1BvkI36U, Txt file: 00424\n",
      "[youtube] Extracting URL: https://www.youtube.com/watch?v=yd-1BvkI36U\n",
      "[youtube] yd-1BvkI36U: Downloading webpage\n",
      "[youtube] yd-1BvkI36U: Downloading tv client config\n",
      "[youtube] yd-1BvkI36U: Downloading player 5ae7d525\n",
      "[youtube] yd-1BvkI36U: Downloading tv player API JSON\n",
      "[youtube] yd-1BvkI36U: Downloading ios player API JSON\n",
      "[youtube] yd-1BvkI36U: Downloading m3u8 information\n",
      "[info] yd-1BvkI36U: Downloading 1 format(s): 251\n",
      "[download] Destination: id07727_0_yd-1BvkI36U_00424\n",
      "[download] 100% of   26.84MiB in 00:00:07 at 3.37MiB/s     \n",
      "[ExtractAudio] Destination: id07727_0_yd-1BvkI36U_00424.mp3\n",
      "Deleting original file id07727_0_yd-1BvkI36U_00424 (pass -k to keep)\n",
      "Audio downloaded as id07727_0_yd-1BvkI36U_00424\n",
      "Trimmed audio saved as ../data/download_df_audio/id07727_0_yd-1BvkI36U_00424_cut.mp3\n",
      "Speaker: id07727, Video: rftb6jfk90Y, Txt file: 00391\n",
      "[youtube] Extracting URL: https://www.youtube.com/watch?v=rftb6jfk90Y\n",
      "[youtube] rftb6jfk90Y: Downloading webpage\n",
      "[youtube] rftb6jfk90Y: Downloading tv client config\n",
      "[youtube] rftb6jfk90Y: Downloading player 5ae7d525\n",
      "[youtube] rftb6jfk90Y: Downloading tv player API JSON\n",
      "[youtube] rftb6jfk90Y: Downloading ios player API JSON\n",
      "[youtube] rftb6jfk90Y: Downloading m3u8 information\n",
      "[info] rftb6jfk90Y: Downloading 1 format(s): 140\n",
      "[download] Destination: id07727_1_rftb6jfk90Y_00391\n",
      "[download] 100% of    5.71MiB in 00:00:01 at 3.24MiB/s     \n",
      "[FixupM4a] Correcting container of \"id07727_1_rftb6jfk90Y_00391\"\n",
      "[ExtractAudio] Destination: id07727_1_rftb6jfk90Y_00391.mp3\n",
      "Deleting original file id07727_1_rftb6jfk90Y_00391 (pass -k to keep)\n",
      "Audio downloaded as id07727_1_rftb6jfk90Y_00391\n",
      "Trimmed audio saved as ../data/download_df_audio/id07727_1_rftb6jfk90Y_00391_cut.mp3\n",
      "Speaker: id08066, Video: sAXcLV9BupE, Txt file: 00419\n",
      "[youtube] Extracting URL: https://www.youtube.com/watch?v=sAXcLV9BupE\n",
      "[youtube] sAXcLV9BupE: Downloading webpage\n",
      "[youtube] sAXcLV9BupE: Downloading tv client config\n",
      "[youtube] sAXcLV9BupE: Downloading player 5ae7d525\n",
      "[youtube] sAXcLV9BupE: Downloading tv player API JSON\n",
      "[youtube] sAXcLV9BupE: Downloading ios player API JSON\n",
      "[youtube] sAXcLV9BupE: Downloading m3u8 information\n",
      "[info] sAXcLV9BupE: Downloading 1 format(s): 140\n",
      "[download] Destination: id08066_0_sAXcLV9BupE_00419\n",
      "[download] 100% of    2.84MiB in 00:00:00 at 4.54MiB/s   \n",
      "[FixupM4a] Correcting container of \"id08066_0_sAXcLV9BupE_00419\"\n",
      "[ExtractAudio] Destination: id08066_0_sAXcLV9BupE_00419.mp3\n",
      "Deleting original file id08066_0_sAXcLV9BupE_00419 (pass -k to keep)\n",
      "Audio downloaded as id08066_0_sAXcLV9BupE_00419\n",
      "Trimmed audio saved as ../data/download_df_audio/id08066_0_sAXcLV9BupE_00419_cut.mp3\n",
      "Speaker: id08066, Video: d0e2Y9P6R6w, Txt file: 00266\n",
      "[youtube] Extracting URL: https://www.youtube.com/watch?v=d0e2Y9P6R6w\n",
      "[youtube] d0e2Y9P6R6w: Downloading webpage\n",
      "[youtube] d0e2Y9P6R6w: Downloading tv client config\n",
      "[youtube] d0e2Y9P6R6w: Downloading player 5ae7d525\n",
      "[youtube] d0e2Y9P6R6w: Downloading tv player API JSON\n",
      "[youtube] d0e2Y9P6R6w: Downloading ios player API JSON\n",
      "[youtube] d0e2Y9P6R6w: Downloading m3u8 information\n",
      "[info] d0e2Y9P6R6w: Downloading 1 format(s): 251\n",
      "[download] Destination: id08066_1_d0e2Y9P6R6w_00266\n",
      "[download] 100% of    6.27MiB in 00:00:00 at 7.76MiB/s   \n",
      "[ExtractAudio] Destination: id08066_1_d0e2Y9P6R6w_00266.mp3\n",
      "Deleting original file id08066_1_d0e2Y9P6R6w_00266 (pass -k to keep)\n",
      "Audio downloaded as id08066_1_d0e2Y9P6R6w_00266\n",
      "Trimmed audio saved as ../data/download_df_audio/id08066_1_d0e2Y9P6R6w_00266_cut.mp3\n",
      "Speaker: id08080, Video: dX-KxZYzRyk, Txt file: 00240\n",
      "[youtube] Extracting URL: https://www.youtube.com/watch?v=dX-KxZYzRyk\n",
      "[youtube] dX-KxZYzRyk: Downloading webpage\n",
      "[youtube] dX-KxZYzRyk: Downloading tv client config\n",
      "[youtube] dX-KxZYzRyk: Downloading player 5ae7d525\n",
      "[youtube] dX-KxZYzRyk: Downloading tv player API JSON\n",
      "[youtube] dX-KxZYzRyk: Downloading ios player API JSON\n",
      "[youtube] dX-KxZYzRyk: Downloading m3u8 information\n",
      "[info] dX-KxZYzRyk: Downloading 1 format(s): 140\n",
      "[download] Destination: id08080_0_dX-KxZYzRyk_00240\n",
      "[download] 100% of    4.08MiB in 00:00:01 at 2.21MiB/s   \n",
      "[FixupM4a] Correcting container of \"id08080_0_dX-KxZYzRyk_00240\"\n",
      "[ExtractAudio] Destination: id08080_0_dX-KxZYzRyk_00240.mp3\n",
      "Deleting original file id08080_0_dX-KxZYzRyk_00240 (pass -k to keep)\n",
      "Audio downloaded as id08080_0_dX-KxZYzRyk_00240\n",
      "Trimmed audio saved as ../data/download_df_audio/id08080_0_dX-KxZYzRyk_00240_cut.mp3\n",
      "Speaker: id08080, Video: Tqhh5MG9ADA, Txt file: 00124\n",
      "[youtube] Extracting URL: https://www.youtube.com/watch?v=Tqhh5MG9ADA\n",
      "[youtube] Tqhh5MG9ADA: Downloading webpage\n",
      "[youtube] Tqhh5MG9ADA: Downloading tv client config\n",
      "[youtube] Tqhh5MG9ADA: Downloading player 5ae7d525\n",
      "[youtube] Tqhh5MG9ADA: Downloading tv player API JSON\n",
      "[youtube] Tqhh5MG9ADA: Downloading ios player API JSON\n",
      "[youtube] Tqhh5MG9ADA: Downloading m3u8 information\n",
      "[info] Tqhh5MG9ADA: Downloading 1 format(s): 140\n",
      "[download] Destination: id08080_1_Tqhh5MG9ADA_00124\n",
      "[download] 100% of    2.57MiB in 00:00:00 at 3.91MiB/s   \n",
      "[FixupM4a] Correcting container of \"id08080_1_Tqhh5MG9ADA_00124\"\n",
      "[ExtractAudio] Destination: id08080_1_Tqhh5MG9ADA_00124.mp3\n",
      "Deleting original file id08080_1_Tqhh5MG9ADA_00124 (pass -k to keep)\n",
      "Audio downloaded as id08080_1_Tqhh5MG9ADA_00124\n",
      "Trimmed audio saved as ../data/download_df_audio/id08080_1_Tqhh5MG9ADA_00124_cut.mp3\n",
      "Speaker: id08166, Video: 5VznpdYFiQY, Txt file: 00021\n"
     ]
    },
    {
     "name": "stderr",
     "output_type": "stream",
     "text": [
      "ERROR: [youtube] 5VznpdYFiQY: Private video. Sign in if you've been granted access to this video. Use --cookies-from-browser or --cookies for the authentication. See  https://github.com/yt-dlp/yt-dlp/wiki/FAQ#how-do-i-pass-cookies-to-yt-dlp  for how to manually pass cookies. Also see  https://github.com/yt-dlp/yt-dlp/wiki/Extractors#exporting-youtube-cookies  for tips on effectively exporting YouTube cookies\n"
     ]
    },
    {
     "name": "stdout",
     "output_type": "stream",
     "text": [
      "Speaker: id08166, Video: 5VznpdYFiQY, Txt file: 00020\n"
     ]
    },
    {
     "name": "stderr",
     "output_type": "stream",
     "text": [
      "ERROR: [youtube] 5VznpdYFiQY: Private video. Sign in if you've been granted access to this video. Use --cookies-from-browser or --cookies for the authentication. See  https://github.com/yt-dlp/yt-dlp/wiki/FAQ#how-do-i-pass-cookies-to-yt-dlp  for how to manually pass cookies. Also see  https://github.com/yt-dlp/yt-dlp/wiki/Extractors#exporting-youtube-cookies  for tips on effectively exporting YouTube cookies\n"
     ]
    },
    {
     "name": "stdout",
     "output_type": "stream",
     "text": [
      "Speaker: id08166, Video: Il8N4eTByvA, Txt file: 00092\n",
      "[youtube] Extracting URL: https://www.youtube.com/watch?v=Il8N4eTByvA\n",
      "[youtube] Il8N4eTByvA: Downloading webpage\n",
      "[youtube] Il8N4eTByvA: Downloading tv client config\n",
      "[youtube] Il8N4eTByvA: Downloading player 5ae7d525\n",
      "[youtube] Il8N4eTByvA: Downloading tv player API JSON\n",
      "[youtube] Il8N4eTByvA: Downloading ios player API JSON\n",
      "[youtube] Il8N4eTByvA: Downloading m3u8 information\n",
      "[info] Il8N4eTByvA: Downloading 1 format(s): 140\n",
      "[download] Destination: id08166_0_Il8N4eTByvA_00092\n",
      "[download] 100% of   18.37MiB in 00:00:02 at 6.26MiB/s     \n",
      "[FixupM4a] Correcting container of \"id08166_0_Il8N4eTByvA_00092\"\n",
      "[ExtractAudio] Destination: id08166_0_Il8N4eTByvA_00092.mp3\n",
      "Deleting original file id08166_0_Il8N4eTByvA_00092 (pass -k to keep)\n",
      "Audio downloaded as id08166_0_Il8N4eTByvA_00092\n",
      "Trimmed audio saved as ../data/download_df_audio/id08166_0_Il8N4eTByvA_00092_cut.mp3\n",
      "Speaker: id08166, Video: Iz9zYfS0B4U, Txt file: 00100\n",
      "[youtube] Extracting URL: https://www.youtube.com/watch?v=Iz9zYfS0B4U\n",
      "[youtube] Iz9zYfS0B4U: Downloading webpage\n",
      "[youtube] Iz9zYfS0B4U: Downloading tv client config\n",
      "[youtube] Iz9zYfS0B4U: Downloading player 5ae7d525\n",
      "[youtube] Iz9zYfS0B4U: Downloading tv player API JSON\n",
      "[youtube] Iz9zYfS0B4U: Downloading ios player API JSON\n",
      "[youtube] Iz9zYfS0B4U: Downloading m3u8 information\n",
      "[info] Iz9zYfS0B4U: Downloading 1 format(s): 251\n",
      "[download] Destination: id08166_1_Iz9zYfS0B4U_00100\n",
      "[download] 100% of    4.00MiB in 00:00:00 at 5.13MiB/s     \n",
      "[ExtractAudio] Destination: id08166_1_Iz9zYfS0B4U_00100.mp3\n",
      "Deleting original file id08166_1_Iz9zYfS0B4U_00100 (pass -k to keep)\n",
      "Audio downloaded as id08166_1_Iz9zYfS0B4U_00100\n",
      "Trimmed audio saved as ../data/download_df_audio/id08166_1_Iz9zYfS0B4U_00100_cut.mp3\n",
      "Speaker: id08176, Video: dV00mrfc8ZU, Txt file: 00253\n"
     ]
    },
    {
     "name": "stderr",
     "output_type": "stream",
     "text": [
      "ERROR: [youtube] dV00mrfc8ZU: Video unavailable\n"
     ]
    },
    {
     "name": "stdout",
     "output_type": "stream",
     "text": [
      "Speaker: id08176, Video: 7liorY1Ae7I, Txt file: 00056\n",
      "[youtube] Extracting URL: https://www.youtube.com/watch?v=7liorY1Ae7I\n",
      "[youtube] 7liorY1Ae7I: Downloading webpage\n",
      "[youtube] 7liorY1Ae7I: Downloading tv client config\n",
      "[youtube] 7liorY1Ae7I: Downloading player 5ae7d525\n",
      "[youtube] 7liorY1Ae7I: Downloading tv player API JSON\n",
      "[youtube] 7liorY1Ae7I: Downloading ios player API JSON\n",
      "[youtube] 7liorY1Ae7I: Downloading m3u8 information\n",
      "[info] 7liorY1Ae7I: Downloading 1 format(s): 251\n",
      "[download] Destination: id08176_0_7liorY1Ae7I_00056\n",
      "[download] 100% of    7.01MiB in 00:00:00 at 11.09MiB/s  \n",
      "[ExtractAudio] Destination: id08176_0_7liorY1Ae7I_00056.mp3\n",
      "Deleting original file id08176_0_7liorY1Ae7I_00056 (pass -k to keep)\n",
      "Audio downloaded as id08176_0_7liorY1Ae7I_00056\n",
      "Trimmed audio saved as ../data/download_df_audio/id08176_0_7liorY1Ae7I_00056_cut.mp3\n",
      "Speaker: id08176, Video: dV00mrfc8ZU, Txt file: 00257\n"
     ]
    },
    {
     "name": "stderr",
     "output_type": "stream",
     "text": [
      "ERROR: [youtube] dV00mrfc8ZU: Video unavailable\n"
     ]
    },
    {
     "name": "stdout",
     "output_type": "stream",
     "text": [
      "Speaker: id08176, Video: tkYUYe4NMUE, Txt file: 00355\n"
     ]
    },
    {
     "name": "stderr",
     "output_type": "stream",
     "text": [
      "ERROR: [youtube] tkYUYe4NMUE: Private video. Sign in if you've been granted access to this video. Use --cookies-from-browser or --cookies for the authentication. See  https://github.com/yt-dlp/yt-dlp/wiki/FAQ#how-do-i-pass-cookies-to-yt-dlp  for how to manually pass cookies. Also see  https://github.com/yt-dlp/yt-dlp/wiki/Extractors#exporting-youtube-cookies  for tips on effectively exporting YouTube cookies\n"
     ]
    },
    {
     "name": "stdout",
     "output_type": "stream",
     "text": [
      "Speaker: id08176, Video: _v1qs4WA1Vg, Txt file: 00205\n",
      "[youtube] Extracting URL: https://www.youtube.com/watch?v=_v1qs4WA1Vg\n",
      "[youtube] _v1qs4WA1Vg: Downloading webpage\n",
      "[youtube] _v1qs4WA1Vg: Downloading tv client config\n",
      "[youtube] _v1qs4WA1Vg: Downloading player 5ae7d525\n",
      "[youtube] _v1qs4WA1Vg: Downloading tv player API JSON\n",
      "[youtube] _v1qs4WA1Vg: Downloading ios player API JSON\n",
      "[youtube] _v1qs4WA1Vg: Downloading m3u8 information\n",
      "[info] _v1qs4WA1Vg: Downloading 1 format(s): 140\n",
      "[download] Destination: id08176_1__v1qs4WA1Vg_00205\n",
      "[download] 100% of    9.47MiB in 00:00:01 at 7.68MiB/s   \n",
      "[FixupM4a] Correcting container of \"id08176_1__v1qs4WA1Vg_00205\"\n",
      "[ExtractAudio] Destination: id08176_1__v1qs4WA1Vg_00205.mp3\n",
      "Deleting original file id08176_1__v1qs4WA1Vg_00205 (pass -k to keep)\n",
      "Audio downloaded as id08176_1__v1qs4WA1Vg_00205\n",
      "Trimmed audio saved as ../data/download_df_audio/id08176_1__v1qs4WA1Vg_00205_cut.mp3\n",
      "Speaker: id08217, Video: LeDi1MUutdk, Txt file: 00069\n"
     ]
    },
    {
     "name": "stderr",
     "output_type": "stream",
     "text": [
      "ERROR: [youtube] LeDi1MUutdk: Video unavailable\n"
     ]
    },
    {
     "name": "stdout",
     "output_type": "stream",
     "text": [
      "Speaker: id08217, Video: dt4-CR9zc00, Txt file: 00197\n",
      "[youtube] Extracting URL: https://www.youtube.com/watch?v=dt4-CR9zc00\n",
      "[youtube] dt4-CR9zc00: Downloading webpage\n",
      "[youtube] dt4-CR9zc00: Downloading tv client config\n",
      "[youtube] dt4-CR9zc00: Downloading player 5ae7d525\n",
      "[youtube] dt4-CR9zc00: Downloading tv player API JSON\n",
      "[youtube] dt4-CR9zc00: Downloading ios player API JSON\n",
      "[youtube] dt4-CR9zc00: Downloading m3u8 information\n",
      "[info] dt4-CR9zc00: Downloading 1 format(s): 140\n",
      "[download] Destination: id08217_0_dt4-CR9zc00_00197\n",
      "[download] 100% of    7.31MiB in 00:00:00 at 10.31MiB/s  \n",
      "[FixupM4a] Correcting container of \"id08217_0_dt4-CR9zc00_00197\"\n",
      "[ExtractAudio] Destination: id08217_0_dt4-CR9zc00_00197.mp3\n",
      "Deleting original file id08217_0_dt4-CR9zc00_00197 (pass -k to keep)\n",
      "Audio downloaded as id08217_0_dt4-CR9zc00_00197\n",
      "Trimmed audio saved as ../data/download_df_audio/id08217_0_dt4-CR9zc00_00197_cut.mp3\n",
      "Speaker: id08217, Video: UIa-V0yDuGo, Txt file: 00143\n",
      "[youtube] Extracting URL: https://www.youtube.com/watch?v=UIa-V0yDuGo\n",
      "[youtube] UIa-V0yDuGo: Downloading webpage\n",
      "[youtube] UIa-V0yDuGo: Downloading tv client config\n",
      "[youtube] UIa-V0yDuGo: Downloading player 5ae7d525\n",
      "[youtube] UIa-V0yDuGo: Downloading tv player API JSON\n",
      "[youtube] UIa-V0yDuGo: Downloading ios player API JSON\n",
      "[youtube] UIa-V0yDuGo: Downloading m3u8 information\n",
      "[info] UIa-V0yDuGo: Downloading 1 format(s): 140\n",
      "[download] Destination: id08217_1_UIa-V0yDuGo_00143\n",
      "[download] 100% of   10.51MiB in 00:00:01 at 8.69MiB/s     \n",
      "[FixupM4a] Correcting container of \"id08217_1_UIa-V0yDuGo_00143\"\n",
      "[ExtractAudio] Destination: id08217_1_UIa-V0yDuGo_00143.mp3\n",
      "Deleting original file id08217_1_UIa-V0yDuGo_00143 (pass -k to keep)\n",
      "Audio downloaded as id08217_1_UIa-V0yDuGo_00143\n",
      "Trimmed audio saved as ../data/download_df_audio/id08217_1_UIa-V0yDuGo_00143_cut.mp3\n",
      "Speaker: id08251, Video: 0q8Ih_RE9w8, Txt file: 00010\n",
      "[youtube] Extracting URL: https://www.youtube.com/watch?v=0q8Ih_RE9w8\n",
      "[youtube] 0q8Ih_RE9w8: Downloading webpage\n",
      "[youtube] 0q8Ih_RE9w8: Downloading tv client config\n",
      "[youtube] 0q8Ih_RE9w8: Downloading player 5ae7d525\n",
      "[youtube] 0q8Ih_RE9w8: Downloading tv player API JSON\n",
      "[youtube] 0q8Ih_RE9w8: Downloading ios player API JSON\n",
      "[youtube] 0q8Ih_RE9w8: Downloading m3u8 information\n",
      "[info] 0q8Ih_RE9w8: Downloading 1 format(s): 251\n",
      "[download] Destination: id08251_0_0q8Ih_RE9w8_00010\n",
      "[download] 100% of    8.19MiB in 00:00:02 at 3.88MiB/s   \n",
      "[ExtractAudio] Destination: id08251_0_0q8Ih_RE9w8_00010.mp3\n",
      "Deleting original file id08251_0_0q8Ih_RE9w8_00010 (pass -k to keep)\n",
      "Audio downloaded as id08251_0_0q8Ih_RE9w8_00010\n",
      "Trimmed audio saved as ../data/download_df_audio/id08251_0_0q8Ih_RE9w8_00010_cut.mp3\n",
      "Speaker: id08251, Video: Q8w-wYiZ2rM, Txt file: 00031\n",
      "[youtube] Extracting URL: https://www.youtube.com/watch?v=Q8w-wYiZ2rM\n",
      "[youtube] Q8w-wYiZ2rM: Downloading webpage\n",
      "[youtube] Q8w-wYiZ2rM: Downloading tv client config\n",
      "[youtube] Q8w-wYiZ2rM: Downloading player 5ae7d525\n",
      "[youtube] Q8w-wYiZ2rM: Downloading tv player API JSON\n",
      "[youtube] Q8w-wYiZ2rM: Downloading ios player API JSON\n",
      "[youtube] Q8w-wYiZ2rM: Downloading m3u8 information\n",
      "[info] Q8w-wYiZ2rM: Downloading 1 format(s): 140\n",
      "[download] Destination: id08251_1_Q8w-wYiZ2rM_00031\n",
      "[download] 100% of    8.16MiB in 00:00:02 at 3.07MiB/s   \n",
      "[FixupM4a] Correcting container of \"id08251_1_Q8w-wYiZ2rM_00031\"\n",
      "[ExtractAudio] Destination: id08251_1_Q8w-wYiZ2rM_00031.mp3\n",
      "Deleting original file id08251_1_Q8w-wYiZ2rM_00031 (pass -k to keep)\n",
      "Audio downloaded as id08251_1_Q8w-wYiZ2rM_00031\n",
      "Trimmed audio saved as ../data/download_df_audio/id08251_1_Q8w-wYiZ2rM_00031_cut.mp3\n",
      "Speaker: id08295, Video: VQ9stNGxlq4, Txt file: 00151\n",
      "[youtube] Extracting URL: https://www.youtube.com/watch?v=VQ9stNGxlq4\n",
      "[youtube] VQ9stNGxlq4: Downloading webpage\n",
      "[youtube] VQ9stNGxlq4: Downloading tv client config\n",
      "[youtube] VQ9stNGxlq4: Downloading player 5ae7d525\n",
      "[youtube] VQ9stNGxlq4: Downloading tv player API JSON\n",
      "[youtube] VQ9stNGxlq4: Downloading ios player API JSON\n",
      "[youtube] VQ9stNGxlq4: Downloading m3u8 information\n",
      "[info] VQ9stNGxlq4: Downloading 1 format(s): 140\n",
      "[download] Destination: id08295_0_VQ9stNGxlq4_00151\n",
      "[download] 100% of    2.95MiB in 00:00:00 at 3.82MiB/s   \n",
      "[FixupM4a] Correcting container of \"id08295_0_VQ9stNGxlq4_00151\"\n",
      "[ExtractAudio] Destination: id08295_0_VQ9stNGxlq4_00151.mp3\n",
      "Deleting original file id08295_0_VQ9stNGxlq4_00151 (pass -k to keep)\n",
      "Audio downloaded as id08295_0_VQ9stNGxlq4_00151\n",
      "Trimmed audio saved as ../data/download_df_audio/id08295_0_VQ9stNGxlq4_00151_cut.mp3\n",
      "Speaker: id08295, Video: 7l2ICl0hu0s, Txt file: 00022\n",
      "[youtube] Extracting URL: https://www.youtube.com/watch?v=7l2ICl0hu0s\n",
      "[youtube] 7l2ICl0hu0s: Downloading webpage\n",
      "[youtube] 7l2ICl0hu0s: Downloading tv client config\n",
      "[youtube] 7l2ICl0hu0s: Downloading player 5ae7d525\n",
      "[youtube] 7l2ICl0hu0s: Downloading tv player API JSON\n",
      "[youtube] 7l2ICl0hu0s: Downloading ios player API JSON\n",
      "[youtube] 7l2ICl0hu0s: Downloading m3u8 information\n",
      "[info] 7l2ICl0hu0s: Downloading 1 format(s): 140\n",
      "[download] Destination: id08295_1_7l2ICl0hu0s_00022\n",
      "[download] 100% of    8.24MiB in 00:00:00 at 8.54MiB/s   \n",
      "[FixupM4a] Correcting container of \"id08295_1_7l2ICl0hu0s_00022\"\n",
      "[ExtractAudio] Destination: id08295_1_7l2ICl0hu0s_00022.mp3\n",
      "Deleting original file id08295_1_7l2ICl0hu0s_00022 (pass -k to keep)\n",
      "Audio downloaded as id08295_1_7l2ICl0hu0s_00022\n",
      "Trimmed audio saved as ../data/download_df_audio/id08295_1_7l2ICl0hu0s_00022_cut.mp3\n",
      "Speaker: id08317, Video: 1SHh8wy_jWU, Txt file: 00014\n",
      "[youtube] Extracting URL: https://www.youtube.com/watch?v=1SHh8wy_jWU\n",
      "[youtube] 1SHh8wy_jWU: Downloading webpage\n",
      "[youtube] 1SHh8wy_jWU: Downloading tv client config\n",
      "[youtube] 1SHh8wy_jWU: Downloading player 5ae7d525\n",
      "[youtube] 1SHh8wy_jWU: Downloading tv player API JSON\n",
      "[youtube] 1SHh8wy_jWU: Downloading ios player API JSON\n",
      "[youtube] 1SHh8wy_jWU: Downloading m3u8 information\n",
      "[info] 1SHh8wy_jWU: Downloading 1 format(s): 140\n",
      "[download] Destination: id08317_0_1SHh8wy_jWU_00014\n",
      "[download] 100% of    1.45MiB in 00:00:00 at 3.02MiB/s     \n",
      "[FixupM4a] Correcting container of \"id08317_0_1SHh8wy_jWU_00014\"\n",
      "[ExtractAudio] Destination: id08317_0_1SHh8wy_jWU_00014.mp3\n",
      "Deleting original file id08317_0_1SHh8wy_jWU_00014 (pass -k to keep)\n",
      "Audio downloaded as id08317_0_1SHh8wy_jWU_00014\n",
      "Trimmed audio saved as ../data/download_df_audio/id08317_0_1SHh8wy_jWU_00014_cut.mp3\n",
      "Speaker: id08317, Video: pMS511Rdydk, Txt file: 00283\n"
     ]
    },
    {
     "name": "stderr",
     "output_type": "stream",
     "text": [
      "ERROR: [youtube] pMS511Rdydk: Video unavailable. This video is no longer available because the YouTube account associated with this video has been terminated.\n"
     ]
    },
    {
     "name": "stdout",
     "output_type": "stream",
     "text": [
      "Speaker: id08317, Video: U22rSMX_cm0, Txt file: 00127\n"
     ]
    },
    {
     "name": "stderr",
     "output_type": "stream",
     "text": [
      "ERROR: [youtube] U22rSMX_cm0: Video unavailable. This video is no longer available because the YouTube account associated with this video has been terminated.\n"
     ]
    },
    {
     "name": "stdout",
     "output_type": "stream",
     "text": [
      "Speaker: id08317, Video: pMS511Rdydk, Txt file: 00343\n"
     ]
    },
    {
     "name": "stderr",
     "output_type": "stream",
     "text": [
      "ERROR: [youtube] pMS511Rdydk: Video unavailable. This video is no longer available because the YouTube account associated with this video has been terminated.\n"
     ]
    },
    {
     "name": "stdout",
     "output_type": "stream",
     "text": [
      "Speaker: id08317, Video: wyfkOgAurLM, Txt file: 00417\n"
     ]
    },
    {
     "name": "stderr",
     "output_type": "stream",
     "text": [
      "ERROR: [youtube] wyfkOgAurLM: Video unavailable. This video is no longer available because the YouTube account associated with this video has been terminated.\n"
     ]
    },
    {
     "name": "stdout",
     "output_type": "stream",
     "text": [
      "Speaker: id08317, Video: pMS511Rdydk, Txt file: 00309\n"
     ]
    },
    {
     "name": "stderr",
     "output_type": "stream",
     "text": [
      "ERROR: [youtube] pMS511Rdydk: Video unavailable. This video is no longer available because the YouTube account associated with this video has been terminated.\n"
     ]
    },
    {
     "name": "stdout",
     "output_type": "stream",
     "text": [
      "Speaker: id08317, Video: U22rSMX_cm0, Txt file: 00146\n"
     ]
    },
    {
     "name": "stderr",
     "output_type": "stream",
     "text": [
      "ERROR: [youtube] U22rSMX_cm0: Video unavailable. This video is no longer available because the YouTube account associated with this video has been terminated.\n"
     ]
    },
    {
     "name": "stdout",
     "output_type": "stream",
     "text": [
      "Speaker: id08317, Video: pMS511Rdydk, Txt file: 00355\n"
     ]
    },
    {
     "name": "stderr",
     "output_type": "stream",
     "text": [
      "ERROR: [youtube] pMS511Rdydk: Video unavailable. This video is no longer available because the YouTube account associated with this video has been terminated.\n"
     ]
    },
    {
     "name": "stdout",
     "output_type": "stream",
     "text": [
      "Speaker: id08317, Video: wyfkOgAurLM, Txt file: 00460\n"
     ]
    },
    {
     "name": "stderr",
     "output_type": "stream",
     "text": [
      "ERROR: [youtube] wyfkOgAurLM: Video unavailable. This video is no longer available because the YouTube account associated with this video has been terminated.\n"
     ]
    },
    {
     "name": "stdout",
     "output_type": "stream",
     "text": [
      "Speaker: id08317, Video: pMS511Rdydk, Txt file: 00346\n"
     ]
    },
    {
     "name": "stderr",
     "output_type": "stream",
     "text": [
      "ERROR: [youtube] pMS511Rdydk: Video unavailable. This video is no longer available because the YouTube account associated with this video has been terminated.\n"
     ]
    },
    {
     "name": "stdout",
     "output_type": "stream",
     "text": [
      "Speaker: id08317, Video: pxgpjhETb0I, Txt file: 00369\n",
      "[youtube] Extracting URL: https://www.youtube.com/watch?v=pxgpjhETb0I\n",
      "[youtube] pxgpjhETb0I: Downloading webpage\n",
      "[youtube] pxgpjhETb0I: Downloading tv client config\n",
      "[youtube] pxgpjhETb0I: Downloading player 5ae7d525\n",
      "[youtube] pxgpjhETb0I: Downloading tv player API JSON\n",
      "[youtube] pxgpjhETb0I: Downloading ios player API JSON\n",
      "[youtube] pxgpjhETb0I: Downloading m3u8 information\n",
      "[info] pxgpjhETb0I: Downloading 1 format(s): 251\n",
      "[download] Destination: id08317_1_pxgpjhETb0I_00369\n",
      "[download] 100% of    2.18MiB in 00:00:01 at 2.16MiB/s   \n",
      "[ExtractAudio] Destination: id08317_1_pxgpjhETb0I_00369.mp3\n",
      "Deleting original file id08317_1_pxgpjhETb0I_00369 (pass -k to keep)\n",
      "Audio downloaded as id08317_1_pxgpjhETb0I_00369\n",
      "Trimmed audio saved as ../data/download_df_audio/id08317_1_pxgpjhETb0I_00369_cut.mp3\n",
      "Speaker: id08348, Video: UQKpJHKe-OI, Txt file: 00264\n"
     ]
    },
    {
     "name": "stderr",
     "output_type": "stream",
     "text": [
      "ERROR: [youtube] UQKpJHKe-OI: Video unavailable\n"
     ]
    },
    {
     "name": "stdout",
     "output_type": "stream",
     "text": [
      "Speaker: id08348, Video: zhgf2JtNefA, Txt file: 00499\n",
      "[youtube] Extracting URL: https://www.youtube.com/watch?v=zhgf2JtNefA\n",
      "[youtube] zhgf2JtNefA: Downloading webpage\n",
      "[youtube] zhgf2JtNefA: Downloading tv client config\n",
      "[youtube] zhgf2JtNefA: Downloading player 5ae7d525\n",
      "[youtube] zhgf2JtNefA: Downloading tv player API JSON\n",
      "[youtube] zhgf2JtNefA: Downloading ios player API JSON\n",
      "[youtube] zhgf2JtNefA: Downloading m3u8 information\n",
      "[info] zhgf2JtNefA: Downloading 1 format(s): 140\n",
      "[download] Destination: id08348_0_zhgf2JtNefA_00499\n",
      "[download] 100% of    2.41MiB in 00:00:00 at 4.06MiB/s   \n",
      "[FixupM4a] Correcting container of \"id08348_0_zhgf2JtNefA_00499\"\n",
      "[ExtractAudio] Destination: id08348_0_zhgf2JtNefA_00499.mp3\n",
      "Deleting original file id08348_0_zhgf2JtNefA_00499 (pass -k to keep)\n",
      "Audio downloaded as id08348_0_zhgf2JtNefA_00499\n",
      "Trimmed audio saved as ../data/download_df_audio/id08348_0_zhgf2JtNefA_00499_cut.mp3\n",
      "Speaker: id08348, Video: 9cyC7vcNtSc, Txt file: 00079\n",
      "[youtube] Extracting URL: https://www.youtube.com/watch?v=9cyC7vcNtSc\n",
      "[youtube] 9cyC7vcNtSc: Downloading webpage\n",
      "[youtube] 9cyC7vcNtSc: Downloading tv client config\n",
      "[youtube] 9cyC7vcNtSc: Downloading player 5ae7d525\n",
      "[youtube] 9cyC7vcNtSc: Downloading tv player API JSON\n",
      "[youtube] 9cyC7vcNtSc: Downloading ios player API JSON\n",
      "[youtube] 9cyC7vcNtSc: Downloading m3u8 information\n",
      "[info] 9cyC7vcNtSc: Downloading 1 format(s): 251\n",
      "[download] Destination: id08348_1_9cyC7vcNtSc_00079\n",
      "[download] 100% of    4.38MiB in 00:00:01 at 2.88MiB/s   \n",
      "[ExtractAudio] Destination: id08348_1_9cyC7vcNtSc_00079.mp3\n",
      "Deleting original file id08348_1_9cyC7vcNtSc_00079 (pass -k to keep)\n",
      "Audio downloaded as id08348_1_9cyC7vcNtSc_00079\n",
      "Trimmed audio saved as ../data/download_df_audio/id08348_1_9cyC7vcNtSc_00079_cut.mp3\n",
      "Speaker: id08381, Video: 9TMiWI11rcY, Txt file: 00017\n",
      "[youtube] Extracting URL: https://www.youtube.com/watch?v=9TMiWI11rcY\n",
      "[youtube] 9TMiWI11rcY: Downloading webpage\n",
      "[youtube] 9TMiWI11rcY: Downloading tv client config\n",
      "[youtube] 9TMiWI11rcY: Downloading player 5ae7d525\n",
      "[youtube] 9TMiWI11rcY: Downloading tv player API JSON\n",
      "[youtube] 9TMiWI11rcY: Downloading ios player API JSON\n",
      "[youtube] 9TMiWI11rcY: Downloading m3u8 information\n",
      "[info] 9TMiWI11rcY: Downloading 1 format(s): 140\n",
      "[download] Destination: id08381_0_9TMiWI11rcY_00017\n",
      "[download] 100% of    2.77MiB in 00:00:01 at 2.47MiB/s   \n",
      "[FixupM4a] Correcting container of \"id08381_0_9TMiWI11rcY_00017\"\n",
      "[ExtractAudio] Destination: id08381_0_9TMiWI11rcY_00017.mp3\n",
      "Deleting original file id08381_0_9TMiWI11rcY_00017 (pass -k to keep)\n",
      "Audio downloaded as id08381_0_9TMiWI11rcY_00017\n",
      "Trimmed audio saved as ../data/download_df_audio/id08381_0_9TMiWI11rcY_00017_cut.mp3\n",
      "Speaker: id08381, Video: OldqjDj1QFU, Txt file: 00131\n",
      "[youtube] Extracting URL: https://www.youtube.com/watch?v=OldqjDj1QFU\n",
      "[youtube] OldqjDj1QFU: Downloading webpage\n",
      "[youtube] OldqjDj1QFU: Downloading tv client config\n",
      "[youtube] OldqjDj1QFU: Downloading player 5ae7d525\n",
      "[youtube] OldqjDj1QFU: Downloading tv player API JSON\n",
      "[youtube] OldqjDj1QFU: Downloading ios player API JSON\n",
      "[youtube] OldqjDj1QFU: Downloading m3u8 information\n",
      "[info] OldqjDj1QFU: Downloading 1 format(s): 140\n",
      "[download] Destination: id08381_1_OldqjDj1QFU_00131\n",
      "[download] 100% of    9.39MiB in 00:00:02 at 3.98MiB/s   \n",
      "[FixupM4a] Correcting container of \"id08381_1_OldqjDj1QFU_00131\"\n",
      "[ExtractAudio] Destination: id08381_1_OldqjDj1QFU_00131.mp3\n",
      "Deleting original file id08381_1_OldqjDj1QFU_00131 (pass -k to keep)\n",
      "Audio downloaded as id08381_1_OldqjDj1QFU_00131\n",
      "Trimmed audio saved as ../data/download_df_audio/id08381_1_OldqjDj1QFU_00131_cut.mp3\n",
      "Speaker: id08467, Video: p8SfL7axEKY, Txt file: 00170\n"
     ]
    },
    {
     "name": "stderr",
     "output_type": "stream",
     "text": [
      "ERROR: [youtube] p8SfL7axEKY: Video unavailable. This video is no longer available because the YouTube account associated with this video has been terminated.\n"
     ]
    },
    {
     "name": "stdout",
     "output_type": "stream",
     "text": [
      "Speaker: id08467, Video: X-NmGbZFmBs, Txt file: 00093\n",
      "[youtube] Extracting URL: https://www.youtube.com/watch?v=X-NmGbZFmBs\n",
      "[youtube] X-NmGbZFmBs: Downloading webpage\n",
      "[youtube] X-NmGbZFmBs: Downloading tv client config\n",
      "[youtube] X-NmGbZFmBs: Downloading player 5ae7d525\n",
      "[youtube] X-NmGbZFmBs: Downloading tv player API JSON\n",
      "[youtube] X-NmGbZFmBs: Downloading ios player API JSON\n",
      "[youtube] X-NmGbZFmBs: Downloading m3u8 information\n",
      "[info] X-NmGbZFmBs: Downloading 1 format(s): 251\n",
      "[download] Destination: id08467_0_X-NmGbZFmBs_00093\n",
      "[download] 100% of    9.55MiB in 00:00:01 at 6.73MiB/s   \n",
      "[ExtractAudio] Destination: id08467_0_X-NmGbZFmBs_00093.mp3\n",
      "Deleting original file id08467_0_X-NmGbZFmBs_00093 (pass -k to keep)\n",
      "Audio downloaded as id08467_0_X-NmGbZFmBs_00093\n",
      "Trimmed audio saved as ../data/download_df_audio/id08467_0_X-NmGbZFmBs_00093_cut.mp3\n",
      "Speaker: id08467, Video: ZWbiR8M-gm0, Txt file: 00143\n"
     ]
    },
    {
     "name": "stderr",
     "output_type": "stream",
     "text": [
      "ERROR: [youtube] ZWbiR8M-gm0: Video unavailable. This video is no longer available because the YouTube account associated with this video has been terminated.\n"
     ]
    },
    {
     "name": "stdout",
     "output_type": "stream",
     "text": [
      "Speaker: id08467, Video: XYq5fk69dIY, Txt file: 00103\n"
     ]
    },
    {
     "name": "stderr",
     "output_type": "stream",
     "text": [
      "ERROR: [youtube] XYq5fk69dIY: Video unavailable. This video contains content from Worldwide Pants Incorporated, who has blocked it on copyright grounds\n"
     ]
    },
    {
     "name": "stdout",
     "output_type": "stream",
     "text": [
      "Speaker: id08467, Video: dmQt9pzcOh8, Txt file: 00153\n"
     ]
    },
    {
     "name": "stderr",
     "output_type": "stream",
     "text": [
      "ERROR: [youtube] dmQt9pzcOh8: Video unavailable. This video contains content from WBTV, who has blocked it on copyright grounds\n"
     ]
    },
    {
     "name": "stdout",
     "output_type": "stream",
     "text": [
      "Speaker: id08467, Video: 5TI8E4p_U6A, Txt file: 00038\n",
      "[youtube] Extracting URL: https://www.youtube.com/watch?v=5TI8E4p_U6A\n",
      "[youtube] 5TI8E4p_U6A: Downloading webpage\n",
      "[youtube] 5TI8E4p_U6A: Downloading tv client config\n",
      "[youtube] 5TI8E4p_U6A: Downloading player 5ae7d525\n",
      "[youtube] 5TI8E4p_U6A: Downloading tv player API JSON\n",
      "[youtube] 5TI8E4p_U6A: Downloading ios player API JSON\n",
      "[youtube] 5TI8E4p_U6A: Downloading m3u8 information\n",
      "[info] 5TI8E4p_U6A: Downloading 1 format(s): 251\n",
      "[download] Destination: id08467_1_5TI8E4p_U6A_00038\n",
      "[download] 100% of    9.00MiB in 00:00:01 at 7.06MiB/s   \n",
      "[ExtractAudio] Destination: id08467_1_5TI8E4p_U6A_00038.mp3\n",
      "Deleting original file id08467_1_5TI8E4p_U6A_00038 (pass -k to keep)\n",
      "Audio downloaded as id08467_1_5TI8E4p_U6A_00038\n",
      "Trimmed audio saved as ../data/download_df_audio/id08467_1_5TI8E4p_U6A_00038_cut.mp3\n",
      "Speaker: id08477, Video: uuTIQW0T8xs, Txt file: 00478\n"
     ]
    },
    {
     "name": "stderr",
     "output_type": "stream",
     "text": [
      "ERROR: [youtube] uuTIQW0T8xs: Video unavailable. This video is no longer available because the YouTube account associated with this video has been terminated.\n"
     ]
    },
    {
     "name": "stdout",
     "output_type": "stream",
     "text": [
      "Speaker: id08477, Video: kpNbUN2_ebo, Txt file: 00395\n",
      "[youtube] Extracting URL: https://www.youtube.com/watch?v=kpNbUN2_ebo\n",
      "[youtube] kpNbUN2_ebo: Downloading webpage\n",
      "[youtube] kpNbUN2_ebo: Downloading tv client config\n",
      "[youtube] kpNbUN2_ebo: Downloading player 5ae7d525\n",
      "[youtube] kpNbUN2_ebo: Downloading tv player API JSON\n",
      "[youtube] kpNbUN2_ebo: Downloading ios player API JSON\n",
      "[youtube] kpNbUN2_ebo: Downloading m3u8 information\n",
      "[info] kpNbUN2_ebo: Downloading 1 format(s): 251\n",
      "[download] Destination: id08477_0_kpNbUN2_ebo_00395\n",
      "[download] 100% of    6.92MiB in 00:00:00 at 7.96MiB/s   \n",
      "[ExtractAudio] Destination: id08477_0_kpNbUN2_ebo_00395.mp3\n",
      "Deleting original file id08477_0_kpNbUN2_ebo_00395 (pass -k to keep)\n",
      "Audio downloaded as id08477_0_kpNbUN2_ebo_00395\n",
      "Trimmed audio saved as ../data/download_df_audio/id08477_0_kpNbUN2_ebo_00395_cut.mp3\n",
      "Speaker: id08477, Video: XsnmMhKEDiE, Txt file: 00293\n"
     ]
    },
    {
     "name": "stderr",
     "output_type": "stream",
     "text": [
      "ERROR: [youtube] XsnmMhKEDiE: Private video. Sign in if you've been granted access to this video. Use --cookies-from-browser or --cookies for the authentication. See  https://github.com/yt-dlp/yt-dlp/wiki/FAQ#how-do-i-pass-cookies-to-yt-dlp  for how to manually pass cookies. Also see  https://github.com/yt-dlp/yt-dlp/wiki/Extractors#exporting-youtube-cookies  for tips on effectively exporting YouTube cookies\n"
     ]
    },
    {
     "name": "stdout",
     "output_type": "stream",
     "text": [
      "Speaker: id08477, Video: NxX3GY57DWQ, Txt file: 00238\n",
      "[youtube] Extracting URL: https://www.youtube.com/watch?v=NxX3GY57DWQ\n",
      "[youtube] NxX3GY57DWQ: Downloading webpage\n",
      "[youtube] NxX3GY57DWQ: Downloading tv client config\n",
      "[youtube] NxX3GY57DWQ: Downloading player 5ae7d525\n",
      "[youtube] NxX3GY57DWQ: Downloading tv player API JSON\n",
      "[youtube] NxX3GY57DWQ: Downloading ios player API JSON\n",
      "[youtube] NxX3GY57DWQ: Downloading m3u8 information\n",
      "[info] NxX3GY57DWQ: Downloading 1 format(s): 140\n",
      "[download] Destination: id08477_1_NxX3GY57DWQ_00238\n",
      "[download] 100% of    1.88MiB in 00:00:00 at 5.13MiB/s     \n",
      "[FixupM4a] Correcting container of \"id08477_1_NxX3GY57DWQ_00238\"\n",
      "[ExtractAudio] Destination: id08477_1_NxX3GY57DWQ_00238.mp3\n",
      "Deleting original file id08477_1_NxX3GY57DWQ_00238 (pass -k to keep)\n",
      "Audio downloaded as id08477_1_NxX3GY57DWQ_00238\n",
      "Trimmed audio saved as ../data/download_df_audio/id08477_1_NxX3GY57DWQ_00238_cut.mp3\n",
      "Speaker: id08512, Video: ZqdkYhXxKm4, Txt file: 00046\n",
      "[youtube] Extracting URL: https://www.youtube.com/watch?v=ZqdkYhXxKm4\n",
      "[youtube] ZqdkYhXxKm4: Downloading webpage\n",
      "[youtube] ZqdkYhXxKm4: Downloading tv client config\n",
      "[youtube] ZqdkYhXxKm4: Downloading player 5ae7d525\n",
      "[youtube] ZqdkYhXxKm4: Downloading tv player API JSON\n",
      "[youtube] ZqdkYhXxKm4: Downloading ios player API JSON\n",
      "[youtube] ZqdkYhXxKm4: Downloading m3u8 information\n",
      "[info] ZqdkYhXxKm4: Downloading 1 format(s): 140\n",
      "[download] Destination: id08512_0_ZqdkYhXxKm4_00046\n",
      "[download] 100% of   13.89MiB in 00:00:01 at 8.14MiB/s   \n",
      "[FixupM4a] Correcting container of \"id08512_0_ZqdkYhXxKm4_00046\"\n",
      "[ExtractAudio] Destination: id08512_0_ZqdkYhXxKm4_00046.mp3\n",
      "Deleting original file id08512_0_ZqdkYhXxKm4_00046 (pass -k to keep)\n",
      "Audio downloaded as id08512_0_ZqdkYhXxKm4_00046\n",
      "Trimmed audio saved as ../data/download_df_audio/id08512_0_ZqdkYhXxKm4_00046_cut.mp3\n",
      "Speaker: id08512, Video: ld2r-RRorAw, Txt file: 00123\n",
      "[youtube] Extracting URL: https://www.youtube.com/watch?v=ld2r-RRorAw\n",
      "[youtube] ld2r-RRorAw: Downloading webpage\n",
      "[youtube] ld2r-RRorAw: Downloading tv client config\n",
      "[youtube] ld2r-RRorAw: Downloading player 5ae7d525\n",
      "[youtube] ld2r-RRorAw: Downloading tv player API JSON\n",
      "[youtube] ld2r-RRorAw: Downloading ios player API JSON\n",
      "[youtube] ld2r-RRorAw: Downloading m3u8 information\n",
      "[info] ld2r-RRorAw: Downloading 1 format(s): 251\n",
      "[download] Destination: id08512_1_ld2r-RRorAw_00123\n",
      "[download] 100% of    4.41MiB in 00:00:00 at 4.45MiB/s   \n",
      "[ExtractAudio] Destination: id08512_1_ld2r-RRorAw_00123.mp3\n",
      "Deleting original file id08512_1_ld2r-RRorAw_00123 (pass -k to keep)\n",
      "Audio downloaded as id08512_1_ld2r-RRorAw_00123\n",
      "Trimmed audio saved as ../data/download_df_audio/id08512_1_ld2r-RRorAw_00123_cut.mp3\n",
      "Speaker: id08521, Video: PHP53k1BRpw, Txt file: 00105\n",
      "[youtube] Extracting URL: https://www.youtube.com/watch?v=PHP53k1BRpw\n",
      "[youtube] PHP53k1BRpw: Downloading webpage\n",
      "[youtube] PHP53k1BRpw: Downloading tv client config\n",
      "[youtube] PHP53k1BRpw: Downloading player 5ae7d525\n",
      "[youtube] PHP53k1BRpw: Downloading tv player API JSON\n",
      "[youtube] PHP53k1BRpw: Downloading ios player API JSON\n",
      "[youtube] PHP53k1BRpw: Downloading m3u8 information\n",
      "[info] PHP53k1BRpw: Downloading 1 format(s): 251\n",
      "[download] Destination: id08521_0_PHP53k1BRpw_00105\n",
      "[download] 100% of    4.44MiB in 00:00:00 at 5.18MiB/s     \n",
      "[ExtractAudio] Destination: id08521_0_PHP53k1BRpw_00105.mp3\n",
      "Deleting original file id08521_0_PHP53k1BRpw_00105 (pass -k to keep)\n",
      "Audio downloaded as id08521_0_PHP53k1BRpw_00105\n",
      "Trimmed audio saved as ../data/download_df_audio/id08521_0_PHP53k1BRpw_00105_cut.mp3\n",
      "Speaker: id08521, Video: t2bdmyOt67Q, Txt file: 00323\n",
      "[youtube] Extracting URL: https://www.youtube.com/watch?v=t2bdmyOt67Q\n",
      "[youtube] t2bdmyOt67Q: Downloading webpage\n",
      "[youtube] t2bdmyOt67Q: Downloading tv client config\n",
      "[youtube] t2bdmyOt67Q: Downloading player 5ae7d525\n",
      "[youtube] t2bdmyOt67Q: Downloading tv player API JSON\n",
      "[youtube] t2bdmyOt67Q: Downloading ios player API JSON\n",
      "[youtube] t2bdmyOt67Q: Downloading m3u8 information\n",
      "[info] t2bdmyOt67Q: Downloading 1 format(s): 251\n",
      "[download] Destination: id08521_1_t2bdmyOt67Q_00323\n",
      "[download] 100% of    6.47MiB in 00:00:01 at 4.28MiB/s     \n",
      "[ExtractAudio] Destination: id08521_1_t2bdmyOt67Q_00323.mp3\n",
      "Deleting original file id08521_1_t2bdmyOt67Q_00323 (pass -k to keep)\n",
      "Audio downloaded as id08521_1_t2bdmyOt67Q_00323\n",
      "Trimmed audio saved as ../data/download_df_audio/id08521_1_t2bdmyOt67Q_00323_cut.mp3\n",
      "Speaker: id08593, Video: D63OVvHIhd4, Txt file: 00039\n",
      "[youtube] Extracting URL: https://www.youtube.com/watch?v=D63OVvHIhd4\n",
      "[youtube] D63OVvHIhd4: Downloading webpage\n",
      "[youtube] D63OVvHIhd4: Downloading tv client config\n",
      "[youtube] D63OVvHIhd4: Downloading player 5ae7d525\n",
      "[youtube] D63OVvHIhd4: Downloading tv player API JSON\n",
      "[youtube] D63OVvHIhd4: Downloading ios player API JSON\n",
      "[youtube] D63OVvHIhd4: Downloading m3u8 information\n",
      "[info] D63OVvHIhd4: Downloading 1 format(s): 251\n",
      "[download] Destination: id08593_0_D63OVvHIhd4_00039\n",
      "[download] 100% of    2.25MiB in 00:00:01 at 1.33MiB/s   \n",
      "[ExtractAudio] Destination: id08593_0_D63OVvHIhd4_00039.mp3\n",
      "Deleting original file id08593_0_D63OVvHIhd4_00039 (pass -k to keep)\n",
      "Audio downloaded as id08593_0_D63OVvHIhd4_00039\n",
      "Trimmed audio saved as ../data/download_df_audio/id08593_0_D63OVvHIhd4_00039_cut.mp3\n",
      "Speaker: id08593, Video: 6E-HzcmRYnA, Txt file: 00020\n",
      "[youtube] Extracting URL: https://www.youtube.com/watch?v=6E-HzcmRYnA\n",
      "[youtube] 6E-HzcmRYnA: Downloading webpage\n",
      "[youtube] 6E-HzcmRYnA: Downloading tv client config\n",
      "[youtube] 6E-HzcmRYnA: Downloading player 5ae7d525\n",
      "[youtube] 6E-HzcmRYnA: Downloading tv player API JSON\n",
      "[youtube] 6E-HzcmRYnA: Downloading ios player API JSON\n",
      "[youtube] 6E-HzcmRYnA: Downloading m3u8 information\n",
      "[info] 6E-HzcmRYnA: Downloading 1 format(s): 251\n",
      "[download] Destination: id08593_1_6E-HzcmRYnA_00020\n",
      "[download] 100% of    6.07MiB in 00:00:00 at 6.96MiB/s   \n",
      "[ExtractAudio] Destination: id08593_1_6E-HzcmRYnA_00020.mp3\n",
      "Deleting original file id08593_1_6E-HzcmRYnA_00020 (pass -k to keep)\n",
      "Audio downloaded as id08593_1_6E-HzcmRYnA_00020\n",
      "Trimmed audio saved as ../data/download_df_audio/id08593_1_6E-HzcmRYnA_00020_cut.mp3\n",
      "Speaker: id08608, Video: 68GoBUcR4Tg, Txt file: 00015\n",
      "[youtube] Extracting URL: https://www.youtube.com/watch?v=68GoBUcR4Tg\n",
      "[youtube] 68GoBUcR4Tg: Downloading webpage\n",
      "[youtube] 68GoBUcR4Tg: Downloading tv client config\n",
      "[youtube] 68GoBUcR4Tg: Downloading player 5ae7d525\n",
      "[youtube] 68GoBUcR4Tg: Downloading tv player API JSON\n",
      "[youtube] 68GoBUcR4Tg: Downloading ios player API JSON\n",
      "[youtube] 68GoBUcR4Tg: Downloading m3u8 information\n",
      "[info] 68GoBUcR4Tg: Downloading 1 format(s): 258\n",
      "[download] Destination: id08608_0_68GoBUcR4Tg_00015\n",
      "[download] 100% of   16.64MiB in 00:00:07 at 2.25MiB/s     \n",
      "[FixupM4a] Correcting container of \"id08608_0_68GoBUcR4Tg_00015\"\n",
      "[ExtractAudio] Destination: id08608_0_68GoBUcR4Tg_00015.mp3\n",
      "Deleting original file id08608_0_68GoBUcR4Tg_00015 (pass -k to keep)\n",
      "Audio downloaded as id08608_0_68GoBUcR4Tg_00015\n",
      "Trimmed audio saved as ../data/download_df_audio/id08608_0_68GoBUcR4Tg_00015_cut.mp3\n",
      "Speaker: id08608, Video: a4G5It1Dy6A, Txt file: 00157\n",
      "[youtube] Extracting URL: https://www.youtube.com/watch?v=a4G5It1Dy6A\n",
      "[youtube] a4G5It1Dy6A: Downloading webpage\n",
      "[youtube] a4G5It1Dy6A: Downloading tv client config\n",
      "[youtube] a4G5It1Dy6A: Downloading player 5ae7d525\n",
      "[youtube] a4G5It1Dy6A: Downloading tv player API JSON\n",
      "[youtube] a4G5It1Dy6A: Downloading ios player API JSON\n",
      "[youtube] a4G5It1Dy6A: Downloading m3u8 information\n",
      "[info] a4G5It1Dy6A: Downloading 1 format(s): 251\n",
      "[download] Destination: id08608_1_a4G5It1Dy6A_00157\n",
      "[download] 100% of    2.24MiB in 00:00:00 at 5.26MiB/s   \n",
      "[ExtractAudio] Destination: id08608_1_a4G5It1Dy6A_00157.mp3\n",
      "Deleting original file id08608_1_a4G5It1Dy6A_00157 (pass -k to keep)\n",
      "Audio downloaded as id08608_1_a4G5It1Dy6A_00157\n",
      "Trimmed audio saved as ../data/download_df_audio/id08608_1_a4G5It1Dy6A_00157_cut.mp3\n",
      "Speaker: id08642, Video: rGVtvVCiC_0, Txt file: 00104\n",
      "[youtube] Extracting URL: https://www.youtube.com/watch?v=rGVtvVCiC_0\n",
      "[youtube] rGVtvVCiC_0: Downloading webpage\n",
      "[youtube] rGVtvVCiC_0: Downloading tv client config\n",
      "[youtube] rGVtvVCiC_0: Downloading player 5ae7d525\n",
      "[youtube] rGVtvVCiC_0: Downloading tv player API JSON\n",
      "[youtube] rGVtvVCiC_0: Downloading ios player API JSON\n",
      "[youtube] rGVtvVCiC_0: Downloading m3u8 information\n",
      "[info] rGVtvVCiC_0: Downloading 1 format(s): 251\n",
      "[download] Destination: id08642_0_rGVtvVCiC_0_00104\n",
      "[download] 100% of    1.29MiB in 00:00:00 at 3.23MiB/s     \n",
      "[ExtractAudio] Destination: id08642_0_rGVtvVCiC_0_00104.mp3\n",
      "Deleting original file id08642_0_rGVtvVCiC_0_00104 (pass -k to keep)\n",
      "Audio downloaded as id08642_0_rGVtvVCiC_0_00104\n",
      "Trimmed audio saved as ../data/download_df_audio/id08642_0_rGVtvVCiC_0_00104_cut.mp3\n",
      "Speaker: id08642, Video: YD2gllIEOkg, Txt file: 00038\n",
      "[youtube] Extracting URL: https://www.youtube.com/watch?v=YD2gllIEOkg\n",
      "[youtube] YD2gllIEOkg: Downloading webpage\n",
      "[youtube] YD2gllIEOkg: Downloading tv client config\n",
      "[youtube] YD2gllIEOkg: Downloading player 5ae7d525\n",
      "[youtube] YD2gllIEOkg: Downloading tv player API JSON\n",
      "[youtube] YD2gllIEOkg: Downloading ios player API JSON\n",
      "[youtube] YD2gllIEOkg: Downloading m3u8 information\n",
      "[info] YD2gllIEOkg: Downloading 1 format(s): 251\n",
      "[download] Destination: id08642_1_YD2gllIEOkg_00038\n",
      "[download] 100% of    2.41MiB in 00:00:01 at 2.31MiB/s   \n",
      "[ExtractAudio] Destination: id08642_1_YD2gllIEOkg_00038.mp3\n",
      "Deleting original file id08642_1_YD2gllIEOkg_00038 (pass -k to keep)\n",
      "Audio downloaded as id08642_1_YD2gllIEOkg_00038\n",
      "Trimmed audio saved as ../data/download_df_audio/id08642_1_YD2gllIEOkg_00038_cut.mp3\n",
      "Speaker: id08687, Video: LLXE4gTmM20, Txt file: 00005\n",
      "[youtube] Extracting URL: https://www.youtube.com/watch?v=LLXE4gTmM20\n",
      "[youtube] LLXE4gTmM20: Downloading webpage\n",
      "[youtube] LLXE4gTmM20: Downloading tv client config\n",
      "[youtube] LLXE4gTmM20: Downloading player 5ae7d525\n",
      "[youtube] LLXE4gTmM20: Downloading tv player API JSON\n",
      "[youtube] LLXE4gTmM20: Downloading ios player API JSON\n",
      "[youtube] LLXE4gTmM20: Downloading m3u8 information\n",
      "[info] LLXE4gTmM20: Downloading 1 format(s): 140\n",
      "[download] Destination: id08687_0_LLXE4gTmM20_00005\n",
      "[download] 100% of    5.12MiB in 00:00:01 at 4.99MiB/s   \n",
      "[FixupM4a] Correcting container of \"id08687_0_LLXE4gTmM20_00005\"\n",
      "[ExtractAudio] Destination: id08687_0_LLXE4gTmM20_00005.mp3\n",
      "Deleting original file id08687_0_LLXE4gTmM20_00005 (pass -k to keep)\n",
      "Audio downloaded as id08687_0_LLXE4gTmM20_00005\n",
      "Trimmed audio saved as ../data/download_df_audio/id08687_0_LLXE4gTmM20_00005_cut.mp3\n",
      "Speaker: id08687, Video: M-59CE8KADE, Txt file: 00006\n",
      "[youtube] Extracting URL: https://www.youtube.com/watch?v=M-59CE8KADE\n",
      "[youtube] M-59CE8KADE: Downloading webpage\n",
      "[youtube] M-59CE8KADE: Downloading tv client config\n",
      "[youtube] M-59CE8KADE: Downloading player 5ae7d525\n",
      "[youtube] M-59CE8KADE: Downloading tv player API JSON\n",
      "[youtube] M-59CE8KADE: Downloading ios player API JSON\n",
      "[youtube] M-59CE8KADE: Downloading m3u8 information\n",
      "[info] M-59CE8KADE: Downloading 1 format(s): 140\n",
      "[download] Destination: id08687_1_M-59CE8KADE_00006\n",
      "[download] 100% of   17.81MiB in 00:00:01 at 11.51MiB/s    \n",
      "[FixupM4a] Correcting container of \"id08687_1_M-59CE8KADE_00006\"\n",
      "[ExtractAudio] Destination: id08687_1_M-59CE8KADE_00006.mp3\n",
      "Deleting original file id08687_1_M-59CE8KADE_00006 (pass -k to keep)\n",
      "Audio downloaded as id08687_1_M-59CE8KADE_00006\n",
      "Trimmed audio saved as ../data/download_df_audio/id08687_1_M-59CE8KADE_00006_cut.mp3\n",
      "Speaker: id08714, Video: lXJfDvRMbRo, Txt file: 00390\n"
     ]
    },
    {
     "name": "stderr",
     "output_type": "stream",
     "text": [
      "ERROR: [youtube] lXJfDvRMbRo: Private video. Sign in if you've been granted access to this video. Use --cookies-from-browser or --cookies for the authentication. See  https://github.com/yt-dlp/yt-dlp/wiki/FAQ#how-do-i-pass-cookies-to-yt-dlp  for how to manually pass cookies. Also see  https://github.com/yt-dlp/yt-dlp/wiki/Extractors#exporting-youtube-cookies  for tips on effectively exporting YouTube cookies\n"
     ]
    },
    {
     "name": "stdout",
     "output_type": "stream",
     "text": [
      "Speaker: id08714, Video: rgxgz92RCTM, Txt file: 00465\n"
     ]
    },
    {
     "name": "stderr",
     "output_type": "stream",
     "text": [
      "ERROR: [youtube] rgxgz92RCTM: Video unavailable\n"
     ]
    },
    {
     "name": "stdout",
     "output_type": "stream",
     "text": [
      "Speaker: id08714, Video: lXJfDvRMbRo, Txt file: 00396\n"
     ]
    },
    {
     "name": "stderr",
     "output_type": "stream",
     "text": [
      "ERROR: [youtube] lXJfDvRMbRo: Private video. Sign in if you've been granted access to this video. Use --cookies-from-browser or --cookies for the authentication. See  https://github.com/yt-dlp/yt-dlp/wiki/FAQ#how-do-i-pass-cookies-to-yt-dlp  for how to manually pass cookies. Also see  https://github.com/yt-dlp/yt-dlp/wiki/Extractors#exporting-youtube-cookies  for tips on effectively exporting YouTube cookies\n"
     ]
    },
    {
     "name": "stdout",
     "output_type": "stream",
     "text": [
      "Speaker: id08714, Video: 4I3GfZCZ1pk, Txt file: 00007\n",
      "[youtube] Extracting URL: https://www.youtube.com/watch?v=4I3GfZCZ1pk\n",
      "[youtube] 4I3GfZCZ1pk: Downloading webpage\n",
      "[youtube] 4I3GfZCZ1pk: Downloading tv client config\n",
      "[youtube] 4I3GfZCZ1pk: Downloading player 5ae7d525\n",
      "[youtube] 4I3GfZCZ1pk: Downloading tv player API JSON\n",
      "[youtube] 4I3GfZCZ1pk: Downloading ios player API JSON\n",
      "[youtube] 4I3GfZCZ1pk: Downloading m3u8 information\n",
      "[info] 4I3GfZCZ1pk: Downloading 1 format(s): 251\n",
      "[download] Destination: id08714_0_4I3GfZCZ1pk_00007\n",
      "[download] 100% of   10.29MiB in 00:00:05 at 1.95MiB/s     \n",
      "[ExtractAudio] Destination: id08714_0_4I3GfZCZ1pk_00007.mp3\n",
      "Deleting original file id08714_0_4I3GfZCZ1pk_00007 (pass -k to keep)\n",
      "Audio downloaded as id08714_0_4I3GfZCZ1pk_00007\n",
      "Trimmed audio saved as ../data/download_df_audio/id08714_0_4I3GfZCZ1pk_00007_cut.mp3\n",
      "Speaker: id08714, Video: BqrrSRps59s, Txt file: 00159\n"
     ]
    },
    {
     "name": "stderr",
     "output_type": "stream",
     "text": [
      "ERROR: [youtube] BqrrSRps59s: Video unavailable. This video is no longer available because the YouTube account associated with this video has been terminated.\n"
     ]
    },
    {
     "name": "stdout",
     "output_type": "stream",
     "text": [
      "Speaker: id08714, Video: 9uGO8J0w6C0, Txt file: 00107\n"
     ]
    },
    {
     "name": "stderr",
     "output_type": "stream",
     "text": [
      "ERROR: [youtube] 9uGO8J0w6C0: Video unavailable. This video is no longer available because the YouTube account associated with this video has been terminated.\n"
     ]
    },
    {
     "name": "stdout",
     "output_type": "stream",
     "text": [
      "Speaker: id08714, Video: B0G8mvB534M, Txt file: 00131\n"
     ]
    },
    {
     "name": "stderr",
     "output_type": "stream",
     "text": [
      "ERROR: [youtube] B0G8mvB534M: Video unavailable. This video is no longer available because the YouTube account associated with this video has been terminated.\n"
     ]
    },
    {
     "name": "stdout",
     "output_type": "stream",
     "text": [
      "Speaker: id08714, Video: YjX_OZyWbII, Txt file: 00318\n",
      "[youtube] Extracting URL: https://www.youtube.com/watch?v=YjX_OZyWbII\n",
      "[youtube] YjX_OZyWbII: Downloading webpage\n",
      "[youtube] YjX_OZyWbII: Downloading tv client config\n",
      "[youtube] YjX_OZyWbII: Downloading player 5ae7d525\n",
      "[youtube] YjX_OZyWbII: Downloading tv player API JSON\n",
      "[youtube] YjX_OZyWbII: Downloading ios player API JSON\n",
      "[youtube] YjX_OZyWbII: Downloading m3u8 information\n",
      "[info] YjX_OZyWbII: Downloading 1 format(s): 140\n",
      "[download] Destination: id08714_1_YjX_OZyWbII_00318\n",
      "[download] 100% of    5.87MiB in 00:00:01 at 3.56MiB/s   \n",
      "[FixupM4a] Correcting container of \"id08714_1_YjX_OZyWbII_00318\"\n",
      "[ExtractAudio] Destination: id08714_1_YjX_OZyWbII_00318.mp3\n",
      "Deleting original file id08714_1_YjX_OZyWbII_00318 (pass -k to keep)\n",
      "Audio downloaded as id08714_1_YjX_OZyWbII_00318\n",
      "Trimmed audio saved as ../data/download_df_audio/id08714_1_YjX_OZyWbII_00318_cut.mp3\n",
      "Speaker: id08840, Video: 5roL-rGEOWA, Txt file: 00032\n"
     ]
    },
    {
     "name": "stderr",
     "output_type": "stream",
     "text": [
      "ERROR: [youtube] 5roL-rGEOWA: Private video. Sign in if you've been granted access to this video. Use --cookies-from-browser or --cookies for the authentication. See  https://github.com/yt-dlp/yt-dlp/wiki/FAQ#how-do-i-pass-cookies-to-yt-dlp  for how to manually pass cookies. Also see  https://github.com/yt-dlp/yt-dlp/wiki/Extractors#exporting-youtube-cookies  for tips on effectively exporting YouTube cookies\n"
     ]
    },
    {
     "name": "stdout",
     "output_type": "stream",
     "text": [
      "Speaker: id08840, Video: VnCq6O3_g28, Txt file: 00055\n",
      "[youtube] Extracting URL: https://www.youtube.com/watch?v=VnCq6O3_g28\n",
      "[youtube] VnCq6O3_g28: Downloading webpage\n",
      "[youtube] VnCq6O3_g28: Downloading tv client config\n",
      "[youtube] VnCq6O3_g28: Downloading player 5ae7d525\n",
      "[youtube] VnCq6O3_g28: Downloading tv player API JSON\n",
      "[youtube] VnCq6O3_g28: Downloading ios player API JSON\n",
      "[youtube] VnCq6O3_g28: Downloading m3u8 information\n",
      "[info] VnCq6O3_g28: Downloading 1 format(s): 251\n",
      "[download] Destination: id08840_0_VnCq6O3_g28_00055\n",
      "[download] 100% of    1.47MiB in 00:00:00 at 2.72MiB/s   \n",
      "[ExtractAudio] Destination: id08840_0_VnCq6O3_g28_00055.mp3\n",
      "Deleting original file id08840_0_VnCq6O3_g28_00055 (pass -k to keep)\n",
      "Audio downloaded as id08840_0_VnCq6O3_g28_00055\n",
      "Trimmed audio saved as ../data/download_df_audio/id08840_0_VnCq6O3_g28_00055_cut.mp3\n",
      "Speaker: id08840, Video: eC4YFzlsk2Q, Txt file: 00072\n",
      "[youtube] Extracting URL: https://www.youtube.com/watch?v=eC4YFzlsk2Q\n",
      "[youtube] eC4YFzlsk2Q: Downloading webpage\n",
      "[youtube] eC4YFzlsk2Q: Downloading tv client config\n",
      "[youtube] eC4YFzlsk2Q: Downloading player 5ae7d525\n",
      "[youtube] eC4YFzlsk2Q: Downloading tv player API JSON\n",
      "[youtube] eC4YFzlsk2Q: Downloading ios player API JSON\n",
      "[youtube] eC4YFzlsk2Q: Downloading m3u8 information\n",
      "[info] eC4YFzlsk2Q: Downloading 1 format(s): 251\n",
      "[download] Destination: id08840_1_eC4YFzlsk2Q_00072\n",
      "[download] 100% of    4.70MiB in 00:00:01 at 2.74MiB/s     \n",
      "[ExtractAudio] Destination: id08840_1_eC4YFzlsk2Q_00072.mp3\n",
      "Deleting original file id08840_1_eC4YFzlsk2Q_00072 (pass -k to keep)\n",
      "Audio downloaded as id08840_1_eC4YFzlsk2Q_00072\n",
      "Trimmed audio saved as ../data/download_df_audio/id08840_1_eC4YFzlsk2Q_00072_cut.mp3\n",
      "Speaker: id08904, Video: 7B-8sUvkpS8, Txt file: 00073\n",
      "[youtube] Extracting URL: https://www.youtube.com/watch?v=7B-8sUvkpS8\n",
      "[youtube] 7B-8sUvkpS8: Downloading webpage\n",
      "[youtube] 7B-8sUvkpS8: Downloading tv client config\n",
      "[youtube] 7B-8sUvkpS8: Downloading player 5ae7d525\n",
      "[youtube] 7B-8sUvkpS8: Downloading tv player API JSON\n",
      "[youtube] 7B-8sUvkpS8: Downloading ios player API JSON\n",
      "[youtube] 7B-8sUvkpS8: Downloading m3u8 information\n",
      "[info] 7B-8sUvkpS8: Downloading 1 format(s): 251\n",
      "[download] Destination: id08904_0_7B-8sUvkpS8_00073\n",
      "[download] 100% of    2.49MiB in 00:00:00 at 2.56MiB/s   \n",
      "[ExtractAudio] Destination: id08904_0_7B-8sUvkpS8_00073.mp3\n",
      "Deleting original file id08904_0_7B-8sUvkpS8_00073 (pass -k to keep)\n",
      "Audio downloaded as id08904_0_7B-8sUvkpS8_00073\n",
      "Trimmed audio saved as ../data/download_df_audio/id08904_0_7B-8sUvkpS8_00073_cut.mp3\n",
      "Speaker: id08904, Video: lIiasd-DAuU, Txt file: 00380\n",
      "[youtube] Extracting URL: https://www.youtube.com/watch?v=lIiasd-DAuU\n",
      "[youtube] lIiasd-DAuU: Downloading webpage\n",
      "[youtube] lIiasd-DAuU: Downloading tv client config\n",
      "[youtube] lIiasd-DAuU: Downloading player 5ae7d525\n",
      "[youtube] lIiasd-DAuU: Downloading tv player API JSON\n",
      "[youtube] lIiasd-DAuU: Downloading ios player API JSON\n",
      "[youtube] lIiasd-DAuU: Downloading m3u8 information\n",
      "[info] lIiasd-DAuU: Downloading 1 format(s): 251\n",
      "[download] Destination: id08904_1_lIiasd-DAuU_00380\n",
      "[download] 100% of    3.80MiB in 00:00:00 at 5.47MiB/s   \n",
      "[ExtractAudio] Destination: id08904_1_lIiasd-DAuU_00380.mp3\n",
      "Deleting original file id08904_1_lIiasd-DAuU_00380 (pass -k to keep)\n",
      "Audio downloaded as id08904_1_lIiasd-DAuU_00380\n",
      "Trimmed audio saved as ../data/download_df_audio/id08904_1_lIiasd-DAuU_00380_cut.mp3\n",
      "Speaker: id08999, Video: poI11uU2isQ, Txt file: 00450\n"
     ]
    },
    {
     "name": "stderr",
     "output_type": "stream",
     "text": [
      "ERROR: [youtube] poI11uU2isQ: Private video. Sign in if you've been granted access to this video. Use --cookies-from-browser or --cookies for the authentication. See  https://github.com/yt-dlp/yt-dlp/wiki/FAQ#how-do-i-pass-cookies-to-yt-dlp  for how to manually pass cookies. Also see  https://github.com/yt-dlp/yt-dlp/wiki/Extractors#exporting-youtube-cookies  for tips on effectively exporting YouTube cookies\n"
     ]
    },
    {
     "name": "stdout",
     "output_type": "stream",
     "text": [
      "Speaker: id08999, Video: _r2RfU9wZfM, Txt file: 00269\n"
     ]
    },
    {
     "name": "stderr",
     "output_type": "stream",
     "text": [
      "ERROR: [youtube] _r2RfU9wZfM: Private video. Sign in if you've been granted access to this video. Use --cookies-from-browser or --cookies for the authentication. See  https://github.com/yt-dlp/yt-dlp/wiki/FAQ#how-do-i-pass-cookies-to-yt-dlp  for how to manually pass cookies. Also see  https://github.com/yt-dlp/yt-dlp/wiki/Extractors#exporting-youtube-cookies  for tips on effectively exporting YouTube cookies\n"
     ]
    },
    {
     "name": "stdout",
     "output_type": "stream",
     "text": [
      "Speaker: id08999, Video: 4v0J5KdrDL4, Txt file: 00068\n",
      "[youtube] Extracting URL: https://www.youtube.com/watch?v=4v0J5KdrDL4\n",
      "[youtube] 4v0J5KdrDL4: Downloading webpage\n",
      "[youtube] 4v0J5KdrDL4: Downloading tv client config\n",
      "[youtube] 4v0J5KdrDL4: Downloading player 5ae7d525\n",
      "[youtube] 4v0J5KdrDL4: Downloading tv player API JSON\n",
      "[youtube] 4v0J5KdrDL4: Downloading ios player API JSON\n",
      "[youtube] 4v0J5KdrDL4: Downloading m3u8 information\n",
      "[info] 4v0J5KdrDL4: Downloading 1 format(s): 251\n",
      "[download] Destination: id08999_0_4v0J5KdrDL4_00068\n",
      "[download] 100% of    8.46MiB in 00:00:01 at 8.15MiB/s   \n",
      "[ExtractAudio] Destination: id08999_0_4v0J5KdrDL4_00068.mp3\n",
      "Deleting original file id08999_0_4v0J5KdrDL4_00068 (pass -k to keep)\n",
      "Audio downloaded as id08999_0_4v0J5KdrDL4_00068\n",
      "Trimmed audio saved as ../data/download_df_audio/id08999_0_4v0J5KdrDL4_00068_cut.mp3\n",
      "Speaker: id08999, Video: _r2RfU9wZfM, Txt file: 00268\n"
     ]
    },
    {
     "name": "stderr",
     "output_type": "stream",
     "text": [
      "ERROR: [youtube] _r2RfU9wZfM: Private video. Sign in if you've been granted access to this video. Use --cookies-from-browser or --cookies for the authentication. See  https://github.com/yt-dlp/yt-dlp/wiki/FAQ#how-do-i-pass-cookies-to-yt-dlp  for how to manually pass cookies. Also see  https://github.com/yt-dlp/yt-dlp/wiki/Extractors#exporting-youtube-cookies  for tips on effectively exporting YouTube cookies\n"
     ]
    },
    {
     "name": "stdout",
     "output_type": "stream",
     "text": [
      "Speaker: id08999, Video: K5kNiePo57Y, Txt file: 00124\n"
     ]
    },
    {
     "name": "stderr",
     "output_type": "stream",
     "text": [
      "ERROR: [youtube] K5kNiePo57Y: Private video. Sign in if you've been granted access to this video. Use --cookies-from-browser or --cookies for the authentication. See  https://github.com/yt-dlp/yt-dlp/wiki/FAQ#how-do-i-pass-cookies-to-yt-dlp  for how to manually pass cookies. Also see  https://github.com/yt-dlp/yt-dlp/wiki/Extractors#exporting-youtube-cookies  for tips on effectively exporting YouTube cookies\n"
     ]
    },
    {
     "name": "stdout",
     "output_type": "stream",
     "text": [
      "Speaker: id08999, Video: tm0lN6z_ZpE, Txt file: 00490\n",
      "[youtube] Extracting URL: https://www.youtube.com/watch?v=tm0lN6z_ZpE\n",
      "[youtube] tm0lN6z_ZpE: Downloading webpage\n",
      "[youtube] tm0lN6z_ZpE: Downloading tv client config\n",
      "[youtube] tm0lN6z_ZpE: Downloading player 5ae7d525\n",
      "[youtube] tm0lN6z_ZpE: Downloading tv player API JSON\n",
      "[youtube] tm0lN6z_ZpE: Downloading ios player API JSON\n",
      "[youtube] tm0lN6z_ZpE: Downloading m3u8 information\n",
      "[info] tm0lN6z_ZpE: Downloading 1 format(s): 251\n",
      "[download] Destination: id08999_1_tm0lN6z_ZpE_00490\n",
      "[download] 100% of   11.85MiB in 00:00:01 at 9.53MiB/s     \n",
      "[ExtractAudio] Destination: id08999_1_tm0lN6z_ZpE_00490.mp3\n",
      "Deleting original file id08999_1_tm0lN6z_ZpE_00490 (pass -k to keep)\n",
      "Audio downloaded as id08999_1_tm0lN6z_ZpE_00490\n",
      "Trimmed audio saved as ../data/download_df_audio/id08999_1_tm0lN6z_ZpE_00490_cut.mp3\n",
      "Speaker: id09046, Video: wkqnymffnGs, Txt file: 00277\n"
     ]
    },
    {
     "name": "stderr",
     "output_type": "stream",
     "text": [
      "ERROR: [youtube] wkqnymffnGs: Video unavailable\n"
     ]
    },
    {
     "name": "stdout",
     "output_type": "stream",
     "text": [
      "Speaker: id09046, Video: K3tgd3aHr80, Txt file: 00090\n",
      "[youtube] Extracting URL: https://www.youtube.com/watch?v=K3tgd3aHr80\n",
      "[youtube] K3tgd3aHr80: Downloading webpage\n",
      "[youtube] K3tgd3aHr80: Downloading tv client config\n",
      "[youtube] K3tgd3aHr80: Downloading player 5ae7d525\n",
      "[youtube] K3tgd3aHr80: Downloading tv player API JSON\n",
      "[youtube] K3tgd3aHr80: Downloading ios player API JSON\n",
      "[youtube] K3tgd3aHr80: Downloading m3u8 information\n",
      "[info] K3tgd3aHr80: Downloading 1 format(s): 251\n",
      "[download] Destination: id09046_0_K3tgd3aHr80_00090\n",
      "[download] 100% of   17.93MiB in 00:00:04 at 3.63MiB/s     \n",
      "[ExtractAudio] Destination: id09046_0_K3tgd3aHr80_00090.mp3\n",
      "Deleting original file id09046_0_K3tgd3aHr80_00090 (pass -k to keep)\n",
      "Audio downloaded as id09046_0_K3tgd3aHr80_00090\n",
      "Trimmed audio saved as ../data/download_df_audio/id09046_0_K3tgd3aHr80_00090_cut.mp3\n",
      "Speaker: id09046, Video: TVvq2lSI_6U, Txt file: 00140\n",
      "[youtube] Extracting URL: https://www.youtube.com/watch?v=TVvq2lSI_6U\n",
      "[youtube] TVvq2lSI_6U: Downloading webpage\n",
      "[youtube] TVvq2lSI_6U: Downloading tv client config\n",
      "[youtube] TVvq2lSI_6U: Downloading player 5ae7d525\n",
      "[youtube] TVvq2lSI_6U: Downloading tv player API JSON\n",
      "[youtube] TVvq2lSI_6U: Downloading ios player API JSON\n",
      "[youtube] TVvq2lSI_6U: Downloading m3u8 information\n",
      "[info] TVvq2lSI_6U: Downloading 1 format(s): 140\n",
      "[download] Destination: id09046_1_TVvq2lSI_6U_00140\n",
      "[download] 100% of  735.11KiB in 00:00:00 at 1.43MiB/s   \n",
      "[FixupM4a] Correcting container of \"id09046_1_TVvq2lSI_6U_00140\"\n",
      "[ExtractAudio] Destination: id09046_1_TVvq2lSI_6U_00140.mp3\n",
      "Deleting original file id09046_1_TVvq2lSI_6U_00140 (pass -k to keep)\n",
      "Audio downloaded as id09046_1_TVvq2lSI_6U_00140\n",
      "Trimmed audio saved as ../data/download_df_audio/id09046_1_TVvq2lSI_6U_00140_cut.mp3\n",
      "Speaker: id09171, Video: 1fxsAEAVIF8, Txt file: 00015\n",
      "[youtube] Extracting URL: https://www.youtube.com/watch?v=1fxsAEAVIF8\n",
      "[youtube] 1fxsAEAVIF8: Downloading webpage\n",
      "[youtube] 1fxsAEAVIF8: Downloading tv client config\n",
      "[youtube] 1fxsAEAVIF8: Downloading player 5ae7d525\n",
      "[youtube] 1fxsAEAVIF8: Downloading tv player API JSON\n",
      "[youtube] 1fxsAEAVIF8: Downloading ios player API JSON\n",
      "[youtube] 1fxsAEAVIF8: Downloading m3u8 information\n",
      "[info] 1fxsAEAVIF8: Downloading 1 format(s): 140\n",
      "[download] Destination: id09171_0_1fxsAEAVIF8_00015\n",
      "[download] 100% of   10.98MiB in 00:00:04 at 2.39MiB/s     \n",
      "[FixupM4a] Correcting container of \"id09171_0_1fxsAEAVIF8_00015\"\n",
      "[ExtractAudio] Destination: id09171_0_1fxsAEAVIF8_00015.mp3\n",
      "Deleting original file id09171_0_1fxsAEAVIF8_00015 (pass -k to keep)\n",
      "Audio downloaded as id09171_0_1fxsAEAVIF8_00015\n",
      "Trimmed audio saved as ../data/download_df_audio/id09171_0_1fxsAEAVIF8_00015_cut.mp3\n",
      "Speaker: id09171, Video: mOCoBmkjJNI, Txt file: 00394\n"
     ]
    },
    {
     "name": "stderr",
     "output_type": "stream",
     "text": [
      "ERROR: [youtube] mOCoBmkjJNI: Video unavailable\n"
     ]
    },
    {
     "name": "stdout",
     "output_type": "stream",
     "text": [
      "Speaker: id09171, Video: mOCoBmkjJNI, Txt file: 00401\n"
     ]
    },
    {
     "name": "stderr",
     "output_type": "stream",
     "text": [
      "ERROR: [youtube] mOCoBmkjJNI: Video unavailable\n"
     ]
    },
    {
     "name": "stdout",
     "output_type": "stream",
     "text": [
      "Speaker: id09171, Video: Pi4etPfDSgs, Txt file: 00235\n"
     ]
    },
    {
     "name": "stderr",
     "output_type": "stream",
     "text": [
      "ERROR: [youtube] Pi4etPfDSgs: Video unavailable\n"
     ]
    },
    {
     "name": "stdout",
     "output_type": "stream",
     "text": [
      "Speaker: id09171, Video: mOCoBmkjJNI, Txt file: 00400\n"
     ]
    },
    {
     "name": "stderr",
     "output_type": "stream",
     "text": [
      "ERROR: [youtube] mOCoBmkjJNI: Video unavailable\n"
     ]
    },
    {
     "name": "stdout",
     "output_type": "stream",
     "text": [
      "Speaker: id09171, Video: mOCoBmkjJNI, Txt file: 00403\n"
     ]
    },
    {
     "name": "stderr",
     "output_type": "stream",
     "text": [
      "ERROR: [youtube] mOCoBmkjJNI: Video unavailable\n"
     ]
    },
    {
     "name": "stdout",
     "output_type": "stream",
     "text": [
      "Speaker: id09171, Video: MWsO3D8uCMo, Txt file: 00174\n",
      "[youtube] Extracting URL: https://www.youtube.com/watch?v=MWsO3D8uCMo\n",
      "[youtube] MWsO3D8uCMo: Downloading webpage\n",
      "[youtube] MWsO3D8uCMo: Downloading tv client config\n",
      "[youtube] MWsO3D8uCMo: Downloading player 5ae7d525\n",
      "[youtube] MWsO3D8uCMo: Downloading tv player API JSON\n",
      "[youtube] MWsO3D8uCMo: Downloading ios player API JSON\n",
      "[youtube] MWsO3D8uCMo: Downloading m3u8 information\n",
      "[info] MWsO3D8uCMo: Downloading 1 format(s): 140\n",
      "[download] Destination: id09171_1_MWsO3D8uCMo_00174\n",
      "[download] 100% of    4.92MiB in 00:00:01 at 4.06MiB/s   \n",
      "[FixupM4a] Correcting container of \"id09171_1_MWsO3D8uCMo_00174\"\n",
      "[ExtractAudio] Destination: id09171_1_MWsO3D8uCMo_00174.mp3\n",
      "Deleting original file id09171_1_MWsO3D8uCMo_00174 (pass -k to keep)\n",
      "Audio downloaded as id09171_1_MWsO3D8uCMo_00174\n",
      "Trimmed audio saved as ../data/download_df_audio/id09171_1_MWsO3D8uCMo_00174_cut.mp3\n",
      "Speaker: id09179, Video: qeoRyOh5EUk, Txt file: 00067\n"
     ]
    },
    {
     "name": "stderr",
     "output_type": "stream",
     "text": [
      "ERROR: [youtube] qeoRyOh5EUk: Video unavailable. This video is no longer available because the YouTube account associated with this video has been terminated.\n"
     ]
    },
    {
     "name": "stdout",
     "output_type": "stream",
     "text": [
      "Speaker: id09179, Video: TY8kMus6dpw, Txt file: 00032\n",
      "[youtube] Extracting URL: https://www.youtube.com/watch?v=TY8kMus6dpw\n",
      "[youtube] TY8kMus6dpw: Downloading webpage\n",
      "[youtube] TY8kMus6dpw: Downloading tv client config\n",
      "[youtube] TY8kMus6dpw: Downloading player 5ae7d525\n",
      "[youtube] TY8kMus6dpw: Downloading tv player API JSON\n",
      "[youtube] TY8kMus6dpw: Downloading ios player API JSON\n",
      "[youtube] TY8kMus6dpw: Downloading m3u8 information\n",
      "[info] TY8kMus6dpw: Downloading 1 format(s): 251\n",
      "[download] Destination: id09179_0_TY8kMus6dpw_00032\n",
      "[download] 100% of    1.32MiB in 00:00:00 at 3.05MiB/s   \n",
      "[ExtractAudio] Destination: id09179_0_TY8kMus6dpw_00032.mp3\n",
      "Deleting original file id09179_0_TY8kMus6dpw_00032 (pass -k to keep)\n",
      "Audio downloaded as id09179_0_TY8kMus6dpw_00032\n",
      "Trimmed audio saved as ../data/download_df_audio/id09179_0_TY8kMus6dpw_00032_cut.mp3\n",
      "Speaker: id09179, Video: PisbJ7IjIWA, Txt file: 00021\n"
     ]
    },
    {
     "name": "stderr",
     "output_type": "stream",
     "text": [
      "ERROR: [youtube] PisbJ7IjIWA: Video unavailable. This video is no longer available because the YouTube account associated with this video has been terminated.\n"
     ]
    },
    {
     "name": "stdout",
     "output_type": "stream",
     "text": [
      "Speaker: id09179, Video: PxTbEzlO-pU, Txt file: 00022\n",
      "[youtube] Extracting URL: https://www.youtube.com/watch?v=PxTbEzlO-pU\n",
      "[youtube] PxTbEzlO-pU: Downloading webpage\n",
      "[youtube] PxTbEzlO-pU: Downloading tv client config\n",
      "[youtube] PxTbEzlO-pU: Downloading player 5ae7d525\n",
      "[youtube] PxTbEzlO-pU: Downloading tv player API JSON\n",
      "[youtube] PxTbEzlO-pU: Downloading ios player API JSON\n",
      "[youtube] PxTbEzlO-pU: Downloading m3u8 information\n",
      "[info] PxTbEzlO-pU: Downloading 1 format(s): 140\n",
      "[download] Destination: id09179_1_PxTbEzlO-pU_00022\n",
      "[download] 100% of    7.02MiB in 00:00:00 at 8.10MiB/s   \n",
      "[FixupM4a] Correcting container of \"id09179_1_PxTbEzlO-pU_00022\"\n",
      "[ExtractAudio] Destination: id09179_1_PxTbEzlO-pU_00022.mp3\n",
      "Deleting original file id09179_1_PxTbEzlO-pU_00022 (pass -k to keep)\n",
      "Audio downloaded as id09179_1_PxTbEzlO-pU_00022\n",
      "Trimmed audio saved as ../data/download_df_audio/id09179_1_PxTbEzlO-pU_00022_cut.mp3\n",
      "Speaker: id09185, Video: hbnt54GExKU, Txt file: 00145\n",
      "[youtube] Extracting URL: https://www.youtube.com/watch?v=hbnt54GExKU\n",
      "[youtube] hbnt54GExKU: Downloading webpage\n",
      "[youtube] hbnt54GExKU: Downloading tv client config\n",
      "[youtube] hbnt54GExKU: Downloading player 5ae7d525\n",
      "[youtube] hbnt54GExKU: Downloading tv player API JSON\n",
      "[youtube] hbnt54GExKU: Downloading ios player API JSON\n",
      "[youtube] hbnt54GExKU: Downloading m3u8 information\n",
      "[info] hbnt54GExKU: Downloading 1 format(s): 140\n",
      "[download] Destination: id09185_0_hbnt54GExKU_00145\n",
      "[download] 100% of    9.13MiB in 00:00:02 at 3.90MiB/s   \n",
      "[FixupM4a] Correcting container of \"id09185_0_hbnt54GExKU_00145\"\n",
      "[ExtractAudio] Destination: id09185_0_hbnt54GExKU_00145.mp3\n",
      "Deleting original file id09185_0_hbnt54GExKU_00145 (pass -k to keep)\n",
      "Audio downloaded as id09185_0_hbnt54GExKU_00145\n",
      "Trimmed audio saved as ../data/download_df_audio/id09185_0_hbnt54GExKU_00145_cut.mp3\n",
      "Speaker: id09185, Video: p8LU0lpKZbM, Txt file: 00162\n",
      "[youtube] Extracting URL: https://www.youtube.com/watch?v=p8LU0lpKZbM\n",
      "[youtube] p8LU0lpKZbM: Downloading webpage\n",
      "[youtube] p8LU0lpKZbM: Downloading tv client config\n",
      "[youtube] p8LU0lpKZbM: Downloading player 5ae7d525\n",
      "[youtube] p8LU0lpKZbM: Downloading tv player API JSON\n",
      "[youtube] p8LU0lpKZbM: Downloading ios player API JSON\n",
      "[youtube] p8LU0lpKZbM: Downloading m3u8 information\n",
      "[info] p8LU0lpKZbM: Downloading 1 format(s): 140\n",
      "[download] Destination: id09185_1_p8LU0lpKZbM_00162\n",
      "[download] 100% of    4.73MiB in 00:00:02 at 2.20MiB/s     \n",
      "[FixupM4a] Correcting container of \"id09185_1_p8LU0lpKZbM_00162\"\n",
      "[ExtractAudio] Destination: id09185_1_p8LU0lpKZbM_00162.mp3\n",
      "Deleting original file id09185_1_p8LU0lpKZbM_00162 (pass -k to keep)\n",
      "Audio downloaded as id09185_1_p8LU0lpKZbM_00162\n",
      "Trimmed audio saved as ../data/download_df_audio/id09185_1_p8LU0lpKZbM_00162_cut.mp3\n"
     ]
    }
   ],
   "source": [
    "# remove all rows with longer length than already downloaded samples\n",
    "\n",
    "already_downloaded = get_df_by_downloaded_folder(\"../data/download_df_audio/\")\n",
    "already_downloaded = already_downloaded.sort_values(by=\"speaker\")\n",
    "# get min length for each speaker\n",
    "already_downloaded = already_downloaded.groupby(\"speaker\").min().reset_index()\n",
    "\n",
    "#Sort out the speakers rows rom df_top_celebs which are present in already_downloaded\n",
    "ids = set(already_downloaded[\"speaker\"].astype(str).str.strip())\n",
    "filtered_df = df_top_celebs[~df_top_celebs[\"speaker\"].astype(str).str.strip().isin(ids)]\n",
    "\n",
    "df_top_celebs_filtered = df_top_celebs.merge(\n",
    "    already_downloaded, on=\"speaker\", how=\"left\", suffixes=(\"\", \"_y\")\n",
    ")\n",
    "df_top_celebs_filtered = df_top_celebs_filtered[\n",
    "    df_top_celebs_filtered[\"length\"] < df_top_celebs_filtered[\"duration_s\"]\n",
    "]\n",
    "\n"
   ]
  },
  {
   "cell_type": "code",
   "execution_count": 40,
   "metadata": {},
   "outputs": [
    {
     "name": "stdout",
     "output_type": "stream",
     "text": [
      "Speaker: id08167, Video: GXb9-3UCtLQ, Txt file: 00140\n"
     ]
    },
    {
     "name": "stderr",
     "output_type": "stream",
     "text": [
      "ERROR: [youtube] GXb9-3UCtLQ: Video unavailable. This video is no longer available because the YouTube account associated with this video has been terminated.\n"
     ]
    },
    {
     "name": "stdout",
     "output_type": "stream",
     "text": [
      "Speaker: id08167, Video: GXb9-3UCtLQ, Txt file: 00119\n"
     ]
    },
    {
     "name": "stderr",
     "output_type": "stream",
     "text": [
      "ERROR: [youtube] GXb9-3UCtLQ: Video unavailable. This video is no longer available because the YouTube account associated with this video has been terminated.\n"
     ]
    },
    {
     "name": "stdout",
     "output_type": "stream",
     "text": [
      "Speaker: id08167, Video: YvEmSk1Tm9M, Txt file: 00207\n",
      "[youtube] Extracting URL: https://www.youtube.com/watch?v=YvEmSk1Tm9M\n",
      "[youtube] YvEmSk1Tm9M: Downloading webpage\n",
      "[youtube] YvEmSk1Tm9M: Downloading tv client config\n",
      "[youtube] YvEmSk1Tm9M: Downloading player 5ae7d525\n",
      "[youtube] YvEmSk1Tm9M: Downloading tv player API JSON\n",
      "[youtube] YvEmSk1Tm9M: Downloading ios player API JSON\n",
      "[youtube] YvEmSk1Tm9M: Downloading m3u8 information\n",
      "[info] YvEmSk1Tm9M: Downloading 1 format(s): 140\n",
      "[download] Destination: id08167_2_16120_YvEmSk1Tm9M_00207\n",
      "[download] 100% of    8.52MiB in 00:00:01 at 6.74MiB/s   \n",
      "[FixupM4a] Correcting container of \"id08167_2_16120_YvEmSk1Tm9M_00207\"\n",
      "[ExtractAudio] Destination: id08167_2_16120_YvEmSk1Tm9M_00207.mp3\n",
      "Deleting original file id08167_2_16120_YvEmSk1Tm9M_00207 (pass -k to keep)\n",
      "Audio downloaded as id08167_2_16120_YvEmSk1Tm9M_00207\n",
      "Trimmed audio saved as ../data/download_df_audio/id08167_2_16120_YvEmSk1Tm9M_00207_cut.mp3\n",
      "Speaker: id08167, Video: Htafo8uMxW8, Txt file: 00147\n"
     ]
    },
    {
     "name": "stderr",
     "output_type": "stream",
     "text": [
      "ERROR: [youtube] Htafo8uMxW8: This video has been removed for violating YouTube's Terms of Service\n"
     ]
    },
    {
     "name": "stdout",
     "output_type": "stream",
     "text": [
      "Speaker: id08167, Video: 6oU42Q3VP1k, Txt file: 00068\n",
      "[youtube] Extracting URL: https://www.youtube.com/watch?v=6oU42Q3VP1k\n",
      "[youtube] 6oU42Q3VP1k: Downloading webpage\n",
      "[youtube] 6oU42Q3VP1k: Downloading tv client config\n",
      "[youtube] 6oU42Q3VP1k: Downloading player 5ae7d525\n",
      "[youtube] 6oU42Q3VP1k: Downloading tv player API JSON\n",
      "[youtube] 6oU42Q3VP1k: Downloading ios player API JSON\n",
      "[youtube] 6oU42Q3VP1k: Downloading m3u8 information\n",
      "[info] 6oU42Q3VP1k: Downloading 1 format(s): 251\n",
      "[download] Destination: id08167_3_15920_6oU42Q3VP1k_00068\n",
      "[download] 100% of  760.07KiB in 00:00:00 at 3.37MiB/s   \n",
      "[ExtractAudio] Destination: id08167_3_15920_6oU42Q3VP1k_00068.mp3\n",
      "Deleting original file id08167_3_15920_6oU42Q3VP1k_00068 (pass -k to keep)\n",
      "Audio downloaded as id08167_3_15920_6oU42Q3VP1k_00068\n",
      "Trimmed audio saved as ../data/download_df_audio/id08167_3_15920_6oU42Q3VP1k_00068_cut.mp3\n",
      "Speaker: id08167, Video: ySSoMPNpnew, Txt file: 00319\n"
     ]
    },
    {
     "name": "stderr",
     "output_type": "stream",
     "text": [
      "ERROR: [youtube] ySSoMPNpnew: Video unavailable. This video is no longer available because the YouTube account associated with this video has been terminated.\n"
     ]
    },
    {
     "name": "stdout",
     "output_type": "stream",
     "text": [
      "Speaker: id08167, Video: 05tFsJPonao, Txt file: 00014\n"
     ]
    },
    {
     "name": "stderr",
     "output_type": "stream",
     "text": [
      "ERROR: [youtube] 05tFsJPonao: This video has been removed for violating YouTube's Terms of Service\n"
     ]
    },
    {
     "name": "stdout",
     "output_type": "stream",
     "text": [
      "Speaker: id08167, Video: RV0EM1baW_g, Txt file: 00172\n",
      "[youtube] Extracting URL: https://www.youtube.com/watch?v=RV0EM1baW_g\n",
      "[youtube] RV0EM1baW_g: Downloading webpage\n",
      "[youtube] RV0EM1baW_g: Downloading tv client config\n",
      "[youtube] RV0EM1baW_g: Downloading player 5ae7d525\n",
      "[youtube] RV0EM1baW_g: Downloading tv player API JSON\n",
      "[youtube] RV0EM1baW_g: Downloading ios player API JSON\n",
      "[youtube] RV0EM1baW_g: Downloading m3u8 information\n",
      "[info] RV0EM1baW_g: Downloading 1 format(s): 251\n",
      "[download] Destination: id08167_4_13520_RV0EM1baW_g_00172\n",
      "[download] 100% of    1.22MiB in 00:00:00 at 2.33MiB/s   \n",
      "[ExtractAudio] Destination: id08167_4_13520_RV0EM1baW_g_00172.mp3\n",
      "Deleting original file id08167_4_13520_RV0EM1baW_g_00172 (pass -k to keep)\n",
      "Audio downloaded as id08167_4_13520_RV0EM1baW_g_00172\n",
      "Trimmed audio saved as ../data/download_df_audio/id08167_4_13520_RV0EM1baW_g_00172_cut.mp3\n",
      "Speaker: id08167, Video: 6oU42Q3VP1k, Txt file: 00070\n",
      "[youtube] Extracting URL: https://www.youtube.com/watch?v=6oU42Q3VP1k\n",
      "[youtube] 6oU42Q3VP1k: Downloading webpage\n",
      "[youtube] 6oU42Q3VP1k: Downloading tv client config\n",
      "[youtube] 6oU42Q3VP1k: Downloading player 5ae7d525\n",
      "[youtube] 6oU42Q3VP1k: Downloading tv player API JSON\n",
      "[youtube] 6oU42Q3VP1k: Downloading ios player API JSON\n",
      "[youtube] 6oU42Q3VP1k: Downloading m3u8 information\n",
      "[info] 6oU42Q3VP1k: Downloading 1 format(s): 251\n",
      "[download] Destination: id08167_5_13320_6oU42Q3VP1k_00070\n",
      "[download] 100% of  760.07KiB in 00:00:00 at 6.25MiB/s   \n",
      "[ExtractAudio] Destination: id08167_5_13320_6oU42Q3VP1k_00070.mp3\n",
      "Deleting original file id08167_5_13320_6oU42Q3VP1k_00070 (pass -k to keep)\n",
      "Audio downloaded as id08167_5_13320_6oU42Q3VP1k_00070\n",
      "Trimmed audio saved as ../data/download_df_audio/id08167_5_13320_6oU42Q3VP1k_00070_cut.mp3\n",
      "Speaker: id08167, Video: XSYnho8O0zQ, Txt file: 00183\n"
     ]
    },
    {
     "name": "stderr",
     "output_type": "stream",
     "text": [
      "ERROR: [youtube] XSYnho8O0zQ: Video unavailable\n"
     ]
    },
    {
     "name": "stdout",
     "output_type": "stream",
     "text": [
      "Speaker: id08167, Video: ySSoMPNpnew, Txt file: 00308\n"
     ]
    },
    {
     "name": "stderr",
     "output_type": "stream",
     "text": [
      "ERROR: [youtube] ySSoMPNpnew: Video unavailable. This video is no longer available because the YouTube account associated with this video has been terminated.\n"
     ]
    },
    {
     "name": "stdout",
     "output_type": "stream",
     "text": [
      "Speaker: id08167, Video: t_qQz6eTpJQ, Txt file: 00288\n"
     ]
    },
    {
     "name": "stderr",
     "output_type": "stream",
     "text": [
      "ERROR: [youtube] t_qQz6eTpJQ: This video has been removed for violating YouTube's Terms of Service\n"
     ]
    },
    {
     "name": "stdout",
     "output_type": "stream",
     "text": [
      "Speaker: id08167, Video: b88sttYOYMo, Txt file: 00212\n",
      "[youtube] Extracting URL: https://www.youtube.com/watch?v=b88sttYOYMo\n",
      "[youtube] b88sttYOYMo: Downloading webpage\n",
      "[youtube] b88sttYOYMo: Downloading tv client config\n",
      "[youtube] b88sttYOYMo: Downloading player 5ae7d525\n",
      "[youtube] b88sttYOYMo: Downloading tv player API JSON\n",
      "[youtube] b88sttYOYMo: Downloading ios player API JSON\n",
      "[youtube] b88sttYOYMo: Downloading m3u8 information\n",
      "[info] b88sttYOYMo: Downloading 1 format(s): 251\n",
      "[download] Destination: id08167_6_12320_b88sttYOYMo_00212\n",
      "[download] 100% of   40.77MiB in 00:00:04 at 8.26MiB/s     \n",
      "[ExtractAudio] Destination: id08167_6_12320_b88sttYOYMo_00212.mp3\n",
      "Deleting original file id08167_6_12320_b88sttYOYMo_00212 (pass -k to keep)\n",
      "Audio downloaded as id08167_6_12320_b88sttYOYMo_00212\n",
      "Trimmed audio saved as ../data/download_df_audio/id08167_6_12320_b88sttYOYMo_00212_cut.mp3\n",
      "Speaker: id08167, Video: XSYnho8O0zQ, Txt file: 00194\n"
     ]
    },
    {
     "name": "stderr",
     "output_type": "stream",
     "text": [
      "ERROR: [youtube] XSYnho8O0zQ: Video unavailable\n"
     ]
    },
    {
     "name": "stdout",
     "output_type": "stream",
     "text": [
      "Speaker: id08167, Video: XSYnho8O0zQ, Txt file: 00191\n"
     ]
    },
    {
     "name": "stderr",
     "output_type": "stream",
     "text": [
      "ERROR: [youtube] XSYnho8O0zQ: Video unavailable\n"
     ]
    },
    {
     "name": "stdout",
     "output_type": "stream",
     "text": [
      "Speaker: id08167, Video: XSYnho8O0zQ, Txt file: 00192\n"
     ]
    },
    {
     "name": "stderr",
     "output_type": "stream",
     "text": [
      "ERROR: [youtube] XSYnho8O0zQ: Video unavailable\n"
     ]
    },
    {
     "name": "stdout",
     "output_type": "stream",
     "text": [
      "Speaker: id08167, Video: pr9wSXBmqKk, Txt file: 00287\n",
      "[youtube] Extracting URL: https://www.youtube.com/watch?v=pr9wSXBmqKk\n",
      "[youtube] pr9wSXBmqKk: Downloading webpage\n",
      "[youtube] pr9wSXBmqKk: Downloading tv client config\n",
      "[youtube] pr9wSXBmqKk: Downloading player 5ae7d525\n",
      "[youtube] pr9wSXBmqKk: Downloading tv player API JSON\n",
      "[youtube] pr9wSXBmqKk: Downloading ios player API JSON\n",
      "[youtube] pr9wSXBmqKk: Downloading m3u8 information\n",
      "[info] pr9wSXBmqKk: Downloading 1 format(s): 140\n",
      "[download] Destination: id08167_7_11560_pr9wSXBmqKk_00287\n",
      "[download] 100% of    5.92MiB in 00:00:00 at 7.05MiB/s   \n",
      "[FixupM4a] Correcting container of \"id08167_7_11560_pr9wSXBmqKk_00287\"\n",
      "[ExtractAudio] Destination: id08167_7_11560_pr9wSXBmqKk_00287.mp3\n",
      "Deleting original file id08167_7_11560_pr9wSXBmqKk_00287 (pass -k to keep)\n",
      "Audio downloaded as id08167_7_11560_pr9wSXBmqKk_00287\n",
      "Trimmed audio saved as ../data/download_df_audio/id08167_7_11560_pr9wSXBmqKk_00287_cut.mp3\n",
      "Speaker: id08167, Video: ySSoMPNpnew, Txt file: 00317\n"
     ]
    },
    {
     "name": "stderr",
     "output_type": "stream",
     "text": [
      "ERROR: [youtube] ySSoMPNpnew: Video unavailable. This video is no longer available because the YouTube account associated with this video has been terminated.\n"
     ]
    },
    {
     "name": "stdout",
     "output_type": "stream",
     "text": [
      "Speaker: id08167, Video: 7SShQr-0erM, Txt file: 00078\n",
      "[youtube] Extracting URL: https://www.youtube.com/watch?v=7SShQr-0erM\n",
      "[youtube] 7SShQr-0erM: Downloading webpage\n",
      "[youtube] 7SShQr-0erM: Downloading tv client config\n",
      "[youtube] 7SShQr-0erM: Downloading player 5ae7d525\n",
      "[youtube] 7SShQr-0erM: Downloading tv player API JSON\n",
      "[youtube] 7SShQr-0erM: Downloading ios player API JSON\n",
      "[youtube] 7SShQr-0erM: Downloading m3u8 information\n",
      "[info] 7SShQr-0erM: Downloading 1 format(s): 251\n",
      "[download] Destination: id08167_8_11440_7SShQr-0erM_00078\n",
      "[download] 100% of    3.33MiB in 00:00:00 at 6.71MiB/s   \n",
      "[ExtractAudio] Destination: id08167_8_11440_7SShQr-0erM_00078.mp3\n",
      "Deleting original file id08167_8_11440_7SShQr-0erM_00078 (pass -k to keep)\n",
      "Audio downloaded as id08167_8_11440_7SShQr-0erM_00078\n",
      "Trimmed audio saved as ../data/download_df_audio/id08167_8_11440_7SShQr-0erM_00078_cut.mp3\n",
      "Speaker: id08167, Video: x5tHMyGVwlY, Txt file: 00305\n",
      "[youtube] Extracting URL: https://www.youtube.com/watch?v=x5tHMyGVwlY\n",
      "[youtube] x5tHMyGVwlY: Downloading webpage\n",
      "[youtube] x5tHMyGVwlY: Downloading tv client config\n",
      "[youtube] x5tHMyGVwlY: Downloading player 5ae7d525\n",
      "[youtube] x5tHMyGVwlY: Downloading tv player API JSON\n",
      "[youtube] x5tHMyGVwlY: Downloading ios player API JSON\n",
      "[youtube] x5tHMyGVwlY: Downloading m3u8 information\n",
      "[info] x5tHMyGVwlY: Downloading 1 format(s): 140\n",
      "[download] Destination: id08167_9_11400_x5tHMyGVwlY_00305\n",
      "[download] 100% of    4.47MiB in 00:00:00 at 4.90MiB/s   \n",
      "[FixupM4a] Correcting container of \"id08167_9_11400_x5tHMyGVwlY_00305\"\n",
      "[ExtractAudio] Destination: id08167_9_11400_x5tHMyGVwlY_00305.mp3\n",
      "Deleting original file id08167_9_11400_x5tHMyGVwlY_00305 (pass -k to keep)\n",
      "Audio downloaded as id08167_9_11400_x5tHMyGVwlY_00305\n",
      "Trimmed audio saved as ../data/download_df_audio/id08167_9_11400_x5tHMyGVwlY_00305_cut.mp3\n",
      "Speaker: id08171, Video: eGozzese_as, Txt file: 00264\n",
      "[youtube] Extracting URL: https://www.youtube.com/watch?v=eGozzese_as\n",
      "[youtube] eGozzese_as: Downloading webpage\n",
      "[youtube] eGozzese_as: Downloading tv client config\n",
      "[youtube] eGozzese_as: Downloading player 5ae7d525\n",
      "[youtube] eGozzese_as: Downloading tv player API JSON\n",
      "[youtube] eGozzese_as: Downloading ios player API JSON\n",
      "[youtube] eGozzese_as: Downloading m3u8 information\n",
      "[info] eGozzese_as: Downloading 1 format(s): 140\n",
      "[download] Destination: id08171_2_27480_eGozzese_as_00264\n",
      "[download] 100% of    3.89MiB in 00:00:00 at 4.60MiB/s   \n",
      "[FixupM4a] Correcting container of \"id08171_2_27480_eGozzese_as_00264\"\n",
      "[ExtractAudio] Destination: id08171_2_27480_eGozzese_as_00264.mp3\n",
      "Deleting original file id08171_2_27480_eGozzese_as_00264 (pass -k to keep)\n",
      "Audio downloaded as id08171_2_27480_eGozzese_as_00264\n",
      "Trimmed audio saved as ../data/download_df_audio/id08171_2_27480_eGozzese_as_00264_cut.mp3\n",
      "Speaker: id08171, Video: 0S7HcvVI0rM, Txt file: 00012\n",
      "[youtube] Extracting URL: https://www.youtube.com/watch?v=0S7HcvVI0rM\n",
      "[youtube] 0S7HcvVI0rM: Downloading webpage\n",
      "[youtube] 0S7HcvVI0rM: Downloading tv client config\n",
      "[youtube] 0S7HcvVI0rM: Downloading player 5ae7d525\n",
      "[youtube] 0S7HcvVI0rM: Downloading tv player API JSON\n",
      "[youtube] 0S7HcvVI0rM: Downloading ios player API JSON\n",
      "[youtube] 0S7HcvVI0rM: Downloading m3u8 information\n",
      "[info] 0S7HcvVI0rM: Downloading 1 format(s): 251\n",
      "[download] Destination: id08171_3_25600_0S7HcvVI0rM_00012\n",
      "[download] 100% of    4.00MiB in 00:00:01 at 3.35MiB/s   \n",
      "[ExtractAudio] Destination: id08171_3_25600_0S7HcvVI0rM_00012.mp3\n",
      "Deleting original file id08171_3_25600_0S7HcvVI0rM_00012 (pass -k to keep)\n",
      "Audio downloaded as id08171_3_25600_0S7HcvVI0rM_00012\n",
      "Trimmed audio saved as ../data/download_df_audio/id08171_3_25600_0S7HcvVI0rM_00012_cut.mp3\n",
      "Speaker: id08171, Video: NEaB8Mxfgmc, Txt file: 00097\n",
      "[youtube] Extracting URL: https://www.youtube.com/watch?v=NEaB8Mxfgmc\n",
      "[youtube] NEaB8Mxfgmc: Downloading webpage\n",
      "[youtube] NEaB8Mxfgmc: Downloading tv client config\n",
      "[youtube] NEaB8Mxfgmc: Downloading player 5ae7d525\n",
      "[youtube] NEaB8Mxfgmc: Downloading tv player API JSON\n",
      "[youtube] NEaB8Mxfgmc: Downloading ios player API JSON\n",
      "[youtube] NEaB8Mxfgmc: Downloading m3u8 information\n",
      "[info] NEaB8Mxfgmc: Downloading 1 format(s): 140\n",
      "[download] Destination: id08171_4_25520_NEaB8Mxfgmc_00097\n",
      "[download] 100% of    5.88MiB in 00:00:01 at 5.59MiB/s   \n",
      "[FixupM4a] Correcting container of \"id08171_4_25520_NEaB8Mxfgmc_00097\"\n",
      "[ExtractAudio] Destination: id08171_4_25520_NEaB8Mxfgmc_00097.mp3\n",
      "Deleting original file id08171_4_25520_NEaB8Mxfgmc_00097 (pass -k to keep)\n",
      "Audio downloaded as id08171_4_25520_NEaB8Mxfgmc_00097\n",
      "Trimmed audio saved as ../data/download_df_audio/id08171_4_25520_NEaB8Mxfgmc_00097_cut.mp3\n",
      "Speaker: id08171, Video: tuPqFMI9pNY, Txt file: 00326\n",
      "[youtube] Extracting URL: https://www.youtube.com/watch?v=tuPqFMI9pNY\n",
      "[youtube] tuPqFMI9pNY: Downloading webpage\n",
      "[youtube] tuPqFMI9pNY: Downloading tv client config\n",
      "[youtube] tuPqFMI9pNY: Downloading player 5ae7d525\n",
      "[youtube] tuPqFMI9pNY: Downloading tv player API JSON\n",
      "[youtube] tuPqFMI9pNY: Downloading ios player API JSON\n",
      "[youtube] tuPqFMI9pNY: Downloading m3u8 information\n",
      "[info] tuPqFMI9pNY: Downloading 1 format(s): 140\n",
      "[download] Destination: id08171_5_20920_tuPqFMI9pNY_00326\n",
      "[download] 100% of    2.38MiB in 00:00:00 at 2.62MiB/s   \n",
      "[FixupM4a] Correcting container of \"id08171_5_20920_tuPqFMI9pNY_00326\"\n",
      "[ExtractAudio] Destination: id08171_5_20920_tuPqFMI9pNY_00326.mp3\n",
      "Deleting original file id08171_5_20920_tuPqFMI9pNY_00326 (pass -k to keep)\n",
      "Audio downloaded as id08171_5_20920_tuPqFMI9pNY_00326\n",
      "Trimmed audio saved as ../data/download_df_audio/id08171_5_20920_tuPqFMI9pNY_00326_cut.mp3\n",
      "Speaker: id08171, Video: P6S1zgSjBl8, Txt file: 00130\n",
      "[youtube] Extracting URL: https://www.youtube.com/watch?v=P6S1zgSjBl8\n",
      "[youtube] P6S1zgSjBl8: Downloading webpage\n",
      "[youtube] P6S1zgSjBl8: Downloading tv client config\n",
      "[youtube] P6S1zgSjBl8: Downloading player 5ae7d525\n",
      "[youtube] P6S1zgSjBl8: Downloading tv player API JSON\n",
      "[youtube] P6S1zgSjBl8: Downloading ios player API JSON\n",
      "[youtube] P6S1zgSjBl8: Downloading m3u8 information\n",
      "[info] P6S1zgSjBl8: Downloading 1 format(s): 140\n",
      "[download] Destination: id08171_6_20160_P6S1zgSjBl8_00130\n",
      "[download] 100% of    5.70MiB in 00:00:01 at 2.87MiB/s   \n",
      "[FixupM4a] Correcting container of \"id08171_6_20160_P6S1zgSjBl8_00130\"\n",
      "[ExtractAudio] Destination: id08171_6_20160_P6S1zgSjBl8_00130.mp3\n",
      "Deleting original file id08171_6_20160_P6S1zgSjBl8_00130 (pass -k to keep)\n",
      "Audio downloaded as id08171_6_20160_P6S1zgSjBl8_00130\n",
      "Trimmed audio saved as ../data/download_df_audio/id08171_6_20160_P6S1zgSjBl8_00130_cut.mp3\n",
      "Speaker: id08171, Video: wXVaOLeB1VI, Txt file: 00344\n",
      "[youtube] Extracting URL: https://www.youtube.com/watch?v=wXVaOLeB1VI\n",
      "[youtube] wXVaOLeB1VI: Downloading webpage\n",
      "[youtube] wXVaOLeB1VI: Downloading tv client config\n",
      "[youtube] wXVaOLeB1VI: Downloading player 5ae7d525\n",
      "[youtube] wXVaOLeB1VI: Downloading tv player API JSON\n",
      "[youtube] wXVaOLeB1VI: Downloading ios player API JSON\n",
      "[youtube] wXVaOLeB1VI: Downloading m3u8 information\n",
      "[info] wXVaOLeB1VI: Downloading 1 format(s): 140\n",
      "[download] Destination: id08171_7_19680_wXVaOLeB1VI_00344\n",
      "[download] 100% of    6.53MiB in 00:00:01 at 3.54MiB/s   \n",
      "[FixupM4a] Correcting container of \"id08171_7_19680_wXVaOLeB1VI_00344\"\n",
      "[ExtractAudio] Destination: id08171_7_19680_wXVaOLeB1VI_00344.mp3\n",
      "Deleting original file id08171_7_19680_wXVaOLeB1VI_00344 (pass -k to keep)\n",
      "Audio downloaded as id08171_7_19680_wXVaOLeB1VI_00344\n",
      "Trimmed audio saved as ../data/download_df_audio/id08171_7_19680_wXVaOLeB1VI_00344_cut.mp3\n",
      "Speaker: id08171, Video: WNsjrgPpld8, Txt file: 00210\n",
      "[youtube] Extracting URL: https://www.youtube.com/watch?v=WNsjrgPpld8\n",
      "[youtube] WNsjrgPpld8: Downloading webpage\n",
      "[youtube] WNsjrgPpld8: Downloading tv client config\n",
      "[youtube] WNsjrgPpld8: Downloading player 5ae7d525\n",
      "[youtube] WNsjrgPpld8: Downloading tv player API JSON\n",
      "[youtube] WNsjrgPpld8: Downloading ios player API JSON\n",
      "[youtube] WNsjrgPpld8: Downloading m3u8 information\n",
      "[info] WNsjrgPpld8: Downloading 1 format(s): 140\n",
      "[download] Destination: id08171_8_19680_WNsjrgPpld8_00210\n",
      "[download] 100% of    3.96MiB in 00:00:01 at 2.92MiB/s   \n",
      "[FixupM4a] Correcting container of \"id08171_8_19680_WNsjrgPpld8_00210\"\n",
      "[ExtractAudio] Destination: id08171_8_19680_WNsjrgPpld8_00210.mp3\n",
      "Deleting original file id08171_8_19680_WNsjrgPpld8_00210 (pass -k to keep)\n",
      "Audio downloaded as id08171_8_19680_WNsjrgPpld8_00210\n",
      "Trimmed audio saved as ../data/download_df_audio/id08171_8_19680_WNsjrgPpld8_00210_cut.mp3\n",
      "Speaker: id08171, Video: aAVXB4NjgBk, Txt file: 00234\n",
      "[youtube] Extracting URL: https://www.youtube.com/watch?v=aAVXB4NjgBk\n",
      "[youtube] aAVXB4NjgBk: Downloading webpage\n",
      "[youtube] aAVXB4NjgBk: Downloading tv client config\n",
      "[youtube] aAVXB4NjgBk: Downloading player 5ae7d525\n",
      "[youtube] aAVXB4NjgBk: Downloading tv player API JSON\n",
      "[youtube] aAVXB4NjgBk: Downloading ios player API JSON\n",
      "[youtube] aAVXB4NjgBk: Downloading m3u8 information\n",
      "[info] aAVXB4NjgBk: Downloading 1 format(s): 140\n",
      "[download] Destination: id08171_9_19080_aAVXB4NjgBk_00234\n",
      "[download] 100% of    9.05MiB in 00:00:02 at 3.20MiB/s   \n",
      "[FixupM4a] Correcting container of \"id08171_9_19080_aAVXB4NjgBk_00234\"\n",
      "[ExtractAudio] Destination: id08171_9_19080_aAVXB4NjgBk_00234.mp3\n",
      "Deleting original file id08171_9_19080_aAVXB4NjgBk_00234 (pass -k to keep)\n",
      "Audio downloaded as id08171_9_19080_aAVXB4NjgBk_00234\n",
      "Trimmed audio saved as ../data/download_df_audio/id08171_9_19080_aAVXB4NjgBk_00234_cut.mp3\n",
      "Speaker: id08176, Video: dV00mrfc8ZU, Txt file: 00253\n"
     ]
    },
    {
     "name": "stderr",
     "output_type": "stream",
     "text": [
      "ERROR: [youtube] dV00mrfc8ZU: Video unavailable\n"
     ]
    },
    {
     "name": "stdout",
     "output_type": "stream",
     "text": [
      "Speaker: id08176, Video: 7liorY1Ae7I, Txt file: 00056\n",
      "[youtube] Extracting URL: https://www.youtube.com/watch?v=7liorY1Ae7I\n",
      "[youtube] 7liorY1Ae7I: Downloading webpage\n",
      "[youtube] 7liorY1Ae7I: Downloading tv client config\n",
      "[youtube] 7liorY1Ae7I: Downloading player 5ae7d525\n",
      "[youtube] 7liorY1Ae7I: Downloading tv player API JSON\n",
      "[youtube] 7liorY1Ae7I: Downloading ios player API JSON\n",
      "[youtube] 7liorY1Ae7I: Downloading m3u8 information\n",
      "[info] 7liorY1Ae7I: Downloading 1 format(s): 251\n",
      "[download] Destination: id08176_2_26840_7liorY1Ae7I_00056\n",
      "[download] 100% of    7.01MiB in 00:00:01 at 6.98MiB/s     \n",
      "[ExtractAudio] Destination: id08176_2_26840_7liorY1Ae7I_00056.mp3\n",
      "Deleting original file id08176_2_26840_7liorY1Ae7I_00056 (pass -k to keep)\n",
      "Audio downloaded as id08176_2_26840_7liorY1Ae7I_00056\n",
      "Trimmed audio saved as ../data/download_df_audio/id08176_2_26840_7liorY1Ae7I_00056_cut.mp3\n",
      "Speaker: id08176, Video: dV00mrfc8ZU, Txt file: 00257\n"
     ]
    },
    {
     "name": "stderr",
     "output_type": "stream",
     "text": [
      "ERROR: [youtube] dV00mrfc8ZU: Video unavailable\n"
     ]
    },
    {
     "name": "stdout",
     "output_type": "stream",
     "text": [
      "Speaker: id08176, Video: tkYUYe4NMUE, Txt file: 00355\n"
     ]
    },
    {
     "name": "stderr",
     "output_type": "stream",
     "text": [
      "ERROR: [youtube] tkYUYe4NMUE: Private video. Sign in if you've been granted access to this video. Use --cookies-from-browser or --cookies for the authentication. See  https://github.com/yt-dlp/yt-dlp/wiki/FAQ#how-do-i-pass-cookies-to-yt-dlp  for how to manually pass cookies. Also see  https://github.com/yt-dlp/yt-dlp/wiki/Extractors#exporting-youtube-cookies  for tips on effectively exporting YouTube cookies\n"
     ]
    },
    {
     "name": "stdout",
     "output_type": "stream",
     "text": [
      "Speaker: id08176, Video: _v1qs4WA1Vg, Txt file: 00205\n",
      "[youtube] Extracting URL: https://www.youtube.com/watch?v=_v1qs4WA1Vg\n",
      "[youtube] _v1qs4WA1Vg: Downloading webpage\n",
      "[youtube] _v1qs4WA1Vg: Downloading tv client config\n",
      "[youtube] _v1qs4WA1Vg: Downloading player 5ae7d525\n",
      "[youtube] _v1qs4WA1Vg: Downloading tv player API JSON\n",
      "[youtube] _v1qs4WA1Vg: Downloading ios player API JSON\n",
      "[youtube] _v1qs4WA1Vg: Downloading m3u8 information\n",
      "[info] _v1qs4WA1Vg: Downloading 1 format(s): 140\n",
      "[download] Destination: id08176_3_21440__v1qs4WA1Vg_00205\n",
      "[download] 100% of    9.47MiB in 00:00:01 at 7.71MiB/s   \n",
      "[FixupM4a] Correcting container of \"id08176_3_21440__v1qs4WA1Vg_00205\"\n",
      "[ExtractAudio] Destination: id08176_3_21440__v1qs4WA1Vg_00205.mp3\n",
      "Deleting original file id08176_3_21440__v1qs4WA1Vg_00205 (pass -k to keep)\n",
      "Audio downloaded as id08176_3_21440__v1qs4WA1Vg_00205\n",
      "Trimmed audio saved as ../data/download_df_audio/id08176_3_21440__v1qs4WA1Vg_00205_cut.mp3\n",
      "Speaker: id08176, Video: K3Mqm226_Hs, Txt file: 00113\n",
      "[youtube] Extracting URL: https://www.youtube.com/watch?v=K3Mqm226_Hs\n",
      "[youtube] K3Mqm226_Hs: Downloading webpage\n",
      "[youtube] K3Mqm226_Hs: Downloading tv client config\n",
      "[youtube] K3Mqm226_Hs: Downloading player 5ae7d525\n",
      "[youtube] K3Mqm226_Hs: Downloading tv player API JSON\n",
      "[youtube] K3Mqm226_Hs: Downloading ios player API JSON\n",
      "[youtube] K3Mqm226_Hs: Downloading m3u8 information\n",
      "[info] K3Mqm226_Hs: Downloading 1 format(s): 251\n",
      "[download] Destination: id08176_4_20240_K3Mqm226_Hs_00113\n",
      "[download] 100% of    3.19MiB in 00:00:01 at 1.69MiB/s   \n",
      "[ExtractAudio] Destination: id08176_4_20240_K3Mqm226_Hs_00113.mp3\n",
      "Deleting original file id08176_4_20240_K3Mqm226_Hs_00113 (pass -k to keep)\n",
      "Audio downloaded as id08176_4_20240_K3Mqm226_Hs_00113\n",
      "Trimmed audio saved as ../data/download_df_audio/id08176_4_20240_K3Mqm226_Hs_00113_cut.mp3\n",
      "Speaker: id08176, Video: c3R1J4l-POE, Txt file: 00244\n",
      "[youtube] Extracting URL: https://www.youtube.com/watch?v=c3R1J4l-POE\n",
      "[youtube] c3R1J4l-POE: Downloading webpage\n",
      "[youtube] c3R1J4l-POE: Downloading tv client config\n",
      "[youtube] c3R1J4l-POE: Downloading player 5ae7d525\n",
      "[youtube] c3R1J4l-POE: Downloading tv player API JSON\n",
      "[youtube] c3R1J4l-POE: Downloading ios player API JSON\n",
      "[youtube] c3R1J4l-POE: Downloading m3u8 information\n",
      "[info] c3R1J4l-POE: Downloading 1 format(s): 251\n",
      "[download] Destination: id08176_5_20240_c3R1J4l-POE_00244\n",
      "[download] 100% of    3.80MiB in 00:00:01 at 2.23MiB/s   \n",
      "[ExtractAudio] Destination: id08176_5_20240_c3R1J4l-POE_00244.mp3\n",
      "Deleting original file id08176_5_20240_c3R1J4l-POE_00244 (pass -k to keep)\n",
      "Audio downloaded as id08176_5_20240_c3R1J4l-POE_00244\n",
      "Trimmed audio saved as ../data/download_df_audio/id08176_5_20240_c3R1J4l-POE_00244_cut.mp3\n",
      "Speaker: id08176, Video: vgTdKyjw2U4, Txt file: 00366\n",
      "[youtube] Extracting URL: https://www.youtube.com/watch?v=vgTdKyjw2U4\n",
      "[youtube] vgTdKyjw2U4: Downloading webpage\n",
      "[youtube] vgTdKyjw2U4: Downloading tv client config\n",
      "[youtube] vgTdKyjw2U4: Downloading player 5ae7d525\n",
      "[youtube] vgTdKyjw2U4: Downloading tv player API JSON\n",
      "[youtube] vgTdKyjw2U4: Downloading ios player API JSON\n",
      "[youtube] vgTdKyjw2U4: Downloading m3u8 information\n",
      "[info] vgTdKyjw2U4: Downloading 1 format(s): 140\n",
      "[download] Destination: id08176_6_17840_vgTdKyjw2U4_00366\n",
      "[download] 100% of    2.48MiB in 00:00:00 at 7.58MiB/s   \n",
      "[FixupM4a] Correcting container of \"id08176_6_17840_vgTdKyjw2U4_00366\"\n",
      "[ExtractAudio] Destination: id08176_6_17840_vgTdKyjw2U4_00366.mp3\n",
      "Deleting original file id08176_6_17840_vgTdKyjw2U4_00366 (pass -k to keep)\n",
      "Audio downloaded as id08176_6_17840_vgTdKyjw2U4_00366\n",
      "Trimmed audio saved as ../data/download_df_audio/id08176_6_17840_vgTdKyjw2U4_00366_cut.mp3\n",
      "Speaker: id08176, Video: 7liorY1Ae7I, Txt file: 00055\n",
      "[youtube] Extracting URL: https://www.youtube.com/watch?v=7liorY1Ae7I\n",
      "[youtube] 7liorY1Ae7I: Downloading webpage\n",
      "[youtube] 7liorY1Ae7I: Downloading tv client config\n",
      "[youtube] 7liorY1Ae7I: Downloading player 5ae7d525\n",
      "[youtube] 7liorY1Ae7I: Downloading tv player API JSON\n",
      "[youtube] 7liorY1Ae7I: Downloading ios player API JSON\n",
      "[youtube] 7liorY1Ae7I: Downloading m3u8 information\n",
      "[info] 7liorY1Ae7I: Downloading 1 format(s): 251\n",
      "[download] Destination: id08176_7_17240_7liorY1Ae7I_00055\n",
      "[download] 100% of    7.01MiB in 00:00:00 at 11.52MiB/s    \n",
      "[ExtractAudio] Destination: id08176_7_17240_7liorY1Ae7I_00055.mp3\n",
      "Deleting original file id08176_7_17240_7liorY1Ae7I_00055 (pass -k to keep)\n",
      "Audio downloaded as id08176_7_17240_7liorY1Ae7I_00055\n",
      "Trimmed audio saved as ../data/download_df_audio/id08176_7_17240_7liorY1Ae7I_00055_cut.mp3\n",
      "Speaker: id08176, Video: jWJ9IPUXyKU, Txt file: 00313\n",
      "[youtube] Extracting URL: https://www.youtube.com/watch?v=jWJ9IPUXyKU\n",
      "[youtube] jWJ9IPUXyKU: Downloading webpage\n",
      "[youtube] jWJ9IPUXyKU: Downloading tv client config\n",
      "[youtube] jWJ9IPUXyKU: Downloading player 5ae7d525\n",
      "[youtube] jWJ9IPUXyKU: Downloading tv player API JSON\n",
      "[youtube] jWJ9IPUXyKU: Downloading ios player API JSON\n",
      "[youtube] jWJ9IPUXyKU: Downloading m3u8 information\n",
      "[info] jWJ9IPUXyKU: Downloading 1 format(s): 251\n",
      "[download] Destination: id08176_8_17120_jWJ9IPUXyKU_00313\n",
      "[download] 100% of    1.70MiB in 00:00:01 at 1009.52KiB/s\n",
      "[ExtractAudio] Destination: id08176_8_17120_jWJ9IPUXyKU_00313.mp3\n",
      "Deleting original file id08176_8_17120_jWJ9IPUXyKU_00313 (pass -k to keep)\n",
      "Audio downloaded as id08176_8_17120_jWJ9IPUXyKU_00313\n",
      "Trimmed audio saved as ../data/download_df_audio/id08176_8_17120_jWJ9IPUXyKU_00313_cut.mp3\n",
      "Speaker: id08176, Video: c3R1J4l-POE, Txt file: 00248\n",
      "[youtube] Extracting URL: https://www.youtube.com/watch?v=c3R1J4l-POE\n",
      "[youtube] c3R1J4l-POE: Downloading webpage\n",
      "[youtube] c3R1J4l-POE: Downloading tv client config\n",
      "[youtube] c3R1J4l-POE: Downloading player 5ae7d525\n",
      "[youtube] c3R1J4l-POE: Downloading tv player API JSON\n",
      "[youtube] c3R1J4l-POE: Downloading ios player API JSON\n",
      "[youtube] c3R1J4l-POE: Downloading m3u8 information\n",
      "[info] c3R1J4l-POE: Downloading 1 format(s): 251\n",
      "[download] Destination: id08176_9_16960_c3R1J4l-POE_00248\n",
      "[download] 100% of    3.80MiB in 00:00:01 at 2.88MiB/s   \n",
      "[ExtractAudio] Destination: id08176_9_16960_c3R1J4l-POE_00248.mp3\n",
      "Deleting original file id08176_9_16960_c3R1J4l-POE_00248 (pass -k to keep)\n",
      "Audio downloaded as id08176_9_16960_c3R1J4l-POE_00248\n",
      "Trimmed audio saved as ../data/download_df_audio/id08176_9_16960_c3R1J4l-POE_00248_cut.mp3\n",
      "Speaker: id08187, Video: LIgPC2CICyw, Txt file: 00006\n",
      "[youtube] Extracting URL: https://www.youtube.com/watch?v=LIgPC2CICyw\n",
      "[youtube] LIgPC2CICyw: Downloading webpage\n",
      "[youtube] LIgPC2CICyw: Downloading tv client config\n",
      "[youtube] LIgPC2CICyw: Downloading player 5ae7d525\n",
      "[youtube] LIgPC2CICyw: Downloading tv player API JSON\n",
      "[youtube] LIgPC2CICyw: Downloading ios player API JSON\n",
      "[youtube] LIgPC2CICyw: Downloading m3u8 information\n",
      "[info] LIgPC2CICyw: Downloading 1 format(s): 140\n",
      "[download] Destination: id08187_2_29880_LIgPC2CICyw_00006\n",
      "[download] 100% of    3.48MiB in 00:00:00 at 4.13MiB/s   \n",
      "[FixupM4a] Correcting container of \"id08187_2_29880_LIgPC2CICyw_00006\"\n",
      "[ExtractAudio] Destination: id08187_2_29880_LIgPC2CICyw_00006.mp3\n",
      "Deleting original file id08187_2_29880_LIgPC2CICyw_00006 (pass -k to keep)\n",
      "Audio downloaded as id08187_2_29880_LIgPC2CICyw_00006\n",
      "Trimmed audio saved as ../data/download_df_audio/id08187_2_29880_LIgPC2CICyw_00006_cut.mp3\n",
      "Speaker: id08187, Video: wEMJ6k-b54c, Txt file: 00068\n",
      "[youtube] Extracting URL: https://www.youtube.com/watch?v=wEMJ6k-b54c\n",
      "[youtube] wEMJ6k-b54c: Downloading webpage\n",
      "[youtube] wEMJ6k-b54c: Downloading tv client config\n",
      "[youtube] wEMJ6k-b54c: Downloading player 5ae7d525\n",
      "[youtube] wEMJ6k-b54c: Downloading tv player API JSON\n",
      "[youtube] wEMJ6k-b54c: Downloading ios player API JSON\n",
      "[youtube] wEMJ6k-b54c: Downloading m3u8 information\n",
      "[info] wEMJ6k-b54c: Downloading 1 format(s): 140\n",
      "[download] Destination: id08187_3_12960_wEMJ6k-b54c_00068\n",
      "[download] 100% of    4.16MiB in 00:00:01 at 2.28MiB/s   \n",
      "[FixupM4a] Correcting container of \"id08187_3_12960_wEMJ6k-b54c_00068\"\n",
      "[ExtractAudio] Destination: id08187_3_12960_wEMJ6k-b54c_00068.mp3\n",
      "Deleting original file id08187_3_12960_wEMJ6k-b54c_00068 (pass -k to keep)\n",
      "Audio downloaded as id08187_3_12960_wEMJ6k-b54c_00068\n",
      "Trimmed audio saved as ../data/download_df_audio/id08187_3_12960_wEMJ6k-b54c_00068_cut.mp3\n",
      "Speaker: id08187, Video: LIgPC2CICyw, Txt file: 00010\n",
      "[youtube] Extracting URL: https://www.youtube.com/watch?v=LIgPC2CICyw\n",
      "[youtube] LIgPC2CICyw: Downloading webpage\n",
      "[youtube] LIgPC2CICyw: Downloading tv client config\n",
      "[youtube] LIgPC2CICyw: Downloading player 5ae7d525\n",
      "[youtube] LIgPC2CICyw: Downloading tv player API JSON\n",
      "[youtube] LIgPC2CICyw: Downloading ios player API JSON\n",
      "[youtube] LIgPC2CICyw: Downloading m3u8 information\n",
      "[info] LIgPC2CICyw: Downloading 1 format(s): 140\n",
      "[download] Destination: id08187_4_12800_LIgPC2CICyw_00010\n",
      "[download] 100% of    3.48MiB in 00:00:00 at 5.94MiB/s     \n",
      "[FixupM4a] Correcting container of \"id08187_4_12800_LIgPC2CICyw_00010\"\n",
      "[ExtractAudio] Destination: id08187_4_12800_LIgPC2CICyw_00010.mp3\n",
      "Deleting original file id08187_4_12800_LIgPC2CICyw_00010 (pass -k to keep)\n",
      "Audio downloaded as id08187_4_12800_LIgPC2CICyw_00010\n",
      "Trimmed audio saved as ../data/download_df_audio/id08187_4_12800_LIgPC2CICyw_00010_cut.mp3\n",
      "Speaker: id08187, Video: wEMJ6k-b54c, Txt file: 00062\n",
      "[youtube] Extracting URL: https://www.youtube.com/watch?v=wEMJ6k-b54c\n",
      "[youtube] wEMJ6k-b54c: Downloading webpage\n",
      "[youtube] wEMJ6k-b54c: Downloading tv client config\n",
      "[youtube] wEMJ6k-b54c: Downloading player 5ae7d525\n",
      "[youtube] wEMJ6k-b54c: Downloading tv player API JSON\n",
      "[youtube] wEMJ6k-b54c: Downloading ios player API JSON\n",
      "[youtube] wEMJ6k-b54c: Downloading m3u8 information\n",
      "[info] wEMJ6k-b54c: Downloading 1 format(s): 140\n",
      "[download] Destination: id08187_5_9960_wEMJ6k-b54c_00062\n",
      "[download] 100% of    4.16MiB in 00:00:00 at 13.07MiB/s  \n",
      "[FixupM4a] Correcting container of \"id08187_5_9960_wEMJ6k-b54c_00062\"\n",
      "[ExtractAudio] Destination: id08187_5_9960_wEMJ6k-b54c_00062.mp3\n",
      "Deleting original file id08187_5_9960_wEMJ6k-b54c_00062 (pass -k to keep)\n",
      "Audio downloaded as id08187_5_9960_wEMJ6k-b54c_00062\n",
      "Trimmed audio saved as ../data/download_df_audio/id08187_5_9960_wEMJ6k-b54c_00062_cut.mp3\n",
      "Speaker: id08187, Video: hFhE46GVXyg, Txt file: 00038\n"
     ]
    },
    {
     "name": "stderr",
     "output_type": "stream",
     "text": [
      "ERROR: [youtube] hFhE46GVXyg: Video unavailable. This video is no longer available because the YouTube account associated with this video has been terminated.\n"
     ]
    },
    {
     "name": "stdout",
     "output_type": "stream",
     "text": [
      "Speaker: id08187, Video: ULuCC9uLd8U, Txt file: 00030\n",
      "[youtube] Extracting URL: https://www.youtube.com/watch?v=ULuCC9uLd8U\n",
      "[youtube] ULuCC9uLd8U: Downloading webpage\n",
      "[youtube] ULuCC9uLd8U: Downloading tv client config\n",
      "[youtube] ULuCC9uLd8U: Downloading player 5ae7d525\n",
      "[youtube] ULuCC9uLd8U: Downloading tv player API JSON\n",
      "[youtube] ULuCC9uLd8U: Downloading ios player API JSON\n",
      "[youtube] ULuCC9uLd8U: Downloading m3u8 information\n",
      "[info] ULuCC9uLd8U: Downloading 1 format(s): 251\n",
      "[download] Destination: id08187_6_8920_ULuCC9uLd8U_00030\n",
      "[download] 100% of    3.41MiB in 00:00:02 at 1.68MiB/s   \n",
      "[ExtractAudio] Destination: id08187_6_8920_ULuCC9uLd8U_00030.mp3\n",
      "Deleting original file id08187_6_8920_ULuCC9uLd8U_00030 (pass -k to keep)\n",
      "Audio downloaded as id08187_6_8920_ULuCC9uLd8U_00030\n",
      "Trimmed audio saved as ../data/download_df_audio/id08187_6_8920_ULuCC9uLd8U_00030_cut.mp3\n",
      "Speaker: id08187, Video: NDOF5Kad74E, Txt file: 00019\n",
      "[youtube] Extracting URL: https://www.youtube.com/watch?v=NDOF5Kad74E\n",
      "[youtube] NDOF5Kad74E: Downloading webpage\n",
      "[youtube] NDOF5Kad74E: Downloading tv client config\n",
      "[youtube] NDOF5Kad74E: Downloading player 5ae7d525\n",
      "[youtube] NDOF5Kad74E: Downloading tv player API JSON\n",
      "[youtube] NDOF5Kad74E: Downloading ios player API JSON\n",
      "[youtube] NDOF5Kad74E: Downloading m3u8 information\n",
      "[info] NDOF5Kad74E: Downloading 1 format(s): 140\n",
      "[download] Destination: id08187_7_8720_NDOF5Kad74E_00019\n",
      "[download] 100% of    5.33MiB in 00:00:01 at 3.59MiB/s   \n",
      "[FixupM4a] Correcting container of \"id08187_7_8720_NDOF5Kad74E_00019\"\n",
      "[ExtractAudio] Destination: id08187_7_8720_NDOF5Kad74E_00019.mp3\n",
      "Deleting original file id08187_7_8720_NDOF5Kad74E_00019 (pass -k to keep)\n",
      "Audio downloaded as id08187_7_8720_NDOF5Kad74E_00019\n",
      "Trimmed audio saved as ../data/download_df_audio/id08187_7_8720_NDOF5Kad74E_00019_cut.mp3\n",
      "Speaker: id08187, Video: Ah6QSG4tg_U, Txt file: 00003\n",
      "[youtube] Extracting URL: https://www.youtube.com/watch?v=Ah6QSG4tg_U\n",
      "[youtube] Ah6QSG4tg_U: Downloading webpage\n",
      "[youtube] Ah6QSG4tg_U: Downloading tv client config\n",
      "[youtube] Ah6QSG4tg_U: Downloading player 5ae7d525\n",
      "[youtube] Ah6QSG4tg_U: Downloading tv player API JSON\n",
      "[youtube] Ah6QSG4tg_U: Downloading ios player API JSON\n",
      "[youtube] Ah6QSG4tg_U: Downloading m3u8 information\n",
      "[info] Ah6QSG4tg_U: Downloading 1 format(s): 140\n",
      "[download] Destination: id08187_8_8360_Ah6QSG4tg_U_00003\n",
      "[download] 100% of    2.11MiB in 00:00:01 at 1.86MiB/s   \n",
      "[FixupM4a] Correcting container of \"id08187_8_8360_Ah6QSG4tg_U_00003\"\n",
      "[ExtractAudio] Destination: id08187_8_8360_Ah6QSG4tg_U_00003.mp3\n",
      "Deleting original file id08187_8_8360_Ah6QSG4tg_U_00003 (pass -k to keep)\n",
      "Audio downloaded as id08187_8_8360_Ah6QSG4tg_U_00003\n",
      "Trimmed audio saved as ../data/download_df_audio/id08187_8_8360_Ah6QSG4tg_U_00003_cut.mp3\n",
      "Speaker: id08187, Video: vP0Jc67Q4ek, Txt file: 00058\n",
      "[youtube] Extracting URL: https://www.youtube.com/watch?v=vP0Jc67Q4ek\n",
      "[youtube] vP0Jc67Q4ek: Downloading webpage\n",
      "[youtube] vP0Jc67Q4ek: Downloading tv client config\n",
      "[youtube] vP0Jc67Q4ek: Downloading player 5ae7d525\n",
      "[youtube] vP0Jc67Q4ek: Downloading tv player API JSON\n",
      "[youtube] vP0Jc67Q4ek: Downloading ios player API JSON\n",
      "[youtube] vP0Jc67Q4ek: Downloading m3u8 information\n",
      "[info] vP0Jc67Q4ek: Downloading 1 format(s): 140\n",
      "[download] Destination: id08187_9_7880_vP0Jc67Q4ek_00058\n",
      "[download] 100% of  807.82KiB in 00:00:00 at 1.35MiB/s   \n",
      "[FixupM4a] Correcting container of \"id08187_9_7880_vP0Jc67Q4ek_00058\"\n",
      "[ExtractAudio] Destination: id08187_9_7880_vP0Jc67Q4ek_00058.mp3\n",
      "Deleting original file id08187_9_7880_vP0Jc67Q4ek_00058 (pass -k to keep)\n",
      "Audio downloaded as id08187_9_7880_vP0Jc67Q4ek_00058\n",
      "Trimmed audio saved as ../data/download_df_audio/id08187_9_7880_vP0Jc67Q4ek_00058_cut.mp3\n",
      "Speaker: id08217, Video: LeDi1MUutdk, Txt file: 00069\n"
     ]
    },
    {
     "name": "stderr",
     "output_type": "stream",
     "text": [
      "ERROR: [youtube] LeDi1MUutdk: Video unavailable\n"
     ]
    },
    {
     "name": "stdout",
     "output_type": "stream",
     "text": [
      "Speaker: id08217, Video: dt4-CR9zc00, Txt file: 00197\n",
      "[youtube] Extracting URL: https://www.youtube.com/watch?v=dt4-CR9zc00\n",
      "[youtube] dt4-CR9zc00: Downloading webpage\n",
      "[youtube] dt4-CR9zc00: Downloading tv client config\n",
      "[youtube] dt4-CR9zc00: Downloading player 5ae7d525\n",
      "[youtube] dt4-CR9zc00: Downloading tv player API JSON\n",
      "[youtube] dt4-CR9zc00: Downloading ios player API JSON\n",
      "[youtube] dt4-CR9zc00: Downloading m3u8 information\n",
      "[info] dt4-CR9zc00: Downloading 1 format(s): 140\n",
      "[download] Destination: id08217_2_18240_dt4-CR9zc00_00197\n",
      "[download] 100% of    7.31MiB in 00:00:00 at 10.32MiB/s  \n",
      "[FixupM4a] Correcting container of \"id08217_2_18240_dt4-CR9zc00_00197\"\n",
      "[ExtractAudio] Destination: id08217_2_18240_dt4-CR9zc00_00197.mp3\n",
      "Deleting original file id08217_2_18240_dt4-CR9zc00_00197 (pass -k to keep)\n",
      "Audio downloaded as id08217_2_18240_dt4-CR9zc00_00197\n",
      "Trimmed audio saved as ../data/download_df_audio/id08217_2_18240_dt4-CR9zc00_00197_cut.mp3\n",
      "Speaker: id08217, Video: UIa-V0yDuGo, Txt file: 00143\n",
      "[youtube] Extracting URL: https://www.youtube.com/watch?v=UIa-V0yDuGo\n",
      "[youtube] UIa-V0yDuGo: Downloading webpage\n",
      "[youtube] UIa-V0yDuGo: Downloading tv client config\n",
      "[youtube] UIa-V0yDuGo: Downloading player 5ae7d525\n",
      "[youtube] UIa-V0yDuGo: Downloading tv player API JSON\n",
      "[youtube] UIa-V0yDuGo: Downloading ios player API JSON\n",
      "[youtube] UIa-V0yDuGo: Downloading m3u8 information\n",
      "[info] UIa-V0yDuGo: Downloading 1 format(s): 140\n",
      "[download] Destination: id08217_3_13240_UIa-V0yDuGo_00143\n",
      "[download] 100% of   10.51MiB in 00:00:01 at 8.78MiB/s     \n",
      "[FixupM4a] Correcting container of \"id08217_3_13240_UIa-V0yDuGo_00143\"\n",
      "[ExtractAudio] Destination: id08217_3_13240_UIa-V0yDuGo_00143.mp3\n",
      "Deleting original file id08217_3_13240_UIa-V0yDuGo_00143 (pass -k to keep)\n",
      "Audio downloaded as id08217_3_13240_UIa-V0yDuGo_00143\n",
      "Trimmed audio saved as ../data/download_df_audio/id08217_3_13240_UIa-V0yDuGo_00143_cut.mp3\n",
      "Speaker: id08217, Video: pBPaSv_B9ac, Txt file: 00211\n",
      "[youtube] Extracting URL: https://www.youtube.com/watch?v=pBPaSv_B9ac\n",
      "[youtube] pBPaSv_B9ac: Downloading webpage\n",
      "[youtube] pBPaSv_B9ac: Downloading tv client config\n",
      "[youtube] pBPaSv_B9ac: Downloading player 5ae7d525\n",
      "[youtube] pBPaSv_B9ac: Downloading tv player API JSON\n",
      "[youtube] pBPaSv_B9ac: Downloading ios player API JSON\n",
      "[youtube] pBPaSv_B9ac: Downloading m3u8 information\n",
      "[info] pBPaSv_B9ac: Downloading 1 format(s): 251\n",
      "[download] Destination: id08217_4_12840_pBPaSv_B9ac_00211\n",
      "[download] 100% of    1.82MiB in 00:00:00 at 3.10MiB/s   \n",
      "[ExtractAudio] Destination: id08217_4_12840_pBPaSv_B9ac_00211.mp3\n",
      "Deleting original file id08217_4_12840_pBPaSv_B9ac_00211 (pass -k to keep)\n",
      "Audio downloaded as id08217_4_12840_pBPaSv_B9ac_00211\n",
      "Trimmed audio saved as ../data/download_df_audio/id08217_4_12840_pBPaSv_B9ac_00211_cut.mp3\n",
      "Speaker: id08217, Video: BOakOqJdauQ, Txt file: 00018\n",
      "[youtube] Extracting URL: https://www.youtube.com/watch?v=BOakOqJdauQ\n",
      "[youtube] BOakOqJdauQ: Downloading webpage\n",
      "[youtube] BOakOqJdauQ: Downloading tv client config\n",
      "[youtube] BOakOqJdauQ: Downloading player 5ae7d525\n",
      "[youtube] BOakOqJdauQ: Downloading tv player API JSON\n",
      "[youtube] BOakOqJdauQ: Downloading ios player API JSON\n",
      "[youtube] BOakOqJdauQ: Downloading m3u8 information\n",
      "[info] BOakOqJdauQ: Downloading 1 format(s): 251\n",
      "[download] Destination: id08217_5_12560_BOakOqJdauQ_00018\n",
      "[download] 100% of  895.19KiB in 00:00:00 at 2.29MiB/s   \n",
      "[ExtractAudio] Destination: id08217_5_12560_BOakOqJdauQ_00018.mp3\n",
      "Deleting original file id08217_5_12560_BOakOqJdauQ_00018 (pass -k to keep)\n",
      "Audio downloaded as id08217_5_12560_BOakOqJdauQ_00018\n",
      "Trimmed audio saved as ../data/download_df_audio/id08217_5_12560_BOakOqJdauQ_00018_cut.mp3\n",
      "Speaker: id08217, Video: YcwcxLfQLEM, Txt file: 00189\n",
      "[youtube] Extracting URL: https://www.youtube.com/watch?v=YcwcxLfQLEM\n",
      "[youtube] YcwcxLfQLEM: Downloading webpage\n",
      "[youtube] YcwcxLfQLEM: Downloading tv client config\n",
      "[youtube] YcwcxLfQLEM: Downloading player 5ae7d525\n",
      "[youtube] YcwcxLfQLEM: Downloading tv player API JSON\n",
      "[youtube] YcwcxLfQLEM: Downloading ios player API JSON\n",
      "[youtube] YcwcxLfQLEM: Downloading m3u8 information\n",
      "[info] YcwcxLfQLEM: Downloading 1 format(s): 140\n",
      "[download] Destination: id08217_6_12520_YcwcxLfQLEM_00189\n",
      "[download] 100% of    1.28MiB in 00:00:00 at 4.30MiB/s   \n",
      "[FixupM4a] Correcting container of \"id08217_6_12520_YcwcxLfQLEM_00189\"\n",
      "[ExtractAudio] Destination: id08217_6_12520_YcwcxLfQLEM_00189.mp3\n",
      "Deleting original file id08217_6_12520_YcwcxLfQLEM_00189 (pass -k to keep)\n",
      "Audio downloaded as id08217_6_12520_YcwcxLfQLEM_00189\n",
      "Trimmed audio saved as ../data/download_df_audio/id08217_6_12520_YcwcxLfQLEM_00189_cut.mp3\n",
      "Speaker: id08217, Video: LeDi1MUutdk, Txt file: 00068\n"
     ]
    },
    {
     "name": "stderr",
     "output_type": "stream",
     "text": [
      "ERROR: [youtube] LeDi1MUutdk: Video unavailable\n"
     ]
    },
    {
     "name": "stdout",
     "output_type": "stream",
     "text": [
      "Speaker: id08217, Video: UIa-V0yDuGo, Txt file: 00128\n",
      "[youtube] Extracting URL: https://www.youtube.com/watch?v=UIa-V0yDuGo\n",
      "[youtube] UIa-V0yDuGo: Downloading webpage\n",
      "[youtube] UIa-V0yDuGo: Downloading tv client config\n",
      "[youtube] UIa-V0yDuGo: Downloading player 5ae7d525\n",
      "[youtube] UIa-V0yDuGo: Downloading tv player API JSON\n",
      "[youtube] UIa-V0yDuGo: Downloading ios player API JSON\n",
      "[youtube] UIa-V0yDuGo: Downloading m3u8 information\n",
      "[info] UIa-V0yDuGo: Downloading 1 format(s): 140\n",
      "[download] Destination: id08217_7_11960_UIa-V0yDuGo_00128\n",
      "[download] 100% of   10.51MiB in 00:00:02 at 4.47MiB/s     \n",
      "[FixupM4a] Correcting container of \"id08217_7_11960_UIa-V0yDuGo_00128\"\n",
      "[ExtractAudio] Destination: id08217_7_11960_UIa-V0yDuGo_00128.mp3\n",
      "Deleting original file id08217_7_11960_UIa-V0yDuGo_00128 (pass -k to keep)\n",
      "Audio downloaded as id08217_7_11960_UIa-V0yDuGo_00128\n",
      "Trimmed audio saved as ../data/download_df_audio/id08217_7_11960_UIa-V0yDuGo_00128_cut.mp3\n",
      "Speaker: id08217, Video: u5dknKgjpSQ, Txt file: 00220\n",
      "[youtube] Extracting URL: https://www.youtube.com/watch?v=u5dknKgjpSQ\n",
      "[youtube] u5dknKgjpSQ: Downloading webpage\n",
      "[youtube] u5dknKgjpSQ: Downloading tv client config\n",
      "[youtube] u5dknKgjpSQ: Downloading player 5ae7d525\n",
      "[youtube] u5dknKgjpSQ: Downloading tv player API JSON\n",
      "[youtube] u5dknKgjpSQ: Downloading ios player API JSON\n",
      "[youtube] u5dknKgjpSQ: Downloading m3u8 information\n",
      "[info] u5dknKgjpSQ: Downloading 1 format(s): 140\n",
      "[download] Destination: id08217_8_10920_u5dknKgjpSQ_00220\n",
      "[download] 100% of    5.24MiB in 00:00:01 at 3.79MiB/s   \n",
      "[FixupM4a] Correcting container of \"id08217_8_10920_u5dknKgjpSQ_00220\"\n",
      "[ExtractAudio] Destination: id08217_8_10920_u5dknKgjpSQ_00220.mp3\n",
      "Deleting original file id08217_8_10920_u5dknKgjpSQ_00220 (pass -k to keep)\n",
      "Audio downloaded as id08217_8_10920_u5dknKgjpSQ_00220\n",
      "Trimmed audio saved as ../data/download_df_audio/id08217_8_10920_u5dknKgjpSQ_00220_cut.mp3\n",
      "Speaker: id08217, Video: QikJq0Lw7o4, Txt file: 00109\n",
      "[youtube] Extracting URL: https://www.youtube.com/watch?v=QikJq0Lw7o4\n",
      "[youtube] QikJq0Lw7o4: Downloading webpage\n",
      "[youtube] QikJq0Lw7o4: Downloading tv client config\n",
      "[youtube] QikJq0Lw7o4: Downloading player 5ae7d525\n",
      "[youtube] QikJq0Lw7o4: Downloading tv player API JSON\n",
      "[youtube] QikJq0Lw7o4: Downloading ios player API JSON\n",
      "[youtube] QikJq0Lw7o4: Downloading m3u8 information\n",
      "[info] QikJq0Lw7o4: Downloading 1 format(s): 140\n",
      "[download] Destination: id08217_9_10720_QikJq0Lw7o4_00109\n",
      "[download] 100% of    8.92MiB in 00:00:01 at 5.63MiB/s   \n",
      "[FixupM4a] Correcting container of \"id08217_9_10720_QikJq0Lw7o4_00109\"\n",
      "[ExtractAudio] Destination: id08217_9_10720_QikJq0Lw7o4_00109.mp3\n",
      "Deleting original file id08217_9_10720_QikJq0Lw7o4_00109 (pass -k to keep)\n",
      "Audio downloaded as id08217_9_10720_QikJq0Lw7o4_00109\n",
      "Trimmed audio saved as ../data/download_df_audio/id08217_9_10720_QikJq0Lw7o4_00109_cut.mp3\n",
      "Speaker: id08246, Video: LjlEhBlxkW8, Txt file: 00041\n"
     ]
    },
    {
     "name": "stderr",
     "output_type": "stream",
     "text": [
      "ERROR: [youtube] LjlEhBlxkW8: Video unavailable. This video is no longer available because the YouTube account associated with this video has been terminated.\n"
     ]
    },
    {
     "name": "stdout",
     "output_type": "stream",
     "text": [
      "Speaker: id08246, Video: Lq32cUXfU7M, Txt file: 00048\n",
      "[youtube] Extracting URL: https://www.youtube.com/watch?v=Lq32cUXfU7M\n",
      "[youtube] Lq32cUXfU7M: Downloading webpage\n",
      "[youtube] Lq32cUXfU7M: Downloading tv client config\n",
      "[youtube] Lq32cUXfU7M: Downloading player 5ae7d525\n",
      "[youtube] Lq32cUXfU7M: Downloading tv player API JSON\n",
      "[youtube] Lq32cUXfU7M: Downloading ios player API JSON\n",
      "[youtube] Lq32cUXfU7M: Downloading m3u8 information\n",
      "[info] Lq32cUXfU7M: Downloading 1 format(s): 140\n",
      "[download] Destination: id08246_2_40760_Lq32cUXfU7M_00048\n",
      "[download] 100% of    5.05MiB in 00:00:01 at 2.67MiB/s   \n",
      "[FixupM4a] Correcting container of \"id08246_2_40760_Lq32cUXfU7M_00048\"\n",
      "[ExtractAudio] Destination: id08246_2_40760_Lq32cUXfU7M_00048.mp3\n",
      "Deleting original file id08246_2_40760_Lq32cUXfU7M_00048 (pass -k to keep)\n",
      "Audio downloaded as id08246_2_40760_Lq32cUXfU7M_00048\n",
      "Trimmed audio saved as ../data/download_df_audio/id08246_2_40760_Lq32cUXfU7M_00048_cut.mp3\n",
      "Speaker: id08246, Video: x_0YgPz4Dwg, Txt file: 00209\n"
     ]
    },
    {
     "name": "stderr",
     "output_type": "stream",
     "text": [
      "ERROR: [youtube] x_0YgPz4Dwg: Video unavailable. This video is no longer available because the YouTube account associated with this video has been terminated.\n"
     ]
    },
    {
     "name": "stdout",
     "output_type": "stream",
     "text": [
      "Speaker: id08246, Video: EEwoWOsRSaw, Txt file: 00023\n",
      "[youtube] Extracting URL: https://www.youtube.com/watch?v=EEwoWOsRSaw\n",
      "[youtube] EEwoWOsRSaw: Downloading webpage\n",
      "[youtube] EEwoWOsRSaw: Downloading tv client config\n",
      "[youtube] EEwoWOsRSaw: Downloading player 5ae7d525\n",
      "[youtube] EEwoWOsRSaw: Downloading tv player API JSON\n",
      "[youtube] EEwoWOsRSaw: Downloading ios player API JSON\n",
      "[youtube] EEwoWOsRSaw: Downloading m3u8 information\n",
      "[info] EEwoWOsRSaw: Downloading 1 format(s): 140\n",
      "[download] Destination: id08246_3_29680_EEwoWOsRSaw_00023\n",
      "[download] 100% of    5.13MiB in 00:00:01 at 3.08MiB/s   \n",
      "[FixupM4a] Correcting container of \"id08246_3_29680_EEwoWOsRSaw_00023\"\n",
      "[ExtractAudio] Destination: id08246_3_29680_EEwoWOsRSaw_00023.mp3\n",
      "Deleting original file id08246_3_29680_EEwoWOsRSaw_00023 (pass -k to keep)\n",
      "Audio downloaded as id08246_3_29680_EEwoWOsRSaw_00023\n",
      "Trimmed audio saved as ../data/download_df_audio/id08246_3_29680_EEwoWOsRSaw_00023_cut.mp3\n",
      "Speaker: id08246, Video: hPf_UfmIOYQ, Txt file: 00150\n"
     ]
    },
    {
     "name": "stderr",
     "output_type": "stream",
     "text": [
      "ERROR: [youtube] hPf_UfmIOYQ: Video unavailable. This video is no longer available because the YouTube account associated with this video has been terminated.\n"
     ]
    },
    {
     "name": "stdout",
     "output_type": "stream",
     "text": [
      "Speaker: id08246, Video: zNEy5syTwR8, Txt file: 00225\n",
      "[youtube] Extracting URL: https://www.youtube.com/watch?v=zNEy5syTwR8\n",
      "[youtube] zNEy5syTwR8: Downloading webpage\n",
      "[youtube] zNEy5syTwR8: Downloading tv client config\n",
      "[youtube] zNEy5syTwR8: Downloading player 5ae7d525\n",
      "[youtube] zNEy5syTwR8: Downloading tv player API JSON\n",
      "[youtube] zNEy5syTwR8: Downloading ios player API JSON\n",
      "[youtube] zNEy5syTwR8: Downloading m3u8 information\n",
      "[info] zNEy5syTwR8: Downloading 1 format(s): 140\n",
      "[download] Destination: id08246_4_27520_zNEy5syTwR8_00225\n",
      "[download] 100% of    7.45MiB in 00:00:02 at 3.20MiB/s   \n",
      "[FixupM4a] Correcting container of \"id08246_4_27520_zNEy5syTwR8_00225\"\n",
      "[ExtractAudio] Destination: id08246_4_27520_zNEy5syTwR8_00225.mp3\n",
      "Deleting original file id08246_4_27520_zNEy5syTwR8_00225 (pass -k to keep)\n",
      "Audio downloaded as id08246_4_27520_zNEy5syTwR8_00225\n",
      "Trimmed audio saved as ../data/download_df_audio/id08246_4_27520_zNEy5syTwR8_00225_cut.mp3\n",
      "Speaker: id08246, Video: XUS1BUoYi1s, Txt file: 00104\n"
     ]
    },
    {
     "name": "stderr",
     "output_type": "stream",
     "text": [
      "ERROR: [youtube] XUS1BUoYi1s: Video unavailable. This video is no longer available because the YouTube account associated with this video has been terminated.\n"
     ]
    },
    {
     "name": "stdout",
     "output_type": "stream",
     "text": [
      "Speaker: id08246, Video: Lq32cUXfU7M, Txt file: 00051\n",
      "[youtube] Extracting URL: https://www.youtube.com/watch?v=Lq32cUXfU7M\n",
      "[youtube] Lq32cUXfU7M: Downloading webpage\n",
      "[youtube] Lq32cUXfU7M: Downloading tv client config\n",
      "[youtube] Lq32cUXfU7M: Downloading player 5ae7d525\n",
      "[youtube] Lq32cUXfU7M: Downloading tv player API JSON\n",
      "[youtube] Lq32cUXfU7M: Downloading ios player API JSON\n",
      "[youtube] Lq32cUXfU7M: Downloading m3u8 information\n",
      "[info] Lq32cUXfU7M: Downloading 1 format(s): 140\n",
      "[download] Destination: id08246_5_25640_Lq32cUXfU7M_00051\n",
      "[download] 100% of    5.05MiB in 00:00:01 at 4.15MiB/s   \n",
      "[FixupM4a] Correcting container of \"id08246_5_25640_Lq32cUXfU7M_00051\"\n",
      "[ExtractAudio] Destination: id08246_5_25640_Lq32cUXfU7M_00051.mp3\n",
      "Deleting original file id08246_5_25640_Lq32cUXfU7M_00051 (pass -k to keep)\n",
      "Audio downloaded as id08246_5_25640_Lq32cUXfU7M_00051\n",
      "Trimmed audio saved as ../data/download_df_audio/id08246_5_25640_Lq32cUXfU7M_00051_cut.mp3\n",
      "Speaker: id08246, Video: UTExtGBvkgA, Txt file: 00086\n"
     ]
    },
    {
     "name": "stderr",
     "output_type": "stream",
     "text": [
      "ERROR: [youtube] UTExtGBvkgA: Video unavailable. This video is no longer available because the YouTube account associated with this video has been terminated.\n"
     ]
    },
    {
     "name": "stdout",
     "output_type": "stream",
     "text": [
      "Speaker: id08246, Video: UTExtGBvkgA, Txt file: 00089\n"
     ]
    },
    {
     "name": "stderr",
     "output_type": "stream",
     "text": [
      "ERROR: [youtube] UTExtGBvkgA: Video unavailable. This video is no longer available because the YouTube account associated with this video has been terminated.\n"
     ]
    },
    {
     "name": "stdout",
     "output_type": "stream",
     "text": [
      "Speaker: id08246, Video: Tjqjt9hIey0, Txt file: 00077\n",
      "[youtube] Extracting URL: https://www.youtube.com/watch?v=Tjqjt9hIey0\n",
      "[youtube] Tjqjt9hIey0: Downloading webpage\n",
      "[youtube] Tjqjt9hIey0: Downloading tv client config\n",
      "[youtube] Tjqjt9hIey0: Downloading player 5ae7d525\n",
      "[youtube] Tjqjt9hIey0: Downloading tv player API JSON\n",
      "[youtube] Tjqjt9hIey0: Downloading ios player API JSON\n",
      "[youtube] Tjqjt9hIey0: Downloading m3u8 information\n",
      "[info] Tjqjt9hIey0: Downloading 1 format(s): 251\n",
      "[download] Destination: id08246_6_19680_Tjqjt9hIey0_00077\n",
      "[download] 100% of    7.30MiB in 00:00:00 at 9.34MiB/s   \n",
      "[ExtractAudio] Destination: id08246_6_19680_Tjqjt9hIey0_00077.mp3\n",
      "Deleting original file id08246_6_19680_Tjqjt9hIey0_00077 (pass -k to keep)\n",
      "Audio downloaded as id08246_6_19680_Tjqjt9hIey0_00077\n",
      "Trimmed audio saved as ../data/download_df_audio/id08246_6_19680_Tjqjt9hIey0_00077_cut.mp3\n",
      "Speaker: id08246, Video: XUS1BUoYi1s, Txt file: 00111\n"
     ]
    },
    {
     "name": "stderr",
     "output_type": "stream",
     "text": [
      "ERROR: [youtube] XUS1BUoYi1s: Video unavailable. This video is no longer available because the YouTube account associated with this video has been terminated.\n"
     ]
    },
    {
     "name": "stdout",
     "output_type": "stream",
     "text": [
      "Speaker: id08246, Video: zNEy5syTwR8, Txt file: 00242\n",
      "[youtube] Extracting URL: https://www.youtube.com/watch?v=zNEy5syTwR8\n",
      "[youtube] zNEy5syTwR8: Downloading webpage\n",
      "[youtube] zNEy5syTwR8: Downloading tv client config\n",
      "[youtube] zNEy5syTwR8: Downloading player 5ae7d525\n",
      "[youtube] zNEy5syTwR8: Downloading tv player API JSON\n",
      "[youtube] zNEy5syTwR8: Downloading ios player API JSON\n",
      "[youtube] zNEy5syTwR8: Downloading m3u8 information\n",
      "[info] zNEy5syTwR8: Downloading 1 format(s): 140\n",
      "[download] Destination: id08246_7_19440_zNEy5syTwR8_00242\n",
      "[download] 100% of    7.45MiB in 00:00:01 at 5.34MiB/s   \n",
      "[FixupM4a] Correcting container of \"id08246_7_19440_zNEy5syTwR8_00242\"\n",
      "[ExtractAudio] Destination: id08246_7_19440_zNEy5syTwR8_00242.mp3\n",
      "Deleting original file id08246_7_19440_zNEy5syTwR8_00242 (pass -k to keep)\n",
      "Audio downloaded as id08246_7_19440_zNEy5syTwR8_00242\n",
      "Trimmed audio saved as ../data/download_df_audio/id08246_7_19440_zNEy5syTwR8_00242_cut.mp3\n",
      "Speaker: id08246, Video: Tjqjt9hIey0, Txt file: 00082\n",
      "[youtube] Extracting URL: https://www.youtube.com/watch?v=Tjqjt9hIey0\n",
      "[youtube] Tjqjt9hIey0: Downloading webpage\n",
      "[youtube] Tjqjt9hIey0: Downloading tv client config\n",
      "[youtube] Tjqjt9hIey0: Downloading player 5ae7d525\n",
      "[youtube] Tjqjt9hIey0: Downloading tv player API JSON\n",
      "[youtube] Tjqjt9hIey0: Downloading ios player API JSON\n",
      "[youtube] Tjqjt9hIey0: Downloading m3u8 information\n",
      "[info] Tjqjt9hIey0: Downloading 1 format(s): 251\n",
      "[download] Destination: id08246_8_18720_Tjqjt9hIey0_00082\n",
      "[download] 100% of    7.30MiB in 00:00:00 at 10.38MiB/s  \n",
      "[ExtractAudio] Destination: id08246_8_18720_Tjqjt9hIey0_00082.mp3\n",
      "Deleting original file id08246_8_18720_Tjqjt9hIey0_00082 (pass -k to keep)\n",
      "Audio downloaded as id08246_8_18720_Tjqjt9hIey0_00082\n",
      "Trimmed audio saved as ../data/download_df_audio/id08246_8_18720_Tjqjt9hIey0_00082_cut.mp3\n",
      "Speaker: id08246, Video: mlDXZywedvc, Txt file: 00174\n",
      "[youtube] Extracting URL: https://www.youtube.com/watch?v=mlDXZywedvc\n",
      "[youtube] mlDXZywedvc: Downloading webpage\n",
      "[youtube] mlDXZywedvc: Downloading tv client config\n",
      "[youtube] mlDXZywedvc: Downloading player 5ae7d525\n",
      "[youtube] mlDXZywedvc: Downloading tv player API JSON\n",
      "[youtube] mlDXZywedvc: Downloading ios player API JSON\n",
      "[youtube] mlDXZywedvc: Downloading m3u8 information\n",
      "[info] mlDXZywedvc: Downloading 1 format(s): 251\n",
      "[download] Destination: id08246_9_18640_mlDXZywedvc_00174\n",
      "[download] 100% of    2.73MiB in 00:00:00 at 4.99MiB/s   \n",
      "[ExtractAudio] Destination: id08246_9_18640_mlDXZywedvc_00174.mp3\n",
      "Deleting original file id08246_9_18640_mlDXZywedvc_00174 (pass -k to keep)\n",
      "Audio downloaded as id08246_9_18640_mlDXZywedvc_00174\n",
      "Trimmed audio saved as ../data/download_df_audio/id08246_9_18640_mlDXZywedvc_00174_cut.mp3\n",
      "Speaker: id08251, Video: 0q8Ih_RE9w8, Txt file: 00010\n",
      "[youtube] Extracting URL: https://www.youtube.com/watch?v=0q8Ih_RE9w8\n",
      "[youtube] 0q8Ih_RE9w8: Downloading webpage\n",
      "[youtube] 0q8Ih_RE9w8: Downloading tv client config\n",
      "[youtube] 0q8Ih_RE9w8: Downloading player 5ae7d525\n",
      "[youtube] 0q8Ih_RE9w8: Downloading tv player API JSON\n",
      "[youtube] 0q8Ih_RE9w8: Downloading ios player API JSON\n",
      "[youtube] 0q8Ih_RE9w8: Downloading m3u8 information\n",
      "[info] 0q8Ih_RE9w8: Downloading 1 format(s): 251\n",
      "[download] Destination: id08251_2_15520_0q8Ih_RE9w8_00010\n",
      "[download] 100% of    8.19MiB in 00:00:01 at 4.36MiB/s   \n",
      "[ExtractAudio] Destination: id08251_2_15520_0q8Ih_RE9w8_00010.mp3\n",
      "Deleting original file id08251_2_15520_0q8Ih_RE9w8_00010 (pass -k to keep)\n",
      "Audio downloaded as id08251_2_15520_0q8Ih_RE9w8_00010\n",
      "Trimmed audio saved as ../data/download_df_audio/id08251_2_15520_0q8Ih_RE9w8_00010_cut.mp3\n",
      "Speaker: id08251, Video: Q8w-wYiZ2rM, Txt file: 00031\n",
      "[youtube] Extracting URL: https://www.youtube.com/watch?v=Q8w-wYiZ2rM\n",
      "[youtube] Q8w-wYiZ2rM: Downloading webpage\n",
      "[youtube] Q8w-wYiZ2rM: Downloading tv client config\n",
      "[youtube] Q8w-wYiZ2rM: Downloading player 5ae7d525\n",
      "[youtube] Q8w-wYiZ2rM: Downloading tv player API JSON\n",
      "[youtube] Q8w-wYiZ2rM: Downloading ios player API JSON\n",
      "[youtube] Q8w-wYiZ2rM: Downloading m3u8 information\n",
      "[info] Q8w-wYiZ2rM: Downloading 1 format(s): 140\n",
      "[download] Destination: id08251_3_13400_Q8w-wYiZ2rM_00031\n",
      "[download] 100% of    8.16MiB in 00:00:01 at 7.87MiB/s   \n",
      "[FixupM4a] Correcting container of \"id08251_3_13400_Q8w-wYiZ2rM_00031\"\n",
      "[ExtractAudio] Destination: id08251_3_13400_Q8w-wYiZ2rM_00031.mp3\n",
      "Deleting original file id08251_3_13400_Q8w-wYiZ2rM_00031 (pass -k to keep)\n",
      "Audio downloaded as id08251_3_13400_Q8w-wYiZ2rM_00031\n",
      "Trimmed audio saved as ../data/download_df_audio/id08251_3_13400_Q8w-wYiZ2rM_00031_cut.mp3\n",
      "Speaker: id08251, Video: 0q8Ih_RE9w8, Txt file: 00011\n",
      "[youtube] Extracting URL: https://www.youtube.com/watch?v=0q8Ih_RE9w8\n",
      "[youtube] 0q8Ih_RE9w8: Downloading webpage\n",
      "[youtube] 0q8Ih_RE9w8: Downloading tv client config\n",
      "[youtube] 0q8Ih_RE9w8: Downloading player 5ae7d525\n",
      "[youtube] 0q8Ih_RE9w8: Downloading tv player API JSON\n",
      "[youtube] 0q8Ih_RE9w8: Downloading ios player API JSON\n",
      "[youtube] 0q8Ih_RE9w8: Downloading m3u8 information\n",
      "[info] 0q8Ih_RE9w8: Downloading 1 format(s): 251\n",
      "[download] Destination: id08251_4_10280_0q8Ih_RE9w8_00011\n",
      "[download] 100% of    8.19MiB in 00:00:00 at 13.06MiB/s  \n",
      "[ExtractAudio] Destination: id08251_4_10280_0q8Ih_RE9w8_00011.mp3\n",
      "Deleting original file id08251_4_10280_0q8Ih_RE9w8_00011 (pass -k to keep)\n",
      "Audio downloaded as id08251_4_10280_0q8Ih_RE9w8_00011\n",
      "Trimmed audio saved as ../data/download_df_audio/id08251_4_10280_0q8Ih_RE9w8_00011_cut.mp3\n",
      "Speaker: id08251, Video: Q8w-wYiZ2rM, Txt file: 00033\n",
      "[youtube] Extracting URL: https://www.youtube.com/watch?v=Q8w-wYiZ2rM\n",
      "[youtube] Q8w-wYiZ2rM: Downloading webpage\n",
      "[youtube] Q8w-wYiZ2rM: Downloading tv client config\n",
      "[youtube] Q8w-wYiZ2rM: Downloading player 5ae7d525\n",
      "[youtube] Q8w-wYiZ2rM: Downloading tv player API JSON\n",
      "[youtube] Q8w-wYiZ2rM: Downloading ios player API JSON\n",
      "[youtube] Q8w-wYiZ2rM: Downloading m3u8 information\n",
      "[info] Q8w-wYiZ2rM: Downloading 1 format(s): 140\n",
      "[download] Destination: id08251_5_9920_Q8w-wYiZ2rM_00033\n",
      "[download] 100% of    8.16MiB in 00:00:00 at 16.16MiB/s  \n",
      "[FixupM4a] Correcting container of \"id08251_5_9920_Q8w-wYiZ2rM_00033\"\n",
      "[ExtractAudio] Destination: id08251_5_9920_Q8w-wYiZ2rM_00033.mp3\n",
      "Deleting original file id08251_5_9920_Q8w-wYiZ2rM_00033 (pass -k to keep)\n",
      "Audio downloaded as id08251_5_9920_Q8w-wYiZ2rM_00033\n",
      "Trimmed audio saved as ../data/download_df_audio/id08251_5_9920_Q8w-wYiZ2rM_00033_cut.mp3\n",
      "Speaker: id08251, Video: 9YUt3Yh3r40, Txt file: 00019\n",
      "[youtube] Extracting URL: https://www.youtube.com/watch?v=9YUt3Yh3r40\n",
      "[youtube] 9YUt3Yh3r40: Downloading webpage\n",
      "[youtube] 9YUt3Yh3r40: Downloading tv client config\n",
      "[youtube] 9YUt3Yh3r40: Downloading player 5ae7d525\n",
      "[youtube] 9YUt3Yh3r40: Downloading tv player API JSON\n",
      "[youtube] 9YUt3Yh3r40: Downloading ios player API JSON\n",
      "[youtube] 9YUt3Yh3r40: Downloading m3u8 information\n",
      "[info] 9YUt3Yh3r40: Downloading 1 format(s): 251\n",
      "[download] Destination: id08251_6_9800_9YUt3Yh3r40_00019\n",
      "[download] 100% of    2.24MiB in 00:00:00 at 2.38MiB/s   \n",
      "[ExtractAudio] Destination: id08251_6_9800_9YUt3Yh3r40_00019.mp3\n",
      "Deleting original file id08251_6_9800_9YUt3Yh3r40_00019 (pass -k to keep)\n",
      "Audio downloaded as id08251_6_9800_9YUt3Yh3r40_00019\n",
      "Trimmed audio saved as ../data/download_df_audio/id08251_6_9800_9YUt3Yh3r40_00019_cut.mp3\n",
      "Speaker: id08251, Video: 0q8Ih_RE9w8, Txt file: 00017\n",
      "[youtube] Extracting URL: https://www.youtube.com/watch?v=0q8Ih_RE9w8\n",
      "[youtube] 0q8Ih_RE9w8: Downloading webpage\n",
      "[youtube] 0q8Ih_RE9w8: Downloading tv client config\n",
      "[youtube] 0q8Ih_RE9w8: Downloading player 5ae7d525\n",
      "[youtube] 0q8Ih_RE9w8: Downloading tv player API JSON\n",
      "[youtube] 0q8Ih_RE9w8: Downloading ios player API JSON\n",
      "[youtube] 0q8Ih_RE9w8: Downloading m3u8 information\n",
      "[info] 0q8Ih_RE9w8: Downloading 1 format(s): 251\n",
      "[download] Destination: id08251_7_9720_0q8Ih_RE9w8_00017\n",
      "[download] 100% of    8.19MiB in 00:00:00 at 14.51MiB/s    \n",
      "[ExtractAudio] Destination: id08251_7_9720_0q8Ih_RE9w8_00017.mp3\n",
      "Deleting original file id08251_7_9720_0q8Ih_RE9w8_00017 (pass -k to keep)\n",
      "Audio downloaded as id08251_7_9720_0q8Ih_RE9w8_00017\n",
      "Trimmed audio saved as ../data/download_df_audio/id08251_7_9720_0q8Ih_RE9w8_00017_cut.mp3\n",
      "Speaker: id08251, Video: I9EPYm6odbA, Txt file: 00026\n",
      "[youtube] Extracting URL: https://www.youtube.com/watch?v=I9EPYm6odbA\n",
      "[youtube] I9EPYm6odbA: Downloading webpage\n",
      "[youtube] I9EPYm6odbA: Downloading tv client config\n",
      "[youtube] I9EPYm6odbA: Downloading player 5ae7d525\n",
      "[youtube] I9EPYm6odbA: Downloading tv player API JSON\n",
      "[youtube] I9EPYm6odbA: Downloading ios player API JSON\n",
      "[youtube] I9EPYm6odbA: Downloading m3u8 information\n",
      "[info] I9EPYm6odbA: Downloading 1 format(s): 140\n",
      "[download] Destination: id08251_8_9600_I9EPYm6odbA_00026\n",
      "[download] 100% of    4.55MiB in 00:00:01 at 3.41MiB/s   \n",
      "[FixupM4a] Correcting container of \"id08251_8_9600_I9EPYm6odbA_00026\"\n",
      "[ExtractAudio] Destination: id08251_8_9600_I9EPYm6odbA_00026.mp3\n",
      "Deleting original file id08251_8_9600_I9EPYm6odbA_00026 (pass -k to keep)\n",
      "Audio downloaded as id08251_8_9600_I9EPYm6odbA_00026\n",
      "Trimmed audio saved as ../data/download_df_audio/id08251_8_9600_I9EPYm6odbA_00026_cut.mp3\n",
      "Speaker: id08251, Video: 0q8Ih_RE9w8, Txt file: 00013\n",
      "[youtube] Extracting URL: https://www.youtube.com/watch?v=0q8Ih_RE9w8\n",
      "[youtube] 0q8Ih_RE9w8: Downloading webpage\n",
      "[youtube] 0q8Ih_RE9w8: Downloading tv client config\n",
      "[youtube] 0q8Ih_RE9w8: Downloading player 5ae7d525\n",
      "[youtube] 0q8Ih_RE9w8: Downloading tv player API JSON\n",
      "[youtube] 0q8Ih_RE9w8: Downloading ios player API JSON\n",
      "[youtube] 0q8Ih_RE9w8: Downloading m3u8 information\n",
      "[info] 0q8Ih_RE9w8: Downloading 1 format(s): 251\n",
      "[download] Destination: id08251_9_7520_0q8Ih_RE9w8_00013\n",
      "[download] 100% of    8.19MiB in 00:00:00 at 16.05MiB/s  \n",
      "[ExtractAudio] Destination: id08251_9_7520_0q8Ih_RE9w8_00013.mp3\n",
      "Deleting original file id08251_9_7520_0q8Ih_RE9w8_00013 (pass -k to keep)\n",
      "Audio downloaded as id08251_9_7520_0q8Ih_RE9w8_00013\n",
      "Trimmed audio saved as ../data/download_df_audio/id08251_9_7520_0q8Ih_RE9w8_00013_cut.mp3\n",
      "Speaker: id08273, Video: WXPytZ7DoBA, Txt file: 00099\n"
     ]
    },
    {
     "name": "stderr",
     "output_type": "stream",
     "text": [
      "ERROR: [youtube] WXPytZ7DoBA: Private video. Sign in if you've been granted access to this video. Use --cookies-from-browser or --cookies for the authentication. See  https://github.com/yt-dlp/yt-dlp/wiki/FAQ#how-do-i-pass-cookies-to-yt-dlp  for how to manually pass cookies. Also see  https://github.com/yt-dlp/yt-dlp/wiki/Extractors#exporting-youtube-cookies  for tips on effectively exporting YouTube cookies\n"
     ]
    },
    {
     "name": "stdout",
     "output_type": "stream",
     "text": [
      "Speaker: id08273, Video: WXPytZ7DoBA, Txt file: 00101\n"
     ]
    },
    {
     "name": "stderr",
     "output_type": "stream",
     "text": [
      "ERROR: [youtube] WXPytZ7DoBA: Private video. Sign in if you've been granted access to this video. Use --cookies-from-browser or --cookies for the authentication. See  https://github.com/yt-dlp/yt-dlp/wiki/FAQ#how-do-i-pass-cookies-to-yt-dlp  for how to manually pass cookies. Also see  https://github.com/yt-dlp/yt-dlp/wiki/Extractors#exporting-youtube-cookies  for tips on effectively exporting YouTube cookies\n"
     ]
    },
    {
     "name": "stdout",
     "output_type": "stream",
     "text": [
      "Speaker: id08273, Video: WXPytZ7DoBA, Txt file: 00092\n"
     ]
    },
    {
     "name": "stderr",
     "output_type": "stream",
     "text": [
      "ERROR: [youtube] WXPytZ7DoBA: Private video. Sign in if you've been granted access to this video. Use --cookies-from-browser or --cookies for the authentication. See  https://github.com/yt-dlp/yt-dlp/wiki/FAQ#how-do-i-pass-cookies-to-yt-dlp  for how to manually pass cookies. Also see  https://github.com/yt-dlp/yt-dlp/wiki/Extractors#exporting-youtube-cookies  for tips on effectively exporting YouTube cookies\n"
     ]
    },
    {
     "name": "stdout",
     "output_type": "stream",
     "text": [
      "Speaker: id08273, Video: 3rC1EZAuO6g, Txt file: 00017\n",
      "[youtube] Extracting URL: https://www.youtube.com/watch?v=3rC1EZAuO6g\n",
      "[youtube] 3rC1EZAuO6g: Downloading webpage\n",
      "[youtube] 3rC1EZAuO6g: Downloading tv client config\n",
      "[youtube] 3rC1EZAuO6g: Downloading player 5ae7d525\n",
      "[youtube] 3rC1EZAuO6g: Downloading tv player API JSON\n",
      "[youtube] 3rC1EZAuO6g: Downloading ios player API JSON\n",
      "[youtube] 3rC1EZAuO6g: Downloading m3u8 information\n",
      "[info] 3rC1EZAuO6g: Downloading 1 format(s): 251\n",
      "[download] Destination: id08273_2_17760_3rC1EZAuO6g_00017\n",
      "[download] 100% of    3.40MiB in 00:00:01 at 2.09MiB/s   \n",
      "[ExtractAudio] Destination: id08273_2_17760_3rC1EZAuO6g_00017.mp3\n",
      "Deleting original file id08273_2_17760_3rC1EZAuO6g_00017 (pass -k to keep)\n",
      "Audio downloaded as id08273_2_17760_3rC1EZAuO6g_00017\n",
      "Trimmed audio saved as ../data/download_df_audio/id08273_2_17760_3rC1EZAuO6g_00017_cut.mp3\n",
      "Speaker: id08273, Video: teCVmsBI28k, Txt file: 00254\n"
     ]
    },
    {
     "name": "stderr",
     "output_type": "stream",
     "text": [
      "ERROR: [youtube] teCVmsBI28k: Private video. Sign in if you've been granted access to this video. Use --cookies-from-browser or --cookies for the authentication. See  https://github.com/yt-dlp/yt-dlp/wiki/FAQ#how-do-i-pass-cookies-to-yt-dlp  for how to manually pass cookies. Also see  https://github.com/yt-dlp/yt-dlp/wiki/Extractors#exporting-youtube-cookies  for tips on effectively exporting YouTube cookies\n"
     ]
    },
    {
     "name": "stdout",
     "output_type": "stream",
     "text": [
      "Speaker: id08273, Video: r8caL8A3Bv8, Txt file: 00241\n",
      "[youtube] Extracting URL: https://www.youtube.com/watch?v=r8caL8A3Bv8\n",
      "[youtube] r8caL8A3Bv8: Downloading webpage\n",
      "[youtube] r8caL8A3Bv8: Downloading tv client config\n",
      "[youtube] r8caL8A3Bv8: Downloading player 5ae7d525\n",
      "[youtube] r8caL8A3Bv8: Downloading tv player API JSON\n",
      "[youtube] r8caL8A3Bv8: Downloading ios player API JSON\n",
      "[youtube] r8caL8A3Bv8: Downloading m3u8 information\n",
      "[info] r8caL8A3Bv8: Downloading 1 format(s): 140\n",
      "[download] Destination: id08273_3_17480_r8caL8A3Bv8_00241\n",
      "[download] 100% of    6.74MiB in 00:00:02 at 3.37MiB/s   \n",
      "[FixupM4a] Correcting container of \"id08273_3_17480_r8caL8A3Bv8_00241\"\n",
      "[ExtractAudio] Destination: id08273_3_17480_r8caL8A3Bv8_00241.mp3\n",
      "Deleting original file id08273_3_17480_r8caL8A3Bv8_00241 (pass -k to keep)\n",
      "Audio downloaded as id08273_3_17480_r8caL8A3Bv8_00241\n",
      "Trimmed audio saved as ../data/download_df_audio/id08273_3_17480_r8caL8A3Bv8_00241_cut.mp3\n",
      "Speaker: id08273, Video: LPojZ57ELHw, Txt file: 00058\n",
      "[youtube] Extracting URL: https://www.youtube.com/watch?v=LPojZ57ELHw\n",
      "[youtube] LPojZ57ELHw: Downloading webpage\n",
      "[youtube] LPojZ57ELHw: Downloading tv client config\n",
      "[youtube] LPojZ57ELHw: Downloading player 5ae7d525\n",
      "[youtube] LPojZ57ELHw: Downloading tv player API JSON\n",
      "[youtube] LPojZ57ELHw: Downloading ios player API JSON\n",
      "[youtube] LPojZ57ELHw: Downloading m3u8 information\n",
      "[info] LPojZ57ELHw: Downloading 1 format(s): 140\n",
      "[download] Destination: id08273_4_17000_LPojZ57ELHw_00058\n",
      "[download] 100% of   13.73MiB in 00:00:02 at 6.83MiB/s     \n",
      "[FixupM4a] Correcting container of \"id08273_4_17000_LPojZ57ELHw_00058\"\n",
      "[ExtractAudio] Destination: id08273_4_17000_LPojZ57ELHw_00058.mp3\n",
      "Deleting original file id08273_4_17000_LPojZ57ELHw_00058 (pass -k to keep)\n",
      "Audio downloaded as id08273_4_17000_LPojZ57ELHw_00058\n",
      "Trimmed audio saved as ../data/download_df_audio/id08273_4_17000_LPojZ57ELHw_00058_cut.mp3\n",
      "Speaker: id08273, Video: 9Jd3axy7fDY, Txt file: 00028\n",
      "[youtube] Extracting URL: https://www.youtube.com/watch?v=9Jd3axy7fDY\n",
      "[youtube] 9Jd3axy7fDY: Downloading webpage\n",
      "[youtube] 9Jd3axy7fDY: Downloading tv client config\n",
      "[youtube] 9Jd3axy7fDY: Downloading player 5ae7d525\n",
      "[youtube] 9Jd3axy7fDY: Downloading tv player API JSON\n",
      "[youtube] 9Jd3axy7fDY: Downloading ios player API JSON\n",
      "[youtube] 9Jd3axy7fDY: Downloading m3u8 information\n",
      "[info] 9Jd3axy7fDY: Downloading 1 format(s): 251\n",
      "[download] Destination: id08273_5_15160_9Jd3axy7fDY_00028\n",
      "[download] 100% of    5.33MiB in 00:00:00 at 10.04MiB/s  \n",
      "[ExtractAudio] Destination: id08273_5_15160_9Jd3axy7fDY_00028.mp3\n",
      "Deleting original file id08273_5_15160_9Jd3axy7fDY_00028 (pass -k to keep)\n",
      "Audio downloaded as id08273_5_15160_9Jd3axy7fDY_00028\n",
      "Trimmed audio saved as ../data/download_df_audio/id08273_5_15160_9Jd3axy7fDY_00028_cut.mp3\n",
      "Speaker: id08273, Video: r8caL8A3Bv8, Txt file: 00236\n",
      "[youtube] Extracting URL: https://www.youtube.com/watch?v=r8caL8A3Bv8\n",
      "[youtube] r8caL8A3Bv8: Downloading webpage\n",
      "[youtube] r8caL8A3Bv8: Downloading tv client config\n",
      "[youtube] r8caL8A3Bv8: Downloading player 5ae7d525\n",
      "[youtube] r8caL8A3Bv8: Downloading tv player API JSON\n",
      "[youtube] r8caL8A3Bv8: Downloading ios player API JSON\n",
      "[youtube] r8caL8A3Bv8: Downloading m3u8 information\n",
      "[info] r8caL8A3Bv8: Downloading 1 format(s): 140\n",
      "[download] Destination: id08273_6_13520_r8caL8A3Bv8_00236\n",
      "[download] 100% of    6.74MiB in 00:00:01 at 4.32MiB/s   \n",
      "[FixupM4a] Correcting container of \"id08273_6_13520_r8caL8A3Bv8_00236\"\n",
      "[ExtractAudio] Destination: id08273_6_13520_r8caL8A3Bv8_00236.mp3\n",
      "Deleting original file id08273_6_13520_r8caL8A3Bv8_00236 (pass -k to keep)\n",
      "Audio downloaded as id08273_6_13520_r8caL8A3Bv8_00236\n",
      "Trimmed audio saved as ../data/download_df_audio/id08273_6_13520_r8caL8A3Bv8_00236_cut.mp3\n",
      "Speaker: id08273, Video: copI_XHyuyw, Txt file: 00150\n",
      "[youtube] Extracting URL: https://www.youtube.com/watch?v=copI_XHyuyw\n",
      "[youtube] copI_XHyuyw: Downloading webpage\n",
      "[youtube] copI_XHyuyw: Downloading tv client config\n",
      "[youtube] copI_XHyuyw: Downloading player 5ae7d525\n",
      "[youtube] copI_XHyuyw: Downloading tv player API JSON\n",
      "[youtube] copI_XHyuyw: Downloading ios player API JSON\n",
      "[youtube] copI_XHyuyw: Downloading m3u8 information\n",
      "[info] copI_XHyuyw: Downloading 1 format(s): 140\n",
      "[download] Destination: id08273_7_13160_copI_XHyuyw_00150\n",
      "[download] 100% of    8.21MiB in 00:00:02 at 3.28MiB/s   \n",
      "[FixupM4a] Correcting container of \"id08273_7_13160_copI_XHyuyw_00150\"\n",
      "[ExtractAudio] Destination: id08273_7_13160_copI_XHyuyw_00150.mp3\n",
      "Deleting original file id08273_7_13160_copI_XHyuyw_00150 (pass -k to keep)\n",
      "Audio downloaded as id08273_7_13160_copI_XHyuyw_00150\n",
      "Trimmed audio saved as ../data/download_df_audio/id08273_7_13160_copI_XHyuyw_00150_cut.mp3\n",
      "Speaker: id08273, Video: WXPytZ7DoBA, Txt file: 00102\n"
     ]
    },
    {
     "name": "stderr",
     "output_type": "stream",
     "text": [
      "ERROR: [youtube] WXPytZ7DoBA: Private video. Sign in if you've been granted access to this video. Use --cookies-from-browser or --cookies for the authentication. See  https://github.com/yt-dlp/yt-dlp/wiki/FAQ#how-do-i-pass-cookies-to-yt-dlp  for how to manually pass cookies. Also see  https://github.com/yt-dlp/yt-dlp/wiki/Extractors#exporting-youtube-cookies  for tips on effectively exporting YouTube cookies\n"
     ]
    },
    {
     "name": "stdout",
     "output_type": "stream",
     "text": [
      "Speaker: id08273, Video: 3rC1EZAuO6g, Txt file: 00015\n",
      "[youtube] Extracting URL: https://www.youtube.com/watch?v=3rC1EZAuO6g\n",
      "[youtube] 3rC1EZAuO6g: Downloading webpage\n",
      "[youtube] 3rC1EZAuO6g: Downloading tv client config\n",
      "[youtube] 3rC1EZAuO6g: Downloading player 5ae7d525\n",
      "[youtube] 3rC1EZAuO6g: Downloading tv player API JSON\n",
      "[youtube] 3rC1EZAuO6g: Downloading ios player API JSON\n",
      "[youtube] 3rC1EZAuO6g: Downloading m3u8 information\n",
      "[info] 3rC1EZAuO6g: Downloading 1 format(s): 251\n",
      "[download] Destination: id08273_8_12800_3rC1EZAuO6g_00015\n",
      "[download] 100% of    3.40MiB in 00:00:01 at 2.00MiB/s   \n",
      "[ExtractAudio] Destination: id08273_8_12800_3rC1EZAuO6g_00015.mp3\n",
      "Deleting original file id08273_8_12800_3rC1EZAuO6g_00015 (pass -k to keep)\n",
      "Audio downloaded as id08273_8_12800_3rC1EZAuO6g_00015\n",
      "Trimmed audio saved as ../data/download_df_audio/id08273_8_12800_3rC1EZAuO6g_00015_cut.mp3\n",
      "Speaker: id08273, Video: teCVmsBI28k, Txt file: 00255\n"
     ]
    },
    {
     "name": "stderr",
     "output_type": "stream",
     "text": [
      "ERROR: [youtube] teCVmsBI28k: Private video. Sign in if you've been granted access to this video. Use --cookies-from-browser or --cookies for the authentication. See  https://github.com/yt-dlp/yt-dlp/wiki/FAQ#how-do-i-pass-cookies-to-yt-dlp  for how to manually pass cookies. Also see  https://github.com/yt-dlp/yt-dlp/wiki/Extractors#exporting-youtube-cookies  for tips on effectively exporting YouTube cookies\n"
     ]
    },
    {
     "name": "stdout",
     "output_type": "stream",
     "text": [
      "Speaker: id08273, Video: vgXUcM5065g, Txt file: 00268\n",
      "[youtube] Extracting URL: https://www.youtube.com/watch?v=vgXUcM5065g\n",
      "[youtube] vgXUcM5065g: Downloading webpage\n",
      "[youtube] vgXUcM5065g: Downloading tv client config\n",
      "[youtube] vgXUcM5065g: Downloading player 5ae7d525\n",
      "[youtube] vgXUcM5065g: Downloading tv player API JSON\n",
      "[youtube] vgXUcM5065g: Downloading ios player API JSON\n",
      "[youtube] vgXUcM5065g: Downloading m3u8 information\n",
      "[info] vgXUcM5065g: Downloading 1 format(s): 251\n",
      "[download] Destination: id08273_9_11120_vgXUcM5065g_00268\n",
      "[download] 100% of    2.68MiB in 00:00:01 at 2.06MiB/s   \n",
      "[ExtractAudio] Destination: id08273_9_11120_vgXUcM5065g_00268.mp3\n",
      "Deleting original file id08273_9_11120_vgXUcM5065g_00268 (pass -k to keep)\n",
      "Audio downloaded as id08273_9_11120_vgXUcM5065g_00268\n",
      "Trimmed audio saved as ../data/download_df_audio/id08273_9_11120_vgXUcM5065g_00268_cut.mp3\n",
      "Speaker: id08280, Video: HiSQoqIFd80, Txt file: 00027\n",
      "[youtube] Extracting URL: https://www.youtube.com/watch?v=HiSQoqIFd80\n",
      "[youtube] HiSQoqIFd80: Downloading webpage\n",
      "[youtube] HiSQoqIFd80: Downloading tv client config\n",
      "[youtube] HiSQoqIFd80: Downloading player 5ae7d525\n",
      "[youtube] HiSQoqIFd80: Downloading tv player API JSON\n",
      "[youtube] HiSQoqIFd80: Downloading ios player API JSON\n",
      "[youtube] HiSQoqIFd80: Downloading m3u8 information\n",
      "[info] HiSQoqIFd80: Downloading 1 format(s): 140\n",
      "[download] Destination: id08280_2_61520_HiSQoqIFd80_00027\n",
      "[download] 100% of    6.35MiB in 00:00:01 at 4.98MiB/s   \n",
      "[FixupM4a] Correcting container of \"id08280_2_61520_HiSQoqIFd80_00027\"\n",
      "[ExtractAudio] Destination: id08280_2_61520_HiSQoqIFd80_00027.mp3\n",
      "Deleting original file id08280_2_61520_HiSQoqIFd80_00027 (pass -k to keep)\n",
      "Audio downloaded as id08280_2_61520_HiSQoqIFd80_00027\n",
      "Trimmed audio saved as ../data/download_df_audio/id08280_2_61520_HiSQoqIFd80_00027_cut.mp3\n",
      "Speaker: id08280, Video: RMvscdOYdNQ, Txt file: 00120\n",
      "[youtube] Extracting URL: https://www.youtube.com/watch?v=RMvscdOYdNQ\n",
      "[youtube] RMvscdOYdNQ: Downloading webpage\n",
      "[youtube] RMvscdOYdNQ: Downloading tv client config\n",
      "[youtube] RMvscdOYdNQ: Downloading player 5ae7d525\n",
      "[youtube] RMvscdOYdNQ: Downloading tv player API JSON\n",
      "[youtube] RMvscdOYdNQ: Downloading ios player API JSON\n",
      "[youtube] RMvscdOYdNQ: Downloading m3u8 information\n",
      "[info] RMvscdOYdNQ: Downloading 1 format(s): 251\n",
      "[download] Destination: id08280_3_33120_RMvscdOYdNQ_00120\n",
      "[download] 100% of   40.52MiB in 00:00:04 at 9.56MiB/s     \n",
      "[ExtractAudio] Destination: id08280_3_33120_RMvscdOYdNQ_00120.mp3\n",
      "Deleting original file id08280_3_33120_RMvscdOYdNQ_00120 (pass -k to keep)\n",
      "Audio downloaded as id08280_3_33120_RMvscdOYdNQ_00120\n",
      "Trimmed audio saved as ../data/download_df_audio/id08280_3_33120_RMvscdOYdNQ_00120_cut.mp3\n",
      "Speaker: id08280, Video: pGkuz0b22zU, Txt file: 00356\n",
      "[youtube] Extracting URL: https://www.youtube.com/watch?v=pGkuz0b22zU\n",
      "[youtube] pGkuz0b22zU: Downloading webpage\n",
      "[youtube] pGkuz0b22zU: Downloading tv client config\n",
      "[youtube] pGkuz0b22zU: Downloading player 5ae7d525\n",
      "[youtube] pGkuz0b22zU: Downloading tv player API JSON\n",
      "[youtube] pGkuz0b22zU: Downloading ios player API JSON\n",
      "[youtube] pGkuz0b22zU: Downloading m3u8 information\n",
      "[info] pGkuz0b22zU: Downloading 1 format(s): 140\n",
      "[download] Destination: id08280_4_29280_pGkuz0b22zU_00356\n",
      "[download] 100% of    5.70MiB in 00:00:01 at 2.99MiB/s   \n",
      "[FixupM4a] Correcting container of \"id08280_4_29280_pGkuz0b22zU_00356\"\n",
      "[ExtractAudio] Destination: id08280_4_29280_pGkuz0b22zU_00356.mp3\n",
      "Deleting original file id08280_4_29280_pGkuz0b22zU_00356 (pass -k to keep)\n",
      "Audio downloaded as id08280_4_29280_pGkuz0b22zU_00356\n",
      "Trimmed audio saved as ../data/download_df_audio/id08280_4_29280_pGkuz0b22zU_00356_cut.mp3\n",
      "Speaker: id08280, Video: RMvscdOYdNQ, Txt file: 00217\n",
      "[youtube] Extracting URL: https://www.youtube.com/watch?v=RMvscdOYdNQ\n",
      "[youtube] RMvscdOYdNQ: Downloading webpage\n",
      "[youtube] RMvscdOYdNQ: Downloading tv client config\n",
      "[youtube] RMvscdOYdNQ: Downloading player 5ae7d525\n",
      "[youtube] RMvscdOYdNQ: Downloading tv player API JSON\n",
      "[youtube] RMvscdOYdNQ: Downloading ios player API JSON\n",
      "[youtube] RMvscdOYdNQ: Downloading m3u8 information\n",
      "[info] RMvscdOYdNQ: Downloading 1 format(s): 251\n",
      "[download] Destination: id08280_5_27240_RMvscdOYdNQ_00217\n",
      "[download] 100% of   40.52MiB in 00:00:03 at 10.79MiB/s    \n",
      "[ExtractAudio] Destination: id08280_5_27240_RMvscdOYdNQ_00217.mp3\n",
      "Deleting original file id08280_5_27240_RMvscdOYdNQ_00217 (pass -k to keep)\n",
      "Audio downloaded as id08280_5_27240_RMvscdOYdNQ_00217\n",
      "Trimmed audio saved as ../data/download_df_audio/id08280_5_27240_RMvscdOYdNQ_00217_cut.mp3\n",
      "Speaker: id08280, Video: IJRx0JEM_7o, Txt file: 00045\n",
      "[youtube] Extracting URL: https://www.youtube.com/watch?v=IJRx0JEM_7o\n",
      "[youtube] IJRx0JEM_7o: Downloading webpage\n",
      "[youtube] IJRx0JEM_7o: Downloading tv client config\n",
      "[youtube] IJRx0JEM_7o: Downloading player 5ae7d525\n",
      "[youtube] IJRx0JEM_7o: Downloading tv player API JSON\n",
      "[youtube] IJRx0JEM_7o: Downloading ios player API JSON\n",
      "[youtube] IJRx0JEM_7o: Downloading m3u8 information\n",
      "[info] IJRx0JEM_7o: Downloading 1 format(s): 251\n",
      "[download] Destination: id08280_6_26640_IJRx0JEM_7o_00045\n",
      "[download] 100% of    6.43MiB in 00:00:00 at 6.73MiB/s   \n",
      "[ExtractAudio] Destination: id08280_6_26640_IJRx0JEM_7o_00045.mp3\n",
      "Deleting original file id08280_6_26640_IJRx0JEM_7o_00045 (pass -k to keep)\n",
      "Audio downloaded as id08280_6_26640_IJRx0JEM_7o_00045\n",
      "Trimmed audio saved as ../data/download_df_audio/id08280_6_26640_IJRx0JEM_7o_00045_cut.mp3\n",
      "Speaker: id08280, Video: Z4Xb1ogXAvU, Txt file: 00243\n",
      "[youtube] Extracting URL: https://www.youtube.com/watch?v=Z4Xb1ogXAvU\n",
      "[youtube] Z4Xb1ogXAvU: Downloading webpage\n",
      "[youtube] Z4Xb1ogXAvU: Downloading tv client config\n",
      "[youtube] Z4Xb1ogXAvU: Downloading player 5ae7d525\n",
      "[youtube] Z4Xb1ogXAvU: Downloading tv player API JSON\n",
      "[youtube] Z4Xb1ogXAvU: Downloading ios player API JSON\n",
      "[youtube] Z4Xb1ogXAvU: Downloading m3u8 information\n",
      "[info] Z4Xb1ogXAvU: Downloading 1 format(s): 251\n",
      "[download] Destination: id08280_7_25200_Z4Xb1ogXAvU_00243\n",
      "[download] 100% of    4.44MiB in 00:00:01 at 3.01MiB/s   \n",
      "[ExtractAudio] Destination: id08280_7_25200_Z4Xb1ogXAvU_00243.mp3\n",
      "Deleting original file id08280_7_25200_Z4Xb1ogXAvU_00243 (pass -k to keep)\n",
      "Audio downloaded as id08280_7_25200_Z4Xb1ogXAvU_00243\n",
      "Trimmed audio saved as ../data/download_df_audio/id08280_7_25200_Z4Xb1ogXAvU_00243_cut.mp3\n",
      "Speaker: id08280, Video: pGkuz0b22zU, Txt file: 00354\n",
      "[youtube] Extracting URL: https://www.youtube.com/watch?v=pGkuz0b22zU\n",
      "[youtube] pGkuz0b22zU: Downloading webpage\n",
      "[youtube] pGkuz0b22zU: Downloading tv client config\n",
      "[youtube] pGkuz0b22zU: Downloading player 5ae7d525\n",
      "[youtube] pGkuz0b22zU: Downloading tv player API JSON\n",
      "[youtube] pGkuz0b22zU: Downloading ios player API JSON\n",
      "[youtube] pGkuz0b22zU: Downloading m3u8 information\n",
      "[info] pGkuz0b22zU: Downloading 1 format(s): 140\n",
      "[download] Destination: id08280_8_24440_pGkuz0b22zU_00354\n",
      "[download] 100% of    5.70MiB in 00:00:00 at 8.79MiB/s   \n",
      "[FixupM4a] Correcting container of \"id08280_8_24440_pGkuz0b22zU_00354\"\n",
      "[ExtractAudio] Destination: id08280_8_24440_pGkuz0b22zU_00354.mp3\n",
      "Deleting original file id08280_8_24440_pGkuz0b22zU_00354 (pass -k to keep)\n",
      "Audio downloaded as id08280_8_24440_pGkuz0b22zU_00354\n",
      "Trimmed audio saved as ../data/download_df_audio/id08280_8_24440_pGkuz0b22zU_00354_cut.mp3\n",
      "Speaker: id08280, Video: CaGB7irNujg, Txt file: 00015\n"
     ]
    },
    {
     "name": "stderr",
     "output_type": "stream",
     "text": [
      "ERROR: [youtube] CaGB7irNujg: Video unavailable. This video is no longer available because the YouTube account associated with this video has been terminated.\n"
     ]
    },
    {
     "name": "stdout",
     "output_type": "stream",
     "text": [
      "Speaker: id08280, Video: RMvscdOYdNQ, Txt file: 00140\n",
      "[youtube] Extracting URL: https://www.youtube.com/watch?v=RMvscdOYdNQ\n",
      "[youtube] RMvscdOYdNQ: Downloading webpage\n",
      "[youtube] RMvscdOYdNQ: Downloading tv client config\n",
      "[youtube] RMvscdOYdNQ: Downloading player 5ae7d525\n",
      "[youtube] RMvscdOYdNQ: Downloading tv player API JSON\n",
      "[youtube] RMvscdOYdNQ: Downloading ios player API JSON\n",
      "[youtube] RMvscdOYdNQ: Downloading m3u8 information\n",
      "[info] RMvscdOYdNQ: Downloading 1 format(s): 251\n",
      "[download] Destination: id08280_9_22960_RMvscdOYdNQ_00140\n",
      "[download] 100% of   40.52MiB in 00:00:02 at 13.73MiB/s    \n",
      "[ExtractAudio] Destination: id08280_9_22960_RMvscdOYdNQ_00140.mp3\n",
      "Deleting original file id08280_9_22960_RMvscdOYdNQ_00140 (pass -k to keep)\n",
      "Audio downloaded as id08280_9_22960_RMvscdOYdNQ_00140\n",
      "Trimmed audio saved as ../data/download_df_audio/id08280_9_22960_RMvscdOYdNQ_00140_cut.mp3\n",
      "Speaker: id08295, Video: VQ9stNGxlq4, Txt file: 00151\n",
      "[youtube] Extracting URL: https://www.youtube.com/watch?v=VQ9stNGxlq4\n",
      "[youtube] VQ9stNGxlq4: Downloading webpage\n",
      "[youtube] VQ9stNGxlq4: Downloading tv client config\n",
      "[youtube] VQ9stNGxlq4: Downloading player 5ae7d525\n",
      "[youtube] VQ9stNGxlq4: Downloading tv player API JSON\n",
      "[youtube] VQ9stNGxlq4: Downloading ios player API JSON\n",
      "[youtube] VQ9stNGxlq4: Downloading m3u8 information\n",
      "[info] VQ9stNGxlq4: Downloading 1 format(s): 140\n",
      "[download] Destination: id08295_2_28680_VQ9stNGxlq4_00151\n",
      "[download] 100% of    2.95MiB in 00:00:00 at 8.27MiB/s   \n",
      "[FixupM4a] Correcting container of \"id08295_2_28680_VQ9stNGxlq4_00151\"\n",
      "[ExtractAudio] Destination: id08295_2_28680_VQ9stNGxlq4_00151.mp3\n",
      "Deleting original file id08295_2_28680_VQ9stNGxlq4_00151 (pass -k to keep)\n",
      "Audio downloaded as id08295_2_28680_VQ9stNGxlq4_00151\n",
      "Trimmed audio saved as ../data/download_df_audio/id08295_2_28680_VQ9stNGxlq4_00151_cut.mp3\n",
      "Speaker: id08295, Video: 7l2ICl0hu0s, Txt file: 00022\n",
      "[youtube] Extracting URL: https://www.youtube.com/watch?v=7l2ICl0hu0s\n",
      "[youtube] 7l2ICl0hu0s: Downloading webpage\n",
      "[youtube] 7l2ICl0hu0s: Downloading tv client config\n",
      "[youtube] 7l2ICl0hu0s: Downloading player 5ae7d525\n",
      "[youtube] 7l2ICl0hu0s: Downloading tv player API JSON\n",
      "[youtube] 7l2ICl0hu0s: Downloading ios player API JSON\n",
      "[youtube] 7l2ICl0hu0s: Downloading m3u8 information\n",
      "[info] 7l2ICl0hu0s: Downloading 1 format(s): 140\n",
      "[download] Destination: id08295_3_26880_7l2ICl0hu0s_00022\n",
      "[download] 100% of    8.24MiB in 00:00:01 at 7.18MiB/s   \n",
      "[FixupM4a] Correcting container of \"id08295_3_26880_7l2ICl0hu0s_00022\"\n",
      "[ExtractAudio] Destination: id08295_3_26880_7l2ICl0hu0s_00022.mp3\n",
      "Deleting original file id08295_3_26880_7l2ICl0hu0s_00022 (pass -k to keep)\n",
      "Audio downloaded as id08295_3_26880_7l2ICl0hu0s_00022\n",
      "Trimmed audio saved as ../data/download_df_audio/id08295_3_26880_7l2ICl0hu0s_00022_cut.mp3\n",
      "Speaker: id08295, Video: Umb-1HoJwTo, Txt file: 00105\n"
     ]
    },
    {
     "name": "stderr",
     "output_type": "stream",
     "text": [
      "ERROR: [youtube] Umb-1HoJwTo: Video unavailable. This video is no longer available due to a copyright claim by Bomb1stcom\n"
     ]
    },
    {
     "name": "stdout",
     "output_type": "stream",
     "text": [
      "Speaker: id08295, Video: EB5ZQEVpi8E, Txt file: 00030\n"
     ]
    },
    {
     "name": "stderr",
     "output_type": "stream",
     "text": [
      "ERROR: [youtube] EB5ZQEVpi8E: Video unavailable\n"
     ]
    },
    {
     "name": "stdout",
     "output_type": "stream",
     "text": [
      "Speaker: id08295, Video: Kuid8movvSw, Txt file: 00042\n",
      "[youtube] Extracting URL: https://www.youtube.com/watch?v=Kuid8movvSw\n",
      "[youtube] Kuid8movvSw: Downloading webpage\n",
      "[youtube] Kuid8movvSw: Downloading tv client config\n",
      "[youtube] Kuid8movvSw: Downloading player 5ae7d525\n",
      "[youtube] Kuid8movvSw: Downloading tv player API JSON\n",
      "[youtube] Kuid8movvSw: Downloading ios player API JSON\n",
      "[youtube] Kuid8movvSw: Downloading m3u8 information\n",
      "[info] Kuid8movvSw: Downloading 1 format(s): 251\n",
      "[download] Destination: id08295_4_17960_Kuid8movvSw_00042\n",
      "[download] 100% of    3.07MiB in 00:00:00 at 4.62MiB/s   \n",
      "[ExtractAudio] Destination: id08295_4_17960_Kuid8movvSw_00042.mp3\n",
      "Deleting original file id08295_4_17960_Kuid8movvSw_00042 (pass -k to keep)\n",
      "Audio downloaded as id08295_4_17960_Kuid8movvSw_00042\n",
      "Trimmed audio saved as ../data/download_df_audio/id08295_4_17960_Kuid8movvSw_00042_cut.mp3\n",
      "Speaker: id08295, Video: EB5ZQEVpi8E, Txt file: 00031\n"
     ]
    },
    {
     "name": "stderr",
     "output_type": "stream",
     "text": [
      "ERROR: [youtube] EB5ZQEVpi8E: Video unavailable\n"
     ]
    },
    {
     "name": "stdout",
     "output_type": "stream",
     "text": [
      "Speaker: id08295, Video: Umb-1HoJwTo, Txt file: 00077\n"
     ]
    },
    {
     "name": "stderr",
     "output_type": "stream",
     "text": [
      "ERROR: [youtube] Umb-1HoJwTo: Video unavailable. This video is no longer available due to a copyright claim by Bomb1stcom\n"
     ]
    },
    {
     "name": "stdout",
     "output_type": "stream",
     "text": [
      "Speaker: id08295, Video: 7l2ICl0hu0s, Txt file: 00012\n",
      "[youtube] Extracting URL: https://www.youtube.com/watch?v=7l2ICl0hu0s\n",
      "[youtube] 7l2ICl0hu0s: Downloading webpage\n",
      "[youtube] 7l2ICl0hu0s: Downloading tv client config\n",
      "[youtube] 7l2ICl0hu0s: Downloading player 5ae7d525\n",
      "[youtube] 7l2ICl0hu0s: Downloading tv player API JSON\n",
      "[youtube] 7l2ICl0hu0s: Downloading ios player API JSON\n",
      "[youtube] 7l2ICl0hu0s: Downloading m3u8 information\n",
      "[info] 7l2ICl0hu0s: Downloading 1 format(s): 140\n",
      "[download] Destination: id08295_5_14880_7l2ICl0hu0s_00012\n",
      "[download] 100% of    8.24MiB in 00:00:00 at 13.95MiB/s  \n",
      "[FixupM4a] Correcting container of \"id08295_5_14880_7l2ICl0hu0s_00012\"\n",
      "[ExtractAudio] Destination: id08295_5_14880_7l2ICl0hu0s_00012.mp3\n",
      "Deleting original file id08295_5_14880_7l2ICl0hu0s_00012 (pass -k to keep)\n",
      "Audio downloaded as id08295_5_14880_7l2ICl0hu0s_00012\n",
      "Trimmed audio saved as ../data/download_df_audio/id08295_5_14880_7l2ICl0hu0s_00012_cut.mp3\n",
      "Speaker: id08295, Video: b0JFPK7Rjgg, Txt file: 00175\n",
      "[youtube] Extracting URL: https://www.youtube.com/watch?v=b0JFPK7Rjgg\n",
      "[youtube] b0JFPK7Rjgg: Downloading webpage\n",
      "[youtube] b0JFPK7Rjgg: Downloading tv client config\n",
      "[youtube] b0JFPK7Rjgg: Downloading player 5ae7d525\n",
      "[youtube] b0JFPK7Rjgg: Downloading tv player API JSON\n",
      "[youtube] b0JFPK7Rjgg: Downloading ios player API JSON\n",
      "[youtube] b0JFPK7Rjgg: Downloading m3u8 information\n",
      "[info] b0JFPK7Rjgg: Downloading 1 format(s): 140\n",
      "[download] Destination: id08295_6_14480_b0JFPK7Rjgg_00175\n",
      "[download] 100% of    8.36MiB in 00:00:02 at 4.00MiB/s   \n",
      "[FixupM4a] Correcting container of \"id08295_6_14480_b0JFPK7Rjgg_00175\"\n",
      "[ExtractAudio] Destination: id08295_6_14480_b0JFPK7Rjgg_00175.mp3\n",
      "Deleting original file id08295_6_14480_b0JFPK7Rjgg_00175 (pass -k to keep)\n",
      "Audio downloaded as id08295_6_14480_b0JFPK7Rjgg_00175\n",
      "Trimmed audio saved as ../data/download_df_audio/id08295_6_14480_b0JFPK7Rjgg_00175_cut.mp3\n",
      "Speaker: id08295, Video: 7l2ICl0hu0s, Txt file: 00020\n",
      "[youtube] Extracting URL: https://www.youtube.com/watch?v=7l2ICl0hu0s\n",
      "[youtube] 7l2ICl0hu0s: Downloading webpage\n",
      "[youtube] 7l2ICl0hu0s: Downloading tv client config\n",
      "[youtube] 7l2ICl0hu0s: Downloading player 5ae7d525\n",
      "[youtube] 7l2ICl0hu0s: Downloading tv player API JSON\n",
      "[youtube] 7l2ICl0hu0s: Downloading ios player API JSON\n",
      "[youtube] 7l2ICl0hu0s: Downloading m3u8 information\n",
      "[info] 7l2ICl0hu0s: Downloading 1 format(s): 140\n",
      "[download] Destination: id08295_7_14040_7l2ICl0hu0s_00020\n",
      "[download] 100% of    8.24MiB in 00:00:00 at 10.89MiB/s  \n",
      "[FixupM4a] Correcting container of \"id08295_7_14040_7l2ICl0hu0s_00020\"\n",
      "[ExtractAudio] Destination: id08295_7_14040_7l2ICl0hu0s_00020.mp3\n",
      "Deleting original file id08295_7_14040_7l2ICl0hu0s_00020 (pass -k to keep)\n",
      "Audio downloaded as id08295_7_14040_7l2ICl0hu0s_00020\n",
      "Trimmed audio saved as ../data/download_df_audio/id08295_7_14040_7l2ICl0hu0s_00020_cut.mp3\n",
      "Speaker: id08295, Video: Umb-1HoJwTo, Txt file: 00132\n"
     ]
    },
    {
     "name": "stderr",
     "output_type": "stream",
     "text": [
      "ERROR: [youtube] Umb-1HoJwTo: Video unavailable. This video is no longer available due to a copyright claim by Bomb1stcom\n"
     ]
    },
    {
     "name": "stdout",
     "output_type": "stream",
     "text": [
      "Speaker: id08295, Video: uB9iprdFxJA, Txt file: 00223\n",
      "[youtube] Extracting URL: https://www.youtube.com/watch?v=uB9iprdFxJA\n",
      "[youtube] uB9iprdFxJA: Downloading webpage\n",
      "[youtube] uB9iprdFxJA: Downloading tv client config\n",
      "[youtube] uB9iprdFxJA: Downloading player 5ae7d525\n",
      "[youtube] uB9iprdFxJA: Downloading tv player API JSON\n",
      "[youtube] uB9iprdFxJA: Downloading ios player API JSON\n",
      "[youtube] uB9iprdFxJA: Downloading m3u8 information\n",
      "[info] uB9iprdFxJA: Downloading 1 format(s): 140\n",
      "[download] Destination: id08295_8_13000_uB9iprdFxJA_00223\n",
      "[download] 100% of    6.91MiB in 00:00:01 at 3.52MiB/s   \n",
      "[FixupM4a] Correcting container of \"id08295_8_13000_uB9iprdFxJA_00223\"\n",
      "[ExtractAudio] Destination: id08295_8_13000_uB9iprdFxJA_00223.mp3\n",
      "Deleting original file id08295_8_13000_uB9iprdFxJA_00223 (pass -k to keep)\n",
      "Audio downloaded as id08295_8_13000_uB9iprdFxJA_00223\n",
      "Trimmed audio saved as ../data/download_df_audio/id08295_8_13000_uB9iprdFxJA_00223_cut.mp3\n",
      "Speaker: id08295, Video: vHqnqRvcKF8, Txt file: 00233\n",
      "[youtube] Extracting URL: https://www.youtube.com/watch?v=vHqnqRvcKF8\n",
      "[youtube] vHqnqRvcKF8: Downloading webpage\n",
      "[youtube] vHqnqRvcKF8: Downloading tv client config\n",
      "[youtube] vHqnqRvcKF8: Downloading player 5ae7d525\n",
      "[youtube] vHqnqRvcKF8: Downloading tv player API JSON\n",
      "[youtube] vHqnqRvcKF8: Downloading ios player API JSON\n",
      "[youtube] vHqnqRvcKF8: Downloading m3u8 information\n",
      "[info] vHqnqRvcKF8: Downloading 1 format(s): 251\n",
      "[download] Destination: id08295_9_12880_vHqnqRvcKF8_00233\n",
      "[download] 100% of    5.53MiB in 00:00:00 at 7.12MiB/s   \n",
      "[ExtractAudio] Destination: id08295_9_12880_vHqnqRvcKF8_00233.mp3\n",
      "Deleting original file id08295_9_12880_vHqnqRvcKF8_00233 (pass -k to keep)\n",
      "Audio downloaded as id08295_9_12880_vHqnqRvcKF8_00233\n",
      "Trimmed audio saved as ../data/download_df_audio/id08295_9_12880_vHqnqRvcKF8_00233_cut.mp3\n",
      "Speaker: id08314, Video: 0yDFL2noDUE, Txt file: 00006\n",
      "[youtube] Extracting URL: https://www.youtube.com/watch?v=0yDFL2noDUE\n",
      "[youtube] 0yDFL2noDUE: Downloading webpage\n",
      "[youtube] 0yDFL2noDUE: Downloading tv client config\n",
      "[youtube] 0yDFL2noDUE: Downloading player 5ae7d525\n",
      "[youtube] 0yDFL2noDUE: Downloading tv player API JSON\n",
      "[youtube] 0yDFL2noDUE: Downloading ios player API JSON\n",
      "[youtube] 0yDFL2noDUE: Downloading m3u8 information\n",
      "[info] 0yDFL2noDUE: Downloading 1 format(s): 251\n",
      "[download] Destination: id08314_2_24400_0yDFL2noDUE_00006\n",
      "[download] 100% of    4.28MiB in 00:00:01 at 3.67MiB/s   \n",
      "[ExtractAudio] Destination: id08314_2_24400_0yDFL2noDUE_00006.mp3\n",
      "Deleting original file id08314_2_24400_0yDFL2noDUE_00006 (pass -k to keep)\n",
      "Audio downloaded as id08314_2_24400_0yDFL2noDUE_00006\n",
      "Trimmed audio saved as ../data/download_df_audio/id08314_2_24400_0yDFL2noDUE_00006_cut.mp3\n",
      "Speaker: id08314, Video: KmuNFdqpTOI, Txt file: 00079\n",
      "[youtube] Extracting URL: https://www.youtube.com/watch?v=KmuNFdqpTOI\n",
      "[youtube] KmuNFdqpTOI: Downloading webpage\n",
      "[youtube] KmuNFdqpTOI: Downloading tv client config\n",
      "[youtube] KmuNFdqpTOI: Downloading player 5ae7d525\n",
      "[youtube] KmuNFdqpTOI: Downloading tv player API JSON\n",
      "[youtube] KmuNFdqpTOI: Downloading ios player API JSON\n",
      "[youtube] KmuNFdqpTOI: Downloading m3u8 information\n",
      "[info] KmuNFdqpTOI: Downloading 1 format(s): 140\n",
      "[download] Destination: id08314_3_20040_KmuNFdqpTOI_00079\n",
      "[download] 100% of    9.15MiB in 00:00:02 at 4.56MiB/s   \n",
      "[FixupM4a] Correcting container of \"id08314_3_20040_KmuNFdqpTOI_00079\"\n",
      "[ExtractAudio] Destination: id08314_3_20040_KmuNFdqpTOI_00079.mp3\n",
      "Deleting original file id08314_3_20040_KmuNFdqpTOI_00079 (pass -k to keep)\n",
      "Audio downloaded as id08314_3_20040_KmuNFdqpTOI_00079\n",
      "Trimmed audio saved as ../data/download_df_audio/id08314_3_20040_KmuNFdqpTOI_00079_cut.mp3\n",
      "Speaker: id08314, Video: 0yDFL2noDUE, Txt file: 00005\n",
      "[youtube] Extracting URL: https://www.youtube.com/watch?v=0yDFL2noDUE\n",
      "[youtube] 0yDFL2noDUE: Downloading webpage\n",
      "[youtube] 0yDFL2noDUE: Downloading tv client config\n",
      "[youtube] 0yDFL2noDUE: Downloading player 5ae7d525\n",
      "[youtube] 0yDFL2noDUE: Downloading tv player API JSON\n",
      "[youtube] 0yDFL2noDUE: Downloading ios player API JSON\n",
      "[youtube] 0yDFL2noDUE: Downloading m3u8 information\n",
      "[info] 0yDFL2noDUE: Downloading 1 format(s): 251\n",
      "[download] Destination: id08314_4_18840_0yDFL2noDUE_00005\n",
      "[download] 100% of    4.28MiB in 00:00:00 at 13.13MiB/s  \n",
      "[ExtractAudio] Destination: id08314_4_18840_0yDFL2noDUE_00005.mp3\n",
      "Deleting original file id08314_4_18840_0yDFL2noDUE_00005 (pass -k to keep)\n",
      "Audio downloaded as id08314_4_18840_0yDFL2noDUE_00005\n",
      "Trimmed audio saved as ../data/download_df_audio/id08314_4_18840_0yDFL2noDUE_00005_cut.mp3\n",
      "Speaker: id08314, Video: gdghKvwnmOA, Txt file: 00140\n"
     ]
    },
    {
     "name": "stderr",
     "output_type": "stream",
     "text": [
      "ERROR: [youtube] gdghKvwnmOA: Video unavailable. This video is no longer available because the YouTube account associated with this video has been terminated.\n"
     ]
    },
    {
     "name": "stdout",
     "output_type": "stream",
     "text": [
      "Speaker: id08314, Video: BHlAddLeCLQ, Txt file: 00038\n",
      "[youtube] Extracting URL: https://www.youtube.com/watch?v=BHlAddLeCLQ\n",
      "[youtube] BHlAddLeCLQ: Downloading webpage\n",
      "[youtube] BHlAddLeCLQ: Downloading tv client config\n",
      "[youtube] BHlAddLeCLQ: Downloading player 5ae7d525\n",
      "[youtube] BHlAddLeCLQ: Downloading tv player API JSON\n",
      "[youtube] BHlAddLeCLQ: Downloading ios player API JSON\n",
      "[youtube] BHlAddLeCLQ: Downloading m3u8 information\n",
      "[info] BHlAddLeCLQ: Downloading 1 format(s): 251\n",
      "[download] Destination: id08314_5_13920_BHlAddLeCLQ_00038\n",
      "[download] 100% of    1.96MiB in 00:00:00 at 2.18MiB/s   \n",
      "[ExtractAudio] Destination: id08314_5_13920_BHlAddLeCLQ_00038.mp3\n",
      "Deleting original file id08314_5_13920_BHlAddLeCLQ_00038 (pass -k to keep)\n",
      "Audio downloaded as id08314_5_13920_BHlAddLeCLQ_00038\n",
      "Trimmed audio saved as ../data/download_df_audio/id08314_5_13920_BHlAddLeCLQ_00038_cut.mp3\n",
      "Speaker: id08314, Video: 52OilLsDbkw, Txt file: 00021\n",
      "[youtube] Extracting URL: https://www.youtube.com/watch?v=52OilLsDbkw\n",
      "[youtube] 52OilLsDbkw: Downloading webpage\n",
      "[youtube] 52OilLsDbkw: Downloading tv client config\n",
      "[youtube] 52OilLsDbkw: Downloading player 5ae7d525\n",
      "[youtube] 52OilLsDbkw: Downloading tv player API JSON\n",
      "[youtube] 52OilLsDbkw: Downloading ios player API JSON\n",
      "[youtube] 52OilLsDbkw: Downloading m3u8 information\n",
      "[info] 52OilLsDbkw: Downloading 1 format(s): 140\n",
      "[download] Destination: id08314_6_12960_52OilLsDbkw_00021\n",
      "[download] 100% of    8.68MiB in 00:00:02 at 3.29MiB/s   \n",
      "[FixupM4a] Correcting container of \"id08314_6_12960_52OilLsDbkw_00021\"\n",
      "[ExtractAudio] Destination: id08314_6_12960_52OilLsDbkw_00021.mp3\n",
      "Deleting original file id08314_6_12960_52OilLsDbkw_00021 (pass -k to keep)\n",
      "Audio downloaded as id08314_6_12960_52OilLsDbkw_00021\n",
      "Trimmed audio saved as ../data/download_df_audio/id08314_6_12960_52OilLsDbkw_00021_cut.mp3\n",
      "Speaker: id08314, Video: 6i0ZTe-WaGc, Txt file: 00033\n",
      "[youtube] Extracting URL: https://www.youtube.com/watch?v=6i0ZTe-WaGc\n",
      "[youtube] 6i0ZTe-WaGc: Downloading webpage\n",
      "[youtube] 6i0ZTe-WaGc: Downloading tv client config\n",
      "[youtube] 6i0ZTe-WaGc: Downloading player 5ae7d525\n",
      "[youtube] 6i0ZTe-WaGc: Downloading tv player API JSON\n",
      "[youtube] 6i0ZTe-WaGc: Downloading ios player API JSON\n",
      "[youtube] 6i0ZTe-WaGc: Downloading m3u8 information\n",
      "[info] 6i0ZTe-WaGc: Downloading 1 format(s): 251\n",
      "[download] Destination: id08314_7_10920_6i0ZTe-WaGc_00033\n",
      "[download] 100% of   39.35MiB in 00:00:09 at 4.15MiB/s     \n",
      "[ExtractAudio] Destination: id08314_7_10920_6i0ZTe-WaGc_00033.mp3\n",
      "Deleting original file id08314_7_10920_6i0ZTe-WaGc_00033 (pass -k to keep)\n",
      "Audio downloaded as id08314_7_10920_6i0ZTe-WaGc_00033\n",
      "Trimmed audio saved as ../data/download_df_audio/id08314_7_10920_6i0ZTe-WaGc_00033_cut.mp3\n",
      "Speaker: id08314, Video: gdghKvwnmOA, Txt file: 00147\n"
     ]
    },
    {
     "name": "stderr",
     "output_type": "stream",
     "text": [
      "ERROR: [youtube] gdghKvwnmOA: Video unavailable. This video is no longer available because the YouTube account associated with this video has been terminated.\n"
     ]
    },
    {
     "name": "stdout",
     "output_type": "stream",
     "text": [
      "Speaker: id08314, Video: gyQObN3jwf8, Txt file: 00154\n",
      "[youtube] Extracting URL: https://www.youtube.com/watch?v=gyQObN3jwf8\n",
      "[youtube] gyQObN3jwf8: Downloading webpage\n",
      "[youtube] gyQObN3jwf8: Downloading tv client config\n",
      "[youtube] gyQObN3jwf8: Downloading player 5ae7d525\n",
      "[youtube] gyQObN3jwf8: Downloading tv player API JSON\n",
      "[youtube] gyQObN3jwf8: Downloading ios player API JSON\n",
      "[youtube] gyQObN3jwf8: Downloading m3u8 information\n",
      "[info] gyQObN3jwf8: Downloading 1 format(s): 140\n",
      "[download] Destination: id08314_8_10480_gyQObN3jwf8_00154\n",
      "[download] 100% of    2.62MiB in 00:00:01 at 2.38MiB/s   \n",
      "[FixupM4a] Correcting container of \"id08314_8_10480_gyQObN3jwf8_00154\"\n",
      "[ExtractAudio] Destination: id08314_8_10480_gyQObN3jwf8_00154.mp3\n",
      "Deleting original file id08314_8_10480_gyQObN3jwf8_00154 (pass -k to keep)\n",
      "Audio downloaded as id08314_8_10480_gyQObN3jwf8_00154\n",
      "Trimmed audio saved as ../data/download_df_audio/id08314_8_10480_gyQObN3jwf8_00154_cut.mp3\n",
      "Speaker: id08314, Video: KmuNFdqpTOI, Txt file: 00078\n",
      "[youtube] Extracting URL: https://www.youtube.com/watch?v=KmuNFdqpTOI\n",
      "[youtube] KmuNFdqpTOI: Downloading webpage\n",
      "[youtube] KmuNFdqpTOI: Downloading tv client config\n",
      "[youtube] KmuNFdqpTOI: Downloading player 5ae7d525\n",
      "[youtube] KmuNFdqpTOI: Downloading tv player API JSON\n",
      "[youtube] KmuNFdqpTOI: Downloading ios player API JSON\n",
      "[youtube] KmuNFdqpTOI: Downloading m3u8 information\n",
      "[info] KmuNFdqpTOI: Downloading 1 format(s): 140\n",
      "[download] Destination: id08314_9_10200_KmuNFdqpTOI_00078\n",
      "[download] 100% of    9.15MiB in 00:00:01 at 7.42MiB/s   \n",
      "[FixupM4a] Correcting container of \"id08314_9_10200_KmuNFdqpTOI_00078\"\n",
      "[ExtractAudio] Destination: id08314_9_10200_KmuNFdqpTOI_00078.mp3\n",
      "Deleting original file id08314_9_10200_KmuNFdqpTOI_00078 (pass -k to keep)\n",
      "Audio downloaded as id08314_9_10200_KmuNFdqpTOI_00078\n",
      "Trimmed audio saved as ../data/download_df_audio/id08314_9_10200_KmuNFdqpTOI_00078_cut.mp3\n",
      "Speaker: id08317, Video: 1SHh8wy_jWU, Txt file: 00014\n",
      "[youtube] Extracting URL: https://www.youtube.com/watch?v=1SHh8wy_jWU\n",
      "[youtube] 1SHh8wy_jWU: Downloading webpage\n",
      "[youtube] 1SHh8wy_jWU: Downloading tv client config\n",
      "[youtube] 1SHh8wy_jWU: Downloading player 5ae7d525\n",
      "[youtube] 1SHh8wy_jWU: Downloading tv player API JSON\n",
      "[youtube] 1SHh8wy_jWU: Downloading ios player API JSON\n",
      "[youtube] 1SHh8wy_jWU: Downloading m3u8 information\n",
      "[info] 1SHh8wy_jWU: Downloading 1 format(s): 140\n",
      "[download] Destination: id08317_2_38720_1SHh8wy_jWU_00014\n",
      "[download] 100% of    1.45MiB in 00:00:00 at 2.77MiB/s   \n",
      "[FixupM4a] Correcting container of \"id08317_2_38720_1SHh8wy_jWU_00014\"\n",
      "[ExtractAudio] Destination: id08317_2_38720_1SHh8wy_jWU_00014.mp3\n",
      "Deleting original file id08317_2_38720_1SHh8wy_jWU_00014 (pass -k to keep)\n",
      "Audio downloaded as id08317_2_38720_1SHh8wy_jWU_00014\n",
      "Trimmed audio saved as ../data/download_df_audio/id08317_2_38720_1SHh8wy_jWU_00014_cut.mp3\n",
      "Speaker: id08317, Video: pMS511Rdydk, Txt file: 00283\n"
     ]
    },
    {
     "name": "stderr",
     "output_type": "stream",
     "text": [
      "ERROR: [youtube] pMS511Rdydk: Video unavailable. This video is no longer available because the YouTube account associated with this video has been terminated.\n"
     ]
    },
    {
     "name": "stdout",
     "output_type": "stream",
     "text": [
      "Speaker: id08317, Video: U22rSMX_cm0, Txt file: 00127\n"
     ]
    },
    {
     "name": "stderr",
     "output_type": "stream",
     "text": [
      "ERROR: [youtube] U22rSMX_cm0: Video unavailable. This video is no longer available because the YouTube account associated with this video has been terminated.\n"
     ]
    },
    {
     "name": "stdout",
     "output_type": "stream",
     "text": [
      "Speaker: id08317, Video: pMS511Rdydk, Txt file: 00343\n"
     ]
    },
    {
     "name": "stderr",
     "output_type": "stream",
     "text": [
      "ERROR: [youtube] pMS511Rdydk: Video unavailable. This video is no longer available because the YouTube account associated with this video has been terminated.\n"
     ]
    },
    {
     "name": "stdout",
     "output_type": "stream",
     "text": [
      "Speaker: id08317, Video: wyfkOgAurLM, Txt file: 00417\n"
     ]
    },
    {
     "name": "stderr",
     "output_type": "stream",
     "text": [
      "ERROR: [youtube] wyfkOgAurLM: Video unavailable. This video is no longer available because the YouTube account associated with this video has been terminated.\n"
     ]
    },
    {
     "name": "stdout",
     "output_type": "stream",
     "text": [
      "Speaker: id08317, Video: pMS511Rdydk, Txt file: 00309\n"
     ]
    },
    {
     "name": "stderr",
     "output_type": "stream",
     "text": [
      "ERROR: [youtube] pMS511Rdydk: Video unavailable. This video is no longer available because the YouTube account associated with this video has been terminated.\n"
     ]
    },
    {
     "name": "stdout",
     "output_type": "stream",
     "text": [
      "Speaker: id08317, Video: U22rSMX_cm0, Txt file: 00146\n"
     ]
    },
    {
     "name": "stderr",
     "output_type": "stream",
     "text": [
      "ERROR: [youtube] U22rSMX_cm0: Video unavailable. This video is no longer available because the YouTube account associated with this video has been terminated.\n"
     ]
    },
    {
     "name": "stdout",
     "output_type": "stream",
     "text": [
      "Speaker: id08317, Video: pMS511Rdydk, Txt file: 00355\n"
     ]
    },
    {
     "name": "stderr",
     "output_type": "stream",
     "text": [
      "ERROR: [youtube] pMS511Rdydk: Video unavailable. This video is no longer available because the YouTube account associated with this video has been terminated.\n"
     ]
    },
    {
     "name": "stdout",
     "output_type": "stream",
     "text": [
      "Speaker: id08317, Video: wyfkOgAurLM, Txt file: 00460\n"
     ]
    },
    {
     "name": "stderr",
     "output_type": "stream",
     "text": [
      "ERROR: [youtube] wyfkOgAurLM: Video unavailable. This video is no longer available because the YouTube account associated with this video has been terminated.\n"
     ]
    },
    {
     "name": "stdout",
     "output_type": "stream",
     "text": [
      "Speaker: id08317, Video: pMS511Rdydk, Txt file: 00346\n"
     ]
    },
    {
     "name": "stderr",
     "output_type": "stream",
     "text": [
      "ERROR: [youtube] pMS511Rdydk: Video unavailable. This video is no longer available because the YouTube account associated with this video has been terminated.\n"
     ]
    },
    {
     "name": "stdout",
     "output_type": "stream",
     "text": [
      "Speaker: id08317, Video: pxgpjhETb0I, Txt file: 00369\n",
      "[youtube] Extracting URL: https://www.youtube.com/watch?v=pxgpjhETb0I\n",
      "[youtube] pxgpjhETb0I: Downloading webpage\n",
      "[youtube] pxgpjhETb0I: Downloading tv client config\n",
      "[youtube] pxgpjhETb0I: Downloading player 5ae7d525\n",
      "[youtube] pxgpjhETb0I: Downloading tv player API JSON\n",
      "[youtube] pxgpjhETb0I: Downloading ios player API JSON\n",
      "[youtube] pxgpjhETb0I: Downloading m3u8 information\n",
      "[info] pxgpjhETb0I: Downloading 1 format(s): 251\n",
      "[download] Destination: id08317_3_23760_pxgpjhETb0I_00369\n",
      "[download] 100% of    2.18MiB in 00:00:00 at 2.80MiB/s     \n",
      "[ExtractAudio] Destination: id08317_3_23760_pxgpjhETb0I_00369.mp3\n",
      "Deleting original file id08317_3_23760_pxgpjhETb0I_00369 (pass -k to keep)\n",
      "Audio downloaded as id08317_3_23760_pxgpjhETb0I_00369\n",
      "Trimmed audio saved as ../data/download_df_audio/id08317_3_23760_pxgpjhETb0I_00369_cut.mp3\n",
      "Speaker: id08317, Video: VmLf1aJWMAo, Txt file: 00171\n",
      "[youtube] Extracting URL: https://www.youtube.com/watch?v=VmLf1aJWMAo\n",
      "[youtube] VmLf1aJWMAo: Downloading webpage\n",
      "[youtube] VmLf1aJWMAo: Downloading tv client config\n",
      "[youtube] VmLf1aJWMAo: Downloading player 5ae7d525\n",
      "[youtube] VmLf1aJWMAo: Downloading tv player API JSON\n",
      "[youtube] VmLf1aJWMAo: Downloading ios player API JSON\n",
      "[youtube] VmLf1aJWMAo: Downloading m3u8 information\n",
      "[info] VmLf1aJWMAo: Downloading 1 format(s): 251\n",
      "[download] Destination: id08317_4_23520_VmLf1aJWMAo_00171\n",
      "[download] 100% of    5.85MiB in 00:00:02 at 2.88MiB/s   \n",
      "[ExtractAudio] Destination: id08317_4_23520_VmLf1aJWMAo_00171.mp3\n",
      "Deleting original file id08317_4_23520_VmLf1aJWMAo_00171 (pass -k to keep)\n",
      "Audio downloaded as id08317_4_23520_VmLf1aJWMAo_00171\n",
      "Trimmed audio saved as ../data/download_df_audio/id08317_4_23520_VmLf1aJWMAo_00171_cut.mp3\n",
      "Speaker: id08317, Video: 1PXg-mj3EAQ, Txt file: 00002\n",
      "[youtube] Extracting URL: https://www.youtube.com/watch?v=1PXg-mj3EAQ\n",
      "[youtube] 1PXg-mj3EAQ: Downloading webpage\n",
      "[youtube] 1PXg-mj3EAQ: Downloading tv client config\n",
      "[youtube] 1PXg-mj3EAQ: Downloading player 5ae7d525\n",
      "[youtube] 1PXg-mj3EAQ: Downloading tv player API JSON\n",
      "[youtube] 1PXg-mj3EAQ: Downloading ios player API JSON\n",
      "[youtube] 1PXg-mj3EAQ: Downloading m3u8 information\n",
      "[info] 1PXg-mj3EAQ: Downloading 1 format(s): 251\n",
      "[download] Destination: id08317_5_22480_1PXg-mj3EAQ_00002\n",
      "[download] 100% of    3.66MiB in 00:00:00 at 5.04MiB/s   \n",
      "[ExtractAudio] Destination: id08317_5_22480_1PXg-mj3EAQ_00002.mp3\n",
      "Deleting original file id08317_5_22480_1PXg-mj3EAQ_00002 (pass -k to keep)\n",
      "Audio downloaded as id08317_5_22480_1PXg-mj3EAQ_00002\n",
      "Trimmed audio saved as ../data/download_df_audio/id08317_5_22480_1PXg-mj3EAQ_00002_cut.mp3\n",
      "Speaker: id08317, Video: P-MN-2-P2R4, Txt file: 00110\n",
      "[youtube] Extracting URL: https://www.youtube.com/watch?v=P-MN-2-P2R4\n",
      "[youtube] P-MN-2-P2R4: Downloading webpage\n",
      "[youtube] P-MN-2-P2R4: Downloading tv client config\n",
      "[youtube] P-MN-2-P2R4: Downloading player 5ae7d525\n",
      "[youtube] P-MN-2-P2R4: Downloading tv player API JSON\n",
      "[youtube] P-MN-2-P2R4: Downloading ios player API JSON\n",
      "[youtube] P-MN-2-P2R4: Downloading m3u8 information\n",
      "[info] P-MN-2-P2R4: Downloading 1 format(s): 251\n",
      "[download] Destination: id08317_6_21640_P-MN-2-P2R4_00110\n",
      "[download] 100% of    1.12MiB in 00:00:00 at 2.02MiB/s   \n",
      "[ExtractAudio] Destination: id08317_6_21640_P-MN-2-P2R4_00110.mp3\n",
      "Deleting original file id08317_6_21640_P-MN-2-P2R4_00110 (pass -k to keep)\n",
      "Audio downloaded as id08317_6_21640_P-MN-2-P2R4_00110\n",
      "Trimmed audio saved as ../data/download_df_audio/id08317_6_21640_P-MN-2-P2R4_00110_cut.mp3\n",
      "Speaker: id08317, Video: wyfkOgAurLM, Txt file: 00494\n"
     ]
    },
    {
     "name": "stderr",
     "output_type": "stream",
     "text": [
      "ERROR: [youtube] wyfkOgAurLM: Video unavailable. This video is no longer available because the YouTube account associated with this video has been terminated.\n"
     ]
    },
    {
     "name": "stdout",
     "output_type": "stream",
     "text": [
      "Speaker: id08317, Video: U22rSMX_cm0, Txt file: 00154\n"
     ]
    },
    {
     "name": "stderr",
     "output_type": "stream",
     "text": [
      "ERROR: [youtube] U22rSMX_cm0: Video unavailable. This video is no longer available because the YouTube account associated with this video has been terminated.\n"
     ]
    },
    {
     "name": "stdout",
     "output_type": "stream",
     "text": [
      "Speaker: id08317, Video: pMS511Rdydk, Txt file: 00295\n"
     ]
    },
    {
     "name": "stderr",
     "output_type": "stream",
     "text": [
      "ERROR: [youtube] pMS511Rdydk: Video unavailable. This video is no longer available because the YouTube account associated with this video has been terminated.\n"
     ]
    },
    {
     "name": "stdout",
     "output_type": "stream",
     "text": [
      "Speaker: id08317, Video: 9msNQcSC8_o, Txt file: 00075\n",
      "[youtube] Extracting URL: https://www.youtube.com/watch?v=9msNQcSC8_o\n",
      "[youtube] 9msNQcSC8_o: Downloading webpage\n",
      "[youtube] 9msNQcSC8_o: Downloading tv client config\n",
      "[youtube] 9msNQcSC8_o: Downloading player 5ae7d525\n",
      "[youtube] 9msNQcSC8_o: Downloading tv player API JSON\n",
      "[youtube] 9msNQcSC8_o: Downloading ios player API JSON\n",
      "[youtube] 9msNQcSC8_o: Downloading m3u8 information\n",
      "[info] 9msNQcSC8_o: Downloading 1 format(s): 251\n",
      "[download] Destination: id08317_7_20360_9msNQcSC8_o_00075\n",
      "[download] 100% of    2.92MiB in 00:00:00 at 4.59MiB/s   \n",
      "[ExtractAudio] Destination: id08317_7_20360_9msNQcSC8_o_00075.mp3\n",
      "Deleting original file id08317_7_20360_9msNQcSC8_o_00075 (pass -k to keep)\n",
      "Audio downloaded as id08317_7_20360_9msNQcSC8_o_00075\n",
      "Trimmed audio saved as ../data/download_df_audio/id08317_7_20360_9msNQcSC8_o_00075_cut.mp3\n",
      "Speaker: id08317, Video: pMS511Rdydk, Txt file: 00276\n"
     ]
    },
    {
     "name": "stderr",
     "output_type": "stream",
     "text": [
      "ERROR: [youtube] pMS511Rdydk: Video unavailable. This video is no longer available because the YouTube account associated with this video has been terminated.\n"
     ]
    },
    {
     "name": "stdout",
     "output_type": "stream",
     "text": [
      "Speaker: id08317, Video: W1Se25Nb4bw, Txt file: 00185\n",
      "[youtube] Extracting URL: https://www.youtube.com/watch?v=W1Se25Nb4bw\n",
      "[youtube] W1Se25Nb4bw: Downloading webpage\n",
      "[youtube] W1Se25Nb4bw: Downloading tv client config\n",
      "[youtube] W1Se25Nb4bw: Downloading player 5ae7d525\n",
      "[youtube] W1Se25Nb4bw: Downloading tv player API JSON\n",
      "[youtube] W1Se25Nb4bw: Downloading ios player API JSON\n",
      "[youtube] W1Se25Nb4bw: Downloading m3u8 information\n",
      "[info] W1Se25Nb4bw: Downloading 1 format(s): 251\n",
      "[download] Destination: id08317_8_18880_W1Se25Nb4bw_00185\n",
      "[download] 100% of    9.93MiB in 00:00:01 at 9.90MiB/s   \n",
      "[ExtractAudio] Destination: id08317_8_18880_W1Se25Nb4bw_00185.mp3\n",
      "Deleting original file id08317_8_18880_W1Se25Nb4bw_00185 (pass -k to keep)\n",
      "Audio downloaded as id08317_8_18880_W1Se25Nb4bw_00185\n",
      "Trimmed audio saved as ../data/download_df_audio/id08317_8_18880_W1Se25Nb4bw_00185_cut.mp3\n",
      "Speaker: id08317, Video: pxgpjhETb0I, Txt file: 00366\n",
      "[youtube] Extracting URL: https://www.youtube.com/watch?v=pxgpjhETb0I\n",
      "[youtube] pxgpjhETb0I: Downloading webpage\n",
      "[youtube] pxgpjhETb0I: Downloading tv client config\n",
      "[youtube] pxgpjhETb0I: Downloading player 5ae7d525\n",
      "[youtube] pxgpjhETb0I: Downloading tv player API JSON\n",
      "[youtube] pxgpjhETb0I: Downloading ios player API JSON\n",
      "[youtube] pxgpjhETb0I: Downloading m3u8 information\n",
      "[info] pxgpjhETb0I: Downloading 1 format(s): 251\n",
      "[download] Destination: id08317_9_18800_pxgpjhETb0I_00366\n",
      "[download] 100% of    2.18MiB in 00:00:00 at 3.51MiB/s   \n",
      "[ExtractAudio] Destination: id08317_9_18800_pxgpjhETb0I_00366.mp3\n",
      "Deleting original file id08317_9_18800_pxgpjhETb0I_00366 (pass -k to keep)\n",
      "Audio downloaded as id08317_9_18800_pxgpjhETb0I_00366\n",
      "Trimmed audio saved as ../data/download_df_audio/id08317_9_18800_pxgpjhETb0I_00366_cut.mp3\n",
      "Speaker: id08348, Video: UQKpJHKe-OI, Txt file: 00264\n"
     ]
    },
    {
     "name": "stderr",
     "output_type": "stream",
     "text": [
      "ERROR: [youtube] UQKpJHKe-OI: Video unavailable\n"
     ]
    },
    {
     "name": "stdout",
     "output_type": "stream",
     "text": [
      "Speaker: id08348, Video: zhgf2JtNefA, Txt file: 00499\n",
      "[youtube] Extracting URL: https://www.youtube.com/watch?v=zhgf2JtNefA\n",
      "[youtube] zhgf2JtNefA: Downloading webpage\n",
      "[youtube] zhgf2JtNefA: Downloading tv client config\n",
      "[youtube] zhgf2JtNefA: Downloading player 5ae7d525\n",
      "[youtube] zhgf2JtNefA: Downloading tv player API JSON\n",
      "[youtube] zhgf2JtNefA: Downloading ios player API JSON\n",
      "[youtube] zhgf2JtNefA: Downloading m3u8 information\n",
      "[info] zhgf2JtNefA: Downloading 1 format(s): 140\n",
      "[download] Destination: id08348_2_22680_zhgf2JtNefA_00499\n",
      "[download] 100% of    2.41MiB in 00:00:00 at 6.56MiB/s   \n",
      "[FixupM4a] Correcting container of \"id08348_2_22680_zhgf2JtNefA_00499\"\n",
      "[ExtractAudio] Destination: id08348_2_22680_zhgf2JtNefA_00499.mp3\n",
      "Deleting original file id08348_2_22680_zhgf2JtNefA_00499 (pass -k to keep)\n",
      "Audio downloaded as id08348_2_22680_zhgf2JtNefA_00499\n",
      "Trimmed audio saved as ../data/download_df_audio/id08348_2_22680_zhgf2JtNefA_00499_cut.mp3\n",
      "Speaker: id08348, Video: 9cyC7vcNtSc, Txt file: 00079\n",
      "[youtube] Extracting URL: https://www.youtube.com/watch?v=9cyC7vcNtSc\n",
      "[youtube] 9cyC7vcNtSc: Downloading webpage\n",
      "[youtube] 9cyC7vcNtSc: Downloading tv client config\n",
      "[youtube] 9cyC7vcNtSc: Downloading player 5ae7d525\n",
      "[youtube] 9cyC7vcNtSc: Downloading tv player API JSON\n",
      "[youtube] 9cyC7vcNtSc: Downloading ios player API JSON\n",
      "[youtube] 9cyC7vcNtSc: Downloading m3u8 information\n",
      "[info] 9cyC7vcNtSc: Downloading 1 format(s): 251\n",
      "[download] Destination: id08348_3_22480_9cyC7vcNtSc_00079\n",
      "[download] 100% of    4.38MiB in 00:00:02 at 2.08MiB/s   \n",
      "[ExtractAudio] Destination: id08348_3_22480_9cyC7vcNtSc_00079.mp3\n",
      "Deleting original file id08348_3_22480_9cyC7vcNtSc_00079 (pass -k to keep)\n",
      "Audio downloaded as id08348_3_22480_9cyC7vcNtSc_00079\n",
      "Trimmed audio saved as ../data/download_df_audio/id08348_3_22480_9cyC7vcNtSc_00079_cut.mp3\n",
      "Speaker: id08348, Video: fUFPYRTAK3A, Txt file: 00322\n",
      "[youtube] Extracting URL: https://www.youtube.com/watch?v=fUFPYRTAK3A\n",
      "[youtube] fUFPYRTAK3A: Downloading webpage\n",
      "[youtube] fUFPYRTAK3A: Downloading tv client config\n",
      "[youtube] fUFPYRTAK3A: Downloading player 5ae7d525\n",
      "[youtube] fUFPYRTAK3A: Downloading tv player API JSON\n",
      "[youtube] fUFPYRTAK3A: Downloading ios player API JSON\n",
      "[youtube] fUFPYRTAK3A: Downloading m3u8 information\n",
      "[info] fUFPYRTAK3A: Downloading 1 format(s): 251\n",
      "[download] Destination: id08348_4_22240_fUFPYRTAK3A_00322\n",
      "[download] 100% of    3.83MiB in 00:00:00 at 9.40MiB/s   \n",
      "[ExtractAudio] Destination: id08348_4_22240_fUFPYRTAK3A_00322.mp3\n",
      "Deleting original file id08348_4_22240_fUFPYRTAK3A_00322 (pass -k to keep)\n",
      "Audio downloaded as id08348_4_22240_fUFPYRTAK3A_00322\n",
      "Trimmed audio saved as ../data/download_df_audio/id08348_4_22240_fUFPYRTAK3A_00322_cut.mp3\n",
      "Speaker: id08348, Video: _strxlOO8sk, Txt file: 00296\n"
     ]
    },
    {
     "name": "stderr",
     "output_type": "stream",
     "text": [
      "ERROR: [youtube] _strxlOO8sk: Video unavailable\n"
     ]
    },
    {
     "name": "stdout",
     "output_type": "stream",
     "text": [
      "Speaker: id08348, Video: PJvPD2u3YBI, Txt file: 00237\n",
      "[youtube] Extracting URL: https://www.youtube.com/watch?v=PJvPD2u3YBI\n",
      "[youtube] PJvPD2u3YBI: Downloading webpage\n",
      "[youtube] PJvPD2u3YBI: Downloading tv client config\n",
      "[youtube] PJvPD2u3YBI: Downloading player 5ae7d525\n",
      "[youtube] PJvPD2u3YBI: Downloading tv player API JSON\n",
      "[youtube] PJvPD2u3YBI: Downloading ios player API JSON\n",
      "[youtube] PJvPD2u3YBI: Downloading m3u8 information\n",
      "[info] PJvPD2u3YBI: Downloading 1 format(s): 140\n",
      "[download] Destination: id08348_5_21040_PJvPD2u3YBI_00237\n",
      "[download] 100% of    8.20MiB in 00:00:01 at 5.29MiB/s   \n",
      "[FixupM4a] Correcting container of \"id08348_5_21040_PJvPD2u3YBI_00237\"\n",
      "[ExtractAudio] Destination: id08348_5_21040_PJvPD2u3YBI_00237.mp3\n",
      "Deleting original file id08348_5_21040_PJvPD2u3YBI_00237 (pass -k to keep)\n",
      "Audio downloaded as id08348_5_21040_PJvPD2u3YBI_00237\n",
      "Trimmed audio saved as ../data/download_df_audio/id08348_5_21040_PJvPD2u3YBI_00237_cut.mp3\n",
      "Speaker: id08348, Video: iryrLLEKCnY, Txt file: 00406\n"
     ]
    },
    {
     "name": "stderr",
     "output_type": "stream",
     "text": [
      "ERROR: [youtube] iryrLLEKCnY: Video unavailable. This video is no longer available because the YouTube account associated with this video has been terminated.\n"
     ]
    },
    {
     "name": "stdout",
     "output_type": "stream",
     "text": [
      "Speaker: id08348, Video: iryrLLEKCnY, Txt file: 00349\n"
     ]
    },
    {
     "name": "stderr",
     "output_type": "stream",
     "text": [
      "ERROR: [youtube] iryrLLEKCnY: Video unavailable. This video is no longer available because the YouTube account associated with this video has been terminated.\n"
     ]
    },
    {
     "name": "stdout",
     "output_type": "stream",
     "text": [
      "Speaker: id08348, Video: iryrLLEKCnY, Txt file: 00351\n"
     ]
    },
    {
     "name": "stderr",
     "output_type": "stream",
     "text": [
      "ERROR: [youtube] iryrLLEKCnY: Video unavailable. This video is no longer available because the YouTube account associated with this video has been terminated.\n"
     ]
    },
    {
     "name": "stdout",
     "output_type": "stream",
     "text": [
      "Speaker: id08348, Video: l7TgLHFd5hY, Txt file: 00420\n",
      "[youtube] Extracting URL: https://www.youtube.com/watch?v=l7TgLHFd5hY\n",
      "[youtube] l7TgLHFd5hY: Downloading webpage\n",
      "[youtube] l7TgLHFd5hY: Downloading tv client config\n",
      "[youtube] l7TgLHFd5hY: Downloading player 5ae7d525\n",
      "[youtube] l7TgLHFd5hY: Downloading tv player API JSON\n",
      "[youtube] l7TgLHFd5hY: Downloading ios player API JSON\n",
      "[youtube] l7TgLHFd5hY: Downloading m3u8 information\n",
      "[info] l7TgLHFd5hY: Downloading 1 format(s): 251\n",
      "[download] Destination: id08348_6_19600_l7TgLHFd5hY_00420\n",
      "[download] 100% of    7.04MiB in 00:00:03 at 1.90MiB/s   \n",
      "[ExtractAudio] Destination: id08348_6_19600_l7TgLHFd5hY_00420.mp3\n",
      "Deleting original file id08348_6_19600_l7TgLHFd5hY_00420 (pass -k to keep)\n",
      "Audio downloaded as id08348_6_19600_l7TgLHFd5hY_00420\n",
      "Trimmed audio saved as ../data/download_df_audio/id08348_6_19600_l7TgLHFd5hY_00420_cut.mp3\n",
      "Speaker: id08348, Video: i6SOG4hq_7g, Txt file: 00331\n",
      "[youtube] Extracting URL: https://www.youtube.com/watch?v=i6SOG4hq_7g\n",
      "[youtube] i6SOG4hq_7g: Downloading webpage\n",
      "[youtube] i6SOG4hq_7g: Downloading tv client config\n",
      "[youtube] i6SOG4hq_7g: Downloading player 5ae7d525\n",
      "[youtube] i6SOG4hq_7g: Downloading tv player API JSON\n",
      "[youtube] i6SOG4hq_7g: Downloading ios player API JSON\n",
      "[youtube] i6SOG4hq_7g: Downloading m3u8 information\n",
      "[info] i6SOG4hq_7g: Downloading 1 format(s): 140\n",
      "[download] Destination: id08348_7_18320_i6SOG4hq_7g_00331\n",
      "[download] 100% of    4.84MiB in 00:00:01 at 4.70MiB/s   \n",
      "[FixupM4a] Correcting container of \"id08348_7_18320_i6SOG4hq_7g_00331\"\n",
      "[ExtractAudio] Destination: id08348_7_18320_i6SOG4hq_7g_00331.mp3\n",
      "Deleting original file id08348_7_18320_i6SOG4hq_7g_00331 (pass -k to keep)\n",
      "Audio downloaded as id08348_7_18320_i6SOG4hq_7g_00331\n",
      "Trimmed audio saved as ../data/download_df_audio/id08348_7_18320_i6SOG4hq_7g_00331_cut.mp3\n",
      "Speaker: id08348, Video: 5HHPphIqUY8, Txt file: 00027\n"
     ]
    },
    {
     "name": "stderr",
     "output_type": "stream",
     "text": [
      "ERROR: [youtube] 5HHPphIqUY8: Private video. Sign in if you've been granted access to this video. Use --cookies-from-browser or --cookies for the authentication. See  https://github.com/yt-dlp/yt-dlp/wiki/FAQ#how-do-i-pass-cookies-to-yt-dlp  for how to manually pass cookies. Also see  https://github.com/yt-dlp/yt-dlp/wiki/Extractors#exporting-youtube-cookies  for tips on effectively exporting YouTube cookies\n"
     ]
    },
    {
     "name": "stdout",
     "output_type": "stream",
     "text": [
      "Speaker: id08348, Video: Cuw7_lrgtoU, Txt file: 00108\n",
      "[youtube] Extracting URL: https://www.youtube.com/watch?v=Cuw7_lrgtoU\n",
      "[youtube] Cuw7_lrgtoU: Downloading webpage\n",
      "[youtube] Cuw7_lrgtoU: Downloading tv client config\n",
      "[youtube] Cuw7_lrgtoU: Downloading player 5ae7d525\n",
      "[youtube] Cuw7_lrgtoU: Downloading tv player API JSON\n",
      "[youtube] Cuw7_lrgtoU: Downloading ios player API JSON\n",
      "[youtube] Cuw7_lrgtoU: Downloading m3u8 information\n",
      "[info] Cuw7_lrgtoU: Downloading 1 format(s): 251\n",
      "[download] Destination: id08348_8_16920_Cuw7_lrgtoU_00108\n",
      "[download] 100% of    6.30MiB in 00:00:00 at 9.49MiB/s   \n",
      "[ExtractAudio] Destination: id08348_8_16920_Cuw7_lrgtoU_00108.mp3\n",
      "Deleting original file id08348_8_16920_Cuw7_lrgtoU_00108 (pass -k to keep)\n",
      "Audio downloaded as id08348_8_16920_Cuw7_lrgtoU_00108\n",
      "Trimmed audio saved as ../data/download_df_audio/id08348_8_16920_Cuw7_lrgtoU_00108_cut.mp3\n",
      "Speaker: id08348, Video: w7dq6ctZbS8, Txt file: 00486\n",
      "[youtube] Extracting URL: https://www.youtube.com/watch?v=w7dq6ctZbS8\n",
      "[youtube] w7dq6ctZbS8: Downloading webpage\n",
      "[youtube] w7dq6ctZbS8: Downloading tv client config\n",
      "[youtube] w7dq6ctZbS8: Downloading player 5ae7d525\n",
      "[youtube] w7dq6ctZbS8: Downloading tv player API JSON\n",
      "[youtube] w7dq6ctZbS8: Downloading ios player API JSON\n",
      "[youtube] w7dq6ctZbS8: Downloading m3u8 information\n",
      "[info] w7dq6ctZbS8: Downloading 1 format(s): 140\n",
      "[download] Destination: id08348_9_16840_w7dq6ctZbS8_00486\n",
      "[download] 100% of    4.95MiB in 00:00:01 at 2.87MiB/s   \n",
      "[FixupM4a] Correcting container of \"id08348_9_16840_w7dq6ctZbS8_00486\"\n",
      "[ExtractAudio] Destination: id08348_9_16840_w7dq6ctZbS8_00486.mp3\n",
      "Deleting original file id08348_9_16840_w7dq6ctZbS8_00486 (pass -k to keep)\n",
      "Audio downloaded as id08348_9_16840_w7dq6ctZbS8_00486\n",
      "Trimmed audio saved as ../data/download_df_audio/id08348_9_16840_w7dq6ctZbS8_00486_cut.mp3\n",
      "Speaker: id08381, Video: 9TMiWI11rcY, Txt file: 00017\n",
      "[youtube] Extracting URL: https://www.youtube.com/watch?v=9TMiWI11rcY\n",
      "[youtube] 9TMiWI11rcY: Downloading webpage\n",
      "[youtube] 9TMiWI11rcY: Downloading tv client config\n",
      "[youtube] 9TMiWI11rcY: Downloading player 5ae7d525\n",
      "[youtube] 9TMiWI11rcY: Downloading tv player API JSON\n",
      "[youtube] 9TMiWI11rcY: Downloading ios player API JSON\n",
      "[youtube] 9TMiWI11rcY: Downloading m3u8 information\n",
      "[info] 9TMiWI11rcY: Downloading 1 format(s): 140\n",
      "[download] Destination: id08381_2_19600_9TMiWI11rcY_00017\n",
      "[download] 100% of    2.77MiB in 00:00:00 at 4.65MiB/s   \n",
      "[FixupM4a] Correcting container of \"id08381_2_19600_9TMiWI11rcY_00017\"\n",
      "[ExtractAudio] Destination: id08381_2_19600_9TMiWI11rcY_00017.mp3\n",
      "Deleting original file id08381_2_19600_9TMiWI11rcY_00017 (pass -k to keep)\n",
      "Audio downloaded as id08381_2_19600_9TMiWI11rcY_00017\n",
      "Trimmed audio saved as ../data/download_df_audio/id08381_2_19600_9TMiWI11rcY_00017_cut.mp3\n",
      "Speaker: id08381, Video: OldqjDj1QFU, Txt file: 00131\n",
      "[youtube] Extracting URL: https://www.youtube.com/watch?v=OldqjDj1QFU\n",
      "[youtube] OldqjDj1QFU: Downloading webpage\n",
      "[youtube] OldqjDj1QFU: Downloading tv client config\n",
      "[youtube] OldqjDj1QFU: Downloading player 5ae7d525\n",
      "[youtube] OldqjDj1QFU: Downloading tv player API JSON\n",
      "[youtube] OldqjDj1QFU: Downloading ios player API JSON\n",
      "[youtube] OldqjDj1QFU: Downloading m3u8 information\n",
      "[info] OldqjDj1QFU: Downloading 1 format(s): 140\n",
      "[download] Destination: id08381_3_16000_OldqjDj1QFU_00131\n",
      "[download] 100% of    9.39MiB in 00:00:02 at 3.33MiB/s     \n",
      "[FixupM4a] Correcting container of \"id08381_3_16000_OldqjDj1QFU_00131\"\n",
      "[ExtractAudio] Destination: id08381_3_16000_OldqjDj1QFU_00131.mp3\n",
      "Deleting original file id08381_3_16000_OldqjDj1QFU_00131 (pass -k to keep)\n",
      "Audio downloaded as id08381_3_16000_OldqjDj1QFU_00131\n",
      "Trimmed audio saved as ../data/download_df_audio/id08381_3_16000_OldqjDj1QFU_00131_cut.mp3\n",
      "Speaker: id08381, Video: 9TMiWI11rcY, Txt file: 00024\n",
      "[youtube] Extracting URL: https://www.youtube.com/watch?v=9TMiWI11rcY\n",
      "[youtube] 9TMiWI11rcY: Downloading webpage\n",
      "[youtube] 9TMiWI11rcY: Downloading tv client config\n",
      "[youtube] 9TMiWI11rcY: Downloading player 5ae7d525\n",
      "[youtube] 9TMiWI11rcY: Downloading tv player API JSON\n",
      "[youtube] 9TMiWI11rcY: Downloading ios player API JSON\n",
      "[youtube] 9TMiWI11rcY: Downloading m3u8 information\n",
      "[info] 9TMiWI11rcY: Downloading 1 format(s): 140\n",
      "[download] Destination: id08381_4_15800_9TMiWI11rcY_00024\n",
      "[download] 100% of    2.77MiB in 00:00:00 at 9.59MiB/s   \n",
      "[FixupM4a] Correcting container of \"id08381_4_15800_9TMiWI11rcY_00024\"\n",
      "[ExtractAudio] Destination: id08381_4_15800_9TMiWI11rcY_00024.mp3\n",
      "Deleting original file id08381_4_15800_9TMiWI11rcY_00024 (pass -k to keep)\n",
      "Audio downloaded as id08381_4_15800_9TMiWI11rcY_00024\n",
      "Trimmed audio saved as ../data/download_df_audio/id08381_4_15800_9TMiWI11rcY_00024_cut.mp3\n",
      "Speaker: id08381, Video: 9ilyvrQex1c, Txt file: 00043\n",
      "[youtube] Extracting URL: https://www.youtube.com/watch?v=9ilyvrQex1c\n",
      "[youtube] 9ilyvrQex1c: Downloading webpage\n",
      "[youtube] 9ilyvrQex1c: Downloading tv client config\n",
      "[youtube] 9ilyvrQex1c: Downloading player 5ae7d525\n",
      "[youtube] 9ilyvrQex1c: Downloading tv player API JSON\n",
      "[youtube] 9ilyvrQex1c: Downloading ios player API JSON\n",
      "[youtube] 9ilyvrQex1c: Downloading m3u8 information\n",
      "[info] 9ilyvrQex1c: Downloading 1 format(s): 251\n",
      "[download] Destination: id08381_5_15760_9ilyvrQex1c_00043\n",
      "[download] 100% of    2.28MiB in 00:00:00 at 3.81MiB/s   \n",
      "[ExtractAudio] Destination: id08381_5_15760_9ilyvrQex1c_00043.mp3\n",
      "Deleting original file id08381_5_15760_9ilyvrQex1c_00043 (pass -k to keep)\n",
      "Audio downloaded as id08381_5_15760_9ilyvrQex1c_00043\n",
      "Trimmed audio saved as ../data/download_df_audio/id08381_5_15760_9ilyvrQex1c_00043_cut.mp3\n",
      "Speaker: id08381, Video: xfw269KmnQw, Txt file: 00283\n",
      "[youtube] Extracting URL: https://www.youtube.com/watch?v=xfw269KmnQw\n",
      "[youtube] xfw269KmnQw: Downloading webpage\n",
      "[youtube] xfw269KmnQw: Downloading tv client config\n",
      "[youtube] xfw269KmnQw: Downloading player 5ae7d525\n",
      "[youtube] xfw269KmnQw: Downloading tv player API JSON\n",
      "[youtube] xfw269KmnQw: Downloading ios player API JSON\n",
      "[youtube] xfw269KmnQw: Downloading MPD manifest\n",
      "[youtube] xfw269KmnQw: Downloading m3u8 information\n",
      "[youtube] xfw269KmnQw: Downloading MPD manifest\n",
      "[info] xfw269KmnQw: Downloading 1 format(s): 251\n",
      "[download] Destination: id08381_6_14440_xfw269KmnQw_00283\n",
      "[download] 100% of   23.77MiB in 00:00:06 at 3.64MiB/s     \n",
      "[ExtractAudio] Destination: id08381_6_14440_xfw269KmnQw_00283.mp3\n",
      "Deleting original file id08381_6_14440_xfw269KmnQw_00283 (pass -k to keep)\n",
      "Audio downloaded as id08381_6_14440_xfw269KmnQw_00283\n",
      "Trimmed audio saved as ../data/download_df_audio/id08381_6_14440_xfw269KmnQw_00283_cut.mp3\n",
      "Speaker: id08381, Video: oRICmsfkPUY, Txt file: 00221\n",
      "[youtube] Extracting URL: https://www.youtube.com/watch?v=oRICmsfkPUY\n",
      "[youtube] oRICmsfkPUY: Downloading webpage\n",
      "[youtube] oRICmsfkPUY: Downloading tv client config\n",
      "[youtube] oRICmsfkPUY: Downloading player 5ae7d525\n",
      "[youtube] oRICmsfkPUY: Downloading tv player API JSON\n",
      "[youtube] oRICmsfkPUY: Downloading ios player API JSON\n",
      "[youtube] oRICmsfkPUY: Downloading m3u8 information\n",
      "[info] oRICmsfkPUY: Downloading 1 format(s): 140\n",
      "[download] Destination: id08381_7_14240_oRICmsfkPUY_00221\n",
      "[download] 100% of  906.03KiB in 00:00:00 at 2.96MiB/s     \n",
      "[FixupM4a] Correcting container of \"id08381_7_14240_oRICmsfkPUY_00221\"\n",
      "[ExtractAudio] Destination: id08381_7_14240_oRICmsfkPUY_00221.mp3\n",
      "Deleting original file id08381_7_14240_oRICmsfkPUY_00221 (pass -k to keep)\n",
      "Audio downloaded as id08381_7_14240_oRICmsfkPUY_00221\n",
      "Trimmed audio saved as ../data/download_df_audio/id08381_7_14240_oRICmsfkPUY_00221_cut.mp3\n",
      "Speaker: id08381, Video: NY88gcqt9H4, Txt file: 00122\n",
      "[youtube] Extracting URL: https://www.youtube.com/watch?v=NY88gcqt9H4\n",
      "[youtube] NY88gcqt9H4: Downloading webpage\n",
      "[youtube] NY88gcqt9H4: Downloading tv client config\n",
      "[youtube] NY88gcqt9H4: Downloading player 5ae7d525\n",
      "[youtube] NY88gcqt9H4: Downloading tv player API JSON\n",
      "[youtube] NY88gcqt9H4: Downloading ios player API JSON\n",
      "[youtube] NY88gcqt9H4: Downloading m3u8 information\n",
      "[info] NY88gcqt9H4: Downloading 1 format(s): 140\n",
      "[download] Destination: id08381_8_14240_NY88gcqt9H4_00122\n",
      "[download] 100% of   10.45MiB in 00:00:04 at 2.34MiB/s     \n",
      "[FixupM4a] Correcting container of \"id08381_8_14240_NY88gcqt9H4_00122\"\n",
      "[ExtractAudio] Destination: id08381_8_14240_NY88gcqt9H4_00122.mp3\n",
      "Deleting original file id08381_8_14240_NY88gcqt9H4_00122 (pass -k to keep)\n",
      "Audio downloaded as id08381_8_14240_NY88gcqt9H4_00122\n",
      "Trimmed audio saved as ../data/download_df_audio/id08381_8_14240_NY88gcqt9H4_00122_cut.mp3\n",
      "Speaker: id08381, Video: RLoYKEPH4vo, Txt file: 00176\n"
     ]
    },
    {
     "name": "stderr",
     "output_type": "stream",
     "text": [
      "ERROR: [youtube] RLoYKEPH4vo: Video unavailable\n"
     ]
    },
    {
     "name": "stdout",
     "output_type": "stream",
     "text": [
      "Speaker: id08381, Video: 0vYzGu2X68s, Txt file: 00011\n",
      "[youtube] Extracting URL: https://www.youtube.com/watch?v=0vYzGu2X68s\n",
      "[youtube] 0vYzGu2X68s: Downloading webpage\n",
      "[youtube] 0vYzGu2X68s: Downloading tv client config\n",
      "[youtube] 0vYzGu2X68s: Downloading player 5ae7d525\n",
      "[youtube] 0vYzGu2X68s: Downloading tv player API JSON\n",
      "[youtube] 0vYzGu2X68s: Downloading ios player API JSON\n",
      "[youtube] 0vYzGu2X68s: Downloading m3u8 information\n",
      "[info] 0vYzGu2X68s: Downloading 1 format(s): 140\n",
      "[download] Destination: id08381_9_13800_0vYzGu2X68s_00011\n",
      "[download] 100% of    3.17MiB in 00:00:01 at 2.15MiB/s   \n",
      "[FixupM4a] Correcting container of \"id08381_9_13800_0vYzGu2X68s_00011\"\n",
      "[ExtractAudio] Destination: id08381_9_13800_0vYzGu2X68s_00011.mp3\n",
      "Deleting original file id08381_9_13800_0vYzGu2X68s_00011 (pass -k to keep)\n",
      "Audio downloaded as id08381_9_13800_0vYzGu2X68s_00011\n",
      "Trimmed audio saved as ../data/download_df_audio/id08381_9_13800_0vYzGu2X68s_00011_cut.mp3\n",
      "Speaker: id08467, Video: p8SfL7axEKY, Txt file: 00170\n"
     ]
    },
    {
     "name": "stderr",
     "output_type": "stream",
     "text": [
      "ERROR: [youtube] p8SfL7axEKY: Video unavailable. This video is no longer available because the YouTube account associated with this video has been terminated.\n"
     ]
    },
    {
     "name": "stdout",
     "output_type": "stream",
     "text": [
      "Speaker: id08467, Video: X-NmGbZFmBs, Txt file: 00093\n",
      "[youtube] Extracting URL: https://www.youtube.com/watch?v=X-NmGbZFmBs\n",
      "[youtube] X-NmGbZFmBs: Downloading webpage\n",
      "[youtube] X-NmGbZFmBs: Downloading tv client config\n",
      "[youtube] X-NmGbZFmBs: Downloading player 5ae7d525\n",
      "[youtube] X-NmGbZFmBs: Downloading tv player API JSON\n",
      "[youtube] X-NmGbZFmBs: Downloading ios player API JSON\n",
      "[youtube] X-NmGbZFmBs: Downloading m3u8 information\n",
      "[info] X-NmGbZFmBs: Downloading 1 format(s): 251\n",
      "[download] Destination: id08467_2_15640_X-NmGbZFmBs_00093\n",
      "[download] 100% of    9.55MiB in 00:00:00 at 10.33MiB/s  \n",
      "[ExtractAudio] Destination: id08467_2_15640_X-NmGbZFmBs_00093.mp3\n",
      "Deleting original file id08467_2_15640_X-NmGbZFmBs_00093 (pass -k to keep)\n",
      "Audio downloaded as id08467_2_15640_X-NmGbZFmBs_00093\n",
      "Trimmed audio saved as ../data/download_df_audio/id08467_2_15640_X-NmGbZFmBs_00093_cut.mp3\n",
      "Speaker: id08467, Video: ZWbiR8M-gm0, Txt file: 00143\n"
     ]
    },
    {
     "name": "stderr",
     "output_type": "stream",
     "text": [
      "ERROR: [youtube] ZWbiR8M-gm0: Video unavailable. This video is no longer available because the YouTube account associated with this video has been terminated.\n"
     ]
    },
    {
     "name": "stdout",
     "output_type": "stream",
     "text": [
      "Speaker: id08467, Video: XYq5fk69dIY, Txt file: 00103\n"
     ]
    },
    {
     "name": "stderr",
     "output_type": "stream",
     "text": [
      "ERROR: [youtube] XYq5fk69dIY: Video unavailable. This video contains content from Worldwide Pants Incorporated, who has blocked it on copyright grounds\n"
     ]
    },
    {
     "name": "stdout",
     "output_type": "stream",
     "text": [
      "Speaker: id08467, Video: dmQt9pzcOh8, Txt file: 00153\n"
     ]
    },
    {
     "name": "stderr",
     "output_type": "stream",
     "text": [
      "ERROR: [youtube] dmQt9pzcOh8: Video unavailable. This video contains content from WBTV, who has blocked it on copyright grounds\n"
     ]
    },
    {
     "name": "stdout",
     "output_type": "stream",
     "text": [
      "Speaker: id08467, Video: 5TI8E4p_U6A, Txt file: 00038\n",
      "[youtube] Extracting URL: https://www.youtube.com/watch?v=5TI8E4p_U6A\n",
      "[youtube] 5TI8E4p_U6A: Downloading webpage\n",
      "[youtube] 5TI8E4p_U6A: Downloading tv client config\n",
      "[youtube] 5TI8E4p_U6A: Downloading player 5ae7d525\n",
      "[youtube] 5TI8E4p_U6A: Downloading tv player API JSON\n",
      "[youtube] 5TI8E4p_U6A: Downloading ios player API JSON\n",
      "[youtube] 5TI8E4p_U6A: Downloading m3u8 information\n",
      "[info] 5TI8E4p_U6A: Downloading 1 format(s): 251\n",
      "[download] Destination: id08467_3_13920_5TI8E4p_U6A_00038\n",
      "[download] 100% of    9.00MiB in 00:00:00 at 10.75MiB/s  \n",
      "[ExtractAudio] Destination: id08467_3_13920_5TI8E4p_U6A_00038.mp3\n",
      "Deleting original file id08467_3_13920_5TI8E4p_U6A_00038 (pass -k to keep)\n",
      "Audio downloaded as id08467_3_13920_5TI8E4p_U6A_00038\n",
      "Trimmed audio saved as ../data/download_df_audio/id08467_3_13920_5TI8E4p_U6A_00038_cut.mp3\n",
      "Speaker: id08467, Video: ZWbiR8M-gm0, Txt file: 00141\n"
     ]
    },
    {
     "name": "stderr",
     "output_type": "stream",
     "text": [
      "ERROR: [youtube] ZWbiR8M-gm0: Video unavailable. This video is no longer available because the YouTube account associated with this video has been terminated.\n"
     ]
    },
    {
     "name": "stdout",
     "output_type": "stream",
     "text": [
      "Speaker: id08467, Video: bYWOYbTBQc4, Txt file: 00152\n"
     ]
    },
    {
     "name": "stderr",
     "output_type": "stream",
     "text": [
      "ERROR: [youtube] bYWOYbTBQc4: Video unavailable. This video contains content from Worldwide Pants Incorporated, who has blocked it on copyright grounds\n"
     ]
    },
    {
     "name": "stdout",
     "output_type": "stream",
     "text": [
      "Speaker: id08467, Video: 1Suv2T-PU1Y, Txt file: 00009\n"
     ]
    },
    {
     "name": "stderr",
     "output_type": "stream",
     "text": [
      "ERROR: [youtube] 1Suv2T-PU1Y: Video unavailable. This video is no longer available because the YouTube account associated with this video has been terminated.\n"
     ]
    },
    {
     "name": "stdout",
     "output_type": "stream",
     "text": [
      "Speaker: id08467, Video: ZWbiR8M-gm0, Txt file: 00113\n"
     ]
    },
    {
     "name": "stderr",
     "output_type": "stream",
     "text": [
      "ERROR: [youtube] ZWbiR8M-gm0: Video unavailable. This video is no longer available because the YouTube account associated with this video has been terminated.\n"
     ]
    },
    {
     "name": "stdout",
     "output_type": "stream",
     "text": [
      "Speaker: id08467, Video: XYq5fk69dIY, Txt file: 00105\n"
     ]
    },
    {
     "name": "stderr",
     "output_type": "stream",
     "text": [
      "ERROR: [youtube] XYq5fk69dIY: Video unavailable. This video contains content from Worldwide Pants Incorporated, who has blocked it on copyright grounds\n"
     ]
    },
    {
     "name": "stdout",
     "output_type": "stream",
     "text": [
      "Speaker: id08467, Video: XOIei7Fy3QU, Txt file: 00101\n"
     ]
    },
    {
     "name": "stderr",
     "output_type": "stream",
     "text": [
      "ERROR: [youtube] XOIei7Fy3QU: Video unavailable. This video is no longer available because the YouTube account associated with this video has been terminated.\n"
     ]
    },
    {
     "name": "stdout",
     "output_type": "stream",
     "text": [
      "Speaker: id08467, Video: XYq5fk69dIY, Txt file: 00106\n"
     ]
    },
    {
     "name": "stderr",
     "output_type": "stream",
     "text": [
      "ERROR: [youtube] XYq5fk69dIY: Video unavailable. This video contains content from Worldwide Pants Incorporated, who has blocked it on copyright grounds\n"
     ]
    },
    {
     "name": "stdout",
     "output_type": "stream",
     "text": [
      "Speaker: id08467, Video: p8SfL7axEKY, Txt file: 00177\n"
     ]
    },
    {
     "name": "stderr",
     "output_type": "stream",
     "text": [
      "ERROR: [youtube] p8SfL7axEKY: Video unavailable. This video is no longer available because the YouTube account associated with this video has been terminated.\n"
     ]
    },
    {
     "name": "stdout",
     "output_type": "stream",
     "text": [
      "Speaker: id08467, Video: ZWbiR8M-gm0, Txt file: 00136\n"
     ]
    },
    {
     "name": "stderr",
     "output_type": "stream",
     "text": [
      "ERROR: [youtube] ZWbiR8M-gm0: Video unavailable. This video is no longer available because the YouTube account associated with this video has been terminated.\n"
     ]
    },
    {
     "name": "stdout",
     "output_type": "stream",
     "text": [
      "Speaker: id08467, Video: 1Suv2T-PU1Y, Txt file: 00004\n"
     ]
    },
    {
     "name": "stderr",
     "output_type": "stream",
     "text": [
      "ERROR: [youtube] 1Suv2T-PU1Y: Video unavailable. This video is no longer available because the YouTube account associated with this video has been terminated.\n"
     ]
    },
    {
     "name": "stdout",
     "output_type": "stream",
     "text": [
      "Speaker: id08467, Video: ZWbiR8M-gm0, Txt file: 00133\n"
     ]
    },
    {
     "name": "stderr",
     "output_type": "stream",
     "text": [
      "ERROR: [youtube] ZWbiR8M-gm0: Video unavailable. This video is no longer available because the YouTube account associated with this video has been terminated.\n"
     ]
    },
    {
     "name": "stdout",
     "output_type": "stream",
     "text": [
      "Speaker: id08467, Video: X-NmGbZFmBs, Txt file: 00091\n",
      "[youtube] Extracting URL: https://www.youtube.com/watch?v=X-NmGbZFmBs\n",
      "[youtube] X-NmGbZFmBs: Downloading webpage\n",
      "[youtube] X-NmGbZFmBs: Downloading tv client config\n",
      "[youtube] X-NmGbZFmBs: Downloading player 5ae7d525\n",
      "[youtube] X-NmGbZFmBs: Downloading tv player API JSON\n",
      "[youtube] X-NmGbZFmBs: Downloading ios player API JSON\n",
      "[youtube] X-NmGbZFmBs: Downloading m3u8 information\n",
      "[info] X-NmGbZFmBs: Downloading 1 format(s): 251\n",
      "[download] Destination: id08467_4_10160_X-NmGbZFmBs_00091\n",
      "[download] 100% of    9.55MiB in 00:00:00 at 14.87MiB/s  \n",
      "[ExtractAudio] Destination: id08467_4_10160_X-NmGbZFmBs_00091.mp3\n",
      "Deleting original file id08467_4_10160_X-NmGbZFmBs_00091 (pass -k to keep)\n",
      "Audio downloaded as id08467_4_10160_X-NmGbZFmBs_00091\n",
      "Trimmed audio saved as ../data/download_df_audio/id08467_4_10160_X-NmGbZFmBs_00091_cut.mp3\n",
      "Speaker: id08467, Video: p8SfL7axEKY, Txt file: 00176\n"
     ]
    },
    {
     "name": "stderr",
     "output_type": "stream",
     "text": [
      "ERROR: [youtube] p8SfL7axEKY: Video unavailable. This video is no longer available because the YouTube account associated with this video has been terminated.\n"
     ]
    },
    {
     "name": "stdout",
     "output_type": "stream",
     "text": [
      "Speaker: id08467, Video: 1Suv2T-PU1Y, Txt file: 00003\n"
     ]
    },
    {
     "name": "stderr",
     "output_type": "stream",
     "text": [
      "ERROR: [youtube] 1Suv2T-PU1Y: Video unavailable. This video is no longer available because the YouTube account associated with this video has been terminated.\n"
     ]
    },
    {
     "name": "stdout",
     "output_type": "stream",
     "text": [
      "Speaker: id08467, Video: 5TI8E4p_U6A, Txt file: 00048\n",
      "[youtube] Extracting URL: https://www.youtube.com/watch?v=5TI8E4p_U6A\n",
      "[youtube] 5TI8E4p_U6A: Downloading webpage\n",
      "[youtube] 5TI8E4p_U6A: Downloading tv client config\n",
      "[youtube] 5TI8E4p_U6A: Downloading player 5ae7d525\n",
      "[youtube] 5TI8E4p_U6A: Downloading tv player API JSON\n",
      "[youtube] 5TI8E4p_U6A: Downloading ios player API JSON\n",
      "[youtube] 5TI8E4p_U6A: Downloading m3u8 information\n",
      "[info] 5TI8E4p_U6A: Downloading 1 format(s): 251\n",
      "[download] Destination: id08467_5_9840_5TI8E4p_U6A_00048\n",
      "[download] 100% of    9.00MiB in 00:00:00 at 13.45MiB/s  \n",
      "[ExtractAudio] Destination: id08467_5_9840_5TI8E4p_U6A_00048.mp3\n",
      "Deleting original file id08467_5_9840_5TI8E4p_U6A_00048 (pass -k to keep)\n",
      "Audio downloaded as id08467_5_9840_5TI8E4p_U6A_00048\n",
      "Trimmed audio saved as ../data/download_df_audio/id08467_5_9840_5TI8E4p_U6A_00048_cut.mp3\n",
      "Speaker: id08467, Video: X-NmGbZFmBs, Txt file: 00092\n",
      "[youtube] Extracting URL: https://www.youtube.com/watch?v=X-NmGbZFmBs\n",
      "[youtube] X-NmGbZFmBs: Downloading webpage\n",
      "[youtube] X-NmGbZFmBs: Downloading tv client config\n",
      "[youtube] X-NmGbZFmBs: Downloading player 5ae7d525\n",
      "[youtube] X-NmGbZFmBs: Downloading tv player API JSON\n",
      "[youtube] X-NmGbZFmBs: Downloading ios player API JSON\n",
      "[youtube] X-NmGbZFmBs: Downloading m3u8 information\n",
      "[info] X-NmGbZFmBs: Downloading 1 format(s): 251\n",
      "[download] Destination: id08467_6_9800_X-NmGbZFmBs_00092\n",
      "[download] 100% of    9.55MiB in 00:00:00 at 16.07MiB/s  \n",
      "[ExtractAudio] Destination: id08467_6_9800_X-NmGbZFmBs_00092.mp3\n",
      "Deleting original file id08467_6_9800_X-NmGbZFmBs_00092 (pass -k to keep)\n",
      "Audio downloaded as id08467_6_9800_X-NmGbZFmBs_00092\n",
      "Trimmed audio saved as ../data/download_df_audio/id08467_6_9800_X-NmGbZFmBs_00092_cut.mp3\n",
      "Speaker: id08467, Video: ZWbiR8M-gm0, Txt file: 00130\n"
     ]
    },
    {
     "name": "stderr",
     "output_type": "stream",
     "text": [
      "ERROR: [youtube] ZWbiR8M-gm0: Video unavailable. This video is no longer available because the YouTube account associated with this video has been terminated.\n"
     ]
    },
    {
     "name": "stdout",
     "output_type": "stream",
     "text": [
      "Speaker: id08467, Video: 5uDFMpbfG5c, Txt file: 00054\n"
     ]
    },
    {
     "name": "stderr",
     "output_type": "stream",
     "text": [
      "ERROR: [youtube] 5uDFMpbfG5c: Video unavailable\n"
     ]
    },
    {
     "name": "stdout",
     "output_type": "stream",
     "text": [
      "Speaker: id08467, Video: ZWbiR8M-gm0, Txt file: 00131\n"
     ]
    },
    {
     "name": "stderr",
     "output_type": "stream",
     "text": [
      "ERROR: [youtube] ZWbiR8M-gm0: Video unavailable. This video is no longer available because the YouTube account associated with this video has been terminated.\n"
     ]
    },
    {
     "name": "stdout",
     "output_type": "stream",
     "text": [
      "Speaker: id08467, Video: XYq5fk69dIY, Txt file: 00102\n"
     ]
    },
    {
     "name": "stderr",
     "output_type": "stream",
     "text": [
      "ERROR: [youtube] XYq5fk69dIY: Video unavailable. This video contains content from Worldwide Pants Incorporated, who has blocked it on copyright grounds\n"
     ]
    },
    {
     "name": "stdout",
     "output_type": "stream",
     "text": [
      "Speaker: id08467, Video: K9H8XsstnYE, Txt file: 00087\n"
     ]
    },
    {
     "name": "stderr",
     "output_type": "stream",
     "text": [
      "ERROR: [youtube] K9H8XsstnYE: Video unavailable. This video contains content from Worldwide Pants Incorporated, who has blocked it on copyright grounds\n"
     ]
    },
    {
     "name": "stdout",
     "output_type": "stream",
     "text": [
      "Speaker: id08467, Video: 5TI8E4p_U6A, Txt file: 00042\n",
      "[youtube] Extracting URL: https://www.youtube.com/watch?v=5TI8E4p_U6A\n",
      "[youtube] 5TI8E4p_U6A: Downloading webpage\n",
      "[youtube] 5TI8E4p_U6A: Downloading tv client config\n",
      "[youtube] 5TI8E4p_U6A: Downloading player 5ae7d525\n",
      "[youtube] 5TI8E4p_U6A: Downloading tv player API JSON\n",
      "[youtube] 5TI8E4p_U6A: Downloading ios player API JSON\n",
      "[youtube] 5TI8E4p_U6A: Downloading m3u8 information\n",
      "[info] 5TI8E4p_U6A: Downloading 1 format(s): 251\n",
      "[download] Destination: id08467_7_9040_5TI8E4p_U6A_00042\n",
      "[download] 100% of    9.00MiB in 00:00:00 at 16.09MiB/s  \n",
      "[ExtractAudio] Destination: id08467_7_9040_5TI8E4p_U6A_00042.mp3\n",
      "Deleting original file id08467_7_9040_5TI8E4p_U6A_00042 (pass -k to keep)\n",
      "Audio downloaded as id08467_7_9040_5TI8E4p_U6A_00042\n",
      "Trimmed audio saved as ../data/download_df_audio/id08467_7_9040_5TI8E4p_U6A_00042_cut.mp3\n",
      "Speaker: id08467, Video: ZWbiR8M-gm0, Txt file: 00144\n"
     ]
    },
    {
     "name": "stderr",
     "output_type": "stream",
     "text": [
      "ERROR: [youtube] ZWbiR8M-gm0: Video unavailable. This video is no longer available because the YouTube account associated with this video has been terminated.\n"
     ]
    },
    {
     "name": "stdout",
     "output_type": "stream",
     "text": [
      "Speaker: id08467, Video: ZWbiR8M-gm0, Txt file: 00127\n"
     ]
    },
    {
     "name": "stderr",
     "output_type": "stream",
     "text": [
      "ERROR: [youtube] ZWbiR8M-gm0: Video unavailable. This video is no longer available because the YouTube account associated with this video has been terminated.\n"
     ]
    },
    {
     "name": "stdout",
     "output_type": "stream",
     "text": [
      "Speaker: id08467, Video: p8SfL7axEKY, Txt file: 00173\n"
     ]
    },
    {
     "name": "stderr",
     "output_type": "stream",
     "text": [
      "ERROR: [youtube] p8SfL7axEKY: Video unavailable. This video is no longer available because the YouTube account associated with this video has been terminated.\n"
     ]
    },
    {
     "name": "stdout",
     "output_type": "stream",
     "text": [
      "Speaker: id08467, Video: ZWbiR8M-gm0, Txt file: 00124\n"
     ]
    },
    {
     "name": "stderr",
     "output_type": "stream",
     "text": [
      "ERROR: [youtube] ZWbiR8M-gm0: Video unavailable. This video is no longer available because the YouTube account associated with this video has been terminated.\n"
     ]
    },
    {
     "name": "stdout",
     "output_type": "stream",
     "text": [
      "Speaker: id08467, Video: XYq5fk69dIY, Txt file: 00107\n"
     ]
    },
    {
     "name": "stderr",
     "output_type": "stream",
     "text": [
      "ERROR: [youtube] XYq5fk69dIY: Video unavailable. This video contains content from Worldwide Pants Incorporated, who has blocked it on copyright grounds\n"
     ]
    },
    {
     "name": "stdout",
     "output_type": "stream",
     "text": [
      "Speaker: id08467, Video: ZWbiR8M-gm0, Txt file: 00145\n"
     ]
    },
    {
     "name": "stderr",
     "output_type": "stream",
     "text": [
      "ERROR: [youtube] ZWbiR8M-gm0: Video unavailable. This video is no longer available because the YouTube account associated with this video has been terminated.\n"
     ]
    },
    {
     "name": "stdout",
     "output_type": "stream",
     "text": [
      "Speaker: id08467, Video: p8SfL7axEKY, Txt file: 00172\n"
     ]
    },
    {
     "name": "stderr",
     "output_type": "stream",
     "text": [
      "ERROR: [youtube] p8SfL7axEKY: Video unavailable. This video is no longer available because the YouTube account associated with this video has been terminated.\n"
     ]
    },
    {
     "name": "stdout",
     "output_type": "stream",
     "text": [
      "Speaker: id08467, Video: XOIei7Fy3QU, Txt file: 00100\n"
     ]
    },
    {
     "name": "stderr",
     "output_type": "stream",
     "text": [
      "ERROR: [youtube] XOIei7Fy3QU: Video unavailable. This video is no longer available because the YouTube account associated with this video has been terminated.\n"
     ]
    },
    {
     "name": "stdout",
     "output_type": "stream",
     "text": [
      "Speaker: id08467, Video: K9H8XsstnYE, Txt file: 00082\n"
     ]
    },
    {
     "name": "stderr",
     "output_type": "stream",
     "text": [
      "ERROR: [youtube] K9H8XsstnYE: Video unavailable. This video contains content from Worldwide Pants Incorporated, who has blocked it on copyright grounds\n"
     ]
    },
    {
     "name": "stdout",
     "output_type": "stream",
     "text": [
      "Speaker: id08467, Video: ZWbiR8M-gm0, Txt file: 00139\n"
     ]
    },
    {
     "name": "stderr",
     "output_type": "stream",
     "text": [
      "ERROR: [youtube] ZWbiR8M-gm0: Video unavailable. This video is no longer available because the YouTube account associated with this video has been terminated.\n"
     ]
    },
    {
     "name": "stdout",
     "output_type": "stream",
     "text": [
      "Speaker: id08467, Video: szAvQn-emAg, Txt file: 00180\n",
      "[youtube] Extracting URL: https://www.youtube.com/watch?v=szAvQn-emAg\n",
      "[youtube] szAvQn-emAg: Downloading webpage\n",
      "[youtube] szAvQn-emAg: Downloading tv client config\n",
      "[youtube] szAvQn-emAg: Downloading player 5ae7d525\n",
      "[youtube] szAvQn-emAg: Downloading tv player API JSON\n",
      "[youtube] szAvQn-emAg: Downloading ios player API JSON\n",
      "[youtube] szAvQn-emAg: Downloading m3u8 information\n",
      "[info] szAvQn-emAg: Downloading 1 format(s): 251\n",
      "[download] Destination: id08467_8_7800_szAvQn-emAg_00180\n",
      "[download] 100% of    2.98MiB in 00:00:01 at 2.90MiB/s   \n",
      "[ExtractAudio] Destination: id08467_8_7800_szAvQn-emAg_00180.mp3\n",
      "Deleting original file id08467_8_7800_szAvQn-emAg_00180 (pass -k to keep)\n",
      "Audio downloaded as id08467_8_7800_szAvQn-emAg_00180\n",
      "Trimmed audio saved as ../data/download_df_audio/id08467_8_7800_szAvQn-emAg_00180_cut.mp3\n",
      "Speaker: id08467, Video: 5TI8E4p_U6A, Txt file: 00028\n",
      "[youtube] Extracting URL: https://www.youtube.com/watch?v=5TI8E4p_U6A\n",
      "[youtube] 5TI8E4p_U6A: Downloading webpage\n",
      "[youtube] 5TI8E4p_U6A: Downloading tv client config\n",
      "[youtube] 5TI8E4p_U6A: Downloading player 5ae7d525\n",
      "[youtube] 5TI8E4p_U6A: Downloading tv player API JSON\n",
      "[youtube] 5TI8E4p_U6A: Downloading ios player API JSON\n",
      "[youtube] 5TI8E4p_U6A: Downloading m3u8 information\n",
      "[info] 5TI8E4p_U6A: Downloading 1 format(s): 251\n",
      "[download] Destination: id08467_9_7800_5TI8E4p_U6A_00028\n",
      "[download] 100% of    9.00MiB in 00:00:00 at 12.61MiB/s  \n",
      "[ExtractAudio] Destination: id08467_9_7800_5TI8E4p_U6A_00028.mp3\n",
      "Deleting original file id08467_9_7800_5TI8E4p_U6A_00028 (pass -k to keep)\n",
      "Audio downloaded as id08467_9_7800_5TI8E4p_U6A_00028\n",
      "Trimmed audio saved as ../data/download_df_audio/id08467_9_7800_5TI8E4p_U6A_00028_cut.mp3\n",
      "Speaker: id08477, Video: uuTIQW0T8xs, Txt file: 00478\n"
     ]
    },
    {
     "name": "stderr",
     "output_type": "stream",
     "text": [
      "ERROR: [youtube] uuTIQW0T8xs: Video unavailable. This video is no longer available because the YouTube account associated with this video has been terminated.\n"
     ]
    },
    {
     "name": "stdout",
     "output_type": "stream",
     "text": [
      "Speaker: id08477, Video: kpNbUN2_ebo, Txt file: 00395\n",
      "[youtube] Extracting URL: https://www.youtube.com/watch?v=kpNbUN2_ebo\n",
      "[youtube] kpNbUN2_ebo: Downloading webpage\n",
      "[youtube] kpNbUN2_ebo: Downloading tv client config\n",
      "[youtube] kpNbUN2_ebo: Downloading player 5ae7d525\n",
      "[youtube] kpNbUN2_ebo: Downloading tv player API JSON\n",
      "[youtube] kpNbUN2_ebo: Downloading ios player API JSON\n",
      "[youtube] kpNbUN2_ebo: Downloading m3u8 information\n",
      "[info] kpNbUN2_ebo: Downloading 1 format(s): 251\n",
      "[download] Destination: id08477_2_41360_kpNbUN2_ebo_00395\n",
      "[download] 100% of    6.92MiB in 00:00:00 at 8.59MiB/s     \n",
      "[ExtractAudio] Destination: id08477_2_41360_kpNbUN2_ebo_00395.mp3\n",
      "Deleting original file id08477_2_41360_kpNbUN2_ebo_00395 (pass -k to keep)\n",
      "Audio downloaded as id08477_2_41360_kpNbUN2_ebo_00395\n",
      "Trimmed audio saved as ../data/download_df_audio/id08477_2_41360_kpNbUN2_ebo_00395_cut.mp3\n",
      "Speaker: id08477, Video: XsnmMhKEDiE, Txt file: 00293\n"
     ]
    },
    {
     "name": "stderr",
     "output_type": "stream",
     "text": [
      "ERROR: [youtube] XsnmMhKEDiE: Private video. Sign in if you've been granted access to this video. Use --cookies-from-browser or --cookies for the authentication. See  https://github.com/yt-dlp/yt-dlp/wiki/FAQ#how-do-i-pass-cookies-to-yt-dlp  for how to manually pass cookies. Also see  https://github.com/yt-dlp/yt-dlp/wiki/Extractors#exporting-youtube-cookies  for tips on effectively exporting YouTube cookies\n"
     ]
    },
    {
     "name": "stdout",
     "output_type": "stream",
     "text": [
      "Speaker: id08477, Video: NxX3GY57DWQ, Txt file: 00238\n",
      "[youtube] Extracting URL: https://www.youtube.com/watch?v=NxX3GY57DWQ\n",
      "[youtube] NxX3GY57DWQ: Downloading webpage\n",
      "[youtube] NxX3GY57DWQ: Downloading tv client config\n",
      "[youtube] NxX3GY57DWQ: Downloading player 5ae7d525\n",
      "[youtube] NxX3GY57DWQ: Downloading tv player API JSON\n",
      "[youtube] NxX3GY57DWQ: Downloading ios player API JSON\n",
      "[youtube] NxX3GY57DWQ: Downloading m3u8 information\n",
      "[info] NxX3GY57DWQ: Downloading 1 format(s): 140\n",
      "[download] Destination: id08477_3_32920_NxX3GY57DWQ_00238\n",
      "[download] 100% of    1.88MiB in 00:00:00 at 8.11MiB/s   \n",
      "[FixupM4a] Correcting container of \"id08477_3_32920_NxX3GY57DWQ_00238\"\n",
      "[ExtractAudio] Destination: id08477_3_32920_NxX3GY57DWQ_00238.mp3\n",
      "Deleting original file id08477_3_32920_NxX3GY57DWQ_00238 (pass -k to keep)\n",
      "Audio downloaded as id08477_3_32920_NxX3GY57DWQ_00238\n",
      "Trimmed audio saved as ../data/download_df_audio/id08477_3_32920_NxX3GY57DWQ_00238_cut.mp3\n",
      "Speaker: id08477, Video: tC_9Py0z6JY, Txt file: 00468\n",
      "[youtube] Extracting URL: https://www.youtube.com/watch?v=tC_9Py0z6JY\n",
      "[youtube] tC_9Py0z6JY: Downloading webpage\n",
      "[youtube] tC_9Py0z6JY: Downloading tv client config\n",
      "[youtube] tC_9Py0z6JY: Downloading player 5ae7d525\n",
      "[youtube] tC_9Py0z6JY: Downloading tv player API JSON\n",
      "[youtube] tC_9Py0z6JY: Downloading ios player API JSON\n",
      "[youtube] tC_9Py0z6JY: Downloading m3u8 information\n",
      "[info] tC_9Py0z6JY: Downloading 1 format(s): 251\n",
      "[download] Destination: id08477_4_30360_tC_9Py0z6JY_00468\n",
      "[download] 100% of    2.84MiB in 00:00:00 at 4.49MiB/s   \n",
      "[ExtractAudio] Destination: id08477_4_30360_tC_9Py0z6JY_00468.mp3\n",
      "Deleting original file id08477_4_30360_tC_9Py0z6JY_00468 (pass -k to keep)\n",
      "Audio downloaded as id08477_4_30360_tC_9Py0z6JY_00468\n",
      "Trimmed audio saved as ../data/download_df_audio/id08477_4_30360_tC_9Py0z6JY_00468_cut.mp3\n",
      "Speaker: id08477, Video: WCTjCiLhwog, Txt file: 00287\n",
      "[youtube] Extracting URL: https://www.youtube.com/watch?v=WCTjCiLhwog\n",
      "[youtube] WCTjCiLhwog: Downloading webpage\n",
      "[youtube] WCTjCiLhwog: Downloading tv client config\n",
      "[youtube] WCTjCiLhwog: Downloading player 5ae7d525\n",
      "[youtube] WCTjCiLhwog: Downloading tv player API JSON\n",
      "[youtube] WCTjCiLhwog: Downloading ios player API JSON\n",
      "[youtube] WCTjCiLhwog: Downloading m3u8 information\n",
      "[info] WCTjCiLhwog: Downloading 1 format(s): 251\n",
      "[download] Destination: id08477_5_27200_WCTjCiLhwog_00287\n",
      "[download] 100% of    2.63MiB in 00:00:00 at 4.40MiB/s   \n",
      "[ExtractAudio] Destination: id08477_5_27200_WCTjCiLhwog_00287.mp3\n",
      "Deleting original file id08477_5_27200_WCTjCiLhwog_00287 (pass -k to keep)\n",
      "Audio downloaded as id08477_5_27200_WCTjCiLhwog_00287\n",
      "Trimmed audio saved as ../data/download_df_audio/id08477_5_27200_WCTjCiLhwog_00287_cut.mp3\n",
      "Speaker: id08477, Video: GOq7ULtr3jw, Txt file: 00151\n",
      "[youtube] Extracting URL: https://www.youtube.com/watch?v=GOq7ULtr3jw\n",
      "[youtube] GOq7ULtr3jw: Downloading webpage\n",
      "[youtube] GOq7ULtr3jw: Downloading tv client config\n",
      "[youtube] GOq7ULtr3jw: Downloading player 5ae7d525\n",
      "[youtube] GOq7ULtr3jw: Downloading tv player API JSON\n",
      "[youtube] GOq7ULtr3jw: Downloading ios player API JSON\n",
      "[youtube] GOq7ULtr3jw: Downloading m3u8 information\n",
      "[info] GOq7ULtr3jw: Downloading 1 format(s): 251\n",
      "[download] Destination: id08477_6_26400_GOq7ULtr3jw_00151\n",
      "[download] 100% of    2.92MiB in 00:00:00 at 4.77MiB/s   \n",
      "[ExtractAudio] Destination: id08477_6_26400_GOq7ULtr3jw_00151.mp3\n",
      "Deleting original file id08477_6_26400_GOq7ULtr3jw_00151 (pass -k to keep)\n",
      "Audio downloaded as id08477_6_26400_GOq7ULtr3jw_00151\n",
      "Trimmed audio saved as ../data/download_df_audio/id08477_6_26400_GOq7ULtr3jw_00151_cut.mp3\n",
      "Speaker: id08477, Video: LFlRKxwlhSM, Txt file: 00183\n",
      "[youtube] Extracting URL: https://www.youtube.com/watch?v=LFlRKxwlhSM\n",
      "[youtube] LFlRKxwlhSM: Downloading webpage\n",
      "[youtube] LFlRKxwlhSM: Downloading tv client config\n",
      "[youtube] LFlRKxwlhSM: Downloading player 5ae7d525\n",
      "[youtube] LFlRKxwlhSM: Downloading tv player API JSON\n",
      "[youtube] LFlRKxwlhSM: Downloading ios player API JSON\n",
      "[youtube] LFlRKxwlhSM: Downloading m3u8 information\n",
      "[info] LFlRKxwlhSM: Downloading 1 format(s): 140\n",
      "[download] Destination: id08477_7_25000_LFlRKxwlhSM_00183\n",
      "[download] 100% of    9.53MiB in 00:00:02 at 3.35MiB/s   \n",
      "[FixupM4a] Correcting container of \"id08477_7_25000_LFlRKxwlhSM_00183\"\n",
      "[ExtractAudio] Destination: id08477_7_25000_LFlRKxwlhSM_00183.mp3\n",
      "Deleting original file id08477_7_25000_LFlRKxwlhSM_00183 (pass -k to keep)\n",
      "Audio downloaded as id08477_7_25000_LFlRKxwlhSM_00183\n",
      "Trimmed audio saved as ../data/download_df_audio/id08477_7_25000_LFlRKxwlhSM_00183_cut.mp3\n",
      "Speaker: id08477, Video: iux7NZ56Ei4, Txt file: 00382\n",
      "[youtube] Extracting URL: https://www.youtube.com/watch?v=iux7NZ56Ei4\n",
      "[youtube] iux7NZ56Ei4: Downloading webpage\n",
      "[youtube] iux7NZ56Ei4: Downloading tv client config\n",
      "[youtube] iux7NZ56Ei4: Downloading player 5ae7d525\n",
      "[youtube] iux7NZ56Ei4: Downloading tv player API JSON\n",
      "[youtube] iux7NZ56Ei4: Downloading ios player API JSON\n",
      "[youtube] iux7NZ56Ei4: Downloading m3u8 information\n",
      "[info] iux7NZ56Ei4: Downloading 1 format(s): 251\n",
      "[download] Destination: id08477_8_23920_iux7NZ56Ei4_00382\n",
      "[download] 100% of    2.65MiB in 00:00:00 at 4.30MiB/s   \n",
      "[ExtractAudio] Destination: id08477_8_23920_iux7NZ56Ei4_00382.mp3\n",
      "Deleting original file id08477_8_23920_iux7NZ56Ei4_00382 (pass -k to keep)\n",
      "Audio downloaded as id08477_8_23920_iux7NZ56Ei4_00382\n",
      "Trimmed audio saved as ../data/download_df_audio/id08477_8_23920_iux7NZ56Ei4_00382_cut.mp3\n",
      "Speaker: id08477, Video: Y1Y-Si4l0fw, Txt file: 00300\n",
      "[youtube] Extracting URL: https://www.youtube.com/watch?v=Y1Y-Si4l0fw\n",
      "[youtube] Y1Y-Si4l0fw: Downloading webpage\n",
      "[youtube] Y1Y-Si4l0fw: Downloading tv client config\n",
      "[youtube] Y1Y-Si4l0fw: Downloading player 5ae7d525\n",
      "[youtube] Y1Y-Si4l0fw: Downloading tv player API JSON\n",
      "[youtube] Y1Y-Si4l0fw: Downloading ios player API JSON\n",
      "[youtube] Y1Y-Si4l0fw: Downloading m3u8 information\n",
      "[info] Y1Y-Si4l0fw: Downloading 1 format(s): 251\n",
      "[download] Destination: id08477_9_23600_Y1Y-Si4l0fw_00300\n",
      "[download] 100% of    4.22MiB in 00:00:01 at 3.79MiB/s   \n",
      "[ExtractAudio] Destination: id08477_9_23600_Y1Y-Si4l0fw_00300.mp3\n",
      "Deleting original file id08477_9_23600_Y1Y-Si4l0fw_00300 (pass -k to keep)\n",
      "Audio downloaded as id08477_9_23600_Y1Y-Si4l0fw_00300\n",
      "Trimmed audio saved as ../data/download_df_audio/id08477_9_23600_Y1Y-Si4l0fw_00300_cut.mp3\n",
      "Speaker: id08512, Video: ZqdkYhXxKm4, Txt file: 00046\n",
      "[youtube] Extracting URL: https://www.youtube.com/watch?v=ZqdkYhXxKm4\n",
      "[youtube] ZqdkYhXxKm4: Downloading webpage\n",
      "[youtube] ZqdkYhXxKm4: Downloading tv client config\n",
      "[youtube] ZqdkYhXxKm4: Downloading player 5ae7d525\n",
      "[youtube] ZqdkYhXxKm4: Downloading tv player API JSON\n",
      "[youtube] ZqdkYhXxKm4: Downloading ios player API JSON\n",
      "[youtube] ZqdkYhXxKm4: Downloading m3u8 information\n",
      "[info] ZqdkYhXxKm4: Downloading 1 format(s): 140\n",
      "[download] Destination: id08512_2_25360_ZqdkYhXxKm4_00046\n",
      "[download] 100% of   13.89MiB in 00:00:01 at 8.53MiB/s   \n",
      "[FixupM4a] Correcting container of \"id08512_2_25360_ZqdkYhXxKm4_00046\"\n",
      "[ExtractAudio] Destination: id08512_2_25360_ZqdkYhXxKm4_00046.mp3\n",
      "Deleting original file id08512_2_25360_ZqdkYhXxKm4_00046 (pass -k to keep)\n",
      "Audio downloaded as id08512_2_25360_ZqdkYhXxKm4_00046\n",
      "Trimmed audio saved as ../data/download_df_audio/id08512_2_25360_ZqdkYhXxKm4_00046_cut.mp3\n",
      "Speaker: id08512, Video: ld2r-RRorAw, Txt file: 00123\n",
      "[youtube] Extracting URL: https://www.youtube.com/watch?v=ld2r-RRorAw\n",
      "[youtube] ld2r-RRorAw: Downloading webpage\n",
      "[youtube] ld2r-RRorAw: Downloading tv client config\n",
      "[youtube] ld2r-RRorAw: Downloading player 5ae7d525\n",
      "[youtube] ld2r-RRorAw: Downloading tv player API JSON\n",
      "[youtube] ld2r-RRorAw: Downloading ios player API JSON\n",
      "[youtube] ld2r-RRorAw: Downloading m3u8 information\n",
      "[info] ld2r-RRorAw: Downloading 1 format(s): 251\n",
      "[download] Destination: id08512_3_16960_ld2r-RRorAw_00123\n",
      "[download] 100% of    4.41MiB in 00:00:00 at 6.84MiB/s   \n",
      "[ExtractAudio] Destination: id08512_3_16960_ld2r-RRorAw_00123.mp3\n",
      "Deleting original file id08512_3_16960_ld2r-RRorAw_00123 (pass -k to keep)\n",
      "Audio downloaded as id08512_3_16960_ld2r-RRorAw_00123\n",
      "Trimmed audio saved as ../data/download_df_audio/id08512_3_16960_ld2r-RRorAw_00123_cut.mp3\n",
      "Speaker: id08512, Video: ZqdkYhXxKm4, Txt file: 00054\n",
      "[youtube] Extracting URL: https://www.youtube.com/watch?v=ZqdkYhXxKm4\n",
      "[youtube] ZqdkYhXxKm4: Downloading webpage\n",
      "[youtube] ZqdkYhXxKm4: Downloading tv client config\n",
      "[youtube] ZqdkYhXxKm4: Downloading player 5ae7d525\n",
      "[youtube] ZqdkYhXxKm4: Downloading tv player API JSON\n",
      "[youtube] ZqdkYhXxKm4: Downloading ios player API JSON\n",
      "[youtube] ZqdkYhXxKm4: Downloading m3u8 information\n",
      "[info] ZqdkYhXxKm4: Downloading 1 format(s): 140\n",
      "[download] Destination: id08512_4_14480_ZqdkYhXxKm4_00054\n",
      "[download] 100% of   13.89MiB in 00:00:01 at 13.13MiB/s    \n",
      "[FixupM4a] Correcting container of \"id08512_4_14480_ZqdkYhXxKm4_00054\"\n",
      "[ExtractAudio] Destination: id08512_4_14480_ZqdkYhXxKm4_00054.mp3\n",
      "Deleting original file id08512_4_14480_ZqdkYhXxKm4_00054 (pass -k to keep)\n",
      "Audio downloaded as id08512_4_14480_ZqdkYhXxKm4_00054\n",
      "Trimmed audio saved as ../data/download_df_audio/id08512_4_14480_ZqdkYhXxKm4_00054_cut.mp3\n",
      "Speaker: id08512, Video: B8cTm9ZSCv0, Txt file: 00009\n",
      "[youtube] Extracting URL: https://www.youtube.com/watch?v=B8cTm9ZSCv0\n",
      "[youtube] B8cTm9ZSCv0: Downloading webpage\n",
      "[youtube] B8cTm9ZSCv0: Downloading tv client config\n",
      "[youtube] B8cTm9ZSCv0: Downloading player 5ae7d525\n",
      "[youtube] B8cTm9ZSCv0: Downloading tv player API JSON\n",
      "[youtube] B8cTm9ZSCv0: Downloading ios player API JSON\n",
      "[youtube] B8cTm9ZSCv0: Downloading m3u8 information\n",
      "[info] B8cTm9ZSCv0: Downloading 1 format(s): 251\n",
      "[download] Destination: id08512_5_14000_B8cTm9ZSCv0_00009\n",
      "[download] 100% of    1.82MiB in 00:00:00 at 3.04MiB/s   \n",
      "[ExtractAudio] Destination: id08512_5_14000_B8cTm9ZSCv0_00009.mp3\n",
      "Deleting original file id08512_5_14000_B8cTm9ZSCv0_00009 (pass -k to keep)\n",
      "Audio downloaded as id08512_5_14000_B8cTm9ZSCv0_00009\n",
      "Trimmed audio saved as ../data/download_df_audio/id08512_5_14000_B8cTm9ZSCv0_00009_cut.mp3\n",
      "Speaker: id08512, Video: gfyBBb9DWxM, Txt file: 00095\n"
     ]
    },
    {
     "name": "stderr",
     "output_type": "stream",
     "text": [
      "ERROR: [youtube] gfyBBb9DWxM: Video unavailable\n"
     ]
    },
    {
     "name": "stdout",
     "output_type": "stream",
     "text": [
      "Speaker: id08512, Video: EJyLOf6y3JY, Txt file: 00018\n",
      "[youtube] Extracting URL: https://www.youtube.com/watch?v=EJyLOf6y3JY\n",
      "[youtube] EJyLOf6y3JY: Downloading webpage\n",
      "[youtube] EJyLOf6y3JY: Downloading tv client config\n",
      "[youtube] EJyLOf6y3JY: Downloading player 5ae7d525\n",
      "[youtube] EJyLOf6y3JY: Downloading tv player API JSON\n",
      "[youtube] EJyLOf6y3JY: Downloading ios player API JSON\n",
      "[youtube] EJyLOf6y3JY: Downloading m3u8 information\n",
      "[info] EJyLOf6y3JY: Downloading 1 format(s): 140\n",
      "[download] Destination: id08512_6_13560_EJyLOf6y3JY_00018\n",
      "[download] 100% of    1.06MiB in 00:00:00 at 1.42MiB/s   \n",
      "[FixupM4a] Correcting container of \"id08512_6_13560_EJyLOf6y3JY_00018\"\n",
      "[ExtractAudio] Destination: id08512_6_13560_EJyLOf6y3JY_00018.mp3\n",
      "Deleting original file id08512_6_13560_EJyLOf6y3JY_00018 (pass -k to keep)\n",
      "Audio downloaded as id08512_6_13560_EJyLOf6y3JY_00018\n",
      "Trimmed audio saved as ../data/download_df_audio/id08512_6_13560_EJyLOf6y3JY_00018_cut.mp3\n",
      "Speaker: id08512, Video: ZqdkYhXxKm4, Txt file: 00049\n",
      "[youtube] Extracting URL: https://www.youtube.com/watch?v=ZqdkYhXxKm4\n",
      "[youtube] ZqdkYhXxKm4: Downloading webpage\n",
      "[youtube] ZqdkYhXxKm4: Downloading tv client config\n",
      "[youtube] ZqdkYhXxKm4: Downloading player 5ae7d525\n",
      "[youtube] ZqdkYhXxKm4: Downloading tv player API JSON\n",
      "[youtube] ZqdkYhXxKm4: Downloading ios player API JSON\n",
      "[youtube] ZqdkYhXxKm4: Downloading m3u8 information\n",
      "[info] ZqdkYhXxKm4: Downloading 1 format(s): 140\n",
      "[download] Destination: id08512_7_12920_ZqdkYhXxKm4_00049\n",
      "[download] 100% of   13.89MiB in 00:00:01 at 13.31MiB/s    \n",
      "[FixupM4a] Correcting container of \"id08512_7_12920_ZqdkYhXxKm4_00049\"\n",
      "[ExtractAudio] Destination: id08512_7_12920_ZqdkYhXxKm4_00049.mp3\n",
      "Deleting original file id08512_7_12920_ZqdkYhXxKm4_00049 (pass -k to keep)\n",
      "Audio downloaded as id08512_7_12920_ZqdkYhXxKm4_00049\n",
      "Trimmed audio saved as ../data/download_df_audio/id08512_7_12920_ZqdkYhXxKm4_00049_cut.mp3\n",
      "Speaker: id08512, Video: PMCt1_kYd6s, Txt file: 00031\n",
      "[youtube] Extracting URL: https://www.youtube.com/watch?v=PMCt1_kYd6s\n",
      "[youtube] PMCt1_kYd6s: Downloading webpage\n",
      "[youtube] PMCt1_kYd6s: Downloading tv client config\n",
      "[youtube] PMCt1_kYd6s: Downloading player 5ae7d525\n",
      "[youtube] PMCt1_kYd6s: Downloading tv player API JSON\n",
      "[youtube] PMCt1_kYd6s: Downloading ios player API JSON\n",
      "[youtube] PMCt1_kYd6s: Downloading m3u8 information\n",
      "[info] PMCt1_kYd6s: Downloading 1 format(s): 140\n",
      "[download] Destination: id08512_8_11640_PMCt1_kYd6s_00031\n",
      "[download] 100% of    2.60MiB in 00:00:00 at 3.92MiB/s   \n",
      "[FixupM4a] Correcting container of \"id08512_8_11640_PMCt1_kYd6s_00031\"\n",
      "[ExtractAudio] Destination: id08512_8_11640_PMCt1_kYd6s_00031.mp3\n",
      "Deleting original file id08512_8_11640_PMCt1_kYd6s_00031 (pass -k to keep)\n",
      "Audio downloaded as id08512_8_11640_PMCt1_kYd6s_00031\n",
      "Trimmed audio saved as ../data/download_df_audio/id08512_8_11640_PMCt1_kYd6s_00031_cut.mp3\n",
      "Speaker: id08512, Video: ZqdkYhXxKm4, Txt file: 00055\n",
      "[youtube] Extracting URL: https://www.youtube.com/watch?v=ZqdkYhXxKm4\n",
      "[youtube] ZqdkYhXxKm4: Downloading webpage\n",
      "[youtube] ZqdkYhXxKm4: Downloading tv client config\n",
      "[youtube] ZqdkYhXxKm4: Downloading player 5ae7d525\n",
      "[youtube] ZqdkYhXxKm4: Downloading tv player API JSON\n",
      "[youtube] ZqdkYhXxKm4: Downloading ios player API JSON\n",
      "[youtube] ZqdkYhXxKm4: Downloading m3u8 information\n",
      "[info] ZqdkYhXxKm4: Downloading 1 format(s): 140\n",
      "[download] Destination: id08512_9_11520_ZqdkYhXxKm4_00055\n",
      "[download] 100% of   13.89MiB in 00:00:01 at 13.55MiB/s    \n",
      "[FixupM4a] Correcting container of \"id08512_9_11520_ZqdkYhXxKm4_00055\"\n",
      "[ExtractAudio] Destination: id08512_9_11520_ZqdkYhXxKm4_00055.mp3\n",
      "Deleting original file id08512_9_11520_ZqdkYhXxKm4_00055 (pass -k to keep)\n",
      "Audio downloaded as id08512_9_11520_ZqdkYhXxKm4_00055\n",
      "Trimmed audio saved as ../data/download_df_audio/id08512_9_11520_ZqdkYhXxKm4_00055_cut.mp3\n",
      "Speaker: id08521, Video: PHP53k1BRpw, Txt file: 00105\n",
      "[youtube] Extracting URL: https://www.youtube.com/watch?v=PHP53k1BRpw\n",
      "[youtube] PHP53k1BRpw: Downloading webpage\n",
      "[youtube] PHP53k1BRpw: Downloading tv client config\n",
      "[youtube] PHP53k1BRpw: Downloading player 5ae7d525\n",
      "[youtube] PHP53k1BRpw: Downloading tv player API JSON\n",
      "[youtube] PHP53k1BRpw: Downloading ios player API JSON\n",
      "[youtube] PHP53k1BRpw: Downloading m3u8 information\n",
      "[info] PHP53k1BRpw: Downloading 1 format(s): 251\n",
      "[download] Destination: id08521_2_24920_PHP53k1BRpw_00105\n",
      "[download] 100% of    4.44MiB in 00:00:00 at 8.09MiB/s   \n",
      "[ExtractAudio] Destination: id08521_2_24920_PHP53k1BRpw_00105.mp3\n",
      "Deleting original file id08521_2_24920_PHP53k1BRpw_00105 (pass -k to keep)\n",
      "Audio downloaded as id08521_2_24920_PHP53k1BRpw_00105\n",
      "Trimmed audio saved as ../data/download_df_audio/id08521_2_24920_PHP53k1BRpw_00105_cut.mp3\n",
      "Speaker: id08521, Video: t2bdmyOt67Q, Txt file: 00323\n",
      "[youtube] Extracting URL: https://www.youtube.com/watch?v=t2bdmyOt67Q\n",
      "[youtube] t2bdmyOt67Q: Downloading webpage\n",
      "[youtube] t2bdmyOt67Q: Downloading tv client config\n",
      "[youtube] t2bdmyOt67Q: Downloading player 5ae7d525\n",
      "[youtube] t2bdmyOt67Q: Downloading tv player API JSON\n",
      "[youtube] t2bdmyOt67Q: Downloading ios player API JSON\n",
      "[youtube] t2bdmyOt67Q: Downloading m3u8 information\n",
      "[info] t2bdmyOt67Q: Downloading 1 format(s): 251\n",
      "[download] Destination: id08521_3_23160_t2bdmyOt67Q_00323\n",
      "[download] 100% of    6.47MiB in 00:00:00 at 8.51MiB/s   \n",
      "[ExtractAudio] Destination: id08521_3_23160_t2bdmyOt67Q_00323.mp3\n",
      "Deleting original file id08521_3_23160_t2bdmyOt67Q_00323 (pass -k to keep)\n",
      "Audio downloaded as id08521_3_23160_t2bdmyOt67Q_00323\n",
      "Trimmed audio saved as ../data/download_df_audio/id08521_3_23160_t2bdmyOt67Q_00323_cut.mp3\n",
      "Speaker: id08521, Video: o7nFi1ajhVY, Txt file: 00268\n",
      "[youtube] Extracting URL: https://www.youtube.com/watch?v=o7nFi1ajhVY\n",
      "[youtube] o7nFi1ajhVY: Downloading webpage\n",
      "[youtube] o7nFi1ajhVY: Downloading tv client config\n",
      "[youtube] o7nFi1ajhVY: Downloading player 5ae7d525\n",
      "[youtube] o7nFi1ajhVY: Downloading tv player API JSON\n",
      "[youtube] o7nFi1ajhVY: Downloading ios player API JSON\n",
      "[youtube] o7nFi1ajhVY: Downloading m3u8 information\n",
      "[info] o7nFi1ajhVY: Downloading 1 format(s): 140\n",
      "[download] Destination: id08521_4_21320_o7nFi1ajhVY_00268\n",
      "[download] 100% of    9.78MiB in 00:00:01 at 6.34MiB/s   \n",
      "[FixupM4a] Correcting container of \"id08521_4_21320_o7nFi1ajhVY_00268\"\n",
      "[ExtractAudio] Destination: id08521_4_21320_o7nFi1ajhVY_00268.mp3\n",
      "Deleting original file id08521_4_21320_o7nFi1ajhVY_00268 (pass -k to keep)\n",
      "Audio downloaded as id08521_4_21320_o7nFi1ajhVY_00268\n",
      "Trimmed audio saved as ../data/download_df_audio/id08521_4_21320_o7nFi1ajhVY_00268_cut.mp3\n",
      "Speaker: id08521, Video: 3Kg5EFyKf0U, Txt file: 00025\n",
      "[youtube] Extracting URL: https://www.youtube.com/watch?v=3Kg5EFyKf0U\n",
      "[youtube] 3Kg5EFyKf0U: Downloading webpage\n",
      "[youtube] 3Kg5EFyKf0U: Downloading tv client config\n",
      "[youtube] 3Kg5EFyKf0U: Downloading player 5ae7d525\n",
      "[youtube] 3Kg5EFyKf0U: Downloading tv player API JSON\n",
      "[youtube] 3Kg5EFyKf0U: Downloading ios player API JSON\n",
      "[youtube] 3Kg5EFyKf0U: Downloading m3u8 information\n",
      "[info] 3Kg5EFyKf0U: Downloading 1 format(s): 251\n",
      "[download] Destination: id08521_5_19160_3Kg5EFyKf0U_00025\n",
      "[download] 100% of    1.81MiB in 00:00:00 at 3.30MiB/s   \n",
      "[ExtractAudio] Destination: id08521_5_19160_3Kg5EFyKf0U_00025.mp3\n",
      "Deleting original file id08521_5_19160_3Kg5EFyKf0U_00025 (pass -k to keep)\n",
      "Audio downloaded as id08521_5_19160_3Kg5EFyKf0U_00025\n",
      "Trimmed audio saved as ../data/download_df_audio/id08521_5_19160_3Kg5EFyKf0U_00025_cut.mp3\n",
      "Speaker: id08521, Video: 2XKA_Bavi4w, Txt file: 00013\n",
      "[youtube] Extracting URL: https://www.youtube.com/watch?v=2XKA_Bavi4w\n",
      "[youtube] 2XKA_Bavi4w: Downloading webpage\n",
      "[youtube] 2XKA_Bavi4w: Downloading tv client config\n",
      "[youtube] 2XKA_Bavi4w: Downloading player 5ae7d525\n",
      "[youtube] 2XKA_Bavi4w: Downloading tv player API JSON\n",
      "[youtube] 2XKA_Bavi4w: Downloading ios player API JSON\n",
      "[youtube] 2XKA_Bavi4w: Downloading m3u8 information\n",
      "[info] 2XKA_Bavi4w: Downloading 1 format(s): 140\n",
      "[download] Destination: id08521_6_19080_2XKA_Bavi4w_00013\n",
      "[download] 100% of    2.31MiB in 00:00:00 at 2.90MiB/s     \n",
      "[FixupM4a] Correcting container of \"id08521_6_19080_2XKA_Bavi4w_00013\"\n",
      "[ExtractAudio] Destination: id08521_6_19080_2XKA_Bavi4w_00013.mp3\n",
      "Deleting original file id08521_6_19080_2XKA_Bavi4w_00013 (pass -k to keep)\n",
      "Audio downloaded as id08521_6_19080_2XKA_Bavi4w_00013\n",
      "Trimmed audio saved as ../data/download_df_audio/id08521_6_19080_2XKA_Bavi4w_00013_cut.mp3\n",
      "Speaker: id08521, Video: o7nFi1ajhVY, Txt file: 00261\n",
      "[youtube] Extracting URL: https://www.youtube.com/watch?v=o7nFi1ajhVY\n",
      "[youtube] o7nFi1ajhVY: Downloading webpage\n",
      "[youtube] o7nFi1ajhVY: Downloading tv client config\n",
      "[youtube] o7nFi1ajhVY: Downloading player 5ae7d525\n",
      "[youtube] o7nFi1ajhVY: Downloading tv player API JSON\n",
      "[youtube] o7nFi1ajhVY: Downloading ios player API JSON\n",
      "[youtube] o7nFi1ajhVY: Downloading m3u8 information\n",
      "[info] o7nFi1ajhVY: Downloading 1 format(s): 140\n",
      "[download] Destination: id08521_7_18320_o7nFi1ajhVY_00261\n",
      "[download] 100% of    9.78MiB in 00:00:01 at 9.27MiB/s     \n",
      "[FixupM4a] Correcting container of \"id08521_7_18320_o7nFi1ajhVY_00261\"\n",
      "[ExtractAudio] Destination: id08521_7_18320_o7nFi1ajhVY_00261.mp3\n",
      "Deleting original file id08521_7_18320_o7nFi1ajhVY_00261 (pass -k to keep)\n",
      "Audio downloaded as id08521_7_18320_o7nFi1ajhVY_00261\n",
      "Trimmed audio saved as ../data/download_df_audio/id08521_7_18320_o7nFi1ajhVY_00261_cut.mp3\n",
      "Speaker: id08521, Video: m5ODg5gdB_4, Txt file: 00231\n",
      "[youtube] Extracting URL: https://www.youtube.com/watch?v=m5ODg5gdB_4\n",
      "[youtube] m5ODg5gdB_4: Downloading webpage\n",
      "[youtube] m5ODg5gdB_4: Downloading tv client config\n",
      "[youtube] m5ODg5gdB_4: Downloading player 5ae7d525\n",
      "[youtube] m5ODg5gdB_4: Downloading tv player API JSON\n",
      "[youtube] m5ODg5gdB_4: Downloading ios player API JSON\n",
      "[youtube] m5ODg5gdB_4: Downloading m3u8 information\n",
      "[info] m5ODg5gdB_4: Downloading 1 format(s): 140\n",
      "[download] Destination: id08521_8_17200_m5ODg5gdB_4_00231\n",
      "[download] 100% of    3.56MiB in 00:00:00 at 3.58MiB/s   \n",
      "[FixupM4a] Correcting container of \"id08521_8_17200_m5ODg5gdB_4_00231\"\n",
      "[ExtractAudio] Destination: id08521_8_17200_m5ODg5gdB_4_00231.mp3\n",
      "Deleting original file id08521_8_17200_m5ODg5gdB_4_00231 (pass -k to keep)\n",
      "Audio downloaded as id08521_8_17200_m5ODg5gdB_4_00231\n",
      "Trimmed audio saved as ../data/download_df_audio/id08521_8_17200_m5ODg5gdB_4_00231_cut.mp3\n",
      "Speaker: id08521, Video: rcE3HMbMf7w, Txt file: 00292\n"
     ]
    },
    {
     "name": "stderr",
     "output_type": "stream",
     "text": [
      "ERROR: [youtube] rcE3HMbMf7w: Private video. Sign in if you've been granted access to this video. Use --cookies-from-browser or --cookies for the authentication. See  https://github.com/yt-dlp/yt-dlp/wiki/FAQ#how-do-i-pass-cookies-to-yt-dlp  for how to manually pass cookies. Also see  https://github.com/yt-dlp/yt-dlp/wiki/Extractors#exporting-youtube-cookies  for tips on effectively exporting YouTube cookies\n"
     ]
    },
    {
     "name": "stdout",
     "output_type": "stream",
     "text": [
      "Speaker: id08521, Video: o7nFi1ajhVY, Txt file: 00273\n",
      "[youtube] Extracting URL: https://www.youtube.com/watch?v=o7nFi1ajhVY\n",
      "[youtube] o7nFi1ajhVY: Downloading webpage\n",
      "[youtube] o7nFi1ajhVY: Downloading tv client config\n",
      "[youtube] o7nFi1ajhVY: Downloading player 5ae7d525\n",
      "[youtube] o7nFi1ajhVY: Downloading tv player API JSON\n",
      "[youtube] o7nFi1ajhVY: Downloading ios player API JSON\n",
      "[youtube] o7nFi1ajhVY: Downloading m3u8 information\n",
      "[info] o7nFi1ajhVY: Downloading 1 format(s): 140\n",
      "[download] Destination: id08521_9_16600_o7nFi1ajhVY_00273\n",
      "[download] 100% of    9.78MiB in 00:00:00 at 16.27MiB/s    \n",
      "[FixupM4a] Correcting container of \"id08521_9_16600_o7nFi1ajhVY_00273\"\n",
      "[ExtractAudio] Destination: id08521_9_16600_o7nFi1ajhVY_00273.mp3\n",
      "Deleting original file id08521_9_16600_o7nFi1ajhVY_00273 (pass -k to keep)\n",
      "Audio downloaded as id08521_9_16600_o7nFi1ajhVY_00273\n",
      "Trimmed audio saved as ../data/download_df_audio/id08521_9_16600_o7nFi1ajhVY_00273_cut.mp3\n",
      "Speaker: id08533, Video: y1W-lSC86Dk, Txt file: 00497\n",
      "[youtube] Extracting URL: https://www.youtube.com/watch?v=y1W-lSC86Dk\n",
      "[youtube] y1W-lSC86Dk: Downloading webpage\n",
      "[youtube] y1W-lSC86Dk: Downloading tv client config\n",
      "[youtube] y1W-lSC86Dk: Downloading player 5ae7d525\n",
      "[youtube] y1W-lSC86Dk: Downloading tv player API JSON\n",
      "[youtube] y1W-lSC86Dk: Downloading ios player API JSON\n",
      "[youtube] y1W-lSC86Dk: Downloading m3u8 information\n",
      "[info] y1W-lSC86Dk: Downloading 1 format(s): 140\n",
      "[download] Destination: id08533_2_44040_y1W-lSC86Dk_00497\n",
      "[download] 100% of    2.56MiB in 00:00:01 at 1.57MiB/s   \n",
      "[FixupM4a] Correcting container of \"id08533_2_44040_y1W-lSC86Dk_00497\"\n",
      "[ExtractAudio] Destination: id08533_2_44040_y1W-lSC86Dk_00497.mp3\n",
      "Deleting original file id08533_2_44040_y1W-lSC86Dk_00497 (pass -k to keep)\n",
      "Audio downloaded as id08533_2_44040_y1W-lSC86Dk_00497\n",
      "Trimmed audio saved as ../data/download_df_audio/id08533_2_44040_y1W-lSC86Dk_00497_cut.mp3\n",
      "Speaker: id08533, Video: lG2mvlQ97-8, Txt file: 00353\n",
      "[youtube] Extracting URL: https://www.youtube.com/watch?v=lG2mvlQ97-8\n",
      "[youtube] lG2mvlQ97-8: Downloading webpage\n",
      "[youtube] lG2mvlQ97-8: Downloading tv client config\n",
      "[youtube] lG2mvlQ97-8: Downloading player 5ae7d525\n",
      "[youtube] lG2mvlQ97-8: Downloading tv player API JSON\n",
      "[youtube] lG2mvlQ97-8: Downloading ios player API JSON\n",
      "[youtube] lG2mvlQ97-8: Downloading m3u8 information\n",
      "[info] lG2mvlQ97-8: Downloading 1 format(s): 140\n",
      "[download] Destination: id08533_3_35960_lG2mvlQ97-8_00353\n",
      "[download] 100% of    1.11MiB in 00:00:00 at 2.56MiB/s   \n",
      "[FixupM4a] Correcting container of \"id08533_3_35960_lG2mvlQ97-8_00353\"\n",
      "[ExtractAudio] Destination: id08533_3_35960_lG2mvlQ97-8_00353.mp3\n",
      "Deleting original file id08533_3_35960_lG2mvlQ97-8_00353 (pass -k to keep)\n",
      "Audio downloaded as id08533_3_35960_lG2mvlQ97-8_00353\n",
      "Trimmed audio saved as ../data/download_df_audio/id08533_3_35960_lG2mvlQ97-8_00353_cut.mp3\n",
      "Speaker: id08533, Video: ZgcgIaOakT0, Txt file: 00200\n",
      "[youtube] Extracting URL: https://www.youtube.com/watch?v=ZgcgIaOakT0\n",
      "[youtube] ZgcgIaOakT0: Downloading webpage\n",
      "[youtube] ZgcgIaOakT0: Downloading tv client config\n",
      "[youtube] ZgcgIaOakT0: Downloading player 5ae7d525\n",
      "[youtube] ZgcgIaOakT0: Downloading tv player API JSON\n",
      "[youtube] ZgcgIaOakT0: Downloading ios player API JSON\n",
      "[youtube] ZgcgIaOakT0: Downloading m3u8 information\n",
      "[info] ZgcgIaOakT0: Downloading 1 format(s): 251\n",
      "[download] Destination: id08533_4_32119_ZgcgIaOakT0_00200\n",
      "[download] 100% of    4.30MiB in 00:00:02 at 1.90MiB/s   \n",
      "[ExtractAudio] Destination: id08533_4_32119_ZgcgIaOakT0_00200.mp3\n",
      "Deleting original file id08533_4_32119_ZgcgIaOakT0_00200 (pass -k to keep)\n",
      "Audio downloaded as id08533_4_32119_ZgcgIaOakT0_00200\n",
      "Trimmed audio saved as ../data/download_df_audio/id08533_4_32119_ZgcgIaOakT0_00200_cut.mp3\n",
      "Speaker: id08533, Video: ZZR02V6jTFQ, Txt file: 00187\n"
     ]
    },
    {
     "name": "stderr",
     "output_type": "stream",
     "text": [
      "ERROR: [youtube] ZZR02V6jTFQ: Video unavailable\n"
     ]
    },
    {
     "name": "stdout",
     "output_type": "stream",
     "text": [
      "Speaker: id08533, Video: xLcfRTeMa-k, Txt file: 00481\n",
      "[youtube] Extracting URL: https://www.youtube.com/watch?v=xLcfRTeMa-k\n",
      "[youtube] xLcfRTeMa-k: Downloading webpage\n",
      "[youtube] xLcfRTeMa-k: Downloading tv client config\n",
      "[youtube] xLcfRTeMa-k: Downloading player 5ae7d525\n",
      "[youtube] xLcfRTeMa-k: Downloading tv player API JSON\n",
      "[youtube] xLcfRTeMa-k: Downloading ios player API JSON\n",
      "[youtube] xLcfRTeMa-k: Downloading m3u8 information\n",
      "[info] xLcfRTeMa-k: Downloading 1 format(s): 251\n",
      "[download] Destination: id08533_5_29880_xLcfRTeMa-k_00481\n",
      "[download] 100% of    7.57MiB in 00:00:02 at 3.60MiB/s   \n",
      "[ExtractAudio] Destination: id08533_5_29880_xLcfRTeMa-k_00481.mp3\n",
      "Deleting original file id08533_5_29880_xLcfRTeMa-k_00481 (pass -k to keep)\n",
      "Audio downloaded as id08533_5_29880_xLcfRTeMa-k_00481\n",
      "Trimmed audio saved as ../data/download_df_audio/id08533_5_29880_xLcfRTeMa-k_00481_cut.mp3\n",
      "Speaker: id08533, Video: w1_BTL4ni1E, Txt file: 00470\n",
      "[youtube] Extracting URL: https://www.youtube.com/watch?v=w1_BTL4ni1E\n",
      "[youtube] w1_BTL4ni1E: Downloading webpage\n",
      "[youtube] w1_BTL4ni1E: Downloading tv client config\n",
      "[youtube] w1_BTL4ni1E: Downloading player 5ae7d525\n",
      "[youtube] w1_BTL4ni1E: Downloading tv player API JSON\n",
      "[youtube] w1_BTL4ni1E: Downloading ios player API JSON\n",
      "[youtube] w1_BTL4ni1E: Downloading MPD manifest\n",
      "[youtube] w1_BTL4ni1E: Downloading m3u8 information\n",
      "[youtube] w1_BTL4ni1E: Downloading MPD manifest\n",
      "[info] w1_BTL4ni1E: Downloading 1 format(s): 251\n",
      "[download] Destination: id08533_6_28520_w1_BTL4ni1E_00470\n",
      "[download] 100% of    3.22MiB in 00:00:00 at 3.52MiB/s   \n",
      "[ExtractAudio] Destination: id08533_6_28520_w1_BTL4ni1E_00470.mp3\n",
      "Deleting original file id08533_6_28520_w1_BTL4ni1E_00470 (pass -k to keep)\n",
      "Audio downloaded as id08533_6_28520_w1_BTL4ni1E_00470\n",
      "Trimmed audio saved as ../data/download_df_audio/id08533_6_28520_w1_BTL4ni1E_00470_cut.mp3\n",
      "Speaker: id08533, Video: f4r9IoVw8Ug, Txt file: 00328\n",
      "[youtube] Extracting URL: https://www.youtube.com/watch?v=f4r9IoVw8Ug\n",
      "[youtube] f4r9IoVw8Ug: Downloading webpage\n",
      "[youtube] f4r9IoVw8Ug: Downloading tv client config\n",
      "[youtube] f4r9IoVw8Ug: Downloading player 5ae7d525\n",
      "[youtube] f4r9IoVw8Ug: Downloading tv player API JSON\n",
      "[youtube] f4r9IoVw8Ug: Downloading ios player API JSON\n",
      "[youtube] f4r9IoVw8Ug: Downloading m3u8 information\n",
      "[info] f4r9IoVw8Ug: Downloading 1 format(s): 140\n",
      "[download] Destination: id08533_7_26400_f4r9IoVw8Ug_00328\n",
      "[download] 100% of    6.64MiB in 00:00:01 at 5.38MiB/s   \n",
      "[FixupM4a] Correcting container of \"id08533_7_26400_f4r9IoVw8Ug_00328\"\n",
      "[ExtractAudio] Destination: id08533_7_26400_f4r9IoVw8Ug_00328.mp3\n",
      "Deleting original file id08533_7_26400_f4r9IoVw8Ug_00328 (pass -k to keep)\n",
      "Audio downloaded as id08533_7_26400_f4r9IoVw8Ug_00328\n",
      "Trimmed audio saved as ../data/download_df_audio/id08533_7_26400_f4r9IoVw8Ug_00328_cut.mp3\n",
      "Speaker: id08533, Video: _aA4i296HAU, Txt file: 00217\n",
      "[youtube] Extracting URL: https://www.youtube.com/watch?v=_aA4i296HAU\n",
      "[youtube] _aA4i296HAU: Downloading webpage\n",
      "[youtube] _aA4i296HAU: Downloading tv client config\n",
      "[youtube] _aA4i296HAU: Downloading player 5ae7d525\n",
      "[youtube] _aA4i296HAU: Downloading tv player API JSON\n",
      "[youtube] _aA4i296HAU: Downloading ios player API JSON\n",
      "[youtube] _aA4i296HAU: Downloading m3u8 information\n",
      "[info] _aA4i296HAU: Downloading 1 format(s): 251\n",
      "[download] Destination: id08533_8_24760__aA4i296HAU_00217\n",
      "[download] 100% of    2.07MiB in 00:00:01 at 1.69MiB/s   \n",
      "[ExtractAudio] Destination: id08533_8_24760__aA4i296HAU_00217.mp3\n",
      "Deleting original file id08533_8_24760__aA4i296HAU_00217 (pass -k to keep)\n",
      "Audio downloaded as id08533_8_24760__aA4i296HAU_00217\n",
      "Trimmed audio saved as ../data/download_df_audio/id08533_8_24760__aA4i296HAU_00217_cut.mp3\n",
      "Speaker: id08533, Video: W62kujNK-Fk, Txt file: 00175\n"
     ]
    },
    {
     "name": "stderr",
     "output_type": "stream",
     "text": [
      "ERROR: [youtube] W62kujNK-Fk: Video unavailable. This video is no longer available because the YouTube account associated with this video has been terminated.\n"
     ]
    },
    {
     "name": "stdout",
     "output_type": "stream",
     "text": [
      "Speaker: id08533, Video: kkRWEQ_2eKE, Txt file: 00348\n",
      "[youtube] Extracting URL: https://www.youtube.com/watch?v=kkRWEQ_2eKE\n",
      "[youtube] kkRWEQ_2eKE: Downloading webpage\n",
      "[youtube] kkRWEQ_2eKE: Downloading tv client config\n",
      "[youtube] kkRWEQ_2eKE: Downloading player 5ae7d525\n",
      "[youtube] kkRWEQ_2eKE: Downloading tv player API JSON\n",
      "[youtube] kkRWEQ_2eKE: Downloading ios player API JSON\n",
      "[youtube] kkRWEQ_2eKE: Downloading m3u8 information\n",
      "[info] kkRWEQ_2eKE: Downloading 1 format(s): 251\n",
      "[download] Destination: id08533_9_22880_kkRWEQ_2eKE_00348\n",
      "[download] 100% of    1.77MiB in 00:00:01 at 1.58MiB/s   \n",
      "[ExtractAudio] Destination: id08533_9_22880_kkRWEQ_2eKE_00348.mp3\n",
      "Deleting original file id08533_9_22880_kkRWEQ_2eKE_00348 (pass -k to keep)\n",
      "Audio downloaded as id08533_9_22880_kkRWEQ_2eKE_00348\n",
      "Trimmed audio saved as ../data/download_df_audio/id08533_9_22880_kkRWEQ_2eKE_00348_cut.mp3\n",
      "Speaker: id08569, Video: VeUh6bU06wU, Txt file: 00258\n",
      "[youtube] Extracting URL: https://www.youtube.com/watch?v=VeUh6bU06wU\n",
      "[youtube] VeUh6bU06wU: Downloading webpage\n",
      "[youtube] VeUh6bU06wU: Downloading tv client config\n",
      "[youtube] VeUh6bU06wU: Downloading player 5ae7d525\n",
      "[youtube] VeUh6bU06wU: Downloading tv player API JSON\n",
      "[youtube] VeUh6bU06wU: Downloading ios player API JSON\n",
      "[youtube] VeUh6bU06wU: Downloading m3u8 information\n",
      "[info] VeUh6bU06wU: Downloading 1 format(s): 251\n",
      "[download] Destination: id08569_2_36960_VeUh6bU06wU_00258\n",
      "[download] 100% of    7.09MiB in 00:00:02 at 2.70MiB/s   \n",
      "[ExtractAudio] Destination: id08569_2_36960_VeUh6bU06wU_00258.mp3\n",
      "Deleting original file id08569_2_36960_VeUh6bU06wU_00258 (pass -k to keep)\n",
      "Audio downloaded as id08569_2_36960_VeUh6bU06wU_00258\n",
      "Trimmed audio saved as ../data/download_df_audio/id08569_2_36960_VeUh6bU06wU_00258_cut.mp3\n",
      "Speaker: id08569, Video: IDaWkAL-1lM, Txt file: 00152\n",
      "[youtube] Extracting URL: https://www.youtube.com/watch?v=IDaWkAL-1lM\n",
      "[youtube] IDaWkAL-1lM: Downloading webpage\n",
      "[youtube] IDaWkAL-1lM: Downloading tv client config\n",
      "[youtube] IDaWkAL-1lM: Downloading player 5ae7d525\n",
      "[youtube] IDaWkAL-1lM: Downloading tv player API JSON\n",
      "[youtube] IDaWkAL-1lM: Downloading ios player API JSON\n",
      "[youtube] IDaWkAL-1lM: Downloading m3u8 information\n",
      "[info] IDaWkAL-1lM: Downloading 1 format(s): 140\n",
      "[download] Destination: id08569_3_35560_IDaWkAL-1lM_00152\n",
      "[download] 100% of    7.88MiB in 00:00:01 at 4.09MiB/s   \n",
      "[FixupM4a] Correcting container of \"id08569_3_35560_IDaWkAL-1lM_00152\"\n",
      "[ExtractAudio] Destination: id08569_3_35560_IDaWkAL-1lM_00152.mp3\n",
      "Deleting original file id08569_3_35560_IDaWkAL-1lM_00152 (pass -k to keep)\n",
      "Audio downloaded as id08569_3_35560_IDaWkAL-1lM_00152\n",
      "Trimmed audio saved as ../data/download_df_audio/id08569_3_35560_IDaWkAL-1lM_00152_cut.mp3\n",
      "Speaker: id08569, Video: pmMoJkTlFGE, Txt file: 00415\n"
     ]
    },
    {
     "name": "stderr",
     "output_type": "stream",
     "text": [
      "ERROR: [youtube] pmMoJkTlFGE: Video unavailable. This video is no longer available because the YouTube account associated with this video has been terminated.\n"
     ]
    },
    {
     "name": "stdout",
     "output_type": "stream",
     "text": [
      "Speaker: id08569, Video: WUCXebc-kMU, Txt file: 00268\n"
     ]
    },
    {
     "name": "stderr",
     "output_type": "stream",
     "text": [
      "ERROR: [youtube] WUCXebc-kMU: Video unavailable. The uploader has not made this video available in your country\n"
     ]
    },
    {
     "name": "stdout",
     "output_type": "stream",
     "text": [
      "Speaker: id08569, Video: VeUh6bU06wU, Txt file: 00262\n",
      "[youtube] Extracting URL: https://www.youtube.com/watch?v=VeUh6bU06wU\n",
      "[youtube] VeUh6bU06wU: Downloading webpage\n",
      "[youtube] VeUh6bU06wU: Downloading tv client config\n",
      "[youtube] VeUh6bU06wU: Downloading player 5ae7d525\n",
      "[youtube] VeUh6bU06wU: Downloading tv player API JSON\n",
      "[youtube] VeUh6bU06wU: Downloading ios player API JSON\n",
      "[youtube] VeUh6bU06wU: Downloading m3u8 information\n",
      "[info] VeUh6bU06wU: Downloading 1 format(s): 251\n",
      "[download] Destination: id08569_4_33080_VeUh6bU06wU_00262\n",
      "[download] 100% of    7.09MiB in 00:00:00 at 8.41MiB/s   \n",
      "[ExtractAudio] Destination: id08569_4_33080_VeUh6bU06wU_00262.mp3\n",
      "Deleting original file id08569_4_33080_VeUh6bU06wU_00262 (pass -k to keep)\n",
      "Audio downloaded as id08569_4_33080_VeUh6bU06wU_00262\n",
      "Trimmed audio saved as ../data/download_df_audio/id08569_4_33080_VeUh6bU06wU_00262_cut.mp3\n",
      "Speaker: id08569, Video: Um6u7O964iw, Txt file: 00255\n",
      "[youtube] Extracting URL: https://www.youtube.com/watch?v=Um6u7O964iw\n",
      "[youtube] Um6u7O964iw: Downloading webpage\n",
      "[youtube] Um6u7O964iw: Downloading tv client config\n",
      "[youtube] Um6u7O964iw: Downloading player 5ae7d525\n",
      "[youtube] Um6u7O964iw: Downloading tv player API JSON\n",
      "[youtube] Um6u7O964iw: Downloading ios player API JSON\n",
      "[youtube] Um6u7O964iw: Downloading m3u8 information\n",
      "[info] Um6u7O964iw: Downloading 1 format(s): 251\n",
      "[download] Destination: id08569_5_30560_Um6u7O964iw_00255\n",
      "[download] 100% of    1.36MiB in 00:00:02 at 570.23KiB/s \n",
      "[ExtractAudio] Destination: id08569_5_30560_Um6u7O964iw_00255.mp3\n",
      "Deleting original file id08569_5_30560_Um6u7O964iw_00255 (pass -k to keep)\n",
      "Audio downloaded as id08569_5_30560_Um6u7O964iw_00255\n",
      "Trimmed audio saved as ../data/download_df_audio/id08569_5_30560_Um6u7O964iw_00255_cut.mp3\n",
      "Speaker: id08569, Video: N2TQiAnwGXg, Txt file: 00190\n",
      "[youtube] Extracting URL: https://www.youtube.com/watch?v=N2TQiAnwGXg\n",
      "[youtube] N2TQiAnwGXg: Downloading webpage\n",
      "[youtube] N2TQiAnwGXg: Downloading tv client config\n",
      "[youtube] N2TQiAnwGXg: Downloading player 5ae7d525\n",
      "[youtube] N2TQiAnwGXg: Downloading tv player API JSON\n",
      "[youtube] N2TQiAnwGXg: Downloading ios player API JSON\n",
      "[youtube] N2TQiAnwGXg: Downloading m3u8 information\n",
      "[info] N2TQiAnwGXg: Downloading 1 format(s): 251\n",
      "[download] Destination: id08569_6_29880_N2TQiAnwGXg_00190\n",
      "[download] 100% of    3.87MiB in 00:00:00 at 3.94MiB/s   \n",
      "[ExtractAudio] Destination: id08569_6_29880_N2TQiAnwGXg_00190.mp3\n",
      "Deleting original file id08569_6_29880_N2TQiAnwGXg_00190 (pass -k to keep)\n",
      "Audio downloaded as id08569_6_29880_N2TQiAnwGXg_00190\n",
      "Trimmed audio saved as ../data/download_df_audio/id08569_6_29880_N2TQiAnwGXg_00190_cut.mp3\n",
      "Speaker: id08569, Video: 3s-Rg7UAlBU, Txt file: 00008\n",
      "[youtube] Extracting URL: https://www.youtube.com/watch?v=3s-Rg7UAlBU\n",
      "[youtube] 3s-Rg7UAlBU: Downloading webpage\n",
      "[youtube] 3s-Rg7UAlBU: Downloading tv client config\n",
      "[youtube] 3s-Rg7UAlBU: Downloading player 5ae7d525\n",
      "[youtube] 3s-Rg7UAlBU: Downloading tv player API JSON\n",
      "[youtube] 3s-Rg7UAlBU: Downloading ios player API JSON\n",
      "[youtube] 3s-Rg7UAlBU: Downloading m3u8 information\n",
      "[info] 3s-Rg7UAlBU: Downloading 1 format(s): 140\n",
      "[download] Destination: id08569_7_28920_3s-Rg7UAlBU_00008\n",
      "[download] 100% of    2.97MiB in 00:00:00 at 5.01MiB/s   \n",
      "[FixupM4a] Correcting container of \"id08569_7_28920_3s-Rg7UAlBU_00008\"\n",
      "[ExtractAudio] Destination: id08569_7_28920_3s-Rg7UAlBU_00008.mp3\n",
      "Deleting original file id08569_7_28920_3s-Rg7UAlBU_00008 (pass -k to keep)\n",
      "Audio downloaded as id08569_7_28920_3s-Rg7UAlBU_00008\n",
      "Trimmed audio saved as ../data/download_df_audio/id08569_7_28920_3s-Rg7UAlBU_00008_cut.mp3\n",
      "Speaker: id08569, Video: _qguQK_EjZE, Txt file: 00291\n",
      "[youtube] Extracting URL: https://www.youtube.com/watch?v=_qguQK_EjZE\n",
      "[youtube] _qguQK_EjZE: Downloading webpage\n",
      "[youtube] _qguQK_EjZE: Downloading tv client config\n",
      "[youtube] _qguQK_EjZE: Downloading player 5ae7d525\n",
      "[youtube] _qguQK_EjZE: Downloading tv player API JSON\n",
      "[youtube] _qguQK_EjZE: Downloading ios player API JSON\n",
      "[youtube] _qguQK_EjZE: Downloading m3u8 information\n",
      "[info] _qguQK_EjZE: Downloading 1 format(s): 140\n",
      "[download] Destination: id08569_8_27600__qguQK_EjZE_00291\n",
      "[download] 100% of    5.73MiB in 00:00:00 at 5.99MiB/s   \n",
      "[FixupM4a] Correcting container of \"id08569_8_27600__qguQK_EjZE_00291\"\n",
      "[ExtractAudio] Destination: id08569_8_27600__qguQK_EjZE_00291.mp3\n",
      "Deleting original file id08569_8_27600__qguQK_EjZE_00291 (pass -k to keep)\n",
      "Audio downloaded as id08569_8_27600__qguQK_EjZE_00291\n",
      "Trimmed audio saved as ../data/download_df_audio/id08569_8_27600__qguQK_EjZE_00291_cut.mp3\n",
      "Speaker: id08569, Video: 32OkZFIHGag, Txt file: 00005\n",
      "[youtube] Extracting URL: https://www.youtube.com/watch?v=32OkZFIHGag\n",
      "[youtube] 32OkZFIHGag: Downloading webpage\n",
      "[youtube] 32OkZFIHGag: Downloading tv client config\n",
      "[youtube] 32OkZFIHGag: Downloading player 5ae7d525\n",
      "[youtube] 32OkZFIHGag: Downloading tv player API JSON\n",
      "[youtube] 32OkZFIHGag: Downloading ios player API JSON\n",
      "[youtube] 32OkZFIHGag: Downloading m3u8 information\n",
      "[info] 32OkZFIHGag: Downloading 1 format(s): 251\n",
      "[download] Destination: id08569_9_27360_32OkZFIHGag_00005\n",
      "[download] 100% of    2.73MiB in 00:00:00 at 3.65MiB/s   \n",
      "[ExtractAudio] Destination: id08569_9_27360_32OkZFIHGag_00005.mp3\n",
      "Deleting original file id08569_9_27360_32OkZFIHGag_00005 (pass -k to keep)\n",
      "Audio downloaded as id08569_9_27360_32OkZFIHGag_00005\n",
      "Trimmed audio saved as ../data/download_df_audio/id08569_9_27360_32OkZFIHGag_00005_cut.mp3\n",
      "Speaker: id08581, Video: faHUsIdvNpI, Txt file: 00102\n",
      "[youtube] Extracting URL: https://www.youtube.com/watch?v=faHUsIdvNpI\n",
      "[youtube] faHUsIdvNpI: Downloading webpage\n",
      "[youtube] faHUsIdvNpI: Downloading tv client config\n",
      "[youtube] faHUsIdvNpI: Downloading player 5ae7d525\n",
      "[youtube] faHUsIdvNpI: Downloading tv player API JSON\n",
      "[youtube] faHUsIdvNpI: Downloading ios player API JSON\n",
      "[youtube] faHUsIdvNpI: Downloading m3u8 information\n",
      "[info] faHUsIdvNpI: Downloading 1 format(s): 140\n",
      "[download] Destination: id08581_2_32479_faHUsIdvNpI_00102\n",
      "[download] 100% of    2.24MiB in 00:00:01 at 1.87MiB/s   \n",
      "[FixupM4a] Correcting container of \"id08581_2_32479_faHUsIdvNpI_00102\"\n",
      "[ExtractAudio] Destination: id08581_2_32479_faHUsIdvNpI_00102.mp3\n",
      "Deleting original file id08581_2_32479_faHUsIdvNpI_00102 (pass -k to keep)\n",
      "Audio downloaded as id08581_2_32479_faHUsIdvNpI_00102\n",
      "Trimmed audio saved as ../data/download_df_audio/id08581_2_32479_faHUsIdvNpI_00102_cut.mp3\n",
      "Speaker: id08581, Video: DsNhFTZx9Z4, Txt file: 00033\n"
     ]
    },
    {
     "name": "stderr",
     "output_type": "stream",
     "text": [
      "ERROR: [youtube] DsNhFTZx9Z4: Video unavailable\n"
     ]
    },
    {
     "name": "stdout",
     "output_type": "stream",
     "text": [
      "Speaker: id08581, Video: jj2qWDyIC_8, Txt file: 00109\n",
      "[youtube] Extracting URL: https://www.youtube.com/watch?v=jj2qWDyIC_8\n",
      "[youtube] jj2qWDyIC_8: Downloading webpage\n",
      "[youtube] jj2qWDyIC_8: Downloading tv client config\n",
      "[youtube] jj2qWDyIC_8: Downloading player 5ae7d525\n",
      "[youtube] jj2qWDyIC_8: Downloading tv player API JSON\n",
      "[youtube] jj2qWDyIC_8: Downloading ios player API JSON\n",
      "[youtube] jj2qWDyIC_8: Downloading m3u8 information\n",
      "[info] jj2qWDyIC_8: Downloading 1 format(s): 251\n",
      "[download] Destination: id08581_3_14040_jj2qWDyIC_8_00109\n",
      "[download] 100% of    3.32MiB in 00:00:00 at 4.43MiB/s   \n",
      "[ExtractAudio] Destination: id08581_3_14040_jj2qWDyIC_8_00109.mp3\n",
      "Deleting original file id08581_3_14040_jj2qWDyIC_8_00109 (pass -k to keep)\n",
      "Audio downloaded as id08581_3_14040_jj2qWDyIC_8_00109\n",
      "Trimmed audio saved as ../data/download_df_audio/id08581_3_14040_jj2qWDyIC_8_00109_cut.mp3\n",
      "Speaker: id08581, Video: DsNhFTZx9Z4, Txt file: 00032\n"
     ]
    },
    {
     "name": "stderr",
     "output_type": "stream",
     "text": [
      "ERROR: [youtube] DsNhFTZx9Z4: Video unavailable\n"
     ]
    },
    {
     "name": "stdout",
     "output_type": "stream",
     "text": [
      "Speaker: id08581, Video: DsNhFTZx9Z4, Txt file: 00016\n"
     ]
    },
    {
     "name": "stderr",
     "output_type": "stream",
     "text": [
      "ERROR: [youtube] DsNhFTZx9Z4: Video unavailable\n"
     ]
    },
    {
     "name": "stdout",
     "output_type": "stream",
     "text": [
      "Speaker: id08581, Video: DsNhFTZx9Z4, Txt file: 00030\n"
     ]
    },
    {
     "name": "stderr",
     "output_type": "stream",
     "text": [
      "ERROR: [youtube] DsNhFTZx9Z4: Video unavailable\n"
     ]
    },
    {
     "name": "stdout",
     "output_type": "stream",
     "text": [
      "Speaker: id08581, Video: Ex7FQ6ecyZc, Txt file: 00051\n"
     ]
    },
    {
     "name": "stderr",
     "output_type": "stream",
     "text": [
      "ERROR: [youtube] Ex7FQ6ecyZc: Private video. Sign in if you've been granted access to this video. Use --cookies-from-browser or --cookies for the authentication. See  https://github.com/yt-dlp/yt-dlp/wiki/FAQ#how-do-i-pass-cookies-to-yt-dlp  for how to manually pass cookies. Also see  https://github.com/yt-dlp/yt-dlp/wiki/Extractors#exporting-youtube-cookies  for tips on effectively exporting YouTube cookies\n"
     ]
    },
    {
     "name": "stdout",
     "output_type": "stream",
     "text": [
      "Speaker: id08581, Video: 3KRHKeynAN8, Txt file: 00009\n"
     ]
    },
    {
     "name": "stderr",
     "output_type": "stream",
     "text": [
      "ERROR: [youtube] 3KRHKeynAN8: Private video. Sign in if you've been granted access to this video. Use --cookies-from-browser or --cookies for the authentication. See  https://github.com/yt-dlp/yt-dlp/wiki/FAQ#how-do-i-pass-cookies-to-yt-dlp  for how to manually pass cookies. Also see  https://github.com/yt-dlp/yt-dlp/wiki/Extractors#exporting-youtube-cookies  for tips on effectively exporting YouTube cookies\n"
     ]
    },
    {
     "name": "stdout",
     "output_type": "stream",
     "text": [
      "Speaker: id08581, Video: DsNhFTZx9Z4, Txt file: 00028\n"
     ]
    },
    {
     "name": "stderr",
     "output_type": "stream",
     "text": [
      "ERROR: [youtube] DsNhFTZx9Z4: Video unavailable\n"
     ]
    },
    {
     "name": "stdout",
     "output_type": "stream",
     "text": [
      "Speaker: id08581, Video: DsNhFTZx9Z4, Txt file: 00017\n"
     ]
    },
    {
     "name": "stderr",
     "output_type": "stream",
     "text": [
      "ERROR: [youtube] DsNhFTZx9Z4: Video unavailable\n"
     ]
    },
    {
     "name": "stdout",
     "output_type": "stream",
     "text": [
      "Speaker: id08581, Video: DsNhFTZx9Z4, Txt file: 00040\n"
     ]
    },
    {
     "name": "stderr",
     "output_type": "stream",
     "text": [
      "ERROR: [youtube] DsNhFTZx9Z4: Video unavailable\n"
     ]
    },
    {
     "name": "stdout",
     "output_type": "stream",
     "text": [
      "Speaker: id08581, Video: eGR7XanJQlc, Txt file: 00098\n",
      "[youtube] Extracting URL: https://www.youtube.com/watch?v=eGR7XanJQlc\n",
      "[youtube] eGR7XanJQlc: Downloading webpage\n",
      "[youtube] eGR7XanJQlc: Downloading tv client config\n",
      "[youtube] eGR7XanJQlc: Downloading player 5ae7d525\n",
      "[youtube] eGR7XanJQlc: Downloading tv player API JSON\n",
      "[youtube] eGR7XanJQlc: Downloading ios player API JSON\n",
      "[youtube] eGR7XanJQlc: Downloading m3u8 information\n",
      "[info] eGR7XanJQlc: Downloading 1 format(s): 140\n",
      "[download] Destination: id08581_4_9720_eGR7XanJQlc_00098\n",
      "[download] 100% of    4.09MiB in 00:00:01 at 3.13MiB/s   \n",
      "[FixupM4a] Correcting container of \"id08581_4_9720_eGR7XanJQlc_00098\"\n",
      "[ExtractAudio] Destination: id08581_4_9720_eGR7XanJQlc_00098.mp3\n",
      "Deleting original file id08581_4_9720_eGR7XanJQlc_00098 (pass -k to keep)\n",
      "Audio downloaded as id08581_4_9720_eGR7XanJQlc_00098\n",
      "Trimmed audio saved as ../data/download_df_audio/id08581_4_9720_eGR7XanJQlc_00098_cut.mp3\n",
      "Speaker: id08581, Video: DsNhFTZx9Z4, Txt file: 00027\n"
     ]
    },
    {
     "name": "stderr",
     "output_type": "stream",
     "text": [
      "ERROR: [youtube] DsNhFTZx9Z4: Video unavailable\n"
     ]
    },
    {
     "name": "stdout",
     "output_type": "stream",
     "text": [
      "Speaker: id08581, Video: DsNhFTZx9Z4, Txt file: 00025\n"
     ]
    },
    {
     "name": "stderr",
     "output_type": "stream",
     "text": [
      "ERROR: [youtube] DsNhFTZx9Z4: Video unavailable\n"
     ]
    },
    {
     "name": "stdout",
     "output_type": "stream",
     "text": [
      "Speaker: id08581, Video: DsNhFTZx9Z4, Txt file: 00029\n"
     ]
    },
    {
     "name": "stderr",
     "output_type": "stream",
     "text": [
      "ERROR: [youtube] DsNhFTZx9Z4: Video unavailable\n"
     ]
    },
    {
     "name": "stdout",
     "output_type": "stream",
     "text": [
      "Speaker: id08581, Video: jj2qWDyIC_8, Txt file: 00106\n",
      "[youtube] Extracting URL: https://www.youtube.com/watch?v=jj2qWDyIC_8\n",
      "[youtube] jj2qWDyIC_8: Downloading webpage\n",
      "[youtube] jj2qWDyIC_8: Downloading tv client config\n",
      "[youtube] jj2qWDyIC_8: Downloading player 5ae7d525\n",
      "[youtube] jj2qWDyIC_8: Downloading tv player API JSON\n",
      "[youtube] jj2qWDyIC_8: Downloading ios player API JSON\n",
      "[youtube] jj2qWDyIC_8: Downloading m3u8 information\n",
      "[info] jj2qWDyIC_8: Downloading 1 format(s): 251\n",
      "[download] Destination: id08581_5_9000_jj2qWDyIC_8_00106\n",
      "[download] 100% of    3.32MiB in 00:00:00 at 9.44MiB/s   \n",
      "[ExtractAudio] Destination: id08581_5_9000_jj2qWDyIC_8_00106.mp3\n",
      "Deleting original file id08581_5_9000_jj2qWDyIC_8_00106 (pass -k to keep)\n",
      "Audio downloaded as id08581_5_9000_jj2qWDyIC_8_00106\n",
      "Trimmed audio saved as ../data/download_df_audio/id08581_5_9000_jj2qWDyIC_8_00106_cut.mp3\n",
      "Speaker: id08581, Video: a2Bt15H2LRM, Txt file: 00091\n",
      "[youtube] Extracting URL: https://www.youtube.com/watch?v=a2Bt15H2LRM\n",
      "[youtube] a2Bt15H2LRM: Downloading webpage\n",
      "[youtube] a2Bt15H2LRM: Downloading tv client config\n",
      "[youtube] a2Bt15H2LRM: Downloading player 5ae7d525\n",
      "[youtube] a2Bt15H2LRM: Downloading tv player API JSON\n",
      "[youtube] a2Bt15H2LRM: Downloading ios player API JSON\n",
      "[youtube] a2Bt15H2LRM: Downloading m3u8 information\n",
      "[info] a2Bt15H2LRM: Downloading 1 format(s): 251\n",
      "[download] Destination: id08581_6_8880_a2Bt15H2LRM_00091\n",
      "[download] 100% of    4.09MiB in 00:00:02 at 1.99MiB/s   \n",
      "[ExtractAudio] Destination: id08581_6_8880_a2Bt15H2LRM_00091.mp3\n",
      "Deleting original file id08581_6_8880_a2Bt15H2LRM_00091 (pass -k to keep)\n",
      "Audio downloaded as id08581_6_8880_a2Bt15H2LRM_00091\n",
      "Trimmed audio saved as ../data/download_df_audio/id08581_6_8880_a2Bt15H2LRM_00091_cut.mp3\n",
      "Speaker: id08581, Video: 3KRHKeynAN8, Txt file: 00011\n"
     ]
    },
    {
     "name": "stderr",
     "output_type": "stream",
     "text": [
      "ERROR: [youtube] 3KRHKeynAN8: Private video. Sign in if you've been granted access to this video. Use --cookies-from-browser or --cookies for the authentication. See  https://github.com/yt-dlp/yt-dlp/wiki/FAQ#how-do-i-pass-cookies-to-yt-dlp  for how to manually pass cookies. Also see  https://github.com/yt-dlp/yt-dlp/wiki/Extractors#exporting-youtube-cookies  for tips on effectively exporting YouTube cookies\n"
     ]
    },
    {
     "name": "stdout",
     "output_type": "stream",
     "text": [
      "Speaker: id08581, Video: jj2qWDyIC_8, Txt file: 00107\n",
      "[youtube] Extracting URL: https://www.youtube.com/watch?v=jj2qWDyIC_8\n",
      "[youtube] jj2qWDyIC_8: Downloading webpage\n",
      "[youtube] jj2qWDyIC_8: Downloading tv client config\n",
      "[youtube] jj2qWDyIC_8: Downloading player 5ae7d525\n",
      "[youtube] jj2qWDyIC_8: Downloading tv player API JSON\n",
      "[youtube] jj2qWDyIC_8: Downloading ios player API JSON\n",
      "[youtube] jj2qWDyIC_8: Downloading m3u8 information\n",
      "[info] jj2qWDyIC_8: Downloading 1 format(s): 251\n",
      "[download] Destination: id08581_7_8200_jj2qWDyIC_8_00107\n",
      "[download] 100% of    3.32MiB in 00:00:00 at 8.79MiB/s   \n",
      "[ExtractAudio] Destination: id08581_7_8200_jj2qWDyIC_8_00107.mp3\n",
      "Deleting original file id08581_7_8200_jj2qWDyIC_8_00107 (pass -k to keep)\n",
      "Audio downloaded as id08581_7_8200_jj2qWDyIC_8_00107\n",
      "Trimmed audio saved as ../data/download_df_audio/id08581_7_8200_jj2qWDyIC_8_00107_cut.mp3\n",
      "Speaker: id08581, Video: faHUsIdvNpI, Txt file: 00101\n",
      "[youtube] Extracting URL: https://www.youtube.com/watch?v=faHUsIdvNpI\n",
      "[youtube] faHUsIdvNpI: Downloading webpage\n",
      "[youtube] faHUsIdvNpI: Downloading tv client config\n",
      "[youtube] faHUsIdvNpI: Downloading player 5ae7d525\n",
      "[youtube] faHUsIdvNpI: Downloading tv player API JSON\n",
      "[youtube] faHUsIdvNpI: Downloading ios player API JSON\n",
      "[youtube] faHUsIdvNpI: Downloading m3u8 information\n",
      "[info] faHUsIdvNpI: Downloading 1 format(s): 140\n",
      "[download] Destination: id08581_8_8160_faHUsIdvNpI_00101\n",
      "[download] 100% of    2.24MiB in 00:00:00 at 8.21MiB/s     \n",
      "[FixupM4a] Correcting container of \"id08581_8_8160_faHUsIdvNpI_00101\"\n",
      "[ExtractAudio] Destination: id08581_8_8160_faHUsIdvNpI_00101.mp3\n",
      "Deleting original file id08581_8_8160_faHUsIdvNpI_00101 (pass -k to keep)\n",
      "Audio downloaded as id08581_8_8160_faHUsIdvNpI_00101\n",
      "Trimmed audio saved as ../data/download_df_audio/id08581_8_8160_faHUsIdvNpI_00101_cut.mp3\n",
      "Speaker: id08581, Video: ZDEWmtmhY4o, Txt file: 00086\n"
     ]
    },
    {
     "name": "stderr",
     "output_type": "stream",
     "text": [
      "ERROR: [youtube] ZDEWmtmhY4o: Video unavailable. This video is no longer available because the YouTube account associated with this video has been terminated.\n"
     ]
    },
    {
     "name": "stdout",
     "output_type": "stream",
     "text": [
      "Speaker: id08581, Video: X5OaKRs0a5o, Txt file: 00085\n",
      "[youtube] Extracting URL: https://www.youtube.com/watch?v=X5OaKRs0a5o\n",
      "[youtube] X5OaKRs0a5o: Downloading webpage\n",
      "[youtube] X5OaKRs0a5o: Downloading tv client config\n",
      "[youtube] X5OaKRs0a5o: Downloading player 5ae7d525\n",
      "[youtube] X5OaKRs0a5o: Downloading tv player API JSON\n",
      "[youtube] X5OaKRs0a5o: Downloading ios player API JSON\n",
      "[youtube] X5OaKRs0a5o: Downloading m3u8 information\n",
      "[info] X5OaKRs0a5o: Downloading 1 format(s): 140\n",
      "[download] Destination: id08581_9_7600_X5OaKRs0a5o_00085\n",
      "[download] 100% of    7.94MiB in 00:00:02 at 3.55MiB/s   \n",
      "[FixupM4a] Correcting container of \"id08581_9_7600_X5OaKRs0a5o_00085\"\n",
      "[ExtractAudio] Destination: id08581_9_7600_X5OaKRs0a5o_00085.mp3\n",
      "Deleting original file id08581_9_7600_X5OaKRs0a5o_00085 (pass -k to keep)\n",
      "Audio downloaded as id08581_9_7600_X5OaKRs0a5o_00085\n",
      "Trimmed audio saved as ../data/download_df_audio/id08581_9_7600_X5OaKRs0a5o_00085_cut.mp3\n",
      "Speaker: id08593, Video: D63OVvHIhd4, Txt file: 00039\n",
      "[youtube] Extracting URL: https://www.youtube.com/watch?v=D63OVvHIhd4\n",
      "[youtube] D63OVvHIhd4: Downloading webpage\n",
      "[youtube] D63OVvHIhd4: Downloading tv client config\n",
      "[youtube] D63OVvHIhd4: Downloading player 5ae7d525\n",
      "[youtube] D63OVvHIhd4: Downloading tv player API JSON\n",
      "[youtube] D63OVvHIhd4: Downloading ios player API JSON\n",
      "[youtube] D63OVvHIhd4: Downloading m3u8 information\n",
      "[info] D63OVvHIhd4: Downloading 1 format(s): 251\n",
      "[download] Destination: id08593_2_15240_D63OVvHIhd4_00039\n",
      "[download] 100% of    2.25MiB in 00:00:00 at 6.82MiB/s   \n",
      "[ExtractAudio] Destination: id08593_2_15240_D63OVvHIhd4_00039.mp3\n",
      "Deleting original file id08593_2_15240_D63OVvHIhd4_00039 (pass -k to keep)\n",
      "Audio downloaded as id08593_2_15240_D63OVvHIhd4_00039\n",
      "Trimmed audio saved as ../data/download_df_audio/id08593_2_15240_D63OVvHIhd4_00039_cut.mp3\n",
      "Speaker: id08593, Video: 6E-HzcmRYnA, Txt file: 00020\n",
      "[youtube] Extracting URL: https://www.youtube.com/watch?v=6E-HzcmRYnA\n",
      "[youtube] 6E-HzcmRYnA: Downloading webpage\n",
      "[youtube] 6E-HzcmRYnA: Downloading tv client config\n",
      "[youtube] 6E-HzcmRYnA: Downloading player 5ae7d525\n",
      "[youtube] 6E-HzcmRYnA: Downloading tv player API JSON\n",
      "[youtube] 6E-HzcmRYnA: Downloading ios player API JSON\n",
      "[youtube] 6E-HzcmRYnA: Downloading m3u8 information\n",
      "[info] 6E-HzcmRYnA: Downloading 1 format(s): 251\n",
      "[download] Destination: id08593_3_13680_6E-HzcmRYnA_00020\n",
      "[download] 100% of    6.07MiB in 00:00:01 at 5.97MiB/s   \n",
      "[ExtractAudio] Destination: id08593_3_13680_6E-HzcmRYnA_00020.mp3\n",
      "Deleting original file id08593_3_13680_6E-HzcmRYnA_00020 (pass -k to keep)\n",
      "Audio downloaded as id08593_3_13680_6E-HzcmRYnA_00020\n",
      "Trimmed audio saved as ../data/download_df_audio/id08593_3_13680_6E-HzcmRYnA_00020_cut.mp3\n",
      "Speaker: id08593, Video: PHQrab15LAY, Txt file: 00074\n",
      "[youtube] Extracting URL: https://www.youtube.com/watch?v=PHQrab15LAY\n",
      "[youtube] PHQrab15LAY: Downloading webpage\n",
      "[youtube] PHQrab15LAY: Downloading tv client config\n",
      "[youtube] PHQrab15LAY: Downloading player 5ae7d525\n",
      "[youtube] PHQrab15LAY: Downloading tv player API JSON\n",
      "[youtube] PHQrab15LAY: Downloading ios player API JSON\n",
      "[youtube] PHQrab15LAY: Downloading m3u8 information\n",
      "[info] PHQrab15LAY: Downloading 1 format(s): 140\n",
      "[download] Destination: id08593_4_12480_PHQrab15LAY_00074\n",
      "[download] 100% of    8.07MiB in 00:00:02 at 3.47MiB/s   \n",
      "[FixupM4a] Correcting container of \"id08593_4_12480_PHQrab15LAY_00074\"\n",
      "[ExtractAudio] Destination: id08593_4_12480_PHQrab15LAY_00074.mp3\n",
      "Deleting original file id08593_4_12480_PHQrab15LAY_00074 (pass -k to keep)\n",
      "Audio downloaded as id08593_4_12480_PHQrab15LAY_00074\n",
      "Trimmed audio saved as ../data/download_df_audio/id08593_4_12480_PHQrab15LAY_00074_cut.mp3\n",
      "Speaker: id08593, Video: D63OVvHIhd4, Txt file: 00036\n",
      "[youtube] Extracting URL: https://www.youtube.com/watch?v=D63OVvHIhd4\n",
      "[youtube] D63OVvHIhd4: Downloading webpage\n",
      "[youtube] D63OVvHIhd4: Downloading tv client config\n",
      "[youtube] D63OVvHIhd4: Downloading player 5ae7d525\n",
      "[youtube] D63OVvHIhd4: Downloading tv player API JSON\n",
      "[youtube] D63OVvHIhd4: Downloading ios player API JSON\n",
      "[youtube] D63OVvHIhd4: Downloading m3u8 information\n",
      "[info] D63OVvHIhd4: Downloading 1 format(s): 251\n",
      "[download] Destination: id08593_5_12160_D63OVvHIhd4_00036\n",
      "[download] 100% of    2.25MiB in 00:00:00 at 6.62MiB/s   \n",
      "[ExtractAudio] Destination: id08593_5_12160_D63OVvHIhd4_00036.mp3\n",
      "Deleting original file id08593_5_12160_D63OVvHIhd4_00036 (pass -k to keep)\n",
      "Audio downloaded as id08593_5_12160_D63OVvHIhd4_00036\n",
      "Trimmed audio saved as ../data/download_df_audio/id08593_5_12160_D63OVvHIhd4_00036_cut.mp3\n",
      "Speaker: id08593, Video: aaADgS32xT8, Txt file: 00115\n",
      "[youtube] Extracting URL: https://www.youtube.com/watch?v=aaADgS32xT8\n",
      "[youtube] aaADgS32xT8: Downloading webpage\n",
      "[youtube] aaADgS32xT8: Downloading tv client config\n",
      "[youtube] aaADgS32xT8: Downloading player 5ae7d525\n",
      "[youtube] aaADgS32xT8: Downloading tv player API JSON\n",
      "[youtube] aaADgS32xT8: Downloading ios player API JSON\n",
      "[youtube] aaADgS32xT8: Downloading m3u8 information\n",
      "[info] aaADgS32xT8: Downloading 1 format(s): 140\n",
      "[download] Destination: id08593_6_11920_aaADgS32xT8_00115\n",
      "[download] 100% of    5.32MiB in 00:00:01 at 3.11MiB/s   \n",
      "[FixupM4a] Correcting container of \"id08593_6_11920_aaADgS32xT8_00115\"\n",
      "[ExtractAudio] Destination: id08593_6_11920_aaADgS32xT8_00115.mp3\n",
      "Deleting original file id08593_6_11920_aaADgS32xT8_00115 (pass -k to keep)\n",
      "Audio downloaded as id08593_6_11920_aaADgS32xT8_00115\n",
      "Trimmed audio saved as ../data/download_df_audio/id08593_6_11920_aaADgS32xT8_00115_cut.mp3\n",
      "Speaker: id08593, Video: PHQrab15LAY, Txt file: 00079\n",
      "[youtube] Extracting URL: https://www.youtube.com/watch?v=PHQrab15LAY\n",
      "[youtube] PHQrab15LAY: Downloading webpage\n",
      "[youtube] PHQrab15LAY: Downloading tv client config\n",
      "[youtube] PHQrab15LAY: Downloading player 5ae7d525\n",
      "[youtube] PHQrab15LAY: Downloading tv player API JSON\n",
      "[youtube] PHQrab15LAY: Downloading ios player API JSON\n",
      "[youtube] PHQrab15LAY: Downloading m3u8 information\n",
      "[info] PHQrab15LAY: Downloading 1 format(s): 140\n",
      "[download] Destination: id08593_7_10960_PHQrab15LAY_00079\n",
      "[download] 100% of    8.07MiB in 00:00:01 at 6.56MiB/s   \n",
      "[FixupM4a] Correcting container of \"id08593_7_10960_PHQrab15LAY_00079\"\n",
      "[ExtractAudio] Destination: id08593_7_10960_PHQrab15LAY_00079.mp3\n",
      "Deleting original file id08593_7_10960_PHQrab15LAY_00079 (pass -k to keep)\n",
      "Audio downloaded as id08593_7_10960_PHQrab15LAY_00079\n",
      "Trimmed audio saved as ../data/download_df_audio/id08593_7_10960_PHQrab15LAY_00079_cut.mp3\n",
      "Speaker: id08593, Video: D63OVvHIhd4, Txt file: 00035\n",
      "[youtube] Extracting URL: https://www.youtube.com/watch?v=D63OVvHIhd4\n",
      "[youtube] D63OVvHIhd4: Downloading webpage\n",
      "[youtube] D63OVvHIhd4: Downloading tv client config\n",
      "[youtube] D63OVvHIhd4: Downloading player 5ae7d525\n",
      "[youtube] D63OVvHIhd4: Downloading tv player API JSON\n",
      "[youtube] D63OVvHIhd4: Downloading ios player API JSON\n",
      "[youtube] D63OVvHIhd4: Downloading m3u8 information\n",
      "[info] D63OVvHIhd4: Downloading 1 format(s): 251\n",
      "[download] Destination: id08593_8_10000_D63OVvHIhd4_00035\n",
      "[download] 100% of    2.25MiB in 00:00:00 at 11.73MiB/s  \n",
      "[ExtractAudio] Destination: id08593_8_10000_D63OVvHIhd4_00035.mp3\n",
      "Deleting original file id08593_8_10000_D63OVvHIhd4_00035 (pass -k to keep)\n",
      "Audio downloaded as id08593_8_10000_D63OVvHIhd4_00035\n",
      "Trimmed audio saved as ../data/download_df_audio/id08593_8_10000_D63OVvHIhd4_00035_cut.mp3\n",
      "Speaker: id08593, Video: QJuvftfIyVM, Txt file: 00084\n",
      "[youtube] Extracting URL: https://www.youtube.com/watch?v=QJuvftfIyVM\n",
      "[youtube] QJuvftfIyVM: Downloading webpage\n",
      "[youtube] QJuvftfIyVM: Downloading tv client config\n",
      "[youtube] QJuvftfIyVM: Downloading player 5ae7d525\n",
      "[youtube] QJuvftfIyVM: Downloading tv player API JSON\n",
      "[youtube] QJuvftfIyVM: Downloading ios player API JSON\n",
      "[youtube] QJuvftfIyVM: Downloading m3u8 information\n",
      "[info] QJuvftfIyVM: Downloading 1 format(s): 251\n",
      "[download] Destination: id08593_9_9600_QJuvftfIyVM_00084\n",
      "[download] 100% of    3.29MiB in 00:00:01 at 1.89MiB/s   \n",
      "[ExtractAudio] Destination: id08593_9_9600_QJuvftfIyVM_00084.mp3\n",
      "Deleting original file id08593_9_9600_QJuvftfIyVM_00084 (pass -k to keep)\n",
      "Audio downloaded as id08593_9_9600_QJuvftfIyVM_00084\n",
      "Trimmed audio saved as ../data/download_df_audio/id08593_9_9600_QJuvftfIyVM_00084_cut.mp3\n",
      "Speaker: id08604, Video: P37QaZ19Mxw, Txt file: 00205\n",
      "[youtube] Extracting URL: https://www.youtube.com/watch?v=P37QaZ19Mxw\n",
      "[youtube] P37QaZ19Mxw: Downloading webpage\n",
      "[youtube] P37QaZ19Mxw: Downloading tv client config\n",
      "[youtube] P37QaZ19Mxw: Downloading player 5ae7d525\n",
      "[youtube] P37QaZ19Mxw: Downloading tv player API JSON\n",
      "[youtube] P37QaZ19Mxw: Downloading ios player API JSON\n",
      "[youtube] P37QaZ19Mxw: Downloading m3u8 information\n",
      "[info] P37QaZ19Mxw: Downloading 1 format(s): 251\n",
      "[download] Destination: id08604_2_52000_P37QaZ19Mxw_00205\n",
      "[download] 100% of    3.17MiB in 00:00:00 at 4.77MiB/s   \n",
      "[ExtractAudio] Destination: id08604_2_52000_P37QaZ19Mxw_00205.mp3\n",
      "Deleting original file id08604_2_52000_P37QaZ19Mxw_00205 (pass -k to keep)\n",
      "Audio downloaded as id08604_2_52000_P37QaZ19Mxw_00205\n",
      "Trimmed audio saved as ../data/download_df_audio/id08604_2_52000_P37QaZ19Mxw_00205_cut.mp3\n",
      "Speaker: id08604, Video: 4X_sbYGJmCw, Txt file: 00006\n",
      "[youtube] Extracting URL: https://www.youtube.com/watch?v=4X_sbYGJmCw\n",
      "[youtube] 4X_sbYGJmCw: Downloading webpage\n",
      "[youtube] 4X_sbYGJmCw: Downloading tv client config\n",
      "[youtube] 4X_sbYGJmCw: Downloading player 5ae7d525\n",
      "[youtube] 4X_sbYGJmCw: Downloading tv player API JSON\n",
      "[youtube] 4X_sbYGJmCw: Downloading ios player API JSON\n",
      "[youtube] 4X_sbYGJmCw: Downloading m3u8 information\n",
      "[info] 4X_sbYGJmCw: Downloading 1 format(s): 251\n",
      "[download] Destination: id08604_3_48640_4X_sbYGJmCw_00006\n",
      "[download] 100% of    4.42MiB in 00:00:00 at 5.96MiB/s     \n",
      "[ExtractAudio] Destination: id08604_3_48640_4X_sbYGJmCw_00006.mp3\n",
      "Deleting original file id08604_3_48640_4X_sbYGJmCw_00006 (pass -k to keep)\n",
      "Audio downloaded as id08604_3_48640_4X_sbYGJmCw_00006\n",
      "Trimmed audio saved as ../data/download_df_audio/id08604_3_48640_4X_sbYGJmCw_00006_cut.mp3\n",
      "Speaker: id08604, Video: qwoxXOHPtzU, Txt file: 00371\n",
      "[youtube] Extracting URL: https://www.youtube.com/watch?v=qwoxXOHPtzU\n",
      "[youtube] qwoxXOHPtzU: Downloading webpage\n",
      "[youtube] qwoxXOHPtzU: Downloading tv client config\n",
      "[youtube] qwoxXOHPtzU: Downloading player 5ae7d525\n",
      "[youtube] qwoxXOHPtzU: Downloading tv player API JSON\n",
      "[youtube] qwoxXOHPtzU: Downloading ios player API JSON\n",
      "[youtube] qwoxXOHPtzU: Downloading m3u8 information\n",
      "[info] qwoxXOHPtzU: Downloading 1 format(s): 140\n",
      "[download] Destination: id08604_4_48480_qwoxXOHPtzU_00371\n",
      "[download] 100% of    3.83MiB in 00:00:01 at 2.71MiB/s   \n",
      "[FixupM4a] Correcting container of \"id08604_4_48480_qwoxXOHPtzU_00371\"\n",
      "[ExtractAudio] Destination: id08604_4_48480_qwoxXOHPtzU_00371.mp3\n",
      "Deleting original file id08604_4_48480_qwoxXOHPtzU_00371 (pass -k to keep)\n",
      "Audio downloaded as id08604_4_48480_qwoxXOHPtzU_00371\n",
      "Trimmed audio saved as ../data/download_df_audio/id08604_4_48480_qwoxXOHPtzU_00371_cut.mp3\n",
      "Speaker: id08604, Video: 4X_sbYGJmCw, Txt file: 00015\n",
      "[youtube] Extracting URL: https://www.youtube.com/watch?v=4X_sbYGJmCw\n",
      "[youtube] 4X_sbYGJmCw: Downloading webpage\n",
      "[youtube] 4X_sbYGJmCw: Downloading tv client config\n",
      "[youtube] 4X_sbYGJmCw: Downloading player 5ae7d525\n",
      "[youtube] 4X_sbYGJmCw: Downloading tv player API JSON\n",
      "[youtube] 4X_sbYGJmCw: Downloading ios player API JSON\n",
      "[youtube] 4X_sbYGJmCw: Downloading m3u8 information\n",
      "[info] 4X_sbYGJmCw: Downloading 1 format(s): 251\n",
      "[download] Destination: id08604_5_43080_4X_sbYGJmCw_00015\n",
      "[download] 100% of    4.42MiB in 00:00:00 at 11.54MiB/s  \n",
      "[ExtractAudio] Destination: id08604_5_43080_4X_sbYGJmCw_00015.mp3\n",
      "Deleting original file id08604_5_43080_4X_sbYGJmCw_00015 (pass -k to keep)\n",
      "Audio downloaded as id08604_5_43080_4X_sbYGJmCw_00015\n",
      "Trimmed audio saved as ../data/download_df_audio/id08604_5_43080_4X_sbYGJmCw_00015_cut.mp3\n",
      "Speaker: id08604, Video: qwoxXOHPtzU, Txt file: 00372\n",
      "[youtube] Extracting URL: https://www.youtube.com/watch?v=qwoxXOHPtzU\n",
      "[youtube] qwoxXOHPtzU: Downloading webpage\n",
      "[youtube] qwoxXOHPtzU: Downloading tv client config\n",
      "[youtube] qwoxXOHPtzU: Downloading player 5ae7d525\n",
      "[youtube] qwoxXOHPtzU: Downloading tv player API JSON\n",
      "[youtube] qwoxXOHPtzU: Downloading ios player API JSON\n",
      "[youtube] qwoxXOHPtzU: Downloading m3u8 information\n",
      "[info] qwoxXOHPtzU: Downloading 1 format(s): 140\n",
      "[download] Destination: id08604_6_34560_qwoxXOHPtzU_00372\n",
      "[download] 100% of    3.83MiB in 00:00:01 at 3.43MiB/s   \n",
      "[FixupM4a] Correcting container of \"id08604_6_34560_qwoxXOHPtzU_00372\"\n",
      "[ExtractAudio] Destination: id08604_6_34560_qwoxXOHPtzU_00372.mp3\n",
      "Deleting original file id08604_6_34560_qwoxXOHPtzU_00372 (pass -k to keep)\n",
      "Audio downloaded as id08604_6_34560_qwoxXOHPtzU_00372\n",
      "Trimmed audio saved as ../data/download_df_audio/id08604_6_34560_qwoxXOHPtzU_00372_cut.mp3\n",
      "Speaker: id08604, Video: uOroQtR_6Xk, Txt file: 00382\n",
      "[youtube] Extracting URL: https://www.youtube.com/watch?v=uOroQtR_6Xk\n",
      "[youtube] uOroQtR_6Xk: Downloading webpage\n",
      "[youtube] uOroQtR_6Xk: Downloading tv client config\n",
      "[youtube] uOroQtR_6Xk: Downloading player 5ae7d525\n",
      "[youtube] uOroQtR_6Xk: Downloading tv player API JSON\n",
      "[youtube] uOroQtR_6Xk: Downloading ios player API JSON\n",
      "[youtube] uOroQtR_6Xk: Downloading m3u8 information\n",
      "[info] uOroQtR_6Xk: Downloading 1 format(s): 251\n",
      "[download] Destination: id08604_7_33120_uOroQtR_6Xk_00382\n",
      "[download] 100% of    2.37MiB in 00:00:01 at 2.17MiB/s   \n",
      "[ExtractAudio] Destination: id08604_7_33120_uOroQtR_6Xk_00382.mp3\n",
      "Deleting original file id08604_7_33120_uOroQtR_6Xk_00382 (pass -k to keep)\n",
      "Audio downloaded as id08604_7_33120_uOroQtR_6Xk_00382\n",
      "Trimmed audio saved as ../data/download_df_audio/id08604_7_33120_uOroQtR_6Xk_00382_cut.mp3\n",
      "Speaker: id08604, Video: LQb4jtGZ6jA, Txt file: 00155\n"
     ]
    },
    {
     "name": "stderr",
     "output_type": "stream",
     "text": [
      "ERROR: [youtube] LQb4jtGZ6jA: Video unavailable\n"
     ]
    },
    {
     "name": "stdout",
     "output_type": "stream",
     "text": [
      "Speaker: id08604, Video: DDIo1I0BZP0, Txt file: 00070\n",
      "[youtube] Extracting URL: https://www.youtube.com/watch?v=DDIo1I0BZP0\n",
      "[youtube] DDIo1I0BZP0: Downloading webpage\n",
      "[youtube] DDIo1I0BZP0: Downloading tv client config\n",
      "[youtube] DDIo1I0BZP0: Downloading player 5ae7d525\n",
      "[youtube] DDIo1I0BZP0: Downloading tv player API JSON\n",
      "[youtube] DDIo1I0BZP0: Downloading ios player API JSON\n",
      "[youtube] DDIo1I0BZP0: Downloading m3u8 information\n",
      "[info] DDIo1I0BZP0: Downloading 1 format(s): 251\n",
      "[download] Destination: id08604_8_28080_DDIo1I0BZP0_00070\n",
      "[download] 100% of    8.02MiB in 00:00:02 at 3.03MiB/s   \n",
      "[ExtractAudio] Destination: id08604_8_28080_DDIo1I0BZP0_00070.mp3\n",
      "Deleting original file id08604_8_28080_DDIo1I0BZP0_00070 (pass -k to keep)\n",
      "Audio downloaded as id08604_8_28080_DDIo1I0BZP0_00070\n",
      "Trimmed audio saved as ../data/download_df_audio/id08604_8_28080_DDIo1I0BZP0_00070_cut.mp3\n",
      "Speaker: id08604, Video: 4kDmQplW_mw, Txt file: 00027\n",
      "[youtube] Extracting URL: https://www.youtube.com/watch?v=4kDmQplW_mw\n",
      "[youtube] 4kDmQplW_mw: Downloading webpage\n",
      "[youtube] 4kDmQplW_mw: Downloading tv client config\n",
      "[youtube] 4kDmQplW_mw: Downloading player 5ae7d525\n",
      "[youtube] 4kDmQplW_mw: Downloading tv player API JSON\n",
      "[youtube] 4kDmQplW_mw: Downloading ios player API JSON\n",
      "[youtube] 4kDmQplW_mw: Downloading m3u8 information\n",
      "[info] 4kDmQplW_mw: Downloading 1 format(s): 251\n",
      "[download] Destination: id08604_9_27840_4kDmQplW_mw_00027\n",
      "[download] 100% of    8.08MiB in 00:00:00 at 8.45MiB/s   \n",
      "[ExtractAudio] Destination: id08604_9_27840_4kDmQplW_mw_00027.mp3\n",
      "Deleting original file id08604_9_27840_4kDmQplW_mw_00027 (pass -k to keep)\n",
      "Audio downloaded as id08604_9_27840_4kDmQplW_mw_00027\n",
      "Trimmed audio saved as ../data/download_df_audio/id08604_9_27840_4kDmQplW_mw_00027_cut.mp3\n",
      "Speaker: id08608, Video: 68GoBUcR4Tg, Txt file: 00015\n",
      "[youtube] Extracting URL: https://www.youtube.com/watch?v=68GoBUcR4Tg\n",
      "[youtube] 68GoBUcR4Tg: Downloading webpage\n",
      "[youtube] 68GoBUcR4Tg: Downloading tv client config\n",
      "[youtube] 68GoBUcR4Tg: Downloading player 5ae7d525\n",
      "[youtube] 68GoBUcR4Tg: Downloading tv player API JSON\n",
      "[youtube] 68GoBUcR4Tg: Downloading ios player API JSON\n",
      "[youtube] 68GoBUcR4Tg: Downloading m3u8 information\n",
      "[info] 68GoBUcR4Tg: Downloading 1 format(s): 258\n",
      "[download] Destination: id08608_2_30680_68GoBUcR4Tg_00015\n",
      "[download] 100% of   16.64MiB in 00:00:01 at 13.70MiB/s    \n",
      "[FixupM4a] Correcting container of \"id08608_2_30680_68GoBUcR4Tg_00015\"\n",
      "[ExtractAudio] Destination: id08608_2_30680_68GoBUcR4Tg_00015.mp3\n",
      "Deleting original file id08608_2_30680_68GoBUcR4Tg_00015 (pass -k to keep)\n",
      "Audio downloaded as id08608_2_30680_68GoBUcR4Tg_00015\n",
      "Trimmed audio saved as ../data/download_df_audio/id08608_2_30680_68GoBUcR4Tg_00015_cut.mp3\n",
      "Speaker: id08608, Video: a4G5It1Dy6A, Txt file: 00157\n",
      "[youtube] Extracting URL: https://www.youtube.com/watch?v=a4G5It1Dy6A\n",
      "[youtube] a4G5It1Dy6A: Downloading webpage\n",
      "[youtube] a4G5It1Dy6A: Downloading tv client config\n",
      "[youtube] a4G5It1Dy6A: Downloading player 5ae7d525\n",
      "[youtube] a4G5It1Dy6A: Downloading tv player API JSON\n",
      "[youtube] a4G5It1Dy6A: Downloading ios player API JSON\n",
      "[youtube] a4G5It1Dy6A: Downloading m3u8 information\n",
      "[info] a4G5It1Dy6A: Downloading 1 format(s): 251\n",
      "[download] Destination: id08608_3_28840_a4G5It1Dy6A_00157\n",
      "[download] 100% of    2.24MiB in 00:00:00 at 5.02MiB/s   \n",
      "[ExtractAudio] Destination: id08608_3_28840_a4G5It1Dy6A_00157.mp3\n",
      "Deleting original file id08608_3_28840_a4G5It1Dy6A_00157 (pass -k to keep)\n",
      "Audio downloaded as id08608_3_28840_a4G5It1Dy6A_00157\n",
      "Trimmed audio saved as ../data/download_df_audio/id08608_3_28840_a4G5It1Dy6A_00157_cut.mp3\n",
      "Speaker: id08608, Video: QpyXTrk8bTo, Txt file: 00132\n",
      "[youtube] Extracting URL: https://www.youtube.com/watch?v=QpyXTrk8bTo\n",
      "[youtube] QpyXTrk8bTo: Downloading webpage\n",
      "[youtube] QpyXTrk8bTo: Downloading tv client config\n",
      "[youtube] QpyXTrk8bTo: Downloading player 5ae7d525\n",
      "[youtube] QpyXTrk8bTo: Downloading tv player API JSON\n",
      "[youtube] QpyXTrk8bTo: Downloading ios player API JSON\n",
      "[youtube] QpyXTrk8bTo: Downloading m3u8 information\n",
      "[info] QpyXTrk8bTo: Downloading 1 format(s): 140\n",
      "[download] Destination: id08608_4_22800_QpyXTrk8bTo_00132\n",
      "[download] 100% of    4.82MiB in 00:00:00 at 6.94MiB/s   \n",
      "[FixupM4a] Correcting container of \"id08608_4_22800_QpyXTrk8bTo_00132\"\n",
      "[ExtractAudio] Destination: id08608_4_22800_QpyXTrk8bTo_00132.mp3\n",
      "Deleting original file id08608_4_22800_QpyXTrk8bTo_00132 (pass -k to keep)\n",
      "Audio downloaded as id08608_4_22800_QpyXTrk8bTo_00132\n",
      "Trimmed audio saved as ../data/download_df_audio/id08608_4_22800_QpyXTrk8bTo_00132_cut.mp3\n",
      "Speaker: id08608, Video: 68GoBUcR4Tg, Txt file: 00014\n",
      "[youtube] Extracting URL: https://www.youtube.com/watch?v=68GoBUcR4Tg\n",
      "[youtube] 68GoBUcR4Tg: Downloading webpage\n",
      "[youtube] 68GoBUcR4Tg: Downloading tv client config\n",
      "[youtube] 68GoBUcR4Tg: Downloading player 5ae7d525\n",
      "[youtube] 68GoBUcR4Tg: Downloading tv player API JSON\n",
      "[youtube] 68GoBUcR4Tg: Downloading ios player API JSON\n",
      "[youtube] 68GoBUcR4Tg: Downloading m3u8 information\n",
      "[info] 68GoBUcR4Tg: Downloading 1 format(s): 258\n",
      "[download] Destination: id08608_5_21840_68GoBUcR4Tg_00014\n",
      "[download] 100% of   16.64MiB in 00:00:01 at 15.57MiB/s    \n",
      "[FixupM4a] Correcting container of \"id08608_5_21840_68GoBUcR4Tg_00014\"\n",
      "[ExtractAudio] Destination: id08608_5_21840_68GoBUcR4Tg_00014.mp3\n",
      "Deleting original file id08608_5_21840_68GoBUcR4Tg_00014 (pass -k to keep)\n",
      "Audio downloaded as id08608_5_21840_68GoBUcR4Tg_00014\n",
      "Trimmed audio saved as ../data/download_df_audio/id08608_5_21840_68GoBUcR4Tg_00014_cut.mp3\n",
      "Speaker: id08608, Video: tqu3CGhMOx0, Txt file: 00243\n",
      "[youtube] Extracting URL: https://www.youtube.com/watch?v=tqu3CGhMOx0\n",
      "[youtube] tqu3CGhMOx0: Downloading webpage\n",
      "[youtube] tqu3CGhMOx0: Downloading tv client config\n",
      "[youtube] tqu3CGhMOx0: Downloading player 5ae7d525\n",
      "[youtube] tqu3CGhMOx0: Downloading tv player API JSON\n",
      "[youtube] tqu3CGhMOx0: Downloading ios player API JSON\n",
      "[youtube] tqu3CGhMOx0: Downloading m3u8 information\n",
      "[info] tqu3CGhMOx0: Downloading 1 format(s): 140\n",
      "[download] Destination: id08608_6_17040_tqu3CGhMOx0_00243\n",
      "[download] 100% of    7.13MiB in 00:00:00 at 10.62MiB/s  \n",
      "[FixupM4a] Correcting container of \"id08608_6_17040_tqu3CGhMOx0_00243\"\n",
      "[ExtractAudio] Destination: id08608_6_17040_tqu3CGhMOx0_00243.mp3\n",
      "Deleting original file id08608_6_17040_tqu3CGhMOx0_00243 (pass -k to keep)\n",
      "Audio downloaded as id08608_6_17040_tqu3CGhMOx0_00243\n",
      "Trimmed audio saved as ../data/download_df_audio/id08608_6_17040_tqu3CGhMOx0_00243_cut.mp3\n",
      "Speaker: id08608, Video: CL0TH53hEpw, Txt file: 00060\n",
      "[youtube] Extracting URL: https://www.youtube.com/watch?v=CL0TH53hEpw\n",
      "[youtube] CL0TH53hEpw: Downloading webpage\n",
      "[youtube] CL0TH53hEpw: Downloading tv client config\n",
      "[youtube] CL0TH53hEpw: Downloading player 5ae7d525\n",
      "[youtube] CL0TH53hEpw: Downloading tv player API JSON\n",
      "[youtube] CL0TH53hEpw: Downloading ios player API JSON\n",
      "[youtube] CL0TH53hEpw: Downloading m3u8 information\n",
      "[info] CL0TH53hEpw: Downloading 1 format(s): 140\n",
      "[download] Destination: id08608_7_15480_CL0TH53hEpw_00060\n",
      "[download] 100% of    5.91MiB in 00:00:00 at 6.38MiB/s   \n",
      "[FixupM4a] Correcting container of \"id08608_7_15480_CL0TH53hEpw_00060\"\n",
      "[ExtractAudio] Destination: id08608_7_15480_CL0TH53hEpw_00060.mp3\n",
      "Deleting original file id08608_7_15480_CL0TH53hEpw_00060 (pass -k to keep)\n",
      "Audio downloaded as id08608_7_15480_CL0TH53hEpw_00060\n",
      "Trimmed audio saved as ../data/download_df_audio/id08608_7_15480_CL0TH53hEpw_00060_cut.mp3\n",
      "Speaker: id08608, Video: 8YzOxtDt9KE, Txt file: 00030\n",
      "[youtube] Extracting URL: https://www.youtube.com/watch?v=8YzOxtDt9KE\n",
      "[youtube] 8YzOxtDt9KE: Downloading webpage\n",
      "[youtube] 8YzOxtDt9KE: Downloading tv client config\n",
      "[youtube] 8YzOxtDt9KE: Downloading player 5ae7d525\n",
      "[youtube] 8YzOxtDt9KE: Downloading tv player API JSON\n",
      "[youtube] 8YzOxtDt9KE: Downloading ios player API JSON\n",
      "[youtube] 8YzOxtDt9KE: Downloading m3u8 information\n",
      "[info] 8YzOxtDt9KE: Downloading 1 format(s): 251\n",
      "[download] Destination: id08608_8_15440_8YzOxtDt9KE_00030\n",
      "[download] 100% of    5.79MiB in 00:00:00 at 9.14MiB/s   \n",
      "[ExtractAudio] Destination: id08608_8_15440_8YzOxtDt9KE_00030.mp3\n",
      "Deleting original file id08608_8_15440_8YzOxtDt9KE_00030 (pass -k to keep)\n",
      "Audio downloaded as id08608_8_15440_8YzOxtDt9KE_00030\n",
      "Trimmed audio saved as ../data/download_df_audio/id08608_8_15440_8YzOxtDt9KE_00030_cut.mp3\n",
      "Speaker: id08608, Video: a4G5It1Dy6A, Txt file: 00159\n",
      "[youtube] Extracting URL: https://www.youtube.com/watch?v=a4G5It1Dy6A\n",
      "[youtube] a4G5It1Dy6A: Downloading webpage\n",
      "[youtube] a4G5It1Dy6A: Downloading tv client config\n",
      "[youtube] a4G5It1Dy6A: Downloading player 5ae7d525\n",
      "[youtube] a4G5It1Dy6A: Downloading tv player API JSON\n",
      "[youtube] a4G5It1Dy6A: Downloading ios player API JSON\n",
      "[youtube] a4G5It1Dy6A: Downloading m3u8 information\n",
      "[info] a4G5It1Dy6A: Downloading 1 format(s): 251\n",
      "[download] Destination: id08608_9_15280_a4G5It1Dy6A_00159\n",
      "[download] 100% of    2.24MiB in 00:00:00 at 10.39MiB/s  \n",
      "[ExtractAudio] Destination: id08608_9_15280_a4G5It1Dy6A_00159.mp3\n",
      "Deleting original file id08608_9_15280_a4G5It1Dy6A_00159 (pass -k to keep)\n",
      "Audio downloaded as id08608_9_15280_a4G5It1Dy6A_00159\n",
      "Trimmed audio saved as ../data/download_df_audio/id08608_9_15280_a4G5It1Dy6A_00159_cut.mp3\n",
      "Speaker: id08612, Video: yfE-Qeu1rl0, Txt file: 00071\n",
      "[youtube] Extracting URL: https://www.youtube.com/watch?v=yfE-Qeu1rl0\n",
      "[youtube] yfE-Qeu1rl0: Downloading webpage\n",
      "[youtube] yfE-Qeu1rl0: Downloading tv client config\n",
      "[youtube] yfE-Qeu1rl0: Downloading player 5ae7d525\n",
      "[youtube] yfE-Qeu1rl0: Downloading tv player API JSON\n",
      "[youtube] yfE-Qeu1rl0: Downloading ios player API JSON\n",
      "[youtube] yfE-Qeu1rl0: Downloading m3u8 information\n",
      "[info] yfE-Qeu1rl0: Downloading 1 format(s): 140\n",
      "[download] Destination: id08612_2_22440_yfE-Qeu1rl0_00071\n",
      "[download] 100% of    4.31MiB in 00:00:01 at 3.38MiB/s   \n",
      "[FixupM4a] Correcting container of \"id08612_2_22440_yfE-Qeu1rl0_00071\"\n",
      "[ExtractAudio] Destination: id08612_2_22440_yfE-Qeu1rl0_00071.mp3\n",
      "Deleting original file id08612_2_22440_yfE-Qeu1rl0_00071 (pass -k to keep)\n",
      "Audio downloaded as id08612_2_22440_yfE-Qeu1rl0_00071\n",
      "Trimmed audio saved as ../data/download_df_audio/id08612_2_22440_yfE-Qeu1rl0_00071_cut.mp3\n",
      "Speaker: id08612, Video: aqIqfAG837o, Txt file: 00036\n",
      "[youtube] Extracting URL: https://www.youtube.com/watch?v=aqIqfAG837o\n",
      "[youtube] aqIqfAG837o: Downloading webpage\n",
      "[youtube] aqIqfAG837o: Downloading tv client config\n",
      "[youtube] aqIqfAG837o: Downloading player 5ae7d525\n",
      "[youtube] aqIqfAG837o: Downloading tv player API JSON\n",
      "[youtube] aqIqfAG837o: Downloading ios player API JSON\n",
      "[youtube] aqIqfAG837o: Downloading m3u8 information\n",
      "[info] aqIqfAG837o: Downloading 1 format(s): 251\n",
      "[download] Destination: id08612_3_20880_aqIqfAG837o_00036\n",
      "[download] 100% of    2.25MiB in 00:00:00 at 4.91MiB/s   \n",
      "[ExtractAudio] Destination: id08612_3_20880_aqIqfAG837o_00036.mp3\n",
      "Deleting original file id08612_3_20880_aqIqfAG837o_00036 (pass -k to keep)\n",
      "Audio downloaded as id08612_3_20880_aqIqfAG837o_00036\n",
      "Trimmed audio saved as ../data/download_df_audio/id08612_3_20880_aqIqfAG837o_00036_cut.mp3\n",
      "Speaker: id08612, Video: uPGub6MlOH8, Txt file: 00043\n",
      "[youtube] Extracting URL: https://www.youtube.com/watch?v=uPGub6MlOH8\n",
      "[youtube] uPGub6MlOH8: Downloading webpage\n",
      "[youtube] uPGub6MlOH8: Downloading tv client config\n",
      "[youtube] uPGub6MlOH8: Downloading player 5ae7d525\n",
      "[youtube] uPGub6MlOH8: Downloading tv player API JSON\n",
      "[youtube] uPGub6MlOH8: Downloading ios player API JSON\n",
      "[youtube] uPGub6MlOH8: Downloading m3u8 information\n",
      "[info] uPGub6MlOH8: Downloading 1 format(s): 251\n",
      "[download] Destination: id08612_4_19120_uPGub6MlOH8_00043\n",
      "[download] 100% of    4.83MiB in 00:00:01 at 3.53MiB/s   \n",
      "[ExtractAudio] Destination: id08612_4_19120_uPGub6MlOH8_00043.mp3\n",
      "Deleting original file id08612_4_19120_uPGub6MlOH8_00043 (pass -k to keep)\n",
      "Audio downloaded as id08612_4_19120_uPGub6MlOH8_00043\n",
      "Trimmed audio saved as ../data/download_df_audio/id08612_4_19120_uPGub6MlOH8_00043_cut.mp3\n",
      "Speaker: id08612, Video: yfE-Qeu1rl0, Txt file: 00078\n",
      "[youtube] Extracting URL: https://www.youtube.com/watch?v=yfE-Qeu1rl0\n",
      "[youtube] yfE-Qeu1rl0: Downloading webpage\n",
      "[youtube] yfE-Qeu1rl0: Downloading tv client config\n",
      "[youtube] yfE-Qeu1rl0: Downloading player 5ae7d525\n",
      "[youtube] yfE-Qeu1rl0: Downloading tv player API JSON\n",
      "[youtube] yfE-Qeu1rl0: Downloading ios player API JSON\n",
      "[youtube] yfE-Qeu1rl0: Downloading m3u8 information\n",
      "[info] yfE-Qeu1rl0: Downloading 1 format(s): 140\n",
      "[download] Destination: id08612_5_18000_yfE-Qeu1rl0_00078\n",
      "[download] 100% of    4.31MiB in 00:00:00 at 5.48MiB/s     \n",
      "[FixupM4a] Correcting container of \"id08612_5_18000_yfE-Qeu1rl0_00078\"\n",
      "[ExtractAudio] Destination: id08612_5_18000_yfE-Qeu1rl0_00078.mp3\n",
      "Deleting original file id08612_5_18000_yfE-Qeu1rl0_00078 (pass -k to keep)\n",
      "Audio downloaded as id08612_5_18000_yfE-Qeu1rl0_00078\n",
      "Trimmed audio saved as ../data/download_df_audio/id08612_5_18000_yfE-Qeu1rl0_00078_cut.mp3\n",
      "Speaker: id08612, Video: uQ1FMo0VWOY, Txt file: 00062\n",
      "[youtube] Extracting URL: https://www.youtube.com/watch?v=uQ1FMo0VWOY\n",
      "[youtube] uQ1FMo0VWOY: Downloading webpage\n",
      "[youtube] uQ1FMo0VWOY: Downloading tv client config\n",
      "[youtube] uQ1FMo0VWOY: Downloading player 5ae7d525\n",
      "[youtube] uQ1FMo0VWOY: Downloading tv player API JSON\n",
      "[youtube] uQ1FMo0VWOY: Downloading ios player API JSON\n",
      "[youtube] uQ1FMo0VWOY: Downloading m3u8 information\n",
      "[info] uQ1FMo0VWOY: Downloading 1 format(s): 251\n",
      "[download] Destination: id08612_6_17320_uQ1FMo0VWOY_00062\n",
      "[download] 100% of    3.76MiB in 00:00:02 at 1.67MiB/s   \n",
      "[ExtractAudio] Destination: id08612_6_17320_uQ1FMo0VWOY_00062.mp3\n",
      "Deleting original file id08612_6_17320_uQ1FMo0VWOY_00062 (pass -k to keep)\n",
      "Audio downloaded as id08612_6_17320_uQ1FMo0VWOY_00062\n",
      "Trimmed audio saved as ../data/download_df_audio/id08612_6_17320_uQ1FMo0VWOY_00062_cut.mp3\n",
      "Speaker: id08612, Video: yfE-Qeu1rl0, Txt file: 00069\n",
      "[youtube] Extracting URL: https://www.youtube.com/watch?v=yfE-Qeu1rl0\n",
      "[youtube] yfE-Qeu1rl0: Downloading webpage\n",
      "[youtube] yfE-Qeu1rl0: Downloading tv client config\n",
      "[youtube] yfE-Qeu1rl0: Downloading player 5ae7d525\n",
      "[youtube] yfE-Qeu1rl0: Downloading tv player API JSON\n",
      "[youtube] yfE-Qeu1rl0: Downloading ios player API JSON\n",
      "[youtube] yfE-Qeu1rl0: Downloading m3u8 information\n",
      "[info] yfE-Qeu1rl0: Downloading 1 format(s): 140\n",
      "[download] Destination: id08612_7_15400_yfE-Qeu1rl0_00069\n",
      "[download] 100% of    4.31MiB in 00:00:00 at 13.30MiB/s  \n",
      "[FixupM4a] Correcting container of \"id08612_7_15400_yfE-Qeu1rl0_00069\"\n",
      "[ExtractAudio] Destination: id08612_7_15400_yfE-Qeu1rl0_00069.mp3\n",
      "Deleting original file id08612_7_15400_yfE-Qeu1rl0_00069 (pass -k to keep)\n",
      "Audio downloaded as id08612_7_15400_yfE-Qeu1rl0_00069\n",
      "Trimmed audio saved as ../data/download_df_audio/id08612_7_15400_yfE-Qeu1rl0_00069_cut.mp3\n",
      "Speaker: id08612, Video: TVL22cCUmzY, Txt file: 00023\n",
      "[youtube] Extracting URL: https://www.youtube.com/watch?v=TVL22cCUmzY\n",
      "[youtube] TVL22cCUmzY: Downloading webpage\n",
      "[youtube] TVL22cCUmzY: Downloading tv client config\n",
      "[youtube] TVL22cCUmzY: Downloading player 5ae7d525\n",
      "[youtube] TVL22cCUmzY: Downloading tv player API JSON\n",
      "[youtube] TVL22cCUmzY: Downloading ios player API JSON\n",
      "[youtube] TVL22cCUmzY: Downloading m3u8 information\n",
      "[info] TVL22cCUmzY: Downloading 1 format(s): 140\n",
      "[download] Destination: id08612_8_13400_TVL22cCUmzY_00023\n",
      "[download] 100% of    6.75MiB in 00:00:02 at 3.17MiB/s   \n",
      "[FixupM4a] Correcting container of \"id08612_8_13400_TVL22cCUmzY_00023\"\n",
      "[ExtractAudio] Destination: id08612_8_13400_TVL22cCUmzY_00023.mp3\n",
      "Deleting original file id08612_8_13400_TVL22cCUmzY_00023 (pass -k to keep)\n",
      "Audio downloaded as id08612_8_13400_TVL22cCUmzY_00023\n",
      "Trimmed audio saved as ../data/download_df_audio/id08612_8_13400_TVL22cCUmzY_00023_cut.mp3\n",
      "Speaker: id08612, Video: 2G5IBh9Ww2c, Txt file: 00004\n",
      "[youtube] Extracting URL: https://www.youtube.com/watch?v=2G5IBh9Ww2c\n",
      "[youtube] 2G5IBh9Ww2c: Downloading webpage\n",
      "[youtube] 2G5IBh9Ww2c: Downloading tv client config\n",
      "[youtube] 2G5IBh9Ww2c: Downloading player 5ae7d525\n",
      "[youtube] 2G5IBh9Ww2c: Downloading tv player API JSON\n",
      "[youtube] 2G5IBh9Ww2c: Downloading ios player API JSON\n",
      "[youtube] 2G5IBh9Ww2c: Downloading m3u8 information\n",
      "[info] 2G5IBh9Ww2c: Downloading 1 format(s): 251\n",
      "[download] Destination: id08612_9_11880_2G5IBh9Ww2c_00004\n",
      "[download] 100% of    2.60MiB in 00:00:00 at 6.62MiB/s   \n",
      "[ExtractAudio] Destination: id08612_9_11880_2G5IBh9Ww2c_00004.mp3\n",
      "Deleting original file id08612_9_11880_2G5IBh9Ww2c_00004 (pass -k to keep)\n",
      "Audio downloaded as id08612_9_11880_2G5IBh9Ww2c_00004\n",
      "Trimmed audio saved as ../data/download_df_audio/id08612_9_11880_2G5IBh9Ww2c_00004_cut.mp3\n",
      "Speaker: id08642, Video: rGVtvVCiC_0, Txt file: 00104\n",
      "[youtube] Extracting URL: https://www.youtube.com/watch?v=rGVtvVCiC_0\n",
      "[youtube] rGVtvVCiC_0: Downloading webpage\n",
      "[youtube] rGVtvVCiC_0: Downloading tv client config\n",
      "[youtube] rGVtvVCiC_0: Downloading player 5ae7d525\n",
      "[youtube] rGVtvVCiC_0: Downloading tv player API JSON\n",
      "[youtube] rGVtvVCiC_0: Downloading ios player API JSON\n",
      "[youtube] rGVtvVCiC_0: Downloading m3u8 information\n",
      "[info] rGVtvVCiC_0: Downloading 1 format(s): 251\n",
      "[download] Destination: id08642_2_14560_rGVtvVCiC_0_00104\n",
      "[download] 100% of    1.29MiB in 00:00:00 at 2.83MiB/s   \n",
      "[ExtractAudio] Destination: id08642_2_14560_rGVtvVCiC_0_00104.mp3\n",
      "Deleting original file id08642_2_14560_rGVtvVCiC_0_00104 (pass -k to keep)\n",
      "Audio downloaded as id08642_2_14560_rGVtvVCiC_0_00104\n",
      "Trimmed audio saved as ../data/download_df_audio/id08642_2_14560_rGVtvVCiC_0_00104_cut.mp3\n",
      "Speaker: id08642, Video: YD2gllIEOkg, Txt file: 00038\n",
      "[youtube] Extracting URL: https://www.youtube.com/watch?v=YD2gllIEOkg\n",
      "[youtube] YD2gllIEOkg: Downloading webpage\n",
      "[youtube] YD2gllIEOkg: Downloading tv client config\n",
      "[youtube] YD2gllIEOkg: Downloading player 5ae7d525\n",
      "[youtube] YD2gllIEOkg: Downloading tv player API JSON\n",
      "[youtube] YD2gllIEOkg: Downloading ios player API JSON\n",
      "[youtube] YD2gllIEOkg: Downloading m3u8 information\n",
      "[info] YD2gllIEOkg: Downloading 1 format(s): 251\n",
      "[download] Destination: id08642_3_13680_YD2gllIEOkg_00038\n",
      "[download] 100% of    2.41MiB in 00:00:00 at 6.01MiB/s   \n",
      "[ExtractAudio] Destination: id08642_3_13680_YD2gllIEOkg_00038.mp3\n",
      "Deleting original file id08642_3_13680_YD2gllIEOkg_00038 (pass -k to keep)\n",
      "Audio downloaded as id08642_3_13680_YD2gllIEOkg_00038\n",
      "Trimmed audio saved as ../data/download_df_audio/id08642_3_13680_YD2gllIEOkg_00038_cut.mp3\n",
      "Speaker: id08642, Video: JmYItTdWD48, Txt file: 00019\n",
      "[youtube] Extracting URL: https://www.youtube.com/watch?v=JmYItTdWD48\n",
      "[youtube] JmYItTdWD48: Downloading webpage\n",
      "[youtube] JmYItTdWD48: Downloading tv client config\n",
      "[youtube] JmYItTdWD48: Downloading player 5ae7d525\n",
      "[youtube] JmYItTdWD48: Downloading tv player API JSON\n",
      "[youtube] JmYItTdWD48: Downloading ios player API JSON\n",
      "[youtube] JmYItTdWD48: Downloading m3u8 information\n",
      "[info] JmYItTdWD48: Downloading 1 format(s): 251\n",
      "[download] Destination: id08642_4_12880_JmYItTdWD48_00019\n",
      "[download] 100% of    1.96MiB in 00:00:00 at 2.68MiB/s   \n",
      "[ExtractAudio] Destination: id08642_4_12880_JmYItTdWD48_00019.mp3\n",
      "Deleting original file id08642_4_12880_JmYItTdWD48_00019 (pass -k to keep)\n",
      "Audio downloaded as id08642_4_12880_JmYItTdWD48_00019\n",
      "Trimmed audio saved as ../data/download_df_audio/id08642_4_12880_JmYItTdWD48_00019_cut.mp3\n",
      "Speaker: id08642, Video: 3ftQR8Z-WrE, Txt file: 00008\n"
     ]
    },
    {
     "name": "stderr",
     "output_type": "stream",
     "text": [
      "ERROR: [youtube] 3ftQR8Z-WrE: Video unavailable. This video is no longer available because the YouTube account associated with this video has been terminated.\n"
     ]
    },
    {
     "name": "stdout",
     "output_type": "stream",
     "text": [
      "Speaker: id08642, Video: bQuImtoOJ9k, Txt file: 00062\n"
     ]
    },
    {
     "name": "stderr",
     "output_type": "stream",
     "text": [
      "ERROR: [youtube] bQuImtoOJ9k: Video unavailable\n"
     ]
    },
    {
     "name": "stdout",
     "output_type": "stream",
     "text": [
      "Speaker: id08642, Video: YD2gllIEOkg, Txt file: 00043\n",
      "[youtube] Extracting URL: https://www.youtube.com/watch?v=YD2gllIEOkg\n",
      "[youtube] YD2gllIEOkg: Downloading webpage\n",
      "[youtube] YD2gllIEOkg: Downloading tv client config\n",
      "[youtube] YD2gllIEOkg: Downloading player 5ae7d525\n",
      "[youtube] YD2gllIEOkg: Downloading tv player API JSON\n",
      "[youtube] YD2gllIEOkg: Downloading ios player API JSON\n",
      "[youtube] YD2gllIEOkg: Downloading m3u8 information\n",
      "[info] YD2gllIEOkg: Downloading 1 format(s): 251\n",
      "[download] Destination: id08642_5_10320_YD2gllIEOkg_00043\n",
      "[download] 100% of    2.41MiB in 00:00:00 at 6.30MiB/s   \n",
      "[ExtractAudio] Destination: id08642_5_10320_YD2gllIEOkg_00043.mp3\n",
      "Deleting original file id08642_5_10320_YD2gllIEOkg_00043 (pass -k to keep)\n",
      "Audio downloaded as id08642_5_10320_YD2gllIEOkg_00043\n",
      "Trimmed audio saved as ../data/download_df_audio/id08642_5_10320_YD2gllIEOkg_00043_cut.mp3\n",
      "Speaker: id08642, Video: cbaACgfRbd4, Txt file: 00074\n",
      "[youtube] Extracting URL: https://www.youtube.com/watch?v=cbaACgfRbd4\n",
      "[youtube] cbaACgfRbd4: Downloading webpage\n",
      "[youtube] cbaACgfRbd4: Downloading tv client config\n",
      "[youtube] cbaACgfRbd4: Downloading player 5ae7d525\n",
      "[youtube] cbaACgfRbd4: Downloading tv player API JSON\n",
      "[youtube] cbaACgfRbd4: Downloading ios player API JSON\n",
      "[youtube] cbaACgfRbd4: Downloading m3u8 information\n",
      "[info] cbaACgfRbd4: Downloading 1 format(s): 251\n",
      "[download] Destination: id08642_6_10160_cbaACgfRbd4_00074\n",
      "[download] 100% of    4.70MiB in 00:00:00 at 4.85MiB/s   \n",
      "[ExtractAudio] Destination: id08642_6_10160_cbaACgfRbd4_00074.mp3\n",
      "Deleting original file id08642_6_10160_cbaACgfRbd4_00074 (pass -k to keep)\n",
      "Audio downloaded as id08642_6_10160_cbaACgfRbd4_00074\n",
      "Trimmed audio saved as ../data/download_df_audio/id08642_6_10160_cbaACgfRbd4_00074_cut.mp3\n",
      "Speaker: id08642, Video: qksmOok10Tc, Txt file: 00097\n",
      "[youtube] Extracting URL: https://www.youtube.com/watch?v=qksmOok10Tc\n",
      "[youtube] qksmOok10Tc: Downloading webpage\n",
      "[youtube] qksmOok10Tc: Downloading tv client config\n",
      "[youtube] qksmOok10Tc: Downloading player 5ae7d525\n",
      "[youtube] qksmOok10Tc: Downloading tv player API JSON\n",
      "[youtube] qksmOok10Tc: Downloading ios player API JSON\n",
      "[youtube] qksmOok10Tc: Downloading m3u8 information\n",
      "[info] qksmOok10Tc: Downloading 1 format(s): 140\n",
      "[download] Destination: id08642_7_9960_qksmOok10Tc_00097\n",
      "[download] 100% of    9.91MiB in 00:00:02 at 4.17MiB/s     \n",
      "[FixupM4a] Correcting container of \"id08642_7_9960_qksmOok10Tc_00097\"\n",
      "[ExtractAudio] Destination: id08642_7_9960_qksmOok10Tc_00097.mp3\n",
      "Deleting original file id08642_7_9960_qksmOok10Tc_00097 (pass -k to keep)\n",
      "Audio downloaded as id08642_7_9960_qksmOok10Tc_00097\n",
      "Trimmed audio saved as ../data/download_df_audio/id08642_7_9960_qksmOok10Tc_00097_cut.mp3\n",
      "Speaker: id08642, Video: cbaACgfRbd4, Txt file: 00075\n",
      "[youtube] Extracting URL: https://www.youtube.com/watch?v=cbaACgfRbd4\n",
      "[youtube] cbaACgfRbd4: Downloading webpage\n",
      "[youtube] cbaACgfRbd4: Downloading tv client config\n",
      "[youtube] cbaACgfRbd4: Downloading player 5ae7d525\n",
      "[youtube] cbaACgfRbd4: Downloading tv player API JSON\n",
      "[youtube] cbaACgfRbd4: Downloading ios player API JSON\n",
      "[youtube] cbaACgfRbd4: Downloading m3u8 information\n",
      "[info] cbaACgfRbd4: Downloading 1 format(s): 251\n",
      "[download] Destination: id08642_8_9840_cbaACgfRbd4_00075\n",
      "[download] 100% of    4.70MiB in 00:00:00 at 9.86MiB/s   \n",
      "[ExtractAudio] Destination: id08642_8_9840_cbaACgfRbd4_00075.mp3\n",
      "Deleting original file id08642_8_9840_cbaACgfRbd4_00075 (pass -k to keep)\n",
      "Audio downloaded as id08642_8_9840_cbaACgfRbd4_00075\n",
      "Trimmed audio saved as ../data/download_df_audio/id08642_8_9840_cbaACgfRbd4_00075_cut.mp3\n",
      "Speaker: id08642, Video: WHWpdcbPRp4, Txt file: 00032\n",
      "[youtube] Extracting URL: https://www.youtube.com/watch?v=WHWpdcbPRp4\n",
      "[youtube] WHWpdcbPRp4: Downloading webpage\n",
      "[youtube] WHWpdcbPRp4: Downloading tv client config\n",
      "[youtube] WHWpdcbPRp4: Downloading player 5ae7d525\n",
      "[youtube] WHWpdcbPRp4: Downloading tv player API JSON\n",
      "[youtube] WHWpdcbPRp4: Downloading ios player API JSON\n",
      "[youtube] WHWpdcbPRp4: Downloading m3u8 information\n",
      "[info] WHWpdcbPRp4: Downloading 1 format(s): 251\n",
      "[download] Destination: id08642_9_9840_WHWpdcbPRp4_00032\n",
      "[download] 100% of    1.21MiB in 00:00:00 at 4.82MiB/s   \n",
      "[ExtractAudio] Destination: id08642_9_9840_WHWpdcbPRp4_00032.mp3\n",
      "Deleting original file id08642_9_9840_WHWpdcbPRp4_00032 (pass -k to keep)\n",
      "Audio downloaded as id08642_9_9840_WHWpdcbPRp4_00032\n",
      "Trimmed audio saved as ../data/download_df_audio/id08642_9_9840_WHWpdcbPRp4_00032_cut.mp3\n",
      "Speaker: id08659, Video: 1CwDdr1ioXU, Txt file: 00003\n",
      "[youtube] Extracting URL: https://www.youtube.com/watch?v=1CwDdr1ioXU\n",
      "[youtube] 1CwDdr1ioXU: Downloading webpage\n",
      "[youtube] 1CwDdr1ioXU: Downloading tv client config\n",
      "[youtube] 1CwDdr1ioXU: Downloading player 5ae7d525\n",
      "[youtube] 1CwDdr1ioXU: Downloading tv player API JSON\n",
      "[youtube] 1CwDdr1ioXU: Downloading ios player API JSON\n",
      "[youtube] 1CwDdr1ioXU: Downloading m3u8 information\n",
      "[info] 1CwDdr1ioXU: Downloading 1 format(s): 140\n",
      "[download] Destination: id08659_2_19400_1CwDdr1ioXU_00003\n",
      "[download] 100% of    1.95MiB in 00:00:00 at 3.47MiB/s   \n",
      "[FixupM4a] Correcting container of \"id08659_2_19400_1CwDdr1ioXU_00003\"\n",
      "[ExtractAudio] Destination: id08659_2_19400_1CwDdr1ioXU_00003.mp3\n",
      "Deleting original file id08659_2_19400_1CwDdr1ioXU_00003 (pass -k to keep)\n",
      "Audio downloaded as id08659_2_19400_1CwDdr1ioXU_00003\n",
      "Trimmed audio saved as ../data/download_df_audio/id08659_2_19400_1CwDdr1ioXU_00003_cut.mp3\n",
      "Speaker: id08659, Video: iYs7IHjqXZE, Txt file: 00133\n",
      "[youtube] Extracting URL: https://www.youtube.com/watch?v=iYs7IHjqXZE\n",
      "[youtube] iYs7IHjqXZE: Downloading webpage\n",
      "[youtube] iYs7IHjqXZE: Downloading tv client config\n",
      "[youtube] iYs7IHjqXZE: Downloading player 5ae7d525\n",
      "[youtube] iYs7IHjqXZE: Downloading tv player API JSON\n",
      "[youtube] iYs7IHjqXZE: Downloading ios player API JSON\n",
      "[youtube] iYs7IHjqXZE: Downloading m3u8 information\n",
      "[info] iYs7IHjqXZE: Downloading 1 format(s): 140\n",
      "[download] Destination: id08659_3_16239_iYs7IHjqXZE_00133\n",
      "[download] 100% of    7.18MiB in 00:00:01 at 5.59MiB/s   \n",
      "[FixupM4a] Correcting container of \"id08659_3_16239_iYs7IHjqXZE_00133\"\n",
      "[ExtractAudio] Destination: id08659_3_16239_iYs7IHjqXZE_00133.mp3\n",
      "Deleting original file id08659_3_16239_iYs7IHjqXZE_00133 (pass -k to keep)\n",
      "Audio downloaded as id08659_3_16239_iYs7IHjqXZE_00133\n",
      "Trimmed audio saved as ../data/download_df_audio/id08659_3_16239_iYs7IHjqXZE_00133_cut.mp3\n",
      "Speaker: id08659, Video: qwHpN7bl7As, Txt file: 00161\n",
      "[youtube] Extracting URL: https://www.youtube.com/watch?v=qwHpN7bl7As\n",
      "[youtube] qwHpN7bl7As: Downloading webpage\n",
      "[youtube] qwHpN7bl7As: Downloading tv client config\n",
      "[youtube] qwHpN7bl7As: Downloading player 5ae7d525\n",
      "[youtube] qwHpN7bl7As: Downloading tv player API JSON\n",
      "[youtube] qwHpN7bl7As: Downloading ios player API JSON\n",
      "[youtube] qwHpN7bl7As: Downloading m3u8 information\n",
      "[info] qwHpN7bl7As: Downloading 1 format(s): 140\n",
      "[download] Destination: id08659_4_16000_qwHpN7bl7As_00161\n",
      "[download] 100% of    4.09MiB in 00:00:01 at 2.17MiB/s   \n",
      "[FixupM4a] Correcting container of \"id08659_4_16000_qwHpN7bl7As_00161\"\n",
      "[ExtractAudio] Destination: id08659_4_16000_qwHpN7bl7As_00161.mp3\n",
      "Deleting original file id08659_4_16000_qwHpN7bl7As_00161 (pass -k to keep)\n",
      "Audio downloaded as id08659_4_16000_qwHpN7bl7As_00161\n",
      "Trimmed audio saved as ../data/download_df_audio/id08659_4_16000_qwHpN7bl7As_00161_cut.mp3\n",
      "Speaker: id08659, Video: 5fSJkWbtDy8, Txt file: 00018\n",
      "[youtube] Extracting URL: https://www.youtube.com/watch?v=5fSJkWbtDy8\n",
      "[youtube] 5fSJkWbtDy8: Downloading webpage\n",
      "[youtube] 5fSJkWbtDy8: Downloading tv client config\n",
      "[youtube] 5fSJkWbtDy8: Downloading player 5ae7d525\n",
      "[youtube] 5fSJkWbtDy8: Downloading tv player API JSON\n",
      "[youtube] 5fSJkWbtDy8: Downloading ios player API JSON\n",
      "[youtube] 5fSJkWbtDy8: Downloading m3u8 information\n",
      "[info] 5fSJkWbtDy8: Downloading 1 format(s): 251\n",
      "[download] Destination: id08659_5_15040_5fSJkWbtDy8_00018\n",
      "[download] 100% of    3.72MiB in 00:00:00 at 4.55MiB/s   \n",
      "[ExtractAudio] Destination: id08659_5_15040_5fSJkWbtDy8_00018.mp3\n",
      "Deleting original file id08659_5_15040_5fSJkWbtDy8_00018 (pass -k to keep)\n",
      "Audio downloaded as id08659_5_15040_5fSJkWbtDy8_00018\n",
      "Trimmed audio saved as ../data/download_df_audio/id08659_5_15040_5fSJkWbtDy8_00018_cut.mp3\n",
      "Speaker: id08659, Video: T4xlX5Aloj0, Txt file: 00075\n",
      "[youtube] Extracting URL: https://www.youtube.com/watch?v=T4xlX5Aloj0\n",
      "[youtube] T4xlX5Aloj0: Downloading webpage\n",
      "[youtube] T4xlX5Aloj0: Downloading tv client config\n",
      "[youtube] T4xlX5Aloj0: Downloading player 5ae7d525\n",
      "[youtube] T4xlX5Aloj0: Downloading tv player API JSON\n",
      "[youtube] T4xlX5Aloj0: Downloading ios player API JSON\n",
      "[youtube] T4xlX5Aloj0: Downloading m3u8 information\n",
      "[info] T4xlX5Aloj0: Downloading 1 format(s): 140\n",
      "[download] Destination: id08659_6_14880_T4xlX5Aloj0_00075\n",
      "[download] 100% of    4.01MiB in 00:00:01 at 2.17MiB/s   \n",
      "[FixupM4a] Correcting container of \"id08659_6_14880_T4xlX5Aloj0_00075\"\n",
      "[ExtractAudio] Destination: id08659_6_14880_T4xlX5Aloj0_00075.mp3\n",
      "Deleting original file id08659_6_14880_T4xlX5Aloj0_00075 (pass -k to keep)\n",
      "Audio downloaded as id08659_6_14880_T4xlX5Aloj0_00075\n",
      "Trimmed audio saved as ../data/download_df_audio/id08659_6_14880_T4xlX5Aloj0_00075_cut.mp3\n",
      "Speaker: id08659, Video: 5fSJkWbtDy8, Txt file: 00017\n",
      "[youtube] Extracting URL: https://www.youtube.com/watch?v=5fSJkWbtDy8\n",
      "[youtube] 5fSJkWbtDy8: Downloading webpage\n",
      "[youtube] 5fSJkWbtDy8: Downloading tv client config\n",
      "[youtube] 5fSJkWbtDy8: Downloading player 5ae7d525\n",
      "[youtube] 5fSJkWbtDy8: Downloading tv player API JSON\n",
      "[youtube] 5fSJkWbtDy8: Downloading ios player API JSON\n",
      "[youtube] 5fSJkWbtDy8: Downloading m3u8 information\n",
      "[info] 5fSJkWbtDy8: Downloading 1 format(s): 251\n",
      "[download] Destination: id08659_7_14720_5fSJkWbtDy8_00017\n",
      "[download] 100% of    3.72MiB in 00:00:00 at 7.21MiB/s   \n",
      "[ExtractAudio] Destination: id08659_7_14720_5fSJkWbtDy8_00017.mp3\n",
      "Deleting original file id08659_7_14720_5fSJkWbtDy8_00017 (pass -k to keep)\n",
      "Audio downloaded as id08659_7_14720_5fSJkWbtDy8_00017\n",
      "Trimmed audio saved as ../data/download_df_audio/id08659_7_14720_5fSJkWbtDy8_00017_cut.mp3\n",
      "Speaker: id08659, Video: iYs7IHjqXZE, Txt file: 00128\n",
      "[youtube] Extracting URL: https://www.youtube.com/watch?v=iYs7IHjqXZE\n",
      "[youtube] iYs7IHjqXZE: Downloading webpage\n",
      "[youtube] iYs7IHjqXZE: Downloading tv client config\n",
      "[youtube] iYs7IHjqXZE: Downloading player 5ae7d525\n",
      "[youtube] iYs7IHjqXZE: Downloading tv player API JSON\n",
      "[youtube] iYs7IHjqXZE: Downloading ios player API JSON\n",
      "[youtube] iYs7IHjqXZE: Downloading m3u8 information\n",
      "[info] iYs7IHjqXZE: Downloading 1 format(s): 140\n",
      "[download] Destination: id08659_8_14360_iYs7IHjqXZE_00128\n",
      "[download] 100% of    7.18MiB in 00:00:00 at 13.78MiB/s  \n",
      "[FixupM4a] Correcting container of \"id08659_8_14360_iYs7IHjqXZE_00128\"\n",
      "[ExtractAudio] Destination: id08659_8_14360_iYs7IHjqXZE_00128.mp3\n",
      "Deleting original file id08659_8_14360_iYs7IHjqXZE_00128 (pass -k to keep)\n",
      "Audio downloaded as id08659_8_14360_iYs7IHjqXZE_00128\n",
      "Trimmed audio saved as ../data/download_df_audio/id08659_8_14360_iYs7IHjqXZE_00128_cut.mp3\n",
      "Speaker: id08659, Video: 5fSJkWbtDy8, Txt file: 00021\n",
      "[youtube] Extracting URL: https://www.youtube.com/watch?v=5fSJkWbtDy8\n",
      "[youtube] 5fSJkWbtDy8: Downloading webpage\n",
      "[youtube] 5fSJkWbtDy8: Downloading tv client config\n",
      "[youtube] 5fSJkWbtDy8: Downloading player 5ae7d525\n",
      "[youtube] 5fSJkWbtDy8: Downloading tv player API JSON\n",
      "[youtube] 5fSJkWbtDy8: Downloading ios player API JSON\n",
      "[youtube] 5fSJkWbtDy8: Downloading m3u8 information\n",
      "[info] 5fSJkWbtDy8: Downloading 1 format(s): 251\n",
      "[download] Destination: id08659_9_14320_5fSJkWbtDy8_00021\n",
      "[download] 100% of    3.72MiB in 00:00:00 at 12.89MiB/s  \n",
      "[ExtractAudio] Destination: id08659_9_14320_5fSJkWbtDy8_00021.mp3\n",
      "Deleting original file id08659_9_14320_5fSJkWbtDy8_00021 (pass -k to keep)\n",
      "Audio downloaded as id08659_9_14320_5fSJkWbtDy8_00021\n",
      "Trimmed audio saved as ../data/download_df_audio/id08659_9_14320_5fSJkWbtDy8_00021_cut.mp3\n",
      "Speaker: id08687, Video: LLXE4gTmM20, Txt file: 00005\n",
      "[youtube] Extracting URL: https://www.youtube.com/watch?v=LLXE4gTmM20\n",
      "[youtube] LLXE4gTmM20: Downloading webpage\n",
      "[youtube] LLXE4gTmM20: Downloading tv client config\n",
      "[youtube] LLXE4gTmM20: Downloading player 5ae7d525\n",
      "[youtube] LLXE4gTmM20: Downloading tv player API JSON\n",
      "[youtube] LLXE4gTmM20: Downloading ios player API JSON\n",
      "[youtube] LLXE4gTmM20: Downloading m3u8 information\n",
      "[info] LLXE4gTmM20: Downloading 1 format(s): 140\n",
      "[download] Destination: id08687_2_8080_LLXE4gTmM20_00005\n",
      "[download] 100% of    5.12MiB in 00:00:00 at 7.55MiB/s     \n",
      "[FixupM4a] Correcting container of \"id08687_2_8080_LLXE4gTmM20_00005\"\n",
      "[ExtractAudio] Destination: id08687_2_8080_LLXE4gTmM20_00005.mp3\n",
      "Deleting original file id08687_2_8080_LLXE4gTmM20_00005 (pass -k to keep)\n",
      "Audio downloaded as id08687_2_8080_LLXE4gTmM20_00005\n",
      "Trimmed audio saved as ../data/download_df_audio/id08687_2_8080_LLXE4gTmM20_00005_cut.mp3\n",
      "Speaker: id08687, Video: M-59CE8KADE, Txt file: 00006\n",
      "[youtube] Extracting URL: https://www.youtube.com/watch?v=M-59CE8KADE\n",
      "[youtube] M-59CE8KADE: Downloading webpage\n",
      "[youtube] M-59CE8KADE: Downloading tv client config\n",
      "[youtube] M-59CE8KADE: Downloading player 5ae7d525\n",
      "[youtube] M-59CE8KADE: Downloading tv player API JSON\n",
      "[youtube] M-59CE8KADE: Downloading ios player API JSON\n",
      "[youtube] M-59CE8KADE: Downloading m3u8 information\n",
      "[info] M-59CE8KADE: Downloading 1 format(s): 140\n",
      "[download] Destination: id08687_3_8000_M-59CE8KADE_00006\n",
      "[download] 100% of   17.81MiB in 00:00:02 at 7.32MiB/s     \n",
      "[FixupM4a] Correcting container of \"id08687_3_8000_M-59CE8KADE_00006\"\n",
      "[ExtractAudio] Destination: id08687_3_8000_M-59CE8KADE_00006.mp3\n",
      "Deleting original file id08687_3_8000_M-59CE8KADE_00006 (pass -k to keep)\n",
      "Audio downloaded as id08687_3_8000_M-59CE8KADE_00006\n",
      "Trimmed audio saved as ../data/download_df_audio/id08687_3_8000_M-59CE8KADE_00006_cut.mp3\n",
      "Speaker: id08687, Video: 78VdewHkLRg, Txt file: 00001\n",
      "[youtube] Extracting URL: https://www.youtube.com/watch?v=78VdewHkLRg\n",
      "[youtube] 78VdewHkLRg: Downloading webpage\n",
      "[youtube] 78VdewHkLRg: Downloading tv client config\n",
      "[youtube] 78VdewHkLRg: Downloading player 5ae7d525\n",
      "[youtube] 78VdewHkLRg: Downloading tv player API JSON\n",
      "[youtube] 78VdewHkLRg: Downloading ios player API JSON\n",
      "[youtube] 78VdewHkLRg: Downloading m3u8 information\n",
      "[info] 78VdewHkLRg: Downloading 1 format(s): 251\n",
      "[download] Destination: id08687_4_7720_78VdewHkLRg_00001\n",
      "[download] 100% of    1.87MiB in 00:00:00 at 2.98MiB/s   \n",
      "[ExtractAudio] Destination: id08687_4_7720_78VdewHkLRg_00001.mp3\n",
      "Deleting original file id08687_4_7720_78VdewHkLRg_00001 (pass -k to keep)\n",
      "Audio downloaded as id08687_4_7720_78VdewHkLRg_00001\n",
      "Trimmed audio saved as ../data/download_df_audio/id08687_4_7720_78VdewHkLRg_00001_cut.mp3\n",
      "Speaker: id08687, Video: M-59CE8KADE, Txt file: 00007\n",
      "[youtube] Extracting URL: https://www.youtube.com/watch?v=M-59CE8KADE\n",
      "[youtube] M-59CE8KADE: Downloading webpage\n",
      "[youtube] M-59CE8KADE: Downloading tv client config\n",
      "[youtube] M-59CE8KADE: Downloading player 5ae7d525\n",
      "[youtube] M-59CE8KADE: Downloading tv player API JSON\n",
      "[youtube] M-59CE8KADE: Downloading ios player API JSON\n",
      "[youtube] M-59CE8KADE: Downloading m3u8 information\n",
      "[info] M-59CE8KADE: Downloading 1 format(s): 140\n",
      "[download] Destination: id08687_5_7440_M-59CE8KADE_00007\n",
      "[download] 100% of   17.81MiB in 00:00:01 at 14.85MiB/s    \n",
      "[FixupM4a] Correcting container of \"id08687_5_7440_M-59CE8KADE_00007\"\n",
      "[ExtractAudio] Destination: id08687_5_7440_M-59CE8KADE_00007.mp3\n",
      "Deleting original file id08687_5_7440_M-59CE8KADE_00007 (pass -k to keep)\n",
      "Audio downloaded as id08687_5_7440_M-59CE8KADE_00007\n",
      "Trimmed audio saved as ../data/download_df_audio/id08687_5_7440_M-59CE8KADE_00007_cut.mp3\n",
      "Speaker: id08687, Video: cMYB_CVzX9U, Txt file: 00013\n"
     ]
    },
    {
     "name": "stderr",
     "output_type": "stream",
     "text": [
      "ERROR: [youtube] cMYB_CVzX9U: Private video. Sign in if you've been granted access to this video. Use --cookies-from-browser or --cookies for the authentication. See  https://github.com/yt-dlp/yt-dlp/wiki/FAQ#how-do-i-pass-cookies-to-yt-dlp  for how to manually pass cookies. Also see  https://github.com/yt-dlp/yt-dlp/wiki/Extractors#exporting-youtube-cookies  for tips on effectively exporting YouTube cookies\n"
     ]
    },
    {
     "name": "stdout",
     "output_type": "stream",
     "text": [
      "Speaker: id08687, Video: iK5z1ZyBTqE, Txt file: 00023\n",
      "[youtube] Extracting URL: https://www.youtube.com/watch?v=iK5z1ZyBTqE\n",
      "[youtube] iK5z1ZyBTqE: Downloading webpage\n",
      "[youtube] iK5z1ZyBTqE: Downloading tv client config\n",
      "[youtube] iK5z1ZyBTqE: Downloading player 5ae7d525\n",
      "[youtube] iK5z1ZyBTqE: Downloading tv player API JSON\n",
      "[youtube] iK5z1ZyBTqE: Downloading ios player API JSON\n",
      "[youtube] iK5z1ZyBTqE: Downloading m3u8 information\n",
      "[info] iK5z1ZyBTqE: Downloading 1 format(s): 251\n",
      "[download] Destination: id08687_6_7280_iK5z1ZyBTqE_00023\n",
      "[download] 100% of    5.65MiB in 00:00:00 at 7.36MiB/s   \n",
      "[ExtractAudio] Destination: id08687_6_7280_iK5z1ZyBTqE_00023.mp3\n",
      "Deleting original file id08687_6_7280_iK5z1ZyBTqE_00023 (pass -k to keep)\n",
      "Audio downloaded as id08687_6_7280_iK5z1ZyBTqE_00023\n",
      "Trimmed audio saved as ../data/download_df_audio/id08687_6_7280_iK5z1ZyBTqE_00023_cut.mp3\n",
      "Speaker: id08687, Video: cMYB_CVzX9U, Txt file: 00020\n"
     ]
    },
    {
     "name": "stderr",
     "output_type": "stream",
     "text": [
      "ERROR: [youtube] cMYB_CVzX9U: Private video. Sign in if you've been granted access to this video. Use --cookies-from-browser or --cookies for the authentication. See  https://github.com/yt-dlp/yt-dlp/wiki/FAQ#how-do-i-pass-cookies-to-yt-dlp  for how to manually pass cookies. Also see  https://github.com/yt-dlp/yt-dlp/wiki/Extractors#exporting-youtube-cookies  for tips on effectively exporting YouTube cookies\n"
     ]
    },
    {
     "name": "stdout",
     "output_type": "stream",
     "text": [
      "Speaker: id08687, Video: cMYB_CVzX9U, Txt file: 00017\n"
     ]
    },
    {
     "name": "stderr",
     "output_type": "stream",
     "text": [
      "ERROR: [youtube] cMYB_CVzX9U: Private video. Sign in if you've been granted access to this video. Use --cookies-from-browser or --cookies for the authentication. See  https://github.com/yt-dlp/yt-dlp/wiki/FAQ#how-do-i-pass-cookies-to-yt-dlp  for how to manually pass cookies. Also see  https://github.com/yt-dlp/yt-dlp/wiki/Extractors#exporting-youtube-cookies  for tips on effectively exporting YouTube cookies\n"
     ]
    },
    {
     "name": "stdout",
     "output_type": "stream",
     "text": [
      "Speaker: id08687, Video: M-59CE8KADE, Txt file: 00008\n",
      "[youtube] Extracting URL: https://www.youtube.com/watch?v=M-59CE8KADE\n",
      "[youtube] M-59CE8KADE: Downloading webpage\n",
      "[youtube] M-59CE8KADE: Downloading tv client config\n",
      "[youtube] M-59CE8KADE: Downloading player 5ae7d525\n",
      "[youtube] M-59CE8KADE: Downloading tv player API JSON\n",
      "[youtube] M-59CE8KADE: Downloading ios player API JSON\n",
      "[youtube] M-59CE8KADE: Downloading m3u8 information\n",
      "[info] M-59CE8KADE: Downloading 1 format(s): 140\n",
      "[download] Destination: id08687_7_7000_M-59CE8KADE_00008\n",
      "[download] 100% of   17.81MiB in 00:00:01 at 12.90MiB/s    \n",
      "[FixupM4a] Correcting container of \"id08687_7_7000_M-59CE8KADE_00008\"\n",
      "[ExtractAudio] Destination: id08687_7_7000_M-59CE8KADE_00008.mp3\n",
      "Deleting original file id08687_7_7000_M-59CE8KADE_00008 (pass -k to keep)\n",
      "Audio downloaded as id08687_7_7000_M-59CE8KADE_00008\n",
      "Trimmed audio saved as ../data/download_df_audio/id08687_7_7000_M-59CE8KADE_00008_cut.mp3\n",
      "Speaker: id08687, Video: iK5z1ZyBTqE, Txt file: 00024\n",
      "[youtube] Extracting URL: https://www.youtube.com/watch?v=iK5z1ZyBTqE\n",
      "[youtube] iK5z1ZyBTqE: Downloading webpage\n",
      "[youtube] iK5z1ZyBTqE: Downloading tv client config\n",
      "[youtube] iK5z1ZyBTqE: Downloading player 5ae7d525\n",
      "[youtube] iK5z1ZyBTqE: Downloading tv player API JSON\n",
      "[youtube] iK5z1ZyBTqE: Downloading ios player API JSON\n",
      "[youtube] iK5z1ZyBTqE: Downloading m3u8 information\n",
      "[info] iK5z1ZyBTqE: Downloading 1 format(s): 251\n",
      "[download] Destination: id08687_8_6880_iK5z1ZyBTqE_00024\n",
      "[download] 100% of    5.65MiB in 00:00:00 at 8.18MiB/s     \n",
      "[ExtractAudio] Destination: id08687_8_6880_iK5z1ZyBTqE_00024.mp3\n",
      "Deleting original file id08687_8_6880_iK5z1ZyBTqE_00024 (pass -k to keep)\n",
      "Audio downloaded as id08687_8_6880_iK5z1ZyBTqE_00024\n",
      "Trimmed audio saved as ../data/download_df_audio/id08687_8_6880_iK5z1ZyBTqE_00024_cut.mp3\n",
      "Speaker: id08687, Video: OWg122nxIgM, Txt file: 00010\n",
      "[youtube] Extracting URL: https://www.youtube.com/watch?v=OWg122nxIgM\n",
      "[youtube] OWg122nxIgM: Downloading webpage\n",
      "[youtube] OWg122nxIgM: Downloading tv client config\n",
      "[youtube] OWg122nxIgM: Downloading player 5ae7d525\n",
      "[youtube] OWg122nxIgM: Downloading tv player API JSON\n",
      "[youtube] OWg122nxIgM: Downloading ios player API JSON\n",
      "[youtube] OWg122nxIgM: Downloading m3u8 information\n",
      "[info] OWg122nxIgM: Downloading 1 format(s): 251\n",
      "[download] Destination: id08687_9_5920_OWg122nxIgM_00010\n",
      "[download] 100% of    4.42MiB in 00:00:00 at 6.44MiB/s   \n",
      "[ExtractAudio] Destination: id08687_9_5920_OWg122nxIgM_00010.mp3\n",
      "Deleting original file id08687_9_5920_OWg122nxIgM_00010 (pass -k to keep)\n",
      "Audio downloaded as id08687_9_5920_OWg122nxIgM_00010\n",
      "Trimmed audio saved as ../data/download_df_audio/id08687_9_5920_OWg122nxIgM_00010_cut.mp3\n",
      "Speaker: id08714, Video: lXJfDvRMbRo, Txt file: 00390\n"
     ]
    },
    {
     "name": "stderr",
     "output_type": "stream",
     "text": [
      "ERROR: [youtube] lXJfDvRMbRo: Private video. Sign in if you've been granted access to this video. Use --cookies-from-browser or --cookies for the authentication. See  https://github.com/yt-dlp/yt-dlp/wiki/FAQ#how-do-i-pass-cookies-to-yt-dlp  for how to manually pass cookies. Also see  https://github.com/yt-dlp/yt-dlp/wiki/Extractors#exporting-youtube-cookies  for tips on effectively exporting YouTube cookies\n"
     ]
    },
    {
     "name": "stdout",
     "output_type": "stream",
     "text": [
      "Speaker: id08714, Video: rgxgz92RCTM, Txt file: 00465\n"
     ]
    },
    {
     "name": "stderr",
     "output_type": "stream",
     "text": [
      "ERROR: [youtube] rgxgz92RCTM: Video unavailable\n"
     ]
    },
    {
     "name": "stdout",
     "output_type": "stream",
     "text": [
      "Speaker: id08714, Video: lXJfDvRMbRo, Txt file: 00396\n"
     ]
    },
    {
     "name": "stderr",
     "output_type": "stream",
     "text": [
      "ERROR: [youtube] lXJfDvRMbRo: Private video. Sign in if you've been granted access to this video. Use --cookies-from-browser or --cookies for the authentication. See  https://github.com/yt-dlp/yt-dlp/wiki/FAQ#how-do-i-pass-cookies-to-yt-dlp  for how to manually pass cookies. Also see  https://github.com/yt-dlp/yt-dlp/wiki/Extractors#exporting-youtube-cookies  for tips on effectively exporting YouTube cookies\n"
     ]
    },
    {
     "name": "stdout",
     "output_type": "stream",
     "text": [
      "Speaker: id08714, Video: 4I3GfZCZ1pk, Txt file: 00007\n",
      "[youtube] Extracting URL: https://www.youtube.com/watch?v=4I3GfZCZ1pk\n",
      "[youtube] 4I3GfZCZ1pk: Downloading webpage\n",
      "[youtube] 4I3GfZCZ1pk: Downloading tv client config\n",
      "[youtube] 4I3GfZCZ1pk: Downloading player 5ae7d525\n",
      "[youtube] 4I3GfZCZ1pk: Downloading tv player API JSON\n",
      "[youtube] 4I3GfZCZ1pk: Downloading ios player API JSON\n",
      "[youtube] 4I3GfZCZ1pk: Downloading m3u8 information\n",
      "[info] 4I3GfZCZ1pk: Downloading 1 format(s): 251\n",
      "[download] Destination: id08714_2_37160_4I3GfZCZ1pk_00007\n",
      "[download] 100% of   10.29MiB in 00:00:03 at 2.69MiB/s     \n",
      "[ExtractAudio] Destination: id08714_2_37160_4I3GfZCZ1pk_00007.mp3\n",
      "Deleting original file id08714_2_37160_4I3GfZCZ1pk_00007 (pass -k to keep)\n",
      "Audio downloaded as id08714_2_37160_4I3GfZCZ1pk_00007\n",
      "Trimmed audio saved as ../data/download_df_audio/id08714_2_37160_4I3GfZCZ1pk_00007_cut.mp3\n",
      "Speaker: id08714, Video: BqrrSRps59s, Txt file: 00159\n"
     ]
    },
    {
     "name": "stderr",
     "output_type": "stream",
     "text": [
      "ERROR: [youtube] BqrrSRps59s: Video unavailable. This video is no longer available because the YouTube account associated with this video has been terminated.\n"
     ]
    },
    {
     "name": "stdout",
     "output_type": "stream",
     "text": [
      "Speaker: id08714, Video: 9uGO8J0w6C0, Txt file: 00107\n"
     ]
    },
    {
     "name": "stderr",
     "output_type": "stream",
     "text": [
      "ERROR: [youtube] 9uGO8J0w6C0: Video unavailable. This video is no longer available because the YouTube account associated with this video has been terminated.\n"
     ]
    },
    {
     "name": "stdout",
     "output_type": "stream",
     "text": [
      "Speaker: id08714, Video: B0G8mvB534M, Txt file: 00131\n"
     ]
    },
    {
     "name": "stderr",
     "output_type": "stream",
     "text": [
      "ERROR: [youtube] B0G8mvB534M: Video unavailable. This video is no longer available because the YouTube account associated with this video has been terminated.\n"
     ]
    },
    {
     "name": "stdout",
     "output_type": "stream",
     "text": [
      "Speaker: id08714, Video: YjX_OZyWbII, Txt file: 00318\n",
      "[youtube] Extracting URL: https://www.youtube.com/watch?v=YjX_OZyWbII\n",
      "[youtube] YjX_OZyWbII: Downloading webpage\n",
      "[youtube] YjX_OZyWbII: Downloading tv client config\n",
      "[youtube] YjX_OZyWbII: Downloading player 5ae7d525\n",
      "[youtube] YjX_OZyWbII: Downloading tv player API JSON\n",
      "[youtube] YjX_OZyWbII: Downloading ios player API JSON\n",
      "[youtube] YjX_OZyWbII: Downloading m3u8 information\n",
      "[info] YjX_OZyWbII: Downloading 1 format(s): 140\n",
      "[download] Destination: id08714_3_27560_YjX_OZyWbII_00318\n",
      "[download] 100% of    5.87MiB in 00:00:00 at 9.22MiB/s   \n",
      "[FixupM4a] Correcting container of \"id08714_3_27560_YjX_OZyWbII_00318\"\n",
      "[ExtractAudio] Destination: id08714_3_27560_YjX_OZyWbII_00318.mp3\n",
      "Deleting original file id08714_3_27560_YjX_OZyWbII_00318 (pass -k to keep)\n",
      "Audio downloaded as id08714_3_27560_YjX_OZyWbII_00318\n",
      "Trimmed audio saved as ../data/download_df_audio/id08714_3_27560_YjX_OZyWbII_00318_cut.mp3\n",
      "Speaker: id08714, Video: HmVWYipNue8, Txt file: 00185\n",
      "[youtube] Extracting URL: https://www.youtube.com/watch?v=HmVWYipNue8\n",
      "[youtube] HmVWYipNue8: Downloading webpage\n",
      "[youtube] HmVWYipNue8: Downloading tv client config\n",
      "[youtube] HmVWYipNue8: Downloading player 5ae7d525\n",
      "[youtube] HmVWYipNue8: Downloading tv player API JSON\n",
      "[youtube] HmVWYipNue8: Downloading ios player API JSON\n",
      "[youtube] HmVWYipNue8: Downloading m3u8 information\n",
      "[info] HmVWYipNue8: Downloading 1 format(s): 251\n",
      "[download] Destination: id08714_4_26160_HmVWYipNue8_00185\n",
      "[download] 100% of    7.32MiB in 00:00:02 at 3.16MiB/s   \n",
      "[ExtractAudio] Destination: id08714_4_26160_HmVWYipNue8_00185.mp3\n",
      "Deleting original file id08714_4_26160_HmVWYipNue8_00185 (pass -k to keep)\n",
      "Audio downloaded as id08714_4_26160_HmVWYipNue8_00185\n",
      "Trimmed audio saved as ../data/download_df_audio/id08714_4_26160_HmVWYipNue8_00185_cut.mp3\n",
      "Speaker: id08714, Video: 9KzWrrO7vqc, Txt file: 00065\n",
      "[youtube] Extracting URL: https://www.youtube.com/watch?v=9KzWrrO7vqc\n",
      "[youtube] 9KzWrrO7vqc: Downloading webpage\n",
      "[youtube] 9KzWrrO7vqc: Downloading tv client config\n",
      "[youtube] 9KzWrrO7vqc: Downloading player 5ae7d525\n",
      "[youtube] 9KzWrrO7vqc: Downloading tv player API JSON\n",
      "[youtube] 9KzWrrO7vqc: Downloading ios player API JSON\n",
      "[youtube] 9KzWrrO7vqc: Downloading m3u8 information\n",
      "[info] 9KzWrrO7vqc: Downloading 1 format(s): 251\n",
      "[download] Destination: id08714_5_26120_9KzWrrO7vqc_00065\n",
      "[download] 100% of    4.59MiB in 00:00:02 at 1.85MiB/s   \n",
      "[ExtractAudio] Destination: id08714_5_26120_9KzWrrO7vqc_00065.mp3\n",
      "Deleting original file id08714_5_26120_9KzWrrO7vqc_00065 (pass -k to keep)\n",
      "Audio downloaded as id08714_5_26120_9KzWrrO7vqc_00065\n",
      "Trimmed audio saved as ../data/download_df_audio/id08714_5_26120_9KzWrrO7vqc_00065_cut.mp3\n",
      "Speaker: id08714, Video: 7Ophbx1iaF8, Txt file: 00053\n",
      "[youtube] Extracting URL: https://www.youtube.com/watch?v=7Ophbx1iaF8\n",
      "[youtube] 7Ophbx1iaF8: Downloading webpage\n",
      "[youtube] 7Ophbx1iaF8: Downloading tv client config\n",
      "[youtube] 7Ophbx1iaF8: Downloading player 5ae7d525\n",
      "[youtube] 7Ophbx1iaF8: Downloading tv player API JSON\n",
      "[youtube] 7Ophbx1iaF8: Downloading ios player API JSON\n",
      "[youtube] 7Ophbx1iaF8: Downloading m3u8 information\n",
      "[info] 7Ophbx1iaF8: Downloading 1 format(s): 251\n",
      "[download] Destination: id08714_6_25920_7Ophbx1iaF8_00053\n",
      "[download] 100% of    7.25MiB in 00:00:00 at 8.13MiB/s   \n",
      "[ExtractAudio] Destination: id08714_6_25920_7Ophbx1iaF8_00053.mp3\n",
      "Deleting original file id08714_6_25920_7Ophbx1iaF8_00053 (pass -k to keep)\n",
      "Audio downloaded as id08714_6_25920_7Ophbx1iaF8_00053\n",
      "Trimmed audio saved as ../data/download_df_audio/id08714_6_25920_7Ophbx1iaF8_00053_cut.mp3\n",
      "Speaker: id08714, Video: 9uGO8J0w6C0, Txt file: 00100\n"
     ]
    },
    {
     "name": "stderr",
     "output_type": "stream",
     "text": [
      "ERROR: [youtube] 9uGO8J0w6C0: Video unavailable. This video is no longer available because the YouTube account associated with this video has been terminated.\n"
     ]
    },
    {
     "name": "stdout",
     "output_type": "stream",
     "text": [
      "Speaker: id08714, Video: lXJfDvRMbRo, Txt file: 00393\n"
     ]
    },
    {
     "name": "stderr",
     "output_type": "stream",
     "text": [
      "ERROR: [youtube] lXJfDvRMbRo: Private video. Sign in if you've been granted access to this video. Use --cookies-from-browser or --cookies for the authentication. See  https://github.com/yt-dlp/yt-dlp/wiki/FAQ#how-do-i-pass-cookies-to-yt-dlp  for how to manually pass cookies. Also see  https://github.com/yt-dlp/yt-dlp/wiki/Extractors#exporting-youtube-cookies  for tips on effectively exporting YouTube cookies\n"
     ]
    },
    {
     "name": "stdout",
     "output_type": "stream",
     "text": [
      "Speaker: id08714, Video: lXJfDvRMbRo, Txt file: 00392\n"
     ]
    },
    {
     "name": "stderr",
     "output_type": "stream",
     "text": [
      "ERROR: [youtube] lXJfDvRMbRo: Private video. Sign in if you've been granted access to this video. Use --cookies-from-browser or --cookies for the authentication. See  https://github.com/yt-dlp/yt-dlp/wiki/FAQ#how-do-i-pass-cookies-to-yt-dlp  for how to manually pass cookies. Also see  https://github.com/yt-dlp/yt-dlp/wiki/Extractors#exporting-youtube-cookies  for tips on effectively exporting YouTube cookies\n"
     ]
    },
    {
     "name": "stdout",
     "output_type": "stream",
     "text": [
      "Speaker: id08714, Video: BqrrSRps59s, Txt file: 00160\n"
     ]
    },
    {
     "name": "stderr",
     "output_type": "stream",
     "text": [
      "ERROR: [youtube] BqrrSRps59s: Video unavailable. This video is no longer available because the YouTube account associated with this video has been terminated.\n"
     ]
    },
    {
     "name": "stdout",
     "output_type": "stream",
     "text": [
      "Speaker: id08714, Video: 9uGO8J0w6C0, Txt file: 00096\n"
     ]
    },
    {
     "name": "stderr",
     "output_type": "stream",
     "text": [
      "ERROR: [youtube] 9uGO8J0w6C0: Video unavailable. This video is no longer available because the YouTube account associated with this video has been terminated.\n"
     ]
    },
    {
     "name": "stdout",
     "output_type": "stream",
     "text": [
      "Speaker: id08714, Video: QLPVTM8WCz8, Txt file: 00252\n",
      "[youtube] Extracting URL: https://www.youtube.com/watch?v=QLPVTM8WCz8\n",
      "[youtube] QLPVTM8WCz8: Downloading webpage\n",
      "[youtube] QLPVTM8WCz8: Downloading tv client config\n",
      "[youtube] QLPVTM8WCz8: Downloading player 5ae7d525\n",
      "[youtube] QLPVTM8WCz8: Downloading tv player API JSON\n",
      "[youtube] QLPVTM8WCz8: Downloading ios player API JSON\n",
      "[youtube] QLPVTM8WCz8: Downloading m3u8 information\n",
      "[info] QLPVTM8WCz8: Downloading 1 format(s): 140\n",
      "[download] Destination: id08714_7_22440_QLPVTM8WCz8_00252\n",
      "[download] 100% of    5.19MiB in 00:00:00 at 5.39MiB/s   \n",
      "[FixupM4a] Correcting container of \"id08714_7_22440_QLPVTM8WCz8_00252\"\n",
      "[ExtractAudio] Destination: id08714_7_22440_QLPVTM8WCz8_00252.mp3\n",
      "Deleting original file id08714_7_22440_QLPVTM8WCz8_00252 (pass -k to keep)\n",
      "Audio downloaded as id08714_7_22440_QLPVTM8WCz8_00252\n",
      "Trimmed audio saved as ../data/download_df_audio/id08714_7_22440_QLPVTM8WCz8_00252_cut.mp3\n",
      "Speaker: id08714, Video: Lcgy0vZtGCo, Txt file: 00217\n"
     ]
    },
    {
     "name": "stderr",
     "output_type": "stream",
     "text": [
      "ERROR: [youtube] Lcgy0vZtGCo: Private video. Sign in if you've been granted access to this video. Use --cookies-from-browser or --cookies for the authentication. See  https://github.com/yt-dlp/yt-dlp/wiki/FAQ#how-do-i-pass-cookies-to-yt-dlp  for how to manually pass cookies. Also see  https://github.com/yt-dlp/yt-dlp/wiki/Extractors#exporting-youtube-cookies  for tips on effectively exporting YouTube cookies\n"
     ]
    },
    {
     "name": "stdout",
     "output_type": "stream",
     "text": [
      "Speaker: id08714, Video: gIgDZ8Usgdo, Txt file: 00371\n"
     ]
    },
    {
     "name": "stderr",
     "output_type": "stream",
     "text": [
      "ERROR: [youtube] gIgDZ8Usgdo: Video unavailable\n"
     ]
    },
    {
     "name": "stdout",
     "output_type": "stream",
     "text": [
      "Speaker: id08714, Video: B0G8mvB534M, Txt file: 00132\n"
     ]
    },
    {
     "name": "stderr",
     "output_type": "stream",
     "text": [
      "ERROR: [youtube] B0G8mvB534M: Video unavailable. This video is no longer available because the YouTube account associated with this video has been terminated.\n"
     ]
    },
    {
     "name": "stdout",
     "output_type": "stream",
     "text": [
      "Speaker: id08714, Video: zP-lpEOVcmY, Txt file: 00497\n"
     ]
    },
    {
     "name": "stderr",
     "output_type": "stream",
     "text": [
      "ERROR: [youtube] zP-lpEOVcmY: Video unavailable\n"
     ]
    },
    {
     "name": "stdout",
     "output_type": "stream",
     "text": [
      "Speaker: id08714, Video: w0yI7DhNDHs, Txt file: 00481\n"
     ]
    },
    {
     "name": "stderr",
     "output_type": "stream",
     "text": [
      "ERROR: [youtube] w0yI7DhNDHs: Private video. Sign in if you've been granted access to this video. Use --cookies-from-browser or --cookies for the authentication. See  https://github.com/yt-dlp/yt-dlp/wiki/FAQ#how-do-i-pass-cookies-to-yt-dlp  for how to manually pass cookies. Also see  https://github.com/yt-dlp/yt-dlp/wiki/Extractors#exporting-youtube-cookies  for tips on effectively exporting YouTube cookies\n"
     ]
    },
    {
     "name": "stdout",
     "output_type": "stream",
     "text": [
      "Speaker: id08714, Video: Zg5lngUJJ6U, Txt file: 00333\n"
     ]
    },
    {
     "name": "stderr",
     "output_type": "stream",
     "text": [
      "ERROR: [youtube] Zg5lngUJJ6U: Video unavailable\n"
     ]
    },
    {
     "name": "stdout",
     "output_type": "stream",
     "text": [
      "Speaker: id08714, Video: HmVWYipNue8, Txt file: 00184\n",
      "[youtube] Extracting URL: https://www.youtube.com/watch?v=HmVWYipNue8\n",
      "[youtube] HmVWYipNue8: Downloading webpage\n",
      "[youtube] HmVWYipNue8: Downloading tv client config\n",
      "[youtube] HmVWYipNue8: Downloading player 5ae7d525\n",
      "[youtube] HmVWYipNue8: Downloading tv player API JSON\n",
      "[youtube] HmVWYipNue8: Downloading ios player API JSON\n",
      "[youtube] HmVWYipNue8: Downloading m3u8 information\n",
      "[info] HmVWYipNue8: Downloading 1 format(s): 251\n",
      "[download] Destination: id08714_8_22160_HmVWYipNue8_00184\n",
      "[download] 100% of    7.32MiB in 00:00:01 at 4.88MiB/s   \n",
      "[ExtractAudio] Destination: id08714_8_22160_HmVWYipNue8_00184.mp3\n",
      "Deleting original file id08714_8_22160_HmVWYipNue8_00184 (pass -k to keep)\n",
      "Audio downloaded as id08714_8_22160_HmVWYipNue8_00184\n",
      "Trimmed audio saved as ../data/download_df_audio/id08714_8_22160_HmVWYipNue8_00184_cut.mp3\n",
      "Speaker: id08714, Video: YSKfmhQLr90, Txt file: 00312\n"
     ]
    },
    {
     "name": "stderr",
     "output_type": "stream",
     "text": [
      "ERROR: [youtube] YSKfmhQLr90: Video unavailable\n"
     ]
    },
    {
     "name": "stdout",
     "output_type": "stream",
     "text": [
      "Speaker: id08714, Video: YjX_OZyWbII, Txt file: 00322\n",
      "[youtube] Extracting URL: https://www.youtube.com/watch?v=YjX_OZyWbII\n",
      "[youtube] YjX_OZyWbII: Downloading webpage\n",
      "[youtube] YjX_OZyWbII: Downloading tv client config\n",
      "[youtube] YjX_OZyWbII: Downloading player 5ae7d525\n",
      "[youtube] YjX_OZyWbII: Downloading tv player API JSON\n",
      "[youtube] YjX_OZyWbII: Downloading ios player API JSON\n",
      "[youtube] YjX_OZyWbII: Downloading m3u8 information\n",
      "[info] YjX_OZyWbII: Downloading 1 format(s): 140\n",
      "[download] Destination: id08714_9_20720_YjX_OZyWbII_00322\n",
      "[download] 100% of    5.87MiB in 00:00:01 at 4.54MiB/s   \n",
      "[FixupM4a] Correcting container of \"id08714_9_20720_YjX_OZyWbII_00322\"\n",
      "[ExtractAudio] Destination: id08714_9_20720_YjX_OZyWbII_00322.mp3\n",
      "Deleting original file id08714_9_20720_YjX_OZyWbII_00322 (pass -k to keep)\n",
      "Audio downloaded as id08714_9_20720_YjX_OZyWbII_00322\n",
      "Trimmed audio saved as ../data/download_df_audio/id08714_9_20720_YjX_OZyWbII_00322_cut.mp3\n",
      "Speaker: id08820, Video: _4bCV1zvZsg, Txt file: 00113\n",
      "[youtube] Extracting URL: https://www.youtube.com/watch?v=_4bCV1zvZsg\n",
      "[youtube] _4bCV1zvZsg: Downloading webpage\n",
      "[youtube] _4bCV1zvZsg: Downloading tv client config\n",
      "[youtube] _4bCV1zvZsg: Downloading player 5ae7d525\n",
      "[youtube] _4bCV1zvZsg: Downloading tv player API JSON\n",
      "[youtube] _4bCV1zvZsg: Downloading ios player API JSON\n",
      "[youtube] _4bCV1zvZsg: Downloading m3u8 information\n",
      "[info] _4bCV1zvZsg: Downloading 1 format(s): 140\n",
      "[download] Destination: id08820_2_90920__4bCV1zvZsg_00113\n",
      "[download] 100% of    3.33MiB in 00:00:01 at 2.68MiB/s     \n",
      "[FixupM4a] Correcting container of \"id08820_2_90920__4bCV1zvZsg_00113\"\n",
      "[ExtractAudio] Destination: id08820_2_90920__4bCV1zvZsg_00113.mp3\n",
      "Deleting original file id08820_2_90920__4bCV1zvZsg_00113 (pass -k to keep)\n",
      "Audio downloaded as id08820_2_90920__4bCV1zvZsg_00113\n",
      "Trimmed audio saved as ../data/download_df_audio/id08820_2_90920__4bCV1zvZsg_00113_cut.mp3\n",
      "Speaker: id08820, Video: LQ_yvPGi_Ro, Txt file: 00079\n",
      "[youtube] Extracting URL: https://www.youtube.com/watch?v=LQ_yvPGi_Ro\n",
      "[youtube] LQ_yvPGi_Ro: Downloading webpage\n",
      "[youtube] LQ_yvPGi_Ro: Downloading tv client config\n",
      "[youtube] LQ_yvPGi_Ro: Downloading player 5ae7d525\n",
      "[youtube] LQ_yvPGi_Ro: Downloading tv player API JSON\n",
      "[youtube] LQ_yvPGi_Ro: Downloading ios player API JSON\n",
      "[youtube] LQ_yvPGi_Ro: Downloading m3u8 information\n",
      "[info] LQ_yvPGi_Ro: Downloading 1 format(s): 140\n",
      "[download] Destination: id08820_3_35040_LQ_yvPGi_Ro_00079\n",
      "[download] 100% of    2.98MiB in 00:00:01 at 2.74MiB/s   \n",
      "[FixupM4a] Correcting container of \"id08820_3_35040_LQ_yvPGi_Ro_00079\"\n",
      "[ExtractAudio] Destination: id08820_3_35040_LQ_yvPGi_Ro_00079.mp3\n",
      "Deleting original file id08820_3_35040_LQ_yvPGi_Ro_00079 (pass -k to keep)\n",
      "Audio downloaded as id08820_3_35040_LQ_yvPGi_Ro_00079\n",
      "Trimmed audio saved as ../data/download_df_audio/id08820_3_35040_LQ_yvPGi_Ro_00079_cut.mp3\n",
      "Speaker: id08820, Video: I6g7dsEzbss, Txt file: 00053\n",
      "[youtube] Extracting URL: https://www.youtube.com/watch?v=I6g7dsEzbss\n",
      "[youtube] I6g7dsEzbss: Downloading webpage\n",
      "[youtube] I6g7dsEzbss: Downloading tv client config\n",
      "[youtube] I6g7dsEzbss: Downloading player 5ae7d525\n",
      "[youtube] I6g7dsEzbss: Downloading tv player API JSON\n",
      "[youtube] I6g7dsEzbss: Downloading ios player API JSON\n",
      "[youtube] I6g7dsEzbss: Downloading m3u8 information\n",
      "[info] I6g7dsEzbss: Downloading 1 format(s): 140\n",
      "[download] Destination: id08820_4_28240_I6g7dsEzbss_00053\n",
      "[download] 100% of    3.59MiB in 00:00:01 at 3.05MiB/s   \n",
      "[FixupM4a] Correcting container of \"id08820_4_28240_I6g7dsEzbss_00053\"\n",
      "[ExtractAudio] Destination: id08820_4_28240_I6g7dsEzbss_00053.mp3\n",
      "Deleting original file id08820_4_28240_I6g7dsEzbss_00053 (pass -k to keep)\n",
      "Audio downloaded as id08820_4_28240_I6g7dsEzbss_00053\n",
      "Trimmed audio saved as ../data/download_df_audio/id08820_4_28240_I6g7dsEzbss_00053_cut.mp3\n",
      "Speaker: id08820, Video: SodM_l8wH40, Txt file: 00085\n",
      "[youtube] Extracting URL: https://www.youtube.com/watch?v=SodM_l8wH40\n",
      "[youtube] SodM_l8wH40: Downloading webpage\n",
      "[youtube] SodM_l8wH40: Downloading tv client config\n",
      "[youtube] SodM_l8wH40: Downloading player 5ae7d525\n",
      "[youtube] SodM_l8wH40: Downloading tv player API JSON\n",
      "[youtube] SodM_l8wH40: Downloading ios player API JSON\n",
      "[youtube] SodM_l8wH40: Downloading m3u8 information\n",
      "[info] SodM_l8wH40: Downloading 1 format(s): 140\n",
      "[download] Destination: id08820_5_26560_SodM_l8wH40_00085\n",
      "[download] 100% of    1.65MiB in 00:00:00 at 2.80MiB/s   \n",
      "[FixupM4a] Correcting container of \"id08820_5_26560_SodM_l8wH40_00085\"\n",
      "[ExtractAudio] Destination: id08820_5_26560_SodM_l8wH40_00085.mp3\n",
      "Deleting original file id08820_5_26560_SodM_l8wH40_00085 (pass -k to keep)\n",
      "Audio downloaded as id08820_5_26560_SodM_l8wH40_00085\n",
      "Trimmed audio saved as ../data/download_df_audio/id08820_5_26560_SodM_l8wH40_00085_cut.mp3\n",
      "Speaker: id08820, Video: _4bCV1zvZsg, Txt file: 00108\n",
      "[youtube] Extracting URL: https://www.youtube.com/watch?v=_4bCV1zvZsg\n",
      "[youtube] _4bCV1zvZsg: Downloading webpage\n",
      "[youtube] _4bCV1zvZsg: Downloading tv client config\n",
      "[youtube] _4bCV1zvZsg: Downloading player 5ae7d525\n",
      "[youtube] _4bCV1zvZsg: Downloading tv player API JSON\n",
      "[youtube] _4bCV1zvZsg: Downloading ios player API JSON\n",
      "[youtube] _4bCV1zvZsg: Downloading m3u8 information\n",
      "[info] _4bCV1zvZsg: Downloading 1 format(s): 140\n",
      "[download] Destination: id08820_6_24360__4bCV1zvZsg_00108\n",
      "[download] 100% of    3.33MiB in 00:00:00 at 10.41MiB/s  \n",
      "[FixupM4a] Correcting container of \"id08820_6_24360__4bCV1zvZsg_00108\"\n",
      "[ExtractAudio] Destination: id08820_6_24360__4bCV1zvZsg_00108.mp3\n",
      "Deleting original file id08820_6_24360__4bCV1zvZsg_00108 (pass -k to keep)\n",
      "Audio downloaded as id08820_6_24360__4bCV1zvZsg_00108\n",
      "Trimmed audio saved as ../data/download_df_audio/id08820_6_24360__4bCV1zvZsg_00108_cut.mp3\n",
      "Speaker: id08820, Video: LQ_yvPGi_Ro, Txt file: 00074\n",
      "[youtube] Extracting URL: https://www.youtube.com/watch?v=LQ_yvPGi_Ro\n",
      "[youtube] LQ_yvPGi_Ro: Downloading webpage\n",
      "[youtube] LQ_yvPGi_Ro: Downloading tv client config\n",
      "[youtube] LQ_yvPGi_Ro: Downloading player 5ae7d525\n",
      "[youtube] LQ_yvPGi_Ro: Downloading tv player API JSON\n",
      "[youtube] LQ_yvPGi_Ro: Downloading ios player API JSON\n",
      "[youtube] LQ_yvPGi_Ro: Downloading m3u8 information\n",
      "[info] LQ_yvPGi_Ro: Downloading 1 format(s): 140\n",
      "[download] Destination: id08820_7_23120_LQ_yvPGi_Ro_00074\n",
      "[download] 100% of    2.98MiB in 00:00:00 at 5.22MiB/s   \n",
      "[FixupM4a] Correcting container of \"id08820_7_23120_LQ_yvPGi_Ro_00074\"\n",
      "[ExtractAudio] Destination: id08820_7_23120_LQ_yvPGi_Ro_00074.mp3\n",
      "Deleting original file id08820_7_23120_LQ_yvPGi_Ro_00074 (pass -k to keep)\n",
      "Audio downloaded as id08820_7_23120_LQ_yvPGi_Ro_00074\n",
      "Trimmed audio saved as ../data/download_df_audio/id08820_7_23120_LQ_yvPGi_Ro_00074_cut.mp3\n",
      "Speaker: id08820, Video: yBhG3xliDWY, Txt file: 00192\n",
      "[youtube] Extracting URL: https://www.youtube.com/watch?v=yBhG3xliDWY\n",
      "[youtube] yBhG3xliDWY: Downloading webpage\n",
      "[youtube] yBhG3xliDWY: Downloading tv client config\n",
      "[youtube] yBhG3xliDWY: Downloading player 5ae7d525\n",
      "[youtube] yBhG3xliDWY: Downloading tv player API JSON\n",
      "[youtube] yBhG3xliDWY: Downloading ios player API JSON\n",
      "[youtube] yBhG3xliDWY: Downloading m3u8 information\n",
      "[info] yBhG3xliDWY: Downloading 1 format(s): 251\n",
      "[download] Destination: id08820_8_22400_yBhG3xliDWY_00192\n",
      "[download] 100% of   11.04MiB in 00:00:03 at 3.01MiB/s     \n",
      "[ExtractAudio] Destination: id08820_8_22400_yBhG3xliDWY_00192.mp3\n",
      "Deleting original file id08820_8_22400_yBhG3xliDWY_00192 (pass -k to keep)\n",
      "Audio downloaded as id08820_8_22400_yBhG3xliDWY_00192\n",
      "Trimmed audio saved as ../data/download_df_audio/id08820_8_22400_yBhG3xliDWY_00192_cut.mp3\n",
      "Speaker: id08820, Video: I6g7dsEzbss, Txt file: 00059\n",
      "[youtube] Extracting URL: https://www.youtube.com/watch?v=I6g7dsEzbss\n",
      "[youtube] I6g7dsEzbss: Downloading webpage\n",
      "[youtube] I6g7dsEzbss: Downloading tv client config\n",
      "[youtube] I6g7dsEzbss: Downloading player 5ae7d525\n",
      "[youtube] I6g7dsEzbss: Downloading tv player API JSON\n",
      "[youtube] I6g7dsEzbss: Downloading ios player API JSON\n",
      "[youtube] I6g7dsEzbss: Downloading m3u8 information\n",
      "[info] I6g7dsEzbss: Downloading 1 format(s): 140\n",
      "[download] Destination: id08820_9_20880_I6g7dsEzbss_00059\n",
      "[download] 100% of    3.59MiB in 00:00:00 at 5.35MiB/s   \n",
      "[FixupM4a] Correcting container of \"id08820_9_20880_I6g7dsEzbss_00059\"\n",
      "[ExtractAudio] Destination: id08820_9_20880_I6g7dsEzbss_00059.mp3\n",
      "Deleting original file id08820_9_20880_I6g7dsEzbss_00059 (pass -k to keep)\n",
      "Audio downloaded as id08820_9_20880_I6g7dsEzbss_00059\n",
      "Trimmed audio saved as ../data/download_df_audio/id08820_9_20880_I6g7dsEzbss_00059_cut.mp3\n",
      "Speaker: id08840, Video: 5roL-rGEOWA, Txt file: 00032\n"
     ]
    },
    {
     "name": "stderr",
     "output_type": "stream",
     "text": [
      "ERROR: [youtube] 5roL-rGEOWA: Private video. Sign in if you've been granted access to this video. Use --cookies-from-browser or --cookies for the authentication. See  https://github.com/yt-dlp/yt-dlp/wiki/FAQ#how-do-i-pass-cookies-to-yt-dlp  for how to manually pass cookies. Also see  https://github.com/yt-dlp/yt-dlp/wiki/Extractors#exporting-youtube-cookies  for tips on effectively exporting YouTube cookies\n"
     ]
    },
    {
     "name": "stdout",
     "output_type": "stream",
     "text": [
      "Speaker: id08840, Video: VnCq6O3_g28, Txt file: 00055\n",
      "[youtube] Extracting URL: https://www.youtube.com/watch?v=VnCq6O3_g28\n",
      "[youtube] VnCq6O3_g28: Downloading webpage\n",
      "[youtube] VnCq6O3_g28: Downloading tv client config\n",
      "[youtube] VnCq6O3_g28: Downloading player 5ae7d525\n",
      "[youtube] VnCq6O3_g28: Downloading tv player API JSON\n",
      "[youtube] VnCq6O3_g28: Downloading ios player API JSON\n",
      "[youtube] VnCq6O3_g28: Downloading m3u8 information\n",
      "[info] VnCq6O3_g28: Downloading 1 format(s): 251\n",
      "[download] Destination: id08840_2_14080_VnCq6O3_g28_00055\n",
      "[download] 100% of    1.47MiB in 00:00:00 at 4.79MiB/s     \n",
      "[ExtractAudio] Destination: id08840_2_14080_VnCq6O3_g28_00055.mp3\n",
      "Deleting original file id08840_2_14080_VnCq6O3_g28_00055 (pass -k to keep)\n",
      "Audio downloaded as id08840_2_14080_VnCq6O3_g28_00055\n",
      "Trimmed audio saved as ../data/download_df_audio/id08840_2_14080_VnCq6O3_g28_00055_cut.mp3\n",
      "Speaker: id08840, Video: eC4YFzlsk2Q, Txt file: 00072\n",
      "[youtube] Extracting URL: https://www.youtube.com/watch?v=eC4YFzlsk2Q\n",
      "[youtube] eC4YFzlsk2Q: Downloading webpage\n",
      "[youtube] eC4YFzlsk2Q: Downloading tv client config\n",
      "[youtube] eC4YFzlsk2Q: Downloading player 5ae7d525\n",
      "[youtube] eC4YFzlsk2Q: Downloading tv player API JSON\n",
      "[youtube] eC4YFzlsk2Q: Downloading ios player API JSON\n",
      "[youtube] eC4YFzlsk2Q: Downloading m3u8 information\n",
      "[info] eC4YFzlsk2Q: Downloading 1 format(s): 251\n",
      "[download] Destination: id08840_3_13760_eC4YFzlsk2Q_00072\n",
      "[download] 100% of    4.70MiB in 00:00:00 at 5.48MiB/s   \n",
      "[ExtractAudio] Destination: id08840_3_13760_eC4YFzlsk2Q_00072.mp3\n",
      "Deleting original file id08840_3_13760_eC4YFzlsk2Q_00072 (pass -k to keep)\n",
      "Audio downloaded as id08840_3_13760_eC4YFzlsk2Q_00072\n",
      "Trimmed audio saved as ../data/download_df_audio/id08840_3_13760_eC4YFzlsk2Q_00072_cut.mp3\n",
      "Speaker: id08840, Video: DXvJ0gYjozQ, Txt file: 00047\n"
     ]
    },
    {
     "name": "stderr",
     "output_type": "stream",
     "text": [
      "ERROR: [youtube] DXvJ0gYjozQ: Private video. Sign in if you've been granted access to this video. Use --cookies-from-browser or --cookies for the authentication. See  https://github.com/yt-dlp/yt-dlp/wiki/FAQ#how-do-i-pass-cookies-to-yt-dlp  for how to manually pass cookies. Also see  https://github.com/yt-dlp/yt-dlp/wiki/Extractors#exporting-youtube-cookies  for tips on effectively exporting YouTube cookies\n"
     ]
    },
    {
     "name": "stdout",
     "output_type": "stream",
     "text": [
      "Speaker: id08840, Video: VnCq6O3_g28, Txt file: 00059\n",
      "[youtube] Extracting URL: https://www.youtube.com/watch?v=VnCq6O3_g28\n",
      "[youtube] VnCq6O3_g28: Downloading webpage\n",
      "[youtube] VnCq6O3_g28: Downloading tv client config\n",
      "[youtube] VnCq6O3_g28: Downloading player 5ae7d525\n",
      "[youtube] VnCq6O3_g28: Downloading tv player API JSON\n",
      "[youtube] VnCq6O3_g28: Downloading ios player API JSON\n",
      "[youtube] VnCq6O3_g28: Downloading m3u8 information\n",
      "[info] VnCq6O3_g28: Downloading 1 format(s): 251\n",
      "[download] Destination: id08840_4_11160_VnCq6O3_g28_00059\n",
      "[download] 100% of    1.47MiB in 00:00:00 at 8.92MiB/s   \n",
      "[ExtractAudio] Destination: id08840_4_11160_VnCq6O3_g28_00059.mp3\n",
      "Deleting original file id08840_4_11160_VnCq6O3_g28_00059 (pass -k to keep)\n",
      "Audio downloaded as id08840_4_11160_VnCq6O3_g28_00059\n",
      "Trimmed audio saved as ../data/download_df_audio/id08840_4_11160_VnCq6O3_g28_00059_cut.mp3\n",
      "Speaker: id08840, Video: zX07W0XeeDs, Txt file: 00107\n"
     ]
    },
    {
     "name": "stderr",
     "output_type": "stream",
     "text": [
      "ERROR: [youtube] zX07W0XeeDs: Video unavailable\n"
     ]
    },
    {
     "name": "stdout",
     "output_type": "stream",
     "text": [
      "Speaker: id08840, Video: iAwjIVL60k0, Txt file: 00086\n",
      "[youtube] Extracting URL: https://www.youtube.com/watch?v=iAwjIVL60k0\n",
      "[youtube] iAwjIVL60k0: Downloading webpage\n",
      "[youtube] iAwjIVL60k0: Downloading tv client config\n",
      "[youtube] iAwjIVL60k0: Downloading player 5ae7d525\n",
      "[youtube] iAwjIVL60k0: Downloading tv player API JSON\n",
      "[youtube] iAwjIVL60k0: Downloading ios player API JSON\n",
      "[youtube] iAwjIVL60k0: Downloading m3u8 information\n",
      "[info] iAwjIVL60k0: Downloading 1 format(s): 251\n",
      "[download] Destination: id08840_5_10000_iAwjIVL60k0_00086\n",
      "[download] 100% of    1.08MiB in 00:00:00 at 2.03MiB/s   \n",
      "[ExtractAudio] Destination: id08840_5_10000_iAwjIVL60k0_00086.mp3\n",
      "Deleting original file id08840_5_10000_iAwjIVL60k0_00086 (pass -k to keep)\n",
      "Audio downloaded as id08840_5_10000_iAwjIVL60k0_00086\n",
      "Trimmed audio saved as ../data/download_df_audio/id08840_5_10000_iAwjIVL60k0_00086_cut.mp3\n",
      "Speaker: id08840, Video: zX07W0XeeDs, Txt file: 00100\n"
     ]
    },
    {
     "name": "stderr",
     "output_type": "stream",
     "text": [
      "ERROR: [youtube] zX07W0XeeDs: Video unavailable\n"
     ]
    },
    {
     "name": "stdout",
     "output_type": "stream",
     "text": [
      "Speaker: id08840, Video: 5roL-rGEOWA, Txt file: 00041\n"
     ]
    },
    {
     "name": "stderr",
     "output_type": "stream",
     "text": [
      "ERROR: [youtube] 5roL-rGEOWA: Private video. Sign in if you've been granted access to this video. Use --cookies-from-browser or --cookies for the authentication. See  https://github.com/yt-dlp/yt-dlp/wiki/FAQ#how-do-i-pass-cookies-to-yt-dlp  for how to manually pass cookies. Also see  https://github.com/yt-dlp/yt-dlp/wiki/Extractors#exporting-youtube-cookies  for tips on effectively exporting YouTube cookies\n"
     ]
    },
    {
     "name": "stdout",
     "output_type": "stream",
     "text": [
      "Speaker: id08840, Video: zX07W0XeeDs, Txt file: 00104\n"
     ]
    },
    {
     "name": "stderr",
     "output_type": "stream",
     "text": [
      "ERROR: [youtube] zX07W0XeeDs: Video unavailable\n"
     ]
    },
    {
     "name": "stdout",
     "output_type": "stream",
     "text": [
      "Speaker: id08840, Video: 5lhtaAW7JK8, Txt file: 00015\n"
     ]
    },
    {
     "name": "stderr",
     "output_type": "stream",
     "text": [
      "ERROR: [youtube] 5lhtaAW7JK8: Private video. Sign in if you've been granted access to this video. Use --cookies-from-browser or --cookies for the authentication. See  https://github.com/yt-dlp/yt-dlp/wiki/FAQ#how-do-i-pass-cookies-to-yt-dlp  for how to manually pass cookies. Also see  https://github.com/yt-dlp/yt-dlp/wiki/Extractors#exporting-youtube-cookies  for tips on effectively exporting YouTube cookies\n"
     ]
    },
    {
     "name": "stdout",
     "output_type": "stream",
     "text": [
      "Speaker: id08840, Video: DXvJ0gYjozQ, Txt file: 00048\n"
     ]
    },
    {
     "name": "stderr",
     "output_type": "stream",
     "text": [
      "ERROR: [youtube] DXvJ0gYjozQ: Private video. Sign in if you've been granted access to this video. Use --cookies-from-browser or --cookies for the authentication. See  https://github.com/yt-dlp/yt-dlp/wiki/FAQ#how-do-i-pass-cookies-to-yt-dlp  for how to manually pass cookies. Also see  https://github.com/yt-dlp/yt-dlp/wiki/Extractors#exporting-youtube-cookies  for tips on effectively exporting YouTube cookies\n"
     ]
    },
    {
     "name": "stdout",
     "output_type": "stream",
     "text": [
      "Speaker: id08840, Video: VnCq6O3_g28, Txt file: 00054\n",
      "[youtube] Extracting URL: https://www.youtube.com/watch?v=VnCq6O3_g28\n",
      "[youtube] VnCq6O3_g28: Downloading webpage\n",
      "[youtube] VnCq6O3_g28: Downloading tv client config\n",
      "[youtube] VnCq6O3_g28: Downloading player 5ae7d525\n",
      "[youtube] VnCq6O3_g28: Downloading tv player API JSON\n",
      "[youtube] VnCq6O3_g28: Downloading ios player API JSON\n",
      "[youtube] VnCq6O3_g28: Downloading m3u8 information\n",
      "[info] VnCq6O3_g28: Downloading 1 format(s): 251\n",
      "[download] Destination: id08840_6_8640_VnCq6O3_g28_00054\n",
      "[download] 100% of    1.47MiB in 00:00:00 at 8.60MiB/s   \n",
      "[ExtractAudio] Destination: id08840_6_8640_VnCq6O3_g28_00054.mp3\n",
      "Deleting original file id08840_6_8640_VnCq6O3_g28_00054 (pass -k to keep)\n",
      "Audio downloaded as id08840_6_8640_VnCq6O3_g28_00054\n",
      "Trimmed audio saved as ../data/download_df_audio/id08840_6_8640_VnCq6O3_g28_00054_cut.mp3\n",
      "Speaker: id08840, Video: zX07W0XeeDs, Txt file: 00097\n"
     ]
    },
    {
     "name": "stderr",
     "output_type": "stream",
     "text": [
      "ERROR: [youtube] zX07W0XeeDs: Video unavailable\n"
     ]
    },
    {
     "name": "stdout",
     "output_type": "stream",
     "text": [
      "Speaker: id08840, Video: 5lhtaAW7JK8, Txt file: 00021\n"
     ]
    },
    {
     "name": "stderr",
     "output_type": "stream",
     "text": [
      "ERROR: [youtube] 5lhtaAW7JK8: Private video. Sign in if you've been granted access to this video. Use --cookies-from-browser or --cookies for the authentication. See  https://github.com/yt-dlp/yt-dlp/wiki/FAQ#how-do-i-pass-cookies-to-yt-dlp  for how to manually pass cookies. Also see  https://github.com/yt-dlp/yt-dlp/wiki/Extractors#exporting-youtube-cookies  for tips on effectively exporting YouTube cookies\n"
     ]
    },
    {
     "name": "stdout",
     "output_type": "stream",
     "text": [
      "Speaker: id08840, Video: 1aq95Vs2zII, Txt file: 00011\n",
      "[youtube] Extracting URL: https://www.youtube.com/watch?v=1aq95Vs2zII\n",
      "[youtube] 1aq95Vs2zII: Downloading webpage\n",
      "[youtube] 1aq95Vs2zII: Downloading tv client config\n",
      "[youtube] 1aq95Vs2zII: Downloading player 5ae7d525\n",
      "[youtube] 1aq95Vs2zII: Downloading tv player API JSON\n",
      "[youtube] 1aq95Vs2zII: Downloading ios player API JSON\n",
      "[youtube] 1aq95Vs2zII: Downloading m3u8 information\n",
      "[info] 1aq95Vs2zII: Downloading 1 format(s): 251\n",
      "[download] Destination: id08840_7_8280_1aq95Vs2zII_00011\n",
      "[download] 100% of    6.87MiB in 00:00:00 at 6.97MiB/s   \n",
      "[ExtractAudio] Destination: id08840_7_8280_1aq95Vs2zII_00011.mp3\n",
      "Deleting original file id08840_7_8280_1aq95Vs2zII_00011 (pass -k to keep)\n",
      "Audio downloaded as id08840_7_8280_1aq95Vs2zII_00011\n",
      "Trimmed audio saved as ../data/download_df_audio/id08840_7_8280_1aq95Vs2zII_00011_cut.mp3\n",
      "Speaker: id08840, Video: zX07W0XeeDs, Txt file: 00094\n"
     ]
    },
    {
     "name": "stderr",
     "output_type": "stream",
     "text": [
      "ERROR: [youtube] zX07W0XeeDs: Video unavailable\n"
     ]
    },
    {
     "name": "stdout",
     "output_type": "stream",
     "text": [
      "Speaker: id08840, Video: zX07W0XeeDs, Txt file: 00098\n"
     ]
    },
    {
     "name": "stderr",
     "output_type": "stream",
     "text": [
      "ERROR: [youtube] zX07W0XeeDs: Video unavailable\n"
     ]
    },
    {
     "name": "stdout",
     "output_type": "stream",
     "text": [
      "Speaker: id08840, Video: 5lhtaAW7JK8, Txt file: 00019\n"
     ]
    },
    {
     "name": "stderr",
     "output_type": "stream",
     "text": [
      "ERROR: [youtube] 5lhtaAW7JK8: Private video. Sign in if you've been granted access to this video. Use --cookies-from-browser or --cookies for the authentication. See  https://github.com/yt-dlp/yt-dlp/wiki/FAQ#how-do-i-pass-cookies-to-yt-dlp  for how to manually pass cookies. Also see  https://github.com/yt-dlp/yt-dlp/wiki/Extractors#exporting-youtube-cookies  for tips on effectively exporting YouTube cookies\n"
     ]
    },
    {
     "name": "stdout",
     "output_type": "stream",
     "text": [
      "Speaker: id08840, Video: eC4YFzlsk2Q, Txt file: 00077\n",
      "[youtube] Extracting URL: https://www.youtube.com/watch?v=eC4YFzlsk2Q\n",
      "[youtube] eC4YFzlsk2Q: Downloading webpage\n",
      "[youtube] eC4YFzlsk2Q: Downloading tv client config\n",
      "[youtube] eC4YFzlsk2Q: Downloading player 5ae7d525\n",
      "[youtube] eC4YFzlsk2Q: Downloading tv player API JSON\n",
      "[youtube] eC4YFzlsk2Q: Downloading ios player API JSON\n",
      "[youtube] eC4YFzlsk2Q: Downloading m3u8 information\n",
      "[info] eC4YFzlsk2Q: Downloading 1 format(s): 251\n",
      "[download] Destination: id08840_8_7920_eC4YFzlsk2Q_00077\n",
      "[download] 100% of    4.70MiB in 00:00:00 at 10.66MiB/s    \n",
      "[ExtractAudio] Destination: id08840_8_7920_eC4YFzlsk2Q_00077.mp3\n",
      "Deleting original file id08840_8_7920_eC4YFzlsk2Q_00077 (pass -k to keep)\n",
      "Audio downloaded as id08840_8_7920_eC4YFzlsk2Q_00077\n",
      "Trimmed audio saved as ../data/download_df_audio/id08840_8_7920_eC4YFzlsk2Q_00077_cut.mp3\n",
      "Speaker: id08840, Video: xLjznnu3ud0, Txt file: 00090\n"
     ]
    },
    {
     "name": "stderr",
     "output_type": "stream",
     "text": [
      "ERROR: [youtube] xLjznnu3ud0: Video unavailable. The uploader has not made this video available in your country\n"
     ]
    },
    {
     "name": "stdout",
     "output_type": "stream",
     "text": [
      "Speaker: id08840, Video: 5roL-rGEOWA, Txt file: 00025\n"
     ]
    },
    {
     "name": "stderr",
     "output_type": "stream",
     "text": [
      "ERROR: [youtube] 5roL-rGEOWA: Private video. Sign in if you've been granted access to this video. Use --cookies-from-browser or --cookies for the authentication. See  https://github.com/yt-dlp/yt-dlp/wiki/FAQ#how-do-i-pass-cookies-to-yt-dlp  for how to manually pass cookies. Also see  https://github.com/yt-dlp/yt-dlp/wiki/Extractors#exporting-youtube-cookies  for tips on effectively exporting YouTube cookies\n"
     ]
    },
    {
     "name": "stdout",
     "output_type": "stream",
     "text": [
      "Speaker: id08840, Video: 5roL-rGEOWA, Txt file: 00044\n"
     ]
    },
    {
     "name": "stderr",
     "output_type": "stream",
     "text": [
      "ERROR: [youtube] 5roL-rGEOWA: Private video. Sign in if you've been granted access to this video. Use --cookies-from-browser or --cookies for the authentication. See  https://github.com/yt-dlp/yt-dlp/wiki/FAQ#how-do-i-pass-cookies-to-yt-dlp  for how to manually pass cookies. Also see  https://github.com/yt-dlp/yt-dlp/wiki/Extractors#exporting-youtube-cookies  for tips on effectively exporting YouTube cookies\n"
     ]
    },
    {
     "name": "stdout",
     "output_type": "stream",
     "text": [
      "Speaker: id08840, Video: zX07W0XeeDs, Txt file: 00106\n"
     ]
    },
    {
     "name": "stderr",
     "output_type": "stream",
     "text": [
      "ERROR: [youtube] zX07W0XeeDs: Video unavailable\n"
     ]
    },
    {
     "name": "stdout",
     "output_type": "stream",
     "text": [
      "Speaker: id08840, Video: 5roL-rGEOWA, Txt file: 00034\n"
     ]
    },
    {
     "name": "stderr",
     "output_type": "stream",
     "text": [
      "ERROR: [youtube] 5roL-rGEOWA: Private video. Sign in if you've been granted access to this video. Use --cookies-from-browser or --cookies for the authentication. See  https://github.com/yt-dlp/yt-dlp/wiki/FAQ#how-do-i-pass-cookies-to-yt-dlp  for how to manually pass cookies. Also see  https://github.com/yt-dlp/yt-dlp/wiki/Extractors#exporting-youtube-cookies  for tips on effectively exporting YouTube cookies\n"
     ]
    },
    {
     "name": "stdout",
     "output_type": "stream",
     "text": [
      "Speaker: id08840, Video: 5roL-rGEOWA, Txt file: 00043\n"
     ]
    },
    {
     "name": "stderr",
     "output_type": "stream",
     "text": [
      "ERROR: [youtube] 5roL-rGEOWA: Private video. Sign in if you've been granted access to this video. Use --cookies-from-browser or --cookies for the authentication. See  https://github.com/yt-dlp/yt-dlp/wiki/FAQ#how-do-i-pass-cookies-to-yt-dlp  for how to manually pass cookies. Also see  https://github.com/yt-dlp/yt-dlp/wiki/Extractors#exporting-youtube-cookies  for tips on effectively exporting YouTube cookies\n"
     ]
    },
    {
     "name": "stdout",
     "output_type": "stream",
     "text": [
      "Speaker: id08840, Video: zX07W0XeeDs, Txt file: 00108\n"
     ]
    },
    {
     "name": "stderr",
     "output_type": "stream",
     "text": [
      "ERROR: [youtube] zX07W0XeeDs: Video unavailable\n"
     ]
    },
    {
     "name": "stdout",
     "output_type": "stream",
     "text": [
      "Speaker: id08840, Video: zX07W0XeeDs, Txt file: 00101\n"
     ]
    },
    {
     "name": "stderr",
     "output_type": "stream",
     "text": [
      "ERROR: [youtube] zX07W0XeeDs: Video unavailable\n"
     ]
    },
    {
     "name": "stdout",
     "output_type": "stream",
     "text": [
      "Speaker: id08840, Video: Xb9GBltDvhE, Txt file: 00064\n",
      "[youtube] Extracting URL: https://www.youtube.com/watch?v=Xb9GBltDvhE\n",
      "[youtube] Xb9GBltDvhE: Downloading webpage\n",
      "[youtube] Xb9GBltDvhE: Downloading tv client config\n",
      "[youtube] Xb9GBltDvhE: Downloading player 5ae7d525\n",
      "[youtube] Xb9GBltDvhE: Downloading tv player API JSON\n",
      "[youtube] Xb9GBltDvhE: Downloading ios player API JSON\n",
      "[youtube] Xb9GBltDvhE: Downloading m3u8 information\n",
      "[info] Xb9GBltDvhE: Downloading 1 format(s): 140\n",
      "[download] Destination: id08840_9_6840_Xb9GBltDvhE_00064\n",
      "[download] 100% of    8.14MiB in 00:00:03 at 2.68MiB/s   \n",
      "[FixupM4a] Correcting container of \"id08840_9_6840_Xb9GBltDvhE_00064\"\n",
      "[ExtractAudio] Destination: id08840_9_6840_Xb9GBltDvhE_00064.mp3\n",
      "Deleting original file id08840_9_6840_Xb9GBltDvhE_00064 (pass -k to keep)\n",
      "Audio downloaded as id08840_9_6840_Xb9GBltDvhE_00064\n",
      "Trimmed audio saved as ../data/download_df_audio/id08840_9_6840_Xb9GBltDvhE_00064_cut.mp3\n",
      "Speaker: id08904, Video: 7B-8sUvkpS8, Txt file: 00073\n",
      "[youtube] Extracting URL: https://www.youtube.com/watch?v=7B-8sUvkpS8\n",
      "[youtube] 7B-8sUvkpS8: Downloading webpage\n",
      "[youtube] 7B-8sUvkpS8: Downloading tv client config\n",
      "[youtube] 7B-8sUvkpS8: Downloading player 5ae7d525\n",
      "[youtube] 7B-8sUvkpS8: Downloading tv player API JSON\n",
      "[youtube] 7B-8sUvkpS8: Downloading ios player API JSON\n",
      "[youtube] 7B-8sUvkpS8: Downloading m3u8 information\n",
      "[info] 7B-8sUvkpS8: Downloading 1 format(s): 251\n",
      "[download] Destination: id08904_2_42880_7B-8sUvkpS8_00073\n",
      "[download] 100% of    2.49MiB in 00:00:00 at 3.31MiB/s   \n",
      "[ExtractAudio] Destination: id08904_2_42880_7B-8sUvkpS8_00073.mp3\n",
      "Deleting original file id08904_2_42880_7B-8sUvkpS8_00073 (pass -k to keep)\n",
      "Audio downloaded as id08904_2_42880_7B-8sUvkpS8_00073\n",
      "Trimmed audio saved as ../data/download_df_audio/id08904_2_42880_7B-8sUvkpS8_00073_cut.mp3\n",
      "Speaker: id08904, Video: lIiasd-DAuU, Txt file: 00380\n",
      "[youtube] Extracting URL: https://www.youtube.com/watch?v=lIiasd-DAuU\n",
      "[youtube] lIiasd-DAuU: Downloading webpage\n",
      "[youtube] lIiasd-DAuU: Downloading tv client config\n",
      "[youtube] lIiasd-DAuU: Downloading player 5ae7d525\n",
      "[youtube] lIiasd-DAuU: Downloading tv player API JSON\n",
      "[youtube] lIiasd-DAuU: Downloading ios player API JSON\n",
      "[youtube] lIiasd-DAuU: Downloading m3u8 information\n",
      "[info] lIiasd-DAuU: Downloading 1 format(s): 251\n",
      "[download] Destination: id08904_3_41800_lIiasd-DAuU_00380\n",
      "[download] 100% of    3.80MiB in 00:00:00 at 7.94MiB/s   \n",
      "[ExtractAudio] Destination: id08904_3_41800_lIiasd-DAuU_00380.mp3\n",
      "Deleting original file id08904_3_41800_lIiasd-DAuU_00380 (pass -k to keep)\n",
      "Audio downloaded as id08904_3_41800_lIiasd-DAuU_00380\n",
      "Trimmed audio saved as ../data/download_df_audio/id08904_3_41800_lIiasd-DAuU_00380_cut.mp3\n",
      "Speaker: id08904, Video: Isg7whGW88U, Txt file: 00163\n",
      "[youtube] Extracting URL: https://www.youtube.com/watch?v=Isg7whGW88U\n",
      "[youtube] Isg7whGW88U: Downloading webpage\n",
      "[youtube] Isg7whGW88U: Downloading tv client config\n",
      "[youtube] Isg7whGW88U: Downloading player 5ae7d525\n",
      "[youtube] Isg7whGW88U: Downloading tv player API JSON\n",
      "[youtube] Isg7whGW88U: Downloading ios player API JSON\n",
      "[youtube] Isg7whGW88U: Downloading m3u8 information\n",
      "[info] Isg7whGW88U: Downloading 1 format(s): 140\n",
      "[download] Destination: id08904_4_34640_Isg7whGW88U_00163\n",
      "[download] 100% of    7.55MiB in 00:00:02 at 3.09MiB/s   \n",
      "[FixupM4a] Correcting container of \"id08904_4_34640_Isg7whGW88U_00163\"\n",
      "[ExtractAudio] Destination: id08904_4_34640_Isg7whGW88U_00163.mp3\n",
      "Deleting original file id08904_4_34640_Isg7whGW88U_00163 (pass -k to keep)\n",
      "Audio downloaded as id08904_4_34640_Isg7whGW88U_00163\n",
      "Trimmed audio saved as ../data/download_df_audio/id08904_4_34640_Isg7whGW88U_00163_cut.mp3\n",
      "Speaker: id08904, Video: HpE94fy7tu0, Txt file: 00125\n",
      "[youtube] Extracting URL: https://www.youtube.com/watch?v=HpE94fy7tu0\n",
      "[youtube] HpE94fy7tu0: Downloading webpage\n",
      "[youtube] HpE94fy7tu0: Downloading tv client config\n",
      "[youtube] HpE94fy7tu0: Downloading player 5ae7d525\n",
      "[youtube] HpE94fy7tu0: Downloading tv player API JSON\n",
      "[youtube] HpE94fy7tu0: Downloading ios player API JSON\n",
      "[youtube] HpE94fy7tu0: Downloading m3u8 information\n",
      "[info] HpE94fy7tu0: Downloading 1 format(s): 140\n",
      "[download] Destination: id08904_5_34560_HpE94fy7tu0_00125\n",
      "[download] 100% of    9.44MiB in 00:00:01 at 8.11MiB/s   \n",
      "[FixupM4a] Correcting container of \"id08904_5_34560_HpE94fy7tu0_00125\"\n",
      "[ExtractAudio] Destination: id08904_5_34560_HpE94fy7tu0_00125.mp3\n",
      "Deleting original file id08904_5_34560_HpE94fy7tu0_00125 (pass -k to keep)\n",
      "Audio downloaded as id08904_5_34560_HpE94fy7tu0_00125\n",
      "Trimmed audio saved as ../data/download_df_audio/id08904_5_34560_HpE94fy7tu0_00125_cut.mp3\n",
      "Speaker: id08904, Video: aMiKPj6kITI, Txt file: 00309\n",
      "[youtube] Extracting URL: https://www.youtube.com/watch?v=aMiKPj6kITI\n",
      "[youtube] aMiKPj6kITI: Downloading webpage\n",
      "[youtube] aMiKPj6kITI: Downloading tv client config\n",
      "[youtube] aMiKPj6kITI: Downloading player 5ae7d525\n",
      "[youtube] aMiKPj6kITI: Downloading tv player API JSON\n",
      "[youtube] aMiKPj6kITI: Downloading ios player API JSON\n",
      "[youtube] aMiKPj6kITI: Downloading m3u8 information\n",
      "[info] aMiKPj6kITI: Downloading 1 format(s): 251\n",
      "[download] Destination: id08904_6_32200_aMiKPj6kITI_00309\n",
      "[download] 100% of    4.65MiB in 00:00:01 at 3.40MiB/s   \n",
      "[ExtractAudio] Destination: id08904_6_32200_aMiKPj6kITI_00309.mp3\n",
      "Deleting original file id08904_6_32200_aMiKPj6kITI_00309 (pass -k to keep)\n",
      "Audio downloaded as id08904_6_32200_aMiKPj6kITI_00309\n",
      "Trimmed audio saved as ../data/download_df_audio/id08904_6_32200_aMiKPj6kITI_00309_cut.mp3\n",
      "Speaker: id08904, Video: I5NZzFLZIGE, Txt file: 00136\n"
     ]
    },
    {
     "name": "stderr",
     "output_type": "stream",
     "text": [
      "ERROR: [youtube] I5NZzFLZIGE: Video unavailable\n"
     ]
    },
    {
     "name": "stdout",
     "output_type": "stream",
     "text": [
      "Speaker: id08904, Video: I5NZzFLZIGE, Txt file: 00135\n"
     ]
    },
    {
     "name": "stderr",
     "output_type": "stream",
     "text": [
      "ERROR: [youtube] I5NZzFLZIGE: Video unavailable\n"
     ]
    },
    {
     "name": "stdout",
     "output_type": "stream",
     "text": [
      "Speaker: id08904, Video: I5NZzFLZIGE, Txt file: 00130\n"
     ]
    },
    {
     "name": "stderr",
     "output_type": "stream",
     "text": [
      "ERROR: [youtube] I5NZzFLZIGE: Video unavailable\n"
     ]
    },
    {
     "name": "stdout",
     "output_type": "stream",
     "text": [
      "Speaker: id08904, Video: aefAQgnznBI, Txt file: 00316\n",
      "[youtube] Extracting URL: https://www.youtube.com/watch?v=aefAQgnznBI\n",
      "[youtube] aefAQgnznBI: Downloading webpage\n",
      "[youtube] aefAQgnznBI: Downloading tv client config\n",
      "[youtube] aefAQgnznBI: Downloading player 5ae7d525\n",
      "[youtube] aefAQgnznBI: Downloading tv player API JSON\n",
      "[youtube] aefAQgnznBI: Downloading ios player API JSON\n",
      "[youtube] aefAQgnznBI: Downloading m3u8 information\n",
      "[info] aefAQgnznBI: Downloading 1 format(s): 251\n",
      "[download] Destination: id08904_7_27400_aefAQgnznBI_00316\n",
      "[download] 100% of    2.24MiB in 00:00:00 at 2.42MiB/s   \n",
      "[ExtractAudio] Destination: id08904_7_27400_aefAQgnznBI_00316.mp3\n",
      "Deleting original file id08904_7_27400_aefAQgnznBI_00316 (pass -k to keep)\n",
      "Audio downloaded as id08904_7_27400_aefAQgnznBI_00316\n",
      "Trimmed audio saved as ../data/download_df_audio/id08904_7_27400_aefAQgnznBI_00316_cut.mp3\n",
      "Speaker: id08904, Video: oum-_T0LstA, Txt file: 00407\n",
      "[youtube] Extracting URL: https://www.youtube.com/watch?v=oum-_T0LstA\n",
      "[youtube] oum-_T0LstA: Downloading webpage\n",
      "[youtube] oum-_T0LstA: Downloading tv client config\n",
      "[youtube] oum-_T0LstA: Downloading player 5ae7d525\n",
      "[youtube] oum-_T0LstA: Downloading tv player API JSON\n",
      "[youtube] oum-_T0LstA: Downloading ios player API JSON\n",
      "[youtube] oum-_T0LstA: Downloading m3u8 information\n",
      "[info] oum-_T0LstA: Downloading 1 format(s): 140\n",
      "[download] Destination: id08904_8_27040_oum-_T0LstA_00407\n",
      "[download] 100% of    6.00MiB in 00:00:01 at 3.12MiB/s   \n",
      "[FixupM4a] Correcting container of \"id08904_8_27040_oum-_T0LstA_00407\"\n",
      "[ExtractAudio] Destination: id08904_8_27040_oum-_T0LstA_00407.mp3\n",
      "Deleting original file id08904_8_27040_oum-_T0LstA_00407 (pass -k to keep)\n",
      "Audio downloaded as id08904_8_27040_oum-_T0LstA_00407\n",
      "Trimmed audio saved as ../data/download_df_audio/id08904_8_27040_oum-_T0LstA_00407_cut.mp3\n",
      "Speaker: id08904, Video: 5uy1tSAdV4o, Txt file: 00063\n",
      "[youtube] Extracting URL: https://www.youtube.com/watch?v=5uy1tSAdV4o\n",
      "[youtube] 5uy1tSAdV4o: Downloading webpage\n",
      "[youtube] 5uy1tSAdV4o: Downloading tv client config\n",
      "[youtube] 5uy1tSAdV4o: Downloading player 5ae7d525\n",
      "[youtube] 5uy1tSAdV4o: Downloading tv player API JSON\n",
      "[youtube] 5uy1tSAdV4o: Downloading ios player API JSON\n",
      "[youtube] 5uy1tSAdV4o: Downloading m3u8 information\n",
      "[info] 5uy1tSAdV4o: Downloading 1 format(s): 251\n",
      "[download] Destination: id08904_9_26840_5uy1tSAdV4o_00063\n",
      "[download] 100% of    1.88MiB in 00:00:00 at 2.85MiB/s   \n",
      "[ExtractAudio] Destination: id08904_9_26840_5uy1tSAdV4o_00063.mp3\n",
      "Deleting original file id08904_9_26840_5uy1tSAdV4o_00063 (pass -k to keep)\n",
      "Audio downloaded as id08904_9_26840_5uy1tSAdV4o_00063\n",
      "Trimmed audio saved as ../data/download_df_audio/id08904_9_26840_5uy1tSAdV4o_00063_cut.mp3\n",
      "Speaker: id08917, Video: jNJ3XthDtp8, Txt file: 00357\n",
      "[youtube] Extracting URL: https://www.youtube.com/watch?v=jNJ3XthDtp8\n",
      "[youtube] jNJ3XthDtp8: Downloading webpage\n",
      "[youtube] jNJ3XthDtp8: Downloading tv client config\n",
      "[youtube] jNJ3XthDtp8: Downloading player 5ae7d525\n",
      "[youtube] jNJ3XthDtp8: Downloading tv player API JSON\n",
      "[youtube] jNJ3XthDtp8: Downloading ios player API JSON\n",
      "[youtube] jNJ3XthDtp8: Downloading m3u8 information\n",
      "[info] jNJ3XthDtp8: Downloading 1 format(s): 251\n",
      "[download] Destination: id08917_2_39480_jNJ3XthDtp8_00357\n",
      "[download] 100% of    3.61MiB in 00:00:01 at 2.74MiB/s   \n",
      "[ExtractAudio] Destination: id08917_2_39480_jNJ3XthDtp8_00357.mp3\n",
      "Deleting original file id08917_2_39480_jNJ3XthDtp8_00357 (pass -k to keep)\n",
      "Audio downloaded as id08917_2_39480_jNJ3XthDtp8_00357\n",
      "Trimmed audio saved as ../data/download_df_audio/id08917_2_39480_jNJ3XthDtp8_00357_cut.mp3\n",
      "Speaker: id08917, Video: 6rN2e58-xoU, Txt file: 00096\n",
      "[youtube] Extracting URL: https://www.youtube.com/watch?v=6rN2e58-xoU\n",
      "[youtube] 6rN2e58-xoU: Downloading webpage\n",
      "[youtube] 6rN2e58-xoU: Downloading tv client config\n",
      "[youtube] 6rN2e58-xoU: Downloading player 5ae7d525\n",
      "[youtube] 6rN2e58-xoU: Downloading tv player API JSON\n",
      "[youtube] 6rN2e58-xoU: Downloading ios player API JSON\n",
      "[youtube] 6rN2e58-xoU: Downloading m3u8 information\n",
      "[info] 6rN2e58-xoU: Downloading 1 format(s): 251\n",
      "[download] Destination: id08917_3_35640_6rN2e58-xoU_00096\n",
      "[download] 100% of    2.97MiB in 00:00:00 at 4.93MiB/s   \n",
      "[ExtractAudio] Destination: id08917_3_35640_6rN2e58-xoU_00096.mp3\n",
      "Deleting original file id08917_3_35640_6rN2e58-xoU_00096 (pass -k to keep)\n",
      "Audio downloaded as id08917_3_35640_6rN2e58-xoU_00096\n",
      "Trimmed audio saved as ../data/download_df_audio/id08917_3_35640_6rN2e58-xoU_00096_cut.mp3\n",
      "Speaker: id08917, Video: JZwxGIWP8sg, Txt file: 00203\n"
     ]
    },
    {
     "name": "stderr",
     "output_type": "stream",
     "text": [
      "ERROR: [youtube] JZwxGIWP8sg: Video unavailable\n"
     ]
    },
    {
     "name": "stdout",
     "output_type": "stream",
     "text": [
      "Speaker: id08917, Video: f5rBfl0_HTM, Txt file: 00329\n",
      "[youtube] Extracting URL: https://www.youtube.com/watch?v=f5rBfl0_HTM\n",
      "[youtube] f5rBfl0_HTM: Downloading webpage\n",
      "[youtube] f5rBfl0_HTM: Downloading tv client config\n",
      "[youtube] f5rBfl0_HTM: Downloading player 5ae7d525\n",
      "[youtube] f5rBfl0_HTM: Downloading tv player API JSON\n",
      "[youtube] f5rBfl0_HTM: Downloading ios player API JSON\n",
      "[youtube] f5rBfl0_HTM: Downloading m3u8 information\n",
      "[info] f5rBfl0_HTM: Downloading 1 format(s): 251\n",
      "[download] Destination: id08917_4_27440_f5rBfl0_HTM_00329\n",
      "[download] 100% of    3.60MiB in 00:00:00 at 4.69MiB/s   \n",
      "[ExtractAudio] Destination: id08917_4_27440_f5rBfl0_HTM_00329.mp3\n",
      "Deleting original file id08917_4_27440_f5rBfl0_HTM_00329 (pass -k to keep)\n",
      "Audio downloaded as id08917_4_27440_f5rBfl0_HTM_00329\n",
      "Trimmed audio saved as ../data/download_df_audio/id08917_4_27440_f5rBfl0_HTM_00329_cut.mp3\n",
      "Speaker: id08917, Video: a-f4DDnGSBc, Txt file: 00277\n",
      "[youtube] Extracting URL: https://www.youtube.com/watch?v=a-f4DDnGSBc\n",
      "[youtube] a-f4DDnGSBc: Downloading webpage\n",
      "[youtube] a-f4DDnGSBc: Downloading tv client config\n",
      "[youtube] a-f4DDnGSBc: Downloading player 5ae7d525\n",
      "[youtube] a-f4DDnGSBc: Downloading tv player API JSON\n",
      "[youtube] a-f4DDnGSBc: Downloading ios player API JSON\n",
      "[youtube] a-f4DDnGSBc: Downloading m3u8 information\n",
      "[info] a-f4DDnGSBc: Downloading 1 format(s): 251\n",
      "[download] Destination: id08917_5_25760_a-f4DDnGSBc_00277\n",
      "[download] 100% of    6.37MiB in 00:00:00 at 8.29MiB/s   \n",
      "[ExtractAudio] Destination: id08917_5_25760_a-f4DDnGSBc_00277.mp3\n",
      "Deleting original file id08917_5_25760_a-f4DDnGSBc_00277 (pass -k to keep)\n",
      "Audio downloaded as id08917_5_25760_a-f4DDnGSBc_00277\n",
      "Trimmed audio saved as ../data/download_df_audio/id08917_5_25760_a-f4DDnGSBc_00277_cut.mp3\n",
      "Speaker: id08917, Video: yHSnKBg84dk, Txt file: 00482\n",
      "[youtube] Extracting URL: https://www.youtube.com/watch?v=yHSnKBg84dk\n",
      "[youtube] yHSnKBg84dk: Downloading webpage\n",
      "[youtube] yHSnKBg84dk: Downloading tv client config\n",
      "[youtube] yHSnKBg84dk: Downloading player 5ae7d525\n",
      "[youtube] yHSnKBg84dk: Downloading tv player API JSON\n",
      "[youtube] yHSnKBg84dk: Downloading ios player API JSON\n",
      "[youtube] yHSnKBg84dk: Downloading m3u8 information\n",
      "[info] yHSnKBg84dk: Downloading 1 format(s): 251\n",
      "[download] Destination: id08917_6_22280_yHSnKBg84dk_00482\n",
      "[download] 100% of    5.04MiB in 00:00:01 at 3.09MiB/s   \n",
      "[ExtractAudio] Destination: id08917_6_22280_yHSnKBg84dk_00482.mp3\n",
      "Deleting original file id08917_6_22280_yHSnKBg84dk_00482 (pass -k to keep)\n",
      "Audio downloaded as id08917_6_22280_yHSnKBg84dk_00482\n",
      "Trimmed audio saved as ../data/download_df_audio/id08917_6_22280_yHSnKBg84dk_00482_cut.mp3\n",
      "Speaker: id08917, Video: mzGewI9MZD4, Txt file: 00389\n",
      "[youtube] Extracting URL: https://www.youtube.com/watch?v=mzGewI9MZD4\n",
      "[youtube] mzGewI9MZD4: Downloading webpage\n",
      "[youtube] mzGewI9MZD4: Downloading tv client config\n",
      "[youtube] mzGewI9MZD4: Downloading player 5ae7d525\n",
      "[youtube] mzGewI9MZD4: Downloading tv player API JSON\n",
      "[youtube] mzGewI9MZD4: Downloading ios player API JSON\n",
      "[youtube] mzGewI9MZD4: Downloading m3u8 information\n",
      "[info] mzGewI9MZD4: Downloading 1 format(s): 251\n",
      "[download] Destination: id08917_7_22120_mzGewI9MZD4_00389\n",
      "[download] 100% of    3.02MiB in 00:00:00 at 3.07MiB/s   \n",
      "[ExtractAudio] Destination: id08917_7_22120_mzGewI9MZD4_00389.mp3\n",
      "Deleting original file id08917_7_22120_mzGewI9MZD4_00389 (pass -k to keep)\n",
      "Audio downloaded as id08917_7_22120_mzGewI9MZD4_00389\n",
      "Trimmed audio saved as ../data/download_df_audio/id08917_7_22120_mzGewI9MZD4_00389_cut.mp3\n",
      "Speaker: id08917, Video: u2k8Tx9RKuY, Txt file: 00456\n",
      "[youtube] Extracting URL: https://www.youtube.com/watch?v=u2k8Tx9RKuY\n",
      "[youtube] u2k8Tx9RKuY: Downloading webpage\n",
      "[youtube] u2k8Tx9RKuY: Downloading tv client config\n",
      "[youtube] u2k8Tx9RKuY: Downloading player 5ae7d525\n",
      "[youtube] u2k8Tx9RKuY: Downloading tv player API JSON\n",
      "[youtube] u2k8Tx9RKuY: Downloading ios player API JSON\n",
      "[youtube] u2k8Tx9RKuY: Downloading m3u8 information\n",
      "[info] u2k8Tx9RKuY: Downloading 1 format(s): 251\n",
      "[download] Destination: id08917_8_21800_u2k8Tx9RKuY_00456\n",
      "[download] 100% of    3.45MiB in 00:00:00 at 3.99MiB/s   \n",
      "[ExtractAudio] Destination: id08917_8_21800_u2k8Tx9RKuY_00456.mp3\n",
      "Deleting original file id08917_8_21800_u2k8Tx9RKuY_00456 (pass -k to keep)\n",
      "Audio downloaded as id08917_8_21800_u2k8Tx9RKuY_00456\n",
      "Trimmed audio saved as ../data/download_df_audio/id08917_8_21800_u2k8Tx9RKuY_00456_cut.mp3\n",
      "Speaker: id08917, Video: a-f4DDnGSBc, Txt file: 00260\n",
      "[youtube] Extracting URL: https://www.youtube.com/watch?v=a-f4DDnGSBc\n",
      "[youtube] a-f4DDnGSBc: Downloading webpage\n",
      "[youtube] a-f4DDnGSBc: Downloading tv client config\n",
      "[youtube] a-f4DDnGSBc: Downloading player 5ae7d525\n",
      "[youtube] a-f4DDnGSBc: Downloading tv player API JSON\n",
      "[youtube] a-f4DDnGSBc: Downloading ios player API JSON\n",
      "[youtube] a-f4DDnGSBc: Downloading m3u8 information\n",
      "[info] a-f4DDnGSBc: Downloading 1 format(s): 251\n",
      "[download] Destination: id08917_9_21600_a-f4DDnGSBc_00260\n",
      "[download] 100% of    6.37MiB in 00:00:00 at 11.72MiB/s  \n",
      "[ExtractAudio] Destination: id08917_9_21600_a-f4DDnGSBc_00260.mp3\n",
      "Deleting original file id08917_9_21600_a-f4DDnGSBc_00260 (pass -k to keep)\n",
      "Audio downloaded as id08917_9_21600_a-f4DDnGSBc_00260\n",
      "Trimmed audio saved as ../data/download_df_audio/id08917_9_21600_a-f4DDnGSBc_00260_cut.mp3\n",
      "Speaker: id08999, Video: poI11uU2isQ, Txt file: 00450\n"
     ]
    },
    {
     "name": "stderr",
     "output_type": "stream",
     "text": [
      "ERROR: [youtube] poI11uU2isQ: Private video. Sign in if you've been granted access to this video. Use --cookies-from-browser or --cookies for the authentication. See  https://github.com/yt-dlp/yt-dlp/wiki/FAQ#how-do-i-pass-cookies-to-yt-dlp  for how to manually pass cookies. Also see  https://github.com/yt-dlp/yt-dlp/wiki/Extractors#exporting-youtube-cookies  for tips on effectively exporting YouTube cookies\n"
     ]
    },
    {
     "name": "stdout",
     "output_type": "stream",
     "text": [
      "Speaker: id08999, Video: _r2RfU9wZfM, Txt file: 00269\n"
     ]
    },
    {
     "name": "stderr",
     "output_type": "stream",
     "text": [
      "ERROR: [youtube] _r2RfU9wZfM: Private video. Sign in if you've been granted access to this video. Use --cookies-from-browser or --cookies for the authentication. See  https://github.com/yt-dlp/yt-dlp/wiki/FAQ#how-do-i-pass-cookies-to-yt-dlp  for how to manually pass cookies. Also see  https://github.com/yt-dlp/yt-dlp/wiki/Extractors#exporting-youtube-cookies  for tips on effectively exporting YouTube cookies\n"
     ]
    },
    {
     "name": "stdout",
     "output_type": "stream",
     "text": [
      "Speaker: id08999, Video: 4v0J5KdrDL4, Txt file: 00068\n",
      "[youtube] Extracting URL: https://www.youtube.com/watch?v=4v0J5KdrDL4\n",
      "[youtube] 4v0J5KdrDL4: Downloading webpage\n",
      "[youtube] 4v0J5KdrDL4: Downloading tv client config\n",
      "[youtube] 4v0J5KdrDL4: Downloading player 5ae7d525\n",
      "[youtube] 4v0J5KdrDL4: Downloading tv player API JSON\n",
      "[youtube] 4v0J5KdrDL4: Downloading ios player API JSON\n",
      "[youtube] 4v0J5KdrDL4: Downloading m3u8 information\n",
      "[info] 4v0J5KdrDL4: Downloading 1 format(s): 251\n",
      "[download] Destination: id08999_2_28080_4v0J5KdrDL4_00068\n",
      "[download] 100% of    8.46MiB in 00:00:00 at 8.79MiB/s   \n",
      "[ExtractAudio] Destination: id08999_2_28080_4v0J5KdrDL4_00068.mp3\n",
      "Deleting original file id08999_2_28080_4v0J5KdrDL4_00068 (pass -k to keep)\n",
      "Audio downloaded as id08999_2_28080_4v0J5KdrDL4_00068\n",
      "Trimmed audio saved as ../data/download_df_audio/id08999_2_28080_4v0J5KdrDL4_00068_cut.mp3\n",
      "Speaker: id08999, Video: _r2RfU9wZfM, Txt file: 00268\n"
     ]
    },
    {
     "name": "stderr",
     "output_type": "stream",
     "text": [
      "ERROR: [youtube] _r2RfU9wZfM: Private video. Sign in if you've been granted access to this video. Use --cookies-from-browser or --cookies for the authentication. See  https://github.com/yt-dlp/yt-dlp/wiki/FAQ#how-do-i-pass-cookies-to-yt-dlp  for how to manually pass cookies. Also see  https://github.com/yt-dlp/yt-dlp/wiki/Extractors#exporting-youtube-cookies  for tips on effectively exporting YouTube cookies\n"
     ]
    },
    {
     "name": "stdout",
     "output_type": "stream",
     "text": [
      "Speaker: id08999, Video: K5kNiePo57Y, Txt file: 00124\n"
     ]
    },
    {
     "name": "stderr",
     "output_type": "stream",
     "text": [
      "ERROR: [youtube] K5kNiePo57Y: Private video. Sign in if you've been granted access to this video. Use --cookies-from-browser or --cookies for the authentication. See  https://github.com/yt-dlp/yt-dlp/wiki/FAQ#how-do-i-pass-cookies-to-yt-dlp  for how to manually pass cookies. Also see  https://github.com/yt-dlp/yt-dlp/wiki/Extractors#exporting-youtube-cookies  for tips on effectively exporting YouTube cookies\n"
     ]
    },
    {
     "name": "stdout",
     "output_type": "stream",
     "text": [
      "Speaker: id08999, Video: tm0lN6z_ZpE, Txt file: 00490\n",
      "[youtube] Extracting URL: https://www.youtube.com/watch?v=tm0lN6z_ZpE\n",
      "[youtube] tm0lN6z_ZpE: Downloading webpage\n",
      "[youtube] tm0lN6z_ZpE: Downloading tv client config\n",
      "[youtube] tm0lN6z_ZpE: Downloading player 5ae7d525\n",
      "[youtube] tm0lN6z_ZpE: Downloading tv player API JSON\n",
      "[youtube] tm0lN6z_ZpE: Downloading ios player API JSON\n",
      "[youtube] tm0lN6z_ZpE: Downloading m3u8 information\n",
      "[info] tm0lN6z_ZpE: Downloading 1 format(s): 251\n",
      "[download] Destination: id08999_3_18520_tm0lN6z_ZpE_00490\n",
      "[download] 100% of   11.85MiB in 00:00:01 at 9.46MiB/s     \n",
      "[ExtractAudio] Destination: id08999_3_18520_tm0lN6z_ZpE_00490.mp3\n",
      "Deleting original file id08999_3_18520_tm0lN6z_ZpE_00490 (pass -k to keep)\n",
      "Audio downloaded as id08999_3_18520_tm0lN6z_ZpE_00490\n",
      "Trimmed audio saved as ../data/download_df_audio/id08999_3_18520_tm0lN6z_ZpE_00490_cut.mp3\n",
      "Speaker: id08999, Video: Pju4O6IY6NM, Txt file: 00182\n"
     ]
    },
    {
     "name": "stderr",
     "output_type": "stream",
     "text": [
      "ERROR: [youtube] Pju4O6IY6NM: Video unavailable\n"
     ]
    },
    {
     "name": "stdout",
     "output_type": "stream",
     "text": [
      "Speaker: id08999, Video: 4v0J5KdrDL4, Txt file: 00073\n",
      "[youtube] Extracting URL: https://www.youtube.com/watch?v=4v0J5KdrDL4\n",
      "[youtube] 4v0J5KdrDL4: Downloading webpage\n",
      "[youtube] 4v0J5KdrDL4: Downloading tv client config\n",
      "[youtube] 4v0J5KdrDL4: Downloading player 5ae7d525\n",
      "[youtube] 4v0J5KdrDL4: Downloading tv player API JSON\n",
      "[youtube] 4v0J5KdrDL4: Downloading ios player API JSON\n",
      "[youtube] 4v0J5KdrDL4: Downloading m3u8 information\n",
      "[info] 4v0J5KdrDL4: Downloading 1 format(s): 251\n",
      "[download] Destination: id08999_4_17120_4v0J5KdrDL4_00073\n",
      "[download] 100% of    8.46MiB in 00:00:00 at 15.72MiB/s  \n",
      "[ExtractAudio] Destination: id08999_4_17120_4v0J5KdrDL4_00073.mp3\n",
      "Deleting original file id08999_4_17120_4v0J5KdrDL4_00073 (pass -k to keep)\n",
      "Audio downloaded as id08999_4_17120_4v0J5KdrDL4_00073\n",
      "Trimmed audio saved as ../data/download_df_audio/id08999_4_17120_4v0J5KdrDL4_00073_cut.mp3\n",
      "Speaker: id08999, Video: hlNuTY_1N0A, Txt file: 00360\n",
      "[youtube] Extracting URL: https://www.youtube.com/watch?v=hlNuTY_1N0A\n",
      "[youtube] hlNuTY_1N0A: Downloading webpage\n",
      "[youtube] hlNuTY_1N0A: Downloading tv client config\n",
      "[youtube] hlNuTY_1N0A: Downloading player 5ae7d525\n",
      "[youtube] hlNuTY_1N0A: Downloading tv player API JSON\n",
      "[youtube] hlNuTY_1N0A: Downloading ios player API JSON\n",
      "[youtube] hlNuTY_1N0A: Downloading m3u8 information\n",
      "[info] hlNuTY_1N0A: Downloading 1 format(s): 251\n",
      "[download] Destination: id08999_5_17080_hlNuTY_1N0A_00360\n",
      "[download] 100% of    4.35MiB in 00:00:01 at 2.94MiB/s   \n",
      "[ExtractAudio] Destination: id08999_5_17080_hlNuTY_1N0A_00360.mp3\n",
      "Deleting original file id08999_5_17080_hlNuTY_1N0A_00360 (pass -k to keep)\n",
      "Audio downloaded as id08999_5_17080_hlNuTY_1N0A_00360\n",
      "Trimmed audio saved as ../data/download_df_audio/id08999_5_17080_hlNuTY_1N0A_00360_cut.mp3\n",
      "Speaker: id08999, Video: poI11uU2isQ, Txt file: 00452\n"
     ]
    },
    {
     "name": "stderr",
     "output_type": "stream",
     "text": [
      "ERROR: [youtube] poI11uU2isQ: Private video. Sign in if you've been granted access to this video. Use --cookies-from-browser or --cookies for the authentication. See  https://github.com/yt-dlp/yt-dlp/wiki/FAQ#how-do-i-pass-cookies-to-yt-dlp  for how to manually pass cookies. Also see  https://github.com/yt-dlp/yt-dlp/wiki/Extractors#exporting-youtube-cookies  for tips on effectively exporting YouTube cookies\n"
     ]
    },
    {
     "name": "stdout",
     "output_type": "stream",
     "text": [
      "Speaker: id08999, Video: 3r1iLWVnh6I, Txt file: 00047\n",
      "[youtube] Extracting URL: https://www.youtube.com/watch?v=3r1iLWVnh6I\n",
      "[youtube] 3r1iLWVnh6I: Downloading webpage\n",
      "[youtube] 3r1iLWVnh6I: Downloading tv client config\n",
      "[youtube] 3r1iLWVnh6I: Downloading player 5ae7d525\n",
      "[youtube] 3r1iLWVnh6I: Downloading tv player API JSON\n",
      "[youtube] 3r1iLWVnh6I: Downloading ios player API JSON\n",
      "[youtube] 3r1iLWVnh6I: Downloading m3u8 information\n",
      "[info] 3r1iLWVnh6I: Downloading 1 format(s): 251\n",
      "[download] Destination: id08999_6_15840_3r1iLWVnh6I_00047\n",
      "[download] 100% of    1.90MiB in 00:00:00 at 2.96MiB/s   \n",
      "[ExtractAudio] Destination: id08999_6_15840_3r1iLWVnh6I_00047.mp3\n",
      "Deleting original file id08999_6_15840_3r1iLWVnh6I_00047 (pass -k to keep)\n",
      "Audio downloaded as id08999_6_15840_3r1iLWVnh6I_00047\n",
      "Trimmed audio saved as ../data/download_df_audio/id08999_6_15840_3r1iLWVnh6I_00047_cut.mp3\n",
      "Speaker: id08999, Video: Ti8fovGwG4c, Txt file: 00247\n",
      "[youtube] Extracting URL: https://www.youtube.com/watch?v=Ti8fovGwG4c\n",
      "[youtube] Ti8fovGwG4c: Downloading webpage\n",
      "[youtube] Ti8fovGwG4c: Downloading tv client config\n",
      "[youtube] Ti8fovGwG4c: Downloading player 5ae7d525\n",
      "[youtube] Ti8fovGwG4c: Downloading tv player API JSON\n",
      "[youtube] Ti8fovGwG4c: Downloading ios player API JSON\n",
      "[youtube] Ti8fovGwG4c: Downloading m3u8 information\n",
      "[info] Ti8fovGwG4c: Downloading 1 format(s): 140\n",
      "[download] Destination: id08999_7_15800_Ti8fovGwG4c_00247\n",
      "[download] 100% of    1.90MiB in 00:00:00 at 1.92MiB/s   \n",
      "[FixupM4a] Correcting container of \"id08999_7_15800_Ti8fovGwG4c_00247\"\n",
      "[ExtractAudio] Destination: id08999_7_15800_Ti8fovGwG4c_00247.mp3\n",
      "Deleting original file id08999_7_15800_Ti8fovGwG4c_00247 (pass -k to keep)\n",
      "Audio downloaded as id08999_7_15800_Ti8fovGwG4c_00247\n",
      "Trimmed audio saved as ../data/download_df_audio/id08999_7_15800_Ti8fovGwG4c_00247_cut.mp3\n",
      "Speaker: id08999, Video: 0eCN3tXZEoY, Txt file: 00013\n",
      "[youtube] Extracting URL: https://www.youtube.com/watch?v=0eCN3tXZEoY\n",
      "[youtube] 0eCN3tXZEoY: Downloading webpage\n",
      "[youtube] 0eCN3tXZEoY: Downloading tv client config\n",
      "[youtube] 0eCN3tXZEoY: Downloading player 5ae7d525\n",
      "[youtube] 0eCN3tXZEoY: Downloading tv player API JSON\n",
      "[youtube] 0eCN3tXZEoY: Downloading ios player API JSON\n",
      "[youtube] 0eCN3tXZEoY: Downloading m3u8 information\n",
      "[info] 0eCN3tXZEoY: Downloading 1 format(s): 251\n",
      "[download] Destination: id08999_8_15680_0eCN3tXZEoY_00013\n",
      "[download] 100% of    5.88MiB in 00:00:01 at 3.59MiB/s   \n",
      "[ExtractAudio] Destination: id08999_8_15680_0eCN3tXZEoY_00013.mp3\n",
      "Deleting original file id08999_8_15680_0eCN3tXZEoY_00013 (pass -k to keep)\n",
      "Audio downloaded as id08999_8_15680_0eCN3tXZEoY_00013\n",
      "Trimmed audio saved as ../data/download_df_audio/id08999_8_15680_0eCN3tXZEoY_00013_cut.mp3\n",
      "Speaker: id08999, Video: cJHnDllOPto, Txt file: 00315\n"
     ]
    },
    {
     "name": "stderr",
     "output_type": "stream",
     "text": [
      "ERROR: [youtube] cJHnDllOPto: Private video. Sign in if you've been granted access to this video. Use --cookies-from-browser or --cookies for the authentication. See  https://github.com/yt-dlp/yt-dlp/wiki/FAQ#how-do-i-pass-cookies-to-yt-dlp  for how to manually pass cookies. Also see  https://github.com/yt-dlp/yt-dlp/wiki/Extractors#exporting-youtube-cookies  for tips on effectively exporting YouTube cookies\n"
     ]
    },
    {
     "name": "stdout",
     "output_type": "stream",
     "text": [
      "Speaker: id08999, Video: Pju4O6IY6NM, Txt file: 00193\n"
     ]
    },
    {
     "name": "stderr",
     "output_type": "stream",
     "text": [
      "ERROR: [youtube] Pju4O6IY6NM: Video unavailable\n"
     ]
    },
    {
     "name": "stdout",
     "output_type": "stream",
     "text": [
      "Speaker: id08999, Video: liE52jW2A60, Txt file: 00410\n",
      "[youtube] Extracting URL: https://www.youtube.com/watch?v=liE52jW2A60\n",
      "[youtube] liE52jW2A60: Downloading webpage\n",
      "[youtube] liE52jW2A60: Downloading tv client config\n",
      "[youtube] liE52jW2A60: Downloading player 5ae7d525\n",
      "[youtube] liE52jW2A60: Downloading tv player API JSON\n",
      "[youtube] liE52jW2A60: Downloading ios player API JSON\n",
      "[youtube] liE52jW2A60: Downloading m3u8 information\n",
      "[info] liE52jW2A60: Downloading 1 format(s): 251\n",
      "[download] Destination: id08999_9_14720_liE52jW2A60_00410\n",
      "[download] 100% of    1.75MiB in 00:00:00 at 3.17MiB/s   \n",
      "[ExtractAudio] Destination: id08999_9_14720_liE52jW2A60_00410.mp3\n",
      "Deleting original file id08999_9_14720_liE52jW2A60_00410 (pass -k to keep)\n",
      "Audio downloaded as id08999_9_14720_liE52jW2A60_00410\n",
      "Trimmed audio saved as ../data/download_df_audio/id08999_9_14720_liE52jW2A60_00410_cut.mp3\n",
      "Speaker: id09046, Video: wkqnymffnGs, Txt file: 00277\n"
     ]
    },
    {
     "name": "stderr",
     "output_type": "stream",
     "text": [
      "ERROR: [youtube] wkqnymffnGs: Video unavailable\n"
     ]
    },
    {
     "name": "stdout",
     "output_type": "stream",
     "text": [
      "Speaker: id09046, Video: K3tgd3aHr80, Txt file: 00090\n",
      "[youtube] Extracting URL: https://www.youtube.com/watch?v=K3tgd3aHr80\n",
      "[youtube] K3tgd3aHr80: Downloading webpage\n",
      "[youtube] K3tgd3aHr80: Downloading tv client config\n",
      "[youtube] K3tgd3aHr80: Downloading player 5ae7d525\n",
      "[youtube] K3tgd3aHr80: Downloading tv player API JSON\n",
      "[youtube] K3tgd3aHr80: Downloading ios player API JSON\n",
      "[youtube] K3tgd3aHr80: Downloading m3u8 information\n",
      "[info] K3tgd3aHr80: Downloading 1 format(s): 251\n",
      "[download] Destination: id09046_2_19920_K3tgd3aHr80_00090\n",
      "[download] 100% of   17.93MiB in 00:00:02 at 7.30MiB/s     \n",
      "[ExtractAudio] Destination: id09046_2_19920_K3tgd3aHr80_00090.mp3\n",
      "Deleting original file id09046_2_19920_K3tgd3aHr80_00090 (pass -k to keep)\n",
      "Audio downloaded as id09046_2_19920_K3tgd3aHr80_00090\n",
      "Trimmed audio saved as ../data/download_df_audio/id09046_2_19920_K3tgd3aHr80_00090_cut.mp3\n",
      "Speaker: id09046, Video: TVvq2lSI_6U, Txt file: 00140\n",
      "[youtube] Extracting URL: https://www.youtube.com/watch?v=TVvq2lSI_6U\n",
      "[youtube] TVvq2lSI_6U: Downloading webpage\n",
      "[youtube] TVvq2lSI_6U: Downloading tv client config\n",
      "[youtube] TVvq2lSI_6U: Downloading player 5ae7d525\n",
      "[youtube] TVvq2lSI_6U: Downloading tv player API JSON\n",
      "[youtube] TVvq2lSI_6U: Downloading ios player API JSON\n",
      "[youtube] TVvq2lSI_6U: Downloading m3u8 information\n",
      "[info] TVvq2lSI_6U: Downloading 1 format(s): 140\n",
      "[download] Destination: id09046_3_17880_TVvq2lSI_6U_00140\n",
      "[download] 100% of  735.11KiB in 00:00:00 at 2.77MiB/s   \n",
      "[FixupM4a] Correcting container of \"id09046_3_17880_TVvq2lSI_6U_00140\"\n",
      "[ExtractAudio] Destination: id09046_3_17880_TVvq2lSI_6U_00140.mp3\n",
      "Deleting original file id09046_3_17880_TVvq2lSI_6U_00140 (pass -k to keep)\n",
      "Audio downloaded as id09046_3_17880_TVvq2lSI_6U_00140\n",
      "Trimmed audio saved as ../data/download_df_audio/id09046_3_17880_TVvq2lSI_6U_00140_cut.mp3\n",
      "Speaker: id09046, Video: wkqnymffnGs, Txt file: 00274\n"
     ]
    },
    {
     "name": "stderr",
     "output_type": "stream",
     "text": [
      "ERROR: [youtube] wkqnymffnGs: Video unavailable\n"
     ]
    },
    {
     "name": "stdout",
     "output_type": "stream",
     "text": [
      "Speaker: id09046, Video: ilJ8itzNp0Q, Txt file: 00216\n",
      "[youtube] Extracting URL: https://www.youtube.com/watch?v=ilJ8itzNp0Q\n",
      "[youtube] ilJ8itzNp0Q: Downloading webpage\n",
      "[youtube] ilJ8itzNp0Q: Downloading tv client config\n",
      "[youtube] ilJ8itzNp0Q: Downloading player 5ae7d525\n",
      "[youtube] ilJ8itzNp0Q: Downloading tv player API JSON\n",
      "[youtube] ilJ8itzNp0Q: Downloading ios player API JSON\n",
      "[youtube] ilJ8itzNp0Q: Downloading m3u8 information\n",
      "[info] ilJ8itzNp0Q: Downloading 1 format(s): 251\n",
      "[download] Destination: id09046_4_15120_ilJ8itzNp0Q_00216\n",
      "[download] 100% of    3.00MiB in 00:00:01 at 2.46MiB/s   \n",
      "[ExtractAudio] Destination: id09046_4_15120_ilJ8itzNp0Q_00216.mp3\n",
      "Deleting original file id09046_4_15120_ilJ8itzNp0Q_00216 (pass -k to keep)\n",
      "Audio downloaded as id09046_4_15120_ilJ8itzNp0Q_00216\n",
      "Trimmed audio saved as ../data/download_df_audio/id09046_4_15120_ilJ8itzNp0Q_00216_cut.mp3\n",
      "Speaker: id09046, Video: K3tgd3aHr80, Txt file: 00067\n",
      "[youtube] Extracting URL: https://www.youtube.com/watch?v=K3tgd3aHr80\n",
      "[youtube] K3tgd3aHr80: Downloading webpage\n",
      "[youtube] K3tgd3aHr80: Downloading tv client config\n",
      "[youtube] K3tgd3aHr80: Downloading player 5ae7d525\n",
      "[youtube] K3tgd3aHr80: Downloading tv player API JSON\n",
      "[youtube] K3tgd3aHr80: Downloading ios player API JSON\n",
      "[youtube] K3tgd3aHr80: Downloading m3u8 information\n",
      "[info] K3tgd3aHr80: Downloading 1 format(s): 251\n",
      "[download] Destination: id09046_5_14680_K3tgd3aHr80_00067\n",
      "[download] 100% of   17.93MiB in 00:00:01 at 13.20MiB/s    \n",
      "[ExtractAudio] Destination: id09046_5_14680_K3tgd3aHr80_00067.mp3\n",
      "Deleting original file id09046_5_14680_K3tgd3aHr80_00067 (pass -k to keep)\n",
      "Audio downloaded as id09046_5_14680_K3tgd3aHr80_00067\n",
      "Trimmed audio saved as ../data/download_df_audio/id09046_5_14680_K3tgd3aHr80_00067_cut.mp3\n",
      "Speaker: id09046, Video: 9uD78drLDhU, Txt file: 00032\n",
      "[youtube] Extracting URL: https://www.youtube.com/watch?v=9uD78drLDhU\n",
      "[youtube] 9uD78drLDhU: Downloading webpage\n",
      "[youtube] 9uD78drLDhU: Downloading tv client config\n",
      "[youtube] 9uD78drLDhU: Downloading player 5ae7d525\n",
      "[youtube] 9uD78drLDhU: Downloading tv player API JSON\n",
      "[youtube] 9uD78drLDhU: Downloading ios player API JSON\n",
      "[youtube] 9uD78drLDhU: Downloading m3u8 information\n",
      "[info] 9uD78drLDhU: Downloading 1 format(s): 251\n",
      "[download] Destination: id09046_6_13320_9uD78drLDhU_00032\n",
      "[download] 100% of    3.81MiB in 00:00:01 at 3.71MiB/s   \n",
      "[ExtractAudio] Destination: id09046_6_13320_9uD78drLDhU_00032.mp3\n",
      "Deleting original file id09046_6_13320_9uD78drLDhU_00032 (pass -k to keep)\n",
      "Audio downloaded as id09046_6_13320_9uD78drLDhU_00032\n",
      "Trimmed audio saved as ../data/download_df_audio/id09046_6_13320_9uD78drLDhU_00032_cut.mp3\n",
      "Speaker: id09046, Video: hot5ixctq70, Txt file: 00205\n",
      "[youtube] Extracting URL: https://www.youtube.com/watch?v=hot5ixctq70\n",
      "[youtube] hot5ixctq70: Downloading webpage\n",
      "[youtube] hot5ixctq70: Downloading tv client config\n",
      "[youtube] hot5ixctq70: Downloading player 5ae7d525\n",
      "[youtube] hot5ixctq70: Downloading tv player API JSON\n",
      "[youtube] hot5ixctq70: Downloading ios player API JSON\n",
      "[youtube] hot5ixctq70: Downloading m3u8 information\n",
      "[info] hot5ixctq70: Downloading 1 format(s): 140\n",
      "[download] Destination: id09046_7_12920_hot5ixctq70_00205\n",
      "[download] 100% of    7.21MiB in 00:00:02 at 2.73MiB/s   \n",
      "[FixupM4a] Correcting container of \"id09046_7_12920_hot5ixctq70_00205\"\n",
      "[ExtractAudio] Destination: id09046_7_12920_hot5ixctq70_00205.mp3\n",
      "Deleting original file id09046_7_12920_hot5ixctq70_00205 (pass -k to keep)\n",
      "Audio downloaded as id09046_7_12920_hot5ixctq70_00205\n",
      "Trimmed audio saved as ../data/download_df_audio/id09046_7_12920_hot5ixctq70_00205_cut.mp3\n",
      "Speaker: id09046, Video: K3tgd3aHr80, Txt file: 00066\n",
      "[youtube] Extracting URL: https://www.youtube.com/watch?v=K3tgd3aHr80\n",
      "[youtube] K3tgd3aHr80: Downloading webpage\n",
      "[youtube] K3tgd3aHr80: Downloading tv client config\n",
      "[youtube] K3tgd3aHr80: Downloading player 5ae7d525\n",
      "[youtube] K3tgd3aHr80: Downloading tv player API JSON\n",
      "[youtube] K3tgd3aHr80: Downloading ios player API JSON\n",
      "[youtube] K3tgd3aHr80: Downloading m3u8 information\n",
      "[info] K3tgd3aHr80: Downloading 1 format(s): 251\n",
      "[download] Destination: id09046_8_12400_K3tgd3aHr80_00066\n",
      "[download] 100% of   17.93MiB in 00:00:01 at 14.71MiB/s    \n",
      "[ExtractAudio] Destination: id09046_8_12400_K3tgd3aHr80_00066.mp3\n",
      "Deleting original file id09046_8_12400_K3tgd3aHr80_00066 (pass -k to keep)\n",
      "Audio downloaded as id09046_8_12400_K3tgd3aHr80_00066\n",
      "Trimmed audio saved as ../data/download_df_audio/id09046_8_12400_K3tgd3aHr80_00066_cut.mp3\n",
      "Speaker: id09046, Video: XWk76ojkHdc, Txt file: 00148\n",
      "[youtube] Extracting URL: https://www.youtube.com/watch?v=XWk76ojkHdc\n",
      "[youtube] XWk76ojkHdc: Downloading webpage\n",
      "[youtube] XWk76ojkHdc: Downloading tv client config\n",
      "[youtube] XWk76ojkHdc: Downloading player 5ae7d525\n",
      "[youtube] XWk76ojkHdc: Downloading tv player API JSON\n",
      "[youtube] XWk76ojkHdc: Downloading ios player API JSON\n",
      "[youtube] XWk76ojkHdc: Downloading m3u8 information\n",
      "[info] XWk76ojkHdc: Downloading 1 format(s): 140\n",
      "[download] Destination: id09046_9_12000_XWk76ojkHdc_00148\n",
      "[download] 100% of    3.11MiB in 00:00:01 at 2.92MiB/s   \n",
      "[FixupM4a] Correcting container of \"id09046_9_12000_XWk76ojkHdc_00148\"\n",
      "[ExtractAudio] Destination: id09046_9_12000_XWk76ojkHdc_00148.mp3\n",
      "Deleting original file id09046_9_12000_XWk76ojkHdc_00148 (pass -k to keep)\n",
      "Audio downloaded as id09046_9_12000_XWk76ojkHdc_00148\n",
      "Trimmed audio saved as ../data/download_df_audio/id09046_9_12000_XWk76ojkHdc_00148_cut.mp3\n",
      "Speaker: id09171, Video: 1fxsAEAVIF8, Txt file: 00015\n",
      "[youtube] Extracting URL: https://www.youtube.com/watch?v=1fxsAEAVIF8\n",
      "[youtube] 1fxsAEAVIF8: Downloading webpage\n",
      "[youtube] 1fxsAEAVIF8: Downloading tv client config\n",
      "[youtube] 1fxsAEAVIF8: Downloading player 5ae7d525\n",
      "[youtube] 1fxsAEAVIF8: Downloading tv player API JSON\n",
      "[youtube] 1fxsAEAVIF8: Downloading ios player API JSON\n",
      "[youtube] 1fxsAEAVIF8: Downloading m3u8 information\n",
      "[info] 1fxsAEAVIF8: Downloading 1 format(s): 140\n",
      "[download] Destination: id09171_2_44880_1fxsAEAVIF8_00015\n",
      "[download] 100% of   10.98MiB in 00:00:01 at 8.20MiB/s     \n",
      "[FixupM4a] Correcting container of \"id09171_2_44880_1fxsAEAVIF8_00015\"\n",
      "[ExtractAudio] Destination: id09171_2_44880_1fxsAEAVIF8_00015.mp3\n",
      "Deleting original file id09171_2_44880_1fxsAEAVIF8_00015 (pass -k to keep)\n",
      "Audio downloaded as id09171_2_44880_1fxsAEAVIF8_00015\n",
      "Trimmed audio saved as ../data/download_df_audio/id09171_2_44880_1fxsAEAVIF8_00015_cut.mp3\n",
      "Speaker: id09171, Video: mOCoBmkjJNI, Txt file: 00394\n"
     ]
    },
    {
     "name": "stderr",
     "output_type": "stream",
     "text": [
      "ERROR: [youtube] mOCoBmkjJNI: Video unavailable\n"
     ]
    },
    {
     "name": "stdout",
     "output_type": "stream",
     "text": [
      "Speaker: id09171, Video: mOCoBmkjJNI, Txt file: 00401\n"
     ]
    },
    {
     "name": "stderr",
     "output_type": "stream",
     "text": [
      "ERROR: [youtube] mOCoBmkjJNI: Video unavailable\n"
     ]
    },
    {
     "name": "stdout",
     "output_type": "stream",
     "text": [
      "Speaker: id09171, Video: Pi4etPfDSgs, Txt file: 00235\n"
     ]
    },
    {
     "name": "stderr",
     "output_type": "stream",
     "text": [
      "ERROR: [youtube] Pi4etPfDSgs: Video unavailable\n"
     ]
    },
    {
     "name": "stdout",
     "output_type": "stream",
     "text": [
      "Speaker: id09171, Video: mOCoBmkjJNI, Txt file: 00400\n"
     ]
    },
    {
     "name": "stderr",
     "output_type": "stream",
     "text": [
      "ERROR: [youtube] mOCoBmkjJNI: Video unavailable\n"
     ]
    },
    {
     "name": "stdout",
     "output_type": "stream",
     "text": [
      "Speaker: id09171, Video: mOCoBmkjJNI, Txt file: 00403\n"
     ]
    },
    {
     "name": "stderr",
     "output_type": "stream",
     "text": [
      "ERROR: [youtube] mOCoBmkjJNI: Video unavailable\n"
     ]
    },
    {
     "name": "stdout",
     "output_type": "stream",
     "text": [
      "Speaker: id09171, Video: MWsO3D8uCMo, Txt file: 00174\n",
      "[youtube] Extracting URL: https://www.youtube.com/watch?v=MWsO3D8uCMo\n",
      "[youtube] MWsO3D8uCMo: Downloading webpage\n",
      "[youtube] MWsO3D8uCMo: Downloading tv client config\n",
      "[youtube] MWsO3D8uCMo: Downloading player 5ae7d525\n",
      "[youtube] MWsO3D8uCMo: Downloading tv player API JSON\n",
      "[youtube] MWsO3D8uCMo: Downloading ios player API JSON\n",
      "[youtube] MWsO3D8uCMo: Downloading m3u8 information\n",
      "[info] MWsO3D8uCMo: Downloading 1 format(s): 140\n",
      "[download] Destination: id09171_3_26760_MWsO3D8uCMo_00174\n",
      "[download] 100% of    4.92MiB in 00:00:00 at 8.36MiB/s   \n",
      "[FixupM4a] Correcting container of \"id09171_3_26760_MWsO3D8uCMo_00174\"\n",
      "[ExtractAudio] Destination: id09171_3_26760_MWsO3D8uCMo_00174.mp3\n",
      "Deleting original file id09171_3_26760_MWsO3D8uCMo_00174 (pass -k to keep)\n",
      "Audio downloaded as id09171_3_26760_MWsO3D8uCMo_00174\n",
      "Trimmed audio saved as ../data/download_df_audio/id09171_3_26760_MWsO3D8uCMo_00174_cut.mp3\n",
      "Speaker: id09171, Video: mOCoBmkjJNI, Txt file: 00417\n"
     ]
    },
    {
     "name": "stderr",
     "output_type": "stream",
     "text": [
      "ERROR: [youtube] mOCoBmkjJNI: Video unavailable\n"
     ]
    },
    {
     "name": "stdout",
     "output_type": "stream",
     "text": [
      "Speaker: id09171, Video: 4TcInzUCrQk, Txt file: 00052\n",
      "[youtube] Extracting URL: https://www.youtube.com/watch?v=4TcInzUCrQk\n",
      "[youtube] 4TcInzUCrQk: Downloading webpage\n",
      "[youtube] 4TcInzUCrQk: Downloading tv client config\n",
      "[youtube] 4TcInzUCrQk: Downloading player 5ae7d525\n",
      "[youtube] 4TcInzUCrQk: Downloading tv player API JSON\n",
      "[youtube] 4TcInzUCrQk: Downloading ios player API JSON\n",
      "[youtube] 4TcInzUCrQk: Downloading m3u8 information\n",
      "[info] 4TcInzUCrQk: Downloading 1 format(s): 251\n",
      "[download] Destination: id09171_4_25880_4TcInzUCrQk_00052\n",
      "[download] 100% of    9.28MiB in 00:00:00 at 9.53MiB/s   \n",
      "[ExtractAudio] Destination: id09171_4_25880_4TcInzUCrQk_00052.mp3\n",
      "Deleting original file id09171_4_25880_4TcInzUCrQk_00052 (pass -k to keep)\n",
      "Audio downloaded as id09171_4_25880_4TcInzUCrQk_00052\n",
      "Trimmed audio saved as ../data/download_df_audio/id09171_4_25880_4TcInzUCrQk_00052_cut.mp3\n",
      "Speaker: id09171, Video: gLzvDi_J-gQ, Txt file: 00363\n",
      "[youtube] Extracting URL: https://www.youtube.com/watch?v=gLzvDi_J-gQ\n",
      "[youtube] gLzvDi_J-gQ: Downloading webpage\n",
      "[youtube] gLzvDi_J-gQ: Downloading tv client config\n",
      "[youtube] gLzvDi_J-gQ: Downloading player 5ae7d525\n",
      "[youtube] gLzvDi_J-gQ: Downloading tv player API JSON\n",
      "[youtube] gLzvDi_J-gQ: Downloading ios player API JSON\n",
      "[youtube] gLzvDi_J-gQ: Downloading m3u8 information\n",
      "[info] gLzvDi_J-gQ: Downloading 1 format(s): 251\n",
      "[download] Destination: id09171_5_25280_gLzvDi_J-gQ_00363\n",
      "[download] 100% of    4.92MiB in 00:00:01 at 4.63MiB/s   \n",
      "[ExtractAudio] Destination: id09171_5_25280_gLzvDi_J-gQ_00363.mp3\n",
      "Deleting original file id09171_5_25280_gLzvDi_J-gQ_00363 (pass -k to keep)\n",
      "Audio downloaded as id09171_5_25280_gLzvDi_J-gQ_00363\n",
      "Trimmed audio saved as ../data/download_df_audio/id09171_5_25280_gLzvDi_J-gQ_00363_cut.mp3\n",
      "Speaker: id09171, Video: tqW5Gifx9Oc, Txt file: 00463\n"
     ]
    },
    {
     "name": "stderr",
     "output_type": "stream",
     "text": [
      "ERROR: [youtube] tqW5Gifx9Oc: Private video. Sign in if you've been granted access to this video. Use --cookies-from-browser or --cookies for the authentication. See  https://github.com/yt-dlp/yt-dlp/wiki/FAQ#how-do-i-pass-cookies-to-yt-dlp  for how to manually pass cookies. Also see  https://github.com/yt-dlp/yt-dlp/wiki/Extractors#exporting-youtube-cookies  for tips on effectively exporting YouTube cookies\n"
     ]
    },
    {
     "name": "stdout",
     "output_type": "stream",
     "text": [
      "Speaker: id09171, Video: 9Nc9M_5GdNo, Txt file: 00074\n",
      "[youtube] Extracting URL: https://www.youtube.com/watch?v=9Nc9M_5GdNo\n",
      "[youtube] 9Nc9M_5GdNo: Downloading webpage\n",
      "[youtube] 9Nc9M_5GdNo: Downloading tv client config\n",
      "[youtube] 9Nc9M_5GdNo: Downloading player 5ae7d525\n",
      "[youtube] 9Nc9M_5GdNo: Downloading tv player API JSON\n",
      "[youtube] 9Nc9M_5GdNo: Downloading ios player API JSON\n",
      "[youtube] 9Nc9M_5GdNo: Downloading m3u8 information\n",
      "[info] 9Nc9M_5GdNo: Downloading 1 format(s): 251\n",
      "[download] Destination: id09171_6_24720_9Nc9M_5GdNo_00074\n",
      "[download] 100% of    1.87MiB in 00:00:00 at 3.28MiB/s   \n",
      "[ExtractAudio] Destination: id09171_6_24720_9Nc9M_5GdNo_00074.mp3\n",
      "Deleting original file id09171_6_24720_9Nc9M_5GdNo_00074 (pass -k to keep)\n",
      "Audio downloaded as id09171_6_24720_9Nc9M_5GdNo_00074\n",
      "Trimmed audio saved as ../data/download_df_audio/id09171_6_24720_9Nc9M_5GdNo_00074_cut.mp3\n",
      "Speaker: id09171, Video: Pi4etPfDSgs, Txt file: 00223\n"
     ]
    },
    {
     "name": "stderr",
     "output_type": "stream",
     "text": [
      "ERROR: [youtube] Pi4etPfDSgs: Video unavailable\n"
     ]
    },
    {
     "name": "stdout",
     "output_type": "stream",
     "text": [
      "Speaker: id09171, Video: nPo7L4GfLFg, Txt file: 00434\n",
      "[youtube] Extracting URL: https://www.youtube.com/watch?v=nPo7L4GfLFg\n",
      "[youtube] nPo7L4GfLFg: Downloading webpage\n",
      "[youtube] nPo7L4GfLFg: Downloading tv client config\n",
      "[youtube] nPo7L4GfLFg: Downloading player 5ae7d525\n",
      "[youtube] nPo7L4GfLFg: Downloading tv player API JSON\n",
      "[youtube] nPo7L4GfLFg: Downloading ios player API JSON\n",
      "[youtube] nPo7L4GfLFg: Downloading m3u8 information\n",
      "[info] nPo7L4GfLFg: Downloading 1 format(s): 251\n",
      "[download] Destination: id09171_7_23840_nPo7L4GfLFg_00434\n",
      "[download] 100% of    3.76MiB in 00:00:00 at 5.29MiB/s   \n",
      "[ExtractAudio] Destination: id09171_7_23840_nPo7L4GfLFg_00434.mp3\n",
      "Deleting original file id09171_7_23840_nPo7L4GfLFg_00434 (pass -k to keep)\n",
      "Audio downloaded as id09171_7_23840_nPo7L4GfLFg_00434\n",
      "Trimmed audio saved as ../data/download_df_audio/id09171_7_23840_nPo7L4GfLFg_00434_cut.mp3\n",
      "Speaker: id09171, Video: MVDpo1bR8VA, Txt file: 00154\n"
     ]
    },
    {
     "name": "stderr",
     "output_type": "stream",
     "text": [
      "ERROR: [youtube] MVDpo1bR8VA: Private video. Sign in if you've been granted access to this video. Use --cookies-from-browser or --cookies for the authentication. See  https://github.com/yt-dlp/yt-dlp/wiki/FAQ#how-do-i-pass-cookies-to-yt-dlp  for how to manually pass cookies. Also see  https://github.com/yt-dlp/yt-dlp/wiki/Extractors#exporting-youtube-cookies  for tips on effectively exporting YouTube cookies\n"
     ]
    },
    {
     "name": "stdout",
     "output_type": "stream",
     "text": [
      "Speaker: id09171, Video: mOCoBmkjJNI, Txt file: 00420\n"
     ]
    },
    {
     "name": "stderr",
     "output_type": "stream",
     "text": [
      "ERROR: [youtube] mOCoBmkjJNI: Video unavailable\n"
     ]
    },
    {
     "name": "stdout",
     "output_type": "stream",
     "text": [
      "Speaker: id09171, Video: tNNs-iOL0gk, Txt file: 00457\n",
      "[youtube] Extracting URL: https://www.youtube.com/watch?v=tNNs-iOL0gk\n",
      "[youtube] tNNs-iOL0gk: Downloading webpage\n",
      "[youtube] tNNs-iOL0gk: Downloading tv client config\n",
      "[youtube] tNNs-iOL0gk: Downloading player 5ae7d525\n",
      "[youtube] tNNs-iOL0gk: Downloading tv player API JSON\n",
      "[youtube] tNNs-iOL0gk: Downloading ios player API JSON\n",
      "[youtube] tNNs-iOL0gk: Downloading m3u8 information\n",
      "[info] tNNs-iOL0gk: Downloading 1 format(s): 140\n",
      "[download] Destination: id09171_8_22880_tNNs-iOL0gk_00457\n",
      "[download] 100% of    3.07MiB in 00:00:01 at 2.33MiB/s   \n",
      "[FixupM4a] Correcting container of \"id09171_8_22880_tNNs-iOL0gk_00457\"\n",
      "[ExtractAudio] Destination: id09171_8_22880_tNNs-iOL0gk_00457.mp3\n",
      "Deleting original file id09171_8_22880_tNNs-iOL0gk_00457 (pass -k to keep)\n",
      "Audio downloaded as id09171_8_22880_tNNs-iOL0gk_00457\n",
      "Trimmed audio saved as ../data/download_df_audio/id09171_8_22880_tNNs-iOL0gk_00457_cut.mp3\n",
      "Speaker: id09171, Video: 1fxsAEAVIF8, Txt file: 00026\n",
      "[youtube] Extracting URL: https://www.youtube.com/watch?v=1fxsAEAVIF8\n",
      "[youtube] 1fxsAEAVIF8: Downloading webpage\n",
      "[youtube] 1fxsAEAVIF8: Downloading tv client config\n",
      "[youtube] 1fxsAEAVIF8: Downloading player 5ae7d525\n",
      "[youtube] 1fxsAEAVIF8: Downloading tv player API JSON\n",
      "[youtube] 1fxsAEAVIF8: Downloading ios player API JSON\n",
      "[youtube] 1fxsAEAVIF8: Downloading m3u8 information\n",
      "[info] 1fxsAEAVIF8: Downloading 1 format(s): 140\n",
      "[download] Destination: id09171_9_21880_1fxsAEAVIF8_00026\n",
      "[download] 100% of   10.98MiB in 00:00:01 at 10.36MiB/s    \n",
      "[FixupM4a] Correcting container of \"id09171_9_21880_1fxsAEAVIF8_00026\"\n",
      "[ExtractAudio] Destination: id09171_9_21880_1fxsAEAVIF8_00026.mp3\n",
      "Deleting original file id09171_9_21880_1fxsAEAVIF8_00026 (pass -k to keep)\n",
      "Audio downloaded as id09171_9_21880_1fxsAEAVIF8_00026\n",
      "Trimmed audio saved as ../data/download_df_audio/id09171_9_21880_1fxsAEAVIF8_00026_cut.mp3\n",
      "Speaker: id09179, Video: qeoRyOh5EUk, Txt file: 00067\n"
     ]
    },
    {
     "name": "stderr",
     "output_type": "stream",
     "text": [
      "ERROR: [youtube] qeoRyOh5EUk: Video unavailable. This video is no longer available because the YouTube account associated with this video has been terminated.\n"
     ]
    },
    {
     "name": "stdout",
     "output_type": "stream",
     "text": [
      "Speaker: id09179, Video: TY8kMus6dpw, Txt file: 00032\n",
      "[youtube] Extracting URL: https://www.youtube.com/watch?v=TY8kMus6dpw\n",
      "[youtube] TY8kMus6dpw: Downloading webpage\n",
      "[youtube] TY8kMus6dpw: Downloading tv client config\n",
      "[youtube] TY8kMus6dpw: Downloading player 5ae7d525\n",
      "[youtube] TY8kMus6dpw: Downloading tv player API JSON\n",
      "[youtube] TY8kMus6dpw: Downloading ios player API JSON\n",
      "[youtube] TY8kMus6dpw: Downloading m3u8 information\n",
      "[info] TY8kMus6dpw: Downloading 1 format(s): 251\n",
      "[download] Destination: id09179_2_10560_TY8kMus6dpw_00032\n",
      "[download] 100% of    1.32MiB in 00:00:00 at 2.45MiB/s   \n",
      "[ExtractAudio] Destination: id09179_2_10560_TY8kMus6dpw_00032.mp3\n",
      "Deleting original file id09179_2_10560_TY8kMus6dpw_00032 (pass -k to keep)\n",
      "Audio downloaded as id09179_2_10560_TY8kMus6dpw_00032\n",
      "Trimmed audio saved as ../data/download_df_audio/id09179_2_10560_TY8kMus6dpw_00032_cut.mp3\n",
      "Speaker: id09179, Video: PisbJ7IjIWA, Txt file: 00021\n"
     ]
    },
    {
     "name": "stderr",
     "output_type": "stream",
     "text": [
      "ERROR: [youtube] PisbJ7IjIWA: Video unavailable. This video is no longer available because the YouTube account associated with this video has been terminated.\n"
     ]
    },
    {
     "name": "stdout",
     "output_type": "stream",
     "text": [
      "Speaker: id09179, Video: PxTbEzlO-pU, Txt file: 00022\n",
      "[youtube] Extracting URL: https://www.youtube.com/watch?v=PxTbEzlO-pU\n",
      "[youtube] PxTbEzlO-pU: Downloading webpage\n",
      "[youtube] PxTbEzlO-pU: Downloading tv client config\n",
      "[youtube] PxTbEzlO-pU: Downloading player 5ae7d525\n",
      "[youtube] PxTbEzlO-pU: Downloading tv player API JSON\n",
      "[youtube] PxTbEzlO-pU: Downloading ios player API JSON\n",
      "[youtube] PxTbEzlO-pU: Downloading m3u8 information\n",
      "[info] PxTbEzlO-pU: Downloading 1 format(s): 140\n",
      "[download] Destination: id09179_3_8600_PxTbEzlO-pU_00022\n",
      "[download] 100% of    7.02MiB in 00:00:00 at 8.51MiB/s     \n",
      "[FixupM4a] Correcting container of \"id09179_3_8600_PxTbEzlO-pU_00022\"\n",
      "[ExtractAudio] Destination: id09179_3_8600_PxTbEzlO-pU_00022.mp3\n",
      "Deleting original file id09179_3_8600_PxTbEzlO-pU_00022 (pass -k to keep)\n",
      "Audio downloaded as id09179_3_8600_PxTbEzlO-pU_00022\n",
      "Trimmed audio saved as ../data/download_df_audio/id09179_3_8600_PxTbEzlO-pU_00022_cut.mp3\n",
      "Speaker: id09179, Video: ckJ1XuVF1MU, Txt file: 00040\n",
      "[youtube] Extracting URL: https://www.youtube.com/watch?v=ckJ1XuVF1MU\n",
      "[youtube] ckJ1XuVF1MU: Downloading webpage\n",
      "[youtube] ckJ1XuVF1MU: Downloading tv client config\n",
      "[youtube] ckJ1XuVF1MU: Downloading player 5ae7d525\n",
      "[youtube] ckJ1XuVF1MU: Downloading tv player API JSON\n",
      "[youtube] ckJ1XuVF1MU: Downloading ios player API JSON\n",
      "[youtube] ckJ1XuVF1MU: Downloading m3u8 information\n",
      "[info] ckJ1XuVF1MU: Downloading 1 format(s): 140\n",
      "[download] Destination: id09179_4_8280_ckJ1XuVF1MU_00040\n",
      "[download] 100% of    6.11MiB in 00:00:01 at 4.21MiB/s   \n",
      "[FixupM4a] Correcting container of \"id09179_4_8280_ckJ1XuVF1MU_00040\"\n",
      "[ExtractAudio] Destination: id09179_4_8280_ckJ1XuVF1MU_00040.mp3\n",
      "Deleting original file id09179_4_8280_ckJ1XuVF1MU_00040 (pass -k to keep)\n",
      "Audio downloaded as id09179_4_8280_ckJ1XuVF1MU_00040\n",
      "Trimmed audio saved as ../data/download_df_audio/id09179_4_8280_ckJ1XuVF1MU_00040_cut.mp3\n",
      "Speaker: id09179, Video: i7ESXBpzUrY, Txt file: 00049\n",
      "[youtube] Extracting URL: https://www.youtube.com/watch?v=i7ESXBpzUrY\n",
      "[youtube] i7ESXBpzUrY: Downloading webpage\n",
      "[youtube] i7ESXBpzUrY: Downloading tv client config\n",
      "[youtube] i7ESXBpzUrY: Downloading player 5ae7d525\n",
      "[youtube] i7ESXBpzUrY: Downloading tv player API JSON\n",
      "[youtube] i7ESXBpzUrY: Downloading ios player API JSON\n",
      "[youtube] i7ESXBpzUrY: Downloading m3u8 information\n",
      "[info] i7ESXBpzUrY: Downloading 1 format(s): 140\n",
      "[download] Destination: id09179_5_8119_i7ESXBpzUrY_00049\n",
      "[download] 100% of   10.00MiB in 00:00:01 at 5.51MiB/s     \n",
      "[FixupM4a] Correcting container of \"id09179_5_8119_i7ESXBpzUrY_00049\"\n",
      "[ExtractAudio] Destination: id09179_5_8119_i7ESXBpzUrY_00049.mp3\n",
      "Deleting original file id09179_5_8119_i7ESXBpzUrY_00049 (pass -k to keep)\n",
      "Audio downloaded as id09179_5_8119_i7ESXBpzUrY_00049\n",
      "Trimmed audio saved as ../data/download_df_audio/id09179_5_8119_i7ESXBpzUrY_00049_cut.mp3\n",
      "Speaker: id09179, Video: ckJ1XuVF1MU, Txt file: 00038\n",
      "[youtube] Extracting URL: https://www.youtube.com/watch?v=ckJ1XuVF1MU\n",
      "[youtube] ckJ1XuVF1MU: Downloading webpage\n",
      "[youtube] ckJ1XuVF1MU: Downloading tv client config\n",
      "[youtube] ckJ1XuVF1MU: Downloading player 5ae7d525\n",
      "[youtube] ckJ1XuVF1MU: Downloading tv player API JSON\n",
      "[youtube] ckJ1XuVF1MU: Downloading ios player API JSON\n",
      "[youtube] ckJ1XuVF1MU: Downloading m3u8 information\n",
      "[info] ckJ1XuVF1MU: Downloading 1 format(s): 140\n",
      "[download] Destination: id09179_6_7720_ckJ1XuVF1MU_00038\n",
      "[download] 100% of    6.11MiB in 00:00:01 at 5.77MiB/s   \n",
      "[FixupM4a] Correcting container of \"id09179_6_7720_ckJ1XuVF1MU_00038\"\n",
      "[ExtractAudio] Destination: id09179_6_7720_ckJ1XuVF1MU_00038.mp3\n",
      "Deleting original file id09179_6_7720_ckJ1XuVF1MU_00038 (pass -k to keep)\n",
      "Audio downloaded as id09179_6_7720_ckJ1XuVF1MU_00038\n",
      "Trimmed audio saved as ../data/download_df_audio/id09179_6_7720_ckJ1XuVF1MU_00038_cut.mp3\n",
      "Speaker: id09179, Video: i7ESXBpzUrY, Txt file: 00054\n",
      "[youtube] Extracting URL: https://www.youtube.com/watch?v=i7ESXBpzUrY\n",
      "[youtube] i7ESXBpzUrY: Downloading webpage\n",
      "[youtube] i7ESXBpzUrY: Downloading tv client config\n",
      "[youtube] i7ESXBpzUrY: Downloading player 5ae7d525\n",
      "[youtube] i7ESXBpzUrY: Downloading tv player API JSON\n",
      "[youtube] i7ESXBpzUrY: Downloading ios player API JSON\n",
      "[youtube] i7ESXBpzUrY: Downloading m3u8 information\n",
      "[info] i7ESXBpzUrY: Downloading 1 format(s): 140\n",
      "[download] Destination: id09179_7_7680_i7ESXBpzUrY_00054\n",
      "[download] 100% of   10.00MiB in 00:00:01 at 9.21MiB/s     \n",
      "[FixupM4a] Correcting container of \"id09179_7_7680_i7ESXBpzUrY_00054\"\n",
      "[ExtractAudio] Destination: id09179_7_7680_i7ESXBpzUrY_00054.mp3\n",
      "Deleting original file id09179_7_7680_i7ESXBpzUrY_00054 (pass -k to keep)\n",
      "Audio downloaded as id09179_7_7680_i7ESXBpzUrY_00054\n",
      "Trimmed audio saved as ../data/download_df_audio/id09179_7_7680_i7ESXBpzUrY_00054_cut.mp3\n",
      "Speaker: id09179, Video: x4XKtFRidTY, Txt file: 00068\n",
      "[youtube] Extracting URL: https://www.youtube.com/watch?v=x4XKtFRidTY\n",
      "[youtube] x4XKtFRidTY: Downloading webpage\n",
      "[youtube] x4XKtFRidTY: Downloading tv client config\n",
      "[youtube] x4XKtFRidTY: Downloading player 5ae7d525\n",
      "[youtube] x4XKtFRidTY: Downloading tv player API JSON\n",
      "[youtube] x4XKtFRidTY: Downloading ios player API JSON\n",
      "[youtube] x4XKtFRidTY: Downloading m3u8 information\n",
      "[info] x4XKtFRidTY: Downloading 1 format(s): 251\n",
      "[download] Destination: id09179_8_7600_x4XKtFRidTY_00068\n",
      "[download] 100% of    1.89MiB in 00:00:00 at 1.95MiB/s   \n",
      "[ExtractAudio] Destination: id09179_8_7600_x4XKtFRidTY_00068.mp3\n",
      "Deleting original file id09179_8_7600_x4XKtFRidTY_00068 (pass -k to keep)\n",
      "Audio downloaded as id09179_8_7600_x4XKtFRidTY_00068\n",
      "Trimmed audio saved as ../data/download_df_audio/id09179_8_7600_x4XKtFRidTY_00068_cut.mp3\n",
      "Speaker: id09179, Video: PxTbEzlO-pU, Txt file: 00025\n",
      "[youtube] Extracting URL: https://www.youtube.com/watch?v=PxTbEzlO-pU\n",
      "[youtube] PxTbEzlO-pU: Downloading webpage\n",
      "[youtube] PxTbEzlO-pU: Downloading tv client config\n",
      "[youtube] PxTbEzlO-pU: Downloading player 5ae7d525\n",
      "[youtube] PxTbEzlO-pU: Downloading tv player API JSON\n",
      "[youtube] PxTbEzlO-pU: Downloading ios player API JSON\n",
      "[youtube] PxTbEzlO-pU: Downloading m3u8 information\n",
      "[info] PxTbEzlO-pU: Downloading 1 format(s): 140\n",
      "[download] Destination: id09179_9_7280_PxTbEzlO-pU_00025\n",
      "[download] 100% of    7.02MiB in 00:00:00 at 14.13MiB/s  \n",
      "[FixupM4a] Correcting container of \"id09179_9_7280_PxTbEzlO-pU_00025\"\n",
      "[ExtractAudio] Destination: id09179_9_7280_PxTbEzlO-pU_00025.mp3\n",
      "Deleting original file id09179_9_7280_PxTbEzlO-pU_00025 (pass -k to keep)\n",
      "Audio downloaded as id09179_9_7280_PxTbEzlO-pU_00025\n",
      "Trimmed audio saved as ../data/download_df_audio/id09179_9_7280_PxTbEzlO-pU_00025_cut.mp3\n",
      "Speaker: id09185, Video: hbnt54GExKU, Txt file: 00145\n",
      "[youtube] Extracting URL: https://www.youtube.com/watch?v=hbnt54GExKU\n",
      "[youtube] hbnt54GExKU: Downloading webpage\n",
      "[youtube] hbnt54GExKU: Downloading tv client config\n",
      "[youtube] hbnt54GExKU: Downloading player 5ae7d525\n",
      "[youtube] hbnt54GExKU: Downloading tv player API JSON\n",
      "[youtube] hbnt54GExKU: Downloading ios player API JSON\n",
      "[youtube] hbnt54GExKU: Downloading m3u8 information\n",
      "[info] hbnt54GExKU: Downloading 1 format(s): 140\n",
      "[download] Destination: id09185_2_16160_hbnt54GExKU_00145\n",
      "[download] 100% of    9.13MiB in 00:00:01 at 8.46MiB/s     \n",
      "[FixupM4a] Correcting container of \"id09185_2_16160_hbnt54GExKU_00145\"\n",
      "[ExtractAudio] Destination: id09185_2_16160_hbnt54GExKU_00145.mp3\n",
      "Deleting original file id09185_2_16160_hbnt54GExKU_00145 (pass -k to keep)\n",
      "Audio downloaded as id09185_2_16160_hbnt54GExKU_00145\n",
      "Trimmed audio saved as ../data/download_df_audio/id09185_2_16160_hbnt54GExKU_00145_cut.mp3\n",
      "Speaker: id09185, Video: p8LU0lpKZbM, Txt file: 00162\n",
      "[youtube] Extracting URL: https://www.youtube.com/watch?v=p8LU0lpKZbM\n",
      "[youtube] p8LU0lpKZbM: Downloading webpage\n",
      "[youtube] p8LU0lpKZbM: Downloading tv client config\n",
      "[youtube] p8LU0lpKZbM: Downloading player 5ae7d525\n",
      "[youtube] p8LU0lpKZbM: Downloading tv player API JSON\n",
      "[youtube] p8LU0lpKZbM: Downloading ios player API JSON\n",
      "[youtube] p8LU0lpKZbM: Downloading m3u8 information\n",
      "[info] p8LU0lpKZbM: Downloading 1 format(s): 140\n",
      "[download] Destination: id09185_3_13120_p8LU0lpKZbM_00162\n",
      "[download] 100% of    4.73MiB in 00:00:01 at 4.36MiB/s   \n",
      "[FixupM4a] Correcting container of \"id09185_3_13120_p8LU0lpKZbM_00162\"\n",
      "[ExtractAudio] Destination: id09185_3_13120_p8LU0lpKZbM_00162.mp3\n",
      "Deleting original file id09185_3_13120_p8LU0lpKZbM_00162 (pass -k to keep)\n",
      "Audio downloaded as id09185_3_13120_p8LU0lpKZbM_00162\n",
      "Trimmed audio saved as ../data/download_df_audio/id09185_3_13120_p8LU0lpKZbM_00162_cut.mp3\n",
      "Speaker: id09185, Video: Nh1DQ1xQnS8, Txt file: 00088\n"
     ]
    },
    {
     "name": "stderr",
     "output_type": "stream",
     "text": [
      "ERROR: [youtube] Nh1DQ1xQnS8: Video unavailable. This video is no longer available because the YouTube account associated with this video has been terminated.\n"
     ]
    },
    {
     "name": "stdout",
     "output_type": "stream",
     "text": [
      "Speaker: id09185, Video: hbnt54GExKU, Txt file: 00123\n",
      "[youtube] Extracting URL: https://www.youtube.com/watch?v=hbnt54GExKU\n",
      "[youtube] hbnt54GExKU: Downloading webpage\n",
      "[youtube] hbnt54GExKU: Downloading tv client config\n",
      "[youtube] hbnt54GExKU: Downloading player 5ae7d525\n",
      "[youtube] hbnt54GExKU: Downloading tv player API JSON\n",
      "[youtube] hbnt54GExKU: Downloading ios player API JSON\n",
      "[youtube] hbnt54GExKU: Downloading m3u8 information\n",
      "[info] hbnt54GExKU: Downloading 1 format(s): 140\n",
      "[download] Destination: id09185_4_13000_hbnt54GExKU_00123\n",
      "[download] 100% of    9.13MiB in 00:00:00 at 9.78MiB/s   \n",
      "[FixupM4a] Correcting container of \"id09185_4_13000_hbnt54GExKU_00123\"\n",
      "[ExtractAudio] Destination: id09185_4_13000_hbnt54GExKU_00123.mp3\n",
      "Deleting original file id09185_4_13000_hbnt54GExKU_00123 (pass -k to keep)\n",
      "Audio downloaded as id09185_4_13000_hbnt54GExKU_00123\n",
      "Trimmed audio saved as ../data/download_df_audio/id09185_4_13000_hbnt54GExKU_00123_cut.mp3\n",
      "Speaker: id09185, Video: 5TZfJJFAOwo, Txt file: 00058\n",
      "[youtube] Extracting URL: https://www.youtube.com/watch?v=5TZfJJFAOwo\n",
      "[youtube] 5TZfJJFAOwo: Downloading webpage\n",
      "[youtube] 5TZfJJFAOwo: Downloading tv client config\n",
      "[youtube] 5TZfJJFAOwo: Downloading player 5ae7d525\n",
      "[youtube] 5TZfJJFAOwo: Downloading tv player API JSON\n",
      "[youtube] 5TZfJJFAOwo: Downloading ios player API JSON\n",
      "[youtube] 5TZfJJFAOwo: Downloading m3u8 information\n",
      "[info] 5TZfJJFAOwo: Downloading 1 format(s): 251\n",
      "[download] Destination: id09185_5_12800_5TZfJJFAOwo_00058\n",
      "[download] 100% of   27.22MiB in 00:00:03 at 7.03MiB/s     \n",
      "[ExtractAudio] Destination: id09185_5_12800_5TZfJJFAOwo_00058.mp3\n",
      "Deleting original file id09185_5_12800_5TZfJJFAOwo_00058 (pass -k to keep)\n",
      "Audio downloaded as id09185_5_12800_5TZfJJFAOwo_00058\n",
      "Trimmed audio saved as ../data/download_df_audio/id09185_5_12800_5TZfJJFAOwo_00058_cut.mp3\n",
      "Speaker: id09185, Video: hbnt54GExKU, Txt file: 00141\n",
      "[youtube] Extracting URL: https://www.youtube.com/watch?v=hbnt54GExKU\n",
      "[youtube] hbnt54GExKU: Downloading webpage\n",
      "[youtube] hbnt54GExKU: Downloading tv client config\n",
      "[youtube] hbnt54GExKU: Downloading player 5ae7d525\n",
      "[youtube] hbnt54GExKU: Downloading tv player API JSON\n",
      "[youtube] hbnt54GExKU: Downloading ios player API JSON\n",
      "[youtube] hbnt54GExKU: Downloading m3u8 information\n",
      "[info] hbnt54GExKU: Downloading 1 format(s): 140\n",
      "[download] Destination: id09185_6_12760_hbnt54GExKU_00141\n",
      "[download] 100% of    9.13MiB in 00:00:00 at 13.00MiB/s  \n",
      "[FixupM4a] Correcting container of \"id09185_6_12760_hbnt54GExKU_00141\"\n",
      "[ExtractAudio] Destination: id09185_6_12760_hbnt54GExKU_00141.mp3\n",
      "Deleting original file id09185_6_12760_hbnt54GExKU_00141 (pass -k to keep)\n",
      "Audio downloaded as id09185_6_12760_hbnt54GExKU_00141\n",
      "Trimmed audio saved as ../data/download_df_audio/id09185_6_12760_hbnt54GExKU_00141_cut.mp3\n",
      "Speaker: id09185, Video: PcL9suOc4g8, Txt file: 00093\n"
     ]
    },
    {
     "name": "stderr",
     "output_type": "stream",
     "text": [
      "ERROR: [youtube] PcL9suOc4g8: Video unavailable\n"
     ]
    },
    {
     "name": "stdout",
     "output_type": "stream",
     "text": [
      "Speaker: id09185, Video: 5TZfJJFAOwo, Txt file: 00041\n",
      "[youtube] Extracting URL: https://www.youtube.com/watch?v=5TZfJJFAOwo\n",
      "[youtube] 5TZfJJFAOwo: Downloading webpage\n",
      "[youtube] 5TZfJJFAOwo: Downloading tv client config\n",
      "[youtube] 5TZfJJFAOwo: Downloading player 5ae7d525\n",
      "[youtube] 5TZfJJFAOwo: Downloading tv player API JSON\n",
      "[youtube] 5TZfJJFAOwo: Downloading ios player API JSON\n",
      "[youtube] 5TZfJJFAOwo: Downloading m3u8 information\n",
      "[info] 5TZfJJFAOwo: Downloading 1 format(s): 251\n",
      "[download] Destination: id09185_7_10800_5TZfJJFAOwo_00041\n",
      "[download] 100% of   27.22MiB in 00:00:17 at 1.59MiB/s     \n",
      "[ExtractAudio] Destination: id09185_7_10800_5TZfJJFAOwo_00041.mp3\n",
      "Deleting original file id09185_7_10800_5TZfJJFAOwo_00041 (pass -k to keep)\n",
      "Audio downloaded as id09185_7_10800_5TZfJJFAOwo_00041\n",
      "Trimmed audio saved as ../data/download_df_audio/id09185_7_10800_5TZfJJFAOwo_00041_cut.mp3\n",
      "Speaker: id09185, Video: 17oel-iAWAQ, Txt file: 00025\n"
     ]
    },
    {
     "name": "stderr",
     "output_type": "stream",
     "text": [
      "ERROR: [youtube] 17oel-iAWAQ: Video unavailable. This video is no longer available because the YouTube account associated with this video has been terminated.\n"
     ]
    },
    {
     "name": "stdout",
     "output_type": "stream",
     "text": [
      "Speaker: id09185, Video: XYhArFXKUeY, Txt file: 00106\n"
     ]
    },
    {
     "name": "stderr",
     "output_type": "stream",
     "text": [
      "ERROR: [youtube] XYhArFXKUeY: Video unavailable\n"
     ]
    },
    {
     "name": "stdout",
     "output_type": "stream",
     "text": [
      "Speaker: id09185, Video: _cDhsiYaV3c, Txt file: 00111\n",
      "[youtube] Extracting URL: https://www.youtube.com/watch?v=_cDhsiYaV3c\n",
      "[youtube] _cDhsiYaV3c: Downloading webpage\n",
      "[youtube] _cDhsiYaV3c: Downloading tv client config\n",
      "[youtube] _cDhsiYaV3c: Downloading player 5ae7d525\n",
      "[youtube] _cDhsiYaV3c: Downloading tv player API JSON\n",
      "[youtube] _cDhsiYaV3c: Downloading ios player API JSON\n",
      "[youtube] _cDhsiYaV3c: Downloading m3u8 information\n",
      "[info] _cDhsiYaV3c: Downloading 1 format(s): 251\n",
      "[download] Destination: id09185_8_10320__cDhsiYaV3c_00111\n",
      "[download] 100% of    4.75MiB in 00:00:00 at 13.85MiB/s  \n",
      "[ExtractAudio] Destination: id09185_8_10320__cDhsiYaV3c_00111.mp3\n",
      "Deleting original file id09185_8_10320__cDhsiYaV3c_00111 (pass -k to keep)\n",
      "Audio downloaded as id09185_8_10320__cDhsiYaV3c_00111\n",
      "Trimmed audio saved as ../data/download_df_audio/id09185_8_10320__cDhsiYaV3c_00111_cut.mp3\n",
      "Speaker: id09185, Video: AvMgRNndnoA, Txt file: 00072\n",
      "[youtube] Extracting URL: https://www.youtube.com/watch?v=AvMgRNndnoA\n",
      "[youtube] AvMgRNndnoA: Downloading webpage\n",
      "[youtube] AvMgRNndnoA: Downloading tv client config\n",
      "[youtube] AvMgRNndnoA: Downloading player 5ae7d525\n",
      "[youtube] AvMgRNndnoA: Downloading tv player API JSON\n",
      "[youtube] AvMgRNndnoA: Downloading ios player API JSON\n",
      "[youtube] AvMgRNndnoA: Downloading m3u8 information\n",
      "[info] AvMgRNndnoA: Downloading 1 format(s): 251\n",
      "[download] Destination: id09185_9_10280_AvMgRNndnoA_00072\n",
      "[download] 100% of    5.14MiB in 00:00:00 at 6.28MiB/s   \n",
      "[ExtractAudio] Destination: id09185_9_10280_AvMgRNndnoA_00072.mp3\n",
      "Deleting original file id09185_9_10280_AvMgRNndnoA_00072 (pass -k to keep)\n",
      "Audio downloaded as id09185_9_10280_AvMgRNndnoA_00072\n",
      "Trimmed audio saved as ../data/download_df_audio/id09185_9_10280_AvMgRNndnoA_00072_cut.mp3\n"
     ]
    }
   ],
   "source": [
    "download_df_audio(\n",
    "    filtered_df,\n",
    "    \"../data/download_df_audio\",\n",
    "    n_samples=NUM_OF_SAMPLES,\n",
    "    start_index=START_INDEX,\n",
    ")"
   ]
  },
  {
   "cell_type": "markdown",
   "metadata": {},
   "source": [
    "## Download all Dev audio files"
   ]
  },
  {
   "cell_type": "code",
   "execution_count": null,
   "metadata": {},
   "outputs": [],
   "source": [
    "import pandas as pd\n",
    "\n",
    "df = pd.read_csv(\"../data/dev.csv\")\n",
    "df = df.sort_values(by=[\"speaker\", \"length\"], ascending=[True, False])\n",
    "# split df by speaker id to batches of 100 ids\n",
    "\n",
    "# Get unique speakers\n",
    "unique_speakers = df[\"speaker\"].unique()\n",
    "\n",
    "# Define batch size\n",
    "batch_size = 100\n",
    "\n",
    "# Create batches\n",
    "batches = [\n",
    "    unique_speakers[i : i + batch_size]\n",
    "    for i in range(0, len(unique_speakers), batch_size)\n",
    "]\n",
    "\n",
    "# Create a DataFrame for each batch\n",
    "batch_dfs = [df[df[\"speaker\"].isin(batch)] for batch in batches]"
   ]
  },
  {
   "cell_type": "code",
   "execution_count": null,
   "metadata": {},
   "outputs": [],
   "source": [
    "# TODO set start_batch\n",
    "start_batch = 7\n",
    "for i, batch_df in enumerate(batch_dfs):\n",
    "    if i < start_batch:\n",
    "        continue\n",
    "\n",
    "    out_dir = f\"../data/dev_data/batch_{i}\"\n",
    "    download_df_audio(batch_df, out_dir)"
   ]
  },
  {
   "cell_type": "code",
   "execution_count": null,
   "metadata": {},
   "outputs": [],
   "source": []
  }
 ],
 "metadata": {
  "kernelspec": {
   "display_name": "venv",
   "language": "python",
   "name": "python3"
  },
  "language_info": {
   "codemirror_mode": {
    "name": "ipython",
    "version": 3
   },
   "file_extension": ".py",
   "mimetype": "text/x-python",
   "name": "python",
   "nbconvert_exporter": "python",
   "pygments_lexer": "ipython3",
   "version": "3.11.9"
  }
 },
 "nbformat": 4,
 "nbformat_minor": 2
}
