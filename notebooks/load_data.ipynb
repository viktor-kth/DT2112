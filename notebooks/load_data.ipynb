{
 "cells": [
  {
   "cell_type": "markdown",
   "metadata": {},
   "source": [
    "## Functions and imports"
   ]
  },
  {
   "cell_type": "code",
   "execution_count": null,
   "metadata": {},
   "outputs": [],
   "source": [
    "import time\n",
    "from pathlib import Path\n",
    "\n",
    "import pandas as pd\n",
    "\n",
    "from kth_sr.utils import get_df_by_downloaded_folder\n",
    "\n",
    "\n",
    "def get_df(dir: str) -> pd.DataFrame:\n",
    "    \"\"\"Create a DataFrame from downloaded vox celeb txt files.\n",
    "    Dataframe contains following columns:\n",
    "    speaker: speaker id,\n",
    "    video: video id,\n",
    "    txt_file: txt file name,\n",
    "    start_time: start frame of the video,\n",
    "    end_time: end frame of the video,\n",
    "    length: length of the video in seconds.\n",
    "\n",
    "    Args:\n",
    "        dir (str): path to txt folder\n",
    "    \"\"\"\n",
    "    data = []\n",
    "    for speaker_dir in Path(dir).iterdir():\n",
    "        if not speaker_dir.is_dir():\n",
    "            continue\n",
    "        for video_dir in speaker_dir.iterdir():\n",
    "            if not video_dir.is_dir():\n",
    "                continue\n",
    "            for txt_file in video_dir.iterdir():\n",
    "\n",
    "                with open(txt_file, \"r\") as f:\n",
    "                    text = f.read()\n",
    "                # read 8. line\n",
    "                start_text = text.split(\"\\n\")[7]\n",
    "                # get start time\n",
    "                start_time = start_text.split(\" \")[0]\n",
    "                start_time = int(start_time)\n",
    "                # get end time from last line\n",
    "                end_time = text.split(\"\\n\")[-2].split(\" \")[0]\n",
    "                end_time = int(end_time)\n",
    "                data.append(\n",
    "                    (\n",
    "                        speaker_dir.name,\n",
    "                        video_dir.name,\n",
    "                        txt_file.name,\n",
    "                        start_time,\n",
    "                        end_time,\n",
    "                    )\n",
    "                )\n",
    "\n",
    "    df = pd.DataFrame(\n",
    "        data, columns=[\"speaker\", \"video\", \"txt_file\", \"start_time\", \"end_time\"]\n",
    "    )\n",
    "    df[\"length\"] = (df[\"end_time\"] - df[\"start_time\"]) / 25\n",
    "\n",
    "    # sort by speaker and length\n",
    "    return df.sort_values(by=[\"speaker\", \"length\"], ascending=[True, False])"
   ]
  },
  {
   "cell_type": "code",
   "execution_count": null,
   "metadata": {},
   "outputs": [],
   "source": [
    "import yt_dlp\n",
    "from pydub import AudioSegment\n",
    "\n",
    "\n",
    "def download_audio(youtube_url, output_path=\"audio.mp3\"):\n",
    "    \"\"\"Download audio from a YouTube video and save it to a file.\"\"\"\n",
    "    ydl_opts = {\n",
    "        \"format\": \"bestaudio/best\",\n",
    "        \"outtmpl\": output_path,\n",
    "        \"postprocessors\": [\n",
    "            {\n",
    "                \"key\": \"FFmpegExtractAudio\",\n",
    "                \"preferredcodec\": \"mp3\",\n",
    "                \"preferredquality\": \"192\",\n",
    "            }\n",
    "        ],\n",
    "    }\n",
    "\n",
    "    with yt_dlp.YoutubeDL(ydl_opts) as ydl:\n",
    "        ydl.download([youtube_url])\n",
    "\n",
    "    print(f\"Audio downloaded as {output_path}\")\n",
    "\n",
    "\n",
    "def check_video_available(youtube_url):\n",
    "    \"\"\"Check if a YouTube video is available.\"\"\"\n",
    "    ydl_opts = {\n",
    "        \"quiet\": True,\n",
    "        \"no_warnings\": True,\n",
    "        \"format\": \"bestaudio/best\",\n",
    "    }\n",
    "\n",
    "    try:\n",
    "        with yt_dlp.YoutubeDL(ydl_opts) as ydl:\n",
    "            info = ydl.extract_info(youtube_url, download=False)\n",
    "            return True\n",
    "    except yt_dlp.utils.DownloadError:\n",
    "        return\n",
    "    return info is not None\n",
    "\n",
    "\n",
    "def trim_audio(input_path, output_path, start_time, end_time):\n",
    "    \"\"\"Trim an audio file between start_time and end_time (in seconds).\"\"\"\n",
    "\n",
    "    # Load the audio file\n",
    "    audio = AudioSegment.from_file(input_path)\n",
    "\n",
    "    # Convert times to milliseconds\n",
    "    trimmed_audio = audio[start_time * 1000 : end_time * 1000]\n",
    "\n",
    "    # Export the trimmed audio\n",
    "    trimmed_audio.export(output_path, format=\"mp3\")\n",
    "    print(f\"Trimmed audio saved as {output_path}\")"
   ]
  },
  {
   "cell_type": "code",
   "execution_count": null,
   "metadata": {},
   "outputs": [],
   "source": [
    "def download_df_audio(\n",
    "    df: pd.DataFrame, out_dir: str, n_samples: int = 2, start_index: int = 0\n",
    "):\n",
    "    \"\"\"Download audio files from youtube urls in the DataFrame.\n",
    "    Naming convention for the output files: {speaker}_{sample_number}_{duration}_{video}_{txt_file}_cut.mp3\n",
    "    DataFrame should contain columns: speaker, video, txt_file, start_time, end_time.\n",
    "\n",
    "    Args:\n",
    "        df (pd.DataFrame): DataFrame containing the data.\n",
    "        out_dir (str): Output directory for\n",
    "        n_samples (int): Number of samples to download for each speaker.\n",
    "        start_index (int): Start naming index for the output files.\n",
    "    \"\"\"\n",
    "\n",
    "    active_speaker = None\n",
    "    \"\"\"Variable to keep track of the current speaker.\"\"\"\n",
    "    downloaded_samples = 0\n",
    "    \"\"\"Variable to keep track of the number of samples downloaded for the current speaker.\"\"\"\n",
    "    last_video = None\n",
    "    \"\"\"Variable to keep track of the last video downloaded for the current speaker.\"\"\"\n",
    "\n",
    "    Path(out_dir).mkdir(parents=True, exist_ok=True)\n",
    "\n",
    "    # sort by speaker and length\n",
    "    df = df.sort_values(by=[\"speaker\", \"length\"], ascending=[True, False])\n",
    "\n",
    "    for index, row in df.iterrows():\n",
    "        speaker = row[\"speaker\"]\n",
    "        video = row[\"video\"]\n",
    "        txt_file = row[\"txt_file\"].replace(\".txt\", \"\")\n",
    "        start_time = row[\"start_time\"]  # in frames\n",
    "        end_time = row[\"end_time\"]  # in frames\n",
    "        duration = int(row[\"length\"] * 1000)  # in milliseconds\n",
    "\n",
    "        if active_speaker != speaker:\n",
    "            active_speaker = speaker\n",
    "            downloaded_samples = 0\n",
    "\n",
    "        # skip if the same video for the same speaker\n",
    "        if last_video == video:\n",
    "            continue\n",
    "\n",
    "        # skip if already downloaded 2 samples\n",
    "        if downloaded_samples >= n_samples:\n",
    "            continue\n",
    "\n",
    "        print(f\"Speaker: {speaker}, Video: {video}, Txt file: {txt_file}\")\n",
    "\n",
    "        # get youtube url\n",
    "        youtube_url = f\"https://www.youtube.com/watch?v={video}\"\n",
    "        output_name = (\n",
    "            f\"{speaker}_{downloaded_samples+start_index}_{duration}_{video}_{txt_file}\"\n",
    "        )\n",
    "        output_path = f\"{output_name}.mp3\"\n",
    "\n",
    "        if not check_video_available(youtube_url):\n",
    "            continue\n",
    "\n",
    "        # download audio\n",
    "        for i in range(3):\n",
    "            try:\n",
    "                download_audio(youtube_url, output_name)\n",
    "                break\n",
    "            except Exception as e:\n",
    "                print(f\"Failed to download audio: {e}\")\n",
    "                # wait for 5 seconds\n",
    "                time.sleep(5)\n",
    "            if i == 2:\n",
    "                raise Exception(\"Failed to download audio after 3 attempts\")\n",
    "\n",
    "        # cut the audio\n",
    "        # !ffmpeg -i {output_path} -ss {start_time} -to {end_time} -c copy {speaker}_{video}_cut.mp3\n",
    "        trim_audio(\n",
    "            output_path,\n",
    "            f\"{out_dir}/{output_name}_cut.mp3\",\n",
    "            start_time / 25,\n",
    "            end_time / 25,\n",
    "        )\n",
    "\n",
    "        Path(output_path).unlink()\n",
    "        downloaded_samples += 1\n",
    "        last_video = video"
   ]
  },
  {
   "cell_type": "markdown",
   "metadata": {},
   "source": [
    "## Download txt data from the web\n",
    "\n",
    "https://mm.kaist.ac.kr/datasets/voxceleb/index.html#testlist"
   ]
  },
  {
   "cell_type": "markdown",
   "metadata": {},
   "source": [
    "download test data\n",
    "\n",
    "```bash\n",
    "curl -O https://mm.kaist.ac.kr/datasets/voxceleb/data/vox2_test_txt.zip\n",
    "mkdir -p ../data/test\n",
    "unzip vox2_test_txt.zip -d ../data/test\n",
    "```"
   ]
  },
  {
   "cell_type": "markdown",
   "metadata": {},
   "source": [
    "download dev data\n",
    "\n",
    "```bash\n",
    "curl -O https://mm.kaist.ac.kr/datasets/voxceleb/data/vox2_dev_txt.zip\n",
    "mkdir -p ../data/dev\n",
    "unzip vox2_dev_txt.zip -d ../data/dev\n",
    "```"
   ]
  },
  {
   "cell_type": "markdown",
   "metadata": {},
   "source": [
    "## Test dataset"
   ]
  },
  {
   "cell_type": "code",
   "execution_count": null,
   "metadata": {},
   "outputs": [],
   "source": [
    "IN_FOLDER = \"../data/test/txt\"\n",
    "\n",
    "df_test = get_df(IN_FOLDER)\n",
    "df_test"
   ]
  },
  {
   "cell_type": "code",
   "execution_count": null,
   "metadata": {},
   "outputs": [],
   "source": [
    "df_test.to_csv(\"../data/test.csv\", index=False)"
   ]
  },
  {
   "cell_type": "code",
   "execution_count": null,
   "metadata": {},
   "outputs": [],
   "source": [
    "download_df_audio(df_test, \"../data/test_data\")"
   ]
  },
  {
   "cell_type": "markdown",
   "metadata": {},
   "source": [
    "# Dev dataset\n",
    "\n"
   ]
  },
  {
   "cell_type": "markdown",
   "metadata": {},
   "source": [
    "## Create dev dataframe"
   ]
  },
  {
   "cell_type": "code",
   "execution_count": null,
   "metadata": {},
   "outputs": [],
   "source": [
    "df_dev = get_df(\"../data/dev/txt/\")\n",
    "df_dev"
   ]
  },
  {
   "cell_type": "code",
   "execution_count": null,
   "metadata": {},
   "outputs": [],
   "source": [
    "df_dev.to_csv(\"../data/dev.csv\", index=False)"
   ]
  },
  {
   "cell_type": "markdown",
   "metadata": {},
   "source": [
    "## Download Most Famous Celebrities"
   ]
  },
  {
   "cell_type": "code",
   "execution_count": null,
   "metadata": {},
   "outputs": [],
   "source": [
    "import pandas as pd\n",
    "\n",
    "NUM_OF_SAMPLES = 8\n",
    "START_INDEX = 2\n",
    "NUM_OF_CELEBS = 300"
   ]
  },
  {
   "cell_type": "code",
   "execution_count": null,
   "metadata": {},
   "outputs": [],
   "source": [
    "df_meta = pd.read_csv(\"../data/vox2_meta.csv\")\n",
    "\n",
    "# get NUM_OF_CELEBS celebs from dev set\n",
    "df_meta = df_meta[df_meta[\"Set\"] == \"dev\"]\n",
    "df_meta = df_meta.sort_values(by=\"wiki_views_2024\", ascending=False).head(NUM_OF_CELEBS)\n",
    "df_meta"
   ]
  },
  {
   "cell_type": "code",
   "execution_count": null,
   "metadata": {},
   "outputs": [],
   "source": [
    "df_dev = pd.read_csv(\"../data/dev.csv\")\n",
    "\n",
    "# limit df_dev to celebs in df_meta\n",
    "df_top_celebs = df_dev[df_dev[\"speaker\"].isin(df_meta[\"VoxCeleb2_ID\"])]\n",
    "df_top_celebs"
   ]
  },
  {
   "cell_type": "code",
   "execution_count": null,
   "metadata": {},
   "outputs": [],
   "source": [
    "# remove all rows with longer length than already downloaded samples\n",
    "\n",
    "already_downloaded = get_df_by_downloaded_folder(\"../data/download_df_audio/\")\n",
    "already_downloaded = already_downloaded.sort_values(by=\"speaker\")\n",
    "# get min length for each speaker\n",
    "already_downloaded = already_downloaded.groupby(\"speaker\").min().reset_index()\n",
    "\n",
    "# Sort out the speakers rows rom df_top_celebs which are present in already_downloaded\n",
    "ids = set(already_downloaded[\"speaker\"].astype(str).str.strip())\n",
    "filtered_df = df_top_celebs[~df_top_celebs[\"speaker\"].astype(str).str.strip().isin(ids)]\n",
    "\n",
    "df_top_celebs_filtered = df_top_celebs.merge(\n",
    "    already_downloaded, on=\"speaker\", how=\"left\", suffixes=(\"\", \"_y\")\n",
    ")\n",
    "df_top_celebs_filtered = df_top_celebs_filtered[\n",
    "    df_top_celebs_filtered[\"length\"] < df_top_celebs_filtered[\"duration_s\"]\n",
    "]"
   ]
  },
  {
   "cell_type": "code",
   "execution_count": null,
   "metadata": {},
   "outputs": [],
   "source": [
    "download_df_audio(\n",
    "    df_top_celebs_filtered,\n",
    "    \"../data/top_celebs_data_2\",\n",
    "    n_samples=NUM_OF_SAMPLES,\n",
    "    start_index=START_INDEX,\n",
    ")"
   ]
  },
  {
   "cell_type": "markdown",
   "metadata": {},
   "source": [
    "## Download all Dev audio files"
   ]
  },
  {
   "cell_type": "code",
   "execution_count": null,
   "metadata": {},
   "outputs": [],
   "source": [
    "import pandas as pd\n",
    "\n",
    "df = pd.read_csv(\"../data/dev.csv\")\n",
    "df = df.sort_values(by=[\"speaker\", \"length\"], ascending=[True, False])\n",
    "# split df by speaker id to batches of 100 ids\n",
    "\n",
    "# Get unique speakers\n",
    "unique_speakers = df[\"speaker\"].unique()\n",
    "\n",
    "# Define batch size\n",
    "batch_size = 100\n",
    "\n",
    "# Create batches\n",
    "batches = [\n",
    "    unique_speakers[i : i + batch_size]\n",
    "    for i in range(0, len(unique_speakers), batch_size)\n",
    "]\n",
    "\n",
    "# Create a DataFrame for each batch\n",
    "batch_dfs = [df[df[\"speaker\"].isin(batch)] for batch in batches]"
   ]
  },
  {
   "cell_type": "code",
   "execution_count": null,
   "metadata": {},
   "outputs": [],
   "source": [
    "# TODO set start_batch\n",
    "start_batch = 7\n",
    "for i, batch_df in enumerate(batch_dfs):\n",
    "    if i < start_batch:\n",
    "        continue\n",
    "\n",
    "    out_dir = f\"../data/dev_data/batch_{i}\"\n",
    "    download_df_audio(batch_df, out_dir)"
   ]
  },
  {
   "cell_type": "code",
   "execution_count": null,
   "metadata": {},
   "outputs": [],
   "source": []
  }
 ],
 "metadata": {
  "kernelspec": {
   "display_name": "venv",
   "language": "python",
   "name": "python3"
  },
  "language_info": {
   "codemirror_mode": {
    "name": "ipython",
    "version": 3
   },
   "file_extension": ".py",
   "mimetype": "text/x-python",
   "name": "python",
   "nbconvert_exporter": "python",
   "pygments_lexer": "ipython3",
   "version": "3.11.9"
  }
 },
 "nbformat": 4,
 "nbformat_minor": 2
}
