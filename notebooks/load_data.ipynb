{
 "cells": [
  {
   "cell_type": "markdown",
   "metadata": {},
   "source": [
    "## Functions and imports"
   ]
  },
  {
   "cell_type": "code",
   "execution_count": 13,
   "metadata": {},
   "outputs": [],
   "source": [
    "from pathlib import Path\n",
    "import pandas as pd\n",
    "import time\n",
    "\n",
    "\n",
    "def get_df(dir: str) -> pd.DataFrame:\n",
    "    \"\"\"Create a DataFrame from downloaded vox celeb txt files.\n",
    "    Dataframe contains following columns:\n",
    "    speaker: speaker id,\n",
    "    video: video id,\n",
    "    txt_file: txt file name,\n",
    "    start_time: start frame of the video,\n",
    "    end_time: end frame of the video,\n",
    "    length: length of the video in seconds.\n",
    "\n",
    "    Args:\n",
    "        dir (str): path to txt folder\n",
    "    \"\"\"\n",
    "    data = []\n",
    "    for speaker_dir in Path(dir).iterdir():\n",
    "        if not speaker_dir.is_dir():\n",
    "            continue\n",
    "        for video_dir in speaker_dir.iterdir():\n",
    "            if not video_dir.is_dir():\n",
    "                continue\n",
    "            for txt_file in video_dir.iterdir():\n",
    "\n",
    "                with open(txt_file, \"r\") as f:\n",
    "                    text = f.read()\n",
    "                # read 8. line\n",
    "                start_text = text.split(\"\\n\")[7]\n",
    "                # get start time\n",
    "                start_time = start_text.split(\" \")[0]\n",
    "                start_time = int(start_time)\n",
    "                # get end time from last line\n",
    "                end_time = text.split(\"\\n\")[-2].split(\" \")[0]\n",
    "                end_time = int(end_time)\n",
    "                data.append(\n",
    "                    (\n",
    "                        speaker_dir.name,\n",
    "                        video_dir.name,\n",
    "                        txt_file.name,\n",
    "                        start_time,\n",
    "                        end_time,\n",
    "                    )\n",
    "                )\n",
    "\n",
    "    df = pd.DataFrame(\n",
    "        data, columns=[\"speaker\", \"video\", \"txt_file\", \"start_time\", \"end_time\"]\n",
    "    )\n",
    "    df[\"length\"] = (df[\"end_time\"] - df[\"start_time\"]) / 25\n",
    "\n",
    "    # sort by speaker and length\n",
    "    return df.sort_values(by=[\"speaker\", \"length\"], ascending=[True, False])\n",
    "\n",
    "\n",
    "def get_df_by_downloaded_folder(folder: str) -> pd.DataFrame:\n",
    "    \"\"\"Create a DataFrame from folder with downloaded mp3 files.\n",
    "\n",
    "    Args:\n",
    "        folder (str): path to folder with downloaded mp3 files.\n",
    "    \"\"\"\n",
    "    # iterate all files in the folder and get their length\n",
    "    data = []\n",
    "\n",
    "    for file in Path(folder).rglob(\"*.mp3\"):\n",
    "        try:\n",
    "            user_id = file.stem.split(\"_\")[0]  # user_id in voxceleb2\n",
    "            duration_ms = int(file.stem.split(\"_\")[2])  # duration in ms\n",
    "            # Convert to seconds\n",
    "            duration_s = duration_ms / 1000.0\n",
    "            data.append({\"speaker\": user_id, \"duration_s\": duration_s})\n",
    "        except Exception as e:\n",
    "            #print(f\"Error processing file {file}: {e}\")\n",
    "            continue\n",
    "    return pd.DataFrame(data)"
   ]
  },
  {
   "cell_type": "code",
   "execution_count": 2,
   "metadata": {},
   "outputs": [],
   "source": [
    "import yt_dlp\n",
    "from pydub import AudioSegment\n",
    "\n",
    "\n",
    "def download_audio(youtube_url, output_path=\"audio.mp3\"):\n",
    "    \"\"\"Download audio from a YouTube video and save it to a file.\"\"\"\n",
    "    ydl_opts = {\n",
    "        \"format\": \"bestaudio/best\",\n",
    "        \"outtmpl\": output_path,\n",
    "        \"postprocessors\": [\n",
    "            {\n",
    "                \"key\": \"FFmpegExtractAudio\",\n",
    "                \"preferredcodec\": \"mp3\",\n",
    "                \"preferredquality\": \"192\",\n",
    "            }\n",
    "        ],\n",
    "    }\n",
    "\n",
    "    with yt_dlp.YoutubeDL(ydl_opts) as ydl:\n",
    "        ydl.download([youtube_url])\n",
    "\n",
    "    print(f\"Audio downloaded as {output_path}\")\n",
    "\n",
    "\n",
    "def check_video_available(youtube_url):\n",
    "    \"\"\"Check if a YouTube video is available.\"\"\"\n",
    "    ydl_opts = {\n",
    "        \"quiet\": True,\n",
    "        \"no_warnings\": True,\n",
    "        \"format\": \"bestaudio/best\",\n",
    "    }\n",
    "\n",
    "    try:\n",
    "        with yt_dlp.YoutubeDL(ydl_opts) as ydl:\n",
    "            info = ydl.extract_info(youtube_url, download=False)\n",
    "            return True\n",
    "    except yt_dlp.utils.DownloadError as e:\n",
    "        return\n",
    "    return info is not None\n",
    "\n",
    "\n",
    "def trim_audio(input_path, output_path, start_time, end_time):\n",
    "    \"\"\"Trim an audio file between start_time and end_time (in seconds).\"\"\"\n",
    "\n",
    "    # Load the audio file\n",
    "    audio = AudioSegment.from_file(input_path)\n",
    "\n",
    "    # Convert times to milliseconds\n",
    "    trimmed_audio = audio[start_time * 1000 : end_time * 1000]\n",
    "\n",
    "    # Export the trimmed audio\n",
    "    trimmed_audio.export(output_path, format=\"mp3\")\n",
    "    print(f\"Trimmed audio saved as {output_path}\")"
   ]
  },
  {
   "cell_type": "code",
   "execution_count": 3,
   "metadata": {},
   "outputs": [],
   "source": [
    "def download_df_audio(\n",
    "    df: pd.DataFrame, out_dir: str, n_samples: int = 2, start_index: int = 0\n",
    "):\n",
    "    \"\"\"Download audio files from youtube urls in the DataFrame.\n",
    "    Naming convention for the output files: {speaker}_{sample_number}_{duration}_{video}_{txt_file}_cut.mp3\n",
    "    DataFrame should contain columns: speaker, video, txt_file, start_time, end_time.\n",
    "\n",
    "    Args:\n",
    "        df (pd.DataFrame): DataFrame containing the data.\n",
    "        out_dir (str): Output directory for\n",
    "        n_samples (int): Number of samples to download for each speaker.\n",
    "        start_index (int): Start naming index for the output files.\n",
    "    \"\"\"\n",
    "\n",
    "    active_speaker = None\n",
    "    \"\"\"Variable to keep track of the current speaker.\"\"\"\n",
    "    downloaded_samples = 0\n",
    "    \"\"\"Variable to keep track of the number of samples downloaded for the current speaker.\"\"\"\n",
    "    last_video = None\n",
    "    \"\"\"Variable to keep track of the last video downloaded for the current speaker.\"\"\"\n",
    "\n",
    "    Path(out_dir).mkdir(parents=True, exist_ok=True)\n",
    "\n",
    "    # sort by speaker and length\n",
    "    df = df.sort_values(by=[\"speaker\", \"length\"], ascending=[True, False])\n",
    "\n",
    "    for index, row in df.iterrows():\n",
    "        speaker = row[\"speaker\"]\n",
    "        video = row[\"video\"]\n",
    "        txt_file = row[\"txt_file\"].replace(\".txt\", \"\")\n",
    "        start_time = row[\"start_time\"]  # in frames\n",
    "        end_time = row[\"end_time\"]  # in frames\n",
    "        duration = int(row[\"length\"] * 1000)  # in milliseconds\n",
    "\n",
    "        if active_speaker != speaker:\n",
    "            active_speaker = speaker\n",
    "            downloaded_samples = 0\n",
    "\n",
    "        # skip if the same video for the same speaker\n",
    "        if last_video == video:\n",
    "            continue\n",
    "\n",
    "        # skip if already downloaded 2 samples\n",
    "        if downloaded_samples >= n_samples:\n",
    "            continue\n",
    "\n",
    "        print(f\"Speaker: {speaker}, Video: {video}, Txt file: {txt_file}\")\n",
    "\n",
    "        # get youtube url\n",
    "        youtube_url = f\"https://www.youtube.com/watch?v={video}\"\n",
    "        output_name = (\n",
    "            f\"{speaker}_{downloaded_samples+start_index}_{duration}_{video}_{txt_file}\"\n",
    "        )\n",
    "        output_path = f\"{output_name}.mp3\"\n",
    "\n",
    "        if not check_video_available(youtube_url):\n",
    "            continue\n",
    "\n",
    "        # download audio\n",
    "        for i in range(3):\n",
    "            try:\n",
    "                download_audio(youtube_url, output_name)\n",
    "                break\n",
    "            except Exception as e:\n",
    "                print(f\"Failed to download audio: {e}\")\n",
    "                # wait for 5 seconds\n",
    "                time.sleep(5)\n",
    "            if i == 2:\n",
    "                raise Exception(\"Failed to download audio after 3 attempts\")\n",
    "\n",
    "        # cut the audio\n",
    "        # !ffmpeg -i {output_path} -ss {start_time} -to {end_time} -c copy {speaker}_{video}_cut.mp3\n",
    "        trim_audio(\n",
    "            output_path,\n",
    "            f\"{out_dir}/{output_name}_cut.mp3\",\n",
    "            start_time / 25,\n",
    "            end_time / 25,\n",
    "        )\n",
    "\n",
    "        Path(output_path).unlink()\n",
    "        downloaded_samples += 1\n",
    "        last_video = video"
   ]
  },
  {
   "cell_type": "markdown",
   "metadata": {},
   "source": [
    "## Download txt data from the web\n",
    "\n",
    "https://mm.kaist.ac.kr/datasets/voxceleb/index.html#testlist"
   ]
  },
  {
   "cell_type": "markdown",
   "metadata": {},
   "source": [
    "download test data\n",
    "\n",
    "```bash\n",
    "curl -O https://mm.kaist.ac.kr/datasets/voxceleb/data/vox2_test_txt.zip\n",
    "mkdir -p ../data/test\n",
    "unzip vox2_test_txt.zip -d ../data/test\n",
    "```"
   ]
  },
  {
   "cell_type": "markdown",
   "metadata": {},
   "source": [
    "download dev data\n",
    "\n",
    "```bash\n",
    "curl -O https://mm.kaist.ac.kr/datasets/voxceleb/data/vox2_dev_txt.zip\n",
    "mkdir -p ../data/dev\n",
    "unzip vox2_dev_txt.zip -d ../data/dev\n",
    "```"
   ]
  },
  {
   "cell_type": "markdown",
   "metadata": {},
   "source": [
    "## Test dataset"
   ]
  },
  {
   "cell_type": "code",
   "execution_count": null,
   "metadata": {},
   "outputs": [],
   "source": [
    "IN_FOLDER = \"../data/test/txt\"\n",
    "\n",
    "df_test = get_df(IN_FOLDER)\n",
    "df_test"
   ]
  },
  {
   "cell_type": "code",
   "execution_count": null,
   "metadata": {},
   "outputs": [],
   "source": [
    "df_test.to_csv(\"../data/test.csv\", index=False)"
   ]
  },
  {
   "cell_type": "code",
   "execution_count": null,
   "metadata": {},
   "outputs": [],
   "source": [
    "download_df_audio(df_test, \"../data/test_data\")"
   ]
  },
  {
   "cell_type": "markdown",
   "metadata": {},
   "source": [
    "# Dev dataset\n",
    "\n"
   ]
  },
  {
   "cell_type": "markdown",
   "metadata": {},
   "source": [
    "## Create dev dataframe"
   ]
  },
  {
   "cell_type": "code",
   "execution_count": null,
   "metadata": {},
   "outputs": [],
   "source": [
    "df_dev = get_df(\"../data/dev/txt/\")\n",
    "df_dev"
   ]
  },
  {
   "cell_type": "code",
   "execution_count": null,
   "metadata": {},
   "outputs": [],
   "source": [
    "df_dev.to_csv(\"../data/dev.csv\", index=False)"
   ]
  },
  {
   "cell_type": "markdown",
   "metadata": {},
   "source": [
    "## Download Most Famous Celebrities"
   ]
  },
  {
   "cell_type": "code",
   "execution_count": 4,
   "metadata": {},
   "outputs": [],
   "source": [
    "import pandas as pd\n",
    "\n",
    "NUM_OF_SAMPLES = 8\n",
    "START_INDEX = 2\n",
    "NUM_OF_CELEBS = 300"
   ]
  },
  {
   "cell_type": "code",
   "execution_count": 21,
   "metadata": {},
   "outputs": [
    {
     "data": {
      "text/html": [
       "<div>\n",
       "<style scoped>\n",
       "    .dataframe tbody tr th:only-of-type {\n",
       "        vertical-align: middle;\n",
       "    }\n",
       "\n",
       "    .dataframe tbody tr th {\n",
       "        vertical-align: top;\n",
       "    }\n",
       "\n",
       "    .dataframe thead th {\n",
       "        text-align: right;\n",
       "    }\n",
       "</style>\n",
       "<table border=\"1\" class=\"dataframe\">\n",
       "  <thead>\n",
       "    <tr style=\"text-align: right;\">\n",
       "      <th></th>\n",
       "      <th>Name</th>\n",
       "      <th>VoxCeleb2_ID</th>\n",
       "      <th>VGGFace2_ID</th>\n",
       "      <th>Gender</th>\n",
       "      <th>Set</th>\n",
       "      <th>wiki_views_2024</th>\n",
       "    </tr>\n",
       "  </thead>\n",
       "  <tbody>\n",
       "    <tr>\n",
       "      <th>3031</th>\n",
       "      <td>Kamala_Harris</td>\n",
       "      <td>id04538</td>\n",
       "      <td>n004537</td>\n",
       "      <td>f</td>\n",
       "      <td>dev</td>\n",
       "      <td>30250192.0</td>\n",
       "    </tr>\n",
       "    <tr>\n",
       "      <th>4051</th>\n",
       "      <td>Mike_Tyson</td>\n",
       "      <td>id06121</td>\n",
       "      <td>n006120</td>\n",
       "      <td>m</td>\n",
       "      <td>dev</td>\n",
       "      <td>11900865.0</td>\n",
       "    </tr>\n",
       "    <tr>\n",
       "      <th>761</th>\n",
       "      <td>Bob_Marley</td>\n",
       "      <td>id01109</td>\n",
       "      <td>n001109</td>\n",
       "      <td>m</td>\n",
       "      <td>dev</td>\n",
       "      <td>10636588.0</td>\n",
       "    </tr>\n",
       "    <tr>\n",
       "      <th>3974</th>\n",
       "      <td>Michael_Jackson</td>\n",
       "      <td>id06004</td>\n",
       "      <td>n006003</td>\n",
       "      <td>m</td>\n",
       "      <td>dev</td>\n",
       "      <td>9373493.0</td>\n",
       "    </tr>\n",
       "    <tr>\n",
       "      <th>504</th>\n",
       "      <td>Ariana_Grande</td>\n",
       "      <td>id00752</td>\n",
       "      <td>n000752</td>\n",
       "      <td>f</td>\n",
       "      <td>dev</td>\n",
       "      <td>9362854.0</td>\n",
       "    </tr>\n",
       "    <tr>\n",
       "      <th>...</th>\n",
       "      <td>...</td>\n",
       "      <td>...</td>\n",
       "      <td>...</td>\n",
       "      <td>...</td>\n",
       "      <td>...</td>\n",
       "      <td>...</td>\n",
       "    </tr>\n",
       "    <tr>\n",
       "      <th>3100</th>\n",
       "      <td>Katherine_Schwarzenegger</td>\n",
       "      <td>id04642</td>\n",
       "      <td>n004641</td>\n",
       "      <td>f</td>\n",
       "      <td>dev</td>\n",
       "      <td>1572645.0</td>\n",
       "    </tr>\n",
       "    <tr>\n",
       "      <th>4475</th>\n",
       "      <td>Patrick_J._Adams</td>\n",
       "      <td>id06813</td>\n",
       "      <td>n006812</td>\n",
       "      <td>m</td>\n",
       "      <td>dev</td>\n",
       "      <td>1569381.0</td>\n",
       "    </tr>\n",
       "    <tr>\n",
       "      <th>1235</th>\n",
       "      <td>Cole_Sprouse</td>\n",
       "      <td>id01772</td>\n",
       "      <td>n001771</td>\n",
       "      <td>m</td>\n",
       "      <td>dev</td>\n",
       "      <td>1564609.0</td>\n",
       "    </tr>\n",
       "    <tr>\n",
       "      <th>3096</th>\n",
       "      <td>Katharine_Ross</td>\n",
       "      <td>id04638</td>\n",
       "      <td>n004637</td>\n",
       "      <td>f</td>\n",
       "      <td>dev</td>\n",
       "      <td>1560600.0</td>\n",
       "    </tr>\n",
       "    <tr>\n",
       "      <th>2802</th>\n",
       "      <td>John_McAfee</td>\n",
       "      <td>id04224</td>\n",
       "      <td>n004223</td>\n",
       "      <td>m</td>\n",
       "      <td>dev</td>\n",
       "      <td>1559656.0</td>\n",
       "    </tr>\n",
       "  </tbody>\n",
       "</table>\n",
       "<p>300 rows × 6 columns</p>\n",
       "</div>"
      ],
      "text/plain": [
       "                          Name VoxCeleb2_ID VGGFace2_ID Gender  Set  \\\n",
       "3031             Kamala_Harris      id04538     n004537      f  dev   \n",
       "4051                Mike_Tyson      id06121     n006120      m  dev   \n",
       "761                 Bob_Marley      id01109     n001109      m  dev   \n",
       "3974           Michael_Jackson      id06004     n006003      m  dev   \n",
       "504              Ariana_Grande      id00752     n000752      f  dev   \n",
       "...                        ...          ...         ...    ...  ...   \n",
       "3100  Katherine_Schwarzenegger      id04642     n004641      f  dev   \n",
       "4475          Patrick_J._Adams      id06813     n006812      m  dev   \n",
       "1235              Cole_Sprouse      id01772     n001771      m  dev   \n",
       "3096            Katharine_Ross      id04638     n004637      f  dev   \n",
       "2802               John_McAfee      id04224     n004223      m  dev   \n",
       "\n",
       "      wiki_views_2024  \n",
       "3031       30250192.0  \n",
       "4051       11900865.0  \n",
       "761        10636588.0  \n",
       "3974        9373493.0  \n",
       "504         9362854.0  \n",
       "...               ...  \n",
       "3100        1572645.0  \n",
       "4475        1569381.0  \n",
       "1235        1564609.0  \n",
       "3096        1560600.0  \n",
       "2802        1559656.0  \n",
       "\n",
       "[300 rows x 6 columns]"
      ]
     },
     "execution_count": 21,
     "metadata": {},
     "output_type": "execute_result"
    }
   ],
   "source": [
    "df_meta = pd.read_csv(\"../data/vox2_meta.csv\")\n",
    "\n",
    "# get NUM_OF_CELEBS celebs from dev set\n",
    "df_meta = df_meta[df_meta[\"Set\"] == \"dev\"]\n",
    "df_meta = df_meta.sort_values(by=\"wiki_views_2024\", ascending=False).head(NUM_OF_CELEBS)\n",
    "df_meta"
   ]
  },
  {
   "cell_type": "code",
   "execution_count": 22,
   "metadata": {},
   "outputs": [
    {
     "data": {
      "text/html": [
       "<div>\n",
       "<style scoped>\n",
       "    .dataframe tbody tr th:only-of-type {\n",
       "        vertical-align: middle;\n",
       "    }\n",
       "\n",
       "    .dataframe tbody tr th {\n",
       "        vertical-align: top;\n",
       "    }\n",
       "\n",
       "    .dataframe thead th {\n",
       "        text-align: right;\n",
       "    }\n",
       "</style>\n",
       "<table border=\"1\" class=\"dataframe\">\n",
       "  <thead>\n",
       "    <tr style=\"text-align: right;\">\n",
       "      <th></th>\n",
       "      <th>speaker</th>\n",
       "      <th>video</th>\n",
       "      <th>txt_file</th>\n",
       "      <th>start_time</th>\n",
       "      <th>end_time</th>\n",
       "      <th>length</th>\n",
       "    </tr>\n",
       "  </thead>\n",
       "  <tbody>\n",
       "    <tr>\n",
       "      <th>1235</th>\n",
       "      <td>id00020</td>\n",
       "      <td>iRsViE6yAeg</td>\n",
       "      <td>00307.txt</td>\n",
       "      <td>1592</td>\n",
       "      <td>2053</td>\n",
       "      <td>18.44</td>\n",
       "    </tr>\n",
       "    <tr>\n",
       "      <th>1236</th>\n",
       "      <td>id00020</td>\n",
       "      <td>iRsViE6yAeg</td>\n",
       "      <td>00311.txt</td>\n",
       "      <td>3284</td>\n",
       "      <td>3741</td>\n",
       "      <td>18.28</td>\n",
       "    </tr>\n",
       "    <tr>\n",
       "      <th>1237</th>\n",
       "      <td>id00020</td>\n",
       "      <td>IpLYBI5Kaow</td>\n",
       "      <td>00064.txt</td>\n",
       "      <td>4414</td>\n",
       "      <td>4821</td>\n",
       "      <td>16.28</td>\n",
       "    </tr>\n",
       "    <tr>\n",
       "      <th>1238</th>\n",
       "      <td>id00020</td>\n",
       "      <td>l9PiLBUrSGs</td>\n",
       "      <td>00354.txt</td>\n",
       "      <td>8348</td>\n",
       "      <td>8750</td>\n",
       "      <td>16.08</td>\n",
       "    </tr>\n",
       "    <tr>\n",
       "      <th>1239</th>\n",
       "      <td>id00020</td>\n",
       "      <td>MM1fE2IkaDQ</td>\n",
       "      <td>00096.txt</td>\n",
       "      <td>2292</td>\n",
       "      <td>2648</td>\n",
       "      <td>14.24</td>\n",
       "    </tr>\n",
       "    <tr>\n",
       "      <th>...</th>\n",
       "      <td>...</td>\n",
       "      <td>...</td>\n",
       "      <td>...</td>\n",
       "      <td>...</td>\n",
       "      <td>...</td>\n",
       "      <td>...</td>\n",
       "    </tr>\n",
       "    <tr>\n",
       "      <th>1082801</th>\n",
       "      <td>id09185</td>\n",
       "      <td>AoO24VZf4oM</td>\n",
       "      <td>00069.txt</td>\n",
       "      <td>2827</td>\n",
       "      <td>2927</td>\n",
       "      <td>4.00</td>\n",
       "    </tr>\n",
       "    <tr>\n",
       "      <th>1082802</th>\n",
       "      <td>id09185</td>\n",
       "      <td>NDKxz17BhdI</td>\n",
       "      <td>00082.txt</td>\n",
       "      <td>6795</td>\n",
       "      <td>6895</td>\n",
       "      <td>4.00</td>\n",
       "    </tr>\n",
       "    <tr>\n",
       "      <th>1082803</th>\n",
       "      <td>id09185</td>\n",
       "      <td>nHM0sPZFkXQ</td>\n",
       "      <td>00154.txt</td>\n",
       "      <td>618</td>\n",
       "      <td>717</td>\n",
       "      <td>3.96</td>\n",
       "    </tr>\n",
       "    <tr>\n",
       "      <th>1082804</th>\n",
       "      <td>id09185</td>\n",
       "      <td>5TZfJJFAOwo</td>\n",
       "      <td>00031.txt</td>\n",
       "      <td>11828</td>\n",
       "      <td>11927</td>\n",
       "      <td>3.96</td>\n",
       "    </tr>\n",
       "    <tr>\n",
       "      <th>1082805</th>\n",
       "      <td>id09185</td>\n",
       "      <td>AvMgRNndnoA</td>\n",
       "      <td>00071.txt</td>\n",
       "      <td>3520</td>\n",
       "      <td>3619</td>\n",
       "      <td>3.96</td>\n",
       "    </tr>\n",
       "  </tbody>\n",
       "</table>\n",
       "<p>92438 rows × 6 columns</p>\n",
       "</div>"
      ],
      "text/plain": [
       "         speaker        video   txt_file  start_time  end_time  length\n",
       "1235     id00020  iRsViE6yAeg  00307.txt        1592      2053   18.44\n",
       "1236     id00020  iRsViE6yAeg  00311.txt        3284      3741   18.28\n",
       "1237     id00020  IpLYBI5Kaow  00064.txt        4414      4821   16.28\n",
       "1238     id00020  l9PiLBUrSGs  00354.txt        8348      8750   16.08\n",
       "1239     id00020  MM1fE2IkaDQ  00096.txt        2292      2648   14.24\n",
       "...          ...          ...        ...         ...       ...     ...\n",
       "1082801  id09185  AoO24VZf4oM  00069.txt        2827      2927    4.00\n",
       "1082802  id09185  NDKxz17BhdI  00082.txt        6795      6895    4.00\n",
       "1082803  id09185  nHM0sPZFkXQ  00154.txt         618       717    3.96\n",
       "1082804  id09185  5TZfJJFAOwo  00031.txt       11828     11927    3.96\n",
       "1082805  id09185  AvMgRNndnoA  00071.txt        3520      3619    3.96\n",
       "\n",
       "[92438 rows x 6 columns]"
      ]
     },
     "execution_count": 22,
     "metadata": {},
     "output_type": "execute_result"
    }
   ],
   "source": [
    "df_dev = pd.read_csv(\"../data/dev.csv\")\n",
    "\n",
    "# limit df_dev to celebs in df_meta\n",
    "df_top_celebs = df_dev[df_dev[\"speaker\"].isin(df_meta[\"VoxCeleb2_ID\"])]\n",
    "df_top_celebs"
   ]
  },
  {
   "cell_type": "code",
   "execution_count": 39,
   "metadata": {},
   "outputs": [],
   "source": [
    "# remove all rows with longer length than already downloaded samples\n",
    "\n",
    "already_downloaded = get_df_by_downloaded_folder(\"../data/download_df_audio/\")\n",
    "already_downloaded = already_downloaded.sort_values(by=\"speaker\")\n",
    "# get min length for each speaker\n",
    "already_downloaded = already_downloaded.groupby(\"speaker\").min().reset_index()\n",
    "\n",
    "#Sort out the speakers rows rom df_top_celebs which are present in already_downloaded\n",
    "ids = set(already_downloaded[\"speaker\"].astype(str).str.strip())\n",
    "filtered_df = df_top_celebs[~df_top_celebs[\"speaker\"].astype(str).str.strip().isin(ids)]\n",
    "\n",
    "df_top_celebs_filtered = df_top_celebs.merge(\n",
    "    already_downloaded, on=\"speaker\", how=\"left\", suffixes=(\"\", \"_y\")\n",
    ")\n",
    "df_top_celebs_filtered = df_top_celebs_filtered[\n",
    "    df_top_celebs_filtered[\"length\"] < df_top_celebs_filtered[\"duration_s\"]\n",
    "]\n",
    "\n"
   ]
  },
  {
   "cell_type": "code",
   "execution_count": 40,
   "metadata": {},
   "outputs": [
    {
     "name": "stdout",
     "output_type": "stream",
     "text": [
      "Speaker: id08167, Video: GXb9-3UCtLQ, Txt file: 00140\n"
     ]
    },
    {
     "name": "stderr",
     "output_type": "stream",
     "text": [
      "ERROR: [youtube] GXb9-3UCtLQ: Video unavailable. This video is no longer available because the YouTube account associated with this video has been terminated.\n"
     ]
    },
    {
     "name": "stdout",
     "output_type": "stream",
     "text": [
      "Speaker: id08167, Video: GXb9-3UCtLQ, Txt file: 00119\n"
     ]
    },
    {
     "name": "stderr",
     "output_type": "stream",
     "text": [
      "ERROR: [youtube] GXb9-3UCtLQ: Video unavailable. This video is no longer available because the YouTube account associated with this video has been terminated.\n"
     ]
    },
    {
     "name": "stdout",
     "output_type": "stream",
     "text": [
      "Speaker: id08167, Video: YvEmSk1Tm9M, Txt file: 00207\n",
      "[youtube] Extracting URL: https://www.youtube.com/watch?v=YvEmSk1Tm9M\n",
      "[youtube] YvEmSk1Tm9M: Downloading webpage\n",
      "[youtube] YvEmSk1Tm9M: Downloading tv client config\n",
      "[youtube] YvEmSk1Tm9M: Downloading player 5ae7d525\n",
      "[youtube] YvEmSk1Tm9M: Downloading tv player API JSON\n",
      "[youtube] YvEmSk1Tm9M: Downloading ios player API JSON\n",
      "[youtube] YvEmSk1Tm9M: Downloading m3u8 information\n",
      "[info] YvEmSk1Tm9M: Downloading 1 format(s): 140\n",
      "[download] Destination: id08167_2_16120_YvEmSk1Tm9M_00207\n",
      "[download] 100% of    8.52MiB in 00:00:01 at 6.74MiB/s   \n",
      "[FixupM4a] Correcting container of \"id08167_2_16120_YvEmSk1Tm9M_00207\"\n",
      "[ExtractAudio] Destination: id08167_2_16120_YvEmSk1Tm9M_00207.mp3\n",
      "Deleting original file id08167_2_16120_YvEmSk1Tm9M_00207 (pass -k to keep)\n",
      "Audio downloaded as id08167_2_16120_YvEmSk1Tm9M_00207\n",
      "Trimmed audio saved as ../data/download_df_audio/id08167_2_16120_YvEmSk1Tm9M_00207_cut.mp3\n",
      "Speaker: id08167, Video: Htafo8uMxW8, Txt file: 00147\n"
     ]
    },
    {
     "name": "stderr",
     "output_type": "stream",
     "text": [
      "ERROR: [youtube] Htafo8uMxW8: This video has been removed for violating YouTube's Terms of Service\n"
     ]
    },
    {
     "name": "stdout",
     "output_type": "stream",
     "text": [
      "Speaker: id08167, Video: 6oU42Q3VP1k, Txt file: 00068\n",
      "[youtube] Extracting URL: https://www.youtube.com/watch?v=6oU42Q3VP1k\n",
      "[youtube] 6oU42Q3VP1k: Downloading webpage\n",
      "[youtube] 6oU42Q3VP1k: Downloading tv client config\n",
      "[youtube] 6oU42Q3VP1k: Downloading player 5ae7d525\n",
      "[youtube] 6oU42Q3VP1k: Downloading tv player API JSON\n",
      "[youtube] 6oU42Q3VP1k: Downloading ios player API JSON\n",
      "[youtube] 6oU42Q3VP1k: Downloading m3u8 information\n",
      "[info] 6oU42Q3VP1k: Downloading 1 format(s): 251\n",
      "[download] Destination: id08167_3_15920_6oU42Q3VP1k_00068\n",
      "[download] 100% of  760.07KiB in 00:00:00 at 3.37MiB/s   \n",
      "[ExtractAudio] Destination: id08167_3_15920_6oU42Q3VP1k_00068.mp3\n",
      "Deleting original file id08167_3_15920_6oU42Q3VP1k_00068 (pass -k to keep)\n",
      "Audio downloaded as id08167_3_15920_6oU42Q3VP1k_00068\n",
      "Trimmed audio saved as ../data/download_df_audio/id08167_3_15920_6oU42Q3VP1k_00068_cut.mp3\n",
      "Speaker: id08167, Video: ySSoMPNpnew, Txt file: 00319\n"
     ]
    },
    {
     "name": "stderr",
     "output_type": "stream",
     "text": [
      "ERROR: [youtube] ySSoMPNpnew: Video unavailable. This video is no longer available because the YouTube account associated with this video has been terminated.\n"
     ]
    },
    {
     "name": "stdout",
     "output_type": "stream",
     "text": [
      "Speaker: id08167, Video: 05tFsJPonao, Txt file: 00014\n"
     ]
    },
    {
     "name": "stderr",
     "output_type": "stream",
     "text": [
      "ERROR: [youtube] 05tFsJPonao: This video has been removed for violating YouTube's Terms of Service\n"
     ]
    },
    {
     "name": "stdout",
     "output_type": "stream",
     "text": [
      "Speaker: id08167, Video: RV0EM1baW_g, Txt file: 00172\n",
      "[youtube] Extracting URL: https://www.youtube.com/watch?v=RV0EM1baW_g\n",
      "[youtube] RV0EM1baW_g: Downloading webpage\n",
      "[youtube] RV0EM1baW_g: Downloading tv client config\n",
      "[youtube] RV0EM1baW_g: Downloading player 5ae7d525\n",
      "[youtube] RV0EM1baW_g: Downloading tv player API JSON\n",
      "[youtube] RV0EM1baW_g: Downloading ios player API JSON\n",
      "[youtube] RV0EM1baW_g: Downloading m3u8 information\n",
      "[info] RV0EM1baW_g: Downloading 1 format(s): 251\n",
      "[download] Destination: id08167_4_13520_RV0EM1baW_g_00172\n",
      "[download] 100% of    1.22MiB in 00:00:00 at 2.33MiB/s   \n",
      "[ExtractAudio] Destination: id08167_4_13520_RV0EM1baW_g_00172.mp3\n",
      "Deleting original file id08167_4_13520_RV0EM1baW_g_00172 (pass -k to keep)\n",
      "Audio downloaded as id08167_4_13520_RV0EM1baW_g_00172\n",
      "Trimmed audio saved as ../data/download_df_audio/id08167_4_13520_RV0EM1baW_g_00172_cut.mp3\n",
      "Speaker: id08167, Video: 6oU42Q3VP1k, Txt file: 00070\n",
      "[youtube] Extracting URL: https://www.youtube.com/watch?v=6oU42Q3VP1k\n",
      "[youtube] 6oU42Q3VP1k: Downloading webpage\n",
      "[youtube] 6oU42Q3VP1k: Downloading tv client config\n",
      "[youtube] 6oU42Q3VP1k: Downloading player 5ae7d525\n",
      "[youtube] 6oU42Q3VP1k: Downloading tv player API JSON\n",
      "[youtube] 6oU42Q3VP1k: Downloading ios player API JSON\n",
      "[youtube] 6oU42Q3VP1k: Downloading m3u8 information\n",
      "[info] 6oU42Q3VP1k: Downloading 1 format(s): 251\n",
      "[download] Destination: id08167_5_13320_6oU42Q3VP1k_00070\n",
      "[download] 100% of  760.07KiB in 00:00:00 at 6.25MiB/s   \n",
      "[ExtractAudio] Destination: id08167_5_13320_6oU42Q3VP1k_00070.mp3\n",
      "Deleting original file id08167_5_13320_6oU42Q3VP1k_00070 (pass -k to keep)\n",
      "Audio downloaded as id08167_5_13320_6oU42Q3VP1k_00070\n",
      "Trimmed audio saved as ../data/download_df_audio/id08167_5_13320_6oU42Q3VP1k_00070_cut.mp3\n",
      "Speaker: id08167, Video: XSYnho8O0zQ, Txt file: 00183\n"
     ]
    },
    {
     "name": "stderr",
     "output_type": "stream",
     "text": [
      "ERROR: [youtube] XSYnho8O0zQ: Video unavailable\n"
     ]
    },
    {
     "name": "stdout",
     "output_type": "stream",
     "text": [
      "Speaker: id08167, Video: ySSoMPNpnew, Txt file: 00308\n"
     ]
    },
    {
     "name": "stderr",
     "output_type": "stream",
     "text": [
      "ERROR: [youtube] ySSoMPNpnew: Video unavailable. This video is no longer available because the YouTube account associated with this video has been terminated.\n"
     ]
    },
    {
     "name": "stdout",
     "output_type": "stream",
     "text": [
      "Speaker: id08167, Video: t_qQz6eTpJQ, Txt file: 00288\n"
     ]
    },
    {
     "name": "stderr",
     "output_type": "stream",
     "text": [
      "ERROR: [youtube] t_qQz6eTpJQ: This video has been removed for violating YouTube's Terms of Service\n"
     ]
    },
    {
     "name": "stdout",
     "output_type": "stream",
     "text": [
      "Speaker: id08167, Video: b88sttYOYMo, Txt file: 00212\n",
      "[youtube] Extracting URL: https://www.youtube.com/watch?v=b88sttYOYMo\n",
      "[youtube] b88sttYOYMo: Downloading webpage\n",
      "[youtube] b88sttYOYMo: Downloading tv client config\n",
      "[youtube] b88sttYOYMo: Downloading player 5ae7d525\n",
      "[youtube] b88sttYOYMo: Downloading tv player API JSON\n",
      "[youtube] b88sttYOYMo: Downloading ios player API JSON\n",
      "[youtube] b88sttYOYMo: Downloading m3u8 information\n",
      "[info] b88sttYOYMo: Downloading 1 format(s): 251\n",
      "[download] Destination: id08167_6_12320_b88sttYOYMo_00212\n",
      "[download] 100% of   40.77MiB in 00:00:04 at 8.26MiB/s     \n",
      "[ExtractAudio] Destination: id08167_6_12320_b88sttYOYMo_00212.mp3\n",
      "Deleting original file id08167_6_12320_b88sttYOYMo_00212 (pass -k to keep)\n",
      "Audio downloaded as id08167_6_12320_b88sttYOYMo_00212\n",
      "Trimmed audio saved as ../data/download_df_audio/id08167_6_12320_b88sttYOYMo_00212_cut.mp3\n",
      "Speaker: id08167, Video: XSYnho8O0zQ, Txt file: 00194\n"
     ]
    },
    {
     "name": "stderr",
     "output_type": "stream",
     "text": [
      "ERROR: [youtube] XSYnho8O0zQ: Video unavailable\n"
     ]
    },
    {
     "name": "stdout",
     "output_type": "stream",
     "text": [
      "Speaker: id08167, Video: XSYnho8O0zQ, Txt file: 00191\n"
     ]
    },
    {
     "name": "stderr",
     "output_type": "stream",
     "text": [
      "ERROR: [youtube] XSYnho8O0zQ: Video unavailable\n"
     ]
    },
    {
     "name": "stdout",
     "output_type": "stream",
     "text": [
      "Speaker: id08167, Video: XSYnho8O0zQ, Txt file: 00192\n"
     ]
    },
    {
     "name": "stderr",
     "output_type": "stream",
     "text": [
      "ERROR: [youtube] XSYnho8O0zQ: Video unavailable\n"
     ]
    },
    {
     "name": "stdout",
     "output_type": "stream",
     "text": [
      "Speaker: id08167, Video: pr9wSXBmqKk, Txt file: 00287\n",
      "[youtube] Extracting URL: https://www.youtube.com/watch?v=pr9wSXBmqKk\n",
      "[youtube] pr9wSXBmqKk: Downloading webpage\n",
      "[youtube] pr9wSXBmqKk: Downloading tv client config\n",
      "[youtube] pr9wSXBmqKk: Downloading player 5ae7d525\n",
      "[youtube] pr9wSXBmqKk: Downloading tv player API JSON\n",
      "[youtube] pr9wSXBmqKk: Downloading ios player API JSON\n",
      "[youtube] pr9wSXBmqKk: Downloading m3u8 information\n",
      "[info] pr9wSXBmqKk: Downloading 1 format(s): 140\n",
      "[download] Destination: id08167_7_11560_pr9wSXBmqKk_00287\n",
      "[download] 100% of    5.92MiB in 00:00:00 at 7.05MiB/s   \n",
      "[FixupM4a] Correcting container of \"id08167_7_11560_pr9wSXBmqKk_00287\"\n",
      "[ExtractAudio] Destination: id08167_7_11560_pr9wSXBmqKk_00287.mp3\n",
      "Deleting original file id08167_7_11560_pr9wSXBmqKk_00287 (pass -k to keep)\n",
      "Audio downloaded as id08167_7_11560_pr9wSXBmqKk_00287\n",
      "Trimmed audio saved as ../data/download_df_audio/id08167_7_11560_pr9wSXBmqKk_00287_cut.mp3\n",
      "Speaker: id08167, Video: ySSoMPNpnew, Txt file: 00317\n"
     ]
    },
    {
     "name": "stderr",
     "output_type": "stream",
     "text": [
      "ERROR: [youtube] ySSoMPNpnew: Video unavailable. This video is no longer available because the YouTube account associated with this video has been terminated.\n"
     ]
    },
    {
     "name": "stdout",
     "output_type": "stream",
     "text": [
      "Speaker: id08167, Video: 7SShQr-0erM, Txt file: 00078\n",
      "[youtube] Extracting URL: https://www.youtube.com/watch?v=7SShQr-0erM\n",
      "[youtube] 7SShQr-0erM: Downloading webpage\n",
      "[youtube] 7SShQr-0erM: Downloading tv client config\n",
      "[youtube] 7SShQr-0erM: Downloading player 5ae7d525\n",
      "[youtube] 7SShQr-0erM: Downloading tv player API JSON\n",
      "[youtube] 7SShQr-0erM: Downloading ios player API JSON\n",
      "[youtube] 7SShQr-0erM: Downloading m3u8 information\n",
      "[info] 7SShQr-0erM: Downloading 1 format(s): 251\n",
      "[download] Destination: id08167_8_11440_7SShQr-0erM_00078\n",
      "[download] 100% of    3.33MiB in 00:00:00 at 6.71MiB/s   \n",
      "[ExtractAudio] Destination: id08167_8_11440_7SShQr-0erM_00078.mp3\n",
      "Deleting original file id08167_8_11440_7SShQr-0erM_00078 (pass -k to keep)\n",
      "Audio downloaded as id08167_8_11440_7SShQr-0erM_00078\n",
      "Trimmed audio saved as ../data/download_df_audio/id08167_8_11440_7SShQr-0erM_00078_cut.mp3\n",
      "Speaker: id08167, Video: x5tHMyGVwlY, Txt file: 00305\n",
      "[youtube] Extracting URL: https://www.youtube.com/watch?v=x5tHMyGVwlY\n",
      "[youtube] x5tHMyGVwlY: Downloading webpage\n",
      "[youtube] x5tHMyGVwlY: Downloading tv client config\n",
      "[youtube] x5tHMyGVwlY: Downloading player 5ae7d525\n",
      "[youtube] x5tHMyGVwlY: Downloading tv player API JSON\n",
      "[youtube] x5tHMyGVwlY: Downloading ios player API JSON\n",
      "[youtube] x5tHMyGVwlY: Downloading m3u8 information\n",
      "[info] x5tHMyGVwlY: Downloading 1 format(s): 140\n",
      "[download] Destination: id08167_9_11400_x5tHMyGVwlY_00305\n",
      "[download] 100% of    4.47MiB in 00:00:00 at 4.90MiB/s   \n",
      "[FixupM4a] Correcting container of \"id08167_9_11400_x5tHMyGVwlY_00305\"\n",
      "[ExtractAudio] Destination: id08167_9_11400_x5tHMyGVwlY_00305.mp3\n",
      "Deleting original file id08167_9_11400_x5tHMyGVwlY_00305 (pass -k to keep)\n",
      "Audio downloaded as id08167_9_11400_x5tHMyGVwlY_00305\n",
      "Trimmed audio saved as ../data/download_df_audio/id08167_9_11400_x5tHMyGVwlY_00305_cut.mp3\n",
      "Speaker: id08171, Video: eGozzese_as, Txt file: 00264\n",
      "[youtube] Extracting URL: https://www.youtube.com/watch?v=eGozzese_as\n",
      "[youtube] eGozzese_as: Downloading webpage\n",
      "[youtube] eGozzese_as: Downloading tv client config\n",
      "[youtube] eGozzese_as: Downloading player 5ae7d525\n",
      "[youtube] eGozzese_as: Downloading tv player API JSON\n",
      "[youtube] eGozzese_as: Downloading ios player API JSON\n",
      "[youtube] eGozzese_as: Downloading m3u8 information\n",
      "[info] eGozzese_as: Downloading 1 format(s): 140\n",
      "[download] Destination: id08171_2_27480_eGozzese_as_00264\n",
      "[download] 100% of    3.89MiB in 00:00:00 at 4.60MiB/s   \n",
      "[FixupM4a] Correcting container of \"id08171_2_27480_eGozzese_as_00264\"\n",
      "[ExtractAudio] Destination: id08171_2_27480_eGozzese_as_00264.mp3\n",
      "Deleting original file id08171_2_27480_eGozzese_as_00264 (pass -k to keep)\n",
      "Audio downloaded as id08171_2_27480_eGozzese_as_00264\n",
      "Trimmed audio saved as ../data/download_df_audio/id08171_2_27480_eGozzese_as_00264_cut.mp3\n",
      "Speaker: id08171, Video: 0S7HcvVI0rM, Txt file: 00012\n",
      "[youtube] Extracting URL: https://www.youtube.com/watch?v=0S7HcvVI0rM\n",
      "[youtube] 0S7HcvVI0rM: Downloading webpage\n",
      "[youtube] 0S7HcvVI0rM: Downloading tv client config\n",
      "[youtube] 0S7HcvVI0rM: Downloading player 5ae7d525\n",
      "[youtube] 0S7HcvVI0rM: Downloading tv player API JSON\n",
      "[youtube] 0S7HcvVI0rM: Downloading ios player API JSON\n",
      "[youtube] 0S7HcvVI0rM: Downloading m3u8 information\n",
      "[info] 0S7HcvVI0rM: Downloading 1 format(s): 251\n",
      "[download] Destination: id08171_3_25600_0S7HcvVI0rM_00012\n",
      "[download] 100% of    4.00MiB in 00:00:01 at 3.35MiB/s   \n",
      "[ExtractAudio] Destination: id08171_3_25600_0S7HcvVI0rM_00012.mp3\n",
      "Deleting original file id08171_3_25600_0S7HcvVI0rM_00012 (pass -k to keep)\n",
      "Audio downloaded as id08171_3_25600_0S7HcvVI0rM_00012\n",
      "Trimmed audio saved as ../data/download_df_audio/id08171_3_25600_0S7HcvVI0rM_00012_cut.mp3\n",
      "Speaker: id08171, Video: NEaB8Mxfgmc, Txt file: 00097\n",
      "[youtube] Extracting URL: https://www.youtube.com/watch?v=NEaB8Mxfgmc\n",
      "[youtube] NEaB8Mxfgmc: Downloading webpage\n",
      "[youtube] NEaB8Mxfgmc: Downloading tv client config\n",
      "[youtube] NEaB8Mxfgmc: Downloading player 5ae7d525\n",
      "[youtube] NEaB8Mxfgmc: Downloading tv player API JSON\n",
      "[youtube] NEaB8Mxfgmc: Downloading ios player API JSON\n",
      "[youtube] NEaB8Mxfgmc: Downloading m3u8 information\n",
      "[info] NEaB8Mxfgmc: Downloading 1 format(s): 140\n",
      "[download] Destination: id08171_4_25520_NEaB8Mxfgmc_00097\n",
      "[download] 100% of    5.88MiB in 00:00:01 at 5.59MiB/s   \n",
      "[FixupM4a] Correcting container of \"id08171_4_25520_NEaB8Mxfgmc_00097\"\n",
      "[ExtractAudio] Destination: id08171_4_25520_NEaB8Mxfgmc_00097.mp3\n",
      "Deleting original file id08171_4_25520_NEaB8Mxfgmc_00097 (pass -k to keep)\n",
      "Audio downloaded as id08171_4_25520_NEaB8Mxfgmc_00097\n",
      "Trimmed audio saved as ../data/download_df_audio/id08171_4_25520_NEaB8Mxfgmc_00097_cut.mp3\n",
      "Speaker: id08171, Video: tuPqFMI9pNY, Txt file: 00326\n",
      "[youtube] Extracting URL: https://www.youtube.com/watch?v=tuPqFMI9pNY\n",
      "[youtube] tuPqFMI9pNY: Downloading webpage\n",
      "[youtube] tuPqFMI9pNY: Downloading tv client config\n",
      "[youtube] tuPqFMI9pNY: Downloading player 5ae7d525\n",
      "[youtube] tuPqFMI9pNY: Downloading tv player API JSON\n",
      "[youtube] tuPqFMI9pNY: Downloading ios player API JSON\n",
      "[youtube] tuPqFMI9pNY: Downloading m3u8 information\n",
      "[info] tuPqFMI9pNY: Downloading 1 format(s): 140\n",
      "[download] Destination: id08171_5_20920_tuPqFMI9pNY_00326\n",
      "[download] 100% of    2.38MiB in 00:00:00 at 2.62MiB/s   \n",
      "[FixupM4a] Correcting container of \"id08171_5_20920_tuPqFMI9pNY_00326\"\n",
      "[ExtractAudio] Destination: id08171_5_20920_tuPqFMI9pNY_00326.mp3\n",
      "Deleting original file id08171_5_20920_tuPqFMI9pNY_00326 (pass -k to keep)\n",
      "Audio downloaded as id08171_5_20920_tuPqFMI9pNY_00326\n",
      "Trimmed audio saved as ../data/download_df_audio/id08171_5_20920_tuPqFMI9pNY_00326_cut.mp3\n",
      "Speaker: id08171, Video: P6S1zgSjBl8, Txt file: 00130\n",
      "[youtube] Extracting URL: https://www.youtube.com/watch?v=P6S1zgSjBl8\n",
      "[youtube] P6S1zgSjBl8: Downloading webpage\n",
      "[youtube] P6S1zgSjBl8: Downloading tv client config\n",
      "[youtube] P6S1zgSjBl8: Downloading player 5ae7d525\n",
      "[youtube] P6S1zgSjBl8: Downloading tv player API JSON\n",
      "[youtube] P6S1zgSjBl8: Downloading ios player API JSON\n",
      "[youtube] P6S1zgSjBl8: Downloading m3u8 information\n",
      "[info] P6S1zgSjBl8: Downloading 1 format(s): 140\n",
      "[download] Destination: id08171_6_20160_P6S1zgSjBl8_00130\n",
      "[download] 100% of    5.70MiB in 00:00:01 at 2.87MiB/s   \n",
      "[FixupM4a] Correcting container of \"id08171_6_20160_P6S1zgSjBl8_00130\"\n",
      "[ExtractAudio] Destination: id08171_6_20160_P6S1zgSjBl8_00130.mp3\n",
      "Deleting original file id08171_6_20160_P6S1zgSjBl8_00130 (pass -k to keep)\n",
      "Audio downloaded as id08171_6_20160_P6S1zgSjBl8_00130\n",
      "Trimmed audio saved as ../data/download_df_audio/id08171_6_20160_P6S1zgSjBl8_00130_cut.mp3\n",
      "Speaker: id08171, Video: wXVaOLeB1VI, Txt file: 00344\n",
      "[youtube] Extracting URL: https://www.youtube.com/watch?v=wXVaOLeB1VI\n",
      "[youtube] wXVaOLeB1VI: Downloading webpage\n",
      "[youtube] wXVaOLeB1VI: Downloading tv client config\n",
      "[youtube] wXVaOLeB1VI: Downloading player 5ae7d525\n",
      "[youtube] wXVaOLeB1VI: Downloading tv player API JSON\n",
      "[youtube] wXVaOLeB1VI: Downloading ios player API JSON\n",
      "[youtube] wXVaOLeB1VI: Downloading m3u8 information\n",
      "[info] wXVaOLeB1VI: Downloading 1 format(s): 140\n",
      "[download] Destination: id08171_7_19680_wXVaOLeB1VI_00344\n",
      "[download] 100% of    6.53MiB in 00:00:01 at 3.54MiB/s   \n",
      "[FixupM4a] Correcting container of \"id08171_7_19680_wXVaOLeB1VI_00344\"\n",
      "[ExtractAudio] Destination: id08171_7_19680_wXVaOLeB1VI_00344.mp3\n",
      "Deleting original file id08171_7_19680_wXVaOLeB1VI_00344 (pass -k to keep)\n",
      "Audio downloaded as id08171_7_19680_wXVaOLeB1VI_00344\n",
      "Trimmed audio saved as ../data/download_df_audio/id08171_7_19680_wXVaOLeB1VI_00344_cut.mp3\n",
      "Speaker: id08171, Video: WNsjrgPpld8, Txt file: 00210\n",
      "[youtube] Extracting URL: https://www.youtube.com/watch?v=WNsjrgPpld8\n",
      "[youtube] WNsjrgPpld8: Downloading webpage\n",
      "[youtube] WNsjrgPpld8: Downloading tv client config\n",
      "[youtube] WNsjrgPpld8: Downloading player 5ae7d525\n",
      "[youtube] WNsjrgPpld8: Downloading tv player API JSON\n",
      "[youtube] WNsjrgPpld8: Downloading ios player API JSON\n",
      "[youtube] WNsjrgPpld8: Downloading m3u8 information\n",
      "[info] WNsjrgPpld8: Downloading 1 format(s): 140\n",
      "[download] Destination: id08171_8_19680_WNsjrgPpld8_00210\n",
      "[download] 100% of    3.96MiB in 00:00:01 at 2.92MiB/s   \n",
      "[FixupM4a] Correcting container of \"id08171_8_19680_WNsjrgPpld8_00210\"\n",
      "[ExtractAudio] Destination: id08171_8_19680_WNsjrgPpld8_00210.mp3\n",
      "Deleting original file id08171_8_19680_WNsjrgPpld8_00210 (pass -k to keep)\n",
      "Audio downloaded as id08171_8_19680_WNsjrgPpld8_00210\n",
      "Trimmed audio saved as ../data/download_df_audio/id08171_8_19680_WNsjrgPpld8_00210_cut.mp3\n",
      "Speaker: id08171, Video: aAVXB4NjgBk, Txt file: 00234\n",
      "[youtube] Extracting URL: https://www.youtube.com/watch?v=aAVXB4NjgBk\n",
      "[youtube] aAVXB4NjgBk: Downloading webpage\n",
      "[youtube] aAVXB4NjgBk: Downloading tv client config\n",
      "[youtube] aAVXB4NjgBk: Downloading player 5ae7d525\n",
      "[youtube] aAVXB4NjgBk: Downloading tv player API JSON\n",
      "[youtube] aAVXB4NjgBk: Downloading ios player API JSON\n",
      "[youtube] aAVXB4NjgBk: Downloading m3u8 information\n",
      "[info] aAVXB4NjgBk: Downloading 1 format(s): 140\n",
      "[download] Destination: id08171_9_19080_aAVXB4NjgBk_00234\n",
      "[download] 100% of    9.05MiB in 00:00:02 at 3.20MiB/s   \n",
      "[FixupM4a] Correcting container of \"id08171_9_19080_aAVXB4NjgBk_00234\"\n",
      "[ExtractAudio] Destination: id08171_9_19080_aAVXB4NjgBk_00234.mp3\n",
      "Deleting original file id08171_9_19080_aAVXB4NjgBk_00234 (pass -k to keep)\n",
      "Audio downloaded as id08171_9_19080_aAVXB4NjgBk_00234\n",
      "Trimmed audio saved as ../data/download_df_audio/id08171_9_19080_aAVXB4NjgBk_00234_cut.mp3\n",
      "Speaker: id08176, Video: dV00mrfc8ZU, Txt file: 00253\n"
     ]
    },
    {
     "name": "stderr",
     "output_type": "stream",
     "text": [
      "ERROR: [youtube] dV00mrfc8ZU: Video unavailable\n"
     ]
    },
    {
     "name": "stdout",
     "output_type": "stream",
     "text": [
      "Speaker: id08176, Video: 7liorY1Ae7I, Txt file: 00056\n",
      "[youtube] Extracting URL: https://www.youtube.com/watch?v=7liorY1Ae7I\n",
      "[youtube] 7liorY1Ae7I: Downloading webpage\n",
      "[youtube] 7liorY1Ae7I: Downloading tv client config\n",
      "[youtube] 7liorY1Ae7I: Downloading player 5ae7d525\n",
      "[youtube] 7liorY1Ae7I: Downloading tv player API JSON\n",
      "[youtube] 7liorY1Ae7I: Downloading ios player API JSON\n",
      "[youtube] 7liorY1Ae7I: Downloading m3u8 information\n",
      "[info] 7liorY1Ae7I: Downloading 1 format(s): 251\n",
      "[download] Destination: id08176_2_26840_7liorY1Ae7I_00056\n",
      "[download] 100% of    7.01MiB in 00:00:01 at 6.98MiB/s     \n",
      "[ExtractAudio] Destination: id08176_2_26840_7liorY1Ae7I_00056.mp3\n",
      "Deleting original file id08176_2_26840_7liorY1Ae7I_00056 (pass -k to keep)\n",
      "Audio downloaded as id08176_2_26840_7liorY1Ae7I_00056\n",
      "Trimmed audio saved as ../data/download_df_audio/id08176_2_26840_7liorY1Ae7I_00056_cut.mp3\n",
      "Speaker: id08176, Video: dV00mrfc8ZU, Txt file: 00257\n"
     ]
    },
    {
     "name": "stderr",
     "output_type": "stream",
     "text": [
      "ERROR: [youtube] dV00mrfc8ZU: Video unavailable\n"
     ]
    },
    {
     "name": "stdout",
     "output_type": "stream",
     "text": [
      "Speaker: id08176, Video: tkYUYe4NMUE, Txt file: 00355\n"
     ]
    },
    {
     "name": "stderr",
     "output_type": "stream",
     "text": [
      "ERROR: [youtube] tkYUYe4NMUE: Private video. Sign in if you've been granted access to this video. Use --cookies-from-browser or --cookies for the authentication. See  https://github.com/yt-dlp/yt-dlp/wiki/FAQ#how-do-i-pass-cookies-to-yt-dlp  for how to manually pass cookies. Also see  https://github.com/yt-dlp/yt-dlp/wiki/Extractors#exporting-youtube-cookies  for tips on effectively exporting YouTube cookies\n"
     ]
    },
    {
     "name": "stdout",
     "output_type": "stream",
     "text": [
      "Speaker: id08176, Video: _v1qs4WA1Vg, Txt file: 00205\n",
      "[youtube] Extracting URL: https://www.youtube.com/watch?v=_v1qs4WA1Vg\n",
      "[youtube] _v1qs4WA1Vg: Downloading webpage\n",
      "[youtube] _v1qs4WA1Vg: Downloading tv client config\n",
      "[youtube] _v1qs4WA1Vg: Downloading player 5ae7d525\n",
      "[youtube] _v1qs4WA1Vg: Downloading tv player API JSON\n",
      "[youtube] _v1qs4WA1Vg: Downloading ios player API JSON\n",
      "[youtube] _v1qs4WA1Vg: Downloading m3u8 information\n",
      "[info] _v1qs4WA1Vg: Downloading 1 format(s): 140\n",
      "[download] Destination: id08176_3_21440__v1qs4WA1Vg_00205\n",
      "[download] 100% of    9.47MiB in 00:00:01 at 7.71MiB/s   \n",
      "[FixupM4a] Correcting container of \"id08176_3_21440__v1qs4WA1Vg_00205\"\n",
      "[ExtractAudio] Destination: id08176_3_21440__v1qs4WA1Vg_00205.mp3\n",
      "Deleting original file id08176_3_21440__v1qs4WA1Vg_00205 (pass -k to keep)\n",
      "Audio downloaded as id08176_3_21440__v1qs4WA1Vg_00205\n",
      "Trimmed audio saved as ../data/download_df_audio/id08176_3_21440__v1qs4WA1Vg_00205_cut.mp3\n",
      "Speaker: id08176, Video: K3Mqm226_Hs, Txt file: 00113\n",
      "[youtube] Extracting URL: https://www.youtube.com/watch?v=K3Mqm226_Hs\n",
      "[youtube] K3Mqm226_Hs: Downloading webpage\n",
      "[youtube] K3Mqm226_Hs: Downloading tv client config\n",
      "[youtube] K3Mqm226_Hs: Downloading player 5ae7d525\n",
      "[youtube] K3Mqm226_Hs: Downloading tv player API JSON\n",
      "[youtube] K3Mqm226_Hs: Downloading ios player API JSON\n",
      "[youtube] K3Mqm226_Hs: Downloading m3u8 information\n",
      "[info] K3Mqm226_Hs: Downloading 1 format(s): 251\n",
      "[download] Destination: id08176_4_20240_K3Mqm226_Hs_00113\n",
      "[download] 100% of    3.19MiB in 00:00:01 at 1.69MiB/s   \n",
      "[ExtractAudio] Destination: id08176_4_20240_K3Mqm226_Hs_00113.mp3\n",
      "Deleting original file id08176_4_20240_K3Mqm226_Hs_00113 (pass -k to keep)\n",
      "Audio downloaded as id08176_4_20240_K3Mqm226_Hs_00113\n",
      "Trimmed audio saved as ../data/download_df_audio/id08176_4_20240_K3Mqm226_Hs_00113_cut.mp3\n",
      "Speaker: id08176, Video: c3R1J4l-POE, Txt file: 00244\n",
      "[youtube] Extracting URL: https://www.youtube.com/watch?v=c3R1J4l-POE\n",
      "[youtube] c3R1J4l-POE: Downloading webpage\n",
      "[youtube] c3R1J4l-POE: Downloading tv client config\n",
      "[youtube] c3R1J4l-POE: Downloading player 5ae7d525\n",
      "[youtube] c3R1J4l-POE: Downloading tv player API JSON\n",
      "[youtube] c3R1J4l-POE: Downloading ios player API JSON\n",
      "[youtube] c3R1J4l-POE: Downloading m3u8 information\n",
      "[info] c3R1J4l-POE: Downloading 1 format(s): 251\n",
      "[download] Destination: id08176_5_20240_c3R1J4l-POE_00244\n",
      "[download] 100% of    3.80MiB in 00:00:01 at 2.23MiB/s   \n",
      "[ExtractAudio] Destination: id08176_5_20240_c3R1J4l-POE_00244.mp3\n",
      "Deleting original file id08176_5_20240_c3R1J4l-POE_00244 (pass -k to keep)\n",
      "Audio downloaded as id08176_5_20240_c3R1J4l-POE_00244\n",
      "Trimmed audio saved as ../data/download_df_audio/id08176_5_20240_c3R1J4l-POE_00244_cut.mp3\n",
      "Speaker: id08176, Video: vgTdKyjw2U4, Txt file: 00366\n",
      "[youtube] Extracting URL: https://www.youtube.com/watch?v=vgTdKyjw2U4\n",
      "[youtube] vgTdKyjw2U4: Downloading webpage\n",
      "[youtube] vgTdKyjw2U4: Downloading tv client config\n",
      "[youtube] vgTdKyjw2U4: Downloading player 5ae7d525\n",
      "[youtube] vgTdKyjw2U4: Downloading tv player API JSON\n",
      "[youtube] vgTdKyjw2U4: Downloading ios player API JSON\n",
      "[youtube] vgTdKyjw2U4: Downloading m3u8 information\n",
      "[info] vgTdKyjw2U4: Downloading 1 format(s): 140\n",
      "[download] Destination: id08176_6_17840_vgTdKyjw2U4_00366\n",
      "[download] 100% of    2.48MiB in 00:00:00 at 7.58MiB/s   \n",
      "[FixupM4a] Correcting container of \"id08176_6_17840_vgTdKyjw2U4_00366\"\n",
      "[ExtractAudio] Destination: id08176_6_17840_vgTdKyjw2U4_00366.mp3\n",
      "Deleting original file id08176_6_17840_vgTdKyjw2U4_00366 (pass -k to keep)\n",
      "Audio downloaded as id08176_6_17840_vgTdKyjw2U4_00366\n",
      "Trimmed audio saved as ../data/download_df_audio/id08176_6_17840_vgTdKyjw2U4_00366_cut.mp3\n",
      "Speaker: id08176, Video: 7liorY1Ae7I, Txt file: 00055\n",
      "[youtube] Extracting URL: https://www.youtube.com/watch?v=7liorY1Ae7I\n",
      "[youtube] 7liorY1Ae7I: Downloading webpage\n",
      "[youtube] 7liorY1Ae7I: Downloading tv client config\n",
      "[youtube] 7liorY1Ae7I: Downloading player 5ae7d525\n",
      "[youtube] 7liorY1Ae7I: Downloading tv player API JSON\n",
      "[youtube] 7liorY1Ae7I: Downloading ios player API JSON\n",
      "[youtube] 7liorY1Ae7I: Downloading m3u8 information\n",
      "[info] 7liorY1Ae7I: Downloading 1 format(s): 251\n",
      "[download] Destination: id08176_7_17240_7liorY1Ae7I_00055\n",
      "[download] 100% of    7.01MiB in 00:00:00 at 11.52MiB/s    \n",
      "[ExtractAudio] Destination: id08176_7_17240_7liorY1Ae7I_00055.mp3\n",
      "Deleting original file id08176_7_17240_7liorY1Ae7I_00055 (pass -k to keep)\n",
      "Audio downloaded as id08176_7_17240_7liorY1Ae7I_00055\n",
      "Trimmed audio saved as ../data/download_df_audio/id08176_7_17240_7liorY1Ae7I_00055_cut.mp3\n",
      "Speaker: id08176, Video: jWJ9IPUXyKU, Txt file: 00313\n",
      "[youtube] Extracting URL: https://www.youtube.com/watch?v=jWJ9IPUXyKU\n",
      "[youtube] jWJ9IPUXyKU: Downloading webpage\n",
      "[youtube] jWJ9IPUXyKU: Downloading tv client config\n",
      "[youtube] jWJ9IPUXyKU: Downloading player 5ae7d525\n",
      "[youtube] jWJ9IPUXyKU: Downloading tv player API JSON\n",
      "[youtube] jWJ9IPUXyKU: Downloading ios player API JSON\n",
      "[youtube] jWJ9IPUXyKU: Downloading m3u8 information\n",
      "[info] jWJ9IPUXyKU: Downloading 1 format(s): 251\n",
      "[download] Destination: id08176_8_17120_jWJ9IPUXyKU_00313\n",
      "[download] 100% of    1.70MiB in 00:00:01 at 1009.52KiB/s\n",
      "[ExtractAudio] Destination: id08176_8_17120_jWJ9IPUXyKU_00313.mp3\n",
      "Deleting original file id08176_8_17120_jWJ9IPUXyKU_00313 (pass -k to keep)\n",
      "Audio downloaded as id08176_8_17120_jWJ9IPUXyKU_00313\n",
      "Trimmed audio saved as ../data/download_df_audio/id08176_8_17120_jWJ9IPUXyKU_00313_cut.mp3\n",
      "Speaker: id08176, Video: c3R1J4l-POE, Txt file: 00248\n",
      "[youtube] Extracting URL: https://www.youtube.com/watch?v=c3R1J4l-POE\n",
      "[youtube] c3R1J4l-POE: Downloading webpage\n",
      "[youtube] c3R1J4l-POE: Downloading tv client config\n",
      "[youtube] c3R1J4l-POE: Downloading player 5ae7d525\n",
      "[youtube] c3R1J4l-POE: Downloading tv player API JSON\n",
      "[youtube] c3R1J4l-POE: Downloading ios player API JSON\n",
      "[youtube] c3R1J4l-POE: Downloading m3u8 information\n",
      "[info] c3R1J4l-POE: Downloading 1 format(s): 251\n",
      "[download] Destination: id08176_9_16960_c3R1J4l-POE_00248\n",
      "[download] 100% of    3.80MiB in 00:00:01 at 2.88MiB/s   \n",
      "[ExtractAudio] Destination: id08176_9_16960_c3R1J4l-POE_00248.mp3\n",
      "Deleting original file id08176_9_16960_c3R1J4l-POE_00248 (pass -k to keep)\n",
      "Audio downloaded as id08176_9_16960_c3R1J4l-POE_00248\n",
      "Trimmed audio saved as ../data/download_df_audio/id08176_9_16960_c3R1J4l-POE_00248_cut.mp3\n",
      "Speaker: id08187, Video: LIgPC2CICyw, Txt file: 00006\n",
      "[youtube] Extracting URL: https://www.youtube.com/watch?v=LIgPC2CICyw\n",
      "[youtube] LIgPC2CICyw: Downloading webpage\n",
      "[youtube] LIgPC2CICyw: Downloading tv client config\n",
      "[youtube] LIgPC2CICyw: Downloading player 5ae7d525\n",
      "[youtube] LIgPC2CICyw: Downloading tv player API JSON\n",
      "[youtube] LIgPC2CICyw: Downloading ios player API JSON\n",
      "[youtube] LIgPC2CICyw: Downloading m3u8 information\n",
      "[info] LIgPC2CICyw: Downloading 1 format(s): 140\n",
      "[download] Destination: id08187_2_29880_LIgPC2CICyw_00006\n",
      "[download] 100% of    3.48MiB in 00:00:00 at 4.13MiB/s   \n",
      "[FixupM4a] Correcting container of \"id08187_2_29880_LIgPC2CICyw_00006\"\n",
      "[ExtractAudio] Destination: id08187_2_29880_LIgPC2CICyw_00006.mp3\n",
      "Deleting original file id08187_2_29880_LIgPC2CICyw_00006 (pass -k to keep)\n",
      "Audio downloaded as id08187_2_29880_LIgPC2CICyw_00006\n",
      "Trimmed audio saved as ../data/download_df_audio/id08187_2_29880_LIgPC2CICyw_00006_cut.mp3\n",
      "Speaker: id08187, Video: wEMJ6k-b54c, Txt file: 00068\n",
      "[youtube] Extracting URL: https://www.youtube.com/watch?v=wEMJ6k-b54c\n",
      "[youtube] wEMJ6k-b54c: Downloading webpage\n",
      "[youtube] wEMJ6k-b54c: Downloading tv client config\n",
      "[youtube] wEMJ6k-b54c: Downloading player 5ae7d525\n",
      "[youtube] wEMJ6k-b54c: Downloading tv player API JSON\n",
      "[youtube] wEMJ6k-b54c: Downloading ios player API JSON\n",
      "[youtube] wEMJ6k-b54c: Downloading m3u8 information\n",
      "[info] wEMJ6k-b54c: Downloading 1 format(s): 140\n",
      "[download] Destination: id08187_3_12960_wEMJ6k-b54c_00068\n",
      "[download] 100% of    4.16MiB in 00:00:01 at 2.28MiB/s   \n",
      "[FixupM4a] Correcting container of \"id08187_3_12960_wEMJ6k-b54c_00068\"\n",
      "[ExtractAudio] Destination: id08187_3_12960_wEMJ6k-b54c_00068.mp3\n",
      "Deleting original file id08187_3_12960_wEMJ6k-b54c_00068 (pass -k to keep)\n",
      "Audio downloaded as id08187_3_12960_wEMJ6k-b54c_00068\n",
      "Trimmed audio saved as ../data/download_df_audio/id08187_3_12960_wEMJ6k-b54c_00068_cut.mp3\n",
      "Speaker: id08187, Video: LIgPC2CICyw, Txt file: 00010\n",
      "[youtube] Extracting URL: https://www.youtube.com/watch?v=LIgPC2CICyw\n",
      "[youtube] LIgPC2CICyw: Downloading webpage\n",
      "[youtube] LIgPC2CICyw: Downloading tv client config\n",
      "[youtube] LIgPC2CICyw: Downloading player 5ae7d525\n",
      "[youtube] LIgPC2CICyw: Downloading tv player API JSON\n",
      "[youtube] LIgPC2CICyw: Downloading ios player API JSON\n",
      "[youtube] LIgPC2CICyw: Downloading m3u8 information\n",
      "[info] LIgPC2CICyw: Downloading 1 format(s): 140\n",
      "[download] Destination: id08187_4_12800_LIgPC2CICyw_00010\n",
      "[download] 100% of    3.48MiB in 00:00:00 at 5.94MiB/s     \n",
      "[FixupM4a] Correcting container of \"id08187_4_12800_LIgPC2CICyw_00010\"\n",
      "[ExtractAudio] Destination: id08187_4_12800_LIgPC2CICyw_00010.mp3\n",
      "Deleting original file id08187_4_12800_LIgPC2CICyw_00010 (pass -k to keep)\n",
      "Audio downloaded as id08187_4_12800_LIgPC2CICyw_00010\n",
      "Trimmed audio saved as ../data/download_df_audio/id08187_4_12800_LIgPC2CICyw_00010_cut.mp3\n",
      "Speaker: id08187, Video: wEMJ6k-b54c, Txt file: 00062\n",
      "[youtube] Extracting URL: https://www.youtube.com/watch?v=wEMJ6k-b54c\n",
      "[youtube] wEMJ6k-b54c: Downloading webpage\n",
      "[youtube] wEMJ6k-b54c: Downloading tv client config\n",
      "[youtube] wEMJ6k-b54c: Downloading player 5ae7d525\n",
      "[youtube] wEMJ6k-b54c: Downloading tv player API JSON\n",
      "[youtube] wEMJ6k-b54c: Downloading ios player API JSON\n",
      "[youtube] wEMJ6k-b54c: Downloading m3u8 information\n",
      "[info] wEMJ6k-b54c: Downloading 1 format(s): 140\n",
      "[download] Destination: id08187_5_9960_wEMJ6k-b54c_00062\n",
      "[download] 100% of    4.16MiB in 00:00:00 at 13.07MiB/s  \n",
      "[FixupM4a] Correcting container of \"id08187_5_9960_wEMJ6k-b54c_00062\"\n",
      "[ExtractAudio] Destination: id08187_5_9960_wEMJ6k-b54c_00062.mp3\n",
      "Deleting original file id08187_5_9960_wEMJ6k-b54c_00062 (pass -k to keep)\n",
      "Audio downloaded as id08187_5_9960_wEMJ6k-b54c_00062\n",
      "Trimmed audio saved as ../data/download_df_audio/id08187_5_9960_wEMJ6k-b54c_00062_cut.mp3\n",
      "Speaker: id08187, Video: hFhE46GVXyg, Txt file: 00038\n"
     ]
    },
    {
     "name": "stderr",
     "output_type": "stream",
     "text": [
      "ERROR: [youtube] hFhE46GVXyg: Video unavailable. This video is no longer available because the YouTube account associated with this video has been terminated.\n"
     ]
    },
    {
     "name": "stdout",
     "output_type": "stream",
     "text": [
      "Speaker: id08187, Video: ULuCC9uLd8U, Txt file: 00030\n",
      "[youtube] Extracting URL: https://www.youtube.com/watch?v=ULuCC9uLd8U\n",
      "[youtube] ULuCC9uLd8U: Downloading webpage\n",
      "[youtube] ULuCC9uLd8U: Downloading tv client config\n",
      "[youtube] ULuCC9uLd8U: Downloading player 5ae7d525\n",
      "[youtube] ULuCC9uLd8U: Downloading tv player API JSON\n",
      "[youtube] ULuCC9uLd8U: Downloading ios player API JSON\n",
      "[youtube] ULuCC9uLd8U: Downloading m3u8 information\n",
      "[info] ULuCC9uLd8U: Downloading 1 format(s): 251\n",
      "[download] Destination: id08187_6_8920_ULuCC9uLd8U_00030\n",
      "[download] 100% of    3.41MiB in 00:00:02 at 1.68MiB/s   \n",
      "[ExtractAudio] Destination: id08187_6_8920_ULuCC9uLd8U_00030.mp3\n",
      "Deleting original file id08187_6_8920_ULuCC9uLd8U_00030 (pass -k to keep)\n",
      "Audio downloaded as id08187_6_8920_ULuCC9uLd8U_00030\n",
      "Trimmed audio saved as ../data/download_df_audio/id08187_6_8920_ULuCC9uLd8U_00030_cut.mp3\n",
      "Speaker: id08187, Video: NDOF5Kad74E, Txt file: 00019\n",
      "[youtube] Extracting URL: https://www.youtube.com/watch?v=NDOF5Kad74E\n",
      "[youtube] NDOF5Kad74E: Downloading webpage\n",
      "[youtube] NDOF5Kad74E: Downloading tv client config\n",
      "[youtube] NDOF5Kad74E: Downloading player 5ae7d525\n",
      "[youtube] NDOF5Kad74E: Downloading tv player API JSON\n",
      "[youtube] NDOF5Kad74E: Downloading ios player API JSON\n",
      "[youtube] NDOF5Kad74E: Downloading m3u8 information\n",
      "[info] NDOF5Kad74E: Downloading 1 format(s): 140\n",
      "[download] Destination: id08187_7_8720_NDOF5Kad74E_00019\n",
      "[download] 100% of    5.33MiB in 00:00:01 at 3.59MiB/s   \n",
      "[FixupM4a] Correcting container of \"id08187_7_8720_NDOF5Kad74E_00019\"\n",
      "[ExtractAudio] Destination: id08187_7_8720_NDOF5Kad74E_00019.mp3\n",
      "Deleting original file id08187_7_8720_NDOF5Kad74E_00019 (pass -k to keep)\n",
      "Audio downloaded as id08187_7_8720_NDOF5Kad74E_00019\n",
      "Trimmed audio saved as ../data/download_df_audio/id08187_7_8720_NDOF5Kad74E_00019_cut.mp3\n",
      "Speaker: id08187, Video: Ah6QSG4tg_U, Txt file: 00003\n",
      "[youtube] Extracting URL: https://www.youtube.com/watch?v=Ah6QSG4tg_U\n",
      "[youtube] Ah6QSG4tg_U: Downloading webpage\n",
      "[youtube] Ah6QSG4tg_U: Downloading tv client config\n",
      "[youtube] Ah6QSG4tg_U: Downloading player 5ae7d525\n",
      "[youtube] Ah6QSG4tg_U: Downloading tv player API JSON\n",
      "[youtube] Ah6QSG4tg_U: Downloading ios player API JSON\n",
      "[youtube] Ah6QSG4tg_U: Downloading m3u8 information\n",
      "[info] Ah6QSG4tg_U: Downloading 1 format(s): 140\n",
      "[download] Destination: id08187_8_8360_Ah6QSG4tg_U_00003\n",
      "[download] 100% of    2.11MiB in 00:00:01 at 1.86MiB/s   \n",
      "[FixupM4a] Correcting container of \"id08187_8_8360_Ah6QSG4tg_U_00003\"\n",
      "[ExtractAudio] Destination: id08187_8_8360_Ah6QSG4tg_U_00003.mp3\n",
      "Deleting original file id08187_8_8360_Ah6QSG4tg_U_00003 (pass -k to keep)\n",
      "Audio downloaded as id08187_8_8360_Ah6QSG4tg_U_00003\n",
      "Trimmed audio saved as ../data/download_df_audio/id08187_8_8360_Ah6QSG4tg_U_00003_cut.mp3\n",
      "Speaker: id08187, Video: vP0Jc67Q4ek, Txt file: 00058\n",
      "[youtube] Extracting URL: https://www.youtube.com/watch?v=vP0Jc67Q4ek\n",
      "[youtube] vP0Jc67Q4ek: Downloading webpage\n",
      "[youtube] vP0Jc67Q4ek: Downloading tv client config\n",
      "[youtube] vP0Jc67Q4ek: Downloading player 5ae7d525\n",
      "[youtube] vP0Jc67Q4ek: Downloading tv player API JSON\n",
      "[youtube] vP0Jc67Q4ek: Downloading ios player API JSON\n",
      "[youtube] vP0Jc67Q4ek: Downloading m3u8 information\n",
      "[info] vP0Jc67Q4ek: Downloading 1 format(s): 140\n",
      "[download] Destination: id08187_9_7880_vP0Jc67Q4ek_00058\n",
      "[download] 100% of  807.82KiB in 00:00:00 at 1.35MiB/s   \n",
      "[FixupM4a] Correcting container of \"id08187_9_7880_vP0Jc67Q4ek_00058\"\n",
      "[ExtractAudio] Destination: id08187_9_7880_vP0Jc67Q4ek_00058.mp3\n",
      "Deleting original file id08187_9_7880_vP0Jc67Q4ek_00058 (pass -k to keep)\n",
      "Audio downloaded as id08187_9_7880_vP0Jc67Q4ek_00058\n",
      "Trimmed audio saved as ../data/download_df_audio/id08187_9_7880_vP0Jc67Q4ek_00058_cut.mp3\n",
      "Speaker: id08217, Video: LeDi1MUutdk, Txt file: 00069\n"
     ]
    },
    {
     "name": "stderr",
     "output_type": "stream",
     "text": [
      "ERROR: [youtube] LeDi1MUutdk: Video unavailable\n"
     ]
    },
    {
     "name": "stdout",
     "output_type": "stream",
     "text": [
      "Speaker: id08217, Video: dt4-CR9zc00, Txt file: 00197\n",
      "[youtube] Extracting URL: https://www.youtube.com/watch?v=dt4-CR9zc00\n",
      "[youtube] dt4-CR9zc00: Downloading webpage\n",
      "[youtube] dt4-CR9zc00: Downloading tv client config\n",
      "[youtube] dt4-CR9zc00: Downloading player 5ae7d525\n",
      "[youtube] dt4-CR9zc00: Downloading tv player API JSON\n",
      "[youtube] dt4-CR9zc00: Downloading ios player API JSON\n",
      "[youtube] dt4-CR9zc00: Downloading m3u8 information\n",
      "[info] dt4-CR9zc00: Downloading 1 format(s): 140\n",
      "[download] Destination: id08217_2_18240_dt4-CR9zc00_00197\n",
      "[download] 100% of    7.31MiB in 00:00:00 at 10.32MiB/s  \n",
      "[FixupM4a] Correcting container of \"id08217_2_18240_dt4-CR9zc00_00197\"\n",
      "[ExtractAudio] Destination: id08217_2_18240_dt4-CR9zc00_00197.mp3\n",
      "Deleting original file id08217_2_18240_dt4-CR9zc00_00197 (pass -k to keep)\n",
      "Audio downloaded as id08217_2_18240_dt4-CR9zc00_00197\n",
      "Trimmed audio saved as ../data/download_df_audio/id08217_2_18240_dt4-CR9zc00_00197_cut.mp3\n",
      "Speaker: id08217, Video: UIa-V0yDuGo, Txt file: 00143\n",
      "[youtube] Extracting URL: https://www.youtube.com/watch?v=UIa-V0yDuGo\n",
      "[youtube] UIa-V0yDuGo: Downloading webpage\n",
      "[youtube] UIa-V0yDuGo: Downloading tv client config\n",
      "[youtube] UIa-V0yDuGo: Downloading player 5ae7d525\n",
      "[youtube] UIa-V0yDuGo: Downloading tv player API JSON\n",
      "[youtube] UIa-V0yDuGo: Downloading ios player API JSON\n",
      "[youtube] UIa-V0yDuGo: Downloading m3u8 information\n",
      "[info] UIa-V0yDuGo: Downloading 1 format(s): 140\n",
      "[download] Destination: id08217_3_13240_UIa-V0yDuGo_00143\n",
      "[download] 100% of   10.51MiB in 00:00:01 at 8.78MiB/s     \n",
      "[FixupM4a] Correcting container of \"id08217_3_13240_UIa-V0yDuGo_00143\"\n",
      "[ExtractAudio] Destination: id08217_3_13240_UIa-V0yDuGo_00143.mp3\n",
      "Deleting original file id08217_3_13240_UIa-V0yDuGo_00143 (pass -k to keep)\n",
      "Audio downloaded as id08217_3_13240_UIa-V0yDuGo_00143\n",
      "Trimmed audio saved as ../data/download_df_audio/id08217_3_13240_UIa-V0yDuGo_00143_cut.mp3\n",
      "Speaker: id08217, Video: pBPaSv_B9ac, Txt file: 00211\n",
      "[youtube] Extracting URL: https://www.youtube.com/watch?v=pBPaSv_B9ac\n",
      "[youtube] pBPaSv_B9ac: Downloading webpage\n",
      "[youtube] pBPaSv_B9ac: Downloading tv client config\n",
      "[youtube] pBPaSv_B9ac: Downloading player 5ae7d525\n",
      "[youtube] pBPaSv_B9ac: Downloading tv player API JSON\n",
      "[youtube] pBPaSv_B9ac: Downloading ios player API JSON\n",
      "[youtube] pBPaSv_B9ac: Downloading m3u8 information\n",
      "[info] pBPaSv_B9ac: Downloading 1 format(s): 251\n",
      "[download] Destination: id08217_4_12840_pBPaSv_B9ac_00211\n",
      "[download] 100% of    1.82MiB in 00:00:00 at 3.10MiB/s   \n",
      "[ExtractAudio] Destination: id08217_4_12840_pBPaSv_B9ac_00211.mp3\n",
      "Deleting original file id08217_4_12840_pBPaSv_B9ac_00211 (pass -k to keep)\n",
      "Audio downloaded as id08217_4_12840_pBPaSv_B9ac_00211\n",
      "Trimmed audio saved as ../data/download_df_audio/id08217_4_12840_pBPaSv_B9ac_00211_cut.mp3\n",
      "Speaker: id08217, Video: BOakOqJdauQ, Txt file: 00018\n",
      "[youtube] Extracting URL: https://www.youtube.com/watch?v=BOakOqJdauQ\n",
      "[youtube] BOakOqJdauQ: Downloading webpage\n",
      "[youtube] BOakOqJdauQ: Downloading tv client config\n",
      "[youtube] BOakOqJdauQ: Downloading player 5ae7d525\n",
      "[youtube] BOakOqJdauQ: Downloading tv player API JSON\n",
      "[youtube] BOakOqJdauQ: Downloading ios player API JSON\n",
      "[youtube] BOakOqJdauQ: Downloading m3u8 information\n",
      "[info] BOakOqJdauQ: Downloading 1 format(s): 251\n",
      "[download] Destination: id08217_5_12560_BOakOqJdauQ_00018\n",
      "[download] 100% of  895.19KiB in 00:00:00 at 2.29MiB/s   \n",
      "[ExtractAudio] Destination: id08217_5_12560_BOakOqJdauQ_00018.mp3\n",
      "Deleting original file id08217_5_12560_BOakOqJdauQ_00018 (pass -k to keep)\n",
      "Audio downloaded as id08217_5_12560_BOakOqJdauQ_00018\n",
      "Trimmed audio saved as ../data/download_df_audio/id08217_5_12560_BOakOqJdauQ_00018_cut.mp3\n",
      "Speaker: id08217, Video: YcwcxLfQLEM, Txt file: 00189\n",
      "[youtube] Extracting URL: https://www.youtube.com/watch?v=YcwcxLfQLEM\n",
      "[youtube] YcwcxLfQLEM: Downloading webpage\n",
      "[youtube] YcwcxLfQLEM: Downloading tv client config\n",
      "[youtube] YcwcxLfQLEM: Downloading player 5ae7d525\n",
      "[youtube] YcwcxLfQLEM: Downloading tv player API JSON\n",
      "[youtube] YcwcxLfQLEM: Downloading ios player API JSON\n",
      "[youtube] YcwcxLfQLEM: Downloading m3u8 information\n",
      "[info] YcwcxLfQLEM: Downloading 1 format(s): 140\n",
      "[download] Destination: id08217_6_12520_YcwcxLfQLEM_00189\n",
      "[download] 100% of    1.28MiB in 00:00:00 at 4.30MiB/s   \n",
      "[FixupM4a] Correcting container of \"id08217_6_12520_YcwcxLfQLEM_00189\"\n",
      "[ExtractAudio] Destination: id08217_6_12520_YcwcxLfQLEM_00189.mp3\n",
      "Deleting original file id08217_6_12520_YcwcxLfQLEM_00189 (pass -k to keep)\n",
      "Audio downloaded as id08217_6_12520_YcwcxLfQLEM_00189\n",
      "Trimmed audio saved as ../data/download_df_audio/id08217_6_12520_YcwcxLfQLEM_00189_cut.mp3\n",
      "Speaker: id08217, Video: LeDi1MUutdk, Txt file: 00068\n"
     ]
    },
    {
     "name": "stderr",
     "output_type": "stream",
     "text": [
      "ERROR: [youtube] LeDi1MUutdk: Video unavailable\n"
     ]
    },
    {
     "name": "stdout",
     "output_type": "stream",
     "text": [
      "Speaker: id08217, Video: UIa-V0yDuGo, Txt file: 00128\n",
      "[youtube] Extracting URL: https://www.youtube.com/watch?v=UIa-V0yDuGo\n",
      "[youtube] UIa-V0yDuGo: Downloading webpage\n",
      "[youtube] UIa-V0yDuGo: Downloading tv client config\n",
      "[youtube] UIa-V0yDuGo: Downloading player 5ae7d525\n",
      "[youtube] UIa-V0yDuGo: Downloading tv player API JSON\n",
      "[youtube] UIa-V0yDuGo: Downloading ios player API JSON\n",
      "[youtube] UIa-V0yDuGo: Downloading m3u8 information\n",
      "[info] UIa-V0yDuGo: Downloading 1 format(s): 140\n",
      "[download] Destination: id08217_7_11960_UIa-V0yDuGo_00128\n",
      "[download] 100% of   10.51MiB in 00:00:02 at 4.47MiB/s     \n",
      "[FixupM4a] Correcting container of \"id08217_7_11960_UIa-V0yDuGo_00128\"\n",
      "[ExtractAudio] Destination: id08217_7_11960_UIa-V0yDuGo_00128.mp3\n",
      "Deleting original file id08217_7_11960_UIa-V0yDuGo_00128 (pass -k to keep)\n",
      "Audio downloaded as id08217_7_11960_UIa-V0yDuGo_00128\n",
      "Trimmed audio saved as ../data/download_df_audio/id08217_7_11960_UIa-V0yDuGo_00128_cut.mp3\n",
      "Speaker: id08217, Video: u5dknKgjpSQ, Txt file: 00220\n",
      "[youtube] Extracting URL: https://www.youtube.com/watch?v=u5dknKgjpSQ\n",
      "[youtube] u5dknKgjpSQ: Downloading webpage\n",
      "[youtube] u5dknKgjpSQ: Downloading tv client config\n",
      "[youtube] u5dknKgjpSQ: Downloading player 5ae7d525\n",
      "[youtube] u5dknKgjpSQ: Downloading tv player API JSON\n",
      "[youtube] u5dknKgjpSQ: Downloading ios player API JSON\n",
      "[youtube] u5dknKgjpSQ: Downloading m3u8 information\n",
      "[info] u5dknKgjpSQ: Downloading 1 format(s): 140\n",
      "[download] Destination: id08217_8_10920_u5dknKgjpSQ_00220\n",
      "[download] 100% of    5.24MiB in 00:00:01 at 3.79MiB/s   \n",
      "[FixupM4a] Correcting container of \"id08217_8_10920_u5dknKgjpSQ_00220\"\n",
      "[ExtractAudio] Destination: id08217_8_10920_u5dknKgjpSQ_00220.mp3\n",
      "Deleting original file id08217_8_10920_u5dknKgjpSQ_00220 (pass -k to keep)\n",
      "Audio downloaded as id08217_8_10920_u5dknKgjpSQ_00220\n",
      "Trimmed audio saved as ../data/download_df_audio/id08217_8_10920_u5dknKgjpSQ_00220_cut.mp3\n",
      "Speaker: id08217, Video: QikJq0Lw7o4, Txt file: 00109\n",
      "[youtube] Extracting URL: https://www.youtube.com/watch?v=QikJq0Lw7o4\n",
      "[youtube] QikJq0Lw7o4: Downloading webpage\n",
      "[youtube] QikJq0Lw7o4: Downloading tv client config\n",
      "[youtube] QikJq0Lw7o4: Downloading player 5ae7d525\n",
      "[youtube] QikJq0Lw7o4: Downloading tv player API JSON\n",
      "[youtube] QikJq0Lw7o4: Downloading ios player API JSON\n",
      "[youtube] QikJq0Lw7o4: Downloading m3u8 information\n",
      "[info] QikJq0Lw7o4: Downloading 1 format(s): 140\n",
      "[download] Destination: id08217_9_10720_QikJq0Lw7o4_00109\n",
      "[download] 100% of    8.92MiB in 00:00:01 at 5.63MiB/s   \n",
      "[FixupM4a] Correcting container of \"id08217_9_10720_QikJq0Lw7o4_00109\"\n",
      "[ExtractAudio] Destination: id08217_9_10720_QikJq0Lw7o4_00109.mp3\n",
      "Deleting original file id08217_9_10720_QikJq0Lw7o4_00109 (pass -k to keep)\n",
      "Audio downloaded as id08217_9_10720_QikJq0Lw7o4_00109\n",
      "Trimmed audio saved as ../data/download_df_audio/id08217_9_10720_QikJq0Lw7o4_00109_cut.mp3\n",
      "Speaker: id08246, Video: LjlEhBlxkW8, Txt file: 00041\n"
     ]
    },
    {
     "name": "stderr",
     "output_type": "stream",
     "text": [
      "ERROR: [youtube] LjlEhBlxkW8: Video unavailable. This video is no longer available because the YouTube account associated with this video has been terminated.\n"
     ]
    },
    {
     "name": "stdout",
     "output_type": "stream",
     "text": [
      "Speaker: id08246, Video: Lq32cUXfU7M, Txt file: 00048\n",
      "[youtube] Extracting URL: https://www.youtube.com/watch?v=Lq32cUXfU7M\n",
      "[youtube] Lq32cUXfU7M: Downloading webpage\n",
      "[youtube] Lq32cUXfU7M: Downloading tv client config\n",
      "[youtube] Lq32cUXfU7M: Downloading player 5ae7d525\n",
      "[youtube] Lq32cUXfU7M: Downloading tv player API JSON\n",
      "[youtube] Lq32cUXfU7M: Downloading ios player API JSON\n",
      "[youtube] Lq32cUXfU7M: Downloading m3u8 information\n",
      "[info] Lq32cUXfU7M: Downloading 1 format(s): 140\n",
      "[download] Destination: id08246_2_40760_Lq32cUXfU7M_00048\n",
      "[download] 100% of    5.05MiB in 00:00:01 at 2.67MiB/s   \n",
      "[FixupM4a] Correcting container of \"id08246_2_40760_Lq32cUXfU7M_00048\"\n",
      "[ExtractAudio] Destination: id08246_2_40760_Lq32cUXfU7M_00048.mp3\n",
      "Deleting original file id08246_2_40760_Lq32cUXfU7M_00048 (pass -k to keep)\n",
      "Audio downloaded as id08246_2_40760_Lq32cUXfU7M_00048\n",
      "Trimmed audio saved as ../data/download_df_audio/id08246_2_40760_Lq32cUXfU7M_00048_cut.mp3\n",
      "Speaker: id08246, Video: x_0YgPz4Dwg, Txt file: 00209\n"
     ]
    },
    {
     "name": "stderr",
     "output_type": "stream",
     "text": [
      "ERROR: [youtube] x_0YgPz4Dwg: Video unavailable. This video is no longer available because the YouTube account associated with this video has been terminated.\n"
     ]
    },
    {
     "name": "stdout",
     "output_type": "stream",
     "text": [
      "Speaker: id08246, Video: EEwoWOsRSaw, Txt file: 00023\n",
      "[youtube] Extracting URL: https://www.youtube.com/watch?v=EEwoWOsRSaw\n",
      "[youtube] EEwoWOsRSaw: Downloading webpage\n",
      "[youtube] EEwoWOsRSaw: Downloading tv client config\n",
      "[youtube] EEwoWOsRSaw: Downloading player 5ae7d525\n",
      "[youtube] EEwoWOsRSaw: Downloading tv player API JSON\n",
      "[youtube] EEwoWOsRSaw: Downloading ios player API JSON\n",
      "[youtube] EEwoWOsRSaw: Downloading m3u8 information\n",
      "[info] EEwoWOsRSaw: Downloading 1 format(s): 140\n",
      "[download] Destination: id08246_3_29680_EEwoWOsRSaw_00023\n",
      "[download] 100% of    5.13MiB in 00:00:01 at 3.08MiB/s   \n",
      "[FixupM4a] Correcting container of \"id08246_3_29680_EEwoWOsRSaw_00023\"\n",
      "[ExtractAudio] Destination: id08246_3_29680_EEwoWOsRSaw_00023.mp3\n",
      "Deleting original file id08246_3_29680_EEwoWOsRSaw_00023 (pass -k to keep)\n",
      "Audio downloaded as id08246_3_29680_EEwoWOsRSaw_00023\n",
      "Trimmed audio saved as ../data/download_df_audio/id08246_3_29680_EEwoWOsRSaw_00023_cut.mp3\n",
      "Speaker: id08246, Video: hPf_UfmIOYQ, Txt file: 00150\n"
     ]
    },
    {
     "name": "stderr",
     "output_type": "stream",
     "text": [
      "ERROR: [youtube] hPf_UfmIOYQ: Video unavailable. This video is no longer available because the YouTube account associated with this video has been terminated.\n"
     ]
    },
    {
     "name": "stdout",
     "output_type": "stream",
     "text": [
      "Speaker: id08246, Video: zNEy5syTwR8, Txt file: 00225\n",
      "[youtube] Extracting URL: https://www.youtube.com/watch?v=zNEy5syTwR8\n",
      "[youtube] zNEy5syTwR8: Downloading webpage\n",
      "[youtube] zNEy5syTwR8: Downloading tv client config\n",
      "[youtube] zNEy5syTwR8: Downloading player 5ae7d525\n",
      "[youtube] zNEy5syTwR8: Downloading tv player API JSON\n",
      "[youtube] zNEy5syTwR8: Downloading ios player API JSON\n",
      "[youtube] zNEy5syTwR8: Downloading m3u8 information\n",
      "[info] zNEy5syTwR8: Downloading 1 format(s): 140\n",
      "[download] Destination: id08246_4_27520_zNEy5syTwR8_00225\n",
      "[download] 100% of    7.45MiB in 00:00:02 at 3.20MiB/s   \n",
      "[FixupM4a] Correcting container of \"id08246_4_27520_zNEy5syTwR8_00225\"\n",
      "[ExtractAudio] Destination: id08246_4_27520_zNEy5syTwR8_00225.mp3\n",
      "Deleting original file id08246_4_27520_zNEy5syTwR8_00225 (pass -k to keep)\n",
      "Audio downloaded as id08246_4_27520_zNEy5syTwR8_00225\n",
      "Trimmed audio saved as ../data/download_df_audio/id08246_4_27520_zNEy5syTwR8_00225_cut.mp3\n",
      "Speaker: id08246, Video: XUS1BUoYi1s, Txt file: 00104\n"
     ]
    },
    {
     "name": "stderr",
     "output_type": "stream",
     "text": [
      "ERROR: [youtube] XUS1BUoYi1s: Video unavailable. This video is no longer available because the YouTube account associated with this video has been terminated.\n"
     ]
    },
    {
     "name": "stdout",
     "output_type": "stream",
     "text": [
      "Speaker: id08246, Video: Lq32cUXfU7M, Txt file: 00051\n",
      "[youtube] Extracting URL: https://www.youtube.com/watch?v=Lq32cUXfU7M\n",
      "[youtube] Lq32cUXfU7M: Downloading webpage\n",
      "[youtube] Lq32cUXfU7M: Downloading tv client config\n",
      "[youtube] Lq32cUXfU7M: Downloading player 5ae7d525\n",
      "[youtube] Lq32cUXfU7M: Downloading tv player API JSON\n",
      "[youtube] Lq32cUXfU7M: Downloading ios player API JSON\n",
      "[youtube] Lq32cUXfU7M: Downloading m3u8 information\n",
      "[info] Lq32cUXfU7M: Downloading 1 format(s): 140\n",
      "[download] Destination: id08246_5_25640_Lq32cUXfU7M_00051\n",
      "[download] 100% of    5.05MiB in 00:00:01 at 4.15MiB/s   \n",
      "[FixupM4a] Correcting container of \"id08246_5_25640_Lq32cUXfU7M_00051\"\n",
      "[ExtractAudio] Destination: id08246_5_25640_Lq32cUXfU7M_00051.mp3\n",
      "Deleting original file id08246_5_25640_Lq32cUXfU7M_00051 (pass -k to keep)\n",
      "Audio downloaded as id08246_5_25640_Lq32cUXfU7M_00051\n",
      "Trimmed audio saved as ../data/download_df_audio/id08246_5_25640_Lq32cUXfU7M_00051_cut.mp3\n",
      "Speaker: id08246, Video: UTExtGBvkgA, Txt file: 00086\n"
     ]
    },
    {
     "name": "stderr",
     "output_type": "stream",
     "text": [
      "ERROR: [youtube] UTExtGBvkgA: Video unavailable. This video is no longer available because the YouTube account associated with this video has been terminated.\n"
     ]
    },
    {
     "name": "stdout",
     "output_type": "stream",
     "text": [
      "Speaker: id08246, Video: UTExtGBvkgA, Txt file: 00089\n"
     ]
    },
    {
     "name": "stderr",
     "output_type": "stream",
     "text": [
      "ERROR: [youtube] UTExtGBvkgA: Video unavailable. This video is no longer available because the YouTube account associated with this video has been terminated.\n"
     ]
    },
    {
     "name": "stdout",
     "output_type": "stream",
     "text": [
      "Speaker: id08246, Video: Tjqjt9hIey0, Txt file: 00077\n",
      "[youtube] Extracting URL: https://www.youtube.com/watch?v=Tjqjt9hIey0\n",
      "[youtube] Tjqjt9hIey0: Downloading webpage\n",
      "[youtube] Tjqjt9hIey0: Downloading tv client config\n",
      "[youtube] Tjqjt9hIey0: Downloading player 5ae7d525\n",
      "[youtube] Tjqjt9hIey0: Downloading tv player API JSON\n",
      "[youtube] Tjqjt9hIey0: Downloading ios player API JSON\n",
      "[youtube] Tjqjt9hIey0: Downloading m3u8 information\n",
      "[info] Tjqjt9hIey0: Downloading 1 format(s): 251\n",
      "[download] Destination: id08246_6_19680_Tjqjt9hIey0_00077\n",
      "[download] 100% of    7.30MiB in 00:00:00 at 9.34MiB/s   \n",
      "[ExtractAudio] Destination: id08246_6_19680_Tjqjt9hIey0_00077.mp3\n",
      "Deleting original file id08246_6_19680_Tjqjt9hIey0_00077 (pass -k to keep)\n",
      "Audio downloaded as id08246_6_19680_Tjqjt9hIey0_00077\n",
      "Trimmed audio saved as ../data/download_df_audio/id08246_6_19680_Tjqjt9hIey0_00077_cut.mp3\n",
      "Speaker: id08246, Video: XUS1BUoYi1s, Txt file: 00111\n"
     ]
    },
    {
     "name": "stderr",
     "output_type": "stream",
     "text": [
      "ERROR: [youtube] XUS1BUoYi1s: Video unavailable. This video is no longer available because the YouTube account associated with this video has been terminated.\n"
     ]
    },
    {
     "name": "stdout",
     "output_type": "stream",
     "text": [
      "Speaker: id08246, Video: zNEy5syTwR8, Txt file: 00242\n",
      "[youtube] Extracting URL: https://www.youtube.com/watch?v=zNEy5syTwR8\n",
      "[youtube] zNEy5syTwR8: Downloading webpage\n",
      "[youtube] zNEy5syTwR8: Downloading tv client config\n",
      "[youtube] zNEy5syTwR8: Downloading player 5ae7d525\n",
      "[youtube] zNEy5syTwR8: Downloading tv player API JSON\n",
      "[youtube] zNEy5syTwR8: Downloading ios player API JSON\n",
      "[youtube] zNEy5syTwR8: Downloading m3u8 information\n",
      "[info] zNEy5syTwR8: Downloading 1 format(s): 140\n",
      "[download] Destination: id08246_7_19440_zNEy5syTwR8_00242\n",
      "[download] 100% of    7.45MiB in 00:00:01 at 5.34MiB/s   \n",
      "[FixupM4a] Correcting container of \"id08246_7_19440_zNEy5syTwR8_00242\"\n",
      "[ExtractAudio] Destination: id08246_7_19440_zNEy5syTwR8_00242.mp3\n",
      "Deleting original file id08246_7_19440_zNEy5syTwR8_00242 (pass -k to keep)\n",
      "Audio downloaded as id08246_7_19440_zNEy5syTwR8_00242\n",
      "Trimmed audio saved as ../data/download_df_audio/id08246_7_19440_zNEy5syTwR8_00242_cut.mp3\n",
      "Speaker: id08246, Video: Tjqjt9hIey0, Txt file: 00082\n",
      "[youtube] Extracting URL: https://www.youtube.com/watch?v=Tjqjt9hIey0\n",
      "[youtube] Tjqjt9hIey0: Downloading webpage\n",
      "[youtube] Tjqjt9hIey0: Downloading tv client config\n",
      "[youtube] Tjqjt9hIey0: Downloading player 5ae7d525\n",
      "[youtube] Tjqjt9hIey0: Downloading tv player API JSON\n",
      "[youtube] Tjqjt9hIey0: Downloading ios player API JSON\n",
      "[youtube] Tjqjt9hIey0: Downloading m3u8 information\n",
      "[info] Tjqjt9hIey0: Downloading 1 format(s): 251\n",
      "[download] Destination: id08246_8_18720_Tjqjt9hIey0_00082\n",
      "[download] 100% of    7.30MiB in 00:00:00 at 10.38MiB/s  \n",
      "[ExtractAudio] Destination: id08246_8_18720_Tjqjt9hIey0_00082.mp3\n",
      "Deleting original file id08246_8_18720_Tjqjt9hIey0_00082 (pass -k to keep)\n",
      "Audio downloaded as id08246_8_18720_Tjqjt9hIey0_00082\n",
      "Trimmed audio saved as ../data/download_df_audio/id08246_8_18720_Tjqjt9hIey0_00082_cut.mp3\n",
      "Speaker: id08246, Video: mlDXZywedvc, Txt file: 00174\n",
      "[youtube] Extracting URL: https://www.youtube.com/watch?v=mlDXZywedvc\n",
      "[youtube] mlDXZywedvc: Downloading webpage\n",
      "[youtube] mlDXZywedvc: Downloading tv client config\n",
      "[youtube] mlDXZywedvc: Downloading player 5ae7d525\n",
      "[youtube] mlDXZywedvc: Downloading tv player API JSON\n",
      "[youtube] mlDXZywedvc: Downloading ios player API JSON\n",
      "[youtube] mlDXZywedvc: Downloading m3u8 information\n",
      "[info] mlDXZywedvc: Downloading 1 format(s): 251\n",
      "[download] Destination: id08246_9_18640_mlDXZywedvc_00174\n",
      "[download] 100% of    2.73MiB in 00:00:00 at 4.99MiB/s   \n",
      "[ExtractAudio] Destination: id08246_9_18640_mlDXZywedvc_00174.mp3\n",
      "Deleting original file id08246_9_18640_mlDXZywedvc_00174 (pass -k to keep)\n",
      "Audio downloaded as id08246_9_18640_mlDXZywedvc_00174\n",
      "Trimmed audio saved as ../data/download_df_audio/id08246_9_18640_mlDXZywedvc_00174_cut.mp3\n",
      "Speaker: id08251, Video: 0q8Ih_RE9w8, Txt file: 00010\n",
      "[youtube] Extracting URL: https://www.youtube.com/watch?v=0q8Ih_RE9w8\n",
      "[youtube] 0q8Ih_RE9w8: Downloading webpage\n",
      "[youtube] 0q8Ih_RE9w8: Downloading tv client config\n",
      "[youtube] 0q8Ih_RE9w8: Downloading player 5ae7d525\n",
      "[youtube] 0q8Ih_RE9w8: Downloading tv player API JSON\n",
      "[youtube] 0q8Ih_RE9w8: Downloading ios player API JSON\n",
      "[youtube] 0q8Ih_RE9w8: Downloading m3u8 information\n",
      "[info] 0q8Ih_RE9w8: Downloading 1 format(s): 251\n",
      "[download] Destination: id08251_2_15520_0q8Ih_RE9w8_00010\n",
      "[download] 100% of    8.19MiB in 00:00:01 at 4.36MiB/s   \n",
      "[ExtractAudio] Destination: id08251_2_15520_0q8Ih_RE9w8_00010.mp3\n",
      "Deleting original file id08251_2_15520_0q8Ih_RE9w8_00010 (pass -k to keep)\n",
      "Audio downloaded as id08251_2_15520_0q8Ih_RE9w8_00010\n",
      "Trimmed audio saved as ../data/download_df_audio/id08251_2_15520_0q8Ih_RE9w8_00010_cut.mp3\n",
      "Speaker: id08251, Video: Q8w-wYiZ2rM, Txt file: 00031\n",
      "[youtube] Extracting URL: https://www.youtube.com/watch?v=Q8w-wYiZ2rM\n",
      "[youtube] Q8w-wYiZ2rM: Downloading webpage\n",
      "[youtube] Q8w-wYiZ2rM: Downloading tv client config\n",
      "[youtube] Q8w-wYiZ2rM: Downloading player 5ae7d525\n",
      "[youtube] Q8w-wYiZ2rM: Downloading tv player API JSON\n",
      "[youtube] Q8w-wYiZ2rM: Downloading ios player API JSON\n",
      "[youtube] Q8w-wYiZ2rM: Downloading m3u8 information\n",
      "[info] Q8w-wYiZ2rM: Downloading 1 format(s): 140\n",
      "[download] Destination: id08251_3_13400_Q8w-wYiZ2rM_00031\n",
      "[download] 100% of    8.16MiB in 00:00:01 at 7.87MiB/s   \n",
      "[FixupM4a] Correcting container of \"id08251_3_13400_Q8w-wYiZ2rM_00031\"\n",
      "[ExtractAudio] Destination: id08251_3_13400_Q8w-wYiZ2rM_00031.mp3\n",
      "Deleting original file id08251_3_13400_Q8w-wYiZ2rM_00031 (pass -k to keep)\n",
      "Audio downloaded as id08251_3_13400_Q8w-wYiZ2rM_00031\n",
      "Trimmed audio saved as ../data/download_df_audio/id08251_3_13400_Q8w-wYiZ2rM_00031_cut.mp3\n",
      "Speaker: id08251, Video: 0q8Ih_RE9w8, Txt file: 00011\n",
      "[youtube] Extracting URL: https://www.youtube.com/watch?v=0q8Ih_RE9w8\n",
      "[youtube] 0q8Ih_RE9w8: Downloading webpage\n",
      "[youtube] 0q8Ih_RE9w8: Downloading tv client config\n",
      "[youtube] 0q8Ih_RE9w8: Downloading player 5ae7d525\n",
      "[youtube] 0q8Ih_RE9w8: Downloading tv player API JSON\n",
      "[youtube] 0q8Ih_RE9w8: Downloading ios player API JSON\n",
      "[youtube] 0q8Ih_RE9w8: Downloading m3u8 information\n",
      "[info] 0q8Ih_RE9w8: Downloading 1 format(s): 251\n",
      "[download] Destination: id08251_4_10280_0q8Ih_RE9w8_00011\n",
      "[download] 100% of    8.19MiB in 00:00:00 at 13.06MiB/s  \n",
      "[ExtractAudio] Destination: id08251_4_10280_0q8Ih_RE9w8_00011.mp3\n",
      "Deleting original file id08251_4_10280_0q8Ih_RE9w8_00011 (pass -k to keep)\n",
      "Audio downloaded as id08251_4_10280_0q8Ih_RE9w8_00011\n",
      "Trimmed audio saved as ../data/download_df_audio/id08251_4_10280_0q8Ih_RE9w8_00011_cut.mp3\n",
      "Speaker: id08251, Video: Q8w-wYiZ2rM, Txt file: 00033\n",
      "[youtube] Extracting URL: https://www.youtube.com/watch?v=Q8w-wYiZ2rM\n",
      "[youtube] Q8w-wYiZ2rM: Downloading webpage\n",
      "[youtube] Q8w-wYiZ2rM: Downloading tv client config\n",
      "[youtube] Q8w-wYiZ2rM: Downloading player 5ae7d525\n",
      "[youtube] Q8w-wYiZ2rM: Downloading tv player API JSON\n",
      "[youtube] Q8w-wYiZ2rM: Downloading ios player API JSON\n",
      "[youtube] Q8w-wYiZ2rM: Downloading m3u8 information\n",
      "[info] Q8w-wYiZ2rM: Downloading 1 format(s): 140\n",
      "[download] Destination: id08251_5_9920_Q8w-wYiZ2rM_00033\n",
      "[download] 100% of    8.16MiB in 00:00:00 at 16.16MiB/s  \n",
      "[FixupM4a] Correcting container of \"id08251_5_9920_Q8w-wYiZ2rM_00033\"\n",
      "[ExtractAudio] Destination: id08251_5_9920_Q8w-wYiZ2rM_00033.mp3\n",
      "Deleting original file id08251_5_9920_Q8w-wYiZ2rM_00033 (pass -k to keep)\n",
      "Audio downloaded as id08251_5_9920_Q8w-wYiZ2rM_00033\n",
      "Trimmed audio saved as ../data/download_df_audio/id08251_5_9920_Q8w-wYiZ2rM_00033_cut.mp3\n",
      "Speaker: id08251, Video: 9YUt3Yh3r40, Txt file: 00019\n",
      "[youtube] Extracting URL: https://www.youtube.com/watch?v=9YUt3Yh3r40\n",
      "[youtube] 9YUt3Yh3r40: Downloading webpage\n",
      "[youtube] 9YUt3Yh3r40: Downloading tv client config\n",
      "[youtube] 9YUt3Yh3r40: Downloading player 5ae7d525\n",
      "[youtube] 9YUt3Yh3r40: Downloading tv player API JSON\n",
      "[youtube] 9YUt3Yh3r40: Downloading ios player API JSON\n",
      "[youtube] 9YUt3Yh3r40: Downloading m3u8 information\n",
      "[info] 9YUt3Yh3r40: Downloading 1 format(s): 251\n",
      "[download] Destination: id08251_6_9800_9YUt3Yh3r40_00019\n",
      "[download] 100% of    2.24MiB in 00:00:00 at 2.38MiB/s   \n",
      "[ExtractAudio] Destination: id08251_6_9800_9YUt3Yh3r40_00019.mp3\n",
      "Deleting original file id08251_6_9800_9YUt3Yh3r40_00019 (pass -k to keep)\n",
      "Audio downloaded as id08251_6_9800_9YUt3Yh3r40_00019\n",
      "Trimmed audio saved as ../data/download_df_audio/id08251_6_9800_9YUt3Yh3r40_00019_cut.mp3\n",
      "Speaker: id08251, Video: 0q8Ih_RE9w8, Txt file: 00017\n",
      "[youtube] Extracting URL: https://www.youtube.com/watch?v=0q8Ih_RE9w8\n",
      "[youtube] 0q8Ih_RE9w8: Downloading webpage\n",
      "[youtube] 0q8Ih_RE9w8: Downloading tv client config\n",
      "[youtube] 0q8Ih_RE9w8: Downloading player 5ae7d525\n",
      "[youtube] 0q8Ih_RE9w8: Downloading tv player API JSON\n",
      "[youtube] 0q8Ih_RE9w8: Downloading ios player API JSON\n",
      "[youtube] 0q8Ih_RE9w8: Downloading m3u8 information\n",
      "[info] 0q8Ih_RE9w8: Downloading 1 format(s): 251\n",
      "[download] Destination: id08251_7_9720_0q8Ih_RE9w8_00017\n",
      "[download] 100% of    8.19MiB in 00:00:00 at 14.51MiB/s    \n",
      "[ExtractAudio] Destination: id08251_7_9720_0q8Ih_RE9w8_00017.mp3\n",
      "Deleting original file id08251_7_9720_0q8Ih_RE9w8_00017 (pass -k to keep)\n",
      "Audio downloaded as id08251_7_9720_0q8Ih_RE9w8_00017\n",
      "Trimmed audio saved as ../data/download_df_audio/id08251_7_9720_0q8Ih_RE9w8_00017_cut.mp3\n",
      "Speaker: id08251, Video: I9EPYm6odbA, Txt file: 00026\n",
      "[youtube] Extracting URL: https://www.youtube.com/watch?v=I9EPYm6odbA\n",
      "[youtube] I9EPYm6odbA: Downloading webpage\n",
      "[youtube] I9EPYm6odbA: Downloading tv client config\n",
      "[youtube] I9EPYm6odbA: Downloading player 5ae7d525\n",
      "[youtube] I9EPYm6odbA: Downloading tv player API JSON\n",
      "[youtube] I9EPYm6odbA: Downloading ios player API JSON\n",
      "[youtube] I9EPYm6odbA: Downloading m3u8 information\n",
      "[info] I9EPYm6odbA: Downloading 1 format(s): 140\n",
      "[download] Destination: id08251_8_9600_I9EPYm6odbA_00026\n",
      "[download] 100% of    4.55MiB in 00:00:01 at 3.41MiB/s   \n",
      "[FixupM4a] Correcting container of \"id08251_8_9600_I9EPYm6odbA_00026\"\n",
      "[ExtractAudio] Destination: id08251_8_9600_I9EPYm6odbA_00026.mp3\n",
      "Deleting original file id08251_8_9600_I9EPYm6odbA_00026 (pass -k to keep)\n",
      "Audio downloaded as id08251_8_9600_I9EPYm6odbA_00026\n",
      "Trimmed audio saved as ../data/download_df_audio/id08251_8_9600_I9EPYm6odbA_00026_cut.mp3\n",
      "Speaker: id08251, Video: 0q8Ih_RE9w8, Txt file: 00013\n",
      "[youtube] Extracting URL: https://www.youtube.com/watch?v=0q8Ih_RE9w8\n",
      "[youtube] 0q8Ih_RE9w8: Downloading webpage\n",
      "[youtube] 0q8Ih_RE9w8: Downloading tv client config\n",
      "[youtube] 0q8Ih_RE9w8: Downloading player 5ae7d525\n",
      "[youtube] 0q8Ih_RE9w8: Downloading tv player API JSON\n",
      "[youtube] 0q8Ih_RE9w8: Downloading ios player API JSON\n",
      "[youtube] 0q8Ih_RE9w8: Downloading m3u8 information\n",
      "[info] 0q8Ih_RE9w8: Downloading 1 format(s): 251\n",
      "[download] Destination: id08251_9_7520_0q8Ih_RE9w8_00013\n",
      "[download] 100% of    8.19MiB in 00:00:00 at 16.05MiB/s  \n",
      "[ExtractAudio] Destination: id08251_9_7520_0q8Ih_RE9w8_00013.mp3\n",
      "Deleting original file id08251_9_7520_0q8Ih_RE9w8_00013 (pass -k to keep)\n",
      "Audio downloaded as id08251_9_7520_0q8Ih_RE9w8_00013\n",
      "Trimmed audio saved as ../data/download_df_audio/id08251_9_7520_0q8Ih_RE9w8_00013_cut.mp3\n",
      "Speaker: id08273, Video: WXPytZ7DoBA, Txt file: 00099\n"
     ]
    },
    {
     "name": "stderr",
     "output_type": "stream",
     "text": [
      "ERROR: [youtube] WXPytZ7DoBA: Private video. Sign in if you've been granted access to this video. Use --cookies-from-browser or --cookies for the authentication. See  https://github.com/yt-dlp/yt-dlp/wiki/FAQ#how-do-i-pass-cookies-to-yt-dlp  for how to manually pass cookies. Also see  https://github.com/yt-dlp/yt-dlp/wiki/Extractors#exporting-youtube-cookies  for tips on effectively exporting YouTube cookies\n"
     ]
    },
    {
     "name": "stdout",
     "output_type": "stream",
     "text": [
      "Speaker: id08273, Video: WXPytZ7DoBA, Txt file: 00101\n"
     ]
    },
    {
     "name": "stderr",
     "output_type": "stream",
     "text": [
      "ERROR: [youtube] WXPytZ7DoBA: Private video. Sign in if you've been granted access to this video. Use --cookies-from-browser or --cookies for the authentication. See  https://github.com/yt-dlp/yt-dlp/wiki/FAQ#how-do-i-pass-cookies-to-yt-dlp  for how to manually pass cookies. Also see  https://github.com/yt-dlp/yt-dlp/wiki/Extractors#exporting-youtube-cookies  for tips on effectively exporting YouTube cookies\n"
     ]
    },
    {
     "name": "stdout",
     "output_type": "stream",
     "text": [
      "Speaker: id08273, Video: WXPytZ7DoBA, Txt file: 00092\n"
     ]
    },
    {
     "name": "stderr",
     "output_type": "stream",
     "text": [
      "ERROR: [youtube] WXPytZ7DoBA: Private video. Sign in if you've been granted access to this video. Use --cookies-from-browser or --cookies for the authentication. See  https://github.com/yt-dlp/yt-dlp/wiki/FAQ#how-do-i-pass-cookies-to-yt-dlp  for how to manually pass cookies. Also see  https://github.com/yt-dlp/yt-dlp/wiki/Extractors#exporting-youtube-cookies  for tips on effectively exporting YouTube cookies\n"
     ]
    },
    {
     "name": "stdout",
     "output_type": "stream",
     "text": [
      "Speaker: id08273, Video: 3rC1EZAuO6g, Txt file: 00017\n",
      "[youtube] Extracting URL: https://www.youtube.com/watch?v=3rC1EZAuO6g\n",
      "[youtube] 3rC1EZAuO6g: Downloading webpage\n",
      "[youtube] 3rC1EZAuO6g: Downloading tv client config\n",
      "[youtube] 3rC1EZAuO6g: Downloading player 5ae7d525\n",
      "[youtube] 3rC1EZAuO6g: Downloading tv player API JSON\n",
      "[youtube] 3rC1EZAuO6g: Downloading ios player API JSON\n",
      "[youtube] 3rC1EZAuO6g: Downloading m3u8 information\n",
      "[info] 3rC1EZAuO6g: Downloading 1 format(s): 251\n",
      "[download] Destination: id08273_2_17760_3rC1EZAuO6g_00017\n",
      "[download] 100% of    3.40MiB in 00:00:01 at 2.09MiB/s   \n",
      "[ExtractAudio] Destination: id08273_2_17760_3rC1EZAuO6g_00017.mp3\n",
      "Deleting original file id08273_2_17760_3rC1EZAuO6g_00017 (pass -k to keep)\n",
      "Audio downloaded as id08273_2_17760_3rC1EZAuO6g_00017\n",
      "Trimmed audio saved as ../data/download_df_audio/id08273_2_17760_3rC1EZAuO6g_00017_cut.mp3\n",
      "Speaker: id08273, Video: teCVmsBI28k, Txt file: 00254\n"
     ]
    },
    {
     "name": "stderr",
     "output_type": "stream",
     "text": [
      "ERROR: [youtube] teCVmsBI28k: Private video. Sign in if you've been granted access to this video. Use --cookies-from-browser or --cookies for the authentication. See  https://github.com/yt-dlp/yt-dlp/wiki/FAQ#how-do-i-pass-cookies-to-yt-dlp  for how to manually pass cookies. Also see  https://github.com/yt-dlp/yt-dlp/wiki/Extractors#exporting-youtube-cookies  for tips on effectively exporting YouTube cookies\n"
     ]
    },
    {
     "name": "stdout",
     "output_type": "stream",
     "text": [
      "Speaker: id08273, Video: r8caL8A3Bv8, Txt file: 00241\n",
      "[youtube] Extracting URL: https://www.youtube.com/watch?v=r8caL8A3Bv8\n",
      "[youtube] r8caL8A3Bv8: Downloading webpage\n",
      "[youtube] r8caL8A3Bv8: Downloading tv client config\n",
      "[youtube] r8caL8A3Bv8: Downloading player 5ae7d525\n",
      "[youtube] r8caL8A3Bv8: Downloading tv player API JSON\n",
      "[youtube] r8caL8A3Bv8: Downloading ios player API JSON\n",
      "[youtube] r8caL8A3Bv8: Downloading m3u8 information\n",
      "[info] r8caL8A3Bv8: Downloading 1 format(s): 140\n",
      "[download] Destination: id08273_3_17480_r8caL8A3Bv8_00241\n",
      "[download] 100% of    6.74MiB in 00:00:02 at 3.37MiB/s   \n",
      "[FixupM4a] Correcting container of \"id08273_3_17480_r8caL8A3Bv8_00241\"\n",
      "[ExtractAudio] Destination: id08273_3_17480_r8caL8A3Bv8_00241.mp3\n",
      "Deleting original file id08273_3_17480_r8caL8A3Bv8_00241 (pass -k to keep)\n",
      "Audio downloaded as id08273_3_17480_r8caL8A3Bv8_00241\n",
      "Trimmed audio saved as ../data/download_df_audio/id08273_3_17480_r8caL8A3Bv8_00241_cut.mp3\n",
      "Speaker: id08273, Video: LPojZ57ELHw, Txt file: 00058\n",
      "[youtube] Extracting URL: https://www.youtube.com/watch?v=LPojZ57ELHw\n",
      "[youtube] LPojZ57ELHw: Downloading webpage\n",
      "[youtube] LPojZ57ELHw: Downloading tv client config\n",
      "[youtube] LPojZ57ELHw: Downloading player 5ae7d525\n",
      "[youtube] LPojZ57ELHw: Downloading tv player API JSON\n",
      "[youtube] LPojZ57ELHw: Downloading ios player API JSON\n",
      "[youtube] LPojZ57ELHw: Downloading m3u8 information\n",
      "[info] LPojZ57ELHw: Downloading 1 format(s): 140\n",
      "[download] Destination: id08273_4_17000_LPojZ57ELHw_00058\n",
      "[download] 100% of   13.73MiB in 00:00:02 at 6.83MiB/s     \n",
      "[FixupM4a] Correcting container of \"id08273_4_17000_LPojZ57ELHw_00058\"\n",
      "[ExtractAudio] Destination: id08273_4_17000_LPojZ57ELHw_00058.mp3\n",
      "Deleting original file id08273_4_17000_LPojZ57ELHw_00058 (pass -k to keep)\n",
      "Audio downloaded as id08273_4_17000_LPojZ57ELHw_00058\n",
      "Trimmed audio saved as ../data/download_df_audio/id08273_4_17000_LPojZ57ELHw_00058_cut.mp3\n",
      "Speaker: id08273, Video: 9Jd3axy7fDY, Txt file: 00028\n",
      "[youtube] Extracting URL: https://www.youtube.com/watch?v=9Jd3axy7fDY\n",
      "[youtube] 9Jd3axy7fDY: Downloading webpage\n",
      "[youtube] 9Jd3axy7fDY: Downloading tv client config\n",
      "[youtube] 9Jd3axy7fDY: Downloading player 5ae7d525\n",
      "[youtube] 9Jd3axy7fDY: Downloading tv player API JSON\n",
      "[youtube] 9Jd3axy7fDY: Downloading ios player API JSON\n",
      "[youtube] 9Jd3axy7fDY: Downloading m3u8 information\n",
      "[info] 9Jd3axy7fDY: Downloading 1 format(s): 251\n",
      "[download] Destination: id08273_5_15160_9Jd3axy7fDY_00028\n",
      "[download] 100% of    5.33MiB in 00:00:00 at 10.04MiB/s  \n",
      "[ExtractAudio] Destination: id08273_5_15160_9Jd3axy7fDY_00028.mp3\n",
      "Deleting original file id08273_5_15160_9Jd3axy7fDY_00028 (pass -k to keep)\n",
      "Audio downloaded as id08273_5_15160_9Jd3axy7fDY_00028\n",
      "Trimmed audio saved as ../data/download_df_audio/id08273_5_15160_9Jd3axy7fDY_00028_cut.mp3\n",
      "Speaker: id08273, Video: r8caL8A3Bv8, Txt file: 00236\n",
      "[youtube] Extracting URL: https://www.youtube.com/watch?v=r8caL8A3Bv8\n",
      "[youtube] r8caL8A3Bv8: Downloading webpage\n",
      "[youtube] r8caL8A3Bv8: Downloading tv client config\n",
      "[youtube] r8caL8A3Bv8: Downloading player 5ae7d525\n",
      "[youtube] r8caL8A3Bv8: Downloading tv player API JSON\n",
      "[youtube] r8caL8A3Bv8: Downloading ios player API JSON\n",
      "[youtube] r8caL8A3Bv8: Downloading m3u8 information\n",
      "[info] r8caL8A3Bv8: Downloading 1 format(s): 140\n",
      "[download] Destination: id08273_6_13520_r8caL8A3Bv8_00236\n",
      "[download] 100% of    6.74MiB in 00:00:01 at 4.32MiB/s   \n",
      "[FixupM4a] Correcting container of \"id08273_6_13520_r8caL8A3Bv8_00236\"\n",
      "[ExtractAudio] Destination: id08273_6_13520_r8caL8A3Bv8_00236.mp3\n",
      "Deleting original file id08273_6_13520_r8caL8A3Bv8_00236 (pass -k to keep)\n",
      "Audio downloaded as id08273_6_13520_r8caL8A3Bv8_00236\n",
      "Trimmed audio saved as ../data/download_df_audio/id08273_6_13520_r8caL8A3Bv8_00236_cut.mp3\n",
      "Speaker: id08273, Video: copI_XHyuyw, Txt file: 00150\n",
      "[youtube] Extracting URL: https://www.youtube.com/watch?v=copI_XHyuyw\n",
      "[youtube] copI_XHyuyw: Downloading webpage\n",
      "[youtube] copI_XHyuyw: Downloading tv client config\n",
      "[youtube] copI_XHyuyw: Downloading player 5ae7d525\n",
      "[youtube] copI_XHyuyw: Downloading tv player API JSON\n",
      "[youtube] copI_XHyuyw: Downloading ios player API JSON\n",
      "[youtube] copI_XHyuyw: Downloading m3u8 information\n",
      "[info] copI_XHyuyw: Downloading 1 format(s): 140\n",
      "[download] Destination: id08273_7_13160_copI_XHyuyw_00150\n",
      "[download] 100% of    8.21MiB in 00:00:02 at 3.28MiB/s   \n",
      "[FixupM4a] Correcting container of \"id08273_7_13160_copI_XHyuyw_00150\"\n",
      "[ExtractAudio] Destination: id08273_7_13160_copI_XHyuyw_00150.mp3\n",
      "Deleting original file id08273_7_13160_copI_XHyuyw_00150 (pass -k to keep)\n",
      "Audio downloaded as id08273_7_13160_copI_XHyuyw_00150\n",
      "Trimmed audio saved as ../data/download_df_audio/id08273_7_13160_copI_XHyuyw_00150_cut.mp3\n",
      "Speaker: id08273, Video: WXPytZ7DoBA, Txt file: 00102\n"
     ]
    },
    {
     "name": "stderr",
     "output_type": "stream",
     "text": [
      "ERROR: [youtube] WXPytZ7DoBA: Private video. Sign in if you've been granted access to this video. Use --cookies-from-browser or --cookies for the authentication. See  https://github.com/yt-dlp/yt-dlp/wiki/FAQ#how-do-i-pass-cookies-to-yt-dlp  for how to manually pass cookies. Also see  https://github.com/yt-dlp/yt-dlp/wiki/Extractors#exporting-youtube-cookies  for tips on effectively exporting YouTube cookies\n"
     ]
    },
    {
     "name": "stdout",
     "output_type": "stream",
     "text": [
      "Speaker: id08273, Video: 3rC1EZAuO6g, Txt file: 00015\n",
      "[youtube] Extracting URL: https://www.youtube.com/watch?v=3rC1EZAuO6g\n",
      "[youtube] 3rC1EZAuO6g: Downloading webpage\n",
      "[youtube] 3rC1EZAuO6g: Downloading tv client config\n",
      "[youtube] 3rC1EZAuO6g: Downloading player 5ae7d525\n",
      "[youtube] 3rC1EZAuO6g: Downloading tv player API JSON\n",
      "[youtube] 3rC1EZAuO6g: Downloading ios player API JSON\n",
      "[youtube] 3rC1EZAuO6g: Downloading m3u8 information\n",
      "[info] 3rC1EZAuO6g: Downloading 1 format(s): 251\n",
      "[download] Destination: id08273_8_12800_3rC1EZAuO6g_00015\n",
      "[download] 100% of    3.40MiB in 00:00:01 at 2.00MiB/s   \n",
      "[ExtractAudio] Destination: id08273_8_12800_3rC1EZAuO6g_00015.mp3\n",
      "Deleting original file id08273_8_12800_3rC1EZAuO6g_00015 (pass -k to keep)\n",
      "Audio downloaded as id08273_8_12800_3rC1EZAuO6g_00015\n",
      "Trimmed audio saved as ../data/download_df_audio/id08273_8_12800_3rC1EZAuO6g_00015_cut.mp3\n",
      "Speaker: id08273, Video: teCVmsBI28k, Txt file: 00255\n"
     ]
    },
    {
     "name": "stderr",
     "output_type": "stream",
     "text": [
      "ERROR: [youtube] teCVmsBI28k: Private video. Sign in if you've been granted access to this video. Use --cookies-from-browser or --cookies for the authentication. See  https://github.com/yt-dlp/yt-dlp/wiki/FAQ#how-do-i-pass-cookies-to-yt-dlp  for how to manually pass cookies. Also see  https://github.com/yt-dlp/yt-dlp/wiki/Extractors#exporting-youtube-cookies  for tips on effectively exporting YouTube cookies\n"
     ]
    },
    {
     "name": "stdout",
     "output_type": "stream",
     "text": [
      "Speaker: id08273, Video: vgXUcM5065g, Txt file: 00268\n",
      "[youtube] Extracting URL: https://www.youtube.com/watch?v=vgXUcM5065g\n",
      "[youtube] vgXUcM5065g: Downloading webpage\n",
      "[youtube] vgXUcM5065g: Downloading tv client config\n",
      "[youtube] vgXUcM5065g: Downloading player 5ae7d525\n",
      "[youtube] vgXUcM5065g: Downloading tv player API JSON\n",
      "[youtube] vgXUcM5065g: Downloading ios player API JSON\n",
      "[youtube] vgXUcM5065g: Downloading m3u8 information\n",
      "[info] vgXUcM5065g: Downloading 1 format(s): 251\n",
      "[download] Destination: id08273_9_11120_vgXUcM5065g_00268\n",
      "[download] 100% of    2.68MiB in 00:00:01 at 2.06MiB/s   \n",
      "[ExtractAudio] Destination: id08273_9_11120_vgXUcM5065g_00268.mp3\n",
      "Deleting original file id08273_9_11120_vgXUcM5065g_00268 (pass -k to keep)\n",
      "Audio downloaded as id08273_9_11120_vgXUcM5065g_00268\n",
      "Trimmed audio saved as ../data/download_df_audio/id08273_9_11120_vgXUcM5065g_00268_cut.mp3\n",
      "Speaker: id08280, Video: HiSQoqIFd80, Txt file: 00027\n",
      "[youtube] Extracting URL: https://www.youtube.com/watch?v=HiSQoqIFd80\n",
      "[youtube] HiSQoqIFd80: Downloading webpage\n",
      "[youtube] HiSQoqIFd80: Downloading tv client config\n",
      "[youtube] HiSQoqIFd80: Downloading player 5ae7d525\n",
      "[youtube] HiSQoqIFd80: Downloading tv player API JSON\n",
      "[youtube] HiSQoqIFd80: Downloading ios player API JSON\n",
      "[youtube] HiSQoqIFd80: Downloading m3u8 information\n",
      "[info] HiSQoqIFd80: Downloading 1 format(s): 140\n",
      "[download] Destination: id08280_2_61520_HiSQoqIFd80_00027\n",
      "[download] 100% of    6.35MiB in 00:00:01 at 4.98MiB/s   \n",
      "[FixupM4a] Correcting container of \"id08280_2_61520_HiSQoqIFd80_00027\"\n",
      "[ExtractAudio] Destination: id08280_2_61520_HiSQoqIFd80_00027.mp3\n",
      "Deleting original file id08280_2_61520_HiSQoqIFd80_00027 (pass -k to keep)\n",
      "Audio downloaded as id08280_2_61520_HiSQoqIFd80_00027\n",
      "Trimmed audio saved as ../data/download_df_audio/id08280_2_61520_HiSQoqIFd80_00027_cut.mp3\n",
      "Speaker: id08280, Video: RMvscdOYdNQ, Txt file: 00120\n",
      "[youtube] Extracting URL: https://www.youtube.com/watch?v=RMvscdOYdNQ\n",
      "[youtube] RMvscdOYdNQ: Downloading webpage\n",
      "[youtube] RMvscdOYdNQ: Downloading tv client config\n",
      "[youtube] RMvscdOYdNQ: Downloading player 5ae7d525\n",
      "[youtube] RMvscdOYdNQ: Downloading tv player API JSON\n",
      "[youtube] RMvscdOYdNQ: Downloading ios player API JSON\n",
      "[youtube] RMvscdOYdNQ: Downloading m3u8 information\n",
      "[info] RMvscdOYdNQ: Downloading 1 format(s): 251\n",
      "[download] Destination: id08280_3_33120_RMvscdOYdNQ_00120\n",
      "[download] 100% of   40.52MiB in 00:00:04 at 9.56MiB/s     \n",
      "[ExtractAudio] Destination: id08280_3_33120_RMvscdOYdNQ_00120.mp3\n",
      "Deleting original file id08280_3_33120_RMvscdOYdNQ_00120 (pass -k to keep)\n",
      "Audio downloaded as id08280_3_33120_RMvscdOYdNQ_00120\n",
      "Trimmed audio saved as ../data/download_df_audio/id08280_3_33120_RMvscdOYdNQ_00120_cut.mp3\n",
      "Speaker: id08280, Video: pGkuz0b22zU, Txt file: 00356\n",
      "[youtube] Extracting URL: https://www.youtube.com/watch?v=pGkuz0b22zU\n",
      "[youtube] pGkuz0b22zU: Downloading webpage\n",
      "[youtube] pGkuz0b22zU: Downloading tv client config\n",
      "[youtube] pGkuz0b22zU: Downloading player 5ae7d525\n",
      "[youtube] pGkuz0b22zU: Downloading tv player API JSON\n",
      "[youtube] pGkuz0b22zU: Downloading ios player API JSON\n",
      "[youtube] pGkuz0b22zU: Downloading m3u8 information\n",
      "[info] pGkuz0b22zU: Downloading 1 format(s): 140\n",
      "[download] Destination: id08280_4_29280_pGkuz0b22zU_00356\n",
      "[download] 100% of    5.70MiB in 00:00:01 at 2.99MiB/s   \n",
      "[FixupM4a] Correcting container of \"id08280_4_29280_pGkuz0b22zU_00356\"\n",
      "[ExtractAudio] Destination: id08280_4_29280_pGkuz0b22zU_00356.mp3\n",
      "Deleting original file id08280_4_29280_pGkuz0b22zU_00356 (pass -k to keep)\n",
      "Audio downloaded as id08280_4_29280_pGkuz0b22zU_00356\n",
      "Trimmed audio saved as ../data/download_df_audio/id08280_4_29280_pGkuz0b22zU_00356_cut.mp3\n",
      "Speaker: id08280, Video: RMvscdOYdNQ, Txt file: 00217\n",
      "[youtube] Extracting URL: https://www.youtube.com/watch?v=RMvscdOYdNQ\n",
      "[youtube] RMvscdOYdNQ: Downloading webpage\n",
      "[youtube] RMvscdOYdNQ: Downloading tv client config\n",
      "[youtube] RMvscdOYdNQ: Downloading player 5ae7d525\n",
      "[youtube] RMvscdOYdNQ: Downloading tv player API JSON\n",
      "[youtube] RMvscdOYdNQ: Downloading ios player API JSON\n",
      "[youtube] RMvscdOYdNQ: Downloading m3u8 information\n",
      "[info] RMvscdOYdNQ: Downloading 1 format(s): 251\n",
      "[download] Destination: id08280_5_27240_RMvscdOYdNQ_00217\n",
      "[download] 100% of   40.52MiB in 00:00:03 at 10.79MiB/s    \n",
      "[ExtractAudio] Destination: id08280_5_27240_RMvscdOYdNQ_00217.mp3\n",
      "Deleting original file id08280_5_27240_RMvscdOYdNQ_00217 (pass -k to keep)\n",
      "Audio downloaded as id08280_5_27240_RMvscdOYdNQ_00217\n",
      "Trimmed audio saved as ../data/download_df_audio/id08280_5_27240_RMvscdOYdNQ_00217_cut.mp3\n",
      "Speaker: id08280, Video: IJRx0JEM_7o, Txt file: 00045\n",
      "[youtube] Extracting URL: https://www.youtube.com/watch?v=IJRx0JEM_7o\n",
      "[youtube] IJRx0JEM_7o: Downloading webpage\n",
      "[youtube] IJRx0JEM_7o: Downloading tv client config\n",
      "[youtube] IJRx0JEM_7o: Downloading player 5ae7d525\n",
      "[youtube] IJRx0JEM_7o: Downloading tv player API JSON\n",
      "[youtube] IJRx0JEM_7o: Downloading ios player API JSON\n",
      "[youtube] IJRx0JEM_7o: Downloading m3u8 information\n",
      "[info] IJRx0JEM_7o: Downloading 1 format(s): 251\n",
      "[download] Destination: id08280_6_26640_IJRx0JEM_7o_00045\n",
      "[download] 100% of    6.43MiB in 00:00:00 at 6.73MiB/s   \n",
      "[ExtractAudio] Destination: id08280_6_26640_IJRx0JEM_7o_00045.mp3\n",
      "Deleting original file id08280_6_26640_IJRx0JEM_7o_00045 (pass -k to keep)\n",
      "Audio downloaded as id08280_6_26640_IJRx0JEM_7o_00045\n",
      "Trimmed audio saved as ../data/download_df_audio/id08280_6_26640_IJRx0JEM_7o_00045_cut.mp3\n",
      "Speaker: id08280, Video: Z4Xb1ogXAvU, Txt file: 00243\n",
      "[youtube] Extracting URL: https://www.youtube.com/watch?v=Z4Xb1ogXAvU\n",
      "[youtube] Z4Xb1ogXAvU: Downloading webpage\n",
      "[youtube] Z4Xb1ogXAvU: Downloading tv client config\n",
      "[youtube] Z4Xb1ogXAvU: Downloading player 5ae7d525\n",
      "[youtube] Z4Xb1ogXAvU: Downloading tv player API JSON\n",
      "[youtube] Z4Xb1ogXAvU: Downloading ios player API JSON\n",
      "[youtube] Z4Xb1ogXAvU: Downloading m3u8 information\n",
      "[info] Z4Xb1ogXAvU: Downloading 1 format(s): 251\n",
      "[download] Destination: id08280_7_25200_Z4Xb1ogXAvU_00243\n",
      "[download] 100% of    4.44MiB in 00:00:01 at 3.01MiB/s   \n",
      "[ExtractAudio] Destination: id08280_7_25200_Z4Xb1ogXAvU_00243.mp3\n",
      "Deleting original file id08280_7_25200_Z4Xb1ogXAvU_00243 (pass -k to keep)\n",
      "Audio downloaded as id08280_7_25200_Z4Xb1ogXAvU_00243\n",
      "Trimmed audio saved as ../data/download_df_audio/id08280_7_25200_Z4Xb1ogXAvU_00243_cut.mp3\n",
      "Speaker: id08280, Video: pGkuz0b22zU, Txt file: 00354\n",
      "[youtube] Extracting URL: https://www.youtube.com/watch?v=pGkuz0b22zU\n",
      "[youtube] pGkuz0b22zU: Downloading webpage\n",
      "[youtube] pGkuz0b22zU: Downloading tv client config\n",
      "[youtube] pGkuz0b22zU: Downloading player 5ae7d525\n",
      "[youtube] pGkuz0b22zU: Downloading tv player API JSON\n",
      "[youtube] pGkuz0b22zU: Downloading ios player API JSON\n",
      "[youtube] pGkuz0b22zU: Downloading m3u8 information\n",
      "[info] pGkuz0b22zU: Downloading 1 format(s): 140\n",
      "[download] Destination: id08280_8_24440_pGkuz0b22zU_00354\n",
      "[download] 100% of    5.70MiB in 00:00:00 at 8.79MiB/s   \n",
      "[FixupM4a] Correcting container of \"id08280_8_24440_pGkuz0b22zU_00354\"\n",
      "[ExtractAudio] Destination: id08280_8_24440_pGkuz0b22zU_00354.mp3\n",
      "Deleting original file id08280_8_24440_pGkuz0b22zU_00354 (pass -k to keep)\n",
      "Audio downloaded as id08280_8_24440_pGkuz0b22zU_00354\n",
      "Trimmed audio saved as ../data/download_df_audio/id08280_8_24440_pGkuz0b22zU_00354_cut.mp3\n",
      "Speaker: id08280, Video: CaGB7irNujg, Txt file: 00015\n"
     ]
    },
    {
     "name": "stderr",
     "output_type": "stream",
     "text": [
      "ERROR: [youtube] CaGB7irNujg: Video unavailable. This video is no longer available because the YouTube account associated with this video has been terminated.\n"
     ]
    },
    {
     "name": "stdout",
     "output_type": "stream",
     "text": [
      "Speaker: id08280, Video: RMvscdOYdNQ, Txt file: 00140\n",
      "[youtube] Extracting URL: https://www.youtube.com/watch?v=RMvscdOYdNQ\n",
      "[youtube] RMvscdOYdNQ: Downloading webpage\n",
      "[youtube] RMvscdOYdNQ: Downloading tv client config\n",
      "[youtube] RMvscdOYdNQ: Downloading player 5ae7d525\n",
      "[youtube] RMvscdOYdNQ: Downloading tv player API JSON\n",
      "[youtube] RMvscdOYdNQ: Downloading ios player API JSON\n",
      "[youtube] RMvscdOYdNQ: Downloading m3u8 information\n",
      "[info] RMvscdOYdNQ: Downloading 1 format(s): 251\n",
      "[download] Destination: id08280_9_22960_RMvscdOYdNQ_00140\n",
      "[download] 100% of   40.52MiB in 00:00:02 at 13.73MiB/s    \n",
      "[ExtractAudio] Destination: id08280_9_22960_RMvscdOYdNQ_00140.mp3\n",
      "Deleting original file id08280_9_22960_RMvscdOYdNQ_00140 (pass -k to keep)\n",
      "Audio downloaded as id08280_9_22960_RMvscdOYdNQ_00140\n",
      "Trimmed audio saved as ../data/download_df_audio/id08280_9_22960_RMvscdOYdNQ_00140_cut.mp3\n",
      "Speaker: id08295, Video: VQ9stNGxlq4, Txt file: 00151\n",
      "[youtube] Extracting URL: https://www.youtube.com/watch?v=VQ9stNGxlq4\n",
      "[youtube] VQ9stNGxlq4: Downloading webpage\n",
      "[youtube] VQ9stNGxlq4: Downloading tv client config\n",
      "[youtube] VQ9stNGxlq4: Downloading player 5ae7d525\n",
      "[youtube] VQ9stNGxlq4: Downloading tv player API JSON\n",
      "[youtube] VQ9stNGxlq4: Downloading ios player API JSON\n",
      "[youtube] VQ9stNGxlq4: Downloading m3u8 information\n",
      "[info] VQ9stNGxlq4: Downloading 1 format(s): 140\n",
      "[download] Destination: id08295_2_28680_VQ9stNGxlq4_00151\n",
      "[download] 100% of    2.95MiB in 00:00:00 at 8.27MiB/s   \n",
      "[FixupM4a] Correcting container of \"id08295_2_28680_VQ9stNGxlq4_00151\"\n",
      "[ExtractAudio] Destination: id08295_2_28680_VQ9stNGxlq4_00151.mp3\n",
      "Deleting original file id08295_2_28680_VQ9stNGxlq4_00151 (pass -k to keep)\n",
      "Audio downloaded as id08295_2_28680_VQ9stNGxlq4_00151\n",
      "Trimmed audio saved as ../data/download_df_audio/id08295_2_28680_VQ9stNGxlq4_00151_cut.mp3\n",
      "Speaker: id08295, Video: 7l2ICl0hu0s, Txt file: 00022\n",
      "[youtube] Extracting URL: https://www.youtube.com/watch?v=7l2ICl0hu0s\n",
      "[youtube] 7l2ICl0hu0s: Downloading webpage\n",
      "[youtube] 7l2ICl0hu0s: Downloading tv client config\n",
      "[youtube] 7l2ICl0hu0s: Downloading player 5ae7d525\n",
      "[youtube] 7l2ICl0hu0s: Downloading tv player API JSON\n",
      "[youtube] 7l2ICl0hu0s: Downloading ios player API JSON\n",
      "[youtube] 7l2ICl0hu0s: Downloading m3u8 information\n",
      "[info] 7l2ICl0hu0s: Downloading 1 format(s): 140\n",
      "[download] Destination: id08295_3_26880_7l2ICl0hu0s_00022\n",
      "[download] 100% of    8.24MiB in 00:00:01 at 7.18MiB/s   \n",
      "[FixupM4a] Correcting container of \"id08295_3_26880_7l2ICl0hu0s_00022\"\n",
      "[ExtractAudio] Destination: id08295_3_26880_7l2ICl0hu0s_00022.mp3\n",
      "Deleting original file id08295_3_26880_7l2ICl0hu0s_00022 (pass -k to keep)\n",
      "Audio downloaded as id08295_3_26880_7l2ICl0hu0s_00022\n",
      "Trimmed audio saved as ../data/download_df_audio/id08295_3_26880_7l2ICl0hu0s_00022_cut.mp3\n",
      "Speaker: id08295, Video: Umb-1HoJwTo, Txt file: 00105\n"
     ]
    },
    {
     "name": "stderr",
     "output_type": "stream",
     "text": [
      "ERROR: [youtube] Umb-1HoJwTo: Video unavailable. This video is no longer available due to a copyright claim by Bomb1stcom\n"
     ]
    },
    {
     "name": "stdout",
     "output_type": "stream",
     "text": [
      "Speaker: id08295, Video: EB5ZQEVpi8E, Txt file: 00030\n"
     ]
    },
    {
     "name": "stderr",
     "output_type": "stream",
     "text": [
      "ERROR: [youtube] EB5ZQEVpi8E: Video unavailable\n"
     ]
    },
    {
     "name": "stdout",
     "output_type": "stream",
     "text": [
      "Speaker: id08295, Video: Kuid8movvSw, Txt file: 00042\n",
      "[youtube] Extracting URL: https://www.youtube.com/watch?v=Kuid8movvSw\n",
      "[youtube] Kuid8movvSw: Downloading webpage\n",
      "[youtube] Kuid8movvSw: Downloading tv client config\n",
      "[youtube] Kuid8movvSw: Downloading player 5ae7d525\n",
      "[youtube] Kuid8movvSw: Downloading tv player API JSON\n",
      "[youtube] Kuid8movvSw: Downloading ios player API JSON\n",
      "[youtube] Kuid8movvSw: Downloading m3u8 information\n",
      "[info] Kuid8movvSw: Downloading 1 format(s): 251\n",
      "[download] Destination: id08295_4_17960_Kuid8movvSw_00042\n",
      "[download] 100% of    3.07MiB in 00:00:00 at 4.62MiB/s   \n",
      "[ExtractAudio] Destination: id08295_4_17960_Kuid8movvSw_00042.mp3\n",
      "Deleting original file id08295_4_17960_Kuid8movvSw_00042 (pass -k to keep)\n",
      "Audio downloaded as id08295_4_17960_Kuid8movvSw_00042\n",
      "Trimmed audio saved as ../data/download_df_audio/id08295_4_17960_Kuid8movvSw_00042_cut.mp3\n",
      "Speaker: id08295, Video: EB5ZQEVpi8E, Txt file: 00031\n"
     ]
    },
    {
     "name": "stderr",
     "output_type": "stream",
     "text": [
      "ERROR: [youtube] EB5ZQEVpi8E: Video unavailable\n"
     ]
    },
    {
     "name": "stdout",
     "output_type": "stream",
     "text": [
      "Speaker: id08295, Video: Umb-1HoJwTo, Txt file: 00077\n"
     ]
    },
    {
     "name": "stderr",
     "output_type": "stream",
     "text": [
      "ERROR: [youtube] Umb-1HoJwTo: Video unavailable. This video is no longer available due to a copyright claim by Bomb1stcom\n"
     ]
    },
    {
     "name": "stdout",
     "output_type": "stream",
     "text": [
      "Speaker: id08295, Video: 7l2ICl0hu0s, Txt file: 00012\n",
      "[youtube] Extracting URL: https://www.youtube.com/watch?v=7l2ICl0hu0s\n",
      "[youtube] 7l2ICl0hu0s: Downloading webpage\n",
      "[youtube] 7l2ICl0hu0s: Downloading tv client config\n",
      "[youtube] 7l2ICl0hu0s: Downloading player 5ae7d525\n",
      "[youtube] 7l2ICl0hu0s: Downloading tv player API JSON\n",
      "[youtube] 7l2ICl0hu0s: Downloading ios player API JSON\n",
      "[youtube] 7l2ICl0hu0s: Downloading m3u8 information\n",
      "[info] 7l2ICl0hu0s: Downloading 1 format(s): 140\n",
      "[download] Destination: id08295_5_14880_7l2ICl0hu0s_00012\n",
      "[download] 100% of    8.24MiB in 00:00:00 at 13.95MiB/s  \n",
      "[FixupM4a] Correcting container of \"id08295_5_14880_7l2ICl0hu0s_00012\"\n",
      "[ExtractAudio] Destination: id08295_5_14880_7l2ICl0hu0s_00012.mp3\n",
      "Deleting original file id08295_5_14880_7l2ICl0hu0s_00012 (pass -k to keep)\n",
      "Audio downloaded as id08295_5_14880_7l2ICl0hu0s_00012\n",
      "Trimmed audio saved as ../data/download_df_audio/id08295_5_14880_7l2ICl0hu0s_00012_cut.mp3\n",
      "Speaker: id08295, Video: b0JFPK7Rjgg, Txt file: 00175\n",
      "[youtube] Extracting URL: https://www.youtube.com/watch?v=b0JFPK7Rjgg\n",
      "[youtube] b0JFPK7Rjgg: Downloading webpage\n",
      "[youtube] b0JFPK7Rjgg: Downloading tv client config\n",
      "[youtube] b0JFPK7Rjgg: Downloading player 5ae7d525\n",
      "[youtube] b0JFPK7Rjgg: Downloading tv player API JSON\n",
      "[youtube] b0JFPK7Rjgg: Downloading ios player API JSON\n",
      "[youtube] b0JFPK7Rjgg: Downloading m3u8 information\n",
      "[info] b0JFPK7Rjgg: Downloading 1 format(s): 140\n",
      "[download] Destination: id08295_6_14480_b0JFPK7Rjgg_00175\n",
      "[download] 100% of    8.36MiB in 00:00:02 at 4.00MiB/s   \n",
      "[FixupM4a] Correcting container of \"id08295_6_14480_b0JFPK7Rjgg_00175\"\n",
      "[ExtractAudio] Destination: id08295_6_14480_b0JFPK7Rjgg_00175.mp3\n",
      "Deleting original file id08295_6_14480_b0JFPK7Rjgg_00175 (pass -k to keep)\n",
      "Audio downloaded as id08295_6_14480_b0JFPK7Rjgg_00175\n",
      "Trimmed audio saved as ../data/download_df_audio/id08295_6_14480_b0JFPK7Rjgg_00175_cut.mp3\n",
      "Speaker: id08295, Video: 7l2ICl0hu0s, Txt file: 00020\n",
      "[youtube] Extracting URL: https://www.youtube.com/watch?v=7l2ICl0hu0s\n",
      "[youtube] 7l2ICl0hu0s: Downloading webpage\n",
      "[youtube] 7l2ICl0hu0s: Downloading tv client config\n",
      "[youtube] 7l2ICl0hu0s: Downloading player 5ae7d525\n",
      "[youtube] 7l2ICl0hu0s: Downloading tv player API JSON\n",
      "[youtube] 7l2ICl0hu0s: Downloading ios player API JSON\n",
      "[youtube] 7l2ICl0hu0s: Downloading m3u8 information\n",
      "[info] 7l2ICl0hu0s: Downloading 1 format(s): 140\n",
      "[download] Destination: id08295_7_14040_7l2ICl0hu0s_00020\n",
      "[download] 100% of    8.24MiB in 00:00:00 at 10.89MiB/s  \n",
      "[FixupM4a] Correcting container of \"id08295_7_14040_7l2ICl0hu0s_00020\"\n",
      "[ExtractAudio] Destination: id08295_7_14040_7l2ICl0hu0s_00020.mp3\n",
      "Deleting original file id08295_7_14040_7l2ICl0hu0s_00020 (pass -k to keep)\n",
      "Audio downloaded as id08295_7_14040_7l2ICl0hu0s_00020\n",
      "Trimmed audio saved as ../data/download_df_audio/id08295_7_14040_7l2ICl0hu0s_00020_cut.mp3\n",
      "Speaker: id08295, Video: Umb-1HoJwTo, Txt file: 00132\n"
     ]
    },
    {
     "name": "stderr",
     "output_type": "stream",
     "text": [
      "ERROR: [youtube] Umb-1HoJwTo: Video unavailable. This video is no longer available due to a copyright claim by Bomb1stcom\n"
     ]
    },
    {
     "name": "stdout",
     "output_type": "stream",
     "text": [
      "Speaker: id08295, Video: uB9iprdFxJA, Txt file: 00223\n",
      "[youtube] Extracting URL: https://www.youtube.com/watch?v=uB9iprdFxJA\n",
      "[youtube] uB9iprdFxJA: Downloading webpage\n",
      "[youtube] uB9iprdFxJA: Downloading tv client config\n",
      "[youtube] uB9iprdFxJA: Downloading player 5ae7d525\n",
      "[youtube] uB9iprdFxJA: Downloading tv player API JSON\n",
      "[youtube] uB9iprdFxJA: Downloading ios player API JSON\n",
      "[youtube] uB9iprdFxJA: Downloading m3u8 information\n",
      "[info] uB9iprdFxJA: Downloading 1 format(s): 140\n",
      "[download] Destination: id08295_8_13000_uB9iprdFxJA_00223\n",
      "[download] 100% of    6.91MiB in 00:00:01 at 3.52MiB/s   \n",
      "[FixupM4a] Correcting container of \"id08295_8_13000_uB9iprdFxJA_00223\"\n",
      "[ExtractAudio] Destination: id08295_8_13000_uB9iprdFxJA_00223.mp3\n",
      "Deleting original file id08295_8_13000_uB9iprdFxJA_00223 (pass -k to keep)\n",
      "Audio downloaded as id08295_8_13000_uB9iprdFxJA_00223\n",
      "Trimmed audio saved as ../data/download_df_audio/id08295_8_13000_uB9iprdFxJA_00223_cut.mp3\n",
      "Speaker: id08295, Video: vHqnqRvcKF8, Txt file: 00233\n",
      "[youtube] Extracting URL: https://www.youtube.com/watch?v=vHqnqRvcKF8\n",
      "[youtube] vHqnqRvcKF8: Downloading webpage\n",
      "[youtube] vHqnqRvcKF8: Downloading tv client config\n",
      "[youtube] vHqnqRvcKF8: Downloading player 5ae7d525\n",
      "[youtube] vHqnqRvcKF8: Downloading tv player API JSON\n",
      "[youtube] vHqnqRvcKF8: Downloading ios player API JSON\n",
      "[youtube] vHqnqRvcKF8: Downloading m3u8 information\n",
      "[info] vHqnqRvcKF8: Downloading 1 format(s): 251\n",
      "[download] Destination: id08295_9_12880_vHqnqRvcKF8_00233\n",
      "[download] 100% of    5.53MiB in 00:00:00 at 7.12MiB/s   \n",
      "[ExtractAudio] Destination: id08295_9_12880_vHqnqRvcKF8_00233.mp3\n",
      "Deleting original file id08295_9_12880_vHqnqRvcKF8_00233 (pass -k to keep)\n",
      "Audio downloaded as id08295_9_12880_vHqnqRvcKF8_00233\n",
      "Trimmed audio saved as ../data/download_df_audio/id08295_9_12880_vHqnqRvcKF8_00233_cut.mp3\n",
      "Speaker: id08314, Video: 0yDFL2noDUE, Txt file: 00006\n",
      "[youtube] Extracting URL: https://www.youtube.com/watch?v=0yDFL2noDUE\n",
      "[youtube] 0yDFL2noDUE: Downloading webpage\n",
      "[youtube] 0yDFL2noDUE: Downloading tv client config\n",
      "[youtube] 0yDFL2noDUE: Downloading player 5ae7d525\n",
      "[youtube] 0yDFL2noDUE: Downloading tv player API JSON\n",
      "[youtube] 0yDFL2noDUE: Downloading ios player API JSON\n",
      "[youtube] 0yDFL2noDUE: Downloading m3u8 information\n",
      "[info] 0yDFL2noDUE: Downloading 1 format(s): 251\n",
      "[download] Destination: id08314_2_24400_0yDFL2noDUE_00006\n",
      "[download] 100% of    4.28MiB in 00:00:01 at 3.67MiB/s   \n",
      "[ExtractAudio] Destination: id08314_2_24400_0yDFL2noDUE_00006.mp3\n",
      "Deleting original file id08314_2_24400_0yDFL2noDUE_00006 (pass -k to keep)\n",
      "Audio downloaded as id08314_2_24400_0yDFL2noDUE_00006\n",
      "Trimmed audio saved as ../data/download_df_audio/id08314_2_24400_0yDFL2noDUE_00006_cut.mp3\n",
      "Speaker: id08314, Video: KmuNFdqpTOI, Txt file: 00079\n",
      "[youtube] Extracting URL: https://www.youtube.com/watch?v=KmuNFdqpTOI\n",
      "[youtube] KmuNFdqpTOI: Downloading webpage\n",
      "[youtube] KmuNFdqpTOI: Downloading tv client config\n",
      "[youtube] KmuNFdqpTOI: Downloading player 5ae7d525\n",
      "[youtube] KmuNFdqpTOI: Downloading tv player API JSON\n",
      "[youtube] KmuNFdqpTOI: Downloading ios player API JSON\n",
      "[youtube] KmuNFdqpTOI: Downloading m3u8 information\n",
      "[info] KmuNFdqpTOI: Downloading 1 format(s): 140\n",
      "[download] Destination: id08314_3_20040_KmuNFdqpTOI_00079\n",
      "[download] 100% of    9.15MiB in 00:00:02 at 4.56MiB/s   \n",
      "[FixupM4a] Correcting container of \"id08314_3_20040_KmuNFdqpTOI_00079\"\n",
      "[ExtractAudio] Destination: id08314_3_20040_KmuNFdqpTOI_00079.mp3\n",
      "Deleting original file id08314_3_20040_KmuNFdqpTOI_00079 (pass -k to keep)\n",
      "Audio downloaded as id08314_3_20040_KmuNFdqpTOI_00079\n",
      "Trimmed audio saved as ../data/download_df_audio/id08314_3_20040_KmuNFdqpTOI_00079_cut.mp3\n",
      "Speaker: id08314, Video: 0yDFL2noDUE, Txt file: 00005\n",
      "[youtube] Extracting URL: https://www.youtube.com/watch?v=0yDFL2noDUE\n",
      "[youtube] 0yDFL2noDUE: Downloading webpage\n",
      "[youtube] 0yDFL2noDUE: Downloading tv client config\n",
      "[youtube] 0yDFL2noDUE: Downloading player 5ae7d525\n",
      "[youtube] 0yDFL2noDUE: Downloading tv player API JSON\n",
      "[youtube] 0yDFL2noDUE: Downloading ios player API JSON\n",
      "[youtube] 0yDFL2noDUE: Downloading m3u8 information\n",
      "[info] 0yDFL2noDUE: Downloading 1 format(s): 251\n",
      "[download] Destination: id08314_4_18840_0yDFL2noDUE_00005\n",
      "[download] 100% of    4.28MiB in 00:00:00 at 13.13MiB/s  \n",
      "[ExtractAudio] Destination: id08314_4_18840_0yDFL2noDUE_00005.mp3\n",
      "Deleting original file id08314_4_18840_0yDFL2noDUE_00005 (pass -k to keep)\n",
      "Audio downloaded as id08314_4_18840_0yDFL2noDUE_00005\n",
      "Trimmed audio saved as ../data/download_df_audio/id08314_4_18840_0yDFL2noDUE_00005_cut.mp3\n",
      "Speaker: id08314, Video: gdghKvwnmOA, Txt file: 00140\n"
     ]
    },
    {
     "name": "stderr",
     "output_type": "stream",
     "text": [
      "ERROR: [youtube] gdghKvwnmOA: Video unavailable. This video is no longer available because the YouTube account associated with this video has been terminated.\n"
     ]
    },
    {
     "name": "stdout",
     "output_type": "stream",
     "text": [
      "Speaker: id08314, Video: BHlAddLeCLQ, Txt file: 00038\n",
      "[youtube] Extracting URL: https://www.youtube.com/watch?v=BHlAddLeCLQ\n",
      "[youtube] BHlAddLeCLQ: Downloading webpage\n",
      "[youtube] BHlAddLeCLQ: Downloading tv client config\n",
      "[youtube] BHlAddLeCLQ: Downloading player 5ae7d525\n",
      "[youtube] BHlAddLeCLQ: Downloading tv player API JSON\n",
      "[youtube] BHlAddLeCLQ: Downloading ios player API JSON\n",
      "[youtube] BHlAddLeCLQ: Downloading m3u8 information\n",
      "[info] BHlAddLeCLQ: Downloading 1 format(s): 251\n",
      "[download] Destination: id08314_5_13920_BHlAddLeCLQ_00038\n",
      "[download] 100% of    1.96MiB in 00:00:00 at 2.18MiB/s   \n",
      "[ExtractAudio] Destination: id08314_5_13920_BHlAddLeCLQ_00038.mp3\n",
      "Deleting original file id08314_5_13920_BHlAddLeCLQ_00038 (pass -k to keep)\n",
      "Audio downloaded as id08314_5_13920_BHlAddLeCLQ_00038\n",
      "Trimmed audio saved as ../data/download_df_audio/id08314_5_13920_BHlAddLeCLQ_00038_cut.mp3\n",
      "Speaker: id08314, Video: 52OilLsDbkw, Txt file: 00021\n",
      "[youtube] Extracting URL: https://www.youtube.com/watch?v=52OilLsDbkw\n",
      "[youtube] 52OilLsDbkw: Downloading webpage\n",
      "[youtube] 52OilLsDbkw: Downloading tv client config\n",
      "[youtube] 52OilLsDbkw: Downloading player 5ae7d525\n",
      "[youtube] 52OilLsDbkw: Downloading tv player API JSON\n",
      "[youtube] 52OilLsDbkw: Downloading ios player API JSON\n",
      "[youtube] 52OilLsDbkw: Downloading m3u8 information\n",
      "[info] 52OilLsDbkw: Downloading 1 format(s): 140\n",
      "[download] Destination: id08314_6_12960_52OilLsDbkw_00021\n",
      "[download] 100% of    8.68MiB in 00:00:02 at 3.29MiB/s   \n",
      "[FixupM4a] Correcting container of \"id08314_6_12960_52OilLsDbkw_00021\"\n",
      "[ExtractAudio] Destination: id08314_6_12960_52OilLsDbkw_00021.mp3\n",
      "Deleting original file id08314_6_12960_52OilLsDbkw_00021 (pass -k to keep)\n",
      "Audio downloaded as id08314_6_12960_52OilLsDbkw_00021\n",
      "Trimmed audio saved as ../data/download_df_audio/id08314_6_12960_52OilLsDbkw_00021_cut.mp3\n",
      "Speaker: id08314, Video: 6i0ZTe-WaGc, Txt file: 00033\n",
      "[youtube] Extracting URL: https://www.youtube.com/watch?v=6i0ZTe-WaGc\n",
      "[youtube] 6i0ZTe-WaGc: Downloading webpage\n",
      "[youtube] 6i0ZTe-WaGc: Downloading tv client config\n",
      "[youtube] 6i0ZTe-WaGc: Downloading player 5ae7d525\n",
      "[youtube] 6i0ZTe-WaGc: Downloading tv player API JSON\n",
      "[youtube] 6i0ZTe-WaGc: Downloading ios player API JSON\n",
      "[youtube] 6i0ZTe-WaGc: Downloading m3u8 information\n",
      "[info] 6i0ZTe-WaGc: Downloading 1 format(s): 251\n",
      "[download] Destination: id08314_7_10920_6i0ZTe-WaGc_00033\n",
      "[download] 100% of   39.35MiB in 00:00:09 at 4.15MiB/s     \n",
      "[ExtractAudio] Destination: id08314_7_10920_6i0ZTe-WaGc_00033.mp3\n",
      "Deleting original file id08314_7_10920_6i0ZTe-WaGc_00033 (pass -k to keep)\n",
      "Audio downloaded as id08314_7_10920_6i0ZTe-WaGc_00033\n",
      "Trimmed audio saved as ../data/download_df_audio/id08314_7_10920_6i0ZTe-WaGc_00033_cut.mp3\n",
      "Speaker: id08314, Video: gdghKvwnmOA, Txt file: 00147\n"
     ]
    },
    {
     "name": "stderr",
     "output_type": "stream",
     "text": [
      "ERROR: [youtube] gdghKvwnmOA: Video unavailable. This video is no longer available because the YouTube account associated with this video has been terminated.\n"
     ]
    },
    {
     "name": "stdout",
     "output_type": "stream",
     "text": [
      "Speaker: id08314, Video: gyQObN3jwf8, Txt file: 00154\n",
      "[youtube] Extracting URL: https://www.youtube.com/watch?v=gyQObN3jwf8\n",
      "[youtube] gyQObN3jwf8: Downloading webpage\n",
      "[youtube] gyQObN3jwf8: Downloading tv client config\n",
      "[youtube] gyQObN3jwf8: Downloading player 5ae7d525\n",
      "[youtube] gyQObN3jwf8: Downloading tv player API JSON\n",
      "[youtube] gyQObN3jwf8: Downloading ios player API JSON\n",
      "[youtube] gyQObN3jwf8: Downloading m3u8 information\n",
      "[info] gyQObN3jwf8: Downloading 1 format(s): 140\n",
      "[download] Destination: id08314_8_10480_gyQObN3jwf8_00154\n",
      "[download] 100% of    2.62MiB in 00:00:01 at 2.38MiB/s   \n",
      "[FixupM4a] Correcting container of \"id08314_8_10480_gyQObN3jwf8_00154\"\n",
      "[ExtractAudio] Destination: id08314_8_10480_gyQObN3jwf8_00154.mp3\n",
      "Deleting original file id08314_8_10480_gyQObN3jwf8_00154 (pass -k to keep)\n",
      "Audio downloaded as id08314_8_10480_gyQObN3jwf8_00154\n",
      "Trimmed audio saved as ../data/download_df_audio/id08314_8_10480_gyQObN3jwf8_00154_cut.mp3\n",
      "Speaker: id08314, Video: KmuNFdqpTOI, Txt file: 00078\n",
      "[youtube] Extracting URL: https://www.youtube.com/watch?v=KmuNFdqpTOI\n",
      "[youtube] KmuNFdqpTOI: Downloading webpage\n",
      "[youtube] KmuNFdqpTOI: Downloading tv client config\n",
      "[youtube] KmuNFdqpTOI: Downloading player 5ae7d525\n",
      "[youtube] KmuNFdqpTOI: Downloading tv player API JSON\n",
      "[youtube] KmuNFdqpTOI: Downloading ios player API JSON\n",
      "[youtube] KmuNFdqpTOI: Downloading m3u8 information\n",
      "[info] KmuNFdqpTOI: Downloading 1 format(s): 140\n",
      "[download] Destination: id08314_9_10200_KmuNFdqpTOI_00078\n",
      "[download] 100% of    9.15MiB in 00:00:01 at 7.42MiB/s   \n",
      "[FixupM4a] Correcting container of \"id08314_9_10200_KmuNFdqpTOI_00078\"\n",
      "[ExtractAudio] Destination: id08314_9_10200_KmuNFdqpTOI_00078.mp3\n",
      "Deleting original file id08314_9_10200_KmuNFdqpTOI_00078 (pass -k to keep)\n",
      "Audio downloaded as id08314_9_10200_KmuNFdqpTOI_00078\n",
      "Trimmed audio saved as ../data/download_df_audio/id08314_9_10200_KmuNFdqpTOI_00078_cut.mp3\n",
      "Speaker: id08317, Video: 1SHh8wy_jWU, Txt file: 00014\n",
      "[youtube] Extracting URL: https://www.youtube.com/watch?v=1SHh8wy_jWU\n",
      "[youtube] 1SHh8wy_jWU: Downloading webpage\n",
      "[youtube] 1SHh8wy_jWU: Downloading tv client config\n",
      "[youtube] 1SHh8wy_jWU: Downloading player 5ae7d525\n",
      "[youtube] 1SHh8wy_jWU: Downloading tv player API JSON\n",
      "[youtube] 1SHh8wy_jWU: Downloading ios player API JSON\n",
      "[youtube] 1SHh8wy_jWU: Downloading m3u8 information\n",
      "[info] 1SHh8wy_jWU: Downloading 1 format(s): 140\n",
      "[download] Destination: id08317_2_38720_1SHh8wy_jWU_00014\n",
      "[download] 100% of    1.45MiB in 00:00:00 at 2.77MiB/s   \n",
      "[FixupM4a] Correcting container of \"id08317_2_38720_1SHh8wy_jWU_00014\"\n",
      "[ExtractAudio] Destination: id08317_2_38720_1SHh8wy_jWU_00014.mp3\n",
      "Deleting original file id08317_2_38720_1SHh8wy_jWU_00014 (pass -k to keep)\n",
      "Audio downloaded as id08317_2_38720_1SHh8wy_jWU_00014\n",
      "Trimmed audio saved as ../data/download_df_audio/id08317_2_38720_1SHh8wy_jWU_00014_cut.mp3\n",
      "Speaker: id08317, Video: pMS511Rdydk, Txt file: 00283\n"
     ]
    },
    {
     "name": "stderr",
     "output_type": "stream",
     "text": [
      "ERROR: [youtube] pMS511Rdydk: Video unavailable. This video is no longer available because the YouTube account associated with this video has been terminated.\n"
     ]
    },
    {
     "name": "stdout",
     "output_type": "stream",
     "text": [
      "Speaker: id08317, Video: U22rSMX_cm0, Txt file: 00127\n"
     ]
    },
    {
     "name": "stderr",
     "output_type": "stream",
     "text": [
      "ERROR: [youtube] U22rSMX_cm0: Video unavailable. This video is no longer available because the YouTube account associated with this video has been terminated.\n"
     ]
    },
    {
     "name": "stdout",
     "output_type": "stream",
     "text": [
      "Speaker: id08317, Video: pMS511Rdydk, Txt file: 00343\n"
     ]
    },
    {
     "name": "stderr",
     "output_type": "stream",
     "text": [
      "ERROR: [youtube] pMS511Rdydk: Video unavailable. This video is no longer available because the YouTube account associated with this video has been terminated.\n"
     ]
    },
    {
     "name": "stdout",
     "output_type": "stream",
     "text": [
      "Speaker: id08317, Video: wyfkOgAurLM, Txt file: 00417\n"
     ]
    },
    {
     "name": "stderr",
     "output_type": "stream",
     "text": [
      "ERROR: [youtube] wyfkOgAurLM: Video unavailable. This video is no longer available because the YouTube account associated with this video has been terminated.\n"
     ]
    },
    {
     "name": "stdout",
     "output_type": "stream",
     "text": [
      "Speaker: id08317, Video: pMS511Rdydk, Txt file: 00309\n"
     ]
    },
    {
     "name": "stderr",
     "output_type": "stream",
     "text": [
      "ERROR: [youtube] pMS511Rdydk: Video unavailable. This video is no longer available because the YouTube account associated with this video has been terminated.\n"
     ]
    },
    {
     "name": "stdout",
     "output_type": "stream",
     "text": [
      "Speaker: id08317, Video: U22rSMX_cm0, Txt file: 00146\n"
     ]
    },
    {
     "name": "stderr",
     "output_type": "stream",
     "text": [
      "ERROR: [youtube] U22rSMX_cm0: Video unavailable. This video is no longer available because the YouTube account associated with this video has been terminated.\n"
     ]
    },
    {
     "name": "stdout",
     "output_type": "stream",
     "text": [
      "Speaker: id08317, Video: pMS511Rdydk, Txt file: 00355\n"
     ]
    },
    {
     "name": "stderr",
     "output_type": "stream",
     "text": [
      "ERROR: [youtube] pMS511Rdydk: Video unavailable. This video is no longer available because the YouTube account associated with this video has been terminated.\n"
     ]
    },
    {
     "name": "stdout",
     "output_type": "stream",
     "text": [
      "Speaker: id08317, Video: wyfkOgAurLM, Txt file: 00460\n"
     ]
    },
    {
     "name": "stderr",
     "output_type": "stream",
     "text": [
      "ERROR: [youtube] wyfkOgAurLM: Video unavailable. This video is no longer available because the YouTube account associated with this video has been terminated.\n"
     ]
    },
    {
     "name": "stdout",
     "output_type": "stream",
     "text": [
      "Speaker: id08317, Video: pMS511Rdydk, Txt file: 00346\n"
     ]
    },
    {
     "name": "stderr",
     "output_type": "stream",
     "text": [
      "ERROR: [youtube] pMS511Rdydk: Video unavailable. This video is no longer available because the YouTube account associated with this video has been terminated.\n"
     ]
    },
    {
     "name": "stdout",
     "output_type": "stream",
     "text": [
      "Speaker: id08317, Video: pxgpjhETb0I, Txt file: 00369\n",
      "[youtube] Extracting URL: https://www.youtube.com/watch?v=pxgpjhETb0I\n",
      "[youtube] pxgpjhETb0I: Downloading webpage\n",
      "[youtube] pxgpjhETb0I: Downloading tv client config\n",
      "[youtube] pxgpjhETb0I: Downloading player 5ae7d525\n",
      "[youtube] pxgpjhETb0I: Downloading tv player API JSON\n",
      "[youtube] pxgpjhETb0I: Downloading ios player API JSON\n",
      "[youtube] pxgpjhETb0I: Downloading m3u8 information\n",
      "[info] pxgpjhETb0I: Downloading 1 format(s): 251\n",
      "[download] Destination: id08317_3_23760_pxgpjhETb0I_00369\n",
      "[download] 100% of    2.18MiB in 00:00:00 at 2.80MiB/s     \n",
      "[ExtractAudio] Destination: id08317_3_23760_pxgpjhETb0I_00369.mp3\n",
      "Deleting original file id08317_3_23760_pxgpjhETb0I_00369 (pass -k to keep)\n",
      "Audio downloaded as id08317_3_23760_pxgpjhETb0I_00369\n",
      "Trimmed audio saved as ../data/download_df_audio/id08317_3_23760_pxgpjhETb0I_00369_cut.mp3\n",
      "Speaker: id08317, Video: VmLf1aJWMAo, Txt file: 00171\n",
      "[youtube] Extracting URL: https://www.youtube.com/watch?v=VmLf1aJWMAo\n",
      "[youtube] VmLf1aJWMAo: Downloading webpage\n",
      "[youtube] VmLf1aJWMAo: Downloading tv client config\n",
      "[youtube] VmLf1aJWMAo: Downloading player 5ae7d525\n",
      "[youtube] VmLf1aJWMAo: Downloading tv player API JSON\n",
      "[youtube] VmLf1aJWMAo: Downloading ios player API JSON\n",
      "[youtube] VmLf1aJWMAo: Downloading m3u8 information\n",
      "[info] VmLf1aJWMAo: Downloading 1 format(s): 251\n",
      "[download] Destination: id08317_4_23520_VmLf1aJWMAo_00171\n",
      "[download] 100% of    5.85MiB in 00:00:02 at 2.88MiB/s   \n",
      "[ExtractAudio] Destination: id08317_4_23520_VmLf1aJWMAo_00171.mp3\n",
      "Deleting original file id08317_4_23520_VmLf1aJWMAo_00171 (pass -k to keep)\n",
      "Audio downloaded as id08317_4_23520_VmLf1aJWMAo_00171\n",
      "Trimmed audio saved as ../data/download_df_audio/id08317_4_23520_VmLf1aJWMAo_00171_cut.mp3\n",
      "Speaker: id08317, Video: 1PXg-mj3EAQ, Txt file: 00002\n",
      "[youtube] Extracting URL: https://www.youtube.com/watch?v=1PXg-mj3EAQ\n",
      "[youtube] 1PXg-mj3EAQ: Downloading webpage\n",
      "[youtube] 1PXg-mj3EAQ: Downloading tv client config\n",
      "[youtube] 1PXg-mj3EAQ: Downloading player 5ae7d525\n",
      "[youtube] 1PXg-mj3EAQ: Downloading tv player API JSON\n",
      "[youtube] 1PXg-mj3EAQ: Downloading ios player API JSON\n",
      "[youtube] 1PXg-mj3EAQ: Downloading m3u8 information\n",
      "[info] 1PXg-mj3EAQ: Downloading 1 format(s): 251\n",
      "[download] Destination: id08317_5_22480_1PXg-mj3EAQ_00002\n",
      "[download] 100% of    3.66MiB in 00:00:00 at 5.04MiB/s   \n",
      "[ExtractAudio] Destination: id08317_5_22480_1PXg-mj3EAQ_00002.mp3\n",
      "Deleting original file id08317_5_22480_1PXg-mj3EAQ_00002 (pass -k to keep)\n",
      "Audio downloaded as id08317_5_22480_1PXg-mj3EAQ_00002\n",
      "Trimmed audio saved as ../data/download_df_audio/id08317_5_22480_1PXg-mj3EAQ_00002_cut.mp3\n",
      "Speaker: id08317, Video: P-MN-2-P2R4, Txt file: 00110\n",
      "[youtube] Extracting URL: https://www.youtube.com/watch?v=P-MN-2-P2R4\n",
      "[youtube] P-MN-2-P2R4: Downloading webpage\n",
      "[youtube] P-MN-2-P2R4: Downloading tv client config\n",
      "[youtube] P-MN-2-P2R4: Downloading player 5ae7d525\n",
      "[youtube] P-MN-2-P2R4: Downloading tv player API JSON\n",
      "[youtube] P-MN-2-P2R4: Downloading ios player API JSON\n",
      "[youtube] P-MN-2-P2R4: Downloading m3u8 information\n",
      "[info] P-MN-2-P2R4: Downloading 1 format(s): 251\n",
      "[download] Destination: id08317_6_21640_P-MN-2-P2R4_00110\n",
      "[download] 100% of    1.12MiB in 00:00:00 at 2.02MiB/s   \n",
      "[ExtractAudio] Destination: id08317_6_21640_P-MN-2-P2R4_00110.mp3\n",
      "Deleting original file id08317_6_21640_P-MN-2-P2R4_00110 (pass -k to keep)\n",
      "Audio downloaded as id08317_6_21640_P-MN-2-P2R4_00110\n",
      "Trimmed audio saved as ../data/download_df_audio/id08317_6_21640_P-MN-2-P2R4_00110_cut.mp3\n",
      "Speaker: id08317, Video: wyfkOgAurLM, Txt file: 00494\n"
     ]
    },
    {
     "name": "stderr",
     "output_type": "stream",
     "text": [
      "ERROR: [youtube] wyfkOgAurLM: Video unavailable. This video is no longer available because the YouTube account associated with this video has been terminated.\n"
     ]
    },
    {
     "name": "stdout",
     "output_type": "stream",
     "text": [
      "Speaker: id08317, Video: U22rSMX_cm0, Txt file: 00154\n"
     ]
    },
    {
     "name": "stderr",
     "output_type": "stream",
     "text": [
      "ERROR: [youtube] U22rSMX_cm0: Video unavailable. This video is no longer available because the YouTube account associated with this video has been terminated.\n"
     ]
    },
    {
     "name": "stdout",
     "output_type": "stream",
     "text": [
      "Speaker: id08317, Video: pMS511Rdydk, Txt file: 00295\n"
     ]
    },
    {
     "name": "stderr",
     "output_type": "stream",
     "text": [
      "ERROR: [youtube] pMS511Rdydk: Video unavailable. This video is no longer available because the YouTube account associated with this video has been terminated.\n"
     ]
    },
    {
     "name": "stdout",
     "output_type": "stream",
     "text": [
      "Speaker: id08317, Video: 9msNQcSC8_o, Txt file: 00075\n",
      "[youtube] Extracting URL: https://www.youtube.com/watch?v=9msNQcSC8_o\n",
      "[youtube] 9msNQcSC8_o: Downloading webpage\n",
      "[youtube] 9msNQcSC8_o: Downloading tv client config\n",
      "[youtube] 9msNQcSC8_o: Downloading player 5ae7d525\n",
      "[youtube] 9msNQcSC8_o: Downloading tv player API JSON\n",
      "[youtube] 9msNQcSC8_o: Downloading ios player API JSON\n",
      "[youtube] 9msNQcSC8_o: Downloading m3u8 information\n",
      "[info] 9msNQcSC8_o: Downloading 1 format(s): 251\n",
      "[download] Destination: id08317_7_20360_9msNQcSC8_o_00075\n",
      "[download] 100% of    2.92MiB in 00:00:00 at 4.59MiB/s   \n",
      "[ExtractAudio] Destination: id08317_7_20360_9msNQcSC8_o_00075.mp3\n",
      "Deleting original file id08317_7_20360_9msNQcSC8_o_00075 (pass -k to keep)\n",
      "Audio downloaded as id08317_7_20360_9msNQcSC8_o_00075\n",
      "Trimmed audio saved as ../data/download_df_audio/id08317_7_20360_9msNQcSC8_o_00075_cut.mp3\n",
      "Speaker: id08317, Video: pMS511Rdydk, Txt file: 00276\n"
     ]
    },
    {
     "name": "stderr",
     "output_type": "stream",
     "text": [
      "ERROR: [youtube] pMS511Rdydk: Video unavailable. This video is no longer available because the YouTube account associated with this video has been terminated.\n"
     ]
    },
    {
     "name": "stdout",
     "output_type": "stream",
     "text": [
      "Speaker: id08317, Video: W1Se25Nb4bw, Txt file: 00185\n",
      "[youtube] Extracting URL: https://www.youtube.com/watch?v=W1Se25Nb4bw\n",
      "[youtube] W1Se25Nb4bw: Downloading webpage\n",
      "[youtube] W1Se25Nb4bw: Downloading tv client config\n",
      "[youtube] W1Se25Nb4bw: Downloading player 5ae7d525\n",
      "[youtube] W1Se25Nb4bw: Downloading tv player API JSON\n",
      "[youtube] W1Se25Nb4bw: Downloading ios player API JSON\n",
      "[youtube] W1Se25Nb4bw: Downloading m3u8 information\n",
      "[info] W1Se25Nb4bw: Downloading 1 format(s): 251\n",
      "[download] Destination: id08317_8_18880_W1Se25Nb4bw_00185\n",
      "[download] 100% of    9.93MiB in 00:00:01 at 9.90MiB/s   \n",
      "[ExtractAudio] Destination: id08317_8_18880_W1Se25Nb4bw_00185.mp3\n",
      "Deleting original file id08317_8_18880_W1Se25Nb4bw_00185 (pass -k to keep)\n",
      "Audio downloaded as id08317_8_18880_W1Se25Nb4bw_00185\n",
      "Trimmed audio saved as ../data/download_df_audio/id08317_8_18880_W1Se25Nb4bw_00185_cut.mp3\n",
      "Speaker: id08317, Video: pxgpjhETb0I, Txt file: 00366\n",
      "[youtube] Extracting URL: https://www.youtube.com/watch?v=pxgpjhETb0I\n",
      "[youtube] pxgpjhETb0I: Downloading webpage\n",
      "[youtube] pxgpjhETb0I: Downloading tv client config\n",
      "[youtube] pxgpjhETb0I: Downloading player 5ae7d525\n",
      "[youtube] pxgpjhETb0I: Downloading tv player API JSON\n",
      "[youtube] pxgpjhETb0I: Downloading ios player API JSON\n",
      "[youtube] pxgpjhETb0I: Downloading m3u8 information\n",
      "[info] pxgpjhETb0I: Downloading 1 format(s): 251\n",
      "[download] Destination: id08317_9_18800_pxgpjhETb0I_00366\n",
      "[download] 100% of    2.18MiB in 00:00:00 at 3.51MiB/s   \n",
      "[ExtractAudio] Destination: id08317_9_18800_pxgpjhETb0I_00366.mp3\n",
      "Deleting original file id08317_9_18800_pxgpjhETb0I_00366 (pass -k to keep)\n",
      "Audio downloaded as id08317_9_18800_pxgpjhETb0I_00366\n",
      "Trimmed audio saved as ../data/download_df_audio/id08317_9_18800_pxgpjhETb0I_00366_cut.mp3\n",
      "Speaker: id08348, Video: UQKpJHKe-OI, Txt file: 00264\n"
     ]
    },
    {
     "name": "stderr",
     "output_type": "stream",
     "text": [
      "ERROR: [youtube] UQKpJHKe-OI: Video unavailable\n"
     ]
    },
    {
     "name": "stdout",
     "output_type": "stream",
     "text": [
      "Speaker: id08348, Video: zhgf2JtNefA, Txt file: 00499\n",
      "[youtube] Extracting URL: https://www.youtube.com/watch?v=zhgf2JtNefA\n",
      "[youtube] zhgf2JtNefA: Downloading webpage\n",
      "[youtube] zhgf2JtNefA: Downloading tv client config\n",
      "[youtube] zhgf2JtNefA: Downloading player 5ae7d525\n",
      "[youtube] zhgf2JtNefA: Downloading tv player API JSON\n",
      "[youtube] zhgf2JtNefA: Downloading ios player API JSON\n",
      "[youtube] zhgf2JtNefA: Downloading m3u8 information\n",
      "[info] zhgf2JtNefA: Downloading 1 format(s): 140\n",
      "[download] Destination: id08348_2_22680_zhgf2JtNefA_00499\n",
      "[download] 100% of    2.41MiB in 00:00:00 at 6.56MiB/s   \n",
      "[FixupM4a] Correcting container of \"id08348_2_22680_zhgf2JtNefA_00499\"\n",
      "[ExtractAudio] Destination: id08348_2_22680_zhgf2JtNefA_00499.mp3\n",
      "Deleting original file id08348_2_22680_zhgf2JtNefA_00499 (pass -k to keep)\n",
      "Audio downloaded as id08348_2_22680_zhgf2JtNefA_00499\n",
      "Trimmed audio saved as ../data/download_df_audio/id08348_2_22680_zhgf2JtNefA_00499_cut.mp3\n",
      "Speaker: id08348, Video: 9cyC7vcNtSc, Txt file: 00079\n",
      "[youtube] Extracting URL: https://www.youtube.com/watch?v=9cyC7vcNtSc\n",
      "[youtube] 9cyC7vcNtSc: Downloading webpage\n",
      "[youtube] 9cyC7vcNtSc: Downloading tv client config\n",
      "[youtube] 9cyC7vcNtSc: Downloading player 5ae7d525\n",
      "[youtube] 9cyC7vcNtSc: Downloading tv player API JSON\n",
      "[youtube] 9cyC7vcNtSc: Downloading ios player API JSON\n",
      "[youtube] 9cyC7vcNtSc: Downloading m3u8 information\n",
      "[info] 9cyC7vcNtSc: Downloading 1 format(s): 251\n",
      "[download] Destination: id08348_3_22480_9cyC7vcNtSc_00079\n",
      "[download] 100% of    4.38MiB in 00:00:02 at 2.08MiB/s   \n",
      "[ExtractAudio] Destination: id08348_3_22480_9cyC7vcNtSc_00079.mp3\n",
      "Deleting original file id08348_3_22480_9cyC7vcNtSc_00079 (pass -k to keep)\n",
      "Audio downloaded as id08348_3_22480_9cyC7vcNtSc_00079\n",
      "Trimmed audio saved as ../data/download_df_audio/id08348_3_22480_9cyC7vcNtSc_00079_cut.mp3\n",
      "Speaker: id08348, Video: fUFPYRTAK3A, Txt file: 00322\n",
      "[youtube] Extracting URL: https://www.youtube.com/watch?v=fUFPYRTAK3A\n",
      "[youtube] fUFPYRTAK3A: Downloading webpage\n",
      "[youtube] fUFPYRTAK3A: Downloading tv client config\n",
      "[youtube] fUFPYRTAK3A: Downloading player 5ae7d525\n",
      "[youtube] fUFPYRTAK3A: Downloading tv player API JSON\n",
      "[youtube] fUFPYRTAK3A: Downloading ios player API JSON\n",
      "[youtube] fUFPYRTAK3A: Downloading m3u8 information\n",
      "[info] fUFPYRTAK3A: Downloading 1 format(s): 251\n",
      "[download] Destination: id08348_4_22240_fUFPYRTAK3A_00322\n",
      "[download] 100% of    3.83MiB in 00:00:00 at 9.40MiB/s   \n",
      "[ExtractAudio] Destination: id08348_4_22240_fUFPYRTAK3A_00322.mp3\n",
      "Deleting original file id08348_4_22240_fUFPYRTAK3A_00322 (pass -k to keep)\n",
      "Audio downloaded as id08348_4_22240_fUFPYRTAK3A_00322\n",
      "Trimmed audio saved as ../data/download_df_audio/id08348_4_22240_fUFPYRTAK3A_00322_cut.mp3\n",
      "Speaker: id08348, Video: _strxlOO8sk, Txt file: 00296\n"
     ]
    },
    {
     "name": "stderr",
     "output_type": "stream",
     "text": [
      "ERROR: [youtube] _strxlOO8sk: Video unavailable\n"
     ]
    },
    {
     "name": "stdout",
     "output_type": "stream",
     "text": [
      "Speaker: id08348, Video: PJvPD2u3YBI, Txt file: 00237\n",
      "[youtube] Extracting URL: https://www.youtube.com/watch?v=PJvPD2u3YBI\n",
      "[youtube] PJvPD2u3YBI: Downloading webpage\n",
      "[youtube] PJvPD2u3YBI: Downloading tv client config\n",
      "[youtube] PJvPD2u3YBI: Downloading player 5ae7d525\n",
      "[youtube] PJvPD2u3YBI: Downloading tv player API JSON\n",
      "[youtube] PJvPD2u3YBI: Downloading ios player API JSON\n",
      "[youtube] PJvPD2u3YBI: Downloading m3u8 information\n",
      "[info] PJvPD2u3YBI: Downloading 1 format(s): 140\n",
      "[download] Destination: id08348_5_21040_PJvPD2u3YBI_00237\n",
      "[download] 100% of    8.20MiB in 00:00:01 at 5.29MiB/s   \n",
      "[FixupM4a] Correcting container of \"id08348_5_21040_PJvPD2u3YBI_00237\"\n",
      "[ExtractAudio] Destination: id08348_5_21040_PJvPD2u3YBI_00237.mp3\n",
      "Deleting original file id08348_5_21040_PJvPD2u3YBI_00237 (pass -k to keep)\n",
      "Audio downloaded as id08348_5_21040_PJvPD2u3YBI_00237\n",
      "Trimmed audio saved as ../data/download_df_audio/id08348_5_21040_PJvPD2u3YBI_00237_cut.mp3\n",
      "Speaker: id08348, Video: iryrLLEKCnY, Txt file: 00406\n"
     ]
    },
    {
     "name": "stderr",
     "output_type": "stream",
     "text": [
      "ERROR: [youtube] iryrLLEKCnY: Video unavailable. This video is no longer available because the YouTube account associated with this video has been terminated.\n"
     ]
    },
    {
     "name": "stdout",
     "output_type": "stream",
     "text": [
      "Speaker: id08348, Video: iryrLLEKCnY, Txt file: 00349\n"
     ]
    },
    {
     "name": "stderr",
     "output_type": "stream",
     "text": [
      "ERROR: [youtube] iryrLLEKCnY: Video unavailable. This video is no longer available because the YouTube account associated with this video has been terminated.\n"
     ]
    },
    {
     "name": "stdout",
     "output_type": "stream",
     "text": [
      "Speaker: id08348, Video: iryrLLEKCnY, Txt file: 00351\n"
     ]
    },
    {
     "name": "stderr",
     "output_type": "stream",
     "text": [
      "ERROR: [youtube] iryrLLEKCnY: Video unavailable. This video is no longer available because the YouTube account associated with this video has been terminated.\n"
     ]
    },
    {
     "name": "stdout",
     "output_type": "stream",
     "text": [
      "Speaker: id08348, Video: l7TgLHFd5hY, Txt file: 00420\n",
      "[youtube] Extracting URL: https://www.youtube.com/watch?v=l7TgLHFd5hY\n",
      "[youtube] l7TgLHFd5hY: Downloading webpage\n",
      "[youtube] l7TgLHFd5hY: Downloading tv client config\n",
      "[youtube] l7TgLHFd5hY: Downloading player 5ae7d525\n",
      "[youtube] l7TgLHFd5hY: Downloading tv player API JSON\n",
      "[youtube] l7TgLHFd5hY: Downloading ios player API JSON\n",
      "[youtube] l7TgLHFd5hY: Downloading m3u8 information\n",
      "[info] l7TgLHFd5hY: Downloading 1 format(s): 251\n",
      "[download] Destination: id08348_6_19600_l7TgLHFd5hY_00420\n",
      "[download] 100% of    7.04MiB in 00:00:03 at 1.90MiB/s   \n",
      "[ExtractAudio] Destination: id08348_6_19600_l7TgLHFd5hY_00420.mp3\n",
      "Deleting original file id08348_6_19600_l7TgLHFd5hY_00420 (pass -k to keep)\n",
      "Audio downloaded as id08348_6_19600_l7TgLHFd5hY_00420\n",
      "Trimmed audio saved as ../data/download_df_audio/id08348_6_19600_l7TgLHFd5hY_00420_cut.mp3\n",
      "Speaker: id08348, Video: i6SOG4hq_7g, Txt file: 00331\n",
      "[youtube] Extracting URL: https://www.youtube.com/watch?v=i6SOG4hq_7g\n",
      "[youtube] i6SOG4hq_7g: Downloading webpage\n",
      "[youtube] i6SOG4hq_7g: Downloading tv client config\n",
      "[youtube] i6SOG4hq_7g: Downloading player 5ae7d525\n",
      "[youtube] i6SOG4hq_7g: Downloading tv player API JSON\n",
      "[youtube] i6SOG4hq_7g: Downloading ios player API JSON\n",
      "[youtube] i6SOG4hq_7g: Downloading m3u8 information\n",
      "[info] i6SOG4hq_7g: Downloading 1 format(s): 140\n",
      "[download] Destination: id08348_7_18320_i6SOG4hq_7g_00331\n",
      "[download] 100% of    4.84MiB in 00:00:01 at 4.70MiB/s   \n",
      "[FixupM4a] Correcting container of \"id08348_7_18320_i6SOG4hq_7g_00331\"\n",
      "[ExtractAudio] Destination: id08348_7_18320_i6SOG4hq_7g_00331.mp3\n",
      "Deleting original file id08348_7_18320_i6SOG4hq_7g_00331 (pass -k to keep)\n",
      "Audio downloaded as id08348_7_18320_i6SOG4hq_7g_00331\n",
      "Trimmed audio saved as ../data/download_df_audio/id08348_7_18320_i6SOG4hq_7g_00331_cut.mp3\n",
      "Speaker: id08348, Video: 5HHPphIqUY8, Txt file: 00027\n"
     ]
    },
    {
     "name": "stderr",
     "output_type": "stream",
     "text": [
      "ERROR: [youtube] 5HHPphIqUY8: Private video. Sign in if you've been granted access to this video. Use --cookies-from-browser or --cookies for the authentication. See  https://github.com/yt-dlp/yt-dlp/wiki/FAQ#how-do-i-pass-cookies-to-yt-dlp  for how to manually pass cookies. Also see  https://github.com/yt-dlp/yt-dlp/wiki/Extractors#exporting-youtube-cookies  for tips on effectively exporting YouTube cookies\n"
     ]
    },
    {
     "name": "stdout",
     "output_type": "stream",
     "text": [
      "Speaker: id08348, Video: Cuw7_lrgtoU, Txt file: 00108\n",
      "[youtube] Extracting URL: https://www.youtube.com/watch?v=Cuw7_lrgtoU\n",
      "[youtube] Cuw7_lrgtoU: Downloading webpage\n",
      "[youtube] Cuw7_lrgtoU: Downloading tv client config\n",
      "[youtube] Cuw7_lrgtoU: Downloading player 5ae7d525\n",
      "[youtube] Cuw7_lrgtoU: Downloading tv player API JSON\n",
      "[youtube] Cuw7_lrgtoU: Downloading ios player API JSON\n",
      "[youtube] Cuw7_lrgtoU: Downloading m3u8 information\n",
      "[info] Cuw7_lrgtoU: Downloading 1 format(s): 251\n",
      "[download] Destination: id08348_8_16920_Cuw7_lrgtoU_00108\n",
      "[download] 100% of    6.30MiB in 00:00:00 at 9.49MiB/s   \n",
      "[ExtractAudio] Destination: id08348_8_16920_Cuw7_lrgtoU_00108.mp3\n",
      "Deleting original file id08348_8_16920_Cuw7_lrgtoU_00108 (pass -k to keep)\n",
      "Audio downloaded as id08348_8_16920_Cuw7_lrgtoU_00108\n",
      "Trimmed audio saved as ../data/download_df_audio/id08348_8_16920_Cuw7_lrgtoU_00108_cut.mp3\n",
      "Speaker: id08348, Video: w7dq6ctZbS8, Txt file: 00486\n",
      "[youtube] Extracting URL: https://www.youtube.com/watch?v=w7dq6ctZbS8\n",
      "[youtube] w7dq6ctZbS8: Downloading webpage\n",
      "[youtube] w7dq6ctZbS8: Downloading tv client config\n",
      "[youtube] w7dq6ctZbS8: Downloading player 5ae7d525\n",
      "[youtube] w7dq6ctZbS8: Downloading tv player API JSON\n",
      "[youtube] w7dq6ctZbS8: Downloading ios player API JSON\n",
      "[youtube] w7dq6ctZbS8: Downloading m3u8 information\n",
      "[info] w7dq6ctZbS8: Downloading 1 format(s): 140\n",
      "[download] Destination: id08348_9_16840_w7dq6ctZbS8_00486\n",
      "[download] 100% of    4.95MiB in 00:00:01 at 2.87MiB/s   \n",
      "[FixupM4a] Correcting container of \"id08348_9_16840_w7dq6ctZbS8_00486\"\n",
      "[ExtractAudio] Destination: id08348_9_16840_w7dq6ctZbS8_00486.mp3\n",
      "Deleting original file id08348_9_16840_w7dq6ctZbS8_00486 (pass -k to keep)\n",
      "Audio downloaded as id08348_9_16840_w7dq6ctZbS8_00486\n",
      "Trimmed audio saved as ../data/download_df_audio/id08348_9_16840_w7dq6ctZbS8_00486_cut.mp3\n",
      "Speaker: id08381, Video: 9TMiWI11rcY, Txt file: 00017\n",
      "[youtube] Extracting URL: https://www.youtube.com/watch?v=9TMiWI11rcY\n",
      "[youtube] 9TMiWI11rcY: Downloading webpage\n",
      "[youtube] 9TMiWI11rcY: Downloading tv client config\n",
      "[youtube] 9TMiWI11rcY: Downloading player 5ae7d525\n",
      "[youtube] 9TMiWI11rcY: Downloading tv player API JSON\n",
      "[youtube] 9TMiWI11rcY: Downloading ios player API JSON\n",
      "[youtube] 9TMiWI11rcY: Downloading m3u8 information\n",
      "[info] 9TMiWI11rcY: Downloading 1 format(s): 140\n",
      "[download] Destination: id08381_2_19600_9TMiWI11rcY_00017\n",
      "[download] 100% of    2.77MiB in 00:00:00 at 4.65MiB/s   \n",
      "[FixupM4a] Correcting container of \"id08381_2_19600_9TMiWI11rcY_00017\"\n",
      "[ExtractAudio] Destination: id08381_2_19600_9TMiWI11rcY_00017.mp3\n",
      "Deleting original file id08381_2_19600_9TMiWI11rcY_00017 (pass -k to keep)\n",
      "Audio downloaded as id08381_2_19600_9TMiWI11rcY_00017\n",
      "Trimmed audio saved as ../data/download_df_audio/id08381_2_19600_9TMiWI11rcY_00017_cut.mp3\n",
      "Speaker: id08381, Video: OldqjDj1QFU, Txt file: 00131\n",
      "[youtube] Extracting URL: https://www.youtube.com/watch?v=OldqjDj1QFU\n",
      "[youtube] OldqjDj1QFU: Downloading webpage\n",
      "[youtube] OldqjDj1QFU: Downloading tv client config\n",
      "[youtube] OldqjDj1QFU: Downloading player 5ae7d525\n",
      "[youtube] OldqjDj1QFU: Downloading tv player API JSON\n",
      "[youtube] OldqjDj1QFU: Downloading ios player API JSON\n",
      "[youtube] OldqjDj1QFU: Downloading m3u8 information\n",
      "[info] OldqjDj1QFU: Downloading 1 format(s): 140\n",
      "[download] Destination: id08381_3_16000_OldqjDj1QFU_00131\n",
      "[download] 100% of    9.39MiB in 00:00:02 at 3.33MiB/s     \n",
      "[FixupM4a] Correcting container of \"id08381_3_16000_OldqjDj1QFU_00131\"\n",
      "[ExtractAudio] Destination: id08381_3_16000_OldqjDj1QFU_00131.mp3\n",
      "Deleting original file id08381_3_16000_OldqjDj1QFU_00131 (pass -k to keep)\n",
      "Audio downloaded as id08381_3_16000_OldqjDj1QFU_00131\n",
      "Trimmed audio saved as ../data/download_df_audio/id08381_3_16000_OldqjDj1QFU_00131_cut.mp3\n",
      "Speaker: id08381, Video: 9TMiWI11rcY, Txt file: 00024\n",
      "[youtube] Extracting URL: https://www.youtube.com/watch?v=9TMiWI11rcY\n",
      "[youtube] 9TMiWI11rcY: Downloading webpage\n",
      "[youtube] 9TMiWI11rcY: Downloading tv client config\n",
      "[youtube] 9TMiWI11rcY: Downloading player 5ae7d525\n",
      "[youtube] 9TMiWI11rcY: Downloading tv player API JSON\n",
      "[youtube] 9TMiWI11rcY: Downloading ios player API JSON\n",
      "[youtube] 9TMiWI11rcY: Downloading m3u8 information\n",
      "[info] 9TMiWI11rcY: Downloading 1 format(s): 140\n",
      "[download] Destination: id08381_4_15800_9TMiWI11rcY_00024\n",
      "[download] 100% of    2.77MiB in 00:00:00 at 9.59MiB/s   \n",
      "[FixupM4a] Correcting container of \"id08381_4_15800_9TMiWI11rcY_00024\"\n",
      "[ExtractAudio] Destination: id08381_4_15800_9TMiWI11rcY_00024.mp3\n",
      "Deleting original file id08381_4_15800_9TMiWI11rcY_00024 (pass -k to keep)\n",
      "Audio downloaded as id08381_4_15800_9TMiWI11rcY_00024\n",
      "Trimmed audio saved as ../data/download_df_audio/id08381_4_15800_9TMiWI11rcY_00024_cut.mp3\n",
      "Speaker: id08381, Video: 9ilyvrQex1c, Txt file: 00043\n",
      "[youtube] Extracting URL: https://www.youtube.com/watch?v=9ilyvrQex1c\n",
      "[youtube] 9ilyvrQex1c: Downloading webpage\n",
      "[youtube] 9ilyvrQex1c: Downloading tv client config\n",
      "[youtube] 9ilyvrQex1c: Downloading player 5ae7d525\n",
      "[youtube] 9ilyvrQex1c: Downloading tv player API JSON\n",
      "[youtube] 9ilyvrQex1c: Downloading ios player API JSON\n",
      "[youtube] 9ilyvrQex1c: Downloading m3u8 information\n",
      "[info] 9ilyvrQex1c: Downloading 1 format(s): 251\n",
      "[download] Destination: id08381_5_15760_9ilyvrQex1c_00043\n",
      "[download] 100% of    2.28MiB in 00:00:00 at 3.81MiB/s   \n",
      "[ExtractAudio] Destination: id08381_5_15760_9ilyvrQex1c_00043.mp3\n",
      "Deleting original file id08381_5_15760_9ilyvrQex1c_00043 (pass -k to keep)\n",
      "Audio downloaded as id08381_5_15760_9ilyvrQex1c_00043\n",
      "Trimmed audio saved as ../data/download_df_audio/id08381_5_15760_9ilyvrQex1c_00043_cut.mp3\n",
      "Speaker: id08381, Video: xfw269KmnQw, Txt file: 00283\n",
      "[youtube] Extracting URL: https://www.youtube.com/watch?v=xfw269KmnQw\n",
      "[youtube] xfw269KmnQw: Downloading webpage\n",
      "[youtube] xfw269KmnQw: Downloading tv client config\n",
      "[youtube] xfw269KmnQw: Downloading player 5ae7d525\n",
      "[youtube] xfw269KmnQw: Downloading tv player API JSON\n",
      "[youtube] xfw269KmnQw: Downloading ios player API JSON\n",
      "[youtube] xfw269KmnQw: Downloading MPD manifest\n",
      "[youtube] xfw269KmnQw: Downloading m3u8 information\n",
      "[youtube] xfw269KmnQw: Downloading MPD manifest\n",
      "[info] xfw269KmnQw: Downloading 1 format(s): 251\n",
      "[download] Destination: id08381_6_14440_xfw269KmnQw_00283\n",
      "[download] 100% of   23.77MiB in 00:00:06 at 3.64MiB/s     \n",
      "[ExtractAudio] Destination: id08381_6_14440_xfw269KmnQw_00283.mp3\n",
      "Deleting original file id08381_6_14440_xfw269KmnQw_00283 (pass -k to keep)\n",
      "Audio downloaded as id08381_6_14440_xfw269KmnQw_00283\n",
      "Trimmed audio saved as ../data/download_df_audio/id08381_6_14440_xfw269KmnQw_00283_cut.mp3\n",
      "Speaker: id08381, Video: oRICmsfkPUY, Txt file: 00221\n",
      "[youtube] Extracting URL: https://www.youtube.com/watch?v=oRICmsfkPUY\n",
      "[youtube] oRICmsfkPUY: Downloading webpage\n",
      "[youtube] oRICmsfkPUY: Downloading tv client config\n",
      "[youtube] oRICmsfkPUY: Downloading player 5ae7d525\n",
      "[youtube] oRICmsfkPUY: Downloading tv player API JSON\n",
      "[youtube] oRICmsfkPUY: Downloading ios player API JSON\n",
      "[youtube] oRICmsfkPUY: Downloading m3u8 information\n",
      "[info] oRICmsfkPUY: Downloading 1 format(s): 140\n",
      "[download] Destination: id08381_7_14240_oRICmsfkPUY_00221\n",
      "[download] 100% of  906.03KiB in 00:00:00 at 2.96MiB/s     \n",
      "[FixupM4a] Correcting container of \"id08381_7_14240_oRICmsfkPUY_00221\"\n",
      "[ExtractAudio] Destination: id08381_7_14240_oRICmsfkPUY_00221.mp3\n",
      "Deleting original file id08381_7_14240_oRICmsfkPUY_00221 (pass -k to keep)\n",
      "Audio downloaded as id08381_7_14240_oRICmsfkPUY_00221\n",
      "Trimmed audio saved as ../data/download_df_audio/id08381_7_14240_oRICmsfkPUY_00221_cut.mp3\n",
      "Speaker: id08381, Video: NY88gcqt9H4, Txt file: 00122\n",
      "[youtube] Extracting URL: https://www.youtube.com/watch?v=NY88gcqt9H4\n",
      "[youtube] NY88gcqt9H4: Downloading webpage\n",
      "[youtube] NY88gcqt9H4: Downloading tv client config\n",
      "[youtube] NY88gcqt9H4: Downloading player 5ae7d525\n",
      "[youtube] NY88gcqt9H4: Downloading tv player API JSON\n",
      "[youtube] NY88gcqt9H4: Downloading ios player API JSON\n",
      "[youtube] NY88gcqt9H4: Downloading m3u8 information\n",
      "[info] NY88gcqt9H4: Downloading 1 format(s): 140\n",
      "[download] Destination: id08381_8_14240_NY88gcqt9H4_00122\n",
      "[download] 100% of   10.45MiB in 00:00:04 at 2.34MiB/s     \n",
      "[FixupM4a] Correcting container of \"id08381_8_14240_NY88gcqt9H4_00122\"\n",
      "[ExtractAudio] Destination: id08381_8_14240_NY88gcqt9H4_00122.mp3\n",
      "Deleting original file id08381_8_14240_NY88gcqt9H4_00122 (pass -k to keep)\n",
      "Audio downloaded as id08381_8_14240_NY88gcqt9H4_00122\n",
      "Trimmed audio saved as ../data/download_df_audio/id08381_8_14240_NY88gcqt9H4_00122_cut.mp3\n",
      "Speaker: id08381, Video: RLoYKEPH4vo, Txt file: 00176\n"
     ]
    },
    {
     "name": "stderr",
     "output_type": "stream",
     "text": [
      "ERROR: [youtube] RLoYKEPH4vo: Video unavailable\n"
     ]
    },
    {
     "name": "stdout",
     "output_type": "stream",
     "text": [
      "Speaker: id08381, Video: 0vYzGu2X68s, Txt file: 00011\n",
      "[youtube] Extracting URL: https://www.youtube.com/watch?v=0vYzGu2X68s\n",
      "[youtube] 0vYzGu2X68s: Downloading webpage\n",
      "[youtube] 0vYzGu2X68s: Downloading tv client config\n",
      "[youtube] 0vYzGu2X68s: Downloading player 5ae7d525\n",
      "[youtube] 0vYzGu2X68s: Downloading tv player API JSON\n",
      "[youtube] 0vYzGu2X68s: Downloading ios player API JSON\n",
      "[youtube] 0vYzGu2X68s: Downloading m3u8 information\n",
      "[info] 0vYzGu2X68s: Downloading 1 format(s): 140\n",
      "[download] Destination: id08381_9_13800_0vYzGu2X68s_00011\n",
      "[download] 100% of    3.17MiB in 00:00:01 at 2.15MiB/s   \n",
      "[FixupM4a] Correcting container of \"id08381_9_13800_0vYzGu2X68s_00011\"\n",
      "[ExtractAudio] Destination: id08381_9_13800_0vYzGu2X68s_00011.mp3\n",
      "Deleting original file id08381_9_13800_0vYzGu2X68s_00011 (pass -k to keep)\n",
      "Audio downloaded as id08381_9_13800_0vYzGu2X68s_00011\n",
      "Trimmed audio saved as ../data/download_df_audio/id08381_9_13800_0vYzGu2X68s_00011_cut.mp3\n",
      "Speaker: id08467, Video: p8SfL7axEKY, Txt file: 00170\n"
     ]
    },
    {
     "name": "stderr",
     "output_type": "stream",
     "text": [
      "ERROR: [youtube] p8SfL7axEKY: Video unavailable. This video is no longer available because the YouTube account associated with this video has been terminated.\n"
     ]
    },
    {
     "name": "stdout",
     "output_type": "stream",
     "text": [
      "Speaker: id08467, Video: X-NmGbZFmBs, Txt file: 00093\n",
      "[youtube] Extracting URL: https://www.youtube.com/watch?v=X-NmGbZFmBs\n",
      "[youtube] X-NmGbZFmBs: Downloading webpage\n",
      "[youtube] X-NmGbZFmBs: Downloading tv client config\n",
      "[youtube] X-NmGbZFmBs: Downloading player 5ae7d525\n",
      "[youtube] X-NmGbZFmBs: Downloading tv player API JSON\n",
      "[youtube] X-NmGbZFmBs: Downloading ios player API JSON\n",
      "[youtube] X-NmGbZFmBs: Downloading m3u8 information\n",
      "[info] X-NmGbZFmBs: Downloading 1 format(s): 251\n",
      "[download] Destination: id08467_2_15640_X-NmGbZFmBs_00093\n",
      "[download] 100% of    9.55MiB in 00:00:00 at 10.33MiB/s  \n",
      "[ExtractAudio] Destination: id08467_2_15640_X-NmGbZFmBs_00093.mp3\n",
      "Deleting original file id08467_2_15640_X-NmGbZFmBs_00093 (pass -k to keep)\n",
      "Audio downloaded as id08467_2_15640_X-NmGbZFmBs_00093\n",
      "Trimmed audio saved as ../data/download_df_audio/id08467_2_15640_X-NmGbZFmBs_00093_cut.mp3\n",
      "Speaker: id08467, Video: ZWbiR8M-gm0, Txt file: 00143\n"
     ]
    },
    {
     "name": "stderr",
     "output_type": "stream",
     "text": [
      "ERROR: [youtube] ZWbiR8M-gm0: Video unavailable. This video is no longer available because the YouTube account associated with this video has been terminated.\n"
     ]
    },
    {
     "name": "stdout",
     "output_type": "stream",
     "text": [
      "Speaker: id08467, Video: XYq5fk69dIY, Txt file: 00103\n"
     ]
    },
    {
     "name": "stderr",
     "output_type": "stream",
     "text": [
      "ERROR: [youtube] XYq5fk69dIY: Video unavailable. This video contains content from Worldwide Pants Incorporated, who has blocked it on copyright grounds\n"
     ]
    },
    {
     "name": "stdout",
     "output_type": "stream",
     "text": [
      "Speaker: id08467, Video: dmQt9pzcOh8, Txt file: 00153\n"
     ]
    },
    {
     "name": "stderr",
     "output_type": "stream",
     "text": [
      "ERROR: [youtube] dmQt9pzcOh8: Video unavailable. This video contains content from WBTV, who has blocked it on copyright grounds\n"
     ]
    },
    {
     "name": "stdout",
     "output_type": "stream",
     "text": [
      "Speaker: id08467, Video: 5TI8E4p_U6A, Txt file: 00038\n",
      "[youtube] Extracting URL: https://www.youtube.com/watch?v=5TI8E4p_U6A\n",
      "[youtube] 5TI8E4p_U6A: Downloading webpage\n",
      "[youtube] 5TI8E4p_U6A: Downloading tv client config\n",
      "[youtube] 5TI8E4p_U6A: Downloading player 5ae7d525\n",
      "[youtube] 5TI8E4p_U6A: Downloading tv player API JSON\n",
      "[youtube] 5TI8E4p_U6A: Downloading ios player API JSON\n",
      "[youtube] 5TI8E4p_U6A: Downloading m3u8 information\n",
      "[info] 5TI8E4p_U6A: Downloading 1 format(s): 251\n",
      "[download] Destination: id08467_3_13920_5TI8E4p_U6A_00038\n",
      "[download] 100% of    9.00MiB in 00:00:00 at 10.75MiB/s  \n",
      "[ExtractAudio] Destination: id08467_3_13920_5TI8E4p_U6A_00038.mp3\n",
      "Deleting original file id08467_3_13920_5TI8E4p_U6A_00038 (pass -k to keep)\n",
      "Audio downloaded as id08467_3_13920_5TI8E4p_U6A_00038\n",
      "Trimmed audio saved as ../data/download_df_audio/id08467_3_13920_5TI8E4p_U6A_00038_cut.mp3\n",
      "Speaker: id08467, Video: ZWbiR8M-gm0, Txt file: 00141\n"
     ]
    },
    {
     "name": "stderr",
     "output_type": "stream",
     "text": [
      "ERROR: [youtube] ZWbiR8M-gm0: Video unavailable. This video is no longer available because the YouTube account associated with this video has been terminated.\n"
     ]
    },
    {
     "name": "stdout",
     "output_type": "stream",
     "text": [
      "Speaker: id08467, Video: bYWOYbTBQc4, Txt file: 00152\n"
     ]
    },
    {
     "name": "stderr",
     "output_type": "stream",
     "text": [
      "ERROR: [youtube] bYWOYbTBQc4: Video unavailable. This video contains content from Worldwide Pants Incorporated, who has blocked it on copyright grounds\n"
     ]
    },
    {
     "name": "stdout",
     "output_type": "stream",
     "text": [
      "Speaker: id08467, Video: 1Suv2T-PU1Y, Txt file: 00009\n"
     ]
    },
    {
     "name": "stderr",
     "output_type": "stream",
     "text": [
      "ERROR: [youtube] 1Suv2T-PU1Y: Video unavailable. This video is no longer available because the YouTube account associated with this video has been terminated.\n"
     ]
    },
    {
     "name": "stdout",
     "output_type": "stream",
     "text": [
      "Speaker: id08467, Video: ZWbiR8M-gm0, Txt file: 00113\n"
     ]
    },
    {
     "name": "stderr",
     "output_type": "stream",
     "text": [
      "ERROR: [youtube] ZWbiR8M-gm0: Video unavailable. This video is no longer available because the YouTube account associated with this video has been terminated.\n"
     ]
    },
    {
     "name": "stdout",
     "output_type": "stream",
     "text": [
      "Speaker: id08467, Video: XYq5fk69dIY, Txt file: 00105\n"
     ]
    },
    {
     "name": "stderr",
     "output_type": "stream",
     "text": [
      "ERROR: [youtube] XYq5fk69dIY: Video unavailable. This video contains content from Worldwide Pants Incorporated, who has blocked it on copyright grounds\n"
     ]
    },
    {
     "name": "stdout",
     "output_type": "stream",
     "text": [
      "Speaker: id08467, Video: XOIei7Fy3QU, Txt file: 00101\n"
     ]
    },
    {
     "name": "stderr",
     "output_type": "stream",
     "text": [
      "ERROR: [youtube] XOIei7Fy3QU: Video unavailable. This video is no longer available because the YouTube account associated with this video has been terminated.\n"
     ]
    },
    {
     "name": "stdout",
     "output_type": "stream",
     "text": [
      "Speaker: id08467, Video: XYq5fk69dIY, Txt file: 00106\n"
     ]
    },
    {
     "name": "stderr",
     "output_type": "stream",
     "text": [
      "ERROR: [youtube] XYq5fk69dIY: Video unavailable. This video contains content from Worldwide Pants Incorporated, who has blocked it on copyright grounds\n"
     ]
    },
    {
     "name": "stdout",
     "output_type": "stream",
     "text": [
      "Speaker: id08467, Video: p8SfL7axEKY, Txt file: 00177\n"
     ]
    },
    {
     "name": "stderr",
     "output_type": "stream",
     "text": [
      "ERROR: [youtube] p8SfL7axEKY: Video unavailable. This video is no longer available because the YouTube account associated with this video has been terminated.\n"
     ]
    },
    {
     "name": "stdout",
     "output_type": "stream",
     "text": [
      "Speaker: id08467, Video: ZWbiR8M-gm0, Txt file: 00136\n"
     ]
    },
    {
     "name": "stderr",
     "output_type": "stream",
     "text": [
      "ERROR: [youtube] ZWbiR8M-gm0: Video unavailable. This video is no longer available because the YouTube account associated with this video has been terminated.\n"
     ]
    },
    {
     "name": "stdout",
     "output_type": "stream",
     "text": [
      "Speaker: id08467, Video: 1Suv2T-PU1Y, Txt file: 00004\n"
     ]
    },
    {
     "name": "stderr",
     "output_type": "stream",
     "text": [
      "ERROR: [youtube] 1Suv2T-PU1Y: Video unavailable. This video is no longer available because the YouTube account associated with this video has been terminated.\n"
     ]
    },
    {
     "name": "stdout",
     "output_type": "stream",
     "text": [
      "Speaker: id08467, Video: ZWbiR8M-gm0, Txt file: 00133\n"
     ]
    },
    {
     "name": "stderr",
     "output_type": "stream",
     "text": [
      "ERROR: [youtube] ZWbiR8M-gm0: Video unavailable. This video is no longer available because the YouTube account associated with this video has been terminated.\n"
     ]
    },
    {
     "name": "stdout",
     "output_type": "stream",
     "text": [
      "Speaker: id08467, Video: X-NmGbZFmBs, Txt file: 00091\n",
      "[youtube] Extracting URL: https://www.youtube.com/watch?v=X-NmGbZFmBs\n",
      "[youtube] X-NmGbZFmBs: Downloading webpage\n",
      "[youtube] X-NmGbZFmBs: Downloading tv client config\n",
      "[youtube] X-NmGbZFmBs: Downloading player 5ae7d525\n",
      "[youtube] X-NmGbZFmBs: Downloading tv player API JSON\n",
      "[youtube] X-NmGbZFmBs: Downloading ios player API JSON\n",
      "[youtube] X-NmGbZFmBs: Downloading m3u8 information\n",
      "[info] X-NmGbZFmBs: Downloading 1 format(s): 251\n",
      "[download] Destination: id08467_4_10160_X-NmGbZFmBs_00091\n",
      "[download] 100% of    9.55MiB in 00:00:00 at 14.87MiB/s  \n",
      "[ExtractAudio] Destination: id08467_4_10160_X-NmGbZFmBs_00091.mp3\n",
      "Deleting original file id08467_4_10160_X-NmGbZFmBs_00091 (pass -k to keep)\n",
      "Audio downloaded as id08467_4_10160_X-NmGbZFmBs_00091\n",
      "Trimmed audio saved as ../data/download_df_audio/id08467_4_10160_X-NmGbZFmBs_00091_cut.mp3\n",
      "Speaker: id08467, Video: p8SfL7axEKY, Txt file: 00176\n"
     ]
    },
    {
     "name": "stderr",
     "output_type": "stream",
     "text": [
      "ERROR: [youtube] p8SfL7axEKY: Video unavailable. This video is no longer available because the YouTube account associated with this video has been terminated.\n"
     ]
    },
    {
     "name": "stdout",
     "output_type": "stream",
     "text": [
      "Speaker: id08467, Video: 1Suv2T-PU1Y, Txt file: 00003\n"
     ]
    },
    {
     "name": "stderr",
     "output_type": "stream",
     "text": [
      "ERROR: [youtube] 1Suv2T-PU1Y: Video unavailable. This video is no longer available because the YouTube account associated with this video has been terminated.\n"
     ]
    },
    {
     "name": "stdout",
     "output_type": "stream",
     "text": [
      "Speaker: id08467, Video: 5TI8E4p_U6A, Txt file: 00048\n",
      "[youtube] Extracting URL: https://www.youtube.com/watch?v=5TI8E4p_U6A\n",
      "[youtube] 5TI8E4p_U6A: Downloading webpage\n",
      "[youtube] 5TI8E4p_U6A: Downloading tv client config\n",
      "[youtube] 5TI8E4p_U6A: Downloading player 5ae7d525\n",
      "[youtube] 5TI8E4p_U6A: Downloading tv player API JSON\n",
      "[youtube] 5TI8E4p_U6A: Downloading ios player API JSON\n",
      "[youtube] 5TI8E4p_U6A: Downloading m3u8 information\n",
      "[info] 5TI8E4p_U6A: Downloading 1 format(s): 251\n",
      "[download] Destination: id08467_5_9840_5TI8E4p_U6A_00048\n",
      "[download] 100% of    9.00MiB in 00:00:00 at 13.45MiB/s  \n",
      "[ExtractAudio] Destination: id08467_5_9840_5TI8E4p_U6A_00048.mp3\n",
      "Deleting original file id08467_5_9840_5TI8E4p_U6A_00048 (pass -k to keep)\n",
      "Audio downloaded as id08467_5_9840_5TI8E4p_U6A_00048\n",
      "Trimmed audio saved as ../data/download_df_audio/id08467_5_9840_5TI8E4p_U6A_00048_cut.mp3\n",
      "Speaker: id08467, Video: X-NmGbZFmBs, Txt file: 00092\n",
      "[youtube] Extracting URL: https://www.youtube.com/watch?v=X-NmGbZFmBs\n",
      "[youtube] X-NmGbZFmBs: Downloading webpage\n",
      "[youtube] X-NmGbZFmBs: Downloading tv client config\n",
      "[youtube] X-NmGbZFmBs: Downloading player 5ae7d525\n",
      "[youtube] X-NmGbZFmBs: Downloading tv player API JSON\n",
      "[youtube] X-NmGbZFmBs: Downloading ios player API JSON\n",
      "[youtube] X-NmGbZFmBs: Downloading m3u8 information\n",
      "[info] X-NmGbZFmBs: Downloading 1 format(s): 251\n",
      "[download] Destination: id08467_6_9800_X-NmGbZFmBs_00092\n",
      "[download] 100% of    9.55MiB in 00:00:00 at 16.07MiB/s  \n",
      "[ExtractAudio] Destination: id08467_6_9800_X-NmGbZFmBs_00092.mp3\n",
      "Deleting original file id08467_6_9800_X-NmGbZFmBs_00092 (pass -k to keep)\n",
      "Audio downloaded as id08467_6_9800_X-NmGbZFmBs_00092\n",
      "Trimmed audio saved as ../data/download_df_audio/id08467_6_9800_X-NmGbZFmBs_00092_cut.mp3\n",
      "Speaker: id08467, Video: ZWbiR8M-gm0, Txt file: 00130\n"
     ]
    },
    {
     "name": "stderr",
     "output_type": "stream",
     "text": [
      "ERROR: [youtube] ZWbiR8M-gm0: Video unavailable. This video is no longer available because the YouTube account associated with this video has been terminated.\n"
     ]
    },
    {
     "name": "stdout",
     "output_type": "stream",
     "text": [
      "Speaker: id08467, Video: 5uDFMpbfG5c, Txt file: 00054\n"
     ]
    },
    {
     "name": "stderr",
     "output_type": "stream",
     "text": [
      "ERROR: [youtube] 5uDFMpbfG5c: Video unavailable\n"
     ]
    },
    {
     "name": "stdout",
     "output_type": "stream",
     "text": [
      "Speaker: id08467, Video: ZWbiR8M-gm0, Txt file: 00131\n"
     ]
    },
    {
     "name": "stderr",
     "output_type": "stream",
     "text": [
      "ERROR: [youtube] ZWbiR8M-gm0: Video unavailable. This video is no longer available because the YouTube account associated with this video has been terminated.\n"
     ]
    },
    {
     "name": "stdout",
     "output_type": "stream",
     "text": [
      "Speaker: id08467, Video: XYq5fk69dIY, Txt file: 00102\n"
     ]
    },
    {
     "name": "stderr",
     "output_type": "stream",
     "text": [
      "ERROR: [youtube] XYq5fk69dIY: Video unavailable. This video contains content from Worldwide Pants Incorporated, who has blocked it on copyright grounds\n"
     ]
    },
    {
     "name": "stdout",
     "output_type": "stream",
     "text": [
      "Speaker: id08467, Video: K9H8XsstnYE, Txt file: 00087\n"
     ]
    },
    {
     "name": "stderr",
     "output_type": "stream",
     "text": [
      "ERROR: [youtube] K9H8XsstnYE: Video unavailable. This video contains content from Worldwide Pants Incorporated, who has blocked it on copyright grounds\n"
     ]
    },
    {
     "name": "stdout",
     "output_type": "stream",
     "text": [
      "Speaker: id08467, Video: 5TI8E4p_U6A, Txt file: 00042\n",
      "[youtube] Extracting URL: https://www.youtube.com/watch?v=5TI8E4p_U6A\n",
      "[youtube] 5TI8E4p_U6A: Downloading webpage\n",
      "[youtube] 5TI8E4p_U6A: Downloading tv client config\n",
      "[youtube] 5TI8E4p_U6A: Downloading player 5ae7d525\n",
      "[youtube] 5TI8E4p_U6A: Downloading tv player API JSON\n",
      "[youtube] 5TI8E4p_U6A: Downloading ios player API JSON\n",
      "[youtube] 5TI8E4p_U6A: Downloading m3u8 information\n",
      "[info] 5TI8E4p_U6A: Downloading 1 format(s): 251\n",
      "[download] Destination: id08467_7_9040_5TI8E4p_U6A_00042\n",
      "[download] 100% of    9.00MiB in 00:00:00 at 16.09MiB/s  \n",
      "[ExtractAudio] Destination: id08467_7_9040_5TI8E4p_U6A_00042.mp3\n",
      "Deleting original file id08467_7_9040_5TI8E4p_U6A_00042 (pass -k to keep)\n",
      "Audio downloaded as id08467_7_9040_5TI8E4p_U6A_00042\n",
      "Trimmed audio saved as ../data/download_df_audio/id08467_7_9040_5TI8E4p_U6A_00042_cut.mp3\n",
      "Speaker: id08467, Video: ZWbiR8M-gm0, Txt file: 00144\n"
     ]
    },
    {
     "name": "stderr",
     "output_type": "stream",
     "text": [
      "ERROR: [youtube] ZWbiR8M-gm0: Video unavailable. This video is no longer available because the YouTube account associated with this video has been terminated.\n"
     ]
    },
    {
     "name": "stdout",
     "output_type": "stream",
     "text": [
      "Speaker: id08467, Video: ZWbiR8M-gm0, Txt file: 00127\n"
     ]
    },
    {
     "name": "stderr",
     "output_type": "stream",
     "text": [
      "ERROR: [youtube] ZWbiR8M-gm0: Video unavailable. This video is no longer available because the YouTube account associated with this video has been terminated.\n"
     ]
    },
    {
     "name": "stdout",
     "output_type": "stream",
     "text": [
      "Speaker: id08467, Video: p8SfL7axEKY, Txt file: 00173\n"
     ]
    },
    {
     "name": "stderr",
     "output_type": "stream",
     "text": [
      "ERROR: [youtube] p8SfL7axEKY: Video unavailable. This video is no longer available because the YouTube account associated with this video has been terminated.\n"
     ]
    },
    {
     "name": "stdout",
     "output_type": "stream",
     "text": [
      "Speaker: id08467, Video: ZWbiR8M-gm0, Txt file: 00124\n"
     ]
    },
    {
     "name": "stderr",
     "output_type": "stream",
     "text": [
      "ERROR: [youtube] ZWbiR8M-gm0: Video unavailable. This video is no longer available because the YouTube account associated with this video has been terminated.\n"
     ]
    },
    {
     "name": "stdout",
     "output_type": "stream",
     "text": [
      "Speaker: id08467, Video: XYq5fk69dIY, Txt file: 00107\n"
     ]
    },
    {
     "name": "stderr",
     "output_type": "stream",
     "text": [
      "ERROR: [youtube] XYq5fk69dIY: Video unavailable. This video contains content from Worldwide Pants Incorporated, who has blocked it on copyright grounds\n"
     ]
    },
    {
     "name": "stdout",
     "output_type": "stream",
     "text": [
      "Speaker: id08467, Video: ZWbiR8M-gm0, Txt file: 00145\n"
     ]
    },
    {
     "name": "stderr",
     "output_type": "stream",
     "text": [
      "ERROR: [youtube] ZWbiR8M-gm0: Video unavailable. This video is no longer available because the YouTube account associated with this video has been terminated.\n"
     ]
    },
    {
     "name": "stdout",
     "output_type": "stream",
     "text": [
      "Speaker: id08467, Video: p8SfL7axEKY, Txt file: 00172\n"
     ]
    },
    {
     "name": "stderr",
     "output_type": "stream",
     "text": [
      "ERROR: [youtube] p8SfL7axEKY: Video unavailable. This video is no longer available because the YouTube account associated with this video has been terminated.\n"
     ]
    },
    {
     "name": "stdout",
     "output_type": "stream",
     "text": [
      "Speaker: id08467, Video: XOIei7Fy3QU, Txt file: 00100\n"
     ]
    },
    {
     "name": "stderr",
     "output_type": "stream",
     "text": [
      "ERROR: [youtube] XOIei7Fy3QU: Video unavailable. This video is no longer available because the YouTube account associated with this video has been terminated.\n"
     ]
    },
    {
     "name": "stdout",
     "output_type": "stream",
     "text": [
      "Speaker: id08467, Video: K9H8XsstnYE, Txt file: 00082\n"
     ]
    },
    {
     "name": "stderr",
     "output_type": "stream",
     "text": [
      "ERROR: [youtube] K9H8XsstnYE: Video unavailable. This video contains content from Worldwide Pants Incorporated, who has blocked it on copyright grounds\n"
     ]
    },
    {
     "name": "stdout",
     "output_type": "stream",
     "text": [
      "Speaker: id08467, Video: ZWbiR8M-gm0, Txt file: 00139\n"
     ]
    },
    {
     "name": "stderr",
     "output_type": "stream",
     "text": [
      "ERROR: [youtube] ZWbiR8M-gm0: Video unavailable. This video is no longer available because the YouTube account associated with this video has been terminated.\n"
     ]
    },
    {
     "name": "stdout",
     "output_type": "stream",
     "text": [
      "Speaker: id08467, Video: szAvQn-emAg, Txt file: 00180\n",
      "[youtube] Extracting URL: https://www.youtube.com/watch?v=szAvQn-emAg\n",
      "[youtube] szAvQn-emAg: Downloading webpage\n",
      "[youtube] szAvQn-emAg: Downloading tv client config\n",
      "[youtube] szAvQn-emAg: Downloading player 5ae7d525\n",
      "[youtube] szAvQn-emAg: Downloading tv player API JSON\n",
      "[youtube] szAvQn-emAg: Downloading ios player API JSON\n",
      "[youtube] szAvQn-emAg: Downloading m3u8 information\n",
      "[info] szAvQn-emAg: Downloading 1 format(s): 251\n",
      "[download] Destination: id08467_8_7800_szAvQn-emAg_00180\n",
      "[download] 100% of    2.98MiB in 00:00:01 at 2.90MiB/s   \n",
      "[ExtractAudio] Destination: id08467_8_7800_szAvQn-emAg_00180.mp3\n",
      "Deleting original file id08467_8_7800_szAvQn-emAg_00180 (pass -k to keep)\n",
      "Audio downloaded as id08467_8_7800_szAvQn-emAg_00180\n",
      "Trimmed audio saved as ../data/download_df_audio/id08467_8_7800_szAvQn-emAg_00180_cut.mp3\n",
      "Speaker: id08467, Video: 5TI8E4p_U6A, Txt file: 00028\n",
      "[youtube] Extracting URL: https://www.youtube.com/watch?v=5TI8E4p_U6A\n",
      "[youtube] 5TI8E4p_U6A: Downloading webpage\n",
      "[youtube] 5TI8E4p_U6A: Downloading tv client config\n",
      "[youtube] 5TI8E4p_U6A: Downloading player 5ae7d525\n",
      "[youtube] 5TI8E4p_U6A: Downloading tv player API JSON\n",
      "[youtube] 5TI8E4p_U6A: Downloading ios player API JSON\n",
      "[youtube] 5TI8E4p_U6A: Downloading m3u8 information\n",
      "[info] 5TI8E4p_U6A: Downloading 1 format(s): 251\n",
      "[download] Destination: id08467_9_7800_5TI8E4p_U6A_00028\n",
      "[download] 100% of    9.00MiB in 00:00:00 at 12.61MiB/s  \n",
      "[ExtractAudio] Destination: id08467_9_7800_5TI8E4p_U6A_00028.mp3\n",
      "Deleting original file id08467_9_7800_5TI8E4p_U6A_00028 (pass -k to keep)\n",
      "Audio downloaded as id08467_9_7800_5TI8E4p_U6A_00028\n",
      "Trimmed audio saved as ../data/download_df_audio/id08467_9_7800_5TI8E4p_U6A_00028_cut.mp3\n",
      "Speaker: id08477, Video: uuTIQW0T8xs, Txt file: 00478\n"
     ]
    },
    {
     "name": "stderr",
     "output_type": "stream",
     "text": [
      "ERROR: [youtube] uuTIQW0T8xs: Video unavailable. This video is no longer available because the YouTube account associated with this video has been terminated.\n"
     ]
    },
    {
     "name": "stdout",
     "output_type": "stream",
     "text": [
      "Speaker: id08477, Video: kpNbUN2_ebo, Txt file: 00395\n",
      "[youtube] Extracting URL: https://www.youtube.com/watch?v=kpNbUN2_ebo\n",
      "[youtube] kpNbUN2_ebo: Downloading webpage\n",
      "[youtube] kpNbUN2_ebo: Downloading tv client config\n",
      "[youtube] kpNbUN2_ebo: Downloading player 5ae7d525\n",
      "[youtube] kpNbUN2_ebo: Downloading tv player API JSON\n",
      "[youtube] kpNbUN2_ebo: Downloading ios player API JSON\n",
      "[youtube] kpNbUN2_ebo: Downloading m3u8 information\n",
      "[info] kpNbUN2_ebo: Downloading 1 format(s): 251\n",
      "[download] Destination: id08477_2_41360_kpNbUN2_ebo_00395\n",
      "[download] 100% of    6.92MiB in 00:00:00 at 8.59MiB/s     \n",
      "[ExtractAudio] Destination: id08477_2_41360_kpNbUN2_ebo_00395.mp3\n",
      "Deleting original file id08477_2_41360_kpNbUN2_ebo_00395 (pass -k to keep)\n",
      "Audio downloaded as id08477_2_41360_kpNbUN2_ebo_00395\n",
      "Trimmed audio saved as ../data/download_df_audio/id08477_2_41360_kpNbUN2_ebo_00395_cut.mp3\n",
      "Speaker: id08477, Video: XsnmMhKEDiE, Txt file: 00293\n"
     ]
    },
    {
     "name": "stderr",
     "output_type": "stream",
     "text": [
      "ERROR: [youtube] XsnmMhKEDiE: Private video. Sign in if you've been granted access to this video. Use --cookies-from-browser or --cookies for the authentication. See  https://github.com/yt-dlp/yt-dlp/wiki/FAQ#how-do-i-pass-cookies-to-yt-dlp  for how to manually pass cookies. Also see  https://github.com/yt-dlp/yt-dlp/wiki/Extractors#exporting-youtube-cookies  for tips on effectively exporting YouTube cookies\n"
     ]
    },
    {
     "name": "stdout",
     "output_type": "stream",
     "text": [
      "Speaker: id08477, Video: NxX3GY57DWQ, Txt file: 00238\n",
      "[youtube] Extracting URL: https://www.youtube.com/watch?v=NxX3GY57DWQ\n",
      "[youtube] NxX3GY57DWQ: Downloading webpage\n",
      "[youtube] NxX3GY57DWQ: Downloading tv client config\n",
      "[youtube] NxX3GY57DWQ: Downloading player 5ae7d525\n",
      "[youtube] NxX3GY57DWQ: Downloading tv player API JSON\n",
      "[youtube] NxX3GY57DWQ: Downloading ios player API JSON\n",
      "[youtube] NxX3GY57DWQ: Downloading m3u8 information\n",
      "[info] NxX3GY57DWQ: Downloading 1 format(s): 140\n",
      "[download] Destination: id08477_3_32920_NxX3GY57DWQ_00238\n",
      "[download] 100% of    1.88MiB in 00:00:00 at 8.11MiB/s   \n",
      "[FixupM4a] Correcting container of \"id08477_3_32920_NxX3GY57DWQ_00238\"\n",
      "[ExtractAudio] Destination: id08477_3_32920_NxX3GY57DWQ_00238.mp3\n",
      "Deleting original file id08477_3_32920_NxX3GY57DWQ_00238 (pass -k to keep)\n",
      "Audio downloaded as id08477_3_32920_NxX3GY57DWQ_00238\n",
      "Trimmed audio saved as ../data/download_df_audio/id08477_3_32920_NxX3GY57DWQ_00238_cut.mp3\n",
      "Speaker: id08477, Video: tC_9Py0z6JY, Txt file: 00468\n",
      "[youtube] Extracting URL: https://www.youtube.com/watch?v=tC_9Py0z6JY\n",
      "[youtube] tC_9Py0z6JY: Downloading webpage\n",
      "[youtube] tC_9Py0z6JY: Downloading tv client config\n",
      "[youtube] tC_9Py0z6JY: Downloading player 5ae7d525\n",
      "[youtube] tC_9Py0z6JY: Downloading tv player API JSON\n",
      "[youtube] tC_9Py0z6JY: Downloading ios player API JSON\n",
      "[youtube] tC_9Py0z6JY: Downloading m3u8 information\n",
      "[info] tC_9Py0z6JY: Downloading 1 format(s): 251\n",
      "[download] Destination: id08477_4_30360_tC_9Py0z6JY_00468\n",
      "[download] 100% of    2.84MiB in 00:00:00 at 4.49MiB/s   \n",
      "[ExtractAudio] Destination: id08477_4_30360_tC_9Py0z6JY_00468.mp3\n",
      "Deleting original file id08477_4_30360_tC_9Py0z6JY_00468 (pass -k to keep)\n",
      "Audio downloaded as id08477_4_30360_tC_9Py0z6JY_00468\n",
      "Trimmed audio saved as ../data/download_df_audio/id08477_4_30360_tC_9Py0z6JY_00468_cut.mp3\n",
      "Speaker: id08477, Video: WCTjCiLhwog, Txt file: 00287\n",
      "[youtube] Extracting URL: https://www.youtube.com/watch?v=WCTjCiLhwog\n",
      "[youtube] WCTjCiLhwog: Downloading webpage\n",
      "[youtube] WCTjCiLhwog: Downloading tv client config\n",
      "[youtube] WCTjCiLhwog: Downloading player 5ae7d525\n",
      "[youtube] WCTjCiLhwog: Downloading tv player API JSON\n",
      "[youtube] WCTjCiLhwog: Downloading ios player API JSON\n",
      "[youtube] WCTjCiLhwog: Downloading m3u8 information\n",
      "[info] WCTjCiLhwog: Downloading 1 format(s): 251\n",
      "[download] Destination: id08477_5_27200_WCTjCiLhwog_00287\n",
      "[download] 100% of    2.63MiB in 00:00:00 at 4.40MiB/s   \n",
      "[ExtractAudio] Destination: id08477_5_27200_WCTjCiLhwog_00287.mp3\n",
      "Deleting original file id08477_5_27200_WCTjCiLhwog_00287 (pass -k to keep)\n",
      "Audio downloaded as id08477_5_27200_WCTjCiLhwog_00287\n",
      "Trimmed audio saved as ../data/download_df_audio/id08477_5_27200_WCTjCiLhwog_00287_cut.mp3\n",
      "Speaker: id08477, Video: GOq7ULtr3jw, Txt file: 00151\n",
      "[youtube] Extracting URL: https://www.youtube.com/watch?v=GOq7ULtr3jw\n",
      "[youtube] GOq7ULtr3jw: Downloading webpage\n",
      "[youtube] GOq7ULtr3jw: Downloading tv client config\n",
      "[youtube] GOq7ULtr3jw: Downloading player 5ae7d525\n",
      "[youtube] GOq7ULtr3jw: Downloading tv player API JSON\n",
      "[youtube] GOq7ULtr3jw: Downloading ios player API JSON\n",
      "[youtube] GOq7ULtr3jw: Downloading m3u8 information\n",
      "[info] GOq7ULtr3jw: Downloading 1 format(s): 251\n",
      "[download] Destination: id08477_6_26400_GOq7ULtr3jw_00151\n",
      "[download] 100% of    2.92MiB in 00:00:00 at 4.77MiB/s   \n",
      "[ExtractAudio] Destination: id08477_6_26400_GOq7ULtr3jw_00151.mp3\n",
      "Deleting original file id08477_6_26400_GOq7ULtr3jw_00151 (pass -k to keep)\n",
      "Audio downloaded as id08477_6_26400_GOq7ULtr3jw_00151\n",
      "Trimmed audio saved as ../data/download_df_audio/id08477_6_26400_GOq7ULtr3jw_00151_cut.mp3\n",
      "Speaker: id08477, Video: LFlRKxwlhSM, Txt file: 00183\n",
      "[youtube] Extracting URL: https://www.youtube.com/watch?v=LFlRKxwlhSM\n",
      "[youtube] LFlRKxwlhSM: Downloading webpage\n",
      "[youtube] LFlRKxwlhSM: Downloading tv client config\n",
      "[youtube] LFlRKxwlhSM: Downloading player 5ae7d525\n",
      "[youtube] LFlRKxwlhSM: Downloading tv player API JSON\n",
      "[youtube] LFlRKxwlhSM: Downloading ios player API JSON\n",
      "[youtube] LFlRKxwlhSM: Downloading m3u8 information\n",
      "[info] LFlRKxwlhSM: Downloading 1 format(s): 140\n",
      "[download] Destination: id08477_7_25000_LFlRKxwlhSM_00183\n",
      "[download] 100% of    9.53MiB in 00:00:02 at 3.35MiB/s   \n",
      "[FixupM4a] Correcting container of \"id08477_7_25000_LFlRKxwlhSM_00183\"\n",
      "[ExtractAudio] Destination: id08477_7_25000_LFlRKxwlhSM_00183.mp3\n",
      "Deleting original file id08477_7_25000_LFlRKxwlhSM_00183 (pass -k to keep)\n",
      "Audio downloaded as id08477_7_25000_LFlRKxwlhSM_00183\n",
      "Trimmed audio saved as ../data/download_df_audio/id08477_7_25000_LFlRKxwlhSM_00183_cut.mp3\n",
      "Speaker: id08477, Video: iux7NZ56Ei4, Txt file: 00382\n",
      "[youtube] Extracting URL: https://www.youtube.com/watch?v=iux7NZ56Ei4\n",
      "[youtube] iux7NZ56Ei4: Downloading webpage\n",
      "[youtube] iux7NZ56Ei4: Downloading tv client config\n",
      "[youtube] iux7NZ56Ei4: Downloading player 5ae7d525\n",
      "[youtube] iux7NZ56Ei4: Downloading tv player API JSON\n",
      "[youtube] iux7NZ56Ei4: Downloading ios player API JSON\n",
      "[youtube] iux7NZ56Ei4: Downloading m3u8 information\n",
      "[info] iux7NZ56Ei4: Downloading 1 format(s): 251\n",
      "[download] Destination: id08477_8_23920_iux7NZ56Ei4_00382\n",
      "[download] 100% of    2.65MiB in 00:00:00 at 4.30MiB/s   \n",
      "[ExtractAudio] Destination: id08477_8_23920_iux7NZ56Ei4_00382.mp3\n",
      "Deleting original file id08477_8_23920_iux7NZ56Ei4_00382 (pass -k to keep)\n",
      "Audio downloaded as id08477_8_23920_iux7NZ56Ei4_00382\n",
      "Trimmed audio saved as ../data/download_df_audio/id08477_8_23920_iux7NZ56Ei4_00382_cut.mp3\n",
      "Speaker: id08477, Video: Y1Y-Si4l0fw, Txt file: 00300\n",
      "[youtube] Extracting URL: https://www.youtube.com/watch?v=Y1Y-Si4l0fw\n",
      "[youtube] Y1Y-Si4l0fw: Downloading webpage\n",
      "[youtube] Y1Y-Si4l0fw: Downloading tv client config\n",
      "[youtube] Y1Y-Si4l0fw: Downloading player 5ae7d525\n",
      "[youtube] Y1Y-Si4l0fw: Downloading tv player API JSON\n",
      "[youtube] Y1Y-Si4l0fw: Downloading ios player API JSON\n",
      "[youtube] Y1Y-Si4l0fw: Downloading m3u8 information\n",
      "[info] Y1Y-Si4l0fw: Downloading 1 format(s): 251\n",
      "[download] Destination: id08477_9_23600_Y1Y-Si4l0fw_00300\n",
      "[download] 100% of    4.22MiB in 00:00:01 at 3.79MiB/s   \n",
      "[ExtractAudio] Destination: id08477_9_23600_Y1Y-Si4l0fw_00300.mp3\n",
      "Deleting original file id08477_9_23600_Y1Y-Si4l0fw_00300 (pass -k to keep)\n",
      "Audio downloaded as id08477_9_23600_Y1Y-Si4l0fw_00300\n",
      "Trimmed audio saved as ../data/download_df_audio/id08477_9_23600_Y1Y-Si4l0fw_00300_cut.mp3\n",
      "Speaker: id08512, Video: ZqdkYhXxKm4, Txt file: 00046\n",
      "[youtube] Extracting URL: https://www.youtube.com/watch?v=ZqdkYhXxKm4\n",
      "[youtube] ZqdkYhXxKm4: Downloading webpage\n",
      "[youtube] ZqdkYhXxKm4: Downloading tv client config\n",
      "[youtube] ZqdkYhXxKm4: Downloading player 5ae7d525\n",
      "[youtube] ZqdkYhXxKm4: Downloading tv player API JSON\n",
      "[youtube] ZqdkYhXxKm4: Downloading ios player API JSON\n",
      "[youtube] ZqdkYhXxKm4: Downloading m3u8 information\n",
      "[info] ZqdkYhXxKm4: Downloading 1 format(s): 140\n",
      "[download] Destination: id08512_2_25360_ZqdkYhXxKm4_00046\n",
      "[download] 100% of   13.89MiB in 00:00:01 at 8.53MiB/s   \n",
      "[FixupM4a] Correcting container of \"id08512_2_25360_ZqdkYhXxKm4_00046\"\n",
      "[ExtractAudio] Destination: id08512_2_25360_ZqdkYhXxKm4_00046.mp3\n",
      "Deleting original file id08512_2_25360_ZqdkYhXxKm4_00046 (pass -k to keep)\n",
      "Audio downloaded as id08512_2_25360_ZqdkYhXxKm4_00046\n",
      "Trimmed audio saved as ../data/download_df_audio/id08512_2_25360_ZqdkYhXxKm4_00046_cut.mp3\n",
      "Speaker: id08512, Video: ld2r-RRorAw, Txt file: 00123\n",
      "[youtube] Extracting URL: https://www.youtube.com/watch?v=ld2r-RRorAw\n",
      "[youtube] ld2r-RRorAw: Downloading webpage\n",
      "[youtube] ld2r-RRorAw: Downloading tv client config\n",
      "[youtube] ld2r-RRorAw: Downloading player 5ae7d525\n",
      "[youtube] ld2r-RRorAw: Downloading tv player API JSON\n",
      "[youtube] ld2r-RRorAw: Downloading ios player API JSON\n",
      "[youtube] ld2r-RRorAw: Downloading m3u8 information\n",
      "[info] ld2r-RRorAw: Downloading 1 format(s): 251\n",
      "[download] Destination: id08512_3_16960_ld2r-RRorAw_00123\n",
      "[download] 100% of    4.41MiB in 00:00:00 at 6.84MiB/s   \n",
      "[ExtractAudio] Destination: id08512_3_16960_ld2r-RRorAw_00123.mp3\n",
      "Deleting original file id08512_3_16960_ld2r-RRorAw_00123 (pass -k to keep)\n",
      "Audio downloaded as id08512_3_16960_ld2r-RRorAw_00123\n",
      "Trimmed audio saved as ../data/download_df_audio/id08512_3_16960_ld2r-RRorAw_00123_cut.mp3\n",
      "Speaker: id08512, Video: ZqdkYhXxKm4, Txt file: 00054\n",
      "[youtube] Extracting URL: https://www.youtube.com/watch?v=ZqdkYhXxKm4\n",
      "[youtube] ZqdkYhXxKm4: Downloading webpage\n",
      "[youtube] ZqdkYhXxKm4: Downloading tv client config\n",
      "[youtube] ZqdkYhXxKm4: Downloading player 5ae7d525\n",
      "[youtube] ZqdkYhXxKm4: Downloading tv player API JSON\n",
      "[youtube] ZqdkYhXxKm4: Downloading ios player API JSON\n",
      "[youtube] ZqdkYhXxKm4: Downloading m3u8 information\n",
      "[info] ZqdkYhXxKm4: Downloading 1 format(s): 140\n",
      "[download] Destination: id08512_4_14480_ZqdkYhXxKm4_00054\n",
      "[download] 100% of   13.89MiB in 00:00:01 at 13.13MiB/s    \n",
      "[FixupM4a] Correcting container of \"id08512_4_14480_ZqdkYhXxKm4_00054\"\n",
      "[ExtractAudio] Destination: id08512_4_14480_ZqdkYhXxKm4_00054.mp3\n",
      "Deleting original file id08512_4_14480_ZqdkYhXxKm4_00054 (pass -k to keep)\n",
      "Audio downloaded as id08512_4_14480_ZqdkYhXxKm4_00054\n",
      "Trimmed audio saved as ../data/download_df_audio/id08512_4_14480_ZqdkYhXxKm4_00054_cut.mp3\n",
      "Speaker: id08512, Video: B8cTm9ZSCv0, Txt file: 00009\n",
      "[youtube] Extracting URL: https://www.youtube.com/watch?v=B8cTm9ZSCv0\n",
      "[youtube] B8cTm9ZSCv0: Downloading webpage\n",
      "[youtube] B8cTm9ZSCv0: Downloading tv client config\n",
      "[youtube] B8cTm9ZSCv0: Downloading player 5ae7d525\n",
      "[youtube] B8cTm9ZSCv0: Downloading tv player API JSON\n",
      "[youtube] B8cTm9ZSCv0: Downloading ios player API JSON\n",
      "[youtube] B8cTm9ZSCv0: Downloading m3u8 information\n",
      "[info] B8cTm9ZSCv0: Downloading 1 format(s): 251\n",
      "[download] Destination: id08512_5_14000_B8cTm9ZSCv0_00009\n",
      "[download] 100% of    1.82MiB in 00:00:00 at 3.04MiB/s   \n",
      "[ExtractAudio] Destination: id08512_5_14000_B8cTm9ZSCv0_00009.mp3\n",
      "Deleting original file id08512_5_14000_B8cTm9ZSCv0_00009 (pass -k to keep)\n",
      "Audio downloaded as id08512_5_14000_B8cTm9ZSCv0_00009\n",
      "Trimmed audio saved as ../data/download_df_audio/id08512_5_14000_B8cTm9ZSCv0_00009_cut.mp3\n",
      "Speaker: id08512, Video: gfyBBb9DWxM, Txt file: 00095\n"
     ]
    },
    {
     "name": "stderr",
     "output_type": "stream",
     "text": [
      "ERROR: [youtube] gfyBBb9DWxM: Video unavailable\n"
     ]
    },
    {
     "name": "stdout",
     "output_type": "stream",
     "text": [
      "Speaker: id08512, Video: EJyLOf6y3JY, Txt file: 00018\n",
      "[youtube] Extracting URL: https://www.youtube.com/watch?v=EJyLOf6y3JY\n",
      "[youtube] EJyLOf6y3JY: Downloading webpage\n",
      "[youtube] EJyLOf6y3JY: Downloading tv client config\n",
      "[youtube] EJyLOf6y3JY: Downloading player 5ae7d525\n",
      "[youtube] EJyLOf6y3JY: Downloading tv player API JSON\n",
      "[youtube] EJyLOf6y3JY: Downloading ios player API JSON\n",
      "[youtube] EJyLOf6y3JY: Downloading m3u8 information\n",
      "[info] EJyLOf6y3JY: Downloading 1 format(s): 140\n",
      "[download] Destination: id08512_6_13560_EJyLOf6y3JY_00018\n",
      "[download] 100% of    1.06MiB in 00:00:00 at 1.42MiB/s   \n",
      "[FixupM4a] Correcting container of \"id08512_6_13560_EJyLOf6y3JY_00018\"\n",
      "[ExtractAudio] Destination: id08512_6_13560_EJyLOf6y3JY_00018.mp3\n",
      "Deleting original file id08512_6_13560_EJyLOf6y3JY_00018 (pass -k to keep)\n",
      "Audio downloaded as id08512_6_13560_EJyLOf6y3JY_00018\n",
      "Trimmed audio saved as ../data/download_df_audio/id08512_6_13560_EJyLOf6y3JY_00018_cut.mp3\n",
      "Speaker: id08512, Video: ZqdkYhXxKm4, Txt file: 00049\n",
      "[youtube] Extracting URL: https://www.youtube.com/watch?v=ZqdkYhXxKm4\n",
      "[youtube] ZqdkYhXxKm4: Downloading webpage\n",
      "[youtube] ZqdkYhXxKm4: Downloading tv client config\n",
      "[youtube] ZqdkYhXxKm4: Downloading player 5ae7d525\n",
      "[youtube] ZqdkYhXxKm4: Downloading tv player API JSON\n",
      "[youtube] ZqdkYhXxKm4: Downloading ios player API JSON\n",
      "[youtube] ZqdkYhXxKm4: Downloading m3u8 information\n",
      "[info] ZqdkYhXxKm4: Downloading 1 format(s): 140\n",
      "[download] Destination: id08512_7_12920_ZqdkYhXxKm4_00049\n",
      "[download] 100% of   13.89MiB in 00:00:01 at 13.31MiB/s    \n",
      "[FixupM4a] Correcting container of \"id08512_7_12920_ZqdkYhXxKm4_00049\"\n",
      "[ExtractAudio] Destination: id08512_7_12920_ZqdkYhXxKm4_00049.mp3\n",
      "Deleting original file id08512_7_12920_ZqdkYhXxKm4_00049 (pass -k to keep)\n",
      "Audio downloaded as id08512_7_12920_ZqdkYhXxKm4_00049\n",
      "Trimmed audio saved as ../data/download_df_audio/id08512_7_12920_ZqdkYhXxKm4_00049_cut.mp3\n",
      "Speaker: id08512, Video: PMCt1_kYd6s, Txt file: 00031\n",
      "[youtube] Extracting URL: https://www.youtube.com/watch?v=PMCt1_kYd6s\n",
      "[youtube] PMCt1_kYd6s: Downloading webpage\n",
      "[youtube] PMCt1_kYd6s: Downloading tv client config\n",
      "[youtube] PMCt1_kYd6s: Downloading player 5ae7d525\n",
      "[youtube] PMCt1_kYd6s: Downloading tv player API JSON\n",
      "[youtube] PMCt1_kYd6s: Downloading ios player API JSON\n",
      "[youtube] PMCt1_kYd6s: Downloading m3u8 information\n",
      "[info] PMCt1_kYd6s: Downloading 1 format(s): 140\n",
      "[download] Destination: id08512_8_11640_PMCt1_kYd6s_00031\n",
      "[download] 100% of    2.60MiB in 00:00:00 at 3.92MiB/s   \n",
      "[FixupM4a] Correcting container of \"id08512_8_11640_PMCt1_kYd6s_00031\"\n",
      "[ExtractAudio] Destination: id08512_8_11640_PMCt1_kYd6s_00031.mp3\n",
      "Deleting original file id08512_8_11640_PMCt1_kYd6s_00031 (pass -k to keep)\n",
      "Audio downloaded as id08512_8_11640_PMCt1_kYd6s_00031\n",
      "Trimmed audio saved as ../data/download_df_audio/id08512_8_11640_PMCt1_kYd6s_00031_cut.mp3\n",
      "Speaker: id08512, Video: ZqdkYhXxKm4, Txt file: 00055\n",
      "[youtube] Extracting URL: https://www.youtube.com/watch?v=ZqdkYhXxKm4\n",
      "[youtube] ZqdkYhXxKm4: Downloading webpage\n",
      "[youtube] ZqdkYhXxKm4: Downloading tv client config\n",
      "[youtube] ZqdkYhXxKm4: Downloading player 5ae7d525\n",
      "[youtube] ZqdkYhXxKm4: Downloading tv player API JSON\n",
      "[youtube] ZqdkYhXxKm4: Downloading ios player API JSON\n",
      "[youtube] ZqdkYhXxKm4: Downloading m3u8 information\n",
      "[info] ZqdkYhXxKm4: Downloading 1 format(s): 140\n",
      "[download] Destination: id08512_9_11520_ZqdkYhXxKm4_00055\n",
      "[download] 100% of   13.89MiB in 00:00:01 at 13.55MiB/s    \n",
      "[FixupM4a] Correcting container of \"id08512_9_11520_ZqdkYhXxKm4_00055\"\n",
      "[ExtractAudio] Destination: id08512_9_11520_ZqdkYhXxKm4_00055.mp3\n",
      "Deleting original file id08512_9_11520_ZqdkYhXxKm4_00055 (pass -k to keep)\n",
      "Audio downloaded as id08512_9_11520_ZqdkYhXxKm4_00055\n",
      "Trimmed audio saved as ../data/download_df_audio/id08512_9_11520_ZqdkYhXxKm4_00055_cut.mp3\n",
      "Speaker: id08521, Video: PHP53k1BRpw, Txt file: 00105\n",
      "[youtube] Extracting URL: https://www.youtube.com/watch?v=PHP53k1BRpw\n",
      "[youtube] PHP53k1BRpw: Downloading webpage\n",
      "[youtube] PHP53k1BRpw: Downloading tv client config\n",
      "[youtube] PHP53k1BRpw: Downloading player 5ae7d525\n",
      "[youtube] PHP53k1BRpw: Downloading tv player API JSON\n",
      "[youtube] PHP53k1BRpw: Downloading ios player API JSON\n",
      "[youtube] PHP53k1BRpw: Downloading m3u8 information\n",
      "[info] PHP53k1BRpw: Downloading 1 format(s): 251\n",
      "[download] Destination: id08521_2_24920_PHP53k1BRpw_00105\n",
      "[download] 100% of    4.44MiB in 00:00:00 at 8.09MiB/s   \n",
      "[ExtractAudio] Destination: id08521_2_24920_PHP53k1BRpw_00105.mp3\n",
      "Deleting original file id08521_2_24920_PHP53k1BRpw_00105 (pass -k to keep)\n",
      "Audio downloaded as id08521_2_24920_PHP53k1BRpw_00105\n",
      "Trimmed audio saved as ../data/download_df_audio/id08521_2_24920_PHP53k1BRpw_00105_cut.mp3\n",
      "Speaker: id08521, Video: t2bdmyOt67Q, Txt file: 00323\n",
      "[youtube] Extracting URL: https://www.youtube.com/watch?v=t2bdmyOt67Q\n",
      "[youtube] t2bdmyOt67Q: Downloading webpage\n",
      "[youtube] t2bdmyOt67Q: Downloading tv client config\n",
      "[youtube] t2bdmyOt67Q: Downloading player 5ae7d525\n",
      "[youtube] t2bdmyOt67Q: Downloading tv player API JSON\n",
      "[youtube] t2bdmyOt67Q: Downloading ios player API JSON\n",
      "[youtube] t2bdmyOt67Q: Downloading m3u8 information\n",
      "[info] t2bdmyOt67Q: Downloading 1 format(s): 251\n",
      "[download] Destination: id08521_3_23160_t2bdmyOt67Q_00323\n",
      "[download] 100% of    6.47MiB in 00:00:00 at 8.51MiB/s   \n",
      "[ExtractAudio] Destination: id08521_3_23160_t2bdmyOt67Q_00323.mp3\n",
      "Deleting original file id08521_3_23160_t2bdmyOt67Q_00323 (pass -k to keep)\n",
      "Audio downloaded as id08521_3_23160_t2bdmyOt67Q_00323\n",
      "Trimmed audio saved as ../data/download_df_audio/id08521_3_23160_t2bdmyOt67Q_00323_cut.mp3\n",
      "Speaker: id08521, Video: o7nFi1ajhVY, Txt file: 00268\n",
      "[youtube] Extracting URL: https://www.youtube.com/watch?v=o7nFi1ajhVY\n",
      "[youtube] o7nFi1ajhVY: Downloading webpage\n",
      "[youtube] o7nFi1ajhVY: Downloading tv client config\n",
      "[youtube] o7nFi1ajhVY: Downloading player 5ae7d525\n",
      "[youtube] o7nFi1ajhVY: Downloading tv player API JSON\n",
      "[youtube] o7nFi1ajhVY: Downloading ios player API JSON\n",
      "[youtube] o7nFi1ajhVY: Downloading m3u8 information\n",
      "[info] o7nFi1ajhVY: Downloading 1 format(s): 140\n",
      "[download] Destination: id08521_4_21320_o7nFi1ajhVY_00268\n",
      "[download] 100% of    9.78MiB in 00:00:01 at 6.34MiB/s   \n",
      "[FixupM4a] Correcting container of \"id08521_4_21320_o7nFi1ajhVY_00268\"\n",
      "[ExtractAudio] Destination: id08521_4_21320_o7nFi1ajhVY_00268.mp3\n",
      "Deleting original file id08521_4_21320_o7nFi1ajhVY_00268 (pass -k to keep)\n",
      "Audio downloaded as id08521_4_21320_o7nFi1ajhVY_00268\n",
      "Trimmed audio saved as ../data/download_df_audio/id08521_4_21320_o7nFi1ajhVY_00268_cut.mp3\n",
      "Speaker: id08521, Video: 3Kg5EFyKf0U, Txt file: 00025\n",
      "[youtube] Extracting URL: https://www.youtube.com/watch?v=3Kg5EFyKf0U\n",
      "[youtube] 3Kg5EFyKf0U: Downloading webpage\n",
      "[youtube] 3Kg5EFyKf0U: Downloading tv client config\n",
      "[youtube] 3Kg5EFyKf0U: Downloading player 5ae7d525\n",
      "[youtube] 3Kg5EFyKf0U: Downloading tv player API JSON\n",
      "[youtube] 3Kg5EFyKf0U: Downloading ios player API JSON\n",
      "[youtube] 3Kg5EFyKf0U: Downloading m3u8 information\n",
      "[info] 3Kg5EFyKf0U: Downloading 1 format(s): 251\n",
      "[download] Destination: id08521_5_19160_3Kg5EFyKf0U_00025\n",
      "[download] 100% of    1.81MiB in 00:00:00 at 3.30MiB/s   \n",
      "[ExtractAudio] Destination: id08521_5_19160_3Kg5EFyKf0U_00025.mp3\n",
      "Deleting original file id08521_5_19160_3Kg5EFyKf0U_00025 (pass -k to keep)\n",
      "Audio downloaded as id08521_5_19160_3Kg5EFyKf0U_00025\n",
      "Trimmed audio saved as ../data/download_df_audio/id08521_5_19160_3Kg5EFyKf0U_00025_cut.mp3\n",
      "Speaker: id08521, Video: 2XKA_Bavi4w, Txt file: 00013\n",
      "[youtube] Extracting URL: https://www.youtube.com/watch?v=2XKA_Bavi4w\n",
      "[youtube] 2XKA_Bavi4w: Downloading webpage\n",
      "[youtube] 2XKA_Bavi4w: Downloading tv client config\n",
      "[youtube] 2XKA_Bavi4w: Downloading player 5ae7d525\n",
      "[youtube] 2XKA_Bavi4w: Downloading tv player API JSON\n",
      "[youtube] 2XKA_Bavi4w: Downloading ios player API JSON\n",
      "[youtube] 2XKA_Bavi4w: Downloading m3u8 information\n",
      "[info] 2XKA_Bavi4w: Downloading 1 format(s): 140\n",
      "[download] Destination: id08521_6_19080_2XKA_Bavi4w_00013\n",
      "[download] 100% of    2.31MiB in 00:00:00 at 2.90MiB/s     \n",
      "[FixupM4a] Correcting container of \"id08521_6_19080_2XKA_Bavi4w_00013\"\n",
      "[ExtractAudio] Destination: id08521_6_19080_2XKA_Bavi4w_00013.mp3\n",
      "Deleting original file id08521_6_19080_2XKA_Bavi4w_00013 (pass -k to keep)\n",
      "Audio downloaded as id08521_6_19080_2XKA_Bavi4w_00013\n",
      "Trimmed audio saved as ../data/download_df_audio/id08521_6_19080_2XKA_Bavi4w_00013_cut.mp3\n",
      "Speaker: id08521, Video: o7nFi1ajhVY, Txt file: 00261\n",
      "[youtube] Extracting URL: https://www.youtube.com/watch?v=o7nFi1ajhVY\n",
      "[youtube] o7nFi1ajhVY: Downloading webpage\n",
      "[youtube] o7nFi1ajhVY: Downloading tv client config\n",
      "[youtube] o7nFi1ajhVY: Downloading player 5ae7d525\n",
      "[youtube] o7nFi1ajhVY: Downloading tv player API JSON\n",
      "[youtube] o7nFi1ajhVY: Downloading ios player API JSON\n",
      "[youtube] o7nFi1ajhVY: Downloading m3u8 information\n",
      "[info] o7nFi1ajhVY: Downloading 1 format(s): 140\n",
      "[download] Destination: id08521_7_18320_o7nFi1ajhVY_00261\n",
      "[download] 100% of    9.78MiB in 00:00:01 at 9.27MiB/s     \n",
      "[FixupM4a] Correcting container of \"id08521_7_18320_o7nFi1ajhVY_00261\"\n",
      "[ExtractAudio] Destination: id08521_7_18320_o7nFi1ajhVY_00261.mp3\n",
      "Deleting original file id08521_7_18320_o7nFi1ajhVY_00261 (pass -k to keep)\n",
      "Audio downloaded as id08521_7_18320_o7nFi1ajhVY_00261\n",
      "Trimmed audio saved as ../data/download_df_audio/id08521_7_18320_o7nFi1ajhVY_00261_cut.mp3\n",
      "Speaker: id08521, Video: m5ODg5gdB_4, Txt file: 00231\n",
      "[youtube] Extracting URL: https://www.youtube.com/watch?v=m5ODg5gdB_4\n",
      "[youtube] m5ODg5gdB_4: Downloading webpage\n",
      "[youtube] m5ODg5gdB_4: Downloading tv client config\n",
      "[youtube] m5ODg5gdB_4: Downloading player 5ae7d525\n",
      "[youtube] m5ODg5gdB_4: Downloading tv player API JSON\n",
      "[youtube] m5ODg5gdB_4: Downloading ios player API JSON\n",
      "[youtube] m5ODg5gdB_4: Downloading m3u8 information\n",
      "[info] m5ODg5gdB_4: Downloading 1 format(s): 140\n",
      "[download] Destination: id08521_8_17200_m5ODg5gdB_4_00231\n",
      "[download] 100% of    3.56MiB in 00:00:00 at 3.58MiB/s   \n",
      "[FixupM4a] Correcting container of \"id08521_8_17200_m5ODg5gdB_4_00231\"\n",
      "[ExtractAudio] Destination: id08521_8_17200_m5ODg5gdB_4_00231.mp3\n",
      "Deleting original file id08521_8_17200_m5ODg5gdB_4_00231 (pass -k to keep)\n",
      "Audio downloaded as id08521_8_17200_m5ODg5gdB_4_00231\n",
      "Trimmed audio saved as ../data/download_df_audio/id08521_8_17200_m5ODg5gdB_4_00231_cut.mp3\n",
      "Speaker: id08521, Video: rcE3HMbMf7w, Txt file: 00292\n"
     ]
    },
    {
     "name": "stderr",
     "output_type": "stream",
     "text": [
      "ERROR: [youtube] rcE3HMbMf7w: Private video. Sign in if you've been granted access to this video. Use --cookies-from-browser or --cookies for the authentication. See  https://github.com/yt-dlp/yt-dlp/wiki/FAQ#how-do-i-pass-cookies-to-yt-dlp  for how to manually pass cookies. Also see  https://github.com/yt-dlp/yt-dlp/wiki/Extractors#exporting-youtube-cookies  for tips on effectively exporting YouTube cookies\n"
     ]
    },
    {
     "name": "stdout",
     "output_type": "stream",
     "text": [
      "Speaker: id08521, Video: o7nFi1ajhVY, Txt file: 00273\n",
      "[youtube] Extracting URL: https://www.youtube.com/watch?v=o7nFi1ajhVY\n",
      "[youtube] o7nFi1ajhVY: Downloading webpage\n",
      "[youtube] o7nFi1ajhVY: Downloading tv client config\n",
      "[youtube] o7nFi1ajhVY: Downloading player 5ae7d525\n",
      "[youtube] o7nFi1ajhVY: Downloading tv player API JSON\n",
      "[youtube] o7nFi1ajhVY: Downloading ios player API JSON\n",
      "[youtube] o7nFi1ajhVY: Downloading m3u8 information\n",
      "[info] o7nFi1ajhVY: Downloading 1 format(s): 140\n",
      "[download] Destination: id08521_9_16600_o7nFi1ajhVY_00273\n",
      "[download] 100% of    9.78MiB in 00:00:00 at 16.27MiB/s    \n",
      "[FixupM4a] Correcting container of \"id08521_9_16600_o7nFi1ajhVY_00273\"\n",
      "[ExtractAudio] Destination: id08521_9_16600_o7nFi1ajhVY_00273.mp3\n",
      "Deleting original file id08521_9_16600_o7nFi1ajhVY_00273 (pass -k to keep)\n",
      "Audio downloaded as id08521_9_16600_o7nFi1ajhVY_00273\n",
      "Trimmed audio saved as ../data/download_df_audio/id08521_9_16600_o7nFi1ajhVY_00273_cut.mp3\n",
      "Speaker: id08533, Video: y1W-lSC86Dk, Txt file: 00497\n",
      "[youtube] Extracting URL: https://www.youtube.com/watch?v=y1W-lSC86Dk\n",
      "[youtube] y1W-lSC86Dk: Downloading webpage\n",
      "[youtube] y1W-lSC86Dk: Downloading tv client config\n",
      "[youtube] y1W-lSC86Dk: Downloading player 5ae7d525\n",
      "[youtube] y1W-lSC86Dk: Downloading tv player API JSON\n",
      "[youtube] y1W-lSC86Dk: Downloading ios player API JSON\n",
      "[youtube] y1W-lSC86Dk: Downloading m3u8 information\n",
      "[info] y1W-lSC86Dk: Downloading 1 format(s): 140\n",
      "[download] Destination: id08533_2_44040_y1W-lSC86Dk_00497\n",
      "[download] 100% of    2.56MiB in 00:00:01 at 1.57MiB/s   \n",
      "[FixupM4a] Correcting container of \"id08533_2_44040_y1W-lSC86Dk_00497\"\n",
      "[ExtractAudio] Destination: id08533_2_44040_y1W-lSC86Dk_00497.mp3\n",
      "Deleting original file id08533_2_44040_y1W-lSC86Dk_00497 (pass -k to keep)\n",
      "Audio downloaded as id08533_2_44040_y1W-lSC86Dk_00497\n",
      "Trimmed audio saved as ../data/download_df_audio/id08533_2_44040_y1W-lSC86Dk_00497_cut.mp3\n",
      "Speaker: id08533, Video: lG2mvlQ97-8, Txt file: 00353\n",
      "[youtube] Extracting URL: https://www.youtube.com/watch?v=lG2mvlQ97-8\n",
      "[youtube] lG2mvlQ97-8: Downloading webpage\n",
      "[youtube] lG2mvlQ97-8: Downloading tv client config\n",
      "[youtube] lG2mvlQ97-8: Downloading player 5ae7d525\n",
      "[youtube] lG2mvlQ97-8: Downloading tv player API JSON\n",
      "[youtube] lG2mvlQ97-8: Downloading ios player API JSON\n",
      "[youtube] lG2mvlQ97-8: Downloading m3u8 information\n",
      "[info] lG2mvlQ97-8: Downloading 1 format(s): 140\n",
      "[download] Destination: id08533_3_35960_lG2mvlQ97-8_00353\n",
      "[download] 100% of    1.11MiB in 00:00:00 at 2.56MiB/s   \n",
      "[FixupM4a] Correcting container of \"id08533_3_35960_lG2mvlQ97-8_00353\"\n",
      "[ExtractAudio] Destination: id08533_3_35960_lG2mvlQ97-8_00353.mp3\n",
      "Deleting original file id08533_3_35960_lG2mvlQ97-8_00353 (pass -k to keep)\n",
      "Audio downloaded as id08533_3_35960_lG2mvlQ97-8_00353\n",
      "Trimmed audio saved as ../data/download_df_audio/id08533_3_35960_lG2mvlQ97-8_00353_cut.mp3\n",
      "Speaker: id08533, Video: ZgcgIaOakT0, Txt file: 00200\n",
      "[youtube] Extracting URL: https://www.youtube.com/watch?v=ZgcgIaOakT0\n",
      "[youtube] ZgcgIaOakT0: Downloading webpage\n",
      "[youtube] ZgcgIaOakT0: Downloading tv client config\n",
      "[youtube] ZgcgIaOakT0: Downloading player 5ae7d525\n",
      "[youtube] ZgcgIaOakT0: Downloading tv player API JSON\n",
      "[youtube] ZgcgIaOakT0: Downloading ios player API JSON\n",
      "[youtube] ZgcgIaOakT0: Downloading m3u8 information\n",
      "[info] ZgcgIaOakT0: Downloading 1 format(s): 251\n",
      "[download] Destination: id08533_4_32119_ZgcgIaOakT0_00200\n",
      "[download] 100% of    4.30MiB in 00:00:02 at 1.90MiB/s   \n",
      "[ExtractAudio] Destination: id08533_4_32119_ZgcgIaOakT0_00200.mp3\n",
      "Deleting original file id08533_4_32119_ZgcgIaOakT0_00200 (pass -k to keep)\n",
      "Audio downloaded as id08533_4_32119_ZgcgIaOakT0_00200\n",
      "Trimmed audio saved as ../data/download_df_audio/id08533_4_32119_ZgcgIaOakT0_00200_cut.mp3\n",
      "Speaker: id08533, Video: ZZR02V6jTFQ, Txt file: 00187\n"
     ]
    },
    {
     "name": "stderr",
     "output_type": "stream",
     "text": [
      "ERROR: [youtube] ZZR02V6jTFQ: Video unavailable\n"
     ]
    },
    {
     "name": "stdout",
     "output_type": "stream",
     "text": [
      "Speaker: id08533, Video: xLcfRTeMa-k, Txt file: 00481\n",
      "[youtube] Extracting URL: https://www.youtube.com/watch?v=xLcfRTeMa-k\n",
      "[youtube] xLcfRTeMa-k: Downloading webpage\n",
      "[youtube] xLcfRTeMa-k: Downloading tv client config\n",
      "[youtube] xLcfRTeMa-k: Downloading player 5ae7d525\n",
      "[youtube] xLcfRTeMa-k: Downloading tv player API JSON\n",
      "[youtube] xLcfRTeMa-k: Downloading ios player API JSON\n",
      "[youtube] xLcfRTeMa-k: Downloading m3u8 information\n",
      "[info] xLcfRTeMa-k: Downloading 1 format(s): 251\n",
      "[download] Destination: id08533_5_29880_xLcfRTeMa-k_00481\n",
      "[download] 100% of    7.57MiB in 00:00:02 at 3.60MiB/s   \n",
      "[ExtractAudio] Destination: id08533_5_29880_xLcfRTeMa-k_00481.mp3\n",
      "Deleting original file id08533_5_29880_xLcfRTeMa-k_00481 (pass -k to keep)\n",
      "Audio downloaded as id08533_5_29880_xLcfRTeMa-k_00481\n",
      "Trimmed audio saved as ../data/download_df_audio/id08533_5_29880_xLcfRTeMa-k_00481_cut.mp3\n",
      "Speaker: id08533, Video: w1_BTL4ni1E, Txt file: 00470\n",
      "[youtube] Extracting URL: https://www.youtube.com/watch?v=w1_BTL4ni1E\n",
      "[youtube] w1_BTL4ni1E: Downloading webpage\n",
      "[youtube] w1_BTL4ni1E: Downloading tv client config\n",
      "[youtube] w1_BTL4ni1E: Downloading player 5ae7d525\n",
      "[youtube] w1_BTL4ni1E: Downloading tv player API JSON\n",
      "[youtube] w1_BTL4ni1E: Downloading ios player API JSON\n",
      "[youtube] w1_BTL4ni1E: Downloading MPD manifest\n",
      "[youtube] w1_BTL4ni1E: Downloading m3u8 information\n",
      "[youtube] w1_BTL4ni1E: Downloading MPD manifest\n",
      "[info] w1_BTL4ni1E: Downloading 1 format(s): 251\n",
      "[download] Destination: id08533_6_28520_w1_BTL4ni1E_00470\n",
      "[download] 100% of    3.22MiB in 00:00:00 at 3.52MiB/s   \n",
      "[ExtractAudio] Destination: id08533_6_28520_w1_BTL4ni1E_00470.mp3\n",
      "Deleting original file id08533_6_28520_w1_BTL4ni1E_00470 (pass -k to keep)\n",
      "Audio downloaded as id08533_6_28520_w1_BTL4ni1E_00470\n",
      "Trimmed audio saved as ../data/download_df_audio/id08533_6_28520_w1_BTL4ni1E_00470_cut.mp3\n",
      "Speaker: id08533, Video: f4r9IoVw8Ug, Txt file: 00328\n",
      "[youtube] Extracting URL: https://www.youtube.com/watch?v=f4r9IoVw8Ug\n",
      "[youtube] f4r9IoVw8Ug: Downloading webpage\n",
      "[youtube] f4r9IoVw8Ug: Downloading tv client config\n",
      "[youtube] f4r9IoVw8Ug: Downloading player 5ae7d525\n",
      "[youtube] f4r9IoVw8Ug: Downloading tv player API JSON\n",
      "[youtube] f4r9IoVw8Ug: Downloading ios player API JSON\n",
      "[youtube] f4r9IoVw8Ug: Downloading m3u8 information\n",
      "[info] f4r9IoVw8Ug: Downloading 1 format(s): 140\n",
      "[download] Destination: id08533_7_26400_f4r9IoVw8Ug_00328\n",
      "[download] 100% of    6.64MiB in 00:00:01 at 5.38MiB/s   \n",
      "[FixupM4a] Correcting container of \"id08533_7_26400_f4r9IoVw8Ug_00328\"\n",
      "[ExtractAudio] Destination: id08533_7_26400_f4r9IoVw8Ug_00328.mp3\n",
      "Deleting original file id08533_7_26400_f4r9IoVw8Ug_00328 (pass -k to keep)\n",
      "Audio downloaded as id08533_7_26400_f4r9IoVw8Ug_00328\n",
      "Trimmed audio saved as ../data/download_df_audio/id08533_7_26400_f4r9IoVw8Ug_00328_cut.mp3\n",
      "Speaker: id08533, Video: _aA4i296HAU, Txt file: 00217\n",
      "[youtube] Extracting URL: https://www.youtube.com/watch?v=_aA4i296HAU\n",
      "[youtube] _aA4i296HAU: Downloading webpage\n",
      "[youtube] _aA4i296HAU: Downloading tv client config\n",
      "[youtube] _aA4i296HAU: Downloading player 5ae7d525\n",
      "[youtube] _aA4i296HAU: Downloading tv player API JSON\n",
      "[youtube] _aA4i296HAU: Downloading ios player API JSON\n",
      "[youtube] _aA4i296HAU: Downloading m3u8 information\n",
      "[info] _aA4i296HAU: Downloading 1 format(s): 251\n",
      "[download] Destination: id08533_8_24760__aA4i296HAU_00217\n",
      "[download] 100% of    2.07MiB in 00:00:01 at 1.69MiB/s   \n",
      "[ExtractAudio] Destination: id08533_8_24760__aA4i296HAU_00217.mp3\n",
      "Deleting original file id08533_8_24760__aA4i296HAU_00217 (pass -k to keep)\n",
      "Audio downloaded as id08533_8_24760__aA4i296HAU_00217\n",
      "Trimmed audio saved as ../data/download_df_audio/id08533_8_24760__aA4i296HAU_00217_cut.mp3\n",
      "Speaker: id08533, Video: W62kujNK-Fk, Txt file: 00175\n"
     ]
    },
    {
     "name": "stderr",
     "output_type": "stream",
     "text": [
      "ERROR: [youtube] W62kujNK-Fk: Video unavailable. This video is no longer available because the YouTube account associated with this video has been terminated.\n"
     ]
    },
    {
     "name": "stdout",
     "output_type": "stream",
     "text": [
      "Speaker: id08533, Video: kkRWEQ_2eKE, Txt file: 00348\n",
      "[youtube] Extracting URL: https://www.youtube.com/watch?v=kkRWEQ_2eKE\n",
      "[youtube] kkRWEQ_2eKE: Downloading webpage\n",
      "[youtube] kkRWEQ_2eKE: Downloading tv client config\n",
      "[youtube] kkRWEQ_2eKE: Downloading player 5ae7d525\n",
      "[youtube] kkRWEQ_2eKE: Downloading tv player API JSON\n",
      "[youtube] kkRWEQ_2eKE: Downloading ios player API JSON\n",
      "[youtube] kkRWEQ_2eKE: Downloading m3u8 information\n",
      "[info] kkRWEQ_2eKE: Downloading 1 format(s): 251\n",
      "[download] Destination: id08533_9_22880_kkRWEQ_2eKE_00348\n",
      "[download] 100% of    1.77MiB in 00:00:01 at 1.58MiB/s   \n",
      "[ExtractAudio] Destination: id08533_9_22880_kkRWEQ_2eKE_00348.mp3\n",
      "Deleting original file id08533_9_22880_kkRWEQ_2eKE_00348 (pass -k to keep)\n",
      "Audio downloaded as id08533_9_22880_kkRWEQ_2eKE_00348\n",
      "Trimmed audio saved as ../data/download_df_audio/id08533_9_22880_kkRWEQ_2eKE_00348_cut.mp3\n",
      "Speaker: id08569, Video: VeUh6bU06wU, Txt file: 00258\n",
      "[youtube] Extracting URL: https://www.youtube.com/watch?v=VeUh6bU06wU\n",
      "[youtube] VeUh6bU06wU: Downloading webpage\n",
      "[youtube] VeUh6bU06wU: Downloading tv client config\n",
      "[youtube] VeUh6bU06wU: Downloading player 5ae7d525\n",
      "[youtube] VeUh6bU06wU: Downloading tv player API JSON\n",
      "[youtube] VeUh6bU06wU: Downloading ios player API JSON\n",
      "[youtube] VeUh6bU06wU: Downloading m3u8 information\n",
      "[info] VeUh6bU06wU: Downloading 1 format(s): 251\n",
      "[download] Destination: id08569_2_36960_VeUh6bU06wU_00258\n",
      "[download] 100% of    7.09MiB in 00:00:02 at 2.70MiB/s   \n",
      "[ExtractAudio] Destination: id08569_2_36960_VeUh6bU06wU_00258.mp3\n",
      "Deleting original file id08569_2_36960_VeUh6bU06wU_00258 (pass -k to keep)\n",
      "Audio downloaded as id08569_2_36960_VeUh6bU06wU_00258\n",
      "Trimmed audio saved as ../data/download_df_audio/id08569_2_36960_VeUh6bU06wU_00258_cut.mp3\n",
      "Speaker: id08569, Video: IDaWkAL-1lM, Txt file: 00152\n",
      "[youtube] Extracting URL: https://www.youtube.com/watch?v=IDaWkAL-1lM\n",
      "[youtube] IDaWkAL-1lM: Downloading webpage\n",
      "[youtube] IDaWkAL-1lM: Downloading tv client config\n",
      "[youtube] IDaWkAL-1lM: Downloading player 5ae7d525\n",
      "[youtube] IDaWkAL-1lM: Downloading tv player API JSON\n",
      "[youtube] IDaWkAL-1lM: Downloading ios player API JSON\n",
      "[youtube] IDaWkAL-1lM: Downloading m3u8 information\n",
      "[info] IDaWkAL-1lM: Downloading 1 format(s): 140\n",
      "[download] Destination: id08569_3_35560_IDaWkAL-1lM_00152\n",
      "[download] 100% of    7.88MiB in 00:00:01 at 4.09MiB/s   \n",
      "[FixupM4a] Correcting container of \"id08569_3_35560_IDaWkAL-1lM_00152\"\n",
      "[ExtractAudio] Destination: id08569_3_35560_IDaWkAL-1lM_00152.mp3\n",
      "Deleting original file id08569_3_35560_IDaWkAL-1lM_00152 (pass -k to keep)\n",
      "Audio downloaded as id08569_3_35560_IDaWkAL-1lM_00152\n",
      "Trimmed audio saved as ../data/download_df_audio/id08569_3_35560_IDaWkAL-1lM_00152_cut.mp3\n",
      "Speaker: id08569, Video: pmMoJkTlFGE, Txt file: 00415\n"
     ]
    },
    {
     "name": "stderr",
     "output_type": "stream",
     "text": [
      "ERROR: [youtube] pmMoJkTlFGE: Video unavailable. This video is no longer available because the YouTube account associated with this video has been terminated.\n"
     ]
    },
    {
     "name": "stdout",
     "output_type": "stream",
     "text": [
      "Speaker: id08569, Video: WUCXebc-kMU, Txt file: 00268\n"
     ]
    },
    {
     "name": "stderr",
     "output_type": "stream",
     "text": [
      "ERROR: [youtube] WUCXebc-kMU: Video unavailable. The uploader has not made this video available in your country\n"
     ]
    },
    {
     "name": "stdout",
     "output_type": "stream",
     "text": [
      "Speaker: id08569, Video: VeUh6bU06wU, Txt file: 00262\n",
      "[youtube] Extracting URL: https://www.youtube.com/watch?v=VeUh6bU06wU\n",
      "[youtube] VeUh6bU06wU: Downloading webpage\n",
      "[youtube] VeUh6bU06wU: Downloading tv client config\n",
      "[youtube] VeUh6bU06wU: Downloading player 5ae7d525\n",
      "[youtube] VeUh6bU06wU: Downloading tv player API JSON\n",
      "[youtube] VeUh6bU06wU: Downloading ios player API JSON\n",
      "[youtube] VeUh6bU06wU: Downloading m3u8 information\n",
      "[info] VeUh6bU06wU: Downloading 1 format(s): 251\n",
      "[download] Destination: id08569_4_33080_VeUh6bU06wU_00262\n",
      "[download] 100% of    7.09MiB in 00:00:00 at 8.41MiB/s   \n",
      "[ExtractAudio] Destination: id08569_4_33080_VeUh6bU06wU_00262.mp3\n",
      "Deleting original file id08569_4_33080_VeUh6bU06wU_00262 (pass -k to keep)\n",
      "Audio downloaded as id08569_4_33080_VeUh6bU06wU_00262\n",
      "Trimmed audio saved as ../data/download_df_audio/id08569_4_33080_VeUh6bU06wU_00262_cut.mp3\n",
      "Speaker: id08569, Video: Um6u7O964iw, Txt file: 00255\n",
      "[youtube] Extracting URL: https://www.youtube.com/watch?v=Um6u7O964iw\n",
      "[youtube] Um6u7O964iw: Downloading webpage\n",
      "[youtube] Um6u7O964iw: Downloading tv client config\n",
      "[youtube] Um6u7O964iw: Downloading player 5ae7d525\n",
      "[youtube] Um6u7O964iw: Downloading tv player API JSON\n",
      "[youtube] Um6u7O964iw: Downloading ios player API JSON\n",
      "[youtube] Um6u7O964iw: Downloading m3u8 information\n",
      "[info] Um6u7O964iw: Downloading 1 format(s): 251\n",
      "[download] Destination: id08569_5_30560_Um6u7O964iw_00255\n",
      "[download] 100% of    1.36MiB in 00:00:02 at 570.23KiB/s \n",
      "[ExtractAudio] Destination: id08569_5_30560_Um6u7O964iw_00255.mp3\n",
      "Deleting original file id08569_5_30560_Um6u7O964iw_00255 (pass -k to keep)\n",
      "Audio downloaded as id08569_5_30560_Um6u7O964iw_00255\n",
      "Trimmed audio saved as ../data/download_df_audio/id08569_5_30560_Um6u7O964iw_00255_cut.mp3\n",
      "Speaker: id08569, Video: N2TQiAnwGXg, Txt file: 00190\n",
      "[youtube] Extracting URL: https://www.youtube.com/watch?v=N2TQiAnwGXg\n",
      "[youtube] N2TQiAnwGXg: Downloading webpage\n",
      "[youtube] N2TQiAnwGXg: Downloading tv client config\n",
      "[youtube] N2TQiAnwGXg: Downloading player 5ae7d525\n",
      "[youtube] N2TQiAnwGXg: Downloading tv player API JSON\n",
      "[youtube] N2TQiAnwGXg: Downloading ios player API JSON\n",
      "[youtube] N2TQiAnwGXg: Downloading m3u8 information\n",
      "[info] N2TQiAnwGXg: Downloading 1 format(s): 251\n",
      "[download] Destination: id08569_6_29880_N2TQiAnwGXg_00190\n",
      "[download] 100% of    3.87MiB in 00:00:00 at 3.94MiB/s   \n",
      "[ExtractAudio] Destination: id08569_6_29880_N2TQiAnwGXg_00190.mp3\n",
      "Deleting original file id08569_6_29880_N2TQiAnwGXg_00190 (pass -k to keep)\n",
      "Audio downloaded as id08569_6_29880_N2TQiAnwGXg_00190\n",
      "Trimmed audio saved as ../data/download_df_audio/id08569_6_29880_N2TQiAnwGXg_00190_cut.mp3\n",
      "Speaker: id08569, Video: 3s-Rg7UAlBU, Txt file: 00008\n",
      "[youtube] Extracting URL: https://www.youtube.com/watch?v=3s-Rg7UAlBU\n",
      "[youtube] 3s-Rg7UAlBU: Downloading webpage\n",
      "[youtube] 3s-Rg7UAlBU: Downloading tv client config\n",
      "[youtube] 3s-Rg7UAlBU: Downloading player 5ae7d525\n",
      "[youtube] 3s-Rg7UAlBU: Downloading tv player API JSON\n",
      "[youtube] 3s-Rg7UAlBU: Downloading ios player API JSON\n",
      "[youtube] 3s-Rg7UAlBU: Downloading m3u8 information\n",
      "[info] 3s-Rg7UAlBU: Downloading 1 format(s): 140\n",
      "[download] Destination: id08569_7_28920_3s-Rg7UAlBU_00008\n",
      "[download] 100% of    2.97MiB in 00:00:00 at 5.01MiB/s   \n",
      "[FixupM4a] Correcting container of \"id08569_7_28920_3s-Rg7UAlBU_00008\"\n",
      "[ExtractAudio] Destination: id08569_7_28920_3s-Rg7UAlBU_00008.mp3\n",
      "Deleting original file id08569_7_28920_3s-Rg7UAlBU_00008 (pass -k to keep)\n",
      "Audio downloaded as id08569_7_28920_3s-Rg7UAlBU_00008\n",
      "Trimmed audio saved as ../data/download_df_audio/id08569_7_28920_3s-Rg7UAlBU_00008_cut.mp3\n",
      "Speaker: id08569, Video: _qguQK_EjZE, Txt file: 00291\n",
      "[youtube] Extracting URL: https://www.youtube.com/watch?v=_qguQK_EjZE\n",
      "[youtube] _qguQK_EjZE: Downloading webpage\n",
      "[youtube] _qguQK_EjZE: Downloading tv client config\n",
      "[youtube] _qguQK_EjZE: Downloading player 5ae7d525\n",
      "[youtube] _qguQK_EjZE: Downloading tv player API JSON\n",
      "[youtube] _qguQK_EjZE: Downloading ios player API JSON\n",
      "[youtube] _qguQK_EjZE: Downloading m3u8 information\n",
      "[info] _qguQK_EjZE: Downloading 1 format(s): 140\n",
      "[download] Destination: id08569_8_27600__qguQK_EjZE_00291\n",
      "[download] 100% of    5.73MiB in 00:00:00 at 5.99MiB/s   \n",
      "[FixupM4a] Correcting container of \"id08569_8_27600__qguQK_EjZE_00291\"\n",
      "[ExtractAudio] Destination: id08569_8_27600__qguQK_EjZE_00291.mp3\n",
      "Deleting original file id08569_8_27600__qguQK_EjZE_00291 (pass -k to keep)\n",
      "Audio downloaded as id08569_8_27600__qguQK_EjZE_00291\n",
      "Trimmed audio saved as ../data/download_df_audio/id08569_8_27600__qguQK_EjZE_00291_cut.mp3\n",
      "Speaker: id08569, Video: 32OkZFIHGag, Txt file: 00005\n",
      "[youtube] Extracting URL: https://www.youtube.com/watch?v=32OkZFIHGag\n",
      "[youtube] 32OkZFIHGag: Downloading webpage\n",
      "[youtube] 32OkZFIHGag: Downloading tv client config\n",
      "[youtube] 32OkZFIHGag: Downloading player 5ae7d525\n",
      "[youtube] 32OkZFIHGag: Downloading tv player API JSON\n",
      "[youtube] 32OkZFIHGag: Downloading ios player API JSON\n",
      "[youtube] 32OkZFIHGag: Downloading m3u8 information\n",
      "[info] 32OkZFIHGag: Downloading 1 format(s): 251\n",
      "[download] Destination: id08569_9_27360_32OkZFIHGag_00005\n",
      "[download] 100% of    2.73MiB in 00:00:00 at 3.65MiB/s   \n",
      "[ExtractAudio] Destination: id08569_9_27360_32OkZFIHGag_00005.mp3\n",
      "Deleting original file id08569_9_27360_32OkZFIHGag_00005 (pass -k to keep)\n",
      "Audio downloaded as id08569_9_27360_32OkZFIHGag_00005\n",
      "Trimmed audio saved as ../data/download_df_audio/id08569_9_27360_32OkZFIHGag_00005_cut.mp3\n",
      "Speaker: id08581, Video: faHUsIdvNpI, Txt file: 00102\n",
      "[youtube] Extracting URL: https://www.youtube.com/watch?v=faHUsIdvNpI\n",
      "[youtube] faHUsIdvNpI: Downloading webpage\n",
      "[youtube] faHUsIdvNpI: Downloading tv client config\n",
      "[youtube] faHUsIdvNpI: Downloading player 5ae7d525\n",
      "[youtube] faHUsIdvNpI: Downloading tv player API JSON\n",
      "[youtube] faHUsIdvNpI: Downloading ios player API JSON\n",
      "[youtube] faHUsIdvNpI: Downloading m3u8 information\n",
      "[info] faHUsIdvNpI: Downloading 1 format(s): 140\n",
      "[download] Destination: id08581_2_32479_faHUsIdvNpI_00102\n",
      "[download] 100% of    2.24MiB in 00:00:01 at 1.87MiB/s   \n",
      "[FixupM4a] Correcting container of \"id08581_2_32479_faHUsIdvNpI_00102\"\n",
      "[ExtractAudio] Destination: id08581_2_32479_faHUsIdvNpI_00102.mp3\n",
      "Deleting original file id08581_2_32479_faHUsIdvNpI_00102 (pass -k to keep)\n",
      "Audio downloaded as id08581_2_32479_faHUsIdvNpI_00102\n",
      "Trimmed audio saved as ../data/download_df_audio/id08581_2_32479_faHUsIdvNpI_00102_cut.mp3\n",
      "Speaker: id08581, Video: DsNhFTZx9Z4, Txt file: 00033\n"
     ]
    },
    {
     "name": "stderr",
     "output_type": "stream",
     "text": [
      "ERROR: [youtube] DsNhFTZx9Z4: Video unavailable\n"
     ]
    },
    {
     "name": "stdout",
     "output_type": "stream",
     "text": [
      "Speaker: id08581, Video: jj2qWDyIC_8, Txt file: 00109\n",
      "[youtube] Extracting URL: https://www.youtube.com/watch?v=jj2qWDyIC_8\n",
      "[youtube] jj2qWDyIC_8: Downloading webpage\n",
      "[youtube] jj2qWDyIC_8: Downloading tv client config\n",
      "[youtube] jj2qWDyIC_8: Downloading player 5ae7d525\n",
      "[youtube] jj2qWDyIC_8: Downloading tv player API JSON\n",
      "[youtube] jj2qWDyIC_8: Downloading ios player API JSON\n",
      "[youtube] jj2qWDyIC_8: Downloading m3u8 information\n",
      "[info] jj2qWDyIC_8: Downloading 1 format(s): 251\n",
      "[download] Destination: id08581_3_14040_jj2qWDyIC_8_00109\n",
      "[download] 100% of    3.32MiB in 00:00:00 at 4.43MiB/s   \n",
      "[ExtractAudio] Destination: id08581_3_14040_jj2qWDyIC_8_00109.mp3\n",
      "Deleting original file id08581_3_14040_jj2qWDyIC_8_00109 (pass -k to keep)\n",
      "Audio downloaded as id08581_3_14040_jj2qWDyIC_8_00109\n",
      "Trimmed audio saved as ../data/download_df_audio/id08581_3_14040_jj2qWDyIC_8_00109_cut.mp3\n",
      "Speaker: id08581, Video: DsNhFTZx9Z4, Txt file: 00032\n"
     ]
    },
    {
     "name": "stderr",
     "output_type": "stream",
     "text": [
      "ERROR: [youtube] DsNhFTZx9Z4: Video unavailable\n"
     ]
    },
    {
     "name": "stdout",
     "output_type": "stream",
     "text": [
      "Speaker: id08581, Video: DsNhFTZx9Z4, Txt file: 00016\n"
     ]
    },
    {
     "name": "stderr",
     "output_type": "stream",
     "text": [
      "ERROR: [youtube] DsNhFTZx9Z4: Video unavailable\n"
     ]
    },
    {
     "name": "stdout",
     "output_type": "stream",
     "text": [
      "Speaker: id08581, Video: DsNhFTZx9Z4, Txt file: 00030\n"
     ]
    },
    {
     "name": "stderr",
     "output_type": "stream",
     "text": [
      "ERROR: [youtube] DsNhFTZx9Z4: Video unavailable\n"
     ]
    },
    {
     "name": "stdout",
     "output_type": "stream",
     "text": [
      "Speaker: id08581, Video: Ex7FQ6ecyZc, Txt file: 00051\n"
     ]
    },
    {
     "name": "stderr",
     "output_type": "stream",
     "text": [
      "ERROR: [youtube] Ex7FQ6ecyZc: Private video. Sign in if you've been granted access to this video. Use --cookies-from-browser or --cookies for the authentication. See  https://github.com/yt-dlp/yt-dlp/wiki/FAQ#how-do-i-pass-cookies-to-yt-dlp  for how to manually pass cookies. Also see  https://github.com/yt-dlp/yt-dlp/wiki/Extractors#exporting-youtube-cookies  for tips on effectively exporting YouTube cookies\n"
     ]
    },
    {
     "name": "stdout",
     "output_type": "stream",
     "text": [
      "Speaker: id08581, Video: 3KRHKeynAN8, Txt file: 00009\n"
     ]
    },
    {
     "name": "stderr",
     "output_type": "stream",
     "text": [
      "ERROR: [youtube] 3KRHKeynAN8: Private video. Sign in if you've been granted access to this video. Use --cookies-from-browser or --cookies for the authentication. See  https://github.com/yt-dlp/yt-dlp/wiki/FAQ#how-do-i-pass-cookies-to-yt-dlp  for how to manually pass cookies. Also see  https://github.com/yt-dlp/yt-dlp/wiki/Extractors#exporting-youtube-cookies  for tips on effectively exporting YouTube cookies\n"
     ]
    },
    {
     "name": "stdout",
     "output_type": "stream",
     "text": [
      "Speaker: id08581, Video: DsNhFTZx9Z4, Txt file: 00028\n"
     ]
    },
    {
     "name": "stderr",
     "output_type": "stream",
     "text": [
      "ERROR: [youtube] DsNhFTZx9Z4: Video unavailable\n"
     ]
    },
    {
     "name": "stdout",
     "output_type": "stream",
     "text": [
      "Speaker: id08581, Video: DsNhFTZx9Z4, Txt file: 00017\n"
     ]
    },
    {
     "name": "stderr",
     "output_type": "stream",
     "text": [
      "ERROR: [youtube] DsNhFTZx9Z4: Video unavailable\n"
     ]
    },
    {
     "name": "stdout",
     "output_type": "stream",
     "text": [
      "Speaker: id08581, Video: DsNhFTZx9Z4, Txt file: 00040\n"
     ]
    },
    {
     "name": "stderr",
     "output_type": "stream",
     "text": [
      "ERROR: [youtube] DsNhFTZx9Z4: Video unavailable\n"
     ]
    },
    {
     "name": "stdout",
     "output_type": "stream",
     "text": [
      "Speaker: id08581, Video: eGR7XanJQlc, Txt file: 00098\n",
      "[youtube] Extracting URL: https://www.youtube.com/watch?v=eGR7XanJQlc\n",
      "[youtube] eGR7XanJQlc: Downloading webpage\n",
      "[youtube] eGR7XanJQlc: Downloading tv client config\n",
      "[youtube] eGR7XanJQlc: Downloading player 5ae7d525\n",
      "[youtube] eGR7XanJQlc: Downloading tv player API JSON\n",
      "[youtube] eGR7XanJQlc: Downloading ios player API JSON\n",
      "[youtube] eGR7XanJQlc: Downloading m3u8 information\n",
      "[info] eGR7XanJQlc: Downloading 1 format(s): 140\n",
      "[download] Destination: id08581_4_9720_eGR7XanJQlc_00098\n",
      "[download] 100% of    4.09MiB in 00:00:01 at 3.13MiB/s   \n",
      "[FixupM4a] Correcting container of \"id08581_4_9720_eGR7XanJQlc_00098\"\n",
      "[ExtractAudio] Destination: id08581_4_9720_eGR7XanJQlc_00098.mp3\n",
      "Deleting original file id08581_4_9720_eGR7XanJQlc_00098 (pass -k to keep)\n",
      "Audio downloaded as id08581_4_9720_eGR7XanJQlc_00098\n",
      "Trimmed audio saved as ../data/download_df_audio/id08581_4_9720_eGR7XanJQlc_00098_cut.mp3\n",
      "Speaker: id08581, Video: DsNhFTZx9Z4, Txt file: 00027\n"
     ]
    },
    {
     "name": "stderr",
     "output_type": "stream",
     "text": [
      "ERROR: [youtube] DsNhFTZx9Z4: Video unavailable\n"
     ]
    },
    {
     "name": "stdout",
     "output_type": "stream",
     "text": [
      "Speaker: id08581, Video: DsNhFTZx9Z4, Txt file: 00025\n"
     ]
    },
    {
     "name": "stderr",
     "output_type": "stream",
     "text": [
      "ERROR: [youtube] DsNhFTZx9Z4: Video unavailable\n"
     ]
    },
    {
     "name": "stdout",
     "output_type": "stream",
     "text": [
      "Speaker: id08581, Video: DsNhFTZx9Z4, Txt file: 00029\n"
     ]
    },
    {
     "name": "stderr",
     "output_type": "stream",
     "text": [
      "ERROR: [youtube] DsNhFTZx9Z4: Video unavailable\n"
     ]
    },
    {
     "name": "stdout",
     "output_type": "stream",
     "text": [
      "Speaker: id08581, Video: jj2qWDyIC_8, Txt file: 00106\n",
      "[youtube] Extracting URL: https://www.youtube.com/watch?v=jj2qWDyIC_8\n",
      "[youtube] jj2qWDyIC_8: Downloading webpage\n",
      "[youtube] jj2qWDyIC_8: Downloading tv client config\n",
      "[youtube] jj2qWDyIC_8: Downloading player 5ae7d525\n",
      "[youtube] jj2qWDyIC_8: Downloading tv player API JSON\n",
      "[youtube] jj2qWDyIC_8: Downloading ios player API JSON\n",
      "[youtube] jj2qWDyIC_8: Downloading m3u8 information\n",
      "[info] jj2qWDyIC_8: Downloading 1 format(s): 251\n",
      "[download] Destination: id08581_5_9000_jj2qWDyIC_8_00106\n",
      "[download] 100% of    3.32MiB in 00:00:00 at 9.44MiB/s   \n",
      "[ExtractAudio] Destination: id08581_5_9000_jj2qWDyIC_8_00106.mp3\n",
      "Deleting original file id08581_5_9000_jj2qWDyIC_8_00106 (pass -k to keep)\n",
      "Audio downloaded as id08581_5_9000_jj2qWDyIC_8_00106\n",
      "Trimmed audio saved as ../data/download_df_audio/id08581_5_9000_jj2qWDyIC_8_00106_cut.mp3\n",
      "Speaker: id08581, Video: a2Bt15H2LRM, Txt file: 00091\n",
      "[youtube] Extracting URL: https://www.youtube.com/watch?v=a2Bt15H2LRM\n",
      "[youtube] a2Bt15H2LRM: Downloading webpage\n",
      "[youtube] a2Bt15H2LRM: Downloading tv client config\n",
      "[youtube] a2Bt15H2LRM: Downloading player 5ae7d525\n",
      "[youtube] a2Bt15H2LRM: Downloading tv player API JSON\n",
      "[youtube] a2Bt15H2LRM: Downloading ios player API JSON\n",
      "[youtube] a2Bt15H2LRM: Downloading m3u8 information\n",
      "[info] a2Bt15H2LRM: Downloading 1 format(s): 251\n",
      "[download] Destination: id08581_6_8880_a2Bt15H2LRM_00091\n",
      "[download] 100% of    4.09MiB in 00:00:02 at 1.99MiB/s   \n",
      "[ExtractAudio] Destination: id08581_6_8880_a2Bt15H2LRM_00091.mp3\n",
      "Deleting original file id08581_6_8880_a2Bt15H2LRM_00091 (pass -k to keep)\n",
      "Audio downloaded as id08581_6_8880_a2Bt15H2LRM_00091\n",
      "Trimmed audio saved as ../data/download_df_audio/id08581_6_8880_a2Bt15H2LRM_00091_cut.mp3\n",
      "Speaker: id08581, Video: 3KRHKeynAN8, Txt file: 00011\n"
     ]
    },
    {
     "name": "stderr",
     "output_type": "stream",
     "text": [
      "ERROR: [youtube] 3KRHKeynAN8: Private video. Sign in if you've been granted access to this video. Use --cookies-from-browser or --cookies for the authentication. See  https://github.com/yt-dlp/yt-dlp/wiki/FAQ#how-do-i-pass-cookies-to-yt-dlp  for how to manually pass cookies. Also see  https://github.com/yt-dlp/yt-dlp/wiki/Extractors#exporting-youtube-cookies  for tips on effectively exporting YouTube cookies\n"
     ]
    },
    {
     "name": "stdout",
     "output_type": "stream",
     "text": [
      "Speaker: id08581, Video: jj2qWDyIC_8, Txt file: 00107\n",
      "[youtube] Extracting URL: https://www.youtube.com/watch?v=jj2qWDyIC_8\n",
      "[youtube] jj2qWDyIC_8: Downloading webpage\n",
      "[youtube] jj2qWDyIC_8: Downloading tv client config\n",
      "[youtube] jj2qWDyIC_8: Downloading player 5ae7d525\n",
      "[youtube] jj2qWDyIC_8: Downloading tv player API JSON\n",
      "[youtube] jj2qWDyIC_8: Downloading ios player API JSON\n",
      "[youtube] jj2qWDyIC_8: Downloading m3u8 information\n",
      "[info] jj2qWDyIC_8: Downloading 1 format(s): 251\n",
      "[download] Destination: id08581_7_8200_jj2qWDyIC_8_00107\n",
      "[download] 100% of    3.32MiB in 00:00:00 at 8.79MiB/s   \n",
      "[ExtractAudio] Destination: id08581_7_8200_jj2qWDyIC_8_00107.mp3\n",
      "Deleting original file id08581_7_8200_jj2qWDyIC_8_00107 (pass -k to keep)\n",
      "Audio downloaded as id08581_7_8200_jj2qWDyIC_8_00107\n",
      "Trimmed audio saved as ../data/download_df_audio/id08581_7_8200_jj2qWDyIC_8_00107_cut.mp3\n",
      "Speaker: id08581, Video: faHUsIdvNpI, Txt file: 00101\n",
      "[youtube] Extracting URL: https://www.youtube.com/watch?v=faHUsIdvNpI\n",
      "[youtube] faHUsIdvNpI: Downloading webpage\n",
      "[youtube] faHUsIdvNpI: Downloading tv client config\n",
      "[youtube] faHUsIdvNpI: Downloading player 5ae7d525\n",
      "[youtube] faHUsIdvNpI: Downloading tv player API JSON\n",
      "[youtube] faHUsIdvNpI: Downloading ios player API JSON\n",
      "[youtube] faHUsIdvNpI: Downloading m3u8 information\n",
      "[info] faHUsIdvNpI: Downloading 1 format(s): 140\n",
      "[download] Destination: id08581_8_8160_faHUsIdvNpI_00101\n",
      "[download] 100% of    2.24MiB in 00:00:00 at 8.21MiB/s     \n",
      "[FixupM4a] Correcting container of \"id08581_8_8160_faHUsIdvNpI_00101\"\n",
      "[ExtractAudio] Destination: id08581_8_8160_faHUsIdvNpI_00101.mp3\n",
      "Deleting original file id08581_8_8160_faHUsIdvNpI_00101 (pass -k to keep)\n",
      "Audio downloaded as id08581_8_8160_faHUsIdvNpI_00101\n",
      "Trimmed audio saved as ../data/download_df_audio/id08581_8_8160_faHUsIdvNpI_00101_cut.mp3\n",
      "Speaker: id08581, Video: ZDEWmtmhY4o, Txt file: 00086\n"
     ]
    },
    {
     "name": "stderr",
     "output_type": "stream",
     "text": [
      "ERROR: [youtube] ZDEWmtmhY4o: Video unavailable. This video is no longer available because the YouTube account associated with this video has been terminated.\n"
     ]
    },
    {
     "name": "stdout",
     "output_type": "stream",
     "text": [
      "Speaker: id08581, Video: X5OaKRs0a5o, Txt file: 00085\n",
      "[youtube] Extracting URL: https://www.youtube.com/watch?v=X5OaKRs0a5o\n",
      "[youtube] X5OaKRs0a5o: Downloading webpage\n",
      "[youtube] X5OaKRs0a5o: Downloading tv client config\n",
      "[youtube] X5OaKRs0a5o: Downloading player 5ae7d525\n",
      "[youtube] X5OaKRs0a5o: Downloading tv player API JSON\n",
      "[youtube] X5OaKRs0a5o: Downloading ios player API JSON\n",
      "[youtube] X5OaKRs0a5o: Downloading m3u8 information\n",
      "[info] X5OaKRs0a5o: Downloading 1 format(s): 140\n",
      "[download] Destination: id08581_9_7600_X5OaKRs0a5o_00085\n",
      "[download] 100% of    7.94MiB in 00:00:02 at 3.55MiB/s   \n",
      "[FixupM4a] Correcting container of \"id08581_9_7600_X5OaKRs0a5o_00085\"\n",
      "[ExtractAudio] Destination: id08581_9_7600_X5OaKRs0a5o_00085.mp3\n",
      "Deleting original file id08581_9_7600_X5OaKRs0a5o_00085 (pass -k to keep)\n",
      "Audio downloaded as id08581_9_7600_X5OaKRs0a5o_00085\n",
      "Trimmed audio saved as ../data/download_df_audio/id08581_9_7600_X5OaKRs0a5o_00085_cut.mp3\n",
      "Speaker: id08593, Video: D63OVvHIhd4, Txt file: 00039\n",
      "[youtube] Extracting URL: https://www.youtube.com/watch?v=D63OVvHIhd4\n",
      "[youtube] D63OVvHIhd4: Downloading webpage\n",
      "[youtube] D63OVvHIhd4: Downloading tv client config\n",
      "[youtube] D63OVvHIhd4: Downloading player 5ae7d525\n",
      "[youtube] D63OVvHIhd4: Downloading tv player API JSON\n",
      "[youtube] D63OVvHIhd4: Downloading ios player API JSON\n",
      "[youtube] D63OVvHIhd4: Downloading m3u8 information\n",
      "[info] D63OVvHIhd4: Downloading 1 format(s): 251\n",
      "[download] Destination: id08593_2_15240_D63OVvHIhd4_00039\n",
      "[download] 100% of    2.25MiB in 00:00:00 at 6.82MiB/s   \n",
      "[ExtractAudio] Destination: id08593_2_15240_D63OVvHIhd4_00039.mp3\n",
      "Deleting original file id08593_2_15240_D63OVvHIhd4_00039 (pass -k to keep)\n",
      "Audio downloaded as id08593_2_15240_D63OVvHIhd4_00039\n",
      "Trimmed audio saved as ../data/download_df_audio/id08593_2_15240_D63OVvHIhd4_00039_cut.mp3\n",
      "Speaker: id08593, Video: 6E-HzcmRYnA, Txt file: 00020\n",
      "[youtube] Extracting URL: https://www.youtube.com/watch?v=6E-HzcmRYnA\n",
      "[youtube] 6E-HzcmRYnA: Downloading webpage\n",
      "[youtube] 6E-HzcmRYnA: Downloading tv client config\n",
      "[youtube] 6E-HzcmRYnA: Downloading player 5ae7d525\n",
      "[youtube] 6E-HzcmRYnA: Downloading tv player API JSON\n",
      "[youtube] 6E-HzcmRYnA: Downloading ios player API JSON\n",
      "[youtube] 6E-HzcmRYnA: Downloading m3u8 information\n",
      "[info] 6E-HzcmRYnA: Downloading 1 format(s): 251\n",
      "[download] Destination: id08593_3_13680_6E-HzcmRYnA_00020\n",
      "[download] 100% of    6.07MiB in 00:00:01 at 5.97MiB/s   \n",
      "[ExtractAudio] Destination: id08593_3_13680_6E-HzcmRYnA_00020.mp3\n",
      "Deleting original file id08593_3_13680_6E-HzcmRYnA_00020 (pass -k to keep)\n",
      "Audio downloaded as id08593_3_13680_6E-HzcmRYnA_00020\n",
      "Trimmed audio saved as ../data/download_df_audio/id08593_3_13680_6E-HzcmRYnA_00020_cut.mp3\n",
      "Speaker: id08593, Video: PHQrab15LAY, Txt file: 00074\n",
      "[youtube] Extracting URL: https://www.youtube.com/watch?v=PHQrab15LAY\n",
      "[youtube] PHQrab15LAY: Downloading webpage\n",
      "[youtube] PHQrab15LAY: Downloading tv client config\n",
      "[youtube] PHQrab15LAY: Downloading player 5ae7d525\n",
      "[youtube] PHQrab15LAY: Downloading tv player API JSON\n",
      "[youtube] PHQrab15LAY: Downloading ios player API JSON\n",
      "[youtube] PHQrab15LAY: Downloading m3u8 information\n",
      "[info] PHQrab15LAY: Downloading 1 format(s): 140\n",
      "[download] Destination: id08593_4_12480_PHQrab15LAY_00074\n",
      "[download] 100% of    8.07MiB in 00:00:02 at 3.47MiB/s   \n",
      "[FixupM4a] Correcting container of \"id08593_4_12480_PHQrab15LAY_00074\"\n",
      "[ExtractAudio] Destination: id08593_4_12480_PHQrab15LAY_00074.mp3\n",
      "Deleting original file id08593_4_12480_PHQrab15LAY_00074 (pass -k to keep)\n",
      "Audio downloaded as id08593_4_12480_PHQrab15LAY_00074\n",
      "Trimmed audio saved as ../data/download_df_audio/id08593_4_12480_PHQrab15LAY_00074_cut.mp3\n",
      "Speaker: id08593, Video: D63OVvHIhd4, Txt file: 00036\n",
      "[youtube] Extracting URL: https://www.youtube.com/watch?v=D63OVvHIhd4\n",
      "[youtube] D63OVvHIhd4: Downloading webpage\n",
      "[youtube] D63OVvHIhd4: Downloading tv client config\n",
      "[youtube] D63OVvHIhd4: Downloading player 5ae7d525\n",
      "[youtube] D63OVvHIhd4: Downloading tv player API JSON\n",
      "[youtube] D63OVvHIhd4: Downloading ios player API JSON\n",
      "[youtube] D63OVvHIhd4: Downloading m3u8 information\n",
      "[info] D63OVvHIhd4: Downloading 1 format(s): 251\n",
      "[download] Destination: id08593_5_12160_D63OVvHIhd4_00036\n",
      "[download] 100% of    2.25MiB in 00:00:00 at 6.62MiB/s   \n",
      "[ExtractAudio] Destination: id08593_5_12160_D63OVvHIhd4_00036.mp3\n",
      "Deleting original file id08593_5_12160_D63OVvHIhd4_00036 (pass -k to keep)\n",
      "Audio downloaded as id08593_5_12160_D63OVvHIhd4_00036\n",
      "Trimmed audio saved as ../data/download_df_audio/id08593_5_12160_D63OVvHIhd4_00036_cut.mp3\n",
      "Speaker: id08593, Video: aaADgS32xT8, Txt file: 00115\n",
      "[youtube] Extracting URL: https://www.youtube.com/watch?v=aaADgS32xT8\n",
      "[youtube] aaADgS32xT8: Downloading webpage\n",
      "[youtube] aaADgS32xT8: Downloading tv client config\n",
      "[youtube] aaADgS32xT8: Downloading player 5ae7d525\n",
      "[youtube] aaADgS32xT8: Downloading tv player API JSON\n",
      "[youtube] aaADgS32xT8: Downloading ios player API JSON\n",
      "[youtube] aaADgS32xT8: Downloading m3u8 information\n",
      "[info] aaADgS32xT8: Downloading 1 format(s): 140\n",
      "[download] Destination: id08593_6_11920_aaADgS32xT8_00115\n",
      "[download] 100% of    5.32MiB in 00:00:01 at 3.11MiB/s   \n",
      "[FixupM4a] Correcting container of \"id08593_6_11920_aaADgS32xT8_00115\"\n",
      "[ExtractAudio] Destination: id08593_6_11920_aaADgS32xT8_00115.mp3\n",
      "Deleting original file id08593_6_11920_aaADgS32xT8_00115 (pass -k to keep)\n",
      "Audio downloaded as id08593_6_11920_aaADgS32xT8_00115\n",
      "Trimmed audio saved as ../data/download_df_audio/id08593_6_11920_aaADgS32xT8_00115_cut.mp3\n",
      "Speaker: id08593, Video: PHQrab15LAY, Txt file: 00079\n",
      "[youtube] Extracting URL: https://www.youtube.com/watch?v=PHQrab15LAY\n",
      "[youtube] PHQrab15LAY: Downloading webpage\n",
      "[youtube] PHQrab15LAY: Downloading tv client config\n",
      "[youtube] PHQrab15LAY: Downloading player 5ae7d525\n",
      "[youtube] PHQrab15LAY: Downloading tv player API JSON\n",
      "[youtube] PHQrab15LAY: Downloading ios player API JSON\n",
      "[youtube] PHQrab15LAY: Downloading m3u8 information\n",
      "[info] PHQrab15LAY: Downloading 1 format(s): 140\n",
      "[download] Destination: id08593_7_10960_PHQrab15LAY_00079\n",
      "[download] 100% of    8.07MiB in 00:00:01 at 6.56MiB/s   \n",
      "[FixupM4a] Correcting container of \"id08593_7_10960_PHQrab15LAY_00079\"\n",
      "[ExtractAudio] Destination: id08593_7_10960_PHQrab15LAY_00079.mp3\n",
      "Deleting original file id08593_7_10960_PHQrab15LAY_00079 (pass -k to keep)\n",
      "Audio downloaded as id08593_7_10960_PHQrab15LAY_00079\n",
      "Trimmed audio saved as ../data/download_df_audio/id08593_7_10960_PHQrab15LAY_00079_cut.mp3\n",
      "Speaker: id08593, Video: D63OVvHIhd4, Txt file: 00035\n",
      "[youtube] Extracting URL: https://www.youtube.com/watch?v=D63OVvHIhd4\n",
      "[youtube] D63OVvHIhd4: Downloading webpage\n",
      "[youtube] D63OVvHIhd4: Downloading tv client config\n",
      "[youtube] D63OVvHIhd4: Downloading player 5ae7d525\n",
      "[youtube] D63OVvHIhd4: Downloading tv player API JSON\n",
      "[youtube] D63OVvHIhd4: Downloading ios player API JSON\n",
      "[youtube] D63OVvHIhd4: Downloading m3u8 information\n",
      "[info] D63OVvHIhd4: Downloading 1 format(s): 251\n",
      "[download] Destination: id08593_8_10000_D63OVvHIhd4_00035\n",
      "[download] 100% of    2.25MiB in 00:00:00 at 11.73MiB/s  \n",
      "[ExtractAudio] Destination: id08593_8_10000_D63OVvHIhd4_00035.mp3\n",
      "Deleting original file id08593_8_10000_D63OVvHIhd4_00035 (pass -k to keep)\n",
      "Audio downloaded as id08593_8_10000_D63OVvHIhd4_00035\n",
      "Trimmed audio saved as ../data/download_df_audio/id08593_8_10000_D63OVvHIhd4_00035_cut.mp3\n",
      "Speaker: id08593, Video: QJuvftfIyVM, Txt file: 00084\n",
      "[youtube] Extracting URL: https://www.youtube.com/watch?v=QJuvftfIyVM\n",
      "[youtube] QJuvftfIyVM: Downloading webpage\n",
      "[youtube] QJuvftfIyVM: Downloading tv client config\n",
      "[youtube] QJuvftfIyVM: Downloading player 5ae7d525\n",
      "[youtube] QJuvftfIyVM: Downloading tv player API JSON\n",
      "[youtube] QJuvftfIyVM: Downloading ios player API JSON\n",
      "[youtube] QJuvftfIyVM: Downloading m3u8 information\n",
      "[info] QJuvftfIyVM: Downloading 1 format(s): 251\n",
      "[download] Destination: id08593_9_9600_QJuvftfIyVM_00084\n",
      "[download] 100% of    3.29MiB in 00:00:01 at 1.89MiB/s   \n",
      "[ExtractAudio] Destination: id08593_9_9600_QJuvftfIyVM_00084.mp3\n",
      "Deleting original file id08593_9_9600_QJuvftfIyVM_00084 (pass -k to keep)\n",
      "Audio downloaded as id08593_9_9600_QJuvftfIyVM_00084\n",
      "Trimmed audio saved as ../data/download_df_audio/id08593_9_9600_QJuvftfIyVM_00084_cut.mp3\n",
      "Speaker: id08604, Video: P37QaZ19Mxw, Txt file: 00205\n",
      "[youtube] Extracting URL: https://www.youtube.com/watch?v=P37QaZ19Mxw\n",
      "[youtube] P37QaZ19Mxw: Downloading webpage\n",
      "[youtube] P37QaZ19Mxw: Downloading tv client config\n",
      "[youtube] P37QaZ19Mxw: Downloading player 5ae7d525\n",
      "[youtube] P37QaZ19Mxw: Downloading tv player API JSON\n",
      "[youtube] P37QaZ19Mxw: Downloading ios player API JSON\n",
      "[youtube] P37QaZ19Mxw: Downloading m3u8 information\n",
      "[info] P37QaZ19Mxw: Downloading 1 format(s): 251\n",
      "[download] Destination: id08604_2_52000_P37QaZ19Mxw_00205\n",
      "[download] 100% of    3.17MiB in 00:00:00 at 4.77MiB/s   \n",
      "[ExtractAudio] Destination: id08604_2_52000_P37QaZ19Mxw_00205.mp3\n",
      "Deleting original file id08604_2_52000_P37QaZ19Mxw_00205 (pass -k to keep)\n",
      "Audio downloaded as id08604_2_52000_P37QaZ19Mxw_00205\n",
      "Trimmed audio saved as ../data/download_df_audio/id08604_2_52000_P37QaZ19Mxw_00205_cut.mp3\n",
      "Speaker: id08604, Video: 4X_sbYGJmCw, Txt file: 00006\n",
      "[youtube] Extracting URL: https://www.youtube.com/watch?v=4X_sbYGJmCw\n",
      "[youtube] 4X_sbYGJmCw: Downloading webpage\n",
      "[youtube] 4X_sbYGJmCw: Downloading tv client config\n",
      "[youtube] 4X_sbYGJmCw: Downloading player 5ae7d525\n",
      "[youtube] 4X_sbYGJmCw: Downloading tv player API JSON\n",
      "[youtube] 4X_sbYGJmCw: Downloading ios player API JSON\n",
      "[youtube] 4X_sbYGJmCw: Downloading m3u8 information\n",
      "[info] 4X_sbYGJmCw: Downloading 1 format(s): 251\n",
      "[download] Destination: id08604_3_48640_4X_sbYGJmCw_00006\n",
      "[download] 100% of    4.42MiB in 00:00:00 at 5.96MiB/s     \n",
      "[ExtractAudio] Destination: id08604_3_48640_4X_sbYGJmCw_00006.mp3\n",
      "Deleting original file id08604_3_48640_4X_sbYGJmCw_00006 (pass -k to keep)\n",
      "Audio downloaded as id08604_3_48640_4X_sbYGJmCw_00006\n",
      "Trimmed audio saved as ../data/download_df_audio/id08604_3_48640_4X_sbYGJmCw_00006_cut.mp3\n",
      "Speaker: id08604, Video: qwoxXOHPtzU, Txt file: 00371\n",
      "[youtube] Extracting URL: https://www.youtube.com/watch?v=qwoxXOHPtzU\n",
      "[youtube] qwoxXOHPtzU: Downloading webpage\n",
      "[youtube] qwoxXOHPtzU: Downloading tv client config\n",
      "[youtube] qwoxXOHPtzU: Downloading player 5ae7d525\n",
      "[youtube] qwoxXOHPtzU: Downloading tv player API JSON\n",
      "[youtube] qwoxXOHPtzU: Downloading ios player API JSON\n",
      "[youtube] qwoxXOHPtzU: Downloading m3u8 information\n",
      "[info] qwoxXOHPtzU: Downloading 1 format(s): 140\n",
      "[download] Destination: id08604_4_48480_qwoxXOHPtzU_00371\n",
      "[download] 100% of    3.83MiB in 00:00:01 at 2.71MiB/s   \n",
      "[FixupM4a] Correcting container of \"id08604_4_48480_qwoxXOHPtzU_00371\"\n",
      "[ExtractAudio] Destination: id08604_4_48480_qwoxXOHPtzU_00371.mp3\n",
      "Deleting original file id08604_4_48480_qwoxXOHPtzU_00371 (pass -k to keep)\n",
      "Audio downloaded as id08604_4_48480_qwoxXOHPtzU_00371\n",
      "Trimmed audio saved as ../data/download_df_audio/id08604_4_48480_qwoxXOHPtzU_00371_cut.mp3\n",
      "Speaker: id08604, Video: 4X_sbYGJmCw, Txt file: 00015\n",
      "[youtube] Extracting URL: https://www.youtube.com/watch?v=4X_sbYGJmCw\n",
      "[youtube] 4X_sbYGJmCw: Downloading webpage\n",
      "[youtube] 4X_sbYGJmCw: Downloading tv client config\n",
      "[youtube] 4X_sbYGJmCw: Downloading player 5ae7d525\n",
      "[youtube] 4X_sbYGJmCw: Downloading tv player API JSON\n",
      "[youtube] 4X_sbYGJmCw: Downloading ios player API JSON\n",
      "[youtube] 4X_sbYGJmCw: Downloading m3u8 information\n",
      "[info] 4X_sbYGJmCw: Downloading 1 format(s): 251\n",
      "[download] Destination: id08604_5_43080_4X_sbYGJmCw_00015\n",
      "[download] 100% of    4.42MiB in 00:00:00 at 11.54MiB/s  \n",
      "[ExtractAudio] Destination: id08604_5_43080_4X_sbYGJmCw_00015.mp3\n",
      "Deleting original file id08604_5_43080_4X_sbYGJmCw_00015 (pass -k to keep)\n",
      "Audio downloaded as id08604_5_43080_4X_sbYGJmCw_00015\n",
      "Trimmed audio saved as ../data/download_df_audio/id08604_5_43080_4X_sbYGJmCw_00015_cut.mp3\n",
      "Speaker: id08604, Video: qwoxXOHPtzU, Txt file: 00372\n",
      "[youtube] Extracting URL: https://www.youtube.com/watch?v=qwoxXOHPtzU\n",
      "[youtube] qwoxXOHPtzU: Downloading webpage\n",
      "[youtube] qwoxXOHPtzU: Downloading tv client config\n",
      "[youtube] qwoxXOHPtzU: Downloading player 5ae7d525\n",
      "[youtube] qwoxXOHPtzU: Downloading tv player API JSON\n",
      "[youtube] qwoxXOHPtzU: Downloading ios player API JSON\n",
      "[youtube] qwoxXOHPtzU: Downloading m3u8 information\n",
      "[info] qwoxXOHPtzU: Downloading 1 format(s): 140\n",
      "[download] Destination: id08604_6_34560_qwoxXOHPtzU_00372\n",
      "[download] 100% of    3.83MiB in 00:00:01 at 3.43MiB/s   \n",
      "[FixupM4a] Correcting container of \"id08604_6_34560_qwoxXOHPtzU_00372\"\n",
      "[ExtractAudio] Destination: id08604_6_34560_qwoxXOHPtzU_00372.mp3\n",
      "Deleting original file id08604_6_34560_qwoxXOHPtzU_00372 (pass -k to keep)\n",
      "Audio downloaded as id08604_6_34560_qwoxXOHPtzU_00372\n",
      "Trimmed audio saved as ../data/download_df_audio/id08604_6_34560_qwoxXOHPtzU_00372_cut.mp3\n",
      "Speaker: id08604, Video: uOroQtR_6Xk, Txt file: 00382\n",
      "[youtube] Extracting URL: https://www.youtube.com/watch?v=uOroQtR_6Xk\n",
      "[youtube] uOroQtR_6Xk: Downloading webpage\n",
      "[youtube] uOroQtR_6Xk: Downloading tv client config\n",
      "[youtube] uOroQtR_6Xk: Downloading player 5ae7d525\n",
      "[youtube] uOroQtR_6Xk: Downloading tv player API JSON\n",
      "[youtube] uOroQtR_6Xk: Downloading ios player API JSON\n",
      "[youtube] uOroQtR_6Xk: Downloading m3u8 information\n",
      "[info] uOroQtR_6Xk: Downloading 1 format(s): 251\n",
      "[download] Destination: id08604_7_33120_uOroQtR_6Xk_00382\n",
      "[download] 100% of    2.37MiB in 00:00:01 at 2.17MiB/s   \n",
      "[ExtractAudio] Destination: id08604_7_33120_uOroQtR_6Xk_00382.mp3\n",
      "Deleting original file id08604_7_33120_uOroQtR_6Xk_00382 (pass -k to keep)\n",
      "Audio downloaded as id08604_7_33120_uOroQtR_6Xk_00382\n",
      "Trimmed audio saved as ../data/download_df_audio/id08604_7_33120_uOroQtR_6Xk_00382_cut.mp3\n",
      "Speaker: id08604, Video: LQb4jtGZ6jA, Txt file: 00155\n"
     ]
    },
    {
     "name": "stderr",
     "output_type": "stream",
     "text": [
      "ERROR: [youtube] LQb4jtGZ6jA: Video unavailable\n"
     ]
    },
    {
     "name": "stdout",
     "output_type": "stream",
     "text": [
      "Speaker: id08604, Video: DDIo1I0BZP0, Txt file: 00070\n",
      "[youtube] Extracting URL: https://www.youtube.com/watch?v=DDIo1I0BZP0\n",
      "[youtube] DDIo1I0BZP0: Downloading webpage\n",
      "[youtube] DDIo1I0BZP0: Downloading tv client config\n",
      "[youtube] DDIo1I0BZP0: Downloading player 5ae7d525\n",
      "[youtube] DDIo1I0BZP0: Downloading tv player API JSON\n",
      "[youtube] DDIo1I0BZP0: Downloading ios player API JSON\n",
      "[youtube] DDIo1I0BZP0: Downloading m3u8 information\n",
      "[info] DDIo1I0BZP0: Downloading 1 format(s): 251\n",
      "[download] Destination: id08604_8_28080_DDIo1I0BZP0_00070\n",
      "[download] 100% of    8.02MiB in 00:00:02 at 3.03MiB/s   \n",
      "[ExtractAudio] Destination: id08604_8_28080_DDIo1I0BZP0_00070.mp3\n",
      "Deleting original file id08604_8_28080_DDIo1I0BZP0_00070 (pass -k to keep)\n",
      "Audio downloaded as id08604_8_28080_DDIo1I0BZP0_00070\n",
      "Trimmed audio saved as ../data/download_df_audio/id08604_8_28080_DDIo1I0BZP0_00070_cut.mp3\n",
      "Speaker: id08604, Video: 4kDmQplW_mw, Txt file: 00027\n",
      "[youtube] Extracting URL: https://www.youtube.com/watch?v=4kDmQplW_mw\n",
      "[youtube] 4kDmQplW_mw: Downloading webpage\n",
      "[youtube] 4kDmQplW_mw: Downloading tv client config\n",
      "[youtube] 4kDmQplW_mw: Downloading player 5ae7d525\n",
      "[youtube] 4kDmQplW_mw: Downloading tv player API JSON\n",
      "[youtube] 4kDmQplW_mw: Downloading ios player API JSON\n",
      "[youtube] 4kDmQplW_mw: Downloading m3u8 information\n",
      "[info] 4kDmQplW_mw: Downloading 1 format(s): 251\n",
      "[download] Destination: id08604_9_27840_4kDmQplW_mw_00027\n",
      "[download] 100% of    8.08MiB in 00:00:00 at 8.45MiB/s   \n",
      "[ExtractAudio] Destination: id08604_9_27840_4kDmQplW_mw_00027.mp3\n",
      "Deleting original file id08604_9_27840_4kDmQplW_mw_00027 (pass -k to keep)\n",
      "Audio downloaded as id08604_9_27840_4kDmQplW_mw_00027\n",
      "Trimmed audio saved as ../data/download_df_audio/id08604_9_27840_4kDmQplW_mw_00027_cut.mp3\n",
      "Speaker: id08608, Video: 68GoBUcR4Tg, Txt file: 00015\n",
      "[youtube] Extracting URL: https://www.youtube.com/watch?v=68GoBUcR4Tg\n",
      "[youtube] 68GoBUcR4Tg: Downloading webpage\n",
      "[youtube] 68GoBUcR4Tg: Downloading tv client config\n",
      "[youtube] 68GoBUcR4Tg: Downloading player 5ae7d525\n",
      "[youtube] 68GoBUcR4Tg: Downloading tv player API JSON\n",
      "[youtube] 68GoBUcR4Tg: Downloading ios player API JSON\n",
      "[youtube] 68GoBUcR4Tg: Downloading m3u8 information\n",
      "[info] 68GoBUcR4Tg: Downloading 1 format(s): 258\n",
      "[download] Destination: id08608_2_30680_68GoBUcR4Tg_00015\n",
      "[download] 100% of   16.64MiB in 00:00:01 at 13.70MiB/s    \n",
      "[FixupM4a] Correcting container of \"id08608_2_30680_68GoBUcR4Tg_00015\"\n",
      "[ExtractAudio] Destination: id08608_2_30680_68GoBUcR4Tg_00015.mp3\n",
      "Deleting original file id08608_2_30680_68GoBUcR4Tg_00015 (pass -k to keep)\n",
      "Audio downloaded as id08608_2_30680_68GoBUcR4Tg_00015\n",
      "Trimmed audio saved as ../data/download_df_audio/id08608_2_30680_68GoBUcR4Tg_00015_cut.mp3\n",
      "Speaker: id08608, Video: a4G5It1Dy6A, Txt file: 00157\n",
      "[youtube] Extracting URL: https://www.youtube.com/watch?v=a4G5It1Dy6A\n",
      "[youtube] a4G5It1Dy6A: Downloading webpage\n",
      "[youtube] a4G5It1Dy6A: Downloading tv client config\n",
      "[youtube] a4G5It1Dy6A: Downloading player 5ae7d525\n",
      "[youtube] a4G5It1Dy6A: Downloading tv player API JSON\n",
      "[youtube] a4G5It1Dy6A: Downloading ios player API JSON\n",
      "[youtube] a4G5It1Dy6A: Downloading m3u8 information\n",
      "[info] a4G5It1Dy6A: Downloading 1 format(s): 251\n",
      "[download] Destination: id08608_3_28840_a4G5It1Dy6A_00157\n",
      "[download] 100% of    2.24MiB in 00:00:00 at 5.02MiB/s   \n",
      "[ExtractAudio] Destination: id08608_3_28840_a4G5It1Dy6A_00157.mp3\n",
      "Deleting original file id08608_3_28840_a4G5It1Dy6A_00157 (pass -k to keep)\n",
      "Audio downloaded as id08608_3_28840_a4G5It1Dy6A_00157\n",
      "Trimmed audio saved as ../data/download_df_audio/id08608_3_28840_a4G5It1Dy6A_00157_cut.mp3\n",
      "Speaker: id08608, Video: QpyXTrk8bTo, Txt file: 00132\n",
      "[youtube] Extracting URL: https://www.youtube.com/watch?v=QpyXTrk8bTo\n",
      "[youtube] QpyXTrk8bTo: Downloading webpage\n",
      "[youtube] QpyXTrk8bTo: Downloading tv client config\n",
      "[youtube] QpyXTrk8bTo: Downloading player 5ae7d525\n",
      "[youtube] QpyXTrk8bTo: Downloading tv player API JSON\n",
      "[youtube] QpyXTrk8bTo: Downloading ios player API JSON\n",
      "[youtube] QpyXTrk8bTo: Downloading m3u8 information\n",
      "[info] QpyXTrk8bTo: Downloading 1 format(s): 140\n",
      "[download] Destination: id08608_4_22800_QpyXTrk8bTo_00132\n",
      "[download] 100% of    4.82MiB in 00:00:00 at 6.94MiB/s   \n",
      "[FixupM4a] Correcting container of \"id08608_4_22800_QpyXTrk8bTo_00132\"\n",
      "[ExtractAudio] Destination: id08608_4_22800_QpyXTrk8bTo_00132.mp3\n",
      "Deleting original file id08608_4_22800_QpyXTrk8bTo_00132 (pass -k to keep)\n",
      "Audio downloaded as id08608_4_22800_QpyXTrk8bTo_00132\n",
      "Trimmed audio saved as ../data/download_df_audio/id08608_4_22800_QpyXTrk8bTo_00132_cut.mp3\n",
      "Speaker: id08608, Video: 68GoBUcR4Tg, Txt file: 00014\n",
      "[youtube] Extracting URL: https://www.youtube.com/watch?v=68GoBUcR4Tg\n",
      "[youtube] 68GoBUcR4Tg: Downloading webpage\n",
      "[youtube] 68GoBUcR4Tg: Downloading tv client config\n",
      "[youtube] 68GoBUcR4Tg: Downloading player 5ae7d525\n",
      "[youtube] 68GoBUcR4Tg: Downloading tv player API JSON\n",
      "[youtube] 68GoBUcR4Tg: Downloading ios player API JSON\n",
      "[youtube] 68GoBUcR4Tg: Downloading m3u8 information\n",
      "[info] 68GoBUcR4Tg: Downloading 1 format(s): 258\n",
      "[download] Destination: id08608_5_21840_68GoBUcR4Tg_00014\n",
      "[download] 100% of   16.64MiB in 00:00:01 at 15.57MiB/s    \n",
      "[FixupM4a] Correcting container of \"id08608_5_21840_68GoBUcR4Tg_00014\"\n",
      "[ExtractAudio] Destination: id08608_5_21840_68GoBUcR4Tg_00014.mp3\n",
      "Deleting original file id08608_5_21840_68GoBUcR4Tg_00014 (pass -k to keep)\n",
      "Audio downloaded as id08608_5_21840_68GoBUcR4Tg_00014\n",
      "Trimmed audio saved as ../data/download_df_audio/id08608_5_21840_68GoBUcR4Tg_00014_cut.mp3\n",
      "Speaker: id08608, Video: tqu3CGhMOx0, Txt file: 00243\n",
      "[youtube] Extracting URL: https://www.youtube.com/watch?v=tqu3CGhMOx0\n",
      "[youtube] tqu3CGhMOx0: Downloading webpage\n",
      "[youtube] tqu3CGhMOx0: Downloading tv client config\n",
      "[youtube] tqu3CGhMOx0: Downloading player 5ae7d525\n",
      "[youtube] tqu3CGhMOx0: Downloading tv player API JSON\n",
      "[youtube] tqu3CGhMOx0: Downloading ios player API JSON\n",
      "[youtube] tqu3CGhMOx0: Downloading m3u8 information\n",
      "[info] tqu3CGhMOx0: Downloading 1 format(s): 140\n",
      "[download] Destination: id08608_6_17040_tqu3CGhMOx0_00243\n",
      "[download] 100% of    7.13MiB in 00:00:00 at 10.62MiB/s  \n",
      "[FixupM4a] Correcting container of \"id08608_6_17040_tqu3CGhMOx0_00243\"\n",
      "[ExtractAudio] Destination: id08608_6_17040_tqu3CGhMOx0_00243.mp3\n",
      "Deleting original file id08608_6_17040_tqu3CGhMOx0_00243 (pass -k to keep)\n",
      "Audio downloaded as id08608_6_17040_tqu3CGhMOx0_00243\n",
      "Trimmed audio saved as ../data/download_df_audio/id08608_6_17040_tqu3CGhMOx0_00243_cut.mp3\n",
      "Speaker: id08608, Video: CL0TH53hEpw, Txt file: 00060\n",
      "[youtube] Extracting URL: https://www.youtube.com/watch?v=CL0TH53hEpw\n",
      "[youtube] CL0TH53hEpw: Downloading webpage\n",
      "[youtube] CL0TH53hEpw: Downloading tv client config\n",
      "[youtube] CL0TH53hEpw: Downloading player 5ae7d525\n",
      "[youtube] CL0TH53hEpw: Downloading tv player API JSON\n",
      "[youtube] CL0TH53hEpw: Downloading ios player API JSON\n",
      "[youtube] CL0TH53hEpw: Downloading m3u8 information\n",
      "[info] CL0TH53hEpw: Downloading 1 format(s): 140\n",
      "[download] Destination: id08608_7_15480_CL0TH53hEpw_00060\n",
      "[download] 100% of    5.91MiB in 00:00:00 at 6.38MiB/s   \n",
      "[FixupM4a] Correcting container of \"id08608_7_15480_CL0TH53hEpw_00060\"\n",
      "[ExtractAudio] Destination: id08608_7_15480_CL0TH53hEpw_00060.mp3\n",
      "Deleting original file id08608_7_15480_CL0TH53hEpw_00060 (pass -k to keep)\n",
      "Audio downloaded as id08608_7_15480_CL0TH53hEpw_00060\n",
      "Trimmed audio saved as ../data/download_df_audio/id08608_7_15480_CL0TH53hEpw_00060_cut.mp3\n",
      "Speaker: id08608, Video: 8YzOxtDt9KE, Txt file: 00030\n",
      "[youtube] Extracting URL: https://www.youtube.com/watch?v=8YzOxtDt9KE\n",
      "[youtube] 8YzOxtDt9KE: Downloading webpage\n",
      "[youtube] 8YzOxtDt9KE: Downloading tv client config\n",
      "[youtube] 8YzOxtDt9KE: Downloading player 5ae7d525\n",
      "[youtube] 8YzOxtDt9KE: Downloading tv player API JSON\n",
      "[youtube] 8YzOxtDt9KE: Downloading ios player API JSON\n",
      "[youtube] 8YzOxtDt9KE: Downloading m3u8 information\n",
      "[info] 8YzOxtDt9KE: Downloading 1 format(s): 251\n",
      "[download] Destination: id08608_8_15440_8YzOxtDt9KE_00030\n",
      "[download] 100% of    5.79MiB in 00:00:00 at 9.14MiB/s   \n",
      "[ExtractAudio] Destination: id08608_8_15440_8YzOxtDt9KE_00030.mp3\n",
      "Deleting original file id08608_8_15440_8YzOxtDt9KE_00030 (pass -k to keep)\n",
      "Audio downloaded as id08608_8_15440_8YzOxtDt9KE_00030\n",
      "Trimmed audio saved as ../data/download_df_audio/id08608_8_15440_8YzOxtDt9KE_00030_cut.mp3\n",
      "Speaker: id08608, Video: a4G5It1Dy6A, Txt file: 00159\n",
      "[youtube] Extracting URL: https://www.youtube.com/watch?v=a4G5It1Dy6A\n",
      "[youtube] a4G5It1Dy6A: Downloading webpage\n",
      "[youtube] a4G5It1Dy6A: Downloading tv client config\n",
      "[youtube] a4G5It1Dy6A: Downloading player 5ae7d525\n",
      "[youtube] a4G5It1Dy6A: Downloading tv player API JSON\n",
      "[youtube] a4G5It1Dy6A: Downloading ios player API JSON\n",
      "[youtube] a4G5It1Dy6A: Downloading m3u8 information\n",
      "[info] a4G5It1Dy6A: Downloading 1 format(s): 251\n",
      "[download] Destination: id08608_9_15280_a4G5It1Dy6A_00159\n",
      "[download] 100% of    2.24MiB in 00:00:00 at 10.39MiB/s  \n",
      "[ExtractAudio] Destination: id08608_9_15280_a4G5It1Dy6A_00159.mp3\n",
      "Deleting original file id08608_9_15280_a4G5It1Dy6A_00159 (pass -k to keep)\n",
      "Audio downloaded as id08608_9_15280_a4G5It1Dy6A_00159\n",
      "Trimmed audio saved as ../data/download_df_audio/id08608_9_15280_a4G5It1Dy6A_00159_cut.mp3\n",
      "Speaker: id08612, Video: yfE-Qeu1rl0, Txt file: 00071\n",
      "[youtube] Extracting URL: https://www.youtube.com/watch?v=yfE-Qeu1rl0\n",
      "[youtube] yfE-Qeu1rl0: Downloading webpage\n",
      "[youtube] yfE-Qeu1rl0: Downloading tv client config\n",
      "[youtube] yfE-Qeu1rl0: Downloading player 5ae7d525\n",
      "[youtube] yfE-Qeu1rl0: Downloading tv player API JSON\n",
      "[youtube] yfE-Qeu1rl0: Downloading ios player API JSON\n",
      "[youtube] yfE-Qeu1rl0: Downloading m3u8 information\n",
      "[info] yfE-Qeu1rl0: Downloading 1 format(s): 140\n",
      "[download] Destination: id08612_2_22440_yfE-Qeu1rl0_00071\n",
      "[download] 100% of    4.31MiB in 00:00:01 at 3.38MiB/s   \n",
      "[FixupM4a] Correcting container of \"id08612_2_22440_yfE-Qeu1rl0_00071\"\n",
      "[ExtractAudio] Destination: id08612_2_22440_yfE-Qeu1rl0_00071.mp3\n",
      "Deleting original file id08612_2_22440_yfE-Qeu1rl0_00071 (pass -k to keep)\n",
      "Audio downloaded as id08612_2_22440_yfE-Qeu1rl0_00071\n",
      "Trimmed audio saved as ../data/download_df_audio/id08612_2_22440_yfE-Qeu1rl0_00071_cut.mp3\n",
      "Speaker: id08612, Video: aqIqfAG837o, Txt file: 00036\n",
      "[youtube] Extracting URL: https://www.youtube.com/watch?v=aqIqfAG837o\n",
      "[youtube] aqIqfAG837o: Downloading webpage\n",
      "[youtube] aqIqfAG837o: Downloading tv client config\n",
      "[youtube] aqIqfAG837o: Downloading player 5ae7d525\n",
      "[youtube] aqIqfAG837o: Downloading tv player API JSON\n",
      "[youtube] aqIqfAG837o: Downloading ios player API JSON\n",
      "[youtube] aqIqfAG837o: Downloading m3u8 information\n",
      "[info] aqIqfAG837o: Downloading 1 format(s): 251\n",
      "[download] Destination: id08612_3_20880_aqIqfAG837o_00036\n",
      "[download] 100% of    2.25MiB in 00:00:00 at 4.91MiB/s   \n",
      "[ExtractAudio] Destination: id08612_3_20880_aqIqfAG837o_00036.mp3\n",
      "Deleting original file id08612_3_20880_aqIqfAG837o_00036 (pass -k to keep)\n",
      "Audio downloaded as id08612_3_20880_aqIqfAG837o_00036\n",
      "Trimmed audio saved as ../data/download_df_audio/id08612_3_20880_aqIqfAG837o_00036_cut.mp3\n",
      "Speaker: id08612, Video: uPGub6MlOH8, Txt file: 00043\n",
      "[youtube] Extracting URL: https://www.youtube.com/watch?v=uPGub6MlOH8\n",
      "[youtube] uPGub6MlOH8: Downloading webpage\n",
      "[youtube] uPGub6MlOH8: Downloading tv client config\n",
      "[youtube] uPGub6MlOH8: Downloading player 5ae7d525\n",
      "[youtube] uPGub6MlOH8: Downloading tv player API JSON\n",
      "[youtube] uPGub6MlOH8: Downloading ios player API JSON\n",
      "[youtube] uPGub6MlOH8: Downloading m3u8 information\n",
      "[info] uPGub6MlOH8: Downloading 1 format(s): 251\n",
      "[download] Destination: id08612_4_19120_uPGub6MlOH8_00043\n",
      "[download] 100% of    4.83MiB in 00:00:01 at 3.53MiB/s   \n",
      "[ExtractAudio] Destination: id08612_4_19120_uPGub6MlOH8_00043.mp3\n",
      "Deleting original file id08612_4_19120_uPGub6MlOH8_00043 (pass -k to keep)\n",
      "Audio downloaded as id08612_4_19120_uPGub6MlOH8_00043\n",
      "Trimmed audio saved as ../data/download_df_audio/id08612_4_19120_uPGub6MlOH8_00043_cut.mp3\n",
      "Speaker: id08612, Video: yfE-Qeu1rl0, Txt file: 00078\n",
      "[youtube] Extracting URL: https://www.youtube.com/watch?v=yfE-Qeu1rl0\n",
      "[youtube] yfE-Qeu1rl0: Downloading webpage\n",
      "[youtube] yfE-Qeu1rl0: Downloading tv client config\n",
      "[youtube] yfE-Qeu1rl0: Downloading player 5ae7d525\n",
      "[youtube] yfE-Qeu1rl0: Downloading tv player API JSON\n",
      "[youtube] yfE-Qeu1rl0: Downloading ios player API JSON\n",
      "[youtube] yfE-Qeu1rl0: Downloading m3u8 information\n",
      "[info] yfE-Qeu1rl0: Downloading 1 format(s): 140\n",
      "[download] Destination: id08612_5_18000_yfE-Qeu1rl0_00078\n",
      "[download] 100% of    4.31MiB in 00:00:00 at 5.48MiB/s     \n",
      "[FixupM4a] Correcting container of \"id08612_5_18000_yfE-Qeu1rl0_00078\"\n",
      "[ExtractAudio] Destination: id08612_5_18000_yfE-Qeu1rl0_00078.mp3\n",
      "Deleting original file id08612_5_18000_yfE-Qeu1rl0_00078 (pass -k to keep)\n",
      "Audio downloaded as id08612_5_18000_yfE-Qeu1rl0_00078\n",
      "Trimmed audio saved as ../data/download_df_audio/id08612_5_18000_yfE-Qeu1rl0_00078_cut.mp3\n",
      "Speaker: id08612, Video: uQ1FMo0VWOY, Txt file: 00062\n",
      "[youtube] Extracting URL: https://www.youtube.com/watch?v=uQ1FMo0VWOY\n",
      "[youtube] uQ1FMo0VWOY: Downloading webpage\n",
      "[youtube] uQ1FMo0VWOY: Downloading tv client config\n",
      "[youtube] uQ1FMo0VWOY: Downloading player 5ae7d525\n",
      "[youtube] uQ1FMo0VWOY: Downloading tv player API JSON\n",
      "[youtube] uQ1FMo0VWOY: Downloading ios player API JSON\n",
      "[youtube] uQ1FMo0VWOY: Downloading m3u8 information\n",
      "[info] uQ1FMo0VWOY: Downloading 1 format(s): 251\n",
      "[download] Destination: id08612_6_17320_uQ1FMo0VWOY_00062\n",
      "[download] 100% of    3.76MiB in 00:00:02 at 1.67MiB/s   \n",
      "[ExtractAudio] Destination: id08612_6_17320_uQ1FMo0VWOY_00062.mp3\n",
      "Deleting original file id08612_6_17320_uQ1FMo0VWOY_00062 (pass -k to keep)\n",
      "Audio downloaded as id08612_6_17320_uQ1FMo0VWOY_00062\n",
      "Trimmed audio saved as ../data/download_df_audio/id08612_6_17320_uQ1FMo0VWOY_00062_cut.mp3\n",
      "Speaker: id08612, Video: yfE-Qeu1rl0, Txt file: 00069\n",
      "[youtube] Extracting URL: https://www.youtube.com/watch?v=yfE-Qeu1rl0\n",
      "[youtube] yfE-Qeu1rl0: Downloading webpage\n",
      "[youtube] yfE-Qeu1rl0: Downloading tv client config\n",
      "[youtube] yfE-Qeu1rl0: Downloading player 5ae7d525\n",
      "[youtube] yfE-Qeu1rl0: Downloading tv player API JSON\n",
      "[youtube] yfE-Qeu1rl0: Downloading ios player API JSON\n",
      "[youtube] yfE-Qeu1rl0: Downloading m3u8 information\n",
      "[info] yfE-Qeu1rl0: Downloading 1 format(s): 140\n",
      "[download] Destination: id08612_7_15400_yfE-Qeu1rl0_00069\n",
      "[download] 100% of    4.31MiB in 00:00:00 at 13.30MiB/s  \n",
      "[FixupM4a] Correcting container of \"id08612_7_15400_yfE-Qeu1rl0_00069\"\n",
      "[ExtractAudio] Destination: id08612_7_15400_yfE-Qeu1rl0_00069.mp3\n",
      "Deleting original file id08612_7_15400_yfE-Qeu1rl0_00069 (pass -k to keep)\n",
      "Audio downloaded as id08612_7_15400_yfE-Qeu1rl0_00069\n",
      "Trimmed audio saved as ../data/download_df_audio/id08612_7_15400_yfE-Qeu1rl0_00069_cut.mp3\n",
      "Speaker: id08612, Video: TVL22cCUmzY, Txt file: 00023\n",
      "[youtube] Extracting URL: https://www.youtube.com/watch?v=TVL22cCUmzY\n",
      "[youtube] TVL22cCUmzY: Downloading webpage\n",
      "[youtube] TVL22cCUmzY: Downloading tv client config\n",
      "[youtube] TVL22cCUmzY: Downloading player 5ae7d525\n",
      "[youtube] TVL22cCUmzY: Downloading tv player API JSON\n",
      "[youtube] TVL22cCUmzY: Downloading ios player API JSON\n",
      "[youtube] TVL22cCUmzY: Downloading m3u8 information\n",
      "[info] TVL22cCUmzY: Downloading 1 format(s): 140\n",
      "[download] Destination: id08612_8_13400_TVL22cCUmzY_00023\n",
      "[download] 100% of    6.75MiB in 00:00:02 at 3.17MiB/s   \n",
      "[FixupM4a] Correcting container of \"id08612_8_13400_TVL22cCUmzY_00023\"\n",
      "[ExtractAudio] Destination: id08612_8_13400_TVL22cCUmzY_00023.mp3\n",
      "Deleting original file id08612_8_13400_TVL22cCUmzY_00023 (pass -k to keep)\n",
      "Audio downloaded as id08612_8_13400_TVL22cCUmzY_00023\n",
      "Trimmed audio saved as ../data/download_df_audio/id08612_8_13400_TVL22cCUmzY_00023_cut.mp3\n",
      "Speaker: id08612, Video: 2G5IBh9Ww2c, Txt file: 00004\n",
      "[youtube] Extracting URL: https://www.youtube.com/watch?v=2G5IBh9Ww2c\n",
      "[youtube] 2G5IBh9Ww2c: Downloading webpage\n",
      "[youtube] 2G5IBh9Ww2c: Downloading tv client config\n",
      "[youtube] 2G5IBh9Ww2c: Downloading player 5ae7d525\n",
      "[youtube] 2G5IBh9Ww2c: Downloading tv player API JSON\n",
      "[youtube] 2G5IBh9Ww2c: Downloading ios player API JSON\n",
      "[youtube] 2G5IBh9Ww2c: Downloading m3u8 information\n",
      "[info] 2G5IBh9Ww2c: Downloading 1 format(s): 251\n",
      "[download] Destination: id08612_9_11880_2G5IBh9Ww2c_00004\n",
      "[download] 100% of    2.60MiB in 00:00:00 at 6.62MiB/s   \n",
      "[ExtractAudio] Destination: id08612_9_11880_2G5IBh9Ww2c_00004.mp3\n",
      "Deleting original file id08612_9_11880_2G5IBh9Ww2c_00004 (pass -k to keep)\n",
      "Audio downloaded as id08612_9_11880_2G5IBh9Ww2c_00004\n",
      "Trimmed audio saved as ../data/download_df_audio/id08612_9_11880_2G5IBh9Ww2c_00004_cut.mp3\n",
      "Speaker: id08642, Video: rGVtvVCiC_0, Txt file: 00104\n",
      "[youtube] Extracting URL: https://www.youtube.com/watch?v=rGVtvVCiC_0\n",
      "[youtube] rGVtvVCiC_0: Downloading webpage\n",
      "[youtube] rGVtvVCiC_0: Downloading tv client config\n",
      "[youtube] rGVtvVCiC_0: Downloading player 5ae7d525\n",
      "[youtube] rGVtvVCiC_0: Downloading tv player API JSON\n",
      "[youtube] rGVtvVCiC_0: Downloading ios player API JSON\n",
      "[youtube] rGVtvVCiC_0: Downloading m3u8 information\n",
      "[info] rGVtvVCiC_0: Downloading 1 format(s): 251\n",
      "[download] Destination: id08642_2_14560_rGVtvVCiC_0_00104\n",
      "[download] 100% of    1.29MiB in 00:00:00 at 2.83MiB/s   \n",
      "[ExtractAudio] Destination: id08642_2_14560_rGVtvVCiC_0_00104.mp3\n",
      "Deleting original file id08642_2_14560_rGVtvVCiC_0_00104 (pass -k to keep)\n",
      "Audio downloaded as id08642_2_14560_rGVtvVCiC_0_00104\n",
      "Trimmed audio saved as ../data/download_df_audio/id08642_2_14560_rGVtvVCiC_0_00104_cut.mp3\n",
      "Speaker: id08642, Video: YD2gllIEOkg, Txt file: 00038\n",
      "[youtube] Extracting URL: https://www.youtube.com/watch?v=YD2gllIEOkg\n",
      "[youtube] YD2gllIEOkg: Downloading webpage\n",
      "[youtube] YD2gllIEOkg: Downloading tv client config\n",
      "[youtube] YD2gllIEOkg: Downloading player 5ae7d525\n",
      "[youtube] YD2gllIEOkg: Downloading tv player API JSON\n",
      "[youtube] YD2gllIEOkg: Downloading ios player API JSON\n",
      "[youtube] YD2gllIEOkg: Downloading m3u8 information\n",
      "[info] YD2gllIEOkg: Downloading 1 format(s): 251\n",
      "[download] Destination: id08642_3_13680_YD2gllIEOkg_00038\n",
      "[download] 100% of    2.41MiB in 00:00:00 at 6.01MiB/s   \n",
      "[ExtractAudio] Destination: id08642_3_13680_YD2gllIEOkg_00038.mp3\n",
      "Deleting original file id08642_3_13680_YD2gllIEOkg_00038 (pass -k to keep)\n",
      "Audio downloaded as id08642_3_13680_YD2gllIEOkg_00038\n",
      "Trimmed audio saved as ../data/download_df_audio/id08642_3_13680_YD2gllIEOkg_00038_cut.mp3\n",
      "Speaker: id08642, Video: JmYItTdWD48, Txt file: 00019\n",
      "[youtube] Extracting URL: https://www.youtube.com/watch?v=JmYItTdWD48\n",
      "[youtube] JmYItTdWD48: Downloading webpage\n",
      "[youtube] JmYItTdWD48: Downloading tv client config\n",
      "[youtube] JmYItTdWD48: Downloading player 5ae7d525\n",
      "[youtube] JmYItTdWD48: Downloading tv player API JSON\n",
      "[youtube] JmYItTdWD48: Downloading ios player API JSON\n",
      "[youtube] JmYItTdWD48: Downloading m3u8 information\n",
      "[info] JmYItTdWD48: Downloading 1 format(s): 251\n",
      "[download] Destination: id08642_4_12880_JmYItTdWD48_00019\n",
      "[download] 100% of    1.96MiB in 00:00:00 at 2.68MiB/s   \n",
      "[ExtractAudio] Destination: id08642_4_12880_JmYItTdWD48_00019.mp3\n",
      "Deleting original file id08642_4_12880_JmYItTdWD48_00019 (pass -k to keep)\n",
      "Audio downloaded as id08642_4_12880_JmYItTdWD48_00019\n",
      "Trimmed audio saved as ../data/download_df_audio/id08642_4_12880_JmYItTdWD48_00019_cut.mp3\n",
      "Speaker: id08642, Video: 3ftQR8Z-WrE, Txt file: 00008\n"
     ]
    },
    {
     "name": "stderr",
     "output_type": "stream",
     "text": [
      "ERROR: [youtube] 3ftQR8Z-WrE: Video unavailable. This video is no longer available because the YouTube account associated with this video has been terminated.\n"
     ]
    },
    {
     "name": "stdout",
     "output_type": "stream",
     "text": [
      "Speaker: id08642, Video: bQuImtoOJ9k, Txt file: 00062\n"
     ]
    },
    {
     "name": "stderr",
     "output_type": "stream",
     "text": [
      "ERROR: [youtube] bQuImtoOJ9k: Video unavailable\n"
     ]
    },
    {
     "name": "stdout",
     "output_type": "stream",
     "text": [
      "Speaker: id08642, Video: YD2gllIEOkg, Txt file: 00043\n",
      "[youtube] Extracting URL: https://www.youtube.com/watch?v=YD2gllIEOkg\n",
      "[youtube] YD2gllIEOkg: Downloading webpage\n",
      "[youtube] YD2gllIEOkg: Downloading tv client config\n",
      "[youtube] YD2gllIEOkg: Downloading player 5ae7d525\n",
      "[youtube] YD2gllIEOkg: Downloading tv player API JSON\n",
      "[youtube] YD2gllIEOkg: Downloading ios player API JSON\n",
      "[youtube] YD2gllIEOkg: Downloading m3u8 information\n",
      "[info] YD2gllIEOkg: Downloading 1 format(s): 251\n",
      "[download] Destination: id08642_5_10320_YD2gllIEOkg_00043\n",
      "[download] 100% of    2.41MiB in 00:00:00 at 6.30MiB/s   \n",
      "[ExtractAudio] Destination: id08642_5_10320_YD2gllIEOkg_00043.mp3\n",
      "Deleting original file id08642_5_10320_YD2gllIEOkg_00043 (pass -k to keep)\n",
      "Audio downloaded as id08642_5_10320_YD2gllIEOkg_00043\n",
      "Trimmed audio saved as ../data/download_df_audio/id08642_5_10320_YD2gllIEOkg_00043_cut.mp3\n",
      "Speaker: id08642, Video: cbaACgfRbd4, Txt file: 00074\n",
      "[youtube] Extracting URL: https://www.youtube.com/watch?v=cbaACgfRbd4\n",
      "[youtube] cbaACgfRbd4: Downloading webpage\n",
      "[youtube] cbaACgfRbd4: Downloading tv client config\n",
      "[youtube] cbaACgfRbd4: Downloading player 5ae7d525\n",
      "[youtube] cbaACgfRbd4: Downloading tv player API JSON\n",
      "[youtube] cbaACgfRbd4: Downloading ios player API JSON\n",
      "[youtube] cbaACgfRbd4: Downloading m3u8 information\n",
      "[info] cbaACgfRbd4: Downloading 1 format(s): 251\n",
      "[download] Destination: id08642_6_10160_cbaACgfRbd4_00074\n",
      "[download] 100% of    4.70MiB in 00:00:00 at 4.85MiB/s   \n",
      "[ExtractAudio] Destination: id08642_6_10160_cbaACgfRbd4_00074.mp3\n",
      "Deleting original file id08642_6_10160_cbaACgfRbd4_00074 (pass -k to keep)\n",
      "Audio downloaded as id08642_6_10160_cbaACgfRbd4_00074\n",
      "Trimmed audio saved as ../data/download_df_audio/id08642_6_10160_cbaACgfRbd4_00074_cut.mp3\n",
      "Speaker: id08642, Video: qksmOok10Tc, Txt file: 00097\n",
      "[youtube] Extracting URL: https://www.youtube.com/watch?v=qksmOok10Tc\n",
      "[youtube] qksmOok10Tc: Downloading webpage\n",
      "[youtube] qksmOok10Tc: Downloading tv client config\n",
      "[youtube] qksmOok10Tc: Downloading player 5ae7d525\n",
      "[youtube] qksmOok10Tc: Downloading tv player API JSON\n",
      "[youtube] qksmOok10Tc: Downloading ios player API JSON\n",
      "[youtube] qksmOok10Tc: Downloading m3u8 information\n",
      "[info] qksmOok10Tc: Downloading 1 format(s): 140\n",
      "[download] Destination: id08642_7_9960_qksmOok10Tc_00097\n",
      "[download] 100% of    9.91MiB in 00:00:02 at 4.17MiB/s     \n",
      "[FixupM4a] Correcting container of \"id08642_7_9960_qksmOok10Tc_00097\"\n",
      "[ExtractAudio] Destination: id08642_7_9960_qksmOok10Tc_00097.mp3\n",
      "Deleting original file id08642_7_9960_qksmOok10Tc_00097 (pass -k to keep)\n",
      "Audio downloaded as id08642_7_9960_qksmOok10Tc_00097\n",
      "Trimmed audio saved as ../data/download_df_audio/id08642_7_9960_qksmOok10Tc_00097_cut.mp3\n",
      "Speaker: id08642, Video: cbaACgfRbd4, Txt file: 00075\n",
      "[youtube] Extracting URL: https://www.youtube.com/watch?v=cbaACgfRbd4\n",
      "[youtube] cbaACgfRbd4: Downloading webpage\n",
      "[youtube] cbaACgfRbd4: Downloading tv client config\n",
      "[youtube] cbaACgfRbd4: Downloading player 5ae7d525\n",
      "[youtube] cbaACgfRbd4: Downloading tv player API JSON\n",
      "[youtube] cbaACgfRbd4: Downloading ios player API JSON\n",
      "[youtube] cbaACgfRbd4: Downloading m3u8 information\n",
      "[info] cbaACgfRbd4: Downloading 1 format(s): 251\n",
      "[download] Destination: id08642_8_9840_cbaACgfRbd4_00075\n",
      "[download] 100% of    4.70MiB in 00:00:00 at 9.86MiB/s   \n",
      "[ExtractAudio] Destination: id08642_8_9840_cbaACgfRbd4_00075.mp3\n",
      "Deleting original file id08642_8_9840_cbaACgfRbd4_00075 (pass -k to keep)\n",
      "Audio downloaded as id08642_8_9840_cbaACgfRbd4_00075\n",
      "Trimmed audio saved as ../data/download_df_audio/id08642_8_9840_cbaACgfRbd4_00075_cut.mp3\n",
      "Speaker: id08642, Video: WHWpdcbPRp4, Txt file: 00032\n",
      "[youtube] Extracting URL: https://www.youtube.com/watch?v=WHWpdcbPRp4\n",
      "[youtube] WHWpdcbPRp4: Downloading webpage\n",
      "[youtube] WHWpdcbPRp4: Downloading tv client config\n",
      "[youtube] WHWpdcbPRp4: Downloading player 5ae7d525\n",
      "[youtube] WHWpdcbPRp4: Downloading tv player API JSON\n",
      "[youtube] WHWpdcbPRp4: Downloading ios player API JSON\n",
      "[youtube] WHWpdcbPRp4: Downloading m3u8 information\n",
      "[info] WHWpdcbPRp4: Downloading 1 format(s): 251\n",
      "[download] Destination: id08642_9_9840_WHWpdcbPRp4_00032\n",
      "[download] 100% of    1.21MiB in 00:00:00 at 4.82MiB/s   \n",
      "[ExtractAudio] Destination: id08642_9_9840_WHWpdcbPRp4_00032.mp3\n",
      "Deleting original file id08642_9_9840_WHWpdcbPRp4_00032 (pass -k to keep)\n",
      "Audio downloaded as id08642_9_9840_WHWpdcbPRp4_00032\n",
      "Trimmed audio saved as ../data/download_df_audio/id08642_9_9840_WHWpdcbPRp4_00032_cut.mp3\n",
      "Speaker: id08659, Video: 1CwDdr1ioXU, Txt file: 00003\n",
      "[youtube] Extracting URL: https://www.youtube.com/watch?v=1CwDdr1ioXU\n",
      "[youtube] 1CwDdr1ioXU: Downloading webpage\n",
      "[youtube] 1CwDdr1ioXU: Downloading tv client config\n",
      "[youtube] 1CwDdr1ioXU: Downloading player 5ae7d525\n",
      "[youtube] 1CwDdr1ioXU: Downloading tv player API JSON\n",
      "[youtube] 1CwDdr1ioXU: Downloading ios player API JSON\n",
      "[youtube] 1CwDdr1ioXU: Downloading m3u8 information\n",
      "[info] 1CwDdr1ioXU: Downloading 1 format(s): 140\n",
      "[download] Destination: id08659_2_19400_1CwDdr1ioXU_00003\n",
      "[download] 100% of    1.95MiB in 00:00:00 at 3.47MiB/s   \n",
      "[FixupM4a] Correcting container of \"id08659_2_19400_1CwDdr1ioXU_00003\"\n",
      "[ExtractAudio] Destination: id08659_2_19400_1CwDdr1ioXU_00003.mp3\n",
      "Deleting original file id08659_2_19400_1CwDdr1ioXU_00003 (pass -k to keep)\n",
      "Audio downloaded as id08659_2_19400_1CwDdr1ioXU_00003\n",
      "Trimmed audio saved as ../data/download_df_audio/id08659_2_19400_1CwDdr1ioXU_00003_cut.mp3\n",
      "Speaker: id08659, Video: iYs7IHjqXZE, Txt file: 00133\n",
      "[youtube] Extracting URL: https://www.youtube.com/watch?v=iYs7IHjqXZE\n",
      "[youtube] iYs7IHjqXZE: Downloading webpage\n",
      "[youtube] iYs7IHjqXZE: Downloading tv client config\n",
      "[youtube] iYs7IHjqXZE: Downloading player 5ae7d525\n",
      "[youtube] iYs7IHjqXZE: Downloading tv player API JSON\n",
      "[youtube] iYs7IHjqXZE: Downloading ios player API JSON\n",
      "[youtube] iYs7IHjqXZE: Downloading m3u8 information\n",
      "[info] iYs7IHjqXZE: Downloading 1 format(s): 140\n",
      "[download] Destination: id08659_3_16239_iYs7IHjqXZE_00133\n",
      "[download] 100% of    7.18MiB in 00:00:01 at 5.59MiB/s   \n",
      "[FixupM4a] Correcting container of \"id08659_3_16239_iYs7IHjqXZE_00133\"\n",
      "[ExtractAudio] Destination: id08659_3_16239_iYs7IHjqXZE_00133.mp3\n",
      "Deleting original file id08659_3_16239_iYs7IHjqXZE_00133 (pass -k to keep)\n",
      "Audio downloaded as id08659_3_16239_iYs7IHjqXZE_00133\n",
      "Trimmed audio saved as ../data/download_df_audio/id08659_3_16239_iYs7IHjqXZE_00133_cut.mp3\n",
      "Speaker: id08659, Video: qwHpN7bl7As, Txt file: 00161\n",
      "[youtube] Extracting URL: https://www.youtube.com/watch?v=qwHpN7bl7As\n",
      "[youtube] qwHpN7bl7As: Downloading webpage\n",
      "[youtube] qwHpN7bl7As: Downloading tv client config\n",
      "[youtube] qwHpN7bl7As: Downloading player 5ae7d525\n",
      "[youtube] qwHpN7bl7As: Downloading tv player API JSON\n",
      "[youtube] qwHpN7bl7As: Downloading ios player API JSON\n",
      "[youtube] qwHpN7bl7As: Downloading m3u8 information\n",
      "[info] qwHpN7bl7As: Downloading 1 format(s): 140\n",
      "[download] Destination: id08659_4_16000_qwHpN7bl7As_00161\n",
      "[download] 100% of    4.09MiB in 00:00:01 at 2.17MiB/s   \n",
      "[FixupM4a] Correcting container of \"id08659_4_16000_qwHpN7bl7As_00161\"\n",
      "[ExtractAudio] Destination: id08659_4_16000_qwHpN7bl7As_00161.mp3\n",
      "Deleting original file id08659_4_16000_qwHpN7bl7As_00161 (pass -k to keep)\n",
      "Audio downloaded as id08659_4_16000_qwHpN7bl7As_00161\n",
      "Trimmed audio saved as ../data/download_df_audio/id08659_4_16000_qwHpN7bl7As_00161_cut.mp3\n",
      "Speaker: id08659, Video: 5fSJkWbtDy8, Txt file: 00018\n",
      "[youtube] Extracting URL: https://www.youtube.com/watch?v=5fSJkWbtDy8\n",
      "[youtube] 5fSJkWbtDy8: Downloading webpage\n",
      "[youtube] 5fSJkWbtDy8: Downloading tv client config\n",
      "[youtube] 5fSJkWbtDy8: Downloading player 5ae7d525\n",
      "[youtube] 5fSJkWbtDy8: Downloading tv player API JSON\n",
      "[youtube] 5fSJkWbtDy8: Downloading ios player API JSON\n",
      "[youtube] 5fSJkWbtDy8: Downloading m3u8 information\n",
      "[info] 5fSJkWbtDy8: Downloading 1 format(s): 251\n",
      "[download] Destination: id08659_5_15040_5fSJkWbtDy8_00018\n",
      "[download] 100% of    3.72MiB in 00:00:00 at 4.55MiB/s   \n",
      "[ExtractAudio] Destination: id08659_5_15040_5fSJkWbtDy8_00018.mp3\n",
      "Deleting original file id08659_5_15040_5fSJkWbtDy8_00018 (pass -k to keep)\n",
      "Audio downloaded as id08659_5_15040_5fSJkWbtDy8_00018\n",
      "Trimmed audio saved as ../data/download_df_audio/id08659_5_15040_5fSJkWbtDy8_00018_cut.mp3\n",
      "Speaker: id08659, Video: T4xlX5Aloj0, Txt file: 00075\n",
      "[youtube] Extracting URL: https://www.youtube.com/watch?v=T4xlX5Aloj0\n",
      "[youtube] T4xlX5Aloj0: Downloading webpage\n",
      "[youtube] T4xlX5Aloj0: Downloading tv client config\n",
      "[youtube] T4xlX5Aloj0: Downloading player 5ae7d525\n",
      "[youtube] T4xlX5Aloj0: Downloading tv player API JSON\n",
      "[youtube] T4xlX5Aloj0: Downloading ios player API JSON\n",
      "[youtube] T4xlX5Aloj0: Downloading m3u8 information\n",
      "[info] T4xlX5Aloj0: Downloading 1 format(s): 140\n",
      "[download] Destination: id08659_6_14880_T4xlX5Aloj0_00075\n",
      "[download] 100% of    4.01MiB in 00:00:01 at 2.17MiB/s   \n",
      "[FixupM4a] Correcting container of \"id08659_6_14880_T4xlX5Aloj0_00075\"\n",
      "[ExtractAudio] Destination: id08659_6_14880_T4xlX5Aloj0_00075.mp3\n",
      "Deleting original file id08659_6_14880_T4xlX5Aloj0_00075 (pass -k to keep)\n",
      "Audio downloaded as id08659_6_14880_T4xlX5Aloj0_00075\n",
      "Trimmed audio saved as ../data/download_df_audio/id08659_6_14880_T4xlX5Aloj0_00075_cut.mp3\n",
      "Speaker: id08659, Video: 5fSJkWbtDy8, Txt file: 00017\n",
      "[youtube] Extracting URL: https://www.youtube.com/watch?v=5fSJkWbtDy8\n",
      "[youtube] 5fSJkWbtDy8: Downloading webpage\n",
      "[youtube] 5fSJkWbtDy8: Downloading tv client config\n",
      "[youtube] 5fSJkWbtDy8: Downloading player 5ae7d525\n",
      "[youtube] 5fSJkWbtDy8: Downloading tv player API JSON\n",
      "[youtube] 5fSJkWbtDy8: Downloading ios player API JSON\n",
      "[youtube] 5fSJkWbtDy8: Downloading m3u8 information\n",
      "[info] 5fSJkWbtDy8: Downloading 1 format(s): 251\n",
      "[download] Destination: id08659_7_14720_5fSJkWbtDy8_00017\n",
      "[download] 100% of    3.72MiB in 00:00:00 at 7.21MiB/s   \n",
      "[ExtractAudio] Destination: id08659_7_14720_5fSJkWbtDy8_00017.mp3\n",
      "Deleting original file id08659_7_14720_5fSJkWbtDy8_00017 (pass -k to keep)\n",
      "Audio downloaded as id08659_7_14720_5fSJkWbtDy8_00017\n",
      "Trimmed audio saved as ../data/download_df_audio/id08659_7_14720_5fSJkWbtDy8_00017_cut.mp3\n",
      "Speaker: id08659, Video: iYs7IHjqXZE, Txt file: 00128\n",
      "[youtube] Extracting URL: https://www.youtube.com/watch?v=iYs7IHjqXZE\n",
      "[youtube] iYs7IHjqXZE: Downloading webpage\n",
      "[youtube] iYs7IHjqXZE: Downloading tv client config\n",
      "[youtube] iYs7IHjqXZE: Downloading player 5ae7d525\n",
      "[youtube] iYs7IHjqXZE: Downloading tv player API JSON\n",
      "[youtube] iYs7IHjqXZE: Downloading ios player API JSON\n",
      "[youtube] iYs7IHjqXZE: Downloading m3u8 information\n",
      "[info] iYs7IHjqXZE: Downloading 1 format(s): 140\n",
      "[download] Destination: id08659_8_14360_iYs7IHjqXZE_00128\n",
      "[download] 100% of    7.18MiB in 00:00:00 at 13.78MiB/s  \n",
      "[FixupM4a] Correcting container of \"id08659_8_14360_iYs7IHjqXZE_00128\"\n",
      "[ExtractAudio] Destination: id08659_8_14360_iYs7IHjqXZE_00128.mp3\n",
      "Deleting original file id08659_8_14360_iYs7IHjqXZE_00128 (pass -k to keep)\n",
      "Audio downloaded as id08659_8_14360_iYs7IHjqXZE_00128\n",
      "Trimmed audio saved as ../data/download_df_audio/id08659_8_14360_iYs7IHjqXZE_00128_cut.mp3\n",
      "Speaker: id08659, Video: 5fSJkWbtDy8, Txt file: 00021\n",
      "[youtube] Extracting URL: https://www.youtube.com/watch?v=5fSJkWbtDy8\n",
      "[youtube] 5fSJkWbtDy8: Downloading webpage\n",
      "[youtube] 5fSJkWbtDy8: Downloading tv client config\n",
      "[youtube] 5fSJkWbtDy8: Downloading player 5ae7d525\n",
      "[youtube] 5fSJkWbtDy8: Downloading tv player API JSON\n",
      "[youtube] 5fSJkWbtDy8: Downloading ios player API JSON\n",
      "[youtube] 5fSJkWbtDy8: Downloading m3u8 information\n",
      "[info] 5fSJkWbtDy8: Downloading 1 format(s): 251\n",
      "[download] Destination: id08659_9_14320_5fSJkWbtDy8_00021\n",
      "[download] 100% of    3.72MiB in 00:00:00 at 12.89MiB/s  \n",
      "[ExtractAudio] Destination: id08659_9_14320_5fSJkWbtDy8_00021.mp3\n",
      "Deleting original file id08659_9_14320_5fSJkWbtDy8_00021 (pass -k to keep)\n",
      "Audio downloaded as id08659_9_14320_5fSJkWbtDy8_00021\n",
      "Trimmed audio saved as ../data/download_df_audio/id08659_9_14320_5fSJkWbtDy8_00021_cut.mp3\n",
      "Speaker: id08687, Video: LLXE4gTmM20, Txt file: 00005\n",
      "[youtube] Extracting URL: https://www.youtube.com/watch?v=LLXE4gTmM20\n",
      "[youtube] LLXE4gTmM20: Downloading webpage\n",
      "[youtube] LLXE4gTmM20: Downloading tv client config\n",
      "[youtube] LLXE4gTmM20: Downloading player 5ae7d525\n",
      "[youtube] LLXE4gTmM20: Downloading tv player API JSON\n",
      "[youtube] LLXE4gTmM20: Downloading ios player API JSON\n",
      "[youtube] LLXE4gTmM20: Downloading m3u8 information\n",
      "[info] LLXE4gTmM20: Downloading 1 format(s): 140\n",
      "[download] Destination: id08687_2_8080_LLXE4gTmM20_00005\n",
      "[download] 100% of    5.12MiB in 00:00:00 at 7.55MiB/s     \n",
      "[FixupM4a] Correcting container of \"id08687_2_8080_LLXE4gTmM20_00005\"\n",
      "[ExtractAudio] Destination: id08687_2_8080_LLXE4gTmM20_00005.mp3\n",
      "Deleting original file id08687_2_8080_LLXE4gTmM20_00005 (pass -k to keep)\n",
      "Audio downloaded as id08687_2_8080_LLXE4gTmM20_00005\n",
      "Trimmed audio saved as ../data/download_df_audio/id08687_2_8080_LLXE4gTmM20_00005_cut.mp3\n",
      "Speaker: id08687, Video: M-59CE8KADE, Txt file: 00006\n",
      "[youtube] Extracting URL: https://www.youtube.com/watch?v=M-59CE8KADE\n",
      "[youtube] M-59CE8KADE: Downloading webpage\n",
      "[youtube] M-59CE8KADE: Downloading tv client config\n",
      "[youtube] M-59CE8KADE: Downloading player 5ae7d525\n",
      "[youtube] M-59CE8KADE: Downloading tv player API JSON\n",
      "[youtube] M-59CE8KADE: Downloading ios player API JSON\n",
      "[youtube] M-59CE8KADE: Downloading m3u8 information\n",
      "[info] M-59CE8KADE: Downloading 1 format(s): 140\n",
      "[download] Destination: id08687_3_8000_M-59CE8KADE_00006\n",
      "[download] 100% of   17.81MiB in 00:00:02 at 7.32MiB/s     \n",
      "[FixupM4a] Correcting container of \"id08687_3_8000_M-59CE8KADE_00006\"\n",
      "[ExtractAudio] Destination: id08687_3_8000_M-59CE8KADE_00006.mp3\n",
      "Deleting original file id08687_3_8000_M-59CE8KADE_00006 (pass -k to keep)\n",
      "Audio downloaded as id08687_3_8000_M-59CE8KADE_00006\n",
      "Trimmed audio saved as ../data/download_df_audio/id08687_3_8000_M-59CE8KADE_00006_cut.mp3\n",
      "Speaker: id08687, Video: 78VdewHkLRg, Txt file: 00001\n",
      "[youtube] Extracting URL: https://www.youtube.com/watch?v=78VdewHkLRg\n",
      "[youtube] 78VdewHkLRg: Downloading webpage\n",
      "[youtube] 78VdewHkLRg: Downloading tv client config\n",
      "[youtube] 78VdewHkLRg: Downloading player 5ae7d525\n",
      "[youtube] 78VdewHkLRg: Downloading tv player API JSON\n",
      "[youtube] 78VdewHkLRg: Downloading ios player API JSON\n",
      "[youtube] 78VdewHkLRg: Downloading m3u8 information\n",
      "[info] 78VdewHkLRg: Downloading 1 format(s): 251\n",
      "[download] Destination: id08687_4_7720_78VdewHkLRg_00001\n",
      "[download] 100% of    1.87MiB in 00:00:00 at 2.98MiB/s   \n",
      "[ExtractAudio] Destination: id08687_4_7720_78VdewHkLRg_00001.mp3\n",
      "Deleting original file id08687_4_7720_78VdewHkLRg_00001 (pass -k to keep)\n",
      "Audio downloaded as id08687_4_7720_78VdewHkLRg_00001\n",
      "Trimmed audio saved as ../data/download_df_audio/id08687_4_7720_78VdewHkLRg_00001_cut.mp3\n",
      "Speaker: id08687, Video: M-59CE8KADE, Txt file: 00007\n",
      "[youtube] Extracting URL: https://www.youtube.com/watch?v=M-59CE8KADE\n",
      "[youtube] M-59CE8KADE: Downloading webpage\n",
      "[youtube] M-59CE8KADE: Downloading tv client config\n",
      "[youtube] M-59CE8KADE: Downloading player 5ae7d525\n",
      "[youtube] M-59CE8KADE: Downloading tv player API JSON\n",
      "[youtube] M-59CE8KADE: Downloading ios player API JSON\n",
      "[youtube] M-59CE8KADE: Downloading m3u8 information\n",
      "[info] M-59CE8KADE: Downloading 1 format(s): 140\n",
      "[download] Destination: id08687_5_7440_M-59CE8KADE_00007\n",
      "[download] 100% of   17.81MiB in 00:00:01 at 14.85MiB/s    \n",
      "[FixupM4a] Correcting container of \"id08687_5_7440_M-59CE8KADE_00007\"\n",
      "[ExtractAudio] Destination: id08687_5_7440_M-59CE8KADE_00007.mp3\n",
      "Deleting original file id08687_5_7440_M-59CE8KADE_00007 (pass -k to keep)\n",
      "Audio downloaded as id08687_5_7440_M-59CE8KADE_00007\n",
      "Trimmed audio saved as ../data/download_df_audio/id08687_5_7440_M-59CE8KADE_00007_cut.mp3\n",
      "Speaker: id08687, Video: cMYB_CVzX9U, Txt file: 00013\n"
     ]
    },
    {
     "name": "stderr",
     "output_type": "stream",
     "text": [
      "ERROR: [youtube] cMYB_CVzX9U: Private video. Sign in if you've been granted access to this video. Use --cookies-from-browser or --cookies for the authentication. See  https://github.com/yt-dlp/yt-dlp/wiki/FAQ#how-do-i-pass-cookies-to-yt-dlp  for how to manually pass cookies. Also see  https://github.com/yt-dlp/yt-dlp/wiki/Extractors#exporting-youtube-cookies  for tips on effectively exporting YouTube cookies\n"
     ]
    },
    {
     "name": "stdout",
     "output_type": "stream",
     "text": [
      "Speaker: id08687, Video: iK5z1ZyBTqE, Txt file: 00023\n",
      "[youtube] Extracting URL: https://www.youtube.com/watch?v=iK5z1ZyBTqE\n",
      "[youtube] iK5z1ZyBTqE: Downloading webpage\n",
      "[youtube] iK5z1ZyBTqE: Downloading tv client config\n",
      "[youtube] iK5z1ZyBTqE: Downloading player 5ae7d525\n",
      "[youtube] iK5z1ZyBTqE: Downloading tv player API JSON\n",
      "[youtube] iK5z1ZyBTqE: Downloading ios player API JSON\n",
      "[youtube] iK5z1ZyBTqE: Downloading m3u8 information\n",
      "[info] iK5z1ZyBTqE: Downloading 1 format(s): 251\n",
      "[download] Destination: id08687_6_7280_iK5z1ZyBTqE_00023\n",
      "[download] 100% of    5.65MiB in 00:00:00 at 7.36MiB/s   \n",
      "[ExtractAudio] Destination: id08687_6_7280_iK5z1ZyBTqE_00023.mp3\n",
      "Deleting original file id08687_6_7280_iK5z1ZyBTqE_00023 (pass -k to keep)\n",
      "Audio downloaded as id08687_6_7280_iK5z1ZyBTqE_00023\n",
      "Trimmed audio saved as ../data/download_df_audio/id08687_6_7280_iK5z1ZyBTqE_00023_cut.mp3\n",
      "Speaker: id08687, Video: cMYB_CVzX9U, Txt file: 00020\n"
     ]
    },
    {
     "name": "stderr",
     "output_type": "stream",
     "text": [
      "ERROR: [youtube] cMYB_CVzX9U: Private video. Sign in if you've been granted access to this video. Use --cookies-from-browser or --cookies for the authentication. See  https://github.com/yt-dlp/yt-dlp/wiki/FAQ#how-do-i-pass-cookies-to-yt-dlp  for how to manually pass cookies. Also see  https://github.com/yt-dlp/yt-dlp/wiki/Extractors#exporting-youtube-cookies  for tips on effectively exporting YouTube cookies\n"
     ]
    },
    {
     "name": "stdout",
     "output_type": "stream",
     "text": [
      "Speaker: id08687, Video: cMYB_CVzX9U, Txt file: 00017\n"
     ]
    },
    {
     "name": "stderr",
     "output_type": "stream",
     "text": [
      "ERROR: [youtube] cMYB_CVzX9U: Private video. Sign in if you've been granted access to this video. Use --cookies-from-browser or --cookies for the authentication. See  https://github.com/yt-dlp/yt-dlp/wiki/FAQ#how-do-i-pass-cookies-to-yt-dlp  for how to manually pass cookies. Also see  https://github.com/yt-dlp/yt-dlp/wiki/Extractors#exporting-youtube-cookies  for tips on effectively exporting YouTube cookies\n"
     ]
    },
    {
     "name": "stdout",
     "output_type": "stream",
     "text": [
      "Speaker: id08687, Video: M-59CE8KADE, Txt file: 00008\n",
      "[youtube] Extracting URL: https://www.youtube.com/watch?v=M-59CE8KADE\n",
      "[youtube] M-59CE8KADE: Downloading webpage\n",
      "[youtube] M-59CE8KADE: Downloading tv client config\n",
      "[youtube] M-59CE8KADE: Downloading player 5ae7d525\n",
      "[youtube] M-59CE8KADE: Downloading tv player API JSON\n",
      "[youtube] M-59CE8KADE: Downloading ios player API JSON\n",
      "[youtube] M-59CE8KADE: Downloading m3u8 information\n",
      "[info] M-59CE8KADE: Downloading 1 format(s): 140\n",
      "[download] Destination: id08687_7_7000_M-59CE8KADE_00008\n",
      "[download] 100% of   17.81MiB in 00:00:01 at 12.90MiB/s    \n",
      "[FixupM4a] Correcting container of \"id08687_7_7000_M-59CE8KADE_00008\"\n",
      "[ExtractAudio] Destination: id08687_7_7000_M-59CE8KADE_00008.mp3\n",
      "Deleting original file id08687_7_7000_M-59CE8KADE_00008 (pass -k to keep)\n",
      "Audio downloaded as id08687_7_7000_M-59CE8KADE_00008\n",
      "Trimmed audio saved as ../data/download_df_audio/id08687_7_7000_M-59CE8KADE_00008_cut.mp3\n",
      "Speaker: id08687, Video: iK5z1ZyBTqE, Txt file: 00024\n",
      "[youtube] Extracting URL: https://www.youtube.com/watch?v=iK5z1ZyBTqE\n",
      "[youtube] iK5z1ZyBTqE: Downloading webpage\n",
      "[youtube] iK5z1ZyBTqE: Downloading tv client config\n",
      "[youtube] iK5z1ZyBTqE: Downloading player 5ae7d525\n",
      "[youtube] iK5z1ZyBTqE: Downloading tv player API JSON\n",
      "[youtube] iK5z1ZyBTqE: Downloading ios player API JSON\n",
      "[youtube] iK5z1ZyBTqE: Downloading m3u8 information\n",
      "[info] iK5z1ZyBTqE: Downloading 1 format(s): 251\n",
      "[download] Destination: id08687_8_6880_iK5z1ZyBTqE_00024\n",
      "[download] 100% of    5.65MiB in 00:00:00 at 8.18MiB/s     \n",
      "[ExtractAudio] Destination: id08687_8_6880_iK5z1ZyBTqE_00024.mp3\n",
      "Deleting original file id08687_8_6880_iK5z1ZyBTqE_00024 (pass -k to keep)\n",
      "Audio downloaded as id08687_8_6880_iK5z1ZyBTqE_00024\n",
      "Trimmed audio saved as ../data/download_df_audio/id08687_8_6880_iK5z1ZyBTqE_00024_cut.mp3\n",
      "Speaker: id08687, Video: OWg122nxIgM, Txt file: 00010\n",
      "[youtube] Extracting URL: https://www.youtube.com/watch?v=OWg122nxIgM\n",
      "[youtube] OWg122nxIgM: Downloading webpage\n",
      "[youtube] OWg122nxIgM: Downloading tv client config\n",
      "[youtube] OWg122nxIgM: Downloading player 5ae7d525\n",
      "[youtube] OWg122nxIgM: Downloading tv player API JSON\n",
      "[youtube] OWg122nxIgM: Downloading ios player API JSON\n",
      "[youtube] OWg122nxIgM: Downloading m3u8 information\n",
      "[info] OWg122nxIgM: Downloading 1 format(s): 251\n",
      "[download] Destination: id08687_9_5920_OWg122nxIgM_00010\n",
      "[download] 100% of    4.42MiB in 00:00:00 at 6.44MiB/s   \n",
      "[ExtractAudio] Destination: id08687_9_5920_OWg122nxIgM_00010.mp3\n",
      "Deleting original file id08687_9_5920_OWg122nxIgM_00010 (pass -k to keep)\n",
      "Audio downloaded as id08687_9_5920_OWg122nxIgM_00010\n",
      "Trimmed audio saved as ../data/download_df_audio/id08687_9_5920_OWg122nxIgM_00010_cut.mp3\n",
      "Speaker: id08714, Video: lXJfDvRMbRo, Txt file: 00390\n"
     ]
    },
    {
     "name": "stderr",
     "output_type": "stream",
     "text": [
      "ERROR: [youtube] lXJfDvRMbRo: Private video. Sign in if you've been granted access to this video. Use --cookies-from-browser or --cookies for the authentication. See  https://github.com/yt-dlp/yt-dlp/wiki/FAQ#how-do-i-pass-cookies-to-yt-dlp  for how to manually pass cookies. Also see  https://github.com/yt-dlp/yt-dlp/wiki/Extractors#exporting-youtube-cookies  for tips on effectively exporting YouTube cookies\n"
     ]
    },
    {
     "name": "stdout",
     "output_type": "stream",
     "text": [
      "Speaker: id08714, Video: rgxgz92RCTM, Txt file: 00465\n"
     ]
    },
    {
     "name": "stderr",
     "output_type": "stream",
     "text": [
      "ERROR: [youtube] rgxgz92RCTM: Video unavailable\n"
     ]
    },
    {
     "name": "stdout",
     "output_type": "stream",
     "text": [
      "Speaker: id08714, Video: lXJfDvRMbRo, Txt file: 00396\n"
     ]
    },
    {
     "name": "stderr",
     "output_type": "stream",
     "text": [
      "ERROR: [youtube] lXJfDvRMbRo: Private video. Sign in if you've been granted access to this video. Use --cookies-from-browser or --cookies for the authentication. See  https://github.com/yt-dlp/yt-dlp/wiki/FAQ#how-do-i-pass-cookies-to-yt-dlp  for how to manually pass cookies. Also see  https://github.com/yt-dlp/yt-dlp/wiki/Extractors#exporting-youtube-cookies  for tips on effectively exporting YouTube cookies\n"
     ]
    },
    {
     "name": "stdout",
     "output_type": "stream",
     "text": [
      "Speaker: id08714, Video: 4I3GfZCZ1pk, Txt file: 00007\n",
      "[youtube] Extracting URL: https://www.youtube.com/watch?v=4I3GfZCZ1pk\n",
      "[youtube] 4I3GfZCZ1pk: Downloading webpage\n",
      "[youtube] 4I3GfZCZ1pk: Downloading tv client config\n",
      "[youtube] 4I3GfZCZ1pk: Downloading player 5ae7d525\n",
      "[youtube] 4I3GfZCZ1pk: Downloading tv player API JSON\n",
      "[youtube] 4I3GfZCZ1pk: Downloading ios player API JSON\n",
      "[youtube] 4I3GfZCZ1pk: Downloading m3u8 information\n",
      "[info] 4I3GfZCZ1pk: Downloading 1 format(s): 251\n",
      "[download] Destination: id08714_2_37160_4I3GfZCZ1pk_00007\n",
      "[download] 100% of   10.29MiB in 00:00:03 at 2.69MiB/s     \n",
      "[ExtractAudio] Destination: id08714_2_37160_4I3GfZCZ1pk_00007.mp3\n",
      "Deleting original file id08714_2_37160_4I3GfZCZ1pk_00007 (pass -k to keep)\n",
      "Audio downloaded as id08714_2_37160_4I3GfZCZ1pk_00007\n",
      "Trimmed audio saved as ../data/download_df_audio/id08714_2_37160_4I3GfZCZ1pk_00007_cut.mp3\n",
      "Speaker: id08714, Video: BqrrSRps59s, Txt file: 00159\n"
     ]
    },
    {
     "name": "stderr",
     "output_type": "stream",
     "text": [
      "ERROR: [youtube] BqrrSRps59s: Video unavailable. This video is no longer available because the YouTube account associated with this video has been terminated.\n"
     ]
    },
    {
     "name": "stdout",
     "output_type": "stream",
     "text": [
      "Speaker: id08714, Video: 9uGO8J0w6C0, Txt file: 00107\n"
     ]
    },
    {
     "name": "stderr",
     "output_type": "stream",
     "text": [
      "ERROR: [youtube] 9uGO8J0w6C0: Video unavailable. This video is no longer available because the YouTube account associated with this video has been terminated.\n"
     ]
    },
    {
     "name": "stdout",
     "output_type": "stream",
     "text": [
      "Speaker: id08714, Video: B0G8mvB534M, Txt file: 00131\n"
     ]
    },
    {
     "name": "stderr",
     "output_type": "stream",
     "text": [
      "ERROR: [youtube] B0G8mvB534M: Video unavailable. This video is no longer available because the YouTube account associated with this video has been terminated.\n"
     ]
    },
    {
     "name": "stdout",
     "output_type": "stream",
     "text": [
      "Speaker: id08714, Video: YjX_OZyWbII, Txt file: 00318\n",
      "[youtube] Extracting URL: https://www.youtube.com/watch?v=YjX_OZyWbII\n",
      "[youtube] YjX_OZyWbII: Downloading webpage\n",
      "[youtube] YjX_OZyWbII: Downloading tv client config\n",
      "[youtube] YjX_OZyWbII: Downloading player 5ae7d525\n",
      "[youtube] YjX_OZyWbII: Downloading tv player API JSON\n",
      "[youtube] YjX_OZyWbII: Downloading ios player API JSON\n",
      "[youtube] YjX_OZyWbII: Downloading m3u8 information\n",
      "[info] YjX_OZyWbII: Downloading 1 format(s): 140\n",
      "[download] Destination: id08714_3_27560_YjX_OZyWbII_00318\n",
      "[download] 100% of    5.87MiB in 00:00:00 at 9.22MiB/s   \n",
      "[FixupM4a] Correcting container of \"id08714_3_27560_YjX_OZyWbII_00318\"\n",
      "[ExtractAudio] Destination: id08714_3_27560_YjX_OZyWbII_00318.mp3\n",
      "Deleting original file id08714_3_27560_YjX_OZyWbII_00318 (pass -k to keep)\n",
      "Audio downloaded as id08714_3_27560_YjX_OZyWbII_00318\n",
      "Trimmed audio saved as ../data/download_df_audio/id08714_3_27560_YjX_OZyWbII_00318_cut.mp3\n",
      "Speaker: id08714, Video: HmVWYipNue8, Txt file: 00185\n",
      "[youtube] Extracting URL: https://www.youtube.com/watch?v=HmVWYipNue8\n",
      "[youtube] HmVWYipNue8: Downloading webpage\n",
      "[youtube] HmVWYipNue8: Downloading tv client config\n",
      "[youtube] HmVWYipNue8: Downloading player 5ae7d525\n",
      "[youtube] HmVWYipNue8: Downloading tv player API JSON\n",
      "[youtube] HmVWYipNue8: Downloading ios player API JSON\n",
      "[youtube] HmVWYipNue8: Downloading m3u8 information\n",
      "[info] HmVWYipNue8: Downloading 1 format(s): 251\n",
      "[download] Destination: id08714_4_26160_HmVWYipNue8_00185\n",
      "[download] 100% of    7.32MiB in 00:00:02 at 3.16MiB/s   \n",
      "[ExtractAudio] Destination: id08714_4_26160_HmVWYipNue8_00185.mp3\n",
      "Deleting original file id08714_4_26160_HmVWYipNue8_00185 (pass -k to keep)\n",
      "Audio downloaded as id08714_4_26160_HmVWYipNue8_00185\n",
      "Trimmed audio saved as ../data/download_df_audio/id08714_4_26160_HmVWYipNue8_00185_cut.mp3\n",
      "Speaker: id08714, Video: 9KzWrrO7vqc, Txt file: 00065\n",
      "[youtube] Extracting URL: https://www.youtube.com/watch?v=9KzWrrO7vqc\n",
      "[youtube] 9KzWrrO7vqc: Downloading webpage\n",
      "[youtube] 9KzWrrO7vqc: Downloading tv client config\n",
      "[youtube] 9KzWrrO7vqc: Downloading player 5ae7d525\n",
      "[youtube] 9KzWrrO7vqc: Downloading tv player API JSON\n",
      "[youtube] 9KzWrrO7vqc: Downloading ios player API JSON\n",
      "[youtube] 9KzWrrO7vqc: Downloading m3u8 information\n",
      "[info] 9KzWrrO7vqc: Downloading 1 format(s): 251\n",
      "[download] Destination: id08714_5_26120_9KzWrrO7vqc_00065\n",
      "[download] 100% of    4.59MiB in 00:00:02 at 1.85MiB/s   \n",
      "[ExtractAudio] Destination: id08714_5_26120_9KzWrrO7vqc_00065.mp3\n",
      "Deleting original file id08714_5_26120_9KzWrrO7vqc_00065 (pass -k to keep)\n",
      "Audio downloaded as id08714_5_26120_9KzWrrO7vqc_00065\n",
      "Trimmed audio saved as ../data/download_df_audio/id08714_5_26120_9KzWrrO7vqc_00065_cut.mp3\n",
      "Speaker: id08714, Video: 7Ophbx1iaF8, Txt file: 00053\n",
      "[youtube] Extracting URL: https://www.youtube.com/watch?v=7Ophbx1iaF8\n",
      "[youtube] 7Ophbx1iaF8: Downloading webpage\n",
      "[youtube] 7Ophbx1iaF8: Downloading tv client config\n",
      "[youtube] 7Ophbx1iaF8: Downloading player 5ae7d525\n",
      "[youtube] 7Ophbx1iaF8: Downloading tv player API JSON\n",
      "[youtube] 7Ophbx1iaF8: Downloading ios player API JSON\n",
      "[youtube] 7Ophbx1iaF8: Downloading m3u8 information\n",
      "[info] 7Ophbx1iaF8: Downloading 1 format(s): 251\n",
      "[download] Destination: id08714_6_25920_7Ophbx1iaF8_00053\n",
      "[download] 100% of    7.25MiB in 00:00:00 at 8.13MiB/s   \n",
      "[ExtractAudio] Destination: id08714_6_25920_7Ophbx1iaF8_00053.mp3\n",
      "Deleting original file id08714_6_25920_7Ophbx1iaF8_00053 (pass -k to keep)\n",
      "Audio downloaded as id08714_6_25920_7Ophbx1iaF8_00053\n",
      "Trimmed audio saved as ../data/download_df_audio/id08714_6_25920_7Ophbx1iaF8_00053_cut.mp3\n",
      "Speaker: id08714, Video: 9uGO8J0w6C0, Txt file: 00100\n"
     ]
    },
    {
     "name": "stderr",
     "output_type": "stream",
     "text": [
      "ERROR: [youtube] 9uGO8J0w6C0: Video unavailable. This video is no longer available because the YouTube account associated with this video has been terminated.\n"
     ]
    },
    {
     "name": "stdout",
     "output_type": "stream",
     "text": [
      "Speaker: id08714, Video: lXJfDvRMbRo, Txt file: 00393\n"
     ]
    },
    {
     "name": "stderr",
     "output_type": "stream",
     "text": [
      "ERROR: [youtube] lXJfDvRMbRo: Private video. Sign in if you've been granted access to this video. Use --cookies-from-browser or --cookies for the authentication. See  https://github.com/yt-dlp/yt-dlp/wiki/FAQ#how-do-i-pass-cookies-to-yt-dlp  for how to manually pass cookies. Also see  https://github.com/yt-dlp/yt-dlp/wiki/Extractors#exporting-youtube-cookies  for tips on effectively exporting YouTube cookies\n"
     ]
    },
    {
     "name": "stdout",
     "output_type": "stream",
     "text": [
      "Speaker: id08714, Video: lXJfDvRMbRo, Txt file: 00392\n"
     ]
    },
    {
     "name": "stderr",
     "output_type": "stream",
     "text": [
      "ERROR: [youtube] lXJfDvRMbRo: Private video. Sign in if you've been granted access to this video. Use --cookies-from-browser or --cookies for the authentication. See  https://github.com/yt-dlp/yt-dlp/wiki/FAQ#how-do-i-pass-cookies-to-yt-dlp  for how to manually pass cookies. Also see  https://github.com/yt-dlp/yt-dlp/wiki/Extractors#exporting-youtube-cookies  for tips on effectively exporting YouTube cookies\n"
     ]
    },
    {
     "name": "stdout",
     "output_type": "stream",
     "text": [
      "Speaker: id08714, Video: BqrrSRps59s, Txt file: 00160\n"
     ]
    },
    {
     "name": "stderr",
     "output_type": "stream",
     "text": [
      "ERROR: [youtube] BqrrSRps59s: Video unavailable. This video is no longer available because the YouTube account associated with this video has been terminated.\n"
     ]
    },
    {
     "name": "stdout",
     "output_type": "stream",
     "text": [
      "Speaker: id08714, Video: 9uGO8J0w6C0, Txt file: 00096\n"
     ]
    },
    {
     "name": "stderr",
     "output_type": "stream",
     "text": [
      "ERROR: [youtube] 9uGO8J0w6C0: Video unavailable. This video is no longer available because the YouTube account associated with this video has been terminated.\n"
     ]
    },
    {
     "name": "stdout",
     "output_type": "stream",
     "text": [
      "Speaker: id08714, Video: QLPVTM8WCz8, Txt file: 00252\n",
      "[youtube] Extracting URL: https://www.youtube.com/watch?v=QLPVTM8WCz8\n",
      "[youtube] QLPVTM8WCz8: Downloading webpage\n",
      "[youtube] QLPVTM8WCz8: Downloading tv client config\n",
      "[youtube] QLPVTM8WCz8: Downloading player 5ae7d525\n",
      "[youtube] QLPVTM8WCz8: Downloading tv player API JSON\n",
      "[youtube] QLPVTM8WCz8: Downloading ios player API JSON\n",
      "[youtube] QLPVTM8WCz8: Downloading m3u8 information\n",
      "[info] QLPVTM8WCz8: Downloading 1 format(s): 140\n",
      "[download] Destination: id08714_7_22440_QLPVTM8WCz8_00252\n",
      "[download] 100% of    5.19MiB in 00:00:00 at 5.39MiB/s   \n",
      "[FixupM4a] Correcting container of \"id08714_7_22440_QLPVTM8WCz8_00252\"\n",
      "[ExtractAudio] Destination: id08714_7_22440_QLPVTM8WCz8_00252.mp3\n",
      "Deleting original file id08714_7_22440_QLPVTM8WCz8_00252 (pass -k to keep)\n",
      "Audio downloaded as id08714_7_22440_QLPVTM8WCz8_00252\n",
      "Trimmed audio saved as ../data/download_df_audio/id08714_7_22440_QLPVTM8WCz8_00252_cut.mp3\n",
      "Speaker: id08714, Video: Lcgy0vZtGCo, Txt file: 00217\n"
     ]
    },
    {
     "name": "stderr",
     "output_type": "stream",
     "text": [
      "ERROR: [youtube] Lcgy0vZtGCo: Private video. Sign in if you've been granted access to this video. Use --cookies-from-browser or --cookies for the authentication. See  https://github.com/yt-dlp/yt-dlp/wiki/FAQ#how-do-i-pass-cookies-to-yt-dlp  for how to manually pass cookies. Also see  https://github.com/yt-dlp/yt-dlp/wiki/Extractors#exporting-youtube-cookies  for tips on effectively exporting YouTube cookies\n"
     ]
    },
    {
     "name": "stdout",
     "output_type": "stream",
     "text": [
      "Speaker: id08714, Video: gIgDZ8Usgdo, Txt file: 00371\n"
     ]
    },
    {
     "name": "stderr",
     "output_type": "stream",
     "text": [
      "ERROR: [youtube] gIgDZ8Usgdo: Video unavailable\n"
     ]
    },
    {
     "name": "stdout",
     "output_type": "stream",
     "text": [
      "Speaker: id08714, Video: B0G8mvB534M, Txt file: 00132\n"
     ]
    },
    {
     "name": "stderr",
     "output_type": "stream",
     "text": [
      "ERROR: [youtube] B0G8mvB534M: Video unavailable. This video is no longer available because the YouTube account associated with this video has been terminated.\n"
     ]
    },
    {
     "name": "stdout",
     "output_type": "stream",
     "text": [
      "Speaker: id08714, Video: zP-lpEOVcmY, Txt file: 00497\n"
     ]
    },
    {
     "name": "stderr",
     "output_type": "stream",
     "text": [
      "ERROR: [youtube] zP-lpEOVcmY: Video unavailable\n"
     ]
    },
    {
     "name": "stdout",
     "output_type": "stream",
     "text": [
      "Speaker: id08714, Video: w0yI7DhNDHs, Txt file: 00481\n"
     ]
    },
    {
     "name": "stderr",
     "output_type": "stream",
     "text": [
      "ERROR: [youtube] w0yI7DhNDHs: Private video. Sign in if you've been granted access to this video. Use --cookies-from-browser or --cookies for the authentication. See  https://github.com/yt-dlp/yt-dlp/wiki/FAQ#how-do-i-pass-cookies-to-yt-dlp  for how to manually pass cookies. Also see  https://github.com/yt-dlp/yt-dlp/wiki/Extractors#exporting-youtube-cookies  for tips on effectively exporting YouTube cookies\n"
     ]
    },
    {
     "name": "stdout",
     "output_type": "stream",
     "text": [
      "Speaker: id08714, Video: Zg5lngUJJ6U, Txt file: 00333\n"
     ]
    },
    {
     "name": "stderr",
     "output_type": "stream",
     "text": [
      "ERROR: [youtube] Zg5lngUJJ6U: Video unavailable\n"
     ]
    },
    {
     "name": "stdout",
     "output_type": "stream",
     "text": [
      "Speaker: id08714, Video: HmVWYipNue8, Txt file: 00184\n",
      "[youtube] Extracting URL: https://www.youtube.com/watch?v=HmVWYipNue8\n",
      "[youtube] HmVWYipNue8: Downloading webpage\n",
      "[youtube] HmVWYipNue8: Downloading tv client config\n",
      "[youtube] HmVWYipNue8: Downloading player 5ae7d525\n",
      "[youtube] HmVWYipNue8: Downloading tv player API JSON\n",
      "[youtube] HmVWYipNue8: Downloading ios player API JSON\n",
      "[youtube] HmVWYipNue8: Downloading m3u8 information\n",
      "[info] HmVWYipNue8: Downloading 1 format(s): 251\n",
      "[download] Destination: id08714_8_22160_HmVWYipNue8_00184\n",
      "[download] 100% of    7.32MiB in 00:00:01 at 4.88MiB/s   \n",
      "[ExtractAudio] Destination: id08714_8_22160_HmVWYipNue8_00184.mp3\n",
      "Deleting original file id08714_8_22160_HmVWYipNue8_00184 (pass -k to keep)\n",
      "Audio downloaded as id08714_8_22160_HmVWYipNue8_00184\n",
      "Trimmed audio saved as ../data/download_df_audio/id08714_8_22160_HmVWYipNue8_00184_cut.mp3\n",
      "Speaker: id08714, Video: YSKfmhQLr90, Txt file: 00312\n"
     ]
    },
    {
     "name": "stderr",
     "output_type": "stream",
     "text": [
      "ERROR: [youtube] YSKfmhQLr90: Video unavailable\n"
     ]
    },
    {
     "name": "stdout",
     "output_type": "stream",
     "text": [
      "Speaker: id08714, Video: YjX_OZyWbII, Txt file: 00322\n",
      "[youtube] Extracting URL: https://www.youtube.com/watch?v=YjX_OZyWbII\n",
      "[youtube] YjX_OZyWbII: Downloading webpage\n",
      "[youtube] YjX_OZyWbII: Downloading tv client config\n",
      "[youtube] YjX_OZyWbII: Downloading player 5ae7d525\n",
      "[youtube] YjX_OZyWbII: Downloading tv player API JSON\n",
      "[youtube] YjX_OZyWbII: Downloading ios player API JSON\n",
      "[youtube] YjX_OZyWbII: Downloading m3u8 information\n",
      "[info] YjX_OZyWbII: Downloading 1 format(s): 140\n",
      "[download] Destination: id08714_9_20720_YjX_OZyWbII_00322\n",
      "[download] 100% of    5.87MiB in 00:00:01 at 4.54MiB/s   \n",
      "[FixupM4a] Correcting container of \"id08714_9_20720_YjX_OZyWbII_00322\"\n",
      "[ExtractAudio] Destination: id08714_9_20720_YjX_OZyWbII_00322.mp3\n",
      "Deleting original file id08714_9_20720_YjX_OZyWbII_00322 (pass -k to keep)\n",
      "Audio downloaded as id08714_9_20720_YjX_OZyWbII_00322\n",
      "Trimmed audio saved as ../data/download_df_audio/id08714_9_20720_YjX_OZyWbII_00322_cut.mp3\n",
      "Speaker: id08820, Video: _4bCV1zvZsg, Txt file: 00113\n",
      "[youtube] Extracting URL: https://www.youtube.com/watch?v=_4bCV1zvZsg\n",
      "[youtube] _4bCV1zvZsg: Downloading webpage\n",
      "[youtube] _4bCV1zvZsg: Downloading tv client config\n",
      "[youtube] _4bCV1zvZsg: Downloading player 5ae7d525\n",
      "[youtube] _4bCV1zvZsg: Downloading tv player API JSON\n",
      "[youtube] _4bCV1zvZsg: Downloading ios player API JSON\n",
      "[youtube] _4bCV1zvZsg: Downloading m3u8 information\n",
      "[info] _4bCV1zvZsg: Downloading 1 format(s): 140\n",
      "[download] Destination: id08820_2_90920__4bCV1zvZsg_00113\n",
      "[download] 100% of    3.33MiB in 00:00:01 at 2.68MiB/s     \n",
      "[FixupM4a] Correcting container of \"id08820_2_90920__4bCV1zvZsg_00113\"\n",
      "[ExtractAudio] Destination: id08820_2_90920__4bCV1zvZsg_00113.mp3\n",
      "Deleting original file id08820_2_90920__4bCV1zvZsg_00113 (pass -k to keep)\n",
      "Audio downloaded as id08820_2_90920__4bCV1zvZsg_00113\n",
      "Trimmed audio saved as ../data/download_df_audio/id08820_2_90920__4bCV1zvZsg_00113_cut.mp3\n",
      "Speaker: id08820, Video: LQ_yvPGi_Ro, Txt file: 00079\n",
      "[youtube] Extracting URL: https://www.youtube.com/watch?v=LQ_yvPGi_Ro\n",
      "[youtube] LQ_yvPGi_Ro: Downloading webpage\n",
      "[youtube] LQ_yvPGi_Ro: Downloading tv client config\n",
      "[youtube] LQ_yvPGi_Ro: Downloading player 5ae7d525\n",
      "[youtube] LQ_yvPGi_Ro: Downloading tv player API JSON\n",
      "[youtube] LQ_yvPGi_Ro: Downloading ios player API JSON\n",
      "[youtube] LQ_yvPGi_Ro: Downloading m3u8 information\n",
      "[info] LQ_yvPGi_Ro: Downloading 1 format(s): 140\n",
      "[download] Destination: id08820_3_35040_LQ_yvPGi_Ro_00079\n",
      "[download] 100% of    2.98MiB in 00:00:01 at 2.74MiB/s   \n",
      "[FixupM4a] Correcting container of \"id08820_3_35040_LQ_yvPGi_Ro_00079\"\n",
      "[ExtractAudio] Destination: id08820_3_35040_LQ_yvPGi_Ro_00079.mp3\n",
      "Deleting original file id08820_3_35040_LQ_yvPGi_Ro_00079 (pass -k to keep)\n",
      "Audio downloaded as id08820_3_35040_LQ_yvPGi_Ro_00079\n",
      "Trimmed audio saved as ../data/download_df_audio/id08820_3_35040_LQ_yvPGi_Ro_00079_cut.mp3\n",
      "Speaker: id08820, Video: I6g7dsEzbss, Txt file: 00053\n",
      "[youtube] Extracting URL: https://www.youtube.com/watch?v=I6g7dsEzbss\n",
      "[youtube] I6g7dsEzbss: Downloading webpage\n",
      "[youtube] I6g7dsEzbss: Downloading tv client config\n",
      "[youtube] I6g7dsEzbss: Downloading player 5ae7d525\n",
      "[youtube] I6g7dsEzbss: Downloading tv player API JSON\n",
      "[youtube] I6g7dsEzbss: Downloading ios player API JSON\n",
      "[youtube] I6g7dsEzbss: Downloading m3u8 information\n",
      "[info] I6g7dsEzbss: Downloading 1 format(s): 140\n",
      "[download] Destination: id08820_4_28240_I6g7dsEzbss_00053\n",
      "[download] 100% of    3.59MiB in 00:00:01 at 3.05MiB/s   \n",
      "[FixupM4a] Correcting container of \"id08820_4_28240_I6g7dsEzbss_00053\"\n",
      "[ExtractAudio] Destination: id08820_4_28240_I6g7dsEzbss_00053.mp3\n",
      "Deleting original file id08820_4_28240_I6g7dsEzbss_00053 (pass -k to keep)\n",
      "Audio downloaded as id08820_4_28240_I6g7dsEzbss_00053\n",
      "Trimmed audio saved as ../data/download_df_audio/id08820_4_28240_I6g7dsEzbss_00053_cut.mp3\n",
      "Speaker: id08820, Video: SodM_l8wH40, Txt file: 00085\n",
      "[youtube] Extracting URL: https://www.youtube.com/watch?v=SodM_l8wH40\n",
      "[youtube] SodM_l8wH40: Downloading webpage\n",
      "[youtube] SodM_l8wH40: Downloading tv client config\n",
      "[youtube] SodM_l8wH40: Downloading player 5ae7d525\n",
      "[youtube] SodM_l8wH40: Downloading tv player API JSON\n",
      "[youtube] SodM_l8wH40: Downloading ios player API JSON\n",
      "[youtube] SodM_l8wH40: Downloading m3u8 information\n",
      "[info] SodM_l8wH40: Downloading 1 format(s): 140\n",
      "[download] Destination: id08820_5_26560_SodM_l8wH40_00085\n",
      "[download] 100% of    1.65MiB in 00:00:00 at 2.80MiB/s   \n",
      "[FixupM4a] Correcting container of \"id08820_5_26560_SodM_l8wH40_00085\"\n",
      "[ExtractAudio] Destination: id08820_5_26560_SodM_l8wH40_00085.mp3\n",
      "Deleting original file id08820_5_26560_SodM_l8wH40_00085 (pass -k to keep)\n",
      "Audio downloaded as id08820_5_26560_SodM_l8wH40_00085\n",
      "Trimmed audio saved as ../data/download_df_audio/id08820_5_26560_SodM_l8wH40_00085_cut.mp3\n",
      "Speaker: id08820, Video: _4bCV1zvZsg, Txt file: 00108\n",
      "[youtube] Extracting URL: https://www.youtube.com/watch?v=_4bCV1zvZsg\n",
      "[youtube] _4bCV1zvZsg: Downloading webpage\n",
      "[youtube] _4bCV1zvZsg: Downloading tv client config\n",
      "[youtube] _4bCV1zvZsg: Downloading player 5ae7d525\n",
      "[youtube] _4bCV1zvZsg: Downloading tv player API JSON\n",
      "[youtube] _4bCV1zvZsg: Downloading ios player API JSON\n",
      "[youtube] _4bCV1zvZsg: Downloading m3u8 information\n",
      "[info] _4bCV1zvZsg: Downloading 1 format(s): 140\n",
      "[download] Destination: id08820_6_24360__4bCV1zvZsg_00108\n",
      "[download] 100% of    3.33MiB in 00:00:00 at 10.41MiB/s  \n",
      "[FixupM4a] Correcting container of \"id08820_6_24360__4bCV1zvZsg_00108\"\n",
      "[ExtractAudio] Destination: id08820_6_24360__4bCV1zvZsg_00108.mp3\n",
      "Deleting original file id08820_6_24360__4bCV1zvZsg_00108 (pass -k to keep)\n",
      "Audio downloaded as id08820_6_24360__4bCV1zvZsg_00108\n",
      "Trimmed audio saved as ../data/download_df_audio/id08820_6_24360__4bCV1zvZsg_00108_cut.mp3\n",
      "Speaker: id08820, Video: LQ_yvPGi_Ro, Txt file: 00074\n",
      "[youtube] Extracting URL: https://www.youtube.com/watch?v=LQ_yvPGi_Ro\n",
      "[youtube] LQ_yvPGi_Ro: Downloading webpage\n",
      "[youtube] LQ_yvPGi_Ro: Downloading tv client config\n",
      "[youtube] LQ_yvPGi_Ro: Downloading player 5ae7d525\n",
      "[youtube] LQ_yvPGi_Ro: Downloading tv player API JSON\n",
      "[youtube] LQ_yvPGi_Ro: Downloading ios player API JSON\n",
      "[youtube] LQ_yvPGi_Ro: Downloading m3u8 information\n",
      "[info] LQ_yvPGi_Ro: Downloading 1 format(s): 140\n",
      "[download] Destination: id08820_7_23120_LQ_yvPGi_Ro_00074\n",
      "[download] 100% of    2.98MiB in 00:00:00 at 5.22MiB/s   \n",
      "[FixupM4a] Correcting container of \"id08820_7_23120_LQ_yvPGi_Ro_00074\"\n",
      "[ExtractAudio] Destination: id08820_7_23120_LQ_yvPGi_Ro_00074.mp3\n",
      "Deleting original file id08820_7_23120_LQ_yvPGi_Ro_00074 (pass -k to keep)\n",
      "Audio downloaded as id08820_7_23120_LQ_yvPGi_Ro_00074\n",
      "Trimmed audio saved as ../data/download_df_audio/id08820_7_23120_LQ_yvPGi_Ro_00074_cut.mp3\n",
      "Speaker: id08820, Video: yBhG3xliDWY, Txt file: 00192\n",
      "[youtube] Extracting URL: https://www.youtube.com/watch?v=yBhG3xliDWY\n",
      "[youtube] yBhG3xliDWY: Downloading webpage\n",
      "[youtube] yBhG3xliDWY: Downloading tv client config\n",
      "[youtube] yBhG3xliDWY: Downloading player 5ae7d525\n",
      "[youtube] yBhG3xliDWY: Downloading tv player API JSON\n",
      "[youtube] yBhG3xliDWY: Downloading ios player API JSON\n",
      "[youtube] yBhG3xliDWY: Downloading m3u8 information\n",
      "[info] yBhG3xliDWY: Downloading 1 format(s): 251\n",
      "[download] Destination: id08820_8_22400_yBhG3xliDWY_00192\n",
      "[download] 100% of   11.04MiB in 00:00:03 at 3.01MiB/s     \n",
      "[ExtractAudio] Destination: id08820_8_22400_yBhG3xliDWY_00192.mp3\n",
      "Deleting original file id08820_8_22400_yBhG3xliDWY_00192 (pass -k to keep)\n",
      "Audio downloaded as id08820_8_22400_yBhG3xliDWY_00192\n",
      "Trimmed audio saved as ../data/download_df_audio/id08820_8_22400_yBhG3xliDWY_00192_cut.mp3\n",
      "Speaker: id08820, Video: I6g7dsEzbss, Txt file: 00059\n",
      "[youtube] Extracting URL: https://www.youtube.com/watch?v=I6g7dsEzbss\n",
      "[youtube] I6g7dsEzbss: Downloading webpage\n",
      "[youtube] I6g7dsEzbss: Downloading tv client config\n",
      "[youtube] I6g7dsEzbss: Downloading player 5ae7d525\n",
      "[youtube] I6g7dsEzbss: Downloading tv player API JSON\n",
      "[youtube] I6g7dsEzbss: Downloading ios player API JSON\n",
      "[youtube] I6g7dsEzbss: Downloading m3u8 information\n",
      "[info] I6g7dsEzbss: Downloading 1 format(s): 140\n",
      "[download] Destination: id08820_9_20880_I6g7dsEzbss_00059\n",
      "[download] 100% of    3.59MiB in 00:00:00 at 5.35MiB/s   \n",
      "[FixupM4a] Correcting container of \"id08820_9_20880_I6g7dsEzbss_00059\"\n",
      "[ExtractAudio] Destination: id08820_9_20880_I6g7dsEzbss_00059.mp3\n",
      "Deleting original file id08820_9_20880_I6g7dsEzbss_00059 (pass -k to keep)\n",
      "Audio downloaded as id08820_9_20880_I6g7dsEzbss_00059\n",
      "Trimmed audio saved as ../data/download_df_audio/id08820_9_20880_I6g7dsEzbss_00059_cut.mp3\n",
      "Speaker: id08840, Video: 5roL-rGEOWA, Txt file: 00032\n"
     ]
    },
    {
     "name": "stderr",
     "output_type": "stream",
     "text": [
      "ERROR: [youtube] 5roL-rGEOWA: Private video. Sign in if you've been granted access to this video. Use --cookies-from-browser or --cookies for the authentication. See  https://github.com/yt-dlp/yt-dlp/wiki/FAQ#how-do-i-pass-cookies-to-yt-dlp  for how to manually pass cookies. Also see  https://github.com/yt-dlp/yt-dlp/wiki/Extractors#exporting-youtube-cookies  for tips on effectively exporting YouTube cookies\n"
     ]
    },
    {
     "name": "stdout",
     "output_type": "stream",
     "text": [
      "Speaker: id08840, Video: VnCq6O3_g28, Txt file: 00055\n",
      "[youtube] Extracting URL: https://www.youtube.com/watch?v=VnCq6O3_g28\n",
      "[youtube] VnCq6O3_g28: Downloading webpage\n",
      "[youtube] VnCq6O3_g28: Downloading tv client config\n",
      "[youtube] VnCq6O3_g28: Downloading player 5ae7d525\n",
      "[youtube] VnCq6O3_g28: Downloading tv player API JSON\n",
      "[youtube] VnCq6O3_g28: Downloading ios player API JSON\n",
      "[youtube] VnCq6O3_g28: Downloading m3u8 information\n",
      "[info] VnCq6O3_g28: Downloading 1 format(s): 251\n",
      "[download] Destination: id08840_2_14080_VnCq6O3_g28_00055\n",
      "[download] 100% of    1.47MiB in 00:00:00 at 4.79MiB/s     \n",
      "[ExtractAudio] Destination: id08840_2_14080_VnCq6O3_g28_00055.mp3\n",
      "Deleting original file id08840_2_14080_VnCq6O3_g28_00055 (pass -k to keep)\n",
      "Audio downloaded as id08840_2_14080_VnCq6O3_g28_00055\n",
      "Trimmed audio saved as ../data/download_df_audio/id08840_2_14080_VnCq6O3_g28_00055_cut.mp3\n",
      "Speaker: id08840, Video: eC4YFzlsk2Q, Txt file: 00072\n",
      "[youtube] Extracting URL: https://www.youtube.com/watch?v=eC4YFzlsk2Q\n",
      "[youtube] eC4YFzlsk2Q: Downloading webpage\n",
      "[youtube] eC4YFzlsk2Q: Downloading tv client config\n",
      "[youtube] eC4YFzlsk2Q: Downloading player 5ae7d525\n",
      "[youtube] eC4YFzlsk2Q: Downloading tv player API JSON\n",
      "[youtube] eC4YFzlsk2Q: Downloading ios player API JSON\n",
      "[youtube] eC4YFzlsk2Q: Downloading m3u8 information\n",
      "[info] eC4YFzlsk2Q: Downloading 1 format(s): 251\n",
      "[download] Destination: id08840_3_13760_eC4YFzlsk2Q_00072\n",
      "[download] 100% of    4.70MiB in 00:00:00 at 5.48MiB/s   \n",
      "[ExtractAudio] Destination: id08840_3_13760_eC4YFzlsk2Q_00072.mp3\n",
      "Deleting original file id08840_3_13760_eC4YFzlsk2Q_00072 (pass -k to keep)\n",
      "Audio downloaded as id08840_3_13760_eC4YFzlsk2Q_00072\n",
      "Trimmed audio saved as ../data/download_df_audio/id08840_3_13760_eC4YFzlsk2Q_00072_cut.mp3\n",
      "Speaker: id08840, Video: DXvJ0gYjozQ, Txt file: 00047\n"
     ]
    },
    {
     "name": "stderr",
     "output_type": "stream",
     "text": [
      "ERROR: [youtube] DXvJ0gYjozQ: Private video. Sign in if you've been granted access to this video. Use --cookies-from-browser or --cookies for the authentication. See  https://github.com/yt-dlp/yt-dlp/wiki/FAQ#how-do-i-pass-cookies-to-yt-dlp  for how to manually pass cookies. Also see  https://github.com/yt-dlp/yt-dlp/wiki/Extractors#exporting-youtube-cookies  for tips on effectively exporting YouTube cookies\n"
     ]
    },
    {
     "name": "stdout",
     "output_type": "stream",
     "text": [
      "Speaker: id08840, Video: VnCq6O3_g28, Txt file: 00059\n",
      "[youtube] Extracting URL: https://www.youtube.com/watch?v=VnCq6O3_g28\n",
      "[youtube] VnCq6O3_g28: Downloading webpage\n",
      "[youtube] VnCq6O3_g28: Downloading tv client config\n",
      "[youtube] VnCq6O3_g28: Downloading player 5ae7d525\n",
      "[youtube] VnCq6O3_g28: Downloading tv player API JSON\n",
      "[youtube] VnCq6O3_g28: Downloading ios player API JSON\n",
      "[youtube] VnCq6O3_g28: Downloading m3u8 information\n",
      "[info] VnCq6O3_g28: Downloading 1 format(s): 251\n",
      "[download] Destination: id08840_4_11160_VnCq6O3_g28_00059\n",
      "[download] 100% of    1.47MiB in 00:00:00 at 8.92MiB/s   \n",
      "[ExtractAudio] Destination: id08840_4_11160_VnCq6O3_g28_00059.mp3\n",
      "Deleting original file id08840_4_11160_VnCq6O3_g28_00059 (pass -k to keep)\n",
      "Audio downloaded as id08840_4_11160_VnCq6O3_g28_00059\n",
      "Trimmed audio saved as ../data/download_df_audio/id08840_4_11160_VnCq6O3_g28_00059_cut.mp3\n",
      "Speaker: id08840, Video: zX07W0XeeDs, Txt file: 00107\n"
     ]
    },
    {
     "name": "stderr",
     "output_type": "stream",
     "text": [
      "ERROR: [youtube] zX07W0XeeDs: Video unavailable\n"
     ]
    },
    {
     "name": "stdout",
     "output_type": "stream",
     "text": [
      "Speaker: id08840, Video: iAwjIVL60k0, Txt file: 00086\n",
      "[youtube] Extracting URL: https://www.youtube.com/watch?v=iAwjIVL60k0\n",
      "[youtube] iAwjIVL60k0: Downloading webpage\n",
      "[youtube] iAwjIVL60k0: Downloading tv client config\n",
      "[youtube] iAwjIVL60k0: Downloading player 5ae7d525\n",
      "[youtube] iAwjIVL60k0: Downloading tv player API JSON\n",
      "[youtube] iAwjIVL60k0: Downloading ios player API JSON\n",
      "[youtube] iAwjIVL60k0: Downloading m3u8 information\n",
      "[info] iAwjIVL60k0: Downloading 1 format(s): 251\n",
      "[download] Destination: id08840_5_10000_iAwjIVL60k0_00086\n",
      "[download] 100% of    1.08MiB in 00:00:00 at 2.03MiB/s   \n",
      "[ExtractAudio] Destination: id08840_5_10000_iAwjIVL60k0_00086.mp3\n",
      "Deleting original file id08840_5_10000_iAwjIVL60k0_00086 (pass -k to keep)\n",
      "Audio downloaded as id08840_5_10000_iAwjIVL60k0_00086\n",
      "Trimmed audio saved as ../data/download_df_audio/id08840_5_10000_iAwjIVL60k0_00086_cut.mp3\n",
      "Speaker: id08840, Video: zX07W0XeeDs, Txt file: 00100\n"
     ]
    },
    {
     "name": "stderr",
     "output_type": "stream",
     "text": [
      "ERROR: [youtube] zX07W0XeeDs: Video unavailable\n"
     ]
    },
    {
     "name": "stdout",
     "output_type": "stream",
     "text": [
      "Speaker: id08840, Video: 5roL-rGEOWA, Txt file: 00041\n"
     ]
    },
    {
     "name": "stderr",
     "output_type": "stream",
     "text": [
      "ERROR: [youtube] 5roL-rGEOWA: Private video. Sign in if you've been granted access to this video. Use --cookies-from-browser or --cookies for the authentication. See  https://github.com/yt-dlp/yt-dlp/wiki/FAQ#how-do-i-pass-cookies-to-yt-dlp  for how to manually pass cookies. Also see  https://github.com/yt-dlp/yt-dlp/wiki/Extractors#exporting-youtube-cookies  for tips on effectively exporting YouTube cookies\n"
     ]
    },
    {
     "name": "stdout",
     "output_type": "stream",
     "text": [
      "Speaker: id08840, Video: zX07W0XeeDs, Txt file: 00104\n"
     ]
    },
    {
     "name": "stderr",
     "output_type": "stream",
     "text": [
      "ERROR: [youtube] zX07W0XeeDs: Video unavailable\n"
     ]
    },
    {
     "name": "stdout",
     "output_type": "stream",
     "text": [
      "Speaker: id08840, Video: 5lhtaAW7JK8, Txt file: 00015\n"
     ]
    },
    {
     "name": "stderr",
     "output_type": "stream",
     "text": [
      "ERROR: [youtube] 5lhtaAW7JK8: Private video. Sign in if you've been granted access to this video. Use --cookies-from-browser or --cookies for the authentication. See  https://github.com/yt-dlp/yt-dlp/wiki/FAQ#how-do-i-pass-cookies-to-yt-dlp  for how to manually pass cookies. Also see  https://github.com/yt-dlp/yt-dlp/wiki/Extractors#exporting-youtube-cookies  for tips on effectively exporting YouTube cookies\n"
     ]
    },
    {
     "name": "stdout",
     "output_type": "stream",
     "text": [
      "Speaker: id08840, Video: DXvJ0gYjozQ, Txt file: 00048\n"
     ]
    },
    {
     "name": "stderr",
     "output_type": "stream",
     "text": [
      "ERROR: [youtube] DXvJ0gYjozQ: Private video. Sign in if you've been granted access to this video. Use --cookies-from-browser or --cookies for the authentication. See  https://github.com/yt-dlp/yt-dlp/wiki/FAQ#how-do-i-pass-cookies-to-yt-dlp  for how to manually pass cookies. Also see  https://github.com/yt-dlp/yt-dlp/wiki/Extractors#exporting-youtube-cookies  for tips on effectively exporting YouTube cookies\n"
     ]
    },
    {
     "name": "stdout",
     "output_type": "stream",
     "text": [
      "Speaker: id08840, Video: VnCq6O3_g28, Txt file: 00054\n",
      "[youtube] Extracting URL: https://www.youtube.com/watch?v=VnCq6O3_g28\n",
      "[youtube] VnCq6O3_g28: Downloading webpage\n",
      "[youtube] VnCq6O3_g28: Downloading tv client config\n",
      "[youtube] VnCq6O3_g28: Downloading player 5ae7d525\n",
      "[youtube] VnCq6O3_g28: Downloading tv player API JSON\n",
      "[youtube] VnCq6O3_g28: Downloading ios player API JSON\n",
      "[youtube] VnCq6O3_g28: Downloading m3u8 information\n",
      "[info] VnCq6O3_g28: Downloading 1 format(s): 251\n",
      "[download] Destination: id08840_6_8640_VnCq6O3_g28_00054\n",
      "[download] 100% of    1.47MiB in 00:00:00 at 8.60MiB/s   \n",
      "[ExtractAudio] Destination: id08840_6_8640_VnCq6O3_g28_00054.mp3\n",
      "Deleting original file id08840_6_8640_VnCq6O3_g28_00054 (pass -k to keep)\n",
      "Audio downloaded as id08840_6_8640_VnCq6O3_g28_00054\n",
      "Trimmed audio saved as ../data/download_df_audio/id08840_6_8640_VnCq6O3_g28_00054_cut.mp3\n",
      "Speaker: id08840, Video: zX07W0XeeDs, Txt file: 00097\n"
     ]
    },
    {
     "name": "stderr",
     "output_type": "stream",
     "text": [
      "ERROR: [youtube] zX07W0XeeDs: Video unavailable\n"
     ]
    },
    {
     "name": "stdout",
     "output_type": "stream",
     "text": [
      "Speaker: id08840, Video: 5lhtaAW7JK8, Txt file: 00021\n"
     ]
    },
    {
     "name": "stderr",
     "output_type": "stream",
     "text": [
      "ERROR: [youtube] 5lhtaAW7JK8: Private video. Sign in if you've been granted access to this video. Use --cookies-from-browser or --cookies for the authentication. See  https://github.com/yt-dlp/yt-dlp/wiki/FAQ#how-do-i-pass-cookies-to-yt-dlp  for how to manually pass cookies. Also see  https://github.com/yt-dlp/yt-dlp/wiki/Extractors#exporting-youtube-cookies  for tips on effectively exporting YouTube cookies\n"
     ]
    },
    {
     "name": "stdout",
     "output_type": "stream",
     "text": [
      "Speaker: id08840, Video: 1aq95Vs2zII, Txt file: 00011\n",
      "[youtube] Extracting URL: https://www.youtube.com/watch?v=1aq95Vs2zII\n",
      "[youtube] 1aq95Vs2zII: Downloading webpage\n",
      "[youtube] 1aq95Vs2zII: Downloading tv client config\n",
      "[youtube] 1aq95Vs2zII: Downloading player 5ae7d525\n",
      "[youtube] 1aq95Vs2zII: Downloading tv player API JSON\n",
      "[youtube] 1aq95Vs2zII: Downloading ios player API JSON\n",
      "[youtube] 1aq95Vs2zII: Downloading m3u8 information\n",
      "[info] 1aq95Vs2zII: Downloading 1 format(s): 251\n",
      "[download] Destination: id08840_7_8280_1aq95Vs2zII_00011\n",
      "[download] 100% of    6.87MiB in 00:00:00 at 6.97MiB/s   \n",
      "[ExtractAudio] Destination: id08840_7_8280_1aq95Vs2zII_00011.mp3\n",
      "Deleting original file id08840_7_8280_1aq95Vs2zII_00011 (pass -k to keep)\n",
      "Audio downloaded as id08840_7_8280_1aq95Vs2zII_00011\n",
      "Trimmed audio saved as ../data/download_df_audio/id08840_7_8280_1aq95Vs2zII_00011_cut.mp3\n",
      "Speaker: id08840, Video: zX07W0XeeDs, Txt file: 00094\n"
     ]
    },
    {
     "name": "stderr",
     "output_type": "stream",
     "text": [
      "ERROR: [youtube] zX07W0XeeDs: Video unavailable\n"
     ]
    },
    {
     "name": "stdout",
     "output_type": "stream",
     "text": [
      "Speaker: id08840, Video: zX07W0XeeDs, Txt file: 00098\n"
     ]
    },
    {
     "name": "stderr",
     "output_type": "stream",
     "text": [
      "ERROR: [youtube] zX07W0XeeDs: Video unavailable\n"
     ]
    },
    {
     "name": "stdout",
     "output_type": "stream",
     "text": [
      "Speaker: id08840, Video: 5lhtaAW7JK8, Txt file: 00019\n"
     ]
    },
    {
     "name": "stderr",
     "output_type": "stream",
     "text": [
      "ERROR: [youtube] 5lhtaAW7JK8: Private video. Sign in if you've been granted access to this video. Use --cookies-from-browser or --cookies for the authentication. See  https://github.com/yt-dlp/yt-dlp/wiki/FAQ#how-do-i-pass-cookies-to-yt-dlp  for how to manually pass cookies. Also see  https://github.com/yt-dlp/yt-dlp/wiki/Extractors#exporting-youtube-cookies  for tips on effectively exporting YouTube cookies\n"
     ]
    },
    {
     "name": "stdout",
     "output_type": "stream",
     "text": [
      "Speaker: id08840, Video: eC4YFzlsk2Q, Txt file: 00077\n",
      "[youtube] Extracting URL: https://www.youtube.com/watch?v=eC4YFzlsk2Q\n",
      "[youtube] eC4YFzlsk2Q: Downloading webpage\n",
      "[youtube] eC4YFzlsk2Q: Downloading tv client config\n",
      "[youtube] eC4YFzlsk2Q: Downloading player 5ae7d525\n",
      "[youtube] eC4YFzlsk2Q: Downloading tv player API JSON\n",
      "[youtube] eC4YFzlsk2Q: Downloading ios player API JSON\n",
      "[youtube] eC4YFzlsk2Q: Downloading m3u8 information\n",
      "[info] eC4YFzlsk2Q: Downloading 1 format(s): 251\n",
      "[download] Destination: id08840_8_7920_eC4YFzlsk2Q_00077\n",
      "[download] 100% of    4.70MiB in 00:00:00 at 10.66MiB/s    \n",
      "[ExtractAudio] Destination: id08840_8_7920_eC4YFzlsk2Q_00077.mp3\n",
      "Deleting original file id08840_8_7920_eC4YFzlsk2Q_00077 (pass -k to keep)\n",
      "Audio downloaded as id08840_8_7920_eC4YFzlsk2Q_00077\n",
      "Trimmed audio saved as ../data/download_df_audio/id08840_8_7920_eC4YFzlsk2Q_00077_cut.mp3\n",
      "Speaker: id08840, Video: xLjznnu3ud0, Txt file: 00090\n"
     ]
    },
    {
     "name": "stderr",
     "output_type": "stream",
     "text": [
      "ERROR: [youtube] xLjznnu3ud0: Video unavailable. The uploader has not made this video available in your country\n"
     ]
    },
    {
     "name": "stdout",
     "output_type": "stream",
     "text": [
      "Speaker: id08840, Video: 5roL-rGEOWA, Txt file: 00025\n"
     ]
    },
    {
     "name": "stderr",
     "output_type": "stream",
     "text": [
      "ERROR: [youtube] 5roL-rGEOWA: Private video. Sign in if you've been granted access to this video. Use --cookies-from-browser or --cookies for the authentication. See  https://github.com/yt-dlp/yt-dlp/wiki/FAQ#how-do-i-pass-cookies-to-yt-dlp  for how to manually pass cookies. Also see  https://github.com/yt-dlp/yt-dlp/wiki/Extractors#exporting-youtube-cookies  for tips on effectively exporting YouTube cookies\n"
     ]
    },
    {
     "name": "stdout",
     "output_type": "stream",
     "text": [
      "Speaker: id08840, Video: 5roL-rGEOWA, Txt file: 00044\n"
     ]
    },
    {
     "name": "stderr",
     "output_type": "stream",
     "text": [
      "ERROR: [youtube] 5roL-rGEOWA: Private video. Sign in if you've been granted access to this video. Use --cookies-from-browser or --cookies for the authentication. See  https://github.com/yt-dlp/yt-dlp/wiki/FAQ#how-do-i-pass-cookies-to-yt-dlp  for how to manually pass cookies. Also see  https://github.com/yt-dlp/yt-dlp/wiki/Extractors#exporting-youtube-cookies  for tips on effectively exporting YouTube cookies\n"
     ]
    },
    {
     "name": "stdout",
     "output_type": "stream",
     "text": [
      "Speaker: id08840, Video: zX07W0XeeDs, Txt file: 00106\n"
     ]
    },
    {
     "name": "stderr",
     "output_type": "stream",
     "text": [
      "ERROR: [youtube] zX07W0XeeDs: Video unavailable\n"
     ]
    },
    {
     "name": "stdout",
     "output_type": "stream",
     "text": [
      "Speaker: id08840, Video: 5roL-rGEOWA, Txt file: 00034\n"
     ]
    },
    {
     "name": "stderr",
     "output_type": "stream",
     "text": [
      "ERROR: [youtube] 5roL-rGEOWA: Private video. Sign in if you've been granted access to this video. Use --cookies-from-browser or --cookies for the authentication. See  https://github.com/yt-dlp/yt-dlp/wiki/FAQ#how-do-i-pass-cookies-to-yt-dlp  for how to manually pass cookies. Also see  https://github.com/yt-dlp/yt-dlp/wiki/Extractors#exporting-youtube-cookies  for tips on effectively exporting YouTube cookies\n"
     ]
    },
    {
     "name": "stdout",
     "output_type": "stream",
     "text": [
      "Speaker: id08840, Video: 5roL-rGEOWA, Txt file: 00043\n"
     ]
    },
    {
     "name": "stderr",
     "output_type": "stream",
     "text": [
      "ERROR: [youtube] 5roL-rGEOWA: Private video. Sign in if you've been granted access to this video. Use --cookies-from-browser or --cookies for the authentication. See  https://github.com/yt-dlp/yt-dlp/wiki/FAQ#how-do-i-pass-cookies-to-yt-dlp  for how to manually pass cookies. Also see  https://github.com/yt-dlp/yt-dlp/wiki/Extractors#exporting-youtube-cookies  for tips on effectively exporting YouTube cookies\n"
     ]
    },
    {
     "name": "stdout",
     "output_type": "stream",
     "text": [
      "Speaker: id08840, Video: zX07W0XeeDs, Txt file: 00108\n"
     ]
    },
    {
     "name": "stderr",
     "output_type": "stream",
     "text": [
      "ERROR: [youtube] zX07W0XeeDs: Video unavailable\n"
     ]
    },
    {
     "name": "stdout",
     "output_type": "stream",
     "text": [
      "Speaker: id08840, Video: zX07W0XeeDs, Txt file: 00101\n"
     ]
    },
    {
     "name": "stderr",
     "output_type": "stream",
     "text": [
      "ERROR: [youtube] zX07W0XeeDs: Video unavailable\n"
     ]
    },
    {
     "name": "stdout",
     "output_type": "stream",
     "text": [
      "Speaker: id08840, Video: Xb9GBltDvhE, Txt file: 00064\n",
      "[youtube] Extracting URL: https://www.youtube.com/watch?v=Xb9GBltDvhE\n",
      "[youtube] Xb9GBltDvhE: Downloading webpage\n",
      "[youtube] Xb9GBltDvhE: Downloading tv client config\n",
      "[youtube] Xb9GBltDvhE: Downloading player 5ae7d525\n",
      "[youtube] Xb9GBltDvhE: Downloading tv player API JSON\n",
      "[youtube] Xb9GBltDvhE: Downloading ios player API JSON\n",
      "[youtube] Xb9GBltDvhE: Downloading m3u8 information\n",
      "[info] Xb9GBltDvhE: Downloading 1 format(s): 140\n",
      "[download] Destination: id08840_9_6840_Xb9GBltDvhE_00064\n",
      "[download] 100% of    8.14MiB in 00:00:03 at 2.68MiB/s   \n",
      "[FixupM4a] Correcting container of \"id08840_9_6840_Xb9GBltDvhE_00064\"\n",
      "[ExtractAudio] Destination: id08840_9_6840_Xb9GBltDvhE_00064.mp3\n",
      "Deleting original file id08840_9_6840_Xb9GBltDvhE_00064 (pass -k to keep)\n",
      "Audio downloaded as id08840_9_6840_Xb9GBltDvhE_00064\n",
      "Trimmed audio saved as ../data/download_df_audio/id08840_9_6840_Xb9GBltDvhE_00064_cut.mp3\n",
      "Speaker: id08904, Video: 7B-8sUvkpS8, Txt file: 00073\n",
      "[youtube] Extracting URL: https://www.youtube.com/watch?v=7B-8sUvkpS8\n",
      "[youtube] 7B-8sUvkpS8: Downloading webpage\n",
      "[youtube] 7B-8sUvkpS8: Downloading tv client config\n",
      "[youtube] 7B-8sUvkpS8: Downloading player 5ae7d525\n",
      "[youtube] 7B-8sUvkpS8: Downloading tv player API JSON\n",
      "[youtube] 7B-8sUvkpS8: Downloading ios player API JSON\n",
      "[youtube] 7B-8sUvkpS8: Downloading m3u8 information\n",
      "[info] 7B-8sUvkpS8: Downloading 1 format(s): 251\n",
      "[download] Destination: id08904_2_42880_7B-8sUvkpS8_00073\n",
      "[download] 100% of    2.49MiB in 00:00:00 at 3.31MiB/s   \n",
      "[ExtractAudio] Destination: id08904_2_42880_7B-8sUvkpS8_00073.mp3\n",
      "Deleting original file id08904_2_42880_7B-8sUvkpS8_00073 (pass -k to keep)\n",
      "Audio downloaded as id08904_2_42880_7B-8sUvkpS8_00073\n",
      "Trimmed audio saved as ../data/download_df_audio/id08904_2_42880_7B-8sUvkpS8_00073_cut.mp3\n",
      "Speaker: id08904, Video: lIiasd-DAuU, Txt file: 00380\n",
      "[youtube] Extracting URL: https://www.youtube.com/watch?v=lIiasd-DAuU\n",
      "[youtube] lIiasd-DAuU: Downloading webpage\n",
      "[youtube] lIiasd-DAuU: Downloading tv client config\n",
      "[youtube] lIiasd-DAuU: Downloading player 5ae7d525\n",
      "[youtube] lIiasd-DAuU: Downloading tv player API JSON\n",
      "[youtube] lIiasd-DAuU: Downloading ios player API JSON\n",
      "[youtube] lIiasd-DAuU: Downloading m3u8 information\n",
      "[info] lIiasd-DAuU: Downloading 1 format(s): 251\n",
      "[download] Destination: id08904_3_41800_lIiasd-DAuU_00380\n",
      "[download] 100% of    3.80MiB in 00:00:00 at 7.94MiB/s   \n",
      "[ExtractAudio] Destination: id08904_3_41800_lIiasd-DAuU_00380.mp3\n",
      "Deleting original file id08904_3_41800_lIiasd-DAuU_00380 (pass -k to keep)\n",
      "Audio downloaded as id08904_3_41800_lIiasd-DAuU_00380\n",
      "Trimmed audio saved as ../data/download_df_audio/id08904_3_41800_lIiasd-DAuU_00380_cut.mp3\n",
      "Speaker: id08904, Video: Isg7whGW88U, Txt file: 00163\n",
      "[youtube] Extracting URL: https://www.youtube.com/watch?v=Isg7whGW88U\n",
      "[youtube] Isg7whGW88U: Downloading webpage\n",
      "[youtube] Isg7whGW88U: Downloading tv client config\n",
      "[youtube] Isg7whGW88U: Downloading player 5ae7d525\n",
      "[youtube] Isg7whGW88U: Downloading tv player API JSON\n",
      "[youtube] Isg7whGW88U: Downloading ios player API JSON\n",
      "[youtube] Isg7whGW88U: Downloading m3u8 information\n",
      "[info] Isg7whGW88U: Downloading 1 format(s): 140\n",
      "[download] Destination: id08904_4_34640_Isg7whGW88U_00163\n",
      "[download] 100% of    7.55MiB in 00:00:02 at 3.09MiB/s   \n",
      "[FixupM4a] Correcting container of \"id08904_4_34640_Isg7whGW88U_00163\"\n",
      "[ExtractAudio] Destination: id08904_4_34640_Isg7whGW88U_00163.mp3\n",
      "Deleting original file id08904_4_34640_Isg7whGW88U_00163 (pass -k to keep)\n",
      "Audio downloaded as id08904_4_34640_Isg7whGW88U_00163\n",
      "Trimmed audio saved as ../data/download_df_audio/id08904_4_34640_Isg7whGW88U_00163_cut.mp3\n",
      "Speaker: id08904, Video: HpE94fy7tu0, Txt file: 00125\n",
      "[youtube] Extracting URL: https://www.youtube.com/watch?v=HpE94fy7tu0\n",
      "[youtube] HpE94fy7tu0: Downloading webpage\n",
      "[youtube] HpE94fy7tu0: Downloading tv client config\n",
      "[youtube] HpE94fy7tu0: Downloading player 5ae7d525\n",
      "[youtube] HpE94fy7tu0: Downloading tv player API JSON\n",
      "[youtube] HpE94fy7tu0: Downloading ios player API JSON\n",
      "[youtube] HpE94fy7tu0: Downloading m3u8 information\n",
      "[info] HpE94fy7tu0: Downloading 1 format(s): 140\n",
      "[download] Destination: id08904_5_34560_HpE94fy7tu0_00125\n",
      "[download] 100% of    9.44MiB in 00:00:01 at 8.11MiB/s   \n",
      "[FixupM4a] Correcting container of \"id08904_5_34560_HpE94fy7tu0_00125\"\n",
      "[ExtractAudio] Destination: id08904_5_34560_HpE94fy7tu0_00125.mp3\n",
      "Deleting original file id08904_5_34560_HpE94fy7tu0_00125 (pass -k to keep)\n",
      "Audio downloaded as id08904_5_34560_HpE94fy7tu0_00125\n",
      "Trimmed audio saved as ../data/download_df_audio/id08904_5_34560_HpE94fy7tu0_00125_cut.mp3\n",
      "Speaker: id08904, Video: aMiKPj6kITI, Txt file: 00309\n",
      "[youtube] Extracting URL: https://www.youtube.com/watch?v=aMiKPj6kITI\n",
      "[youtube] aMiKPj6kITI: Downloading webpage\n",
      "[youtube] aMiKPj6kITI: Downloading tv client config\n",
      "[youtube] aMiKPj6kITI: Downloading player 5ae7d525\n",
      "[youtube] aMiKPj6kITI: Downloading tv player API JSON\n",
      "[youtube] aMiKPj6kITI: Downloading ios player API JSON\n",
      "[youtube] aMiKPj6kITI: Downloading m3u8 information\n",
      "[info] aMiKPj6kITI: Downloading 1 format(s): 251\n",
      "[download] Destination: id08904_6_32200_aMiKPj6kITI_00309\n",
      "[download] 100% of    4.65MiB in 00:00:01 at 3.40MiB/s   \n",
      "[ExtractAudio] Destination: id08904_6_32200_aMiKPj6kITI_00309.mp3\n",
      "Deleting original file id08904_6_32200_aMiKPj6kITI_00309 (pass -k to keep)\n",
      "Audio downloaded as id08904_6_32200_aMiKPj6kITI_00309\n",
      "Trimmed audio saved as ../data/download_df_audio/id08904_6_32200_aMiKPj6kITI_00309_cut.mp3\n",
      "Speaker: id08904, Video: I5NZzFLZIGE, Txt file: 00136\n"
     ]
    },
    {
     "name": "stderr",
     "output_type": "stream",
     "text": [
      "ERROR: [youtube] I5NZzFLZIGE: Video unavailable\n"
     ]
    },
    {
     "name": "stdout",
     "output_type": "stream",
     "text": [
      "Speaker: id08904, Video: I5NZzFLZIGE, Txt file: 00135\n"
     ]
    },
    {
     "name": "stderr",
     "output_type": "stream",
     "text": [
      "ERROR: [youtube] I5NZzFLZIGE: Video unavailable\n"
     ]
    },
    {
     "name": "stdout",
     "output_type": "stream",
     "text": [
      "Speaker: id08904, Video: I5NZzFLZIGE, Txt file: 00130\n"
     ]
    },
    {
     "name": "stderr",
     "output_type": "stream",
     "text": [
      "ERROR: [youtube] I5NZzFLZIGE: Video unavailable\n"
     ]
    },
    {
     "name": "stdout",
     "output_type": "stream",
     "text": [
      "Speaker: id08904, Video: aefAQgnznBI, Txt file: 00316\n",
      "[youtube] Extracting URL: https://www.youtube.com/watch?v=aefAQgnznBI\n",
      "[youtube] aefAQgnznBI: Downloading webpage\n",
      "[youtube] aefAQgnznBI: Downloading tv client config\n",
      "[youtube] aefAQgnznBI: Downloading player 5ae7d525\n",
      "[youtube] aefAQgnznBI: Downloading tv player API JSON\n",
      "[youtube] aefAQgnznBI: Downloading ios player API JSON\n",
      "[youtube] aefAQgnznBI: Downloading m3u8 information\n",
      "[info] aefAQgnznBI: Downloading 1 format(s): 251\n",
      "[download] Destination: id08904_7_27400_aefAQgnznBI_00316\n",
      "[download] 100% of    2.24MiB in 00:00:00 at 2.42MiB/s   \n",
      "[ExtractAudio] Destination: id08904_7_27400_aefAQgnznBI_00316.mp3\n",
      "Deleting original file id08904_7_27400_aefAQgnznBI_00316 (pass -k to keep)\n",
      "Audio downloaded as id08904_7_27400_aefAQgnznBI_00316\n",
      "Trimmed audio saved as ../data/download_df_audio/id08904_7_27400_aefAQgnznBI_00316_cut.mp3\n",
      "Speaker: id08904, Video: oum-_T0LstA, Txt file: 00407\n",
      "[youtube] Extracting URL: https://www.youtube.com/watch?v=oum-_T0LstA\n",
      "[youtube] oum-_T0LstA: Downloading webpage\n",
      "[youtube] oum-_T0LstA: Downloading tv client config\n",
      "[youtube] oum-_T0LstA: Downloading player 5ae7d525\n",
      "[youtube] oum-_T0LstA: Downloading tv player API JSON\n",
      "[youtube] oum-_T0LstA: Downloading ios player API JSON\n",
      "[youtube] oum-_T0LstA: Downloading m3u8 information\n",
      "[info] oum-_T0LstA: Downloading 1 format(s): 140\n",
      "[download] Destination: id08904_8_27040_oum-_T0LstA_00407\n",
      "[download] 100% of    6.00MiB in 00:00:01 at 3.12MiB/s   \n",
      "[FixupM4a] Correcting container of \"id08904_8_27040_oum-_T0LstA_00407\"\n",
      "[ExtractAudio] Destination: id08904_8_27040_oum-_T0LstA_00407.mp3\n",
      "Deleting original file id08904_8_27040_oum-_T0LstA_00407 (pass -k to keep)\n",
      "Audio downloaded as id08904_8_27040_oum-_T0LstA_00407\n",
      "Trimmed audio saved as ../data/download_df_audio/id08904_8_27040_oum-_T0LstA_00407_cut.mp3\n",
      "Speaker: id08904, Video: 5uy1tSAdV4o, Txt file: 00063\n",
      "[youtube] Extracting URL: https://www.youtube.com/watch?v=5uy1tSAdV4o\n",
      "[youtube] 5uy1tSAdV4o: Downloading webpage\n",
      "[youtube] 5uy1tSAdV4o: Downloading tv client config\n",
      "[youtube] 5uy1tSAdV4o: Downloading player 5ae7d525\n",
      "[youtube] 5uy1tSAdV4o: Downloading tv player API JSON\n",
      "[youtube] 5uy1tSAdV4o: Downloading ios player API JSON\n",
      "[youtube] 5uy1tSAdV4o: Downloading m3u8 information\n",
      "[info] 5uy1tSAdV4o: Downloading 1 format(s): 251\n",
      "[download] Destination: id08904_9_26840_5uy1tSAdV4o_00063\n",
      "[download] 100% of    1.88MiB in 00:00:00 at 2.85MiB/s   \n",
      "[ExtractAudio] Destination: id08904_9_26840_5uy1tSAdV4o_00063.mp3\n",
      "Deleting original file id08904_9_26840_5uy1tSAdV4o_00063 (pass -k to keep)\n",
      "Audio downloaded as id08904_9_26840_5uy1tSAdV4o_00063\n",
      "Trimmed audio saved as ../data/download_df_audio/id08904_9_26840_5uy1tSAdV4o_00063_cut.mp3\n",
      "Speaker: id08917, Video: jNJ3XthDtp8, Txt file: 00357\n",
      "[youtube] Extracting URL: https://www.youtube.com/watch?v=jNJ3XthDtp8\n",
      "[youtube] jNJ3XthDtp8: Downloading webpage\n",
      "[youtube] jNJ3XthDtp8: Downloading tv client config\n",
      "[youtube] jNJ3XthDtp8: Downloading player 5ae7d525\n",
      "[youtube] jNJ3XthDtp8: Downloading tv player API JSON\n",
      "[youtube] jNJ3XthDtp8: Downloading ios player API JSON\n",
      "[youtube] jNJ3XthDtp8: Downloading m3u8 information\n",
      "[info] jNJ3XthDtp8: Downloading 1 format(s): 251\n",
      "[download] Destination: id08917_2_39480_jNJ3XthDtp8_00357\n",
      "[download] 100% of    3.61MiB in 00:00:01 at 2.74MiB/s   \n",
      "[ExtractAudio] Destination: id08917_2_39480_jNJ3XthDtp8_00357.mp3\n",
      "Deleting original file id08917_2_39480_jNJ3XthDtp8_00357 (pass -k to keep)\n",
      "Audio downloaded as id08917_2_39480_jNJ3XthDtp8_00357\n",
      "Trimmed audio saved as ../data/download_df_audio/id08917_2_39480_jNJ3XthDtp8_00357_cut.mp3\n",
      "Speaker: id08917, Video: 6rN2e58-xoU, Txt file: 00096\n",
      "[youtube] Extracting URL: https://www.youtube.com/watch?v=6rN2e58-xoU\n",
      "[youtube] 6rN2e58-xoU: Downloading webpage\n",
      "[youtube] 6rN2e58-xoU: Downloading tv client config\n",
      "[youtube] 6rN2e58-xoU: Downloading player 5ae7d525\n",
      "[youtube] 6rN2e58-xoU: Downloading tv player API JSON\n",
      "[youtube] 6rN2e58-xoU: Downloading ios player API JSON\n",
      "[youtube] 6rN2e58-xoU: Downloading m3u8 information\n",
      "[info] 6rN2e58-xoU: Downloading 1 format(s): 251\n",
      "[download] Destination: id08917_3_35640_6rN2e58-xoU_00096\n",
      "[download] 100% of    2.97MiB in 00:00:00 at 4.93MiB/s   \n",
      "[ExtractAudio] Destination: id08917_3_35640_6rN2e58-xoU_00096.mp3\n",
      "Deleting original file id08917_3_35640_6rN2e58-xoU_00096 (pass -k to keep)\n",
      "Audio downloaded as id08917_3_35640_6rN2e58-xoU_00096\n",
      "Trimmed audio saved as ../data/download_df_audio/id08917_3_35640_6rN2e58-xoU_00096_cut.mp3\n",
      "Speaker: id08917, Video: JZwxGIWP8sg, Txt file: 00203\n"
     ]
    },
    {
     "name": "stderr",
     "output_type": "stream",
     "text": [
      "ERROR: [youtube] JZwxGIWP8sg: Video unavailable\n"
     ]
    },
    {
     "name": "stdout",
     "output_type": "stream",
     "text": [
      "Speaker: id08917, Video: f5rBfl0_HTM, Txt file: 00329\n",
      "[youtube] Extracting URL: https://www.youtube.com/watch?v=f5rBfl0_HTM\n",
      "[youtube] f5rBfl0_HTM: Downloading webpage\n",
      "[youtube] f5rBfl0_HTM: Downloading tv client config\n",
      "[youtube] f5rBfl0_HTM: Downloading player 5ae7d525\n",
      "[youtube] f5rBfl0_HTM: Downloading tv player API JSON\n",
      "[youtube] f5rBfl0_HTM: Downloading ios player API JSON\n",
      "[youtube] f5rBfl0_HTM: Downloading m3u8 information\n",
      "[info] f5rBfl0_HTM: Downloading 1 format(s): 251\n",
      "[download] Destination: id08917_4_27440_f5rBfl0_HTM_00329\n",
      "[download] 100% of    3.60MiB in 00:00:00 at 4.69MiB/s   \n",
      "[ExtractAudio] Destination: id08917_4_27440_f5rBfl0_HTM_00329.mp3\n",
      "Deleting original file id08917_4_27440_f5rBfl0_HTM_00329 (pass -k to keep)\n",
      "Audio downloaded as id08917_4_27440_f5rBfl0_HTM_00329\n",
      "Trimmed audio saved as ../data/download_df_audio/id08917_4_27440_f5rBfl0_HTM_00329_cut.mp3\n",
      "Speaker: id08917, Video: a-f4DDnGSBc, Txt file: 00277\n",
      "[youtube] Extracting URL: https://www.youtube.com/watch?v=a-f4DDnGSBc\n",
      "[youtube] a-f4DDnGSBc: Downloading webpage\n",
      "[youtube] a-f4DDnGSBc: Downloading tv client config\n",
      "[youtube] a-f4DDnGSBc: Downloading player 5ae7d525\n",
      "[youtube] a-f4DDnGSBc: Downloading tv player API JSON\n",
      "[youtube] a-f4DDnGSBc: Downloading ios player API JSON\n",
      "[youtube] a-f4DDnGSBc: Downloading m3u8 information\n",
      "[info] a-f4DDnGSBc: Downloading 1 format(s): 251\n",
      "[download] Destination: id08917_5_25760_a-f4DDnGSBc_00277\n",
      "[download] 100% of    6.37MiB in 00:00:00 at 8.29MiB/s   \n",
      "[ExtractAudio] Destination: id08917_5_25760_a-f4DDnGSBc_00277.mp3\n",
      "Deleting original file id08917_5_25760_a-f4DDnGSBc_00277 (pass -k to keep)\n",
      "Audio downloaded as id08917_5_25760_a-f4DDnGSBc_00277\n",
      "Trimmed audio saved as ../data/download_df_audio/id08917_5_25760_a-f4DDnGSBc_00277_cut.mp3\n",
      "Speaker: id08917, Video: yHSnKBg84dk, Txt file: 00482\n",
      "[youtube] Extracting URL: https://www.youtube.com/watch?v=yHSnKBg84dk\n",
      "[youtube] yHSnKBg84dk: Downloading webpage\n",
      "[youtube] yHSnKBg84dk: Downloading tv client config\n",
      "[youtube] yHSnKBg84dk: Downloading player 5ae7d525\n",
      "[youtube] yHSnKBg84dk: Downloading tv player API JSON\n",
      "[youtube] yHSnKBg84dk: Downloading ios player API JSON\n",
      "[youtube] yHSnKBg84dk: Downloading m3u8 information\n",
      "[info] yHSnKBg84dk: Downloading 1 format(s): 251\n",
      "[download] Destination: id08917_6_22280_yHSnKBg84dk_00482\n",
      "[download] 100% of    5.04MiB in 00:00:01 at 3.09MiB/s   \n",
      "[ExtractAudio] Destination: id08917_6_22280_yHSnKBg84dk_00482.mp3\n",
      "Deleting original file id08917_6_22280_yHSnKBg84dk_00482 (pass -k to keep)\n",
      "Audio downloaded as id08917_6_22280_yHSnKBg84dk_00482\n",
      "Trimmed audio saved as ../data/download_df_audio/id08917_6_22280_yHSnKBg84dk_00482_cut.mp3\n",
      "Speaker: id08917, Video: mzGewI9MZD4, Txt file: 00389\n",
      "[youtube] Extracting URL: https://www.youtube.com/watch?v=mzGewI9MZD4\n",
      "[youtube] mzGewI9MZD4: Downloading webpage\n",
      "[youtube] mzGewI9MZD4: Downloading tv client config\n",
      "[youtube] mzGewI9MZD4: Downloading player 5ae7d525\n",
      "[youtube] mzGewI9MZD4: Downloading tv player API JSON\n",
      "[youtube] mzGewI9MZD4: Downloading ios player API JSON\n",
      "[youtube] mzGewI9MZD4: Downloading m3u8 information\n",
      "[info] mzGewI9MZD4: Downloading 1 format(s): 251\n",
      "[download] Destination: id08917_7_22120_mzGewI9MZD4_00389\n",
      "[download] 100% of    3.02MiB in 00:00:00 at 3.07MiB/s   \n",
      "[ExtractAudio] Destination: id08917_7_22120_mzGewI9MZD4_00389.mp3\n",
      "Deleting original file id08917_7_22120_mzGewI9MZD4_00389 (pass -k to keep)\n",
      "Audio downloaded as id08917_7_22120_mzGewI9MZD4_00389\n",
      "Trimmed audio saved as ../data/download_df_audio/id08917_7_22120_mzGewI9MZD4_00389_cut.mp3\n",
      "Speaker: id08917, Video: u2k8Tx9RKuY, Txt file: 00456\n",
      "[youtube] Extracting URL: https://www.youtube.com/watch?v=u2k8Tx9RKuY\n",
      "[youtube] u2k8Tx9RKuY: Downloading webpage\n",
      "[youtube] u2k8Tx9RKuY: Downloading tv client config\n",
      "[youtube] u2k8Tx9RKuY: Downloading player 5ae7d525\n",
      "[youtube] u2k8Tx9RKuY: Downloading tv player API JSON\n",
      "[youtube] u2k8Tx9RKuY: Downloading ios player API JSON\n",
      "[youtube] u2k8Tx9RKuY: Downloading m3u8 information\n",
      "[info] u2k8Tx9RKuY: Downloading 1 format(s): 251\n",
      "[download] Destination: id08917_8_21800_u2k8Tx9RKuY_00456\n",
      "[download] 100% of    3.45MiB in 00:00:00 at 3.99MiB/s   \n",
      "[ExtractAudio] Destination: id08917_8_21800_u2k8Tx9RKuY_00456.mp3\n",
      "Deleting original file id08917_8_21800_u2k8Tx9RKuY_00456 (pass -k to keep)\n",
      "Audio downloaded as id08917_8_21800_u2k8Tx9RKuY_00456\n",
      "Trimmed audio saved as ../data/download_df_audio/id08917_8_21800_u2k8Tx9RKuY_00456_cut.mp3\n",
      "Speaker: id08917, Video: a-f4DDnGSBc, Txt file: 00260\n",
      "[youtube] Extracting URL: https://www.youtube.com/watch?v=a-f4DDnGSBc\n",
      "[youtube] a-f4DDnGSBc: Downloading webpage\n",
      "[youtube] a-f4DDnGSBc: Downloading tv client config\n",
      "[youtube] a-f4DDnGSBc: Downloading player 5ae7d525\n",
      "[youtube] a-f4DDnGSBc: Downloading tv player API JSON\n",
      "[youtube] a-f4DDnGSBc: Downloading ios player API JSON\n",
      "[youtube] a-f4DDnGSBc: Downloading m3u8 information\n",
      "[info] a-f4DDnGSBc: Downloading 1 format(s): 251\n",
      "[download] Destination: id08917_9_21600_a-f4DDnGSBc_00260\n",
      "[download] 100% of    6.37MiB in 00:00:00 at 11.72MiB/s  \n",
      "[ExtractAudio] Destination: id08917_9_21600_a-f4DDnGSBc_00260.mp3\n",
      "Deleting original file id08917_9_21600_a-f4DDnGSBc_00260 (pass -k to keep)\n",
      "Audio downloaded as id08917_9_21600_a-f4DDnGSBc_00260\n",
      "Trimmed audio saved as ../data/download_df_audio/id08917_9_21600_a-f4DDnGSBc_00260_cut.mp3\n",
      "Speaker: id08999, Video: poI11uU2isQ, Txt file: 00450\n"
     ]
    },
    {
     "name": "stderr",
     "output_type": "stream",
     "text": [
      "ERROR: [youtube] poI11uU2isQ: Private video. Sign in if you've been granted access to this video. Use --cookies-from-browser or --cookies for the authentication. See  https://github.com/yt-dlp/yt-dlp/wiki/FAQ#how-do-i-pass-cookies-to-yt-dlp  for how to manually pass cookies. Also see  https://github.com/yt-dlp/yt-dlp/wiki/Extractors#exporting-youtube-cookies  for tips on effectively exporting YouTube cookies\n"
     ]
    },
    {
     "name": "stdout",
     "output_type": "stream",
     "text": [
      "Speaker: id08999, Video: _r2RfU9wZfM, Txt file: 00269\n"
     ]
    },
    {
     "name": "stderr",
     "output_type": "stream",
     "text": [
      "ERROR: [youtube] _r2RfU9wZfM: Private video. Sign in if you've been granted access to this video. Use --cookies-from-browser or --cookies for the authentication. See  https://github.com/yt-dlp/yt-dlp/wiki/FAQ#how-do-i-pass-cookies-to-yt-dlp  for how to manually pass cookies. Also see  https://github.com/yt-dlp/yt-dlp/wiki/Extractors#exporting-youtube-cookies  for tips on effectively exporting YouTube cookies\n"
     ]
    },
    {
     "name": "stdout",
     "output_type": "stream",
     "text": [
      "Speaker: id08999, Video: 4v0J5KdrDL4, Txt file: 00068\n",
      "[youtube] Extracting URL: https://www.youtube.com/watch?v=4v0J5KdrDL4\n",
      "[youtube] 4v0J5KdrDL4: Downloading webpage\n",
      "[youtube] 4v0J5KdrDL4: Downloading tv client config\n",
      "[youtube] 4v0J5KdrDL4: Downloading player 5ae7d525\n",
      "[youtube] 4v0J5KdrDL4: Downloading tv player API JSON\n",
      "[youtube] 4v0J5KdrDL4: Downloading ios player API JSON\n",
      "[youtube] 4v0J5KdrDL4: Downloading m3u8 information\n",
      "[info] 4v0J5KdrDL4: Downloading 1 format(s): 251\n",
      "[download] Destination: id08999_2_28080_4v0J5KdrDL4_00068\n",
      "[download] 100% of    8.46MiB in 00:00:00 at 8.79MiB/s   \n",
      "[ExtractAudio] Destination: id08999_2_28080_4v0J5KdrDL4_00068.mp3\n",
      "Deleting original file id08999_2_28080_4v0J5KdrDL4_00068 (pass -k to keep)\n",
      "Audio downloaded as id08999_2_28080_4v0J5KdrDL4_00068\n",
      "Trimmed audio saved as ../data/download_df_audio/id08999_2_28080_4v0J5KdrDL4_00068_cut.mp3\n",
      "Speaker: id08999, Video: _r2RfU9wZfM, Txt file: 00268\n"
     ]
    },
    {
     "name": "stderr",
     "output_type": "stream",
     "text": [
      "ERROR: [youtube] _r2RfU9wZfM: Private video. Sign in if you've been granted access to this video. Use --cookies-from-browser or --cookies for the authentication. See  https://github.com/yt-dlp/yt-dlp/wiki/FAQ#how-do-i-pass-cookies-to-yt-dlp  for how to manually pass cookies. Also see  https://github.com/yt-dlp/yt-dlp/wiki/Extractors#exporting-youtube-cookies  for tips on effectively exporting YouTube cookies\n"
     ]
    },
    {
     "name": "stdout",
     "output_type": "stream",
     "text": [
      "Speaker: id08999, Video: K5kNiePo57Y, Txt file: 00124\n"
     ]
    },
    {
     "name": "stderr",
     "output_type": "stream",
     "text": [
      "ERROR: [youtube] K5kNiePo57Y: Private video. Sign in if you've been granted access to this video. Use --cookies-from-browser or --cookies for the authentication. See  https://github.com/yt-dlp/yt-dlp/wiki/FAQ#how-do-i-pass-cookies-to-yt-dlp  for how to manually pass cookies. Also see  https://github.com/yt-dlp/yt-dlp/wiki/Extractors#exporting-youtube-cookies  for tips on effectively exporting YouTube cookies\n"
     ]
    },
    {
     "name": "stdout",
     "output_type": "stream",
     "text": [
      "Speaker: id08999, Video: tm0lN6z_ZpE, Txt file: 00490\n",
      "[youtube] Extracting URL: https://www.youtube.com/watch?v=tm0lN6z_ZpE\n",
      "[youtube] tm0lN6z_ZpE: Downloading webpage\n",
      "[youtube] tm0lN6z_ZpE: Downloading tv client config\n",
      "[youtube] tm0lN6z_ZpE: Downloading player 5ae7d525\n",
      "[youtube] tm0lN6z_ZpE: Downloading tv player API JSON\n",
      "[youtube] tm0lN6z_ZpE: Downloading ios player API JSON\n",
      "[youtube] tm0lN6z_ZpE: Downloading m3u8 information\n",
      "[info] tm0lN6z_ZpE: Downloading 1 format(s): 251\n",
      "[download] Destination: id08999_3_18520_tm0lN6z_ZpE_00490\n",
      "[download] 100% of   11.85MiB in 00:00:01 at 9.46MiB/s     \n",
      "[ExtractAudio] Destination: id08999_3_18520_tm0lN6z_ZpE_00490.mp3\n",
      "Deleting original file id08999_3_18520_tm0lN6z_ZpE_00490 (pass -k to keep)\n",
      "Audio downloaded as id08999_3_18520_tm0lN6z_ZpE_00490\n",
      "Trimmed audio saved as ../data/download_df_audio/id08999_3_18520_tm0lN6z_ZpE_00490_cut.mp3\n",
      "Speaker: id08999, Video: Pju4O6IY6NM, Txt file: 00182\n"
     ]
    },
    {
     "name": "stderr",
     "output_type": "stream",
     "text": [
      "ERROR: [youtube] Pju4O6IY6NM: Video unavailable\n"
     ]
    },
    {
     "name": "stdout",
     "output_type": "stream",
     "text": [
      "Speaker: id08999, Video: 4v0J5KdrDL4, Txt file: 00073\n",
      "[youtube] Extracting URL: https://www.youtube.com/watch?v=4v0J5KdrDL4\n",
      "[youtube] 4v0J5KdrDL4: Downloading webpage\n",
      "[youtube] 4v0J5KdrDL4: Downloading tv client config\n",
      "[youtube] 4v0J5KdrDL4: Downloading player 5ae7d525\n",
      "[youtube] 4v0J5KdrDL4: Downloading tv player API JSON\n",
      "[youtube] 4v0J5KdrDL4: Downloading ios player API JSON\n",
      "[youtube] 4v0J5KdrDL4: Downloading m3u8 information\n",
      "[info] 4v0J5KdrDL4: Downloading 1 format(s): 251\n",
      "[download] Destination: id08999_4_17120_4v0J5KdrDL4_00073\n",
      "[download] 100% of    8.46MiB in 00:00:00 at 15.72MiB/s  \n",
      "[ExtractAudio] Destination: id08999_4_17120_4v0J5KdrDL4_00073.mp3\n",
      "Deleting original file id08999_4_17120_4v0J5KdrDL4_00073 (pass -k to keep)\n",
      "Audio downloaded as id08999_4_17120_4v0J5KdrDL4_00073\n",
      "Trimmed audio saved as ../data/download_df_audio/id08999_4_17120_4v0J5KdrDL4_00073_cut.mp3\n",
      "Speaker: id08999, Video: hlNuTY_1N0A, Txt file: 00360\n",
      "[youtube] Extracting URL: https://www.youtube.com/watch?v=hlNuTY_1N0A\n",
      "[youtube] hlNuTY_1N0A: Downloading webpage\n",
      "[youtube] hlNuTY_1N0A: Downloading tv client config\n",
      "[youtube] hlNuTY_1N0A: Downloading player 5ae7d525\n",
      "[youtube] hlNuTY_1N0A: Downloading tv player API JSON\n",
      "[youtube] hlNuTY_1N0A: Downloading ios player API JSON\n",
      "[youtube] hlNuTY_1N0A: Downloading m3u8 information\n",
      "[info] hlNuTY_1N0A: Downloading 1 format(s): 251\n",
      "[download] Destination: id08999_5_17080_hlNuTY_1N0A_00360\n",
      "[download] 100% of    4.35MiB in 00:00:01 at 2.94MiB/s   \n",
      "[ExtractAudio] Destination: id08999_5_17080_hlNuTY_1N0A_00360.mp3\n",
      "Deleting original file id08999_5_17080_hlNuTY_1N0A_00360 (pass -k to keep)\n",
      "Audio downloaded as id08999_5_17080_hlNuTY_1N0A_00360\n",
      "Trimmed audio saved as ../data/download_df_audio/id08999_5_17080_hlNuTY_1N0A_00360_cut.mp3\n",
      "Speaker: id08999, Video: poI11uU2isQ, Txt file: 00452\n"
     ]
    },
    {
     "name": "stderr",
     "output_type": "stream",
     "text": [
      "ERROR: [youtube] poI11uU2isQ: Private video. Sign in if you've been granted access to this video. Use --cookies-from-browser or --cookies for the authentication. See  https://github.com/yt-dlp/yt-dlp/wiki/FAQ#how-do-i-pass-cookies-to-yt-dlp  for how to manually pass cookies. Also see  https://github.com/yt-dlp/yt-dlp/wiki/Extractors#exporting-youtube-cookies  for tips on effectively exporting YouTube cookies\n"
     ]
    },
    {
     "name": "stdout",
     "output_type": "stream",
     "text": [
      "Speaker: id08999, Video: 3r1iLWVnh6I, Txt file: 00047\n",
      "[youtube] Extracting URL: https://www.youtube.com/watch?v=3r1iLWVnh6I\n",
      "[youtube] 3r1iLWVnh6I: Downloading webpage\n",
      "[youtube] 3r1iLWVnh6I: Downloading tv client config\n",
      "[youtube] 3r1iLWVnh6I: Downloading player 5ae7d525\n",
      "[youtube] 3r1iLWVnh6I: Downloading tv player API JSON\n",
      "[youtube] 3r1iLWVnh6I: Downloading ios player API JSON\n",
      "[youtube] 3r1iLWVnh6I: Downloading m3u8 information\n",
      "[info] 3r1iLWVnh6I: Downloading 1 format(s): 251\n",
      "[download] Destination: id08999_6_15840_3r1iLWVnh6I_00047\n",
      "[download] 100% of    1.90MiB in 00:00:00 at 2.96MiB/s   \n",
      "[ExtractAudio] Destination: id08999_6_15840_3r1iLWVnh6I_00047.mp3\n",
      "Deleting original file id08999_6_15840_3r1iLWVnh6I_00047 (pass -k to keep)\n",
      "Audio downloaded as id08999_6_15840_3r1iLWVnh6I_00047\n",
      "Trimmed audio saved as ../data/download_df_audio/id08999_6_15840_3r1iLWVnh6I_00047_cut.mp3\n",
      "Speaker: id08999, Video: Ti8fovGwG4c, Txt file: 00247\n",
      "[youtube] Extracting URL: https://www.youtube.com/watch?v=Ti8fovGwG4c\n",
      "[youtube] Ti8fovGwG4c: Downloading webpage\n",
      "[youtube] Ti8fovGwG4c: Downloading tv client config\n",
      "[youtube] Ti8fovGwG4c: Downloading player 5ae7d525\n",
      "[youtube] Ti8fovGwG4c: Downloading tv player API JSON\n",
      "[youtube] Ti8fovGwG4c: Downloading ios player API JSON\n",
      "[youtube] Ti8fovGwG4c: Downloading m3u8 information\n",
      "[info] Ti8fovGwG4c: Downloading 1 format(s): 140\n",
      "[download] Destination: id08999_7_15800_Ti8fovGwG4c_00247\n",
      "[download] 100% of    1.90MiB in 00:00:00 at 1.92MiB/s   \n",
      "[FixupM4a] Correcting container of \"id08999_7_15800_Ti8fovGwG4c_00247\"\n",
      "[ExtractAudio] Destination: id08999_7_15800_Ti8fovGwG4c_00247.mp3\n",
      "Deleting original file id08999_7_15800_Ti8fovGwG4c_00247 (pass -k to keep)\n",
      "Audio downloaded as id08999_7_15800_Ti8fovGwG4c_00247\n",
      "Trimmed audio saved as ../data/download_df_audio/id08999_7_15800_Ti8fovGwG4c_00247_cut.mp3\n",
      "Speaker: id08999, Video: 0eCN3tXZEoY, Txt file: 00013\n",
      "[youtube] Extracting URL: https://www.youtube.com/watch?v=0eCN3tXZEoY\n",
      "[youtube] 0eCN3tXZEoY: Downloading webpage\n",
      "[youtube] 0eCN3tXZEoY: Downloading tv client config\n",
      "[youtube] 0eCN3tXZEoY: Downloading player 5ae7d525\n",
      "[youtube] 0eCN3tXZEoY: Downloading tv player API JSON\n",
      "[youtube] 0eCN3tXZEoY: Downloading ios player API JSON\n",
      "[youtube] 0eCN3tXZEoY: Downloading m3u8 information\n",
      "[info] 0eCN3tXZEoY: Downloading 1 format(s): 251\n",
      "[download] Destination: id08999_8_15680_0eCN3tXZEoY_00013\n",
      "[download] 100% of    5.88MiB in 00:00:01 at 3.59MiB/s   \n",
      "[ExtractAudio] Destination: id08999_8_15680_0eCN3tXZEoY_00013.mp3\n",
      "Deleting original file id08999_8_15680_0eCN3tXZEoY_00013 (pass -k to keep)\n",
      "Audio downloaded as id08999_8_15680_0eCN3tXZEoY_00013\n",
      "Trimmed audio saved as ../data/download_df_audio/id08999_8_15680_0eCN3tXZEoY_00013_cut.mp3\n",
      "Speaker: id08999, Video: cJHnDllOPto, Txt file: 00315\n"
     ]
    },
    {
     "name": "stderr",
     "output_type": "stream",
     "text": [
      "ERROR: [youtube] cJHnDllOPto: Private video. Sign in if you've been granted access to this video. Use --cookies-from-browser or --cookies for the authentication. See  https://github.com/yt-dlp/yt-dlp/wiki/FAQ#how-do-i-pass-cookies-to-yt-dlp  for how to manually pass cookies. Also see  https://github.com/yt-dlp/yt-dlp/wiki/Extractors#exporting-youtube-cookies  for tips on effectively exporting YouTube cookies\n"
     ]
    },
    {
     "name": "stdout",
     "output_type": "stream",
     "text": [
      "Speaker: id08999, Video: Pju4O6IY6NM, Txt file: 00193\n"
     ]
    },
    {
     "name": "stderr",
     "output_type": "stream",
     "text": [
      "ERROR: [youtube] Pju4O6IY6NM: Video unavailable\n"
     ]
    },
    {
     "name": "stdout",
     "output_type": "stream",
     "text": [
      "Speaker: id08999, Video: liE52jW2A60, Txt file: 00410\n",
      "[youtube] Extracting URL: https://www.youtube.com/watch?v=liE52jW2A60\n",
      "[youtube] liE52jW2A60: Downloading webpage\n",
      "[youtube] liE52jW2A60: Downloading tv client config\n",
      "[youtube] liE52jW2A60: Downloading player 5ae7d525\n",
      "[youtube] liE52jW2A60: Downloading tv player API JSON\n",
      "[youtube] liE52jW2A60: Downloading ios player API JSON\n",
      "[youtube] liE52jW2A60: Downloading m3u8 information\n",
      "[info] liE52jW2A60: Downloading 1 format(s): 251\n",
      "[download] Destination: id08999_9_14720_liE52jW2A60_00410\n",
      "[download] 100% of    1.75MiB in 00:00:00 at 3.17MiB/s   \n",
      "[ExtractAudio] Destination: id08999_9_14720_liE52jW2A60_00410.mp3\n",
      "Deleting original file id08999_9_14720_liE52jW2A60_00410 (pass -k to keep)\n",
      "Audio downloaded as id08999_9_14720_liE52jW2A60_00410\n",
      "Trimmed audio saved as ../data/download_df_audio/id08999_9_14720_liE52jW2A60_00410_cut.mp3\n",
      "Speaker: id09046, Video: wkqnymffnGs, Txt file: 00277\n"
     ]
    },
    {
     "name": "stderr",
     "output_type": "stream",
     "text": [
      "ERROR: [youtube] wkqnymffnGs: Video unavailable\n"
     ]
    },
    {
     "name": "stdout",
     "output_type": "stream",
     "text": [
      "Speaker: id09046, Video: K3tgd3aHr80, Txt file: 00090\n",
      "[youtube] Extracting URL: https://www.youtube.com/watch?v=K3tgd3aHr80\n",
      "[youtube] K3tgd3aHr80: Downloading webpage\n",
      "[youtube] K3tgd3aHr80: Downloading tv client config\n",
      "[youtube] K3tgd3aHr80: Downloading player 5ae7d525\n",
      "[youtube] K3tgd3aHr80: Downloading tv player API JSON\n",
      "[youtube] K3tgd3aHr80: Downloading ios player API JSON\n",
      "[youtube] K3tgd3aHr80: Downloading m3u8 information\n",
      "[info] K3tgd3aHr80: Downloading 1 format(s): 251\n",
      "[download] Destination: id09046_2_19920_K3tgd3aHr80_00090\n",
      "[download] 100% of   17.93MiB in 00:00:02 at 7.30MiB/s     \n",
      "[ExtractAudio] Destination: id09046_2_19920_K3tgd3aHr80_00090.mp3\n",
      "Deleting original file id09046_2_19920_K3tgd3aHr80_00090 (pass -k to keep)\n",
      "Audio downloaded as id09046_2_19920_K3tgd3aHr80_00090\n",
      "Trimmed audio saved as ../data/download_df_audio/id09046_2_19920_K3tgd3aHr80_00090_cut.mp3\n",
      "Speaker: id09046, Video: TVvq2lSI_6U, Txt file: 00140\n",
      "[youtube] Extracting URL: https://www.youtube.com/watch?v=TVvq2lSI_6U\n",
      "[youtube] TVvq2lSI_6U: Downloading webpage\n",
      "[youtube] TVvq2lSI_6U: Downloading tv client config\n",
      "[youtube] TVvq2lSI_6U: Downloading player 5ae7d525\n",
      "[youtube] TVvq2lSI_6U: Downloading tv player API JSON\n",
      "[youtube] TVvq2lSI_6U: Downloading ios player API JSON\n",
      "[youtube] TVvq2lSI_6U: Downloading m3u8 information\n",
      "[info] TVvq2lSI_6U: Downloading 1 format(s): 140\n",
      "[download] Destination: id09046_3_17880_TVvq2lSI_6U_00140\n",
      "[download] 100% of  735.11KiB in 00:00:00 at 2.77MiB/s   \n",
      "[FixupM4a] Correcting container of \"id09046_3_17880_TVvq2lSI_6U_00140\"\n",
      "[ExtractAudio] Destination: id09046_3_17880_TVvq2lSI_6U_00140.mp3\n",
      "Deleting original file id09046_3_17880_TVvq2lSI_6U_00140 (pass -k to keep)\n",
      "Audio downloaded as id09046_3_17880_TVvq2lSI_6U_00140\n",
      "Trimmed audio saved as ../data/download_df_audio/id09046_3_17880_TVvq2lSI_6U_00140_cut.mp3\n",
      "Speaker: id09046, Video: wkqnymffnGs, Txt file: 00274\n"
     ]
    },
    {
     "name": "stderr",
     "output_type": "stream",
     "text": [
      "ERROR: [youtube] wkqnymffnGs: Video unavailable\n"
     ]
    },
    {
     "name": "stdout",
     "output_type": "stream",
     "text": [
      "Speaker: id09046, Video: ilJ8itzNp0Q, Txt file: 00216\n",
      "[youtube] Extracting URL: https://www.youtube.com/watch?v=ilJ8itzNp0Q\n",
      "[youtube] ilJ8itzNp0Q: Downloading webpage\n",
      "[youtube] ilJ8itzNp0Q: Downloading tv client config\n",
      "[youtube] ilJ8itzNp0Q: Downloading player 5ae7d525\n",
      "[youtube] ilJ8itzNp0Q: Downloading tv player API JSON\n",
      "[youtube] ilJ8itzNp0Q: Downloading ios player API JSON\n",
      "[youtube] ilJ8itzNp0Q: Downloading m3u8 information\n",
      "[info] ilJ8itzNp0Q: Downloading 1 format(s): 251\n",
      "[download] Destination: id09046_4_15120_ilJ8itzNp0Q_00216\n",
      "[download] 100% of    3.00MiB in 00:00:01 at 2.46MiB/s   \n",
      "[ExtractAudio] Destination: id09046_4_15120_ilJ8itzNp0Q_00216.mp3\n",
      "Deleting original file id09046_4_15120_ilJ8itzNp0Q_00216 (pass -k to keep)\n",
      "Audio downloaded as id09046_4_15120_ilJ8itzNp0Q_00216\n",
      "Trimmed audio saved as ../data/download_df_audio/id09046_4_15120_ilJ8itzNp0Q_00216_cut.mp3\n",
      "Speaker: id09046, Video: K3tgd3aHr80, Txt file: 00067\n",
      "[youtube] Extracting URL: https://www.youtube.com/watch?v=K3tgd3aHr80\n",
      "[youtube] K3tgd3aHr80: Downloading webpage\n",
      "[youtube] K3tgd3aHr80: Downloading tv client config\n",
      "[youtube] K3tgd3aHr80: Downloading player 5ae7d525\n",
      "[youtube] K3tgd3aHr80: Downloading tv player API JSON\n",
      "[youtube] K3tgd3aHr80: Downloading ios player API JSON\n",
      "[youtube] K3tgd3aHr80: Downloading m3u8 information\n",
      "[info] K3tgd3aHr80: Downloading 1 format(s): 251\n",
      "[download] Destination: id09046_5_14680_K3tgd3aHr80_00067\n",
      "[download] 100% of   17.93MiB in 00:00:01 at 13.20MiB/s    \n",
      "[ExtractAudio] Destination: id09046_5_14680_K3tgd3aHr80_00067.mp3\n",
      "Deleting original file id09046_5_14680_K3tgd3aHr80_00067 (pass -k to keep)\n",
      "Audio downloaded as id09046_5_14680_K3tgd3aHr80_00067\n",
      "Trimmed audio saved as ../data/download_df_audio/id09046_5_14680_K3tgd3aHr80_00067_cut.mp3\n",
      "Speaker: id09046, Video: 9uD78drLDhU, Txt file: 00032\n",
      "[youtube] Extracting URL: https://www.youtube.com/watch?v=9uD78drLDhU\n",
      "[youtube] 9uD78drLDhU: Downloading webpage\n",
      "[youtube] 9uD78drLDhU: Downloading tv client config\n",
      "[youtube] 9uD78drLDhU: Downloading player 5ae7d525\n",
      "[youtube] 9uD78drLDhU: Downloading tv player API JSON\n",
      "[youtube] 9uD78drLDhU: Downloading ios player API JSON\n",
      "[youtube] 9uD78drLDhU: Downloading m3u8 information\n",
      "[info] 9uD78drLDhU: Downloading 1 format(s): 251\n",
      "[download] Destination: id09046_6_13320_9uD78drLDhU_00032\n",
      "[download] 100% of    3.81MiB in 00:00:01 at 3.71MiB/s   \n",
      "[ExtractAudio] Destination: id09046_6_13320_9uD78drLDhU_00032.mp3\n",
      "Deleting original file id09046_6_13320_9uD78drLDhU_00032 (pass -k to keep)\n",
      "Audio downloaded as id09046_6_13320_9uD78drLDhU_00032\n",
      "Trimmed audio saved as ../data/download_df_audio/id09046_6_13320_9uD78drLDhU_00032_cut.mp3\n",
      "Speaker: id09046, Video: hot5ixctq70, Txt file: 00205\n",
      "[youtube] Extracting URL: https://www.youtube.com/watch?v=hot5ixctq70\n",
      "[youtube] hot5ixctq70: Downloading webpage\n",
      "[youtube] hot5ixctq70: Downloading tv client config\n",
      "[youtube] hot5ixctq70: Downloading player 5ae7d525\n",
      "[youtube] hot5ixctq70: Downloading tv player API JSON\n",
      "[youtube] hot5ixctq70: Downloading ios player API JSON\n",
      "[youtube] hot5ixctq70: Downloading m3u8 information\n",
      "[info] hot5ixctq70: Downloading 1 format(s): 140\n",
      "[download] Destination: id09046_7_12920_hot5ixctq70_00205\n",
      "[download] 100% of    7.21MiB in 00:00:02 at 2.73MiB/s   \n",
      "[FixupM4a] Correcting container of \"id09046_7_12920_hot5ixctq70_00205\"\n",
      "[ExtractAudio] Destination: id09046_7_12920_hot5ixctq70_00205.mp3\n",
      "Deleting original file id09046_7_12920_hot5ixctq70_00205 (pass -k to keep)\n",
      "Audio downloaded as id09046_7_12920_hot5ixctq70_00205\n",
      "Trimmed audio saved as ../data/download_df_audio/id09046_7_12920_hot5ixctq70_00205_cut.mp3\n",
      "Speaker: id09046, Video: K3tgd3aHr80, Txt file: 00066\n",
      "[youtube] Extracting URL: https://www.youtube.com/watch?v=K3tgd3aHr80\n",
      "[youtube] K3tgd3aHr80: Downloading webpage\n",
      "[youtube] K3tgd3aHr80: Downloading tv client config\n",
      "[youtube] K3tgd3aHr80: Downloading player 5ae7d525\n",
      "[youtube] K3tgd3aHr80: Downloading tv player API JSON\n",
      "[youtube] K3tgd3aHr80: Downloading ios player API JSON\n",
      "[youtube] K3tgd3aHr80: Downloading m3u8 information\n",
      "[info] K3tgd3aHr80: Downloading 1 format(s): 251\n",
      "[download] Destination: id09046_8_12400_K3tgd3aHr80_00066\n",
      "[download] 100% of   17.93MiB in 00:00:01 at 14.71MiB/s    \n",
      "[ExtractAudio] Destination: id09046_8_12400_K3tgd3aHr80_00066.mp3\n",
      "Deleting original file id09046_8_12400_K3tgd3aHr80_00066 (pass -k to keep)\n",
      "Audio downloaded as id09046_8_12400_K3tgd3aHr80_00066\n",
      "Trimmed audio saved as ../data/download_df_audio/id09046_8_12400_K3tgd3aHr80_00066_cut.mp3\n",
      "Speaker: id09046, Video: XWk76ojkHdc, Txt file: 00148\n",
      "[youtube] Extracting URL: https://www.youtube.com/watch?v=XWk76ojkHdc\n",
      "[youtube] XWk76ojkHdc: Downloading webpage\n",
      "[youtube] XWk76ojkHdc: Downloading tv client config\n",
      "[youtube] XWk76ojkHdc: Downloading player 5ae7d525\n",
      "[youtube] XWk76ojkHdc: Downloading tv player API JSON\n",
      "[youtube] XWk76ojkHdc: Downloading ios player API JSON\n",
      "[youtube] XWk76ojkHdc: Downloading m3u8 information\n",
      "[info] XWk76ojkHdc: Downloading 1 format(s): 140\n",
      "[download] Destination: id09046_9_12000_XWk76ojkHdc_00148\n",
      "[download] 100% of    3.11MiB in 00:00:01 at 2.92MiB/s   \n",
      "[FixupM4a] Correcting container of \"id09046_9_12000_XWk76ojkHdc_00148\"\n",
      "[ExtractAudio] Destination: id09046_9_12000_XWk76ojkHdc_00148.mp3\n",
      "Deleting original file id09046_9_12000_XWk76ojkHdc_00148 (pass -k to keep)\n",
      "Audio downloaded as id09046_9_12000_XWk76ojkHdc_00148\n",
      "Trimmed audio saved as ../data/download_df_audio/id09046_9_12000_XWk76ojkHdc_00148_cut.mp3\n",
      "Speaker: id09171, Video: 1fxsAEAVIF8, Txt file: 00015\n",
      "[youtube] Extracting URL: https://www.youtube.com/watch?v=1fxsAEAVIF8\n",
      "[youtube] 1fxsAEAVIF8: Downloading webpage\n",
      "[youtube] 1fxsAEAVIF8: Downloading tv client config\n",
      "[youtube] 1fxsAEAVIF8: Downloading player 5ae7d525\n",
      "[youtube] 1fxsAEAVIF8: Downloading tv player API JSON\n",
      "[youtube] 1fxsAEAVIF8: Downloading ios player API JSON\n",
      "[youtube] 1fxsAEAVIF8: Downloading m3u8 information\n",
      "[info] 1fxsAEAVIF8: Downloading 1 format(s): 140\n",
      "[download] Destination: id09171_2_44880_1fxsAEAVIF8_00015\n",
      "[download] 100% of   10.98MiB in 00:00:01 at 8.20MiB/s     \n",
      "[FixupM4a] Correcting container of \"id09171_2_44880_1fxsAEAVIF8_00015\"\n",
      "[ExtractAudio] Destination: id09171_2_44880_1fxsAEAVIF8_00015.mp3\n",
      "Deleting original file id09171_2_44880_1fxsAEAVIF8_00015 (pass -k to keep)\n",
      "Audio downloaded as id09171_2_44880_1fxsAEAVIF8_00015\n",
      "Trimmed audio saved as ../data/download_df_audio/id09171_2_44880_1fxsAEAVIF8_00015_cut.mp3\n",
      "Speaker: id09171, Video: mOCoBmkjJNI, Txt file: 00394\n"
     ]
    },
    {
     "name": "stderr",
     "output_type": "stream",
     "text": [
      "ERROR: [youtube] mOCoBmkjJNI: Video unavailable\n"
     ]
    },
    {
     "name": "stdout",
     "output_type": "stream",
     "text": [
      "Speaker: id09171, Video: mOCoBmkjJNI, Txt file: 00401\n"
     ]
    },
    {
     "name": "stderr",
     "output_type": "stream",
     "text": [
      "ERROR: [youtube] mOCoBmkjJNI: Video unavailable\n"
     ]
    },
    {
     "name": "stdout",
     "output_type": "stream",
     "text": [
      "Speaker: id09171, Video: Pi4etPfDSgs, Txt file: 00235\n"
     ]
    },
    {
     "name": "stderr",
     "output_type": "stream",
     "text": [
      "ERROR: [youtube] Pi4etPfDSgs: Video unavailable\n"
     ]
    },
    {
     "name": "stdout",
     "output_type": "stream",
     "text": [
      "Speaker: id09171, Video: mOCoBmkjJNI, Txt file: 00400\n"
     ]
    },
    {
     "name": "stderr",
     "output_type": "stream",
     "text": [
      "ERROR: [youtube] mOCoBmkjJNI: Video unavailable\n"
     ]
    },
    {
     "name": "stdout",
     "output_type": "stream",
     "text": [
      "Speaker: id09171, Video: mOCoBmkjJNI, Txt file: 00403\n"
     ]
    },
    {
     "name": "stderr",
     "output_type": "stream",
     "text": [
      "ERROR: [youtube] mOCoBmkjJNI: Video unavailable\n"
     ]
    },
    {
     "name": "stdout",
     "output_type": "stream",
     "text": [
      "Speaker: id09171, Video: MWsO3D8uCMo, Txt file: 00174\n",
      "[youtube] Extracting URL: https://www.youtube.com/watch?v=MWsO3D8uCMo\n",
      "[youtube] MWsO3D8uCMo: Downloading webpage\n",
      "[youtube] MWsO3D8uCMo: Downloading tv client config\n",
      "[youtube] MWsO3D8uCMo: Downloading player 5ae7d525\n",
      "[youtube] MWsO3D8uCMo: Downloading tv player API JSON\n",
      "[youtube] MWsO3D8uCMo: Downloading ios player API JSON\n",
      "[youtube] MWsO3D8uCMo: Downloading m3u8 information\n",
      "[info] MWsO3D8uCMo: Downloading 1 format(s): 140\n",
      "[download] Destination: id09171_3_26760_MWsO3D8uCMo_00174\n",
      "[download] 100% of    4.92MiB in 00:00:00 at 8.36MiB/s   \n",
      "[FixupM4a] Correcting container of \"id09171_3_26760_MWsO3D8uCMo_00174\"\n",
      "[ExtractAudio] Destination: id09171_3_26760_MWsO3D8uCMo_00174.mp3\n",
      "Deleting original file id09171_3_26760_MWsO3D8uCMo_00174 (pass -k to keep)\n",
      "Audio downloaded as id09171_3_26760_MWsO3D8uCMo_00174\n",
      "Trimmed audio saved as ../data/download_df_audio/id09171_3_26760_MWsO3D8uCMo_00174_cut.mp3\n",
      "Speaker: id09171, Video: mOCoBmkjJNI, Txt file: 00417\n"
     ]
    },
    {
     "name": "stderr",
     "output_type": "stream",
     "text": [
      "ERROR: [youtube] mOCoBmkjJNI: Video unavailable\n"
     ]
    },
    {
     "name": "stdout",
     "output_type": "stream",
     "text": [
      "Speaker: id09171, Video: 4TcInzUCrQk, Txt file: 00052\n",
      "[youtube] Extracting URL: https://www.youtube.com/watch?v=4TcInzUCrQk\n",
      "[youtube] 4TcInzUCrQk: Downloading webpage\n",
      "[youtube] 4TcInzUCrQk: Downloading tv client config\n",
      "[youtube] 4TcInzUCrQk: Downloading player 5ae7d525\n",
      "[youtube] 4TcInzUCrQk: Downloading tv player API JSON\n",
      "[youtube] 4TcInzUCrQk: Downloading ios player API JSON\n",
      "[youtube] 4TcInzUCrQk: Downloading m3u8 information\n",
      "[info] 4TcInzUCrQk: Downloading 1 format(s): 251\n",
      "[download] Destination: id09171_4_25880_4TcInzUCrQk_00052\n",
      "[download] 100% of    9.28MiB in 00:00:00 at 9.53MiB/s   \n",
      "[ExtractAudio] Destination: id09171_4_25880_4TcInzUCrQk_00052.mp3\n",
      "Deleting original file id09171_4_25880_4TcInzUCrQk_00052 (pass -k to keep)\n",
      "Audio downloaded as id09171_4_25880_4TcInzUCrQk_00052\n",
      "Trimmed audio saved as ../data/download_df_audio/id09171_4_25880_4TcInzUCrQk_00052_cut.mp3\n",
      "Speaker: id09171, Video: gLzvDi_J-gQ, Txt file: 00363\n",
      "[youtube] Extracting URL: https://www.youtube.com/watch?v=gLzvDi_J-gQ\n",
      "[youtube] gLzvDi_J-gQ: Downloading webpage\n",
      "[youtube] gLzvDi_J-gQ: Downloading tv client config\n",
      "[youtube] gLzvDi_J-gQ: Downloading player 5ae7d525\n",
      "[youtube] gLzvDi_J-gQ: Downloading tv player API JSON\n",
      "[youtube] gLzvDi_J-gQ: Downloading ios player API JSON\n",
      "[youtube] gLzvDi_J-gQ: Downloading m3u8 information\n",
      "[info] gLzvDi_J-gQ: Downloading 1 format(s): 251\n",
      "[download] Destination: id09171_5_25280_gLzvDi_J-gQ_00363\n",
      "[download] 100% of    4.92MiB in 00:00:01 at 4.63MiB/s   \n",
      "[ExtractAudio] Destination: id09171_5_25280_gLzvDi_J-gQ_00363.mp3\n",
      "Deleting original file id09171_5_25280_gLzvDi_J-gQ_00363 (pass -k to keep)\n",
      "Audio downloaded as id09171_5_25280_gLzvDi_J-gQ_00363\n",
      "Trimmed audio saved as ../data/download_df_audio/id09171_5_25280_gLzvDi_J-gQ_00363_cut.mp3\n",
      "Speaker: id09171, Video: tqW5Gifx9Oc, Txt file: 00463\n"
     ]
    },
    {
     "name": "stderr",
     "output_type": "stream",
     "text": [
      "ERROR: [youtube] tqW5Gifx9Oc: Private video. Sign in if you've been granted access to this video. Use --cookies-from-browser or --cookies for the authentication. See  https://github.com/yt-dlp/yt-dlp/wiki/FAQ#how-do-i-pass-cookies-to-yt-dlp  for how to manually pass cookies. Also see  https://github.com/yt-dlp/yt-dlp/wiki/Extractors#exporting-youtube-cookies  for tips on effectively exporting YouTube cookies\n"
     ]
    },
    {
     "name": "stdout",
     "output_type": "stream",
     "text": [
      "Speaker: id09171, Video: 9Nc9M_5GdNo, Txt file: 00074\n",
      "[youtube] Extracting URL: https://www.youtube.com/watch?v=9Nc9M_5GdNo\n",
      "[youtube] 9Nc9M_5GdNo: Downloading webpage\n",
      "[youtube] 9Nc9M_5GdNo: Downloading tv client config\n",
      "[youtube] 9Nc9M_5GdNo: Downloading player 5ae7d525\n",
      "[youtube] 9Nc9M_5GdNo: Downloading tv player API JSON\n",
      "[youtube] 9Nc9M_5GdNo: Downloading ios player API JSON\n",
      "[youtube] 9Nc9M_5GdNo: Downloading m3u8 information\n",
      "[info] 9Nc9M_5GdNo: Downloading 1 format(s): 251\n",
      "[download] Destination: id09171_6_24720_9Nc9M_5GdNo_00074\n",
      "[download] 100% of    1.87MiB in 00:00:00 at 3.28MiB/s   \n",
      "[ExtractAudio] Destination: id09171_6_24720_9Nc9M_5GdNo_00074.mp3\n",
      "Deleting original file id09171_6_24720_9Nc9M_5GdNo_00074 (pass -k to keep)\n",
      "Audio downloaded as id09171_6_24720_9Nc9M_5GdNo_00074\n",
      "Trimmed audio saved as ../data/download_df_audio/id09171_6_24720_9Nc9M_5GdNo_00074_cut.mp3\n",
      "Speaker: id09171, Video: Pi4etPfDSgs, Txt file: 00223\n"
     ]
    },
    {
     "name": "stderr",
     "output_type": "stream",
     "text": [
      "ERROR: [youtube] Pi4etPfDSgs: Video unavailable\n"
     ]
    },
    {
     "name": "stdout",
     "output_type": "stream",
     "text": [
      "Speaker: id09171, Video: nPo7L4GfLFg, Txt file: 00434\n",
      "[youtube] Extracting URL: https://www.youtube.com/watch?v=nPo7L4GfLFg\n",
      "[youtube] nPo7L4GfLFg: Downloading webpage\n",
      "[youtube] nPo7L4GfLFg: Downloading tv client config\n",
      "[youtube] nPo7L4GfLFg: Downloading player 5ae7d525\n",
      "[youtube] nPo7L4GfLFg: Downloading tv player API JSON\n",
      "[youtube] nPo7L4GfLFg: Downloading ios player API JSON\n",
      "[youtube] nPo7L4GfLFg: Downloading m3u8 information\n",
      "[info] nPo7L4GfLFg: Downloading 1 format(s): 251\n",
      "[download] Destination: id09171_7_23840_nPo7L4GfLFg_00434\n",
      "[download] 100% of    3.76MiB in 00:00:00 at 5.29MiB/s   \n",
      "[ExtractAudio] Destination: id09171_7_23840_nPo7L4GfLFg_00434.mp3\n",
      "Deleting original file id09171_7_23840_nPo7L4GfLFg_00434 (pass -k to keep)\n",
      "Audio downloaded as id09171_7_23840_nPo7L4GfLFg_00434\n",
      "Trimmed audio saved as ../data/download_df_audio/id09171_7_23840_nPo7L4GfLFg_00434_cut.mp3\n",
      "Speaker: id09171, Video: MVDpo1bR8VA, Txt file: 00154\n"
     ]
    },
    {
     "name": "stderr",
     "output_type": "stream",
     "text": [
      "ERROR: [youtube] MVDpo1bR8VA: Private video. Sign in if you've been granted access to this video. Use --cookies-from-browser or --cookies for the authentication. See  https://github.com/yt-dlp/yt-dlp/wiki/FAQ#how-do-i-pass-cookies-to-yt-dlp  for how to manually pass cookies. Also see  https://github.com/yt-dlp/yt-dlp/wiki/Extractors#exporting-youtube-cookies  for tips on effectively exporting YouTube cookies\n"
     ]
    },
    {
     "name": "stdout",
     "output_type": "stream",
     "text": [
      "Speaker: id09171, Video: mOCoBmkjJNI, Txt file: 00420\n"
     ]
    },
    {
     "name": "stderr",
     "output_type": "stream",
     "text": [
      "ERROR: [youtube] mOCoBmkjJNI: Video unavailable\n"
     ]
    },
    {
     "name": "stdout",
     "output_type": "stream",
     "text": [
      "Speaker: id09171, Video: tNNs-iOL0gk, Txt file: 00457\n",
      "[youtube] Extracting URL: https://www.youtube.com/watch?v=tNNs-iOL0gk\n",
      "[youtube] tNNs-iOL0gk: Downloading webpage\n",
      "[youtube] tNNs-iOL0gk: Downloading tv client config\n",
      "[youtube] tNNs-iOL0gk: Downloading player 5ae7d525\n",
      "[youtube] tNNs-iOL0gk: Downloading tv player API JSON\n",
      "[youtube] tNNs-iOL0gk: Downloading ios player API JSON\n",
      "[youtube] tNNs-iOL0gk: Downloading m3u8 information\n",
      "[info] tNNs-iOL0gk: Downloading 1 format(s): 140\n",
      "[download] Destination: id09171_8_22880_tNNs-iOL0gk_00457\n",
      "[download] 100% of    3.07MiB in 00:00:01 at 2.33MiB/s   \n",
      "[FixupM4a] Correcting container of \"id09171_8_22880_tNNs-iOL0gk_00457\"\n",
      "[ExtractAudio] Destination: id09171_8_22880_tNNs-iOL0gk_00457.mp3\n",
      "Deleting original file id09171_8_22880_tNNs-iOL0gk_00457 (pass -k to keep)\n",
      "Audio downloaded as id09171_8_22880_tNNs-iOL0gk_00457\n",
      "Trimmed audio saved as ../data/download_df_audio/id09171_8_22880_tNNs-iOL0gk_00457_cut.mp3\n",
      "Speaker: id09171, Video: 1fxsAEAVIF8, Txt file: 00026\n",
      "[youtube] Extracting URL: https://www.youtube.com/watch?v=1fxsAEAVIF8\n",
      "[youtube] 1fxsAEAVIF8: Downloading webpage\n",
      "[youtube] 1fxsAEAVIF8: Downloading tv client config\n",
      "[youtube] 1fxsAEAVIF8: Downloading player 5ae7d525\n",
      "[youtube] 1fxsAEAVIF8: Downloading tv player API JSON\n",
      "[youtube] 1fxsAEAVIF8: Downloading ios player API JSON\n",
      "[youtube] 1fxsAEAVIF8: Downloading m3u8 information\n",
      "[info] 1fxsAEAVIF8: Downloading 1 format(s): 140\n",
      "[download] Destination: id09171_9_21880_1fxsAEAVIF8_00026\n",
      "[download] 100% of   10.98MiB in 00:00:01 at 10.36MiB/s    \n",
      "[FixupM4a] Correcting container of \"id09171_9_21880_1fxsAEAVIF8_00026\"\n",
      "[ExtractAudio] Destination: id09171_9_21880_1fxsAEAVIF8_00026.mp3\n",
      "Deleting original file id09171_9_21880_1fxsAEAVIF8_00026 (pass -k to keep)\n",
      "Audio downloaded as id09171_9_21880_1fxsAEAVIF8_00026\n",
      "Trimmed audio saved as ../data/download_df_audio/id09171_9_21880_1fxsAEAVIF8_00026_cut.mp3\n",
      "Speaker: id09179, Video: qeoRyOh5EUk, Txt file: 00067\n"
     ]
    },
    {
     "name": "stderr",
     "output_type": "stream",
     "text": [
      "ERROR: [youtube] qeoRyOh5EUk: Video unavailable. This video is no longer available because the YouTube account associated with this video has been terminated.\n"
     ]
    },
    {
     "name": "stdout",
     "output_type": "stream",
     "text": [
      "Speaker: id09179, Video: TY8kMus6dpw, Txt file: 00032\n",
      "[youtube] Extracting URL: https://www.youtube.com/watch?v=TY8kMus6dpw\n",
      "[youtube] TY8kMus6dpw: Downloading webpage\n",
      "[youtube] TY8kMus6dpw: Downloading tv client config\n",
      "[youtube] TY8kMus6dpw: Downloading player 5ae7d525\n",
      "[youtube] TY8kMus6dpw: Downloading tv player API JSON\n",
      "[youtube] TY8kMus6dpw: Downloading ios player API JSON\n",
      "[youtube] TY8kMus6dpw: Downloading m3u8 information\n",
      "[info] TY8kMus6dpw: Downloading 1 format(s): 251\n",
      "[download] Destination: id09179_2_10560_TY8kMus6dpw_00032\n",
      "[download] 100% of    1.32MiB in 00:00:00 at 2.45MiB/s   \n",
      "[ExtractAudio] Destination: id09179_2_10560_TY8kMus6dpw_00032.mp3\n",
      "Deleting original file id09179_2_10560_TY8kMus6dpw_00032 (pass -k to keep)\n",
      "Audio downloaded as id09179_2_10560_TY8kMus6dpw_00032\n",
      "Trimmed audio saved as ../data/download_df_audio/id09179_2_10560_TY8kMus6dpw_00032_cut.mp3\n",
      "Speaker: id09179, Video: PisbJ7IjIWA, Txt file: 00021\n"
     ]
    },
    {
     "name": "stderr",
     "output_type": "stream",
     "text": [
      "ERROR: [youtube] PisbJ7IjIWA: Video unavailable. This video is no longer available because the YouTube account associated with this video has been terminated.\n"
     ]
    },
    {
     "name": "stdout",
     "output_type": "stream",
     "text": [
      "Speaker: id09179, Video: PxTbEzlO-pU, Txt file: 00022\n",
      "[youtube] Extracting URL: https://www.youtube.com/watch?v=PxTbEzlO-pU\n",
      "[youtube] PxTbEzlO-pU: Downloading webpage\n",
      "[youtube] PxTbEzlO-pU: Downloading tv client config\n",
      "[youtube] PxTbEzlO-pU: Downloading player 5ae7d525\n",
      "[youtube] PxTbEzlO-pU: Downloading tv player API JSON\n",
      "[youtube] PxTbEzlO-pU: Downloading ios player API JSON\n",
      "[youtube] PxTbEzlO-pU: Downloading m3u8 information\n",
      "[info] PxTbEzlO-pU: Downloading 1 format(s): 140\n",
      "[download] Destination: id09179_3_8600_PxTbEzlO-pU_00022\n",
      "[download] 100% of    7.02MiB in 00:00:00 at 8.51MiB/s     \n",
      "[FixupM4a] Correcting container of \"id09179_3_8600_PxTbEzlO-pU_00022\"\n",
      "[ExtractAudio] Destination: id09179_3_8600_PxTbEzlO-pU_00022.mp3\n",
      "Deleting original file id09179_3_8600_PxTbEzlO-pU_00022 (pass -k to keep)\n",
      "Audio downloaded as id09179_3_8600_PxTbEzlO-pU_00022\n",
      "Trimmed audio saved as ../data/download_df_audio/id09179_3_8600_PxTbEzlO-pU_00022_cut.mp3\n",
      "Speaker: id09179, Video: ckJ1XuVF1MU, Txt file: 00040\n",
      "[youtube] Extracting URL: https://www.youtube.com/watch?v=ckJ1XuVF1MU\n",
      "[youtube] ckJ1XuVF1MU: Downloading webpage\n",
      "[youtube] ckJ1XuVF1MU: Downloading tv client config\n",
      "[youtube] ckJ1XuVF1MU: Downloading player 5ae7d525\n",
      "[youtube] ckJ1XuVF1MU: Downloading tv player API JSON\n",
      "[youtube] ckJ1XuVF1MU: Downloading ios player API JSON\n",
      "[youtube] ckJ1XuVF1MU: Downloading m3u8 information\n",
      "[info] ckJ1XuVF1MU: Downloading 1 format(s): 140\n",
      "[download] Destination: id09179_4_8280_ckJ1XuVF1MU_00040\n",
      "[download] 100% of    6.11MiB in 00:00:01 at 4.21MiB/s   \n",
      "[FixupM4a] Correcting container of \"id09179_4_8280_ckJ1XuVF1MU_00040\"\n",
      "[ExtractAudio] Destination: id09179_4_8280_ckJ1XuVF1MU_00040.mp3\n",
      "Deleting original file id09179_4_8280_ckJ1XuVF1MU_00040 (pass -k to keep)\n",
      "Audio downloaded as id09179_4_8280_ckJ1XuVF1MU_00040\n",
      "Trimmed audio saved as ../data/download_df_audio/id09179_4_8280_ckJ1XuVF1MU_00040_cut.mp3\n",
      "Speaker: id09179, Video: i7ESXBpzUrY, Txt file: 00049\n",
      "[youtube] Extracting URL: https://www.youtube.com/watch?v=i7ESXBpzUrY\n",
      "[youtube] i7ESXBpzUrY: Downloading webpage\n",
      "[youtube] i7ESXBpzUrY: Downloading tv client config\n",
      "[youtube] i7ESXBpzUrY: Downloading player 5ae7d525\n",
      "[youtube] i7ESXBpzUrY: Downloading tv player API JSON\n",
      "[youtube] i7ESXBpzUrY: Downloading ios player API JSON\n",
      "[youtube] i7ESXBpzUrY: Downloading m3u8 information\n",
      "[info] i7ESXBpzUrY: Downloading 1 format(s): 140\n",
      "[download] Destination: id09179_5_8119_i7ESXBpzUrY_00049\n",
      "[download] 100% of   10.00MiB in 00:00:01 at 5.51MiB/s     \n",
      "[FixupM4a] Correcting container of \"id09179_5_8119_i7ESXBpzUrY_00049\"\n",
      "[ExtractAudio] Destination: id09179_5_8119_i7ESXBpzUrY_00049.mp3\n",
      "Deleting original file id09179_5_8119_i7ESXBpzUrY_00049 (pass -k to keep)\n",
      "Audio downloaded as id09179_5_8119_i7ESXBpzUrY_00049\n",
      "Trimmed audio saved as ../data/download_df_audio/id09179_5_8119_i7ESXBpzUrY_00049_cut.mp3\n",
      "Speaker: id09179, Video: ckJ1XuVF1MU, Txt file: 00038\n",
      "[youtube] Extracting URL: https://www.youtube.com/watch?v=ckJ1XuVF1MU\n",
      "[youtube] ckJ1XuVF1MU: Downloading webpage\n",
      "[youtube] ckJ1XuVF1MU: Downloading tv client config\n",
      "[youtube] ckJ1XuVF1MU: Downloading player 5ae7d525\n",
      "[youtube] ckJ1XuVF1MU: Downloading tv player API JSON\n",
      "[youtube] ckJ1XuVF1MU: Downloading ios player API JSON\n",
      "[youtube] ckJ1XuVF1MU: Downloading m3u8 information\n",
      "[info] ckJ1XuVF1MU: Downloading 1 format(s): 140\n",
      "[download] Destination: id09179_6_7720_ckJ1XuVF1MU_00038\n",
      "[download] 100% of    6.11MiB in 00:00:01 at 5.77MiB/s   \n",
      "[FixupM4a] Correcting container of \"id09179_6_7720_ckJ1XuVF1MU_00038\"\n",
      "[ExtractAudio] Destination: id09179_6_7720_ckJ1XuVF1MU_00038.mp3\n",
      "Deleting original file id09179_6_7720_ckJ1XuVF1MU_00038 (pass -k to keep)\n",
      "Audio downloaded as id09179_6_7720_ckJ1XuVF1MU_00038\n",
      "Trimmed audio saved as ../data/download_df_audio/id09179_6_7720_ckJ1XuVF1MU_00038_cut.mp3\n",
      "Speaker: id09179, Video: i7ESXBpzUrY, Txt file: 00054\n",
      "[youtube] Extracting URL: https://www.youtube.com/watch?v=i7ESXBpzUrY\n",
      "[youtube] i7ESXBpzUrY: Downloading webpage\n",
      "[youtube] i7ESXBpzUrY: Downloading tv client config\n",
      "[youtube] i7ESXBpzUrY: Downloading player 5ae7d525\n",
      "[youtube] i7ESXBpzUrY: Downloading tv player API JSON\n",
      "[youtube] i7ESXBpzUrY: Downloading ios player API JSON\n",
      "[youtube] i7ESXBpzUrY: Downloading m3u8 information\n",
      "[info] i7ESXBpzUrY: Downloading 1 format(s): 140\n",
      "[download] Destination: id09179_7_7680_i7ESXBpzUrY_00054\n",
      "[download] 100% of   10.00MiB in 00:00:01 at 9.21MiB/s     \n",
      "[FixupM4a] Correcting container of \"id09179_7_7680_i7ESXBpzUrY_00054\"\n",
      "[ExtractAudio] Destination: id09179_7_7680_i7ESXBpzUrY_00054.mp3\n",
      "Deleting original file id09179_7_7680_i7ESXBpzUrY_00054 (pass -k to keep)\n",
      "Audio downloaded as id09179_7_7680_i7ESXBpzUrY_00054\n",
      "Trimmed audio saved as ../data/download_df_audio/id09179_7_7680_i7ESXBpzUrY_00054_cut.mp3\n",
      "Speaker: id09179, Video: x4XKtFRidTY, Txt file: 00068\n",
      "[youtube] Extracting URL: https://www.youtube.com/watch?v=x4XKtFRidTY\n",
      "[youtube] x4XKtFRidTY: Downloading webpage\n",
      "[youtube] x4XKtFRidTY: Downloading tv client config\n",
      "[youtube] x4XKtFRidTY: Downloading player 5ae7d525\n",
      "[youtube] x4XKtFRidTY: Downloading tv player API JSON\n",
      "[youtube] x4XKtFRidTY: Downloading ios player API JSON\n",
      "[youtube] x4XKtFRidTY: Downloading m3u8 information\n",
      "[info] x4XKtFRidTY: Downloading 1 format(s): 251\n",
      "[download] Destination: id09179_8_7600_x4XKtFRidTY_00068\n",
      "[download] 100% of    1.89MiB in 00:00:00 at 1.95MiB/s   \n",
      "[ExtractAudio] Destination: id09179_8_7600_x4XKtFRidTY_00068.mp3\n",
      "Deleting original file id09179_8_7600_x4XKtFRidTY_00068 (pass -k to keep)\n",
      "Audio downloaded as id09179_8_7600_x4XKtFRidTY_00068\n",
      "Trimmed audio saved as ../data/download_df_audio/id09179_8_7600_x4XKtFRidTY_00068_cut.mp3\n",
      "Speaker: id09179, Video: PxTbEzlO-pU, Txt file: 00025\n",
      "[youtube] Extracting URL: https://www.youtube.com/watch?v=PxTbEzlO-pU\n",
      "[youtube] PxTbEzlO-pU: Downloading webpage\n",
      "[youtube] PxTbEzlO-pU: Downloading tv client config\n",
      "[youtube] PxTbEzlO-pU: Downloading player 5ae7d525\n",
      "[youtube] PxTbEzlO-pU: Downloading tv player API JSON\n",
      "[youtube] PxTbEzlO-pU: Downloading ios player API JSON\n",
      "[youtube] PxTbEzlO-pU: Downloading m3u8 information\n",
      "[info] PxTbEzlO-pU: Downloading 1 format(s): 140\n",
      "[download] Destination: id09179_9_7280_PxTbEzlO-pU_00025\n",
      "[download] 100% of    7.02MiB in 00:00:00 at 14.13MiB/s  \n",
      "[FixupM4a] Correcting container of \"id09179_9_7280_PxTbEzlO-pU_00025\"\n",
      "[ExtractAudio] Destination: id09179_9_7280_PxTbEzlO-pU_00025.mp3\n",
      "Deleting original file id09179_9_7280_PxTbEzlO-pU_00025 (pass -k to keep)\n",
      "Audio downloaded as id09179_9_7280_PxTbEzlO-pU_00025\n",
      "Trimmed audio saved as ../data/download_df_audio/id09179_9_7280_PxTbEzlO-pU_00025_cut.mp3\n",
      "Speaker: id09185, Video: hbnt54GExKU, Txt file: 00145\n",
      "[youtube] Extracting URL: https://www.youtube.com/watch?v=hbnt54GExKU\n",
      "[youtube] hbnt54GExKU: Downloading webpage\n",
      "[youtube] hbnt54GExKU: Downloading tv client config\n",
      "[youtube] hbnt54GExKU: Downloading player 5ae7d525\n",
      "[youtube] hbnt54GExKU: Downloading tv player API JSON\n",
      "[youtube] hbnt54GExKU: Downloading ios player API JSON\n",
      "[youtube] hbnt54GExKU: Downloading m3u8 information\n",
      "[info] hbnt54GExKU: Downloading 1 format(s): 140\n",
      "[download] Destination: id09185_2_16160_hbnt54GExKU_00145\n",
      "[download] 100% of    9.13MiB in 00:00:01 at 8.46MiB/s     \n",
      "[FixupM4a] Correcting container of \"id09185_2_16160_hbnt54GExKU_00145\"\n",
      "[ExtractAudio] Destination: id09185_2_16160_hbnt54GExKU_00145.mp3\n",
      "Deleting original file id09185_2_16160_hbnt54GExKU_00145 (pass -k to keep)\n",
      "Audio downloaded as id09185_2_16160_hbnt54GExKU_00145\n",
      "Trimmed audio saved as ../data/download_df_audio/id09185_2_16160_hbnt54GExKU_00145_cut.mp3\n",
      "Speaker: id09185, Video: p8LU0lpKZbM, Txt file: 00162\n",
      "[youtube] Extracting URL: https://www.youtube.com/watch?v=p8LU0lpKZbM\n",
      "[youtube] p8LU0lpKZbM: Downloading webpage\n",
      "[youtube] p8LU0lpKZbM: Downloading tv client config\n",
      "[youtube] p8LU0lpKZbM: Downloading player 5ae7d525\n",
      "[youtube] p8LU0lpKZbM: Downloading tv player API JSON\n",
      "[youtube] p8LU0lpKZbM: Downloading ios player API JSON\n",
      "[youtube] p8LU0lpKZbM: Downloading m3u8 information\n",
      "[info] p8LU0lpKZbM: Downloading 1 format(s): 140\n",
      "[download] Destination: id09185_3_13120_p8LU0lpKZbM_00162\n",
      "[download] 100% of    4.73MiB in 00:00:01 at 4.36MiB/s   \n",
      "[FixupM4a] Correcting container of \"id09185_3_13120_p8LU0lpKZbM_00162\"\n",
      "[ExtractAudio] Destination: id09185_3_13120_p8LU0lpKZbM_00162.mp3\n",
      "Deleting original file id09185_3_13120_p8LU0lpKZbM_00162 (pass -k to keep)\n",
      "Audio downloaded as id09185_3_13120_p8LU0lpKZbM_00162\n",
      "Trimmed audio saved as ../data/download_df_audio/id09185_3_13120_p8LU0lpKZbM_00162_cut.mp3\n",
      "Speaker: id09185, Video: Nh1DQ1xQnS8, Txt file: 00088\n"
     ]
    },
    {
     "name": "stderr",
     "output_type": "stream",
     "text": [
      "ERROR: [youtube] Nh1DQ1xQnS8: Video unavailable. This video is no longer available because the YouTube account associated with this video has been terminated.\n"
     ]
    },
    {
     "name": "stdout",
     "output_type": "stream",
     "text": [
      "Speaker: id09185, Video: hbnt54GExKU, Txt file: 00123\n",
      "[youtube] Extracting URL: https://www.youtube.com/watch?v=hbnt54GExKU\n",
      "[youtube] hbnt54GExKU: Downloading webpage\n",
      "[youtube] hbnt54GExKU: Downloading tv client config\n",
      "[youtube] hbnt54GExKU: Downloading player 5ae7d525\n",
      "[youtube] hbnt54GExKU: Downloading tv player API JSON\n",
      "[youtube] hbnt54GExKU: Downloading ios player API JSON\n",
      "[youtube] hbnt54GExKU: Downloading m3u8 information\n",
      "[info] hbnt54GExKU: Downloading 1 format(s): 140\n",
      "[download] Destination: id09185_4_13000_hbnt54GExKU_00123\n",
      "[download] 100% of    9.13MiB in 00:00:00 at 9.78MiB/s   \n",
      "[FixupM4a] Correcting container of \"id09185_4_13000_hbnt54GExKU_00123\"\n",
      "[ExtractAudio] Destination: id09185_4_13000_hbnt54GExKU_00123.mp3\n",
      "Deleting original file id09185_4_13000_hbnt54GExKU_00123 (pass -k to keep)\n",
      "Audio downloaded as id09185_4_13000_hbnt54GExKU_00123\n",
      "Trimmed audio saved as ../data/download_df_audio/id09185_4_13000_hbnt54GExKU_00123_cut.mp3\n",
      "Speaker: id09185, Video: 5TZfJJFAOwo, Txt file: 00058\n",
      "[youtube] Extracting URL: https://www.youtube.com/watch?v=5TZfJJFAOwo\n",
      "[youtube] 5TZfJJFAOwo: Downloading webpage\n",
      "[youtube] 5TZfJJFAOwo: Downloading tv client config\n",
      "[youtube] 5TZfJJFAOwo: Downloading player 5ae7d525\n",
      "[youtube] 5TZfJJFAOwo: Downloading tv player API JSON\n",
      "[youtube] 5TZfJJFAOwo: Downloading ios player API JSON\n",
      "[youtube] 5TZfJJFAOwo: Downloading m3u8 information\n",
      "[info] 5TZfJJFAOwo: Downloading 1 format(s): 251\n",
      "[download] Destination: id09185_5_12800_5TZfJJFAOwo_00058\n",
      "[download] 100% of   27.22MiB in 00:00:03 at 7.03MiB/s     \n",
      "[ExtractAudio] Destination: id09185_5_12800_5TZfJJFAOwo_00058.mp3\n",
      "Deleting original file id09185_5_12800_5TZfJJFAOwo_00058 (pass -k to keep)\n",
      "Audio downloaded as id09185_5_12800_5TZfJJFAOwo_00058\n",
      "Trimmed audio saved as ../data/download_df_audio/id09185_5_12800_5TZfJJFAOwo_00058_cut.mp3\n",
      "Speaker: id09185, Video: hbnt54GExKU, Txt file: 00141\n",
      "[youtube] Extracting URL: https://www.youtube.com/watch?v=hbnt54GExKU\n",
      "[youtube] hbnt54GExKU: Downloading webpage\n",
      "[youtube] hbnt54GExKU: Downloading tv client config\n",
      "[youtube] hbnt54GExKU: Downloading player 5ae7d525\n",
      "[youtube] hbnt54GExKU: Downloading tv player API JSON\n",
      "[youtube] hbnt54GExKU: Downloading ios player API JSON\n",
      "[youtube] hbnt54GExKU: Downloading m3u8 information\n",
      "[info] hbnt54GExKU: Downloading 1 format(s): 140\n",
      "[download] Destination: id09185_6_12760_hbnt54GExKU_00141\n",
      "[download] 100% of    9.13MiB in 00:00:00 at 13.00MiB/s  \n",
      "[FixupM4a] Correcting container of \"id09185_6_12760_hbnt54GExKU_00141\"\n",
      "[ExtractAudio] Destination: id09185_6_12760_hbnt54GExKU_00141.mp3\n",
      "Deleting original file id09185_6_12760_hbnt54GExKU_00141 (pass -k to keep)\n",
      "Audio downloaded as id09185_6_12760_hbnt54GExKU_00141\n",
      "Trimmed audio saved as ../data/download_df_audio/id09185_6_12760_hbnt54GExKU_00141_cut.mp3\n",
      "Speaker: id09185, Video: PcL9suOc4g8, Txt file: 00093\n"
     ]
    },
    {
     "name": "stderr",
     "output_type": "stream",
     "text": [
      "ERROR: [youtube] PcL9suOc4g8: Video unavailable\n"
     ]
    },
    {
     "name": "stdout",
     "output_type": "stream",
     "text": [
      "Speaker: id09185, Video: 5TZfJJFAOwo, Txt file: 00041\n",
      "[youtube] Extracting URL: https://www.youtube.com/watch?v=5TZfJJFAOwo\n",
      "[youtube] 5TZfJJFAOwo: Downloading webpage\n",
      "[youtube] 5TZfJJFAOwo: Downloading tv client config\n",
      "[youtube] 5TZfJJFAOwo: Downloading player 5ae7d525\n",
      "[youtube] 5TZfJJFAOwo: Downloading tv player API JSON\n",
      "[youtube] 5TZfJJFAOwo: Downloading ios player API JSON\n",
      "[youtube] 5TZfJJFAOwo: Downloading m3u8 information\n",
      "[info] 5TZfJJFAOwo: Downloading 1 format(s): 251\n",
      "[download] Destination: id09185_7_10800_5TZfJJFAOwo_00041\n",
      "[download] 100% of   27.22MiB in 00:00:17 at 1.59MiB/s     \n",
      "[ExtractAudio] Destination: id09185_7_10800_5TZfJJFAOwo_00041.mp3\n",
      "Deleting original file id09185_7_10800_5TZfJJFAOwo_00041 (pass -k to keep)\n",
      "Audio downloaded as id09185_7_10800_5TZfJJFAOwo_00041\n",
      "Trimmed audio saved as ../data/download_df_audio/id09185_7_10800_5TZfJJFAOwo_00041_cut.mp3\n",
      "Speaker: id09185, Video: 17oel-iAWAQ, Txt file: 00025\n"
     ]
    },
    {
     "name": "stderr",
     "output_type": "stream",
     "text": [
      "ERROR: [youtube] 17oel-iAWAQ: Video unavailable. This video is no longer available because the YouTube account associated with this video has been terminated.\n"
     ]
    },
    {
     "name": "stdout",
     "output_type": "stream",
     "text": [
      "Speaker: id09185, Video: XYhArFXKUeY, Txt file: 00106\n"
     ]
    },
    {
     "name": "stderr",
     "output_type": "stream",
     "text": [
      "ERROR: [youtube] XYhArFXKUeY: Video unavailable\n"
     ]
    },
    {
     "name": "stdout",
     "output_type": "stream",
     "text": [
      "Speaker: id09185, Video: _cDhsiYaV3c, Txt file: 00111\n",
      "[youtube] Extracting URL: https://www.youtube.com/watch?v=_cDhsiYaV3c\n",
      "[youtube] _cDhsiYaV3c: Downloading webpage\n",
      "[youtube] _cDhsiYaV3c: Downloading tv client config\n",
      "[youtube] _cDhsiYaV3c: Downloading player 5ae7d525\n",
      "[youtube] _cDhsiYaV3c: Downloading tv player API JSON\n",
      "[youtube] _cDhsiYaV3c: Downloading ios player API JSON\n",
      "[youtube] _cDhsiYaV3c: Downloading m3u8 information\n",
      "[info] _cDhsiYaV3c: Downloading 1 format(s): 251\n",
      "[download] Destination: id09185_8_10320__cDhsiYaV3c_00111\n",
      "[download] 100% of    4.75MiB in 00:00:00 at 13.85MiB/s  \n",
      "[ExtractAudio] Destination: id09185_8_10320__cDhsiYaV3c_00111.mp3\n",
      "Deleting original file id09185_8_10320__cDhsiYaV3c_00111 (pass -k to keep)\n",
      "Audio downloaded as id09185_8_10320__cDhsiYaV3c_00111\n",
      "Trimmed audio saved as ../data/download_df_audio/id09185_8_10320__cDhsiYaV3c_00111_cut.mp3\n",
      "Speaker: id09185, Video: AvMgRNndnoA, Txt file: 00072\n",
      "[youtube] Extracting URL: https://www.youtube.com/watch?v=AvMgRNndnoA\n",
      "[youtube] AvMgRNndnoA: Downloading webpage\n",
      "[youtube] AvMgRNndnoA: Downloading tv client config\n",
      "[youtube] AvMgRNndnoA: Downloading player 5ae7d525\n",
      "[youtube] AvMgRNndnoA: Downloading tv player API JSON\n",
      "[youtube] AvMgRNndnoA: Downloading ios player API JSON\n",
      "[youtube] AvMgRNndnoA: Downloading m3u8 information\n",
      "[info] AvMgRNndnoA: Downloading 1 format(s): 251\n",
      "[download] Destination: id09185_9_10280_AvMgRNndnoA_00072\n",
      "[download] 100% of    5.14MiB in 00:00:00 at 6.28MiB/s   \n",
      "[ExtractAudio] Destination: id09185_9_10280_AvMgRNndnoA_00072.mp3\n",
      "Deleting original file id09185_9_10280_AvMgRNndnoA_00072 (pass -k to keep)\n",
      "Audio downloaded as id09185_9_10280_AvMgRNndnoA_00072\n",
      "Trimmed audio saved as ../data/download_df_audio/id09185_9_10280_AvMgRNndnoA_00072_cut.mp3\n"
     ]
    }
   ],
   "source": [
    "download_df_audio(\n",
    "    filtered_df,\n",
    "    \"../data/download_df_audio\",\n",
    "    n_samples=NUM_OF_SAMPLES,\n",
    "    start_index=START_INDEX,\n",
    ")"
   ]
  },
  {
   "cell_type": "markdown",
   "metadata": {},
   "source": [
    "## Download all Dev audio files"
   ]
  },
  {
   "cell_type": "code",
   "execution_count": null,
   "metadata": {},
   "outputs": [],
   "source": [
    "import pandas as pd\n",
    "\n",
    "df = pd.read_csv(\"../data/dev.csv\")\n",
    "df = df.sort_values(by=[\"speaker\", \"length\"], ascending=[True, False])\n",
    "# split df by speaker id to batches of 100 ids\n",
    "\n",
    "# Get unique speakers\n",
    "unique_speakers = df[\"speaker\"].unique()\n",
    "\n",
    "# Define batch size\n",
    "batch_size = 100\n",
    "\n",
    "# Create batches\n",
    "batches = [\n",
    "    unique_speakers[i : i + batch_size]\n",
    "    for i in range(0, len(unique_speakers), batch_size)\n",
    "]\n",
    "\n",
    "# Create a DataFrame for each batch\n",
    "batch_dfs = [df[df[\"speaker\"].isin(batch)] for batch in batches]"
   ]
  },
  {
   "cell_type": "code",
   "execution_count": null,
   "metadata": {},
   "outputs": [],
   "source": [
    "# TODO set start_batch\n",
    "start_batch = 7\n",
    "for i, batch_df in enumerate(batch_dfs):\n",
    "    if i < start_batch:\n",
    "        continue\n",
    "\n",
    "    out_dir = f\"../data/dev_data/batch_{i}\"\n",
    "    download_df_audio(batch_df, out_dir)"
   ]
  },
  {
   "cell_type": "code",
   "execution_count": null,
   "metadata": {},
   "outputs": [],
   "source": []
  }
 ],
 "metadata": {
  "kernelspec": {
   "display_name": "venv",
   "language": "python",
   "name": "python3"
  },
  "language_info": {
   "codemirror_mode": {
    "name": "ipython",
    "version": 3
   },
   "file_extension": ".py",
   "mimetype": "text/x-python",
   "name": "python",
   "nbconvert_exporter": "python",
   "pygments_lexer": "ipython3",
   "version": "3.11.9"
  }
 },
 "nbformat": 4,
 "nbformat_minor": 2
}
