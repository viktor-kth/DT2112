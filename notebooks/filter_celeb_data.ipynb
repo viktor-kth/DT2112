{
 "cells": [
  {
   "cell_type": "markdown",
   "metadata": {},
   "source": [
    "##"
   ]
  },
  {
   "cell_type": "code",
   "execution_count": null,
   "metadata": {},
   "outputs": [],
   "source": [
    "%load_ext autoreload\n",
    "%autoreload 2\n",
    "import plotnine as gg\n",
    "\n",
    "from kth_sr.utils import get_df_by_downloaded_folder\n",
    "\n",
    "folder = \"../data/download_df_audio/\"\n",
    "new_folder = \"../data/filtered_celebs_data/\"\n",
    "df = get_df_by_downloaded_folder(folder)\n",
    "df.head()"
   ]
  },
  {
   "cell_type": "code",
   "execution_count": null,
   "metadata": {},
   "outputs": [],
   "source": [
    "df[df[\"sample_number\"] == 0].count()"
   ]
  },
  {
   "cell_type": "code",
   "execution_count": null,
   "metadata": {},
   "outputs": [],
   "source": [
    "# delete ids with less than 10 samples\n",
    "\n",
    "df = df.groupby(\"speaker\").filter(lambda x: len(x) >= 10)\n",
    "df[\"speaker\"].nunique()\n",
    "# we filter out 1 speaker"
   ]
  },
  {
   "cell_type": "code",
   "execution_count": null,
   "metadata": {},
   "outputs": [],
   "source": [
    "# show shortest samples for each speaker\n",
    "shortest_samples = df.groupby(\"speaker\")[\"duration_s\"].min()\n",
    "shortest_samples"
   ]
  },
  {
   "cell_type": "code",
   "execution_count": null,
   "metadata": {},
   "outputs": [],
   "source": [
    "(\n",
    "    gg.ggplot(shortest_samples.reset_index(), gg.aes(x=\"duration_s\"))\n",
    "    + gg.geom_histogram(bins=30)\n",
    "    # labels and title\n",
    "    + gg.labs(\n",
    "        title=\"Shortest samples duration\",\n",
    "        x=\"Duration in seconds\",\n",
    "        y=\"Count\",\n",
    "    )\n",
    ")"
   ]
  },
  {
   "cell_type": "code",
   "execution_count": null,
   "metadata": {},
   "outputs": [],
   "source": [
    "# filter ids with lowest duration lower than 10 seconds\n",
    "\n",
    "df_filtered = df.groupby(\"speaker\").filter(lambda x: x[\"duration_s\"].min() >= 10)\n",
    "df_filtered[\"speaker\"].nunique()\n",
    "# we have 232 speakers left."
   ]
  },
  {
   "cell_type": "code",
   "execution_count": null,
   "metadata": {},
   "outputs": [],
   "source": [
    "# sort unique ids by shortest duration\n",
    "shortest_samples_filtered = df_filtered.groupby(\"speaker\")[\"duration_s\"].min()\n",
    "shortest_samples_filtered = shortest_samples_filtered.sort_values(ascending=False)[:200]\n",
    "shortest_samples_filtered\n",
    "\n",
    "df_filtered = df_filtered[df_filtered[\"speaker\"].isin(shortest_samples_filtered.index)]\n",
    "df_filtered[\"speaker\"].nunique()"
   ]
  },
  {
   "cell_type": "code",
   "execution_count": null,
   "metadata": {},
   "outputs": [],
   "source": [
    "# get shortest samples\n",
    "df_filtered.sort_values(by=\"duration_s\", ascending=True).head()"
   ]
  },
  {
   "cell_type": "code",
   "execution_count": null,
   "metadata": {},
   "outputs": [],
   "source": [
    "# copy files to new folder\n",
    "import shutil\n",
    "\n",
    "for index, row in df_filtered.iterrows():\n",
    "    # copy file\n",
    "    shutil.copy(folder + row[\"file_name\"], new_folder + row[\"file_name\"])\n",
    "    print(row[\"file_name\"])"
   ]
  },
  {
   "cell_type": "code",
   "execution_count": null,
   "metadata": {},
   "outputs": [],
   "source": [
    "# check if files are copied\n",
    "df_filtered_check = get_df_by_downloaded_folder(new_folder)\n",
    "df_filtered_check"
   ]
  },
  {
   "cell_type": "code",
   "execution_count": null,
   "metadata": {},
   "outputs": [],
   "source": [
    "# check if all ids have 10 samples\n",
    "df_filtered_check.groupby(\"speaker\")[\"sample_number\"].nunique().nunique()"
   ]
  }
 ],
 "metadata": {
  "kernelspec": {
   "display_name": "venv",
   "language": "python",
   "name": "python3"
  },
  "language_info": {
   "codemirror_mode": {
    "name": "ipython",
    "version": 3
   },
   "file_extension": ".py",
   "mimetype": "text/x-python",
   "name": "python",
   "nbconvert_exporter": "python",
   "pygments_lexer": "ipython3",
   "version": "3.11.11"
  }
 },
 "nbformat": 4,
 "nbformat_minor": 2
}
